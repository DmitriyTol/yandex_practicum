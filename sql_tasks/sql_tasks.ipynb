{
 "cells": [
  {
   "cell_type": "code",
   "execution_count": 1,
   "metadata": {
    "id": "nlZBlglMDWKe"
   },
   "outputs": [],
   "source": [
    "import pandas as pd\n",
    "import seaborn as sns\n",
    "import matplotlib.pyplot as plt\n",
    "from sqlalchemy import create_engine "
   ]
  },
  {
   "cell_type": "markdown",
   "metadata": {
    "id": "XnOE3n28DWKg"
   },
   "source": [
    "### Конфигурация для подключения к базе данных `data-analyst-advanced-sql`\n",
    "Эта база данных содержит схему `stackoverflow`, с которой мы будете работать в проекте"
   ]
  },
  {
   "cell_type": "code",
   "execution_count": 2,
   "metadata": {
    "id": "6p-yGp7qDWKg"
   },
   "outputs": [],
   "source": [
    "db_config = {\n",
    "    'user': 'praktikum_student', # имя пользователя\n",
    "    'pwd': 'Sdf4$2;d-d30pp', # пароль\n",
    "    'host': 'rc1b-wcoijxj3yxfsf3fs.mdb.yandexcloud.net',\n",
    "    'port': 6432, # порт подключения\n",
    "    'db': 'data-analyst-advanced-sql' # название базы данных\n",
    "}  \n",
    "\n",
    "connection_string = 'postgresql://{}:{}@{}:{}/{}'.format(\n",
    "    db_config['user'],\n",
    "    db_config['pwd'],\n",
    "    db_config['host'],\n",
    "    db_config['port'],\n",
    "    db_config['db'],\n",
    ")"
   ]
  },
  {
   "cell_type": "markdown",
   "metadata": {
    "id": "2Rg8ZpS0DWKh"
   },
   "source": [
    "Создание подключения"
   ]
  },
  {
   "cell_type": "code",
   "execution_count": 3,
   "metadata": {
    "id": "DamCUTR6DWKi"
   },
   "outputs": [],
   "source": [
    "engine = create_engine(connection_string) "
   ]
  },
  {
   "cell_type": "markdown",
   "metadata": {
    "id": "bel8XeSlDWKj"
   },
   "source": [
    "Пример запроса к базе данных\n",
    "\n",
    "`sample_df` является pandas-датафреймом."
   ]
  },
  {
   "cell_type": "code",
   "execution_count": 4,
   "metadata": {
    "id": "6Z_fw0yLDWKk"
   },
   "outputs": [],
   "source": [
    "query = '''\n",
    "SELECT *\n",
    "FROM stackoverflow.users\n",
    "LIMIT 10;\n",
    "'''\n",
    "\n",
    "sample_df = pd.read_sql_query(query, con=engine) "
   ]
  },
  {
   "cell_type": "code",
   "execution_count": 5,
   "metadata": {
    "id": "ZpuZ290oDWKk",
    "outputId": "22785a0a-e2bc-4559-ec3c-4879c4b377eb"
   },
   "outputs": [
    {
     "data": {
      "text/html": [
       "<div>\n",
       "<style scoped>\n",
       "    .dataframe tbody tr th:only-of-type {\n",
       "        vertical-align: middle;\n",
       "    }\n",
       "\n",
       "    .dataframe tbody tr th {\n",
       "        vertical-align: top;\n",
       "    }\n",
       "\n",
       "    .dataframe thead th {\n",
       "        text-align: right;\n",
       "    }\n",
       "</style>\n",
       "<table border=\"1\" class=\"dataframe\">\n",
       "  <thead>\n",
       "    <tr style=\"text-align: right;\">\n",
       "      <th></th>\n",
       "      <th>id</th>\n",
       "      <th>creation_date</th>\n",
       "      <th>display_name</th>\n",
       "      <th>last_access_date</th>\n",
       "      <th>location</th>\n",
       "      <th>reputation</th>\n",
       "      <th>views</th>\n",
       "    </tr>\n",
       "  </thead>\n",
       "  <tbody>\n",
       "    <tr>\n",
       "      <th>0</th>\n",
       "      <td>1</td>\n",
       "      <td>2008-07-31 14:22:31</td>\n",
       "      <td>Jeff Atwood</td>\n",
       "      <td>2018-08-29 02:34:23</td>\n",
       "      <td>El Cerrito, CA</td>\n",
       "      <td>44300</td>\n",
       "      <td>408587</td>\n",
       "    </tr>\n",
       "    <tr>\n",
       "      <th>1</th>\n",
       "      <td>2</td>\n",
       "      <td>2008-07-31 14:22:31</td>\n",
       "      <td>Geoff Dalgas</td>\n",
       "      <td>2018-08-23 17:31:56</td>\n",
       "      <td>Corvallis, OR</td>\n",
       "      <td>3491</td>\n",
       "      <td>23966</td>\n",
       "    </tr>\n",
       "    <tr>\n",
       "      <th>2</th>\n",
       "      <td>3</td>\n",
       "      <td>2008-07-31 14:22:31</td>\n",
       "      <td>Jarrod Dixon</td>\n",
       "      <td>2018-08-30 20:56:24</td>\n",
       "      <td>Raleigh, NC, United States</td>\n",
       "      <td>13418</td>\n",
       "      <td>24396</td>\n",
       "    </tr>\n",
       "    <tr>\n",
       "      <th>3</th>\n",
       "      <td>4</td>\n",
       "      <td>2008-07-31 14:22:31</td>\n",
       "      <td>Joel Spolsky</td>\n",
       "      <td>2018-08-14 22:18:15</td>\n",
       "      <td>New York, NY</td>\n",
       "      <td>28768</td>\n",
       "      <td>73755</td>\n",
       "    </tr>\n",
       "    <tr>\n",
       "      <th>4</th>\n",
       "      <td>5</td>\n",
       "      <td>2008-07-31 14:22:31</td>\n",
       "      <td>Jon Galloway</td>\n",
       "      <td>2018-08-29 16:48:36</td>\n",
       "      <td>San Diego, CA</td>\n",
       "      <td>39172</td>\n",
       "      <td>11700</td>\n",
       "    </tr>\n",
       "    <tr>\n",
       "      <th>5</th>\n",
       "      <td>8</td>\n",
       "      <td>2008-07-31 21:33:24</td>\n",
       "      <td>Eggs McLaren</td>\n",
       "      <td>2018-04-09 02:04:56</td>\n",
       "      <td>None</td>\n",
       "      <td>942</td>\n",
       "      <td>6372</td>\n",
       "    </tr>\n",
       "    <tr>\n",
       "      <th>6</th>\n",
       "      <td>9</td>\n",
       "      <td>2008-07-31 21:35:27</td>\n",
       "      <td>Kevin Dente</td>\n",
       "      <td>2018-08-30 18:18:03</td>\n",
       "      <td>Oakland, CA</td>\n",
       "      <td>14337</td>\n",
       "      <td>4949</td>\n",
       "    </tr>\n",
       "    <tr>\n",
       "      <th>7</th>\n",
       "      <td>11</td>\n",
       "      <td>2008-08-01 00:59:11</td>\n",
       "      <td>Anonymous User</td>\n",
       "      <td>2008-08-01 00:59:11</td>\n",
       "      <td>None</td>\n",
       "      <td>1890</td>\n",
       "      <td>2123</td>\n",
       "    </tr>\n",
       "    <tr>\n",
       "      <th>8</th>\n",
       "      <td>13</td>\n",
       "      <td>2008-08-01 04:18:05</td>\n",
       "      <td>Chris Jester-Young</td>\n",
       "      <td>2018-08-30 02:47:23</td>\n",
       "      <td>Raleigh, NC, United States</td>\n",
       "      <td>177138</td>\n",
       "      <td>35414</td>\n",
       "    </tr>\n",
       "    <tr>\n",
       "      <th>9</th>\n",
       "      <td>17</td>\n",
       "      <td>2008-08-01 12:02:22</td>\n",
       "      <td>Nick Berardi</td>\n",
       "      <td>2018-01-22 01:35:38</td>\n",
       "      <td>Issaquah, WA</td>\n",
       "      <td>44443</td>\n",
       "      <td>4786</td>\n",
       "    </tr>\n",
       "  </tbody>\n",
       "</table>\n",
       "</div>"
      ],
      "text/plain": [
       "   id       creation_date        display_name    last_access_date  \\\n",
       "0   1 2008-07-31 14:22:31         Jeff Atwood 2018-08-29 02:34:23   \n",
       "1   2 2008-07-31 14:22:31        Geoff Dalgas 2018-08-23 17:31:56   \n",
       "2   3 2008-07-31 14:22:31        Jarrod Dixon 2018-08-30 20:56:24   \n",
       "3   4 2008-07-31 14:22:31        Joel Spolsky 2018-08-14 22:18:15   \n",
       "4   5 2008-07-31 14:22:31        Jon Galloway 2018-08-29 16:48:36   \n",
       "5   8 2008-07-31 21:33:24        Eggs McLaren 2018-04-09 02:04:56   \n",
       "6   9 2008-07-31 21:35:27         Kevin Dente 2018-08-30 18:18:03   \n",
       "7  11 2008-08-01 00:59:11      Anonymous User 2008-08-01 00:59:11   \n",
       "8  13 2008-08-01 04:18:05  Chris Jester-Young 2018-08-30 02:47:23   \n",
       "9  17 2008-08-01 12:02:22        Nick Berardi 2018-01-22 01:35:38   \n",
       "\n",
       "                     location  reputation   views  \n",
       "0              El Cerrito, CA       44300  408587  \n",
       "1               Corvallis, OR        3491   23966  \n",
       "2  Raleigh, NC, United States       13418   24396  \n",
       "3                New York, NY       28768   73755  \n",
       "4               San Diego, CA       39172   11700  \n",
       "5                        None         942    6372  \n",
       "6                 Oakland, CA       14337    4949  \n",
       "7                        None        1890    2123  \n",
       "8  Raleigh, NC, United States      177138   35414  \n",
       "9                Issaquah, WA       44443    4786  "
      ]
     },
     "execution_count": 5,
     "metadata": {},
     "output_type": "execute_result"
    }
   ],
   "source": [
    "sample_df"
   ]
  },
  {
   "cell_type": "markdown",
   "metadata": {
    "id": "gnBMXkDBDWKm"
   },
   "source": [
    "# Задание 1"
   ]
  },
  {
   "cell_type": "markdown",
   "metadata": {
    "id": "vHsfOrrNDWKn"
   },
   "source": [
    "Выведим общую сумму просмотров постов за каждый месяц 2008 года. Если данных за какой-либо месяц в базе нет, такой месяц можно пропустить. Результат отсортируем по убыванию общего количества просмотров."
   ]
  },
  {
   "cell_type": "code",
   "execution_count": 6,
   "metadata": {
    "id": "eWvykcXTDWKo"
   },
   "outputs": [],
   "source": [
    "\n",
    "query = '''\n",
    "SELECT DISTINCT(DATE_TRUNC('month',creation_date)) AS month_date,\n",
    "       SUM(views_count) OVER (PARTITION BY DATE_TRUNC('month',creation_date)) AS total_views\n",
    "FROM stackoverflow.posts     \n",
    "WHERE creation_date::date BETWEEN '2008-01-01' AND '2008-12-31'\n",
    "ORDER BY total_views DESC\n",
    "'''\n",
    "\n",
    "\n",
    "sample_df = pd.read_sql_query(query, con=engine) "
   ]
  },
  {
   "cell_type": "code",
   "execution_count": 7,
   "metadata": {},
   "outputs": [
    {
     "data": {
      "text/html": [
       "<div>\n",
       "<style scoped>\n",
       "    .dataframe tbody tr th:only-of-type {\n",
       "        vertical-align: middle;\n",
       "    }\n",
       "\n",
       "    .dataframe tbody tr th {\n",
       "        vertical-align: top;\n",
       "    }\n",
       "\n",
       "    .dataframe thead th {\n",
       "        text-align: right;\n",
       "    }\n",
       "</style>\n",
       "<table border=\"1\" class=\"dataframe\">\n",
       "  <thead>\n",
       "    <tr style=\"text-align: right;\">\n",
       "      <th></th>\n",
       "      <th>month_date</th>\n",
       "      <th>total_views</th>\n",
       "    </tr>\n",
       "  </thead>\n",
       "  <tbody>\n",
       "    <tr>\n",
       "      <th>0</th>\n",
       "      <td>2008-09-01</td>\n",
       "      <td>452928568</td>\n",
       "    </tr>\n",
       "    <tr>\n",
       "      <th>1</th>\n",
       "      <td>2008-10-01</td>\n",
       "      <td>365400138</td>\n",
       "    </tr>\n",
       "    <tr>\n",
       "      <th>2</th>\n",
       "      <td>2008-11-01</td>\n",
       "      <td>221759651</td>\n",
       "    </tr>\n",
       "    <tr>\n",
       "      <th>3</th>\n",
       "      <td>2008-12-01</td>\n",
       "      <td>197792841</td>\n",
       "    </tr>\n",
       "    <tr>\n",
       "      <th>4</th>\n",
       "      <td>2008-08-01</td>\n",
       "      <td>131367083</td>\n",
       "    </tr>\n",
       "    <tr>\n",
       "      <th>5</th>\n",
       "      <td>2008-07-01</td>\n",
       "      <td>669895</td>\n",
       "    </tr>\n",
       "  </tbody>\n",
       "</table>\n",
       "</div>"
      ],
      "text/plain": [
       "  month_date  total_views\n",
       "0 2008-09-01    452928568\n",
       "1 2008-10-01    365400138\n",
       "2 2008-11-01    221759651\n",
       "3 2008-12-01    197792841\n",
       "4 2008-08-01    131367083\n",
       "5 2008-07-01       669895"
      ]
     },
     "execution_count": 7,
     "metadata": {},
     "output_type": "execute_result"
    }
   ],
   "source": [
    "sample_df"
   ]
  },
  {
   "cell_type": "markdown",
   "metadata": {},
   "source": [
    "Да, данные отличаются,возможно это связано с началом учебного года"
   ]
  },
  {
   "cell_type": "markdown",
   "metadata": {
    "id": "FziIXkn5DWKr"
   },
   "source": [
    "# Задание 2"
   ]
  },
  {
   "cell_type": "markdown",
   "metadata": {
    "id": "fTGESZvYDWKr"
   },
   "source": [
    "Выведем имена самых активных пользователей, которые в первый месяц после регистрации (включая день регистрации) дали больше 100 ответов. Вопросы, которые задавали пользователи, не учитывайте. Для каждого имени пользователя выведем количество уникальных значений `user_id`. Отсортируем результат по полю с именами в лексикографическом порядке."
   ]
  },
  {
   "cell_type": "code",
   "execution_count": 9,
   "metadata": {
    "id": "fIO-y-YjDWKt"
   },
   "outputs": [
    {
     "data": {
      "text/html": [
       "<div>\n",
       "<style scoped>\n",
       "    .dataframe tbody tr th:only-of-type {\n",
       "        vertical-align: middle;\n",
       "    }\n",
       "\n",
       "    .dataframe tbody tr th {\n",
       "        vertical-align: top;\n",
       "    }\n",
       "\n",
       "    .dataframe thead th {\n",
       "        text-align: right;\n",
       "    }\n",
       "</style>\n",
       "<table border=\"1\" class=\"dataframe\">\n",
       "  <thead>\n",
       "    <tr style=\"text-align: right;\">\n",
       "      <th></th>\n",
       "      <th>display_name</th>\n",
       "      <th>count</th>\n",
       "    </tr>\n",
       "  </thead>\n",
       "  <tbody>\n",
       "    <tr>\n",
       "      <th>0</th>\n",
       "      <td>1800 INFORMATION</td>\n",
       "      <td>1</td>\n",
       "    </tr>\n",
       "    <tr>\n",
       "      <th>1</th>\n",
       "      <td>Adam Bellaire</td>\n",
       "      <td>1</td>\n",
       "    </tr>\n",
       "    <tr>\n",
       "      <th>2</th>\n",
       "      <td>Adam Davis</td>\n",
       "      <td>1</td>\n",
       "    </tr>\n",
       "    <tr>\n",
       "      <th>3</th>\n",
       "      <td>Adam Liss</td>\n",
       "      <td>1</td>\n",
       "    </tr>\n",
       "    <tr>\n",
       "      <th>4</th>\n",
       "      <td>Alan</td>\n",
       "      <td>8</td>\n",
       "    </tr>\n",
       "    <tr>\n",
       "      <th>...</th>\n",
       "      <td>...</td>\n",
       "      <td>...</td>\n",
       "    </tr>\n",
       "    <tr>\n",
       "      <th>74</th>\n",
       "      <td>lomaxx</td>\n",
       "      <td>1</td>\n",
       "    </tr>\n",
       "    <tr>\n",
       "      <th>75</th>\n",
       "      <td>mattlant</td>\n",
       "      <td>1</td>\n",
       "    </tr>\n",
       "    <tr>\n",
       "      <th>76</th>\n",
       "      <td>paxdiablo</td>\n",
       "      <td>1</td>\n",
       "    </tr>\n",
       "    <tr>\n",
       "      <th>77</th>\n",
       "      <td>tvanfosson</td>\n",
       "      <td>1</td>\n",
       "    </tr>\n",
       "    <tr>\n",
       "      <th>78</th>\n",
       "      <td>tzot</td>\n",
       "      <td>1</td>\n",
       "    </tr>\n",
       "  </tbody>\n",
       "</table>\n",
       "<p>79 rows × 2 columns</p>\n",
       "</div>"
      ],
      "text/plain": [
       "        display_name  count\n",
       "0   1800 INFORMATION      1\n",
       "1      Adam Bellaire      1\n",
       "2         Adam Davis      1\n",
       "3          Adam Liss      1\n",
       "4               Alan      8\n",
       "..               ...    ...\n",
       "74            lomaxx      1\n",
       "75          mattlant      1\n",
       "76         paxdiablo      1\n",
       "77        tvanfosson      1\n",
       "78              tzot      1\n",
       "\n",
       "[79 rows x 2 columns]"
      ]
     },
     "execution_count": 9,
     "metadata": {},
     "output_type": "execute_result"
    }
   ],
   "source": [
    "\n",
    "query = '''\n",
    "SELECT u.display_name,\n",
    "       COUNT(DISTINCT(p.user_id))\n",
    "FROM stackoverflow.posts AS p\n",
    "INNER JOIN stackoverflow.post_types AS pt ON p.post_type_id = pt.id\n",
    "INNER JOIN stackoverflow.users AS u ON p.user_id = u.id\n",
    "WHERE pt.type = 'Answer'\n",
    "AND p.creation_date::date BETWEEN u.creation_date::date AND u.creation_date::date + INTERVAL'1 month'\n",
    "GROUP BY u.display_name\n",
    "HAVING COUNT(p.id) > 100\n",
    "ORDER BY u.display_name\n",
    "\n",
    "'''\n",
    "\n",
    "\n",
    "sample_df = pd.read_sql_query(query, con=engine) \n",
    "sample_df"
   ]
  },
  {
   "cell_type": "markdown",
   "metadata": {},
   "source": [
    "Наблюдаются  значения отличные от единицы у поля count некоторых пользователей. Полагаю, это свидетильствует о том, что они\n",
    "отвечали нескольким пользователям  \n"
   ]
  },
  {
   "cell_type": "markdown",
   "metadata": {
    "id": "JhM2xXj5DWKu"
   },
   "source": [
    "# Задание 3"
   ]
  },
  {
   "cell_type": "markdown",
   "metadata": {
    "id": "IS6xPqyyDWKu"
   },
   "source": [
    "Выведем количество постов за 2008 год по месяцам. Отберем посты от пользователей, которые зарегистрировались в сентябре 2008 года и сделали хотя бы один пост в декабре того же года. Отсортируем таблицу по значению месяца по убыванию."
   ]
  },
  {
   "cell_type": "code",
   "execution_count": 11,
   "metadata": {
    "id": "kVu0FB8WDWKv"
   },
   "outputs": [
    {
     "data": {
      "text/html": [
       "<div>\n",
       "<style scoped>\n",
       "    .dataframe tbody tr th:only-of-type {\n",
       "        vertical-align: middle;\n",
       "    }\n",
       "\n",
       "    .dataframe tbody tr th {\n",
       "        vertical-align: top;\n",
       "    }\n",
       "\n",
       "    .dataframe thead th {\n",
       "        text-align: right;\n",
       "    }\n",
       "</style>\n",
       "<table border=\"1\" class=\"dataframe\">\n",
       "  <thead>\n",
       "    <tr style=\"text-align: right;\">\n",
       "      <th></th>\n",
       "      <th>month</th>\n",
       "      <th>count</th>\n",
       "    </tr>\n",
       "  </thead>\n",
       "  <tbody>\n",
       "    <tr>\n",
       "      <th>0</th>\n",
       "      <td>2008-12-01</td>\n",
       "      <td>17641</td>\n",
       "    </tr>\n",
       "    <tr>\n",
       "      <th>1</th>\n",
       "      <td>2008-11-01</td>\n",
       "      <td>18294</td>\n",
       "    </tr>\n",
       "    <tr>\n",
       "      <th>2</th>\n",
       "      <td>2008-10-01</td>\n",
       "      <td>27171</td>\n",
       "    </tr>\n",
       "    <tr>\n",
       "      <th>3</th>\n",
       "      <td>2008-09-01</td>\n",
       "      <td>24870</td>\n",
       "    </tr>\n",
       "    <tr>\n",
       "      <th>4</th>\n",
       "      <td>2008-08-01</td>\n",
       "      <td>32</td>\n",
       "    </tr>\n",
       "  </tbody>\n",
       "</table>\n",
       "</div>"
      ],
      "text/plain": [
       "       month  count\n",
       "0 2008-12-01  17641\n",
       "1 2008-11-01  18294\n",
       "2 2008-10-01  27171\n",
       "3 2008-09-01  24870\n",
       "4 2008-08-01     32"
      ]
     },
     "execution_count": 11,
     "metadata": {},
     "output_type": "execute_result"
    }
   ],
   "source": [
    "\n",
    "query = '''\n",
    "WITH u AS\n",
    "(SELECT users.id\n",
    " FROM stackoverflow.users\n",
    " INNER JOIN stackoverflow.posts AS p ON users.id = p.user_id\n",
    " WHERE (users.creation_date::date BETWEEN '2008-09-01' AND '2008-09-30')\n",
    " AND (p.creation_date::date BETWEEN '2008-12-01' AND '2008-12-31' )\n",
    ")\n",
    "SELECT DISTINCT(DATE_TRUNC('month', p.creation_date)) AS month,\n",
    "       COUNT(DISTINCT p.id) \n",
    "FROM u\n",
    "INNER JOIN stackoverflow.posts AS p ON u.id = p.user_id\n",
    "GROUP BY DATE_TRUNC('month', p.creation_date)\n",
    "ORDER BY month DESC\n",
    "'''\n",
    "\n",
    "\n",
    "sample_df = pd.read_sql_query(query, con=engine) \n",
    "sample_df"
   ]
  },
  {
   "cell_type": "markdown",
   "metadata": {},
   "source": [
    "В Августе, есть посты от пользователей, которые зарегестрировались в сентябре, возможно это посты с ответами на вопросы, которые были созданы до сентября"
   ]
  },
  {
   "cell_type": "markdown",
   "metadata": {
    "id": "5Pcizm0DDWKz"
   },
   "source": [
    "# Задание 4"
   ]
  },
  {
   "cell_type": "markdown",
   "metadata": {
    "id": "KUZPF6vHDWKz"
   },
   "source": [
    "Используя данные о постах, выведем несколько полей:\n",
    "\n",
    "- идентификатор пользователя, который написал пост;\n",
    "- дата создания поста;\n",
    "- количество просмотров у текущего поста;\n",
    "- сумму просмотров постов автора с накоплением.\n",
    "\n",
    "Данные в таблице должны быть отсортированы по возрастанию идентификаторов пользователей, а данные об одном и том же пользователе — по возрастанию даты создания поста."
   ]
  },
  {
   "cell_type": "code",
   "execution_count": 13,
   "metadata": {
    "id": "hDoJhMzfDWK0"
   },
   "outputs": [
    {
     "data": {
      "text/html": [
       "<div>\n",
       "<style scoped>\n",
       "    .dataframe tbody tr th:only-of-type {\n",
       "        vertical-align: middle;\n",
       "    }\n",
       "\n",
       "    .dataframe tbody tr th {\n",
       "        vertical-align: top;\n",
       "    }\n",
       "\n",
       "    .dataframe thead th {\n",
       "        text-align: right;\n",
       "    }\n",
       "</style>\n",
       "<table border=\"1\" class=\"dataframe\">\n",
       "  <thead>\n",
       "    <tr style=\"text-align: right;\">\n",
       "      <th></th>\n",
       "      <th>user_id</th>\n",
       "      <th>creation_date</th>\n",
       "      <th>views_count</th>\n",
       "      <th>cumulative_count</th>\n",
       "    </tr>\n",
       "  </thead>\n",
       "  <tbody>\n",
       "    <tr>\n",
       "      <th>0</th>\n",
       "      <td>1</td>\n",
       "      <td>2008-07-31 23:41:00</td>\n",
       "      <td>480476</td>\n",
       "      <td>480476</td>\n",
       "    </tr>\n",
       "    <tr>\n",
       "      <th>1</th>\n",
       "      <td>1</td>\n",
       "      <td>2008-07-31 23:55:38</td>\n",
       "      <td>136033</td>\n",
       "      <td>616509</td>\n",
       "    </tr>\n",
       "    <tr>\n",
       "      <th>2</th>\n",
       "      <td>1</td>\n",
       "      <td>2008-07-31 23:56:41</td>\n",
       "      <td>0</td>\n",
       "      <td>616509</td>\n",
       "    </tr>\n",
       "    <tr>\n",
       "      <th>3</th>\n",
       "      <td>1</td>\n",
       "      <td>2008-08-04 02:45:08</td>\n",
       "      <td>0</td>\n",
       "      <td>616509</td>\n",
       "    </tr>\n",
       "    <tr>\n",
       "      <th>4</th>\n",
       "      <td>1</td>\n",
       "      <td>2008-08-04 04:31:03</td>\n",
       "      <td>0</td>\n",
       "      <td>616509</td>\n",
       "    </tr>\n",
       "    <tr>\n",
       "      <th>...</th>\n",
       "      <td>...</td>\n",
       "      <td>...</td>\n",
       "      <td>...</td>\n",
       "      <td>...</td>\n",
       "    </tr>\n",
       "    <tr>\n",
       "      <th>243791</th>\n",
       "      <td>5696608</td>\n",
       "      <td>2008-12-23 16:00:37</td>\n",
       "      <td>0</td>\n",
       "      <td>2804</td>\n",
       "    </tr>\n",
       "    <tr>\n",
       "      <th>243792</th>\n",
       "      <td>5696608</td>\n",
       "      <td>2008-12-23 17:35:09</td>\n",
       "      <td>0</td>\n",
       "      <td>2804</td>\n",
       "    </tr>\n",
       "    <tr>\n",
       "      <th>243793</th>\n",
       "      <td>5696608</td>\n",
       "      <td>2008-12-24 01:02:48</td>\n",
       "      <td>0</td>\n",
       "      <td>2804</td>\n",
       "    </tr>\n",
       "    <tr>\n",
       "      <th>243794</th>\n",
       "      <td>5696608</td>\n",
       "      <td>2008-12-30 14:34:45</td>\n",
       "      <td>0</td>\n",
       "      <td>2804</td>\n",
       "    </tr>\n",
       "    <tr>\n",
       "      <th>243795</th>\n",
       "      <td>5696608</td>\n",
       "      <td>2008-12-30 16:32:12</td>\n",
       "      <td>0</td>\n",
       "      <td>2804</td>\n",
       "    </tr>\n",
       "  </tbody>\n",
       "</table>\n",
       "<p>243796 rows × 4 columns</p>\n",
       "</div>"
      ],
      "text/plain": [
       "        user_id       creation_date  views_count  cumulative_count\n",
       "0             1 2008-07-31 23:41:00       480476            480476\n",
       "1             1 2008-07-31 23:55:38       136033            616509\n",
       "2             1 2008-07-31 23:56:41            0            616509\n",
       "3             1 2008-08-04 02:45:08            0            616509\n",
       "4             1 2008-08-04 04:31:03            0            616509\n",
       "...         ...                 ...          ...               ...\n",
       "243791  5696608 2008-12-23 16:00:37            0              2804\n",
       "243792  5696608 2008-12-23 17:35:09            0              2804\n",
       "243793  5696608 2008-12-24 01:02:48            0              2804\n",
       "243794  5696608 2008-12-30 14:34:45            0              2804\n",
       "243795  5696608 2008-12-30 16:32:12            0              2804\n",
       "\n",
       "[243796 rows x 4 columns]"
      ]
     },
     "execution_count": 13,
     "metadata": {},
     "output_type": "execute_result"
    }
   ],
   "source": [
    "\n",
    "query = '''\n",
    "SELECT p.user_id,\n",
    "       p.creation_date,\n",
    "       p.views_count,\n",
    "       SUM(p.views_count) OVER (PARTITION BY p.user_id ORDER BY p.creation_date) AS cumulative_count\n",
    "FROM stackoverflow.posts AS p\n",
    "ORDER BY p.user_id, p.creation_date\n",
    "'''\n",
    "\n",
    "\n",
    "sample_df = pd.read_sql_query(query, con=engine) \n",
    "sample_df"
   ]
  },
  {
   "cell_type": "markdown",
   "metadata": {
    "id": "N0kHRHvIDWK2"
   },
   "source": [
    "# Задание 5"
   ]
  },
  {
   "cell_type": "markdown",
   "metadata": {
    "id": "gBgvmPtODWK2"
   },
   "source": [
    "Найдем среднее количество постов пользователей в день за август 2008 года. Отберем данные о пользователях, которые опубликовали больше 120 постов за август. Дни без публикаций не учитываем. \n",
    "\n",
    "Отсортируем результат по возрастанию среднего количества постов. Значения можно не округлять."
   ]
  },
  {
   "cell_type": "code",
   "execution_count": 14,
   "metadata": {
    "id": "YFyPNz5GDWK3"
   },
   "outputs": [
    {
     "data": {
      "text/html": [
       "<div>\n",
       "<style scoped>\n",
       "    .dataframe tbody tr th:only-of-type {\n",
       "        vertical-align: middle;\n",
       "    }\n",
       "\n",
       "    .dataframe tbody tr th {\n",
       "        vertical-align: top;\n",
       "    }\n",
       "\n",
       "    .dataframe thead th {\n",
       "        text-align: right;\n",
       "    }\n",
       "</style>\n",
       "<table border=\"1\" class=\"dataframe\">\n",
       "  <thead>\n",
       "    <tr style=\"text-align: right;\">\n",
       "      <th></th>\n",
       "      <th>user_id</th>\n",
       "      <th>avg_daily</th>\n",
       "    </tr>\n",
       "  </thead>\n",
       "  <tbody>\n",
       "    <tr>\n",
       "      <th>0</th>\n",
       "      <td>116</td>\n",
       "      <td>4.777778</td>\n",
       "    </tr>\n",
       "    <tr>\n",
       "      <th>1</th>\n",
       "      <td>234</td>\n",
       "      <td>5.208333</td>\n",
       "    </tr>\n",
       "    <tr>\n",
       "      <th>2</th>\n",
       "      <td>91</td>\n",
       "      <td>5.681818</td>\n",
       "    </tr>\n",
       "    <tr>\n",
       "      <th>3</th>\n",
       "      <td>905</td>\n",
       "      <td>7.000000</td>\n",
       "    </tr>\n",
       "    <tr>\n",
       "      <th>4</th>\n",
       "      <td>383</td>\n",
       "      <td>7.277778</td>\n",
       "    </tr>\n",
       "  </tbody>\n",
       "</table>\n",
       "</div>"
      ],
      "text/plain": [
       "   user_id  avg_daily\n",
       "0      116   4.777778\n",
       "1      234   5.208333\n",
       "2       91   5.681818\n",
       "3      905   7.000000\n",
       "4      383   7.277778"
      ]
     },
     "execution_count": 14,
     "metadata": {},
     "output_type": "execute_result"
    }
   ],
   "source": [
    "\n",
    "query = '''\n",
    "WITH u AS (\n",
    "SELECT DISTINCT(posts.id),\n",
    "       posts.user_id,\n",
    "       posts.creation_date::date,\n",
    "       COUNT(posts.id) OVER(PARTITION BY user_id, creation_date::date) AS per_day,\n",
    "       COUNT(posts.id) OVER(PARTITION BY user_id) AS summary\n",
    "FROM stackoverflow.posts\n",
    "WHERE posts.creation_date::date BETWEEN '2008-08-01' AND '2008-08-31'\n",
    ")\n",
    "SELECT user_id,\n",
    "      CAST(COUNT(DISTINCT id) AS float)/CAST(COUNT(DISTINCT creation_date) AS float) AS avg_daily     \n",
    "FROM u\n",
    "WHERE summary > 120\n",
    "GROUP BY user_id\n",
    "ORDER BY avg_daily\n",
    "'''\n",
    "\n",
    "\n",
    "sample_df = pd.read_sql_query(query, con=engine) \n",
    "sample_df"
   ]
  },
  {
   "cell_type": "markdown",
   "metadata": {
    "id": "EQ0dcFH4DWK5"
   },
   "source": [
    "# Задание 6"
   ]
  },
  {
   "cell_type": "markdown",
   "metadata": {
    "id": "c7flfg_hDWK5"
   },
   "source": [
    "Сколько в среднем дней в период с 1 по 7 декабря 2008 года пользователи взаимодействовали с платформой? Для каждого пользователя отберем дни, в которые он или она опубликовали хотя бы один пост. Нужно получить одно целое число — не забудем округлить результат. "
   ]
  },
  {
   "cell_type": "code",
   "execution_count": 15,
   "metadata": {
    "id": "kZ7LXTr6DWK6"
   },
   "outputs": [
    {
     "data": {
      "text/html": [
       "<div>\n",
       "<style scoped>\n",
       "    .dataframe tbody tr th:only-of-type {\n",
       "        vertical-align: middle;\n",
       "    }\n",
       "\n",
       "    .dataframe tbody tr th {\n",
       "        vertical-align: top;\n",
       "    }\n",
       "\n",
       "    .dataframe thead th {\n",
       "        text-align: right;\n",
       "    }\n",
       "</style>\n",
       "<table border=\"1\" class=\"dataframe\">\n",
       "  <thead>\n",
       "    <tr style=\"text-align: right;\">\n",
       "      <th></th>\n",
       "      <th>round</th>\n",
       "    </tr>\n",
       "  </thead>\n",
       "  <tbody>\n",
       "    <tr>\n",
       "      <th>0</th>\n",
       "      <td>2</td>\n",
       "    </tr>\n",
       "  </tbody>\n",
       "</table>\n",
       "</div>"
      ],
      "text/plain": [
       "   round\n",
       "0      2"
      ]
     },
     "execution_count": 15,
     "metadata": {},
     "output_type": "execute_result"
    }
   ],
   "source": [
    "\n",
    "query = '''\n",
    "WITH u AS\n",
    "(SELECT users.id,\n",
    "        COUNT(DISTINCT p.creation_date::date)\n",
    "FROM stackoverflow.users\n",
    "INNER JOIN stackoverflow.posts AS p ON users.id = p.user_id\n",
    "WHERE p.creation_date::date BETWEEN '2008-12-01' AND '2008-12-7'\n",
    "GROUP BY users.id\n",
    ")\n",
    "SELECT CAST(ROUND(AVG(count)) AS int) \n",
    "FROM u\n",
    "\n",
    "'''\n",
    "\n",
    "\n",
    "sample_df = pd.read_sql_query(query, con=engine) \n",
    "sample_df"
   ]
  },
  {
   "cell_type": "markdown",
   "metadata": {
    "id": "wfOmqmfLDWK8"
   },
   "source": [
    "# Задание 7"
   ]
  },
  {
   "cell_type": "markdown",
   "metadata": {
    "id": "X4ARQimADWK9"
   },
   "source": [
    "Выведем историю активности каждого пользователя в таком виде: идентификатор пользователя, дата публикации поста. Отсортируем вывод по возрастанию идентификаторов пользователей, а для каждого пользователя — по возрастанию даты публикации.\n",
    "\n",
    "Добавим в таблицу новое поле: для каждого поста в нём будет указано название месяца предпоследней публикации пользователя относительно текущей. Если такой публикации нет, укажем `NULL`.  Python автоматически поменяет `NULL` на `None`, но дополнительно преобразовывать значения `None` нам не нужно.\n",
    "\n",
    "Посмотрим внимательно на образец таблицы: для первых двух постов предпоследней публикации нет, но, начиная с третьего поста, в новое поле входит нужный месяц. Для следующего пользователя в первые две записи поля `second_last_month` тоже войдёт `NULL`."
   ]
  },
  {
   "cell_type": "code",
   "execution_count": 17,
   "metadata": {
    "id": "HzI1vhaMDWK-"
   },
   "outputs": [
    {
     "data": {
      "text/html": [
       "<div>\n",
       "<style scoped>\n",
       "    .dataframe tbody tr th:only-of-type {\n",
       "        vertical-align: middle;\n",
       "    }\n",
       "\n",
       "    .dataframe tbody tr th {\n",
       "        vertical-align: top;\n",
       "    }\n",
       "\n",
       "    .dataframe thead th {\n",
       "        text-align: right;\n",
       "    }\n",
       "</style>\n",
       "<table border=\"1\" class=\"dataframe\">\n",
       "  <thead>\n",
       "    <tr style=\"text-align: right;\">\n",
       "      <th></th>\n",
       "      <th>user_id</th>\n",
       "      <th>creation_date</th>\n",
       "      <th>case</th>\n",
       "    </tr>\n",
       "  </thead>\n",
       "  <tbody>\n",
       "    <tr>\n",
       "      <th>0</th>\n",
       "      <td>1</td>\n",
       "      <td>2008-07-31 23:41:00</td>\n",
       "      <td>None</td>\n",
       "    </tr>\n",
       "    <tr>\n",
       "      <th>1</th>\n",
       "      <td>1</td>\n",
       "      <td>2008-07-31 23:55:38</td>\n",
       "      <td>None</td>\n",
       "    </tr>\n",
       "    <tr>\n",
       "      <th>2</th>\n",
       "      <td>1</td>\n",
       "      <td>2008-07-31 23:56:41</td>\n",
       "      <td>July</td>\n",
       "    </tr>\n",
       "    <tr>\n",
       "      <th>3</th>\n",
       "      <td>1</td>\n",
       "      <td>2008-08-04 02:45:08</td>\n",
       "      <td>July</td>\n",
       "    </tr>\n",
       "    <tr>\n",
       "      <th>4</th>\n",
       "      <td>1</td>\n",
       "      <td>2008-08-04 04:31:03</td>\n",
       "      <td>July</td>\n",
       "    </tr>\n",
       "    <tr>\n",
       "      <th>...</th>\n",
       "      <td>...</td>\n",
       "      <td>...</td>\n",
       "      <td>...</td>\n",
       "    </tr>\n",
       "    <tr>\n",
       "      <th>243791</th>\n",
       "      <td>5696608</td>\n",
       "      <td>2008-12-23 16:00:37</td>\n",
       "      <td>December</td>\n",
       "    </tr>\n",
       "    <tr>\n",
       "      <th>243792</th>\n",
       "      <td>5696608</td>\n",
       "      <td>2008-12-23 17:35:09</td>\n",
       "      <td>December</td>\n",
       "    </tr>\n",
       "    <tr>\n",
       "      <th>243793</th>\n",
       "      <td>5696608</td>\n",
       "      <td>2008-12-24 01:02:48</td>\n",
       "      <td>December</td>\n",
       "    </tr>\n",
       "    <tr>\n",
       "      <th>243794</th>\n",
       "      <td>5696608</td>\n",
       "      <td>2008-12-30 14:34:45</td>\n",
       "      <td>December</td>\n",
       "    </tr>\n",
       "    <tr>\n",
       "      <th>243795</th>\n",
       "      <td>5696608</td>\n",
       "      <td>2008-12-30 16:32:12</td>\n",
       "      <td>December</td>\n",
       "    </tr>\n",
       "  </tbody>\n",
       "</table>\n",
       "<p>243796 rows × 3 columns</p>\n",
       "</div>"
      ],
      "text/plain": [
       "        user_id       creation_date      case\n",
       "0             1 2008-07-31 23:41:00      None\n",
       "1             1 2008-07-31 23:55:38      None\n",
       "2             1 2008-07-31 23:56:41      July\n",
       "3             1 2008-08-04 02:45:08      July\n",
       "4             1 2008-08-04 04:31:03      July\n",
       "...         ...                 ...       ...\n",
       "243791  5696608 2008-12-23 16:00:37  December\n",
       "243792  5696608 2008-12-23 17:35:09  December\n",
       "243793  5696608 2008-12-24 01:02:48  December\n",
       "243794  5696608 2008-12-30 14:34:45  December\n",
       "243795  5696608 2008-12-30 16:32:12  December\n",
       "\n",
       "[243796 rows x 3 columns]"
      ]
     },
     "execution_count": 17,
     "metadata": {},
     "output_type": "execute_result"
    }
   ],
   "source": [
    "\n",
    "query = '''\n",
    "WITH u AS(\n",
    "    SELECT p.user_id,\n",
    "       p.creation_date,\n",
    "       EXTRACT(MONTH FROM LAG(p.creation_date, 2, NULL) OVER(PARTITION BY p.user_id ORDER BY p.creation_date)) AS second_last_month       \n",
    "FROM stackoverflow.posts AS p       \n",
    ")\n",
    "SELECT u.user_id,\n",
    "       u.creation_date,\n",
    "       CASE(second_last_month)\n",
    "       WHEN 1 THEN 'January'\n",
    "       WHEN 2 THEN 'February'\n",
    "       WHEN 3 THEN 'March'\n",
    "       WHEN 4 THEN 'April'\n",
    "       WHEN 5 THEN 'May'\n",
    "       WHEN 6 THEN 'June'\n",
    "       WHEN 7 THEN 'July'\n",
    "       WHEN 8 THEN 'August'\n",
    "       WHEN 9 THEN 'September'\n",
    "       WHEN 10 THEN 'October'\n",
    "       WHEN 11 THEN 'November'\n",
    "       WHEN 12 THEN 'December'\n",
    "       END\n",
    "FROM u\n",
    "'''\n",
    "\n",
    "\n",
    "sample_df = pd.read_sql_query(query, con=engine) \n",
    "sample_df"
   ]
  },
  {
   "cell_type": "markdown",
   "metadata": {
    "id": "tf9qq2yzDWK_"
   },
   "source": [
    "# Задание 8"
   ]
  },
  {
   "cell_type": "markdown",
   "metadata": {
    "id": "gfwLVXBYDWLA"
   },
   "source": [
    "Рассчитаем аналог Retention Rate по месяцам для пользователей StackOverflow. Объединим пользователей в когорты по месяцу их первого поста. Возвращение определяем по наличию поста в текущем месяце. "
   ]
  },
  {
   "cell_type": "code",
   "execution_count": 18,
   "metadata": {
    "id": "LUgFmwmTDWLB"
   },
   "outputs": [
    {
     "data": {
      "text/html": [
       "<div>\n",
       "<style scoped>\n",
       "    .dataframe tbody tr th:only-of-type {\n",
       "        vertical-align: middle;\n",
       "    }\n",
       "\n",
       "    .dataframe tbody tr th {\n",
       "        vertical-align: top;\n",
       "    }\n",
       "\n",
       "    .dataframe thead th {\n",
       "        text-align: right;\n",
       "    }\n",
       "</style>\n",
       "<table border=\"1\" class=\"dataframe\">\n",
       "  <thead>\n",
       "    <tr style=\"text-align: right;\">\n",
       "      <th></th>\n",
       "      <th>cohort_dt</th>\n",
       "      <th>session_date</th>\n",
       "      <th>users_cnt</th>\n",
       "      <th>cohort_users_cnt</th>\n",
       "      <th>retention_rate</th>\n",
       "    </tr>\n",
       "  </thead>\n",
       "  <tbody>\n",
       "    <tr>\n",
       "      <th>0</th>\n",
       "      <td>2008-07-01</td>\n",
       "      <td>2008-07-01</td>\n",
       "      <td>3</td>\n",
       "      <td>3</td>\n",
       "      <td>100.00</td>\n",
       "    </tr>\n",
       "    <tr>\n",
       "      <th>1</th>\n",
       "      <td>2008-07-01</td>\n",
       "      <td>2008-08-01</td>\n",
       "      <td>2</td>\n",
       "      <td>3</td>\n",
       "      <td>66.67</td>\n",
       "    </tr>\n",
       "    <tr>\n",
       "      <th>2</th>\n",
       "      <td>2008-07-01</td>\n",
       "      <td>2008-09-01</td>\n",
       "      <td>1</td>\n",
       "      <td>3</td>\n",
       "      <td>33.33</td>\n",
       "    </tr>\n",
       "    <tr>\n",
       "      <th>3</th>\n",
       "      <td>2008-07-01</td>\n",
       "      <td>2008-10-01</td>\n",
       "      <td>2</td>\n",
       "      <td>3</td>\n",
       "      <td>66.67</td>\n",
       "    </tr>\n",
       "    <tr>\n",
       "      <th>4</th>\n",
       "      <td>2008-07-01</td>\n",
       "      <td>2008-11-01</td>\n",
       "      <td>1</td>\n",
       "      <td>3</td>\n",
       "      <td>33.33</td>\n",
       "    </tr>\n",
       "    <tr>\n",
       "      <th>5</th>\n",
       "      <td>2008-07-01</td>\n",
       "      <td>2008-12-01</td>\n",
       "      <td>2</td>\n",
       "      <td>3</td>\n",
       "      <td>66.67</td>\n",
       "    </tr>\n",
       "    <tr>\n",
       "      <th>6</th>\n",
       "      <td>2008-08-01</td>\n",
       "      <td>2008-08-01</td>\n",
       "      <td>2151</td>\n",
       "      <td>2151</td>\n",
       "      <td>100.00</td>\n",
       "    </tr>\n",
       "    <tr>\n",
       "      <th>7</th>\n",
       "      <td>2008-08-01</td>\n",
       "      <td>2008-09-01</td>\n",
       "      <td>1571</td>\n",
       "      <td>2151</td>\n",
       "      <td>73.04</td>\n",
       "    </tr>\n",
       "    <tr>\n",
       "      <th>8</th>\n",
       "      <td>2008-08-01</td>\n",
       "      <td>2008-10-01</td>\n",
       "      <td>1275</td>\n",
       "      <td>2151</td>\n",
       "      <td>59.27</td>\n",
       "    </tr>\n",
       "    <tr>\n",
       "      <th>9</th>\n",
       "      <td>2008-08-01</td>\n",
       "      <td>2008-11-01</td>\n",
       "      <td>1050</td>\n",
       "      <td>2151</td>\n",
       "      <td>48.81</td>\n",
       "    </tr>\n",
       "    <tr>\n",
       "      <th>10</th>\n",
       "      <td>2008-08-01</td>\n",
       "      <td>2008-12-01</td>\n",
       "      <td>894</td>\n",
       "      <td>2151</td>\n",
       "      <td>41.56</td>\n",
       "    </tr>\n",
       "    <tr>\n",
       "      <th>11</th>\n",
       "      <td>2008-09-01</td>\n",
       "      <td>2008-09-01</td>\n",
       "      <td>7678</td>\n",
       "      <td>7678</td>\n",
       "      <td>100.00</td>\n",
       "    </tr>\n",
       "    <tr>\n",
       "      <th>12</th>\n",
       "      <td>2008-09-01</td>\n",
       "      <td>2008-10-01</td>\n",
       "      <td>4132</td>\n",
       "      <td>7678</td>\n",
       "      <td>53.82</td>\n",
       "    </tr>\n",
       "    <tr>\n",
       "      <th>13</th>\n",
       "      <td>2008-09-01</td>\n",
       "      <td>2008-11-01</td>\n",
       "      <td>2966</td>\n",
       "      <td>7678</td>\n",
       "      <td>38.63</td>\n",
       "    </tr>\n",
       "    <tr>\n",
       "      <th>14</th>\n",
       "      <td>2008-09-01</td>\n",
       "      <td>2008-12-01</td>\n",
       "      <td>2500</td>\n",
       "      <td>7678</td>\n",
       "      <td>32.56</td>\n",
       "    </tr>\n",
       "    <tr>\n",
       "      <th>15</th>\n",
       "      <td>2008-10-01</td>\n",
       "      <td>2008-10-01</td>\n",
       "      <td>3629</td>\n",
       "      <td>3629</td>\n",
       "      <td>100.00</td>\n",
       "    </tr>\n",
       "    <tr>\n",
       "      <th>16</th>\n",
       "      <td>2008-10-01</td>\n",
       "      <td>2008-11-01</td>\n",
       "      <td>1640</td>\n",
       "      <td>3629</td>\n",
       "      <td>45.19</td>\n",
       "    </tr>\n",
       "    <tr>\n",
       "      <th>17</th>\n",
       "      <td>2008-10-01</td>\n",
       "      <td>2008-12-01</td>\n",
       "      <td>1221</td>\n",
       "      <td>3629</td>\n",
       "      <td>33.65</td>\n",
       "    </tr>\n",
       "    <tr>\n",
       "      <th>18</th>\n",
       "      <td>2008-11-01</td>\n",
       "      <td>2008-11-01</td>\n",
       "      <td>2852</td>\n",
       "      <td>2852</td>\n",
       "      <td>100.00</td>\n",
       "    </tr>\n",
       "    <tr>\n",
       "      <th>19</th>\n",
       "      <td>2008-11-01</td>\n",
       "      <td>2008-12-01</td>\n",
       "      <td>1151</td>\n",
       "      <td>2852</td>\n",
       "      <td>40.36</td>\n",
       "    </tr>\n",
       "    <tr>\n",
       "      <th>20</th>\n",
       "      <td>2008-12-01</td>\n",
       "      <td>2008-12-01</td>\n",
       "      <td>2536</td>\n",
       "      <td>2536</td>\n",
       "      <td>100.00</td>\n",
       "    </tr>\n",
       "  </tbody>\n",
       "</table>\n",
       "</div>"
      ],
      "text/plain": [
       "    cohort_dt session_date  users_cnt  cohort_users_cnt  retention_rate\n",
       "0  2008-07-01   2008-07-01          3                 3          100.00\n",
       "1  2008-07-01   2008-08-01          2                 3           66.67\n",
       "2  2008-07-01   2008-09-01          1                 3           33.33\n",
       "3  2008-07-01   2008-10-01          2                 3           66.67\n",
       "4  2008-07-01   2008-11-01          1                 3           33.33\n",
       "5  2008-07-01   2008-12-01          2                 3           66.67\n",
       "6  2008-08-01   2008-08-01       2151              2151          100.00\n",
       "7  2008-08-01   2008-09-01       1571              2151           73.04\n",
       "8  2008-08-01   2008-10-01       1275              2151           59.27\n",
       "9  2008-08-01   2008-11-01       1050              2151           48.81\n",
       "10 2008-08-01   2008-12-01        894              2151           41.56\n",
       "11 2008-09-01   2008-09-01       7678              7678          100.00\n",
       "12 2008-09-01   2008-10-01       4132              7678           53.82\n",
       "13 2008-09-01   2008-11-01       2966              7678           38.63\n",
       "14 2008-09-01   2008-12-01       2500              7678           32.56\n",
       "15 2008-10-01   2008-10-01       3629              3629          100.00\n",
       "16 2008-10-01   2008-11-01       1640              3629           45.19\n",
       "17 2008-10-01   2008-12-01       1221              3629           33.65\n",
       "18 2008-11-01   2008-11-01       2852              2852          100.00\n",
       "19 2008-11-01   2008-12-01       1151              2852           40.36\n",
       "20 2008-12-01   2008-12-01       2536              2536          100.00"
      ]
     },
     "execution_count": 18,
     "metadata": {},
     "output_type": "execute_result"
    }
   ],
   "source": [
    "\n",
    "query = '''\n",
    "WITH u AS\n",
    "(SELECT DISTINCT user_id,\n",
    "        FIRST_value(DATE_TRUNC('month',creation_date)) OVER(PARTITION BY user_id ORDER BY creation_date) AS dt\n",
    "FROM stackoverflow.posts\n",
    ")\n",
    ",profile AS\n",
    "(SELECT user_id AS id,\n",
    "        dt,\n",
    "        COUNT(*) OVER (PARTITION BY dt) AS cohort_users_cnt\n",
    "FROM u\n",
    "),\n",
    "sessions AS \n",
    "(SELECT user_id,\n",
    "        DATE_TRUNC('month', creation_date) AS session_date\n",
    "FROM stackoverflow.posts\n",
    "GROUP BY 1,\n",
    "         2)\n",
    "SELECT p.dt AS cohort_dt,\n",
    "       session_date,\n",
    "       COUNT(p.id) AS users_cnt,\n",
    "       cohort_users_cnt,\n",
    "       ROUND(COUNT(p.id) * 100.0 / cohort_users_cnt, 2) AS retention_rate\n",
    "FROM profile AS p\n",
    "JOIN sessions s ON p.id = s.user_id\n",
    "GROUP BY 1,\n",
    "         2,\n",
    "         4    \n",
    "'''\n",
    "\n",
    "\n",
    "sample_df = pd.read_sql_query(query, con=engine) \n",
    "sample_df"
   ]
  },
  {
   "cell_type": "markdown",
   "metadata": {
    "id": "_msBtnb2DWLC"
   },
   "source": [
    "Построим тепловую карту Retention Rate."
   ]
  },
  {
   "cell_type": "code",
   "execution_count": 19,
   "metadata": {
    "id": "qAEJc8H1DWLC"
   },
   "outputs": [
    {
     "data": {
      "image/png": "[encoded data removed]",
      "text/plain": [
       "<Figure size 1152x1152 with 2 Axes>"
      ]
     },
     "metadata": {
      "needs_background": "light"
     },
     "output_type": "display_data"
    }
   ],
   "source": [
    "# постройте тепловую карту Retention Rate\n",
    "retention = sample_df.pivot('cohort_dt', 'session_date', 'retention_rate')\n",
    "retention.index = [str(x)[0:10] for x in retention.index]\n",
    "retention.columns = [str(x)[0:10] for x in retention.columns]\n",
    "\n",
    "# строим хитмэп\n",
    "plt.figure(figsize=(16, 16)) # задаём размер графика\n",
    "sns.heatmap(retention, # датафрейм с данными\n",
    "            annot=True, # добавляем подписи\n",
    "            fmt='') # задаём исходный формат\n",
    "plt.title('Тепловая карта') # название графика\n",
    "plt.show() "
   ]
  },
  {
   "cell_type": "markdown",
   "metadata": {},
   "source": [
    "Если обратить внимание на июльскую когорту, то можем заметить, что retention rate чередует 2 значения, каждый месяц, кроме того, мы ввидим, что количество пользователей в июле составляет не более 3 человек, из чего можем сделать ввыоды, что это скорее сего создатели сайта, т.к. Stackovereflow начал работать в 2008 году в августе"
   ]
  },
  {
   "cell_type": "markdown",
   "metadata": {
    "id": "1k7oPWt5DWLK"
   },
   "source": [
    "# Задание 9\n"
   ]
  },
  {
   "cell_type": "markdown",
   "metadata": {
    "id": "ALsYVSyRDWLM"
   },
   "source": [
    "На сколько процентов менялось количество постов ежемесячно с 1 сентября по 31 декабря 2008 года? Отобразим таблицу со следующими полями:\n",
    "\n",
    "- номер месяца;\n",
    "- количество постов за месяц;\n",
    "- процент, который показывает, насколько изменилось количество постов в текущем месяце по сравнению с предыдущим.\n",
    "\n",
    "Если постов стало меньше, значение процента должно быть отрицательным, если больше — положительным. Округлим значение процента до двух знаков после запятой.\n"
   ]
  },
  {
   "cell_type": "code",
   "execution_count": 21,
   "metadata": {
    "id": "Mb5pShStDWLN"
   },
   "outputs": [
    {
     "data": {
      "text/html": [
       "<div>\n",
       "<style scoped>\n",
       "    .dataframe tbody tr th:only-of-type {\n",
       "        vertical-align: middle;\n",
       "    }\n",
       "\n",
       "    .dataframe tbody tr th {\n",
       "        vertical-align: top;\n",
       "    }\n",
       "\n",
       "    .dataframe thead th {\n",
       "        text-align: right;\n",
       "    }\n",
       "</style>\n",
       "<table border=\"1\" class=\"dataframe\">\n",
       "  <thead>\n",
       "    <tr style=\"text-align: right;\">\n",
       "      <th></th>\n",
       "      <th>date</th>\n",
       "      <th>posts_count</th>\n",
       "      <th>percentage</th>\n",
       "    </tr>\n",
       "  </thead>\n",
       "  <tbody>\n",
       "    <tr>\n",
       "      <th>0</th>\n",
       "      <td>9.0</td>\n",
       "      <td>70371</td>\n",
       "      <td>NaN</td>\n",
       "    </tr>\n",
       "    <tr>\n",
       "      <th>1</th>\n",
       "      <td>10.0</td>\n",
       "      <td>63102</td>\n",
       "      <td>-10.33</td>\n",
       "    </tr>\n",
       "    <tr>\n",
       "      <th>2</th>\n",
       "      <td>11.0</td>\n",
       "      <td>46975</td>\n",
       "      <td>-25.56</td>\n",
       "    </tr>\n",
       "    <tr>\n",
       "      <th>3</th>\n",
       "      <td>12.0</td>\n",
       "      <td>44592</td>\n",
       "      <td>-5.07</td>\n",
       "    </tr>\n",
       "  </tbody>\n",
       "</table>\n",
       "</div>"
      ],
      "text/plain": [
       "   date  posts_count  percentage\n",
       "0   9.0        70371         NaN\n",
       "1  10.0        63102      -10.33\n",
       "2  11.0        46975      -25.56\n",
       "3  12.0        44592       -5.07"
      ]
     },
     "execution_count": 21,
     "metadata": {},
     "output_type": "execute_result"
    }
   ],
   "source": [
    "\n",
    "query = '''\n",
    "WITH P AS(SELECT DISTINCT(EXTRACT(MONTH FROM creation_date::date)) AS date,\n",
    "       COUNT(id) OVER(PARTITION BY DATE_TRUNC('month', creation_date)) AS posts_count\n",
    "FROM stackoverflow.posts\n",
    "WHERE creation_date::date BETWEEN '2008-09-01' AND '2008-12-31')\n",
    "SELECT date,\n",
    "       posts_count,\n",
    "       ROUND((CAST((posts_count * 100) AS numeric)/(LAG(posts_count) OVER (ORDER BY date)) - 100), 2) AS percentage\n",
    "FROM p\n",
    "'''\n",
    "\n",
    "\n",
    "sample_df = pd.read_sql_query(query, con=engine) \n",
    "sample_df"
   ]
  },
  {
   "cell_type": "code",
   "execution_count": 22,
   "metadata": {
    "id": "377ABjiVDWLP"
   },
   "outputs": [
    {
     "data": {
      "text/plain": [
       "Text(0.5, 1.0, 'Количество постов по месяцам')"
      ]
     },
     "execution_count": 22,
     "metadata": {},
     "output_type": "execute_result"
    },
    {
     "data": {
      "image/png": "[encoded data removed]",
      "text/plain": [
       "<Figure size 432x288 with 1 Axes>"
      ]
     },
     "metadata": {},
     "output_type": "display_data"
    }
   ],
   "source": [
    "\n",
    "ax = sample_df.groupby(['date']). sum ().plot(kind='pie', y='posts_count',autopct='%1.0f%%')\n",
    "ax.legend(loc='upper left', bbox_to_anchor=(1.0, 1.0))\n",
    "ax.set_title('Количество постов по месяцам')"
   ]
  },
  {
   "cell_type": "markdown",
   "metadata": {
    "id": "uw7qMtafDWLP"
   },
   "source": [
    "# Задание 10"
   ]
  },
  {
   "cell_type": "markdown",
   "metadata": {
    "id": "oRBpWKx3DWLQ"
   },
   "source": [
    "Выгрузим данные активности пользователя, который опубликовал больше всего постов за всё время. Выведим данные за октябрь 2008 года в таком виде:\n",
    "\n",
    "- номер недели;\n",
    "- дата и время последнего поста, опубликованного на этой неделе."
   ]
  },
  {
   "cell_type": "code",
   "execution_count": 23,
   "metadata": {
    "id": "r5F5fSkwDWLQ"
   },
   "outputs": [
    {
     "data": {
      "text/html": [
       "<div>\n",
       "<style scoped>\n",
       "    .dataframe tbody tr th:only-of-type {\n",
       "        vertical-align: middle;\n",
       "    }\n",
       "\n",
       "    .dataframe tbody tr th {\n",
       "        vertical-align: top;\n",
       "    }\n",
       "\n",
       "    .dataframe thead th {\n",
       "        text-align: right;\n",
       "    }\n",
       "</style>\n",
       "<table border=\"1\" class=\"dataframe\">\n",
       "  <thead>\n",
       "    <tr style=\"text-align: right;\">\n",
       "      <th></th>\n",
       "      <th>week_creation</th>\n",
       "      <th>last_value</th>\n",
       "    </tr>\n",
       "  </thead>\n",
       "  <tbody>\n",
       "    <tr>\n",
       "      <th>0</th>\n",
       "      <td>40.0</td>\n",
       "      <td>2008-10-05 08:16:26</td>\n",
       "    </tr>\n",
       "    <tr>\n",
       "      <th>1</th>\n",
       "      <td>41.0</td>\n",
       "      <td>2008-10-12 21:22:23</td>\n",
       "    </tr>\n",
       "    <tr>\n",
       "      <th>2</th>\n",
       "      <td>42.0</td>\n",
       "      <td>2008-10-19 06:49:30</td>\n",
       "    </tr>\n",
       "    <tr>\n",
       "      <th>3</th>\n",
       "      <td>43.0</td>\n",
       "      <td>2008-10-26 20:51:12</td>\n",
       "    </tr>\n",
       "    <tr>\n",
       "      <th>4</th>\n",
       "      <td>44.0</td>\n",
       "      <td>2008-10-31 21:54:56</td>\n",
       "    </tr>\n",
       "  </tbody>\n",
       "</table>\n",
       "</div>"
      ],
      "text/plain": [
       "   week_creation          last_value\n",
       "0           40.0 2008-10-05 08:16:26\n",
       "1           41.0 2008-10-12 21:22:23\n",
       "2           42.0 2008-10-19 06:49:30\n",
       "3           43.0 2008-10-26 20:51:12\n",
       "4           44.0 2008-10-31 21:54:56"
      ]
     },
     "execution_count": 23,
     "metadata": {},
     "output_type": "execute_result"
    }
   ],
   "source": [
    "\n",
    "query = '''\n",
    "WITH u AS \n",
    "(SELECT DISTINCT user_id,\n",
    "        COUNT(id) OVER (PARTITION BY user_id)\n",
    " FROM stackoverflow.posts\n",
    " ORDER BY count DESC\n",
    " LIMIT(1)\n",
    "),\n",
    "week AS\n",
    "(SELECT EXTRACT(WEEK FROM creation_date) AS week_creation,\n",
    "        creation_date\n",
    " FROM stackoverflow.posts AS p\n",
    " INNER JOIN u ON u.user_id = p.user_id\n",
    " WHERE creation_date::date BETWEEN '2008-10-01' AND '2008-10-31'\n",
    ")\n",
    "SELECT DISTINCT week_creation,\n",
    "       LAST_VALUE(creation_date) OVER (ORDER BY week_creation)\n",
    "FROM week\n",
    "ORDER BY week_creation\n",
    "'''\n",
    "\n",
    "\n",
    "sample_df = pd.read_sql_query(query, con=engine) \n",
    "sample_df"
   ]
  },
  {
   "cell_type": "code",
   "execution_count": null,
   "metadata": {},
   "outputs": [],
   "source": []
  }
 ],
 "metadata": {
  "ExecuteTimeLog": [
   {
    "duration": 810,
    "start_time": "2023-01-16T13:02:15.540Z"
   },
   {
    "duration": 4,
    "start_time": "2023-01-16T13:02:53.365Z"
   },
   {
    "duration": 7864,
    "start_time": "2023-01-16T13:02:55.296Z"
   },
   {
    "duration": 62,
    "start_time": "2023-01-16T13:03:05.020Z"
   },
   {
    "duration": 14,
    "start_time": "2023-01-16T13:03:05.776Z"
   },
   {
    "duration": 208,
    "start_time": "2023-01-16T13:07:00.652Z"
   },
   {
    "duration": 96,
    "start_time": "2023-01-16T13:08:03.922Z"
   },
   {
    "duration": 103,
    "start_time": "2023-01-16T13:08:13.267Z"
   },
   {
    "duration": 90,
    "start_time": "2023-01-16T13:08:29.637Z"
   },
   {
    "duration": 98,
    "start_time": "2023-01-16T13:08:35.478Z"
   },
   {
    "duration": 109,
    "start_time": "2023-01-16T13:08:47.874Z"
   },
   {
    "duration": 106,
    "start_time": "2023-01-16T13:08:55.938Z"
   },
   {
    "duration": 8,
    "start_time": "2023-01-16T13:09:08.429Z"
   },
   {
    "duration": 24,
    "start_time": "2023-01-16T13:09:43.887Z"
   },
   {
    "duration": 9,
    "start_time": "2023-01-16T13:09:45.659Z"
   },
   {
    "duration": 88,
    "start_time": "2023-01-16T13:10:35.167Z"
   },
   {
    "duration": 7,
    "start_time": "2023-01-16T13:10:35.824Z"
   },
   {
    "duration": 24,
    "start_time": "2023-01-16T13:10:51.463Z"
   },
   {
    "duration": 6,
    "start_time": "2023-01-16T13:10:52.838Z"
   },
   {
    "duration": 2,
    "start_time": "2023-01-16T13:23:28.012Z"
   },
   {
    "duration": 4708,
    "start_time": "2023-01-16T13:43:47.633Z"
   },
   {
    "duration": 2440,
    "start_time": "2023-01-16T13:44:01.804Z"
   },
   {
    "duration": 4758,
    "start_time": "2023-01-16T13:44:32.111Z"
   },
   {
    "duration": 4711,
    "start_time": "2023-01-16T13:44:42.001Z"
   },
   {
    "duration": 2,
    "start_time": "2023-01-16T13:48:00.716Z"
   },
   {
    "duration": 892,
    "start_time": "2023-01-19T13:18:14.589Z"
   },
   {
    "duration": 3,
    "start_time": "2023-01-19T13:18:15.483Z"
   },
   {
    "duration": 7887,
    "start_time": "2023-01-19T13:18:15.493Z"
   },
   {
    "duration": 45,
    "start_time": "2023-01-19T13:18:23.383Z"
   },
   {
    "duration": 20,
    "start_time": "2023-01-19T13:18:23.430Z"
   },
   {
    "duration": 27,
    "start_time": "2023-01-19T13:18:23.452Z"
   },
   {
    "duration": 7,
    "start_time": "2023-01-19T13:18:23.481Z"
   },
   {
    "duration": 26,
    "start_time": "2023-01-19T13:18:23.490Z"
   },
   {
    "duration": 16,
    "start_time": "2023-01-19T13:18:23.518Z"
   },
   {
    "duration": 43,
    "start_time": "2023-01-19T13:18:23.536Z"
   },
   {
    "duration": 216,
    "start_time": "2023-01-19T13:18:23.581Z"
   },
   {
    "duration": 0,
    "start_time": "2023-01-19T13:18:23.799Z"
   },
   {
    "duration": 2223,
    "start_time": "2023-01-19T13:18:36.792Z"
   },
   {
    "duration": 1257,
    "start_time": "2023-01-19T13:19:18.576Z"
   },
   {
    "duration": 3488,
    "start_time": "2023-01-19T13:19:29.257Z"
   },
   {
    "duration": 952,
    "start_time": "2023-01-19T20:51:04.791Z"
   },
   {
    "duration": 4,
    "start_time": "2023-01-19T20:51:05.745Z"
   },
   {
    "duration": 7691,
    "start_time": "2023-01-19T20:51:05.751Z"
   },
   {
    "duration": 39,
    "start_time": "2023-01-19T20:51:13.444Z"
   },
   {
    "duration": 14,
    "start_time": "2023-01-19T20:51:13.485Z"
   },
   {
    "duration": 207,
    "start_time": "2023-01-19T20:51:53.668Z"
   },
   {
    "duration": 6,
    "start_time": "2023-01-19T20:51:55.423Z"
   },
   {
    "duration": 226,
    "start_time": "2023-01-19T20:52:11.598Z"
   },
   {
    "duration": 7,
    "start_time": "2023-01-19T20:52:11.826Z"
   },
   {
    "duration": 1121,
    "start_time": "2023-01-19T21:22:36.741Z"
   },
   {
    "duration": 123,
    "start_time": "2023-01-19T21:58:42.225Z"
   },
   {
    "duration": 42,
    "start_time": "2023-01-19T22:04:30.994Z"
   },
   {
    "duration": 2,
    "start_time": "2023-01-19T22:05:14.109Z"
   },
   {
    "duration": 3,
    "start_time": "2023-01-19T22:05:19.087Z"
   },
   {
    "duration": 1113,
    "start_time": "2023-01-19T22:21:15.322Z"
   },
   {
    "duration": 21943,
    "start_time": "2023-01-19T22:36:14.581Z"
   },
   {
    "duration": 74,
    "start_time": "2023-01-19T22:37:18.992Z"
   },
   {
    "duration": 18,
    "start_time": "2023-01-19T22:37:32.191Z"
   },
   {
    "duration": 1057,
    "start_time": "2023-01-19T22:39:22.259Z"
   },
   {
    "duration": 15,
    "start_time": "2023-01-19T22:39:43.112Z"
   },
   {
    "duration": 234,
    "start_time": "2023-01-19T23:01:30.249Z"
   },
   {
    "duration": 8,
    "start_time": "2023-01-19T23:02:26.728Z"
   },
   {
    "duration": 43,
    "start_time": "2023-01-19T23:02:33.057Z"
   },
   {
    "duration": 14,
    "start_time": "2023-01-19T23:03:03.376Z"
   },
   {
    "duration": 14,
    "start_time": "2023-01-19T23:03:08.322Z"
   },
   {
    "duration": 7,
    "start_time": "2023-01-19T23:03:15.075Z"
   },
   {
    "duration": 191,
    "start_time": "2023-01-19T23:03:43.833Z"
   },
   {
    "duration": 247,
    "start_time": "2023-01-19T23:12:57.054Z"
   },
   {
    "duration": 97,
    "start_time": "2023-01-19T23:23:37.674Z"
   },
   {
    "duration": 2,
    "start_time": "2023-01-19T23:25:11.214Z"
   },
   {
    "duration": 907,
    "start_time": "2023-01-20T12:53:26.653Z"
   },
   {
    "duration": 3,
    "start_time": "2023-01-20T12:53:27.563Z"
   },
   {
    "duration": 9117,
    "start_time": "2023-01-20T12:53:27.567Z"
   },
   {
    "duration": 44,
    "start_time": "2023-01-20T12:53:36.686Z"
   },
   {
    "duration": 23,
    "start_time": "2023-01-20T12:53:36.735Z"
   },
   {
    "duration": 319,
    "start_time": "2023-01-20T12:53:36.759Z"
   },
   {
    "duration": 7,
    "start_time": "2023-01-20T12:53:37.079Z"
   },
   {
    "duration": 11,
    "start_time": "2023-01-20T12:53:37.087Z"
   },
   {
    "duration": 107,
    "start_time": "2023-01-20T12:53:37.100Z"
   },
   {
    "duration": 3,
    "start_time": "2023-01-20T12:53:37.208Z"
   },
   {
    "duration": 1301,
    "start_time": "2023-01-20T12:53:37.212Z"
   },
   {
    "duration": 2,
    "start_time": "2023-01-20T12:53:38.515Z"
   },
   {
    "duration": 1242,
    "start_time": "2023-01-20T12:53:38.519Z"
   },
   {
    "duration": 120,
    "start_time": "2023-01-20T12:53:39.764Z"
   },
   {
    "duration": 39,
    "start_time": "2023-01-20T12:53:39.886Z"
   },
   {
    "duration": 3,
    "start_time": "2023-01-20T12:53:39.927Z"
   },
   {
    "duration": 1225,
    "start_time": "2023-01-20T12:53:39.932Z"
   },
   {
    "duration": 1081,
    "start_time": "2023-01-20T12:53:41.159Z"
   },
   {
    "duration": 88,
    "start_time": "2023-01-20T12:53:42.242Z"
   },
   {
    "duration": 0,
    "start_time": "2023-01-20T12:53:42.332Z"
   },
   {
    "duration": 0,
    "start_time": "2023-01-20T12:53:42.334Z"
   },
   {
    "duration": 0,
    "start_time": "2023-01-20T12:53:42.341Z"
   },
   {
    "duration": 0,
    "start_time": "2023-01-20T12:53:42.342Z"
   },
   {
    "duration": 49,
    "start_time": "2023-01-20T13:01:00.507Z"
   },
   {
    "duration": 235,
    "start_time": "2023-01-20T13:03:44.840Z"
   },
   {
    "duration": 156,
    "start_time": "2023-01-20T13:03:54.155Z"
   },
   {
    "duration": 256,
    "start_time": "2023-01-20T13:03:59.248Z"
   },
   {
    "duration": 132,
    "start_time": "2023-01-20T13:06:54.747Z"
   },
   {
    "duration": 100,
    "start_time": "2023-01-20T13:47:28.200Z"
   },
   {
    "duration": 226,
    "start_time": "2023-01-20T13:47:36.777Z"
   },
   {
    "duration": 67,
    "start_time": "2023-01-20T13:48:30.311Z"
   },
   {
    "duration": 71,
    "start_time": "2023-01-20T13:48:32.629Z"
   },
   {
    "duration": 223,
    "start_time": "2023-01-20T13:49:45.779Z"
   },
   {
    "duration": 231,
    "start_time": "2023-01-20T13:50:02.497Z"
   },
   {
    "duration": 226,
    "start_time": "2023-01-20T13:50:10.634Z"
   },
   {
    "duration": 100,
    "start_time": "2023-01-20T13:50:24.720Z"
   },
   {
    "duration": 156,
    "start_time": "2023-01-20T13:52:59.783Z"
   },
   {
    "duration": 93,
    "start_time": "2023-01-20T13:53:09.233Z"
   },
   {
    "duration": 248,
    "start_time": "2023-01-20T14:02:54.528Z"
   },
   {
    "duration": 228,
    "start_time": "2023-01-20T14:14:02.597Z"
   },
   {
    "duration": 233,
    "start_time": "2023-01-20T14:15:33.889Z"
   },
   {
    "duration": 229,
    "start_time": "2023-01-20T14:17:00.329Z"
   },
   {
    "duration": 239,
    "start_time": "2023-01-20T14:17:14.420Z"
   },
   {
    "duration": 118,
    "start_time": "2023-01-20T14:23:21.085Z"
   },
   {
    "duration": 2930,
    "start_time": "2023-01-20T14:23:32.748Z"
   },
   {
    "duration": 110,
    "start_time": "2023-01-20T14:23:50.015Z"
   },
   {
    "duration": 109,
    "start_time": "2023-01-20T14:24:20.026Z"
   },
   {
    "duration": 1038,
    "start_time": "2023-01-20T14:24:28.362Z"
   },
   {
    "duration": 118,
    "start_time": "2023-01-20T14:25:18.395Z"
   },
   {
    "duration": 102,
    "start_time": "2023-01-20T14:25:37.258Z"
   },
   {
    "duration": 116,
    "start_time": "2023-01-20T14:26:19.212Z"
   },
   {
    "duration": 98,
    "start_time": "2023-01-20T14:27:07.722Z"
   },
   {
    "duration": 432,
    "start_time": "2023-01-20T14:27:15.066Z"
   },
   {
    "duration": 98,
    "start_time": "2023-01-20T14:36:18.548Z"
   },
   {
    "duration": 107,
    "start_time": "2023-01-20T14:36:25.313Z"
   },
   {
    "duration": 95,
    "start_time": "2023-01-20T14:37:03.138Z"
   },
   {
    "duration": 98,
    "start_time": "2023-01-20T14:37:09.948Z"
   },
   {
    "duration": 89,
    "start_time": "2023-01-20T14:37:47.842Z"
   },
   {
    "duration": 110,
    "start_time": "2023-01-20T14:38:09.826Z"
   },
   {
    "duration": 312,
    "start_time": "2023-01-20T14:38:17.587Z"
   },
   {
    "duration": 98,
    "start_time": "2023-01-20T14:38:28.473Z"
   },
   {
    "duration": 119,
    "start_time": "2023-01-20T14:38:31.642Z"
   },
   {
    "duration": 430,
    "start_time": "2023-01-20T14:38:34.286Z"
   },
   {
    "duration": 1062,
    "start_time": "2023-01-20T14:38:49.331Z"
   },
   {
    "duration": 305,
    "start_time": "2023-01-20T14:39:14.807Z"
   },
   {
    "duration": 1217,
    "start_time": "2023-01-20T14:39:29.603Z"
   },
   {
    "duration": 113,
    "start_time": "2023-01-20T14:40:50.803Z"
   },
   {
    "duration": 293,
    "start_time": "2023-01-20T14:40:54.544Z"
   },
   {
    "duration": 112,
    "start_time": "2023-01-20T14:43:51.866Z"
   },
   {
    "duration": 119,
    "start_time": "2023-01-20T14:43:55.457Z"
   },
   {
    "duration": 99,
    "start_time": "2023-01-20T14:44:18.100Z"
   },
   {
    "duration": 426,
    "start_time": "2023-01-20T14:45:57.193Z"
   },
   {
    "duration": 96,
    "start_time": "2023-01-20T14:46:03.988Z"
   },
   {
    "duration": 426,
    "start_time": "2023-01-20T14:46:42.476Z"
   },
   {
    "duration": 419,
    "start_time": "2023-01-20T14:46:48.834Z"
   },
   {
    "duration": 48,
    "start_time": "2023-01-20T14:53:04.810Z"
   },
   {
    "duration": 77,
    "start_time": "2023-01-20T14:53:07.809Z"
   },
   {
    "duration": 52,
    "start_time": "2023-01-20T14:53:10.241Z"
   },
   {
    "duration": 127,
    "start_time": "2023-01-20T14:53:31.186Z"
   },
   {
    "duration": 126,
    "start_time": "2023-01-20T14:53:39.198Z"
   },
   {
    "duration": 35,
    "start_time": "2023-01-20T14:53:51.603Z"
   },
   {
    "duration": 100,
    "start_time": "2023-01-20T14:54:13.406Z"
   },
   {
    "duration": 125,
    "start_time": "2023-01-20T14:54:32.187Z"
   },
   {
    "duration": 54,
    "start_time": "2023-01-20T14:55:27.007Z"
   },
   {
    "duration": 121,
    "start_time": "2023-01-20T14:56:18.941Z"
   },
   {
    "duration": 117,
    "start_time": "2023-01-20T14:56:26.650Z"
   },
   {
    "duration": 352,
    "start_time": "2023-01-20T14:57:02.075Z"
   },
   {
    "duration": 675,
    "start_time": "2023-01-20T15:00:28.285Z"
   },
   {
    "duration": 4,
    "start_time": "2023-01-20T15:00:28.961Z"
   },
   {
    "duration": 8494,
    "start_time": "2023-01-20T15:00:28.966Z"
   },
   {
    "duration": 52,
    "start_time": "2023-01-20T15:00:37.462Z"
   },
   {
    "duration": 15,
    "start_time": "2023-01-20T15:00:37.516Z"
   },
   {
    "duration": 256,
    "start_time": "2023-01-20T15:00:37.533Z"
   },
   {
    "duration": 7,
    "start_time": "2023-01-20T15:00:37.791Z"
   },
   {
    "duration": 17,
    "start_time": "2023-01-20T15:00:37.800Z"
   },
   {
    "duration": 133,
    "start_time": "2023-01-20T15:00:37.819Z"
   },
   {
    "duration": 2,
    "start_time": "2023-01-20T15:00:37.955Z"
   },
   {
    "duration": 2189,
    "start_time": "2023-01-20T15:00:37.959Z"
   },
   {
    "duration": 2,
    "start_time": "2023-01-20T15:00:40.150Z"
   },
   {
    "duration": 1220,
    "start_time": "2023-01-20T15:00:40.154Z"
   },
   {
    "duration": 123,
    "start_time": "2023-01-20T15:00:41.376Z"
   },
   {
    "duration": 42,
    "start_time": "2023-01-20T15:00:41.500Z"
   },
   {
    "duration": 2,
    "start_time": "2023-01-20T15:00:41.544Z"
   },
   {
    "duration": 1150,
    "start_time": "2023-01-20T15:00:41.547Z"
   },
   {
    "duration": 1055,
    "start_time": "2023-01-20T15:00:42.699Z"
   },
   {
    "duration": 428,
    "start_time": "2023-01-20T15:00:43.755Z"
   },
   {
    "duration": 81,
    "start_time": "2023-01-20T15:00:44.185Z"
   },
   {
    "duration": 0,
    "start_time": "2023-01-20T15:00:44.268Z"
   },
   {
    "duration": 0,
    "start_time": "2023-01-20T15:00:44.269Z"
   },
   {
    "duration": 0,
    "start_time": "2023-01-20T15:00:44.270Z"
   },
   {
    "duration": 0,
    "start_time": "2023-01-20T15:00:44.271Z"
   },
   {
    "duration": 424,
    "start_time": "2023-01-20T15:03:09.024Z"
   },
   {
    "duration": 450,
    "start_time": "2023-01-20T15:03:20.620Z"
   },
   {
    "duration": 16,
    "start_time": "2023-01-20T15:03:22.772Z"
   },
   {
    "duration": 484,
    "start_time": "2023-01-20T15:03:39.708Z"
   },
   {
    "duration": 457,
    "start_time": "2023-01-20T15:03:41.691Z"
   },
   {
    "duration": 751,
    "start_time": "2023-01-20T15:04:03.632Z"
   },
   {
    "duration": 3,
    "start_time": "2023-01-20T15:04:04.385Z"
   },
   {
    "duration": 8451,
    "start_time": "2023-01-20T15:04:04.390Z"
   },
   {
    "duration": 63,
    "start_time": "2023-01-20T15:04:12.844Z"
   },
   {
    "duration": 17,
    "start_time": "2023-01-20T15:04:12.909Z"
   },
   {
    "duration": 206,
    "start_time": "2023-01-20T15:04:12.928Z"
   },
   {
    "duration": 7,
    "start_time": "2023-01-20T15:04:13.136Z"
   },
   {
    "duration": 7,
    "start_time": "2023-01-20T15:04:13.145Z"
   },
   {
    "duration": 107,
    "start_time": "2023-01-20T15:04:13.154Z"
   },
   {
    "duration": 3,
    "start_time": "2023-01-20T15:04:13.263Z"
   },
   {
    "duration": 1313,
    "start_time": "2023-01-20T15:04:13.268Z"
   },
   {
    "duration": 3,
    "start_time": "2023-01-20T15:04:14.583Z"
   },
   {
    "duration": 1215,
    "start_time": "2023-01-20T15:04:14.587Z"
   },
   {
    "duration": 126,
    "start_time": "2023-01-20T15:04:15.803Z"
   },
   {
    "duration": 38,
    "start_time": "2023-01-20T15:04:15.930Z"
   },
   {
    "duration": 2,
    "start_time": "2023-01-20T15:04:15.970Z"
   },
   {
    "duration": 1190,
    "start_time": "2023-01-20T15:04:15.974Z"
   },
   {
    "duration": 1086,
    "start_time": "2023-01-20T15:04:17.167Z"
   },
   {
    "duration": 92,
    "start_time": "2023-01-20T15:04:18.255Z"
   },
   {
    "duration": 0,
    "start_time": "2023-01-20T15:04:18.349Z"
   },
   {
    "duration": 0,
    "start_time": "2023-01-20T15:04:18.351Z"
   },
   {
    "duration": 0,
    "start_time": "2023-01-20T15:04:18.352Z"
   },
   {
    "duration": 0,
    "start_time": "2023-01-20T15:04:18.353Z"
   },
   {
    "duration": 218,
    "start_time": "2023-01-20T15:09:24.114Z"
   },
   {
    "duration": 230,
    "start_time": "2023-01-20T15:09:26.670Z"
   },
   {
    "duration": 106,
    "start_time": "2023-01-20T15:09:39.476Z"
   },
   {
    "duration": 129,
    "start_time": "2023-01-20T15:10:15.154Z"
   },
   {
    "duration": 102,
    "start_time": "2023-01-20T15:10:21.878Z"
   },
   {
    "duration": 93,
    "start_time": "2023-01-20T15:10:41.069Z"
   },
   {
    "duration": 98,
    "start_time": "2023-01-20T15:11:13.671Z"
   },
   {
    "duration": 148,
    "start_time": "2023-01-20T15:11:23.255Z"
   },
   {
    "duration": 100,
    "start_time": "2023-01-20T15:12:17.053Z"
   },
   {
    "duration": 102,
    "start_time": "2023-01-20T15:12:22.871Z"
   },
   {
    "duration": 104,
    "start_time": "2023-01-20T15:12:37.811Z"
   },
   {
    "duration": 105,
    "start_time": "2023-01-20T15:13:18.789Z"
   },
   {
    "duration": 102,
    "start_time": "2023-01-20T15:13:27.141Z"
   },
   {
    "duration": 135,
    "start_time": "2023-01-20T15:13:34.645Z"
   },
   {
    "duration": 48,
    "start_time": "2023-01-20T15:19:28.438Z"
   },
   {
    "duration": 58,
    "start_time": "2023-01-20T15:20:16.312Z"
   },
   {
    "duration": 53,
    "start_time": "2023-01-20T15:20:20.672Z"
   },
   {
    "duration": 174,
    "start_time": "2023-01-20T15:21:53.373Z"
   },
   {
    "duration": 133,
    "start_time": "2023-01-20T15:22:24.929Z"
   },
   {
    "duration": 736,
    "start_time": "2023-01-20T15:23:32.132Z"
   },
   {
    "duration": 4,
    "start_time": "2023-01-20T15:23:32.869Z"
   },
   {
    "duration": 8660,
    "start_time": "2023-01-20T15:23:32.875Z"
   },
   {
    "duration": 37,
    "start_time": "2023-01-20T15:23:41.538Z"
   },
   {
    "duration": 15,
    "start_time": "2023-01-20T15:23:41.576Z"
   },
   {
    "duration": 662,
    "start_time": "2023-01-20T15:23:41.593Z"
   },
   {
    "duration": 7,
    "start_time": "2023-01-20T15:23:42.257Z"
   },
   {
    "duration": 24,
    "start_time": "2023-01-20T15:23:42.265Z"
   },
   {
    "duration": 112,
    "start_time": "2023-01-20T15:23:42.291Z"
   },
   {
    "duration": 2,
    "start_time": "2023-01-20T15:23:42.407Z"
   },
   {
    "duration": 2243,
    "start_time": "2023-01-20T15:23:42.410Z"
   },
   {
    "duration": 3,
    "start_time": "2023-01-20T15:23:44.655Z"
   },
   {
    "duration": 1192,
    "start_time": "2023-01-20T15:23:44.659Z"
   },
   {
    "duration": 119,
    "start_time": "2023-01-20T15:23:45.853Z"
   },
   {
    "duration": 38,
    "start_time": "2023-01-20T15:23:45.973Z"
   },
   {
    "duration": 3,
    "start_time": "2023-01-20T15:23:46.013Z"
   },
   {
    "duration": 1190,
    "start_time": "2023-01-20T15:23:46.017Z"
   },
   {
    "duration": 1040,
    "start_time": "2023-01-20T15:23:47.209Z"
   },
   {
    "duration": 86,
    "start_time": "2023-01-20T15:23:48.250Z"
   },
   {
    "duration": 0,
    "start_time": "2023-01-20T15:23:48.338Z"
   },
   {
    "duration": 0,
    "start_time": "2023-01-20T15:23:48.340Z"
   },
   {
    "duration": 0,
    "start_time": "2023-01-20T15:23:48.341Z"
   },
   {
    "duration": 0,
    "start_time": "2023-01-20T15:23:48.342Z"
   },
   {
    "duration": 82,
    "start_time": "2023-01-20T15:36:49.083Z"
   },
   {
    "duration": 1262,
    "start_time": "2023-01-20T15:36:54.282Z"
   },
   {
    "duration": 8,
    "start_time": "2023-01-20T15:36:55.555Z"
   },
   {
    "duration": 8266,
    "start_time": "2023-01-20T15:36:55.565Z"
   },
   {
    "duration": 96,
    "start_time": "2023-01-20T15:37:03.834Z"
   },
   {
    "duration": 21,
    "start_time": "2023-01-20T15:37:03.932Z"
   },
   {
    "duration": 207,
    "start_time": "2023-01-20T15:37:03.955Z"
   },
   {
    "duration": 9,
    "start_time": "2023-01-20T15:37:04.165Z"
   },
   {
    "duration": 7,
    "start_time": "2023-01-20T15:37:04.177Z"
   },
   {
    "duration": 74,
    "start_time": "2023-01-20T15:37:04.187Z"
   },
   {
    "duration": 66,
    "start_time": "2023-01-20T15:37:09.221Z"
   },
   {
    "duration": 68,
    "start_time": "2023-01-20T15:37:16.735Z"
   },
   {
    "duration": 67,
    "start_time": "2023-01-20T15:37:26.288Z"
   },
   {
    "duration": 59,
    "start_time": "2023-01-20T15:37:34.959Z"
   },
   {
    "duration": 570,
    "start_time": "2023-01-20T15:37:45.500Z"
   },
   {
    "duration": 4,
    "start_time": "2023-01-21T14:29:50.190Z"
   },
   {
    "duration": 876,
    "start_time": "2023-01-21T14:29:55.344Z"
   },
   {
    "duration": 3,
    "start_time": "2023-01-21T14:29:56.222Z"
   },
   {
    "duration": 9351,
    "start_time": "2023-01-21T14:29:56.227Z"
   },
   {
    "duration": 242,
    "start_time": "2023-01-21T14:30:05.580Z"
   },
   {
    "duration": 14,
    "start_time": "2023-01-21T14:30:05.823Z"
   },
   {
    "duration": 240,
    "start_time": "2023-01-21T14:30:05.838Z"
   },
   {
    "duration": 7,
    "start_time": "2023-01-21T14:30:06.080Z"
   },
   {
    "duration": 6,
    "start_time": "2023-01-21T14:30:06.088Z"
   },
   {
    "duration": 140,
    "start_time": "2023-01-21T14:30:06.096Z"
   },
   {
    "duration": 3,
    "start_time": "2023-01-21T14:30:06.238Z"
   },
   {
    "duration": 2191,
    "start_time": "2023-01-21T14:30:06.242Z"
   },
   {
    "duration": 2,
    "start_time": "2023-01-21T14:30:08.435Z"
   },
   {
    "duration": 1197,
    "start_time": "2023-01-21T14:30:08.438Z"
   },
   {
    "duration": 153,
    "start_time": "2023-01-21T14:30:09.637Z"
   },
   {
    "duration": 70,
    "start_time": "2023-01-21T14:30:09.791Z"
   },
   {
    "duration": 2,
    "start_time": "2023-01-21T14:30:09.864Z"
   },
   {
    "duration": 1116,
    "start_time": "2023-01-21T14:30:09.868Z"
   },
   {
    "duration": 1099,
    "start_time": "2023-01-21T14:30:10.985Z"
   },
   {
    "duration": 93,
    "start_time": "2023-01-21T14:30:12.086Z"
   },
   {
    "duration": 0,
    "start_time": "2023-01-21T14:30:12.180Z"
   },
   {
    "duration": 0,
    "start_time": "2023-01-21T14:30:12.181Z"
   },
   {
    "duration": 0,
    "start_time": "2023-01-21T14:30:12.182Z"
   },
   {
    "duration": 0,
    "start_time": "2023-01-21T14:30:12.183Z"
   },
   {
    "duration": 4,
    "start_time": "2023-01-21T14:40:07.760Z"
   },
   {
    "duration": 50,
    "start_time": "2023-01-26T17:10:28.238Z"
   },
   {
    "duration": 910,
    "start_time": "2023-01-26T17:10:32.367Z"
   },
   {
    "duration": 3,
    "start_time": "2023-01-26T17:10:33.279Z"
   },
   {
    "duration": 7168,
    "start_time": "2023-01-26T17:10:33.288Z"
   },
   {
    "duration": 77,
    "start_time": "2023-01-26T17:10:40.458Z"
   },
   {
    "duration": 15,
    "start_time": "2023-01-26T17:10:40.536Z"
   },
   {
    "duration": 206,
    "start_time": "2023-01-26T17:10:40.552Z"
   },
   {
    "duration": 8,
    "start_time": "2023-01-26T17:10:40.760Z"
   },
   {
    "duration": 5,
    "start_time": "2023-01-26T17:10:40.769Z"
   },
   {
    "duration": 179,
    "start_time": "2023-01-26T17:10:40.775Z"
   },
   {
    "duration": 3,
    "start_time": "2023-01-26T17:11:20.548Z"
   },
   {
    "duration": 63,
    "start_time": "2023-01-26T17:18:54.813Z"
   },
   {
    "duration": 54,
    "start_time": "2023-01-26T17:19:38.072Z"
   },
   {
    "duration": 265,
    "start_time": "2023-01-26T17:22:02.995Z"
   },
   {
    "duration": 153,
    "start_time": "2023-01-26T17:22:04.805Z"
   },
   {
    "duration": 2955,
    "start_time": "2023-01-26T17:22:57.528Z"
   },
   {
    "duration": 117,
    "start_time": "2023-01-26T17:23:00.485Z"
   },
   {
    "duration": 223,
    "start_time": "2023-01-26T17:29:34.413Z"
   },
   {
    "duration": 158,
    "start_time": "2023-01-26T17:29:37.848Z"
   },
   {
    "duration": 149,
    "start_time": "2023-01-26T18:18:11.682Z"
   },
   {
    "duration": 138,
    "start_time": "2023-01-26T18:18:49.801Z"
   },
   {
    "duration": 193,
    "start_time": "2023-01-26T18:18:55.465Z"
   },
   {
    "duration": 168,
    "start_time": "2023-01-26T18:19:01.616Z"
   },
   {
    "duration": 141,
    "start_time": "2023-01-26T18:21:33.972Z"
   },
   {
    "duration": 397,
    "start_time": "2023-01-26T18:22:15.358Z"
   },
   {
    "duration": 305,
    "start_time": "2023-01-26T18:22:25.468Z"
   },
   {
    "duration": 8,
    "start_time": "2023-01-26T18:23:11.677Z"
   },
   {
    "duration": 114,
    "start_time": "2023-01-26T18:23:20.068Z"
   },
   {
    "duration": 127,
    "start_time": "2023-01-26T18:23:29.919Z"
   },
   {
    "duration": 139,
    "start_time": "2023-01-26T18:23:42.345Z"
   },
   {
    "duration": 190,
    "start_time": "2023-01-26T18:24:03.064Z"
   },
   {
    "duration": 149,
    "start_time": "2023-01-26T18:25:29.316Z"
   },
   {
    "duration": 10,
    "start_time": "2023-01-26T18:27:07.384Z"
   },
   {
    "duration": 107,
    "start_time": "2023-01-26T18:27:17.228Z"
   },
   {
    "duration": 7,
    "start_time": "2023-01-26T18:27:38.249Z"
   },
   {
    "duration": 176,
    "start_time": "2023-01-26T18:27:40.808Z"
   },
   {
    "duration": 179,
    "start_time": "2023-01-26T18:28:03.877Z"
   },
   {
    "duration": 230,
    "start_time": "2023-01-26T18:28:11.173Z"
   },
   {
    "duration": 159,
    "start_time": "2023-01-26T18:28:42.434Z"
   },
   {
    "duration": 169,
    "start_time": "2023-01-26T18:29:01.940Z"
   },
   {
    "duration": 151,
    "start_time": "2023-01-26T18:29:33.009Z"
   },
   {
    "duration": 136,
    "start_time": "2023-01-26T18:29:56.367Z"
   },
   {
    "duration": 150,
    "start_time": "2023-01-26T18:31:45.678Z"
   },
   {
    "duration": 143,
    "start_time": "2023-01-26T18:31:47.878Z"
   },
   {
    "duration": 139,
    "start_time": "2023-01-26T18:32:23.452Z"
   },
   {
    "duration": 128,
    "start_time": "2023-01-26T18:32:30.606Z"
   },
   {
    "duration": 492,
    "start_time": "2023-01-26T18:35:30.235Z"
   },
   {
    "duration": 14,
    "start_time": "2023-01-26T18:35:36.033Z"
   },
   {
    "duration": 527,
    "start_time": "2023-01-26T18:35:54.655Z"
   },
   {
    "duration": 520,
    "start_time": "2023-01-26T18:36:01.866Z"
   },
   {
    "duration": 1397,
    "start_time": "2023-01-27T13:56:22.824Z"
   },
   {
    "duration": 5,
    "start_time": "2023-01-27T13:56:24.223Z"
   },
   {
    "duration": 8676,
    "start_time": "2023-01-27T13:56:24.229Z"
   },
   {
    "duration": 57,
    "start_time": "2023-01-27T13:56:32.907Z"
   },
   {
    "duration": 16,
    "start_time": "2023-01-27T13:56:32.966Z"
   },
   {
    "duration": 474,
    "start_time": "2023-01-27T13:56:32.984Z"
   },
   {
    "duration": 7,
    "start_time": "2023-01-27T13:56:33.460Z"
   },
   {
    "duration": 3,
    "start_time": "2023-01-27T13:56:33.469Z"
   },
   {
    "duration": 146,
    "start_time": "2023-01-27T13:56:33.473Z"
   },
   {
    "duration": 6,
    "start_time": "2023-01-27T13:56:33.621Z"
   },
   {
    "duration": 1233,
    "start_time": "2023-01-27T13:56:33.629Z"
   },
   {
    "duration": 3,
    "start_time": "2023-01-27T13:56:34.864Z"
   },
   {
    "duration": 1125,
    "start_time": "2023-01-27T13:56:34.868Z"
   },
   {
    "duration": 57,
    "start_time": "2023-01-27T13:56:35.995Z"
   },
   {
    "duration": 36,
    "start_time": "2023-01-27T13:56:36.053Z"
   },
   {
    "duration": 3,
    "start_time": "2023-01-27T13:56:36.090Z"
   },
   {
    "duration": 1246,
    "start_time": "2023-01-27T13:56:36.094Z"
   },
   {
    "duration": 494,
    "start_time": "2023-01-27T13:56:37.341Z"
   },
   {
    "duration": 486,
    "start_time": "2023-01-27T13:56:37.836Z"
   },
   {
    "duration": 4,
    "start_time": "2023-01-27T13:56:38.323Z"
   },
   {
    "duration": 225,
    "start_time": "2023-01-27T13:56:38.329Z"
   },
   {
    "duration": 127,
    "start_time": "2023-01-27T13:56:38.556Z"
   },
   {
    "duration": 242,
    "start_time": "2023-01-27T13:56:38.685Z"
   },
   {
    "duration": 1269,
    "start_time": "2023-01-27T14:05:37.488Z"
   },
   {
    "duration": 4,
    "start_time": "2023-01-27T14:05:38.759Z"
   },
   {
    "duration": 9918,
    "start_time": "2023-01-27T14:05:38.764Z"
   },
   {
    "duration": 59,
    "start_time": "2023-01-27T14:05:48.684Z"
   },
   {
    "duration": 13,
    "start_time": "2023-01-27T14:05:48.746Z"
   },
   {
    "duration": 217,
    "start_time": "2023-01-27T14:05:48.761Z"
   },
   {
    "duration": 7,
    "start_time": "2023-01-27T14:05:48.980Z"
   },
   {
    "duration": 6,
    "start_time": "2023-01-27T14:05:48.988Z"
   },
   {
    "duration": 156,
    "start_time": "2023-01-27T14:05:48.995Z"
   },
   {
    "duration": 2,
    "start_time": "2023-01-27T14:05:49.152Z"
   },
   {
    "duration": 4329,
    "start_time": "2023-01-27T14:05:49.156Z"
   },
   {
    "duration": 3,
    "start_time": "2023-01-27T14:05:53.486Z"
   },
   {
    "duration": 1243,
    "start_time": "2023-01-27T14:05:53.490Z"
   },
   {
    "duration": 56,
    "start_time": "2023-01-27T14:05:54.736Z"
   },
   {
    "duration": 51,
    "start_time": "2023-01-27T14:05:54.794Z"
   },
   {
    "duration": 3,
    "start_time": "2023-01-27T14:05:54.846Z"
   },
   {
    "duration": 1213,
    "start_time": "2023-01-27T14:05:54.851Z"
   },
   {
    "duration": 492,
    "start_time": "2023-01-27T14:05:56.066Z"
   },
   {
    "duration": 547,
    "start_time": "2023-01-27T14:05:56.561Z"
   },
   {
    "duration": 17,
    "start_time": "2023-01-27T14:05:57.124Z"
   },
   {
    "duration": 1451,
    "start_time": "2023-01-27T14:05:57.143Z"
   },
   {
    "duration": 161,
    "start_time": "2023-01-27T14:05:58.595Z"
   },
   {
    "duration": 257,
    "start_time": "2023-01-27T14:05:58.758Z"
   },
   {
    "duration": 244,
    "start_time": "2023-01-27T14:10:15.641Z"
   },
   {
    "duration": 268,
    "start_time": "2023-01-27T14:10:16.575Z"
   },
   {
    "duration": 266,
    "start_time": "2023-01-27T14:10:17.369Z"
   },
   {
    "duration": 280,
    "start_time": "2023-01-27T14:10:19.266Z"
   },
   {
    "duration": 1341,
    "start_time": "2023-01-27T14:12:51.100Z"
   },
   {
    "duration": 6,
    "start_time": "2023-01-27T14:12:52.443Z"
   },
   {
    "duration": 10518,
    "start_time": "2023-01-27T14:12:52.451Z"
   },
   {
    "duration": 110,
    "start_time": "2023-01-27T14:13:02.972Z"
   },
   {
    "duration": 18,
    "start_time": "2023-01-27T14:13:03.085Z"
   },
   {
    "duration": 197,
    "start_time": "2023-01-27T14:13:03.105Z"
   },
   {
    "duration": 27,
    "start_time": "2023-01-27T14:13:03.304Z"
   },
   {
    "duration": 32,
    "start_time": "2023-01-27T14:13:03.332Z"
   },
   {
    "duration": 140,
    "start_time": "2023-01-27T14:13:03.366Z"
   },
   {
    "duration": 17,
    "start_time": "2023-01-27T14:13:03.508Z"
   },
   {
    "duration": 1258,
    "start_time": "2023-01-27T14:13:03.526Z"
   },
   {
    "duration": 3,
    "start_time": "2023-01-27T14:13:04.786Z"
   },
   {
    "duration": 1261,
    "start_time": "2023-01-27T14:13:04.790Z"
   },
   {
    "duration": 86,
    "start_time": "2023-01-27T14:13:06.053Z"
   },
   {
    "duration": 40,
    "start_time": "2023-01-27T14:13:06.140Z"
   },
   {
    "duration": 2,
    "start_time": "2023-01-27T14:13:06.181Z"
   },
   {
    "duration": 1313,
    "start_time": "2023-01-27T14:13:06.185Z"
   },
   {
    "duration": 506,
    "start_time": "2023-01-27T14:13:07.500Z"
   },
   {
    "duration": 483,
    "start_time": "2023-01-27T14:13:08.008Z"
   },
   {
    "duration": 3,
    "start_time": "2023-01-27T14:13:08.493Z"
   },
   {
    "duration": 251,
    "start_time": "2023-01-27T14:13:08.497Z"
   },
   {
    "duration": 142,
    "start_time": "2023-01-27T14:13:08.749Z"
   },
   {
    "duration": 262,
    "start_time": "2023-01-27T14:13:08.893Z"
   }
  ],
  "colab": {
   "name": "AdvansedSQLProjectTemplate.ipynb",
   "provenance": []
  },
  "kernelspec": {
   "display_name": "Python 3 (ipykernel)",
   "language": "python",
   "name": "python3"
  },
  "language_info": {
   "codemirror_mode": {
    "name": "ipython",
    "version": 3
   },
   "file_extension": ".py",
   "mimetype": "text/x-python",
   "name": "python",
   "nbconvert_exporter": "python",
   "pygments_lexer": "ipython3",
   "version": "3.9.7"
  },
  "toc": {
   "base_numbering": 1,
   "nav_menu": {},
   "number_sections": true,
   "sideBar": true,
   "skip_h1_title": true,
   "title_cell": "Table of Contents",
   "title_sidebar": "Contents",
   "toc_cell": false,
   "toc_position": {},
   "toc_section_display": true,
   "toc_window_display": false
  }
 },
 "nbformat": 4,
 "nbformat_minor": 1
}
