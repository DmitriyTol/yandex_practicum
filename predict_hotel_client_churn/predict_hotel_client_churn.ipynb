{
 "cells": [
  {
   "cell_type": "markdown",
   "metadata": {},
   "source": [
    "# Прогнозирование оттока клиентов в сети отелей «Как в гостях»"
   ]
  },
  {
   "cell_type": "markdown",
   "metadata": {},
   "source": [
    "Заказчик этого исследования — сеть отелей «Как в гостях».\n",
    "Чтобы привлечь клиентов, эта сеть отелей добавила на свой сайт возможность забронировать номер без предоплаты. Однако если клиент отменял бронирование, то компания терпела убытки. Сотрудники отеля могли, например, закупить продукты к приезду гостя или просто не успеть найти другого клиента.\n",
    "Чтобы решить эту проблему, вам нужно разработать систему, которая предсказывает отказ от брони. Если модель покажет, что бронь будет отменена, то клиенту предлагается внести депозит. Размер депозита — 80% от стоимости номера за одни сутки и затрат на разовую уборку. Деньги будут списаны со счёта клиента, если он всё же отменит бронь."
   ]
  },
  {
   "cell_type": "markdown",
   "metadata": {},
   "source": [
    "В таблицах hotel_train и hotel_test содержатся одинаковые столбцы:\n",
    "- id — номер записи;\n",
    "- adults — количество взрослых постояльцев;\n",
    "- arrival_date_year — год заезда;\n",
    "- arrival_date_month — месяц заезда;\n",
    "- arrival_date_week_number — неделя заезда;\n",
    "- arrival_date_day_of_month — день заезда;\n",
    "- babies — количество младенцев;\n",
    "- booking_changes — количество изменений параметров заказа;\n",
    "- children — количество детей от 3 до 14 лет;\n",
    "- country — гражданство постояльца;\n",
    "- customer_type — тип заказчика:\n",
    "- Contract — договор с юридическим лицом;\n",
    "- Group — групповой заезд;\n",
    "- Transient — не связано с договором или групповым заездом;\n",
    "- Transient-party — не связано с договором или групповым заездом, но связано с бронированием типа Transient.\n",
    "- days_in_waiting_list — сколько дней заказ ожидал подтверждения;\n",
    "- distribution_channel — канал дистрибуции заказа;\n",
    "- is_canceled — отмена заказа;\n",
    "- is_repeated_guest — признак того, что гость бронирует номер второй раз;\n",
    "- lead_time — количество дней между датой бронирования и датой прибытия;\n",
    "- meal — опции заказа:\n",
    "- SC — нет дополнительных опций;\n",
    "- BB — включён завтрак;\n",
    "- HB — включён завтрак и обед;\n",
    "- FB — включён завтрак, обед и ужин.\n",
    "- previous_bookings_not_canceled — количество подтверждённых заказов у клиента;\n",
    "- previous_cancellations — количество отменённых заказов у клиента;\n",
    "- required_car_parking_spaces — необходимость места для автомобиля;\n",
    "- reserved_room_type — тип забронированной комнаты;\n",
    "- stays_in_weekend_nights — количество ночей в выходные дни;\n",
    "- stays_in_week_nights — количество ночей в будние дни;\n",
    "- total_nights — общее количество ночей;\n",
    "- total_of_special_requests — количество специальных отметок."
   ]
  },
  {
   "cell_type": "markdown",
   "metadata": {},
   "source": [
    "### Шаг 1. Откройте файлы с данными"
   ]
  },
  {
   "cell_type": "code",
   "execution_count": 1,
   "metadata": {},
   "outputs": [],
   "source": [
    "import itertools\n",
    "import matplotlib.pyplot as plt\n",
    "import numpy as np\n",
    "import pandas as pd\n",
    "from numpy.random import RandomState\n",
    "from scipy import stats as st \n",
    "from sklearn.metrics import f1_score\n",
    "import seaborn as sns\n",
    "\n",
    "from sklearn.linear_model import LogisticRegression\n",
    "from sklearn.ensemble import RandomForestClassifier\n",
    "from sklearn.tree import DecisionTreeClassifier\n",
    "\n",
    "from sklearn.metrics import mean_squared_error\n",
    "from sklearn.model_selection import train_test_split\n",
    "from sklearn.preprocessing import StandardScaler\n",
    "import seaborn as sns\n",
    "%matplotlib inline\n",
    "\n",
    "from sklearn.model_selection import GridSearchCV\n",
    "\n",
    "from sklearn.preprocessing import OneHotEncoder\n",
    "\n",
    "random = 12345\n",
    "state = RandomState(random) "
   ]
  },
  {
   "cell_type": "code",
   "execution_count": 2,
   "metadata": {},
   "outputs": [],
   "source": [
    "price_list = {'A':[1000,400], 'B':[800,350], 'C':[600,350], 'D':[550,150],\n",
    "              'E':[500,150], 'F':[450,150], 'G':[350,150]}\n",
    "OFF_SEASON = 1.2\n",
    "SUMMER = 1.4\n",
    "BUDGET = 400_000"
   ]
  },
  {
   "cell_type": "markdown",
   "metadata": {},
   "source": [
    "Создадим список, который будет выполнять функцию прайс-листа."
   ]
  },
  {
   "cell_type": "code",
   "execution_count": 3,
   "metadata": {},
   "outputs": [],
   "source": [
    "def display_frames(frames):\n",
    "    for frame in frames:        \n",
    "        display(frame)\n",
    "        print()"
   ]
  },
  {
   "cell_type": "code",
   "execution_count": 4,
   "metadata": {},
   "outputs": [],
   "source": [
    "df = pd.read_csv('/datasets/hotel_train.csv')\n",
    "df_test = pd.read_csv('/datasets/hotel_test.csv')"
   ]
  },
  {
   "cell_type": "code",
   "execution_count": 5,
   "metadata": {},
   "outputs": [
    {
     "name": "stdout",
     "output_type": "stream",
     "text": [
      "<class 'pandas.core.frame.DataFrame'>\n",
      "RangeIndex: 65229 entries, 0 to 65228\n",
      "Data columns (total 25 columns):\n",
      " #   Column                          Non-Null Count  Dtype  \n",
      "---  ------                          --------------  -----  \n",
      " 0   id                              65229 non-null  int64  \n",
      " 1   is_canceled                     65229 non-null  int64  \n",
      " 2   lead_time                       65229 non-null  float64\n",
      " 3   arrival_date_year               65229 non-null  int64  \n",
      " 4   arrival_date_month              65229 non-null  object \n",
      " 5   arrival_date_week_number        65229 non-null  int64  \n",
      " 6   arrival_date_day_of_month       65229 non-null  int64  \n",
      " 7   stays_in_weekend_nights         65229 non-null  int64  \n",
      " 8   stays_in_week_nights            65229 non-null  int64  \n",
      " 9   adults                          65229 non-null  float64\n",
      " 10  children                        65229 non-null  float64\n",
      " 11  babies                          65229 non-null  float64\n",
      " 12  meal                            65229 non-null  object \n",
      " 13  country                         65229 non-null  object \n",
      " 14  distribution_channel            65229 non-null  object \n",
      " 15  is_repeated_guest               65229 non-null  int64  \n",
      " 16  previous_cancellations          65229 non-null  int64  \n",
      " 17  previous_bookings_not_canceled  65229 non-null  int64  \n",
      " 18  reserved_room_type              65229 non-null  object \n",
      " 19  booking_changes                 65229 non-null  int64  \n",
      " 20  days_in_waiting_list            65229 non-null  int64  \n",
      " 21  customer_type                   65229 non-null  object \n",
      " 22  required_car_parking_spaces     65229 non-null  int64  \n",
      " 23  total_of_special_requests       65229 non-null  int64  \n",
      " 24  total_nights                    65229 non-null  int64  \n",
      "dtypes: float64(4), int64(15), object(6)\n",
      "memory usage: 12.4+ MB\n",
      "<class 'pandas.core.frame.DataFrame'>\n",
      "RangeIndex: 32412 entries, 0 to 32411\n",
      "Data columns (total 25 columns):\n",
      " #   Column                          Non-Null Count  Dtype  \n",
      "---  ------                          --------------  -----  \n",
      " 0   id                              32412 non-null  int64  \n",
      " 1   is_canceled                     32412 non-null  int64  \n",
      " 2   lead_time                       32412 non-null  float64\n",
      " 3   arrival_date_year               32412 non-null  int64  \n",
      " 4   arrival_date_month              32412 non-null  object \n",
      " 5   arrival_date_week_number        32412 non-null  int64  \n",
      " 6   arrival_date_day_of_month       32412 non-null  int64  \n",
      " 7   stays_in_weekend_nights         32412 non-null  int64  \n",
      " 8   stays_in_week_nights            32412 non-null  int64  \n",
      " 9   adults                          32412 non-null  float64\n",
      " 10  children                        32412 non-null  float64\n",
      " 11  babies                          32412 non-null  float64\n",
      " 12  meal                            32412 non-null  object \n",
      " 13  country                         32412 non-null  object \n",
      " 14  distribution_channel            32412 non-null  object \n",
      " 15  is_repeated_guest               32412 non-null  int64  \n",
      " 16  previous_cancellations          32412 non-null  int64  \n",
      " 17  previous_bookings_not_canceled  32412 non-null  int64  \n",
      " 18  reserved_room_type              32412 non-null  object \n",
      " 19  booking_changes                 32412 non-null  int64  \n",
      " 20  days_in_waiting_list            32412 non-null  int64  \n",
      " 21  customer_type                   32412 non-null  object \n",
      " 22  required_car_parking_spaces     32412 non-null  int64  \n",
      " 23  total_of_special_requests       32412 non-null  int64  \n",
      " 24  total_nights                    32412 non-null  int64  \n",
      "dtypes: float64(4), int64(15), object(6)\n",
      "memory usage: 6.2+ MB\n"
     ]
    }
   ],
   "source": [
    "df.info()\n",
    "df_test.info()"
   ]
  },
  {
   "cell_type": "markdown",
   "metadata": {},
   "source": [
    "Видим, что пропусков нет, есть столбцы с типом `object`, которые надо будет привезти к численному типу"
   ]
  },
  {
   "cell_type": "markdown",
   "metadata": {},
   "source": [
    "### Шаг 2. Предобработка и исследовательский анализ данных"
   ]
  },
  {
   "cell_type": "code",
   "execution_count": 6,
   "metadata": {},
   "outputs": [
    {
     "name": "stdout",
     "output_type": "stream",
     "text": [
      "Количество дубликатов в первой таблице:  0\n",
      "Количество дубликатов в первой таблице:  0\n"
     ]
    }
   ],
   "source": [
    "print('Количество дубликатов в первой таблице: ', df.duplicated().sum())\n",
    "print('Количество дубликатов в первой таблице: ', df_test.duplicated().sum())"
   ]
  },
  {
   "cell_type": "code",
   "execution_count": 7,
   "metadata": {
    "scrolled": true
   },
   "outputs": [
    {
     "data": {
      "text/html": [
       "<div>\n",
       "<style scoped>\n",
       "    .dataframe tbody tr th:only-of-type {\n",
       "        vertical-align: middle;\n",
       "    }\n",
       "\n",
       "    .dataframe tbody tr th {\n",
       "        vertical-align: top;\n",
       "    }\n",
       "\n",
       "    .dataframe thead th {\n",
       "        text-align: right;\n",
       "    }\n",
       "</style>\n",
       "<table border=\"1\" class=\"dataframe\">\n",
       "  <thead>\n",
       "    <tr style=\"text-align: right;\">\n",
       "      <th></th>\n",
       "      <th>id</th>\n",
       "      <th>is_canceled</th>\n",
       "      <th>lead_time</th>\n",
       "      <th>arrival_date_year</th>\n",
       "      <th>arrival_date_week_number</th>\n",
       "      <th>arrival_date_day_of_month</th>\n",
       "      <th>stays_in_weekend_nights</th>\n",
       "      <th>stays_in_week_nights</th>\n",
       "      <th>adults</th>\n",
       "      <th>children</th>\n",
       "      <th>babies</th>\n",
       "      <th>is_repeated_guest</th>\n",
       "      <th>previous_cancellations</th>\n",
       "      <th>previous_bookings_not_canceled</th>\n",
       "      <th>booking_changes</th>\n",
       "      <th>days_in_waiting_list</th>\n",
       "      <th>required_car_parking_spaces</th>\n",
       "      <th>total_of_special_requests</th>\n",
       "      <th>total_nights</th>\n",
       "    </tr>\n",
       "  </thead>\n",
       "  <tbody>\n",
       "    <tr>\n",
       "      <th>count</th>\n",
       "      <td>65229.000000</td>\n",
       "      <td>65229.000000</td>\n",
       "      <td>65229.000000</td>\n",
       "      <td>65229.000000</td>\n",
       "      <td>65229.000000</td>\n",
       "      <td>65229.000000</td>\n",
       "      <td>65229.000000</td>\n",
       "      <td>65229.000000</td>\n",
       "      <td>65229.000000</td>\n",
       "      <td>65229.000000</td>\n",
       "      <td>65229.000000</td>\n",
       "      <td>65229.000000</td>\n",
       "      <td>65229.000000</td>\n",
       "      <td>65229.000000</td>\n",
       "      <td>65229.000000</td>\n",
       "      <td>65229.000000</td>\n",
       "      <td>65229.000000</td>\n",
       "      <td>65229.000000</td>\n",
       "      <td>65229.000000</td>\n",
       "    </tr>\n",
       "    <tr>\n",
       "      <th>mean</th>\n",
       "      <td>43544.069172</td>\n",
       "      <td>0.368609</td>\n",
       "      <td>96.337917</td>\n",
       "      <td>2015.719021</td>\n",
       "      <td>31.339772</td>\n",
       "      <td>15.847813</td>\n",
       "      <td>0.825185</td>\n",
       "      <td>2.224793</td>\n",
       "      <td>1.836576</td>\n",
       "      <td>0.074890</td>\n",
       "      <td>0.007236</td>\n",
       "      <td>0.027151</td>\n",
       "      <td>0.128915</td>\n",
       "      <td>0.107713</td>\n",
       "      <td>0.194269</td>\n",
       "      <td>3.334422</td>\n",
       "      <td>0.056647</td>\n",
       "      <td>0.512763</td>\n",
       "      <td>3.049978</td>\n",
       "    </tr>\n",
       "    <tr>\n",
       "      <th>std</th>\n",
       "      <td>25614.858971</td>\n",
       "      <td>0.482431</td>\n",
       "      <td>96.127545</td>\n",
       "      <td>0.449481</td>\n",
       "      <td>13.464024</td>\n",
       "      <td>8.748182</td>\n",
       "      <td>0.853477</td>\n",
       "      <td>1.354992</td>\n",
       "      <td>0.480245</td>\n",
       "      <td>0.334243</td>\n",
       "      <td>0.098790</td>\n",
       "      <td>0.162523</td>\n",
       "      <td>0.965326</td>\n",
       "      <td>1.326638</td>\n",
       "      <td>0.593838</td>\n",
       "      <td>18.239606</td>\n",
       "      <td>0.232094</td>\n",
       "      <td>0.752590</td>\n",
       "      <td>1.738108</td>\n",
       "    </tr>\n",
       "    <tr>\n",
       "      <th>min</th>\n",
       "      <td>0.000000</td>\n",
       "      <td>0.000000</td>\n",
       "      <td>0.000000</td>\n",
       "      <td>2015.000000</td>\n",
       "      <td>1.000000</td>\n",
       "      <td>1.000000</td>\n",
       "      <td>0.000000</td>\n",
       "      <td>0.000000</td>\n",
       "      <td>0.000000</td>\n",
       "      <td>0.000000</td>\n",
       "      <td>0.000000</td>\n",
       "      <td>0.000000</td>\n",
       "      <td>0.000000</td>\n",
       "      <td>0.000000</td>\n",
       "      <td>0.000000</td>\n",
       "      <td>0.000000</td>\n",
       "      <td>0.000000</td>\n",
       "      <td>0.000000</td>\n",
       "      <td>1.000000</td>\n",
       "    </tr>\n",
       "    <tr>\n",
       "      <th>25%</th>\n",
       "      <td>19108.000000</td>\n",
       "      <td>0.000000</td>\n",
       "      <td>17.000000</td>\n",
       "      <td>2015.000000</td>\n",
       "      <td>21.000000</td>\n",
       "      <td>8.000000</td>\n",
       "      <td>0.000000</td>\n",
       "      <td>1.000000</td>\n",
       "      <td>2.000000</td>\n",
       "      <td>0.000000</td>\n",
       "      <td>0.000000</td>\n",
       "      <td>0.000000</td>\n",
       "      <td>0.000000</td>\n",
       "      <td>0.000000</td>\n",
       "      <td>0.000000</td>\n",
       "      <td>0.000000</td>\n",
       "      <td>0.000000</td>\n",
       "      <td>0.000000</td>\n",
       "      <td>2.000000</td>\n",
       "    </tr>\n",
       "    <tr>\n",
       "      <th>50%</th>\n",
       "      <td>40554.000000</td>\n",
       "      <td>0.000000</td>\n",
       "      <td>64.000000</td>\n",
       "      <td>2016.000000</td>\n",
       "      <td>34.000000</td>\n",
       "      <td>16.000000</td>\n",
       "      <td>1.000000</td>\n",
       "      <td>2.000000</td>\n",
       "      <td>2.000000</td>\n",
       "      <td>0.000000</td>\n",
       "      <td>0.000000</td>\n",
       "      <td>0.000000</td>\n",
       "      <td>0.000000</td>\n",
       "      <td>0.000000</td>\n",
       "      <td>0.000000</td>\n",
       "      <td>0.000000</td>\n",
       "      <td>0.000000</td>\n",
       "      <td>0.000000</td>\n",
       "      <td>3.000000</td>\n",
       "    </tr>\n",
       "    <tr>\n",
       "      <th>75%</th>\n",
       "      <td>67414.000000</td>\n",
       "      <td>1.000000</td>\n",
       "      <td>151.000000</td>\n",
       "      <td>2016.000000</td>\n",
       "      <td>42.000000</td>\n",
       "      <td>23.000000</td>\n",
       "      <td>2.000000</td>\n",
       "      <td>3.000000</td>\n",
       "      <td>2.000000</td>\n",
       "      <td>0.000000</td>\n",
       "      <td>0.000000</td>\n",
       "      <td>0.000000</td>\n",
       "      <td>0.000000</td>\n",
       "      <td>0.000000</td>\n",
       "      <td>0.000000</td>\n",
       "      <td>0.000000</td>\n",
       "      <td>0.000000</td>\n",
       "      <td>1.000000</td>\n",
       "      <td>4.000000</td>\n",
       "    </tr>\n",
       "    <tr>\n",
       "      <th>max</th>\n",
       "      <td>84121.000000</td>\n",
       "      <td>1.000000</td>\n",
       "      <td>374.000000</td>\n",
       "      <td>2016.000000</td>\n",
       "      <td>53.000000</td>\n",
       "      <td>31.000000</td>\n",
       "      <td>4.000000</td>\n",
       "      <td>6.000000</td>\n",
       "      <td>4.000000</td>\n",
       "      <td>3.000000</td>\n",
       "      <td>10.000000</td>\n",
       "      <td>1.000000</td>\n",
       "      <td>26.000000</td>\n",
       "      <td>58.000000</td>\n",
       "      <td>17.000000</td>\n",
       "      <td>259.000000</td>\n",
       "      <td>3.000000</td>\n",
       "      <td>5.000000</td>\n",
       "      <td>10.000000</td>\n",
       "    </tr>\n",
       "  </tbody>\n",
       "</table>\n",
       "</div>"
      ],
      "text/plain": [
       "                 id   is_canceled     lead_time  arrival_date_year  \\\n",
       "count  65229.000000  65229.000000  65229.000000       65229.000000   \n",
       "mean   43544.069172      0.368609     96.337917        2015.719021   \n",
       "std    25614.858971      0.482431     96.127545           0.449481   \n",
       "min        0.000000      0.000000      0.000000        2015.000000   \n",
       "25%    19108.000000      0.000000     17.000000        2015.000000   \n",
       "50%    40554.000000      0.000000     64.000000        2016.000000   \n",
       "75%    67414.000000      1.000000    151.000000        2016.000000   \n",
       "max    84121.000000      1.000000    374.000000        2016.000000   \n",
       "\n",
       "       arrival_date_week_number  arrival_date_day_of_month  \\\n",
       "count              65229.000000               65229.000000   \n",
       "mean                  31.339772                  15.847813   \n",
       "std                   13.464024                   8.748182   \n",
       "min                    1.000000                   1.000000   \n",
       "25%                   21.000000                   8.000000   \n",
       "50%                   34.000000                  16.000000   \n",
       "75%                   42.000000                  23.000000   \n",
       "max                   53.000000                  31.000000   \n",
       "\n",
       "       stays_in_weekend_nights  stays_in_week_nights        adults  \\\n",
       "count             65229.000000          65229.000000  65229.000000   \n",
       "mean                  0.825185              2.224793      1.836576   \n",
       "std                   0.853477              1.354992      0.480245   \n",
       "min                   0.000000              0.000000      0.000000   \n",
       "25%                   0.000000              1.000000      2.000000   \n",
       "50%                   1.000000              2.000000      2.000000   \n",
       "75%                   2.000000              3.000000      2.000000   \n",
       "max                   4.000000              6.000000      4.000000   \n",
       "\n",
       "           children        babies  is_repeated_guest  previous_cancellations  \\\n",
       "count  65229.000000  65229.000000       65229.000000            65229.000000   \n",
       "mean       0.074890      0.007236           0.027151                0.128915   \n",
       "std        0.334243      0.098790           0.162523                0.965326   \n",
       "min        0.000000      0.000000           0.000000                0.000000   \n",
       "25%        0.000000      0.000000           0.000000                0.000000   \n",
       "50%        0.000000      0.000000           0.000000                0.000000   \n",
       "75%        0.000000      0.000000           0.000000                0.000000   \n",
       "max        3.000000     10.000000           1.000000               26.000000   \n",
       "\n",
       "       previous_bookings_not_canceled  booking_changes  days_in_waiting_list  \\\n",
       "count                    65229.000000     65229.000000          65229.000000   \n",
       "mean                         0.107713         0.194269              3.334422   \n",
       "std                          1.326638         0.593838             18.239606   \n",
       "min                          0.000000         0.000000              0.000000   \n",
       "25%                          0.000000         0.000000              0.000000   \n",
       "50%                          0.000000         0.000000              0.000000   \n",
       "75%                          0.000000         0.000000              0.000000   \n",
       "max                         58.000000        17.000000            259.000000   \n",
       "\n",
       "       required_car_parking_spaces  total_of_special_requests  total_nights  \n",
       "count                 65229.000000               65229.000000  65229.000000  \n",
       "mean                      0.056647                   0.512763      3.049978  \n",
       "std                       0.232094                   0.752590      1.738108  \n",
       "min                       0.000000                   0.000000      1.000000  \n",
       "25%                       0.000000                   0.000000      2.000000  \n",
       "50%                       0.000000                   0.000000      3.000000  \n",
       "75%                       0.000000                   1.000000      4.000000  \n",
       "max                       3.000000                   5.000000     10.000000  "
      ]
     },
     "metadata": {},
     "output_type": "display_data"
    },
    {
     "name": "stdout",
     "output_type": "stream",
     "text": [
      "\n"
     ]
    },
    {
     "data": {
      "text/html": [
       "<div>\n",
       "<style scoped>\n",
       "    .dataframe tbody tr th:only-of-type {\n",
       "        vertical-align: middle;\n",
       "    }\n",
       "\n",
       "    .dataframe tbody tr th {\n",
       "        vertical-align: top;\n",
       "    }\n",
       "\n",
       "    .dataframe thead th {\n",
       "        text-align: right;\n",
       "    }\n",
       "</style>\n",
       "<table border=\"1\" class=\"dataframe\">\n",
       "  <thead>\n",
       "    <tr style=\"text-align: right;\">\n",
       "      <th></th>\n",
       "      <th>id</th>\n",
       "      <th>is_canceled</th>\n",
       "      <th>lead_time</th>\n",
       "      <th>arrival_date_year</th>\n",
       "      <th>arrival_date_week_number</th>\n",
       "      <th>arrival_date_day_of_month</th>\n",
       "      <th>stays_in_weekend_nights</th>\n",
       "      <th>stays_in_week_nights</th>\n",
       "      <th>adults</th>\n",
       "      <th>children</th>\n",
       "      <th>babies</th>\n",
       "      <th>is_repeated_guest</th>\n",
       "      <th>previous_cancellations</th>\n",
       "      <th>previous_bookings_not_canceled</th>\n",
       "      <th>booking_changes</th>\n",
       "      <th>days_in_waiting_list</th>\n",
       "      <th>required_car_parking_spaces</th>\n",
       "      <th>total_of_special_requests</th>\n",
       "      <th>total_nights</th>\n",
       "    </tr>\n",
       "  </thead>\n",
       "  <tbody>\n",
       "    <tr>\n",
       "      <th>count</th>\n",
       "      <td>32412.000000</td>\n",
       "      <td>32412.000000</td>\n",
       "      <td>32412.000000</td>\n",
       "      <td>32412.0</td>\n",
       "      <td>32412.000000</td>\n",
       "      <td>32412.000000</td>\n",
       "      <td>32412.000000</td>\n",
       "      <td>32412.00000</td>\n",
       "      <td>32412.000000</td>\n",
       "      <td>32412.000000</td>\n",
       "      <td>32412.000000</td>\n",
       "      <td>32412.000000</td>\n",
       "      <td>32412.000000</td>\n",
       "      <td>32412.000000</td>\n",
       "      <td>32412.000000</td>\n",
       "      <td>32412.000000</td>\n",
       "      <td>32412.000000</td>\n",
       "      <td>32412.000000</td>\n",
       "      <td>32412.000000</td>\n",
       "    </tr>\n",
       "    <tr>\n",
       "      <th>mean</th>\n",
       "      <td>60131.505183</td>\n",
       "      <td>0.388467</td>\n",
       "      <td>97.587869</td>\n",
       "      <td>2017.0</td>\n",
       "      <td>17.804054</td>\n",
       "      <td>15.656948</td>\n",
       "      <td>0.867888</td>\n",
       "      <td>2.34009</td>\n",
       "      <td>1.858602</td>\n",
       "      <td>0.083765</td>\n",
       "      <td>0.005523</td>\n",
       "      <td>0.031377</td>\n",
       "      <td>0.011601</td>\n",
       "      <td>0.171418</td>\n",
       "      <td>0.216741</td>\n",
       "      <td>0.262341</td>\n",
       "      <td>0.046248</td>\n",
       "      <td>0.657781</td>\n",
       "      <td>3.207979</td>\n",
       "    </tr>\n",
       "    <tr>\n",
       "      <th>std</th>\n",
       "      <td>29953.586177</td>\n",
       "      <td>0.487409</td>\n",
       "      <td>86.507146</td>\n",
       "      <td>0.0</td>\n",
       "      <td>9.177384</td>\n",
       "      <td>8.766429</td>\n",
       "      <td>0.853394</td>\n",
       "      <td>1.37517</td>\n",
       "      <td>0.489341</td>\n",
       "      <td>0.343470</td>\n",
       "      <td>0.075757</td>\n",
       "      <td>0.174338</td>\n",
       "      <td>0.180473</td>\n",
       "      <td>1.875170</td>\n",
       "      <td>0.640551</td>\n",
       "      <td>4.733027</td>\n",
       "      <td>0.219367</td>\n",
       "      <td>0.834341</td>\n",
       "      <td>1.738683</td>\n",
       "    </tr>\n",
       "    <tr>\n",
       "      <th>min</th>\n",
       "      <td>6086.000000</td>\n",
       "      <td>0.000000</td>\n",
       "      <td>0.000000</td>\n",
       "      <td>2017.0</td>\n",
       "      <td>1.000000</td>\n",
       "      <td>1.000000</td>\n",
       "      <td>0.000000</td>\n",
       "      <td>0.00000</td>\n",
       "      <td>0.000000</td>\n",
       "      <td>0.000000</td>\n",
       "      <td>0.000000</td>\n",
       "      <td>0.000000</td>\n",
       "      <td>0.000000</td>\n",
       "      <td>0.000000</td>\n",
       "      <td>0.000000</td>\n",
       "      <td>0.000000</td>\n",
       "      <td>0.000000</td>\n",
       "      <td>0.000000</td>\n",
       "      <td>1.000000</td>\n",
       "    </tr>\n",
       "    <tr>\n",
       "      <th>25%</th>\n",
       "      <td>45291.750000</td>\n",
       "      <td>0.000000</td>\n",
       "      <td>23.000000</td>\n",
       "      <td>2017.0</td>\n",
       "      <td>10.000000</td>\n",
       "      <td>8.000000</td>\n",
       "      <td>0.000000</td>\n",
       "      <td>1.00000</td>\n",
       "      <td>2.000000</td>\n",
       "      <td>0.000000</td>\n",
       "      <td>0.000000</td>\n",
       "      <td>0.000000</td>\n",
       "      <td>0.000000</td>\n",
       "      <td>0.000000</td>\n",
       "      <td>0.000000</td>\n",
       "      <td>0.000000</td>\n",
       "      <td>0.000000</td>\n",
       "      <td>0.000000</td>\n",
       "      <td>2.000000</td>\n",
       "    </tr>\n",
       "    <tr>\n",
       "      <th>50%</th>\n",
       "      <td>53394.500000</td>\n",
       "      <td>0.000000</td>\n",
       "      <td>76.000000</td>\n",
       "      <td>2017.0</td>\n",
       "      <td>18.000000</td>\n",
       "      <td>15.500000</td>\n",
       "      <td>1.000000</td>\n",
       "      <td>2.00000</td>\n",
       "      <td>2.000000</td>\n",
       "      <td>0.000000</td>\n",
       "      <td>0.000000</td>\n",
       "      <td>0.000000</td>\n",
       "      <td>0.000000</td>\n",
       "      <td>0.000000</td>\n",
       "      <td>0.000000</td>\n",
       "      <td>0.000000</td>\n",
       "      <td>0.000000</td>\n",
       "      <td>0.000000</td>\n",
       "      <td>3.000000</td>\n",
       "    </tr>\n",
       "    <tr>\n",
       "      <th>75%</th>\n",
       "      <td>89800.250000</td>\n",
       "      <td>1.000000</td>\n",
       "      <td>155.000000</td>\n",
       "      <td>2017.0</td>\n",
       "      <td>25.000000</td>\n",
       "      <td>23.000000</td>\n",
       "      <td>2.000000</td>\n",
       "      <td>3.00000</td>\n",
       "      <td>2.000000</td>\n",
       "      <td>0.000000</td>\n",
       "      <td>0.000000</td>\n",
       "      <td>0.000000</td>\n",
       "      <td>0.000000</td>\n",
       "      <td>0.000000</td>\n",
       "      <td>0.000000</td>\n",
       "      <td>0.000000</td>\n",
       "      <td>0.000000</td>\n",
       "      <td>1.000000</td>\n",
       "      <td>4.000000</td>\n",
       "    </tr>\n",
       "    <tr>\n",
       "      <th>max</th>\n",
       "      <td>97903.000000</td>\n",
       "      <td>1.000000</td>\n",
       "      <td>373.000000</td>\n",
       "      <td>2017.0</td>\n",
       "      <td>35.000000</td>\n",
       "      <td>31.000000</td>\n",
       "      <td>4.000000</td>\n",
       "      <td>6.00000</td>\n",
       "      <td>4.000000</td>\n",
       "      <td>3.000000</td>\n",
       "      <td>2.000000</td>\n",
       "      <td>1.000000</td>\n",
       "      <td>6.000000</td>\n",
       "      <td>72.000000</td>\n",
       "      <td>18.000000</td>\n",
       "      <td>223.000000</td>\n",
       "      <td>8.000000</td>\n",
       "      <td>5.000000</td>\n",
       "      <td>10.000000</td>\n",
       "    </tr>\n",
       "  </tbody>\n",
       "</table>\n",
       "</div>"
      ],
      "text/plain": [
       "                 id   is_canceled     lead_time  arrival_date_year  \\\n",
       "count  32412.000000  32412.000000  32412.000000            32412.0   \n",
       "mean   60131.505183      0.388467     97.587869             2017.0   \n",
       "std    29953.586177      0.487409     86.507146                0.0   \n",
       "min     6086.000000      0.000000      0.000000             2017.0   \n",
       "25%    45291.750000      0.000000     23.000000             2017.0   \n",
       "50%    53394.500000      0.000000     76.000000             2017.0   \n",
       "75%    89800.250000      1.000000    155.000000             2017.0   \n",
       "max    97903.000000      1.000000    373.000000             2017.0   \n",
       "\n",
       "       arrival_date_week_number  arrival_date_day_of_month  \\\n",
       "count              32412.000000               32412.000000   \n",
       "mean                  17.804054                  15.656948   \n",
       "std                    9.177384                   8.766429   \n",
       "min                    1.000000                   1.000000   \n",
       "25%                   10.000000                   8.000000   \n",
       "50%                   18.000000                  15.500000   \n",
       "75%                   25.000000                  23.000000   \n",
       "max                   35.000000                  31.000000   \n",
       "\n",
       "       stays_in_weekend_nights  stays_in_week_nights        adults  \\\n",
       "count             32412.000000           32412.00000  32412.000000   \n",
       "mean                  0.867888               2.34009      1.858602   \n",
       "std                   0.853394               1.37517      0.489341   \n",
       "min                   0.000000               0.00000      0.000000   \n",
       "25%                   0.000000               1.00000      2.000000   \n",
       "50%                   1.000000               2.00000      2.000000   \n",
       "75%                   2.000000               3.00000      2.000000   \n",
       "max                   4.000000               6.00000      4.000000   \n",
       "\n",
       "           children        babies  is_repeated_guest  previous_cancellations  \\\n",
       "count  32412.000000  32412.000000       32412.000000            32412.000000   \n",
       "mean       0.083765      0.005523           0.031377                0.011601   \n",
       "std        0.343470      0.075757           0.174338                0.180473   \n",
       "min        0.000000      0.000000           0.000000                0.000000   \n",
       "25%        0.000000      0.000000           0.000000                0.000000   \n",
       "50%        0.000000      0.000000           0.000000                0.000000   \n",
       "75%        0.000000      0.000000           0.000000                0.000000   \n",
       "max        3.000000      2.000000           1.000000                6.000000   \n",
       "\n",
       "       previous_bookings_not_canceled  booking_changes  days_in_waiting_list  \\\n",
       "count                    32412.000000     32412.000000          32412.000000   \n",
       "mean                         0.171418         0.216741              0.262341   \n",
       "std                          1.875170         0.640551              4.733027   \n",
       "min                          0.000000         0.000000              0.000000   \n",
       "25%                          0.000000         0.000000              0.000000   \n",
       "50%                          0.000000         0.000000              0.000000   \n",
       "75%                          0.000000         0.000000              0.000000   \n",
       "max                         72.000000        18.000000            223.000000   \n",
       "\n",
       "       required_car_parking_spaces  total_of_special_requests  total_nights  \n",
       "count                 32412.000000               32412.000000  32412.000000  \n",
       "mean                      0.046248                   0.657781      3.207979  \n",
       "std                       0.219367                   0.834341      1.738683  \n",
       "min                       0.000000                   0.000000      1.000000  \n",
       "25%                       0.000000                   0.000000      2.000000  \n",
       "50%                       0.000000                   0.000000      3.000000  \n",
       "75%                       0.000000                   1.000000      4.000000  \n",
       "max                       8.000000                   5.000000     10.000000  "
      ]
     },
     "metadata": {},
     "output_type": "display_data"
    },
    {
     "name": "stdout",
     "output_type": "stream",
     "text": [
      "\n"
     ]
    }
   ],
   "source": [
    "display_frames([df.describe(), df_test.describe()])"
   ]
  },
  {
   "cell_type": "code",
   "execution_count": 8,
   "metadata": {
    "scrolled": true
   },
   "outputs": [
    {
     "data": {
      "text/plain": [
       "2     16795\n",
       "3     15652\n",
       "1     12122\n",
       "4      9629\n",
       "5      4288\n",
       "7      3853\n",
       "6      2078\n",
       "8       542\n",
       "9       152\n",
       "10      118\n",
       "Name: total_nights, dtype: int64"
      ]
     },
     "execution_count": 8,
     "metadata": {},
     "output_type": "execute_result"
    }
   ],
   "source": [
    "df['total_nights'].value_counts()"
   ]
  },
  {
   "cell_type": "markdown",
   "metadata": {},
   "source": [
    "В данных отсутствуют явные выбросы."
   ]
  },
  {
   "cell_type": "code",
   "execution_count": 9,
   "metadata": {},
   "outputs": [
    {
     "data": {
      "text/plain": [
       "array(['A               ', 'C               ', 'D               ',\n",
       "       'E               ', 'G               ', 'F               ',\n",
       "       'B               '], dtype=object)"
      ]
     },
     "execution_count": 9,
     "metadata": {},
     "output_type": "execute_result"
    }
   ],
   "source": [
    "df['reserved_room_type'].unique()"
   ]
  },
  {
   "cell_type": "code",
   "execution_count": 10,
   "metadata": {},
   "outputs": [],
   "source": [
    "df['reserved_room_type'] = df['reserved_room_type'].str.strip()"
   ]
  },
  {
   "cell_type": "markdown",
   "metadata": {},
   "source": [
    "Исправили столбец с типом комнаты. Изучим остальные категоральные признаки."
   ]
  },
  {
   "cell_type": "code",
   "execution_count": 11,
   "metadata": {},
   "outputs": [
    {
     "data": {
      "text/plain": [
       "array(['July', 'August', 'September', 'October', 'November', 'December',\n",
       "       'January', 'February', 'March', 'April', 'May', 'June'],\n",
       "      dtype=object)"
      ]
     },
     "execution_count": 11,
     "metadata": {},
     "output_type": "execute_result"
    }
   ],
   "source": [
    "df['arrival_date_month'].unique()"
   ]
  },
  {
   "cell_type": "code",
   "execution_count": 12,
   "metadata": {},
   "outputs": [
    {
     "data": {
      "text/plain": [
       "array(['BB       ', 'FB       ', 'HB       ', 'SC       ', 'SC'],\n",
       "      dtype=object)"
      ]
     },
     "execution_count": 12,
     "metadata": {},
     "output_type": "execute_result"
    }
   ],
   "source": [
    "df['meal'].unique()"
   ]
  },
  {
   "cell_type": "code",
   "execution_count": 13,
   "metadata": {},
   "outputs": [],
   "source": [
    "df['meal'] = df['meal'].str.strip()"
   ]
  },
  {
   "cell_type": "code",
   "execution_count": 14,
   "metadata": {},
   "outputs": [
    {
     "data": {
      "text/plain": [
       "array(['GBR', 'PRT', 'ESP', 'IRL', 'FRA', 'ROU', 'NOR', 'USA', 'DEU',\n",
       "       'BEL', 'CHE', 'CN', 'GRC', 'NLD', 'ARG', 'RUS', 'SWE', 'POL',\n",
       "       'EST', 'CZE', 'ITA', 'FIN', 'DNK', 'MOZ', 'BWA', 'LUX', 'BRA',\n",
       "       'SVN', 'ALB', 'CHN', 'MEX', 'MAR', 'SMR', 'LVA', 'CHL', 'AUT',\n",
       "       'LTU', 'TUR', 'ISR', 'IND', 'CYM', 'AUS', 'CPV', 'ZWE', 'DZA',\n",
       "       'KOR', 'CRI', 'HUN', 'TUN', 'ARE', 'HRV', 'HKG', 'IRN', 'GIB',\n",
       "       'JEY', 'URY', 'ZAF', 'COL', 'GGY', 'KWT', 'CYP', 'KAZ', 'THA',\n",
       "       'DOM', 'NGA', 'BLR', 'VEN', 'UKR', 'ARM', 'JPN', 'LKA', 'MYS',\n",
       "       'BIH', 'MUS', 'OMN', 'SUR', 'JAM', 'BGR', 'CIV', 'SRB', 'JOR',\n",
       "       'SYR', 'PHL', 'PRI', 'SGP', 'BDI', 'LBN', 'AGO', 'VNM', 'AZE',\n",
       "       'PLW', 'NZL', 'EGY', 'MDV', 'CMR', 'MLT', 'SVK', 'MWI', 'STP',\n",
       "       'TWN', 'IDN', 'SEN', 'PER', 'SAU', 'KNA', 'ETH', 'ECU', 'IRQ',\n",
       "       'AND', 'HND', 'PAK', 'GEO', 'ZMB', 'QAT', 'KHM', 'MCO', 'BGD',\n",
       "       'ISL', 'UZB', 'IMN', 'TJK', 'NIC', 'BEN', 'MAC', 'VGB', 'TZA',\n",
       "       'GAB', 'MKD', 'TMP', 'GLP', 'KEN', 'LIE', 'MMR', 'PAN', 'BFA',\n",
       "       'LBY', 'GNB', 'MLI', 'BHR', 'NAM', 'BOL', 'SYC', 'PRY', 'BRB',\n",
       "       'ABW', 'SLV', 'DMA', 'CUB', 'PYF', 'UGA', 'GUY', 'LCA', 'ATA',\n",
       "       'RWA', 'MNE'], dtype=object)"
      ]
     },
     "execution_count": 14,
     "metadata": {},
     "output_type": "execute_result"
    }
   ],
   "source": [
    "df['country'].unique()"
   ]
  },
  {
   "cell_type": "code",
   "execution_count": 15,
   "metadata": {},
   "outputs": [
    {
     "data": {
      "text/plain": [
       "array(['Direct', 'TA/TO', 'Corporate', 'GDS'], dtype=object)"
      ]
     },
     "execution_count": 15,
     "metadata": {},
     "output_type": "execute_result"
    }
   ],
   "source": [
    "df['distribution_channel'].unique()"
   ]
  },
  {
   "cell_type": "code",
   "execution_count": 16,
   "metadata": {},
   "outputs": [
    {
     "data": {
      "text/plain": [
       "array(['Transient', 'Contract', 'Transient-Party', 'Group'], dtype=object)"
      ]
     },
     "execution_count": 16,
     "metadata": {},
     "output_type": "execute_result"
    }
   ],
   "source": [
    "df['customer_type'].unique()"
   ]
  },
  {
   "cell_type": "code",
   "execution_count": 17,
   "metadata": {},
   "outputs": [],
   "source": [
    "df = df.drop(['stays_in_week_nights','stays_in_weekend_nights'], axis=1)\n",
    "df_test = df_test.drop(['stays_in_week_nights','stays_in_weekend_nights'], axis=1)"
   ]
  },
  {
   "cell_type": "markdown",
   "metadata": {},
   "source": [
    "Мы разобрались с категоральными признаками, теперь исследуем численные признаки."
   ]
  },
  {
   "cell_type": "code",
   "execution_count": 18,
   "metadata": {
    "scrolled": true
   },
   "outputs": [
    {
     "data": {
      "text/plain": [
       "0.0     64777\n",
       "1.0       447\n",
       "2.0         3\n",
       "9.0         1\n",
       "10.0        1\n",
       "Name: babies, dtype: int64"
      ]
     },
     "metadata": {},
     "output_type": "display_data"
    },
    {
     "data": {
      "text/plain": [
       "0.0    32237\n",
       "1.0      171\n",
       "2.0        4\n",
       "Name: babies, dtype: int64"
      ]
     },
     "metadata": {},
     "output_type": "display_data"
    }
   ],
   "source": [
    "display(df['babies'].value_counts())\n",
    "display(df_test['babies'].value_counts())\n",
    "df = df[df['babies']<2]\n",
    "df_test = df_test[df_test['babies']<2]\n",
    "df = df.rename(columns = {'babies':'has_babies'})\n",
    "df_test = df_test.rename(columns = {'babies':'has_babies'})"
   ]
  },
  {
   "cell_type": "markdown",
   "metadata": {},
   "source": [
    "Видим, аномальные значения в столбце с количество детей, 9 и 10 детей аномалии."
   ]
  },
  {
   "cell_type": "code",
   "execution_count": 19,
   "metadata": {},
   "outputs": [
    {
     "data": {
      "text/plain": [
       "0.0    61707\n",
       "1.0     2165\n",
       "2.0     1336\n",
       "3.0       16\n",
       "Name: children, dtype: int64"
      ]
     },
     "execution_count": 19,
     "metadata": {},
     "output_type": "execute_result"
    }
   ],
   "source": [
    "df['children'].value_counts()"
   ]
  },
  {
   "cell_type": "code",
   "execution_count": 20,
   "metadata": {},
   "outputs": [
    {
     "data": {
      "text/plain": [
       "2.0    48976\n",
       "1.0    13211\n",
       "3.0     2858\n",
       "0.0      166\n",
       "4.0       13\n",
       "Name: adults, dtype: int64"
      ]
     },
     "metadata": {},
     "output_type": "display_data"
    }
   ],
   "source": [
    "display(df['adults'].value_counts())\n",
    "df = df[df['adults']!=0.0]"
   ]
  },
  {
   "cell_type": "markdown",
   "metadata": {},
   "source": [
    "Номер не может быть сдам, при отсутствии взрослых."
   ]
  },
  {
   "cell_type": "code",
   "execution_count": 21,
   "metadata": {},
   "outputs": [
    {
     "data": {
      "text/plain": [
       "0    61379\n",
       "1     3667\n",
       "2       11\n",
       "3        1\n",
       "Name: required_car_parking_spaces, dtype: int64"
      ]
     },
     "execution_count": 21,
     "metadata": {},
     "output_type": "execute_result"
    }
   ],
   "source": [
    "df['required_car_parking_spaces'].value_counts()"
   ]
  },
  {
   "cell_type": "markdown",
   "metadata": {},
   "source": [
    "Простроим хитмап, чтобы оценить взаимосвязь всех признаков"
   ]
  },
  {
   "cell_type": "code",
   "execution_count": 22,
   "metadata": {
    "scrolled": true
   },
   "outputs": [
    {
     "data": {
      "text/plain": [
       "<AxesSubplot:>"
      ]
     },
     "execution_count": 22,
     "metadata": {},
     "output_type": "execute_result"
    },
    {
     "data": {
      "image/png": "[encoded data removed]",
      "text/plain": [
       "<Figure size 1080x360 with 2 Axes>"
      ]
     },
     "metadata": {
      "needs_background": "light"
     },
     "output_type": "display_data"
    }
   ],
   "source": [
    "plt.figure(figsize=(15,5))\n",
    "sns.heatmap(df.corr().round(2),annot=True)"
   ]
  },
  {
   "cell_type": "markdown",
   "metadata": {},
   "source": [
    "Как мы видим, сильное признаки между собой не коррелируют, оценим корреляцию признаков с нашим целевым."
   ]
  },
  {
   "cell_type": "code",
   "execution_count": 23,
   "metadata": {},
   "outputs": [
    {
     "data": {
      "image/png": "[encoded data removed]",
      "text/plain": [
       "<Figure size 576x864 with 2 Axes>"
      ]
     },
     "metadata": {
      "needs_background": "light"
     },
     "output_type": "display_data"
    }
   ],
   "source": [
    "plt.figure(figsize=(8, 12))\n",
    "heatmap = sns.heatmap(df.corr().round(2)[['is_canceled']].sort_values(by='is_canceled', ascending=False), vmin=-1, vmax=1, annot=True, cmap='BrBG')"
   ]
  },
  {
   "cell_type": "markdown",
   "metadata": {},
   "source": [
    "По этому графику видно, что есть небольшая связь между `leadd_time` и нашим целевым признаком, так же можно сказать и про `previous_cancellations` и `total_of_special_requests`."
   ]
  },
  {
   "cell_type": "markdown",
   "metadata": {},
   "source": [
    "Оценив ранее разброс наших числовых признаков, построим `boxplot` по признакам, что нас интересуют"
   ]
  },
  {
   "cell_type": "code",
   "execution_count": 24,
   "metadata": {},
   "outputs": [
    {
     "name": "stderr",
     "output_type": "stream",
     "text": [
      "/opt/conda/lib/python3.9/site-packages/seaborn/_decorators.py:36: FutureWarning: Pass the following variable as a keyword arg: x. From version 0.12, the only valid positional argument will be `data`, and passing other arguments without an explicit keyword will result in an error or misinterpretation.\n",
      "  warnings.warn(\n"
     ]
    },
    {
     "data": {
      "text/plain": [
       "<AxesSubplot:xlabel='lead_time'>"
      ]
     },
     "execution_count": 24,
     "metadata": {},
     "output_type": "execute_result"
    },
    {
     "data": {
      "image/png": "[encoded data removed]",
      "text/plain": [
       "<Figure size 432x288 with 1 Axes>"
      ]
     },
     "metadata": {
      "needs_background": "light"
     },
     "output_type": "display_data"
    }
   ],
   "source": [
    "sns.boxplot(df['lead_time'])"
   ]
  },
  {
   "cell_type": "code",
   "execution_count": 25,
   "metadata": {},
   "outputs": [
    {
     "name": "stderr",
     "output_type": "stream",
     "text": [
      "/opt/conda/lib/python3.9/site-packages/seaborn/_decorators.py:36: FutureWarning: Pass the following variable as a keyword arg: x. From version 0.12, the only valid positional argument will be `data`, and passing other arguments without an explicit keyword will result in an error or misinterpretation.\n",
      "  warnings.warn(\n"
     ]
    },
    {
     "data": {
      "text/plain": [
       "<AxesSubplot:xlabel='total_nights'>"
      ]
     },
     "execution_count": 25,
     "metadata": {},
     "output_type": "execute_result"
    },
    {
     "data": {
      "image/png": "[encoded data removed]",
      "text/plain": [
       "<Figure size 432x288 with 1 Axes>"
      ]
     },
     "metadata": {
      "needs_background": "light"
     },
     "output_type": "display_data"
    }
   ],
   "source": [
    "sns.boxplot(df['total_nights'])"
   ]
  },
  {
   "cell_type": "markdown",
   "metadata": {},
   "source": [
    "Далее построим графики, на которых сравним соотношение по наиболее важным категоральным признакам у отменивших и не отменивших бронирование."
   ]
  },
  {
   "cell_type": "code",
   "execution_count": 26,
   "metadata": {},
   "outputs": [
    {
     "data": {
      "text/plain": [
       "<AxesSubplot:xlabel='reserved_room_type', ylabel='count'>"
      ]
     },
     "execution_count": 26,
     "metadata": {},
     "output_type": "execute_result"
    },
    {
     "data": {
      "image/png": "[encoded data removed]",
      "text/plain": [
       "<Figure size 432x288 with 1 Axes>"
      ]
     },
     "metadata": {
      "needs_background": "light"
     },
     "output_type": "display_data"
    }
   ],
   "source": [
    "sns.countplot(x=\"reserved_room_type\", hue=\"is_canceled\", data=df)"
   ]
  },
  {
   "cell_type": "code",
   "execution_count": 27,
   "metadata": {},
   "outputs": [
    {
     "data": {
      "text/plain": [
       "<AxesSubplot:xlabel='meal', ylabel='count'>"
      ]
     },
     "execution_count": 27,
     "metadata": {},
     "output_type": "execute_result"
    },
    {
     "data": {
      "image/png": "[encoded data removed]",
      "text/plain": [
       "<Figure size 432x288 with 1 Axes>"
      ]
     },
     "metadata": {
      "needs_background": "light"
     },
     "output_type": "display_data"
    }
   ],
   "source": [
    "sns.countplot(x=\"meal\", hue=\"is_canceled\", data=df)"
   ]
  },
  {
   "cell_type": "code",
   "execution_count": 28,
   "metadata": {},
   "outputs": [
    {
     "data": {
      "text/plain": [
       "<AxesSubplot:xlabel='customer_type', ylabel='count'>"
      ]
     },
     "execution_count": 28,
     "metadata": {},
     "output_type": "execute_result"
    },
    {
     "data": {
      "image/png": "[encoded data removed]",
      "text/plain": [
       "<Figure size 432x288 with 1 Axes>"
      ]
     },
     "metadata": {
      "needs_background": "light"
     },
     "output_type": "display_data"
    }
   ],
   "source": [
    "sns.countplot(x=\"customer_type\", hue=\"is_canceled\", data=df)"
   ]
  },
  {
   "cell_type": "markdown",
   "metadata": {},
   "source": [
    "Видим, что общая тенденция и у тех, и у тех сохраняется."
   ]
  },
  {
   "cell_type": "markdown",
   "metadata": {},
   "source": [
    "### Шаг 3. Формулировка ML-задачи на основе бизнес-задачи"
   ]
  },
  {
   "cell_type": "code",
   "execution_count": 29,
   "metadata": {},
   "outputs": [],
   "source": [
    "def type_switcher(df, columns):\n",
    "    for column in columns:\n",
    "        df[column] = df[column].astype('category')\n",
    "        df[column] = df[column].cat.codes"
   ]
  },
  {
   "cell_type": "markdown",
   "metadata": {},
   "source": [
    "Создали функцию, для изменения типов столбцов."
   ]
  },
  {
   "cell_type": "code",
   "execution_count": 30,
   "metadata": {},
   "outputs": [],
   "source": [
    "def season_coef(row):\n",
    "    if row['arrival_date_month'] in ['June', 'July', 'August']:\n",
    "        return SUMMER\n",
    "    elif row['arrival_date_month'] in ['March', 'April', 'May', 'September', 'October', 'November']:\n",
    "        return OFF_SEASON\n",
    "    else:\n",
    "        return 1"
   ]
  },
  {
   "cell_type": "markdown",
   "metadata": {},
   "source": [
    "Создадим столбец, где будут храниться коэффициенты сезона"
   ]
  },
  {
   "cell_type": "code",
   "execution_count": 31,
   "metadata": {
    "scrolled": true
   },
   "outputs": [],
   "source": [
    "df['season'] = df.apply(season_coef, axis=1)"
   ]
  },
  {
   "cell_type": "code",
   "execution_count": 32,
   "metadata": {},
   "outputs": [],
   "source": [
    "def income(row):\n",
    "    x = row['total_nights']\n",
    "    revenue = 0\n",
    "    if row['is_canceled'] == 0:\n",
    "        if x >= 2:\n",
    "            revenue = (row['season'] * x * price_list[row['reserved_room_type']][0] \n",
    "                     - price_list[row['reserved_room_type']][1] * (1 + np.floor(x/2)))\n",
    "        else:\n",
    "            revenue = (row['season'] * x * price_list[row['reserved_room_type']][0] \n",
    "                     - price_list[row['reserved_room_type']][1])\n",
    "    else:\n",
    "        revenue = (-1) * (row['season'] * price_list[row['reserved_room_type']][0] \n",
    "                     + price_list[row['reserved_room_type']][1])\n",
    "    return revenue"
   ]
  },
  {
   "cell_type": "code",
   "execution_count": 33,
   "metadata": {
    "scrolled": true
   },
   "outputs": [
    {
     "data": {
      "text/html": [
       "<div>\n",
       "<style scoped>\n",
       "    .dataframe tbody tr th:only-of-type {\n",
       "        vertical-align: middle;\n",
       "    }\n",
       "\n",
       "    .dataframe tbody tr th {\n",
       "        vertical-align: top;\n",
       "    }\n",
       "\n",
       "    .dataframe thead th {\n",
       "        text-align: right;\n",
       "    }\n",
       "</style>\n",
       "<table border=\"1\" class=\"dataframe\">\n",
       "  <thead>\n",
       "    <tr style=\"text-align: right;\">\n",
       "      <th></th>\n",
       "      <th>id</th>\n",
       "      <th>is_canceled</th>\n",
       "      <th>lead_time</th>\n",
       "      <th>arrival_date_year</th>\n",
       "      <th>arrival_date_month</th>\n",
       "      <th>arrival_date_week_number</th>\n",
       "      <th>arrival_date_day_of_month</th>\n",
       "      <th>adults</th>\n",
       "      <th>children</th>\n",
       "      <th>has_babies</th>\n",
       "      <th>...</th>\n",
       "      <th>previous_bookings_not_canceled</th>\n",
       "      <th>reserved_room_type</th>\n",
       "      <th>booking_changes</th>\n",
       "      <th>days_in_waiting_list</th>\n",
       "      <th>customer_type</th>\n",
       "      <th>required_car_parking_spaces</th>\n",
       "      <th>total_of_special_requests</th>\n",
       "      <th>total_nights</th>\n",
       "      <th>season</th>\n",
       "      <th>revenue</th>\n",
       "    </tr>\n",
       "  </thead>\n",
       "  <tbody>\n",
       "    <tr>\n",
       "      <th>0</th>\n",
       "      <td>0</td>\n",
       "      <td>0</td>\n",
       "      <td>7.0</td>\n",
       "      <td>2015</td>\n",
       "      <td>July</td>\n",
       "      <td>27</td>\n",
       "      <td>1</td>\n",
       "      <td>1.0</td>\n",
       "      <td>0.0</td>\n",
       "      <td>0.0</td>\n",
       "      <td>...</td>\n",
       "      <td>0</td>\n",
       "      <td>A</td>\n",
       "      <td>0</td>\n",
       "      <td>0</td>\n",
       "      <td>Transient</td>\n",
       "      <td>0</td>\n",
       "      <td>0</td>\n",
       "      <td>1</td>\n",
       "      <td>1.4</td>\n",
       "      <td>1000.0</td>\n",
       "    </tr>\n",
       "    <tr>\n",
       "      <th>1</th>\n",
       "      <td>1</td>\n",
       "      <td>0</td>\n",
       "      <td>14.0</td>\n",
       "      <td>2015</td>\n",
       "      <td>July</td>\n",
       "      <td>27</td>\n",
       "      <td>1</td>\n",
       "      <td>2.0</td>\n",
       "      <td>0.0</td>\n",
       "      <td>0.0</td>\n",
       "      <td>...</td>\n",
       "      <td>0</td>\n",
       "      <td>A</td>\n",
       "      <td>0</td>\n",
       "      <td>0</td>\n",
       "      <td>Transient</td>\n",
       "      <td>0</td>\n",
       "      <td>1</td>\n",
       "      <td>2</td>\n",
       "      <td>1.4</td>\n",
       "      <td>2000.0</td>\n",
       "    </tr>\n",
       "    <tr>\n",
       "      <th>2</th>\n",
       "      <td>2</td>\n",
       "      <td>0</td>\n",
       "      <td>0.0</td>\n",
       "      <td>2015</td>\n",
       "      <td>July</td>\n",
       "      <td>27</td>\n",
       "      <td>1</td>\n",
       "      <td>2.0</td>\n",
       "      <td>0.0</td>\n",
       "      <td>0.0</td>\n",
       "      <td>...</td>\n",
       "      <td>0</td>\n",
       "      <td>C</td>\n",
       "      <td>0</td>\n",
       "      <td>0</td>\n",
       "      <td>Transient</td>\n",
       "      <td>0</td>\n",
       "      <td>0</td>\n",
       "      <td>2</td>\n",
       "      <td>1.4</td>\n",
       "      <td>980.0</td>\n",
       "    </tr>\n",
       "    <tr>\n",
       "      <th>3</th>\n",
       "      <td>3</td>\n",
       "      <td>0</td>\n",
       "      <td>9.0</td>\n",
       "      <td>2015</td>\n",
       "      <td>July</td>\n",
       "      <td>27</td>\n",
       "      <td>1</td>\n",
       "      <td>2.0</td>\n",
       "      <td>0.0</td>\n",
       "      <td>0.0</td>\n",
       "      <td>...</td>\n",
       "      <td>0</td>\n",
       "      <td>C</td>\n",
       "      <td>0</td>\n",
       "      <td>0</td>\n",
       "      <td>Transient</td>\n",
       "      <td>0</td>\n",
       "      <td>1</td>\n",
       "      <td>2</td>\n",
       "      <td>1.4</td>\n",
       "      <td>980.0</td>\n",
       "    </tr>\n",
       "    <tr>\n",
       "      <th>4</th>\n",
       "      <td>4</td>\n",
       "      <td>1</td>\n",
       "      <td>85.0</td>\n",
       "      <td>2015</td>\n",
       "      <td>July</td>\n",
       "      <td>27</td>\n",
       "      <td>1</td>\n",
       "      <td>2.0</td>\n",
       "      <td>0.0</td>\n",
       "      <td>0.0</td>\n",
       "      <td>...</td>\n",
       "      <td>0</td>\n",
       "      <td>A</td>\n",
       "      <td>0</td>\n",
       "      <td>0</td>\n",
       "      <td>Transient</td>\n",
       "      <td>0</td>\n",
       "      <td>1</td>\n",
       "      <td>3</td>\n",
       "      <td>1.4</td>\n",
       "      <td>-1800.0</td>\n",
       "    </tr>\n",
       "  </tbody>\n",
       "</table>\n",
       "<p>5 rows × 25 columns</p>\n",
       "</div>"
      ],
      "text/plain": [
       "   id  is_canceled  lead_time  arrival_date_year arrival_date_month  \\\n",
       "0   0            0        7.0               2015               July   \n",
       "1   1            0       14.0               2015               July   \n",
       "2   2            0        0.0               2015               July   \n",
       "3   3            0        9.0               2015               July   \n",
       "4   4            1       85.0               2015               July   \n",
       "\n",
       "   arrival_date_week_number  arrival_date_day_of_month  adults  children  \\\n",
       "0                        27                          1     1.0       0.0   \n",
       "1                        27                          1     2.0       0.0   \n",
       "2                        27                          1     2.0       0.0   \n",
       "3                        27                          1     2.0       0.0   \n",
       "4                        27                          1     2.0       0.0   \n",
       "\n",
       "   has_babies  ... previous_bookings_not_canceled reserved_room_type  \\\n",
       "0         0.0  ...                              0                  A   \n",
       "1         0.0  ...                              0                  A   \n",
       "2         0.0  ...                              0                  C   \n",
       "3         0.0  ...                              0                  C   \n",
       "4         0.0  ...                              0                  A   \n",
       "\n",
       "  booking_changes  days_in_waiting_list  customer_type  \\\n",
       "0               0                     0      Transient   \n",
       "1               0                     0      Transient   \n",
       "2               0                     0      Transient   \n",
       "3               0                     0      Transient   \n",
       "4               0                     0      Transient   \n",
       "\n",
       "   required_car_parking_spaces total_of_special_requests  total_nights  \\\n",
       "0                            0                         0             1   \n",
       "1                            0                         1             2   \n",
       "2                            0                         0             2   \n",
       "3                            0                         1             2   \n",
       "4                            0                         1             3   \n",
       "\n",
       "   season revenue  \n",
       "0     1.4  1000.0  \n",
       "1     1.4  2000.0  \n",
       "2     1.4   980.0  \n",
       "3     1.4   980.0  \n",
       "4     1.4 -1800.0  \n",
       "\n",
       "[5 rows x 25 columns]"
      ]
     },
     "execution_count": 33,
     "metadata": {},
     "output_type": "execute_result"
    }
   ],
   "source": [
    "df['revenue'] = df.apply(income, axis=1)\n",
    "df.head()"
   ]
  },
  {
   "cell_type": "markdown",
   "metadata": {},
   "source": [
    "Рассчитали прибыль для каждого заказа."
   ]
  },
  {
   "cell_type": "code",
   "execution_count": 34,
   "metadata": {},
   "outputs": [
    {
     "name": "stdout",
     "output_type": "stream",
     "text": [
      "Прибыль без внедрения модели: 65920350.0\n"
     ]
    }
   ],
   "source": [
    "revenue_no_model = df['revenue'].sum()\n",
    "print('Прибыль без внедрения модели:',revenue_no_model)"
   ]
  },
  {
   "cell_type": "code",
   "execution_count": 35,
   "metadata": {},
   "outputs": [],
   "source": [
    "buff = df.copy()\n"
   ]
  },
  {
   "cell_type": "code",
   "execution_count": 36,
   "metadata": {},
   "outputs": [],
   "source": [
    "replaceable = ['A               ', 'B               ', 'C               ', 'D               ', 'E               ', 'F               ', 'G               ']\n",
    "replacing = ['A', 'B', 'C', 'D', 'E', 'F', 'G']\n",
    "df_test['reserved_room_type'] = df_test['reserved_room_type'].replace(replaceable, replacing)"
   ]
  },
  {
   "cell_type": "code",
   "execution_count": 37,
   "metadata": {},
   "outputs": [],
   "source": [
    "buff_test = df_test.copy()\n"
   ]
  },
  {
   "cell_type": "code",
   "execution_count": 38,
   "metadata": {},
   "outputs": [],
   "source": [
    "df_test['season'] = df_test.apply(season_coef, axis=1)\n",
    "df_test['revenue'] = df_test.apply(income, axis=1)"
   ]
  },
  {
   "cell_type": "code",
   "execution_count": 39,
   "metadata": {},
   "outputs": [],
   "source": [
    "revenue_before = df_test['revenue'].sum()"
   ]
  },
  {
   "cell_type": "code",
   "execution_count": 40,
   "metadata": {},
   "outputs": [],
   "source": [
    "columns = ['arrival_date_month', 'meal', 'country', 'distribution_channel', 'reserved_room_type', 'customer_type']\n",
    "type_switcher(df_test, columns)"
   ]
  },
  {
   "cell_type": "markdown",
   "metadata": {},
   "source": [
    "### Шаг 4. Разработка модели ML"
   ]
  },
  {
   "cell_type": "code",
   "execution_count": 41,
   "metadata": {},
   "outputs": [],
   "source": [
    "columns = ['arrival_date_month', 'meal', 'country', 'distribution_channel', 'reserved_room_type', 'customer_type']\n",
    "type_switcher(df, columns)"
   ]
  },
  {
   "cell_type": "code",
   "execution_count": 42,
   "metadata": {},
   "outputs": [
    {
     "name": "stdout",
     "output_type": "stream",
     "text": [
      "<class 'pandas.core.frame.DataFrame'>\n",
      "Int64Index: 65058 entries, 0 to 65228\n",
      "Data columns (total 25 columns):\n",
      " #   Column                          Non-Null Count  Dtype  \n",
      "---  ------                          --------------  -----  \n",
      " 0   id                              65058 non-null  int64  \n",
      " 1   is_canceled                     65058 non-null  int64  \n",
      " 2   lead_time                       65058 non-null  float64\n",
      " 3   arrival_date_year               65058 non-null  int64  \n",
      " 4   arrival_date_month              65058 non-null  int8   \n",
      " 5   arrival_date_week_number        65058 non-null  int64  \n",
      " 6   arrival_date_day_of_month       65058 non-null  int64  \n",
      " 7   adults                          65058 non-null  float64\n",
      " 8   children                        65058 non-null  float64\n",
      " 9   has_babies                      65058 non-null  float64\n",
      " 10  meal                            65058 non-null  int8   \n",
      " 11  country                         65058 non-null  int16  \n",
      " 12  distribution_channel            65058 non-null  int8   \n",
      " 13  is_repeated_guest               65058 non-null  int64  \n",
      " 14  previous_cancellations          65058 non-null  int64  \n",
      " 15  previous_bookings_not_canceled  65058 non-null  int64  \n",
      " 16  reserved_room_type              65058 non-null  int8   \n",
      " 17  booking_changes                 65058 non-null  int64  \n",
      " 18  days_in_waiting_list            65058 non-null  int64  \n",
      " 19  customer_type                   65058 non-null  int8   \n",
      " 20  required_car_parking_spaces     65058 non-null  int64  \n",
      " 21  total_of_special_requests       65058 non-null  int64  \n",
      " 22  total_nights                    65058 non-null  int64  \n",
      " 23  season                          65058 non-null  float64\n",
      " 24  revenue                         65058 non-null  float64\n",
      "dtypes: float64(6), int16(1), int64(13), int8(5)\n",
      "memory usage: 12.4 MB\n"
     ]
    }
   ],
   "source": [
    "df.info()"
   ]
  },
  {
   "cell_type": "code",
   "execution_count": 43,
   "metadata": {},
   "outputs": [],
   "source": [
    "features = df.drop(['id','revenue','is_canceled','arrival_date_year'], axis=1)\n",
    "target = df['is_canceled']"
   ]
  },
  {
   "cell_type": "markdown",
   "metadata": {},
   "source": [
    "Избавимся от этих столбцов, т.к. `id`, `arrival_date_year` не несут никакой смысловой нагрузки для модели, а `revenue` будет отрицательно влиять на модель, т.к. в случае отмены бронироваия этот показатель будет отрицательным. `is_canceled` - наш целевой признак"
   ]
  },
  {
   "cell_type": "code",
   "execution_count": 44,
   "metadata": {},
   "outputs": [
    {
     "name": "stdout",
     "output_type": "stream",
     "text": [
      "(65058, 21) (65058,)\n"
     ]
    }
   ],
   "source": [
    "print(features.shape, target.shape)\n"
   ]
  },
  {
   "cell_type": "code",
   "execution_count": 45,
   "metadata": {
    "scrolled": true
   },
   "outputs": [
    {
     "name": "stdout",
     "output_type": "stream",
     "text": [
      "0    0.63116\n",
      "1    0.36884\n",
      "Name: is_canceled, dtype: float64\n"
     ]
    }
   ],
   "source": [
    "class_frequency = df['is_canceled'].value_counts(normalize=True)\n",
    "print(class_frequency)"
   ]
  },
  {
   "cell_type": "markdown",
   "metadata": {},
   "source": [
    "У нас отсутствует явный дизбаланс классов. Метрикой для обучения выберем `f1` меру, т.к. нам важно соблюдать баланс между `precision` и `recall`. \n",
    "\n",
    "Метрика `precision` означает точность выявления истинно положительных классов, что для нас важно, это поможет нам не выставлять депозит кому попало и тем самым не отпугивать потенциальных клиентов.\n",
    "\n",
    "Метрика `recall` покажет насколько модель чувстввительна к истинно положительным результатам, тем самым поможет нам эффективнее выставлять депозит, что, в свою очередь, сохранит нашу прибыль"
   ]
  },
  {
   "cell_type": "markdown",
   "metadata": {},
   "source": [
    "#### DecisionTreeClassifier"
   ]
  },
  {
   "cell_type": "code",
   "execution_count": 46,
   "metadata": {},
   "outputs": [
    {
     "name": "stdout",
     "output_type": "stream",
     "text": [
      "0.589555841895504\n",
      "CPU times: user 2min 51s, sys: 130 ms, total: 2min 51s\n",
      "Wall time: 2min 53s\n"
     ]
    }
   ],
   "source": [
    "%%time\n",
    "dtf = DecisionTreeClassifier(random_state=12345)#Исследуем модель дерева решений\n",
    "param_grid_dtf = { # словарь параметров\n",
    "    'max_depth':[5,7,9,11,13,15,17,19,20],\n",
    "    'min_samples_leaf':[1, 2, 3, 4, 6, 8],\n",
    "    'min_samples_split' : [2, 3, 4, 5]\n",
    "}\n",
    "\n",
    "#воспользуемся методом GridSearchCV для подбора параметров\n",
    "grid_CV_dtf = GridSearchCV(estimator=dtf,\n",
    "                       param_grid=param_grid_dtf,\n",
    "                       cv=5,\n",
    "                       scoring='f1'\n",
    ")\n",
    "grid_CV_dtf.fit(features, target)\n",
    "\n",
    "predictions_tree = grid_CV_dtf.predict(features)\n",
    "\n",
    "print(grid_CV_dtf.best_score_)"
   ]
  },
  {
   "cell_type": "markdown",
   "metadata": {},
   "source": [
    "#### LogisticRegression"
   ]
  },
  {
   "cell_type": "code",
   "execution_count": 47,
   "metadata": {},
   "outputs": [
    {
     "name": "stdout",
     "output_type": "stream",
     "text": [
      "0.6626422425756313\n"
     ]
    },
    {
     "name": "stderr",
     "output_type": "stream",
     "text": [
      "/opt/conda/lib/python3.9/site-packages/sklearn/linear_model/_logistic.py:763: ConvergenceWarning: lbfgs failed to converge (status=1):\n",
      "STOP: TOTAL NO. of ITERATIONS REACHED LIMIT.\n",
      "\n",
      "Increase the number of iterations (max_iter) or scale the data as shown in:\n",
      "    https://scikit-learn.org/stable/modules/preprocessing.html\n",
      "Please also refer to the documentation for alternative solver options:\n",
      "    https://scikit-learn.org/stable/modules/linear_model.html#logistic-regression\n",
      "  n_iter_i = _check_optimize_result(\n"
     ]
    }
   ],
   "source": [
    "lr = LogisticRegression(random_state=12345)#Исследуем модель логической регрессии\n",
    "lr.fit(features, target)\n",
    "\n",
    "predictions_regression = lr.predict(features)\n",
    "\n",
    "print(f1_score(target, predictions_regression))"
   ]
  },
  {
   "cell_type": "markdown",
   "metadata": {},
   "source": [
    "#### RandomForestClassifier"
   ]
  },
  {
   "cell_type": "code",
   "execution_count": 48,
   "metadata": {
    "scrolled": true
   },
   "outputs": [
    {
     "name": "stdout",
     "output_type": "stream",
     "text": [
      "0.5479440041895404\n",
      "CPU times: user 12min 42s, sys: 1.07 s, total: 12min 43s\n",
      "Wall time: 12min 49s\n"
     ]
    }
   ],
   "source": [
    "%%time\n",
    "\n",
    "rfc = RandomForestClassifier(random_state=12345)\n",
    "param_grid_ = { # словарь параетров\n",
    "    'max_depth':[5,7,9,11,13,15,17,19,20],\n",
    "    'min_samples_leaf':[2,4,6,8],    \n",
    "    'n_estimators': [10, 20, 30, 40, 50],\n",
    "    'max_features': ['log2'],    \n",
    "    'criterion' : ['gini']\n",
    "}\n",
    "\n",
    "#воспользуемся методом GridSearchCV для подбора параметров\n",
    "grid_CV_rfc = GridSearchCV(estimator=rfc,\n",
    "                       param_grid=param_grid_,\n",
    "                       cv=5,\n",
    "                       scoring='f1'\n",
    ")\n",
    "\n",
    "\n",
    "grid_CV_rfc.fit(features, target)\n",
    "\n",
    "predictions_forest = grid_CV_rfc.best_estimator_.predict(features)\n",
    "\n",
    "print(grid_CV_rfc.best_score_)"
   ]
  },
  {
   "cell_type": "markdown",
   "metadata": {},
   "source": [
    "Лучшее значение получили используя `LogisticRegression`, а именно 0.662"
   ]
  },
  {
   "cell_type": "markdown",
   "metadata": {},
   "source": [
    "Рассчитаем метрику у лучшей модели на тестовых данных."
   ]
  },
  {
   "cell_type": "code",
   "execution_count": 49,
   "metadata": {},
   "outputs": [],
   "source": [
    "features_test = df_test.drop(['id','revenue','is_canceled','arrival_date_year'], axis=1)\n",
    "target_test = df_test['is_canceled']"
   ]
  },
  {
   "cell_type": "code",
   "execution_count": 50,
   "metadata": {},
   "outputs": [
    {
     "name": "stdout",
     "output_type": "stream",
     "text": [
      "0.5757948012382685\n"
     ]
    }
   ],
   "source": [
    "pred_test = lr.predict(features_test)\n",
    "print(f1_score(target_test, pred_test))"
   ]
  },
  {
   "cell_type": "markdown",
   "metadata": {},
   "source": [
    "#### Приминение модели"
   ]
  },
  {
   "cell_type": "markdown",
   "metadata": {},
   "source": [
    "Теперь используем предсказания модели, чтобы рассчитать прибыль"
   ]
  },
  {
   "cell_type": "code",
   "execution_count": 51,
   "metadata": {},
   "outputs": [],
   "source": [
    "def income_model(row):\n",
    "    x = row['total_nights']\n",
    "    revenue = 0\n",
    "    if row['is_canceled'] == 0:\n",
    "        if x >= 2:\n",
    "            revenue = (row['season'] * x * price_list[row['reserved_room_type']][0] \n",
    "                     - price_list[row['reserved_room_type']][1] * (1 + np.floor(x/2)))\n",
    "        else:\n",
    "            revenue = (row['season'] * x * price_list[row['reserved_room_type']][0] \n",
    "                     - price_list[row['reserved_room_type']][1])\n",
    "    elif (row['is_canceled']==1)&(row['predictions']==1):\n",
    "        revenue =(-1) * 0.2 * (row['season'] * price_list[row['reserved_room_type']][0] \n",
    "                     + price_list[row['reserved_room_type']][1])\n",
    "        \n",
    "    else:\n",
    "        revenue = (-1) * (row['season'] * price_list[row['reserved_room_type']][0] \n",
    "                     + price_list[row['reserved_room_type']][1])\n",
    "    return revenue"
   ]
  },
  {
   "cell_type": "code",
   "execution_count": 52,
   "metadata": {},
   "outputs": [],
   "source": [
    "df_test_pred = pd.read_csv('/datasets/hotel_test.csv')\n",
    "df_test_pred['reserved_room_type'] = df_test_pred['reserved_room_type'].replace(replaceable, replacing)"
   ]
  },
  {
   "cell_type": "code",
   "execution_count": 53,
   "metadata": {},
   "outputs": [],
   "source": [
    "buff_test['predictions'] = pred_test\n",
    "buff_test['season'] = buff_test.apply(season_coef, axis=1)\n",
    "buff_test['revenue'] = buff_test.apply(income_model, axis=1)\n",
    "revenue_after = buff_test['revenue'].sum()"
   ]
  },
  {
   "cell_type": "code",
   "execution_count": 54,
   "metadata": {},
   "outputs": [
    {
     "data": {
      "text/plain": [
       "6664792.0"
      ]
     },
     "execution_count": 54,
     "metadata": {},
     "output_type": "execute_result"
    }
   ],
   "source": [
    "revenue_after - revenue_before - BUDGET"
   ]
  },
  {
   "cell_type": "markdown",
   "metadata": {},
   "source": [
    "И того, разница в прибыли между моделью и её отсутствием составила 540216, что означает успешное её применение."
   ]
  },
  {
   "cell_type": "markdown",
   "metadata": {},
   "source": [
    "### Шаг 5. Опишите портрет «ненадёжного» клиента"
   ]
  },
  {
   "cell_type": "code",
   "execution_count": 55,
   "metadata": {
    "scrolled": false
   },
   "outputs": [
    {
     "data": {
      "text/plain": [
       "array(['id', 'is_canceled', 'lead_time', 'arrival_date_year',\n",
       "       'arrival_date_month', 'arrival_date_week_number',\n",
       "       'arrival_date_day_of_month', 'adults', 'children', 'has_babies',\n",
       "       'meal', 'country', 'distribution_channel', 'is_repeated_guest',\n",
       "       'previous_cancellations', 'previous_bookings_not_canceled',\n",
       "       'reserved_room_type', 'booking_changes', 'days_in_waiting_list',\n",
       "       'customer_type', 'required_car_parking_spaces',\n",
       "       'total_of_special_requests', 'total_nights', 'season', 'revenue'],\n",
       "      dtype=object)"
      ]
     },
     "execution_count": 55,
     "metadata": {},
     "output_type": "execute_result"
    }
   ],
   "source": [
    "np.array(df.columns)"
   ]
  },
  {
   "cell_type": "code",
   "execution_count": 56,
   "metadata": {},
   "outputs": [],
   "source": [
    "df_positive = df[df['is_canceled']==0]\n",
    "df_negative = df[df['is_canceled']==1]"
   ]
  },
  {
   "cell_type": "code",
   "execution_count": 57,
   "metadata": {
    "scrolled": true
   },
   "outputs": [
    {
     "name": "stdout",
     "output_type": "stream",
     "text": [
      "Корреляция с id -0.24127704667134323\n",
      "Корреляция с is_canceled 1.0\n",
      "Корреляция с lead_time 0.32859729053436537\n",
      "Корреляция с arrival_date_year -0.030703218488759655\n",
      "Корреляция с arrival_date_month 0.0011216641723517167\n",
      "Корреляция с arrival_date_week_number 0.012767152933530639\n",
      "Корреляция с arrival_date_day_of_month -0.0018290006876693114\n",
      "Корреляция с adults 0.0444308067823341\n",
      "Корреляция с children -0.01720090577184351\n",
      "Корреляция с has_babies -0.03202603719241549\n",
      "Корреляция с meal -0.0011807935949225924\n",
      "Корреляция с country 0.31444481979450173\n",
      "Корреляция с distribution_channel 0.15762923325500275\n",
      "Корреляция с is_repeated_guest -0.04030959652787355\n",
      "Корреляция с previous_cancellations 0.15312376586235427\n",
      "Корреляция с previous_bookings_not_canceled -0.045641372051710954\n",
      "Корреляция с reserved_room_type -0.08097771409757644\n",
      "Корреляция с booking_changes -0.14266705655150158\n",
      "Корреляция с days_in_waiting_list 0.0758535712565088\n",
      "Корреляция с customer_type -0.06621138836424818\n",
      "Корреляция с required_car_parking_spaces -0.1867572112478775\n",
      "Корреляция с total_of_special_requests -0.25710702791967865\n",
      "Корреляция с total_nights 0.0013654434819743687\n",
      "Корреляция с season 0.04147618236048116\n",
      "Корреляция с revenue -0.8121646648980311\n"
     ]
    }
   ],
   "source": [
    "for column in np.array(df.columns):\n",
    "    print('Корреляция с', column, df['is_canceled'].corr(df[column]))"
   ]
  },
  {
   "cell_type": "markdown",
   "metadata": {},
   "source": [
    "Сравним портреты \"надежного\" и \"ненадежного\" клиентов"
   ]
  },
  {
   "cell_type": "code",
   "execution_count": 58,
   "metadata": {},
   "outputs": [
    {
     "data": {
      "text/html": [
       "<div>\n",
       "<style scoped>\n",
       "    .dataframe tbody tr th:only-of-type {\n",
       "        vertical-align: middle;\n",
       "    }\n",
       "\n",
       "    .dataframe tbody tr th {\n",
       "        vertical-align: top;\n",
       "    }\n",
       "\n",
       "    .dataframe thead th {\n",
       "        text-align: right;\n",
       "    }\n",
       "</style>\n",
       "<table border=\"1\" class=\"dataframe\">\n",
       "  <thead>\n",
       "    <tr style=\"text-align: right;\">\n",
       "      <th></th>\n",
       "      <th>id</th>\n",
       "      <th>is_canceled</th>\n",
       "      <th>lead_time</th>\n",
       "      <th>arrival_date_year</th>\n",
       "      <th>arrival_date_month</th>\n",
       "      <th>arrival_date_week_number</th>\n",
       "      <th>arrival_date_day_of_month</th>\n",
       "      <th>adults</th>\n",
       "      <th>children</th>\n",
       "      <th>has_babies</th>\n",
       "      <th>...</th>\n",
       "      <th>previous_bookings_not_canceled</th>\n",
       "      <th>reserved_room_type</th>\n",
       "      <th>booking_changes</th>\n",
       "      <th>days_in_waiting_list</th>\n",
       "      <th>customer_type</th>\n",
       "      <th>required_car_parking_spaces</th>\n",
       "      <th>total_of_special_requests</th>\n",
       "      <th>total_nights</th>\n",
       "      <th>season</th>\n",
       "      <th>revenue</th>\n",
       "    </tr>\n",
       "  </thead>\n",
       "  <tbody>\n",
       "    <tr>\n",
       "      <th>count</th>\n",
       "      <td>41062.000000</td>\n",
       "      <td>41062.0</td>\n",
       "      <td>41062.000000</td>\n",
       "      <td>41062.000000</td>\n",
       "      <td>41062.000000</td>\n",
       "      <td>41062.000000</td>\n",
       "      <td>41062.000000</td>\n",
       "      <td>41062.000000</td>\n",
       "      <td>41062.000000</td>\n",
       "      <td>41062.000000</td>\n",
       "      <td>...</td>\n",
       "      <td>41062.000000</td>\n",
       "      <td>41062.000000</td>\n",
       "      <td>41062.000000</td>\n",
       "      <td>41062.000000</td>\n",
       "      <td>41062.000000</td>\n",
       "      <td>41062.000000</td>\n",
       "      <td>41062.000000</td>\n",
       "      <td>41062.000000</td>\n",
       "      <td>41062.000000</td>\n",
       "      <td>41062.000000</td>\n",
       "    </tr>\n",
       "    <tr>\n",
       "      <th>mean</th>\n",
       "      <td>48239.071891</td>\n",
       "      <td>0.0</td>\n",
       "      <td>72.186255</td>\n",
       "      <td>2015.729068</td>\n",
       "      <td>6.121450</td>\n",
       "      <td>31.211802</td>\n",
       "      <td>15.857216</td>\n",
       "      <td>1.825240</td>\n",
       "      <td>0.074570</td>\n",
       "      <td>0.008840</td>\n",
       "      <td>...</td>\n",
       "      <td>0.154328</td>\n",
       "      <td>0.839535</td>\n",
       "      <td>0.257976</td>\n",
       "      <td>2.284204</td>\n",
       "      <td>2.198870</td>\n",
       "      <td>0.089913</td>\n",
       "      <td>0.659369</td>\n",
       "      <td>3.047173</td>\n",
       "      <td>1.215260</td>\n",
       "      <td>2472.162340</td>\n",
       "    </tr>\n",
       "    <tr>\n",
       "      <th>std</th>\n",
       "      <td>28270.042938</td>\n",
       "      <td>0.0</td>\n",
       "      <td>81.096123</td>\n",
       "      <td>0.444446</td>\n",
       "      <td>3.708029</td>\n",
       "      <td>13.817230</td>\n",
       "      <td>8.754607</td>\n",
       "      <td>0.493002</td>\n",
       "      <td>0.326144</td>\n",
       "      <td>0.093607</td>\n",
       "      <td>...</td>\n",
       "      <td>1.549591</td>\n",
       "      <td>1.531480</td>\n",
       "      <td>0.661366</td>\n",
       "      <td>16.533465</td>\n",
       "      <td>0.643367</td>\n",
       "      <td>0.287250</td>\n",
       "      <td>0.793697</td>\n",
       "      <td>1.793833</td>\n",
       "      <td>0.129277</td>\n",
       "      <td>1706.561999</td>\n",
       "    </tr>\n",
       "    <tr>\n",
       "      <th>min</th>\n",
       "      <td>0.000000</td>\n",
       "      <td>0.0</td>\n",
       "      <td>0.000000</td>\n",
       "      <td>2015.000000</td>\n",
       "      <td>0.000000</td>\n",
       "      <td>1.000000</td>\n",
       "      <td>1.000000</td>\n",
       "      <td>1.000000</td>\n",
       "      <td>0.000000</td>\n",
       "      <td>0.000000</td>\n",
       "      <td>...</td>\n",
       "      <td>0.000000</td>\n",
       "      <td>0.000000</td>\n",
       "      <td>0.000000</td>\n",
       "      <td>0.000000</td>\n",
       "      <td>0.000000</td>\n",
       "      <td>0.000000</td>\n",
       "      <td>0.000000</td>\n",
       "      <td>1.000000</td>\n",
       "      <td>1.000000</td>\n",
       "      <td>200.000000</td>\n",
       "    </tr>\n",
       "    <tr>\n",
       "      <th>25%</th>\n",
       "      <td>17346.250000</td>\n",
       "      <td>0.0</td>\n",
       "      <td>8.000000</td>\n",
       "      <td>2015.000000</td>\n",
       "      <td>2.000000</td>\n",
       "      <td>20.000000</td>\n",
       "      <td>8.000000</td>\n",
       "      <td>2.000000</td>\n",
       "      <td>0.000000</td>\n",
       "      <td>0.000000</td>\n",
       "      <td>...</td>\n",
       "      <td>0.000000</td>\n",
       "      <td>0.000000</td>\n",
       "      <td>0.000000</td>\n",
       "      <td>0.000000</td>\n",
       "      <td>2.000000</td>\n",
       "      <td>0.000000</td>\n",
       "      <td>0.000000</td>\n",
       "      <td>2.000000</td>\n",
       "      <td>1.200000</td>\n",
       "      <td>1020.000000</td>\n",
       "    </tr>\n",
       "    <tr>\n",
       "      <th>50%</th>\n",
       "      <td>61927.000000</td>\n",
       "      <td>0.0</td>\n",
       "      <td>41.000000</td>\n",
       "      <td>2016.000000</td>\n",
       "      <td>7.000000</td>\n",
       "      <td>34.000000</td>\n",
       "      <td>16.000000</td>\n",
       "      <td>2.000000</td>\n",
       "      <td>0.000000</td>\n",
       "      <td>0.000000</td>\n",
       "      <td>...</td>\n",
       "      <td>0.000000</td>\n",
       "      <td>0.000000</td>\n",
       "      <td>0.000000</td>\n",
       "      <td>0.000000</td>\n",
       "      <td>2.000000</td>\n",
       "      <td>0.000000</td>\n",
       "      <td>0.000000</td>\n",
       "      <td>3.000000</td>\n",
       "      <td>1.200000</td>\n",
       "      <td>2000.000000</td>\n",
       "    </tr>\n",
       "    <tr>\n",
       "      <th>75%</th>\n",
       "      <td>73487.750000</td>\n",
       "      <td>0.0</td>\n",
       "      <td>110.000000</td>\n",
       "      <td>2016.000000</td>\n",
       "      <td>10.000000</td>\n",
       "      <td>42.000000</td>\n",
       "      <td>23.000000</td>\n",
       "      <td>2.000000</td>\n",
       "      <td>0.000000</td>\n",
       "      <td>0.000000</td>\n",
       "      <td>...</td>\n",
       "      <td>0.000000</td>\n",
       "      <td>1.000000</td>\n",
       "      <td>0.000000</td>\n",
       "      <td>0.000000</td>\n",
       "      <td>3.000000</td>\n",
       "      <td>0.000000</td>\n",
       "      <td>1.000000</td>\n",
       "      <td>4.000000</td>\n",
       "      <td>1.200000</td>\n",
       "      <td>3400.000000</td>\n",
       "    </tr>\n",
       "    <tr>\n",
       "      <th>max</th>\n",
       "      <td>84121.000000</td>\n",
       "      <td>0.0</td>\n",
       "      <td>373.000000</td>\n",
       "      <td>2016.000000</td>\n",
       "      <td>11.000000</td>\n",
       "      <td>53.000000</td>\n",
       "      <td>31.000000</td>\n",
       "      <td>4.000000</td>\n",
       "      <td>3.000000</td>\n",
       "      <td>1.000000</td>\n",
       "      <td>...</td>\n",
       "      <td>57.000000</td>\n",
       "      <td>6.000000</td>\n",
       "      <td>17.000000</td>\n",
       "      <td>259.000000</td>\n",
       "      <td>3.000000</td>\n",
       "      <td>3.000000</td>\n",
       "      <td>5.000000</td>\n",
       "      <td>10.000000</td>\n",
       "      <td>1.400000</td>\n",
       "      <td>11600.000000</td>\n",
       "    </tr>\n",
       "  </tbody>\n",
       "</table>\n",
       "<p>8 rows × 25 columns</p>\n",
       "</div>"
      ],
      "text/plain": [
       "                 id  is_canceled     lead_time  arrival_date_year  \\\n",
       "count  41062.000000      41062.0  41062.000000       41062.000000   \n",
       "mean   48239.071891          0.0     72.186255        2015.729068   \n",
       "std    28270.042938          0.0     81.096123           0.444446   \n",
       "min        0.000000          0.0      0.000000        2015.000000   \n",
       "25%    17346.250000          0.0      8.000000        2015.000000   \n",
       "50%    61927.000000          0.0     41.000000        2016.000000   \n",
       "75%    73487.750000          0.0    110.000000        2016.000000   \n",
       "max    84121.000000          0.0    373.000000        2016.000000   \n",
       "\n",
       "       arrival_date_month  arrival_date_week_number  \\\n",
       "count        41062.000000              41062.000000   \n",
       "mean             6.121450                 31.211802   \n",
       "std              3.708029                 13.817230   \n",
       "min              0.000000                  1.000000   \n",
       "25%              2.000000                 20.000000   \n",
       "50%              7.000000                 34.000000   \n",
       "75%             10.000000                 42.000000   \n",
       "max             11.000000                 53.000000   \n",
       "\n",
       "       arrival_date_day_of_month        adults      children    has_babies  \\\n",
       "count               41062.000000  41062.000000  41062.000000  41062.000000   \n",
       "mean                   15.857216      1.825240      0.074570      0.008840   \n",
       "std                     8.754607      0.493002      0.326144      0.093607   \n",
       "min                     1.000000      1.000000      0.000000      0.000000   \n",
       "25%                     8.000000      2.000000      0.000000      0.000000   \n",
       "50%                    16.000000      2.000000      0.000000      0.000000   \n",
       "75%                    23.000000      2.000000      0.000000      0.000000   \n",
       "max                    31.000000      4.000000      3.000000      1.000000   \n",
       "\n",
       "       ...  previous_bookings_not_canceled  reserved_room_type  \\\n",
       "count  ...                    41062.000000        41062.000000   \n",
       "mean   ...                        0.154328            0.839535   \n",
       "std    ...                        1.549591            1.531480   \n",
       "min    ...                        0.000000            0.000000   \n",
       "25%    ...                        0.000000            0.000000   \n",
       "50%    ...                        0.000000            0.000000   \n",
       "75%    ...                        0.000000            1.000000   \n",
       "max    ...                       57.000000            6.000000   \n",
       "\n",
       "       booking_changes  days_in_waiting_list  customer_type  \\\n",
       "count     41062.000000          41062.000000   41062.000000   \n",
       "mean          0.257976              2.284204       2.198870   \n",
       "std           0.661366             16.533465       0.643367   \n",
       "min           0.000000              0.000000       0.000000   \n",
       "25%           0.000000              0.000000       2.000000   \n",
       "50%           0.000000              0.000000       2.000000   \n",
       "75%           0.000000              0.000000       3.000000   \n",
       "max          17.000000            259.000000       3.000000   \n",
       "\n",
       "       required_car_parking_spaces  total_of_special_requests  total_nights  \\\n",
       "count                 41062.000000               41062.000000  41062.000000   \n",
       "mean                      0.089913                   0.659369      3.047173   \n",
       "std                       0.287250                   0.793697      1.793833   \n",
       "min                       0.000000                   0.000000      1.000000   \n",
       "25%                       0.000000                   0.000000      2.000000   \n",
       "50%                       0.000000                   0.000000      3.000000   \n",
       "75%                       0.000000                   1.000000      4.000000   \n",
       "max                       3.000000                   5.000000     10.000000   \n",
       "\n",
       "             season       revenue  \n",
       "count  41062.000000  41062.000000  \n",
       "mean       1.215260   2472.162340  \n",
       "std        0.129277   1706.561999  \n",
       "min        1.000000    200.000000  \n",
       "25%        1.200000   1020.000000  \n",
       "50%        1.200000   2000.000000  \n",
       "75%        1.200000   3400.000000  \n",
       "max        1.400000  11600.000000  \n",
       "\n",
       "[8 rows x 25 columns]"
      ]
     },
     "metadata": {},
     "output_type": "display_data"
    },
    {
     "name": "stdout",
     "output_type": "stream",
     "text": [
      "\n"
     ]
    },
    {
     "data": {
      "text/html": [
       "<div>\n",
       "<style scoped>\n",
       "    .dataframe tbody tr th:only-of-type {\n",
       "        vertical-align: middle;\n",
       "    }\n",
       "\n",
       "    .dataframe tbody tr th {\n",
       "        vertical-align: top;\n",
       "    }\n",
       "\n",
       "    .dataframe thead th {\n",
       "        text-align: right;\n",
       "    }\n",
       "</style>\n",
       "<table border=\"1\" class=\"dataframe\">\n",
       "  <thead>\n",
       "    <tr style=\"text-align: right;\">\n",
       "      <th></th>\n",
       "      <th>id</th>\n",
       "      <th>is_canceled</th>\n",
       "      <th>lead_time</th>\n",
       "      <th>arrival_date_year</th>\n",
       "      <th>arrival_date_month</th>\n",
       "      <th>arrival_date_week_number</th>\n",
       "      <th>arrival_date_day_of_month</th>\n",
       "      <th>adults</th>\n",
       "      <th>children</th>\n",
       "      <th>has_babies</th>\n",
       "      <th>...</th>\n",
       "      <th>previous_bookings_not_canceled</th>\n",
       "      <th>reserved_room_type</th>\n",
       "      <th>booking_changes</th>\n",
       "      <th>days_in_waiting_list</th>\n",
       "      <th>customer_type</th>\n",
       "      <th>required_car_parking_spaces</th>\n",
       "      <th>total_of_special_requests</th>\n",
       "      <th>total_nights</th>\n",
       "      <th>season</th>\n",
       "      <th>revenue</th>\n",
       "    </tr>\n",
       "  </thead>\n",
       "  <tbody>\n",
       "    <tr>\n",
       "      <th>count</th>\n",
       "      <td>23996.000000</td>\n",
       "      <td>23996.0</td>\n",
       "      <td>23996.000000</td>\n",
       "      <td>23996.00000</td>\n",
       "      <td>23996.000000</td>\n",
       "      <td>23996.000000</td>\n",
       "      <td>23996.000000</td>\n",
       "      <td>23996.000000</td>\n",
       "      <td>23996.000000</td>\n",
       "      <td>23996.000000</td>\n",
       "      <td>...</td>\n",
       "      <td>23996.000000</td>\n",
       "      <td>23996.000000</td>\n",
       "      <td>23996.000000</td>\n",
       "      <td>23996.000000</td>\n",
       "      <td>23996.000000</td>\n",
       "      <td>23996.0</td>\n",
       "      <td>23996.000000</td>\n",
       "      <td>23996.000000</td>\n",
       "      <td>23996.000000</td>\n",
       "      <td>23996.000000</td>\n",
       "    </tr>\n",
       "    <tr>\n",
       "      <th>mean</th>\n",
       "      <td>35427.849975</td>\n",
       "      <td>1.0</td>\n",
       "      <td>137.686198</td>\n",
       "      <td>2015.70045</td>\n",
       "      <td>6.130147</td>\n",
       "      <td>31.567970</td>\n",
       "      <td>15.824054</td>\n",
       "      <td>1.868686</td>\n",
       "      <td>0.063136</td>\n",
       "      <td>0.003376</td>\n",
       "      <td>...</td>\n",
       "      <td>0.028671</td>\n",
       "      <td>0.593057</td>\n",
       "      <td>0.082889</td>\n",
       "      <td>5.155318</td>\n",
       "      <td>2.111977</td>\n",
       "      <td>0.0</td>\n",
       "      <td>0.258793</td>\n",
       "      <td>3.052092</td>\n",
       "      <td>1.226354</td>\n",
       "      <td>-1483.229705</td>\n",
       "    </tr>\n",
       "    <tr>\n",
       "      <th>std</th>\n",
       "      <td>17559.385381</td>\n",
       "      <td>0.0</td>\n",
       "      <td>105.437528</td>\n",
       "      <td>0.45807</td>\n",
       "      <td>3.796164</td>\n",
       "      <td>12.823504</td>\n",
       "      <td>8.737317</td>\n",
       "      <td>0.431768</td>\n",
       "      <td>0.311169</td>\n",
       "      <td>0.058003</td>\n",
       "      <td>...</td>\n",
       "      <td>0.815567</td>\n",
       "      <td>1.340059</td>\n",
       "      <td>0.427544</td>\n",
       "      <td>20.767979</td>\n",
       "      <td>0.611555</td>\n",
       "      <td>0.0</td>\n",
       "      <td>0.594021</td>\n",
       "      <td>1.639059</td>\n",
       "      <td>0.128397</td>\n",
       "      <td>334.987897</td>\n",
       "    </tr>\n",
       "    <tr>\n",
       "      <th>min</th>\n",
       "      <td>4.000000</td>\n",
       "      <td>1.0</td>\n",
       "      <td>0.000000</td>\n",
       "      <td>2015.00000</td>\n",
       "      <td>0.000000</td>\n",
       "      <td>1.000000</td>\n",
       "      <td>1.000000</td>\n",
       "      <td>1.000000</td>\n",
       "      <td>0.000000</td>\n",
       "      <td>0.000000</td>\n",
       "      <td>...</td>\n",
       "      <td>0.000000</td>\n",
       "      <td>0.000000</td>\n",
       "      <td>0.000000</td>\n",
       "      <td>0.000000</td>\n",
       "      <td>0.000000</td>\n",
       "      <td>0.0</td>\n",
       "      <td>0.000000</td>\n",
       "      <td>1.000000</td>\n",
       "      <td>1.000000</td>\n",
       "      <td>-1800.000000</td>\n",
       "    </tr>\n",
       "    <tr>\n",
       "      <th>25%</th>\n",
       "      <td>29386.750000</td>\n",
       "      <td>1.0</td>\n",
       "      <td>45.000000</td>\n",
       "      <td>2015.00000</td>\n",
       "      <td>2.000000</td>\n",
       "      <td>22.000000</td>\n",
       "      <td>8.000000</td>\n",
       "      <td>2.000000</td>\n",
       "      <td>0.000000</td>\n",
       "      <td>0.000000</td>\n",
       "      <td>...</td>\n",
       "      <td>0.000000</td>\n",
       "      <td>0.000000</td>\n",
       "      <td>0.000000</td>\n",
       "      <td>0.000000</td>\n",
       "      <td>2.000000</td>\n",
       "      <td>0.0</td>\n",
       "      <td>0.000000</td>\n",
       "      <td>2.000000</td>\n",
       "      <td>1.200000</td>\n",
       "      <td>-1600.000000</td>\n",
       "    </tr>\n",
       "    <tr>\n",
       "      <th>50%</th>\n",
       "      <td>37576.500000</td>\n",
       "      <td>1.0</td>\n",
       "      <td>108.000000</td>\n",
       "      <td>2016.00000</td>\n",
       "      <td>6.000000</td>\n",
       "      <td>34.000000</td>\n",
       "      <td>16.000000</td>\n",
       "      <td>2.000000</td>\n",
       "      <td>0.000000</td>\n",
       "      <td>0.000000</td>\n",
       "      <td>...</td>\n",
       "      <td>0.000000</td>\n",
       "      <td>0.000000</td>\n",
       "      <td>0.000000</td>\n",
       "      <td>0.000000</td>\n",
       "      <td>2.000000</td>\n",
       "      <td>0.0</td>\n",
       "      <td>0.000000</td>\n",
       "      <td>3.000000</td>\n",
       "      <td>1.200000</td>\n",
       "      <td>-1600.000000</td>\n",
       "    </tr>\n",
       "    <tr>\n",
       "      <th>75%</th>\n",
       "      <td>43769.250000</td>\n",
       "      <td>1.0</td>\n",
       "      <td>221.000000</td>\n",
       "      <td>2016.00000</td>\n",
       "      <td>10.000000</td>\n",
       "      <td>42.000000</td>\n",
       "      <td>24.000000</td>\n",
       "      <td>2.000000</td>\n",
       "      <td>0.000000</td>\n",
       "      <td>0.000000</td>\n",
       "      <td>...</td>\n",
       "      <td>0.000000</td>\n",
       "      <td>0.000000</td>\n",
       "      <td>0.000000</td>\n",
       "      <td>0.000000</td>\n",
       "      <td>2.000000</td>\n",
       "      <td>0.0</td>\n",
       "      <td>0.000000</td>\n",
       "      <td>4.000000</td>\n",
       "      <td>1.400000</td>\n",
       "      <td>-1400.000000</td>\n",
       "    </tr>\n",
       "    <tr>\n",
       "      <th>max</th>\n",
       "      <td>79128.000000</td>\n",
       "      <td>1.0</td>\n",
       "      <td>374.000000</td>\n",
       "      <td>2016.00000</td>\n",
       "      <td>11.000000</td>\n",
       "      <td>53.000000</td>\n",
       "      <td>31.000000</td>\n",
       "      <td>4.000000</td>\n",
       "      <td>3.000000</td>\n",
       "      <td>1.000000</td>\n",
       "      <td>...</td>\n",
       "      <td>58.000000</td>\n",
       "      <td>6.000000</td>\n",
       "      <td>16.000000</td>\n",
       "      <td>236.000000</td>\n",
       "      <td>3.000000</td>\n",
       "      <td>0.0</td>\n",
       "      <td>4.000000</td>\n",
       "      <td>10.000000</td>\n",
       "      <td>1.400000</td>\n",
       "      <td>-500.000000</td>\n",
       "    </tr>\n",
       "  </tbody>\n",
       "</table>\n",
       "<p>8 rows × 25 columns</p>\n",
       "</div>"
      ],
      "text/plain": [
       "                 id  is_canceled     lead_time  arrival_date_year  \\\n",
       "count  23996.000000      23996.0  23996.000000        23996.00000   \n",
       "mean   35427.849975          1.0    137.686198         2015.70045   \n",
       "std    17559.385381          0.0    105.437528            0.45807   \n",
       "min        4.000000          1.0      0.000000         2015.00000   \n",
       "25%    29386.750000          1.0     45.000000         2015.00000   \n",
       "50%    37576.500000          1.0    108.000000         2016.00000   \n",
       "75%    43769.250000          1.0    221.000000         2016.00000   \n",
       "max    79128.000000          1.0    374.000000         2016.00000   \n",
       "\n",
       "       arrival_date_month  arrival_date_week_number  \\\n",
       "count        23996.000000              23996.000000   \n",
       "mean             6.130147                 31.567970   \n",
       "std              3.796164                 12.823504   \n",
       "min              0.000000                  1.000000   \n",
       "25%              2.000000                 22.000000   \n",
       "50%              6.000000                 34.000000   \n",
       "75%             10.000000                 42.000000   \n",
       "max             11.000000                 53.000000   \n",
       "\n",
       "       arrival_date_day_of_month        adults      children    has_babies  \\\n",
       "count               23996.000000  23996.000000  23996.000000  23996.000000   \n",
       "mean                   15.824054      1.868686      0.063136      0.003376   \n",
       "std                     8.737317      0.431768      0.311169      0.058003   \n",
       "min                     1.000000      1.000000      0.000000      0.000000   \n",
       "25%                     8.000000      2.000000      0.000000      0.000000   \n",
       "50%                    16.000000      2.000000      0.000000      0.000000   \n",
       "75%                    24.000000      2.000000      0.000000      0.000000   \n",
       "max                    31.000000      4.000000      3.000000      1.000000   \n",
       "\n",
       "       ...  previous_bookings_not_canceled  reserved_room_type  \\\n",
       "count  ...                    23996.000000        23996.000000   \n",
       "mean   ...                        0.028671            0.593057   \n",
       "std    ...                        0.815567            1.340059   \n",
       "min    ...                        0.000000            0.000000   \n",
       "25%    ...                        0.000000            0.000000   \n",
       "50%    ...                        0.000000            0.000000   \n",
       "75%    ...                        0.000000            0.000000   \n",
       "max    ...                       58.000000            6.000000   \n",
       "\n",
       "       booking_changes  days_in_waiting_list  customer_type  \\\n",
       "count     23996.000000          23996.000000   23996.000000   \n",
       "mean          0.082889              5.155318       2.111977   \n",
       "std           0.427544             20.767979       0.611555   \n",
       "min           0.000000              0.000000       0.000000   \n",
       "25%           0.000000              0.000000       2.000000   \n",
       "50%           0.000000              0.000000       2.000000   \n",
       "75%           0.000000              0.000000       2.000000   \n",
       "max          16.000000            236.000000       3.000000   \n",
       "\n",
       "       required_car_parking_spaces  total_of_special_requests  total_nights  \\\n",
       "count                      23996.0               23996.000000  23996.000000   \n",
       "mean                           0.0                   0.258793      3.052092   \n",
       "std                            0.0                   0.594021      1.639059   \n",
       "min                            0.0                   0.000000      1.000000   \n",
       "25%                            0.0                   0.000000      2.000000   \n",
       "50%                            0.0                   0.000000      3.000000   \n",
       "75%                            0.0                   0.000000      4.000000   \n",
       "max                            0.0                   4.000000     10.000000   \n",
       "\n",
       "             season       revenue  \n",
       "count  23996.000000  23996.000000  \n",
       "mean       1.226354  -1483.229705  \n",
       "std        0.128397    334.987897  \n",
       "min        1.000000  -1800.000000  \n",
       "25%        1.200000  -1600.000000  \n",
       "50%        1.200000  -1600.000000  \n",
       "75%        1.400000  -1400.000000  \n",
       "max        1.400000   -500.000000  \n",
       "\n",
       "[8 rows x 25 columns]"
      ]
     },
     "metadata": {},
     "output_type": "display_data"
    },
    {
     "name": "stdout",
     "output_type": "stream",
     "text": [
      "\n"
     ]
    }
   ],
   "source": [
    "display_frames([df_positive.describe(), df_negative.describe()])"
   ]
  },
  {
   "cell_type": "code",
   "execution_count": 59,
   "metadata": {},
   "outputs": [
    {
     "data": {
      "text/plain": [
       "PRT    16594\n",
       "ESP     1078\n",
       "GBR      935\n",
       "FRA      874\n",
       "ITA      763\n",
       "       ...  \n",
       "ECU        1\n",
       "VGB        1\n",
       "SEN        1\n",
       "SRB        1\n",
       "UZB        1\n",
       "Name: country, Length: 112, dtype: int64"
      ]
     },
     "execution_count": 59,
     "metadata": {},
     "output_type": "execute_result"
    }
   ],
   "source": [
    "buff[buff['is_canceled']==1]['country'].value_counts()"
   ]
  },
  {
   "cell_type": "code",
   "execution_count": 60,
   "metadata": {},
   "outputs": [
    {
     "data": {
      "text/plain": [
       "34.0     249\n",
       "0.0      242\n",
       "37.0     222\n",
       "1.0      222\n",
       "68.0     221\n",
       "        ... \n",
       "347.0      2\n",
       "284.0      2\n",
       "319.0      2\n",
       "331.0      2\n",
       "345.0      1\n",
       "Name: lead_time, Length: 363, dtype: int64"
      ]
     },
     "execution_count": 60,
     "metadata": {},
     "output_type": "execute_result"
    }
   ],
   "source": [
    "buff[buff['is_canceled']==1]['lead_time'].value_counts()"
   ]
  },
  {
   "cell_type": "markdown",
   "metadata": {},
   "source": [
    "Можем придти к выводу, что портрет \"ненадженого\" клиента выглядит примерно так:\n",
    "- Он из Португалии, Испании, Германии\n",
    "- Просматривается тенденция отмены бронирования, если она совершалась день в день\n",
    "- Наблюдается явная зависимость от количества потраченных денег на проживание в отеле\n",
    "Так же сравнив портреты \"надежного\" и \"ненадежного\" клиентов, выявили следующую разницу:\n",
    "- Среднее время нахождения в листе ожидания у \"ненадежных\" в два раза больше\n",
    "- \"Ненадежные\" не запрашивают парковочных мест для машины\n",
    "- у \"надежных\" в три раза больше специальных запросов\n",
    "- \"Ненадежные\" в среднем бронируют на 65 дней заранее, в сравнении с \"надежными\"\n",
    "- Так же \"надежные\" чаще бронируют с детьми"
   ]
  },
  {
   "cell_type": "markdown",
   "metadata": {},
   "source": [
    "### Шаг 6.Общий вывод"
   ]
  },
  {
   "cell_type": "markdown",
   "metadata": {},
   "source": [
    "Мы внедрили модель, которая предсказывает будет ли бронирование отменено, и если будет, то предложит внести депозит.\n",
    "Мы добились хорошего значения на обучающей метрике, что означает меньшую вероятность, неверного предсказания и соотвественно отпугивания клиента.\n",
    "Данная модель показала большую разницу в прибыли на тестовой подборке 540 216"
   ]
  },
  {
   "cell_type": "code",
   "execution_count": null,
   "metadata": {},
   "outputs": [],
   "source": []
  }
 ],
 "metadata": {
  "ExecuteTimeLog": [
   {
    "duration": 1476,
    "start_time": "2022-08-08T11:05:19.024Z"
   },
   {
    "duration": 393,
    "start_time": "2022-08-08T11:05:57.980Z"
   },
   {
    "duration": 27,
    "start_time": "2022-08-08T11:06:04.245Z"
   },
   {
    "duration": 21,
    "start_time": "2022-08-08T11:06:34.389Z"
   },
   {
    "duration": 25,
    "start_time": "2022-08-08T11:07:57.820Z"
   },
   {
    "duration": 34,
    "start_time": "2022-08-08T11:08:07.888Z"
   },
   {
    "duration": 52,
    "start_time": "2022-08-09T10:06:53.214Z"
   },
   {
    "duration": 1602,
    "start_time": "2022-08-09T10:06:57.117Z"
   },
   {
    "duration": 536,
    "start_time": "2022-08-09T10:06:58.721Z"
   },
   {
    "duration": 44,
    "start_time": "2022-08-09T10:06:59.258Z"
   },
   {
    "duration": 66,
    "start_time": "2022-08-09T10:06:59.304Z"
   },
   {
    "duration": 116,
    "start_time": "2022-08-09T10:07:11.094Z"
   },
   {
    "duration": 3,
    "start_time": "2022-08-09T10:07:36.634Z"
   },
   {
    "duration": 193,
    "start_time": "2022-08-09T10:07:57.587Z"
   },
   {
    "duration": 1609,
    "start_time": "2022-08-09T10:08:57.329Z"
   },
   {
    "duration": 170,
    "start_time": "2022-08-09T10:10:03.685Z"
   },
   {
    "duration": 146,
    "start_time": "2022-08-09T10:10:54.291Z"
   },
   {
    "duration": 114,
    "start_time": "2022-08-09T10:11:07.143Z"
   },
   {
    "duration": 46,
    "start_time": "2022-08-10T20:13:22.376Z"
   },
   {
    "duration": 1636,
    "start_time": "2022-08-10T20:13:25.880Z"
   },
   {
    "duration": 627,
    "start_time": "2022-08-10T20:13:27.517Z"
   },
   {
    "duration": 55,
    "start_time": "2022-08-10T20:13:28.148Z"
   },
   {
    "duration": 3,
    "start_time": "2022-08-10T20:13:28.205Z"
   },
   {
    "duration": 98,
    "start_time": "2022-08-10T20:13:28.210Z"
   },
   {
    "duration": 129,
    "start_time": "2022-08-10T20:13:28.310Z"
   },
   {
    "duration": 168,
    "start_time": "2022-08-10T20:13:28.442Z"
   },
   {
    "duration": 550,
    "start_time": "2022-08-10T20:16:20.651Z"
   },
   {
    "duration": 20,
    "start_time": "2022-08-10T20:17:18.885Z"
   },
   {
    "duration": 15,
    "start_time": "2022-08-10T20:17:44.756Z"
   },
   {
    "duration": 86,
    "start_time": "2022-08-10T20:19:00.457Z"
   },
   {
    "duration": 1284,
    "start_time": "2022-08-10T20:19:23.774Z"
   },
   {
    "duration": 214,
    "start_time": "2022-08-10T20:19:25.060Z"
   },
   {
    "duration": 42,
    "start_time": "2022-08-10T20:19:25.276Z"
   },
   {
    "duration": 3,
    "start_time": "2022-08-10T20:19:25.320Z"
   },
   {
    "duration": 100,
    "start_time": "2022-08-10T20:19:25.325Z"
   },
   {
    "duration": 135,
    "start_time": "2022-08-10T20:19:25.427Z"
   },
   {
    "duration": 1,
    "start_time": "2022-08-10T20:19:25.563Z"
   },
   {
    "duration": 5,
    "start_time": "2022-08-10T20:19:42.873Z"
   },
   {
    "duration": 215,
    "start_time": "2022-08-10T20:19:42.880Z"
   },
   {
    "duration": 46,
    "start_time": "2022-08-10T20:19:43.097Z"
   },
   {
    "duration": 4,
    "start_time": "2022-08-10T20:19:43.148Z"
   },
   {
    "duration": 80,
    "start_time": "2022-08-10T20:19:43.154Z"
   },
   {
    "duration": 27,
    "start_time": "2022-08-10T20:19:43.235Z"
   },
   {
    "duration": 0,
    "start_time": "2022-08-10T20:19:43.264Z"
   },
   {
    "duration": 8,
    "start_time": "2022-08-10T20:19:56.218Z"
   },
   {
    "duration": 7,
    "start_time": "2022-08-10T20:19:56.258Z"
   },
   {
    "duration": 28,
    "start_time": "2022-08-10T20:19:59.547Z"
   },
   {
    "duration": 10,
    "start_time": "2022-08-10T20:20:09.175Z"
   },
   {
    "duration": 149,
    "start_time": "2022-08-10T20:20:11.737Z"
   },
   {
    "duration": 47,
    "start_time": "2022-08-11T03:49:44.023Z"
   },
   {
    "duration": 1436,
    "start_time": "2022-08-11T03:49:47.026Z"
   },
   {
    "duration": 441,
    "start_time": "2022-08-11T03:49:48.464Z"
   },
   {
    "duration": 40,
    "start_time": "2022-08-11T03:49:48.906Z"
   },
   {
    "duration": 3,
    "start_time": "2022-08-11T03:49:48.948Z"
   },
   {
    "duration": 80,
    "start_time": "2022-08-11T03:49:48.952Z"
   },
   {
    "duration": 13,
    "start_time": "2022-08-11T03:49:49.033Z"
   },
   {
    "duration": 151,
    "start_time": "2022-08-11T03:49:49.047Z"
   },
   {
    "duration": 6,
    "start_time": "2022-08-11T03:49:49.199Z"
   },
   {
    "duration": 5,
    "start_time": "2022-08-11T03:50:22.771Z"
   },
   {
    "duration": 10,
    "start_time": "2022-08-11T03:50:37.435Z"
   },
   {
    "duration": 6,
    "start_time": "2022-08-11T03:50:56.493Z"
   },
   {
    "duration": 5,
    "start_time": "2022-08-11T03:51:25.040Z"
   },
   {
    "duration": 5,
    "start_time": "2022-08-11T03:51:38.656Z"
   },
   {
    "duration": 6,
    "start_time": "2022-08-11T03:52:24.082Z"
   },
   {
    "duration": 7,
    "start_time": "2022-08-11T03:52:35.746Z"
   },
   {
    "duration": 10,
    "start_time": "2022-08-11T03:52:48.582Z"
   },
   {
    "duration": 11,
    "start_time": "2022-08-11T03:53:29.394Z"
   },
   {
    "duration": 7,
    "start_time": "2022-08-11T03:53:39.029Z"
   },
   {
    "duration": 10,
    "start_time": "2022-08-11T03:53:50.121Z"
   },
   {
    "duration": 6,
    "start_time": "2022-08-11T03:53:58.614Z"
   },
   {
    "duration": 6,
    "start_time": "2022-08-11T03:54:09.405Z"
   },
   {
    "duration": 7,
    "start_time": "2022-08-11T03:54:17.559Z"
   },
   {
    "duration": 10,
    "start_time": "2022-08-11T03:54:25.148Z"
   },
   {
    "duration": 6,
    "start_time": "2022-08-11T03:54:33.948Z"
   },
   {
    "duration": 6,
    "start_time": "2022-08-11T03:54:51.934Z"
   },
   {
    "duration": 142,
    "start_time": "2022-08-11T03:57:58.809Z"
   },
   {
    "duration": 81735,
    "start_time": "2022-08-11T03:59:56.179Z"
   },
   {
    "duration": 0,
    "start_time": "2022-08-11T04:05:43.389Z"
   },
   {
    "duration": 0,
    "start_time": "2022-08-11T04:05:43.390Z"
   },
   {
    "duration": 0,
    "start_time": "2022-08-11T04:05:43.391Z"
   },
   {
    "duration": 0,
    "start_time": "2022-08-11T04:05:43.392Z"
   },
   {
    "duration": 0,
    "start_time": "2022-08-11T04:05:43.393Z"
   },
   {
    "duration": 0,
    "start_time": "2022-08-11T04:05:43.394Z"
   },
   {
    "duration": 0,
    "start_time": "2022-08-11T04:05:43.395Z"
   },
   {
    "duration": 0,
    "start_time": "2022-08-11T04:05:43.395Z"
   },
   {
    "duration": 7,
    "start_time": "2022-08-11T04:05:46.898Z"
   },
   {
    "duration": 190,
    "start_time": "2022-08-11T04:05:48.623Z"
   },
   {
    "duration": 39,
    "start_time": "2022-08-11T04:05:49.680Z"
   },
   {
    "duration": 3,
    "start_time": "2022-08-11T04:05:53.204Z"
   },
   {
    "duration": 71,
    "start_time": "2022-08-11T04:05:54.267Z"
   },
   {
    "duration": 8,
    "start_time": "2022-08-11T04:05:55.441Z"
   },
   {
    "duration": 172,
    "start_time": "2022-08-11T04:05:56.179Z"
   },
   {
    "duration": 9,
    "start_time": "2022-08-11T04:05:58.665Z"
   },
   {
    "duration": 10,
    "start_time": "2022-08-11T04:25:10.700Z"
   },
   {
    "duration": 5,
    "start_time": "2022-08-11T04:30:21.558Z"
   },
   {
    "duration": 3,
    "start_time": "2022-08-11T04:31:01.729Z"
   },
   {
    "duration": 4,
    "start_time": "2022-08-11T04:31:06.899Z"
   },
   {
    "duration": 4,
    "start_time": "2022-08-11T04:31:11.036Z"
   },
   {
    "duration": 4,
    "start_time": "2022-08-11T04:31:16.650Z"
   },
   {
    "duration": 3,
    "start_time": "2022-08-11T04:32:02.711Z"
   },
   {
    "duration": 3,
    "start_time": "2022-08-11T04:32:05.075Z"
   },
   {
    "duration": 890,
    "start_time": "2022-08-11T04:55:43.717Z"
   },
   {
    "duration": 4,
    "start_time": "2022-08-11T04:55:59.984Z"
   },
   {
    "duration": 21,
    "start_time": "2022-08-11T04:56:03.719Z"
   },
   {
    "duration": 1040,
    "start_time": "2022-08-11T04:58:50.953Z"
   },
   {
    "duration": 44,
    "start_time": "2022-08-11T04:59:06.478Z"
   },
   {
    "duration": 856,
    "start_time": "2022-08-11T04:59:17.403Z"
   },
   {
    "duration": 898,
    "start_time": "2022-08-11T04:59:26.529Z"
   },
   {
    "duration": 934,
    "start_time": "2022-08-11T04:59:43.273Z"
   },
   {
    "duration": 1568,
    "start_time": "2022-08-11T04:59:54.350Z"
   },
   {
    "duration": 26,
    "start_time": "2022-08-11T05:04:24.001Z"
   },
   {
    "duration": 20,
    "start_time": "2022-08-11T05:04:35.919Z"
   },
   {
    "duration": 68,
    "start_time": "2022-08-11T05:05:57.887Z"
   },
   {
    "duration": 3,
    "start_time": "2022-08-11T05:06:04.204Z"
   },
   {
    "duration": 9,
    "start_time": "2022-08-11T05:06:10.840Z"
   },
   {
    "duration": 8,
    "start_time": "2022-08-11T05:06:15.421Z"
   },
   {
    "duration": 4,
    "start_time": "2022-08-11T05:06:20.529Z"
   },
   {
    "duration": 3,
    "start_time": "2022-08-11T05:06:28.422Z"
   },
   {
    "duration": 4,
    "start_time": "2022-08-11T05:06:33.439Z"
   },
   {
    "duration": 10,
    "start_time": "2022-08-11T05:07:22.143Z"
   },
   {
    "duration": 4,
    "start_time": "2022-08-11T05:07:48.390Z"
   },
   {
    "duration": 5,
    "start_time": "2022-08-11T05:09:18.937Z"
   },
   {
    "duration": 21,
    "start_time": "2022-08-11T05:09:36.374Z"
   },
   {
    "duration": 638,
    "start_time": "2022-08-11T05:10:15.795Z"
   },
   {
    "duration": 578,
    "start_time": "2022-08-11T05:10:43.579Z"
   },
   {
    "duration": 573,
    "start_time": "2022-08-11T05:10:51.730Z"
   },
   {
    "duration": 568,
    "start_time": "2022-08-11T05:10:58.141Z"
   },
   {
    "duration": 550,
    "start_time": "2022-08-11T05:11:07.033Z"
   },
   {
    "duration": 4,
    "start_time": "2022-08-11T05:14:37.194Z"
   },
   {
    "duration": 536,
    "start_time": "2022-08-11T05:14:37.914Z"
   },
   {
    "duration": 549,
    "start_time": "2022-08-11T05:14:52.467Z"
   },
   {
    "duration": 575,
    "start_time": "2022-08-11T05:14:59.466Z"
   },
   {
    "duration": 4,
    "start_time": "2022-08-11T05:15:03.607Z"
   },
   {
    "duration": 583,
    "start_time": "2022-08-11T05:15:04.484Z"
   },
   {
    "duration": 6,
    "start_time": "2022-08-11T05:15:28.560Z"
   },
   {
    "duration": 5,
    "start_time": "2022-08-11T05:15:29.545Z"
   },
   {
    "duration": 228,
    "start_time": "2022-08-11T05:15:30.587Z"
   },
   {
    "duration": 43,
    "start_time": "2022-08-11T05:15:31.217Z"
   },
   {
    "duration": 3,
    "start_time": "2022-08-11T05:15:32.966Z"
   },
   {
    "duration": 122,
    "start_time": "2022-08-11T05:15:34.183Z"
   },
   {
    "duration": 10,
    "start_time": "2022-08-11T05:15:35.287Z"
   },
   {
    "duration": 203,
    "start_time": "2022-08-11T05:15:36.346Z"
   },
   {
    "duration": 12,
    "start_time": "2022-08-11T05:15:38.999Z"
   },
   {
    "duration": 3,
    "start_time": "2022-08-11T05:15:40.904Z"
   },
   {
    "duration": 577,
    "start_time": "2022-08-11T05:15:41.901Z"
   },
   {
    "duration": 43,
    "start_time": "2022-08-11T05:16:55.427Z"
   },
   {
    "duration": 692,
    "start_time": "2022-08-11T05:17:06.025Z"
   },
   {
    "duration": 563,
    "start_time": "2022-08-11T05:17:16.785Z"
   },
   {
    "duration": 557,
    "start_time": "2022-08-11T05:17:23.346Z"
   },
   {
    "duration": 574,
    "start_time": "2022-08-11T05:17:29.966Z"
   },
   {
    "duration": 4,
    "start_time": "2022-08-11T05:19:30.899Z"
   },
   {
    "duration": 3,
    "start_time": "2022-08-11T05:19:34.414Z"
   },
   {
    "duration": 3,
    "start_time": "2022-08-11T05:19:38.528Z"
   },
   {
    "duration": 4,
    "start_time": "2022-08-11T05:19:50.840Z"
   },
   {
    "duration": 60,
    "start_time": "2022-08-11T05:20:32.284Z"
   },
   {
    "duration": 4,
    "start_time": "2022-08-11T05:20:45.403Z"
   },
   {
    "duration": 3,
    "start_time": "2022-08-11T05:20:45.458Z"
   },
   {
    "duration": 5,
    "start_time": "2022-08-11T05:30:05.016Z"
   },
   {
    "duration": 5,
    "start_time": "2022-08-11T05:33:32.437Z"
   },
   {
    "duration": 555,
    "start_time": "2022-08-11T05:33:50.145Z"
   },
   {
    "duration": 50,
    "start_time": "2022-08-11T05:34:01.615Z"
   },
   {
    "duration": 5,
    "start_time": "2022-08-11T05:34:19.304Z"
   },
   {
    "duration": 5,
    "start_time": "2022-08-11T05:34:48.081Z"
   },
   {
    "duration": 3,
    "start_time": "2022-08-11T05:34:55.499Z"
   },
   {
    "duration": 7,
    "start_time": "2022-08-11T05:38:18.733Z"
   },
   {
    "duration": 5,
    "start_time": "2022-08-11T05:40:36.359Z"
   },
   {
    "duration": 6,
    "start_time": "2022-08-11T05:41:13.026Z"
   },
   {
    "duration": 4,
    "start_time": "2022-08-11T05:41:18.260Z"
   },
   {
    "duration": 111,
    "start_time": "2022-08-11T05:41:50.872Z"
   },
   {
    "duration": 6906,
    "start_time": "2022-08-11T05:41:57.749Z"
   },
   {
    "duration": 27939,
    "start_time": "2022-08-11T05:42:31.131Z"
   },
   {
    "duration": 0,
    "start_time": "2022-08-11T05:42:59.072Z"
   },
   {
    "duration": 15,
    "start_time": "2022-08-11T05:43:47.789Z"
   },
   {
    "duration": 6,
    "start_time": "2022-08-11T05:44:05.077Z"
   },
   {
    "duration": 3,
    "start_time": "2022-08-11T05:44:05.967Z"
   },
   {
    "duration": 209,
    "start_time": "2022-08-11T05:44:06.664Z"
   },
   {
    "duration": 48,
    "start_time": "2022-08-11T05:44:07.156Z"
   },
   {
    "duration": 3,
    "start_time": "2022-08-11T05:44:10.618Z"
   },
   {
    "duration": 83,
    "start_time": "2022-08-11T05:44:11.387Z"
   },
   {
    "duration": 155,
    "start_time": "2022-08-11T05:44:12.700Z"
   },
   {
    "duration": 10,
    "start_time": "2022-08-11T05:44:14.850Z"
   },
   {
    "duration": 4,
    "start_time": "2022-08-11T05:44:15.981Z"
   },
   {
    "duration": 538,
    "start_time": "2022-08-11T05:44:17.727Z"
   },
   {
    "duration": 5,
    "start_time": "2022-08-11T05:44:19.599Z"
   },
   {
    "duration": 10,
    "start_time": "2022-08-11T05:44:34.219Z"
   },
   {
    "duration": 6,
    "start_time": "2022-08-11T05:45:19.736Z"
   },
   {
    "duration": 7,
    "start_time": "2022-08-11T05:45:28.331Z"
   },
   {
    "duration": 7,
    "start_time": "2022-08-11T05:45:47.962Z"
   },
   {
    "duration": 7,
    "start_time": "2022-08-11T05:45:58.102Z"
   },
   {
    "duration": 10,
    "start_time": "2022-08-11T05:47:30.585Z"
   },
   {
    "duration": 7,
    "start_time": "2022-08-11T05:48:06.945Z"
   },
   {
    "duration": 25,
    "start_time": "2022-08-11T05:50:00.837Z"
   },
   {
    "duration": 8,
    "start_time": "2022-08-11T05:50:01.808Z"
   },
   {
    "duration": 9,
    "start_time": "2022-08-11T05:50:26.657Z"
   },
   {
    "duration": 26,
    "start_time": "2022-08-11T05:50:28.482Z"
   },
   {
    "duration": 5,
    "start_time": "2022-08-11T05:50:31.049Z"
   },
   {
    "duration": 1227,
    "start_time": "2022-08-11T05:50:34.229Z"
   },
   {
    "duration": 5,
    "start_time": "2022-08-11T05:50:54.066Z"
   },
   {
    "duration": 12,
    "start_time": "2022-08-11T05:51:39.784Z"
   },
   {
    "duration": 14,
    "start_time": "2022-08-11T05:52:05.322Z"
   },
   {
    "duration": 10,
    "start_time": "2022-08-11T05:52:34.405Z"
   },
   {
    "duration": 240,
    "start_time": "2022-08-11T13:38:12.702Z"
   },
   {
    "duration": 64,
    "start_time": "2022-08-11T13:38:42.297Z"
   },
   {
    "duration": 59,
    "start_time": "2022-08-11T13:39:04.176Z"
   },
   {
    "duration": 5,
    "start_time": "2022-08-11T13:39:16.223Z"
   },
   {
    "duration": 1183,
    "start_time": "2022-08-11T13:39:18.894Z"
   },
   {
    "duration": 12,
    "start_time": "2022-08-11T13:39:31.807Z"
   },
   {
    "duration": 5,
    "start_time": "2022-08-11T13:39:33.074Z"
   },
   {
    "duration": 6,
    "start_time": "2022-08-11T13:40:17.613Z"
   },
   {
    "duration": 1205,
    "start_time": "2022-08-11T13:40:19.629Z"
   },
   {
    "duration": 4,
    "start_time": "2022-08-11T13:41:38.773Z"
   },
   {
    "duration": 1175,
    "start_time": "2022-08-11T13:41:40.135Z"
   },
   {
    "duration": 13,
    "start_time": "2022-08-11T13:41:48.154Z"
   },
   {
    "duration": 5,
    "start_time": "2022-08-11T13:41:49.127Z"
   },
   {
    "duration": 10,
    "start_time": "2022-08-11T13:42:21.065Z"
   },
   {
    "duration": 13,
    "start_time": "2022-08-11T13:42:25.362Z"
   },
   {
    "duration": 5,
    "start_time": "2022-08-11T13:44:15.374Z"
   },
   {
    "duration": 4,
    "start_time": "2022-08-11T13:44:19.517Z"
   },
   {
    "duration": 7,
    "start_time": "2022-08-11T13:44:26.419Z"
   },
   {
    "duration": 10,
    "start_time": "2022-08-11T13:45:12.076Z"
   },
   {
    "duration": 16,
    "start_time": "2022-08-11T13:45:36.728Z"
   },
   {
    "duration": 5,
    "start_time": "2022-08-11T13:46:29.497Z"
   },
   {
    "duration": 12,
    "start_time": "2022-08-11T13:46:33.574Z"
   },
   {
    "duration": 4,
    "start_time": "2022-08-11T13:46:34.957Z"
   },
   {
    "duration": 5,
    "start_time": "2022-08-11T13:52:17.694Z"
   },
   {
    "duration": 7,
    "start_time": "2022-08-11T13:53:02.898Z"
   },
   {
    "duration": 6,
    "start_time": "2022-08-11T13:53:16.730Z"
   },
   {
    "duration": 8,
    "start_time": "2022-08-11T13:53:27.182Z"
   },
   {
    "duration": 56,
    "start_time": "2022-08-12T10:42:10.366Z"
   },
   {
    "duration": 1638,
    "start_time": "2022-08-12T10:42:16.105Z"
   },
   {
    "duration": 4,
    "start_time": "2022-08-12T10:42:17.745Z"
   },
   {
    "duration": 1203,
    "start_time": "2022-08-12T10:42:17.751Z"
   },
   {
    "duration": 46,
    "start_time": "2022-08-12T10:42:18.956Z"
   },
   {
    "duration": 3,
    "start_time": "2022-08-12T10:42:19.005Z"
   },
   {
    "duration": 111,
    "start_time": "2022-08-12T10:42:19.010Z"
   },
   {
    "duration": 2,
    "start_time": "2022-08-12T10:42:19.123Z"
   },
   {
    "duration": 180,
    "start_time": "2022-08-12T10:42:19.127Z"
   },
   {
    "duration": 6,
    "start_time": "2022-08-12T10:42:19.308Z"
   },
   {
    "duration": 53,
    "start_time": "2022-08-12T10:42:19.316Z"
   },
   {
    "duration": 1927,
    "start_time": "2022-08-12T10:42:19.371Z"
   },
   {
    "duration": 0,
    "start_time": "2022-08-12T10:42:21.300Z"
   },
   {
    "duration": 0,
    "start_time": "2022-08-12T10:42:21.302Z"
   },
   {
    "duration": 0,
    "start_time": "2022-08-12T10:42:21.303Z"
   },
   {
    "duration": 0,
    "start_time": "2022-08-12T10:42:21.304Z"
   },
   {
    "duration": 0,
    "start_time": "2022-08-12T10:42:21.306Z"
   },
   {
    "duration": 0,
    "start_time": "2022-08-12T10:42:21.307Z"
   },
   {
    "duration": 0,
    "start_time": "2022-08-12T10:42:21.307Z"
   },
   {
    "duration": 0,
    "start_time": "2022-08-12T10:42:21.309Z"
   },
   {
    "duration": 0,
    "start_time": "2022-08-12T10:42:21.309Z"
   },
   {
    "duration": 0,
    "start_time": "2022-08-12T10:42:21.310Z"
   },
   {
    "duration": 0,
    "start_time": "2022-08-12T10:42:21.311Z"
   },
   {
    "duration": 8,
    "start_time": "2022-08-12T10:42:58.341Z"
   },
   {
    "duration": 6,
    "start_time": "2022-08-12T10:42:58.352Z"
   },
   {
    "duration": 270,
    "start_time": "2022-08-12T10:42:58.359Z"
   },
   {
    "duration": 45,
    "start_time": "2022-08-12T10:42:58.630Z"
   },
   {
    "duration": 3,
    "start_time": "2022-08-12T10:42:58.677Z"
   },
   {
    "duration": 89,
    "start_time": "2022-08-12T10:42:58.682Z"
   },
   {
    "duration": 3,
    "start_time": "2022-08-12T10:42:58.772Z"
   },
   {
    "duration": 172,
    "start_time": "2022-08-12T10:42:58.776Z"
   },
   {
    "duration": 5,
    "start_time": "2022-08-12T10:42:58.950Z"
   },
   {
    "duration": 9,
    "start_time": "2022-08-12T10:42:58.956Z"
   },
   {
    "duration": 8,
    "start_time": "2022-08-12T10:42:58.992Z"
   },
   {
    "duration": 23,
    "start_time": "2022-08-12T10:42:59.002Z"
   },
   {
    "duration": 4,
    "start_time": "2022-08-12T10:42:59.027Z"
   },
   {
    "duration": 639,
    "start_time": "2022-08-12T10:42:59.033Z"
   },
   {
    "duration": 6,
    "start_time": "2022-08-12T10:42:59.674Z"
   },
   {
    "duration": 1372,
    "start_time": "2022-08-12T10:42:59.691Z"
   },
   {
    "duration": 6,
    "start_time": "2022-08-12T10:43:01.065Z"
   },
   {
    "duration": 25,
    "start_time": "2022-08-12T10:43:01.072Z"
   },
   {
    "duration": 9,
    "start_time": "2022-08-12T10:43:01.099Z"
   },
   {
    "duration": 20,
    "start_time": "2022-08-12T10:43:01.110Z"
   },
   {
    "duration": 29,
    "start_time": "2022-08-12T10:43:01.132Z"
   },
   {
    "duration": 10,
    "start_time": "2022-08-12T10:43:14.345Z"
   },
   {
    "duration": 42,
    "start_time": "2022-08-12T10:44:08.050Z"
   },
   {
    "duration": 13,
    "start_time": "2022-08-12T10:44:19.936Z"
   },
   {
    "duration": 10,
    "start_time": "2022-08-12T10:45:20.503Z"
   },
   {
    "duration": 15,
    "start_time": "2022-08-12T10:45:37.133Z"
   },
   {
    "duration": 9,
    "start_time": "2022-08-12T10:54:15.813Z"
   },
   {
    "duration": 128,
    "start_time": "2022-08-12T11:20:55.659Z"
   },
   {
    "duration": 7,
    "start_time": "2022-08-12T11:21:42.376Z"
   },
   {
    "duration": 33,
    "start_time": "2022-08-12T11:22:25.122Z"
   },
   {
    "duration": 43,
    "start_time": "2022-08-12T11:22:58.735Z"
   },
   {
    "duration": 5,
    "start_time": "2022-08-12T11:23:11.880Z"
   },
   {
    "duration": 24,
    "start_time": "2022-08-12T11:24:21.342Z"
   },
   {
    "duration": 38,
    "start_time": "2022-08-12T11:24:22.134Z"
   },
   {
    "duration": 4,
    "start_time": "2022-08-12T11:24:22.734Z"
   },
   {
    "duration": 5,
    "start_time": "2022-08-12T11:25:11.241Z"
   },
   {
    "duration": 3,
    "start_time": "2022-08-12T11:25:46.434Z"
   },
   {
    "duration": 6,
    "start_time": "2022-08-12T11:25:48.430Z"
   },
   {
    "duration": 2,
    "start_time": "2022-08-12T11:26:19.783Z"
   },
   {
    "duration": 12,
    "start_time": "2022-08-12T11:27:05.671Z"
   },
   {
    "duration": 42,
    "start_time": "2022-08-12T11:27:31.768Z"
   },
   {
    "duration": 718,
    "start_time": "2022-08-12T11:27:35.676Z"
   },
   {
    "duration": 7,
    "start_time": "2022-08-12T11:27:50.023Z"
   },
   {
    "duration": 708,
    "start_time": "2022-08-12T11:27:54.084Z"
   },
   {
    "duration": 708,
    "start_time": "2022-08-12T11:27:58.244Z"
   },
   {
    "duration": 7,
    "start_time": "2022-08-12T11:28:23.523Z"
   },
   {
    "duration": 12245,
    "start_time": "2022-08-12T11:28:35.748Z"
   },
   {
    "duration": 578810,
    "start_time": "2022-08-12T11:29:06.720Z"
   },
   {
    "duration": 94,
    "start_time": "2022-08-13T08:00:22.040Z"
   },
   {
    "duration": 1702,
    "start_time": "2022-08-13T08:00:28.210Z"
   },
   {
    "duration": 4,
    "start_time": "2022-08-13T08:00:30.630Z"
   },
   {
    "duration": 996,
    "start_time": "2022-08-13T08:00:33.114Z"
   },
   {
    "duration": 48,
    "start_time": "2022-08-13T08:00:35.813Z"
   },
   {
    "duration": 3,
    "start_time": "2022-08-13T08:00:40.092Z"
   },
   {
    "duration": 97,
    "start_time": "2022-08-13T08:00:42.226Z"
   },
   {
    "duration": 159,
    "start_time": "2022-08-13T08:00:44.770Z"
   },
   {
    "duration": 6,
    "start_time": "2022-08-13T08:00:48.590Z"
   },
   {
    "duration": 11,
    "start_time": "2022-08-13T08:00:50.325Z"
   },
   {
    "duration": 11,
    "start_time": "2022-08-13T08:00:52.621Z"
   },
   {
    "duration": 36,
    "start_time": "2022-08-13T08:00:54.297Z"
   },
   {
    "duration": 4,
    "start_time": "2022-08-13T08:00:57.134Z"
   },
   {
    "duration": 675,
    "start_time": "2022-08-13T08:00:59.109Z"
   },
   {
    "duration": 5,
    "start_time": "2022-08-13T08:01:00.846Z"
   },
   {
    "duration": 1501,
    "start_time": "2022-08-13T08:01:03.681Z"
   },
   {
    "duration": 6,
    "start_time": "2022-08-13T08:01:07.016Z"
   },
   {
    "duration": 108,
    "start_time": "2022-08-13T08:01:09.503Z"
   },
   {
    "duration": 40,
    "start_time": "2022-08-13T08:01:12.063Z"
   },
   {
    "duration": 54,
    "start_time": "2022-08-13T08:01:14.133Z"
   },
   {
    "duration": 4,
    "start_time": "2022-08-13T08:01:18.130Z"
   },
   {
    "duration": 9,
    "start_time": "2022-08-13T08:01:29.890Z"
   },
   {
    "duration": 64316,
    "start_time": "2022-08-13T08:01:32.950Z"
   },
   {
    "duration": 769,
    "start_time": "2022-08-13T08:03:36.470Z"
   },
   {
    "duration": 268320,
    "start_time": "2022-08-13T08:04:03.968Z"
   },
   {
    "duration": 406419,
    "start_time": "2022-08-13T08:24:37.361Z"
   },
   {
    "duration": 0,
    "start_time": "2022-08-13T08:31:23.867Z"
   },
   {
    "duration": 85,
    "start_time": "2022-08-13T08:33:38.519Z"
   },
   {
    "duration": 103,
    "start_time": "2022-08-13T08:33:48.624Z"
   },
   {
    "duration": 1616,
    "start_time": "2022-08-13T08:34:11.911Z"
   },
   {
    "duration": 601466,
    "start_time": "2022-08-13T08:44:11.886Z"
   },
   {
    "duration": 3,
    "start_time": "2022-08-13T08:54:13.354Z"
   },
   {
    "duration": 11629,
    "start_time": "2022-08-13T08:56:59.564Z"
   },
   {
    "duration": 2,
    "start_time": "2022-08-13T10:09:48.609Z"
   },
   {
    "duration": 15,
    "start_time": "2022-08-13T10:10:39.760Z"
   },
   {
    "duration": 53,
    "start_time": "2022-08-13T12:22:20.825Z"
   },
   {
    "duration": 49,
    "start_time": "2022-08-13T12:22:35.416Z"
   },
   {
    "duration": 1528,
    "start_time": "2022-08-13T12:24:57.388Z"
   },
   {
    "duration": 1827,
    "start_time": "2022-08-13T12:25:10.182Z"
   },
   {
    "duration": 342,
    "start_time": "2022-08-13T12:25:41.826Z"
   },
   {
    "duration": 13,
    "start_time": "2022-08-13T12:26:06.521Z"
   },
   {
    "duration": 936,
    "start_time": "2022-08-13T12:26:10.116Z"
   },
   {
    "duration": 8,
    "start_time": "2022-08-13T12:33:00.485Z"
   },
   {
    "duration": 4,
    "start_time": "2022-08-13T12:33:20.490Z"
   },
   {
    "duration": 47,
    "start_time": "2022-08-13T12:33:55.778Z"
   },
   {
    "duration": 19,
    "start_time": "2022-08-13T12:35:31.078Z"
   },
   {
    "duration": 1634,
    "start_time": "2022-08-14T11:22:52.500Z"
   },
   {
    "duration": 3,
    "start_time": "2022-08-14T11:22:56.403Z"
   },
   {
    "duration": 935,
    "start_time": "2022-08-14T11:22:57.148Z"
   },
   {
    "duration": 43,
    "start_time": "2022-08-14T11:22:58.373Z"
   },
   {
    "duration": 4,
    "start_time": "2022-08-14T11:22:59.655Z"
   },
   {
    "duration": 87,
    "start_time": "2022-08-14T11:23:00.455Z"
   },
   {
    "duration": 172,
    "start_time": "2022-08-14T11:23:01.869Z"
   },
   {
    "duration": 6,
    "start_time": "2022-08-14T11:23:03.426Z"
   },
   {
    "duration": 8,
    "start_time": "2022-08-14T11:23:04.148Z"
   },
   {
    "duration": 19,
    "start_time": "2022-08-14T11:23:04.845Z"
   },
   {
    "duration": 3,
    "start_time": "2022-08-14T11:23:07.860Z"
   },
   {
    "duration": 585,
    "start_time": "2022-08-14T11:23:08.521Z"
   },
   {
    "duration": 5,
    "start_time": "2022-08-14T11:23:10.029Z"
   },
   {
    "duration": 1421,
    "start_time": "2022-08-14T11:23:11.367Z"
   },
   {
    "duration": 4,
    "start_time": "2022-08-14T11:23:17.306Z"
   },
   {
    "duration": 109,
    "start_time": "2022-08-14T11:23:20.822Z"
   },
   {
    "duration": 31,
    "start_time": "2022-08-14T11:23:23.984Z"
   },
   {
    "duration": 40,
    "start_time": "2022-08-14T11:23:25.909Z"
   },
   {
    "duration": 4,
    "start_time": "2022-08-14T11:23:26.574Z"
   },
   {
    "duration": 6,
    "start_time": "2022-08-14T11:23:27.231Z"
   },
   {
    "duration": 64,
    "start_time": "2022-08-14T11:23:31.164Z"
   },
   {
    "duration": 13,
    "start_time": "2022-08-14T11:23:31.795Z"
   },
   {
    "duration": 918,
    "start_time": "2022-08-14T11:23:32.371Z"
   },
   {
    "duration": 4,
    "start_time": "2022-08-14T11:23:33.291Z"
   },
   {
    "duration": 17,
    "start_time": "2022-08-14T11:23:33.642Z"
   },
   {
    "duration": 14,
    "start_time": "2022-08-14T11:24:16.867Z"
   },
   {
    "duration": 964,
    "start_time": "2022-08-14T11:24:19.685Z"
   },
   {
    "duration": 4,
    "start_time": "2022-08-14T11:24:23.806Z"
   },
   {
    "duration": 61,
    "start_time": "2022-08-14T11:24:45.990Z"
   },
   {
    "duration": 10,
    "start_time": "2022-08-14T11:25:28.482Z"
   },
   {
    "duration": 23,
    "start_time": "2022-08-14T11:25:30.988Z"
   },
   {
    "duration": 5,
    "start_time": "2022-08-14T11:25:32.534Z"
   },
   {
    "duration": 8,
    "start_time": "2022-08-14T11:25:34.471Z"
   },
   {
    "duration": 26393,
    "start_time": "2022-08-14T11:25:38.695Z"
   },
   {
    "duration": 100,
    "start_time": "2022-08-14T11:26:40.418Z"
   },
   {
    "duration": 29,
    "start_time": "2022-08-14T11:26:50.051Z"
   },
   {
    "duration": 46,
    "start_time": "2022-08-14T11:26:55.251Z"
   },
   {
    "duration": 4,
    "start_time": "2022-08-14T11:26:56.251Z"
   },
   {
    "duration": 6,
    "start_time": "2022-08-14T11:26:57.180Z"
   },
   {
    "duration": 26,
    "start_time": "2022-08-14T11:35:13.610Z"
   },
   {
    "duration": 39,
    "start_time": "2022-08-14T11:35:28.782Z"
   },
   {
    "duration": 170,
    "start_time": "2022-08-14T11:36:30.472Z"
   },
   {
    "duration": 16,
    "start_time": "2022-08-14T11:36:47.465Z"
   },
   {
    "duration": 19,
    "start_time": "2022-08-14T11:37:06.285Z"
   },
   {
    "duration": 43,
    "start_time": "2022-08-14T11:37:15.864Z"
   },
   {
    "duration": 7,
    "start_time": "2022-08-14T11:48:22.124Z"
   },
   {
    "duration": 42,
    "start_time": "2022-08-14T11:49:23.187Z"
   },
   {
    "duration": 192,
    "start_time": "2022-08-14T11:49:50.655Z"
   },
   {
    "duration": 175,
    "start_time": "2022-08-14T11:50:01.719Z"
   },
   {
    "duration": 15,
    "start_time": "2022-08-14T11:50:04.061Z"
   },
   {
    "duration": 1517,
    "start_time": "2022-08-15T12:05:32.813Z"
   },
   {
    "duration": 4,
    "start_time": "2022-08-15T12:05:36.088Z"
   },
   {
    "duration": 1025,
    "start_time": "2022-08-15T12:05:36.717Z"
   },
   {
    "duration": 46,
    "start_time": "2022-08-15T12:05:37.743Z"
   },
   {
    "duration": 3,
    "start_time": "2022-08-15T12:05:39.210Z"
   },
   {
    "duration": 72,
    "start_time": "2022-08-15T12:05:39.994Z"
   },
   {
    "duration": 138,
    "start_time": "2022-08-15T12:05:42.577Z"
   },
   {
    "duration": 7,
    "start_time": "2022-08-15T12:05:47.778Z"
   },
   {
    "duration": 7,
    "start_time": "2022-08-15T12:05:49.683Z"
   },
   {
    "duration": 16,
    "start_time": "2022-08-15T12:05:52.620Z"
   },
   {
    "duration": 3,
    "start_time": "2022-08-15T12:06:40.346Z"
   },
   {
    "duration": 22,
    "start_time": "2022-08-15T12:07:23.072Z"
   },
   {
    "duration": 113,
    "start_time": "2022-08-15T12:08:37.070Z"
   },
   {
    "duration": 10,
    "start_time": "2022-08-15T12:10:10.506Z"
   },
   {
    "duration": 8,
    "start_time": "2022-08-15T12:10:19.027Z"
   },
   {
    "duration": 3,
    "start_time": "2022-08-15T12:10:26.780Z"
   },
   {
    "duration": 209,
    "start_time": "2022-08-15T12:10:36.970Z"
   },
   {
    "duration": 166,
    "start_time": "2022-08-15T12:10:49.179Z"
   },
   {
    "duration": 180,
    "start_time": "2022-08-15T12:11:24.948Z"
   },
   {
    "duration": 13,
    "start_time": "2022-08-15T12:12:37.073Z"
   },
   {
    "duration": 3,
    "start_time": "2022-08-15T12:12:42.022Z"
   },
   {
    "duration": 13,
    "start_time": "2022-08-15T12:13:14.651Z"
   },
   {
    "duration": 174,
    "start_time": "2022-08-15T12:13:19.378Z"
   },
   {
    "duration": 21,
    "start_time": "2022-08-15T12:13:20.251Z"
   },
   {
    "duration": 15,
    "start_time": "2022-08-15T12:13:24.468Z"
   },
   {
    "duration": 4,
    "start_time": "2022-08-15T12:13:53.178Z"
   },
   {
    "duration": 3,
    "start_time": "2022-08-15T12:22:02.666Z"
   },
   {
    "duration": 12,
    "start_time": "2022-08-15T12:22:59.921Z"
   },
   {
    "duration": 4,
    "start_time": "2022-08-15T12:24:55.645Z"
   },
   {
    "duration": 4,
    "start_time": "2022-08-15T12:25:16.500Z"
   },
   {
    "duration": 9,
    "start_time": "2022-08-15T12:25:28.642Z"
   },
   {
    "duration": 3,
    "start_time": "2022-08-15T12:25:55.028Z"
   },
   {
    "duration": 184,
    "start_time": "2022-08-15T12:25:58.336Z"
   },
   {
    "duration": 3,
    "start_time": "2022-08-15T12:26:02.385Z"
   },
   {
    "duration": 23,
    "start_time": "2022-08-15T12:35:38.645Z"
   },
   {
    "duration": 30,
    "start_time": "2022-08-15T12:35:50.815Z"
   },
   {
    "duration": 52,
    "start_time": "2022-08-15T12:36:16.246Z"
   },
   {
    "duration": 43,
    "start_time": "2022-08-15T12:36:20.008Z"
   },
   {
    "duration": 52,
    "start_time": "2022-08-15T12:36:40.475Z"
   },
   {
    "duration": 14,
    "start_time": "2022-08-15T12:37:23.775Z"
   },
   {
    "duration": 13,
    "start_time": "2022-08-15T12:37:49.115Z"
   },
   {
    "duration": 5,
    "start_time": "2022-08-15T12:37:59.617Z"
   },
   {
    "duration": 42,
    "start_time": "2022-08-15T12:38:38.313Z"
   },
   {
    "duration": 5,
    "start_time": "2022-08-15T12:38:45.425Z"
   },
   {
    "duration": 11,
    "start_time": "2022-08-15T12:40:48.702Z"
   },
   {
    "duration": 12,
    "start_time": "2022-08-15T12:41:15.610Z"
   },
   {
    "duration": 4,
    "start_time": "2022-08-15T12:41:23.695Z"
   },
   {
    "duration": 1447,
    "start_time": "2022-08-15T12:41:24.488Z"
   },
   {
    "duration": 5,
    "start_time": "2022-08-15T12:41:26.575Z"
   },
   {
    "duration": 42,
    "start_time": "2022-08-15T12:41:28.228Z"
   },
   {
    "duration": 12,
    "start_time": "2022-08-15T12:41:57.378Z"
   },
   {
    "duration": 3,
    "start_time": "2022-08-15T12:41:58.445Z"
   },
   {
    "duration": 228,
    "start_time": "2022-08-15T12:41:59.577Z"
   },
   {
    "duration": 49,
    "start_time": "2022-08-15T12:42:00.592Z"
   },
   {
    "duration": 3,
    "start_time": "2022-08-15T12:42:03.536Z"
   },
   {
    "duration": 84,
    "start_time": "2022-08-15T12:42:04.376Z"
   },
   {
    "duration": 150,
    "start_time": "2022-08-15T12:42:06.344Z"
   },
   {
    "duration": 7,
    "start_time": "2022-08-15T12:42:07.303Z"
   },
   {
    "duration": 8,
    "start_time": "2022-08-15T12:42:09.307Z"
   },
   {
    "duration": 19,
    "start_time": "2022-08-15T12:42:10.110Z"
   },
   {
    "duration": 4,
    "start_time": "2022-08-15T12:42:14.592Z"
   },
   {
    "duration": 642,
    "start_time": "2022-08-15T12:42:15.424Z"
   },
   {
    "duration": 5,
    "start_time": "2022-08-15T12:42:16.811Z"
   },
   {
    "duration": 1470,
    "start_time": "2022-08-15T12:42:17.712Z"
   },
   {
    "duration": 53,
    "start_time": "2022-08-15T12:42:23.729Z"
   },
   {
    "duration": 8,
    "start_time": "2022-08-15T12:42:25.977Z"
   },
   {
    "duration": 31,
    "start_time": "2022-08-15T12:42:27.563Z"
   },
   {
    "duration": 4,
    "start_time": "2022-08-15T12:42:28.314Z"
   },
   {
    "duration": 8,
    "start_time": "2022-08-15T12:42:33.650Z"
   },
   {
    "duration": 141477,
    "start_time": "2022-08-15T12:42:38.216Z"
   },
   {
    "duration": 142,
    "start_time": "2022-08-15T12:47:12.681Z"
   },
   {
    "duration": 36,
    "start_time": "2022-08-15T12:47:27.935Z"
   },
   {
    "duration": 652,
    "start_time": "2022-08-15T12:47:41.779Z"
   },
   {
    "duration": 8,
    "start_time": "2022-08-15T12:48:08.905Z"
   },
   {
    "duration": 4,
    "start_time": "2022-08-15T12:48:09.514Z"
   },
   {
    "duration": 270,
    "start_time": "2022-08-15T12:48:10.216Z"
   },
   {
    "duration": 45,
    "start_time": "2022-08-15T12:48:10.648Z"
   },
   {
    "duration": 3,
    "start_time": "2022-08-15T12:48:12.530Z"
   },
   {
    "duration": 79,
    "start_time": "2022-08-15T12:48:13.293Z"
   },
   {
    "duration": 192,
    "start_time": "2022-08-15T12:48:14.690Z"
   },
   {
    "duration": 10,
    "start_time": "2022-08-15T12:48:16.875Z"
   },
   {
    "duration": 9,
    "start_time": "2022-08-15T12:48:17.873Z"
   },
   {
    "duration": 24,
    "start_time": "2022-08-15T12:48:18.629Z"
   },
   {
    "duration": 3,
    "start_time": "2022-08-15T12:48:24.688Z"
   },
   {
    "duration": 630,
    "start_time": "2022-08-15T12:48:25.493Z"
   },
   {
    "duration": 4,
    "start_time": "2022-08-15T12:48:26.593Z"
   },
   {
    "duration": 1383,
    "start_time": "2022-08-15T12:48:27.683Z"
   },
   {
    "duration": 8,
    "start_time": "2022-08-15T12:48:30.974Z"
   },
   {
    "duration": 20,
    "start_time": "2022-08-15T12:48:38.458Z"
   },
   {
    "duration": 1205,
    "start_time": "2022-08-15T12:48:39.431Z"
   },
   {
    "duration": 4,
    "start_time": "2022-08-15T12:48:42.947Z"
   },
   {
    "duration": 41,
    "start_time": "2022-08-15T12:48:55.491Z"
   },
   {
    "duration": 35,
    "start_time": "2022-08-15T12:48:56.071Z"
   },
   {
    "duration": 142802,
    "start_time": "2022-08-15T12:49:00.213Z"
   },
   {
    "duration": 6,
    "start_time": "2022-08-15T12:51:23.017Z"
   },
   {
    "duration": 31,
    "start_time": "2022-08-15T12:51:23.025Z"
   },
   {
    "duration": 9,
    "start_time": "2022-08-15T12:52:07.164Z"
   },
   {
    "duration": 16,
    "start_time": "2022-08-15T12:52:10.681Z"
   },
   {
    "duration": 3,
    "start_time": "2022-08-15T12:52:31.525Z"
   },
   {
    "duration": 4,
    "start_time": "2022-08-15T12:52:52.920Z"
   },
   {
    "duration": 21,
    "start_time": "2022-08-15T12:54:08.452Z"
   },
   {
    "duration": 6,
    "start_time": "2022-08-15T12:54:55.778Z"
   },
   {
    "duration": 3,
    "start_time": "2022-08-15T12:54:56.930Z"
   },
   {
    "duration": 308,
    "start_time": "2022-08-15T12:54:57.445Z"
   },
   {
    "duration": 108,
    "start_time": "2022-08-15T12:54:57.884Z"
   },
   {
    "duration": 27,
    "start_time": "2022-08-15T12:55:05.377Z"
   },
   {
    "duration": 6,
    "start_time": "2022-08-15T12:55:10.679Z"
   },
   {
    "duration": 564,
    "start_time": "2022-08-15T12:55:11.523Z"
   },
   {
    "duration": 6,
    "start_time": "2022-08-15T12:55:12.740Z"
   },
   {
    "duration": 1281,
    "start_time": "2022-08-15T12:55:14.384Z"
   },
   {
    "duration": 4,
    "start_time": "2022-08-15T12:55:18.734Z"
   },
   {
    "duration": 285,
    "start_time": "2022-08-15T12:55:36.182Z"
   },
   {
    "duration": 13,
    "start_time": "2022-08-15T12:55:40.709Z"
   },
   {
    "duration": 904,
    "start_time": "2022-08-15T12:55:41.512Z"
   },
   {
    "duration": 6,
    "start_time": "2022-08-15T12:55:53.474Z"
   },
   {
    "duration": 46,
    "start_time": "2022-08-15T12:56:11.979Z"
   },
   {
    "duration": 133137,
    "start_time": "2022-08-15T12:56:22.332Z"
   },
   {
    "duration": 35,
    "start_time": "2022-08-15T12:59:40.686Z"
   },
   {
    "duration": 11,
    "start_time": "2022-08-15T12:59:47.528Z"
   },
   {
    "duration": 17,
    "start_time": "2022-08-15T12:59:55.971Z"
   },
   {
    "duration": 88,
    "start_time": "2022-08-15T13:00:18.634Z"
   },
   {
    "duration": 1920,
    "start_time": "2022-08-15T13:00:20.394Z"
   },
   {
    "duration": 318,
    "start_time": "2022-08-15T13:00:54.157Z"
   },
   {
    "duration": 93,
    "start_time": "2022-08-15T13:01:44.706Z"
   },
   {
    "duration": 1046,
    "start_time": "2022-08-15T13:01:46.436Z"
   },
   {
    "duration": 972,
    "start_time": "2022-08-15T13:02:12.500Z"
   },
   {
    "duration": 3,
    "start_time": "2022-08-15T13:02:30.432Z"
   },
   {
    "duration": 4,
    "start_time": "2022-08-15T13:02:38.748Z"
   },
   {
    "duration": 3,
    "start_time": "2022-08-15T13:05:15.269Z"
   },
   {
    "duration": 2,
    "start_time": "2022-08-15T13:06:58.381Z"
   },
   {
    "duration": 1370,
    "start_time": "2022-08-15T13:07:04.697Z"
   },
   {
    "duration": 5,
    "start_time": "2022-08-15T13:07:28.167Z"
   },
   {
    "duration": 1544,
    "start_time": "2022-08-15T13:07:30.944Z"
   },
   {
    "duration": 3,
    "start_time": "2022-08-15T13:07:39.322Z"
   },
   {
    "duration": 1376,
    "start_time": "2022-08-15T13:07:39.913Z"
   },
   {
    "duration": 5,
    "start_time": "2022-08-15T13:07:46.458Z"
   },
   {
    "duration": 11,
    "start_time": "2022-08-15T13:07:48.378Z"
   },
   {
    "duration": 12,
    "start_time": "2022-08-15T13:08:51.116Z"
   },
   {
    "duration": 4330,
    "start_time": "2022-08-15T13:09:05.344Z"
   },
   {
    "duration": 142,
    "start_time": "2022-08-15T13:09:09.758Z"
   },
   {
    "duration": 142,
    "start_time": "2022-08-15T13:13:47.959Z"
   },
   {
    "duration": 11,
    "start_time": "2022-08-15T13:15:47.626Z"
   },
   {
    "duration": 8,
    "start_time": "2022-08-15T13:15:58.726Z"
   },
   {
    "duration": 3,
    "start_time": "2022-08-15T13:16:01.938Z"
   },
   {
    "duration": 9,
    "start_time": "2022-08-15T13:16:13.537Z"
   },
   {
    "duration": 4,
    "start_time": "2022-08-15T13:16:53.019Z"
   },
   {
    "duration": 11,
    "start_time": "2022-08-15T13:17:03.265Z"
   },
   {
    "duration": 19,
    "start_time": "2022-08-15T13:17:19.842Z"
   },
   {
    "duration": 4,
    "start_time": "2022-08-15T13:17:51.873Z"
   },
   {
    "duration": 8,
    "start_time": "2022-08-15T13:18:10.431Z"
   },
   {
    "duration": 32,
    "start_time": "2022-08-15T13:18:15.125Z"
   },
   {
    "duration": 33,
    "start_time": "2022-08-15T13:18:53.985Z"
   },
   {
    "duration": 35,
    "start_time": "2022-08-15T13:19:08.329Z"
   },
   {
    "duration": 11,
    "start_time": "2022-08-15T13:21:56.666Z"
   },
   {
    "duration": 397,
    "start_time": "2022-08-15T13:22:27.020Z"
   },
   {
    "duration": 5,
    "start_time": "2022-08-15T13:22:34.154Z"
   },
   {
    "duration": 444,
    "start_time": "2022-08-15T13:22:35.066Z"
   },
   {
    "duration": 38,
    "start_time": "2022-08-15T13:23:02.849Z"
   },
   {
    "duration": 5,
    "start_time": "2022-08-15T13:23:10.295Z"
   },
   {
    "duration": 5,
    "start_time": "2022-08-15T13:24:25.212Z"
   },
   {
    "duration": 8,
    "start_time": "2022-08-15T13:24:36.280Z"
   },
   {
    "duration": 3,
    "start_time": "2022-08-15T13:26:24.718Z"
   },
   {
    "duration": 3,
    "start_time": "2022-08-15T13:28:29.666Z"
   },
   {
    "duration": 4,
    "start_time": "2022-08-15T13:28:41.753Z"
   },
   {
    "duration": 4,
    "start_time": "2022-08-15T13:29:00.476Z"
   },
   {
    "duration": 511776,
    "start_time": "2022-08-15T13:30:14.907Z"
   },
   {
    "duration": 521282,
    "start_time": "2022-08-15T13:40:39.632Z"
   },
   {
    "duration": 119,
    "start_time": "2022-08-15T13:52:48.243Z"
   },
   {
    "duration": 777,
    "start_time": "2022-08-15T13:52:51.960Z"
   },
   {
    "duration": 84,
    "start_time": "2022-08-15T13:52:55.016Z"
   },
   {
    "duration": 4,
    "start_time": "2022-08-15T13:52:56.920Z"
   },
   {
    "duration": 5,
    "start_time": "2022-08-15T13:57:33.561Z"
   },
   {
    "duration": 823,
    "start_time": "2022-08-15T13:57:44.632Z"
   },
   {
    "duration": 3,
    "start_time": "2022-08-15T13:57:45.457Z"
   },
   {
    "duration": 10,
    "start_time": "2022-08-15T14:00:10.995Z"
   },
   {
    "duration": 4,
    "start_time": "2022-08-15T14:01:28.873Z"
   },
   {
    "duration": 8,
    "start_time": "2022-08-15T14:01:37.414Z"
   },
   {
    "duration": 3,
    "start_time": "2022-08-15T14:01:38.059Z"
   },
   {
    "duration": 3,
    "start_time": "2022-08-15T14:01:39.172Z"
   },
   {
    "duration": 199,
    "start_time": "2022-08-15T14:01:39.705Z"
   },
   {
    "duration": 35,
    "start_time": "2022-08-15T14:01:40.122Z"
   },
   {
    "duration": 70,
    "start_time": "2022-08-15T14:01:42.983Z"
   },
   {
    "duration": 134,
    "start_time": "2022-08-15T14:01:43.873Z"
   },
   {
    "duration": 6,
    "start_time": "2022-08-15T14:01:44.974Z"
   },
   {
    "duration": 8,
    "start_time": "2022-08-15T14:01:46.507Z"
   },
   {
    "duration": 18,
    "start_time": "2022-08-15T14:01:47.203Z"
   },
   {
    "duration": 3,
    "start_time": "2022-08-15T14:01:55.622Z"
   },
   {
    "duration": 3,
    "start_time": "2022-08-15T14:01:58.910Z"
   },
   {
    "duration": 482,
    "start_time": "2022-08-15T14:01:59.774Z"
   },
   {
    "duration": 4,
    "start_time": "2022-08-15T14:02:00.619Z"
   },
   {
    "duration": 1149,
    "start_time": "2022-08-15T14:02:01.694Z"
   },
   {
    "duration": 4,
    "start_time": "2022-08-15T14:02:04.078Z"
   },
   {
    "duration": 6,
    "start_time": "2022-08-15T14:02:05.213Z"
   },
   {
    "duration": 15,
    "start_time": "2022-08-15T14:02:52.068Z"
   },
   {
    "duration": 10,
    "start_time": "2022-08-15T14:05:21.676Z"
   },
   {
    "duration": 110,
    "start_time": "2022-08-15T14:10:42.381Z"
   },
   {
    "duration": 1792,
    "start_time": "2022-08-16T17:15:03.583Z"
   },
   {
    "duration": 4,
    "start_time": "2022-08-16T17:15:05.377Z"
   },
   {
    "duration": 6,
    "start_time": "2022-08-16T17:15:05.382Z"
   },
   {
    "duration": 560,
    "start_time": "2022-08-16T17:15:05.390Z"
   },
   {
    "duration": 59,
    "start_time": "2022-08-16T17:15:05.953Z"
   },
   {
    "duration": 82,
    "start_time": "2022-08-16T17:15:06.015Z"
   },
   {
    "duration": 152,
    "start_time": "2022-08-16T17:15:06.108Z"
   },
   {
    "duration": 5,
    "start_time": "2022-08-16T17:15:06.261Z"
   },
   {
    "duration": 10,
    "start_time": "2022-08-16T17:15:06.268Z"
   },
   {
    "duration": 35,
    "start_time": "2022-08-16T17:15:06.279Z"
   },
   {
    "duration": 3,
    "start_time": "2022-08-16T17:15:06.316Z"
   },
   {
    "duration": 6,
    "start_time": "2022-08-16T17:15:06.320Z"
   },
   {
    "duration": 495,
    "start_time": "2022-08-16T17:15:06.328Z"
   },
   {
    "duration": 4,
    "start_time": "2022-08-16T17:15:06.826Z"
   },
   {
    "duration": 1196,
    "start_time": "2022-08-16T17:15:06.832Z"
   },
   {
    "duration": 4,
    "start_time": "2022-08-16T17:15:08.030Z"
   },
   {
    "duration": 12,
    "start_time": "2022-08-16T17:15:08.035Z"
   },
   {
    "duration": 52,
    "start_time": "2022-08-16T17:15:08.049Z"
   },
   {
    "duration": 10,
    "start_time": "2022-08-16T17:15:08.102Z"
   },
   {
    "duration": 18,
    "start_time": "2022-08-16T17:15:08.113Z"
   },
   {
    "duration": 4,
    "start_time": "2022-08-16T17:15:08.132Z"
   },
   {
    "duration": 9,
    "start_time": "2022-08-16T17:15:08.137Z"
   },
   {
    "duration": 126221,
    "start_time": "2022-08-16T17:15:08.147Z"
   },
   {
    "duration": 4740,
    "start_time": "2022-08-16T17:17:14.370Z"
   },
   {
    "duration": 557303,
    "start_time": "2022-08-16T17:17:19.112Z"
   },
   {
    "duration": 792,
    "start_time": "2022-08-16T17:26:36.417Z"
   },
   {
    "duration": 3,
    "start_time": "2022-08-16T17:26:37.210Z"
   },
   {
    "duration": 27,
    "start_time": "2022-08-16T17:26:37.214Z"
   },
   {
    "duration": 5,
    "start_time": "2022-08-16T17:26:37.242Z"
   },
   {
    "duration": 154,
    "start_time": "2022-08-16T17:26:37.249Z"
   },
   {
    "duration": 4,
    "start_time": "2022-08-16T17:26:37.406Z"
   },
   {
    "duration": 127,
    "start_time": "2022-08-16T17:26:37.412Z"
   },
   {
    "duration": 847,
    "start_time": "2022-08-16T17:26:37.541Z"
   },
   {
    "duration": 3,
    "start_time": "2022-08-16T17:26:38.390Z"
   },
   {
    "duration": 15,
    "start_time": "2022-08-16T17:26:38.395Z"
   },
   {
    "duration": 41,
    "start_time": "2022-08-16T17:26:38.411Z"
   },
   {
    "duration": 13,
    "start_time": "2022-08-16T17:26:38.454Z"
   },
   {
    "duration": 41,
    "start_time": "2022-08-16T17:26:38.469Z"
   },
   {
    "duration": 128,
    "start_time": "2022-08-18T19:04:52.920Z"
   },
   {
    "duration": 4445,
    "start_time": "2022-08-18T19:04:58.452Z"
   },
   {
    "duration": 6,
    "start_time": "2022-08-18T19:05:02.906Z"
   },
   {
    "duration": 7,
    "start_time": "2022-08-18T19:05:05.753Z"
   },
   {
    "duration": 2080,
    "start_time": "2022-08-18T19:05:06.809Z"
   },
   {
    "duration": 95,
    "start_time": "2022-08-18T19:05:09.069Z"
   },
   {
    "duration": 33,
    "start_time": "2022-08-18T19:05:12.028Z"
   },
   {
    "duration": 124,
    "start_time": "2022-08-18T19:05:28.266Z"
   },
   {
    "duration": 26,
    "start_time": "2022-08-18T19:05:34.794Z"
   },
   {
    "duration": 122,
    "start_time": "2022-08-18T19:05:39.630Z"
   },
   {
    "duration": 34,
    "start_time": "2022-08-18T19:07:02.118Z"
   },
   {
    "duration": 26,
    "start_time": "2022-08-18T19:07:10.904Z"
   },
   {
    "duration": 27,
    "start_time": "2022-08-18T19:07:50.433Z"
   },
   {
    "duration": 14,
    "start_time": "2022-08-18T19:09:08.671Z"
   },
   {
    "duration": 9,
    "start_time": "2022-08-18T19:09:13.782Z"
   },
   {
    "duration": 10,
    "start_time": "2022-08-18T19:09:19.757Z"
   },
   {
    "duration": 45,
    "start_time": "2022-08-18T19:09:24.837Z"
   },
   {
    "duration": 28,
    "start_time": "2022-08-18T19:09:26.552Z"
   },
   {
    "duration": 34,
    "start_time": "2022-08-18T19:09:46.626Z"
   },
   {
    "duration": 23,
    "start_time": "2022-08-18T19:09:47.417Z"
   },
   {
    "duration": 67,
    "start_time": "2022-08-18T19:09:56.557Z"
   },
   {
    "duration": 27,
    "start_time": "2022-08-18T19:09:57.565Z"
   },
   {
    "duration": 16,
    "start_time": "2022-08-18T19:10:00.593Z"
   },
   {
    "duration": 24,
    "start_time": "2022-08-18T19:10:09.450Z"
   },
   {
    "duration": 2437,
    "start_time": "2022-08-18T19:16:22.313Z"
   },
   {
    "duration": 22,
    "start_time": "2022-08-18T19:16:30.961Z"
   },
   {
    "duration": 21,
    "start_time": "2022-08-18T19:16:46.747Z"
   },
   {
    "duration": 41,
    "start_time": "2022-08-18T19:19:14.568Z"
   },
   {
    "duration": 32,
    "start_time": "2022-08-18T19:20:21.824Z"
   },
   {
    "duration": 265,
    "start_time": "2022-08-18T19:54:18.818Z"
   },
   {
    "duration": 390,
    "start_time": "2022-08-18T19:54:30.326Z"
   },
   {
    "duration": 399,
    "start_time": "2022-08-18T19:54:40.325Z"
   },
   {
    "duration": 380,
    "start_time": "2022-08-18T19:54:55.280Z"
   },
   {
    "duration": 7,
    "start_time": "2022-08-18T19:55:31.571Z"
   },
   {
    "duration": 20,
    "start_time": "2022-08-18T19:56:54.527Z"
   },
   {
    "duration": 13,
    "start_time": "2022-08-18T19:57:02.866Z"
   },
   {
    "duration": 14,
    "start_time": "2022-08-18T19:57:05.781Z"
   },
   {
    "duration": 14,
    "start_time": "2022-08-18T19:57:16.263Z"
   },
   {
    "duration": 7,
    "start_time": "2022-08-18T19:57:23.862Z"
   },
   {
    "duration": 24,
    "start_time": "2022-08-18T19:57:45.886Z"
   },
   {
    "duration": 17,
    "start_time": "2022-08-18T19:57:55.458Z"
   },
   {
    "duration": 271,
    "start_time": "2022-08-18T19:58:22.693Z"
   },
   {
    "duration": 29,
    "start_time": "2022-08-18T19:58:36.696Z"
   },
   {
    "duration": 688,
    "start_time": "2022-08-18T19:58:43.540Z"
   },
   {
    "duration": 664,
    "start_time": "2022-08-18T19:58:49.093Z"
   },
   {
    "duration": 811,
    "start_time": "2022-08-18T19:59:45.690Z"
   },
   {
    "duration": 1110,
    "start_time": "2022-08-18T19:59:51.279Z"
   },
   {
    "duration": 11,
    "start_time": "2022-08-18T20:00:13.562Z"
   },
   {
    "duration": 4,
    "start_time": "2022-08-18T20:00:14.484Z"
   },
   {
    "duration": 11,
    "start_time": "2022-08-18T20:00:15.738Z"
   },
   {
    "duration": 588,
    "start_time": "2022-08-18T20:00:16.183Z"
   },
   {
    "duration": 79,
    "start_time": "2022-08-18T20:00:16.773Z"
   },
   {
    "duration": 106,
    "start_time": "2022-08-18T20:00:18.758Z"
   },
   {
    "duration": 155,
    "start_time": "2022-08-18T20:00:20.272Z"
   },
   {
    "duration": 6,
    "start_time": "2022-08-18T20:00:22.141Z"
   },
   {
    "duration": 12,
    "start_time": "2022-08-18T20:00:24.455Z"
   },
   {
    "duration": 52,
    "start_time": "2022-08-18T20:00:24.896Z"
   },
   {
    "duration": 8,
    "start_time": "2022-08-18T20:00:25.764Z"
   },
   {
    "duration": 8,
    "start_time": "2022-08-18T20:00:26.270Z"
   },
   {
    "duration": 24,
    "start_time": "2022-08-18T20:00:26.740Z"
   },
   {
    "duration": 40,
    "start_time": "2022-08-18T20:00:27.192Z"
   },
   {
    "duration": 8,
    "start_time": "2022-08-18T20:00:28.781Z"
   },
   {
    "duration": 15,
    "start_time": "2022-08-18T20:00:29.335Z"
   },
   {
    "duration": 10,
    "start_time": "2022-08-18T20:00:29.959Z"
   },
   {
    "duration": 15,
    "start_time": "2022-08-18T20:00:31.171Z"
   },
   {
    "duration": 14,
    "start_time": "2022-08-18T20:00:32.234Z"
   },
   {
    "duration": 7,
    "start_time": "2022-08-18T20:00:33.370Z"
   },
   {
    "duration": 18,
    "start_time": "2022-08-18T20:00:34.146Z"
   },
   {
    "duration": 17,
    "start_time": "2022-08-18T20:00:34.833Z"
   },
   {
    "duration": 208,
    "start_time": "2022-08-18T20:01:10.249Z"
   },
   {
    "duration": 8,
    "start_time": "2022-08-18T20:01:51.688Z"
   },
   {
    "duration": 6,
    "start_time": "2022-08-18T20:02:37.874Z"
   },
   {
    "duration": 32,
    "start_time": "2022-08-18T20:32:25.389Z"
   },
   {
    "duration": 79,
    "start_time": "2022-08-18T20:49:05.145Z"
   },
   {
    "duration": 71,
    "start_time": "2022-08-18T20:52:26.258Z"
   },
   {
    "duration": 1421,
    "start_time": "2022-08-18T20:52:35.472Z"
   },
   {
    "duration": 4,
    "start_time": "2022-08-18T20:52:36.896Z"
   },
   {
    "duration": 3,
    "start_time": "2022-08-18T20:52:38.135Z"
   },
   {
    "duration": 74,
    "start_time": "2022-08-18T20:52:40.045Z"
   },
   {
    "duration": 290,
    "start_time": "2022-08-18T20:52:44.428Z"
   },
   {
    "duration": 65,
    "start_time": "2022-08-18T20:52:45.398Z"
   },
   {
    "duration": 81,
    "start_time": "2022-08-18T20:52:47.981Z"
   },
   {
    "duration": 192,
    "start_time": "2022-08-18T20:52:49.280Z"
   },
   {
    "duration": 7,
    "start_time": "2022-08-18T20:52:50.008Z"
   },
   {
    "duration": 8,
    "start_time": "2022-08-18T20:52:51.530Z"
   },
   {
    "duration": 25,
    "start_time": "2022-08-18T20:52:52.179Z"
   },
   {
    "duration": 9,
    "start_time": "2022-08-18T20:52:53.420Z"
   },
   {
    "duration": 9,
    "start_time": "2022-08-18T20:52:54.044Z"
   },
   {
    "duration": 14,
    "start_time": "2022-08-18T20:52:54.659Z"
   },
   {
    "duration": 7,
    "start_time": "2022-08-18T20:52:55.298Z"
   },
   {
    "duration": 8,
    "start_time": "2022-08-18T20:52:55.916Z"
   },
   {
    "duration": 10,
    "start_time": "2022-08-18T20:52:56.549Z"
   },
   {
    "duration": 15,
    "start_time": "2022-08-18T20:52:57.142Z"
   },
   {
    "duration": 22,
    "start_time": "2022-08-18T20:52:58.315Z"
   },
   {
    "duration": 6,
    "start_time": "2022-08-18T20:53:01.782Z"
   },
   {
    "duration": 13,
    "start_time": "2022-08-18T20:53:02.393Z"
   },
   {
    "duration": 7,
    "start_time": "2022-08-18T20:53:03.629Z"
   },
   {
    "duration": 4,
    "start_time": "2022-08-18T20:53:05.912Z"
   },
   {
    "duration": 3,
    "start_time": "2022-08-18T20:53:07.039Z"
   },
   {
    "duration": 497,
    "start_time": "2022-08-18T20:53:08.165Z"
   },
   {
    "duration": 5,
    "start_time": "2022-08-18T20:53:09.158Z"
   },
   {
    "duration": 1237,
    "start_time": "2022-08-18T20:53:10.870Z"
   },
   {
    "duration": 5,
    "start_time": "2022-08-18T20:53:14.387Z"
   },
   {
    "duration": 11,
    "start_time": "2022-08-18T20:53:15.178Z"
   },
   {
    "duration": 45,
    "start_time": "2022-08-18T20:53:16.210Z"
   },
   {
    "duration": 10,
    "start_time": "2022-08-18T20:53:16.868Z"
   },
   {
    "duration": 7,
    "start_time": "2022-08-18T20:53:31.202Z"
   },
   {
    "duration": 6,
    "start_time": "2022-08-18T20:53:34.072Z"
   },
   {
    "duration": 53,
    "start_time": "2022-08-18T21:11:55.288Z"
   },
   {
    "duration": 171362,
    "start_time": "2022-08-18T21:12:01.385Z"
   },
   {
    "duration": 173539,
    "start_time": "2022-08-18T21:18:10.085Z"
   },
   {
    "duration": 735069,
    "start_time": "2022-08-18T21:22:19.723Z"
   },
   {
    "duration": 7703,
    "start_time": "2022-08-18T21:34:34.798Z"
   },
   {
    "duration": 5152,
    "start_time": "2022-08-18T21:34:57.356Z"
   },
   {
    "duration": 855,
    "start_time": "2022-08-18T21:36:24.777Z"
   },
   {
    "duration": 3,
    "start_time": "2022-08-18T21:36:26.179Z"
   },
   {
    "duration": 37,
    "start_time": "2022-08-18T21:36:26.917Z"
   },
   {
    "duration": 7,
    "start_time": "2022-08-18T21:36:27.547Z"
   },
   {
    "duration": 7,
    "start_time": "2022-08-18T21:39:16.446Z"
   },
   {
    "duration": 142,
    "start_time": "2022-08-18T21:39:40.858Z"
   },
   {
    "duration": 14,
    "start_time": "2022-08-18T21:39:41.588Z"
   },
   {
    "duration": 29,
    "start_time": "2022-08-18T21:39:48.164Z"
   },
   {
    "duration": 21,
    "start_time": "2022-08-18T21:40:29.583Z"
   },
   {
    "duration": 7,
    "start_time": "2022-08-18T21:40:36.132Z"
   },
   {
    "duration": 28,
    "start_time": "2022-08-18T21:40:42.325Z"
   },
   {
    "duration": 1099,
    "start_time": "2022-08-18T21:40:46.856Z"
   },
   {
    "duration": 0,
    "start_time": "2022-08-18T21:40:47.957Z"
   },
   {
    "duration": 9,
    "start_time": "2022-08-18T21:41:23.564Z"
   },
   {
    "duration": 8,
    "start_time": "2022-08-18T21:41:23.575Z"
   },
   {
    "duration": 14,
    "start_time": "2022-08-18T21:41:23.584Z"
   },
   {
    "duration": 258,
    "start_time": "2022-08-18T21:41:23.601Z"
   },
   {
    "duration": 56,
    "start_time": "2022-08-18T21:41:23.860Z"
   },
   {
    "duration": 132,
    "start_time": "2022-08-18T21:41:23.918Z"
   },
   {
    "duration": 148,
    "start_time": "2022-08-18T21:41:24.052Z"
   },
   {
    "duration": 7,
    "start_time": "2022-08-18T21:41:24.201Z"
   },
   {
    "duration": 22,
    "start_time": "2022-08-18T21:41:24.209Z"
   },
   {
    "duration": 21,
    "start_time": "2022-08-18T21:41:24.234Z"
   },
   {
    "duration": 8,
    "start_time": "2022-08-18T21:41:24.257Z"
   },
   {
    "duration": 9,
    "start_time": "2022-08-18T21:41:24.299Z"
   },
   {
    "duration": 27,
    "start_time": "2022-08-18T21:41:24.310Z"
   },
   {
    "duration": 9,
    "start_time": "2022-08-18T21:41:24.338Z"
   },
   {
    "duration": 8,
    "start_time": "2022-08-18T21:41:24.350Z"
   },
   {
    "duration": 40,
    "start_time": "2022-08-18T21:41:24.359Z"
   },
   {
    "duration": 31,
    "start_time": "2022-08-18T21:41:24.401Z"
   },
   {
    "duration": 24,
    "start_time": "2022-08-18T21:41:24.434Z"
   },
   {
    "duration": 15,
    "start_time": "2022-08-18T21:41:24.461Z"
   },
   {
    "duration": 25,
    "start_time": "2022-08-18T21:41:24.478Z"
   },
   {
    "duration": 8,
    "start_time": "2022-08-18T21:41:24.505Z"
   },
   {
    "duration": 23,
    "start_time": "2022-08-18T21:41:24.515Z"
   },
   {
    "duration": 16,
    "start_time": "2022-08-18T21:41:24.540Z"
   },
   {
    "duration": 655,
    "start_time": "2022-08-18T21:41:24.558Z"
   },
   {
    "duration": 6,
    "start_time": "2022-08-18T21:41:25.216Z"
   },
   {
    "duration": 1879,
    "start_time": "2022-08-18T21:41:25.224Z"
   },
   {
    "duration": 4,
    "start_time": "2022-08-18T21:41:27.105Z"
   },
   {
    "duration": 23,
    "start_time": "2022-08-18T21:41:27.113Z"
   },
   {
    "duration": 108,
    "start_time": "2022-08-18T21:41:27.138Z"
   },
   {
    "duration": 56,
    "start_time": "2022-08-18T21:41:27.248Z"
   },
   {
    "duration": 19,
    "start_time": "2022-08-18T21:41:27.306Z"
   },
   {
    "duration": 6,
    "start_time": "2022-08-18T21:41:27.327Z"
   },
   {
    "duration": 181650,
    "start_time": "2022-08-18T21:41:27.335Z"
   },
   {
    "duration": 3321,
    "start_time": "2022-08-18T21:44:28.987Z"
   },
   {
    "duration": 696752,
    "start_time": "2022-08-18T21:44:32.311Z"
   },
   {
    "duration": 824,
    "start_time": "2022-08-18T21:56:09.065Z"
   },
   {
    "duration": 11,
    "start_time": "2022-08-18T21:56:09.892Z"
   },
   {
    "duration": 43,
    "start_time": "2022-08-18T21:56:09.905Z"
   },
   {
    "duration": 9,
    "start_time": "2022-08-18T21:56:09.950Z"
   },
   {
    "duration": 45,
    "start_time": "2022-08-18T21:56:09.962Z"
   },
   {
    "duration": 6,
    "start_time": "2022-08-18T21:56:10.009Z"
   },
   {
    "duration": 100,
    "start_time": "2022-08-18T21:56:10.017Z"
   },
   {
    "duration": 856,
    "start_time": "2022-08-18T21:56:10.118Z"
   },
   {
    "duration": 4,
    "start_time": "2022-08-18T21:56:10.975Z"
   },
   {
    "duration": 6,
    "start_time": "2022-08-18T21:56:10.981Z"
   },
   {
    "duration": 35,
    "start_time": "2022-08-18T21:56:10.999Z"
   },
   {
    "duration": 16,
    "start_time": "2022-08-18T21:56:11.036Z"
   },
   {
    "duration": 12,
    "start_time": "2022-08-18T21:56:11.054Z"
   },
   {
    "duration": 22,
    "start_time": "2022-08-18T21:58:28.824Z"
   },
   {
    "duration": 27,
    "start_time": "2022-08-18T22:00:30.243Z"
   },
   {
    "duration": 32,
    "start_time": "2022-08-18T22:01:20.691Z"
   },
   {
    "duration": 8,
    "start_time": "2022-08-18T22:02:20.446Z"
   },
   {
    "duration": 34,
    "start_time": "2022-08-18T22:02:28.382Z"
   },
   {
    "duration": 11,
    "start_time": "2022-08-18T22:03:12.955Z"
   },
   {
    "duration": 11,
    "start_time": "2022-08-18T22:03:26.225Z"
   },
   {
    "duration": 156,
    "start_time": "2022-08-18T22:04:06.716Z"
   },
   {
    "duration": 3,
    "start_time": "2022-08-18T22:04:22.532Z"
   },
   {
    "duration": 146,
    "start_time": "2022-08-18T22:04:39.303Z"
   },
   {
    "duration": 52,
    "start_time": "2022-08-20T05:34:14.652Z"
   },
   {
    "duration": 1499,
    "start_time": "2022-08-20T05:34:18.096Z"
   },
   {
    "duration": 435,
    "start_time": "2022-08-20T05:34:19.776Z"
   },
   {
    "duration": 20,
    "start_time": "2022-08-20T05:34:25.596Z"
   },
   {
    "duration": 8,
    "start_time": "2022-08-20T05:34:26.544Z"
   },
   {
    "duration": 22,
    "start_time": "2022-08-20T05:34:52.336Z"
   },
   {
    "duration": 6,
    "start_time": "2022-08-20T05:34:53.775Z"
   },
   {
    "duration": 128,
    "start_time": "2022-08-20T05:39:02.700Z"
   },
   {
    "duration": 879,
    "start_time": "2022-08-20T05:39:32.052Z"
   },
   {
    "duration": 56,
    "start_time": "2022-08-20T05:39:42.795Z"
   },
   {
    "duration": 1073,
    "start_time": "2022-08-20T05:39:44.825Z"
   },
   {
    "duration": 24,
    "start_time": "2022-08-20T05:39:55.505Z"
   },
   {
    "duration": 18,
    "start_time": "2022-08-20T05:40:30.671Z"
   },
   {
    "duration": 25,
    "start_time": "2022-08-20T05:40:32.670Z"
   },
   {
    "duration": 739,
    "start_time": "2022-08-20T05:40:47.143Z"
   },
   {
    "duration": 12,
    "start_time": "2022-08-20T05:40:56.085Z"
   },
   {
    "duration": 17,
    "start_time": "2022-08-20T05:41:39.553Z"
   },
   {
    "duration": 886,
    "start_time": "2022-08-20T05:41:46.419Z"
   },
   {
    "duration": 15,
    "start_time": "2022-08-20T05:44:53.926Z"
   },
   {
    "duration": 9,
    "start_time": "2022-08-20T05:57:06.716Z"
   },
   {
    "duration": 11,
    "start_time": "2022-08-20T05:57:20.069Z"
   },
   {
    "duration": 3,
    "start_time": "2022-08-20T05:57:25.107Z"
   },
   {
    "duration": 4,
    "start_time": "2022-08-20T05:57:25.685Z"
   },
   {
    "duration": 5,
    "start_time": "2022-08-20T05:57:26.316Z"
   },
   {
    "duration": 40,
    "start_time": "2022-08-20T05:57:32.626Z"
   },
   {
    "duration": 8,
    "start_time": "2022-08-20T05:58:39.314Z"
   },
   {
    "duration": 7,
    "start_time": "2022-08-20T05:58:39.323Z"
   },
   {
    "duration": 4,
    "start_time": "2022-08-20T05:58:39.331Z"
   },
   {
    "duration": 199,
    "start_time": "2022-08-20T05:58:39.337Z"
   },
   {
    "duration": 47,
    "start_time": "2022-08-20T05:58:39.538Z"
   },
   {
    "duration": 64,
    "start_time": "2022-08-20T05:58:39.586Z"
   },
   {
    "duration": 152,
    "start_time": "2022-08-20T05:58:39.652Z"
   },
   {
    "duration": 5,
    "start_time": "2022-08-20T05:58:39.806Z"
   },
   {
    "duration": 8,
    "start_time": "2022-08-20T05:58:39.812Z"
   },
   {
    "duration": 18,
    "start_time": "2022-08-20T05:58:39.822Z"
   },
   {
    "duration": 8,
    "start_time": "2022-08-20T05:58:39.842Z"
   },
   {
    "duration": 11,
    "start_time": "2022-08-20T05:58:39.885Z"
   },
   {
    "duration": 21,
    "start_time": "2022-08-20T05:58:39.897Z"
   },
   {
    "duration": 6,
    "start_time": "2022-08-20T05:58:39.920Z"
   },
   {
    "duration": 8,
    "start_time": "2022-08-20T05:58:39.927Z"
   },
   {
    "duration": 7,
    "start_time": "2022-08-20T05:58:39.936Z"
   },
   {
    "duration": 46,
    "start_time": "2022-08-20T05:58:39.944Z"
   },
   {
    "duration": 25,
    "start_time": "2022-08-20T05:58:39.992Z"
   },
   {
    "duration": 5,
    "start_time": "2022-08-20T05:58:40.018Z"
   },
   {
    "duration": 15,
    "start_time": "2022-08-20T05:58:40.025Z"
   },
   {
    "duration": 5,
    "start_time": "2022-08-20T05:58:40.041Z"
   },
   {
    "duration": 38,
    "start_time": "2022-08-20T05:58:40.048Z"
   },
   {
    "duration": 5,
    "start_time": "2022-08-20T05:58:40.088Z"
   },
   {
    "duration": 547,
    "start_time": "2022-08-20T05:58:40.094Z"
   },
   {
    "duration": 4,
    "start_time": "2022-08-20T05:58:40.643Z"
   },
   {
    "duration": 1464,
    "start_time": "2022-08-20T05:58:40.649Z"
   },
   {
    "duration": 4,
    "start_time": "2022-08-20T05:58:42.114Z"
   },
   {
    "duration": 11,
    "start_time": "2022-08-20T05:58:42.121Z"
   },
   {
    "duration": 571,
    "start_time": "2022-08-20T05:58:42.133Z"
   },
   {
    "duration": 0,
    "start_time": "2022-08-20T05:58:42.706Z"
   },
   {
    "duration": 0,
    "start_time": "2022-08-20T05:58:42.707Z"
   },
   {
    "duration": 0,
    "start_time": "2022-08-20T05:58:42.708Z"
   },
   {
    "duration": 0,
    "start_time": "2022-08-20T05:58:42.709Z"
   },
   {
    "duration": 0,
    "start_time": "2022-08-20T05:58:42.710Z"
   },
   {
    "duration": 0,
    "start_time": "2022-08-20T05:58:42.711Z"
   },
   {
    "duration": 0,
    "start_time": "2022-08-20T05:58:42.712Z"
   },
   {
    "duration": 0,
    "start_time": "2022-08-20T05:58:42.713Z"
   },
   {
    "duration": 0,
    "start_time": "2022-08-20T05:58:42.714Z"
   },
   {
    "duration": 0,
    "start_time": "2022-08-20T05:58:42.715Z"
   },
   {
    "duration": 0,
    "start_time": "2022-08-20T05:58:42.716Z"
   },
   {
    "duration": 0,
    "start_time": "2022-08-20T05:58:42.717Z"
   },
   {
    "duration": 0,
    "start_time": "2022-08-20T05:58:42.717Z"
   },
   {
    "duration": 0,
    "start_time": "2022-08-20T05:58:42.718Z"
   },
   {
    "duration": 0,
    "start_time": "2022-08-20T05:58:42.719Z"
   },
   {
    "duration": 0,
    "start_time": "2022-08-20T05:58:42.720Z"
   },
   {
    "duration": 0,
    "start_time": "2022-08-20T05:58:42.721Z"
   },
   {
    "duration": 0,
    "start_time": "2022-08-20T05:58:42.722Z"
   },
   {
    "duration": 0,
    "start_time": "2022-08-20T05:58:42.723Z"
   },
   {
    "duration": 0,
    "start_time": "2022-08-20T05:58:42.724Z"
   },
   {
    "duration": 0,
    "start_time": "2022-08-20T05:58:42.725Z"
   },
   {
    "duration": 267,
    "start_time": "2022-08-20T05:59:26.949Z"
   },
   {
    "duration": 4,
    "start_time": "2022-08-20T05:59:31.277Z"
   },
   {
    "duration": 240,
    "start_time": "2022-08-20T05:59:33.851Z"
   },
   {
    "duration": 276,
    "start_time": "2022-08-20T05:59:37.071Z"
   },
   {
    "duration": 15,
    "start_time": "2022-08-20T06:02:31.718Z"
   },
   {
    "duration": 7,
    "start_time": "2022-08-20T06:02:31.735Z"
   },
   {
    "duration": 6,
    "start_time": "2022-08-20T06:02:31.744Z"
   },
   {
    "duration": 210,
    "start_time": "2022-08-20T06:02:31.751Z"
   },
   {
    "duration": 38,
    "start_time": "2022-08-20T06:02:31.963Z"
   },
   {
    "duration": 82,
    "start_time": "2022-08-20T06:02:32.003Z"
   },
   {
    "duration": 156,
    "start_time": "2022-08-20T06:02:32.087Z"
   },
   {
    "duration": 5,
    "start_time": "2022-08-20T06:02:32.245Z"
   },
   {
    "duration": 8,
    "start_time": "2022-08-20T06:02:32.252Z"
   },
   {
    "duration": 21,
    "start_time": "2022-08-20T06:02:32.284Z"
   },
   {
    "duration": 10,
    "start_time": "2022-08-20T06:02:32.306Z"
   },
   {
    "duration": 8,
    "start_time": "2022-08-20T06:02:32.317Z"
   },
   {
    "duration": 22,
    "start_time": "2022-08-20T06:02:32.326Z"
   },
   {
    "duration": 38,
    "start_time": "2022-08-20T06:02:32.351Z"
   },
   {
    "duration": 9,
    "start_time": "2022-08-20T06:02:32.391Z"
   },
   {
    "duration": 8,
    "start_time": "2022-08-20T06:02:32.402Z"
   },
   {
    "duration": 11,
    "start_time": "2022-08-20T06:02:32.412Z"
   },
   {
    "duration": 65,
    "start_time": "2022-08-20T06:02:32.424Z"
   },
   {
    "duration": 6,
    "start_time": "2022-08-20T06:02:32.491Z"
   },
   {
    "duration": 15,
    "start_time": "2022-08-20T06:02:32.498Z"
   },
   {
    "duration": 5,
    "start_time": "2022-08-20T06:02:32.515Z"
   },
   {
    "duration": 3,
    "start_time": "2022-08-20T06:02:32.521Z"
   },
   {
    "duration": 4,
    "start_time": "2022-08-20T06:02:32.526Z"
   },
   {
    "duration": 599,
    "start_time": "2022-08-20T06:02:32.532Z"
   },
   {
    "duration": 4,
    "start_time": "2022-08-20T06:02:33.132Z"
   },
   {
    "duration": 1286,
    "start_time": "2022-08-20T06:02:33.137Z"
   },
   {
    "duration": 6,
    "start_time": "2022-08-20T06:02:34.425Z"
   },
   {
    "duration": 16,
    "start_time": "2022-08-20T06:02:34.433Z"
   },
   {
    "duration": 5,
    "start_time": "2022-08-20T06:02:57.096Z"
   },
   {
    "duration": 10,
    "start_time": "2022-08-20T06:05:36.336Z"
   },
   {
    "duration": 830,
    "start_time": "2022-08-20T06:05:38.916Z"
   },
   {
    "duration": 264,
    "start_time": "2022-08-20T06:05:43.311Z"
   },
   {
    "duration": 270,
    "start_time": "2022-08-20T06:05:49.711Z"
   },
   {
    "duration": 11,
    "start_time": "2022-08-20T06:06:06.178Z"
   },
   {
    "duration": 8,
    "start_time": "2022-08-20T06:06:06.191Z"
   },
   {
    "duration": 5,
    "start_time": "2022-08-20T06:06:06.200Z"
   },
   {
    "duration": 210,
    "start_time": "2022-08-20T06:06:06.206Z"
   },
   {
    "duration": 35,
    "start_time": "2022-08-20T06:06:06.417Z"
   },
   {
    "duration": 76,
    "start_time": "2022-08-20T06:06:06.454Z"
   },
   {
    "duration": 139,
    "start_time": "2022-08-20T06:06:06.532Z"
   },
   {
    "duration": 15,
    "start_time": "2022-08-20T06:06:06.673Z"
   },
   {
    "duration": 7,
    "start_time": "2022-08-20T06:06:06.689Z"
   },
   {
    "duration": 18,
    "start_time": "2022-08-20T06:06:06.698Z"
   },
   {
    "duration": 5,
    "start_time": "2022-08-20T06:06:06.718Z"
   },
   {
    "duration": 7,
    "start_time": "2022-08-20T06:06:06.725Z"
   },
   {
    "duration": 62,
    "start_time": "2022-08-20T06:06:06.733Z"
   },
   {
    "duration": 6,
    "start_time": "2022-08-20T06:06:06.796Z"
   },
   {
    "duration": 7,
    "start_time": "2022-08-20T06:06:06.804Z"
   },
   {
    "duration": 7,
    "start_time": "2022-08-20T06:06:06.813Z"
   },
   {
    "duration": 13,
    "start_time": "2022-08-20T06:06:06.821Z"
   },
   {
    "duration": 49,
    "start_time": "2022-08-20T06:06:06.836Z"
   },
   {
    "duration": 6,
    "start_time": "2022-08-20T06:06:06.886Z"
   },
   {
    "duration": 14,
    "start_time": "2022-08-20T06:06:06.894Z"
   },
   {
    "duration": 6,
    "start_time": "2022-08-20T06:06:06.909Z"
   },
   {
    "duration": 3,
    "start_time": "2022-08-20T06:06:06.917Z"
   },
   {
    "duration": 5,
    "start_time": "2022-08-20T06:06:06.922Z"
   },
   {
    "duration": 526,
    "start_time": "2022-08-20T06:06:06.928Z"
   },
   {
    "duration": 4,
    "start_time": "2022-08-20T06:06:07.456Z"
   },
   {
    "duration": 1248,
    "start_time": "2022-08-20T06:06:07.461Z"
   },
   {
    "duration": 3,
    "start_time": "2022-08-20T06:06:08.713Z"
   },
   {
    "duration": 12,
    "start_time": "2022-08-20T06:06:08.718Z"
   },
   {
    "duration": 12,
    "start_time": "2022-08-20T06:06:08.731Z"
   },
   {
    "duration": 873,
    "start_time": "2022-08-20T06:06:08.744Z"
   },
   {
    "duration": 4,
    "start_time": "2022-08-20T06:06:09.619Z"
   },
   {
    "duration": 27,
    "start_time": "2022-08-20T06:06:09.625Z"
   },
   {
    "duration": 47,
    "start_time": "2022-08-20T06:06:09.653Z"
   },
   {
    "duration": 7,
    "start_time": "2022-08-20T06:06:09.701Z"
   },
   {
    "duration": 4,
    "start_time": "2022-08-20T06:06:09.709Z"
   },
   {
    "duration": 7,
    "start_time": "2022-08-20T06:06:09.714Z"
   },
   {
    "duration": 152486,
    "start_time": "2022-08-20T06:06:09.722Z"
   },
   {
    "duration": 7085,
    "start_time": "2022-08-20T06:08:42.210Z"
   },
   {
    "duration": 662842,
    "start_time": "2022-08-20T06:08:49.296Z"
   },
   {
    "duration": 6,
    "start_time": "2022-08-20T06:19:52.139Z"
   },
   {
    "duration": 109,
    "start_time": "2022-08-20T06:19:52.147Z"
   },
   {
    "duration": 5,
    "start_time": "2022-08-20T06:19:52.258Z"
   },
   {
    "duration": 92,
    "start_time": "2022-08-20T06:19:52.265Z"
   },
   {
    "duration": 0,
    "start_time": "2022-08-20T06:19:52.359Z"
   },
   {
    "duration": 0,
    "start_time": "2022-08-20T06:19:52.360Z"
   },
   {
    "duration": 0,
    "start_time": "2022-08-20T06:19:52.361Z"
   },
   {
    "duration": 0,
    "start_time": "2022-08-20T06:19:52.362Z"
   },
   {
    "duration": 0,
    "start_time": "2022-08-20T06:19:52.362Z"
   },
   {
    "duration": 0,
    "start_time": "2022-08-20T06:19:52.363Z"
   },
   {
    "duration": 0,
    "start_time": "2022-08-20T06:19:52.364Z"
   },
   {
    "duration": 0,
    "start_time": "2022-08-20T06:19:52.365Z"
   },
   {
    "duration": 96,
    "start_time": "2022-08-20T06:21:58.329Z"
   },
   {
    "duration": 5,
    "start_time": "2022-08-20T06:22:01.123Z"
   },
   {
    "duration": 96,
    "start_time": "2022-08-20T06:22:01.920Z"
   },
   {
    "duration": 100,
    "start_time": "2022-08-20T06:22:41.819Z"
   },
   {
    "duration": 3,
    "start_time": "2022-08-20T06:23:55.069Z"
   },
   {
    "duration": 89,
    "start_time": "2022-08-20T06:24:02.040Z"
   },
   {
    "duration": 97,
    "start_time": "2022-08-20T06:24:04.273Z"
   },
   {
    "duration": 3,
    "start_time": "2022-08-20T06:24:14.185Z"
   },
   {
    "duration": 90,
    "start_time": "2022-08-20T06:24:17.223Z"
   },
   {
    "duration": 12,
    "start_time": "2022-08-20T06:24:19.716Z"
   },
   {
    "duration": 9,
    "start_time": "2022-08-20T06:26:01.476Z"
   },
   {
    "duration": 996,
    "start_time": "2022-08-20T06:26:11.355Z"
   },
   {
    "duration": 1082,
    "start_time": "2022-08-20T06:26:32.580Z"
   },
   {
    "duration": 1115,
    "start_time": "2022-08-20T06:26:35.965Z"
   },
   {
    "duration": 631,
    "start_time": "2022-08-20T06:26:47.899Z"
   },
   {
    "duration": 5,
    "start_time": "2022-08-20T06:28:50.514Z"
   },
   {
    "duration": 99,
    "start_time": "2022-08-20T06:28:51.395Z"
   },
   {
    "duration": 20,
    "start_time": "2022-08-20T06:29:47.625Z"
   },
   {
    "duration": 8,
    "start_time": "2022-08-20T06:29:47.647Z"
   },
   {
    "duration": 5,
    "start_time": "2022-08-20T06:29:47.657Z"
   },
   {
    "duration": 219,
    "start_time": "2022-08-20T06:29:47.664Z"
   },
   {
    "duration": 36,
    "start_time": "2022-08-20T06:29:47.885Z"
   },
   {
    "duration": 87,
    "start_time": "2022-08-20T06:29:47.922Z"
   },
   {
    "duration": 161,
    "start_time": "2022-08-20T06:29:48.011Z"
   },
   {
    "duration": 13,
    "start_time": "2022-08-20T06:29:48.174Z"
   },
   {
    "duration": 7,
    "start_time": "2022-08-20T06:29:48.189Z"
   },
   {
    "duration": 20,
    "start_time": "2022-08-20T06:29:48.199Z"
   },
   {
    "duration": 7,
    "start_time": "2022-08-20T06:29:48.220Z"
   },
   {
    "duration": 17,
    "start_time": "2022-08-20T06:29:48.228Z"
   },
   {
    "duration": 54,
    "start_time": "2022-08-20T06:29:48.246Z"
   },
   {
    "duration": 8,
    "start_time": "2022-08-20T06:29:48.302Z"
   },
   {
    "duration": 9,
    "start_time": "2022-08-20T06:29:48.311Z"
   },
   {
    "duration": 8,
    "start_time": "2022-08-20T06:29:48.322Z"
   },
   {
    "duration": 11,
    "start_time": "2022-08-20T06:29:48.332Z"
   },
   {
    "duration": 58,
    "start_time": "2022-08-20T06:29:48.345Z"
   },
   {
    "duration": 6,
    "start_time": "2022-08-20T06:29:48.405Z"
   },
   {
    "duration": 17,
    "start_time": "2022-08-20T06:29:48.412Z"
   },
   {
    "duration": 11,
    "start_time": "2022-08-20T06:29:48.431Z"
   },
   {
    "duration": 5,
    "start_time": "2022-08-20T06:29:48.443Z"
   },
   {
    "duration": 9,
    "start_time": "2022-08-20T06:29:48.449Z"
   },
   {
    "duration": 542,
    "start_time": "2022-08-20T06:29:48.459Z"
   },
   {
    "duration": 5,
    "start_time": "2022-08-20T06:29:49.002Z"
   },
   {
    "duration": 1170,
    "start_time": "2022-08-20T06:29:49.008Z"
   },
   {
    "duration": 6,
    "start_time": "2022-08-20T06:29:50.180Z"
   },
   {
    "duration": 26,
    "start_time": "2022-08-20T06:29:50.189Z"
   },
   {
    "duration": 18,
    "start_time": "2022-08-20T06:29:50.216Z"
   },
   {
    "duration": 1083,
    "start_time": "2022-08-20T06:29:50.235Z"
   },
   {
    "duration": 4,
    "start_time": "2022-08-20T06:29:51.319Z"
   },
   {
    "duration": 73,
    "start_time": "2022-08-20T06:29:51.324Z"
   },
   {
    "duration": 31,
    "start_time": "2022-08-20T06:29:51.398Z"
   },
   {
    "duration": 7,
    "start_time": "2022-08-20T06:29:51.484Z"
   },
   {
    "duration": 3,
    "start_time": "2022-08-20T06:29:51.493Z"
   },
   {
    "duration": 9,
    "start_time": "2022-08-20T06:29:51.497Z"
   },
   {
    "duration": 151556,
    "start_time": "2022-08-20T06:29:51.507Z"
   },
   {
    "duration": 4328,
    "start_time": "2022-08-20T06:32:23.065Z"
   },
   {
    "duration": 657187,
    "start_time": "2022-08-20T06:32:27.486Z"
   },
   {
    "duration": 9,
    "start_time": "2022-08-20T06:43:24.675Z"
   },
   {
    "duration": 80,
    "start_time": "2022-08-20T06:43:24.686Z"
   },
   {
    "duration": 21,
    "start_time": "2022-08-20T06:43:24.767Z"
   },
   {
    "duration": 93,
    "start_time": "2022-08-20T06:43:24.790Z"
   },
   {
    "duration": 281,
    "start_time": "2022-08-20T06:43:24.885Z"
   },
   {
    "duration": 0,
    "start_time": "2022-08-20T06:43:25.168Z"
   },
   {
    "duration": 0,
    "start_time": "2022-08-20T06:43:25.169Z"
   },
   {
    "duration": 0,
    "start_time": "2022-08-20T06:43:25.170Z"
   },
   {
    "duration": 0,
    "start_time": "2022-08-20T06:43:25.172Z"
   },
   {
    "duration": 0,
    "start_time": "2022-08-20T06:43:25.173Z"
   },
   {
    "duration": 0,
    "start_time": "2022-08-20T06:43:25.174Z"
   },
   {
    "duration": 0,
    "start_time": "2022-08-20T06:43:25.185Z"
   },
   {
    "duration": 9,
    "start_time": "2022-08-20T06:44:59.949Z"
   },
   {
    "duration": 21,
    "start_time": "2022-08-20T06:45:06.172Z"
   },
   {
    "duration": 4,
    "start_time": "2022-08-20T06:45:58.375Z"
   },
   {
    "duration": 96,
    "start_time": "2022-08-20T06:46:05.263Z"
   },
   {
    "duration": 618,
    "start_time": "2022-08-20T06:46:05.361Z"
   },
   {
    "duration": 0,
    "start_time": "2022-08-20T06:46:05.981Z"
   },
   {
    "duration": 0,
    "start_time": "2022-08-20T06:46:05.985Z"
   },
   {
    "duration": 0,
    "start_time": "2022-08-20T06:46:05.986Z"
   },
   {
    "duration": 0,
    "start_time": "2022-08-20T06:46:05.988Z"
   },
   {
    "duration": 0,
    "start_time": "2022-08-20T06:46:05.990Z"
   },
   {
    "duration": 0,
    "start_time": "2022-08-20T06:46:05.991Z"
   },
   {
    "duration": 0,
    "start_time": "2022-08-20T06:46:05.992Z"
   },
   {
    "duration": 20,
    "start_time": "2022-08-20T06:46:50.415Z"
   },
   {
    "duration": 23,
    "start_time": "2022-08-20T06:48:29.495Z"
   },
   {
    "duration": 20,
    "start_time": "2022-08-20T06:48:35.057Z"
   },
   {
    "duration": 10,
    "start_time": "2022-08-20T06:49:13.885Z"
   },
   {
    "duration": 3,
    "start_time": "2022-08-20T06:49:14.621Z"
   },
   {
    "duration": 7,
    "start_time": "2022-08-20T06:52:13.115Z"
   },
   {
    "duration": 7,
    "start_time": "2022-08-20T06:52:13.125Z"
   },
   {
    "duration": 5,
    "start_time": "2022-08-20T06:52:13.134Z"
   },
   {
    "duration": 195,
    "start_time": "2022-08-20T06:52:13.140Z"
   },
   {
    "duration": 33,
    "start_time": "2022-08-20T06:52:13.337Z"
   },
   {
    "duration": 70,
    "start_time": "2022-08-20T06:52:13.371Z"
   },
   {
    "duration": 154,
    "start_time": "2022-08-20T06:52:13.442Z"
   },
   {
    "duration": 5,
    "start_time": "2022-08-20T06:52:13.597Z"
   },
   {
    "duration": 9,
    "start_time": "2022-08-20T06:52:13.603Z"
   },
   {
    "duration": 19,
    "start_time": "2022-08-20T06:52:13.613Z"
   },
   {
    "duration": 7,
    "start_time": "2022-08-20T06:52:13.633Z"
   },
   {
    "duration": 49,
    "start_time": "2022-08-20T06:52:13.641Z"
   },
   {
    "duration": 22,
    "start_time": "2022-08-20T06:52:13.692Z"
   },
   {
    "duration": 7,
    "start_time": "2022-08-20T06:52:13.718Z"
   },
   {
    "duration": 8,
    "start_time": "2022-08-20T06:52:13.727Z"
   },
   {
    "duration": 9,
    "start_time": "2022-08-20T06:52:13.737Z"
   },
   {
    "duration": 45,
    "start_time": "2022-08-20T06:52:13.748Z"
   },
   {
    "duration": 24,
    "start_time": "2022-08-20T06:52:13.795Z"
   },
   {
    "duration": 6,
    "start_time": "2022-08-20T06:52:13.820Z"
   },
   {
    "duration": 14,
    "start_time": "2022-08-20T06:52:13.827Z"
   },
   {
    "duration": 4,
    "start_time": "2022-08-20T06:52:13.843Z"
   },
   {
    "duration": 36,
    "start_time": "2022-08-20T06:52:13.849Z"
   },
   {
    "duration": 5,
    "start_time": "2022-08-20T06:52:13.887Z"
   },
   {
    "duration": 506,
    "start_time": "2022-08-20T06:52:13.893Z"
   },
   {
    "duration": 9,
    "start_time": "2022-08-20T06:52:14.401Z"
   },
   {
    "duration": 1224,
    "start_time": "2022-08-20T06:52:14.412Z"
   },
   {
    "duration": 5,
    "start_time": "2022-08-20T06:52:15.637Z"
   },
   {
    "duration": 10,
    "start_time": "2022-08-20T06:52:15.643Z"
   },
   {
    "duration": 34,
    "start_time": "2022-08-20T06:52:15.654Z"
   },
   {
    "duration": 20,
    "start_time": "2022-08-20T06:52:15.690Z"
   },
   {
    "duration": 838,
    "start_time": "2022-08-20T06:52:15.712Z"
   },
   {
    "duration": 3,
    "start_time": "2022-08-20T06:52:16.552Z"
   },
   {
    "duration": 30,
    "start_time": "2022-08-20T06:52:16.557Z"
   },
   {
    "duration": 32,
    "start_time": "2022-08-20T06:52:16.589Z"
   },
   {
    "duration": 8,
    "start_time": "2022-08-20T06:52:16.623Z"
   },
   {
    "duration": 4,
    "start_time": "2022-08-20T06:52:16.633Z"
   },
   {
    "duration": 9,
    "start_time": "2022-08-20T06:52:16.639Z"
   },
   {
    "duration": 7,
    "start_time": "2022-08-20T06:52:37.183Z"
   },
   {
    "duration": 105,
    "start_time": "2022-08-20T06:52:37.193Z"
   },
   {
    "duration": 899,
    "start_time": "2022-08-20T06:52:37.299Z"
   },
   {
    "duration": 4,
    "start_time": "2022-08-20T06:52:38.200Z"
   },
   {
    "duration": 6,
    "start_time": "2022-08-20T06:52:38.206Z"
   },
   {
    "duration": 13,
    "start_time": "2022-08-20T06:52:38.214Z"
   },
   {
    "duration": 74,
    "start_time": "2022-08-20T06:52:38.229Z"
   },
   {
    "duration": 172,
    "start_time": "2022-08-20T06:52:38.305Z"
   },
   {
    "duration": 14,
    "start_time": "2022-08-20T06:52:38.485Z"
   },
   {
    "duration": 10,
    "start_time": "2022-08-20T06:52:38.502Z"
   },
   {
    "duration": 8,
    "start_time": "2022-08-20T07:42:18.698Z"
   },
   {
    "duration": 8,
    "start_time": "2022-08-20T07:44:12.488Z"
   },
   {
    "duration": 14,
    "start_time": "2022-08-20T07:44:46.993Z"
   },
   {
    "duration": 15,
    "start_time": "2022-08-20T07:45:00.729Z"
   },
   {
    "duration": 24,
    "start_time": "2022-08-20T07:45:15.695Z"
   },
   {
    "duration": 22,
    "start_time": "2022-08-20T09:13:44.281Z"
   },
   {
    "duration": 2010,
    "start_time": "2022-08-20T09:14:48.664Z"
   },
   {
    "duration": 1887,
    "start_time": "2022-08-20T09:15:18.534Z"
   },
   {
    "duration": 2150,
    "start_time": "2022-08-20T09:16:02.537Z"
   },
   {
    "duration": 1993,
    "start_time": "2022-08-20T09:16:05.306Z"
   },
   {
    "duration": 30,
    "start_time": "2022-08-20T09:16:34.441Z"
   },
   {
    "duration": 127,
    "start_time": "2022-08-20T09:16:37.562Z"
   },
   {
    "duration": 25,
    "start_time": "2022-08-20T09:16:56.741Z"
   },
   {
    "duration": 18,
    "start_time": "2022-08-20T09:17:12.692Z"
   },
   {
    "duration": 132,
    "start_time": "2022-08-20T09:17:21.466Z"
   },
   {
    "duration": 132,
    "start_time": "2022-08-20T09:18:05.549Z"
   },
   {
    "duration": 9,
    "start_time": "2022-08-20T09:19:26.301Z"
   },
   {
    "duration": 101,
    "start_time": "2022-08-20T09:19:31.538Z"
   },
   {
    "duration": 201,
    "start_time": "2022-08-20T09:20:10.862Z"
   },
   {
    "duration": 538,
    "start_time": "2022-08-20T09:21:32.898Z"
   },
   {
    "duration": 713,
    "start_time": "2022-08-20T09:21:45.463Z"
   },
   {
    "duration": 21,
    "start_time": "2022-08-20T09:22:12.230Z"
   },
   {
    "duration": 655,
    "start_time": "2022-08-20T09:32:44.120Z"
   },
   {
    "duration": 140,
    "start_time": "2022-08-20T09:33:24.049Z"
   },
   {
    "duration": 703,
    "start_time": "2022-08-20T09:37:00.575Z"
   },
   {
    "duration": 104,
    "start_time": "2022-08-20T09:40:24.766Z"
   },
   {
    "duration": 474,
    "start_time": "2022-08-20T09:41:12.505Z"
   },
   {
    "duration": 9,
    "start_time": "2022-08-20T09:42:10.381Z"
   },
   {
    "duration": 103,
    "start_time": "2022-08-20T09:42:22.148Z"
   },
   {
    "duration": 926,
    "start_time": "2022-08-20T09:46:59.822Z"
   },
   {
    "duration": 18,
    "start_time": "2022-08-20T09:47:25.817Z"
   },
   {
    "duration": 10,
    "start_time": "2022-08-20T09:47:38.323Z"
   },
   {
    "duration": 97,
    "start_time": "2022-08-20T09:47:47.391Z"
   },
   {
    "duration": 291,
    "start_time": "2022-08-20T09:51:06.236Z"
   },
   {
    "duration": 50,
    "start_time": "2022-08-20T09:54:38.883Z"
   },
   {
    "duration": 97,
    "start_time": "2022-08-20T09:54:51.131Z"
   },
   {
    "duration": 113,
    "start_time": "2022-08-20T09:54:56.028Z"
   },
   {
    "duration": 181,
    "start_time": "2022-08-20T09:55:11.728Z"
   },
   {
    "duration": 176,
    "start_time": "2022-08-20T09:55:59.951Z"
   },
   {
    "duration": 10,
    "start_time": "2022-08-20T09:56:40.025Z"
   },
   {
    "duration": 9,
    "start_time": "2022-08-20T09:56:44.147Z"
   },
   {
    "duration": 0,
    "start_time": "2022-08-20T10:17:49.009Z"
   },
   {
    "duration": 0,
    "start_time": "2022-08-20T10:17:49.014Z"
   },
   {
    "duration": 0,
    "start_time": "2022-08-20T10:17:49.015Z"
   },
   {
    "duration": 0,
    "start_time": "2022-08-20T10:17:49.020Z"
   },
   {
    "duration": 0,
    "start_time": "2022-08-20T10:17:49.024Z"
   },
   {
    "duration": 0,
    "start_time": "2022-08-20T10:17:49.027Z"
   },
   {
    "duration": 0,
    "start_time": "2022-08-20T10:17:49.030Z"
   },
   {
    "duration": 0,
    "start_time": "2022-08-20T10:17:49.033Z"
   },
   {
    "duration": 0,
    "start_time": "2022-08-20T10:17:49.085Z"
   },
   {
    "duration": 0,
    "start_time": "2022-08-20T10:17:49.090Z"
   },
   {
    "duration": 0,
    "start_time": "2022-08-20T10:17:49.092Z"
   },
   {
    "duration": 0,
    "start_time": "2022-08-20T10:17:49.093Z"
   },
   {
    "duration": 0,
    "start_time": "2022-08-20T10:17:49.098Z"
   },
   {
    "duration": 0,
    "start_time": "2022-08-20T10:17:49.099Z"
   },
   {
    "duration": 0,
    "start_time": "2022-08-20T10:17:49.102Z"
   },
   {
    "duration": 0,
    "start_time": "2022-08-20T10:17:49.105Z"
   },
   {
    "duration": 0,
    "start_time": "2022-08-20T10:17:49.107Z"
   },
   {
    "duration": 0,
    "start_time": "2022-08-20T10:17:49.109Z"
   },
   {
    "duration": 0,
    "start_time": "2022-08-20T10:17:49.111Z"
   },
   {
    "duration": 0,
    "start_time": "2022-08-20T10:17:49.113Z"
   },
   {
    "duration": 0,
    "start_time": "2022-08-20T10:17:49.115Z"
   },
   {
    "duration": 0,
    "start_time": "2022-08-20T10:17:49.117Z"
   },
   {
    "duration": 0,
    "start_time": "2022-08-20T10:17:49.119Z"
   },
   {
    "duration": 0,
    "start_time": "2022-08-20T10:17:49.121Z"
   },
   {
    "duration": 0,
    "start_time": "2022-08-20T10:17:49.123Z"
   },
   {
    "duration": 0,
    "start_time": "2022-08-20T10:17:49.125Z"
   },
   {
    "duration": 0,
    "start_time": "2022-08-20T10:17:49.192Z"
   },
   {
    "duration": 0,
    "start_time": "2022-08-20T10:17:49.194Z"
   },
   {
    "duration": 0,
    "start_time": "2022-08-20T10:17:49.195Z"
   },
   {
    "duration": 0,
    "start_time": "2022-08-20T10:17:49.197Z"
   },
   {
    "duration": 0,
    "start_time": "2022-08-20T10:17:49.200Z"
   },
   {
    "duration": 0,
    "start_time": "2022-08-20T10:17:49.202Z"
   },
   {
    "duration": 0,
    "start_time": "2022-08-20T10:17:49.205Z"
   },
   {
    "duration": 0,
    "start_time": "2022-08-20T10:17:49.208Z"
   },
   {
    "duration": 0,
    "start_time": "2022-08-20T10:17:49.211Z"
   },
   {
    "duration": 0,
    "start_time": "2022-08-20T10:17:49.213Z"
   },
   {
    "duration": 0,
    "start_time": "2022-08-20T10:17:49.216Z"
   },
   {
    "duration": 0,
    "start_time": "2022-08-20T10:17:49.219Z"
   },
   {
    "duration": 0,
    "start_time": "2022-08-20T10:17:49.221Z"
   },
   {
    "duration": 0,
    "start_time": "2022-08-20T10:17:49.223Z"
   },
   {
    "duration": 0,
    "start_time": "2022-08-20T10:17:49.226Z"
   },
   {
    "duration": 0,
    "start_time": "2022-08-20T10:17:49.228Z"
   },
   {
    "duration": 0,
    "start_time": "2022-08-20T10:17:49.284Z"
   },
   {
    "duration": 0,
    "start_time": "2022-08-20T10:17:49.293Z"
   },
   {
    "duration": 0,
    "start_time": "2022-08-20T10:17:49.294Z"
   },
   {
    "duration": 0,
    "start_time": "2022-08-20T10:17:49.294Z"
   },
   {
    "duration": 0,
    "start_time": "2022-08-20T10:17:49.295Z"
   },
   {
    "duration": 0,
    "start_time": "2022-08-20T10:17:49.296Z"
   },
   {
    "duration": 0,
    "start_time": "2022-08-20T10:17:49.296Z"
   },
   {
    "duration": 0,
    "start_time": "2022-08-20T10:17:49.297Z"
   },
   {
    "duration": 0,
    "start_time": "2022-08-20T10:17:49.297Z"
   },
   {
    "duration": 0,
    "start_time": "2022-08-20T10:17:49.298Z"
   },
   {
    "duration": 7,
    "start_time": "2022-08-20T10:39:42.355Z"
   },
   {
    "duration": 11,
    "start_time": "2022-08-20T10:39:46.514Z"
   },
   {
    "duration": 17,
    "start_time": "2022-08-20T10:39:46.527Z"
   },
   {
    "duration": 7,
    "start_time": "2022-08-20T10:39:46.547Z"
   },
   {
    "duration": 249,
    "start_time": "2022-08-20T10:39:46.555Z"
   },
   {
    "duration": 42,
    "start_time": "2022-08-20T10:39:46.810Z"
   },
   {
    "duration": 86,
    "start_time": "2022-08-20T10:39:46.854Z"
   },
   {
    "duration": 166,
    "start_time": "2022-08-20T10:39:46.942Z"
   },
   {
    "duration": 10,
    "start_time": "2022-08-20T10:39:47.113Z"
   },
   {
    "duration": 14,
    "start_time": "2022-08-20T10:39:47.125Z"
   },
   {
    "duration": 23,
    "start_time": "2022-08-20T10:39:47.141Z"
   },
   {
    "duration": 39,
    "start_time": "2022-08-20T10:39:47.166Z"
   },
   {
    "duration": 15,
    "start_time": "2022-08-20T10:39:47.210Z"
   },
   {
    "duration": 29,
    "start_time": "2022-08-20T10:39:47.226Z"
   },
   {
    "duration": 7,
    "start_time": "2022-08-20T10:39:47.258Z"
   },
   {
    "duration": 23,
    "start_time": "2022-08-20T10:39:47.267Z"
   },
   {
    "duration": 28,
    "start_time": "2022-08-20T10:39:47.293Z"
   },
   {
    "duration": 14,
    "start_time": "2022-08-20T10:39:47.323Z"
   },
   {
    "duration": 33,
    "start_time": "2022-08-20T10:39:47.338Z"
   },
   {
    "duration": 18,
    "start_time": "2022-08-20T10:39:47.373Z"
   },
   {
    "duration": 35,
    "start_time": "2022-08-20T10:39:47.399Z"
   },
   {
    "duration": 5,
    "start_time": "2022-08-20T10:39:47.436Z"
   },
   {
    "duration": 172,
    "start_time": "2022-08-20T10:39:47.443Z"
   },
   {
    "duration": 604,
    "start_time": "2022-08-20T10:39:47.617Z"
   },
   {
    "duration": 541,
    "start_time": "2022-08-20T10:39:48.223Z"
   },
   {
    "duration": 116,
    "start_time": "2022-08-20T10:39:48.765Z"
   },
   {
    "duration": 1202,
    "start_time": "2022-08-20T10:39:48.883Z"
   },
   {
    "duration": 0,
    "start_time": "2022-08-20T10:39:50.088Z"
   },
   {
    "duration": 0,
    "start_time": "2022-08-20T10:39:50.089Z"
   },
   {
    "duration": 0,
    "start_time": "2022-08-20T10:39:50.091Z"
   },
   {
    "duration": 0,
    "start_time": "2022-08-20T10:39:50.093Z"
   },
   {
    "duration": 0,
    "start_time": "2022-08-20T10:39:50.095Z"
   },
   {
    "duration": 0,
    "start_time": "2022-08-20T10:39:50.096Z"
   },
   {
    "duration": 0,
    "start_time": "2022-08-20T10:39:50.098Z"
   },
   {
    "duration": 0,
    "start_time": "2022-08-20T10:39:50.100Z"
   },
   {
    "duration": 0,
    "start_time": "2022-08-20T10:39:50.105Z"
   },
   {
    "duration": 0,
    "start_time": "2022-08-20T10:39:50.106Z"
   },
   {
    "duration": 0,
    "start_time": "2022-08-20T10:39:50.107Z"
   },
   {
    "duration": 0,
    "start_time": "2022-08-20T10:39:50.108Z"
   },
   {
    "duration": 0,
    "start_time": "2022-08-20T10:39:50.109Z"
   },
   {
    "duration": 0,
    "start_time": "2022-08-20T10:39:50.111Z"
   },
   {
    "duration": 0,
    "start_time": "2022-08-20T10:39:50.112Z"
   },
   {
    "duration": 0,
    "start_time": "2022-08-20T10:39:50.113Z"
   },
   {
    "duration": 68,
    "start_time": "2022-08-20T10:47:44.593Z"
   },
   {
    "duration": 8,
    "start_time": "2022-08-20T10:47:48.566Z"
   },
   {
    "duration": 13,
    "start_time": "2022-08-20T10:47:53.012Z"
   },
   {
    "duration": 151,
    "start_time": "2022-08-20T10:48:12.646Z"
   },
   {
    "duration": 150,
    "start_time": "2022-08-20T10:48:19.947Z"
   },
   {
    "duration": 152,
    "start_time": "2022-08-20T10:48:36.382Z"
   },
   {
    "duration": 1094,
    "start_time": "2022-08-20T10:50:28.467Z"
   },
   {
    "duration": 1274,
    "start_time": "2022-08-20T10:50:37.030Z"
   },
   {
    "duration": 197,
    "start_time": "2022-08-20T10:50:51.720Z"
   },
   {
    "duration": 306,
    "start_time": "2022-08-20T10:51:23.908Z"
   },
   {
    "duration": 294,
    "start_time": "2022-08-20T10:51:30.748Z"
   },
   {
    "duration": 180,
    "start_time": "2022-08-20T10:51:36.451Z"
   },
   {
    "duration": 209,
    "start_time": "2022-08-20T10:51:45.514Z"
   },
   {
    "duration": 133,
    "start_time": "2022-08-20T10:52:33.542Z"
   },
   {
    "duration": 118,
    "start_time": "2022-08-20T10:52:43.088Z"
   },
   {
    "duration": 107,
    "start_time": "2022-08-20T10:52:56.458Z"
   },
   {
    "duration": 106,
    "start_time": "2022-08-20T10:53:20.272Z"
   },
   {
    "duration": 117,
    "start_time": "2022-08-20T10:53:28.901Z"
   },
   {
    "duration": 98,
    "start_time": "2022-08-20T10:53:37.152Z"
   },
   {
    "duration": 200,
    "start_time": "2022-08-20T10:58:26.050Z"
   },
   {
    "duration": 170,
    "start_time": "2022-08-20T10:59:36.123Z"
   },
   {
    "duration": 218,
    "start_time": "2022-08-20T11:00:40.210Z"
   },
   {
    "duration": 23,
    "start_time": "2022-08-20T11:03:46.197Z"
   },
   {
    "duration": 178,
    "start_time": "2022-08-20T11:04:05.328Z"
   },
   {
    "duration": 1639,
    "start_time": "2022-08-21T08:42:42.287Z"
   },
   {
    "duration": 3,
    "start_time": "2022-08-21T08:42:43.928Z"
   },
   {
    "duration": 6,
    "start_time": "2022-08-21T08:42:43.932Z"
   },
   {
    "duration": 436,
    "start_time": "2022-08-21T08:42:43.940Z"
   },
   {
    "duration": 52,
    "start_time": "2022-08-21T08:42:44.381Z"
   },
   {
    "duration": 104,
    "start_time": "2022-08-21T08:42:44.435Z"
   },
   {
    "duration": 174,
    "start_time": "2022-08-21T08:42:44.543Z"
   },
   {
    "duration": 5,
    "start_time": "2022-08-21T08:42:44.719Z"
   },
   {
    "duration": 11,
    "start_time": "2022-08-21T08:42:44.725Z"
   },
   {
    "duration": 17,
    "start_time": "2022-08-21T08:42:44.739Z"
   },
   {
    "duration": 28,
    "start_time": "2022-08-21T08:42:44.758Z"
   },
   {
    "duration": 6,
    "start_time": "2022-08-21T08:42:44.787Z"
   },
   {
    "duration": 24,
    "start_time": "2022-08-21T08:42:44.795Z"
   },
   {
    "duration": 7,
    "start_time": "2022-08-21T08:42:44.820Z"
   },
   {
    "duration": 9,
    "start_time": "2022-08-21T08:42:44.828Z"
   },
   {
    "duration": 7,
    "start_time": "2022-08-21T08:42:44.838Z"
   },
   {
    "duration": 41,
    "start_time": "2022-08-21T08:42:44.846Z"
   },
   {
    "duration": 34,
    "start_time": "2022-08-21T08:42:44.889Z"
   },
   {
    "duration": 5,
    "start_time": "2022-08-21T08:42:44.925Z"
   },
   {
    "duration": 14,
    "start_time": "2022-08-21T08:42:44.932Z"
   },
   {
    "duration": 5,
    "start_time": "2022-08-21T08:42:44.947Z"
   },
   {
    "duration": 634,
    "start_time": "2022-08-21T08:42:44.953Z"
   },
   {
    "duration": 485,
    "start_time": "2022-08-21T08:42:45.588Z"
   },
   {
    "duration": 111,
    "start_time": "2022-08-21T08:42:46.074Z"
   },
   {
    "duration": 151,
    "start_time": "2022-08-21T08:42:46.186Z"
   },
   {
    "duration": 112,
    "start_time": "2022-08-21T08:42:46.339Z"
   },
   {
    "duration": 0,
    "start_time": "2022-08-21T08:42:46.453Z"
   },
   {
    "duration": 0,
    "start_time": "2022-08-21T08:42:46.454Z"
   },
   {
    "duration": 0,
    "start_time": "2022-08-21T08:42:46.455Z"
   },
   {
    "duration": 0,
    "start_time": "2022-08-21T08:42:46.456Z"
   },
   {
    "duration": 0,
    "start_time": "2022-08-21T08:42:46.457Z"
   },
   {
    "duration": 0,
    "start_time": "2022-08-21T08:42:46.459Z"
   },
   {
    "duration": 0,
    "start_time": "2022-08-21T08:42:46.460Z"
   },
   {
    "duration": 0,
    "start_time": "2022-08-21T08:42:46.461Z"
   },
   {
    "duration": 0,
    "start_time": "2022-08-21T08:42:46.462Z"
   },
   {
    "duration": 0,
    "start_time": "2022-08-21T08:42:46.485Z"
   },
   {
    "duration": 0,
    "start_time": "2022-08-21T08:42:46.486Z"
   },
   {
    "duration": 0,
    "start_time": "2022-08-21T08:42:46.487Z"
   },
   {
    "duration": 0,
    "start_time": "2022-08-21T08:42:46.488Z"
   },
   {
    "duration": 0,
    "start_time": "2022-08-21T08:42:46.489Z"
   },
   {
    "duration": 0,
    "start_time": "2022-08-21T08:42:46.489Z"
   },
   {
    "duration": 0,
    "start_time": "2022-08-21T08:42:46.490Z"
   },
   {
    "duration": 0,
    "start_time": "2022-08-21T08:42:46.491Z"
   },
   {
    "duration": 0,
    "start_time": "2022-08-21T08:42:46.491Z"
   },
   {
    "duration": 0,
    "start_time": "2022-08-21T08:42:46.493Z"
   },
   {
    "duration": 0,
    "start_time": "2022-08-21T08:42:46.494Z"
   },
   {
    "duration": 0,
    "start_time": "2022-08-21T08:42:46.495Z"
   },
   {
    "duration": 0,
    "start_time": "2022-08-21T08:42:46.496Z"
   },
   {
    "duration": 0,
    "start_time": "2022-08-21T08:42:46.497Z"
   },
   {
    "duration": 0,
    "start_time": "2022-08-21T08:42:46.498Z"
   },
   {
    "duration": 0,
    "start_time": "2022-08-21T08:42:46.499Z"
   },
   {
    "duration": 0,
    "start_time": "2022-08-21T08:42:46.500Z"
   },
   {
    "duration": 0,
    "start_time": "2022-08-21T08:42:46.501Z"
   },
   {
    "duration": 0,
    "start_time": "2022-08-21T08:42:46.502Z"
   },
   {
    "duration": 0,
    "start_time": "2022-08-21T08:42:46.503Z"
   },
   {
    "duration": 0,
    "start_time": "2022-08-21T08:42:46.504Z"
   },
   {
    "duration": 0,
    "start_time": "2022-08-21T08:42:46.505Z"
   },
   {
    "duration": 0,
    "start_time": "2022-08-21T08:42:46.506Z"
   },
   {
    "duration": 0,
    "start_time": "2022-08-21T08:42:46.507Z"
   },
   {
    "duration": 1557,
    "start_time": "2022-08-21T08:45:42.673Z"
   },
   {
    "duration": 3,
    "start_time": "2022-08-21T08:45:44.232Z"
   },
   {
    "duration": 6,
    "start_time": "2022-08-21T08:45:44.236Z"
   },
   {
    "duration": 213,
    "start_time": "2022-08-21T08:45:44.244Z"
   },
   {
    "duration": 49,
    "start_time": "2022-08-21T08:45:44.459Z"
   },
   {
    "duration": 102,
    "start_time": "2022-08-21T08:45:44.510Z"
   },
   {
    "duration": 156,
    "start_time": "2022-08-21T08:45:44.614Z"
   },
   {
    "duration": 16,
    "start_time": "2022-08-21T08:45:44.772Z"
   },
   {
    "duration": 8,
    "start_time": "2022-08-21T08:45:44.789Z"
   },
   {
    "duration": 19,
    "start_time": "2022-08-21T08:45:44.801Z"
   },
   {
    "duration": 8,
    "start_time": "2022-08-21T08:45:44.821Z"
   },
   {
    "duration": 7,
    "start_time": "2022-08-21T08:45:44.830Z"
   },
   {
    "duration": 56,
    "start_time": "2022-08-21T08:45:44.839Z"
   },
   {
    "duration": 7,
    "start_time": "2022-08-21T08:45:44.897Z"
   },
   {
    "duration": 6,
    "start_time": "2022-08-21T08:45:44.906Z"
   },
   {
    "duration": 7,
    "start_time": "2022-08-21T08:45:44.913Z"
   },
   {
    "duration": 14,
    "start_time": "2022-08-21T08:45:44.922Z"
   },
   {
    "duration": 67,
    "start_time": "2022-08-21T08:45:44.937Z"
   },
   {
    "duration": 5,
    "start_time": "2022-08-21T08:45:45.006Z"
   },
   {
    "duration": 17,
    "start_time": "2022-08-21T08:45:45.013Z"
   },
   {
    "duration": 5,
    "start_time": "2022-08-21T08:45:45.032Z"
   },
   {
    "duration": 553,
    "start_time": "2022-08-21T08:45:45.038Z"
   },
   {
    "duration": 466,
    "start_time": "2022-08-21T08:45:45.593Z"
   },
   {
    "duration": 100,
    "start_time": "2022-08-21T08:45:46.060Z"
   },
   {
    "duration": 152,
    "start_time": "2022-08-21T08:45:46.161Z"
   },
   {
    "duration": 193,
    "start_time": "2022-08-21T08:45:46.315Z"
   },
   {
    "duration": 168,
    "start_time": "2022-08-21T08:45:46.510Z"
   },
   {
    "duration": 165,
    "start_time": "2022-08-21T08:45:46.688Z"
   },
   {
    "duration": 2,
    "start_time": "2022-08-21T08:45:46.855Z"
   },
   {
    "duration": 13,
    "start_time": "2022-08-21T08:45:46.859Z"
   },
   {
    "duration": 490,
    "start_time": "2022-08-21T08:45:46.873Z"
   },
   {
    "duration": 4,
    "start_time": "2022-08-21T08:45:47.365Z"
   },
   {
    "duration": 1218,
    "start_time": "2022-08-21T08:45:47.370Z"
   },
   {
    "duration": 3,
    "start_time": "2022-08-21T08:45:48.590Z"
   },
   {
    "duration": 11,
    "start_time": "2022-08-21T08:45:48.595Z"
   },
   {
    "duration": 114,
    "start_time": "2022-08-21T08:45:48.608Z"
   },
   {
    "duration": 0,
    "start_time": "2022-08-21T08:45:48.723Z"
   },
   {
    "duration": 0,
    "start_time": "2022-08-21T08:45:48.724Z"
   },
   {
    "duration": 0,
    "start_time": "2022-08-21T08:45:48.725Z"
   },
   {
    "duration": 0,
    "start_time": "2022-08-21T08:45:48.727Z"
   },
   {
    "duration": 0,
    "start_time": "2022-08-21T08:45:48.727Z"
   },
   {
    "duration": 0,
    "start_time": "2022-08-21T08:45:48.728Z"
   },
   {
    "duration": 0,
    "start_time": "2022-08-21T08:45:48.730Z"
   },
   {
    "duration": 0,
    "start_time": "2022-08-21T08:45:48.731Z"
   },
   {
    "duration": 0,
    "start_time": "2022-08-21T08:45:48.732Z"
   },
   {
    "duration": 0,
    "start_time": "2022-08-21T08:45:48.733Z"
   },
   {
    "duration": 0,
    "start_time": "2022-08-21T08:45:48.733Z"
   },
   {
    "duration": 0,
    "start_time": "2022-08-21T08:45:48.735Z"
   },
   {
    "duration": 0,
    "start_time": "2022-08-21T08:45:48.735Z"
   },
   {
    "duration": 0,
    "start_time": "2022-08-21T08:45:48.736Z"
   },
   {
    "duration": 0,
    "start_time": "2022-08-21T08:45:48.737Z"
   },
   {
    "duration": 0,
    "start_time": "2022-08-21T08:45:48.738Z"
   },
   {
    "duration": 0,
    "start_time": "2022-08-21T08:45:48.740Z"
   },
   {
    "duration": 0,
    "start_time": "2022-08-21T08:45:48.740Z"
   },
   {
    "duration": 0,
    "start_time": "2022-08-21T08:45:48.741Z"
   },
   {
    "duration": 0,
    "start_time": "2022-08-21T08:45:48.742Z"
   },
   {
    "duration": 0,
    "start_time": "2022-08-21T08:45:48.743Z"
   },
   {
    "duration": 0,
    "start_time": "2022-08-21T08:45:48.744Z"
   },
   {
    "duration": 0,
    "start_time": "2022-08-21T08:45:48.784Z"
   },
   {
    "duration": 1588,
    "start_time": "2022-08-21T08:47:00.669Z"
   },
   {
    "duration": 2,
    "start_time": "2022-08-21T08:47:02.259Z"
   },
   {
    "duration": 22,
    "start_time": "2022-08-21T08:47:02.263Z"
   },
   {
    "duration": 224,
    "start_time": "2022-08-21T08:47:02.287Z"
   },
   {
    "duration": 36,
    "start_time": "2022-08-21T08:47:02.512Z"
   },
   {
    "duration": 82,
    "start_time": "2022-08-21T08:47:02.550Z"
   },
   {
    "duration": 155,
    "start_time": "2022-08-21T08:47:02.634Z"
   },
   {
    "duration": 5,
    "start_time": "2022-08-21T08:47:02.791Z"
   },
   {
    "duration": 13,
    "start_time": "2022-08-21T08:47:02.807Z"
   },
   {
    "duration": 34,
    "start_time": "2022-08-21T08:47:02.823Z"
   },
   {
    "duration": 7,
    "start_time": "2022-08-21T08:47:02.860Z"
   },
   {
    "duration": 28,
    "start_time": "2022-08-21T08:47:02.869Z"
   },
   {
    "duration": 33,
    "start_time": "2022-08-21T08:47:02.899Z"
   },
   {
    "duration": 7,
    "start_time": "2022-08-21T08:47:02.933Z"
   },
   {
    "duration": 16,
    "start_time": "2022-08-21T08:47:02.942Z"
   },
   {
    "duration": 11,
    "start_time": "2022-08-21T08:47:02.959Z"
   },
   {
    "duration": 26,
    "start_time": "2022-08-21T08:47:02.972Z"
   },
   {
    "duration": 41,
    "start_time": "2022-08-21T08:47:03.000Z"
   },
   {
    "duration": 6,
    "start_time": "2022-08-21T08:47:03.043Z"
   },
   {
    "duration": 16,
    "start_time": "2022-08-21T08:47:03.050Z"
   },
   {
    "duration": 19,
    "start_time": "2022-08-21T08:47:03.067Z"
   },
   {
    "duration": 578,
    "start_time": "2022-08-21T08:47:03.087Z"
   },
   {
    "duration": 466,
    "start_time": "2022-08-21T08:47:03.667Z"
   },
   {
    "duration": 107,
    "start_time": "2022-08-21T08:47:04.134Z"
   },
   {
    "duration": 155,
    "start_time": "2022-08-21T08:47:04.242Z"
   },
   {
    "duration": 134,
    "start_time": "2022-08-21T08:47:04.398Z"
   },
   {
    "duration": 0,
    "start_time": "2022-08-21T08:47:04.535Z"
   },
   {
    "duration": 0,
    "start_time": "2022-08-21T08:47:04.537Z"
   },
   {
    "duration": 0,
    "start_time": "2022-08-21T08:47:04.538Z"
   },
   {
    "duration": 0,
    "start_time": "2022-08-21T08:47:04.540Z"
   },
   {
    "duration": 0,
    "start_time": "2022-08-21T08:47:04.541Z"
   },
   {
    "duration": 0,
    "start_time": "2022-08-21T08:47:04.542Z"
   },
   {
    "duration": 0,
    "start_time": "2022-08-21T08:47:04.544Z"
   },
   {
    "duration": 0,
    "start_time": "2022-08-21T08:47:04.545Z"
   },
   {
    "duration": 0,
    "start_time": "2022-08-21T08:47:04.546Z"
   },
   {
    "duration": 0,
    "start_time": "2022-08-21T08:47:04.547Z"
   },
   {
    "duration": 0,
    "start_time": "2022-08-21T08:47:04.549Z"
   },
   {
    "duration": 0,
    "start_time": "2022-08-21T08:47:04.550Z"
   },
   {
    "duration": 0,
    "start_time": "2022-08-21T08:47:04.551Z"
   },
   {
    "duration": 0,
    "start_time": "2022-08-21T08:47:04.553Z"
   },
   {
    "duration": 0,
    "start_time": "2022-08-21T08:47:04.554Z"
   },
   {
    "duration": 0,
    "start_time": "2022-08-21T08:47:04.587Z"
   },
   {
    "duration": 0,
    "start_time": "2022-08-21T08:47:04.588Z"
   },
   {
    "duration": 0,
    "start_time": "2022-08-21T08:47:04.588Z"
   },
   {
    "duration": 0,
    "start_time": "2022-08-21T08:47:04.589Z"
   },
   {
    "duration": 0,
    "start_time": "2022-08-21T08:47:04.591Z"
   },
   {
    "duration": 0,
    "start_time": "2022-08-21T08:47:04.592Z"
   },
   {
    "duration": 0,
    "start_time": "2022-08-21T08:47:04.593Z"
   },
   {
    "duration": 0,
    "start_time": "2022-08-21T08:47:04.594Z"
   },
   {
    "duration": 0,
    "start_time": "2022-08-21T08:47:04.595Z"
   },
   {
    "duration": 0,
    "start_time": "2022-08-21T08:47:04.595Z"
   },
   {
    "duration": 0,
    "start_time": "2022-08-21T08:47:04.596Z"
   },
   {
    "duration": 0,
    "start_time": "2022-08-21T08:47:04.597Z"
   },
   {
    "duration": 0,
    "start_time": "2022-08-21T08:47:04.598Z"
   },
   {
    "duration": 0,
    "start_time": "2022-08-21T08:47:04.599Z"
   },
   {
    "duration": 0,
    "start_time": "2022-08-21T08:47:04.600Z"
   },
   {
    "duration": 0,
    "start_time": "2022-08-21T08:47:04.601Z"
   },
   {
    "duration": 0,
    "start_time": "2022-08-21T08:47:04.602Z"
   },
   {
    "duration": 0,
    "start_time": "2022-08-21T08:47:04.603Z"
   },
   {
    "duration": 1613,
    "start_time": "2022-08-21T09:01:17.448Z"
   },
   {
    "duration": 3,
    "start_time": "2022-08-21T09:01:19.063Z"
   },
   {
    "duration": 7,
    "start_time": "2022-08-21T09:01:19.067Z"
   },
   {
    "duration": 474,
    "start_time": "2022-08-21T09:01:19.076Z"
   },
   {
    "duration": 50,
    "start_time": "2022-08-21T09:01:19.552Z"
   },
   {
    "duration": 83,
    "start_time": "2022-08-21T09:01:19.604Z"
   },
   {
    "duration": 168,
    "start_time": "2022-08-21T09:01:19.690Z"
   },
   {
    "duration": 6,
    "start_time": "2022-08-21T09:01:19.860Z"
   },
   {
    "duration": 34,
    "start_time": "2022-08-21T09:01:19.868Z"
   },
   {
    "duration": 20,
    "start_time": "2022-08-21T09:01:19.906Z"
   },
   {
    "duration": 7,
    "start_time": "2022-08-21T09:01:19.927Z"
   },
   {
    "duration": 9,
    "start_time": "2022-08-21T09:01:19.935Z"
   },
   {
    "duration": 47,
    "start_time": "2022-08-21T09:01:19.945Z"
   },
   {
    "duration": 11,
    "start_time": "2022-08-21T09:01:19.994Z"
   },
   {
    "duration": 10,
    "start_time": "2022-08-21T09:01:20.007Z"
   },
   {
    "duration": 22,
    "start_time": "2022-08-21T09:01:20.018Z"
   },
   {
    "duration": 31,
    "start_time": "2022-08-21T09:01:20.042Z"
   },
   {
    "duration": 46,
    "start_time": "2022-08-21T09:01:20.075Z"
   },
   {
    "duration": 6,
    "start_time": "2022-08-21T09:01:20.123Z"
   },
   {
    "duration": 17,
    "start_time": "2022-08-21T09:01:20.130Z"
   },
   {
    "duration": 6,
    "start_time": "2022-08-21T09:01:20.149Z"
   },
   {
    "duration": 2055,
    "start_time": "2022-08-21T09:01:27.111Z"
   },
   {
    "duration": 7,
    "start_time": "2022-08-21T09:04:08.830Z"
   },
   {
    "duration": 8,
    "start_time": "2022-08-21T09:04:08.839Z"
   },
   {
    "duration": 9,
    "start_time": "2022-08-21T09:04:08.849Z"
   },
   {
    "duration": 250,
    "start_time": "2022-08-21T09:04:08.860Z"
   },
   {
    "duration": 42,
    "start_time": "2022-08-21T09:04:09.112Z"
   },
   {
    "duration": 89,
    "start_time": "2022-08-21T09:04:09.155Z"
   },
   {
    "duration": 168,
    "start_time": "2022-08-21T09:04:09.246Z"
   },
   {
    "duration": 6,
    "start_time": "2022-08-21T09:04:09.416Z"
   },
   {
    "duration": 9,
    "start_time": "2022-08-21T09:04:09.424Z"
   },
   {
    "duration": 20,
    "start_time": "2022-08-21T09:04:09.434Z"
   },
   {
    "duration": 32,
    "start_time": "2022-08-21T09:04:09.456Z"
   },
   {
    "duration": 24,
    "start_time": "2022-08-21T09:04:09.490Z"
   },
   {
    "duration": 25,
    "start_time": "2022-08-21T09:04:09.516Z"
   },
   {
    "duration": 7,
    "start_time": "2022-08-21T09:04:09.543Z"
   },
   {
    "duration": 12,
    "start_time": "2022-08-21T09:04:09.552Z"
   },
   {
    "duration": 25,
    "start_time": "2022-08-21T09:04:09.565Z"
   },
   {
    "duration": 22,
    "start_time": "2022-08-21T09:04:09.593Z"
   },
   {
    "duration": 31,
    "start_time": "2022-08-21T09:04:09.617Z"
   },
   {
    "duration": 6,
    "start_time": "2022-08-21T09:04:09.650Z"
   },
   {
    "duration": 46,
    "start_time": "2022-08-21T09:04:09.657Z"
   },
   {
    "duration": 6,
    "start_time": "2022-08-21T09:04:09.705Z"
   },
   {
    "duration": 48,
    "start_time": "2022-08-21T09:04:09.712Z"
   },
   {
    "duration": 0,
    "start_time": "2022-08-21T09:04:09.762Z"
   },
   {
    "duration": 0,
    "start_time": "2022-08-21T09:04:09.763Z"
   },
   {
    "duration": 0,
    "start_time": "2022-08-21T09:04:09.764Z"
   },
   {
    "duration": 0,
    "start_time": "2022-08-21T09:04:09.765Z"
   },
   {
    "duration": 0,
    "start_time": "2022-08-21T09:04:09.766Z"
   },
   {
    "duration": 0,
    "start_time": "2022-08-21T09:04:09.767Z"
   },
   {
    "duration": 0,
    "start_time": "2022-08-21T09:04:09.768Z"
   },
   {
    "duration": 0,
    "start_time": "2022-08-21T09:04:09.769Z"
   },
   {
    "duration": 0,
    "start_time": "2022-08-21T09:04:09.770Z"
   },
   {
    "duration": 0,
    "start_time": "2022-08-21T09:04:09.771Z"
   },
   {
    "duration": 0,
    "start_time": "2022-08-21T09:04:09.772Z"
   },
   {
    "duration": 0,
    "start_time": "2022-08-21T09:04:09.773Z"
   },
   {
    "duration": 0,
    "start_time": "2022-08-21T09:04:09.774Z"
   },
   {
    "duration": 0,
    "start_time": "2022-08-21T09:04:09.774Z"
   },
   {
    "duration": 0,
    "start_time": "2022-08-21T09:04:09.775Z"
   },
   {
    "duration": 0,
    "start_time": "2022-08-21T09:04:09.776Z"
   },
   {
    "duration": 0,
    "start_time": "2022-08-21T09:04:09.777Z"
   },
   {
    "duration": 0,
    "start_time": "2022-08-21T09:04:09.778Z"
   },
   {
    "duration": 0,
    "start_time": "2022-08-21T09:04:09.779Z"
   },
   {
    "duration": 0,
    "start_time": "2022-08-21T09:04:09.780Z"
   },
   {
    "duration": 0,
    "start_time": "2022-08-21T09:04:09.781Z"
   },
   {
    "duration": 0,
    "start_time": "2022-08-21T09:04:09.782Z"
   },
   {
    "duration": 8,
    "start_time": "2022-08-21T09:04:15.350Z"
   },
   {
    "duration": 7,
    "start_time": "2022-08-21T09:04:15.360Z"
   },
   {
    "duration": 7,
    "start_time": "2022-08-21T09:04:15.368Z"
   },
   {
    "duration": 237,
    "start_time": "2022-08-21T09:04:15.377Z"
   },
   {
    "duration": 41,
    "start_time": "2022-08-21T09:04:15.616Z"
   },
   {
    "duration": 87,
    "start_time": "2022-08-21T09:04:15.659Z"
   },
   {
    "duration": 164,
    "start_time": "2022-08-21T09:04:15.748Z"
   },
   {
    "duration": 5,
    "start_time": "2022-08-21T09:04:15.913Z"
   },
   {
    "duration": 9,
    "start_time": "2022-08-21T09:04:15.920Z"
   },
   {
    "duration": 19,
    "start_time": "2022-08-21T09:04:15.932Z"
   },
   {
    "duration": 7,
    "start_time": "2022-08-21T09:04:15.952Z"
   },
   {
    "duration": 39,
    "start_time": "2022-08-21T09:04:15.961Z"
   },
   {
    "duration": 47,
    "start_time": "2022-08-21T09:04:16.002Z"
   },
   {
    "duration": 8,
    "start_time": "2022-08-21T09:04:16.051Z"
   },
   {
    "duration": 11,
    "start_time": "2022-08-21T09:04:16.060Z"
   },
   {
    "duration": 15,
    "start_time": "2022-08-21T09:04:16.086Z"
   },
   {
    "duration": 17,
    "start_time": "2022-08-21T09:04:16.104Z"
   },
   {
    "duration": 28,
    "start_time": "2022-08-21T09:04:16.123Z"
   },
   {
    "duration": 6,
    "start_time": "2022-08-21T09:04:16.153Z"
   },
   {
    "duration": 21,
    "start_time": "2022-08-21T09:04:16.187Z"
   },
   {
    "duration": 13,
    "start_time": "2022-08-21T09:04:16.211Z"
   },
   {
    "duration": 67,
    "start_time": "2022-08-21T09:04:16.226Z"
   },
   {
    "duration": 0,
    "start_time": "2022-08-21T09:04:16.297Z"
   },
   {
    "duration": 0,
    "start_time": "2022-08-21T09:04:16.298Z"
   },
   {
    "duration": 0,
    "start_time": "2022-08-21T09:04:16.299Z"
   },
   {
    "duration": 0,
    "start_time": "2022-08-21T09:04:16.300Z"
   },
   {
    "duration": 0,
    "start_time": "2022-08-21T09:04:16.302Z"
   },
   {
    "duration": 0,
    "start_time": "2022-08-21T09:04:16.303Z"
   },
   {
    "duration": 0,
    "start_time": "2022-08-21T09:04:16.303Z"
   },
   {
    "duration": 0,
    "start_time": "2022-08-21T09:04:16.304Z"
   },
   {
    "duration": 0,
    "start_time": "2022-08-21T09:04:16.305Z"
   },
   {
    "duration": 0,
    "start_time": "2022-08-21T09:04:16.306Z"
   },
   {
    "duration": 0,
    "start_time": "2022-08-21T09:04:16.307Z"
   },
   {
    "duration": 0,
    "start_time": "2022-08-21T09:04:16.307Z"
   },
   {
    "duration": 0,
    "start_time": "2022-08-21T09:04:16.309Z"
   },
   {
    "duration": 0,
    "start_time": "2022-08-21T09:04:16.310Z"
   },
   {
    "duration": 0,
    "start_time": "2022-08-21T09:04:16.312Z"
   },
   {
    "duration": 0,
    "start_time": "2022-08-21T09:04:16.314Z"
   },
   {
    "duration": 0,
    "start_time": "2022-08-21T09:04:16.316Z"
   },
   {
    "duration": 0,
    "start_time": "2022-08-21T09:04:16.318Z"
   },
   {
    "duration": 0,
    "start_time": "2022-08-21T09:04:16.319Z"
   },
   {
    "duration": 0,
    "start_time": "2022-08-21T09:04:16.320Z"
   },
   {
    "duration": 0,
    "start_time": "2022-08-21T09:04:16.322Z"
   },
   {
    "duration": 0,
    "start_time": "2022-08-21T09:04:16.325Z"
   },
   {
    "duration": 0,
    "start_time": "2022-08-21T09:04:16.326Z"
   },
   {
    "duration": 0,
    "start_time": "2022-08-21T09:04:16.327Z"
   },
   {
    "duration": 5,
    "start_time": "2022-08-21T09:04:21.974Z"
   },
   {
    "duration": 241,
    "start_time": "2022-08-21T09:04:21.982Z"
   },
   {
    "duration": 0,
    "start_time": "2022-08-21T09:04:22.225Z"
   },
   {
    "duration": 0,
    "start_time": "2022-08-21T09:04:22.226Z"
   },
   {
    "duration": 0,
    "start_time": "2022-08-21T09:04:22.227Z"
   },
   {
    "duration": 0,
    "start_time": "2022-08-21T09:04:22.228Z"
   },
   {
    "duration": 0,
    "start_time": "2022-08-21T09:04:22.229Z"
   },
   {
    "duration": 0,
    "start_time": "2022-08-21T09:04:22.230Z"
   },
   {
    "duration": 0,
    "start_time": "2022-08-21T09:04:22.231Z"
   },
   {
    "duration": 0,
    "start_time": "2022-08-21T09:04:22.233Z"
   },
   {
    "duration": 12,
    "start_time": "2022-08-21T09:04:41.401Z"
   },
   {
    "duration": 10,
    "start_time": "2022-08-21T09:04:48.002Z"
   },
   {
    "duration": 12,
    "start_time": "2022-08-21T09:04:54.120Z"
   },
   {
    "duration": 2089,
    "start_time": "2022-08-21T09:05:23.355Z"
   },
   {
    "duration": 1886,
    "start_time": "2022-08-21T09:05:32.452Z"
   },
   {
    "duration": 2102,
    "start_time": "2022-08-21T09:06:19.221Z"
   },
   {
    "duration": 1940,
    "start_time": "2022-08-21T09:06:32.386Z"
   },
   {
    "duration": 496,
    "start_time": "2022-08-21T09:06:52.745Z"
   },
   {
    "duration": 7,
    "start_time": "2022-08-21T09:07:00.205Z"
   },
   {
    "duration": 10,
    "start_time": "2022-08-21T09:07:00.215Z"
   },
   {
    "duration": 10,
    "start_time": "2022-08-21T09:07:00.227Z"
   },
   {
    "duration": 293,
    "start_time": "2022-08-21T09:07:00.240Z"
   },
   {
    "duration": 41,
    "start_time": "2022-08-21T09:07:00.534Z"
   },
   {
    "duration": 83,
    "start_time": "2022-08-21T09:07:00.577Z"
   },
   {
    "duration": 167,
    "start_time": "2022-08-21T09:07:00.661Z"
   },
   {
    "duration": 5,
    "start_time": "2022-08-21T09:07:00.830Z"
   },
   {
    "duration": 34,
    "start_time": "2022-08-21T09:07:00.837Z"
   },
   {
    "duration": 43,
    "start_time": "2022-08-21T09:07:00.875Z"
   },
   {
    "duration": 18,
    "start_time": "2022-08-21T09:07:00.919Z"
   },
   {
    "duration": 15,
    "start_time": "2022-08-21T09:07:00.939Z"
   },
   {
    "duration": 55,
    "start_time": "2022-08-21T09:07:00.956Z"
   },
   {
    "duration": 35,
    "start_time": "2022-08-21T09:07:01.013Z"
   },
   {
    "duration": 36,
    "start_time": "2022-08-21T09:07:01.050Z"
   },
   {
    "duration": 36,
    "start_time": "2022-08-21T09:07:01.089Z"
   },
   {
    "duration": 43,
    "start_time": "2022-08-21T09:07:01.127Z"
   },
   {
    "duration": 59,
    "start_time": "2022-08-21T09:07:01.172Z"
   },
   {
    "duration": 7,
    "start_time": "2022-08-21T09:07:01.233Z"
   },
   {
    "duration": 64,
    "start_time": "2022-08-21T09:07:01.241Z"
   },
   {
    "duration": 16,
    "start_time": "2022-08-21T09:07:01.307Z"
   },
   {
    "duration": 3242,
    "start_time": "2022-08-21T09:07:01.325Z"
   },
   {
    "duration": 514,
    "start_time": "2022-08-21T09:07:04.569Z"
   },
   {
    "duration": 125,
    "start_time": "2022-08-21T09:07:05.085Z"
   },
   {
    "duration": 109,
    "start_time": "2022-08-21T09:07:05.212Z"
   },
   {
    "duration": 226,
    "start_time": "2022-08-21T09:07:05.324Z"
   },
   {
    "duration": 12,
    "start_time": "2022-08-21T09:07:05.552Z"
   },
   {
    "duration": 0,
    "start_time": "2022-08-21T09:07:05.566Z"
   },
   {
    "duration": 0,
    "start_time": "2022-08-21T09:07:05.567Z"
   },
   {
    "duration": 0,
    "start_time": "2022-08-21T09:07:05.569Z"
   },
   {
    "duration": 0,
    "start_time": "2022-08-21T09:07:05.590Z"
   },
   {
    "duration": 0,
    "start_time": "2022-08-21T09:07:05.591Z"
   },
   {
    "duration": 0,
    "start_time": "2022-08-21T09:07:05.593Z"
   },
   {
    "duration": 0,
    "start_time": "2022-08-21T09:07:05.594Z"
   },
   {
    "duration": 0,
    "start_time": "2022-08-21T09:07:05.596Z"
   },
   {
    "duration": 0,
    "start_time": "2022-08-21T09:07:05.598Z"
   },
   {
    "duration": 0,
    "start_time": "2022-08-21T09:07:05.599Z"
   },
   {
    "duration": 0,
    "start_time": "2022-08-21T09:07:05.600Z"
   },
   {
    "duration": 0,
    "start_time": "2022-08-21T09:07:05.603Z"
   },
   {
    "duration": 0,
    "start_time": "2022-08-21T09:07:05.604Z"
   },
   {
    "duration": 0,
    "start_time": "2022-08-21T09:07:05.606Z"
   },
   {
    "duration": 0,
    "start_time": "2022-08-21T09:07:05.609Z"
   },
   {
    "duration": 0,
    "start_time": "2022-08-21T09:07:05.610Z"
   },
   {
    "duration": 0,
    "start_time": "2022-08-21T09:07:05.612Z"
   },
   {
    "duration": 0,
    "start_time": "2022-08-21T09:07:05.613Z"
   },
   {
    "duration": 0,
    "start_time": "2022-08-21T09:07:05.614Z"
   },
   {
    "duration": 0,
    "start_time": "2022-08-21T09:07:05.615Z"
   },
   {
    "duration": 0,
    "start_time": "2022-08-21T09:07:05.617Z"
   },
   {
    "duration": 0,
    "start_time": "2022-08-21T09:07:05.618Z"
   },
   {
    "duration": 0,
    "start_time": "2022-08-21T09:07:05.619Z"
   },
   {
    "duration": 0,
    "start_time": "2022-08-21T09:07:05.621Z"
   },
   {
    "duration": 0,
    "start_time": "2022-08-21T09:07:05.622Z"
   },
   {
    "duration": 0,
    "start_time": "2022-08-21T09:07:05.624Z"
   },
   {
    "duration": 0,
    "start_time": "2022-08-21T09:07:05.625Z"
   },
   {
    "duration": 0,
    "start_time": "2022-08-21T09:07:05.626Z"
   },
   {
    "duration": 0,
    "start_time": "2022-08-21T09:07:05.628Z"
   },
   {
    "duration": 0,
    "start_time": "2022-08-21T09:07:05.629Z"
   },
   {
    "duration": 0,
    "start_time": "2022-08-21T09:07:05.688Z"
   },
   {
    "duration": 0,
    "start_time": "2022-08-21T09:07:05.689Z"
   },
   {
    "duration": 1499,
    "start_time": "2022-08-21T09:07:24.806Z"
   },
   {
    "duration": 4,
    "start_time": "2022-08-21T09:07:26.308Z"
   },
   {
    "duration": 37,
    "start_time": "2022-08-21T09:07:26.313Z"
   },
   {
    "duration": 277,
    "start_time": "2022-08-21T09:07:26.353Z"
   },
   {
    "duration": 43,
    "start_time": "2022-08-21T09:07:26.632Z"
   },
   {
    "duration": 90,
    "start_time": "2022-08-21T09:07:26.677Z"
   },
   {
    "duration": 188,
    "start_time": "2022-08-21T09:07:26.769Z"
   },
   {
    "duration": 7,
    "start_time": "2022-08-21T09:07:26.959Z"
   },
   {
    "duration": 13,
    "start_time": "2022-08-21T09:07:26.986Z"
   },
   {
    "duration": 38,
    "start_time": "2022-08-21T09:07:27.004Z"
   },
   {
    "duration": 13,
    "start_time": "2022-08-21T09:07:27.044Z"
   },
   {
    "duration": 48,
    "start_time": "2022-08-21T09:07:27.058Z"
   },
   {
    "duration": 30,
    "start_time": "2022-08-21T09:07:27.108Z"
   },
   {
    "duration": 7,
    "start_time": "2022-08-21T09:07:27.140Z"
   },
   {
    "duration": 32,
    "start_time": "2022-08-21T09:07:27.149Z"
   },
   {
    "duration": 24,
    "start_time": "2022-08-21T09:07:27.182Z"
   },
   {
    "duration": 29,
    "start_time": "2022-08-21T09:07:27.207Z"
   },
   {
    "duration": 40,
    "start_time": "2022-08-21T09:07:27.238Z"
   },
   {
    "duration": 7,
    "start_time": "2022-08-21T09:07:27.280Z"
   },
   {
    "duration": 26,
    "start_time": "2022-08-21T09:07:27.290Z"
   },
   {
    "duration": 6,
    "start_time": "2022-08-21T09:07:27.318Z"
   },
   {
    "duration": 4340,
    "start_time": "2022-08-21T09:07:27.326Z"
   },
   {
    "duration": 526,
    "start_time": "2022-08-21T09:07:31.669Z"
   },
   {
    "duration": 109,
    "start_time": "2022-08-21T09:07:32.197Z"
   },
   {
    "duration": 101,
    "start_time": "2022-08-21T09:07:32.307Z"
   },
   {
    "duration": 221,
    "start_time": "2022-08-21T09:07:32.409Z"
   },
   {
    "duration": 203,
    "start_time": "2022-08-21T09:07:32.632Z"
   },
   {
    "duration": 126,
    "start_time": "2022-08-21T09:07:32.840Z"
   },
   {
    "duration": 0,
    "start_time": "2022-08-21T09:07:32.968Z"
   },
   {
    "duration": 0,
    "start_time": "2022-08-21T09:07:32.969Z"
   },
   {
    "duration": 0,
    "start_time": "2022-08-21T09:07:32.969Z"
   },
   {
    "duration": 0,
    "start_time": "2022-08-21T09:07:32.970Z"
   },
   {
    "duration": 0,
    "start_time": "2022-08-21T09:07:32.971Z"
   },
   {
    "duration": 0,
    "start_time": "2022-08-21T09:07:32.972Z"
   },
   {
    "duration": 0,
    "start_time": "2022-08-21T09:07:32.989Z"
   },
   {
    "duration": 0,
    "start_time": "2022-08-21T09:07:32.990Z"
   },
   {
    "duration": 0,
    "start_time": "2022-08-21T09:07:32.991Z"
   },
   {
    "duration": 0,
    "start_time": "2022-08-21T09:07:32.992Z"
   },
   {
    "duration": 0,
    "start_time": "2022-08-21T09:07:32.994Z"
   },
   {
    "duration": 0,
    "start_time": "2022-08-21T09:07:32.995Z"
   },
   {
    "duration": 0,
    "start_time": "2022-08-21T09:07:32.996Z"
   },
   {
    "duration": 0,
    "start_time": "2022-08-21T09:07:32.998Z"
   },
   {
    "duration": 0,
    "start_time": "2022-08-21T09:07:33.000Z"
   },
   {
    "duration": 0,
    "start_time": "2022-08-21T09:07:33.001Z"
   },
   {
    "duration": 0,
    "start_time": "2022-08-21T09:07:33.003Z"
   },
   {
    "duration": 0,
    "start_time": "2022-08-21T09:07:33.004Z"
   },
   {
    "duration": 0,
    "start_time": "2022-08-21T09:07:33.008Z"
   },
   {
    "duration": 0,
    "start_time": "2022-08-21T09:07:33.009Z"
   },
   {
    "duration": 0,
    "start_time": "2022-08-21T09:07:33.010Z"
   },
   {
    "duration": 0,
    "start_time": "2022-08-21T09:07:33.010Z"
   },
   {
    "duration": 0,
    "start_time": "2022-08-21T09:07:33.011Z"
   },
   {
    "duration": 0,
    "start_time": "2022-08-21T09:07:33.012Z"
   },
   {
    "duration": 0,
    "start_time": "2022-08-21T09:07:33.014Z"
   },
   {
    "duration": 0,
    "start_time": "2022-08-21T09:07:33.015Z"
   },
   {
    "duration": 0,
    "start_time": "2022-08-21T09:07:33.016Z"
   },
   {
    "duration": 0,
    "start_time": "2022-08-21T09:07:33.017Z"
   },
   {
    "duration": 0,
    "start_time": "2022-08-21T09:07:33.018Z"
   },
   {
    "duration": 0,
    "start_time": "2022-08-21T09:07:33.019Z"
   },
   {
    "duration": 0,
    "start_time": "2022-08-21T09:07:33.020Z"
   },
   {
    "duration": 1386,
    "start_time": "2022-08-21T09:07:41.448Z"
   },
   {
    "duration": 3,
    "start_time": "2022-08-21T09:07:42.835Z"
   },
   {
    "duration": 11,
    "start_time": "2022-08-21T09:07:42.840Z"
   },
   {
    "duration": 220,
    "start_time": "2022-08-21T09:07:42.853Z"
   },
   {
    "duration": 47,
    "start_time": "2022-08-21T09:07:43.074Z"
   },
   {
    "duration": 91,
    "start_time": "2022-08-21T09:07:43.123Z"
   },
   {
    "duration": 156,
    "start_time": "2022-08-21T09:07:43.216Z"
   },
   {
    "duration": 16,
    "start_time": "2022-08-21T09:07:43.373Z"
   },
   {
    "duration": 14,
    "start_time": "2022-08-21T09:07:43.391Z"
   },
   {
    "duration": 19,
    "start_time": "2022-08-21T09:07:43.408Z"
   },
   {
    "duration": 8,
    "start_time": "2022-08-21T09:07:43.429Z"
   },
   {
    "duration": 8,
    "start_time": "2022-08-21T09:07:43.439Z"
   },
   {
    "duration": 45,
    "start_time": "2022-08-21T09:07:43.449Z"
   },
   {
    "duration": 8,
    "start_time": "2022-08-21T09:07:43.497Z"
   },
   {
    "duration": 11,
    "start_time": "2022-08-21T09:07:43.507Z"
   },
   {
    "duration": 7,
    "start_time": "2022-08-21T09:07:43.519Z"
   },
   {
    "duration": 16,
    "start_time": "2022-08-21T09:07:43.527Z"
   },
   {
    "duration": 69,
    "start_time": "2022-08-21T09:07:43.544Z"
   },
   {
    "duration": 6,
    "start_time": "2022-08-21T09:07:43.614Z"
   },
   {
    "duration": 12,
    "start_time": "2022-08-21T09:07:43.622Z"
   },
   {
    "duration": 5,
    "start_time": "2022-08-21T09:07:43.635Z"
   },
   {
    "duration": 1993,
    "start_time": "2022-08-21T09:07:43.641Z"
   },
   {
    "duration": 757,
    "start_time": "2022-08-21T09:07:45.636Z"
   },
   {
    "duration": 295,
    "start_time": "2022-08-21T09:07:46.395Z"
   },
   {
    "duration": 212,
    "start_time": "2022-08-21T09:07:46.693Z"
   },
   {
    "duration": 506,
    "start_time": "2022-08-21T09:07:46.907Z"
   },
   {
    "duration": 493,
    "start_time": "2022-08-21T09:07:47.415Z"
   },
   {
    "duration": 410,
    "start_time": "2022-08-21T09:07:47.912Z"
   },
   {
    "duration": 3,
    "start_time": "2022-08-21T09:07:48.324Z"
   },
   {
    "duration": 11,
    "start_time": "2022-08-21T09:07:48.329Z"
   },
   {
    "duration": 1398,
    "start_time": "2022-08-21T09:07:48.389Z"
   },
   {
    "duration": 7,
    "start_time": "2022-08-21T09:07:49.790Z"
   },
   {
    "duration": 1675,
    "start_time": "2022-08-21T09:07:49.799Z"
   },
   {
    "duration": 3,
    "start_time": "2022-08-21T09:07:51.476Z"
   },
   {
    "duration": 12,
    "start_time": "2022-08-21T09:07:51.487Z"
   },
   {
    "duration": 21,
    "start_time": "2022-08-21T09:07:51.501Z"
   },
   {
    "duration": 7,
    "start_time": "2022-08-21T09:07:51.523Z"
   },
   {
    "duration": 977,
    "start_time": "2022-08-21T09:07:51.531Z"
   },
   {
    "duration": 3,
    "start_time": "2022-08-21T09:07:52.510Z"
   },
   {
    "duration": 24,
    "start_time": "2022-08-21T09:07:52.514Z"
   },
   {
    "duration": 30,
    "start_time": "2022-08-21T09:07:52.540Z"
   },
   {
    "duration": 16,
    "start_time": "2022-08-21T09:07:52.571Z"
   },
   {
    "duration": 4,
    "start_time": "2022-08-21T09:07:52.590Z"
   },
   {
    "duration": 15,
    "start_time": "2022-08-21T09:07:52.595Z"
   },
   {
    "duration": 166933,
    "start_time": "2022-08-21T09:07:52.612Z"
   },
   {
    "duration": 3348,
    "start_time": "2022-08-21T09:10:39.546Z"
   },
   {
    "duration": 699251,
    "start_time": "2022-08-21T09:10:42.896Z"
   },
   {
    "duration": 9,
    "start_time": "2022-08-21T09:22:22.149Z"
   },
   {
    "duration": 32,
    "start_time": "2022-08-21T09:22:22.160Z"
   },
   {
    "duration": 12,
    "start_time": "2022-08-21T09:22:22.286Z"
   },
   {
    "duration": 135,
    "start_time": "2022-08-21T09:22:22.299Z"
   },
   {
    "duration": 874,
    "start_time": "2022-08-21T09:22:22.435Z"
   },
   {
    "duration": 6,
    "start_time": "2022-08-21T09:22:23.311Z"
   },
   {
    "duration": 6,
    "start_time": "2022-08-21T09:22:23.318Z"
   },
   {
    "duration": 13,
    "start_time": "2022-08-21T09:22:23.325Z"
   },
   {
    "duration": 49,
    "start_time": "2022-08-21T09:22:23.339Z"
   },
   {
    "duration": 151,
    "start_time": "2022-08-21T09:22:23.390Z"
   },
   {
    "duration": 12,
    "start_time": "2022-08-21T09:22:23.542Z"
   },
   {
    "duration": 9,
    "start_time": "2022-08-21T09:22:23.555Z"
   },
   {
    "duration": 1410,
    "start_time": "2022-08-21T09:47:12.044Z"
   },
   {
    "duration": 3,
    "start_time": "2022-08-21T09:47:13.456Z"
   },
   {
    "duration": 9,
    "start_time": "2022-08-21T09:47:13.460Z"
   },
   {
    "duration": 195,
    "start_time": "2022-08-21T09:47:13.471Z"
   },
   {
    "duration": 35,
    "start_time": "2022-08-21T09:47:13.667Z"
   },
   {
    "duration": 71,
    "start_time": "2022-08-21T09:47:13.703Z"
   },
   {
    "duration": 141,
    "start_time": "2022-08-21T09:47:13.776Z"
   },
   {
    "duration": 4,
    "start_time": "2022-08-21T09:47:13.919Z"
   },
   {
    "duration": 11,
    "start_time": "2022-08-21T09:47:13.924Z"
   },
   {
    "duration": 17,
    "start_time": "2022-08-21T09:47:13.937Z"
   },
   {
    "duration": 6,
    "start_time": "2022-08-21T09:47:13.955Z"
   },
   {
    "duration": 28,
    "start_time": "2022-08-21T09:47:13.962Z"
   },
   {
    "duration": 25,
    "start_time": "2022-08-21T09:47:13.991Z"
   },
   {
    "duration": 8,
    "start_time": "2022-08-21T09:47:14.018Z"
   },
   {
    "duration": 7,
    "start_time": "2022-08-21T09:47:14.028Z"
   },
   {
    "duration": 9,
    "start_time": "2022-08-21T09:47:14.036Z"
   },
   {
    "duration": 45,
    "start_time": "2022-08-21T09:47:14.046Z"
   },
   {
    "duration": 38,
    "start_time": "2022-08-21T09:47:14.093Z"
   },
   {
    "duration": 6,
    "start_time": "2022-08-21T09:47:14.133Z"
   },
   {
    "duration": 14,
    "start_time": "2022-08-21T09:47:14.140Z"
   },
   {
    "duration": 4,
    "start_time": "2022-08-21T09:47:14.156Z"
   },
   {
    "duration": 1934,
    "start_time": "2022-08-21T09:47:14.162Z"
   },
   {
    "duration": 484,
    "start_time": "2022-08-21T09:47:16.097Z"
   },
   {
    "duration": 104,
    "start_time": "2022-08-21T09:47:16.582Z"
   },
   {
    "duration": 75,
    "start_time": "2022-08-21T09:47:16.688Z"
   },
   {
    "duration": 193,
    "start_time": "2022-08-21T09:47:16.764Z"
   },
   {
    "duration": 167,
    "start_time": "2022-08-21T09:47:16.958Z"
   },
   {
    "duration": 172,
    "start_time": "2022-08-21T09:47:17.128Z"
   },
   {
    "duration": 3,
    "start_time": "2022-08-21T09:47:17.302Z"
   },
   {
    "duration": 14,
    "start_time": "2022-08-21T09:47:17.306Z"
   },
   {
    "duration": 498,
    "start_time": "2022-08-21T09:47:17.322Z"
   },
   {
    "duration": 4,
    "start_time": "2022-08-21T09:47:17.822Z"
   },
   {
    "duration": 1188,
    "start_time": "2022-08-21T09:47:17.827Z"
   },
   {
    "duration": 3,
    "start_time": "2022-08-21T09:47:19.017Z"
   },
   {
    "duration": 12,
    "start_time": "2022-08-21T09:47:19.021Z"
   },
   {
    "duration": 11,
    "start_time": "2022-08-21T09:47:19.034Z"
   },
   {
    "duration": 6,
    "start_time": "2022-08-21T09:47:19.046Z"
   },
   {
    "duration": 859,
    "start_time": "2022-08-21T09:47:19.054Z"
   },
   {
    "duration": 2,
    "start_time": "2022-08-21T09:47:19.915Z"
   },
   {
    "duration": 34,
    "start_time": "2022-08-21T09:47:19.919Z"
   },
   {
    "duration": 29,
    "start_time": "2022-08-21T09:47:19.954Z"
   },
   {
    "duration": 6,
    "start_time": "2022-08-21T09:47:19.984Z"
   },
   {
    "duration": 4,
    "start_time": "2022-08-21T09:47:19.991Z"
   },
   {
    "duration": 13,
    "start_time": "2022-08-21T09:47:19.996Z"
   },
   {
    "duration": 150175,
    "start_time": "2022-08-21T09:47:20.010Z"
   },
   {
    "duration": 4602,
    "start_time": "2022-08-21T09:49:50.187Z"
   },
   {
    "duration": 664032,
    "start_time": "2022-08-21T09:49:54.791Z"
   },
   {
    "duration": 5,
    "start_time": "2022-08-21T10:00:58.825Z"
   },
   {
    "duration": 59,
    "start_time": "2022-08-21T10:00:58.832Z"
   },
   {
    "duration": 95,
    "start_time": "2022-08-21T10:00:58.893Z"
   },
   {
    "duration": 95,
    "start_time": "2022-08-21T10:00:58.990Z"
   },
   {
    "duration": 900,
    "start_time": "2022-08-21T10:00:59.086Z"
   },
   {
    "duration": 4,
    "start_time": "2022-08-21T10:00:59.988Z"
   },
   {
    "duration": 5,
    "start_time": "2022-08-21T10:00:59.993Z"
   },
   {
    "duration": 12,
    "start_time": "2022-08-21T10:01:00.000Z"
   },
   {
    "duration": 35,
    "start_time": "2022-08-21T10:01:00.014Z"
   },
   {
    "duration": 186,
    "start_time": "2022-08-21T10:01:00.051Z"
   },
   {
    "duration": 12,
    "start_time": "2022-08-21T10:01:00.239Z"
   },
   {
    "duration": 20,
    "start_time": "2022-08-21T10:01:00.252Z"
   },
   {
    "duration": 1574,
    "start_time": "2022-11-25T17:13:29.919Z"
   },
   {
    "duration": 4,
    "start_time": "2022-11-25T17:13:31.495Z"
   },
   {
    "duration": 9,
    "start_time": "2022-11-25T17:13:31.500Z"
   },
   {
    "duration": 896,
    "start_time": "2022-11-25T17:13:31.512Z"
   },
   {
    "duration": 76,
    "start_time": "2022-11-25T17:13:32.409Z"
   },
   {
    "duration": 119,
    "start_time": "2022-11-25T17:13:32.488Z"
   },
   {
    "duration": 181,
    "start_time": "2022-11-25T17:13:32.609Z"
   },
   {
    "duration": 6,
    "start_time": "2022-11-25T17:13:32.791Z"
   },
   {
    "duration": 11,
    "start_time": "2022-11-25T17:13:32.798Z"
   },
   {
    "duration": 50,
    "start_time": "2022-11-25T17:13:32.813Z"
   },
   {
    "duration": 7,
    "start_time": "2022-11-25T17:13:32.865Z"
   },
   {
    "duration": 8,
    "start_time": "2022-11-25T17:13:32.874Z"
   },
   {
    "duration": 26,
    "start_time": "2022-11-25T17:13:32.884Z"
   },
   {
    "duration": 44,
    "start_time": "2022-11-25T17:13:32.911Z"
   },
   {
    "duration": 13,
    "start_time": "2022-11-25T17:13:32.957Z"
   },
   {
    "duration": 8,
    "start_time": "2022-11-25T17:13:32.972Z"
   },
   {
    "duration": 18,
    "start_time": "2022-11-25T17:13:32.981Z"
   },
   {
    "duration": 69,
    "start_time": "2022-11-25T17:13:33.001Z"
   },
   {
    "duration": 7,
    "start_time": "2022-11-25T17:13:33.072Z"
   },
   {
    "duration": 14,
    "start_time": "2022-11-25T17:13:33.080Z"
   },
   {
    "duration": 6,
    "start_time": "2022-11-25T17:13:33.096Z"
   },
   {
    "duration": 2209,
    "start_time": "2022-11-25T17:13:33.103Z"
   },
   {
    "duration": 532,
    "start_time": "2022-11-25T17:13:35.314Z"
   },
   {
    "duration": 134,
    "start_time": "2022-11-25T17:13:35.848Z"
   },
   {
    "duration": 111,
    "start_time": "2022-11-25T17:13:35.984Z"
   },
   {
    "duration": 255,
    "start_time": "2022-11-25T17:13:36.096Z"
   },
   {
    "duration": 220,
    "start_time": "2022-11-25T17:13:36.353Z"
   },
   {
    "duration": 246,
    "start_time": "2022-11-25T17:13:36.578Z"
   },
   {
    "duration": 4,
    "start_time": "2022-11-25T17:13:36.825Z"
   },
   {
    "duration": 7,
    "start_time": "2022-11-25T17:13:36.831Z"
   },
   {
    "duration": 736,
    "start_time": "2022-11-25T17:13:36.851Z"
   },
   {
    "duration": 5,
    "start_time": "2022-11-25T17:13:37.589Z"
   },
   {
    "duration": 2721,
    "start_time": "2022-11-25T17:13:37.596Z"
   },
   {
    "duration": 4,
    "start_time": "2022-11-25T17:13:40.319Z"
   },
   {
    "duration": 29,
    "start_time": "2022-11-25T17:13:40.325Z"
   },
   {
    "duration": 21,
    "start_time": "2022-11-25T17:13:40.356Z"
   },
   {
    "duration": 9,
    "start_time": "2022-11-25T17:13:40.380Z"
   },
   {
    "duration": 978,
    "start_time": "2022-11-25T17:13:40.390Z"
   },
   {
    "duration": 4,
    "start_time": "2022-11-25T17:13:41.369Z"
   },
   {
    "duration": 40,
    "start_time": "2022-11-25T17:13:41.376Z"
   },
   {
    "duration": 72,
    "start_time": "2022-11-25T17:13:41.418Z"
   },
   {
    "duration": 9,
    "start_time": "2022-11-25T17:13:41.492Z"
   },
   {
    "duration": 5,
    "start_time": "2022-11-25T17:13:41.503Z"
   },
   {
    "duration": 10,
    "start_time": "2022-11-25T17:13:41.510Z"
   },
   {
    "duration": 17104,
    "start_time": "2022-11-25T17:13:41.522Z"
   },
   {
    "duration": 6435,
    "start_time": "2022-11-25T17:13:58.627Z"
   },
   {
    "duration": 11809,
    "start_time": "2022-11-25T17:14:05.064Z"
   },
   {
    "duration": 7,
    "start_time": "2022-11-25T17:14:16.875Z"
   },
   {
    "duration": 78,
    "start_time": "2022-11-25T17:14:16.884Z"
   },
   {
    "duration": 89,
    "start_time": "2022-11-25T17:14:16.965Z"
   },
   {
    "duration": 125,
    "start_time": "2022-11-25T17:14:17.056Z"
   },
   {
    "duration": 573,
    "start_time": "2022-11-25T17:14:17.183Z"
   },
   {
    "duration": 0,
    "start_time": "2022-11-25T17:14:17.758Z"
   },
   {
    "duration": 0,
    "start_time": "2022-11-25T17:14:17.759Z"
   },
   {
    "duration": 0,
    "start_time": "2022-11-25T17:14:17.761Z"
   },
   {
    "duration": 0,
    "start_time": "2022-11-25T17:14:17.762Z"
   },
   {
    "duration": 0,
    "start_time": "2022-11-25T17:14:17.763Z"
   },
   {
    "duration": 0,
    "start_time": "2022-11-25T17:14:17.764Z"
   },
   {
    "duration": 0,
    "start_time": "2022-11-25T17:14:17.765Z"
   },
   {
    "duration": 0,
    "start_time": "2022-11-25T17:14:17.769Z"
   },
   {
    "duration": 15,
    "start_time": "2022-11-25T17:14:22.122Z"
   },
   {
    "duration": 14,
    "start_time": "2022-11-25T17:14:29.406Z"
   },
   {
    "duration": 15,
    "start_time": "2022-11-25T17:14:30.954Z"
   },
   {
    "duration": 1544,
    "start_time": "2023-06-03T15:45:30.068Z"
   },
   {
    "duration": 3,
    "start_time": "2023-06-03T15:45:31.614Z"
   },
   {
    "duration": 37,
    "start_time": "2023-06-03T15:45:31.618Z"
   },
   {
    "duration": 515,
    "start_time": "2023-06-03T15:45:31.656Z"
   },
   {
    "duration": 47,
    "start_time": "2023-06-03T15:45:32.174Z"
   },
   {
    "duration": 79,
    "start_time": "2023-06-03T15:45:32.222Z"
   },
   {
    "duration": 136,
    "start_time": "2023-06-03T15:45:32.311Z"
   },
   {
    "duration": 7,
    "start_time": "2023-06-03T15:45:32.448Z"
   },
   {
    "duration": 22,
    "start_time": "2023-06-03T15:45:32.456Z"
   },
   {
    "duration": 60,
    "start_time": "2023-06-03T15:45:32.479Z"
   },
   {
    "duration": 27,
    "start_time": "2023-06-03T15:45:32.541Z"
   },
   {
    "duration": 57,
    "start_time": "2023-06-03T15:45:32.570Z"
   },
   {
    "duration": 34,
    "start_time": "2023-06-03T15:45:32.629Z"
   },
   {
    "duration": 12,
    "start_time": "2023-06-03T15:45:32.666Z"
   },
   {
    "duration": 27,
    "start_time": "2023-06-03T15:45:32.680Z"
   },
   {
    "duration": 13,
    "start_time": "2023-06-03T15:45:32.708Z"
   },
   {
    "duration": 13,
    "start_time": "2023-06-03T15:45:32.723Z"
   },
   {
    "duration": 33,
    "start_time": "2023-06-03T15:45:32.738Z"
   },
   {
    "duration": 5,
    "start_time": "2023-06-03T15:45:32.772Z"
   },
   {
    "duration": 20,
    "start_time": "2023-06-03T15:45:32.778Z"
   },
   {
    "duration": 18,
    "start_time": "2023-06-03T15:45:32.799Z"
   },
   {
    "duration": 1762,
    "start_time": "2023-06-03T15:45:32.819Z"
   },
   {
    "duration": 470,
    "start_time": "2023-06-03T15:45:34.584Z"
   },
   {
    "duration": 104,
    "start_time": "2023-06-03T15:45:35.055Z"
   },
   {
    "duration": 80,
    "start_time": "2023-06-03T15:45:35.160Z"
   },
   {
    "duration": 181,
    "start_time": "2023-06-03T15:45:35.242Z"
   },
   {
    "duration": 184,
    "start_time": "2023-06-03T15:45:35.425Z"
   },
   {
    "duration": 161,
    "start_time": "2023-06-03T15:45:35.612Z"
   },
   {
    "duration": 3,
    "start_time": "2023-06-03T15:45:35.774Z"
   },
   {
    "duration": 34,
    "start_time": "2023-06-03T15:45:35.778Z"
   },
   {
    "duration": 606,
    "start_time": "2023-06-03T15:45:35.813Z"
   },
   {
    "duration": 3,
    "start_time": "2023-06-03T15:45:36.421Z"
   },
   {
    "duration": 1987,
    "start_time": "2023-06-03T15:45:36.426Z"
   },
   {
    "duration": 8,
    "start_time": "2023-06-03T15:45:38.414Z"
   },
   {
    "duration": 79,
    "start_time": "2023-06-03T15:45:38.423Z"
   },
   {
    "duration": 13,
    "start_time": "2023-06-03T15:45:38.509Z"
   },
   {
    "duration": 6,
    "start_time": "2023-06-03T15:45:38.523Z"
   },
   {
    "duration": 942,
    "start_time": "2023-06-03T15:45:38.530Z"
   },
   {
    "duration": 2,
    "start_time": "2023-06-03T15:45:39.474Z"
   },
   {
    "duration": 38,
    "start_time": "2023-06-03T15:45:39.477Z"
   },
   {
    "duration": 31,
    "start_time": "2023-06-03T15:45:39.518Z"
   },
   {
    "duration": 11,
    "start_time": "2023-06-03T15:45:39.550Z"
   },
   {
    "duration": 6,
    "start_time": "2023-06-03T15:45:39.563Z"
   },
   {
    "duration": 20,
    "start_time": "2023-06-03T15:45:39.570Z"
   },
   {
    "duration": 9,
    "start_time": "2023-06-03T15:45:39.605Z"
   },
   {
    "duration": 173600,
    "start_time": "2023-06-03T15:45:39.615Z"
   },
   {
    "duration": 6011,
    "start_time": "2023-06-03T15:48:33.217Z"
   },
   {
    "duration": 769660,
    "start_time": "2023-06-03T15:48:39.287Z"
   },
   {
    "duration": 5,
    "start_time": "2023-06-03T16:01:28.948Z"
   },
   {
    "duration": 47,
    "start_time": "2023-06-03T16:01:28.954Z"
   },
   {
    "duration": 94,
    "start_time": "2023-06-03T16:01:29.003Z"
   },
   {
    "duration": 153,
    "start_time": "2023-06-03T16:01:29.106Z"
   },
   {
    "duration": 936,
    "start_time": "2023-06-03T16:01:29.261Z"
   },
   {
    "duration": 4,
    "start_time": "2023-06-03T16:01:30.198Z"
   },
   {
    "duration": 4,
    "start_time": "2023-06-03T16:01:30.203Z"
   },
   {
    "duration": 8,
    "start_time": "2023-06-03T16:01:30.209Z"
   },
   {
    "duration": 144,
    "start_time": "2023-06-03T16:01:30.219Z"
   },
   {
    "duration": 175,
    "start_time": "2023-06-03T16:01:30.364Z"
   },
   {
    "duration": 10,
    "start_time": "2023-06-03T16:01:30.541Z"
   },
   {
    "duration": 29,
    "start_time": "2023-06-03T16:01:30.552Z"
   }
  ],
  "celltoolbar": "Необработанный формат ячейки",
  "kernelspec": {
   "display_name": "Python 3 (ipykernel)",
   "language": "python",
   "name": "python3"
  },
  "language_info": {
   "codemirror_mode": {
    "name": "ipython",
    "version": 3
   },
   "file_extension": ".py",
   "mimetype": "text/x-python",
   "name": "python",
   "nbconvert_exporter": "python",
   "pygments_lexer": "ipython3",
   "version": "3.9.7"
  },
  "toc": {
   "base_numbering": 1,
   "nav_menu": {},
   "number_sections": true,
   "sideBar": true,
   "skip_h1_title": true,
   "title_cell": "Table of Contents",
   "title_sidebar": "Contents",
   "toc_cell": false,
   "toc_position": {
    "height": "calc(100% - 180px)",
    "left": "10px",
    "top": "150px",
    "width": "443.266px"
   },
   "toc_section_display": true,
   "toc_window_display": true
  }
 },
 "nbformat": 4,
 "nbformat_minor": 2
}
