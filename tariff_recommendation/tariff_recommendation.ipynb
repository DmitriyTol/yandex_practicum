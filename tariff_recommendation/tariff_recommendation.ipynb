{
 "cells": [
  {
   "cell_type": "markdown",
   "metadata": {},
   "source": [
    "# Рекомендация тарифов"
   ]
  },
  {
   "cell_type": "markdown",
   "metadata": {},
   "source": [
    "В вашем распоряжении данные о поведении клиентов, которые уже перешли на эти тарифы (из проекта курса «Статистический анализ данных»). Нужно построить модель для задачи классификации, которая выберет подходящий тариф. Предобработка данных не понадобится — вы её уже сделали.\n",
    "\n",
    "Постройте модель с максимально большим значением *accuracy*. Чтобы сдать проект успешно, нужно довести долю правильных ответов по крайней мере до 0.75. Проверьте *accuracy* на тестовой выборке самостоятельно."
   ]
  },
  {
   "cell_type": "markdown",
   "metadata": {},
   "source": [
    "Каждый объект в наборе данных — это информация о поведении одного пользователя за месяц. Известно:\n",
    "- `сalls` — количество звонков,\n",
    "- `minutes` — суммарная длительность звонков в минутах,\n",
    "- `messages` — количество sms-сообщений,\n",
    "- `mb_used` — израсходованный интернет-трафик в Мб,\n",
    "- `is_ultra` — каким тарифом пользовался в течение месяца («Ультра» — 1, «Смарт» — 0)."
   ]
  },
  {
   "cell_type": "markdown",
   "metadata": {},
   "source": [
    "## Откройте и изучите файл"
   ]
  },
  {
   "cell_type": "code",
   "execution_count": 31,
   "metadata": {},
   "outputs": [],
   "source": [
    "import pandas as pd #импортируем нужные библиотеки и классы\n",
    "from sklearn.tree import DecisionTreeClassifier\n",
    "from sklearn.ensemble import RandomForestClassifier\n",
    "from sklearn.linear_model import LogisticRegression\n",
    "from sklearn.model_selection import train_test_split\n",
    "from sklearn.metrics import mean_squared_error\n",
    "from sklearn.dummy import DummyClassifier"
   ]
  },
  {
   "cell_type": "code",
   "execution_count": 32,
   "metadata": {},
   "outputs": [],
   "source": [
    "df = pd.read_csv('/datasets/users_behavior.csv')"
   ]
  },
  {
   "cell_type": "markdown",
   "metadata": {},
   "source": [
    "Откроем и изучим данные."
   ]
  },
  {
   "cell_type": "code",
   "execution_count": 33,
   "metadata": {},
   "outputs": [
    {
     "name": "stdout",
     "output_type": "stream",
     "text": [
      "<class 'pandas.core.frame.DataFrame'>\n",
      "RangeIndex: 3214 entries, 0 to 3213\n",
      "Data columns (total 5 columns):\n",
      " #   Column    Non-Null Count  Dtype  \n",
      "---  ------    --------------  -----  \n",
      " 0   calls     3214 non-null   float64\n",
      " 1   minutes   3214 non-null   float64\n",
      " 2   messages  3214 non-null   float64\n",
      " 3   mb_used   3214 non-null   float64\n",
      " 4   is_ultra  3214 non-null   int64  \n",
      "dtypes: float64(4), int64(1)\n",
      "memory usage: 125.7 KB\n"
     ]
    },
    {
     "data": {
      "text/html": [
       "<div>\n",
       "<style scoped>\n",
       "    .dataframe tbody tr th:only-of-type {\n",
       "        vertical-align: middle;\n",
       "    }\n",
       "\n",
       "    .dataframe tbody tr th {\n",
       "        vertical-align: top;\n",
       "    }\n",
       "\n",
       "    .dataframe thead th {\n",
       "        text-align: right;\n",
       "    }\n",
       "</style>\n",
       "<table border=\"1\" class=\"dataframe\">\n",
       "  <thead>\n",
       "    <tr style=\"text-align: right;\">\n",
       "      <th></th>\n",
       "      <th>calls</th>\n",
       "      <th>minutes</th>\n",
       "      <th>messages</th>\n",
       "      <th>mb_used</th>\n",
       "      <th>is_ultra</th>\n",
       "    </tr>\n",
       "  </thead>\n",
       "  <tbody>\n",
       "    <tr>\n",
       "      <th>0</th>\n",
       "      <td>40.0</td>\n",
       "      <td>311.90</td>\n",
       "      <td>83.0</td>\n",
       "      <td>19915.42</td>\n",
       "      <td>0</td>\n",
       "    </tr>\n",
       "    <tr>\n",
       "      <th>1</th>\n",
       "      <td>85.0</td>\n",
       "      <td>516.75</td>\n",
       "      <td>56.0</td>\n",
       "      <td>22696.96</td>\n",
       "      <td>0</td>\n",
       "    </tr>\n",
       "    <tr>\n",
       "      <th>2</th>\n",
       "      <td>77.0</td>\n",
       "      <td>467.66</td>\n",
       "      <td>86.0</td>\n",
       "      <td>21060.45</td>\n",
       "      <td>0</td>\n",
       "    </tr>\n",
       "    <tr>\n",
       "      <th>3</th>\n",
       "      <td>106.0</td>\n",
       "      <td>745.53</td>\n",
       "      <td>81.0</td>\n",
       "      <td>8437.39</td>\n",
       "      <td>1</td>\n",
       "    </tr>\n",
       "    <tr>\n",
       "      <th>4</th>\n",
       "      <td>66.0</td>\n",
       "      <td>418.74</td>\n",
       "      <td>1.0</td>\n",
       "      <td>14502.75</td>\n",
       "      <td>0</td>\n",
       "    </tr>\n",
       "  </tbody>\n",
       "</table>\n",
       "</div>"
      ],
      "text/plain": [
       "   calls  minutes  messages   mb_used  is_ultra\n",
       "0   40.0   311.90      83.0  19915.42         0\n",
       "1   85.0   516.75      56.0  22696.96         0\n",
       "2   77.0   467.66      86.0  21060.45         0\n",
       "3  106.0   745.53      81.0   8437.39         1\n",
       "4   66.0   418.74       1.0  14502.75         0"
      ]
     },
     "execution_count": 33,
     "metadata": {},
     "output_type": "execute_result"
    }
   ],
   "source": [
    "df.info()\n",
    "df.head()"
   ]
  },
  {
   "cell_type": "markdown",
   "metadata": {},
   "source": [
    "Видим, что пропусков в данных нет, типы так же соблюдены\n"
   ]
  },
  {
   "cell_type": "markdown",
   "metadata": {},
   "source": [
    "## Разбейте данные на выборки"
   ]
  },
  {
   "cell_type": "code",
   "execution_count": 34,
   "metadata": {},
   "outputs": [],
   "source": [
    "train , test = train_test_split(\n",
    "df,test_size=0.2, random_state=12345)"
   ]
  },
  {
   "cell_type": "code",
   "execution_count": 35,
   "metadata": {},
   "outputs": [
    {
     "name": "stdout",
     "output_type": "stream",
     "text": [
      "<class 'pandas.core.frame.DataFrame'>\n",
      "Int64Index: 2571 entries, 348 to 482\n",
      "Data columns (total 5 columns):\n",
      " #   Column    Non-Null Count  Dtype  \n",
      "---  ------    --------------  -----  \n",
      " 0   calls     2571 non-null   float64\n",
      " 1   minutes   2571 non-null   float64\n",
      " 2   messages  2571 non-null   float64\n",
      " 3   mb_used   2571 non-null   float64\n",
      " 4   is_ultra  2571 non-null   int64  \n",
      "dtypes: float64(4), int64(1)\n",
      "memory usage: 120.5 KB\n"
     ]
    }
   ],
   "source": [
    "train.info()"
   ]
  },
  {
   "cell_type": "code",
   "execution_count": 36,
   "metadata": {},
   "outputs": [
    {
     "name": "stdout",
     "output_type": "stream",
     "text": [
      "<class 'pandas.core.frame.DataFrame'>\n",
      "Int64Index: 643 entries, 1415 to 1196\n",
      "Data columns (total 5 columns):\n",
      " #   Column    Non-Null Count  Dtype  \n",
      "---  ------    --------------  -----  \n",
      " 0   calls     643 non-null    float64\n",
      " 1   minutes   643 non-null    float64\n",
      " 2   messages  643 non-null    float64\n",
      " 3   mb_used   643 non-null    float64\n",
      " 4   is_ultra  643 non-null    int64  \n",
      "dtypes: float64(4), int64(1)\n",
      "memory usage: 30.1 KB\n"
     ]
    }
   ],
   "source": [
    "test.info()"
   ]
  },
  {
   "cell_type": "markdown",
   "metadata": {},
   "source": [
    "Разделили выборку на тестовую и обучающую."
   ]
  },
  {
   "cell_type": "code",
   "execution_count": null,
   "metadata": {},
   "outputs": [],
   "source": [
    "features_test = test.drop('is_ultra',axis=1)\n",
    "target_test = test['is_ultra']"
   ]
  },
  {
   "cell_type": "markdown",
   "metadata": {},
   "source": [
    "Выделили целевой признак в тестовой выборке"
   ]
  },
  {
   "cell_type": "code",
   "execution_count": null,
   "metadata": {},
   "outputs": [],
   "source": [
    "features_learn = train.drop('is_ultra',axis=1)# извлечем признаки \n",
    "target_learn = train['is_ultra']# извлечем целевой признак"
   ]
  },
  {
   "cell_type": "markdown",
   "metadata": {},
   "source": [
    "Выделили целевой признак в обучающей выборке"
   ]
  },
  {
   "cell_type": "code",
   "execution_count": null,
   "metadata": {},
   "outputs": [],
   "source": [
    "features_train, features_valid, target_train, target_valid = train_test_split(\n",
    "    features_learn, target_learn, test_size=0.25, random_state=12345) # отделим 25% данных для валидационной выборки"
   ]
  },
  {
   "cell_type": "markdown",
   "metadata": {},
   "source": [
    "Разделили обучающую выборку на обучающую и валидационную."
   ]
  },
  {
   "cell_type": "markdown",
   "metadata": {},
   "source": [
    "## Исследуйте модели"
   ]
  },
  {
   "cell_type": "markdown",
   "metadata": {},
   "source": [
    "### Decision Tree"
   ]
  },
  {
   "cell_type": "code",
   "execution_count": null,
   "metadata": {
    "scrolled": true
   },
   "outputs": [],
   "source": [
    "best_accuracy = 0\n",
    "best_depth = 0\n",
    "for depth in range(1,10):\n",
    "    model = DecisionTreeClassifier(random_state=12345, max_depth=depth)\n",
    "    model.fit(features_train, target_train)\n",
    "    accuracy = model.score(features_valid, target_valid)\n",
    "    if best_accuracy < accuracy:\n",
    "        best_accuracy = accuracy\n",
    "        best_depth = depth\n",
    "print(\"Лучшая глубина:\", best_depth, \"Лучшая accuracy:\", best_accuracy)"
   ]
  },
  {
   "cell_type": "markdown",
   "metadata": {},
   "source": [
    "### Random Forest"
   ]
  },
  {
   "cell_type": "code",
   "execution_count": null,
   "metadata": {},
   "outputs": [],
   "source": [
    "best_accuracy = 0\n",
    "best_depth = 0\n",
    "best_est = 0\n",
    "best_samples = 0\n",
    "for depth in range (1, 11):\n",
    "    for est in range(5, 51, 5):\n",
    "        for sample in range(2,5):\n",
    "            model = RandomForestClassifier(random_state=12345, n_estimators=est, max_depth=depth, min_samples_leaf=sample)\n",
    "            model.fit(features_train, target_train)\n",
    "            accuracy = model.score(features_valid, target_valid)\n",
    "            if best_accuracy < accuracy:\n",
    "                best_accuracy = accuracy\n",
    "                best_depth = depth\n",
    "                best_est = est\n",
    "                best_samples = sample\n",
    "print(\"Лучшая глубина:\", best_depth, \"Лучшая accuracy:\", best_accuracy, \"Лучшее количество деревьев:\", best_est, \n",
    "      \"Лучшее количество узлов:\", best_samples)"
   ]
  },
  {
   "cell_type": "markdown",
   "metadata": {},
   "source": [
    "### Logictis Regression"
   ]
  },
  {
   "cell_type": "code",
   "execution_count": null,
   "metadata": {},
   "outputs": [],
   "source": [
    "model = LogisticRegression()\n",
    "model.fit(features_train, target_train)\n",
    "accuracy = model.score(features_valid, target_valid)\n",
    "print(\"Accuracy:\", accuracy)"
   ]
  },
  {
   "cell_type": "markdown",
   "metadata": {},
   "source": [
    "Исследовали модели применяя разные гиперпараметры. На обучающей выборке себя показл лучше всего случайный лес со следующими гиперпараметрами:\n",
    "- глубина - 10\n",
    "- количество деревьев - 10\n",
    "- минимальное количество узлов - 3"
   ]
  },
  {
   "cell_type": "markdown",
   "metadata": {},
   "source": [
    "## Проверьте модель на тестовой выборке"
   ]
  },
  {
   "cell_type": "markdown",
   "metadata": {},
   "source": [
    "### Decision Tree"
   ]
  },
  {
   "cell_type": "code",
   "execution_count": null,
   "metadata": {},
   "outputs": [],
   "source": [
    "model = DecisionTreeClassifier(random_state=12345, max_depth=7)\n",
    "model.fit(features_train, target_train)\n",
    "accuracy_tree = model.score(features_test, target_test)\n",
    "print(\"Accuracy:\", accuracy_tree)"
   ]
  },
  {
   "cell_type": "markdown",
   "metadata": {},
   "source": [
    "### Random Forest"
   ]
  },
  {
   "cell_type": "code",
   "execution_count": null,
   "metadata": {},
   "outputs": [],
   "source": [
    "model = RandomForestClassifier(random_state=12345, n_estimators=10, max_depth=10, min_samples_leaf=3)\n",
    "model.fit(features_train, target_train)\n",
    "accuracy_forest = model.score(features_test, target_test)\n",
    "print(\"Accuracy:\",accuracy_forest)"
   ]
  },
  {
   "cell_type": "markdown",
   "metadata": {},
   "source": [
    "### Logictis Regression"
   ]
  },
  {
   "cell_type": "code",
   "execution_count": null,
   "metadata": {},
   "outputs": [],
   "source": [
    "model = LogisticRegression()\n",
    "model.fit(features_train, target_train)\n",
    "accuracy_regr = model.score(features_test, target_test)\n",
    "print(\"Accuracy:\", accuracy_regr)"
   ]
  },
  {
   "cell_type": "markdown",
   "metadata": {},
   "source": [
    "Смогли добиться значения `accuracy` на тестовой выборке выше 0,75. Случйный лес имеет показатель в 0,792."
   ]
  },
  {
   "cell_type": "markdown",
   "metadata": {},
   "source": [
    "## (бонус) Проверьте модели на адекватность"
   ]
  },
  {
   "cell_type": "code",
   "execution_count": null,
   "metadata": {
    "scrolled": false
   },
   "outputs": [],
   "source": [
    "checker = DummyClassifier(strategy='most_frequent', random_state=12345)\n",
    "checker.fit(features_train,target_train)\n",
    "accuracy_check = checker.score(features_test, target_test)\n",
    "print('Проверочная accuracy:', accuracy_check)\n",
    "print('Accuracy', accuracy_forest)"
   ]
  },
  {
   "cell_type": "markdown",
   "metadata": {},
   "source": [
    "Видим, что точность модели выше проверочной точности."
   ]
  },
  {
   "cell_type": "markdown",
   "metadata": {},
   "source": [
    "## Итоги"
   ]
  },
  {
   "cell_type": "markdown",
   "metadata": {},
   "source": [
    "Проверили три модели: `DecisionTreeClassifier`, `RandomForestClassifier`, `Logistic regression`\n",
    "Моделью с лучшей точность `0,792` получилась `RandomForestClassifier` со следуюищими гиперпараметрами:\n",
    "- глубина - 10\n",
    "- количество деревьев - 10\n",
    "- минимальное количество узлов - 3"
   ]
  },
  {
   "cell_type": "markdown",
   "metadata": {},
   "source": [
    "## Чек-лист готовности проекта"
   ]
  },
  {
   "cell_type": "markdown",
   "metadata": {},
   "source": [
    "Поставьте 'x' в выполненных пунктах. Далее нажмите Shift+Enter."
   ]
  },
  {
   "cell_type": "markdown",
   "metadata": {},
   "source": [
    "- [x] Jupyter Notebook открыт\n",
    "- [x] Весь код исполняется без ошибок\n",
    "- [x] Ячейки с кодом расположены в порядке исполнения\n",
    "- [x] Выполнено задание 1: данные загружены и изучены\n",
    "- [x] Выполнено задание 2: данные разбиты на три выборки\n",
    "- [x] Выполнено задание 3: проведено исследование моделей\n",
    "    - [x] Рассмотрено больше одной модели\n",
    "    - [x] Рассмотрено хотя бы 3 значения гипепараметров для какой-нибудь модели\n",
    "    - [x] Написаны выводы по результатам исследования\n",
    "- [x] Выполнено задание 4: Проведено тестирование\n",
    "- [x] Удалось достичь accuracy не меньше 0.75\n"
   ]
  }
 ],
 "metadata": {
  "ExecuteTimeLog": [
   {
    "duration": 41,
    "start_time": "2022-06-10T11:03:01.747Z"
   },
   {
    "duration": 5,
    "start_time": "2022-06-10T11:03:02.508Z"
   },
   {
    "duration": 420,
    "start_time": "2022-06-10T11:03:10.908Z"
   },
   {
    "duration": 62,
    "start_time": "2022-06-10T11:03:13.461Z"
   },
   {
    "duration": 22,
    "start_time": "2022-06-10T11:03:27.134Z"
   },
   {
    "duration": 4,
    "start_time": "2022-06-10T11:11:27.486Z"
   },
   {
    "duration": 30,
    "start_time": "2022-06-10T11:11:29.809Z"
   },
   {
    "duration": 812,
    "start_time": "2022-06-10T11:11:38.101Z"
   },
   {
    "duration": 5,
    "start_time": "2022-06-10T11:11:40.815Z"
   },
   {
    "duration": 172,
    "start_time": "2022-06-10T11:18:09.876Z"
   },
   {
    "duration": 162,
    "start_time": "2022-06-10T11:18:12.601Z"
   },
   {
    "duration": 3,
    "start_time": "2022-06-10T11:18:28.006Z"
   },
   {
    "duration": 3,
    "start_time": "2022-06-10T11:34:33.790Z"
   },
   {
    "duration": 27,
    "start_time": "2022-06-10T11:36:49.444Z"
   },
   {
    "duration": 58,
    "start_time": "2022-06-10T11:38:44.996Z"
   },
   {
    "duration": 38,
    "start_time": "2022-06-10T11:38:51.932Z"
   },
   {
    "duration": 9,
    "start_time": "2022-06-10T11:39:08.518Z"
   },
   {
    "duration": 3,
    "start_time": "2022-06-10T11:39:24.386Z"
   },
   {
    "duration": 14,
    "start_time": "2022-06-10T11:39:27.021Z"
   },
   {
    "duration": 3,
    "start_time": "2022-06-10T11:39:33.656Z"
   },
   {
    "duration": 12,
    "start_time": "2022-06-10T11:43:17.182Z"
   },
   {
    "duration": 58,
    "start_time": "2022-06-10T11:43:25.380Z"
   },
   {
    "duration": 29,
    "start_time": "2022-06-10T11:46:38.371Z"
   },
   {
    "duration": 4393,
    "start_time": "2022-06-10T11:46:47.590Z"
   },
   {
    "duration": 8215,
    "start_time": "2022-06-10T11:47:51.373Z"
   },
   {
    "duration": 9082,
    "start_time": "2022-06-10T11:48:57.892Z"
   },
   {
    "duration": 23615,
    "start_time": "2022-06-10T11:49:49.700Z"
   },
   {
    "duration": 3,
    "start_time": "2022-06-10T11:50:42.776Z"
   },
   {
    "duration": 21272,
    "start_time": "2022-06-10T11:50:46.709Z"
   },
   {
    "duration": 22,
    "start_time": "2022-06-10T11:51:30.506Z"
   },
   {
    "duration": 19987,
    "start_time": "2022-06-10T11:51:35.688Z"
   },
   {
    "duration": 3,
    "start_time": "2022-06-10T11:52:17.336Z"
   },
   {
    "duration": 126,
    "start_time": "2022-06-10T11:53:00.764Z"
   },
   {
    "duration": 53,
    "start_time": "2022-06-10T11:53:08.729Z"
   },
   {
    "duration": 59,
    "start_time": "2022-06-10T11:54:13.910Z"
   },
   {
    "duration": 20232,
    "start_time": "2022-06-10T11:54:15.886Z"
   },
   {
    "duration": 167,
    "start_time": "2022-06-10T11:54:36.120Z"
   },
   {
    "duration": 11,
    "start_time": "2022-06-10T11:59:48.377Z"
   },
   {
    "duration": 11,
    "start_time": "2022-06-10T12:00:13.886Z"
   },
   {
    "duration": 4,
    "start_time": "2022-06-10T12:01:52.883Z"
   },
   {
    "duration": 4,
    "start_time": "2022-06-10T12:02:12.750Z"
   },
   {
    "duration": 8,
    "start_time": "2022-06-10T12:02:54.699Z"
   },
   {
    "duration": 4,
    "start_time": "2022-06-10T12:02:58.083Z"
   },
   {
    "duration": 4,
    "start_time": "2022-06-10T12:02:59.418Z"
   },
   {
    "duration": 5,
    "start_time": "2022-06-10T12:03:05.350Z"
   },
   {
    "duration": 49,
    "start_time": "2022-06-10T12:03:06.393Z"
   },
   {
    "duration": 17933,
    "start_time": "2022-06-10T12:03:07.475Z"
   },
   {
    "duration": 31,
    "start_time": "2022-06-10T12:03:25.409Z"
   },
   {
    "duration": 14,
    "start_time": "2022-06-10T12:03:25.442Z"
   },
   {
    "duration": 8,
    "start_time": "2022-06-10T12:04:38.644Z"
   },
   {
    "duration": 3,
    "start_time": "2022-06-10T12:04:42.741Z"
   },
   {
    "duration": 12,
    "start_time": "2022-06-10T12:04:53.310Z"
   },
   {
    "duration": 9,
    "start_time": "2022-06-10T12:05:08.533Z"
   },
   {
    "duration": 10,
    "start_time": "2022-06-10T12:06:35.851Z"
   },
   {
    "duration": 11,
    "start_time": "2022-06-10T12:06:38.285Z"
   },
   {
    "duration": 34,
    "start_time": "2022-06-10T12:07:35.497Z"
   },
   {
    "duration": 37,
    "start_time": "2022-06-10T12:09:20.786Z"
   },
   {
    "duration": 11,
    "start_time": "2022-06-10T12:09:35.536Z"
   },
   {
    "duration": 35,
    "start_time": "2022-06-10T12:09:37.587Z"
   },
   {
    "duration": 32,
    "start_time": "2022-06-10T12:10:23.215Z"
   },
   {
    "duration": 1203,
    "start_time": "2022-06-12T12:24:08.562Z"
   },
   {
    "duration": 108,
    "start_time": "2022-06-12T12:37:14.479Z"
   },
   {
    "duration": 5,
    "start_time": "2022-06-12T12:37:35.000Z"
   },
   {
    "duration": 10,
    "start_time": "2022-06-12T12:37:41.178Z"
   },
   {
    "duration": 3,
    "start_time": "2022-06-12T12:37:44.841Z"
   },
   {
    "duration": 143,
    "start_time": "2022-06-12T12:37:44.847Z"
   },
   {
    "duration": 30,
    "start_time": "2022-06-12T12:37:44.991Z"
   },
   {
    "duration": 5,
    "start_time": "2022-06-12T12:37:45.023Z"
   },
   {
    "duration": 14,
    "start_time": "2022-06-12T12:37:45.030Z"
   },
   {
    "duration": 7,
    "start_time": "2022-06-12T12:37:45.045Z"
   },
   {
    "duration": 12,
    "start_time": "2022-06-12T12:37:45.054Z"
   },
   {
    "duration": 85,
    "start_time": "2022-06-12T12:37:45.068Z"
   },
   {
    "duration": 21272,
    "start_time": "2022-06-12T12:37:45.154Z"
   },
   {
    "duration": 59,
    "start_time": "2022-06-12T12:38:06.428Z"
   },
   {
    "duration": 11,
    "start_time": "2022-06-12T12:38:06.489Z"
   },
   {
    "duration": 76,
    "start_time": "2022-06-12T12:38:06.502Z"
   },
   {
    "duration": 56,
    "start_time": "2022-06-12T12:38:06.581Z"
   },
   {
    "duration": 5,
    "start_time": "2022-06-12T12:38:06.667Z"
   },
   {
    "duration": 47,
    "start_time": "2022-06-12T12:38:38.446Z"
   },
   {
    "duration": 42,
    "start_time": "2022-06-12T12:38:39.682Z"
   },
   {
    "duration": 17,
    "start_time": "2022-06-12T12:38:40.643Z"
   },
   {
    "duration": 39,
    "start_time": "2022-06-12T12:38:42.280Z"
   },
   {
    "duration": 46,
    "start_time": "2022-06-12T12:38:59.628Z"
   },
   {
    "duration": 13,
    "start_time": "2022-06-12T12:39:01.127Z"
   },
   {
    "duration": 46,
    "start_time": "2022-06-12T12:39:01.903Z"
   },
   {
    "duration": 8,
    "start_time": "2022-06-12T12:39:10.724Z"
   },
   {
    "duration": 67,
    "start_time": "2022-07-18T08:45:00.231Z"
   },
   {
    "duration": 15,
    "start_time": "2022-07-18T08:45:03.037Z"
   },
   {
    "duration": 1943,
    "start_time": "2022-07-18T08:45:05.315Z"
   },
   {
    "duration": 75,
    "start_time": "2022-07-18T08:45:07.261Z"
   },
   {
    "duration": 33,
    "start_time": "2022-07-18T08:45:07.354Z"
   },
   {
    "duration": 5,
    "start_time": "2022-07-18T08:45:07.388Z"
   },
   {
    "duration": 33,
    "start_time": "2022-07-18T08:45:07.454Z"
   },
   {
    "duration": 7,
    "start_time": "2022-07-18T08:45:07.489Z"
   },
   {
    "duration": 71,
    "start_time": "2022-07-18T08:45:07.497Z"
   },
   {
    "duration": 14,
    "start_time": "2022-07-18T08:45:07.571Z"
   },
   {
    "duration": 173,
    "start_time": "2022-07-18T08:45:07.587Z"
   },
   {
    "duration": 0,
    "start_time": "2022-07-18T08:46:14.658Z"
   },
   {
    "duration": 0,
    "start_time": "2022-07-18T08:46:14.660Z"
   },
   {
    "duration": 0,
    "start_time": "2022-07-18T08:46:14.661Z"
   },
   {
    "duration": 0,
    "start_time": "2022-07-18T08:46:14.662Z"
   },
   {
    "duration": 0,
    "start_time": "2022-07-18T08:46:14.663Z"
   },
   {
    "duration": 0,
    "start_time": "2022-07-18T08:46:14.664Z"
   },
   {
    "duration": 0,
    "start_time": "2022-07-18T08:46:14.665Z"
   },
   {
    "duration": 0,
    "start_time": "2022-07-18T08:46:14.666Z"
   },
   {
    "duration": 0,
    "start_time": "2022-07-18T08:46:14.667Z"
   },
   {
    "duration": 0,
    "start_time": "2022-07-18T08:46:14.668Z"
   },
   {
    "duration": 0,
    "start_time": "2022-07-18T08:46:14.671Z"
   },
   {
    "duration": 0,
    "start_time": "2022-07-18T08:46:14.672Z"
   },
   {
    "duration": 0,
    "start_time": "2022-07-18T08:46:14.673Z"
   },
   {
    "duration": 0,
    "start_time": "2022-07-18T08:46:14.674Z"
   },
   {
    "duration": 0,
    "start_time": "2022-07-18T08:46:14.675Z"
   },
   {
    "duration": 0,
    "start_time": "2022-07-18T08:46:14.676Z"
   },
   {
    "duration": 3,
    "start_time": "2022-07-18T08:46:18.797Z"
   },
   {
    "duration": 34,
    "start_time": "2022-07-18T08:46:20.222Z"
   },
   {
    "duration": 49,
    "start_time": "2022-07-18T08:46:21.110Z"
   },
   {
    "duration": 5,
    "start_time": "2022-07-18T08:46:23.479Z"
   },
   {
    "duration": 11,
    "start_time": "2022-07-18T08:46:24.404Z"
   },
   {
    "duration": 15,
    "start_time": "2022-07-18T08:46:25.937Z"
   }
  ],
  "kernelspec": {
   "display_name": "Python 3 (ipykernel)",
   "language": "python",
   "name": "python3"
  },
  "language_info": {
   "codemirror_mode": {
    "name": "ipython",
    "version": 3
   },
   "file_extension": ".py",
   "mimetype": "text/x-python",
   "name": "python",
   "nbconvert_exporter": "python",
   "pygments_lexer": "ipython3",
   "version": "3.9.7"
  },
  "toc": {
   "base_numbering": 1,
   "nav_menu": {},
   "number_sections": true,
   "sideBar": true,
   "skip_h1_title": true,
   "title_cell": "Table of Contents",
   "title_sidebar": "Contents",
   "toc_cell": false,
   "toc_position": {},
   "toc_section_display": true,
   "toc_window_display": false
  }
 },
 "nbformat": 4,
 "nbformat_minor": 2
}
