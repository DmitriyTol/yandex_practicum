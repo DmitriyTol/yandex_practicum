{
 "cells": [
  {
   "cell_type": "markdown",
   "metadata": {},
   "source": [
    "# Определение стоимости автомобилей"
   ]
  },
  {
   "cell_type": "markdown",
   "metadata": {},
   "source": [
    "Сервис по продаже автомобилей с пробегом «Не бит, не крашен» разрабатывает приложение для привлечения новых клиентов. В нём можно быстро узнать рыночную стоимость своего автомобиля. В нашем распоряжении исторические данные: технические характеристики, комплектации и цены автомобилей. Нам нужно построить модель для определения стоимости. \n",
    "\n",
    "Заказчику важны:\n",
    "\n",
    "- качество предсказания;\n",
    "- скорость предсказания;\n",
    "- время обучения."
   ]
  },
  {
   "cell_type": "markdown",
   "metadata": {},
   "source": [
    "Признаки\n",
    "- DateCrawled — дата скачивания анкеты из базы\n",
    "- VehicleType — тип автомобильного кузова\n",
    "- RegistrationYear — год регистрации автомобиля\n",
    "- Gearbox — тип коробки передач\n",
    "- Power — мощность (л. с.)\n",
    "- Model — модель автомобиля\n",
    "- Kilometer — пробег (км)\n",
    "- RegistrationMonth — месяц регистрации автомобиля\n",
    "- FuelType — тип топлива\n",
    "- Brand — марка автомобиля\n",
    "- Repaired — была машина в ремонте или нет\n",
    "- DateCreated — дата создания анкеты\n",
    "- NumberOfPictures — количество фотографий автомобиля\n",
    "- PostalCode — почтовый индекс владельца анкеты (пользователя)\n",
    "- LastSeen — дата последней активности пользователя\n",
    "Целевой признак\n",
    "- Price — цена (евро)"
   ]
  },
  {
   "cell_type": "markdown",
   "metadata": {},
   "source": [
    "## Подготовка данных"
   ]
  },
  {
   "cell_type": "code",
   "execution_count": 19,
   "metadata": {},
   "outputs": [],
   "source": [
    "import pandas as pd\n",
    "import matplotlib.pyplot as plt\n",
    "import seaborn as sns\n",
    "\n",
    "from sklearn.model_selection import train_test_split\n",
    "from sklearn.model_selection import GridSearchCV\n",
    "from sklearn.metrics import mean_squared_error\n",
    "\n",
    "from sklearn.ensemble import RandomForestRegressor\n",
    "from lightgbm import LGBMRegressor"
   ]
  },
  {
   "cell_type": "code",
   "execution_count": 20,
   "metadata": {},
   "outputs": [
    {
     "name": "stdout",
     "output_type": "stream",
     "text": [
      "<class 'pandas.core.frame.DataFrame'>\n",
      "RangeIndex: 354369 entries, 0 to 354368\n",
      "Data columns (total 16 columns):\n",
      " #   Column             Non-Null Count   Dtype \n",
      "---  ------             --------------   ----- \n",
      " 0   DateCrawled        354369 non-null  object\n",
      " 1   Price              354369 non-null  int64 \n",
      " 2   VehicleType        316879 non-null  object\n",
      " 3   RegistrationYear   354369 non-null  int64 \n",
      " 4   Gearbox            334536 non-null  object\n",
      " 5   Power              354369 non-null  int64 \n",
      " 6   Model              334664 non-null  object\n",
      " 7   Kilometer          354369 non-null  int64 \n",
      " 8   RegistrationMonth  354369 non-null  int64 \n",
      " 9   FuelType           321474 non-null  object\n",
      " 10  Brand              354369 non-null  object\n",
      " 11  Repaired           283215 non-null  object\n",
      " 12  DateCreated        354369 non-null  object\n",
      " 13  NumberOfPictures   354369 non-null  int64 \n",
      " 14  PostalCode         354369 non-null  int64 \n",
      " 15  LastSeen           354369 non-null  object\n",
      "dtypes: int64(7), object(9)\n",
      "memory usage: 43.3+ MB\n"
     ]
    },
    {
     "data": {
      "text/html": [
       "<div>\n",
       "<style scoped>\n",
       "    .dataframe tbody tr th:only-of-type {\n",
       "        vertical-align: middle;\n",
       "    }\n",
       "\n",
       "    .dataframe tbody tr th {\n",
       "        vertical-align: top;\n",
       "    }\n",
       "\n",
       "    .dataframe thead th {\n",
       "        text-align: right;\n",
       "    }\n",
       "</style>\n",
       "<table border=\"1\" class=\"dataframe\">\n",
       "  <thead>\n",
       "    <tr style=\"text-align: right;\">\n",
       "      <th></th>\n",
       "      <th>DateCrawled</th>\n",
       "      <th>Price</th>\n",
       "      <th>VehicleType</th>\n",
       "      <th>RegistrationYear</th>\n",
       "      <th>Gearbox</th>\n",
       "      <th>Power</th>\n",
       "      <th>Model</th>\n",
       "      <th>Kilometer</th>\n",
       "      <th>RegistrationMonth</th>\n",
       "      <th>FuelType</th>\n",
       "      <th>Brand</th>\n",
       "      <th>Repaired</th>\n",
       "      <th>DateCreated</th>\n",
       "      <th>NumberOfPictures</th>\n",
       "      <th>PostalCode</th>\n",
       "      <th>LastSeen</th>\n",
       "    </tr>\n",
       "  </thead>\n",
       "  <tbody>\n",
       "    <tr>\n",
       "      <th>0</th>\n",
       "      <td>2016-03-24 11:52:17</td>\n",
       "      <td>480</td>\n",
       "      <td>NaN</td>\n",
       "      <td>1993</td>\n",
       "      <td>manual</td>\n",
       "      <td>0</td>\n",
       "      <td>golf</td>\n",
       "      <td>150000</td>\n",
       "      <td>0</td>\n",
       "      <td>petrol</td>\n",
       "      <td>volkswagen</td>\n",
       "      <td>NaN</td>\n",
       "      <td>2016-03-24 00:00:00</td>\n",
       "      <td>0</td>\n",
       "      <td>70435</td>\n",
       "      <td>2016-04-07 03:16:57</td>\n",
       "    </tr>\n",
       "    <tr>\n",
       "      <th>1</th>\n",
       "      <td>2016-03-24 10:58:45</td>\n",
       "      <td>18300</td>\n",
       "      <td>coupe</td>\n",
       "      <td>2011</td>\n",
       "      <td>manual</td>\n",
       "      <td>190</td>\n",
       "      <td>NaN</td>\n",
       "      <td>125000</td>\n",
       "      <td>5</td>\n",
       "      <td>gasoline</td>\n",
       "      <td>audi</td>\n",
       "      <td>yes</td>\n",
       "      <td>2016-03-24 00:00:00</td>\n",
       "      <td>0</td>\n",
       "      <td>66954</td>\n",
       "      <td>2016-04-07 01:46:50</td>\n",
       "    </tr>\n",
       "    <tr>\n",
       "      <th>2</th>\n",
       "      <td>2016-03-14 12:52:21</td>\n",
       "      <td>9800</td>\n",
       "      <td>suv</td>\n",
       "      <td>2004</td>\n",
       "      <td>auto</td>\n",
       "      <td>163</td>\n",
       "      <td>grand</td>\n",
       "      <td>125000</td>\n",
       "      <td>8</td>\n",
       "      <td>gasoline</td>\n",
       "      <td>jeep</td>\n",
       "      <td>NaN</td>\n",
       "      <td>2016-03-14 00:00:00</td>\n",
       "      <td>0</td>\n",
       "      <td>90480</td>\n",
       "      <td>2016-04-05 12:47:46</td>\n",
       "    </tr>\n",
       "    <tr>\n",
       "      <th>3</th>\n",
       "      <td>2016-03-17 16:54:04</td>\n",
       "      <td>1500</td>\n",
       "      <td>small</td>\n",
       "      <td>2001</td>\n",
       "      <td>manual</td>\n",
       "      <td>75</td>\n",
       "      <td>golf</td>\n",
       "      <td>150000</td>\n",
       "      <td>6</td>\n",
       "      <td>petrol</td>\n",
       "      <td>volkswagen</td>\n",
       "      <td>no</td>\n",
       "      <td>2016-03-17 00:00:00</td>\n",
       "      <td>0</td>\n",
       "      <td>91074</td>\n",
       "      <td>2016-03-17 17:40:17</td>\n",
       "    </tr>\n",
       "    <tr>\n",
       "      <th>4</th>\n",
       "      <td>2016-03-31 17:25:20</td>\n",
       "      <td>3600</td>\n",
       "      <td>small</td>\n",
       "      <td>2008</td>\n",
       "      <td>manual</td>\n",
       "      <td>69</td>\n",
       "      <td>fabia</td>\n",
       "      <td>90000</td>\n",
       "      <td>7</td>\n",
       "      <td>gasoline</td>\n",
       "      <td>skoda</td>\n",
       "      <td>no</td>\n",
       "      <td>2016-03-31 00:00:00</td>\n",
       "      <td>0</td>\n",
       "      <td>60437</td>\n",
       "      <td>2016-04-06 10:17:21</td>\n",
       "    </tr>\n",
       "  </tbody>\n",
       "</table>\n",
       "</div>"
      ],
      "text/plain": [
       "           DateCrawled  Price VehicleType  RegistrationYear Gearbox  Power  \\\n",
       "0  2016-03-24 11:52:17    480         NaN              1993  manual      0   \n",
       "1  2016-03-24 10:58:45  18300       coupe              2011  manual    190   \n",
       "2  2016-03-14 12:52:21   9800         suv              2004    auto    163   \n",
       "3  2016-03-17 16:54:04   1500       small              2001  manual     75   \n",
       "4  2016-03-31 17:25:20   3600       small              2008  manual     69   \n",
       "\n",
       "   Model  Kilometer  RegistrationMonth  FuelType       Brand Repaired  \\\n",
       "0   golf     150000                  0    petrol  volkswagen      NaN   \n",
       "1    NaN     125000                  5  gasoline        audi      yes   \n",
       "2  grand     125000                  8  gasoline        jeep      NaN   \n",
       "3   golf     150000                  6    petrol  volkswagen       no   \n",
       "4  fabia      90000                  7  gasoline       skoda       no   \n",
       "\n",
       "           DateCreated  NumberOfPictures  PostalCode             LastSeen  \n",
       "0  2016-03-24 00:00:00                 0       70435  2016-04-07 03:16:57  \n",
       "1  2016-03-24 00:00:00                 0       66954  2016-04-07 01:46:50  \n",
       "2  2016-03-14 00:00:00                 0       90480  2016-04-05 12:47:46  \n",
       "3  2016-03-17 00:00:00                 0       91074  2016-03-17 17:40:17  \n",
       "4  2016-03-31 00:00:00                 0       60437  2016-04-06 10:17:21  "
      ]
     },
     "metadata": {},
     "output_type": "display_data"
    },
    {
     "data": {
      "text/html": [
       "<div>\n",
       "<style scoped>\n",
       "    .dataframe tbody tr th:only-of-type {\n",
       "        vertical-align: middle;\n",
       "    }\n",
       "\n",
       "    .dataframe tbody tr th {\n",
       "        vertical-align: top;\n",
       "    }\n",
       "\n",
       "    .dataframe thead th {\n",
       "        text-align: right;\n",
       "    }\n",
       "</style>\n",
       "<table border=\"1\" class=\"dataframe\">\n",
       "  <thead>\n",
       "    <tr style=\"text-align: right;\">\n",
       "      <th></th>\n",
       "      <th>Price</th>\n",
       "      <th>RegistrationYear</th>\n",
       "      <th>Power</th>\n",
       "      <th>Kilometer</th>\n",
       "      <th>RegistrationMonth</th>\n",
       "      <th>NumberOfPictures</th>\n",
       "      <th>PostalCode</th>\n",
       "    </tr>\n",
       "  </thead>\n",
       "  <tbody>\n",
       "    <tr>\n",
       "      <th>count</th>\n",
       "      <td>354369.000000</td>\n",
       "      <td>354369.000000</td>\n",
       "      <td>354369.000000</td>\n",
       "      <td>354369.000000</td>\n",
       "      <td>354369.000000</td>\n",
       "      <td>354369.0</td>\n",
       "      <td>354369.000000</td>\n",
       "    </tr>\n",
       "    <tr>\n",
       "      <th>mean</th>\n",
       "      <td>4416.656776</td>\n",
       "      <td>2004.234448</td>\n",
       "      <td>110.094337</td>\n",
       "      <td>128211.172535</td>\n",
       "      <td>5.714645</td>\n",
       "      <td>0.0</td>\n",
       "      <td>50508.689087</td>\n",
       "    </tr>\n",
       "    <tr>\n",
       "      <th>std</th>\n",
       "      <td>4514.158514</td>\n",
       "      <td>90.227958</td>\n",
       "      <td>189.850405</td>\n",
       "      <td>37905.341530</td>\n",
       "      <td>3.726421</td>\n",
       "      <td>0.0</td>\n",
       "      <td>25783.096248</td>\n",
       "    </tr>\n",
       "    <tr>\n",
       "      <th>min</th>\n",
       "      <td>0.000000</td>\n",
       "      <td>1000.000000</td>\n",
       "      <td>0.000000</td>\n",
       "      <td>5000.000000</td>\n",
       "      <td>0.000000</td>\n",
       "      <td>0.0</td>\n",
       "      <td>1067.000000</td>\n",
       "    </tr>\n",
       "    <tr>\n",
       "      <th>25%</th>\n",
       "      <td>1050.000000</td>\n",
       "      <td>1999.000000</td>\n",
       "      <td>69.000000</td>\n",
       "      <td>125000.000000</td>\n",
       "      <td>3.000000</td>\n",
       "      <td>0.0</td>\n",
       "      <td>30165.000000</td>\n",
       "    </tr>\n",
       "    <tr>\n",
       "      <th>50%</th>\n",
       "      <td>2700.000000</td>\n",
       "      <td>2003.000000</td>\n",
       "      <td>105.000000</td>\n",
       "      <td>150000.000000</td>\n",
       "      <td>6.000000</td>\n",
       "      <td>0.0</td>\n",
       "      <td>49413.000000</td>\n",
       "    </tr>\n",
       "    <tr>\n",
       "      <th>75%</th>\n",
       "      <td>6400.000000</td>\n",
       "      <td>2008.000000</td>\n",
       "      <td>143.000000</td>\n",
       "      <td>150000.000000</td>\n",
       "      <td>9.000000</td>\n",
       "      <td>0.0</td>\n",
       "      <td>71083.000000</td>\n",
       "    </tr>\n",
       "    <tr>\n",
       "      <th>max</th>\n",
       "      <td>20000.000000</td>\n",
       "      <td>9999.000000</td>\n",
       "      <td>20000.000000</td>\n",
       "      <td>150000.000000</td>\n",
       "      <td>12.000000</td>\n",
       "      <td>0.0</td>\n",
       "      <td>99998.000000</td>\n",
       "    </tr>\n",
       "  </tbody>\n",
       "</table>\n",
       "</div>"
      ],
      "text/plain": [
       "               Price  RegistrationYear          Power      Kilometer  \\\n",
       "count  354369.000000     354369.000000  354369.000000  354369.000000   \n",
       "mean     4416.656776       2004.234448     110.094337  128211.172535   \n",
       "std      4514.158514         90.227958     189.850405   37905.341530   \n",
       "min         0.000000       1000.000000       0.000000    5000.000000   \n",
       "25%      1050.000000       1999.000000      69.000000  125000.000000   \n",
       "50%      2700.000000       2003.000000     105.000000  150000.000000   \n",
       "75%      6400.000000       2008.000000     143.000000  150000.000000   \n",
       "max     20000.000000       9999.000000   20000.000000  150000.000000   \n",
       "\n",
       "       RegistrationMonth  NumberOfPictures     PostalCode  \n",
       "count      354369.000000          354369.0  354369.000000  \n",
       "mean            5.714645               0.0   50508.689087  \n",
       "std             3.726421               0.0   25783.096248  \n",
       "min             0.000000               0.0    1067.000000  \n",
       "25%             3.000000               0.0   30165.000000  \n",
       "50%             6.000000               0.0   49413.000000  \n",
       "75%             9.000000               0.0   71083.000000  \n",
       "max            12.000000               0.0   99998.000000  "
      ]
     },
     "execution_count": 20,
     "metadata": {},
     "output_type": "execute_result"
    }
   ],
   "source": [
    "df = pd.read_csv('/datasets/autos.csv')\n",
    "df.info()\n",
    "display(df.head())\n",
    "df.describe()"
   ]
  },
  {
   "cell_type": "markdown",
   "metadata": {},
   "source": [
    "Наблюдаем в данных много пропусков, ненужных столбцов, начнем обрабатывать"
   ]
  },
  {
   "cell_type": "code",
   "execution_count": 21,
   "metadata": {},
   "outputs": [
    {
     "data": {
      "text/plain": [
       "count     354369\n",
       "unique         1\n",
       "top         2016\n",
       "freq      354369\n",
       "Name: DateCrawled, dtype: object"
      ]
     },
     "execution_count": 21,
     "metadata": {},
     "output_type": "execute_result"
    }
   ],
   "source": [
    "df['DateCrawled'].str[:4].describe()"
   ]
  },
  {
   "cell_type": "code",
   "execution_count": 22,
   "metadata": {},
   "outputs": [
    {
     "data": {
      "text/plain": [
       "array(['2016', '2015', '2014'], dtype=object)"
      ]
     },
     "execution_count": 22,
     "metadata": {},
     "output_type": "execute_result"
    }
   ],
   "source": [
    "df['DateCreated'].str[:4].unique()"
   ]
  },
  {
   "cell_type": "markdown",
   "metadata": {},
   "source": [
    "Обратим внимание, что все анкеты были скачаны в 2016 году."
   ]
  },
  {
   "cell_type": "code",
   "execution_count": 23,
   "metadata": {},
   "outputs": [
    {
     "name": "stdout",
     "output_type": "stream",
     "text": [
      "<class 'pandas.core.frame.DataFrame'>\n",
      "RangeIndex: 354369 entries, 0 to 354368\n",
      "Data columns (total 10 columns):\n",
      " #   Column            Non-Null Count   Dtype \n",
      "---  ------            --------------   ----- \n",
      " 0   Price             354369 non-null  int64 \n",
      " 1   VehicleType       316879 non-null  object\n",
      " 2   RegistrationYear  354369 non-null  int64 \n",
      " 3   Gearbox           334536 non-null  object\n",
      " 4   Power             354369 non-null  int64 \n",
      " 5   Model             334664 non-null  object\n",
      " 6   Kilometer         354369 non-null  int64 \n",
      " 7   FuelType          321474 non-null  object\n",
      " 8   Brand             354369 non-null  object\n",
      " 9   Repaired          283215 non-null  object\n",
      "dtypes: int64(4), object(6)\n",
      "memory usage: 27.0+ MB\n"
     ]
    }
   ],
   "source": [
    "df = df.drop(['DateCrawled', 'DateCreated', 'NumberOfPictures', 'PostalCode', 'LastSeen','RegistrationMonth'], axis=1)\n",
    "df.info()"
   ]
  },
  {
   "cell_type": "markdown",
   "metadata": {},
   "source": [
    "Можем удалить эти столбцы т.к. дата скачивания анкеты и дата создания анкеты не нужны нам. Кол-во картинок, почтовый индекс владельца и дата последней активности, так же не принесут никакой пользы"
   ]
  },
  {
   "cell_type": "code",
   "execution_count": 24,
   "metadata": {},
   "outputs": [
    {
     "data": {
      "text/plain": [
       "array([0, 1], dtype=object)"
      ]
     },
     "execution_count": 24,
     "metadata": {},
     "output_type": "execute_result"
    }
   ],
   "source": [
    "df['Repaired'] = df['Repaired'].fillna(0)\n",
    "df.loc[df['Repaired']=='no', 'Repaired'] = 0\n",
    "df.loc[df['Repaired']=='yes', 'Repaired'] = 1\n",
    "df['Repaired'].unique()"
   ]
  },
  {
   "cell_type": "markdown",
   "metadata": {},
   "source": [
    "Приведем этот столбец к числовому формату"
   ]
  },
  {
   "cell_type": "code",
   "execution_count": 25,
   "metadata": {
    "scrolled": true
   },
   "outputs": [
    {
     "data": {
      "text/plain": [
       "array([1993, 2011, 2004, 2001, 2008, 1995, 1980, 2014, 1998, 2005, 1910,\n",
       "       2016, 2007, 2009, 2002, 2018, 1997, 1990, 2017, 1981, 2003, 1994,\n",
       "       1991, 1984, 2006, 1999, 2012, 2010, 2000, 1992, 2013, 1996, 1985,\n",
       "       1989, 2015, 1982, 1976, 1983, 1973, 1111, 1969, 1971, 1987, 1986,\n",
       "       1988, 1970, 1965, 1945, 1925, 1974, 1979, 1955, 1978, 1972, 1968,\n",
       "       1977, 1961, 1960, 1966, 1975, 1963, 1964, 5000, 1954, 1958, 1967,\n",
       "       1959, 9999, 1956, 3200, 1000, 1941, 8888, 1500, 2200, 4100, 1962,\n",
       "       1929, 1957, 1940, 3000, 2066, 1949, 2019, 1937, 1951, 1800, 1953,\n",
       "       1234, 8000, 5300, 9000, 2900, 6000, 5900, 5911, 1933, 1400, 1950,\n",
       "       4000, 1948, 1952, 1200, 8500, 1932, 1255, 3700, 3800, 4800, 1942,\n",
       "       7000, 1935, 1936, 6500, 1923, 2290, 2500, 1930, 1001, 9450, 1944,\n",
       "       1943, 1934, 1938, 1688, 2800, 1253, 1928, 1919, 5555, 5600, 1600,\n",
       "       2222, 1039, 9996, 1300, 8455, 1931, 1915, 4500, 1920, 1602, 7800,\n",
       "       9229, 1947, 1927, 7100, 8200, 1946, 7500, 3500])"
      ]
     },
     "metadata": {},
     "output_type": "display_data"
    }
   ],
   "source": [
    "display(df['RegistrationYear'].unique())\n",
    "df = df[df['RegistrationYear'] < 2017]\n",
    "df = df[df['RegistrationYear'] >= 1990]"
   ]
  },
  {
   "cell_type": "markdown",
   "metadata": {},
   "source": [
    "Избавимся от выбросов в столбце с годом регистрации"
   ]
  },
  {
   "cell_type": "code",
   "execution_count": 26,
   "metadata": {},
   "outputs": [
    {
     "data": {
      "text/plain": [
       "count    297008.000000\n",
       "mean       4937.937648\n",
       "std        4540.092951\n",
       "min         500.000000\n",
       "25%        1499.000000\n",
       "50%        3250.000000\n",
       "75%        6999.000000\n",
       "max       20000.000000\n",
       "Name: Price, dtype: float64"
      ]
     },
     "execution_count": 26,
     "metadata": {},
     "output_type": "execute_result"
    }
   ],
   "source": [
    "df = df[df['Price'] > 499]\n",
    "df['Price'].describe()"
   ]
  },
  {
   "cell_type": "markdown",
   "metadata": {},
   "source": [
    "Установим разумную минимальну. цену, согласно данным из интернета"
   ]
  },
  {
   "cell_type": "code",
   "execution_count": 27,
   "metadata": {},
   "outputs": [
    {
     "data": {
      "text/plain": [
       "count    272855.000000\n",
       "mean        124.235807\n",
       "std          62.082130\n",
       "min          10.000000\n",
       "25%          82.000000\n",
       "50%         116.000000\n",
       "75%         150.000000\n",
       "max        1998.000000\n",
       "Name: Power, dtype: float64"
      ]
     },
     "execution_count": 27,
     "metadata": {},
     "output_type": "execute_result"
    }
   ],
   "source": [
    "df = df[df['Power'] < 2000]\n",
    "df = df[df['Power'] > 9]\n",
    "df['Power'].describe()"
   ]
  },
  {
   "cell_type": "markdown",
   "metadata": {},
   "source": [
    "Так же, проведя небольшое исследование, 2000 л.с. примерно максимальное значение, которыми обладают суперкары, так что избавимся от всех значений выше. Так же минимально низкие значения, которые мне удалось обнаружить находятся около 10. Построим матрицу корреляции"
   ]
  },
  {
   "cell_type": "code",
   "execution_count": 28,
   "metadata": {},
   "outputs": [
    {
     "data": {
      "text/plain": [
       "<AxesSubplot:>"
      ]
     },
     "execution_count": 28,
     "metadata": {},
     "output_type": "execute_result"
    },
    {
     "data": {
      "image/png": "[encoded data removed]",
      "text/plain": [
       "<Figure size 1080x360 with 2 Axes>"
      ]
     },
     "metadata": {
      "needs_background": "light"
     },
     "output_type": "display_data"
    }
   ],
   "source": [
    "plt.figure(figsize=(15,5))\n",
    "sns.heatmap(df.corr().round(2),annot=True)"
   ]
  },
  {
   "cell_type": "code",
   "execution_count": 29,
   "metadata": {
    "scrolled": true
   },
   "outputs": [
    {
     "data": {
      "image/png": "[encoded data removed]",
      "text/plain": [
       "<Figure size 576x864 with 2 Axes>"
      ]
     },
     "metadata": {
      "needs_background": "light"
     },
     "output_type": "display_data"
    }
   ],
   "source": [
    "plt.figure(figsize=(8, 12))\n",
    "heatmap = sns.heatmap(df.corr().round(2)[['Price']].sort_values(by='Price', ascending=False), vmin=-1, vmax=1, annot=True, cmap='BrBG')"
   ]
  },
  {
   "cell_type": "markdown",
   "metadata": {},
   "source": [
    "Видим сильную зависимость целевого признака от мощности, поэтому обратим на него особое внимание"
   ]
  },
  {
   "cell_type": "code",
   "execution_count": 30,
   "metadata": {
    "scrolled": true
   },
   "outputs": [
    {
     "name": "stderr",
     "output_type": "stream",
     "text": [
      "/opt/conda/lib/python3.9/site-packages/seaborn/_decorators.py:36: FutureWarning: Pass the following variable as a keyword arg: x. From version 0.12, the only valid positional argument will be `data`, and passing other arguments without an explicit keyword will result in an error or misinterpretation.\n",
      "  warnings.warn(\n"
     ]
    },
    {
     "data": {
      "text/plain": [
       "<AxesSubplot:xlabel='Power'>"
      ]
     },
     "execution_count": 30,
     "metadata": {},
     "output_type": "execute_result"
    },
    {
     "data": {
      "image/png": "[encoded data removed]",
      "text/plain": [
       "<Figure size 432x288 with 1 Axes>"
      ]
     },
     "metadata": {
      "needs_background": "light"
     },
     "output_type": "display_data"
    }
   ],
   "source": [
    "sns.boxplot(df['Power'])"
   ]
  },
  {
   "cell_type": "code",
   "execution_count": 31,
   "metadata": {},
   "outputs": [
    {
     "name": "stdout",
     "output_type": "stream",
     "text": [
      "310\n"
     ]
    }
   ],
   "source": [
    "i = 0\n",
    "while True:\n",
    "    i += 10    \n",
    "    if len(df[df['Power'] >= i])/len(df) < 0.01:\n",
    "        print(i)\n",
    "        break"
   ]
  },
  {
   "cell_type": "markdown",
   "metadata": {},
   "source": [
    "Видим, что с мощностью больше, чем 300, хранится меньше одного процента данных, так что избавимся от них\n"
   ]
  },
  {
   "cell_type": "code",
   "execution_count": 32,
   "metadata": {},
   "outputs": [],
   "source": [
    "df = df[df['Power'] < 310]"
   ]
  },
  {
   "cell_type": "code",
   "execution_count": 33,
   "metadata": {},
   "outputs": [],
   "source": [
    "df = df.fillna('unknown')"
   ]
  },
  {
   "cell_type": "code",
   "execution_count": 34,
   "metadata": {},
   "outputs": [
    {
     "data": {
      "text/html": [
       "<div>\n",
       "<style scoped>\n",
       "    .dataframe tbody tr th:only-of-type {\n",
       "        vertical-align: middle;\n",
       "    }\n",
       "\n",
       "    .dataframe tbody tr th {\n",
       "        vertical-align: top;\n",
       "    }\n",
       "\n",
       "    .dataframe thead th {\n",
       "        text-align: right;\n",
       "    }\n",
       "</style>\n",
       "<table border=\"1\" class=\"dataframe\">\n",
       "  <thead>\n",
       "    <tr style=\"text-align: right;\">\n",
       "      <th></th>\n",
       "      <th>Price</th>\n",
       "      <th>RegistrationYear</th>\n",
       "      <th>Power</th>\n",
       "      <th>Kilometer</th>\n",
       "      <th>Repaired</th>\n",
       "    </tr>\n",
       "  </thead>\n",
       "  <tbody>\n",
       "    <tr>\n",
       "      <th>Price</th>\n",
       "      <td>1.000000</td>\n",
       "      <td>0.682474</td>\n",
       "      <td>0.288574</td>\n",
       "      <td>-0.442091</td>\n",
       "      <td>-0.216374</td>\n",
       "    </tr>\n",
       "    <tr>\n",
       "      <th>RegistrationYear</th>\n",
       "      <td>0.682474</td>\n",
       "      <td>1.000000</td>\n",
       "      <td>0.016521</td>\n",
       "      <td>-0.359659</td>\n",
       "      <td>-0.104544</td>\n",
       "    </tr>\n",
       "    <tr>\n",
       "      <th>Power</th>\n",
       "      <td>0.288574</td>\n",
       "      <td>0.016521</td>\n",
       "      <td>1.000000</td>\n",
       "      <td>0.024869</td>\n",
       "      <td>-0.027345</td>\n",
       "    </tr>\n",
       "    <tr>\n",
       "      <th>Kilometer</th>\n",
       "      <td>-0.442091</td>\n",
       "      <td>-0.359659</td>\n",
       "      <td>0.024869</td>\n",
       "      <td>1.000000</td>\n",
       "      <td>0.067444</td>\n",
       "    </tr>\n",
       "    <tr>\n",
       "      <th>Repaired</th>\n",
       "      <td>-0.216374</td>\n",
       "      <td>-0.104544</td>\n",
       "      <td>-0.027345</td>\n",
       "      <td>0.067444</td>\n",
       "      <td>1.000000</td>\n",
       "    </tr>\n",
       "  </tbody>\n",
       "</table>\n",
       "</div>"
      ],
      "text/plain": [
       "                     Price  RegistrationYear     Power  Kilometer  Repaired\n",
       "Price             1.000000          0.682474  0.288574  -0.442091 -0.216374\n",
       "RegistrationYear  0.682474          1.000000  0.016521  -0.359659 -0.104544\n",
       "Power             0.288574          0.016521  1.000000   0.024869 -0.027345\n",
       "Kilometer        -0.442091         -0.359659  0.024869   1.000000  0.067444\n",
       "Repaired         -0.216374         -0.104544 -0.027345   0.067444  1.000000"
      ]
     },
     "execution_count": 34,
     "metadata": {},
     "output_type": "execute_result"
    }
   ],
   "source": [
    "df[df['Power'] > 142].corr()"
   ]
  },
  {
   "cell_type": "code",
   "execution_count": 35,
   "metadata": {},
   "outputs": [
    {
     "data": {
      "text/plain": [
       "0.06980981454515889"
      ]
     },
     "execution_count": 35,
     "metadata": {},
     "output_type": "execute_result"
    }
   ],
   "source": [
    "len(df.query('Power > 200')) / len(df) "
   ]
  },
  {
   "cell_type": "code",
   "execution_count": 36,
   "metadata": {},
   "outputs": [
    {
     "data": {
      "text/plain": [
       "Price               0\n",
       "VehicleType         0\n",
       "RegistrationYear    0\n",
       "Gearbox             0\n",
       "Power               0\n",
       "Model               0\n",
       "Kilometer           0\n",
       "FuelType            0\n",
       "Brand               0\n",
       "Repaired            0\n",
       "dtype: int64"
      ]
     },
     "metadata": {},
     "output_type": "display_data"
    },
    {
     "data": {
      "text/html": [
       "<div>\n",
       "<style scoped>\n",
       "    .dataframe tbody tr th:only-of-type {\n",
       "        vertical-align: middle;\n",
       "    }\n",
       "\n",
       "    .dataframe tbody tr th {\n",
       "        vertical-align: top;\n",
       "    }\n",
       "\n",
       "    .dataframe thead th {\n",
       "        text-align: right;\n",
       "    }\n",
       "</style>\n",
       "<table border=\"1\" class=\"dataframe\">\n",
       "  <thead>\n",
       "    <tr style=\"text-align: right;\">\n",
       "      <th></th>\n",
       "      <th>Price</th>\n",
       "      <th>RegistrationYear</th>\n",
       "      <th>Power</th>\n",
       "      <th>Kilometer</th>\n",
       "      <th>Repaired</th>\n",
       "    </tr>\n",
       "  </thead>\n",
       "  <tbody>\n",
       "    <tr>\n",
       "      <th>count</th>\n",
       "      <td>270578.000000</td>\n",
       "      <td>270578.000000</td>\n",
       "      <td>270578.000000</td>\n",
       "      <td>270578.000000</td>\n",
       "      <td>270578.000000</td>\n",
       "    </tr>\n",
       "    <tr>\n",
       "      <th>mean</th>\n",
       "      <td>5066.925445</td>\n",
       "      <td>2003.612781</td>\n",
       "      <td>121.639317</td>\n",
       "      <td>128031.528801</td>\n",
       "      <td>0.082442</td>\n",
       "    </tr>\n",
       "    <tr>\n",
       "      <th>std</th>\n",
       "      <td>4557.626661</td>\n",
       "      <td>5.384172</td>\n",
       "      <td>49.342803</td>\n",
       "      <td>36597.273076</td>\n",
       "      <td>0.275037</td>\n",
       "    </tr>\n",
       "    <tr>\n",
       "      <th>min</th>\n",
       "      <td>500.000000</td>\n",
       "      <td>1990.000000</td>\n",
       "      <td>10.000000</td>\n",
       "      <td>5000.000000</td>\n",
       "      <td>0.000000</td>\n",
       "    </tr>\n",
       "    <tr>\n",
       "      <th>25%</th>\n",
       "      <td>1500.000000</td>\n",
       "      <td>2000.000000</td>\n",
       "      <td>82.000000</td>\n",
       "      <td>125000.000000</td>\n",
       "      <td>0.000000</td>\n",
       "    </tr>\n",
       "    <tr>\n",
       "      <th>50%</th>\n",
       "      <td>3499.000000</td>\n",
       "      <td>2004.000000</td>\n",
       "      <td>116.000000</td>\n",
       "      <td>150000.000000</td>\n",
       "      <td>0.000000</td>\n",
       "    </tr>\n",
       "    <tr>\n",
       "      <th>75%</th>\n",
       "      <td>7200.000000</td>\n",
       "      <td>2007.000000</td>\n",
       "      <td>150.000000</td>\n",
       "      <td>150000.000000</td>\n",
       "      <td>0.000000</td>\n",
       "    </tr>\n",
       "    <tr>\n",
       "      <th>max</th>\n",
       "      <td>20000.000000</td>\n",
       "      <td>2016.000000</td>\n",
       "      <td>309.000000</td>\n",
       "      <td>150000.000000</td>\n",
       "      <td>1.000000</td>\n",
       "    </tr>\n",
       "  </tbody>\n",
       "</table>\n",
       "</div>"
      ],
      "text/plain": [
       "               Price  RegistrationYear          Power      Kilometer  \\\n",
       "count  270578.000000     270578.000000  270578.000000  270578.000000   \n",
       "mean     5066.925445       2003.612781     121.639317  128031.528801   \n",
       "std      4557.626661          5.384172      49.342803   36597.273076   \n",
       "min       500.000000       1990.000000      10.000000    5000.000000   \n",
       "25%      1500.000000       2000.000000      82.000000  125000.000000   \n",
       "50%      3499.000000       2004.000000     116.000000  150000.000000   \n",
       "75%      7200.000000       2007.000000     150.000000  150000.000000   \n",
       "max     20000.000000       2016.000000     309.000000  150000.000000   \n",
       "\n",
       "            Repaired  \n",
       "count  270578.000000  \n",
       "mean        0.082442  \n",
       "std         0.275037  \n",
       "min         0.000000  \n",
       "25%         0.000000  \n",
       "50%         0.000000  \n",
       "75%         0.000000  \n",
       "max         1.000000  "
      ]
     },
     "execution_count": 36,
     "metadata": {},
     "output_type": "execute_result"
    }
   ],
   "source": [
    "display(df.isna().sum())\n",
    "df.describe()"
   ]
  },
  {
   "cell_type": "markdown",
   "metadata": {},
   "source": [
    "## Обучение моделей"
   ]
  },
  {
   "cell_type": "code",
   "execution_count": 37,
   "metadata": {},
   "outputs": [],
   "source": [
    "features = df.drop('Price', axis = 1)\n",
    "target = df['Price']"
   ]
  },
  {
   "cell_type": "code",
   "execution_count": 38,
   "metadata": {},
   "outputs": [],
   "source": [
    "features_train, features_test, target_train, target_test = train_test_split( \n",
    "        features, target, test_size=0.4, random_state=12345\n",
    ")"
   ]
  },
  {
   "cell_type": "code",
   "execution_count": 39,
   "metadata": {},
   "outputs": [
    {
     "data": {
      "text/plain": [
       "(162346, 9)"
      ]
     },
     "metadata": {},
     "output_type": "display_data"
    },
    {
     "data": {
      "text/plain": [
       "(162346,)"
      ]
     },
     "metadata": {},
     "output_type": "display_data"
    },
    {
     "data": {
      "text/plain": [
       "(108232, 9)"
      ]
     },
     "metadata": {},
     "output_type": "display_data"
    },
    {
     "data": {
      "text/plain": [
       "(108232,)"
      ]
     },
     "metadata": {},
     "output_type": "display_data"
    }
   ],
   "source": [
    "display(features_train.shape, target_train.shape, features_test.shape, target_test.shape)"
   ]
  },
  {
   "cell_type": "code",
   "execution_count": 40,
   "metadata": {},
   "outputs": [],
   "source": [
    "def type_switcher(df, columns):\n",
    "    for column in columns:\n",
    "        df[column] = df[column].astype('category')\n",
    "        df[column] = df[column].cat.codes"
   ]
  },
  {
   "cell_type": "markdown",
   "metadata": {},
   "source": [
    "Приведем категоральные столбцы к числовому формату"
   ]
  },
  {
   "cell_type": "code",
   "execution_count": 41,
   "metadata": {},
   "outputs": [
    {
     "name": "stderr",
     "output_type": "stream",
     "text": [
      "/tmp/ipykernel_31/114341857.py:3: SettingWithCopyWarning: \n",
      "A value is trying to be set on a copy of a slice from a DataFrame.\n",
      "Try using .loc[row_indexer,col_indexer] = value instead\n",
      "\n",
      "See the caveats in the documentation: https://pandas.pydata.org/pandas-docs/stable/user_guide/indexing.html#returning-a-view-versus-a-copy\n",
      "  df[column] = df[column].astype('category')\n",
      "/tmp/ipykernel_31/114341857.py:4: SettingWithCopyWarning: \n",
      "A value is trying to be set on a copy of a slice from a DataFrame.\n",
      "Try using .loc[row_indexer,col_indexer] = value instead\n",
      "\n",
      "See the caveats in the documentation: https://pandas.pydata.org/pandas-docs/stable/user_guide/indexing.html#returning-a-view-versus-a-copy\n",
      "  df[column] = df[column].cat.codes\n"
     ]
    }
   ],
   "source": [
    "category =['VehicleType','Gearbox', 'Model','FuelType','Brand']\n",
    "type_switcher(features_train, category)\n",
    "type_switcher(features_test, category)"
   ]
  },
  {
   "cell_type": "code",
   "execution_count": 42,
   "metadata": {
    "scrolled": true
   },
   "outputs": [
    {
     "data": {
      "text/html": [
       "<div>\n",
       "<style scoped>\n",
       "    .dataframe tbody tr th:only-of-type {\n",
       "        vertical-align: middle;\n",
       "    }\n",
       "\n",
       "    .dataframe tbody tr th {\n",
       "        vertical-align: top;\n",
       "    }\n",
       "\n",
       "    .dataframe thead th {\n",
       "        text-align: right;\n",
       "    }\n",
       "</style>\n",
       "<table border=\"1\" class=\"dataframe\">\n",
       "  <thead>\n",
       "    <tr style=\"text-align: right;\">\n",
       "      <th></th>\n",
       "      <th>VehicleType</th>\n",
       "      <th>RegistrationYear</th>\n",
       "      <th>Gearbox</th>\n",
       "      <th>Power</th>\n",
       "      <th>Model</th>\n",
       "      <th>Kilometer</th>\n",
       "      <th>FuelType</th>\n",
       "      <th>Brand</th>\n",
       "      <th>Repaired</th>\n",
       "    </tr>\n",
       "  </thead>\n",
       "  <tbody>\n",
       "    <tr>\n",
       "      <th>287022</th>\n",
       "      <td>8</td>\n",
       "      <td>2006</td>\n",
       "      <td>0</td>\n",
       "      <td>140</td>\n",
       "      <td>219</td>\n",
       "      <td>150000</td>\n",
       "      <td>2</td>\n",
       "      <td>38</td>\n",
       "      <td>0</td>\n",
       "    </tr>\n",
       "    <tr>\n",
       "      <th>240369</th>\n",
       "      <td>5</td>\n",
       "      <td>2001</td>\n",
       "      <td>1</td>\n",
       "      <td>75</td>\n",
       "      <td>75</td>\n",
       "      <td>150000</td>\n",
       "      <td>6</td>\n",
       "      <td>27</td>\n",
       "      <td>0</td>\n",
       "    </tr>\n",
       "    <tr>\n",
       "      <th>320845</th>\n",
       "      <td>0</td>\n",
       "      <td>2004</td>\n",
       "      <td>1</td>\n",
       "      <td>90</td>\n",
       "      <td>166</td>\n",
       "      <td>150000</td>\n",
       "      <td>2</td>\n",
       "      <td>5</td>\n",
       "      <td>0</td>\n",
       "    </tr>\n",
       "    <tr>\n",
       "      <th>322774</th>\n",
       "      <td>5</td>\n",
       "      <td>2007</td>\n",
       "      <td>0</td>\n",
       "      <td>84</td>\n",
       "      <td>106</td>\n",
       "      <td>60000</td>\n",
       "      <td>6</td>\n",
       "      <td>32</td>\n",
       "      <td>0</td>\n",
       "    </tr>\n",
       "    <tr>\n",
       "      <th>135392</th>\n",
       "      <td>7</td>\n",
       "      <td>2005</td>\n",
       "      <td>0</td>\n",
       "      <td>170</td>\n",
       "      <td>11</td>\n",
       "      <td>150000</td>\n",
       "      <td>7</td>\n",
       "      <td>2</td>\n",
       "      <td>0</td>\n",
       "    </tr>\n",
       "  </tbody>\n",
       "</table>\n",
       "</div>"
      ],
      "text/plain": [
       "        VehicleType  RegistrationYear  Gearbox  Power  Model  Kilometer  \\\n",
       "287022            8              2006        0    140    219     150000   \n",
       "240369            5              2001        1     75     75     150000   \n",
       "320845            0              2004        1     90    166     150000   \n",
       "322774            5              2007        0     84    106      60000   \n",
       "135392            7              2005        0    170     11     150000   \n",
       "\n",
       "        FuelType  Brand  Repaired  \n",
       "287022         2     38         0  \n",
       "240369         6     27         0  \n",
       "320845         2      5         0  \n",
       "322774         6     32         0  \n",
       "135392         7      2         0  "
      ]
     },
     "metadata": {},
     "output_type": "display_data"
    },
    {
     "data": {
      "text/html": [
       "<div>\n",
       "<style scoped>\n",
       "    .dataframe tbody tr th:only-of-type {\n",
       "        vertical-align: middle;\n",
       "    }\n",
       "\n",
       "    .dataframe tbody tr th {\n",
       "        vertical-align: top;\n",
       "    }\n",
       "\n",
       "    .dataframe thead th {\n",
       "        text-align: right;\n",
       "    }\n",
       "</style>\n",
       "<table border=\"1\" class=\"dataframe\">\n",
       "  <thead>\n",
       "    <tr style=\"text-align: right;\">\n",
       "      <th></th>\n",
       "      <th>VehicleType</th>\n",
       "      <th>RegistrationYear</th>\n",
       "      <th>Gearbox</th>\n",
       "      <th>Power</th>\n",
       "      <th>Model</th>\n",
       "      <th>Kilometer</th>\n",
       "      <th>FuelType</th>\n",
       "      <th>Brand</th>\n",
       "      <th>Repaired</th>\n",
       "    </tr>\n",
       "  </thead>\n",
       "  <tbody>\n",
       "    <tr>\n",
       "      <th>count</th>\n",
       "      <td>162346.000000</td>\n",
       "      <td>162346.000000</td>\n",
       "      <td>162346.000000</td>\n",
       "      <td>162346.000000</td>\n",
       "      <td>162346.000000</td>\n",
       "      <td>162346.000000</td>\n",
       "      <td>162346.000000</td>\n",
       "      <td>162346.000000</td>\n",
       "      <td>162346.000000</td>\n",
       "    </tr>\n",
       "    <tr>\n",
       "      <th>mean</th>\n",
       "      <td>4.559650</td>\n",
       "      <td>2003.611373</td>\n",
       "      <td>0.813768</td>\n",
       "      <td>121.708980</td>\n",
       "      <td>110.264910</td>\n",
       "      <td>128087.726214</td>\n",
       "      <td>4.728974</td>\n",
       "      <td>20.579602</td>\n",
       "      <td>0.081868</td>\n",
       "    </tr>\n",
       "    <tr>\n",
       "      <th>std</th>\n",
       "      <td>2.437479</td>\n",
       "      <td>5.380202</td>\n",
       "      <td>0.428032</td>\n",
       "      <td>49.379211</td>\n",
       "      <td>72.647231</td>\n",
       "      <td>36536.809685</td>\n",
       "      <td>1.910535</td>\n",
       "      <td>13.443719</td>\n",
       "      <td>0.274165</td>\n",
       "    </tr>\n",
       "    <tr>\n",
       "      <th>min</th>\n",
       "      <td>0.000000</td>\n",
       "      <td>1990.000000</td>\n",
       "      <td>0.000000</td>\n",
       "      <td>10.000000</td>\n",
       "      <td>0.000000</td>\n",
       "      <td>5000.000000</td>\n",
       "      <td>0.000000</td>\n",
       "      <td>0.000000</td>\n",
       "      <td>0.000000</td>\n",
       "    </tr>\n",
       "    <tr>\n",
       "      <th>25%</th>\n",
       "      <td>4.000000</td>\n",
       "      <td>2000.000000</td>\n",
       "      <td>1.000000</td>\n",
       "      <td>82.000000</td>\n",
       "      <td>42.000000</td>\n",
       "      <td>125000.000000</td>\n",
       "      <td>2.000000</td>\n",
       "      <td>9.000000</td>\n",
       "      <td>0.000000</td>\n",
       "    </tr>\n",
       "    <tr>\n",
       "      <th>50%</th>\n",
       "      <td>5.000000</td>\n",
       "      <td>2004.000000</td>\n",
       "      <td>1.000000</td>\n",
       "      <td>116.000000</td>\n",
       "      <td>112.000000</td>\n",
       "      <td>150000.000000</td>\n",
       "      <td>6.000000</td>\n",
       "      <td>23.000000</td>\n",
       "      <td>0.000000</td>\n",
       "    </tr>\n",
       "    <tr>\n",
       "      <th>75%</th>\n",
       "      <td>6.000000</td>\n",
       "      <td>2007.000000</td>\n",
       "      <td>1.000000</td>\n",
       "      <td>150.000000</td>\n",
       "      <td>169.000000</td>\n",
       "      <td>150000.000000</td>\n",
       "      <td>6.000000</td>\n",
       "      <td>33.000000</td>\n",
       "      <td>0.000000</td>\n",
       "    </tr>\n",
       "    <tr>\n",
       "      <th>max</th>\n",
       "      <td>8.000000</td>\n",
       "      <td>2016.000000</td>\n",
       "      <td>2.000000</td>\n",
       "      <td>309.000000</td>\n",
       "      <td>247.000000</td>\n",
       "      <td>150000.000000</td>\n",
       "      <td>7.000000</td>\n",
       "      <td>39.000000</td>\n",
       "      <td>1.000000</td>\n",
       "    </tr>\n",
       "  </tbody>\n",
       "</table>\n",
       "</div>"
      ],
      "text/plain": [
       "         VehicleType  RegistrationYear        Gearbox          Power  \\\n",
       "count  162346.000000     162346.000000  162346.000000  162346.000000   \n",
       "mean        4.559650       2003.611373       0.813768     121.708980   \n",
       "std         2.437479          5.380202       0.428032      49.379211   \n",
       "min         0.000000       1990.000000       0.000000      10.000000   \n",
       "25%         4.000000       2000.000000       1.000000      82.000000   \n",
       "50%         5.000000       2004.000000       1.000000     116.000000   \n",
       "75%         6.000000       2007.000000       1.000000     150.000000   \n",
       "max         8.000000       2016.000000       2.000000     309.000000   \n",
       "\n",
       "               Model      Kilometer       FuelType          Brand  \\\n",
       "count  162346.000000  162346.000000  162346.000000  162346.000000   \n",
       "mean      110.264910  128087.726214       4.728974      20.579602   \n",
       "std        72.647231   36536.809685       1.910535      13.443719   \n",
       "min         0.000000    5000.000000       0.000000       0.000000   \n",
       "25%        42.000000  125000.000000       2.000000       9.000000   \n",
       "50%       112.000000  150000.000000       6.000000      23.000000   \n",
       "75%       169.000000  150000.000000       6.000000      33.000000   \n",
       "max       247.000000  150000.000000       7.000000      39.000000   \n",
       "\n",
       "            Repaired  \n",
       "count  162346.000000  \n",
       "mean        0.081868  \n",
       "std         0.274165  \n",
       "min         0.000000  \n",
       "25%         0.000000  \n",
       "50%         0.000000  \n",
       "75%         0.000000  \n",
       "max         1.000000  "
      ]
     },
     "execution_count": 42,
     "metadata": {},
     "output_type": "execute_result"
    }
   ],
   "source": [
    "display(features_train.head())\n",
    "features_train.describe()"
   ]
  },
  {
   "cell_type": "markdown",
   "metadata": {},
   "source": [
    "Начснем обучать модели."
   ]
  },
  {
   "cell_type": "markdown",
   "metadata": {},
   "source": [
    "### RandomForrestRegressor"
   ]
  },
  {
   "cell_type": "code",
   "execution_count": 43,
   "metadata": {},
   "outputs": [
    {
     "name": "stdout",
     "output_type": "stream",
     "text": [
      "-1598.647191827782\n",
      "CPU times: user 6min 19s, sys: 1.41 s, total: 6min 21s\n",
      "Wall time: 6min 21s\n"
     ]
    }
   ],
   "source": [
    "%%time\n",
    "rfr = RandomForestRegressor(random_state=12345)#Исследуем модель дерева решений\n",
    "param_grid_rfr = { # словарь параметров\n",
    "    'max_depth':[5,7,9,11,13],\n",
    "    'min_samples_leaf':[2,4],    \n",
    "    'n_estimators': [10, 20, 30]    \n",
    "}\n",
    "\n",
    "#воспользуемся методом GridSearchCV для подбора параметров\n",
    "grid_CV_rfr = GridSearchCV(estimator=rfr,\n",
    "                       param_grid=param_grid_rfr,\n",
    "                       cv=5,\n",
    "                       scoring='neg_root_mean_squared_error'\n",
    ")\n",
    "grid_CV_rfr.fit(features_train, target_train)\n",
    "\n",
    "\n",
    "print(grid_CV_rfr.best_score_)"
   ]
  },
  {
   "cell_type": "markdown",
   "metadata": {},
   "source": [
    "В кроссвалидации добились нужного значения метрики."
   ]
  },
  {
   "cell_type": "markdown",
   "metadata": {},
   "source": [
    "### LightGBM"
   ]
  },
  {
   "cell_type": "code",
   "execution_count": 44,
   "metadata": {},
   "outputs": [
    {
     "name": "stdout",
     "output_type": "stream",
     "text": [
      "1561.9382037381044\n",
      "CPU times: user 2min 2s, sys: 537 ms, total: 2min 2s\n",
      "Wall time: 2min 3s\n"
     ]
    }
   ],
   "source": [
    "%%time\n",
    "lgbmr = LGBMRegressor(random_state=12345)\n",
    "param_grid_lgbmr = { # словарь параметров\n",
    "    'max_depth':[5,7,9,11],\n",
    "    'num_leaves':[20,40],    \n",
    "        \n",
    "}\n",
    "\n",
    "#воспользуемся методом GridSearchCV для подбора параметров\n",
    "grid_CV_lgbmr = GridSearchCV(estimator=lgbmr,\n",
    "                       param_grid=param_grid_lgbmr,\n",
    "                       cv=5,\n",
    "                       scoring='neg_root_mean_squared_error'\n",
    ")\n",
    "grid_CV_lgbmr.fit(features_train, target_train)\n",
    "\n",
    "print(abs(grid_CV_lgbmr.best_score_))"
   ]
  },
  {
   "cell_type": "markdown",
   "metadata": {},
   "source": [
    "Так же в кроссвалидации добились нужного значения метрики. Однако оно получилось лучше, чем у другой модели"
   ]
  },
  {
   "cell_type": "markdown",
   "metadata": {},
   "source": [
    "## Анализ моделей"
   ]
  },
  {
   "cell_type": "markdown",
   "metadata": {},
   "source": [
    "Посмотрим скорость предсказания на тестовых данных."
   ]
  },
  {
   "cell_type": "code",
   "execution_count": 45,
   "metadata": {},
   "outputs": [
    {
     "data": {
      "text/plain": [
       "(108232, 9)"
      ]
     },
     "execution_count": 45,
     "metadata": {},
     "output_type": "execute_result"
    }
   ],
   "source": [
    "features_test.shape"
   ]
  },
  {
   "cell_type": "code",
   "execution_count": 46,
   "metadata": {},
   "outputs": [
    {
     "data": {
      "text/html": [
       "<div>\n",
       "<style scoped>\n",
       "    .dataframe tbody tr th:only-of-type {\n",
       "        vertical-align: middle;\n",
       "    }\n",
       "\n",
       "    .dataframe tbody tr th {\n",
       "        vertical-align: top;\n",
       "    }\n",
       "\n",
       "    .dataframe thead th {\n",
       "        text-align: right;\n",
       "    }\n",
       "</style>\n",
       "<table border=\"1\" class=\"dataframe\">\n",
       "  <thead>\n",
       "    <tr style=\"text-align: right;\">\n",
       "      <th></th>\n",
       "      <th>mean_fit_time</th>\n",
       "      <th>std_fit_time</th>\n",
       "      <th>mean_score_time</th>\n",
       "      <th>std_score_time</th>\n",
       "      <th>param_max_depth</th>\n",
       "      <th>param_min_samples_leaf</th>\n",
       "      <th>param_n_estimators</th>\n",
       "      <th>params</th>\n",
       "      <th>split0_test_score</th>\n",
       "      <th>split1_test_score</th>\n",
       "      <th>split2_test_score</th>\n",
       "      <th>split3_test_score</th>\n",
       "      <th>split4_test_score</th>\n",
       "      <th>mean_test_score</th>\n",
       "      <th>std_test_score</th>\n",
       "      <th>rank_test_score</th>\n",
       "    </tr>\n",
       "  </thead>\n",
       "  <tbody>\n",
       "    <tr>\n",
       "      <th>0</th>\n",
       "      <td>0.871379</td>\n",
       "      <td>0.031389</td>\n",
       "      <td>0.016513</td>\n",
       "      <td>0.000454</td>\n",
       "      <td>5</td>\n",
       "      <td>2</td>\n",
       "      <td>10</td>\n",
       "      <td>{'max_depth': 5, 'min_samples_leaf': 2, 'n_est...</td>\n",
       "      <td>-2259.228994</td>\n",
       "      <td>-2266.265777</td>\n",
       "      <td>-2271.457035</td>\n",
       "      <td>-2287.958853</td>\n",
       "      <td>-2297.543425</td>\n",
       "      <td>-2276.490817</td>\n",
       "      <td>14.160432</td>\n",
       "      <td>27</td>\n",
       "    </tr>\n",
       "    <tr>\n",
       "      <th>1</th>\n",
       "      <td>1.601753</td>\n",
       "      <td>0.011886</td>\n",
       "      <td>0.028958</td>\n",
       "      <td>0.001721</td>\n",
       "      <td>5</td>\n",
       "      <td>2</td>\n",
       "      <td>20</td>\n",
       "      <td>{'max_depth': 5, 'min_samples_leaf': 2, 'n_est...</td>\n",
       "      <td>-2256.449343</td>\n",
       "      <td>-2269.374199</td>\n",
       "      <td>-2273.828553</td>\n",
       "      <td>-2288.415116</td>\n",
       "      <td>-2294.515402</td>\n",
       "      <td>-2276.516522</td>\n",
       "      <td>13.612243</td>\n",
       "      <td>29</td>\n",
       "    </tr>\n",
       "    <tr>\n",
       "      <th>2</th>\n",
       "      <td>2.437170</td>\n",
       "      <td>0.041990</td>\n",
       "      <td>0.041334</td>\n",
       "      <td>0.000788</td>\n",
       "      <td>5</td>\n",
       "      <td>2</td>\n",
       "      <td>30</td>\n",
       "      <td>{'max_depth': 5, 'min_samples_leaf': 2, 'n_est...</td>\n",
       "      <td>-2254.464253</td>\n",
       "      <td>-2265.786975</td>\n",
       "      <td>-2277.147326</td>\n",
       "      <td>-2291.181014</td>\n",
       "      <td>-2292.431963</td>\n",
       "      <td>-2276.202306</td>\n",
       "      <td>14.626542</td>\n",
       "      <td>25</td>\n",
       "    </tr>\n",
       "    <tr>\n",
       "      <th>3</th>\n",
       "      <td>0.822474</td>\n",
       "      <td>0.016453</td>\n",
       "      <td>0.016476</td>\n",
       "      <td>0.000965</td>\n",
       "      <td>5</td>\n",
       "      <td>4</td>\n",
       "      <td>10</td>\n",
       "      <td>{'max_depth': 5, 'min_samples_leaf': 4, 'n_est...</td>\n",
       "      <td>-2259.228994</td>\n",
       "      <td>-2266.265777</td>\n",
       "      <td>-2271.457035</td>\n",
       "      <td>-2287.958853</td>\n",
       "      <td>-2297.543425</td>\n",
       "      <td>-2276.490817</td>\n",
       "      <td>14.160432</td>\n",
       "      <td>27</td>\n",
       "    </tr>\n",
       "    <tr>\n",
       "      <th>4</th>\n",
       "      <td>1.635424</td>\n",
       "      <td>0.020823</td>\n",
       "      <td>0.028413</td>\n",
       "      <td>0.000548</td>\n",
       "      <td>5</td>\n",
       "      <td>4</td>\n",
       "      <td>20</td>\n",
       "      <td>{'max_depth': 5, 'min_samples_leaf': 4, 'n_est...</td>\n",
       "      <td>-2256.449343</td>\n",
       "      <td>-2269.374199</td>\n",
       "      <td>-2273.828553</td>\n",
       "      <td>-2288.415116</td>\n",
       "      <td>-2294.515402</td>\n",
       "      <td>-2276.516522</td>\n",
       "      <td>13.612243</td>\n",
       "      <td>29</td>\n",
       "    </tr>\n",
       "    <tr>\n",
       "      <th>5</th>\n",
       "      <td>2.308273</td>\n",
       "      <td>0.044184</td>\n",
       "      <td>0.040603</td>\n",
       "      <td>0.000905</td>\n",
       "      <td>5</td>\n",
       "      <td>4</td>\n",
       "      <td>30</td>\n",
       "      <td>{'max_depth': 5, 'min_samples_leaf': 4, 'n_est...</td>\n",
       "      <td>-2254.464253</td>\n",
       "      <td>-2265.786975</td>\n",
       "      <td>-2277.147326</td>\n",
       "      <td>-2291.181014</td>\n",
       "      <td>-2292.431963</td>\n",
       "      <td>-2276.202306</td>\n",
       "      <td>14.626542</td>\n",
       "      <td>25</td>\n",
       "    </tr>\n",
       "    <tr>\n",
       "      <th>6</th>\n",
       "      <td>1.018334</td>\n",
       "      <td>0.040810</td>\n",
       "      <td>0.020682</td>\n",
       "      <td>0.000499</td>\n",
       "      <td>7</td>\n",
       "      <td>2</td>\n",
       "      <td>10</td>\n",
       "      <td>{'max_depth': 7, 'min_samples_leaf': 2, 'n_est...</td>\n",
       "      <td>-1997.933498</td>\n",
       "      <td>-2000.696936</td>\n",
       "      <td>-2016.917086</td>\n",
       "      <td>-2012.402034</td>\n",
       "      <td>-2014.848255</td>\n",
       "      <td>-2008.559562</td>\n",
       "      <td>7.731683</td>\n",
       "      <td>24</td>\n",
       "    </tr>\n",
       "    <tr>\n",
       "      <th>7</th>\n",
       "      <td>2.019251</td>\n",
       "      <td>0.024895</td>\n",
       "      <td>0.037421</td>\n",
       "      <td>0.000678</td>\n",
       "      <td>7</td>\n",
       "      <td>2</td>\n",
       "      <td>20</td>\n",
       "      <td>{'max_depth': 7, 'min_samples_leaf': 2, 'n_est...</td>\n",
       "      <td>-1996.631476</td>\n",
       "      <td>-2001.601922</td>\n",
       "      <td>-2013.499928</td>\n",
       "      <td>-2009.692377</td>\n",
       "      <td>-2011.353088</td>\n",
       "      <td>-2006.555758</td>\n",
       "      <td>6.389149</td>\n",
       "      <td>22</td>\n",
       "    </tr>\n",
       "    <tr>\n",
       "      <th>8</th>\n",
       "      <td>3.049169</td>\n",
       "      <td>0.040803</td>\n",
       "      <td>0.054680</td>\n",
       "      <td>0.000242</td>\n",
       "      <td>7</td>\n",
       "      <td>2</td>\n",
       "      <td>30</td>\n",
       "      <td>{'max_depth': 7, 'min_samples_leaf': 2, 'n_est...</td>\n",
       "      <td>-1994.896653</td>\n",
       "      <td>-2000.844278</td>\n",
       "      <td>-2014.490262</td>\n",
       "      <td>-2010.906876</td>\n",
       "      <td>-2009.149663</td>\n",
       "      <td>-2006.057546</td>\n",
       "      <td>7.154461</td>\n",
       "      <td>19</td>\n",
       "    </tr>\n",
       "    <tr>\n",
       "      <th>9</th>\n",
       "      <td>1.026572</td>\n",
       "      <td>0.028223</td>\n",
       "      <td>0.020879</td>\n",
       "      <td>0.000753</td>\n",
       "      <td>7</td>\n",
       "      <td>4</td>\n",
       "      <td>10</td>\n",
       "      <td>{'max_depth': 7, 'min_samples_leaf': 4, 'n_est...</td>\n",
       "      <td>-1997.673070</td>\n",
       "      <td>-2000.340241</td>\n",
       "      <td>-2016.868160</td>\n",
       "      <td>-2012.723595</td>\n",
       "      <td>-2014.767984</td>\n",
       "      <td>-2008.474610</td>\n",
       "      <td>7.886106</td>\n",
       "      <td>23</td>\n",
       "    </tr>\n",
       "    <tr>\n",
       "      <th>10</th>\n",
       "      <td>2.011014</td>\n",
       "      <td>0.023794</td>\n",
       "      <td>0.037398</td>\n",
       "      <td>0.000777</td>\n",
       "      <td>7</td>\n",
       "      <td>4</td>\n",
       "      <td>20</td>\n",
       "      <td>{'max_depth': 7, 'min_samples_leaf': 4, 'n_est...</td>\n",
       "      <td>-1996.281492</td>\n",
       "      <td>-2001.518874</td>\n",
       "      <td>-2013.390573</td>\n",
       "      <td>-2009.917463</td>\n",
       "      <td>-2011.479561</td>\n",
       "      <td>-2006.517592</td>\n",
       "      <td>6.529672</td>\n",
       "      <td>21</td>\n",
       "    </tr>\n",
       "    <tr>\n",
       "      <th>11</th>\n",
       "      <td>3.017449</td>\n",
       "      <td>0.026882</td>\n",
       "      <td>0.055290</td>\n",
       "      <td>0.002020</td>\n",
       "      <td>7</td>\n",
       "      <td>4</td>\n",
       "      <td>30</td>\n",
       "      <td>{'max_depth': 7, 'min_samples_leaf': 4, 'n_est...</td>\n",
       "      <td>-1994.641155</td>\n",
       "      <td>-2000.830616</td>\n",
       "      <td>-2014.472870</td>\n",
       "      <td>-2011.120268</td>\n",
       "      <td>-2009.278502</td>\n",
       "      <td>-2006.068682</td>\n",
       "      <td>7.272930</td>\n",
       "      <td>20</td>\n",
       "    </tr>\n",
       "    <tr>\n",
       "      <th>12</th>\n",
       "      <td>1.237462</td>\n",
       "      <td>0.014597</td>\n",
       "      <td>0.027504</td>\n",
       "      <td>0.000778</td>\n",
       "      <td>9</td>\n",
       "      <td>2</td>\n",
       "      <td>10</td>\n",
       "      <td>{'max_depth': 9, 'min_samples_leaf': 2, 'n_est...</td>\n",
       "      <td>-1831.634618</td>\n",
       "      <td>-1836.926793</td>\n",
       "      <td>-1856.941138</td>\n",
       "      <td>-1835.780790</td>\n",
       "      <td>-1846.087755</td>\n",
       "      <td>-1841.474219</td>\n",
       "      <td>9.060047</td>\n",
       "      <td>17</td>\n",
       "    </tr>\n",
       "    <tr>\n",
       "      <th>13</th>\n",
       "      <td>2.466553</td>\n",
       "      <td>0.013320</td>\n",
       "      <td>0.050829</td>\n",
       "      <td>0.000759</td>\n",
       "      <td>9</td>\n",
       "      <td>2</td>\n",
       "      <td>20</td>\n",
       "      <td>{'max_depth': 9, 'min_samples_leaf': 2, 'n_est...</td>\n",
       "      <td>-1827.093907</td>\n",
       "      <td>-1833.174087</td>\n",
       "      <td>-1850.924703</td>\n",
       "      <td>-1832.965501</td>\n",
       "      <td>-1843.423088</td>\n",
       "      <td>-1837.516257</td>\n",
       "      <td>8.518994</td>\n",
       "      <td>15</td>\n",
       "    </tr>\n",
       "    <tr>\n",
       "      <th>14</th>\n",
       "      <td>3.699574</td>\n",
       "      <td>0.098053</td>\n",
       "      <td>0.074866</td>\n",
       "      <td>0.001158</td>\n",
       "      <td>9</td>\n",
       "      <td>2</td>\n",
       "      <td>30</td>\n",
       "      <td>{'max_depth': 9, 'min_samples_leaf': 2, 'n_est...</td>\n",
       "      <td>-1823.644081</td>\n",
       "      <td>-1831.851607</td>\n",
       "      <td>-1850.670827</td>\n",
       "      <td>-1833.905538</td>\n",
       "      <td>-1840.156152</td>\n",
       "      <td>-1836.045641</td>\n",
       "      <td>9.019546</td>\n",
       "      <td>13</td>\n",
       "    </tr>\n",
       "    <tr>\n",
       "      <th>15</th>\n",
       "      <td>1.229794</td>\n",
       "      <td>0.012295</td>\n",
       "      <td>0.027159</td>\n",
       "      <td>0.000146</td>\n",
       "      <td>9</td>\n",
       "      <td>4</td>\n",
       "      <td>10</td>\n",
       "      <td>{'max_depth': 9, 'min_samples_leaf': 4, 'n_est...</td>\n",
       "      <td>-1831.870838</td>\n",
       "      <td>-1838.414583</td>\n",
       "      <td>-1858.143578</td>\n",
       "      <td>-1836.966026</td>\n",
       "      <td>-1846.276832</td>\n",
       "      <td>-1842.334371</td>\n",
       "      <td>9.155801</td>\n",
       "      <td>18</td>\n",
       "    </tr>\n",
       "    <tr>\n",
       "      <th>16</th>\n",
       "      <td>2.488207</td>\n",
       "      <td>0.025968</td>\n",
       "      <td>0.052951</td>\n",
       "      <td>0.002232</td>\n",
       "      <td>9</td>\n",
       "      <td>4</td>\n",
       "      <td>20</td>\n",
       "      <td>{'max_depth': 9, 'min_samples_leaf': 4, 'n_est...</td>\n",
       "      <td>-1827.204671</td>\n",
       "      <td>-1834.311034</td>\n",
       "      <td>-1851.614439</td>\n",
       "      <td>-1834.000236</td>\n",
       "      <td>-1843.495897</td>\n",
       "      <td>-1838.125255</td>\n",
       "      <td>8.504412</td>\n",
       "      <td>16</td>\n",
       "    </tr>\n",
       "    <tr>\n",
       "      <th>17</th>\n",
       "      <td>3.670452</td>\n",
       "      <td>0.030338</td>\n",
       "      <td>0.078154</td>\n",
       "      <td>0.003047</td>\n",
       "      <td>9</td>\n",
       "      <td>4</td>\n",
       "      <td>30</td>\n",
       "      <td>{'max_depth': 9, 'min_samples_leaf': 4, 'n_est...</td>\n",
       "      <td>-1823.612343</td>\n",
       "      <td>-1832.339279</td>\n",
       "      <td>-1851.299192</td>\n",
       "      <td>-1835.108155</td>\n",
       "      <td>-1840.497225</td>\n",
       "      <td>-1836.571239</td>\n",
       "      <td>9.168523</td>\n",
       "      <td>14</td>\n",
       "    </tr>\n",
       "    <tr>\n",
       "      <th>18</th>\n",
       "      <td>1.429891</td>\n",
       "      <td>0.027984</td>\n",
       "      <td>0.034774</td>\n",
       "      <td>0.000413</td>\n",
       "      <td>11</td>\n",
       "      <td>2</td>\n",
       "      <td>10</td>\n",
       "      <td>{'max_depth': 11, 'min_samples_leaf': 2, 'n_es...</td>\n",
       "      <td>-1692.812648</td>\n",
       "      <td>-1699.799509</td>\n",
       "      <td>-1722.521622</td>\n",
       "      <td>-1697.810315</td>\n",
       "      <td>-1710.698091</td>\n",
       "      <td>-1704.728437</td>\n",
       "      <td>10.643073</td>\n",
       "      <td>11</td>\n",
       "    </tr>\n",
       "    <tr>\n",
       "      <th>19</th>\n",
       "      <td>2.864763</td>\n",
       "      <td>0.050168</td>\n",
       "      <td>0.066217</td>\n",
       "      <td>0.000681</td>\n",
       "      <td>11</td>\n",
       "      <td>2</td>\n",
       "      <td>20</td>\n",
       "      <td>{'max_depth': 11, 'min_samples_leaf': 2, 'n_es...</td>\n",
       "      <td>-1685.767173</td>\n",
       "      <td>-1692.724328</td>\n",
       "      <td>-1716.672084</td>\n",
       "      <td>-1691.358494</td>\n",
       "      <td>-1704.224905</td>\n",
       "      <td>-1698.149397</td>\n",
       "      <td>11.035116</td>\n",
       "      <td>9</td>\n",
       "    </tr>\n",
       "    <tr>\n",
       "      <th>20</th>\n",
       "      <td>4.279709</td>\n",
       "      <td>0.027255</td>\n",
       "      <td>0.099667</td>\n",
       "      <td>0.003154</td>\n",
       "      <td>11</td>\n",
       "      <td>2</td>\n",
       "      <td>30</td>\n",
       "      <td>{'max_depth': 11, 'min_samples_leaf': 2, 'n_es...</td>\n",
       "      <td>-1683.055658</td>\n",
       "      <td>-1691.169261</td>\n",
       "      <td>-1714.108192</td>\n",
       "      <td>-1689.009070</td>\n",
       "      <td>-1699.383519</td>\n",
       "      <td>-1695.345140</td>\n",
       "      <td>10.742214</td>\n",
       "      <td>7</td>\n",
       "    </tr>\n",
       "    <tr>\n",
       "      <th>21</th>\n",
       "      <td>1.408393</td>\n",
       "      <td>0.012737</td>\n",
       "      <td>0.034646</td>\n",
       "      <td>0.000276</td>\n",
       "      <td>11</td>\n",
       "      <td>4</td>\n",
       "      <td>10</td>\n",
       "      <td>{'max_depth': 11, 'min_samples_leaf': 4, 'n_es...</td>\n",
       "      <td>-1694.747052</td>\n",
       "      <td>-1703.023342</td>\n",
       "      <td>-1725.179848</td>\n",
       "      <td>-1698.052697</td>\n",
       "      <td>-1713.080567</td>\n",
       "      <td>-1706.816701</td>\n",
       "      <td>11.075332</td>\n",
       "      <td>12</td>\n",
       "    </tr>\n",
       "    <tr>\n",
       "      <th>22</th>\n",
       "      <td>2.851650</td>\n",
       "      <td>0.059948</td>\n",
       "      <td>0.066962</td>\n",
       "      <td>0.001682</td>\n",
       "      <td>11</td>\n",
       "      <td>4</td>\n",
       "      <td>20</td>\n",
       "      <td>{'max_depth': 11, 'min_samples_leaf': 4, 'n_es...</td>\n",
       "      <td>-1687.301483</td>\n",
       "      <td>-1695.780494</td>\n",
       "      <td>-1718.957481</td>\n",
       "      <td>-1694.069280</td>\n",
       "      <td>-1706.767528</td>\n",
       "      <td>-1700.575253</td>\n",
       "      <td>11.115403</td>\n",
       "      <td>10</td>\n",
       "    </tr>\n",
       "    <tr>\n",
       "      <th>23</th>\n",
       "      <td>4.285635</td>\n",
       "      <td>0.056419</td>\n",
       "      <td>0.098297</td>\n",
       "      <td>0.001204</td>\n",
       "      <td>11</td>\n",
       "      <td>4</td>\n",
       "      <td>30</td>\n",
       "      <td>{'max_depth': 11, 'min_samples_leaf': 4, 'n_es...</td>\n",
       "      <td>-1684.541282</td>\n",
       "      <td>-1694.143158</td>\n",
       "      <td>-1716.525914</td>\n",
       "      <td>-1692.947344</td>\n",
       "      <td>-1701.870275</td>\n",
       "      <td>-1698.005595</td>\n",
       "      <td>10.767822</td>\n",
       "      <td>8</td>\n",
       "    </tr>\n",
       "    <tr>\n",
       "      <th>24</th>\n",
       "      <td>1.658802</td>\n",
       "      <td>0.016940</td>\n",
       "      <td>0.044662</td>\n",
       "      <td>0.002807</td>\n",
       "      <td>13</td>\n",
       "      <td>2</td>\n",
       "      <td>10</td>\n",
       "      <td>{'max_depth': 13, 'min_samples_leaf': 2, 'n_es...</td>\n",
       "      <td>-1599.357130</td>\n",
       "      <td>-1611.784074</td>\n",
       "      <td>-1632.846985</td>\n",
       "      <td>-1604.391972</td>\n",
       "      <td>-1620.544500</td>\n",
       "      <td>-1613.784932</td>\n",
       "      <td>11.911727</td>\n",
       "      <td>5</td>\n",
       "    </tr>\n",
       "    <tr>\n",
       "      <th>25</th>\n",
       "      <td>3.265758</td>\n",
       "      <td>0.036719</td>\n",
       "      <td>0.083644</td>\n",
       "      <td>0.000887</td>\n",
       "      <td>13</td>\n",
       "      <td>2</td>\n",
       "      <td>20</td>\n",
       "      <td>{'max_depth': 13, 'min_samples_leaf': 2, 'n_es...</td>\n",
       "      <td>-1588.980185</td>\n",
       "      <td>-1602.298076</td>\n",
       "      <td>-1621.080875</td>\n",
       "      <td>-1592.917028</td>\n",
       "      <td>-1609.766745</td>\n",
       "      <td>-1603.008582</td>\n",
       "      <td>11.588104</td>\n",
       "      <td>2</td>\n",
       "    </tr>\n",
       "    <tr>\n",
       "      <th>26</th>\n",
       "      <td>4.925501</td>\n",
       "      <td>0.085643</td>\n",
       "      <td>0.125719</td>\n",
       "      <td>0.001402</td>\n",
       "      <td>13</td>\n",
       "      <td>2</td>\n",
       "      <td>30</td>\n",
       "      <td>{'max_depth': 13, 'min_samples_leaf': 2, 'n_es...</td>\n",
       "      <td>-1584.665057</td>\n",
       "      <td>-1599.385553</td>\n",
       "      <td>-1618.117176</td>\n",
       "      <td>-1588.540185</td>\n",
       "      <td>-1602.527988</td>\n",
       "      <td>-1598.647192</td>\n",
       "      <td>11.767223</td>\n",
       "      <td>1</td>\n",
       "    </tr>\n",
       "    <tr>\n",
       "      <th>27</th>\n",
       "      <td>1.626380</td>\n",
       "      <td>0.014476</td>\n",
       "      <td>0.042628</td>\n",
       "      <td>0.000411</td>\n",
       "      <td>13</td>\n",
       "      <td>4</td>\n",
       "      <td>10</td>\n",
       "      <td>{'max_depth': 13, 'min_samples_leaf': 4, 'n_es...</td>\n",
       "      <td>-1601.141524</td>\n",
       "      <td>-1618.857786</td>\n",
       "      <td>-1639.448352</td>\n",
       "      <td>-1605.023005</td>\n",
       "      <td>-1621.310153</td>\n",
       "      <td>-1617.156164</td>\n",
       "      <td>13.570373</td>\n",
       "      <td>6</td>\n",
       "    </tr>\n",
       "    <tr>\n",
       "      <th>28</th>\n",
       "      <td>3.246265</td>\n",
       "      <td>0.048533</td>\n",
       "      <td>0.082200</td>\n",
       "      <td>0.000815</td>\n",
       "      <td>13</td>\n",
       "      <td>4</td>\n",
       "      <td>20</td>\n",
       "      <td>{'max_depth': 13, 'min_samples_leaf': 4, 'n_es...</td>\n",
       "      <td>-1592.638958</td>\n",
       "      <td>-1609.219726</td>\n",
       "      <td>-1628.398151</td>\n",
       "      <td>-1598.040945</td>\n",
       "      <td>-1613.941612</td>\n",
       "      <td>-1608.447878</td>\n",
       "      <td>12.546047</td>\n",
       "      <td>4</td>\n",
       "    </tr>\n",
       "    <tr>\n",
       "      <th>29</th>\n",
       "      <td>4.883960</td>\n",
       "      <td>0.065499</td>\n",
       "      <td>0.121539</td>\n",
       "      <td>0.001764</td>\n",
       "      <td>13</td>\n",
       "      <td>4</td>\n",
       "      <td>30</td>\n",
       "      <td>{'max_depth': 13, 'min_samples_leaf': 4, 'n_es...</td>\n",
       "      <td>-1589.042795</td>\n",
       "      <td>-1606.901024</td>\n",
       "      <td>-1625.348081</td>\n",
       "      <td>-1596.406496</td>\n",
       "      <td>-1608.024907</td>\n",
       "      <td>-1605.144661</td>\n",
       "      <td>12.289706</td>\n",
       "      <td>3</td>\n",
       "    </tr>\n",
       "  </tbody>\n",
       "</table>\n",
       "</div>"
      ],
      "text/plain": [
       "    mean_fit_time  std_fit_time  mean_score_time  std_score_time  \\\n",
       "0        0.871379      0.031389         0.016513        0.000454   \n",
       "1        1.601753      0.011886         0.028958        0.001721   \n",
       "2        2.437170      0.041990         0.041334        0.000788   \n",
       "3        0.822474      0.016453         0.016476        0.000965   \n",
       "4        1.635424      0.020823         0.028413        0.000548   \n",
       "5        2.308273      0.044184         0.040603        0.000905   \n",
       "6        1.018334      0.040810         0.020682        0.000499   \n",
       "7        2.019251      0.024895         0.037421        0.000678   \n",
       "8        3.049169      0.040803         0.054680        0.000242   \n",
       "9        1.026572      0.028223         0.020879        0.000753   \n",
       "10       2.011014      0.023794         0.037398        0.000777   \n",
       "11       3.017449      0.026882         0.055290        0.002020   \n",
       "12       1.237462      0.014597         0.027504        0.000778   \n",
       "13       2.466553      0.013320         0.050829        0.000759   \n",
       "14       3.699574      0.098053         0.074866        0.001158   \n",
       "15       1.229794      0.012295         0.027159        0.000146   \n",
       "16       2.488207      0.025968         0.052951        0.002232   \n",
       "17       3.670452      0.030338         0.078154        0.003047   \n",
       "18       1.429891      0.027984         0.034774        0.000413   \n",
       "19       2.864763      0.050168         0.066217        0.000681   \n",
       "20       4.279709      0.027255         0.099667        0.003154   \n",
       "21       1.408393      0.012737         0.034646        0.000276   \n",
       "22       2.851650      0.059948         0.066962        0.001682   \n",
       "23       4.285635      0.056419         0.098297        0.001204   \n",
       "24       1.658802      0.016940         0.044662        0.002807   \n",
       "25       3.265758      0.036719         0.083644        0.000887   \n",
       "26       4.925501      0.085643         0.125719        0.001402   \n",
       "27       1.626380      0.014476         0.042628        0.000411   \n",
       "28       3.246265      0.048533         0.082200        0.000815   \n",
       "29       4.883960      0.065499         0.121539        0.001764   \n",
       "\n",
       "   param_max_depth param_min_samples_leaf param_n_estimators  \\\n",
       "0                5                      2                 10   \n",
       "1                5                      2                 20   \n",
       "2                5                      2                 30   \n",
       "3                5                      4                 10   \n",
       "4                5                      4                 20   \n",
       "5                5                      4                 30   \n",
       "6                7                      2                 10   \n",
       "7                7                      2                 20   \n",
       "8                7                      2                 30   \n",
       "9                7                      4                 10   \n",
       "10               7                      4                 20   \n",
       "11               7                      4                 30   \n",
       "12               9                      2                 10   \n",
       "13               9                      2                 20   \n",
       "14               9                      2                 30   \n",
       "15               9                      4                 10   \n",
       "16               9                      4                 20   \n",
       "17               9                      4                 30   \n",
       "18              11                      2                 10   \n",
       "19              11                      2                 20   \n",
       "20              11                      2                 30   \n",
       "21              11                      4                 10   \n",
       "22              11                      4                 20   \n",
       "23              11                      4                 30   \n",
       "24              13                      2                 10   \n",
       "25              13                      2                 20   \n",
       "26              13                      2                 30   \n",
       "27              13                      4                 10   \n",
       "28              13                      4                 20   \n",
       "29              13                      4                 30   \n",
       "\n",
       "                                               params  split0_test_score  \\\n",
       "0   {'max_depth': 5, 'min_samples_leaf': 2, 'n_est...       -2259.228994   \n",
       "1   {'max_depth': 5, 'min_samples_leaf': 2, 'n_est...       -2256.449343   \n",
       "2   {'max_depth': 5, 'min_samples_leaf': 2, 'n_est...       -2254.464253   \n",
       "3   {'max_depth': 5, 'min_samples_leaf': 4, 'n_est...       -2259.228994   \n",
       "4   {'max_depth': 5, 'min_samples_leaf': 4, 'n_est...       -2256.449343   \n",
       "5   {'max_depth': 5, 'min_samples_leaf': 4, 'n_est...       -2254.464253   \n",
       "6   {'max_depth': 7, 'min_samples_leaf': 2, 'n_est...       -1997.933498   \n",
       "7   {'max_depth': 7, 'min_samples_leaf': 2, 'n_est...       -1996.631476   \n",
       "8   {'max_depth': 7, 'min_samples_leaf': 2, 'n_est...       -1994.896653   \n",
       "9   {'max_depth': 7, 'min_samples_leaf': 4, 'n_est...       -1997.673070   \n",
       "10  {'max_depth': 7, 'min_samples_leaf': 4, 'n_est...       -1996.281492   \n",
       "11  {'max_depth': 7, 'min_samples_leaf': 4, 'n_est...       -1994.641155   \n",
       "12  {'max_depth': 9, 'min_samples_leaf': 2, 'n_est...       -1831.634618   \n",
       "13  {'max_depth': 9, 'min_samples_leaf': 2, 'n_est...       -1827.093907   \n",
       "14  {'max_depth': 9, 'min_samples_leaf': 2, 'n_est...       -1823.644081   \n",
       "15  {'max_depth': 9, 'min_samples_leaf': 4, 'n_est...       -1831.870838   \n",
       "16  {'max_depth': 9, 'min_samples_leaf': 4, 'n_est...       -1827.204671   \n",
       "17  {'max_depth': 9, 'min_samples_leaf': 4, 'n_est...       -1823.612343   \n",
       "18  {'max_depth': 11, 'min_samples_leaf': 2, 'n_es...       -1692.812648   \n",
       "19  {'max_depth': 11, 'min_samples_leaf': 2, 'n_es...       -1685.767173   \n",
       "20  {'max_depth': 11, 'min_samples_leaf': 2, 'n_es...       -1683.055658   \n",
       "21  {'max_depth': 11, 'min_samples_leaf': 4, 'n_es...       -1694.747052   \n",
       "22  {'max_depth': 11, 'min_samples_leaf': 4, 'n_es...       -1687.301483   \n",
       "23  {'max_depth': 11, 'min_samples_leaf': 4, 'n_es...       -1684.541282   \n",
       "24  {'max_depth': 13, 'min_samples_leaf': 2, 'n_es...       -1599.357130   \n",
       "25  {'max_depth': 13, 'min_samples_leaf': 2, 'n_es...       -1588.980185   \n",
       "26  {'max_depth': 13, 'min_samples_leaf': 2, 'n_es...       -1584.665057   \n",
       "27  {'max_depth': 13, 'min_samples_leaf': 4, 'n_es...       -1601.141524   \n",
       "28  {'max_depth': 13, 'min_samples_leaf': 4, 'n_es...       -1592.638958   \n",
       "29  {'max_depth': 13, 'min_samples_leaf': 4, 'n_es...       -1589.042795   \n",
       "\n",
       "    split1_test_score  split2_test_score  split3_test_score  \\\n",
       "0        -2266.265777       -2271.457035       -2287.958853   \n",
       "1        -2269.374199       -2273.828553       -2288.415116   \n",
       "2        -2265.786975       -2277.147326       -2291.181014   \n",
       "3        -2266.265777       -2271.457035       -2287.958853   \n",
       "4        -2269.374199       -2273.828553       -2288.415116   \n",
       "5        -2265.786975       -2277.147326       -2291.181014   \n",
       "6        -2000.696936       -2016.917086       -2012.402034   \n",
       "7        -2001.601922       -2013.499928       -2009.692377   \n",
       "8        -2000.844278       -2014.490262       -2010.906876   \n",
       "9        -2000.340241       -2016.868160       -2012.723595   \n",
       "10       -2001.518874       -2013.390573       -2009.917463   \n",
       "11       -2000.830616       -2014.472870       -2011.120268   \n",
       "12       -1836.926793       -1856.941138       -1835.780790   \n",
       "13       -1833.174087       -1850.924703       -1832.965501   \n",
       "14       -1831.851607       -1850.670827       -1833.905538   \n",
       "15       -1838.414583       -1858.143578       -1836.966026   \n",
       "16       -1834.311034       -1851.614439       -1834.000236   \n",
       "17       -1832.339279       -1851.299192       -1835.108155   \n",
       "18       -1699.799509       -1722.521622       -1697.810315   \n",
       "19       -1692.724328       -1716.672084       -1691.358494   \n",
       "20       -1691.169261       -1714.108192       -1689.009070   \n",
       "21       -1703.023342       -1725.179848       -1698.052697   \n",
       "22       -1695.780494       -1718.957481       -1694.069280   \n",
       "23       -1694.143158       -1716.525914       -1692.947344   \n",
       "24       -1611.784074       -1632.846985       -1604.391972   \n",
       "25       -1602.298076       -1621.080875       -1592.917028   \n",
       "26       -1599.385553       -1618.117176       -1588.540185   \n",
       "27       -1618.857786       -1639.448352       -1605.023005   \n",
       "28       -1609.219726       -1628.398151       -1598.040945   \n",
       "29       -1606.901024       -1625.348081       -1596.406496   \n",
       "\n",
       "    split4_test_score  mean_test_score  std_test_score  rank_test_score  \n",
       "0        -2297.543425     -2276.490817       14.160432               27  \n",
       "1        -2294.515402     -2276.516522       13.612243               29  \n",
       "2        -2292.431963     -2276.202306       14.626542               25  \n",
       "3        -2297.543425     -2276.490817       14.160432               27  \n",
       "4        -2294.515402     -2276.516522       13.612243               29  \n",
       "5        -2292.431963     -2276.202306       14.626542               25  \n",
       "6        -2014.848255     -2008.559562        7.731683               24  \n",
       "7        -2011.353088     -2006.555758        6.389149               22  \n",
       "8        -2009.149663     -2006.057546        7.154461               19  \n",
       "9        -2014.767984     -2008.474610        7.886106               23  \n",
       "10       -2011.479561     -2006.517592        6.529672               21  \n",
       "11       -2009.278502     -2006.068682        7.272930               20  \n",
       "12       -1846.087755     -1841.474219        9.060047               17  \n",
       "13       -1843.423088     -1837.516257        8.518994               15  \n",
       "14       -1840.156152     -1836.045641        9.019546               13  \n",
       "15       -1846.276832     -1842.334371        9.155801               18  \n",
       "16       -1843.495897     -1838.125255        8.504412               16  \n",
       "17       -1840.497225     -1836.571239        9.168523               14  \n",
       "18       -1710.698091     -1704.728437       10.643073               11  \n",
       "19       -1704.224905     -1698.149397       11.035116                9  \n",
       "20       -1699.383519     -1695.345140       10.742214                7  \n",
       "21       -1713.080567     -1706.816701       11.075332               12  \n",
       "22       -1706.767528     -1700.575253       11.115403               10  \n",
       "23       -1701.870275     -1698.005595       10.767822                8  \n",
       "24       -1620.544500     -1613.784932       11.911727                5  \n",
       "25       -1609.766745     -1603.008582       11.588104                2  \n",
       "26       -1602.527988     -1598.647192       11.767223                1  \n",
       "27       -1621.310153     -1617.156164       13.570373                6  \n",
       "28       -1613.941612     -1608.447878       12.546047                4  \n",
       "29       -1608.024907     -1605.144661       12.289706                3  "
      ]
     },
     "metadata": {},
     "output_type": "display_data"
    },
    {
     "data": {
      "text/html": [
       "<div>\n",
       "<style scoped>\n",
       "    .dataframe tbody tr th:only-of-type {\n",
       "        vertical-align: middle;\n",
       "    }\n",
       "\n",
       "    .dataframe tbody tr th {\n",
       "        vertical-align: top;\n",
       "    }\n",
       "\n",
       "    .dataframe thead th {\n",
       "        text-align: right;\n",
       "    }\n",
       "</style>\n",
       "<table border=\"1\" class=\"dataframe\">\n",
       "  <thead>\n",
       "    <tr style=\"text-align: right;\">\n",
       "      <th></th>\n",
       "      <th>mean_fit_time</th>\n",
       "      <th>std_fit_time</th>\n",
       "      <th>mean_score_time</th>\n",
       "      <th>std_score_time</th>\n",
       "      <th>param_max_depth</th>\n",
       "      <th>param_min_samples_leaf</th>\n",
       "      <th>param_n_estimators</th>\n",
       "      <th>params</th>\n",
       "      <th>split0_test_score</th>\n",
       "      <th>split1_test_score</th>\n",
       "      <th>split2_test_score</th>\n",
       "      <th>split3_test_score</th>\n",
       "      <th>split4_test_score</th>\n",
       "      <th>mean_test_score</th>\n",
       "      <th>std_test_score</th>\n",
       "      <th>rank_test_score</th>\n",
       "    </tr>\n",
       "  </thead>\n",
       "  <tbody>\n",
       "    <tr>\n",
       "      <th>26</th>\n",
       "      <td>4.925501</td>\n",
       "      <td>0.085643</td>\n",
       "      <td>0.125719</td>\n",
       "      <td>0.001402</td>\n",
       "      <td>13</td>\n",
       "      <td>2</td>\n",
       "      <td>30</td>\n",
       "      <td>{'max_depth': 13, 'min_samples_leaf': 2, 'n_es...</td>\n",
       "      <td>-1584.665057</td>\n",
       "      <td>-1599.385553</td>\n",
       "      <td>-1618.117176</td>\n",
       "      <td>-1588.540185</td>\n",
       "      <td>-1602.527988</td>\n",
       "      <td>-1598.647192</td>\n",
       "      <td>11.767223</td>\n",
       "      <td>1</td>\n",
       "    </tr>\n",
       "  </tbody>\n",
       "</table>\n",
       "</div>"
      ],
      "text/plain": [
       "    mean_fit_time  std_fit_time  mean_score_time  std_score_time  \\\n",
       "26       4.925501      0.085643         0.125719        0.001402   \n",
       "\n",
       "   param_max_depth param_min_samples_leaf param_n_estimators  \\\n",
       "26              13                      2                 30   \n",
       "\n",
       "                                               params  split0_test_score  \\\n",
       "26  {'max_depth': 13, 'min_samples_leaf': 2, 'n_es...       -1584.665057   \n",
       "\n",
       "    split1_test_score  split2_test_score  split3_test_score  \\\n",
       "26       -1599.385553       -1618.117176       -1588.540185   \n",
       "\n",
       "    split4_test_score  mean_test_score  std_test_score  rank_test_score  \n",
       "26       -1602.527988     -1598.647192       11.767223                1  "
      ]
     },
     "metadata": {},
     "output_type": "display_data"
    },
    {
     "name": "stdout",
     "output_type": "stream",
     "text": [
      "Fit time: 4.925500535964966, predict time: 0.12571916580200196\n"
     ]
    }
   ],
   "source": [
    "results = pd.DataFrame(grid_CV_rfr.cv_results_)\n",
    "display(results)\n",
    "display(results[results['rank_test_score']==1])\n",
    "fit_time = results[results['rank_test_score']==1]['mean_fit_time'].values[0]\n",
    "predict_time = results[results['rank_test_score']==1]['mean_score_time'].values[0]\n",
    "print(f'Fit time: {fit_time}, predict time: {predict_time}')"
   ]
  },
  {
   "cell_type": "code",
   "execution_count": 47,
   "metadata": {},
   "outputs": [
    {
     "data": {
      "text/html": [
       "<div>\n",
       "<style scoped>\n",
       "    .dataframe tbody tr th:only-of-type {\n",
       "        vertical-align: middle;\n",
       "    }\n",
       "\n",
       "    .dataframe tbody tr th {\n",
       "        vertical-align: top;\n",
       "    }\n",
       "\n",
       "    .dataframe thead th {\n",
       "        text-align: right;\n",
       "    }\n",
       "</style>\n",
       "<table border=\"1\" class=\"dataframe\">\n",
       "  <thead>\n",
       "    <tr style=\"text-align: right;\">\n",
       "      <th></th>\n",
       "      <th>mean_fit_time</th>\n",
       "      <th>std_fit_time</th>\n",
       "      <th>mean_score_time</th>\n",
       "      <th>std_score_time</th>\n",
       "      <th>param_max_depth</th>\n",
       "      <th>param_num_leaves</th>\n",
       "      <th>params</th>\n",
       "      <th>split0_test_score</th>\n",
       "      <th>split1_test_score</th>\n",
       "      <th>split2_test_score</th>\n",
       "      <th>split3_test_score</th>\n",
       "      <th>split4_test_score</th>\n",
       "      <th>mean_test_score</th>\n",
       "      <th>std_test_score</th>\n",
       "      <th>rank_test_score</th>\n",
       "    </tr>\n",
       "  </thead>\n",
       "  <tbody>\n",
       "    <tr>\n",
       "      <th>0</th>\n",
       "      <td>2.266781</td>\n",
       "      <td>0.061574</td>\n",
       "      <td>0.203829</td>\n",
       "      <td>0.001762</td>\n",
       "      <td>5</td>\n",
       "      <td>20</td>\n",
       "      <td>{'max_depth': 5, 'num_leaves': 20}</td>\n",
       "      <td>-1628.084430</td>\n",
       "      <td>-1650.549454</td>\n",
       "      <td>-1662.936028</td>\n",
       "      <td>-1653.769642</td>\n",
       "      <td>-1640.926878</td>\n",
       "      <td>-1647.253287</td>\n",
       "      <td>11.889024</td>\n",
       "      <td>8</td>\n",
       "    </tr>\n",
       "    <tr>\n",
       "      <th>1</th>\n",
       "      <td>2.654281</td>\n",
       "      <td>0.271871</td>\n",
       "      <td>0.203652</td>\n",
       "      <td>0.001141</td>\n",
       "      <td>5</td>\n",
       "      <td>40</td>\n",
       "      <td>{'max_depth': 5, 'num_leaves': 40}</td>\n",
       "      <td>-1615.431515</td>\n",
       "      <td>-1632.337977</td>\n",
       "      <td>-1642.126224</td>\n",
       "      <td>-1638.372346</td>\n",
       "      <td>-1624.147528</td>\n",
       "      <td>-1630.483118</td>\n",
       "      <td>9.674015</td>\n",
       "      <td>7</td>\n",
       "    </tr>\n",
       "    <tr>\n",
       "      <th>2</th>\n",
       "      <td>2.500676</td>\n",
       "      <td>0.270579</td>\n",
       "      <td>0.236487</td>\n",
       "      <td>0.040552</td>\n",
       "      <td>7</td>\n",
       "      <td>20</td>\n",
       "      <td>{'max_depth': 7, 'num_leaves': 20}</td>\n",
       "      <td>-1613.152612</td>\n",
       "      <td>-1631.881457</td>\n",
       "      <td>-1647.317871</td>\n",
       "      <td>-1634.230413</td>\n",
       "      <td>-1622.287279</td>\n",
       "      <td>-1629.773926</td>\n",
       "      <td>11.527445</td>\n",
       "      <td>6</td>\n",
       "    </tr>\n",
       "    <tr>\n",
       "      <th>3</th>\n",
       "      <td>3.019699</td>\n",
       "      <td>0.113736</td>\n",
       "      <td>0.280114</td>\n",
       "      <td>0.036684</td>\n",
       "      <td>7</td>\n",
       "      <td>40</td>\n",
       "      <td>{'max_depth': 7, 'num_leaves': 40}</td>\n",
       "      <td>-1562.440079</td>\n",
       "      <td>-1576.050374</td>\n",
       "      <td>-1592.162892</td>\n",
       "      <td>-1578.462509</td>\n",
       "      <td>-1570.346686</td>\n",
       "      <td>-1575.892508</td>\n",
       "      <td>9.829336</td>\n",
       "      <td>3</td>\n",
       "    </tr>\n",
       "    <tr>\n",
       "      <th>4</th>\n",
       "      <td>2.339557</td>\n",
       "      <td>0.097258</td>\n",
       "      <td>0.240511</td>\n",
       "      <td>0.041518</td>\n",
       "      <td>9</td>\n",
       "      <td>20</td>\n",
       "      <td>{'max_depth': 9, 'num_leaves': 20}</td>\n",
       "      <td>-1606.870753</td>\n",
       "      <td>-1627.158995</td>\n",
       "      <td>-1638.774807</td>\n",
       "      <td>-1631.728554</td>\n",
       "      <td>-1618.786043</td>\n",
       "      <td>-1624.663830</td>\n",
       "      <td>11.012700</td>\n",
       "      <td>5</td>\n",
       "    </tr>\n",
       "    <tr>\n",
       "      <th>5</th>\n",
       "      <td>3.300496</td>\n",
       "      <td>0.225369</td>\n",
       "      <td>0.296826</td>\n",
       "      <td>0.003103</td>\n",
       "      <td>9</td>\n",
       "      <td>40</td>\n",
       "      <td>{'max_depth': 9, 'num_leaves': 40}</td>\n",
       "      <td>-1551.868251</td>\n",
       "      <td>-1567.373483</td>\n",
       "      <td>-1586.915591</td>\n",
       "      <td>-1565.417828</td>\n",
       "      <td>-1560.445246</td>\n",
       "      <td>-1566.404079</td>\n",
       "      <td>11.570934</td>\n",
       "      <td>2</td>\n",
       "    </tr>\n",
       "    <tr>\n",
       "      <th>6</th>\n",
       "      <td>2.678456</td>\n",
       "      <td>0.311858</td>\n",
       "      <td>0.258918</td>\n",
       "      <td>0.043432</td>\n",
       "      <td>11</td>\n",
       "      <td>20</td>\n",
       "      <td>{'max_depth': 11, 'num_leaves': 20}</td>\n",
       "      <td>-1608.684145</td>\n",
       "      <td>-1623.422346</td>\n",
       "      <td>-1637.669352</td>\n",
       "      <td>-1631.009745</td>\n",
       "      <td>-1617.240396</td>\n",
       "      <td>-1623.605197</td>\n",
       "      <td>10.156867</td>\n",
       "      <td>4</td>\n",
       "    </tr>\n",
       "    <tr>\n",
       "      <th>7</th>\n",
       "      <td>3.141413</td>\n",
       "      <td>0.083298</td>\n",
       "      <td>0.298778</td>\n",
       "      <td>0.002285</td>\n",
       "      <td>11</td>\n",
       "      <td>40</td>\n",
       "      <td>{'max_depth': 11, 'num_leaves': 40}</td>\n",
       "      <td>-1546.419249</td>\n",
       "      <td>-1565.798140</td>\n",
       "      <td>-1579.911819</td>\n",
       "      <td>-1560.952584</td>\n",
       "      <td>-1556.609227</td>\n",
       "      <td>-1561.938204</td>\n",
       "      <td>11.028666</td>\n",
       "      <td>1</td>\n",
       "    </tr>\n",
       "  </tbody>\n",
       "</table>\n",
       "</div>"
      ],
      "text/plain": [
       "   mean_fit_time  std_fit_time  mean_score_time  std_score_time  \\\n",
       "0       2.266781      0.061574         0.203829        0.001762   \n",
       "1       2.654281      0.271871         0.203652        0.001141   \n",
       "2       2.500676      0.270579         0.236487        0.040552   \n",
       "3       3.019699      0.113736         0.280114        0.036684   \n",
       "4       2.339557      0.097258         0.240511        0.041518   \n",
       "5       3.300496      0.225369         0.296826        0.003103   \n",
       "6       2.678456      0.311858         0.258918        0.043432   \n",
       "7       3.141413      0.083298         0.298778        0.002285   \n",
       "\n",
       "  param_max_depth param_num_leaves                               params  \\\n",
       "0               5               20   {'max_depth': 5, 'num_leaves': 20}   \n",
       "1               5               40   {'max_depth': 5, 'num_leaves': 40}   \n",
       "2               7               20   {'max_depth': 7, 'num_leaves': 20}   \n",
       "3               7               40   {'max_depth': 7, 'num_leaves': 40}   \n",
       "4               9               20   {'max_depth': 9, 'num_leaves': 20}   \n",
       "5               9               40   {'max_depth': 9, 'num_leaves': 40}   \n",
       "6              11               20  {'max_depth': 11, 'num_leaves': 20}   \n",
       "7              11               40  {'max_depth': 11, 'num_leaves': 40}   \n",
       "\n",
       "   split0_test_score  split1_test_score  split2_test_score  split3_test_score  \\\n",
       "0       -1628.084430       -1650.549454       -1662.936028       -1653.769642   \n",
       "1       -1615.431515       -1632.337977       -1642.126224       -1638.372346   \n",
       "2       -1613.152612       -1631.881457       -1647.317871       -1634.230413   \n",
       "3       -1562.440079       -1576.050374       -1592.162892       -1578.462509   \n",
       "4       -1606.870753       -1627.158995       -1638.774807       -1631.728554   \n",
       "5       -1551.868251       -1567.373483       -1586.915591       -1565.417828   \n",
       "6       -1608.684145       -1623.422346       -1637.669352       -1631.009745   \n",
       "7       -1546.419249       -1565.798140       -1579.911819       -1560.952584   \n",
       "\n",
       "   split4_test_score  mean_test_score  std_test_score  rank_test_score  \n",
       "0       -1640.926878     -1647.253287       11.889024                8  \n",
       "1       -1624.147528     -1630.483118        9.674015                7  \n",
       "2       -1622.287279     -1629.773926       11.527445                6  \n",
       "3       -1570.346686     -1575.892508        9.829336                3  \n",
       "4       -1618.786043     -1624.663830       11.012700                5  \n",
       "5       -1560.445246     -1566.404079       11.570934                2  \n",
       "6       -1617.240396     -1623.605197       10.156867                4  \n",
       "7       -1556.609227     -1561.938204       11.028666                1  "
      ]
     },
     "metadata": {},
     "output_type": "display_data"
    },
    {
     "data": {
      "text/html": [
       "<div>\n",
       "<style scoped>\n",
       "    .dataframe tbody tr th:only-of-type {\n",
       "        vertical-align: middle;\n",
       "    }\n",
       "\n",
       "    .dataframe tbody tr th {\n",
       "        vertical-align: top;\n",
       "    }\n",
       "\n",
       "    .dataframe thead th {\n",
       "        text-align: right;\n",
       "    }\n",
       "</style>\n",
       "<table border=\"1\" class=\"dataframe\">\n",
       "  <thead>\n",
       "    <tr style=\"text-align: right;\">\n",
       "      <th></th>\n",
       "      <th>mean_fit_time</th>\n",
       "      <th>std_fit_time</th>\n",
       "      <th>mean_score_time</th>\n",
       "      <th>std_score_time</th>\n",
       "      <th>param_max_depth</th>\n",
       "      <th>param_num_leaves</th>\n",
       "      <th>params</th>\n",
       "      <th>split0_test_score</th>\n",
       "      <th>split1_test_score</th>\n",
       "      <th>split2_test_score</th>\n",
       "      <th>split3_test_score</th>\n",
       "      <th>split4_test_score</th>\n",
       "      <th>mean_test_score</th>\n",
       "      <th>std_test_score</th>\n",
       "      <th>rank_test_score</th>\n",
       "    </tr>\n",
       "  </thead>\n",
       "  <tbody>\n",
       "    <tr>\n",
       "      <th>7</th>\n",
       "      <td>3.141413</td>\n",
       "      <td>0.083298</td>\n",
       "      <td>0.298778</td>\n",
       "      <td>0.002285</td>\n",
       "      <td>11</td>\n",
       "      <td>40</td>\n",
       "      <td>{'max_depth': 11, 'num_leaves': 40}</td>\n",
       "      <td>-1546.419249</td>\n",
       "      <td>-1565.79814</td>\n",
       "      <td>-1579.911819</td>\n",
       "      <td>-1560.952584</td>\n",
       "      <td>-1556.609227</td>\n",
       "      <td>-1561.938204</td>\n",
       "      <td>11.028666</td>\n",
       "      <td>1</td>\n",
       "    </tr>\n",
       "  </tbody>\n",
       "</table>\n",
       "</div>"
      ],
      "text/plain": [
       "   mean_fit_time  std_fit_time  mean_score_time  std_score_time  \\\n",
       "7       3.141413      0.083298         0.298778        0.002285   \n",
       "\n",
       "  param_max_depth param_num_leaves                               params  \\\n",
       "7              11               40  {'max_depth': 11, 'num_leaves': 40}   \n",
       "\n",
       "   split0_test_score  split1_test_score  split2_test_score  split3_test_score  \\\n",
       "7       -1546.419249        -1565.79814       -1579.911819       -1560.952584   \n",
       "\n",
       "   split4_test_score  mean_test_score  std_test_score  rank_test_score  \n",
       "7       -1556.609227     -1561.938204       11.028666                1  "
      ]
     },
     "metadata": {},
     "output_type": "display_data"
    },
    {
     "name": "stdout",
     "output_type": "stream",
     "text": [
      "Fit time: 3.1414134979248045, predict time: 0.2987782955169678\n"
     ]
    }
   ],
   "source": [
    "results = pd.DataFrame(grid_CV_lgbmr.cv_results_)\n",
    "display(results)\n",
    "display(results[results['rank_test_score']==1])\n",
    "fit_time = results[results['rank_test_score']==1]['mean_fit_time'].values[0]\n",
    "predict_time = results[results['rank_test_score']==1]['mean_score_time'].values[0]\n",
    "print(f'Fit time: {fit_time}, predict time: {predict_time}')"
   ]
  },
  {
   "cell_type": "markdown",
   "metadata": {},
   "source": [
    "Видим, что хоть значение метрики у бустинга и лучше, по всем остальным параметрам он сильно проигрывает"
   ]
  },
  {
   "cell_type": "markdown",
   "metadata": {},
   "source": [
    "## Вывод"
   ]
  },
  {
   "cell_type": "markdown",
   "metadata": {},
   "source": [
    "Проверим значение метрики на тестовых данных"
   ]
  },
  {
   "cell_type": "code",
   "execution_count": 48,
   "metadata": {},
   "outputs": [
    {
     "name": "stdout",
     "output_type": "stream",
     "text": [
      "RMSE =  1621.8637412890153\n"
     ]
    }
   ],
   "source": [
    "print('RMSE = ', mean_squared_error(target_test, grid_CV_rfr.predict(features_test))**0.5)"
   ]
  },
  {
   "cell_type": "markdown",
   "metadata": {},
   "source": [
    "В данном проекте мы выполнили следующее:\n",
    "- Провели предобработку данных.\n",
    "- Обучили разные модели. Для каждой модели попробовали разные гиперпараметры\n",
    "- Проанализировали обе модели согласно критериям заказчика и пришли к следующему выводу: RandomForrestRegressor использовать выгоднее, т.к. он проиграл другой модели только в значении исследуемой метрики, хотя и прошел пороговое значение на неё, но по всем другим параметрам уверенно лидирует\n",
    "- Согласно нашему выбору проверили модель на тестовых данных, убедились, что значение метрики ниже порогового"
   ]
  }
 ],
 "metadata": {
  "ExecuteTimeLog": [
   {
    "duration": 386,
    "start_time": "2022-11-23T10:57:21.874Z"
   },
   {
    "duration": 3248,
    "start_time": "2022-11-23T10:58:07.091Z"
   },
   {
    "duration": 397,
    "start_time": "2022-11-25T16:04:14.678Z"
   },
   {
    "duration": 3222,
    "start_time": "2022-11-25T16:04:15.077Z"
   },
   {
    "duration": 113,
    "start_time": "2022-11-25T16:04:30.637Z"
   },
   {
    "duration": 37,
    "start_time": "2022-11-25T16:04:37.915Z"
   },
   {
    "duration": 13,
    "start_time": "2022-11-25T16:04:48.180Z"
   },
   {
    "duration": 150,
    "start_time": "2022-11-25T16:04:53.069Z"
   },
   {
    "duration": 414,
    "start_time": "2022-11-25T16:09:53.169Z"
   },
   {
    "duration": 1167,
    "start_time": "2022-11-25T16:09:53.585Z"
   },
   {
    "duration": 145,
    "start_time": "2022-11-25T16:09:54.754Z"
   },
   {
    "duration": 36,
    "start_time": "2022-11-25T16:12:12.053Z"
   },
   {
    "duration": 118,
    "start_time": "2022-11-25T16:12:17.338Z"
   },
   {
    "duration": 22,
    "start_time": "2022-11-25T16:18:29.524Z"
   },
   {
    "duration": 7,
    "start_time": "2022-11-25T16:18:43.768Z"
   },
   {
    "duration": 725,
    "start_time": "2022-11-25T16:19:27.268Z"
   },
   {
    "duration": 46,
    "start_time": "2022-11-25T16:19:45.924Z"
   },
   {
    "duration": 48,
    "start_time": "2022-11-25T16:19:56.109Z"
   },
   {
    "duration": 74,
    "start_time": "2022-11-25T16:20:07.995Z"
   },
   {
    "duration": 25,
    "start_time": "2022-11-25T16:23:50.324Z"
   },
   {
    "duration": 48,
    "start_time": "2022-11-25T16:24:03.553Z"
   },
   {
    "duration": 29,
    "start_time": "2022-11-25T16:24:40.522Z"
   },
   {
    "duration": 16,
    "start_time": "2022-11-25T16:24:54.283Z"
   },
   {
    "duration": 501,
    "start_time": "2022-11-25T16:26:26.100Z"
   },
   {
    "duration": 32,
    "start_time": "2022-11-25T16:26:30.592Z"
   },
   {
    "duration": 600,
    "start_time": "2022-11-25T16:26:38.385Z"
   },
   {
    "duration": 570,
    "start_time": "2022-11-25T16:26:42.403Z"
   },
   {
    "duration": 372,
    "start_time": "2022-11-25T16:27:25.500Z"
   },
   {
    "duration": 131,
    "start_time": "2022-11-25T16:27:55.572Z"
   },
   {
    "duration": 68,
    "start_time": "2022-11-25T16:29:40.971Z"
   },
   {
    "duration": 20,
    "start_time": "2022-11-25T16:36:57.813Z"
   },
   {
    "duration": 41,
    "start_time": "2022-11-25T16:39:38.007Z"
   },
   {
    "duration": 596,
    "start_time": "2022-11-25T16:39:50.786Z"
   },
   {
    "duration": 42,
    "start_time": "2022-11-25T16:40:27.143Z"
   },
   {
    "duration": 92,
    "start_time": "2022-11-25T16:40:31.817Z"
   },
   {
    "duration": 117,
    "start_time": "2022-11-25T16:41:01.109Z"
   },
   {
    "duration": 139534,
    "start_time": "2022-11-25T16:41:02.252Z"
   },
   {
    "duration": 14,
    "start_time": "2022-11-25T16:53:33.044Z"
   },
   {
    "duration": 557,
    "start_time": "2022-11-25T16:55:31.353Z"
   },
   {
    "duration": 13,
    "start_time": "2022-11-25T16:56:04.542Z"
   },
   {
    "duration": 8,
    "start_time": "2022-11-25T16:56:21.080Z"
   },
   {
    "duration": 4,
    "start_time": "2022-11-25T16:56:28.508Z"
   },
   {
    "duration": 15,
    "start_time": "2022-11-25T16:56:39.069Z"
   },
   {
    "duration": 110,
    "start_time": "2022-11-25T16:56:42.799Z"
   },
   {
    "duration": 93,
    "start_time": "2022-11-25T16:57:49.336Z"
   },
   {
    "duration": 2,
    "start_time": "2022-11-25T16:58:19.641Z"
   },
   {
    "duration": 54,
    "start_time": "2022-11-25T16:58:26.320Z"
   },
   {
    "duration": 239,
    "start_time": "2022-11-25T16:58:44.386Z"
   },
   {
    "duration": 247,
    "start_time": "2022-11-25T16:59:08.339Z"
   },
   {
    "duration": 392,
    "start_time": "2022-11-25T16:59:16.352Z"
   },
   {
    "duration": 19296,
    "start_time": "2022-11-25T16:59:42.051Z"
   },
   {
    "duration": 13,
    "start_time": "2022-11-25T17:00:01.349Z"
   },
   {
    "duration": 281,
    "start_time": "2022-11-25T17:00:25.347Z"
   },
   {
    "duration": 1580,
    "start_time": "2022-11-25T17:00:51.919Z"
   },
   {
    "duration": 1231,
    "start_time": "2022-11-25T17:00:53.501Z"
   },
   {
    "duration": 144,
    "start_time": "2022-11-25T17:00:54.734Z"
   },
   {
    "duration": 22,
    "start_time": "2022-11-25T17:00:54.880Z"
   },
   {
    "duration": 101,
    "start_time": "2022-11-25T17:00:54.904Z"
   },
   {
    "duration": 90,
    "start_time": "2022-11-25T17:00:55.008Z"
   },
   {
    "duration": 595,
    "start_time": "2022-11-25T17:00:55.100Z"
   },
   {
    "duration": 492,
    "start_time": "2022-11-25T17:00:55.697Z"
   },
   {
    "duration": 169,
    "start_time": "2022-11-25T17:00:56.191Z"
   },
   {
    "duration": 29,
    "start_time": "2022-11-25T17:00:56.363Z"
   },
   {
    "duration": 215,
    "start_time": "2022-11-25T17:00:56.394Z"
   },
   {
    "duration": 156,
    "start_time": "2022-11-25T17:00:56.611Z"
   },
   {
    "duration": 3,
    "start_time": "2022-11-25T17:00:56.769Z"
   },
   {
    "duration": 57,
    "start_time": "2022-11-25T17:00:56.773Z"
   },
   {
    "duration": 4,
    "start_time": "2022-11-25T17:01:41.099Z"
   },
   {
    "duration": 269,
    "start_time": "2022-11-25T17:02:20.571Z"
   },
   {
    "duration": 183,
    "start_time": "2022-11-25T17:02:40.208Z"
   },
   {
    "duration": 139657,
    "start_time": "2022-11-25T17:02:43.045Z"
   },
   {
    "duration": 4,
    "start_time": "2022-11-25T17:05:02.704Z"
   },
   {
    "duration": 4,
    "start_time": "2022-11-25T17:09:26.045Z"
   },
   {
    "duration": 84,
    "start_time": "2022-11-25T17:12:29.843Z"
   },
   {
    "duration": 27873,
    "start_time": "2022-11-25T17:12:36.691Z"
   },
   {
    "duration": 98,
    "start_time": "2022-11-25T17:13:18.619Z"
   },
   {
    "duration": 1665,
    "start_time": "2022-11-28T13:19:29.384Z"
   },
   {
    "duration": 1476,
    "start_time": "2022-11-28T13:19:31.052Z"
   },
   {
    "duration": 146,
    "start_time": "2022-11-28T13:19:32.529Z"
   },
   {
    "duration": 22,
    "start_time": "2022-11-28T13:19:32.677Z"
   },
   {
    "duration": 90,
    "start_time": "2022-11-28T13:19:32.700Z"
   },
   {
    "duration": 82,
    "start_time": "2022-11-28T13:19:32.792Z"
   },
   {
    "duration": 622,
    "start_time": "2022-11-28T13:19:32.876Z"
   },
   {
    "duration": 404,
    "start_time": "2022-11-28T13:19:33.499Z"
   },
   {
    "duration": 151,
    "start_time": "2022-11-28T13:19:33.905Z"
   },
   {
    "duration": 38,
    "start_time": "2022-11-28T13:19:34.060Z"
   },
   {
    "duration": 209,
    "start_time": "2022-11-28T13:19:34.100Z"
   },
   {
    "duration": 4,
    "start_time": "2022-11-28T13:19:34.310Z"
   },
   {
    "duration": 407,
    "start_time": "2022-11-28T13:19:34.316Z"
   },
   {
    "duration": 14,
    "start_time": "2022-11-28T13:19:45.080Z"
   },
   {
    "duration": 60597,
    "start_time": "2022-11-28T13:20:24.314Z"
   },
   {
    "duration": 5,
    "start_time": "2022-11-28T13:21:31.625Z"
   },
   {
    "duration": 1106,
    "start_time": "2022-11-28T13:21:31.632Z"
   },
   {
    "duration": 145,
    "start_time": "2022-11-28T13:21:32.741Z"
   },
   {
    "duration": 38,
    "start_time": "2022-11-28T13:21:32.889Z"
   },
   {
    "duration": 78,
    "start_time": "2022-11-28T13:21:32.930Z"
   },
   {
    "duration": 40,
    "start_time": "2022-11-28T13:21:33.010Z"
   },
   {
    "duration": 416,
    "start_time": "2022-11-28T13:21:33.052Z"
   },
   {
    "duration": 388,
    "start_time": "2022-11-28T13:21:33.469Z"
   },
   {
    "duration": 145,
    "start_time": "2022-11-28T13:21:33.858Z"
   },
   {
    "duration": 26,
    "start_time": "2022-11-28T13:21:34.005Z"
   },
   {
    "duration": 103,
    "start_time": "2022-11-28T13:21:34.033Z"
   },
   {
    "duration": 3,
    "start_time": "2022-11-28T13:21:34.138Z"
   },
   {
    "duration": 12,
    "start_time": "2022-11-28T13:21:39.219Z"
   },
   {
    "duration": 23052,
    "start_time": "2022-11-28T13:21:44.927Z"
   },
   {
    "duration": 160,
    "start_time": "2022-11-28T13:22:13.201Z"
   },
   {
    "duration": 10,
    "start_time": "2022-11-28T13:22:14.558Z"
   },
   {
    "duration": 1565,
    "start_time": "2022-11-28T13:23:52.270Z"
   },
   {
    "duration": 1157,
    "start_time": "2022-11-28T13:23:58.725Z"
   },
   {
    "duration": 140,
    "start_time": "2022-11-28T13:24:07.042Z"
   },
   {
    "duration": 22,
    "start_time": "2022-11-28T13:24:09.205Z"
   },
   {
    "duration": 47,
    "start_time": "2022-11-28T13:24:10.491Z"
   },
   {
    "duration": 41,
    "start_time": "2022-11-28T13:24:11.686Z"
   },
   {
    "duration": 356,
    "start_time": "2022-11-28T13:24:16.527Z"
   },
   {
    "duration": 148,
    "start_time": "2022-11-28T13:24:18.844Z"
   },
   {
    "duration": 17,
    "start_time": "2022-11-28T13:24:21.065Z"
   },
   {
    "duration": 91,
    "start_time": "2022-11-28T13:24:22.374Z"
   },
   {
    "duration": 16,
    "start_time": "2022-11-28T13:24:32.405Z"
   },
   {
    "duration": 45,
    "start_time": "2022-11-28T13:25:18.744Z"
   },
   {
    "duration": 165,
    "start_time": "2022-11-28T13:25:56.175Z"
   },
   {
    "duration": 735,
    "start_time": "2022-11-28T13:26:07.986Z"
   },
   {
    "duration": 80,
    "start_time": "2022-11-28T13:26:18.270Z"
   },
   {
    "duration": 59,
    "start_time": "2022-11-28T13:26:48.286Z"
   },
   {
    "duration": 88,
    "start_time": "2022-11-28T13:27:03.214Z"
   },
   {
    "duration": 31,
    "start_time": "2022-11-28T13:27:09.061Z"
   },
   {
    "duration": 53,
    "start_time": "2022-11-28T13:27:10.636Z"
   },
   {
    "duration": 466,
    "start_time": "2022-11-28T13:27:11.304Z"
   },
   {
    "duration": 462,
    "start_time": "2022-11-28T13:27:12.683Z"
   },
   {
    "duration": 133,
    "start_time": "2022-11-28T13:27:20.337Z"
   },
   {
    "duration": 28,
    "start_time": "2022-11-28T13:27:22.258Z"
   },
   {
    "duration": 83,
    "start_time": "2022-11-28T13:27:22.868Z"
   },
   {
    "duration": 12,
    "start_time": "2022-11-28T13:27:23.395Z"
   },
   {
    "duration": 3,
    "start_time": "2022-11-28T13:27:26.408Z"
   },
   {
    "duration": 171,
    "start_time": "2022-11-28T13:27:26.900Z"
   },
   {
    "duration": 10,
    "start_time": "2022-11-28T13:27:36.730Z"
   },
   {
    "duration": 1417,
    "start_time": "2022-11-28T14:55:07.134Z"
   },
   {
    "duration": 1145,
    "start_time": "2022-11-28T14:55:08.553Z"
   },
   {
    "duration": 150,
    "start_time": "2022-11-28T14:55:09.700Z"
   },
   {
    "duration": 84,
    "start_time": "2022-11-28T14:55:09.856Z"
   },
   {
    "duration": 43,
    "start_time": "2022-11-28T14:55:09.955Z"
   },
   {
    "duration": 56,
    "start_time": "2022-11-28T14:55:10.000Z"
   },
   {
    "duration": 405,
    "start_time": "2022-11-28T14:55:10.057Z"
   },
   {
    "duration": 350,
    "start_time": "2022-11-28T14:55:10.464Z"
   },
   {
    "duration": 153,
    "start_time": "2022-11-28T14:55:10.817Z"
   },
   {
    "duration": 17,
    "start_time": "2022-11-28T14:55:10.973Z"
   },
   {
    "duration": 111,
    "start_time": "2022-11-28T14:55:10.992Z"
   },
   {
    "duration": 11,
    "start_time": "2022-11-28T14:55:11.105Z"
   },
   {
    "duration": 6,
    "start_time": "2022-11-28T14:55:11.118Z"
   },
   {
    "duration": 190,
    "start_time": "2022-11-28T14:55:11.125Z"
   },
   {
    "duration": 10,
    "start_time": "2022-11-28T14:55:11.317Z"
   },
   {
    "duration": 5562,
    "start_time": "2022-11-28T14:55:11.329Z"
   },
   {
    "duration": 94,
    "start_time": "2022-11-28T14:55:45.521Z"
   },
   {
    "duration": 743345,
    "start_time": "2022-11-28T14:56:10.458Z"
   },
   {
    "duration": 37,
    "start_time": "2022-11-28T19:12:32.075Z"
   },
   {
    "duration": 14,
    "start_time": "2022-11-28T19:19:50.736Z"
   },
   {
    "duration": 4,
    "start_time": "2022-11-28T19:19:59.704Z"
   },
   {
    "duration": 2,
    "start_time": "2022-11-28T19:20:02.500Z"
   },
   {
    "duration": 22,
    "start_time": "2022-11-28T19:26:51.664Z"
   },
   {
    "duration": 100,
    "start_time": "2022-11-28T19:27:17.433Z"
   },
   {
    "duration": 10,
    "start_time": "2022-11-28T19:27:31.417Z"
   },
   {
    "duration": 61,
    "start_time": "2022-11-28T19:27:42.150Z"
   },
   {
    "duration": 22,
    "start_time": "2022-11-28T19:28:42.151Z"
   },
   {
    "duration": 24,
    "start_time": "2022-11-28T19:29:15.860Z"
   },
   {
    "duration": 20,
    "start_time": "2022-11-28T19:29:33.913Z"
   },
   {
    "duration": 12,
    "start_time": "2022-11-28T19:29:47.976Z"
   },
   {
    "duration": 18,
    "start_time": "2022-11-28T19:29:51.512Z"
   },
   {
    "duration": 79,
    "start_time": "2022-11-28T19:29:56.007Z"
   },
   {
    "duration": 13,
    "start_time": "2022-11-28T19:30:03.300Z"
   },
   {
    "duration": 41,
    "start_time": "2022-11-28T19:30:04.443Z"
   },
   {
    "duration": 47,
    "start_time": "2022-11-28T19:30:05.076Z"
   },
   {
    "duration": 516,
    "start_time": "2022-11-28T19:30:11.886Z"
   },
   {
    "duration": 357,
    "start_time": "2022-11-28T19:30:12.614Z"
   },
   {
    "duration": 136,
    "start_time": "2022-11-28T19:30:13.975Z"
   },
   {
    "duration": 18,
    "start_time": "2022-11-28T19:30:15.576Z"
   },
   {
    "duration": 72,
    "start_time": "2022-11-28T19:30:16.071Z"
   },
   {
    "duration": 48,
    "start_time": "2022-11-28T19:30:22.078Z"
   },
   {
    "duration": 23,
    "start_time": "2022-11-28T19:30:30.828Z"
   },
   {
    "duration": 52,
    "start_time": "2022-11-28T19:30:37.731Z"
   },
   {
    "duration": 47,
    "start_time": "2022-11-28T19:30:41.969Z"
   },
   {
    "duration": 4,
    "start_time": "2022-11-28T19:30:55.281Z"
   },
   {
    "duration": 149,
    "start_time": "2022-11-28T19:30:55.903Z"
   },
   {
    "duration": 15,
    "start_time": "2022-11-28T19:31:00.957Z"
   },
   {
    "duration": 5672,
    "start_time": "2022-11-28T19:31:02.792Z"
   },
   {
    "duration": 5697,
    "start_time": "2022-11-28T19:35:32.386Z"
   },
   {
    "duration": 225754,
    "start_time": "2022-11-28T19:35:52.703Z"
   },
   {
    "duration": 547,
    "start_time": "2022-11-28T19:41:03.575Z"
   },
   {
    "duration": 1142,
    "start_time": "2022-11-28T19:41:04.125Z"
   },
   {
    "duration": 5,
    "start_time": "2022-11-28T19:41:32.521Z"
   },
   {
    "duration": 1134,
    "start_time": "2022-11-28T19:50:04.721Z"
   },
   {
    "duration": 82,
    "start_time": "2022-11-28T19:53:43.125Z"
   },
   {
    "duration": 3,
    "start_time": "2022-11-28T19:53:46.619Z"
   },
   {
    "duration": 13,
    "start_time": "2022-11-28T19:54:04.916Z"
   },
   {
    "duration": 6,
    "start_time": "2022-11-28T19:54:13.901Z"
   },
   {
    "duration": 6,
    "start_time": "2022-11-28T19:54:42.586Z"
   },
   {
    "duration": 5,
    "start_time": "2022-11-28T19:54:45.761Z"
   },
   {
    "duration": 5,
    "start_time": "2022-11-28T19:54:59.642Z"
   },
   {
    "duration": 2478,
    "start_time": "2022-11-29T20:18:15.781Z"
   },
   {
    "duration": 1226,
    "start_time": "2022-11-29T20:18:18.261Z"
   },
   {
    "duration": 119,
    "start_time": "2022-11-29T20:18:20.563Z"
   },
   {
    "duration": 80,
    "start_time": "2022-11-29T20:18:20.952Z"
   },
   {
    "duration": 37,
    "start_time": "2022-11-29T20:18:21.291Z"
   },
   {
    "duration": 40,
    "start_time": "2022-11-29T20:18:21.931Z"
   },
   {
    "duration": 440,
    "start_time": "2022-11-29T20:18:22.480Z"
   },
   {
    "duration": 306,
    "start_time": "2022-11-29T20:18:22.922Z"
   },
   {
    "duration": 121,
    "start_time": "2022-11-29T20:18:23.229Z"
   },
   {
    "duration": 137,
    "start_time": "2022-11-29T20:18:23.916Z"
   },
   {
    "duration": 48,
    "start_time": "2022-11-30T10:53:20.885Z"
   },
   {
    "duration": 1790,
    "start_time": "2022-11-30T10:53:28.403Z"
   },
   {
    "duration": 3421,
    "start_time": "2022-11-30T10:53:30.196Z"
   },
   {
    "duration": 151,
    "start_time": "2022-11-30T10:53:33.619Z"
   },
   {
    "duration": 99,
    "start_time": "2022-11-30T10:53:33.772Z"
   },
   {
    "duration": 40,
    "start_time": "2022-11-30T10:53:33.872Z"
   },
   {
    "duration": 59,
    "start_time": "2022-11-30T10:53:33.914Z"
   },
   {
    "duration": 497,
    "start_time": "2022-11-30T10:53:33.975Z"
   },
   {
    "duration": 409,
    "start_time": "2022-11-30T10:53:34.473Z"
   },
   {
    "duration": 140,
    "start_time": "2022-11-30T10:53:34.885Z"
   },
   {
    "duration": 175,
    "start_time": "2022-11-30T10:53:35.028Z"
   },
   {
    "duration": 15,
    "start_time": "2022-11-30T10:53:35.205Z"
   },
   {
    "duration": 103,
    "start_time": "2022-11-30T10:53:35.222Z"
   },
   {
    "duration": 4,
    "start_time": "2022-11-30T10:54:29.373Z"
   },
   {
    "duration": 4,
    "start_time": "2022-11-30T10:54:41.869Z"
   },
   {
    "duration": 7,
    "start_time": "2022-11-30T10:54:54.698Z"
   },
   {
    "duration": 24,
    "start_time": "2022-11-30T10:55:06.168Z"
   },
   {
    "duration": 16,
    "start_time": "2022-11-30T10:55:14.150Z"
   },
   {
    "duration": 79,
    "start_time": "2022-11-30T15:12:51.250Z"
   },
   {
    "duration": 12,
    "start_time": "2022-11-30T15:13:27.591Z"
   },
   {
    "duration": 51,
    "start_time": "2022-11-30T15:13:37.798Z"
   },
   {
    "duration": 10,
    "start_time": "2022-11-30T15:13:39.344Z"
   },
   {
    "duration": 4,
    "start_time": "2022-11-30T15:13:40.434Z"
   },
   {
    "duration": 154,
    "start_time": "2022-11-30T15:13:41.393Z"
   },
   {
    "duration": 793,
    "start_time": "2022-11-30T15:13:46.656Z"
   },
   {
    "duration": 4,
    "start_time": "2022-11-30T15:13:54.618Z"
   },
   {
    "duration": 1055,
    "start_time": "2022-11-30T15:13:54.624Z"
   },
   {
    "duration": 132,
    "start_time": "2022-11-30T15:13:55.681Z"
   },
   {
    "duration": 94,
    "start_time": "2022-11-30T15:13:55.815Z"
   },
   {
    "duration": 44,
    "start_time": "2022-11-30T15:13:55.911Z"
   },
   {
    "duration": 41,
    "start_time": "2022-11-30T15:13:55.957Z"
   },
   {
    "duration": 447,
    "start_time": "2022-11-30T15:13:56.000Z"
   },
   {
    "duration": 324,
    "start_time": "2022-11-30T15:13:56.450Z"
   },
   {
    "duration": 139,
    "start_time": "2022-11-30T15:13:56.776Z"
   },
   {
    "duration": 168,
    "start_time": "2022-11-30T15:13:56.916Z"
   },
   {
    "duration": 19,
    "start_time": "2022-11-30T15:13:57.086Z"
   },
   {
    "duration": 90,
    "start_time": "2022-11-30T15:13:57.106Z"
   },
   {
    "duration": 9,
    "start_time": "2022-11-30T15:13:57.198Z"
   },
   {
    "duration": 5,
    "start_time": "2022-11-30T15:13:57.209Z"
   },
   {
    "duration": 199,
    "start_time": "2022-11-30T15:13:57.216Z"
   },
   {
    "duration": 101,
    "start_time": "2022-11-30T15:13:57.417Z"
   },
   {
    "duration": 739683,
    "start_time": "2022-11-30T15:13:57.520Z"
   },
   {
    "duration": 651,
    "start_time": "2022-11-30T15:26:17.205Z"
   },
   {
    "duration": 22,
    "start_time": "2022-11-30T15:28:16.292Z"
   },
   {
    "duration": 86,
    "start_time": "2022-11-30T15:28:25.686Z"
   },
   {
    "duration": 21,
    "start_time": "2022-11-30T15:28:29.733Z"
   },
   {
    "duration": 22,
    "start_time": "2022-11-30T15:28:38.230Z"
   },
   {
    "duration": 35,
    "start_time": "2022-11-30T15:28:49.297Z"
   },
   {
    "duration": 82,
    "start_time": "2022-11-30T15:28:49.810Z"
   },
   {
    "duration": 51,
    "start_time": "2022-11-30T15:28:52.822Z"
   },
   {
    "duration": 4,
    "start_time": "2022-11-30T15:29:03.099Z"
   },
   {
    "duration": 156,
    "start_time": "2022-11-30T15:29:04.236Z"
   },
   {
    "duration": 13,
    "start_time": "2022-11-30T15:29:07.095Z"
   },
   {
    "duration": 369856,
    "start_time": "2022-11-30T15:29:11.208Z"
   },
   {
    "duration": 34,
    "start_time": "2022-11-30T15:35:28.061Z"
   },
   {
    "duration": 48,
    "start_time": "2022-11-30T15:35:59.844Z"
   },
   {
    "duration": 93,
    "start_time": "2022-11-30T15:39:59.972Z"
   },
   {
    "duration": 548,
    "start_time": "2022-11-30T15:40:04.281Z"
   },
   {
    "duration": 1883,
    "start_time": "2022-12-01T15:45:00.743Z"
   },
   {
    "duration": 1286,
    "start_time": "2022-12-01T15:45:02.628Z"
   },
   {
    "duration": 142,
    "start_time": "2022-12-01T15:45:03.916Z"
   },
   {
    "duration": 91,
    "start_time": "2022-12-01T15:45:04.060Z"
   },
   {
    "duration": 44,
    "start_time": "2022-12-01T15:45:04.153Z"
   },
   {
    "duration": 41,
    "start_time": "2022-12-01T15:45:04.199Z"
   },
   {
    "duration": 497,
    "start_time": "2022-12-01T15:45:04.241Z"
   },
   {
    "duration": 358,
    "start_time": "2022-12-01T15:45:04.741Z"
   },
   {
    "duration": 121,
    "start_time": "2022-12-01T15:45:05.101Z"
   },
   {
    "duration": 137,
    "start_time": "2022-12-01T15:45:05.224Z"
   },
   {
    "duration": 1791,
    "start_time": "2022-12-01T16:04:00.635Z"
   },
   {
    "duration": 1538,
    "start_time": "2022-12-01T16:04:02.428Z"
   },
   {
    "duration": 189,
    "start_time": "2022-12-01T16:04:03.968Z"
   },
   {
    "duration": 103,
    "start_time": "2022-12-01T16:04:04.159Z"
   },
   {
    "duration": 39,
    "start_time": "2022-12-01T16:04:04.263Z"
   },
   {
    "duration": 62,
    "start_time": "2022-12-01T16:04:04.304Z"
   },
   {
    "duration": 472,
    "start_time": "2022-12-01T16:04:04.368Z"
   },
   {
    "duration": 397,
    "start_time": "2022-12-01T16:04:04.843Z"
   },
   {
    "duration": 150,
    "start_time": "2022-12-01T16:04:05.243Z"
   },
   {
    "duration": 207,
    "start_time": "2022-12-01T16:05:17.620Z"
   },
   {
    "duration": 173,
    "start_time": "2022-12-01T16:05:28.917Z"
   },
   {
    "duration": 189,
    "start_time": "2022-12-01T16:05:29.877Z"
   },
   {
    "duration": 281,
    "start_time": "2022-12-01T16:06:24.142Z"
   },
   {
    "duration": 51,
    "start_time": "2022-12-01T16:08:51.982Z"
   },
   {
    "duration": 31,
    "start_time": "2022-12-01T16:09:06.198Z"
   },
   {
    "duration": 12,
    "start_time": "2022-12-01T16:09:49.803Z"
   },
   {
    "duration": 36,
    "start_time": "2022-12-01T16:10:01.829Z"
   },
   {
    "duration": 16,
    "start_time": "2022-12-01T16:12:54.553Z"
   },
   {
    "duration": 13,
    "start_time": "2022-12-01T16:13:02.956Z"
   },
   {
    "duration": 8,
    "start_time": "2022-12-01T16:13:13.607Z"
   },
   {
    "duration": 8,
    "start_time": "2022-12-01T16:13:17.686Z"
   },
   {
    "duration": 9,
    "start_time": "2022-12-01T16:13:21.636Z"
   },
   {
    "duration": 12,
    "start_time": "2022-12-01T16:13:25.966Z"
   },
   {
    "duration": 65,
    "start_time": "2022-12-01T16:16:53.541Z"
   },
   {
    "duration": 40,
    "start_time": "2022-12-01T16:17:05.769Z"
   },
   {
    "duration": 350,
    "start_time": "2022-12-01T16:20:36.695Z"
   },
   {
    "duration": 228,
    "start_time": "2022-12-01T16:21:18.166Z"
   },
   {
    "duration": 312,
    "start_time": "2022-12-01T16:21:35.597Z"
   },
   {
    "duration": 3,
    "start_time": "2022-12-01T16:21:56.207Z"
   },
   {
    "duration": 67,
    "start_time": "2022-12-01T16:22:05.255Z"
   },
   {
    "duration": 3,
    "start_time": "2022-12-01T16:22:13.363Z"
   },
   {
    "duration": 7,
    "start_time": "2022-12-01T16:22:16.327Z"
   },
   {
    "duration": 202,
    "start_time": "2022-12-01T16:22:17.564Z"
   },
   {
    "duration": 3,
    "start_time": "2022-12-01T16:22:18.460Z"
   },
   {
    "duration": 3,
    "start_time": "2022-12-01T16:23:09.494Z"
   },
   {
    "duration": 223,
    "start_time": "2022-12-01T16:23:13.991Z"
   },
   {
    "duration": 3,
    "start_time": "2022-12-01T16:23:14.599Z"
   },
   {
    "duration": 101,
    "start_time": "2022-12-01T16:23:34.873Z"
   },
   {
    "duration": 11,
    "start_time": "2022-12-01T16:23:45.040Z"
   },
   {
    "duration": 70,
    "start_time": "2022-12-01T16:24:05.492Z"
   },
   {
    "duration": 216,
    "start_time": "2022-12-01T16:24:27.232Z"
   },
   {
    "duration": 3,
    "start_time": "2022-12-01T16:24:51.731Z"
   },
   {
    "duration": 2924,
    "start_time": "2022-12-01T16:25:07.133Z"
   },
   {
    "duration": 3077,
    "start_time": "2022-12-01T16:25:20.586Z"
   },
   {
    "duration": 690,
    "start_time": "2022-12-01T16:25:36.929Z"
   },
   {
    "duration": 3,
    "start_time": "2022-12-01T16:25:44.227Z"
   },
   {
    "duration": 246,
    "start_time": "2022-12-01T16:26:56.179Z"
   },
   {
    "duration": 250,
    "start_time": "2022-12-01T16:27:04.561Z"
   },
   {
    "duration": 19,
    "start_time": "2022-12-01T16:28:45.361Z"
   },
   {
    "duration": 3,
    "start_time": "2022-12-01T16:29:16.505Z"
   },
   {
    "duration": 1104,
    "start_time": "2022-12-01T16:29:16.510Z"
   },
   {
    "duration": 134,
    "start_time": "2022-12-01T16:29:17.616Z"
   },
   {
    "duration": 96,
    "start_time": "2022-12-01T16:29:17.752Z"
   },
   {
    "duration": 36,
    "start_time": "2022-12-01T16:29:17.849Z"
   },
   {
    "duration": 49,
    "start_time": "2022-12-01T16:29:17.887Z"
   },
   {
    "duration": 433,
    "start_time": "2022-12-01T16:29:17.937Z"
   },
   {
    "duration": 367,
    "start_time": "2022-12-01T16:29:18.372Z"
   },
   {
    "duration": 145,
    "start_time": "2022-12-01T16:29:18.741Z"
   },
   {
    "duration": 293,
    "start_time": "2022-12-01T16:29:18.888Z"
   },
   {
    "duration": 26,
    "start_time": "2022-12-01T16:29:19.183Z"
   },
   {
    "duration": 184,
    "start_time": "2022-12-01T16:29:19.211Z"
   },
   {
    "duration": 63,
    "start_time": "2022-12-01T16:29:19.397Z"
   },
   {
    "duration": 12,
    "start_time": "2022-12-01T16:29:19.462Z"
   },
   {
    "duration": 165,
    "start_time": "2022-12-01T16:29:19.475Z"
   },
   {
    "duration": 3,
    "start_time": "2022-12-01T16:29:25.642Z"
   },
   {
    "duration": 954,
    "start_time": "2022-12-01T16:29:25.647Z"
   },
   {
    "duration": 147,
    "start_time": "2022-12-01T16:29:26.603Z"
   },
   {
    "duration": 96,
    "start_time": "2022-12-01T16:29:26.755Z"
   },
   {
    "duration": 26,
    "start_time": "2022-12-01T16:29:26.853Z"
   },
   {
    "duration": 37,
    "start_time": "2022-12-01T16:29:26.880Z"
   },
   {
    "duration": 386,
    "start_time": "2022-12-01T16:29:26.936Z"
   },
   {
    "duration": 330,
    "start_time": "2022-12-01T16:29:27.323Z"
   },
   {
    "duration": 130,
    "start_time": "2022-12-01T16:29:27.655Z"
   },
   {
    "duration": 313,
    "start_time": "2022-12-01T16:29:27.787Z"
   },
   {
    "duration": 33,
    "start_time": "2022-12-01T16:29:28.102Z"
   },
   {
    "duration": 160,
    "start_time": "2022-12-01T16:29:28.138Z"
   },
   {
    "duration": 64,
    "start_time": "2022-12-01T16:29:28.300Z"
   },
   {
    "duration": 12,
    "start_time": "2022-12-01T16:29:28.366Z"
   },
   {
    "duration": 164,
    "start_time": "2022-12-01T16:29:28.380Z"
   },
   {
    "duration": 14,
    "start_time": "2022-12-01T16:29:28.546Z"
   },
   {
    "duration": 92,
    "start_time": "2022-12-01T16:29:28.561Z"
   },
   {
    "duration": 7,
    "start_time": "2022-12-01T16:29:28.655Z"
   },
   {
    "duration": 28,
    "start_time": "2022-12-01T16:29:28.664Z"
   },
   {
    "duration": 173,
    "start_time": "2022-12-01T16:29:28.694Z"
   },
   {
    "duration": 98,
    "start_time": "2022-12-01T16:29:28.868Z"
   },
   {
    "duration": 690727,
    "start_time": "2022-12-01T16:29:28.968Z"
   },
   {
    "duration": 3915347,
    "start_time": "2022-12-01T16:40:59.696Z"
   },
   {
    "duration": 10,
    "start_time": "2022-12-01T17:46:15.044Z"
   },
   {
    "duration": 80,
    "start_time": "2022-12-01T17:46:15.056Z"
   },
   {
    "duration": 20,
    "start_time": "2022-12-01T17:46:15.138Z"
   },
   {
    "duration": 0,
    "start_time": "2022-12-01T17:46:15.160Z"
   },
   {
    "duration": 3765783,
    "start_time": "2022-12-01T17:46:19.956Z"
   },
   {
    "duration": 80,
    "start_time": "2022-12-01T19:08:26.910Z"
   },
   {
    "duration": 4,
    "start_time": "2022-12-01T19:08:34.510Z"
   },
   {
    "duration": 49,
    "start_time": "2022-12-01T19:08:35.303Z"
   },
   {
    "duration": 34,
    "start_time": "2022-12-01T19:08:36.209Z"
   },
   {
    "duration": 516,
    "start_time": "2022-12-01T19:08:38.856Z"
   },
   {
    "duration": 2286,
    "start_time": "2022-12-02T19:53:37.989Z"
   },
   {
    "duration": 3156,
    "start_time": "2022-12-02T19:53:40.277Z"
   },
   {
    "duration": 126,
    "start_time": "2022-12-02T19:53:43.435Z"
   },
   {
    "duration": 85,
    "start_time": "2022-12-02T19:53:43.563Z"
   },
   {
    "duration": 58,
    "start_time": "2022-12-02T19:53:43.650Z"
   },
   {
    "duration": 39,
    "start_time": "2022-12-02T19:53:44.364Z"
   },
   {
    "duration": 476,
    "start_time": "2022-12-02T19:53:45.349Z"
   },
   {
    "duration": 297,
    "start_time": "2022-12-02T19:53:46.181Z"
   },
   {
    "duration": 111,
    "start_time": "2022-12-02T19:53:47.533Z"
   },
   {
    "duration": 265,
    "start_time": "2022-12-02T19:53:48.307Z"
   },
   {
    "duration": 23,
    "start_time": "2022-12-02T19:53:49.304Z"
   },
   {
    "duration": 138,
    "start_time": "2022-12-02T19:53:50.112Z"
   },
   {
    "duration": 49,
    "start_time": "2022-12-02T19:53:50.857Z"
   },
   {
    "duration": 71,
    "start_time": "2022-12-02T19:53:54.215Z"
   },
   {
    "duration": 132,
    "start_time": "2022-12-02T19:53:55.121Z"
   },
   {
    "duration": 1794,
    "start_time": "2022-12-02T20:06:40.153Z"
   },
   {
    "duration": 1009,
    "start_time": "2022-12-02T20:06:41.949Z"
   },
   {
    "duration": 140,
    "start_time": "2022-12-02T20:06:42.959Z"
   },
   {
    "duration": 84,
    "start_time": "2022-12-02T20:06:43.101Z"
   },
   {
    "duration": 40,
    "start_time": "2022-12-02T20:06:43.186Z"
   },
   {
    "duration": 62,
    "start_time": "2022-12-02T20:06:43.228Z"
   },
   {
    "duration": 410,
    "start_time": "2022-12-02T20:06:43.292Z"
   },
   {
    "duration": 387,
    "start_time": "2022-12-02T20:06:43.704Z"
   },
   {
    "duration": 145,
    "start_time": "2022-12-02T20:06:44.093Z"
   },
   {
    "duration": 291,
    "start_time": "2022-12-02T20:06:44.240Z"
   },
   {
    "duration": 23,
    "start_time": "2022-12-02T20:06:44.533Z"
   },
   {
    "duration": 146,
    "start_time": "2022-12-02T20:06:44.557Z"
   },
   {
    "duration": 53,
    "start_time": "2022-12-02T20:06:44.704Z"
   },
   {
    "duration": 94,
    "start_time": "2022-12-02T20:06:44.759Z"
   },
   {
    "duration": 144,
    "start_time": "2022-12-02T20:06:44.855Z"
   },
   {
    "duration": 1639,
    "start_time": "2022-12-02T21:19:57.377Z"
   },
   {
    "duration": 1092,
    "start_time": "2022-12-02T21:19:59.017Z"
   },
   {
    "duration": 139,
    "start_time": "2022-12-02T21:20:00.110Z"
   },
   {
    "duration": 92,
    "start_time": "2022-12-02T21:20:00.251Z"
   },
   {
    "duration": 55,
    "start_time": "2022-12-02T21:20:00.344Z"
   },
   {
    "duration": 42,
    "start_time": "2022-12-02T21:20:00.401Z"
   },
   {
    "duration": 453,
    "start_time": "2022-12-02T21:20:00.444Z"
   },
   {
    "duration": 367,
    "start_time": "2022-12-02T21:20:00.899Z"
   },
   {
    "duration": 122,
    "start_time": "2022-12-02T21:20:01.284Z"
   },
   {
    "duration": 297,
    "start_time": "2022-12-02T21:20:01.436Z"
   },
   {
    "duration": 34,
    "start_time": "2022-12-02T21:20:03.050Z"
   },
   {
    "duration": 148,
    "start_time": "2022-12-02T21:20:03.625Z"
   },
   {
    "duration": 67,
    "start_time": "2022-12-02T21:20:04.031Z"
   },
   {
    "duration": 86,
    "start_time": "2022-12-02T21:20:04.345Z"
   },
   {
    "duration": 157,
    "start_time": "2022-12-02T21:20:04.623Z"
   },
   {
    "duration": 46,
    "start_time": "2022-12-03T09:27:35.060Z"
   },
   {
    "duration": 1502,
    "start_time": "2022-12-03T09:27:40.073Z"
   },
   {
    "duration": 1340,
    "start_time": "2022-12-03T09:27:41.577Z"
   },
   {
    "duration": 69,
    "start_time": "2022-12-03T09:27:46.191Z"
   },
   {
    "duration": 105,
    "start_time": "2022-12-03T09:33:03.736Z"
   },
   {
    "duration": 83,
    "start_time": "2022-12-03T09:33:07.156Z"
   },
   {
    "duration": 135,
    "start_time": "2022-12-03T09:33:13.114Z"
   },
   {
    "duration": 46,
    "start_time": "2022-12-03T09:34:07.476Z"
   },
   {
    "duration": 57,
    "start_time": "2022-12-03T09:34:13.289Z"
   },
   {
    "duration": 50,
    "start_time": "2022-12-03T09:34:17.273Z"
   },
   {
    "duration": 52,
    "start_time": "2022-12-03T09:34:19.098Z"
   },
   {
    "duration": 137,
    "start_time": "2022-12-03T09:34:43.687Z"
   },
   {
    "duration": 95,
    "start_time": "2022-12-03T09:34:54.173Z"
   },
   {
    "duration": 86,
    "start_time": "2022-12-03T09:42:01.130Z"
   },
   {
    "duration": 78,
    "start_time": "2022-12-03T09:42:08.365Z"
   },
   {
    "duration": 43,
    "start_time": "2022-12-03T09:43:25.947Z"
   },
   {
    "duration": 65,
    "start_time": "2022-12-03T09:47:10.680Z"
   },
   {
    "duration": 82,
    "start_time": "2022-12-03T09:47:33.780Z"
   },
   {
    "duration": 3,
    "start_time": "2022-12-03T09:47:42.531Z"
   },
   {
    "duration": 951,
    "start_time": "2022-12-03T09:47:42.537Z"
   },
   {
    "duration": 169,
    "start_time": "2022-12-03T09:47:43.489Z"
   },
   {
    "duration": 172,
    "start_time": "2022-12-03T09:47:43.661Z"
   },
   {
    "duration": 107,
    "start_time": "2022-12-03T09:47:43.834Z"
   },
   {
    "duration": 92,
    "start_time": "2022-12-03T09:47:43.943Z"
   },
   {
    "duration": 60,
    "start_time": "2022-12-03T09:47:44.036Z"
   },
   {
    "duration": 53,
    "start_time": "2022-12-03T09:47:44.098Z"
   },
   {
    "duration": 51,
    "start_time": "2022-12-03T09:47:44.153Z"
   },
   {
    "duration": 481,
    "start_time": "2022-12-03T09:47:44.222Z"
   },
   {
    "duration": 323,
    "start_time": "2022-12-03T09:47:44.705Z"
   },
   {
    "duration": 142,
    "start_time": "2022-12-03T09:47:45.030Z"
   },
   {
    "duration": 233,
    "start_time": "2022-12-03T09:47:45.174Z"
   },
   {
    "duration": 24,
    "start_time": "2022-12-03T09:47:45.410Z"
   },
   {
    "duration": 149,
    "start_time": "2022-12-03T09:47:45.436Z"
   },
   {
    "duration": 56,
    "start_time": "2022-12-03T09:47:45.587Z"
   },
   {
    "duration": 104,
    "start_time": "2022-12-03T09:47:45.645Z"
   },
   {
    "duration": 113,
    "start_time": "2022-12-03T09:47:45.751Z"
   },
   {
    "duration": 12,
    "start_time": "2022-12-03T09:47:45.866Z"
   },
   {
    "duration": 71,
    "start_time": "2022-12-03T09:47:45.880Z"
   },
   {
    "duration": 9,
    "start_time": "2022-12-03T09:47:45.953Z"
   },
   {
    "duration": 6,
    "start_time": "2022-12-03T09:47:45.964Z"
   },
   {
    "duration": 156,
    "start_time": "2022-12-03T09:47:45.972Z"
   },
   {
    "duration": 64,
    "start_time": "2022-12-03T09:47:46.130Z"
   },
   {
    "duration": 381375,
    "start_time": "2022-12-03T09:47:46.196Z"
   },
   {
    "duration": 123258,
    "start_time": "2022-12-03T09:54:07.572Z"
   },
   {
    "duration": 3,
    "start_time": "2022-12-03T09:56:10.832Z"
   },
   {
    "duration": 127,
    "start_time": "2022-12-03T09:56:10.838Z"
   },
   {
    "duration": 31,
    "start_time": "2022-12-03T09:56:10.967Z"
   },
   {
    "duration": 397,
    "start_time": "2022-12-03T09:56:11.021Z"
   }
  ],
  "kernelspec": {
   "display_name": "Python 3 (ipykernel)",
   "language": "python",
   "name": "python3"
  },
  "language_info": {
   "codemirror_mode": {
    "name": "ipython",
    "version": 3
   },
   "file_extension": ".py",
   "mimetype": "text/x-python",
   "name": "python",
   "nbconvert_exporter": "python",
   "pygments_lexer": "ipython3",
   "version": "3.9.7"
  },
  "toc": {
   "base_numbering": 1,
   "nav_menu": {},
   "number_sections": true,
   "sideBar": true,
   "skip_h1_title": true,
   "title_cell": "Table of Contents",
   "title_sidebar": "Contents",
   "toc_cell": false,
   "toc_position": {},
   "toc_section_display": true,
   "toc_window_display": false
  }
 },
 "nbformat": 4,
 "nbformat_minor": 2
}
