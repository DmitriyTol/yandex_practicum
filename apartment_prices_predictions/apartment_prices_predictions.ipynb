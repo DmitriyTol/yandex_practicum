{
 "cells": [
  {
   "cell_type": "markdown",
   "id": "GEqQaHzsZ_bA",
   "metadata": {
    "id": "GEqQaHzsZ_bA"
   },
   "source": [
    "## Предсказание стоимости жилья\n",
    "\n",
    "В проекте нам нужно обучить модель линейной регрессии на данных о жилье в Калифорнии в 1990 году. На основе данных нужно предсказать медианную стоимость дома в жилом массиве. Обучим модель и сделаем предсказания на тестовой выборке. Для оценки качества модели используем метрики RMSE, MAE и R2."
   ]
  },
  {
   "cell_type": "markdown",
   "id": "53871372",
   "metadata": {
    "id": "53871372"
   },
   "source": [
    "# Подготовка данных"
   ]
  },
  {
   "cell_type": "code",
   "execution_count": 1,
   "id": "df92e3ec",
   "metadata": {
    "id": "df92e3ec"
   },
   "outputs": [],
   "source": [
    "import pyspark\n",
    "from pyspark.sql import SparkSession\n",
    "from pyspark.ml.feature import StringIndexer, VectorAssembler, StandardScaler\n",
    "from pyspark.ml.feature import OneHotEncoder\n",
    "from pyspark.ml.regression import LinearRegression\n",
    "from pyspark.ml.evaluation import BinaryClassificationEvaluator, MulticlassClassificationEvaluator\n",
    "from pyspark.ml.functions import vector_to_array\n",
    "import pyspark.sql.functions as F\n",
    "from pyspark.mllib.evaluation import RegressionMetrics\n",
    "\n",
    "RANDOM_SEED = 12345"
   ]
  },
  {
   "cell_type": "code",
   "execution_count": 2,
   "id": "e8f8da72",
   "metadata": {},
   "outputs": [],
   "source": [
    "spark = SparkSession.builder.master(\"local\").appName(\"Spark project\").getOrCreate()"
   ]
  },
  {
   "cell_type": "code",
   "execution_count": 3,
   "id": "02ddb072",
   "metadata": {},
   "outputs": [
    {
     "name": "stderr",
     "output_type": "stream",
     "text": [
      "[Stage 1:>                                                          (0 + 1) / 1]\r"
     ]
    },
    {
     "name": "stdout",
     "output_type": "stream",
     "text": [
      "root\n",
      " |-- longitude: double (nullable = true)\n",
      " |-- latitude: double (nullable = true)\n",
      " |-- housing_median_age: double (nullable = true)\n",
      " |-- total_rooms: double (nullable = true)\n",
      " |-- total_bedrooms: double (nullable = true)\n",
      " |-- population: double (nullable = true)\n",
      " |-- households: double (nullable = true)\n",
      " |-- median_income: double (nullable = true)\n",
      " |-- median_house_value: double (nullable = true)\n",
      " |-- ocean_proximity: string (nullable = true)\n",
      "\n"
     ]
    },
    {
     "name": "stderr",
     "output_type": "stream",
     "text": [
      "                                                                                \r"
     ]
    }
   ],
   "source": [
    "df = spark.read.load('/datasets/housing.csv', \n",
    "                     format=\"csv\", sep=\",\", inferSchema=True, header=\"true\")\n",
    "df.printSchema()"
   ]
  },
  {
   "cell_type": "code",
   "execution_count": 4,
   "id": "8b69c3d3",
   "metadata": {
    "scrolled": true
   },
   "outputs": [
    {
     "name": "stdout",
     "output_type": "stream",
     "text": [
      "+---------+--------+------------------+-----------+--------------+----------+----------+-------------+------------------+---------------+\n",
      "|longitude|latitude|housing_median_age|total_rooms|total_bedrooms|population|households|median_income|median_house_value|ocean_proximity|\n",
      "+---------+--------+------------------+-----------+--------------+----------+----------+-------------+------------------+---------------+\n",
      "|  -122.23|   37.88|              41.0|      880.0|         129.0|     322.0|     126.0|       8.3252|          452600.0|       NEAR BAY|\n",
      "|  -122.22|   37.86|              21.0|     7099.0|        1106.0|    2401.0|    1138.0|       8.3014|          358500.0|       NEAR BAY|\n",
      "|  -122.24|   37.85|              52.0|     1467.0|         190.0|     496.0|     177.0|       7.2574|          352100.0|       NEAR BAY|\n",
      "|  -122.25|   37.85|              52.0|     1274.0|         235.0|     558.0|     219.0|       5.6431|          341300.0|       NEAR BAY|\n",
      "|  -122.25|   37.85|              52.0|     1627.0|         280.0|     565.0|     259.0|       3.8462|          342200.0|       NEAR BAY|\n",
      "+---------+--------+------------------+-----------+--------------+----------+----------+-------------+------------------+---------------+\n",
      "only showing top 5 rows\n",
      "\n"
     ]
    },
    {
     "name": "stderr",
     "output_type": "stream",
     "text": [
      "                                                                                \r"
     ]
    },
    {
     "data": {
      "text/html": [
       "<div>\n",
       "<style scoped>\n",
       "    .dataframe tbody tr th:only-of-type {\n",
       "        vertical-align: middle;\n",
       "    }\n",
       "\n",
       "    .dataframe tbody tr th {\n",
       "        vertical-align: top;\n",
       "    }\n",
       "\n",
       "    .dataframe thead th {\n",
       "        text-align: right;\n",
       "    }\n",
       "</style>\n",
       "<table border=\"1\" class=\"dataframe\">\n",
       "  <thead>\n",
       "    <tr style=\"text-align: right;\">\n",
       "      <th></th>\n",
       "      <th>summary</th>\n",
       "      <th>longitude</th>\n",
       "      <th>latitude</th>\n",
       "      <th>housing_median_age</th>\n",
       "      <th>total_rooms</th>\n",
       "      <th>total_bedrooms</th>\n",
       "      <th>population</th>\n",
       "      <th>households</th>\n",
       "      <th>median_income</th>\n",
       "      <th>median_house_value</th>\n",
       "      <th>ocean_proximity</th>\n",
       "    </tr>\n",
       "  </thead>\n",
       "  <tbody>\n",
       "    <tr>\n",
       "      <th>0</th>\n",
       "      <td>count</td>\n",
       "      <td>20640</td>\n",
       "      <td>20640</td>\n",
       "      <td>20640</td>\n",
       "      <td>20640</td>\n",
       "      <td>20433</td>\n",
       "      <td>20640</td>\n",
       "      <td>20640</td>\n",
       "      <td>20640</td>\n",
       "      <td>20640</td>\n",
       "      <td>20640</td>\n",
       "    </tr>\n",
       "    <tr>\n",
       "      <th>1</th>\n",
       "      <td>mean</td>\n",
       "      <td>-119.56970445736148</td>\n",
       "      <td>35.6318614341087</td>\n",
       "      <td>28.639486434108527</td>\n",
       "      <td>2635.7630813953488</td>\n",
       "      <td>537.8705525375618</td>\n",
       "      <td>1425.4767441860465</td>\n",
       "      <td>499.5396802325581</td>\n",
       "      <td>3.8706710029070246</td>\n",
       "      <td>206855.81690891474</td>\n",
       "      <td>None</td>\n",
       "    </tr>\n",
       "    <tr>\n",
       "      <th>2</th>\n",
       "      <td>stddev</td>\n",
       "      <td>2.003531723502584</td>\n",
       "      <td>2.135952397457101</td>\n",
       "      <td>12.58555761211163</td>\n",
       "      <td>2181.6152515827944</td>\n",
       "      <td>421.38507007403115</td>\n",
       "      <td>1132.46212176534</td>\n",
       "      <td>382.3297528316098</td>\n",
       "      <td>1.899821717945263</td>\n",
       "      <td>115395.61587441359</td>\n",
       "      <td>None</td>\n",
       "    </tr>\n",
       "    <tr>\n",
       "      <th>3</th>\n",
       "      <td>min</td>\n",
       "      <td>-124.35</td>\n",
       "      <td>32.54</td>\n",
       "      <td>1.0</td>\n",
       "      <td>2.0</td>\n",
       "      <td>1.0</td>\n",
       "      <td>3.0</td>\n",
       "      <td>1.0</td>\n",
       "      <td>0.4999</td>\n",
       "      <td>14999.0</td>\n",
       "      <td>&lt;1H OCEAN</td>\n",
       "    </tr>\n",
       "    <tr>\n",
       "      <th>4</th>\n",
       "      <td>max</td>\n",
       "      <td>-114.31</td>\n",
       "      <td>41.95</td>\n",
       "      <td>52.0</td>\n",
       "      <td>39320.0</td>\n",
       "      <td>6445.0</td>\n",
       "      <td>35682.0</td>\n",
       "      <td>6082.0</td>\n",
       "      <td>15.0001</td>\n",
       "      <td>500001.0</td>\n",
       "      <td>NEAR OCEAN</td>\n",
       "    </tr>\n",
       "  </tbody>\n",
       "</table>\n",
       "</div>"
      ],
      "text/plain": [
       "  summary            longitude           latitude  housing_median_age  \\\n",
       "0   count                20640              20640               20640   \n",
       "1    mean  -119.56970445736148   35.6318614341087  28.639486434108527   \n",
       "2  stddev    2.003531723502584  2.135952397457101   12.58555761211163   \n",
       "3     min              -124.35              32.54                 1.0   \n",
       "4     max              -114.31              41.95                52.0   \n",
       "\n",
       "          total_rooms      total_bedrooms          population  \\\n",
       "0               20640               20433               20640   \n",
       "1  2635.7630813953488   537.8705525375618  1425.4767441860465   \n",
       "2  2181.6152515827944  421.38507007403115    1132.46212176534   \n",
       "3                 2.0                 1.0                 3.0   \n",
       "4             39320.0              6445.0             35682.0   \n",
       "\n",
       "          households       median_income  median_house_value ocean_proximity  \n",
       "0              20640               20640               20640           20640  \n",
       "1  499.5396802325581  3.8706710029070246  206855.81690891474            None  \n",
       "2  382.3297528316098   1.899821717945263  115395.61587441359            None  \n",
       "3                1.0              0.4999             14999.0       <1H OCEAN  \n",
       "4             6082.0             15.0001            500001.0      NEAR OCEAN  "
      ]
     },
     "execution_count": 4,
     "metadata": {},
     "output_type": "execute_result"
    }
   ],
   "source": [
    "df.show(5)\n",
    "df.describe().toPandas()"
   ]
  },
  {
   "cell_type": "markdown",
   "id": "4b0a9a16",
   "metadata": {},
   "source": [
    "Исследуем данные и обработаем пропуски"
   ]
  },
  {
   "cell_type": "code",
   "execution_count": 5,
   "id": "3bf285b0",
   "metadata": {},
   "outputs": [
    {
     "name": "stdout",
     "output_type": "stream",
     "text": [
      "+---------+--------+------------------+-----------+--------------+----------+----------+-------------+------------------+---------------+\n",
      "|longitude|latitude|housing_median_age|total_rooms|total_bedrooms|population|households|median_income|median_house_value|ocean_proximity|\n",
      "+---------+--------+------------------+-----------+--------------+----------+----------+-------------+------------------+---------------+\n",
      "|        0|       0|                 0|          0|           207|         0|         0|            0|                 0|              0|\n",
      "+---------+--------+------------------+-----------+--------------+----------+----------+-------------+------------------+---------------+\n",
      "\n"
     ]
    }
   ],
   "source": [
    "df.select([F.count(F.when(F.isnan(c) | F.col(c).isNull(), c)).alias(c) for c in df.columns]).show()"
   ]
  },
  {
   "cell_type": "code",
   "execution_count": 10,
   "id": "720f2601",
   "metadata": {},
   "outputs": [],
   "source": [
    "df = df.na.fill(int(df.approxQuantile('total_bedrooms', [0.5], 0)[0]))"
   ]
  },
  {
   "cell_type": "markdown",
   "id": "ae9c7066",
   "metadata": {},
   "source": [
    "Заполнили пропуски в кол-ве комнат медианой. Преобразуем категорию ocean_proximity в числовое значение"
   ]
  },
  {
   "cell_type": "code",
   "execution_count": 13,
   "id": "01951262",
   "metadata": {
    "collapsed": true
   },
   "outputs": [
    {
     "data": {
      "text/html": [
       "<div>\n",
       "<style scoped>\n",
       "    .dataframe tbody tr th:only-of-type {\n",
       "        vertical-align: middle;\n",
       "    }\n",
       "\n",
       "    .dataframe tbody tr th {\n",
       "        vertical-align: top;\n",
       "    }\n",
       "\n",
       "    .dataframe thead th {\n",
       "        text-align: right;\n",
       "    }\n",
       "</style>\n",
       "<table border=\"1\" class=\"dataframe\">\n",
       "  <thead>\n",
       "    <tr style=\"text-align: right;\">\n",
       "      <th></th>\n",
       "      <th>longitude</th>\n",
       "      <th>latitude</th>\n",
       "      <th>housing_median_age</th>\n",
       "      <th>total_rooms</th>\n",
       "      <th>total_bedrooms</th>\n",
       "      <th>population</th>\n",
       "      <th>households</th>\n",
       "      <th>median_income</th>\n",
       "      <th>median_house_value</th>\n",
       "      <th>ocean_proximity</th>\n",
       "      <th>ocean_proximity_idx</th>\n",
       "      <th>cat_feature</th>\n",
       "    </tr>\n",
       "  </thead>\n",
       "  <tbody>\n",
       "    <tr>\n",
       "      <th>0</th>\n",
       "      <td>-122.23</td>\n",
       "      <td>37.88</td>\n",
       "      <td>41.0</td>\n",
       "      <td>880.0</td>\n",
       "      <td>129.0</td>\n",
       "      <td>322.0</td>\n",
       "      <td>126.0</td>\n",
       "      <td>8.3252</td>\n",
       "      <td>452600.0</td>\n",
       "      <td>NEAR BAY</td>\n",
       "      <td>3.0</td>\n",
       "      <td>(0.0, 0.0, 0.0, 1.0)</td>\n",
       "    </tr>\n",
       "    <tr>\n",
       "      <th>1</th>\n",
       "      <td>-122.22</td>\n",
       "      <td>37.86</td>\n",
       "      <td>21.0</td>\n",
       "      <td>7099.0</td>\n",
       "      <td>1106.0</td>\n",
       "      <td>2401.0</td>\n",
       "      <td>1138.0</td>\n",
       "      <td>8.3014</td>\n",
       "      <td>358500.0</td>\n",
       "      <td>NEAR BAY</td>\n",
       "      <td>3.0</td>\n",
       "      <td>(0.0, 0.0, 0.0, 1.0)</td>\n",
       "    </tr>\n",
       "    <tr>\n",
       "      <th>2</th>\n",
       "      <td>-122.24</td>\n",
       "      <td>37.85</td>\n",
       "      <td>52.0</td>\n",
       "      <td>1467.0</td>\n",
       "      <td>190.0</td>\n",
       "      <td>496.0</td>\n",
       "      <td>177.0</td>\n",
       "      <td>7.2574</td>\n",
       "      <td>352100.0</td>\n",
       "      <td>NEAR BAY</td>\n",
       "      <td>3.0</td>\n",
       "      <td>(0.0, 0.0, 0.0, 1.0)</td>\n",
       "    </tr>\n",
       "    <tr>\n",
       "      <th>3</th>\n",
       "      <td>-122.25</td>\n",
       "      <td>37.85</td>\n",
       "      <td>52.0</td>\n",
       "      <td>1274.0</td>\n",
       "      <td>235.0</td>\n",
       "      <td>558.0</td>\n",
       "      <td>219.0</td>\n",
       "      <td>5.6431</td>\n",
       "      <td>341300.0</td>\n",
       "      <td>NEAR BAY</td>\n",
       "      <td>3.0</td>\n",
       "      <td>(0.0, 0.0, 0.0, 1.0)</td>\n",
       "    </tr>\n",
       "    <tr>\n",
       "      <th>4</th>\n",
       "      <td>-122.25</td>\n",
       "      <td>37.85</td>\n",
       "      <td>52.0</td>\n",
       "      <td>1627.0</td>\n",
       "      <td>280.0</td>\n",
       "      <td>565.0</td>\n",
       "      <td>259.0</td>\n",
       "      <td>3.8462</td>\n",
       "      <td>342200.0</td>\n",
       "      <td>NEAR BAY</td>\n",
       "      <td>3.0</td>\n",
       "      <td>(0.0, 0.0, 0.0, 1.0)</td>\n",
       "    </tr>\n",
       "  </tbody>\n",
       "</table>\n",
       "</div>"
      ],
      "text/plain": [
       "   longitude  latitude  housing_median_age  total_rooms  total_bedrooms  \\\n",
       "0    -122.23     37.88                41.0        880.0           129.0   \n",
       "1    -122.22     37.86                21.0       7099.0          1106.0   \n",
       "2    -122.24     37.85                52.0       1467.0           190.0   \n",
       "3    -122.25     37.85                52.0       1274.0           235.0   \n",
       "4    -122.25     37.85                52.0       1627.0           280.0   \n",
       "\n",
       "   population  households  median_income  median_house_value ocean_proximity  \\\n",
       "0       322.0       126.0         8.3252            452600.0        NEAR BAY   \n",
       "1      2401.0      1138.0         8.3014            358500.0        NEAR BAY   \n",
       "2       496.0       177.0         7.2574            352100.0        NEAR BAY   \n",
       "3       558.0       219.0         5.6431            341300.0        NEAR BAY   \n",
       "4       565.0       259.0         3.8462            342200.0        NEAR BAY   \n",
       "\n",
       "   ocean_proximity_idx           cat_feature  \n",
       "0                  3.0  (0.0, 0.0, 0.0, 1.0)  \n",
       "1                  3.0  (0.0, 0.0, 0.0, 1.0)  \n",
       "2                  3.0  (0.0, 0.0, 0.0, 1.0)  \n",
       "3                  3.0  (0.0, 0.0, 0.0, 1.0)  \n",
       "4                  3.0  (0.0, 0.0, 0.0, 1.0)  "
      ]
     },
     "execution_count": 13,
     "metadata": {},
     "output_type": "execute_result"
    }
   ],
   "source": [
    "numerical_cols = ['housing_median_age','total_rooms','total_bedrooms','population','households','median_income']\n",
    "categorial_cols = 'ocean_proximity'\n",
    "target = 'median_house_value'\n",
    "\n",
    "indexer = StringIndexer(inputCol=categorial_cols, \n",
    "outputCol=categorial_cols+'_idx') \n",
    "df = indexer.fit(df).transform(df)\n",
    "#OHE \n",
    "encoder = OneHotEncoder(inputCol=categorial_cols+'_idx',outputCol='cat_feature')\n",
    "df = encoder.fit(df).transform(df)\n",
    "\n",
    "df.toPandas().head(5)"
   ]
  },
  {
   "cell_type": "markdown",
   "id": "a371ef87",
   "metadata": {},
   "source": [
    "Трансформируем числовые признаки"
   ]
  },
  {
   "cell_type": "code",
   "execution_count": 16,
   "id": "d648a15d",
   "metadata": {
    "scrolled": true
   },
   "outputs": [
    {
     "name": "stdout",
     "output_type": "stream",
     "text": [
      "+-------------+-------------------------+\n",
      "|  cat_feature|numerical_features_scaled|\n",
      "+-------------+-------------------------+\n",
      "|(4,[2],[1.0])|     [4.12971097473364...|\n",
      "|(4,[2],[1.0])|     [1.50893285615267...|\n",
      "|(4,[2],[1.0])|     [1.35009781866292...|\n",
      "+-------------+-------------------------+\n",
      "only showing top 3 rows\n",
      "\n",
      "+---------+--------+------------------+-----------+--------------+----------+----------+-------------+------------------+---------------+-------------------+-------------+--------------------+-------------------------+--------------------+\n",
      "|longitude|latitude|housing_median_age|total_rooms|total_bedrooms|population|households|median_income|median_house_value|ocean_proximity|ocean_proximity_idx|  cat_feature|  numerical_features|numerical_features_scaled|            features|\n",
      "+---------+--------+------------------+-----------+--------------+----------+----------+-------------+------------------+---------------+-------------------+-------------+--------------------+-------------------------+--------------------+\n",
      "|  -124.35|   40.54|              52.0|     1820.0|         300.0|     806.0|     270.0|       3.0147|           94600.0|     NEAR OCEAN|                2.0|(4,[2],[1.0])|[52.0,1820.0,300....|     [4.12971097473364...|[0.0,0.0,1.0,0.0,...|\n",
      "|   -124.3|    41.8|              19.0|     2672.0|         552.0|    1298.0|     478.0|       1.9797|           85800.0|     NEAR OCEAN|                2.0|(4,[2],[1.0])|[19.0,2672.0,552....|     [1.50893285615267...|[0.0,0.0,1.0,0.0,...|\n",
      "|   -124.3|   41.84|              17.0|     2677.0|         531.0|    1244.0|     456.0|       3.0313|          103600.0|     NEAR OCEAN|                2.0|(4,[2],[1.0])|[17.0,2677.0,531....|     [1.35009781866292...|[0.0,0.0,1.0,0.0,...|\n",
      "+---------+--------+------------------+-----------+--------------+----------+----------+-------------+------------------+---------------+-------------------+-------------+--------------------+-------------------------+--------------------+\n",
      "only showing top 3 rows\n",
      "\n"
     ]
    }
   ],
   "source": [
    "train_data, test_data = df.randomSplit([.8,.2], seed=RANDOM_SEED)\n",
    "\n",
    "numerical_assembler = VectorAssembler(inputCols=numerical_cols,outputCol=\"numerical_features\")\n",
    "train_data = numerical_assembler.transform(train_data)\n",
    "standardScaler = StandardScaler(inputCol='numerical_features',\n",
    "                              outputCol=\"numerical_features_scaled\")\n",
    "train_data = standardScaler.fit(train_data).transform(train_data)\n",
    "all_features = ['cat_feature','numerical_features_scaled']\n",
    "\n",
    "final_assembler = VectorAssembler(inputCols=all_features, \n",
    "                                  outputCol=\"features\") \n",
    "train_data = final_assembler.transform(train_data)\n",
    "\n",
    "test_data = numerical_assembler.transform(test_data)\n",
    "test_data = standardScaler.fit(test_data).transform(test_data)\n",
    "test_data = final_assembler.transform(test_data)\n",
    "\n",
    "train_data.select(all_features).show(3)\n",
    "train_data.show(3)"
   ]
  },
  {
   "cell_type": "markdown",
   "id": "9f0a82f3",
   "metadata": {
    "id": "9f0a82f3"
   },
   "source": [
    "# Обучение моделей"
   ]
  },
  {
   "cell_type": "code",
   "execution_count": 13,
   "id": "bddb08c4",
   "metadata": {
    "id": "bddb08c4"
   },
   "outputs": [
    {
     "name": "stdout",
     "output_type": "stream",
     "text": [
      "16431 4209\n"
     ]
    },
    {
     "name": "stderr",
     "output_type": "stream",
     "text": [
      "22/11/12 08:32:53 WARN Instrumentation: [8a58bc9b] regParam is zero, which might cause numerical instability and overfitting.\n",
      "                                                                                \r"
     ]
    },
    {
     "name": "stdout",
     "output_type": "stream",
     "text": [
      "+------------------+------------------+\n",
      "|median_house_value|        prediction|\n",
      "+------------------+------------------+\n",
      "|          106700.0|234648.59882537296|\n",
      "|          128900.0| 229397.8691104067|\n",
      "|          116100.0|257398.93248751463|\n",
      "|           70500.0| 188525.5161073701|\n",
      "|           85600.0|212834.34324941318|\n",
      "+------------------+------------------+\n",
      "only showing top 5 rows\n",
      "\n",
      "CPU times: user 19.9 ms, sys: 5.36 ms, total: 25.3 ms\n",
      "Wall time: 4.49 s\n"
     ]
    }
   ],
   "source": [
    "%%time\n",
    "train_data, test_data = df.randomSplit([.8,.2], seed=RANDOM_SEED)\n",
    "print(train_data.count(), test_data.count())\n",
    "# model training using all features\n",
    "lr_all = LinearRegression(labelCol=target, featuresCol='features')\n",
    "model_all = lr_all.fit(train_data)\n",
    "predictions_all = model_all.transform(test_data)\n",
    "\n",
    "predictedLabes_all = predictions_all.select(target, \"prediction\")\n",
    "predictedLabes_all.show(5)"
   ]
  },
  {
   "cell_type": "code",
   "execution_count": 12,
   "id": "6cf14c0a",
   "metadata": {},
   "outputs": [
    {
     "name": "stderr",
     "output_type": "stream",
     "text": [
      "22/11/12 08:32:44 WARN Instrumentation: [f156b1a6] regParam is zero, which might cause numerical instability and overfitting.\n",
      "22/11/12 08:32:45 WARN BLAS: Failed to load implementation from: com.github.fommil.netlib.NativeSystemBLAS\n",
      "22/11/12 08:32:45 WARN BLAS: Failed to load implementation from: com.github.fommil.netlib.NativeRefBLAS\n",
      "22/11/12 08:32:45 WARN LAPACK: Failed to load implementation from: com.github.fommil.netlib.NativeSystemLAPACK\n",
      "22/11/12 08:32:45 WARN LAPACK: Failed to load implementation from: com.github.fommil.netlib.NativeRefLAPACK\n",
      "                                                                                \r"
     ]
    },
    {
     "name": "stdout",
     "output_type": "stream",
     "text": [
      "+------------------+------------------+\n",
      "|median_house_value|        prediction|\n",
      "+------------------+------------------+\n",
      "|          106700.0|204973.19455590227|\n",
      "|          128900.0|182059.91676221372|\n",
      "|          116100.0|213770.97939171502|\n",
      "|           70500.0|152686.01998715577|\n",
      "|           85600.0| 176219.0845495657|\n",
      "+------------------+------------------+\n",
      "only showing top 5 rows\n",
      "\n",
      "CPU times: user 30.8 ms, sys: 0 ns, total: 30.8 ms\n",
      "Wall time: 4.86 s\n"
     ]
    }
   ],
   "source": [
    "%%time\n",
    "lr_num = LinearRegression(labelCol=target, featuresCol='numerical_features_scaled')\n",
    "model_num = lr_num.fit(train_data)\n",
    "predictions_num = model_num.transform(test_data)\n",
    " \n",
    "predictedLabes_num = predictions_num.select(target, \"prediction\")\n",
    "predictedLabes_num.show(5) "
   ]
  },
  {
   "cell_type": "markdown",
   "id": "757fd103",
   "metadata": {
    "id": "757fd103"
   },
   "source": [
    "# Анализ результатов"
   ]
  },
  {
   "cell_type": "code",
   "execution_count": 25,
   "id": "57af6707",
   "metadata": {},
   "outputs": [
    {
     "name": "stdout",
     "output_type": "stream",
     "text": [
      "RMSE всех признаков = 68480.9925939211\n",
      "RMSE числовых признаков = 74220.03657063161\n"
     ]
    }
   ],
   "source": [
    "metrics = RegressionMetrics(predictedLabes_all.rdd)\n",
    "print(\"RMSE всех признаков = %s\" % metrics.rootMeanSquaredError)\n",
    "\n",
    "metrics = RegressionMetrics(predictedLabes_num.rdd)\n",
    "print(\"RMSE числовых признаков = %s\" % metrics.rootMeanSquaredError)"
   ]
  },
  {
   "cell_type": "code",
   "execution_count": 29,
   "id": "8c72db0e",
   "metadata": {},
   "outputs": [
    {
     "name": "stdout",
     "output_type": "stream",
     "text": [
      "MAE всех признаков = 49644.355043246964\n",
      "MAE числовых признаков = 54892.3346696914\n"
     ]
    }
   ],
   "source": [
    "metrics = RegressionMetrics(predictedLabes_all.rdd)\n",
    "print(\"MAE всех признаков = %s\" % metrics.meanAbsoluteError)\n",
    "\n",
    "metrics = RegressionMetrics(predictedLabes_num.rdd)\n",
    "print(\"MAE числовых признаков = %s\" % metrics.meanAbsoluteError)"
   ]
  },
  {
   "cell_type": "code",
   "execution_count": 28,
   "id": "845dbdae",
   "metadata": {},
   "outputs": [
    {
     "name": "stdout",
     "output_type": "stream",
     "text": [
      "r2 всех признаков = 0.4340444213798942\n",
      "r2 числовых признаков = 0.2249154048296097\n"
     ]
    }
   ],
   "source": [
    "metrics = RegressionMetrics(predictedLabes_all.rdd)\n",
    "print(\"r2 всех признаков = %s\" % metrics.r2)\n",
    "\n",
    "metrics = RegressionMetrics(predictedLabes_num.rdd)\n",
    "print(\"r2 числовых признаков = %s\" % metrics.r2)"
   ]
  },
  {
   "cell_type": "code",
   "execution_count": 6,
   "id": "dc15bd47",
   "metadata": {},
   "outputs": [],
   "source": [
    "spark.stop()"
   ]
  },
  {
   "cell_type": "markdown",
   "id": "3436237d",
   "metadata": {},
   "source": [
    "Видим, что MAE и RMSE мы получили меньшими на данных со всеми признаками, однако коэффициент зависимости r2 на числовых признаках получился в два раза меньше у числовых признаков, чем на всех признаках. "
   ]
  }
 ],
 "metadata": {
  "ExecuteTimeLog": [
   {
    "duration": 229,
    "start_time": "2022-11-11T10:34:36.785Z"
   },
   {
    "duration": 245,
    "start_time": "2022-11-11T10:35:09.045Z"
   },
   {
    "duration": 17484,
    "start_time": "2022-11-11T10:35:53.575Z"
   },
   {
    "duration": 52,
    "start_time": "2022-11-11T10:41:38.401Z"
   },
   {
    "duration": 8128,
    "start_time": "2022-11-11T10:47:33.234Z"
   },
   {
    "duration": 14,
    "start_time": "2022-11-11T10:47:59.370Z"
   },
   {
    "duration": 856,
    "start_time": "2022-11-11T10:48:07.535Z"
   },
   {
    "duration": 456,
    "start_time": "2022-11-11T10:48:17.428Z"
   },
   {
    "duration": 4597,
    "start_time": "2022-11-11T10:51:30.383Z"
   },
   {
    "duration": 2265,
    "start_time": "2022-11-11T10:52:20.189Z"
   },
   {
    "duration": 1782,
    "start_time": "2022-11-11T10:52:29.601Z"
   },
   {
    "duration": 1158,
    "start_time": "2022-11-11T10:52:46.613Z"
   },
   {
    "duration": 271,
    "start_time": "2022-11-12T07:07:09.019Z"
   },
   {
    "duration": 15853,
    "start_time": "2022-11-12T07:07:09.291Z"
   },
   {
    "duration": 9108,
    "start_time": "2022-11-12T07:07:25.147Z"
   },
   {
    "duration": 5700,
    "start_time": "2022-11-12T07:07:34.257Z"
   },
   {
    "duration": 761,
    "start_time": "2022-11-12T07:18:35.602Z"
   },
   {
    "duration": 282,
    "start_time": "2022-11-12T07:22:41.937Z"
   },
   {
    "duration": 74,
    "start_time": "2022-11-12T07:23:40.102Z"
   },
   {
    "duration": 784,
    "start_time": "2022-11-12T07:23:53.576Z"
   },
   {
    "duration": 737,
    "start_time": "2022-11-12T07:23:56.105Z"
   },
   {
    "duration": 9,
    "start_time": "2022-11-12T07:25:12.377Z"
   },
   {
    "duration": 4,
    "start_time": "2022-11-12T07:25:59.797Z"
   },
   {
    "duration": 2188,
    "start_time": "2022-11-12T07:35:53.657Z"
   },
   {
    "duration": 99,
    "start_time": "2022-11-12T07:36:09.428Z"
   },
   {
    "duration": 2089,
    "start_time": "2022-11-12T07:36:23.701Z"
   },
   {
    "duration": 2075,
    "start_time": "2022-11-12T07:36:47.276Z"
   },
   {
    "duration": 563,
    "start_time": "2022-11-12T08:30:15.931Z"
   },
   {
    "duration": 14947,
    "start_time": "2022-11-12T08:30:17.291Z"
   },
   {
    "duration": 4,
    "start_time": "2022-11-12T08:31:58.765Z"
   },
   {
    "duration": 7997,
    "start_time": "2022-11-12T08:31:58.771Z"
   },
   {
    "duration": 5249,
    "start_time": "2022-11-12T08:32:06.832Z"
   },
   {
    "duration": 758,
    "start_time": "2022-11-12T08:32:12.083Z"
   },
   {
    "duration": 822,
    "start_time": "2022-11-12T08:32:12.842Z"
   },
   {
    "duration": 3609,
    "start_time": "2022-11-12T08:32:13.733Z"
   },
   {
    "duration": 2090,
    "start_time": "2022-11-12T08:32:17.343Z"
   },
   {
    "duration": 2964,
    "start_time": "2022-11-12T08:32:19.436Z"
   },
   {
    "duration": 55,
    "start_time": "2022-11-12T08:32:22.402Z"
   },
   {
    "duration": 4867,
    "start_time": "2022-11-12T08:32:43.925Z"
   },
   {
    "duration": 4497,
    "start_time": "2022-11-12T08:32:52.121Z"
   },
   {
    "duration": 7,
    "start_time": "2022-11-12T08:33:23.552Z"
   },
   {
    "duration": 9,
    "start_time": "2022-11-12T08:33:28.607Z"
   },
   {
    "duration": 9,
    "start_time": "2022-11-12T08:35:31.260Z"
   },
   {
    "duration": 12,
    "start_time": "2022-11-12T08:36:36.880Z"
   },
   {
    "duration": 43,
    "start_time": "2022-11-12T08:37:14.862Z"
   },
   {
    "duration": 2572,
    "start_time": "2022-11-12T08:39:33.871Z"
   },
   {
    "duration": 1247,
    "start_time": "2022-11-12T08:40:23.888Z"
   },
   {
    "duration": 989,
    "start_time": "2022-11-12T08:40:32.252Z"
   },
   {
    "duration": 2362,
    "start_time": "2022-11-12T08:41:06.297Z"
   },
   {
    "duration": 1673,
    "start_time": "2022-11-12T08:41:08.662Z"
   },
   {
    "duration": 1412,
    "start_time": "2022-11-12T08:41:10.337Z"
   },
   {
    "duration": 1219,
    "start_time": "2022-11-12T08:41:32.143Z"
   },
   {
    "duration": 1063,
    "start_time": "2022-11-12T08:41:54.875Z"
   },
   {
    "duration": 1292,
    "start_time": "2022-11-12T08:41:56.121Z"
   },
   {
    "duration": 1074,
    "start_time": "2022-11-12T08:48:04.770Z"
   },
   {
    "duration": 1323,
    "start_time": "2022-11-12T08:48:05.846Z"
   },
   {
    "duration": 547,
    "start_time": "2022-11-13T09:41:38.301Z"
   },
   {
    "duration": 14573,
    "start_time": "2022-11-13T09:41:40.614Z"
   },
   {
    "duration": 7874,
    "start_time": "2022-11-13T09:41:55.189Z"
   },
   {
    "duration": 5305,
    "start_time": "2022-11-13T09:42:03.064Z"
   },
   {
    "duration": 1303,
    "start_time": "2022-11-13T09:42:08.371Z"
   },
   {
    "duration": 831,
    "start_time": "2022-11-13T09:45:09.760Z"
   },
   {
    "duration": 786,
    "start_time": "2022-11-13T09:45:16.063Z"
   },
   {
    "duration": 42,
    "start_time": "2022-11-13T09:46:11.656Z"
   },
   {
    "duration": 801,
    "start_time": "2022-11-13T09:46:18.749Z"
   },
   {
    "duration": 442,
    "start_time": "2022-11-13T09:46:45.321Z"
   },
   {
    "duration": 747,
    "start_time": "2022-11-13T09:46:51.412Z"
   },
   {
    "duration": 20,
    "start_time": "2022-11-13T09:49:01.342Z"
   },
   {
    "duration": 3241,
    "start_time": "2022-11-13T09:49:04.130Z"
   },
   {
    "duration": 11,
    "start_time": "2022-11-13T09:49:09.936Z"
   },
   {
    "duration": 1760,
    "start_time": "2022-11-13T09:49:50.517Z"
   },
   {
    "duration": 2867,
    "start_time": "2022-11-13T09:50:55.202Z"
   },
   {
    "duration": 607,
    "start_time": "2022-11-13T17:52:22.915Z"
   },
   {
    "duration": 15406,
    "start_time": "2022-11-13T17:52:23.524Z"
   },
   {
    "duration": 9313,
    "start_time": "2022-11-13T17:52:38.933Z"
   },
   {
    "duration": 6012,
    "start_time": "2022-11-13T17:52:48.249Z"
   },
   {
    "duration": 1466,
    "start_time": "2022-11-13T17:52:54.263Z"
   },
   {
    "duration": 85,
    "start_time": "2022-11-13T17:58:14.850Z"
   }
  ],
  "colab": {
   "name": "PySparkSprint.ipynb",
   "provenance": []
  },
  "kernelspec": {
   "display_name": "Python 3 (ipykernel)",
   "language": "python",
   "name": "python3"
  },
  "language_info": {
   "codemirror_mode": {
    "name": "ipython",
    "version": 3
   },
   "file_extension": ".py",
   "mimetype": "text/x-python",
   "name": "python",
   "nbconvert_exporter": "python",
   "pygments_lexer": "ipython3",
   "version": "3.9.7"
  },
  "toc": {
   "base_numbering": 1,
   "nav_menu": {},
   "number_sections": true,
   "sideBar": true,
   "skip_h1_title": true,
   "title_cell": "Table of Contents",
   "title_sidebar": "Contents",
   "toc_cell": false,
   "toc_position": {},
   "toc_section_display": true,
   "toc_window_display": false
  }
 },
 "nbformat": 4,
 "nbformat_minor": 5
}
