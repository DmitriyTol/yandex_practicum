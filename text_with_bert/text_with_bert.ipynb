{
 "cells": [
  {
   "cell_type": "markdown",
   "id": "01925013",
   "metadata": {},
   "source": [
    "# Проект с BERT"
   ]
  },
  {
   "cell_type": "markdown",
   "id": "281d9a4b",
   "metadata": {},
   "source": [
    "Интернет-магазин «Викишоп» запускает новый сервис. Теперь пользователи могут редактировать и дополнять описания товаров, как в вики-сообществах. То есть клиенты предлагают свои правки и комментируют изменения других. Магазину нужен инструмент, который будет искать токсичные комментарии и отправлять их на модерацию. \n",
    "\n",
    "Обучим модель классифицировать комментарии на позитивные и негативные. В нашем распоряжении набор данных с разметкой о токсичности правок.\n",
    "\n",
    "Построим модель и добьемся на ней значения метрики качества F1 не меньше 0.75. "
   ]
  },
  {
   "cell_type": "markdown",
   "id": "49246467",
   "metadata": {},
   "source": [
    "## Загрузка и предобработка данных"
   ]
  },
  {
   "cell_type": "code",
   "execution_count": 1,
   "id": "34b7f173",
   "metadata": {},
   "outputs": [],
   "source": [
    "import numpy as np\n",
    "import pandas as pd\n",
    "import torch\n",
    "from transformers import BertTokenizer, BertConfig, BertModel\n",
    "from tqdm import notebook\n",
    "from sklearn.linear_model import LogisticRegression\n",
    "from sklearn.model_selection import cross_val_score\n",
    "from sklearn.model_selection import train_test_split\n",
    "from sklearn.utils import shuffle\n",
    "from sklearn.metrics import f1_score\n",
    "from sklearn.model_selection import GridSearchCV\n",
    "from sklearn.ensemble import RandomForestClassifier\n",
    "from sklearn.model_selection import train_test_split\n",
    "from sklearn.metrics import f1_score\n",
    "from sklearn.tree import DecisionTreeClassifier"
   ]
  },
  {
   "cell_type": "code",
   "execution_count": 2,
   "id": "fc4c90cc",
   "metadata": {},
   "outputs": [
    {
     "data": {
      "application/vnd.jupyter.widget-view+json": {
       "model_id": "6b0c0b88d8044afe83a071298b3f0d81",
       "version_major": 2,
       "version_minor": 0
      },
      "text/plain": [
       "Downloading (…)solve/main/vocab.txt:   0%|          | 0.00/232k [00:00<?, ?B/s]"
      ]
     },
     "metadata": {},
     "output_type": "display_data"
    },
    {
     "name": "stderr",
     "output_type": "stream",
     "text": [
      "D:\\anaconda\\lib\\site-packages\\huggingface_hub\\file_download.py:133: UserWarning: `huggingface_hub` cache-system uses symlinks by default to efficiently store duplicated files but your machine does not support them in C:\\Users\\casa\\.cache\\huggingface\\hub. Caching files will still work but in a degraded version that might require more space on your disk. This warning can be disabled by setting the `HF_HUB_DISABLE_SYMLINKS_WARNING` environment variable. For more details, see https://huggingface.co/docs/huggingface_hub/how-to-cache#limitations.\n",
      "To support symlinks on Windows, you either need to activate Developer Mode or to run Python as an administrator. In order to see activate developer mode, see this article: https://docs.microsoft.com/en-us/windows/apps/get-started/enable-your-device-for-development\n",
      "  warnings.warn(message)\n"
     ]
    },
    {
     "data": {
      "application/vnd.jupyter.widget-view+json": {
       "model_id": "28893429960e4d2497494f2c8a9a488b",
       "version_major": 2,
       "version_minor": 0
      },
      "text/plain": [
       "Downloading (…)cial_tokens_map.json:   0%|          | 0.00/112 [00:00<?, ?B/s]"
      ]
     },
     "metadata": {},
     "output_type": "display_data"
    },
    {
     "data": {
      "application/vnd.jupyter.widget-view+json": {
       "model_id": "b76af4df2a5e460ba3669cf710404cc3",
       "version_major": 2,
       "version_minor": 0
      },
      "text/plain": [
       "Downloading (…)okenizer_config.json:   0%|          | 0.00/174 [00:00<?, ?B/s]"
      ]
     },
     "metadata": {},
     "output_type": "display_data"
    },
    {
     "data": {
      "application/vnd.jupyter.widget-view+json": {
       "model_id": "688cb09d8faf4574a2ac01c3d595dac8",
       "version_major": 2,
       "version_minor": 0
      },
      "text/plain": [
       "Downloading (…)lve/main/config.json:   0%|          | 0.00/811 [00:00<?, ?B/s]"
      ]
     },
     "metadata": {},
     "output_type": "display_data"
    }
   ],
   "source": [
    "tokenizer = BertTokenizer.from_pretrained(\"unitary/toxic-bert\")"
   ]
  },
  {
   "cell_type": "code",
   "execution_count": 3,
   "id": "2cf2f33c",
   "metadata": {
    "scrolled": true
   },
   "outputs": [
    {
     "name": "stdout",
     "output_type": "stream",
     "text": [
      "<class 'pandas.core.frame.DataFrame'>\n",
      "Int64Index: 159292 entries, 0 to 159450\n",
      "Data columns (total 2 columns):\n",
      " #   Column  Non-Null Count   Dtype \n",
      "---  ------  --------------   ----- \n",
      " 0   text    159292 non-null  object\n",
      " 1   toxic   159292 non-null  int64 \n",
      "dtypes: int64(1), object(1)\n",
      "memory usage: 3.6+ MB\n"
     ]
    }
   ],
   "source": [
    "comments = pd.read_csv('D:\\\\data\\\\toxic_comments.csv', index_col=[0])\n",
    "comments.info()"
   ]
  },
  {
   "cell_type": "code",
   "execution_count": 19,
   "id": "441c8805",
   "metadata": {},
   "outputs": [],
   "source": [
    "comments = comments.sample(1000).reset_index(drop=True) "
   ]
  },
  {
   "cell_type": "markdown",
   "id": "566af739",
   "metadata": {},
   "source": [
    "Токенизируем текст, чтобы разбить его на эмбединги"
   ]
  },
  {
   "cell_type": "code",
   "execution_count": 7,
   "id": "298b33ad",
   "metadata": {},
   "outputs": [],
   "source": [
    "tokenized = comments['text'].apply(\n",
    "    lambda x: tokenizer.encode(x, add_special_tokens=True, truncation=True, max_length=512))\n",
    "\n",
    "max_len = 0\n",
    "for i in tokenized.values:\n",
    "    if len(i) > max_len:\n",
    "        max_len = len(i)\n",
    "\n",
    "padded = np.array([i + [0]*(max_len - len(i)) for i in tokenized.values])\n",
    "\n",
    "attention_mask = np.where(padded != 0, 1, 0)"
   ]
  },
  {
   "cell_type": "code",
   "execution_count": 8,
   "id": "d5f1c680",
   "metadata": {},
   "outputs": [
    {
     "data": {
      "application/vnd.jupyter.widget-view+json": {
       "model_id": "2031677e809342a1b6106b335402775b",
       "version_major": 2,
       "version_minor": 0
      },
      "text/plain": [
       "Downloading pytorch_model.bin:   0%|          | 0.00/438M [00:00<?, ?B/s]"
      ]
     },
     "metadata": {},
     "output_type": "display_data"
    },
    {
     "name": "stderr",
     "output_type": "stream",
     "text": [
      "Some weights of the model checkpoint at unitary/toxic-bert were not used when initializing BertModel: ['classifier.bias', 'classifier.weight']\n",
      "- This IS expected if you are initializing BertModel from the checkpoint of a model trained on another task or with another architecture (e.g. initializing a BertForSequenceClassification model from a BertForPreTraining model).\n",
      "- This IS NOT expected if you are initializing BertModel from the checkpoint of a model that you expect to be exactly identical (initializing a BertForSequenceClassification model from a BertForSequenceClassification model).\n"
     ]
    }
   ],
   "source": [
    "configuration = BertConfig()\n",
    "\n",
    "model = BertModel.from_pretrained(\"unitary/toxic-bert\")"
   ]
  },
  {
   "cell_type": "code",
   "execution_count": 9,
   "id": "83346a48",
   "metadata": {
    "scrolled": true
   },
   "outputs": [
    {
     "data": {
      "application/vnd.jupyter.widget-view+json": {
       "model_id": "0c9dcc4634394cd3a11d8edc1f812ab5",
       "version_major": 2,
       "version_minor": 0
      },
      "text/plain": [
       "  0%|          | 0/10 [00:00<?, ?it/s]"
      ]
     },
     "metadata": {},
     "output_type": "display_data"
    }
   ],
   "source": [
    "batch_size = 100\n",
    "embeddings = []\n",
    "for i in notebook.tqdm(range(padded.shape[0] // batch_size)):\n",
    "        batch = torch.LongTensor(padded[batch_size*i:batch_size*(i+1)]) \n",
    "        attention_mask_batch = torch.LongTensor(attention_mask[batch_size*i:batch_size*(i+1)])\n",
    "        \n",
    "        with torch.no_grad():\n",
    "            batch_embeddings = model(batch, attention_mask=attention_mask_batch)\n",
    "        \n",
    "        embeddings.append(batch_embeddings[0][:,0,:].numpy())"
   ]
  },
  {
   "cell_type": "code",
   "execution_count": 10,
   "id": "652b8709",
   "metadata": {},
   "outputs": [
    {
     "name": "stdout",
     "output_type": "stream",
     "text": [
      "(1000, 768) (1000,)\n"
     ]
    }
   ],
   "source": [
    "features = np.concatenate(embeddings)\n",
    "target = comments['toxic']\n",
    "\n",
    "print(features.shape, target.shape)"
   ]
  },
  {
   "cell_type": "markdown",
   "id": "af3d4088",
   "metadata": {},
   "source": [
    "Теперь разделим выборку на обучающую и тестовую и приступим к обучению моделей."
   ]
  },
  {
   "cell_type": "code",
   "execution_count": 11,
   "id": "5756b07f",
   "metadata": {},
   "outputs": [],
   "source": [
    "features_train, features_test, target_train, target_test = train_test_split(\n",
    "    features,target,test_size=0.2,shuffle=True,random_state=42)"
   ]
  },
  {
   "cell_type": "markdown",
   "id": "b9e987ee",
   "metadata": {},
   "source": [
    "### RandomForrestClassifier"
   ]
  },
  {
   "cell_type": "code",
   "execution_count": 12,
   "id": "a27d1c62",
   "metadata": {},
   "outputs": [],
   "source": [
    "param_grid_ = { # словарь параетров\n",
    "    'max_depth':[5,7,9,11,13,15,17,19,20],\n",
    "    'min_samples_leaf':[2,4,6,8],    \n",
    "    'n_estimators': [10, 20, 30, 40, 50],\n",
    "    'max_features': ['log2'],    \n",
    "    'criterion' : ['gini']\n",
    "}"
   ]
  },
  {
   "cell_type": "code",
   "execution_count": 14,
   "id": "64b12027",
   "metadata": {},
   "outputs": [
    {
     "name": "stdout",
     "output_type": "stream",
     "text": [
      "0.966993490532912\n",
      "Wall time: 1min 1s\n"
     ]
    }
   ],
   "source": [
    "%%time\n",
    "rfc = RandomForestClassifier(random_state=42)\n",
    "cv_rfc = GridSearchCV(estimator=rfc,\n",
    "                       param_grid=param_grid_,\n",
    "                       cv=5,\n",
    "                       scoring='f1'\n",
    ")\n",
    "cv_rfc.fit(features_train, target_train)\n",
    "#preds_rfc = grid_CV_rfc.best_estimator_.predict(X_train)\n",
    "print(cv_rfc.best_score_)"
   ]
  },
  {
   "cell_type": "markdown",
   "id": "712fa129",
   "metadata": {},
   "source": [
    "### DecisionTreeClassifier"
   ]
  },
  {
   "cell_type": "code",
   "execution_count": 15,
   "id": "4c44e0e9",
   "metadata": {},
   "outputs": [
    {
     "name": "stdout",
     "output_type": "stream",
     "text": [
      "0.9578521459633201\n",
      "Wall time: 1min 24s\n"
     ]
    }
   ],
   "source": [
    "%%time\n",
    "dtf = DecisionTreeClassifier(random_state=42)#Исследуем модель дерева решений\n",
    "param_grid_dtf = { # словарь параметров\n",
    "    'max_depth':[5,7,9,11,13,15,17,19,20],\n",
    "    'min_samples_leaf':[1, 2, 3, 4, 6, 8],\n",
    "    'min_samples_split' : [2, 3, 4, 5]\n",
    "}\n",
    "\n",
    "#воспользуемся методом GridSearchCV для подбора параметров\n",
    "cv_dtf = GridSearchCV(estimator=dtf,\n",
    "                       param_grid=param_grid_dtf,\n",
    "                       cv=5,\n",
    "                       scoring='f1'\n",
    ")\n",
    "cv_dtf.fit(features_train, target_train)\n",
    "\n",
    "\n",
    "print(cv_dtf.best_score_)"
   ]
  },
  {
   "cell_type": "markdown",
   "id": "51d715bb",
   "metadata": {},
   "source": [
    "### LogisticRegression"
   ]
  },
  {
   "cell_type": "code",
   "execution_count": 17,
   "id": "68074fe4",
   "metadata": {
    "scrolled": true
   },
   "outputs": [
    {
     "name": "stdout",
     "output_type": "stream",
     "text": [
      "0.9626583104843975\n"
     ]
    }
   ],
   "source": [
    "param = { 'C': range(1, 11, 2), 'class_weight': [None, 'balanced'] }\n",
    "model_lr = LogisticRegression()\n",
    "\n",
    "# инициализируем GridSearchCV\n",
    "cv_lr = GridSearchCV(estimator = model_lr, \n",
    "                           param_grid = param, \n",
    "                           cv = 3,\n",
    "                           n_jobs = -1, \n",
    "                           verbose = 0, \n",
    "                           scoring = 'f1',\n",
    "                          )\n",
    "cv_lr.fit(features_train, target_train)    \n",
    "print(cv_lr.best_score_)"
   ]
  },
  {
   "cell_type": "markdown",
   "id": "64966972",
   "metadata": {},
   "source": [
    "## Проверим лучшую модель на тестовой выборке"
   ]
  },
  {
   "cell_type": "code",
   "execution_count": 18,
   "id": "e2e14d0e",
   "metadata": {
    "scrolled": true
   },
   "outputs": [
    {
     "data": {
      "text/plain": [
       "0.9090909090909091"
      ]
     },
     "execution_count": 18,
     "metadata": {},
     "output_type": "execute_result"
    }
   ],
   "source": [
    "f1_score(target_test, cv_rfc.predict(features_test))"
   ]
  },
  {
   "cell_type": "markdown",
   "id": "71e7f55a",
   "metadata": {},
   "source": [
    "# Вывод"
   ]
  },
  {
   "cell_type": "markdown",
   "id": "c8da265f",
   "metadata": {},
   "source": [
    "Для предобработки текста мы взяли предобученную модель BERT на токсичных комментариях.\n",
    "Воспользовавшись ей, разбили текст на эмбеддинги, применили разные модели классификации, добились требуемого значения метрики\n",
    "`f1` - 0.9091"
   ]
  }
 ],
 "metadata": {
  "ExecuteTimeLog": [
   {
    "duration": 54,
    "start_time": "2023-04-03T19:40:07.164Z"
   },
   {
    "duration": 6793,
    "start_time": "2023-04-03T19:40:09.726Z"
   },
   {
    "duration": 7871,
    "start_time": "2023-04-03T19:40:16.521Z"
   },
   {
    "duration": 283,
    "start_time": "2023-04-03T19:40:24.394Z"
   },
   {
    "duration": 57,
    "start_time": "2023-04-04T09:47:12.604Z"
   },
   {
    "duration": 7366,
    "start_time": "2023-04-04T09:47:14.942Z"
   },
   {
    "duration": 4,
    "start_time": "2023-04-04T09:48:49.338Z"
   },
   {
    "duration": 6946,
    "start_time": "2023-04-04T09:49:08.597Z"
   },
   {
    "duration": 357,
    "start_time": "2023-04-04T09:49:23.591Z"
   }
  ],
  "kernelspec": {
   "display_name": "Python 3 (ipykernel)",
   "language": "python",
   "name": "python3"
  },
  "language_info": {
   "codemirror_mode": {
    "name": "ipython",
    "version": 3
   },
   "file_extension": ".py",
   "mimetype": "text/x-python",
   "name": "python",
   "nbconvert_exporter": "python",
   "pygments_lexer": "ipython3",
   "version": "3.9.7"
  },
  "toc": {
   "base_numbering": 1,
   "nav_menu": {},
   "number_sections": true,
   "sideBar": true,
   "skip_h1_title": true,
   "title_cell": "Table of Contents",
   "title_sidebar": "Contents",
   "toc_cell": false,
   "toc_position": {},
   "toc_section_display": true,
   "toc_window_display": false
  }
 },
 "nbformat": 4,
 "nbformat_minor": 5
}
