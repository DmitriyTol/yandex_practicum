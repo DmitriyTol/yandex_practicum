{
 "cells": [
  {
   "cell_type": "markdown",
   "metadata": {},
   "source": [
    "# Определение перспективного тарифа для телеком-компании"
   ]
  },
  {
   "cell_type": "markdown",
   "metadata": {},
   "source": [
    "Мы выполняем исследования для компании \"Мегалайн\". Клиентам предлагают два тарифных плана: «Смарт» и «Ультра». Чтобы скорректировать рекламный бюджет, коммерческий департамент хочет понять, какой тариф приносит больше денег.\n",
    "\n",
    "Нам предстоит сделать предварительный анализ тарифов на небольшой выборке клиентов. В нашем распоряжении данные 500 пользователей «Мегалайна»: кто они, откуда, каким тарифом пользуются, сколько звонков и сообщений каждый отправил за 2018 год. Нужно проанализировать поведение клиентов и сделать вывод — какой тариф лучше."
   ]
  },
  {
   "cell_type": "markdown",
   "metadata": {},
   "source": [
    "## Первичная обработка данных"
   ]
  },
  {
   "cell_type": "code",
   "execution_count": 2,
   "metadata": {},
   "outputs": [],
   "source": [
    "import pandas as pd  #импортируем основные библиотеки\n",
    "from scipy import stats as st\n",
    "import numpy as np\n",
    "import seaborn as sns\n",
    "import matplotlib.pyplot as plt"
   ]
  },
  {
   "cell_type": "code",
   "execution_count": 3,
   "metadata": {},
   "outputs": [],
   "source": [
    "data_calls = pd.read_csv('/datasets/calls.csv')\n",
    "data_internet = pd.read_csv('/datasets/internet.csv')\n",
    "data_messages = pd.read_csv('/datasets/messages.csv')\n",
    "data_tariffs = pd.read_csv('/datasets/tariffs.csv')\n",
    "data_users = pd.read_csv('/datasets/users.csv')"
   ]
  },
  {
   "cell_type": "code",
   "execution_count": 4,
   "metadata": {},
   "outputs": [
    {
     "name": "stdout",
     "output_type": "stream",
     "text": [
      "<class 'pandas.core.frame.DataFrame'>\n",
      "RangeIndex: 202607 entries, 0 to 202606\n",
      "Data columns (total 4 columns):\n",
      " #   Column     Non-Null Count   Dtype  \n",
      "---  ------     --------------   -----  \n",
      " 0   id         202607 non-null  object \n",
      " 1   call_date  202607 non-null  object \n",
      " 2   duration   202607 non-null  float64\n",
      " 3   user_id    202607 non-null  int64  \n",
      "dtypes: float64(1), int64(1), object(2)\n",
      "memory usage: 6.2+ MB\n"
     ]
    },
    {
     "data": {
      "text/html": [
       "<div>\n",
       "<style scoped>\n",
       "    .dataframe tbody tr th:only-of-type {\n",
       "        vertical-align: middle;\n",
       "    }\n",
       "\n",
       "    .dataframe tbody tr th {\n",
       "        vertical-align: top;\n",
       "    }\n",
       "\n",
       "    .dataframe thead th {\n",
       "        text-align: right;\n",
       "    }\n",
       "</style>\n",
       "<table border=\"1\" class=\"dataframe\">\n",
       "  <thead>\n",
       "    <tr style=\"text-align: right;\">\n",
       "      <th></th>\n",
       "      <th>id</th>\n",
       "      <th>call_date</th>\n",
       "      <th>duration</th>\n",
       "      <th>user_id</th>\n",
       "    </tr>\n",
       "  </thead>\n",
       "  <tbody>\n",
       "    <tr>\n",
       "      <th>0</th>\n",
       "      <td>1000_0</td>\n",
       "      <td>2018-07-25</td>\n",
       "      <td>0.00</td>\n",
       "      <td>1000</td>\n",
       "    </tr>\n",
       "    <tr>\n",
       "      <th>1</th>\n",
       "      <td>1000_1</td>\n",
       "      <td>2018-08-17</td>\n",
       "      <td>0.00</td>\n",
       "      <td>1000</td>\n",
       "    </tr>\n",
       "    <tr>\n",
       "      <th>2</th>\n",
       "      <td>1000_2</td>\n",
       "      <td>2018-06-11</td>\n",
       "      <td>2.85</td>\n",
       "      <td>1000</td>\n",
       "    </tr>\n",
       "    <tr>\n",
       "      <th>3</th>\n",
       "      <td>1000_3</td>\n",
       "      <td>2018-09-21</td>\n",
       "      <td>13.80</td>\n",
       "      <td>1000</td>\n",
       "    </tr>\n",
       "    <tr>\n",
       "      <th>4</th>\n",
       "      <td>1000_4</td>\n",
       "      <td>2018-12-15</td>\n",
       "      <td>5.18</td>\n",
       "      <td>1000</td>\n",
       "    </tr>\n",
       "  </tbody>\n",
       "</table>\n",
       "</div>"
      ],
      "text/plain": [
       "       id   call_date  duration  user_id\n",
       "0  1000_0  2018-07-25      0.00     1000\n",
       "1  1000_1  2018-08-17      0.00     1000\n",
       "2  1000_2  2018-06-11      2.85     1000\n",
       "3  1000_3  2018-09-21     13.80     1000\n",
       "4  1000_4  2018-12-15      5.18     1000"
      ]
     },
     "execution_count": 4,
     "metadata": {},
     "output_type": "execute_result"
    }
   ],
   "source": [
    "data_calls.info()\n",
    "data_calls.head()"
   ]
  },
  {
   "cell_type": "code",
   "execution_count": 5,
   "metadata": {},
   "outputs": [
    {
     "name": "stdout",
     "output_type": "stream",
     "text": [
      "<class 'pandas.core.frame.DataFrame'>\n",
      "RangeIndex: 149396 entries, 0 to 149395\n",
      "Data columns (total 5 columns):\n",
      " #   Column        Non-Null Count   Dtype  \n",
      "---  ------        --------------   -----  \n",
      " 0   Unnamed: 0    149396 non-null  int64  \n",
      " 1   id            149396 non-null  object \n",
      " 2   mb_used       149396 non-null  float64\n",
      " 3   session_date  149396 non-null  object \n",
      " 4   user_id       149396 non-null  int64  \n",
      "dtypes: float64(1), int64(2), object(2)\n",
      "memory usage: 5.7+ MB\n"
     ]
    },
    {
     "data": {
      "text/html": [
       "<div>\n",
       "<style scoped>\n",
       "    .dataframe tbody tr th:only-of-type {\n",
       "        vertical-align: middle;\n",
       "    }\n",
       "\n",
       "    .dataframe tbody tr th {\n",
       "        vertical-align: top;\n",
       "    }\n",
       "\n",
       "    .dataframe thead th {\n",
       "        text-align: right;\n",
       "    }\n",
       "</style>\n",
       "<table border=\"1\" class=\"dataframe\">\n",
       "  <thead>\n",
       "    <tr style=\"text-align: right;\">\n",
       "      <th></th>\n",
       "      <th>Unnamed: 0</th>\n",
       "      <th>id</th>\n",
       "      <th>mb_used</th>\n",
       "      <th>session_date</th>\n",
       "      <th>user_id</th>\n",
       "    </tr>\n",
       "  </thead>\n",
       "  <tbody>\n",
       "    <tr>\n",
       "      <th>0</th>\n",
       "      <td>0</td>\n",
       "      <td>1000_0</td>\n",
       "      <td>112.95</td>\n",
       "      <td>2018-11-25</td>\n",
       "      <td>1000</td>\n",
       "    </tr>\n",
       "    <tr>\n",
       "      <th>1</th>\n",
       "      <td>1</td>\n",
       "      <td>1000_1</td>\n",
       "      <td>1052.81</td>\n",
       "      <td>2018-09-07</td>\n",
       "      <td>1000</td>\n",
       "    </tr>\n",
       "    <tr>\n",
       "      <th>2</th>\n",
       "      <td>2</td>\n",
       "      <td>1000_2</td>\n",
       "      <td>1197.26</td>\n",
       "      <td>2018-06-25</td>\n",
       "      <td>1000</td>\n",
       "    </tr>\n",
       "    <tr>\n",
       "      <th>3</th>\n",
       "      <td>3</td>\n",
       "      <td>1000_3</td>\n",
       "      <td>550.27</td>\n",
       "      <td>2018-08-22</td>\n",
       "      <td>1000</td>\n",
       "    </tr>\n",
       "    <tr>\n",
       "      <th>4</th>\n",
       "      <td>4</td>\n",
       "      <td>1000_4</td>\n",
       "      <td>302.56</td>\n",
       "      <td>2018-09-24</td>\n",
       "      <td>1000</td>\n",
       "    </tr>\n",
       "  </tbody>\n",
       "</table>\n",
       "</div>"
      ],
      "text/plain": [
       "   Unnamed: 0      id  mb_used session_date  user_id\n",
       "0           0  1000_0   112.95   2018-11-25     1000\n",
       "1           1  1000_1  1052.81   2018-09-07     1000\n",
       "2           2  1000_2  1197.26   2018-06-25     1000\n",
       "3           3  1000_3   550.27   2018-08-22     1000\n",
       "4           4  1000_4   302.56   2018-09-24     1000"
      ]
     },
     "execution_count": 5,
     "metadata": {},
     "output_type": "execute_result"
    }
   ],
   "source": [
    "data_internet.info()\n",
    "data_internet.head()"
   ]
  },
  {
   "cell_type": "code",
   "execution_count": 6,
   "metadata": {},
   "outputs": [
    {
     "name": "stdout",
     "output_type": "stream",
     "text": [
      "<class 'pandas.core.frame.DataFrame'>\n",
      "RangeIndex: 123036 entries, 0 to 123035\n",
      "Data columns (total 3 columns):\n",
      " #   Column        Non-Null Count   Dtype \n",
      "---  ------        --------------   ----- \n",
      " 0   id            123036 non-null  object\n",
      " 1   message_date  123036 non-null  object\n",
      " 2   user_id       123036 non-null  int64 \n",
      "dtypes: int64(1), object(2)\n",
      "memory usage: 2.8+ MB\n"
     ]
    },
    {
     "data": {
      "text/html": [
       "<div>\n",
       "<style scoped>\n",
       "    .dataframe tbody tr th:only-of-type {\n",
       "        vertical-align: middle;\n",
       "    }\n",
       "\n",
       "    .dataframe tbody tr th {\n",
       "        vertical-align: top;\n",
       "    }\n",
       "\n",
       "    .dataframe thead th {\n",
       "        text-align: right;\n",
       "    }\n",
       "</style>\n",
       "<table border=\"1\" class=\"dataframe\">\n",
       "  <thead>\n",
       "    <tr style=\"text-align: right;\">\n",
       "      <th></th>\n",
       "      <th>id</th>\n",
       "      <th>message_date</th>\n",
       "      <th>user_id</th>\n",
       "    </tr>\n",
       "  </thead>\n",
       "  <tbody>\n",
       "    <tr>\n",
       "      <th>0</th>\n",
       "      <td>1000_0</td>\n",
       "      <td>2018-06-27</td>\n",
       "      <td>1000</td>\n",
       "    </tr>\n",
       "    <tr>\n",
       "      <th>1</th>\n",
       "      <td>1000_1</td>\n",
       "      <td>2018-10-08</td>\n",
       "      <td>1000</td>\n",
       "    </tr>\n",
       "    <tr>\n",
       "      <th>2</th>\n",
       "      <td>1000_2</td>\n",
       "      <td>2018-08-04</td>\n",
       "      <td>1000</td>\n",
       "    </tr>\n",
       "    <tr>\n",
       "      <th>3</th>\n",
       "      <td>1000_3</td>\n",
       "      <td>2018-06-16</td>\n",
       "      <td>1000</td>\n",
       "    </tr>\n",
       "    <tr>\n",
       "      <th>4</th>\n",
       "      <td>1000_4</td>\n",
       "      <td>2018-12-05</td>\n",
       "      <td>1000</td>\n",
       "    </tr>\n",
       "  </tbody>\n",
       "</table>\n",
       "</div>"
      ],
      "text/plain": [
       "       id message_date  user_id\n",
       "0  1000_0   2018-06-27     1000\n",
       "1  1000_1   2018-10-08     1000\n",
       "2  1000_2   2018-08-04     1000\n",
       "3  1000_3   2018-06-16     1000\n",
       "4  1000_4   2018-12-05     1000"
      ]
     },
     "execution_count": 6,
     "metadata": {},
     "output_type": "execute_result"
    }
   ],
   "source": [
    "data_messages.info()\n",
    "data_messages.head()"
   ]
  },
  {
   "cell_type": "code",
   "execution_count": 7,
   "metadata": {},
   "outputs": [
    {
     "name": "stdout",
     "output_type": "stream",
     "text": [
      "<class 'pandas.core.frame.DataFrame'>\n",
      "RangeIndex: 2 entries, 0 to 1\n",
      "Data columns (total 8 columns):\n",
      " #   Column                 Non-Null Count  Dtype \n",
      "---  ------                 --------------  ----- \n",
      " 0   messages_included      2 non-null      int64 \n",
      " 1   mb_per_month_included  2 non-null      int64 \n",
      " 2   minutes_included       2 non-null      int64 \n",
      " 3   rub_monthly_fee        2 non-null      int64 \n",
      " 4   rub_per_gb             2 non-null      int64 \n",
      " 5   rub_per_message        2 non-null      int64 \n",
      " 6   rub_per_minute         2 non-null      int64 \n",
      " 7   tariff_name            2 non-null      object\n",
      "dtypes: int64(7), object(1)\n",
      "memory usage: 256.0+ bytes\n"
     ]
    },
    {
     "data": {
      "text/html": [
       "<div>\n",
       "<style scoped>\n",
       "    .dataframe tbody tr th:only-of-type {\n",
       "        vertical-align: middle;\n",
       "    }\n",
       "\n",
       "    .dataframe tbody tr th {\n",
       "        vertical-align: top;\n",
       "    }\n",
       "\n",
       "    .dataframe thead th {\n",
       "        text-align: right;\n",
       "    }\n",
       "</style>\n",
       "<table border=\"1\" class=\"dataframe\">\n",
       "  <thead>\n",
       "    <tr style=\"text-align: right;\">\n",
       "      <th></th>\n",
       "      <th>messages_included</th>\n",
       "      <th>mb_per_month_included</th>\n",
       "      <th>minutes_included</th>\n",
       "      <th>rub_monthly_fee</th>\n",
       "      <th>rub_per_gb</th>\n",
       "      <th>rub_per_message</th>\n",
       "      <th>rub_per_minute</th>\n",
       "      <th>tariff_name</th>\n",
       "    </tr>\n",
       "  </thead>\n",
       "  <tbody>\n",
       "    <tr>\n",
       "      <th>0</th>\n",
       "      <td>50</td>\n",
       "      <td>15360</td>\n",
       "      <td>500</td>\n",
       "      <td>550</td>\n",
       "      <td>200</td>\n",
       "      <td>3</td>\n",
       "      <td>3</td>\n",
       "      <td>smart</td>\n",
       "    </tr>\n",
       "    <tr>\n",
       "      <th>1</th>\n",
       "      <td>1000</td>\n",
       "      <td>30720</td>\n",
       "      <td>3000</td>\n",
       "      <td>1950</td>\n",
       "      <td>150</td>\n",
       "      <td>1</td>\n",
       "      <td>1</td>\n",
       "      <td>ultra</td>\n",
       "    </tr>\n",
       "  </tbody>\n",
       "</table>\n",
       "</div>"
      ],
      "text/plain": [
       "   messages_included  mb_per_month_included  minutes_included  \\\n",
       "0                 50                  15360               500   \n",
       "1               1000                  30720              3000   \n",
       "\n",
       "   rub_monthly_fee  rub_per_gb  rub_per_message  rub_per_minute tariff_name  \n",
       "0              550         200                3               3       smart  \n",
       "1             1950         150                1               1       ultra  "
      ]
     },
     "execution_count": 7,
     "metadata": {},
     "output_type": "execute_result"
    }
   ],
   "source": [
    "data_tariffs.info()\n",
    "data_tariffs.head()"
   ]
  },
  {
   "cell_type": "code",
   "execution_count": 8,
   "metadata": {},
   "outputs": [
    {
     "name": "stdout",
     "output_type": "stream",
     "text": [
      "<class 'pandas.core.frame.DataFrame'>\n",
      "RangeIndex: 500 entries, 0 to 499\n",
      "Data columns (total 8 columns):\n",
      " #   Column      Non-Null Count  Dtype \n",
      "---  ------      --------------  ----- \n",
      " 0   user_id     500 non-null    int64 \n",
      " 1   age         500 non-null    int64 \n",
      " 2   churn_date  38 non-null     object\n",
      " 3   city        500 non-null    object\n",
      " 4   first_name  500 non-null    object\n",
      " 5   last_name   500 non-null    object\n",
      " 6   reg_date    500 non-null    object\n",
      " 7   tariff      500 non-null    object\n",
      "dtypes: int64(2), object(6)\n",
      "memory usage: 31.4+ KB\n"
     ]
    },
    {
     "data": {
      "text/html": [
       "<div>\n",
       "<style scoped>\n",
       "    .dataframe tbody tr th:only-of-type {\n",
       "        vertical-align: middle;\n",
       "    }\n",
       "\n",
       "    .dataframe tbody tr th {\n",
       "        vertical-align: top;\n",
       "    }\n",
       "\n",
       "    .dataframe thead th {\n",
       "        text-align: right;\n",
       "    }\n",
       "</style>\n",
       "<table border=\"1\" class=\"dataframe\">\n",
       "  <thead>\n",
       "    <tr style=\"text-align: right;\">\n",
       "      <th></th>\n",
       "      <th>user_id</th>\n",
       "      <th>age</th>\n",
       "      <th>churn_date</th>\n",
       "      <th>city</th>\n",
       "      <th>first_name</th>\n",
       "      <th>last_name</th>\n",
       "      <th>reg_date</th>\n",
       "      <th>tariff</th>\n",
       "    </tr>\n",
       "  </thead>\n",
       "  <tbody>\n",
       "    <tr>\n",
       "      <th>0</th>\n",
       "      <td>1000</td>\n",
       "      <td>52</td>\n",
       "      <td>NaN</td>\n",
       "      <td>Краснодар</td>\n",
       "      <td>Рафаил</td>\n",
       "      <td>Верещагин</td>\n",
       "      <td>2018-05-25</td>\n",
       "      <td>ultra</td>\n",
       "    </tr>\n",
       "    <tr>\n",
       "      <th>1</th>\n",
       "      <td>1001</td>\n",
       "      <td>41</td>\n",
       "      <td>NaN</td>\n",
       "      <td>Москва</td>\n",
       "      <td>Иван</td>\n",
       "      <td>Ежов</td>\n",
       "      <td>2018-11-01</td>\n",
       "      <td>smart</td>\n",
       "    </tr>\n",
       "    <tr>\n",
       "      <th>2</th>\n",
       "      <td>1002</td>\n",
       "      <td>59</td>\n",
       "      <td>NaN</td>\n",
       "      <td>Стерлитамак</td>\n",
       "      <td>Евгений</td>\n",
       "      <td>Абрамович</td>\n",
       "      <td>2018-06-17</td>\n",
       "      <td>smart</td>\n",
       "    </tr>\n",
       "    <tr>\n",
       "      <th>3</th>\n",
       "      <td>1003</td>\n",
       "      <td>23</td>\n",
       "      <td>NaN</td>\n",
       "      <td>Москва</td>\n",
       "      <td>Белла</td>\n",
       "      <td>Белякова</td>\n",
       "      <td>2018-08-17</td>\n",
       "      <td>ultra</td>\n",
       "    </tr>\n",
       "    <tr>\n",
       "      <th>4</th>\n",
       "      <td>1004</td>\n",
       "      <td>68</td>\n",
       "      <td>NaN</td>\n",
       "      <td>Новокузнецк</td>\n",
       "      <td>Татьяна</td>\n",
       "      <td>Авдеенко</td>\n",
       "      <td>2018-05-14</td>\n",
       "      <td>ultra</td>\n",
       "    </tr>\n",
       "  </tbody>\n",
       "</table>\n",
       "</div>"
      ],
      "text/plain": [
       "   user_id  age churn_date         city first_name  last_name    reg_date  \\\n",
       "0     1000   52        NaN    Краснодар     Рафаил  Верещагин  2018-05-25   \n",
       "1     1001   41        NaN       Москва       Иван       Ежов  2018-11-01   \n",
       "2     1002   59        NaN  Стерлитамак    Евгений  Абрамович  2018-06-17   \n",
       "3     1003   23        NaN       Москва      Белла   Белякова  2018-08-17   \n",
       "4     1004   68        NaN  Новокузнецк    Татьяна   Авдеенко  2018-05-14   \n",
       "\n",
       "  tariff  \n",
       "0  ultra  \n",
       "1  smart  \n",
       "2  smart  \n",
       "3  ultra  \n",
       "4  ultra  "
      ]
     },
     "execution_count": 8,
     "metadata": {},
     "output_type": "execute_result"
    }
   ],
   "source": [
    "data_users.info()\n",
    "data_users.head()"
   ]
  },
  {
   "cell_type": "markdown",
   "metadata": {},
   "source": [
    "Датасет содержит данные по 500 клиентам, потребуется заменить тип данных у столбцов с датой и временем, а также округлить значения минут разговора и мегабайт использованного трафика в большую сторону, так как тарифы считаются по минутам и гигабайтам."
   ]
  },
  {
   "cell_type": "markdown",
   "metadata": {},
   "source": [
    "##  Предобработка данных"
   ]
  },
  {
   "cell_type": "markdown",
   "metadata": {},
   "source": [
    "### Подготовим данные"
   ]
  },
  {
   "cell_type": "markdown",
   "metadata": {},
   "source": [
    "Заменим тип данных, обозначающих дату, со строчного на временной."
   ]
  },
  {
   "cell_type": "code",
   "execution_count": 9,
   "metadata": {},
   "outputs": [],
   "source": [
    "data_calls['call_date'] = pd.to_datetime(data_calls['call_date'], format='%Y-%m-%d')\n",
    "data_messages['message_date'] = pd.to_datetime(data_messages['message_date'], format='%Y-%m-%d')\n",
    "data_internet['session_date'] = pd.to_datetime(data_internet['session_date'], format='%Y-%m-%d')\n",
    "data_users['reg_date'] = pd.to_datetime(data_users['reg_date'], format='%Y-%m-%d')"
   ]
  },
  {
   "cell_type": "code",
   "execution_count": 10,
   "metadata": {},
   "outputs": [
    {
     "data": {
      "text/html": [
       "<div>\n",
       "<style scoped>\n",
       "    .dataframe tbody tr th:only-of-type {\n",
       "        vertical-align: middle;\n",
       "    }\n",
       "\n",
       "    .dataframe tbody tr th {\n",
       "        vertical-align: top;\n",
       "    }\n",
       "\n",
       "    .dataframe thead th {\n",
       "        text-align: right;\n",
       "    }\n",
       "</style>\n",
       "<table border=\"1\" class=\"dataframe\">\n",
       "  <thead>\n",
       "    <tr style=\"text-align: right;\">\n",
       "      <th></th>\n",
       "      <th>id</th>\n",
       "      <th>mb_used</th>\n",
       "      <th>session_date</th>\n",
       "      <th>user_id</th>\n",
       "    </tr>\n",
       "  </thead>\n",
       "  <tbody>\n",
       "    <tr>\n",
       "      <th>0</th>\n",
       "      <td>1000_0</td>\n",
       "      <td>112.95</td>\n",
       "      <td>2018-11-25</td>\n",
       "      <td>1000</td>\n",
       "    </tr>\n",
       "    <tr>\n",
       "      <th>1</th>\n",
       "      <td>1000_1</td>\n",
       "      <td>1052.81</td>\n",
       "      <td>2018-09-07</td>\n",
       "      <td>1000</td>\n",
       "    </tr>\n",
       "    <tr>\n",
       "      <th>2</th>\n",
       "      <td>1000_2</td>\n",
       "      <td>1197.26</td>\n",
       "      <td>2018-06-25</td>\n",
       "      <td>1000</td>\n",
       "    </tr>\n",
       "    <tr>\n",
       "      <th>3</th>\n",
       "      <td>1000_3</td>\n",
       "      <td>550.27</td>\n",
       "      <td>2018-08-22</td>\n",
       "      <td>1000</td>\n",
       "    </tr>\n",
       "    <tr>\n",
       "      <th>4</th>\n",
       "      <td>1000_4</td>\n",
       "      <td>302.56</td>\n",
       "      <td>2018-09-24</td>\n",
       "      <td>1000</td>\n",
       "    </tr>\n",
       "  </tbody>\n",
       "</table>\n",
       "</div>"
      ],
      "text/plain": [
       "       id  mb_used session_date  user_id\n",
       "0  1000_0   112.95   2018-11-25     1000\n",
       "1  1000_1  1052.81   2018-09-07     1000\n",
       "2  1000_2  1197.26   2018-06-25     1000\n",
       "3  1000_3   550.27   2018-08-22     1000\n",
       "4  1000_4   302.56   2018-09-24     1000"
      ]
     },
     "execution_count": 10,
     "metadata": {},
     "output_type": "execute_result"
    }
   ],
   "source": [
    "data_internet = data_internet[['id','mb_used','session_date','user_id']]\n",
    "data_internet.head()"
   ]
  },
  {
   "cell_type": "markdown",
   "metadata": {},
   "source": [
    "Округлим значения данных вверх."
   ]
  },
  {
   "cell_type": "code",
   "execution_count": 11,
   "metadata": {},
   "outputs": [],
   "source": [
    "data_calls['duration'] = data_calls['duration'].apply(np.ceil)"
   ]
  },
  {
   "cell_type": "code",
   "execution_count": 12,
   "metadata": {},
   "outputs": [],
   "source": [
    "data_internet['mb_used'] = data_internet['mb_used'].apply(np.ceil)"
   ]
  },
  {
   "cell_type": "markdown",
   "metadata": {},
   "source": [
    "### Рассчитаем новые значения"
   ]
  },
  {
   "cell_type": "markdown",
   "metadata": {},
   "source": [
    "Найдем для каждого пользователя:\n",
    "\n",
    "- количество сделанных звонков и израсходованных минут разговора по месяцам;\n",
    "- количество отправленных сообщений по месяцам;\n",
    "- объем израсходованного интернет-трафика по месяцам."
   ]
  },
  {
   "cell_type": "code",
   "execution_count": 13,
   "metadata": {},
   "outputs": [
    {
     "data": {
      "text/html": [
       "<div>\n",
       "<style scoped>\n",
       "    .dataframe tbody tr th:only-of-type {\n",
       "        vertical-align: middle;\n",
       "    }\n",
       "\n",
       "    .dataframe tbody tr th {\n",
       "        vertical-align: top;\n",
       "    }\n",
       "\n",
       "    .dataframe thead th {\n",
       "        text-align: right;\n",
       "    }\n",
       "</style>\n",
       "<table border=\"1\" class=\"dataframe\">\n",
       "  <thead>\n",
       "    <tr style=\"text-align: right;\">\n",
       "      <th></th>\n",
       "      <th></th>\n",
       "      <th>calls</th>\n",
       "      <th>duration</th>\n",
       "    </tr>\n",
       "    <tr>\n",
       "      <th>user_id</th>\n",
       "      <th>month</th>\n",
       "      <th></th>\n",
       "      <th></th>\n",
       "    </tr>\n",
       "  </thead>\n",
       "  <tbody>\n",
       "    <tr>\n",
       "      <th rowspan=\"5\" valign=\"top\">1000</th>\n",
       "      <th>5</th>\n",
       "      <td>22</td>\n",
       "      <td>159.0</td>\n",
       "    </tr>\n",
       "    <tr>\n",
       "      <th>6</th>\n",
       "      <td>43</td>\n",
       "      <td>172.0</td>\n",
       "    </tr>\n",
       "    <tr>\n",
       "      <th>7</th>\n",
       "      <td>47</td>\n",
       "      <td>340.0</td>\n",
       "    </tr>\n",
       "    <tr>\n",
       "      <th>8</th>\n",
       "      <td>52</td>\n",
       "      <td>408.0</td>\n",
       "    </tr>\n",
       "    <tr>\n",
       "      <th>9</th>\n",
       "      <td>58</td>\n",
       "      <td>466.0</td>\n",
       "    </tr>\n",
       "  </tbody>\n",
       "</table>\n",
       "</div>"
      ],
      "text/plain": [
       "               calls  duration\n",
       "user_id month                 \n",
       "1000    5         22     159.0\n",
       "        6         43     172.0\n",
       "        7         47     340.0\n",
       "        8         52     408.0\n",
       "        9         58     466.0"
      ]
     },
     "execution_count": 13,
     "metadata": {},
     "output_type": "execute_result"
    }
   ],
   "source": [
    "data_calls['month'] = data_calls['call_date'].dt.month #рассчитаем значения для звонков\n",
    "calls_grouped = data_calls.pivot_table(index=['user_id', 'month'], \n",
    "                        values ='duration',\n",
    "                       aggfunc=['count','sum'])\n",
    "calls_grouped.columns = ['calls', 'duration']\n",
    "calls_grouped.head()"
   ]
  },
  {
   "cell_type": "code",
   "execution_count": 14,
   "metadata": {},
   "outputs": [
    {
     "data": {
      "text/html": [
       "<div>\n",
       "<style scoped>\n",
       "    .dataframe tbody tr th:only-of-type {\n",
       "        vertical-align: middle;\n",
       "    }\n",
       "\n",
       "    .dataframe tbody tr th {\n",
       "        vertical-align: top;\n",
       "    }\n",
       "\n",
       "    .dataframe thead th {\n",
       "        text-align: right;\n",
       "    }\n",
       "</style>\n",
       "<table border=\"1\" class=\"dataframe\">\n",
       "  <thead>\n",
       "    <tr style=\"text-align: right;\">\n",
       "      <th></th>\n",
       "      <th></th>\n",
       "      <th>messages</th>\n",
       "    </tr>\n",
       "    <tr>\n",
       "      <th>user_id</th>\n",
       "      <th>month</th>\n",
       "      <th></th>\n",
       "    </tr>\n",
       "  </thead>\n",
       "  <tbody>\n",
       "    <tr>\n",
       "      <th rowspan=\"5\" valign=\"top\">1000</th>\n",
       "      <th>5</th>\n",
       "      <td>22</td>\n",
       "    </tr>\n",
       "    <tr>\n",
       "      <th>6</th>\n",
       "      <td>60</td>\n",
       "    </tr>\n",
       "    <tr>\n",
       "      <th>7</th>\n",
       "      <td>75</td>\n",
       "    </tr>\n",
       "    <tr>\n",
       "      <th>8</th>\n",
       "      <td>81</td>\n",
       "    </tr>\n",
       "    <tr>\n",
       "      <th>9</th>\n",
       "      <td>57</td>\n",
       "    </tr>\n",
       "  </tbody>\n",
       "</table>\n",
       "</div>"
      ],
      "text/plain": [
       "               messages\n",
       "user_id month          \n",
       "1000    5            22\n",
       "        6            60\n",
       "        7            75\n",
       "        8            81\n",
       "        9            57"
      ]
     },
     "execution_count": 14,
     "metadata": {},
     "output_type": "execute_result"
    }
   ],
   "source": [
    "data_messages['month'] = data_messages['message_date'].dt.month #рассчитаем значения для смс\n",
    "messages_grouped = data_messages.pivot_table(index=['user_id','month'],\n",
    "                                                      values='id',\n",
    "                                                      aggfunc='count')\n",
    "messages_grouped.columns = ['messages']\n",
    "messages_grouped.head()"
   ]
  },
  {
   "cell_type": "code",
   "execution_count": 15,
   "metadata": {
    "scrolled": true
   },
   "outputs": [
    {
     "data": {
      "text/html": [
       "<div>\n",
       "<style scoped>\n",
       "    .dataframe tbody tr th:only-of-type {\n",
       "        vertical-align: middle;\n",
       "    }\n",
       "\n",
       "    .dataframe tbody tr th {\n",
       "        vertical-align: top;\n",
       "    }\n",
       "\n",
       "    .dataframe thead th {\n",
       "        text-align: right;\n",
       "    }\n",
       "</style>\n",
       "<table border=\"1\" class=\"dataframe\">\n",
       "  <thead>\n",
       "    <tr style=\"text-align: right;\">\n",
       "      <th></th>\n",
       "      <th></th>\n",
       "      <th>mb_used</th>\n",
       "    </tr>\n",
       "    <tr>\n",
       "      <th>user_id</th>\n",
       "      <th>month</th>\n",
       "      <th></th>\n",
       "    </tr>\n",
       "  </thead>\n",
       "  <tbody>\n",
       "    <tr>\n",
       "      <th rowspan=\"5\" valign=\"top\">1000</th>\n",
       "      <th>5</th>\n",
       "      <td>2256.0</td>\n",
       "    </tr>\n",
       "    <tr>\n",
       "      <th>6</th>\n",
       "      <td>23257.0</td>\n",
       "    </tr>\n",
       "    <tr>\n",
       "      <th>7</th>\n",
       "      <td>14016.0</td>\n",
       "    </tr>\n",
       "    <tr>\n",
       "      <th>8</th>\n",
       "      <td>14070.0</td>\n",
       "    </tr>\n",
       "    <tr>\n",
       "      <th>9</th>\n",
       "      <td>14581.0</td>\n",
       "    </tr>\n",
       "  </tbody>\n",
       "</table>\n",
       "</div>"
      ],
      "text/plain": [
       "               mb_used\n",
       "user_id month         \n",
       "1000    5       2256.0\n",
       "        6      23257.0\n",
       "        7      14016.0\n",
       "        8      14070.0\n",
       "        9      14581.0"
      ]
     },
     "execution_count": 15,
     "metadata": {},
     "output_type": "execute_result"
    }
   ],
   "source": [
    "data_internet['month'] = data_internet['session_date'].dt.month #рассчитаем значения для интернета\n",
    "internet_grouped = data_internet.pivot_table(index=['user_id','month'],\n",
    "                                            values='mb_used',\n",
    "                                            aggfunc='sum')\n",
    "internet_grouped.head()"
   ]
  },
  {
   "cell_type": "code",
   "execution_count": 16,
   "metadata": {},
   "outputs": [
    {
     "data": {
      "text/html": [
       "<div>\n",
       "<style scoped>\n",
       "    .dataframe tbody tr th:only-of-type {\n",
       "        vertical-align: middle;\n",
       "    }\n",
       "\n",
       "    .dataframe tbody tr th {\n",
       "        vertical-align: top;\n",
       "    }\n",
       "\n",
       "    .dataframe thead th {\n",
       "        text-align: right;\n",
       "    }\n",
       "</style>\n",
       "<table border=\"1\" class=\"dataframe\">\n",
       "  <thead>\n",
       "    <tr style=\"text-align: right;\">\n",
       "      <th></th>\n",
       "      <th></th>\n",
       "      <th>calls</th>\n",
       "      <th>duration</th>\n",
       "      <th>messages</th>\n",
       "      <th>mb_used</th>\n",
       "    </tr>\n",
       "    <tr>\n",
       "      <th>user_id</th>\n",
       "      <th>month</th>\n",
       "      <th></th>\n",
       "      <th></th>\n",
       "      <th></th>\n",
       "      <th></th>\n",
       "    </tr>\n",
       "  </thead>\n",
       "  <tbody>\n",
       "    <tr>\n",
       "      <th rowspan=\"5\" valign=\"top\">1000</th>\n",
       "      <th>5</th>\n",
       "      <td>22.0</td>\n",
       "      <td>159.0</td>\n",
       "      <td>22.0</td>\n",
       "      <td>2256.0</td>\n",
       "    </tr>\n",
       "    <tr>\n",
       "      <th>6</th>\n",
       "      <td>43.0</td>\n",
       "      <td>172.0</td>\n",
       "      <td>60.0</td>\n",
       "      <td>23257.0</td>\n",
       "    </tr>\n",
       "    <tr>\n",
       "      <th>7</th>\n",
       "      <td>47.0</td>\n",
       "      <td>340.0</td>\n",
       "      <td>75.0</td>\n",
       "      <td>14016.0</td>\n",
       "    </tr>\n",
       "    <tr>\n",
       "      <th>8</th>\n",
       "      <td>52.0</td>\n",
       "      <td>408.0</td>\n",
       "      <td>81.0</td>\n",
       "      <td>14070.0</td>\n",
       "    </tr>\n",
       "    <tr>\n",
       "      <th>9</th>\n",
       "      <td>58.0</td>\n",
       "      <td>466.0</td>\n",
       "      <td>57.0</td>\n",
       "      <td>14581.0</td>\n",
       "    </tr>\n",
       "  </tbody>\n",
       "</table>\n",
       "</div>"
      ],
      "text/plain": [
       "               calls  duration  messages  mb_used\n",
       "user_id month                                    \n",
       "1000    5       22.0     159.0      22.0   2256.0\n",
       "        6       43.0     172.0      60.0  23257.0\n",
       "        7       47.0     340.0      75.0  14016.0\n",
       "        8       52.0     408.0      81.0  14070.0\n",
       "        9       58.0     466.0      57.0  14581.0"
      ]
     },
     "execution_count": 16,
     "metadata": {},
     "output_type": "execute_result"
    }
   ],
   "source": [
    "data_grouped = calls_grouped.merge(messages_grouped, on=['user_id', 'month'], how='outer') #Объединим таблицы\n",
    "data_grouped = data_grouped.merge(internet_grouped, on=['user_id', 'month'], how='outer')\n",
    "data_grouped.head()"
   ]
  },
  {
   "cell_type": "code",
   "execution_count": 17,
   "metadata": {},
   "outputs": [],
   "source": [
    "data_grouped.loc[data_grouped['duration'].isna(), 'duration'] = 0 #заменим пропуски\n",
    "data_grouped.loc[data_grouped['messages'].isna(), 'messages'] = 0\n",
    "data_grouped.loc[data_grouped['mb_used'].isna(), 'mb_used'] = 0"
   ]
  },
  {
   "cell_type": "code",
   "execution_count": 18,
   "metadata": {
    "scrolled": true
   },
   "outputs": [
    {
     "data": {
      "text/html": [
       "<div>\n",
       "<style scoped>\n",
       "    .dataframe tbody tr th:only-of-type {\n",
       "        vertical-align: middle;\n",
       "    }\n",
       "\n",
       "    .dataframe tbody tr th {\n",
       "        vertical-align: top;\n",
       "    }\n",
       "\n",
       "    .dataframe thead th {\n",
       "        text-align: right;\n",
       "    }\n",
       "</style>\n",
       "<table border=\"1\" class=\"dataframe\">\n",
       "  <thead>\n",
       "    <tr style=\"text-align: right;\">\n",
       "      <th></th>\n",
       "      <th></th>\n",
       "      <th>calls</th>\n",
       "      <th>duration</th>\n",
       "      <th>messages</th>\n",
       "      <th>mb_used</th>\n",
       "      <th>tariff</th>\n",
       "    </tr>\n",
       "    <tr>\n",
       "      <th>user_id</th>\n",
       "      <th>month</th>\n",
       "      <th></th>\n",
       "      <th></th>\n",
       "      <th></th>\n",
       "      <th></th>\n",
       "      <th></th>\n",
       "    </tr>\n",
       "  </thead>\n",
       "  <tbody>\n",
       "    <tr>\n",
       "      <th rowspan=\"5\" valign=\"top\">1000</th>\n",
       "      <th>5</th>\n",
       "      <td>22.0</td>\n",
       "      <td>159.0</td>\n",
       "      <td>22.0</td>\n",
       "      <td>2256.0</td>\n",
       "      <td>ultra</td>\n",
       "    </tr>\n",
       "    <tr>\n",
       "      <th>6</th>\n",
       "      <td>43.0</td>\n",
       "      <td>172.0</td>\n",
       "      <td>60.0</td>\n",
       "      <td>23257.0</td>\n",
       "      <td>ultra</td>\n",
       "    </tr>\n",
       "    <tr>\n",
       "      <th>7</th>\n",
       "      <td>47.0</td>\n",
       "      <td>340.0</td>\n",
       "      <td>75.0</td>\n",
       "      <td>14016.0</td>\n",
       "      <td>ultra</td>\n",
       "    </tr>\n",
       "    <tr>\n",
       "      <th>8</th>\n",
       "      <td>52.0</td>\n",
       "      <td>408.0</td>\n",
       "      <td>81.0</td>\n",
       "      <td>14070.0</td>\n",
       "      <td>ultra</td>\n",
       "    </tr>\n",
       "    <tr>\n",
       "      <th>9</th>\n",
       "      <td>58.0</td>\n",
       "      <td>466.0</td>\n",
       "      <td>57.0</td>\n",
       "      <td>14581.0</td>\n",
       "      <td>ultra</td>\n",
       "    </tr>\n",
       "  </tbody>\n",
       "</table>\n",
       "</div>"
      ],
      "text/plain": [
       "               calls  duration  messages  mb_used tariff\n",
       "user_id month                                           \n",
       "1000    5       22.0     159.0      22.0   2256.0  ultra\n",
       "        6       43.0     172.0      60.0  23257.0  ultra\n",
       "        7       47.0     340.0      75.0  14016.0  ultra\n",
       "        8       52.0     408.0      81.0  14070.0  ultra\n",
       "        9       58.0     466.0      57.0  14581.0  ultra"
      ]
     },
     "execution_count": 18,
     "metadata": {},
     "output_type": "execute_result"
    }
   ],
   "source": [
    "for user in data_grouped.index: #укажем тип тарифа для каждого пользователя\n",
    "    data_grouped.loc[user, 'tariff'] = data_users.loc[user[0]-1000, 'tariff']\n",
    "data_grouped.head()"
   ]
  },
  {
   "cell_type": "markdown",
   "metadata": {},
   "source": [
    "Теперь для каждого пользователя посчитаем помесячную выручку (вычтем бесплатный лимит из суммарного количества звонков, сообщений и интернет-трафика; остаток умножим на значение из тарифного плана; прибавим абонентскую плату, соответствующую тарифному плану)."
   ]
  },
  {
   "cell_type": "code",
   "execution_count": 19,
   "metadata": {},
   "outputs": [],
   "source": [
    "def total_revenue(row): #зададим функцию котоая будет считать прибыль по месяцам\n",
    "    duration = row['duration']\n",
    "    mb = row['mb_used']\n",
    "    messages = row['messages']\n",
    "    if row['tariff'] == 'ultra':\n",
    "        extra_duration = duration - data_tariffs.loc[1,'minutes_included']\n",
    "        extra_messages = messages - data_tariffs.loc[1,'messages_included']\n",
    "        extra_mb = mb - data_tariffs.loc[1,'mb_per_month_included']\n",
    "        if extra_duration < 0: extra_duration = 0\n",
    "        if extra_mb < 0: extra_mb = 0\n",
    "        if extra_messages < 0: extra_messages = 0\n",
    "        return (data_tariffs.loc[1,'rub_monthly_fee'] + data_tariffs.loc[1,'rub_per_minute'] * extra_duration +\n",
    "        data_tariffs.loc[1,'rub_per_gb'] * extra_mb/1024 + data_tariffs.loc[1,'rub_per_message'] * extra_messages)\n",
    "    else:\n",
    "        extra_duration = duration - data_tariffs.loc[0,'minutes_included']\n",
    "        extra_messages = messages - data_tariffs.loc[0,'messages_included']\n",
    "        extra_mb = mb - data_tariffs.loc[0,'mb_per_month_included']\n",
    "        if extra_duration < 0: extra_duration = 0\n",
    "        if extra_mb < 0: extra_mb = 0\n",
    "        if extra_messages < 0: extra_messages = 0\n",
    "        return (data_tariffs.loc[0,'rub_monthly_fee'] + data_tariffs.loc[0,'rub_per_minute'] * extra_duration +\n",
    "        data_tariffs.loc[0, 'rub_per_gb'] * extra_mb/1024 + data_tariffs.loc[0,'rub_per_message'] * extra_messages)\n"
   ]
  },
  {
   "cell_type": "code",
   "execution_count": 20,
   "metadata": {},
   "outputs": [
    {
     "data": {
      "text/html": [
       "<div>\n",
       "<style scoped>\n",
       "    .dataframe tbody tr th:only-of-type {\n",
       "        vertical-align: middle;\n",
       "    }\n",
       "\n",
       "    .dataframe tbody tr th {\n",
       "        vertical-align: top;\n",
       "    }\n",
       "\n",
       "    .dataframe thead th {\n",
       "        text-align: right;\n",
       "    }\n",
       "</style>\n",
       "<table border=\"1\" class=\"dataframe\">\n",
       "  <thead>\n",
       "    <tr style=\"text-align: right;\">\n",
       "      <th></th>\n",
       "      <th></th>\n",
       "      <th>calls</th>\n",
       "      <th>duration</th>\n",
       "      <th>messages</th>\n",
       "      <th>mb_used</th>\n",
       "      <th>tariff</th>\n",
       "      <th>revenue</th>\n",
       "    </tr>\n",
       "    <tr>\n",
       "      <th>user_id</th>\n",
       "      <th>month</th>\n",
       "      <th></th>\n",
       "      <th></th>\n",
       "      <th></th>\n",
       "      <th></th>\n",
       "      <th></th>\n",
       "      <th></th>\n",
       "    </tr>\n",
       "  </thead>\n",
       "  <tbody>\n",
       "    <tr>\n",
       "      <th rowspan=\"8\" valign=\"top\">1000</th>\n",
       "      <th>5</th>\n",
       "      <td>22.0</td>\n",
       "      <td>159.0</td>\n",
       "      <td>22.0</td>\n",
       "      <td>2256.0</td>\n",
       "      <td>ultra</td>\n",
       "      <td>1950.00000</td>\n",
       "    </tr>\n",
       "    <tr>\n",
       "      <th>6</th>\n",
       "      <td>43.0</td>\n",
       "      <td>172.0</td>\n",
       "      <td>60.0</td>\n",
       "      <td>23257.0</td>\n",
       "      <td>ultra</td>\n",
       "      <td>1950.00000</td>\n",
       "    </tr>\n",
       "    <tr>\n",
       "      <th>7</th>\n",
       "      <td>47.0</td>\n",
       "      <td>340.0</td>\n",
       "      <td>75.0</td>\n",
       "      <td>14016.0</td>\n",
       "      <td>ultra</td>\n",
       "      <td>1950.00000</td>\n",
       "    </tr>\n",
       "    <tr>\n",
       "      <th>8</th>\n",
       "      <td>52.0</td>\n",
       "      <td>408.0</td>\n",
       "      <td>81.0</td>\n",
       "      <td>14070.0</td>\n",
       "      <td>ultra</td>\n",
       "      <td>1950.00000</td>\n",
       "    </tr>\n",
       "    <tr>\n",
       "      <th>9</th>\n",
       "      <td>58.0</td>\n",
       "      <td>466.0</td>\n",
       "      <td>57.0</td>\n",
       "      <td>14581.0</td>\n",
       "      <td>ultra</td>\n",
       "      <td>1950.00000</td>\n",
       "    </tr>\n",
       "    <tr>\n",
       "      <th>10</th>\n",
       "      <td>57.0</td>\n",
       "      <td>350.0</td>\n",
       "      <td>73.0</td>\n",
       "      <td>14717.0</td>\n",
       "      <td>ultra</td>\n",
       "      <td>1950.00000</td>\n",
       "    </tr>\n",
       "    <tr>\n",
       "      <th>11</th>\n",
       "      <td>43.0</td>\n",
       "      <td>338.0</td>\n",
       "      <td>58.0</td>\n",
       "      <td>14768.0</td>\n",
       "      <td>ultra</td>\n",
       "      <td>1950.00000</td>\n",
       "    </tr>\n",
       "    <tr>\n",
       "      <th>12</th>\n",
       "      <td>46.0</td>\n",
       "      <td>333.0</td>\n",
       "      <td>70.0</td>\n",
       "      <td>9827.0</td>\n",
       "      <td>ultra</td>\n",
       "      <td>1950.00000</td>\n",
       "    </tr>\n",
       "    <tr>\n",
       "      <th rowspan=\"2\" valign=\"top\">1001</th>\n",
       "      <th>11</th>\n",
       "      <td>59.0</td>\n",
       "      <td>430.0</td>\n",
       "      <td>0.0</td>\n",
       "      <td>18452.0</td>\n",
       "      <td>smart</td>\n",
       "      <td>1153.90625</td>\n",
       "    </tr>\n",
       "    <tr>\n",
       "      <th>12</th>\n",
       "      <td>63.0</td>\n",
       "      <td>414.0</td>\n",
       "      <td>0.0</td>\n",
       "      <td>14053.0</td>\n",
       "      <td>smart</td>\n",
       "      <td>550.00000</td>\n",
       "    </tr>\n",
       "  </tbody>\n",
       "</table>\n",
       "</div>"
      ],
      "text/plain": [
       "               calls  duration  messages  mb_used tariff     revenue\n",
       "user_id month                                                       \n",
       "1000    5       22.0     159.0      22.0   2256.0  ultra  1950.00000\n",
       "        6       43.0     172.0      60.0  23257.0  ultra  1950.00000\n",
       "        7       47.0     340.0      75.0  14016.0  ultra  1950.00000\n",
       "        8       52.0     408.0      81.0  14070.0  ultra  1950.00000\n",
       "        9       58.0     466.0      57.0  14581.0  ultra  1950.00000\n",
       "        10      57.0     350.0      73.0  14717.0  ultra  1950.00000\n",
       "        11      43.0     338.0      58.0  14768.0  ultra  1950.00000\n",
       "        12      46.0     333.0      70.0   9827.0  ultra  1950.00000\n",
       "1001    11      59.0     430.0       0.0  18452.0  smart  1153.90625\n",
       "        12      63.0     414.0       0.0  14053.0  smart   550.00000"
      ]
     },
     "execution_count": 20,
     "metadata": {},
     "output_type": "execute_result"
    }
   ],
   "source": [
    "data_grouped['revenue'] = data_grouped.apply(total_revenue, axis=1)\n",
    "data_grouped.head(10)"
   ]
  },
  {
   "cell_type": "markdown",
   "metadata": {},
   "source": [
    "## Проведем анализ данных"
   ]
  },
  {
   "cell_type": "markdown",
   "metadata": {},
   "source": [
    "Посчитаем, сколько в среднем каждому пользователю требуется минут, сообщений и мегабайт в месяц."
   ]
  },
  {
   "cell_type": "code",
   "execution_count": 21,
   "metadata": {},
   "outputs": [
    {
     "data": {
      "text/html": [
       "<div>\n",
       "<style scoped>\n",
       "    .dataframe tbody tr th:only-of-type {\n",
       "        vertical-align: middle;\n",
       "    }\n",
       "\n",
       "    .dataframe tbody tr th {\n",
       "        vertical-align: top;\n",
       "    }\n",
       "\n",
       "    .dataframe thead th {\n",
       "        text-align: right;\n",
       "    }\n",
       "</style>\n",
       "<table border=\"1\" class=\"dataframe\">\n",
       "  <thead>\n",
       "    <tr style=\"text-align: right;\">\n",
       "      <th></th>\n",
       "      <th>duration</th>\n",
       "      <th>mb_used</th>\n",
       "      <th>messages</th>\n",
       "      <th>tariff</th>\n",
       "    </tr>\n",
       "    <tr>\n",
       "      <th>user_id</th>\n",
       "      <th></th>\n",
       "      <th></th>\n",
       "      <th></th>\n",
       "      <th></th>\n",
       "    </tr>\n",
       "  </thead>\n",
       "  <tbody>\n",
       "    <tr>\n",
       "      <th>1000</th>\n",
       "      <td>320.750000</td>\n",
       "      <td>13436.500000</td>\n",
       "      <td>62.0</td>\n",
       "      <td>ultra</td>\n",
       "    </tr>\n",
       "    <tr>\n",
       "      <th>1001</th>\n",
       "      <td>422.000000</td>\n",
       "      <td>16252.500000</td>\n",
       "      <td>0.0</td>\n",
       "      <td>smart</td>\n",
       "    </tr>\n",
       "    <tr>\n",
       "      <th>1002</th>\n",
       "      <td>216.714286</td>\n",
       "      <td>16597.571429</td>\n",
       "      <td>10.0</td>\n",
       "      <td>smart</td>\n",
       "    </tr>\n",
       "    <tr>\n",
       "      <th>1003</th>\n",
       "      <td>764.400000</td>\n",
       "      <td>11465.800000</td>\n",
       "      <td>76.0</td>\n",
       "      <td>ultra</td>\n",
       "    </tr>\n",
       "    <tr>\n",
       "      <th>1004</th>\n",
       "      <td>123.375000</td>\n",
       "      <td>18646.500000</td>\n",
       "      <td>149.0</td>\n",
       "      <td>ultra</td>\n",
       "    </tr>\n",
       "  </tbody>\n",
       "</table>\n",
       "</div>"
      ],
      "text/plain": [
       "           duration       mb_used  messages tariff\n",
       "user_id                                           \n",
       "1000     320.750000  13436.500000      62.0  ultra\n",
       "1001     422.000000  16252.500000       0.0  smart\n",
       "1002     216.714286  16597.571429      10.0  smart\n",
       "1003     764.400000  11465.800000      76.0  ultra\n",
       "1004     123.375000  18646.500000     149.0  ultra"
      ]
     },
     "execution_count": 21,
     "metadata": {},
     "output_type": "execute_result"
    }
   ],
   "source": [
    "means = data_grouped.pivot_table(index='user_id', values=['duration','mb_used','messages'], aggfunc='mean')\n",
    "for user_id in data_users['user_id']:\n",
    "    means.loc[user_id, 'tariff'] = data_users.loc[user_id-1000, 'tariff']\n",
    "means.head()"
   ]
  },
  {
   "cell_type": "markdown",
   "metadata": {},
   "source": [
    "Найдем мсреднее, дисперсию и стандартное отклонение:"
   ]
  },
  {
   "cell_type": "code",
   "execution_count": 22,
   "metadata": {},
   "outputs": [
    {
     "data": {
      "text/html": [
       "<div>\n",
       "<style scoped>\n",
       "    .dataframe tbody tr th:only-of-type {\n",
       "        vertical-align: middle;\n",
       "    }\n",
       "\n",
       "    .dataframe tbody tr th {\n",
       "        vertical-align: top;\n",
       "    }\n",
       "\n",
       "    .dataframe thead tr th {\n",
       "        text-align: left;\n",
       "    }\n",
       "\n",
       "    .dataframe thead tr:last-of-type th {\n",
       "        text-align: right;\n",
       "    }\n",
       "</style>\n",
       "<table border=\"1\" class=\"dataframe\">\n",
       "  <thead>\n",
       "    <tr>\n",
       "      <th></th>\n",
       "      <th colspan=\"3\" halign=\"left\">duration</th>\n",
       "      <th colspan=\"3\" halign=\"left\">mb_used</th>\n",
       "      <th colspan=\"3\" halign=\"left\">messages</th>\n",
       "    </tr>\n",
       "    <tr>\n",
       "      <th></th>\n",
       "      <th>mean</th>\n",
       "      <th>std</th>\n",
       "      <th>var</th>\n",
       "      <th>mean</th>\n",
       "      <th>std</th>\n",
       "      <th>var</th>\n",
       "      <th>mean</th>\n",
       "      <th>std</th>\n",
       "      <th>var</th>\n",
       "    </tr>\n",
       "    <tr>\n",
       "      <th>tariff</th>\n",
       "      <th></th>\n",
       "      <th></th>\n",
       "      <th></th>\n",
       "      <th></th>\n",
       "      <th></th>\n",
       "      <th></th>\n",
       "      <th></th>\n",
       "      <th></th>\n",
       "      <th></th>\n",
       "    </tr>\n",
       "  </thead>\n",
       "  <tbody>\n",
       "    <tr>\n",
       "      <th>smart</th>\n",
       "      <td>419.634803</td>\n",
       "      <td>145.031543</td>\n",
       "      <td>21034.148607</td>\n",
       "      <td>16201.387920</td>\n",
       "      <td>3583.640810</td>\n",
       "      <td>1.284248e+07</td>\n",
       "      <td>32.352078</td>\n",
       "      <td>26.512448</td>\n",
       "      <td>702.909910</td>\n",
       "    </tr>\n",
       "    <tr>\n",
       "      <th>ultra</th>\n",
       "      <td>527.821819</td>\n",
       "      <td>281.786359</td>\n",
       "      <td>79403.551850</td>\n",
       "      <td>19592.839001</td>\n",
       "      <td>8318.753942</td>\n",
       "      <td>6.920167e+07</td>\n",
       "      <td>54.030743</td>\n",
       "      <td>46.366246</td>\n",
       "      <td>2149.828793</td>\n",
       "    </tr>\n",
       "  </tbody>\n",
       "</table>\n",
       "</div>"
      ],
      "text/plain": [
       "          duration                                 mb_used               \\\n",
       "              mean         std           var          mean          std   \n",
       "tariff                                                                    \n",
       "smart   419.634803  145.031543  21034.148607  16201.387920  3583.640810   \n",
       "ultra   527.821819  281.786359  79403.551850  19592.839001  8318.753942   \n",
       "\n",
       "                       messages                          \n",
       "                 var       mean        std          var  \n",
       "tariff                                                   \n",
       "smart   1.284248e+07  32.352078  26.512448   702.909910  \n",
       "ultra   6.920167e+07  54.030743  46.366246  2149.828793  "
      ]
     },
     "execution_count": 22,
     "metadata": {},
     "output_type": "execute_result"
    }
   ],
   "source": [
    "data_stat = means.pivot_table(index='tariff', values=['duration', 'mb_used', 'messages'],\n",
    "                            aggfunc={'duration': [np.mean, np.var, np.std], \n",
    "                             'mb_used': [np.mean, np.var, np.std], \n",
    "                             'messages': [np.mean, np.var, np.std]})\n",
    "data_stat.head()"
   ]
  },
  {
   "cell_type": "code",
   "execution_count": 23,
   "metadata": {
    "scrolled": true
   },
   "outputs": [
    {
     "data": {
      "image/png": "[encoded data removed]",
      "text/plain": [
       "<Figure size 360x360 with 1 Axes>"
      ]
     },
     "metadata": {
      "needs_background": "light"
     },
     "output_type": "display_data"
    },
    {
     "data": {
      "image/png": "[encoded data removed]",
      "text/plain": [
       "<Figure size 360x360 with 1 Axes>"
      ]
     },
     "metadata": {
      "needs_background": "light"
     },
     "output_type": "display_data"
    },
    {
     "data": {
      "image/png": "[encoded data removed]",
      "text/plain": [
       "<Figure size 360x360 with 1 Axes>"
      ]
     },
     "metadata": {
      "needs_background": "light"
     },
     "output_type": "display_data"
    }
   ],
   "source": [
    "for column in ['duration', 'mb_used', 'messages']:\n",
    "    sns.catplot(x='tariff', y=column,kind='box', data=means) "
   ]
  },
  {
   "cell_type": "markdown",
   "metadata": {},
   "source": [
    "Минуты разговора, число сообщений и объем потраченного интернет-трафика по тарифу «Ультра» имеет большую дисперсию по сравнению с тарифом «Смарт», и медианы по вышеперечисленным признакам также смещены в большую сторону. Кроме того, выбросов в рамках более дешевого тарифа существенно больше."
   ]
  },
  {
   "cell_type": "code",
   "execution_count": 24,
   "metadata": {},
   "outputs": [
    {
     "data": {
      "image/png": "[encoded data removed]",
      "text/plain": [
       "<Figure size 432x288 with 1 Axes>"
      ]
     },
     "metadata": {
      "needs_background": "light"
     },
     "output_type": "display_data"
    }
   ],
   "source": [
    "sns.histplot(data=means, x=\"messages\",hue='tariff'); "
   ]
  },
  {
   "cell_type": "code",
   "execution_count": 25,
   "metadata": {},
   "outputs": [
    {
     "data": {
      "image/png": "[encoded data removed]",
      "text/plain": [
       "<Figure size 432x288 with 1 Axes>"
      ]
     },
     "metadata": {
      "needs_background": "light"
     },
     "output_type": "display_data"
    }
   ],
   "source": [
    "sns.histplot(data=means, x=\"mb_used\",hue='tariff');   "
   ]
  },
  {
   "cell_type": "code",
   "execution_count": 26,
   "metadata": {
    "scrolled": true
   },
   "outputs": [
    {
     "data": {
      "image/png": "[encoded data removed]",
      "text/plain": [
       "<Figure size 432x288 with 1 Axes>"
      ]
     },
     "metadata": {
      "needs_background": "light"
     },
     "output_type": "display_data"
    }
   ],
   "source": [
    "sns.histplot(data=means, x=\"duration\",hue='tariff');"
   ]
  },
  {
   "cell_type": "markdown",
   "metadata": {},
   "source": [
    "По гистограммам наглядно видно, что дисперсия по тарифу \"Смарт\" меньше, чем у пользователей с тарифом \"Ультра\" по всем показателям: по длительности разговора, числу сообщений и использованному интернет-трафику. Также на гистограммах видно, что мода у \"Смарта\" явно выражена."
   ]
  },
  {
   "cell_type": "markdown",
   "metadata": {},
   "source": [
    "## Проверка гипотез"
   ]
  },
  {
   "cell_type": "markdown",
   "metadata": {},
   "source": [
    "### \"Средняя выручка пользователей тарифов «Ультра» и «Смарт» различаются\""
   ]
  },
  {
   "cell_type": "markdown",
   "metadata": {},
   "source": [
    "*H0*  — средняя выручка пользователей тарифа «Ультра» равна средней выручке пользователей тарифа «Смарт».\n",
    "\n",
    "*H1*  — средняя выручка пользователей тарифов «Ультра» и «Смарт» различаются.\n",
    "\n",
    "*alpha* = 1%"
   ]
  },
  {
   "cell_type": "code",
   "execution_count": 27,
   "metadata": {},
   "outputs": [
    {
     "name": "stdout",
     "output_type": "stream",
     "text": [
      "p-значение: 8.931402711368788e-296\n",
      "Отвергаем нулевую гипотезу\n"
     ]
    }
   ],
   "source": [
    "ultra = data_grouped.query('tariff == \"ultra\"')['revenue']\n",
    "smart = data_grouped.query('tariff == \"smart\"')['revenue']\n",
    "\n",
    "alpha = 0.01\n",
    "\n",
    "results = st.ttest_ind(\n",
    "    ultra, \n",
    "    smart, \n",
    "    equal_var=False)\n",
    "\n",
    "print('p-значение:', results.pvalue)\n",
    "\n",
    "if (results.pvalue < alpha):\n",
    "    print(\"Отвергаем нулевую гипотезу\")\n",
    "else:\n",
    "    print(\"Не получилось отвергнуть нулевую гипотезу\")"
   ]
  },
  {
   "cell_type": "code",
   "execution_count": 28,
   "metadata": {},
   "outputs": [
    {
     "data": {
      "text/html": [
       "<div>\n",
       "<style scoped>\n",
       "    .dataframe tbody tr th:only-of-type {\n",
       "        vertical-align: middle;\n",
       "    }\n",
       "\n",
       "    .dataframe tbody tr th {\n",
       "        vertical-align: top;\n",
       "    }\n",
       "\n",
       "    .dataframe thead th {\n",
       "        text-align: right;\n",
       "    }\n",
       "</style>\n",
       "<table border=\"1\" class=\"dataframe\">\n",
       "  <thead>\n",
       "    <tr style=\"text-align: right;\">\n",
       "      <th></th>\n",
       "      <th>revenue</th>\n",
       "    </tr>\n",
       "    <tr>\n",
       "      <th>tariff</th>\n",
       "      <th></th>\n",
       "    </tr>\n",
       "  </thead>\n",
       "  <tbody>\n",
       "    <tr>\n",
       "      <th>smart</th>\n",
       "      <td>1233.349467</td>\n",
       "    </tr>\n",
       "    <tr>\n",
       "      <th>ultra</th>\n",
       "      <td>2060.529971</td>\n",
       "    </tr>\n",
       "  </tbody>\n",
       "</table>\n",
       "</div>"
      ],
      "text/plain": [
       "            revenue\n",
       "tariff             \n",
       "smart   1233.349467\n",
       "ultra   2060.529971"
      ]
     },
     "execution_count": 28,
     "metadata": {},
     "output_type": "execute_result"
    }
   ],
   "source": [
    "data_grouped.pivot_table(index='tariff', values='revenue', aggfunc='mean')"
   ]
  },
  {
   "cell_type": "code",
   "execution_count": 29,
   "metadata": {},
   "outputs": [
    {
     "data": {
      "image/png": "[encoded data removed]",
      "text/plain": [
       "<Figure size 360x360 with 1 Axes>"
      ]
     },
     "metadata": {
      "needs_background": "light"
     },
     "output_type": "display_data"
    }
   ],
   "source": [
    "sns.catplot(x='tariff', y='revenue',kind='box', data=data_grouped);"
   ]
  },
  {
   "cell_type": "markdown",
   "metadata": {},
   "source": [
    "Средние значения выручки по тарифам различаются почти в 2 раза. Если у пользователя подключен тариф \"Смарт\" с абонентской платой в 550 рублей, то он скорее всего по итогам месяца заплатит гораздо больше из-за нехватки услуг в рамках тарифного пакета.\n",
    "\n",
    "В заключение можно подтвердить с уверенностью 99%, что доходы \"Мегалайна\" с пользователя по тарифу \"Ультра\" действительно отличаются по сравнению с доходами от тарифа \"Смарт\"."
   ]
  },
  {
   "cell_type": "markdown",
   "metadata": {},
   "source": [
    "### \"Средняя выручка пользователей из Москвы отличается от выручки пользователей из других регионов\""
   ]
  },
  {
   "cell_type": "markdown",
   "metadata": {},
   "source": [
    "*H0*  — средняя выручка пользователей из Москвы равна средней выручке пользователей из других регионов.\n",
    "\n",
    "*H1*  — средняя выручка пользователей из Москвы отличается от средней выручке пользователей из других регионов.\n",
    "\n",
    "*alpha* = 1%"
   ]
  },
  {
   "cell_type": "code",
   "execution_count": 30,
   "metadata": {},
   "outputs": [
    {
     "data": {
      "text/html": [
       "<div>\n",
       "<style scoped>\n",
       "    .dataframe tbody tr th:only-of-type {\n",
       "        vertical-align: middle;\n",
       "    }\n",
       "\n",
       "    .dataframe tbody tr th {\n",
       "        vertical-align: top;\n",
       "    }\n",
       "\n",
       "    .dataframe thead th {\n",
       "        text-align: right;\n",
       "    }\n",
       "</style>\n",
       "<table border=\"1\" class=\"dataframe\">\n",
       "  <thead>\n",
       "    <tr style=\"text-align: right;\">\n",
       "      <th></th>\n",
       "      <th></th>\n",
       "      <th>calls</th>\n",
       "      <th>duration</th>\n",
       "      <th>messages</th>\n",
       "      <th>mb_used</th>\n",
       "      <th>tariff</th>\n",
       "      <th>revenue</th>\n",
       "      <th>city</th>\n",
       "    </tr>\n",
       "    <tr>\n",
       "      <th>user_id</th>\n",
       "      <th>month</th>\n",
       "      <th></th>\n",
       "      <th></th>\n",
       "      <th></th>\n",
       "      <th></th>\n",
       "      <th></th>\n",
       "      <th></th>\n",
       "      <th></th>\n",
       "    </tr>\n",
       "  </thead>\n",
       "  <tbody>\n",
       "    <tr>\n",
       "      <th rowspan=\"5\" valign=\"top\">1000</th>\n",
       "      <th>5</th>\n",
       "      <td>22.0</td>\n",
       "      <td>159.0</td>\n",
       "      <td>22.0</td>\n",
       "      <td>2256.0</td>\n",
       "      <td>ultra</td>\n",
       "      <td>1950.0</td>\n",
       "      <td>Краснодар</td>\n",
       "    </tr>\n",
       "    <tr>\n",
       "      <th>6</th>\n",
       "      <td>43.0</td>\n",
       "      <td>172.0</td>\n",
       "      <td>60.0</td>\n",
       "      <td>23257.0</td>\n",
       "      <td>ultra</td>\n",
       "      <td>1950.0</td>\n",
       "      <td>Краснодар</td>\n",
       "    </tr>\n",
       "    <tr>\n",
       "      <th>7</th>\n",
       "      <td>47.0</td>\n",
       "      <td>340.0</td>\n",
       "      <td>75.0</td>\n",
       "      <td>14016.0</td>\n",
       "      <td>ultra</td>\n",
       "      <td>1950.0</td>\n",
       "      <td>Краснодар</td>\n",
       "    </tr>\n",
       "    <tr>\n",
       "      <th>8</th>\n",
       "      <td>52.0</td>\n",
       "      <td>408.0</td>\n",
       "      <td>81.0</td>\n",
       "      <td>14070.0</td>\n",
       "      <td>ultra</td>\n",
       "      <td>1950.0</td>\n",
       "      <td>Краснодар</td>\n",
       "    </tr>\n",
       "    <tr>\n",
       "      <th>9</th>\n",
       "      <td>58.0</td>\n",
       "      <td>466.0</td>\n",
       "      <td>57.0</td>\n",
       "      <td>14581.0</td>\n",
       "      <td>ultra</td>\n",
       "      <td>1950.0</td>\n",
       "      <td>Краснодар</td>\n",
       "    </tr>\n",
       "  </tbody>\n",
       "</table>\n",
       "</div>"
      ],
      "text/plain": [
       "               calls  duration  messages  mb_used tariff  revenue       city\n",
       "user_id month                                                               \n",
       "1000    5       22.0     159.0      22.0   2256.0  ultra   1950.0  Краснодар\n",
       "        6       43.0     172.0      60.0  23257.0  ultra   1950.0  Краснодар\n",
       "        7       47.0     340.0      75.0  14016.0  ultra   1950.0  Краснодар\n",
       "        8       52.0     408.0      81.0  14070.0  ultra   1950.0  Краснодар\n",
       "        9       58.0     466.0      57.0  14581.0  ultra   1950.0  Краснодар"
      ]
     },
     "execution_count": 30,
     "metadata": {},
     "output_type": "execute_result"
    }
   ],
   "source": [
    "for user in data_grouped.index:# добавим наименование населенного пункта для каждого пользователя\n",
    "    data_grouped.loc[user, 'city'] = data_users.loc[user[0]-1000, 'city']\n",
    "data_grouped.head()"
   ]
  },
  {
   "cell_type": "code",
   "execution_count": 42,
   "metadata": {},
   "outputs": [
    {
     "name": "stdout",
     "output_type": "stream",
     "text": [
      "p-значение: 0.4549775646471024\n",
      "Не получилось отвергнуть нулевую гипотезу\n"
     ]
    }
   ],
   "source": [
    "moscow = data_grouped.query('city == \"Москва\"')['revenue']\n",
    "other_cities = data_grouped.query('city != \"Москва\"')['revenue']\n",
    "\n",
    "alpha = 0.01\n",
    "\n",
    "results = st.ttest_ind(\n",
    "    moscow, \n",
    "    other_cities, \n",
    "    equal_var=False)\n",
    "\n",
    "print('p-значение:', results.pvalue)\n",
    "\n",
    "if (results.pvalue < alpha):\n",
    "    print(\"Отвергаем нулевую гипотезу\")\n",
    "else:\n",
    "    print(\"Не получилось отвергнуть нулевую гипотезу\")"
   ]
  },
  {
   "cell_type": "code",
   "execution_count": 33,
   "metadata": {},
   "outputs": [],
   "source": [
    "def city_type(city):\n",
    "    if city == 'Москва': return 'moscow'\n",
    "    else: return 'other'"
   ]
  },
  {
   "cell_type": "code",
   "execution_count": 34,
   "metadata": {},
   "outputs": [
    {
     "data": {
      "text/html": [
       "<div>\n",
       "<style scoped>\n",
       "    .dataframe tbody tr th:only-of-type {\n",
       "        vertical-align: middle;\n",
       "    }\n",
       "\n",
       "    .dataframe tbody tr th {\n",
       "        vertical-align: top;\n",
       "    }\n",
       "\n",
       "    .dataframe thead th {\n",
       "        text-align: right;\n",
       "    }\n",
       "</style>\n",
       "<table border=\"1\" class=\"dataframe\">\n",
       "  <thead>\n",
       "    <tr style=\"text-align: right;\">\n",
       "      <th></th>\n",
       "      <th></th>\n",
       "      <th>calls</th>\n",
       "      <th>duration</th>\n",
       "      <th>messages</th>\n",
       "      <th>mb_used</th>\n",
       "      <th>tariff</th>\n",
       "      <th>revenue</th>\n",
       "      <th>city</th>\n",
       "      <th>city_type</th>\n",
       "    </tr>\n",
       "    <tr>\n",
       "      <th>user_id</th>\n",
       "      <th>month</th>\n",
       "      <th></th>\n",
       "      <th></th>\n",
       "      <th></th>\n",
       "      <th></th>\n",
       "      <th></th>\n",
       "      <th></th>\n",
       "      <th></th>\n",
       "      <th></th>\n",
       "    </tr>\n",
       "  </thead>\n",
       "  <tbody>\n",
       "    <tr>\n",
       "      <th rowspan=\"8\" valign=\"top\">1000</th>\n",
       "      <th>5</th>\n",
       "      <td>22.0</td>\n",
       "      <td>159.0</td>\n",
       "      <td>22.0</td>\n",
       "      <td>2256.0</td>\n",
       "      <td>ultra</td>\n",
       "      <td>1950.00000</td>\n",
       "      <td>Краснодар</td>\n",
       "      <td>other</td>\n",
       "    </tr>\n",
       "    <tr>\n",
       "      <th>6</th>\n",
       "      <td>43.0</td>\n",
       "      <td>172.0</td>\n",
       "      <td>60.0</td>\n",
       "      <td>23257.0</td>\n",
       "      <td>ultra</td>\n",
       "      <td>1950.00000</td>\n",
       "      <td>Краснодар</td>\n",
       "      <td>other</td>\n",
       "    </tr>\n",
       "    <tr>\n",
       "      <th>7</th>\n",
       "      <td>47.0</td>\n",
       "      <td>340.0</td>\n",
       "      <td>75.0</td>\n",
       "      <td>14016.0</td>\n",
       "      <td>ultra</td>\n",
       "      <td>1950.00000</td>\n",
       "      <td>Краснодар</td>\n",
       "      <td>other</td>\n",
       "    </tr>\n",
       "    <tr>\n",
       "      <th>8</th>\n",
       "      <td>52.0</td>\n",
       "      <td>408.0</td>\n",
       "      <td>81.0</td>\n",
       "      <td>14070.0</td>\n",
       "      <td>ultra</td>\n",
       "      <td>1950.00000</td>\n",
       "      <td>Краснодар</td>\n",
       "      <td>other</td>\n",
       "    </tr>\n",
       "    <tr>\n",
       "      <th>9</th>\n",
       "      <td>58.0</td>\n",
       "      <td>466.0</td>\n",
       "      <td>57.0</td>\n",
       "      <td>14581.0</td>\n",
       "      <td>ultra</td>\n",
       "      <td>1950.00000</td>\n",
       "      <td>Краснодар</td>\n",
       "      <td>other</td>\n",
       "    </tr>\n",
       "    <tr>\n",
       "      <th>10</th>\n",
       "      <td>57.0</td>\n",
       "      <td>350.0</td>\n",
       "      <td>73.0</td>\n",
       "      <td>14717.0</td>\n",
       "      <td>ultra</td>\n",
       "      <td>1950.00000</td>\n",
       "      <td>Краснодар</td>\n",
       "      <td>other</td>\n",
       "    </tr>\n",
       "    <tr>\n",
       "      <th>11</th>\n",
       "      <td>43.0</td>\n",
       "      <td>338.0</td>\n",
       "      <td>58.0</td>\n",
       "      <td>14768.0</td>\n",
       "      <td>ultra</td>\n",
       "      <td>1950.00000</td>\n",
       "      <td>Краснодар</td>\n",
       "      <td>other</td>\n",
       "    </tr>\n",
       "    <tr>\n",
       "      <th>12</th>\n",
       "      <td>46.0</td>\n",
       "      <td>333.0</td>\n",
       "      <td>70.0</td>\n",
       "      <td>9827.0</td>\n",
       "      <td>ultra</td>\n",
       "      <td>1950.00000</td>\n",
       "      <td>Краснодар</td>\n",
       "      <td>other</td>\n",
       "    </tr>\n",
       "    <tr>\n",
       "      <th rowspan=\"2\" valign=\"top\">1001</th>\n",
       "      <th>11</th>\n",
       "      <td>59.0</td>\n",
       "      <td>430.0</td>\n",
       "      <td>0.0</td>\n",
       "      <td>18452.0</td>\n",
       "      <td>smart</td>\n",
       "      <td>1153.90625</td>\n",
       "      <td>Москва</td>\n",
       "      <td>moscow</td>\n",
       "    </tr>\n",
       "    <tr>\n",
       "      <th>12</th>\n",
       "      <td>63.0</td>\n",
       "      <td>414.0</td>\n",
       "      <td>0.0</td>\n",
       "      <td>14053.0</td>\n",
       "      <td>smart</td>\n",
       "      <td>550.00000</td>\n",
       "      <td>Москва</td>\n",
       "      <td>moscow</td>\n",
       "    </tr>\n",
       "  </tbody>\n",
       "</table>\n",
       "</div>"
      ],
      "text/plain": [
       "               calls  duration  messages  mb_used tariff     revenue  \\\n",
       "user_id month                                                          \n",
       "1000    5       22.0     159.0      22.0   2256.0  ultra  1950.00000   \n",
       "        6       43.0     172.0      60.0  23257.0  ultra  1950.00000   \n",
       "        7       47.0     340.0      75.0  14016.0  ultra  1950.00000   \n",
       "        8       52.0     408.0      81.0  14070.0  ultra  1950.00000   \n",
       "        9       58.0     466.0      57.0  14581.0  ultra  1950.00000   \n",
       "        10      57.0     350.0      73.0  14717.0  ultra  1950.00000   \n",
       "        11      43.0     338.0      58.0  14768.0  ultra  1950.00000   \n",
       "        12      46.0     333.0      70.0   9827.0  ultra  1950.00000   \n",
       "1001    11      59.0     430.0       0.0  18452.0  smart  1153.90625   \n",
       "        12      63.0     414.0       0.0  14053.0  smart   550.00000   \n",
       "\n",
       "                    city city_type  \n",
       "user_id month                       \n",
       "1000    5      Краснодар     other  \n",
       "        6      Краснодар     other  \n",
       "        7      Краснодар     other  \n",
       "        8      Краснодар     other  \n",
       "        9      Краснодар     other  \n",
       "        10     Краснодар     other  \n",
       "        11     Краснодар     other  \n",
       "        12     Краснодар     other  \n",
       "1001    11        Москва    moscow  \n",
       "        12        Москва    moscow  "
      ]
     },
     "execution_count": 34,
     "metadata": {},
     "output_type": "execute_result"
    }
   ],
   "source": [
    "data_grouped['city_type'] = data_grouped['city'].apply(city_type)\n",
    "data_grouped.head(10)"
   ]
  },
  {
   "cell_type": "code",
   "execution_count": 35,
   "metadata": {},
   "outputs": [
    {
     "data": {
      "text/html": [
       "<div>\n",
       "<style scoped>\n",
       "    .dataframe tbody tr th:only-of-type {\n",
       "        vertical-align: middle;\n",
       "    }\n",
       "\n",
       "    .dataframe tbody tr th {\n",
       "        vertical-align: top;\n",
       "    }\n",
       "\n",
       "    .dataframe thead th {\n",
       "        text-align: right;\n",
       "    }\n",
       "</style>\n",
       "<table border=\"1\" class=\"dataframe\">\n",
       "  <thead>\n",
       "    <tr style=\"text-align: right;\">\n",
       "      <th></th>\n",
       "      <th>revenue</th>\n",
       "    </tr>\n",
       "    <tr>\n",
       "      <th>city_type</th>\n",
       "      <th></th>\n",
       "    </tr>\n",
       "  </thead>\n",
       "  <tbody>\n",
       "    <tr>\n",
       "      <th>moscow</th>\n",
       "      <td>1507.276762</td>\n",
       "    </tr>\n",
       "    <tr>\n",
       "      <th>other</th>\n",
       "      <td>1482.063727</td>\n",
       "    </tr>\n",
       "  </tbody>\n",
       "</table>\n",
       "</div>"
      ],
      "text/plain": [
       "               revenue\n",
       "city_type             \n",
       "moscow     1507.276762\n",
       "other      1482.063727"
      ]
     },
     "execution_count": 35,
     "metadata": {},
     "output_type": "execute_result"
    }
   ],
   "source": [
    "data_grouped.pivot_table(index='city_type', values='revenue', aggfunc='mean')"
   ]
  },
  {
   "cell_type": "code",
   "execution_count": 36,
   "metadata": {},
   "outputs": [
    {
     "data": {
      "image/png": "[encoded data removed]",
      "text/plain": [
       "<Figure size 360x360 with 1 Axes>"
      ]
     },
     "metadata": {
      "needs_background": "light"
     },
     "output_type": "display_data"
    }
   ],
   "source": [
    "sns.catplot(x='city_type', y='revenue',kind='box', data=data_grouped);"
   ]
  },
  {
   "cell_type": "markdown",
   "metadata": {},
   "source": [
    "Данный статистический тест не дал возможности опровергунть исходную гипотезу о том, что доходы от пользователей из Москвы и из других регионов равны. Действительно, доходы в Московском регионе практически не отличаются от других населенных пунктов."
   ]
  },
  {
   "cell_type": "markdown",
   "metadata": {},
   "source": [
    "## Общий вывод"
   ]
  },
  {
   "cell_type": "markdown",
   "metadata": {},
   "source": [
    "По результатам статистического анализа доходы от тарифа «Ультра» больше, чем от тарифа «Смарт»: в среднем «Мегалайн» от одного пользователя в месяц получает 1950 рублей и 988 рублей соответственно.\n",
    "\n",
    "Особенности использования тарифов заключаются в следующем:\n",
    "\n",
    "- Пользователям тарифа «Смарт» не хватает услуг в рамках тарифного пакета: кроме абонентской платы пользователи в среднем доплачивают еще 438 рублей ежемесячно.\n",
    "- Пользователи тарифа «Ультра», напротив, не используют тарифный пакет в полном объеме.\n",
    "- Средние доходы от пользователей в Москве не отличаются от доходов в других населенных пунктах: разница статистически незначима  и составляет 188 руб.: 1734 руб. в Москве против 1546 руб в других населенных пунктах."
   ]
  },
  {
   "cell_type": "code",
   "execution_count": null,
   "metadata": {},
   "outputs": [],
   "source": []
  }
 ],
 "metadata": {
  "ExecuteTimeLog": [
   {
    "duration": 6,
    "start_time": "2022-05-20T10:11:24.601Z"
   },
   {
    "duration": 56,
    "start_time": "2022-05-20T10:14:51.587Z"
   },
   {
    "duration": 63,
    "start_time": "2022-05-20T10:14:54.840Z"
   },
   {
    "duration": 1421,
    "start_time": "2022-05-20T10:16:00.006Z"
   },
   {
    "duration": 73,
    "start_time": "2022-05-20T10:16:02.440Z"
   },
   {
    "duration": 232,
    "start_time": "2022-05-20T10:16:24.989Z"
   },
   {
    "duration": 193,
    "start_time": "2022-05-20T10:17:59.433Z"
   },
   {
    "duration": 672,
    "start_time": "2022-05-20T10:18:12.970Z"
   },
   {
    "duration": 27,
    "start_time": "2022-05-20T10:18:25.757Z"
   },
   {
    "duration": 37,
    "start_time": "2022-05-20T10:19:33.764Z"
   },
   {
    "duration": 39,
    "start_time": "2022-05-20T10:20:42.513Z"
   },
   {
    "duration": 29,
    "start_time": "2022-05-20T10:21:52.548Z"
   },
   {
    "duration": 11,
    "start_time": "2022-05-20T10:22:58.539Z"
   },
   {
    "duration": 15,
    "start_time": "2022-05-20T10:23:06.042Z"
   },
   {
    "duration": 19,
    "start_time": "2022-05-20T10:23:50.132Z"
   },
   {
    "duration": 63,
    "start_time": "2022-05-26T17:00:12.096Z"
   },
   {
    "duration": 1372,
    "start_time": "2022-05-26T17:00:20.001Z"
   },
   {
    "duration": 1248,
    "start_time": "2022-05-26T17:00:21.378Z"
   },
   {
    "duration": 50,
    "start_time": "2022-05-26T17:00:22.628Z"
   },
   {
    "duration": 28,
    "start_time": "2022-05-26T17:00:22.686Z"
   },
   {
    "duration": 24,
    "start_time": "2022-05-26T17:00:22.717Z"
   },
   {
    "duration": 21,
    "start_time": "2022-05-26T17:00:22.768Z"
   },
   {
    "duration": 28,
    "start_time": "2022-05-26T17:00:22.791Z"
   },
   {
    "duration": 73,
    "start_time": "2022-05-26T17:00:22.821Z"
   },
   {
    "duration": 18,
    "start_time": "2022-05-26T17:00:28.192Z"
   },
   {
    "duration": 160,
    "start_time": "2022-05-26T17:02:00.795Z"
   },
   {
    "duration": 72,
    "start_time": "2022-05-26T17:02:06.647Z"
   },
   {
    "duration": 9,
    "start_time": "2022-05-26T17:03:20.510Z"
   },
   {
    "duration": 17,
    "start_time": "2022-05-26T17:03:26.330Z"
   },
   {
    "duration": 24,
    "start_time": "2022-05-26T17:04:29.956Z"
   },
   {
    "duration": 10,
    "start_time": "2022-05-26T17:04:39.536Z"
   },
   {
    "duration": 13,
    "start_time": "2022-05-26T17:04:53.995Z"
   },
   {
    "duration": 14,
    "start_time": "2022-05-26T17:04:59.443Z"
   },
   {
    "duration": 8,
    "start_time": "2022-05-26T17:05:29.850Z"
   },
   {
    "duration": 11,
    "start_time": "2022-05-26T17:05:45.854Z"
   },
   {
    "duration": 19,
    "start_time": "2022-05-26T17:06:22.313Z"
   },
   {
    "duration": 10,
    "start_time": "2022-05-26T17:07:55.827Z"
   },
   {
    "duration": 30,
    "start_time": "2022-05-26T17:08:06.066Z"
   },
   {
    "duration": 6,
    "start_time": "2022-05-26T17:08:47.324Z"
   },
   {
    "duration": 11,
    "start_time": "2022-05-26T17:08:53.399Z"
   },
   {
    "duration": 7,
    "start_time": "2022-05-26T17:09:12.995Z"
   },
   {
    "duration": 12,
    "start_time": "2022-05-26T17:20:16.490Z"
   },
   {
    "duration": 13,
    "start_time": "2022-05-26T17:20:23.022Z"
   },
   {
    "duration": 10,
    "start_time": "2022-05-26T17:24:52.021Z"
   },
   {
    "duration": 31,
    "start_time": "2022-05-26T17:24:57.682Z"
   },
   {
    "duration": 32,
    "start_time": "2022-05-26T17:25:08.777Z"
   },
   {
    "duration": 67,
    "start_time": "2022-05-26T17:30:14.780Z"
   },
   {
    "duration": 31,
    "start_time": "2022-05-26T17:34:28.301Z"
   },
   {
    "duration": 70,
    "start_time": "2022-05-26T17:34:41.631Z"
   },
   {
    "duration": 552,
    "start_time": "2022-05-26T17:37:35.790Z"
   },
   {
    "duration": 28,
    "start_time": "2022-05-26T17:37:46.983Z"
   },
   {
    "duration": 65,
    "start_time": "2022-05-26T17:38:12.484Z"
   },
   {
    "duration": 74,
    "start_time": "2022-05-26T17:38:21.021Z"
   },
   {
    "duration": 10,
    "start_time": "2022-05-26T17:39:03.877Z"
   },
   {
    "duration": 297,
    "start_time": "2022-05-26T17:39:47.539Z"
   },
   {
    "duration": 69,
    "start_time": "2022-05-26T17:40:52.928Z"
   },
   {
    "duration": 62,
    "start_time": "2022-05-26T17:41:13.297Z"
   },
   {
    "duration": 74,
    "start_time": "2022-05-26T17:41:52.220Z"
   },
   {
    "duration": 67,
    "start_time": "2022-05-26T17:44:27.003Z"
   },
   {
    "duration": 66,
    "start_time": "2022-05-26T17:44:35.920Z"
   },
   {
    "duration": 65,
    "start_time": "2022-05-26T17:44:42.765Z"
   },
   {
    "duration": 737,
    "start_time": "2022-05-26T17:44:59.896Z"
   },
   {
    "duration": 34,
    "start_time": "2022-05-26T17:45:06.751Z"
   },
   {
    "duration": 27,
    "start_time": "2022-05-26T17:45:23.510Z"
   },
   {
    "duration": 273,
    "start_time": "2022-05-26T17:46:08.067Z"
   },
   {
    "duration": 61,
    "start_time": "2022-05-26T17:47:55.416Z"
   },
   {
    "duration": 109,
    "start_time": "2022-05-26T17:48:08.013Z"
   },
   {
    "duration": 119,
    "start_time": "2022-05-26T17:48:11.602Z"
   },
   {
    "duration": 91,
    "start_time": "2022-05-26T17:50:17.143Z"
   },
   {
    "duration": 36,
    "start_time": "2022-05-26T17:56:07.237Z"
   },
   {
    "duration": 34,
    "start_time": "2022-05-26T17:56:15.311Z"
   },
   {
    "duration": 97,
    "start_time": "2022-05-26T17:56:59.295Z"
   },
   {
    "duration": 102,
    "start_time": "2022-05-26T17:57:10.463Z"
   },
   {
    "duration": 26,
    "start_time": "2022-05-26T18:00:49.693Z"
   },
   {
    "duration": 163,
    "start_time": "2022-05-26T18:00:53.996Z"
   },
   {
    "duration": 169,
    "start_time": "2022-05-26T18:01:00.993Z"
   },
   {
    "duration": 162,
    "start_time": "2022-05-26T18:01:27.053Z"
   },
   {
    "duration": 196,
    "start_time": "2022-05-26T18:01:33.690Z"
   },
   {
    "duration": 15,
    "start_time": "2022-05-26T18:02:35.648Z"
   },
   {
    "duration": 65,
    "start_time": "2022-05-26T18:03:00.749Z"
   },
   {
    "duration": 37,
    "start_time": "2022-05-26T18:19:50.777Z"
   },
   {
    "duration": 72,
    "start_time": "2022-05-26T18:19:54.231Z"
   },
   {
    "duration": 79,
    "start_time": "2022-05-26T18:19:57.619Z"
   },
   {
    "duration": 75,
    "start_time": "2022-05-26T18:22:08.180Z"
   },
   {
    "duration": 63,
    "start_time": "2022-05-26T18:29:46.103Z"
   },
   {
    "duration": 40,
    "start_time": "2022-05-26T18:30:03.275Z"
   },
   {
    "duration": 34,
    "start_time": "2022-05-26T18:31:15.864Z"
   },
   {
    "duration": 36,
    "start_time": "2022-05-26T18:31:23.930Z"
   },
   {
    "duration": 53,
    "start_time": "2022-05-26T18:45:00.546Z"
   },
   {
    "duration": 958,
    "start_time": "2022-05-27T16:15:56.811Z"
   },
   {
    "duration": 95,
    "start_time": "2022-05-27T16:17:32.867Z"
   },
   {
    "duration": 4,
    "start_time": "2022-05-27T16:17:37.013Z"
   },
   {
    "duration": 1869,
    "start_time": "2022-05-27T16:17:37.020Z"
   },
   {
    "duration": 65,
    "start_time": "2022-05-27T16:17:38.891Z"
   },
   {
    "duration": 35,
    "start_time": "2022-05-27T16:17:38.964Z"
   },
   {
    "duration": 58,
    "start_time": "2022-05-27T16:17:39.002Z"
   },
   {
    "duration": 22,
    "start_time": "2022-05-27T16:17:39.062Z"
   },
   {
    "duration": 40,
    "start_time": "2022-05-27T16:17:39.085Z"
   },
   {
    "duration": 105,
    "start_time": "2022-05-27T16:17:39.127Z"
   },
   {
    "duration": 33,
    "start_time": "2022-05-27T16:17:39.241Z"
   },
   {
    "duration": 19,
    "start_time": "2022-05-27T16:17:39.276Z"
   },
   {
    "duration": 463,
    "start_time": "2022-05-27T16:17:39.298Z"
   },
   {
    "duration": 51,
    "start_time": "2022-05-27T16:17:39.765Z"
   },
   {
    "duration": 64,
    "start_time": "2022-05-27T16:17:39.818Z"
   },
   {
    "duration": 7,
    "start_time": "2022-05-27T16:17:42.937Z"
   },
   {
    "duration": 5,
    "start_time": "2022-05-27T16:18:05.687Z"
   },
   {
    "duration": 19,
    "start_time": "2022-05-27T16:21:43.913Z"
   },
   {
    "duration": 3,
    "start_time": "2022-05-27T16:22:18.216Z"
   },
   {
    "duration": 481,
    "start_time": "2022-05-27T16:22:18.222Z"
   },
   {
    "duration": 39,
    "start_time": "2022-05-27T16:22:18.705Z"
   },
   {
    "duration": 45,
    "start_time": "2022-05-27T16:22:18.747Z"
   },
   {
    "duration": 66,
    "start_time": "2022-05-27T16:22:18.796Z"
   },
   {
    "duration": 27,
    "start_time": "2022-05-27T16:22:18.865Z"
   },
   {
    "duration": 51,
    "start_time": "2022-05-27T16:22:18.894Z"
   },
   {
    "duration": 145,
    "start_time": "2022-05-27T16:22:18.947Z"
   },
   {
    "duration": 22,
    "start_time": "2022-05-27T16:22:19.095Z"
   },
   {
    "duration": 23,
    "start_time": "2022-05-27T16:22:19.120Z"
   },
   {
    "duration": 6,
    "start_time": "2022-05-27T16:22:19.145Z"
   },
   {
    "duration": 118,
    "start_time": "2022-05-27T16:22:19.153Z"
   },
   {
    "duration": 42,
    "start_time": "2022-05-27T16:22:19.273Z"
   },
   {
    "duration": 57,
    "start_time": "2022-05-27T16:22:19.317Z"
   },
   {
    "duration": 20,
    "start_time": "2022-05-27T16:22:19.376Z"
   },
   {
    "duration": 16,
    "start_time": "2022-05-27T16:22:26.211Z"
   },
   {
    "duration": 15,
    "start_time": "2022-05-27T16:23:09.223Z"
   },
   {
    "duration": 14,
    "start_time": "2022-05-27T16:23:16.569Z"
   },
   {
    "duration": 14,
    "start_time": "2022-05-27T16:23:50.267Z"
   },
   {
    "duration": 17,
    "start_time": "2022-05-27T16:24:10.060Z"
   },
   {
    "duration": 40,
    "start_time": "2022-05-27T16:24:16.960Z"
   },
   {
    "duration": 142,
    "start_time": "2022-05-27T16:24:45.583Z"
   },
   {
    "duration": 41,
    "start_time": "2022-05-27T16:24:59.695Z"
   },
   {
    "duration": 24,
    "start_time": "2022-05-27T16:25:04.793Z"
   },
   {
    "duration": 16,
    "start_time": "2022-05-27T16:28:05.248Z"
   },
   {
    "duration": 9,
    "start_time": "2022-05-27T16:28:15.971Z"
   },
   {
    "duration": 1104,
    "start_time": "2022-05-27T16:30:21.007Z"
   },
   {
    "duration": 1170,
    "start_time": "2022-05-27T16:30:29.824Z"
   },
   {
    "duration": 4,
    "start_time": "2022-05-27T16:39:31.458Z"
   },
   {
    "duration": 6,
    "start_time": "2022-05-27T16:40:06.768Z"
   },
   {
    "duration": 262,
    "start_time": "2022-05-27T16:40:43.582Z"
   },
   {
    "duration": 8,
    "start_time": "2022-05-27T17:03:37.987Z"
   },
   {
    "duration": 14,
    "start_time": "2022-05-27T17:03:44.066Z"
   },
   {
    "duration": 13,
    "start_time": "2022-05-27T17:05:08.172Z"
   },
   {
    "duration": 14,
    "start_time": "2022-05-27T17:05:53.323Z"
   },
   {
    "duration": 15,
    "start_time": "2022-05-27T17:06:50.509Z"
   },
   {
    "duration": 19,
    "start_time": "2022-05-27T17:07:46.683Z"
   },
   {
    "duration": 20,
    "start_time": "2022-05-27T17:07:53.673Z"
   },
   {
    "duration": 15,
    "start_time": "2022-05-27T17:09:33.694Z"
   },
   {
    "duration": 14,
    "start_time": "2022-05-27T17:09:33.798Z"
   },
   {
    "duration": 15,
    "start_time": "2022-05-27T17:09:39.577Z"
   },
   {
    "duration": 15,
    "start_time": "2022-05-27T17:09:42.707Z"
   },
   {
    "duration": 107,
    "start_time": "2022-05-27T17:09:52.068Z"
   },
   {
    "duration": 114,
    "start_time": "2022-05-27T17:10:00.219Z"
   },
   {
    "duration": 23,
    "start_time": "2022-05-27T17:19:17.357Z"
   },
   {
    "duration": 25,
    "start_time": "2022-05-27T17:19:24.211Z"
   },
   {
    "duration": 44,
    "start_time": "2022-05-27T17:19:42.853Z"
   },
   {
    "duration": 26,
    "start_time": "2022-05-27T17:19:49.678Z"
   },
   {
    "duration": 796,
    "start_time": "2022-05-27T17:21:44.674Z"
   },
   {
    "duration": 152,
    "start_time": "2022-05-27T17:22:38.707Z"
   },
   {
    "duration": 193,
    "start_time": "2022-05-27T17:22:56.325Z"
   },
   {
    "duration": 176,
    "start_time": "2022-05-27T17:23:00.990Z"
   },
   {
    "duration": 19,
    "start_time": "2022-05-27T17:23:42.240Z"
   },
   {
    "duration": 16,
    "start_time": "2022-05-27T17:24:13.256Z"
   },
   {
    "duration": 908,
    "start_time": "2022-05-27T17:24:44.882Z"
   },
   {
    "duration": 915,
    "start_time": "2022-05-27T17:24:56.348Z"
   },
   {
    "duration": 16,
    "start_time": "2022-05-27T17:35:19.078Z"
   },
   {
    "duration": 16,
    "start_time": "2022-05-27T17:36:01.153Z"
   },
   {
    "duration": 32,
    "start_time": "2022-05-27T17:37:27.757Z"
   },
   {
    "duration": 38,
    "start_time": "2022-05-27T17:37:41.991Z"
   },
   {
    "duration": 44,
    "start_time": "2022-05-27T17:37:45.165Z"
   },
   {
    "duration": 222,
    "start_time": "2022-05-27T17:37:54.575Z"
   },
   {
    "duration": 210,
    "start_time": "2022-05-27T17:38:03.073Z"
   },
   {
    "duration": 49,
    "start_time": "2022-05-27T17:40:01.133Z"
   },
   {
    "duration": 21,
    "start_time": "2022-05-27T17:40:08.672Z"
   },
   {
    "duration": 230,
    "start_time": "2022-05-27T17:40:54.399Z"
   },
   {
    "duration": 245,
    "start_time": "2022-05-27T17:41:19.987Z"
   },
   {
    "duration": 219,
    "start_time": "2022-05-27T17:41:26.290Z"
   },
   {
    "duration": 325,
    "start_time": "2022-05-27T17:43:10.924Z"
   },
   {
    "duration": 222,
    "start_time": "2022-05-27T17:43:24.463Z"
   },
   {
    "duration": 17,
    "start_time": "2022-05-27T17:44:33.191Z"
   },
   {
    "duration": 351,
    "start_time": "2022-05-27T17:44:39.518Z"
   },
   {
    "duration": 6,
    "start_time": "2022-05-27T17:45:00.878Z"
   },
   {
    "duration": 240,
    "start_time": "2022-05-27T17:45:25.687Z"
   },
   {
    "duration": 242,
    "start_time": "2022-05-27T17:45:30.772Z"
   },
   {
    "duration": 346,
    "start_time": "2022-05-27T17:45:55.101Z"
   },
   {
    "duration": 231,
    "start_time": "2022-05-27T17:46:19.119Z"
   },
   {
    "duration": 338,
    "start_time": "2022-05-27T17:46:21.203Z"
   },
   {
    "duration": 221,
    "start_time": "2022-05-27T17:46:24.009Z"
   },
   {
    "duration": 222,
    "start_time": "2022-05-27T17:46:27.979Z"
   },
   {
    "duration": 37,
    "start_time": "2022-05-27T17:53:51.477Z"
   },
   {
    "duration": 290,
    "start_time": "2022-05-27T17:54:39.097Z"
   },
   {
    "duration": 326,
    "start_time": "2022-05-27T17:58:43.126Z"
   },
   {
    "duration": 238,
    "start_time": "2022-05-27T17:58:54.333Z"
   },
   {
    "duration": 258,
    "start_time": "2022-05-27T17:59:05.397Z"
   },
   {
    "duration": 7988,
    "start_time": "2022-05-27T18:02:10.709Z"
   },
   {
    "duration": 416,
    "start_time": "2022-05-27T18:02:29.863Z"
   },
   {
    "duration": 7,
    "start_time": "2022-05-27T18:06:25.780Z"
   },
   {
    "duration": 264,
    "start_time": "2022-05-27T18:06:44.170Z"
   },
   {
    "duration": 226,
    "start_time": "2022-05-27T18:06:59.075Z"
   },
   {
    "duration": 259,
    "start_time": "2022-05-27T18:07:23.534Z"
   },
   {
    "duration": 291,
    "start_time": "2022-05-27T18:07:36.894Z"
   },
   {
    "duration": 196,
    "start_time": "2022-05-27T18:07:56.615Z"
   },
   {
    "duration": 290,
    "start_time": "2022-05-27T18:08:08.827Z"
   },
   {
    "duration": 18,
    "start_time": "2022-05-27T18:08:43.486Z"
   },
   {
    "duration": 27,
    "start_time": "2022-05-27T18:08:53.531Z"
   },
   {
    "duration": 16,
    "start_time": "2022-05-27T18:09:24.136Z"
   },
   {
    "duration": 255,
    "start_time": "2022-05-27T18:09:30.675Z"
   },
   {
    "duration": 629,
    "start_time": "2022-05-27T18:09:38.267Z"
   },
   {
    "duration": 218,
    "start_time": "2022-05-27T18:09:48.667Z"
   },
   {
    "duration": 301,
    "start_time": "2022-05-27T18:10:00.699Z"
   },
   {
    "duration": 12,
    "start_time": "2022-05-27T18:10:12.477Z"
   },
   {
    "duration": 148,
    "start_time": "2022-05-27T18:10:19.424Z"
   },
   {
    "duration": 16,
    "start_time": "2022-05-27T18:10:40.567Z"
   },
   {
    "duration": 353,
    "start_time": "2022-05-27T18:11:56.693Z"
   },
   {
    "duration": 221,
    "start_time": "2022-05-27T18:12:13.185Z"
   },
   {
    "duration": 330,
    "start_time": "2022-05-27T18:12:27.207Z"
   },
   {
    "duration": 230,
    "start_time": "2022-05-27T18:13:25.917Z"
   },
   {
    "duration": 274,
    "start_time": "2022-05-27T18:13:37.694Z"
   },
   {
    "duration": 239,
    "start_time": "2022-05-27T18:13:51.889Z"
   },
   {
    "duration": 7,
    "start_time": "2022-05-27T18:16:20.280Z"
   },
   {
    "duration": 9,
    "start_time": "2022-05-27T18:16:32.465Z"
   },
   {
    "duration": 11,
    "start_time": "2022-05-27T18:16:46.356Z"
   },
   {
    "duration": 11,
    "start_time": "2022-05-27T18:17:08.891Z"
   },
   {
    "duration": 12,
    "start_time": "2022-05-27T18:17:57.676Z"
   },
   {
    "duration": 14,
    "start_time": "2022-05-27T18:18:03.423Z"
   },
   {
    "duration": 12,
    "start_time": "2022-05-27T18:18:39.633Z"
   },
   {
    "duration": 445,
    "start_time": "2022-05-27T18:18:46.698Z"
   },
   {
    "duration": 297,
    "start_time": "2022-05-27T18:18:50.631Z"
   },
   {
    "duration": 1267,
    "start_time": "2022-05-27T18:21:27.392Z"
   },
   {
    "duration": 1125,
    "start_time": "2022-05-27T18:21:35.653Z"
   },
   {
    "duration": 10,
    "start_time": "2022-05-27T18:22:23.625Z"
   },
   {
    "duration": 11,
    "start_time": "2022-05-27T18:22:31.781Z"
   },
   {
    "duration": 10,
    "start_time": "2022-05-27T18:22:54.811Z"
   },
   {
    "duration": 4,
    "start_time": "2022-05-27T18:24:32.986Z"
   },
   {
    "duration": 20,
    "start_time": "2022-05-27T18:25:10.121Z"
   },
   {
    "duration": 20,
    "start_time": "2022-05-27T18:26:18.068Z"
   },
   {
    "duration": 16,
    "start_time": "2022-05-27T18:27:23.178Z"
   },
   {
    "duration": 4,
    "start_time": "2022-05-27T18:28:48.321Z"
   },
   {
    "duration": 22,
    "start_time": "2022-05-27T18:28:55.961Z"
   },
   {
    "duration": 20,
    "start_time": "2022-05-27T18:29:20.680Z"
   },
   {
    "duration": 304,
    "start_time": "2022-05-27T18:29:36.830Z"
   },
   {
    "duration": 2061,
    "start_time": "2022-05-28T11:05:48.378Z"
   },
   {
    "duration": 4,
    "start_time": "2022-05-28T11:05:52.113Z"
   },
   {
    "duration": 1135,
    "start_time": "2022-05-28T11:05:52.119Z"
   },
   {
    "duration": 47,
    "start_time": "2022-05-28T11:05:53.256Z"
   },
   {
    "duration": 28,
    "start_time": "2022-05-28T11:05:53.304Z"
   },
   {
    "duration": 43,
    "start_time": "2022-05-28T11:05:53.334Z"
   },
   {
    "duration": 17,
    "start_time": "2022-05-28T11:05:53.378Z"
   },
   {
    "duration": 21,
    "start_time": "2022-05-28T11:05:53.397Z"
   },
   {
    "duration": 106,
    "start_time": "2022-05-28T11:05:53.420Z"
   },
   {
    "duration": 16,
    "start_time": "2022-05-28T11:05:53.528Z"
   },
   {
    "duration": 21,
    "start_time": "2022-05-28T11:05:53.545Z"
   },
   {
    "duration": 6,
    "start_time": "2022-05-28T11:05:53.573Z"
   },
   {
    "duration": 107,
    "start_time": "2022-05-28T11:05:53.581Z"
   },
   {
    "duration": 64,
    "start_time": "2022-05-28T11:05:53.691Z"
   },
   {
    "duration": 64,
    "start_time": "2022-05-28T11:05:53.758Z"
   },
   {
    "duration": 22,
    "start_time": "2022-05-28T11:05:53.824Z"
   },
   {
    "duration": 11,
    "start_time": "2022-05-28T11:05:53.865Z"
   },
   {
    "duration": 1255,
    "start_time": "2022-05-28T11:05:53.882Z"
   },
   {
    "duration": 6,
    "start_time": "2022-05-28T11:05:55.139Z"
   },
   {
    "duration": 300,
    "start_time": "2022-05-28T11:05:55.147Z"
   },
   {
    "duration": 149,
    "start_time": "2022-05-28T11:05:55.448Z"
   },
   {
    "duration": 28,
    "start_time": "2022-05-28T11:05:55.598Z"
   },
   {
    "duration": 1023,
    "start_time": "2022-05-28T11:05:55.628Z"
   },
   {
    "duration": 251,
    "start_time": "2022-05-28T11:05:56.653Z"
   },
   {
    "duration": 317,
    "start_time": "2022-05-28T11:05:56.906Z"
   },
   {
    "duration": 292,
    "start_time": "2022-05-28T11:05:57.225Z"
   },
   {
    "duration": 13,
    "start_time": "2022-05-28T11:05:57.518Z"
   },
   {
    "duration": 13,
    "start_time": "2022-05-28T11:05:57.533Z"
   },
   {
    "duration": 300,
    "start_time": "2022-05-28T11:05:57.569Z"
   },
   {
    "duration": 1452,
    "start_time": "2022-05-28T11:05:57.876Z"
   },
   {
    "duration": 13,
    "start_time": "2022-05-28T11:05:59.331Z"
   },
   {
    "duration": 20,
    "start_time": "2022-05-28T11:05:59.346Z"
   },
   {
    "duration": 25,
    "start_time": "2022-05-28T11:05:59.374Z"
   },
   {
    "duration": 20,
    "start_time": "2022-05-28T11:05:59.401Z"
   },
   {
    "duration": 320,
    "start_time": "2022-05-28T11:05:59.423Z"
   },
   {
    "duration": 231,
    "start_time": "2022-05-28T11:27:54.012Z"
   },
   {
    "duration": 268,
    "start_time": "2022-05-28T11:27:59.915Z"
   },
   {
    "duration": 254,
    "start_time": "2022-05-28T11:28:07.949Z"
   },
   {
    "duration": 403,
    "start_time": "2022-05-28T11:28:10.787Z"
   },
   {
    "duration": 289,
    "start_time": "2022-05-28T11:28:18.998Z"
   },
   {
    "duration": 283,
    "start_time": "2022-05-28T11:28:20.164Z"
   },
   {
    "duration": 260,
    "start_time": "2022-05-28T11:28:25.856Z"
   },
   {
    "duration": 5,
    "start_time": "2022-05-28T11:34:01.077Z"
   },
   {
    "duration": 1010,
    "start_time": "2022-05-28T12:11:36.814Z"
   },
   {
    "duration": 457,
    "start_time": "2022-05-28T12:11:37.826Z"
   },
   {
    "duration": 30,
    "start_time": "2022-05-28T12:11:38.285Z"
   },
   {
    "duration": 25,
    "start_time": "2022-05-28T12:11:38.317Z"
   },
   {
    "duration": 20,
    "start_time": "2022-05-28T12:11:38.343Z"
   },
   {
    "duration": 14,
    "start_time": "2022-05-28T12:11:38.364Z"
   },
   {
    "duration": 17,
    "start_time": "2022-05-28T12:11:38.379Z"
   },
   {
    "duration": 84,
    "start_time": "2022-05-28T12:11:38.398Z"
   },
   {
    "duration": 14,
    "start_time": "2022-05-28T12:11:38.484Z"
   },
   {
    "duration": 6,
    "start_time": "2022-05-28T12:11:38.500Z"
   },
   {
    "duration": 4,
    "start_time": "2022-05-28T12:11:38.507Z"
   },
   {
    "duration": 8,
    "start_time": "2022-05-28T12:11:38.512Z"
   },
   {
    "duration": 0,
    "start_time": "2022-05-28T12:11:38.522Z"
   },
   {
    "duration": 0,
    "start_time": "2022-05-28T12:11:38.523Z"
   },
   {
    "duration": 0,
    "start_time": "2022-05-28T12:11:38.524Z"
   },
   {
    "duration": 0,
    "start_time": "2022-05-28T12:11:38.525Z"
   },
   {
    "duration": 0,
    "start_time": "2022-05-28T12:11:38.526Z"
   },
   {
    "duration": 0,
    "start_time": "2022-05-28T12:11:38.527Z"
   },
   {
    "duration": 0,
    "start_time": "2022-05-28T12:11:38.527Z"
   },
   {
    "duration": 0,
    "start_time": "2022-05-28T12:11:38.528Z"
   },
   {
    "duration": 0,
    "start_time": "2022-05-28T12:11:38.529Z"
   },
   {
    "duration": 0,
    "start_time": "2022-05-28T12:11:38.530Z"
   },
   {
    "duration": 0,
    "start_time": "2022-05-28T12:11:38.531Z"
   },
   {
    "duration": 0,
    "start_time": "2022-05-28T12:11:38.559Z"
   },
   {
    "duration": 0,
    "start_time": "2022-05-28T12:11:38.560Z"
   },
   {
    "duration": 0,
    "start_time": "2022-05-28T12:11:38.561Z"
   },
   {
    "duration": 0,
    "start_time": "2022-05-28T12:11:38.562Z"
   },
   {
    "duration": 0,
    "start_time": "2022-05-28T12:11:38.563Z"
   },
   {
    "duration": 0,
    "start_time": "2022-05-28T12:11:38.564Z"
   },
   {
    "duration": 0,
    "start_time": "2022-05-28T12:11:38.565Z"
   },
   {
    "duration": 0,
    "start_time": "2022-05-28T12:11:38.566Z"
   },
   {
    "duration": 0,
    "start_time": "2022-05-28T12:11:38.567Z"
   },
   {
    "duration": 0,
    "start_time": "2022-05-28T12:11:38.568Z"
   },
   {
    "duration": 0,
    "start_time": "2022-05-28T12:11:38.568Z"
   },
   {
    "duration": 0,
    "start_time": "2022-05-28T12:11:38.569Z"
   },
   {
    "duration": 1113,
    "start_time": "2022-05-28T12:13:26.463Z"
   },
   {
    "duration": 465,
    "start_time": "2022-05-28T12:13:27.578Z"
   },
   {
    "duration": 51,
    "start_time": "2022-05-28T12:13:28.045Z"
   },
   {
    "duration": 40,
    "start_time": "2022-05-28T12:13:28.099Z"
   },
   {
    "duration": 34,
    "start_time": "2022-05-28T12:13:28.141Z"
   },
   {
    "duration": 22,
    "start_time": "2022-05-28T12:13:28.177Z"
   },
   {
    "duration": 30,
    "start_time": "2022-05-28T12:13:28.201Z"
   },
   {
    "duration": 82,
    "start_time": "2022-05-28T12:13:28.233Z"
   },
   {
    "duration": 17,
    "start_time": "2022-05-28T12:13:28.316Z"
   },
   {
    "duration": 12,
    "start_time": "2022-05-28T12:13:28.336Z"
   },
   {
    "duration": 9,
    "start_time": "2022-05-28T12:13:28.350Z"
   },
   {
    "duration": 82,
    "start_time": "2022-05-28T12:13:28.361Z"
   },
   {
    "duration": 51,
    "start_time": "2022-05-28T12:13:28.444Z"
   },
   {
    "duration": 46,
    "start_time": "2022-05-28T12:13:28.497Z"
   },
   {
    "duration": 33,
    "start_time": "2022-05-28T12:13:28.544Z"
   },
   {
    "duration": 6,
    "start_time": "2022-05-28T12:13:28.579Z"
   },
   {
    "duration": 1018,
    "start_time": "2022-05-28T12:13:28.586Z"
   },
   {
    "duration": 7,
    "start_time": "2022-05-28T12:13:29.605Z"
   },
   {
    "duration": 255,
    "start_time": "2022-05-28T12:13:29.614Z"
   },
   {
    "duration": 131,
    "start_time": "2022-05-28T12:13:29.871Z"
   },
   {
    "duration": 25,
    "start_time": "2022-05-28T12:13:30.004Z"
   },
   {
    "duration": 970,
    "start_time": "2022-05-28T12:13:30.030Z"
   },
   {
    "duration": 211,
    "start_time": "2022-05-28T12:13:31.001Z"
   },
   {
    "duration": 251,
    "start_time": "2022-05-28T12:13:31.214Z"
   },
   {
    "duration": 268,
    "start_time": "2022-05-28T12:13:31.467Z"
   },
   {
    "duration": 23,
    "start_time": "2022-05-28T12:13:31.737Z"
   },
   {
    "duration": 13,
    "start_time": "2022-05-28T12:13:31.762Z"
   },
   {
    "duration": 285,
    "start_time": "2022-05-28T12:13:31.777Z"
   },
   {
    "duration": 1249,
    "start_time": "2022-05-28T12:13:32.064Z"
   },
   {
    "duration": 11,
    "start_time": "2022-05-28T12:13:33.315Z"
   },
   {
    "duration": 10,
    "start_time": "2022-05-28T12:13:33.328Z"
   },
   {
    "duration": 35,
    "start_time": "2022-05-28T12:13:33.340Z"
   },
   {
    "duration": 39,
    "start_time": "2022-05-28T12:13:33.377Z"
   },
   {
    "duration": 299,
    "start_time": "2022-05-28T12:13:33.418Z"
   },
   {
    "duration": 26,
    "start_time": "2022-05-28T12:13:45.048Z"
   },
   {
    "duration": 39,
    "start_time": "2022-05-28T12:14:50.529Z"
   },
   {
    "duration": 33,
    "start_time": "2022-05-28T12:14:52.773Z"
   },
   {
    "duration": 39,
    "start_time": "2022-05-28T12:15:32.247Z"
   },
   {
    "duration": 40,
    "start_time": "2022-05-28T12:16:13.898Z"
   },
   {
    "duration": 4,
    "start_time": "2022-05-28T12:17:09.060Z"
   },
   {
    "duration": 20,
    "start_time": "2022-05-28T12:17:14.817Z"
   },
   {
    "duration": 58,
    "start_time": "2022-05-28T12:19:27.896Z"
   },
   {
    "duration": 91,
    "start_time": "2022-05-30T16:43:06.183Z"
   },
   {
    "duration": 1317,
    "start_time": "2022-05-30T16:43:10.015Z"
   },
   {
    "duration": 1211,
    "start_time": "2022-05-30T16:43:11.335Z"
   },
   {
    "duration": 33,
    "start_time": "2022-05-30T16:43:12.548Z"
   },
   {
    "duration": 24,
    "start_time": "2022-05-30T16:43:12.583Z"
   },
   {
    "duration": 32,
    "start_time": "2022-05-30T16:43:12.608Z"
   },
   {
    "duration": 32,
    "start_time": "2022-05-30T16:43:12.641Z"
   },
   {
    "duration": 19,
    "start_time": "2022-05-30T16:43:12.675Z"
   },
   {
    "duration": 124,
    "start_time": "2022-05-30T16:43:12.696Z"
   },
   {
    "duration": 14,
    "start_time": "2022-05-30T16:43:12.822Z"
   },
   {
    "duration": 21,
    "start_time": "2022-05-30T16:43:12.839Z"
   },
   {
    "duration": 4,
    "start_time": "2022-05-30T16:43:12.862Z"
   },
   {
    "duration": 113,
    "start_time": "2022-05-30T16:43:12.867Z"
   },
   {
    "duration": 41,
    "start_time": "2022-05-30T16:43:12.982Z"
   },
   {
    "duration": 58,
    "start_time": "2022-05-30T16:43:13.024Z"
   },
   {
    "duration": 20,
    "start_time": "2022-05-30T16:43:13.083Z"
   },
   {
    "duration": 6,
    "start_time": "2022-05-30T16:43:13.104Z"
   },
   {
    "duration": 1063,
    "start_time": "2022-05-30T16:43:13.111Z"
   },
   {
    "duration": 6,
    "start_time": "2022-05-30T16:43:14.176Z"
   },
   {
    "duration": 261,
    "start_time": "2022-05-30T16:43:14.184Z"
   },
   {
    "duration": 174,
    "start_time": "2022-05-30T16:43:14.447Z"
   },
   {
    "duration": 37,
    "start_time": "2022-05-30T16:43:14.623Z"
   },
   {
    "duration": 1028,
    "start_time": "2022-05-30T16:43:14.661Z"
   },
   {
    "duration": 206,
    "start_time": "2022-05-30T16:43:15.691Z"
   },
   {
    "duration": 252,
    "start_time": "2022-05-30T16:43:15.898Z"
   },
   {
    "duration": 225,
    "start_time": "2022-05-30T16:43:16.151Z"
   },
   {
    "duration": 14,
    "start_time": "2022-05-30T16:43:16.378Z"
   },
   {
    "duration": 17,
    "start_time": "2022-05-30T16:43:16.393Z"
   },
   {
    "duration": 295,
    "start_time": "2022-05-30T16:43:16.413Z"
   },
   {
    "duration": 1057,
    "start_time": "2022-05-30T16:43:16.709Z"
   },
   {
    "duration": 12,
    "start_time": "2022-05-30T16:43:17.767Z"
   },
   {
    "duration": 6,
    "start_time": "2022-05-30T16:43:17.781Z"
   },
   {
    "duration": 8,
    "start_time": "2022-05-30T16:43:17.789Z"
   },
   {
    "duration": 23,
    "start_time": "2022-05-30T16:43:17.798Z"
   },
   {
    "duration": 35,
    "start_time": "2022-05-30T16:43:17.823Z"
   },
   {
    "duration": 271,
    "start_time": "2022-05-30T16:43:17.860Z"
   },
   {
    "duration": 5,
    "start_time": "2022-05-30T16:44:00.985Z"
   },
   {
    "duration": 62,
    "start_time": "2022-05-30T16:44:05.483Z"
   },
   {
    "duration": 9,
    "start_time": "2022-05-30T16:44:13.159Z"
   },
   {
    "duration": 3,
    "start_time": "2022-05-30T16:46:30.736Z"
   },
   {
    "duration": 4,
    "start_time": "2022-05-30T16:46:33.552Z"
   },
   {
    "duration": 10,
    "start_time": "2022-05-30T16:49:14.142Z"
   }
  ],
  "kernelspec": {
   "display_name": "Python 3 (ipykernel)",
   "language": "python",
   "name": "python3"
  },
  "language_info": {
   "codemirror_mode": {
    "name": "ipython",
    "version": 3
   },
   "file_extension": ".py",
   "mimetype": "text/x-python",
   "name": "python",
   "nbconvert_exporter": "python",
   "pygments_lexer": "ipython3",
   "version": "3.9.7"
  },
  "toc": {
   "base_numbering": 1,
   "nav_menu": {},
   "number_sections": true,
   "sideBar": true,
   "skip_h1_title": true,
   "title_cell": "Table of Contents",
   "title_sidebar": "Contents",
   "toc_cell": false,
   "toc_position": {},
   "toc_section_display": true,
   "toc_window_display": false
  }
 },
 "nbformat": 4,
 "nbformat_minor": 2
}
