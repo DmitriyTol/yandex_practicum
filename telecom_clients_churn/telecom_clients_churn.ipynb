{
 "cells": [
  {
   "cell_type": "markdown",
   "id": "2b81fb0f",
   "metadata": {},
   "source": [
    "# Telecom\n"
   ]
  },
  {
   "cell_type": "markdown",
   "id": "91b84f22",
   "metadata": {},
   "source": [
    "## Описание проекта"
   ]
  },
  {
   "cell_type": "markdown",
   "id": "cb0ec39a",
   "metadata": {},
   "source": [
    "Оператор связи «ТелеДом» хочет бороться с оттоком клиентов. Для этого его сотрудники начнут предлагать промокоды и специальные условия всем, кто планирует отказаться от услуг связи. Чтобы заранее находить таких пользователей, «ТелеДому» нужна модель, которая будет предсказывать, разорвёт ли абонент договор. Команда оператора собрала персональные данные о некоторых клиентах, информацию об их тарифах и услугах. Наша задача — обучить на этих данных модель для прогноза оттока клиентов."
   ]
  },
  {
   "cell_type": "markdown",
   "id": "6c5353d2",
   "metadata": {},
   "source": [
    "Описание данных: \n",
    "Таблица telecom.contract\n",
    "- customerID — ID абонента;\n",
    "- BeginDate — дата начала действия договора;\n",
    "- EndDate — дата окончания действия договора;\n",
    "- Type — тип оплаты: раз в год-два или ежемесячно;\n",
    "- PaperlessBilling — электронный расчётный лист;\n",
    "- ЗaymentMethod — тип платежа;\n",
    "- MonthlyCharges — расходы за месяц;\n",
    "- TotalCharges — общие расходы абонента.\n",
    "\n",
    "Таблица personal\n",
    "- customerID — ID пользователя;\n",
    "- gender — пол;\n",
    "- SeniorCitizen — является ли абонент пенсионером;\n",
    "- Partner — есть ли у абонента супруг или супруга;\n",
    "- Dependents — есть ли у абонента дети.\n",
    "\n",
    "Таблица telecom.internet\n",
    "- customerID — ID пользователя;\n",
    "- InternetService — тип подключения;\n",
    "- OnlineSecurity — блокировка опасных сайтов;\n",
    "- OnlineBackup — облачное хранилище файлов для резервного копирования данных;\n",
    "- DeviceProtection — антивирус;\n",
    "- TechSupport — выделенная линия технической поддержки;\n",
    "- StreamingTV — стриминговое телевидение;\n",
    "- StreamingMovies — каталог фильмов.\n",
    "\n",
    "Таблица telecom.phone\n",
    "- customerID — ID пользователя;\n",
    "- MultipleLines — подключение телефона к нескольким линиям одновременно."
   ]
  },
  {
   "cell_type": "markdown",
   "id": "d5ac59f0",
   "metadata": {},
   "source": [
    "## Загрузка данных"
   ]
  },
  {
   "cell_type": "code",
   "execution_count": 43,
   "id": "f0da5a24",
   "metadata": {},
   "outputs": [
    {
     "name": "stdout",
     "output_type": "stream",
     "text": [
      "Requirement already satisfied: phik in /opt/conda/lib/python3.9/site-packages (0.12.3)\n",
      "Requirement already satisfied: joblib>=0.14.1 in /opt/conda/lib/python3.9/site-packages (from phik) (1.2.0)\n",
      "Requirement already satisfied: pandas>=0.25.1 in /opt/conda/lib/python3.9/site-packages (from phik) (1.2.4)\n",
      "Requirement already satisfied: scipy>=1.5.2 in /opt/conda/lib/python3.9/site-packages (from phik) (1.9.1)\n",
      "Requirement already satisfied: matplotlib>=2.2.3 in /opt/conda/lib/python3.9/site-packages (from phik) (3.3.4)\n",
      "Requirement already satisfied: numpy>=1.18.0 in /opt/conda/lib/python3.9/site-packages (from phik) (1.21.1)\n",
      "Requirement already satisfied: pyparsing!=2.0.4,!=2.1.2,!=2.1.6,>=2.0.3 in /opt/conda/lib/python3.9/site-packages (from matplotlib>=2.2.3->phik) (2.4.7)\n",
      "Requirement already satisfied: pillow>=6.2.0 in /opt/conda/lib/python3.9/site-packages (from matplotlib>=2.2.3->phik) (8.4.0)\n",
      "Requirement already satisfied: python-dateutil>=2.1 in /opt/conda/lib/python3.9/site-packages (from matplotlib>=2.2.3->phik) (2.8.1)\n",
      "Requirement already satisfied: kiwisolver>=1.0.1 in /opt/conda/lib/python3.9/site-packages (from matplotlib>=2.2.3->phik) (1.4.4)\n",
      "Requirement already satisfied: cycler>=0.10 in /opt/conda/lib/python3.9/site-packages (from matplotlib>=2.2.3->phik) (0.11.0)\n",
      "Requirement already satisfied: pytz>=2017.3 in /opt/conda/lib/python3.9/site-packages (from pandas>=0.25.1->phik) (2021.1)\n",
      "Requirement already satisfied: six>=1.5 in /opt/conda/lib/python3.9/site-packages (from python-dateutil>=2.1->matplotlib>=2.2.3->phik) (1.16.0)\n",
      "Requirement already satisfied: scikit-learn in /opt/conda/lib/python3.9/site-packages (1.2.2)\n",
      "Requirement already satisfied: numpy>=1.17.3 in /opt/conda/lib/python3.9/site-packages (from scikit-learn) (1.21.1)\n",
      "Requirement already satisfied: scipy>=1.3.2 in /opt/conda/lib/python3.9/site-packages (from scikit-learn) (1.9.1)\n",
      "Requirement already satisfied: threadpoolctl>=2.0.0 in /opt/conda/lib/python3.9/site-packages (from scikit-learn) (3.1.0)\n",
      "Requirement already satisfied: joblib>=1.1.1 in /opt/conda/lib/python3.9/site-packages (from scikit-learn) (1.2.0)\n"
     ]
    }
   ],
   "source": [
    "!pip install phik\n",
    "!pip install -U scikit-learn\n",
    "from sqlalchemy import create_engine \n",
    "import numpy as np\n",
    "import pandas as pd\n",
    "import matplotlib.pyplot as plt\n",
    "import seaborn as sns\n",
    "import math\n",
    "from phik import phik_matrix\n",
    "\n",
    "from sklearn.model_selection import train_test_split\n",
    "from sklearn.model_selection import GridSearchCV\n",
    "from sklearn.ensemble import RandomForestClassifier\n",
    "from catboost import CatBoostClassifier\n",
    "from sklearn.metrics import roc_auc_score\n",
    "from sklearn.metrics import accuracy_score\n",
    "from sklearn.preprocessing import StandardScaler, OneHotEncoder\n",
    "from sklearn.compose import ColumnTransformer\n",
    "\n",
    "from torch.utils.data import Dataset, DataLoader\n",
    "#from skorch.callbacks import EpochScoring, EarlyStopping\n",
    "import torch\n",
    "import torch.nn as nn\n",
    "\n",
    "from sklearn.metrics import confusion_matrix, ConfusionMatrixDisplay\n",
    "from sklearn.metrics import recall_score\n",
    "from sklearn.metrics import precision_score"
   ]
  },
  {
   "cell_type": "code",
   "execution_count": 44,
   "id": "a6079d3e",
   "metadata": {},
   "outputs": [],
   "source": [
    "RANDOM_STATE = 90523\n",
    "db_config = {\n",
    "'user': 'praktikum_student',# имя пользователя,\n",
    "'pwd': 'Sdf4$2;d-d30pp',# пароль,\n",
    "'host': 'rc1b-wcoijxj3yxfsf3fs.mdb.yandexcloud.net',\n",
    "'port': 6432,# порт подключения,\n",
    "'db': 'data-science-final'# название базы данных,\n",
    "}"
   ]
  },
  {
   "cell_type": "code",
   "execution_count": 45,
   "id": "77d5f64e",
   "metadata": {},
   "outputs": [],
   "source": [
    "connection_string = 'postgresql://{}:{}@{}:{}/{}'.format(\n",
    "    db_config['user'],\n",
    "    db_config['pwd'],\n",
    "    db_config['host'],\n",
    "    db_config['port'],\n",
    "    db_config['db'],\n",
    ") "
   ]
  },
  {
   "cell_type": "code",
   "execution_count": 46,
   "id": "570cab56",
   "metadata": {},
   "outputs": [],
   "source": [
    "engine = create_engine(connection_string)"
   ]
  },
  {
   "cell_type": "markdown",
   "id": "570a3958",
   "metadata": {},
   "source": [
    "## Анализ данных"
   ]
  },
  {
   "cell_type": "markdown",
   "id": "99cd33ca",
   "metadata": {},
   "source": [
    "Приступим к загрзузке данных"
   ]
  },
  {
   "cell_type": "code",
   "execution_count": 47,
   "id": "4e2b6332",
   "metadata": {},
   "outputs": [
    {
     "data": {
      "text/html": [
       "<div>\n",
       "<style scoped>\n",
       "    .dataframe tbody tr th:only-of-type {\n",
       "        vertical-align: middle;\n",
       "    }\n",
       "\n",
       "    .dataframe tbody tr th {\n",
       "        vertical-align: top;\n",
       "    }\n",
       "\n",
       "    .dataframe thead th {\n",
       "        text-align: right;\n",
       "    }\n",
       "</style>\n",
       "<table border=\"1\" class=\"dataframe\">\n",
       "  <thead>\n",
       "    <tr style=\"text-align: right;\">\n",
       "      <th></th>\n",
       "      <th>customerID</th>\n",
       "      <th>BeginDate</th>\n",
       "      <th>EndDate</th>\n",
       "      <th>Type</th>\n",
       "      <th>PaperlessBilling</th>\n",
       "      <th>PaymentMethod</th>\n",
       "      <th>MonthlyCharges</th>\n",
       "      <th>TotalCharges</th>\n",
       "    </tr>\n",
       "  </thead>\n",
       "  <tbody>\n",
       "    <tr>\n",
       "      <th>0</th>\n",
       "      <td>4472-LVYGI</td>\n",
       "      <td>2020-02-01</td>\n",
       "      <td>None</td>\n",
       "      <td>Two year</td>\n",
       "      <td>Yes</td>\n",
       "      <td>Bank transfer (automatic)</td>\n",
       "      <td>52.55</td>\n",
       "      <td>NaN</td>\n",
       "    </tr>\n",
       "    <tr>\n",
       "      <th>1</th>\n",
       "      <td>3115-CZMZD</td>\n",
       "      <td>2020-02-01</td>\n",
       "      <td>None</td>\n",
       "      <td>Two year</td>\n",
       "      <td>No</td>\n",
       "      <td>Mailed check</td>\n",
       "      <td>20.25</td>\n",
       "      <td>NaN</td>\n",
       "    </tr>\n",
       "    <tr>\n",
       "      <th>2</th>\n",
       "      <td>3668-QPYBK</td>\n",
       "      <td>2018-08-09</td>\n",
       "      <td>2019-12-01</td>\n",
       "      <td>Month-to-month</td>\n",
       "      <td>Yes</td>\n",
       "      <td>Mailed check</td>\n",
       "      <td>53.85</td>\n",
       "      <td>108.15</td>\n",
       "    </tr>\n",
       "    <tr>\n",
       "      <th>3</th>\n",
       "      <td>5709-LVOEQ</td>\n",
       "      <td>2020-02-01</td>\n",
       "      <td>None</td>\n",
       "      <td>Two year</td>\n",
       "      <td>No</td>\n",
       "      <td>Mailed check</td>\n",
       "      <td>80.85</td>\n",
       "      <td>NaN</td>\n",
       "    </tr>\n",
       "    <tr>\n",
       "      <th>4</th>\n",
       "      <td>9237-HQITU</td>\n",
       "      <td>2019-01-26</td>\n",
       "      <td>2019-11-01</td>\n",
       "      <td>Month-to-month</td>\n",
       "      <td>Yes</td>\n",
       "      <td>Electronic check</td>\n",
       "      <td>70.70</td>\n",
       "      <td>151.65</td>\n",
       "    </tr>\n",
       "    <tr>\n",
       "      <th>...</th>\n",
       "      <td>...</td>\n",
       "      <td>...</td>\n",
       "      <td>...</td>\n",
       "      <td>...</td>\n",
       "      <td>...</td>\n",
       "      <td>...</td>\n",
       "      <td>...</td>\n",
       "      <td>...</td>\n",
       "    </tr>\n",
       "    <tr>\n",
       "      <th>7038</th>\n",
       "      <td>2569-WGERO</td>\n",
       "      <td>2019-01-21</td>\n",
       "      <td>None</td>\n",
       "      <td>Two year</td>\n",
       "      <td>Yes</td>\n",
       "      <td>Bank transfer (automatic)</td>\n",
       "      <td>21.15</td>\n",
       "      <td>1419.40</td>\n",
       "    </tr>\n",
       "    <tr>\n",
       "      <th>7039</th>\n",
       "      <td>6840-RESVB</td>\n",
       "      <td>2019-02-26</td>\n",
       "      <td>None</td>\n",
       "      <td>One year</td>\n",
       "      <td>Yes</td>\n",
       "      <td>Mailed check</td>\n",
       "      <td>84.80</td>\n",
       "      <td>1990.50</td>\n",
       "    </tr>\n",
       "    <tr>\n",
       "      <th>7040</th>\n",
       "      <td>2234-XADUH</td>\n",
       "      <td>2019-09-02</td>\n",
       "      <td>None</td>\n",
       "      <td>One year</td>\n",
       "      <td>Yes</td>\n",
       "      <td>Credit card (automatic)</td>\n",
       "      <td>103.20</td>\n",
       "      <td>7362.90</td>\n",
       "    </tr>\n",
       "    <tr>\n",
       "      <th>7041</th>\n",
       "      <td>4801-JZAZL</td>\n",
       "      <td>2019-06-26</td>\n",
       "      <td>None</td>\n",
       "      <td>Month-to-month</td>\n",
       "      <td>Yes</td>\n",
       "      <td>Electronic check</td>\n",
       "      <td>29.60</td>\n",
       "      <td>346.45</td>\n",
       "    </tr>\n",
       "    <tr>\n",
       "      <th>7042</th>\n",
       "      <td>3186-AJIEK</td>\n",
       "      <td>2019-04-18</td>\n",
       "      <td>None</td>\n",
       "      <td>Two year</td>\n",
       "      <td>Yes</td>\n",
       "      <td>Bank transfer (automatic)</td>\n",
       "      <td>105.65</td>\n",
       "      <td>6844.50</td>\n",
       "    </tr>\n",
       "  </tbody>\n",
       "</table>\n",
       "<p>7043 rows × 8 columns</p>\n",
       "</div>"
      ],
      "text/plain": [
       "      customerID   BeginDate     EndDate            Type PaperlessBilling  \\\n",
       "0     4472-LVYGI  2020-02-01        None        Two year              Yes   \n",
       "1     3115-CZMZD  2020-02-01        None        Two year               No   \n",
       "2     3668-QPYBK  2018-08-09  2019-12-01  Month-to-month              Yes   \n",
       "3     5709-LVOEQ  2020-02-01        None        Two year               No   \n",
       "4     9237-HQITU  2019-01-26  2019-11-01  Month-to-month              Yes   \n",
       "...          ...         ...         ...             ...              ...   \n",
       "7038  2569-WGERO  2019-01-21        None        Two year              Yes   \n",
       "7039  6840-RESVB  2019-02-26        None        One year              Yes   \n",
       "7040  2234-XADUH  2019-09-02        None        One year              Yes   \n",
       "7041  4801-JZAZL  2019-06-26        None  Month-to-month              Yes   \n",
       "7042  3186-AJIEK  2019-04-18        None        Two year              Yes   \n",
       "\n",
       "                  PaymentMethod  MonthlyCharges  TotalCharges  \n",
       "0     Bank transfer (automatic)           52.55           NaN  \n",
       "1                  Mailed check           20.25           NaN  \n",
       "2                  Mailed check           53.85        108.15  \n",
       "3                  Mailed check           80.85           NaN  \n",
       "4              Electronic check           70.70        151.65  \n",
       "...                         ...             ...           ...  \n",
       "7038  Bank transfer (automatic)           21.15       1419.40  \n",
       "7039               Mailed check           84.80       1990.50  \n",
       "7040    Credit card (automatic)          103.20       7362.90  \n",
       "7041           Electronic check           29.60        346.45  \n",
       "7042  Bank transfer (automatic)          105.65       6844.50  \n",
       "\n",
       "[7043 rows x 8 columns]"
      ]
     },
     "metadata": {},
     "output_type": "display_data"
    }
   ],
   "source": [
    "query = '''\n",
    "SELECT *\n",
    "FROM telecom.contract\n",
    "'''\n",
    "display(pd.read_sql_query(query, con=engine))"
   ]
  },
  {
   "cell_type": "code",
   "execution_count": 48,
   "id": "b8d5ea06",
   "metadata": {},
   "outputs": [
    {
     "data": {
      "text/html": [
       "<div>\n",
       "<style scoped>\n",
       "    .dataframe tbody tr th:only-of-type {\n",
       "        vertical-align: middle;\n",
       "    }\n",
       "\n",
       "    .dataframe tbody tr th {\n",
       "        vertical-align: top;\n",
       "    }\n",
       "\n",
       "    .dataframe thead th {\n",
       "        text-align: right;\n",
       "    }\n",
       "</style>\n",
       "<table border=\"1\" class=\"dataframe\">\n",
       "  <thead>\n",
       "    <tr style=\"text-align: right;\">\n",
       "      <th></th>\n",
       "      <th>customerID</th>\n",
       "      <th>gender</th>\n",
       "      <th>SeniorCitizen</th>\n",
       "      <th>Partner</th>\n",
       "      <th>Dependents</th>\n",
       "    </tr>\n",
       "  </thead>\n",
       "  <tbody>\n",
       "    <tr>\n",
       "      <th>0</th>\n",
       "      <td>7590-VHVEG</td>\n",
       "      <td>Female</td>\n",
       "      <td>0</td>\n",
       "      <td>Yes</td>\n",
       "      <td>No</td>\n",
       "    </tr>\n",
       "    <tr>\n",
       "      <th>1</th>\n",
       "      <td>5575-GNVDE</td>\n",
       "      <td>Male</td>\n",
       "      <td>0</td>\n",
       "      <td>No</td>\n",
       "      <td>No</td>\n",
       "    </tr>\n",
       "    <tr>\n",
       "      <th>2</th>\n",
       "      <td>3668-QPYBK</td>\n",
       "      <td>Male</td>\n",
       "      <td>0</td>\n",
       "      <td>No</td>\n",
       "      <td>No</td>\n",
       "    </tr>\n",
       "    <tr>\n",
       "      <th>3</th>\n",
       "      <td>7795-CFOCW</td>\n",
       "      <td>Male</td>\n",
       "      <td>0</td>\n",
       "      <td>No</td>\n",
       "      <td>No</td>\n",
       "    </tr>\n",
       "    <tr>\n",
       "      <th>4</th>\n",
       "      <td>9237-HQITU</td>\n",
       "      <td>Female</td>\n",
       "      <td>0</td>\n",
       "      <td>No</td>\n",
       "      <td>No</td>\n",
       "    </tr>\n",
       "    <tr>\n",
       "      <th>...</th>\n",
       "      <td>...</td>\n",
       "      <td>...</td>\n",
       "      <td>...</td>\n",
       "      <td>...</td>\n",
       "      <td>...</td>\n",
       "    </tr>\n",
       "    <tr>\n",
       "      <th>7038</th>\n",
       "      <td>6840-RESVB</td>\n",
       "      <td>Male</td>\n",
       "      <td>0</td>\n",
       "      <td>Yes</td>\n",
       "      <td>Yes</td>\n",
       "    </tr>\n",
       "    <tr>\n",
       "      <th>7039</th>\n",
       "      <td>2234-XADUH</td>\n",
       "      <td>Female</td>\n",
       "      <td>0</td>\n",
       "      <td>Yes</td>\n",
       "      <td>Yes</td>\n",
       "    </tr>\n",
       "    <tr>\n",
       "      <th>7040</th>\n",
       "      <td>4801-JZAZL</td>\n",
       "      <td>Female</td>\n",
       "      <td>0</td>\n",
       "      <td>Yes</td>\n",
       "      <td>Yes</td>\n",
       "    </tr>\n",
       "    <tr>\n",
       "      <th>7041</th>\n",
       "      <td>8361-LTMKD</td>\n",
       "      <td>Male</td>\n",
       "      <td>1</td>\n",
       "      <td>Yes</td>\n",
       "      <td>No</td>\n",
       "    </tr>\n",
       "    <tr>\n",
       "      <th>7042</th>\n",
       "      <td>3186-AJIEK</td>\n",
       "      <td>Male</td>\n",
       "      <td>0</td>\n",
       "      <td>No</td>\n",
       "      <td>No</td>\n",
       "    </tr>\n",
       "  </tbody>\n",
       "</table>\n",
       "<p>7043 rows × 5 columns</p>\n",
       "</div>"
      ],
      "text/plain": [
       "      customerID  gender  SeniorCitizen Partner Dependents\n",
       "0     7590-VHVEG  Female              0     Yes         No\n",
       "1     5575-GNVDE    Male              0      No         No\n",
       "2     3668-QPYBK    Male              0      No         No\n",
       "3     7795-CFOCW    Male              0      No         No\n",
       "4     9237-HQITU  Female              0      No         No\n",
       "...          ...     ...            ...     ...        ...\n",
       "7038  6840-RESVB    Male              0     Yes        Yes\n",
       "7039  2234-XADUH  Female              0     Yes        Yes\n",
       "7040  4801-JZAZL  Female              0     Yes        Yes\n",
       "7041  8361-LTMKD    Male              1     Yes         No\n",
       "7042  3186-AJIEK    Male              0      No         No\n",
       "\n",
       "[7043 rows x 5 columns]"
      ]
     },
     "metadata": {},
     "output_type": "display_data"
    }
   ],
   "source": [
    "query = '''\n",
    "SELECT *\n",
    "FROM telecom.personal\n",
    "'''\n",
    "display(pd.read_sql_query(query, con=engine))"
   ]
  },
  {
   "cell_type": "code",
   "execution_count": 49,
   "id": "0d380ede",
   "metadata": {},
   "outputs": [
    {
     "data": {
      "text/html": [
       "<div>\n",
       "<style scoped>\n",
       "    .dataframe tbody tr th:only-of-type {\n",
       "        vertical-align: middle;\n",
       "    }\n",
       "\n",
       "    .dataframe tbody tr th {\n",
       "        vertical-align: top;\n",
       "    }\n",
       "\n",
       "    .dataframe thead th {\n",
       "        text-align: right;\n",
       "    }\n",
       "</style>\n",
       "<table border=\"1\" class=\"dataframe\">\n",
       "  <thead>\n",
       "    <tr style=\"text-align: right;\">\n",
       "      <th></th>\n",
       "      <th>c1</th>\n",
       "      <th>c2</th>\n",
       "      <th>c3</th>\n",
       "      <th>c4</th>\n",
       "      <th>c5</th>\n",
       "      <th>c6</th>\n",
       "      <th>c7</th>\n",
       "      <th>c8</th>\n",
       "    </tr>\n",
       "  </thead>\n",
       "  <tbody>\n",
       "    <tr>\n",
       "      <th>0</th>\n",
       "      <td>customerID</td>\n",
       "      <td>InternetService</td>\n",
       "      <td>OnlineSecurity</td>\n",
       "      <td>OnlineBackup</td>\n",
       "      <td>DeviceProtection</td>\n",
       "      <td>TechSupport</td>\n",
       "      <td>StreamingTV</td>\n",
       "      <td>StreamingMovies</td>\n",
       "    </tr>\n",
       "    <tr>\n",
       "      <th>1</th>\n",
       "      <td>7590-VHVEG</td>\n",
       "      <td>DSL</td>\n",
       "      <td>No</td>\n",
       "      <td>Yes</td>\n",
       "      <td>No</td>\n",
       "      <td>No</td>\n",
       "      <td>No</td>\n",
       "      <td>No</td>\n",
       "    </tr>\n",
       "    <tr>\n",
       "      <th>2</th>\n",
       "      <td>5575-GNVDE</td>\n",
       "      <td>DSL</td>\n",
       "      <td>Yes</td>\n",
       "      <td>No</td>\n",
       "      <td>Yes</td>\n",
       "      <td>No</td>\n",
       "      <td>No</td>\n",
       "      <td>No</td>\n",
       "    </tr>\n",
       "    <tr>\n",
       "      <th>3</th>\n",
       "      <td>3668-QPYBK</td>\n",
       "      <td>DSL</td>\n",
       "      <td>Yes</td>\n",
       "      <td>Yes</td>\n",
       "      <td>No</td>\n",
       "      <td>No</td>\n",
       "      <td>No</td>\n",
       "      <td>No</td>\n",
       "    </tr>\n",
       "    <tr>\n",
       "      <th>4</th>\n",
       "      <td>7795-CFOCW</td>\n",
       "      <td>DSL</td>\n",
       "      <td>Yes</td>\n",
       "      <td>No</td>\n",
       "      <td>Yes</td>\n",
       "      <td>Yes</td>\n",
       "      <td>No</td>\n",
       "      <td>No</td>\n",
       "    </tr>\n",
       "    <tr>\n",
       "      <th>...</th>\n",
       "      <td>...</td>\n",
       "      <td>...</td>\n",
       "      <td>...</td>\n",
       "      <td>...</td>\n",
       "      <td>...</td>\n",
       "      <td>...</td>\n",
       "      <td>...</td>\n",
       "      <td>...</td>\n",
       "    </tr>\n",
       "    <tr>\n",
       "      <th>5513</th>\n",
       "      <td>6840-RESVB</td>\n",
       "      <td>DSL</td>\n",
       "      <td>Yes</td>\n",
       "      <td>No</td>\n",
       "      <td>Yes</td>\n",
       "      <td>Yes</td>\n",
       "      <td>Yes</td>\n",
       "      <td>Yes</td>\n",
       "    </tr>\n",
       "    <tr>\n",
       "      <th>5514</th>\n",
       "      <td>2234-XADUH</td>\n",
       "      <td>Fiber optic</td>\n",
       "      <td>No</td>\n",
       "      <td>Yes</td>\n",
       "      <td>Yes</td>\n",
       "      <td>No</td>\n",
       "      <td>Yes</td>\n",
       "      <td>Yes</td>\n",
       "    </tr>\n",
       "    <tr>\n",
       "      <th>5515</th>\n",
       "      <td>4801-JZAZL</td>\n",
       "      <td>DSL</td>\n",
       "      <td>Yes</td>\n",
       "      <td>No</td>\n",
       "      <td>No</td>\n",
       "      <td>No</td>\n",
       "      <td>No</td>\n",
       "      <td>No</td>\n",
       "    </tr>\n",
       "    <tr>\n",
       "      <th>5516</th>\n",
       "      <td>8361-LTMKD</td>\n",
       "      <td>Fiber optic</td>\n",
       "      <td>No</td>\n",
       "      <td>No</td>\n",
       "      <td>No</td>\n",
       "      <td>No</td>\n",
       "      <td>No</td>\n",
       "      <td>No</td>\n",
       "    </tr>\n",
       "    <tr>\n",
       "      <th>5517</th>\n",
       "      <td>3186-AJIEK</td>\n",
       "      <td>Fiber optic</td>\n",
       "      <td>Yes</td>\n",
       "      <td>No</td>\n",
       "      <td>Yes</td>\n",
       "      <td>Yes</td>\n",
       "      <td>Yes</td>\n",
       "      <td>Yes</td>\n",
       "    </tr>\n",
       "  </tbody>\n",
       "</table>\n",
       "<p>5518 rows × 8 columns</p>\n",
       "</div>"
      ],
      "text/plain": [
       "              c1               c2              c3            c4  \\\n",
       "0     customerID  InternetService  OnlineSecurity  OnlineBackup   \n",
       "1     7590-VHVEG              DSL              No           Yes   \n",
       "2     5575-GNVDE              DSL             Yes            No   \n",
       "3     3668-QPYBK              DSL             Yes           Yes   \n",
       "4     7795-CFOCW              DSL             Yes            No   \n",
       "...          ...              ...             ...           ...   \n",
       "5513  6840-RESVB              DSL             Yes            No   \n",
       "5514  2234-XADUH      Fiber optic              No           Yes   \n",
       "5515  4801-JZAZL              DSL             Yes            No   \n",
       "5516  8361-LTMKD      Fiber optic              No            No   \n",
       "5517  3186-AJIEK      Fiber optic             Yes            No   \n",
       "\n",
       "                    c5           c6           c7               c8  \n",
       "0     DeviceProtection  TechSupport  StreamingTV  StreamingMovies  \n",
       "1                   No           No           No               No  \n",
       "2                  Yes           No           No               No  \n",
       "3                   No           No           No               No  \n",
       "4                  Yes          Yes           No               No  \n",
       "...                ...          ...          ...              ...  \n",
       "5513               Yes          Yes          Yes              Yes  \n",
       "5514               Yes           No          Yes              Yes  \n",
       "5515                No           No           No               No  \n",
       "5516                No           No           No               No  \n",
       "5517               Yes          Yes          Yes              Yes  \n",
       "\n",
       "[5518 rows x 8 columns]"
      ]
     },
     "metadata": {},
     "output_type": "display_data"
    }
   ],
   "source": [
    "query = '''\n",
    "SELECT *\n",
    "FROM telecom.internet\n",
    "'''\n",
    "display(pd.read_sql_query(query, con=engine))"
   ]
  },
  {
   "cell_type": "code",
   "execution_count": 50,
   "id": "f4118d46",
   "metadata": {},
   "outputs": [
    {
     "data": {
      "text/html": [
       "<div>\n",
       "<style scoped>\n",
       "    .dataframe tbody tr th:only-of-type {\n",
       "        vertical-align: middle;\n",
       "    }\n",
       "\n",
       "    .dataframe tbody tr th {\n",
       "        vertical-align: top;\n",
       "    }\n",
       "\n",
       "    .dataframe thead th {\n",
       "        text-align: right;\n",
       "    }\n",
       "</style>\n",
       "<table border=\"1\" class=\"dataframe\">\n",
       "  <thead>\n",
       "    <tr style=\"text-align: right;\">\n",
       "      <th></th>\n",
       "      <th>c1</th>\n",
       "      <th>c2</th>\n",
       "    </tr>\n",
       "  </thead>\n",
       "  <tbody>\n",
       "    <tr>\n",
       "      <th>0</th>\n",
       "      <td>customerID</td>\n",
       "      <td>MultipleLines</td>\n",
       "    </tr>\n",
       "    <tr>\n",
       "      <th>1</th>\n",
       "      <td>5575-GNVDE</td>\n",
       "      <td>No</td>\n",
       "    </tr>\n",
       "    <tr>\n",
       "      <th>2</th>\n",
       "      <td>3668-QPYBK</td>\n",
       "      <td>No</td>\n",
       "    </tr>\n",
       "    <tr>\n",
       "      <th>3</th>\n",
       "      <td>9237-HQITU</td>\n",
       "      <td>No</td>\n",
       "    </tr>\n",
       "    <tr>\n",
       "      <th>4</th>\n",
       "      <td>9305-CDSKC</td>\n",
       "      <td>Yes</td>\n",
       "    </tr>\n",
       "    <tr>\n",
       "      <th>...</th>\n",
       "      <td>...</td>\n",
       "      <td>...</td>\n",
       "    </tr>\n",
       "    <tr>\n",
       "      <th>6357</th>\n",
       "      <td>2569-WGERO</td>\n",
       "      <td>No</td>\n",
       "    </tr>\n",
       "    <tr>\n",
       "      <th>6358</th>\n",
       "      <td>6840-RESVB</td>\n",
       "      <td>Yes</td>\n",
       "    </tr>\n",
       "    <tr>\n",
       "      <th>6359</th>\n",
       "      <td>2234-XADUH</td>\n",
       "      <td>Yes</td>\n",
       "    </tr>\n",
       "    <tr>\n",
       "      <th>6360</th>\n",
       "      <td>8361-LTMKD</td>\n",
       "      <td>Yes</td>\n",
       "    </tr>\n",
       "    <tr>\n",
       "      <th>6361</th>\n",
       "      <td>3186-AJIEK</td>\n",
       "      <td>No</td>\n",
       "    </tr>\n",
       "  </tbody>\n",
       "</table>\n",
       "<p>6362 rows × 2 columns</p>\n",
       "</div>"
      ],
      "text/plain": [
       "              c1             c2\n",
       "0     customerID  MultipleLines\n",
       "1     5575-GNVDE             No\n",
       "2     3668-QPYBK             No\n",
       "3     9237-HQITU             No\n",
       "4     9305-CDSKC            Yes\n",
       "...          ...            ...\n",
       "6357  2569-WGERO             No\n",
       "6358  6840-RESVB            Yes\n",
       "6359  2234-XADUH            Yes\n",
       "6360  8361-LTMKD            Yes\n",
       "6361  3186-AJIEK             No\n",
       "\n",
       "[6362 rows x 2 columns]"
      ]
     },
     "metadata": {},
     "output_type": "display_data"
    }
   ],
   "source": [
    "query = '''\n",
    "SELECT *\n",
    "FROM telecom.phone\n",
    "'''\n",
    "display(pd.read_sql_query(query, con=engine))"
   ]
  },
  {
   "cell_type": "markdown",
   "id": "7cd9b3b1",
   "metadata": {},
   "source": [
    "Все таблицы в порядке"
   ]
  },
  {
   "cell_type": "code",
   "execution_count": 51,
   "id": "7007273d",
   "metadata": {},
   "outputs": [
    {
     "name": "stdout",
     "output_type": "stream",
     "text": [
      "<class 'pandas.core.frame.DataFrame'>\n",
      "RangeIndex: 7043 entries, 0 to 7042\n",
      "Data columns (total 8 columns):\n",
      " #   Column            Non-Null Count  Dtype  \n",
      "---  ------            --------------  -----  \n",
      " 0   customerID        7043 non-null   object \n",
      " 1   BeginDate         7043 non-null   object \n",
      " 2   EndDate           1869 non-null   object \n",
      " 3   Type              7043 non-null   object \n",
      " 4   PaperlessBilling  7043 non-null   object \n",
      " 5   PaymentMethod     7043 non-null   object \n",
      " 6   MonthlyCharges    7043 non-null   float64\n",
      " 7   TotalCharges      7032 non-null   float64\n",
      "dtypes: float64(2), object(6)\n",
      "memory usage: 440.3+ KB\n"
     ]
    },
    {
     "data": {
      "text/html": [
       "<div>\n",
       "<style scoped>\n",
       "    .dataframe tbody tr th:only-of-type {\n",
       "        vertical-align: middle;\n",
       "    }\n",
       "\n",
       "    .dataframe tbody tr th {\n",
       "        vertical-align: top;\n",
       "    }\n",
       "\n",
       "    .dataframe thead th {\n",
       "        text-align: right;\n",
       "    }\n",
       "</style>\n",
       "<table border=\"1\" class=\"dataframe\">\n",
       "  <thead>\n",
       "    <tr style=\"text-align: right;\">\n",
       "      <th></th>\n",
       "      <th>customerID</th>\n",
       "      <th>BeginDate</th>\n",
       "      <th>EndDate</th>\n",
       "      <th>Type</th>\n",
       "      <th>PaperlessBilling</th>\n",
       "      <th>PaymentMethod</th>\n",
       "      <th>MonthlyCharges</th>\n",
       "      <th>TotalCharges</th>\n",
       "    </tr>\n",
       "  </thead>\n",
       "  <tbody>\n",
       "    <tr>\n",
       "      <th>0</th>\n",
       "      <td>4472-LVYGI</td>\n",
       "      <td>2020-02-01</td>\n",
       "      <td>None</td>\n",
       "      <td>Two year</td>\n",
       "      <td>Yes</td>\n",
       "      <td>Bank transfer (automatic)</td>\n",
       "      <td>52.55</td>\n",
       "      <td>NaN</td>\n",
       "    </tr>\n",
       "    <tr>\n",
       "      <th>1</th>\n",
       "      <td>3115-CZMZD</td>\n",
       "      <td>2020-02-01</td>\n",
       "      <td>None</td>\n",
       "      <td>Two year</td>\n",
       "      <td>No</td>\n",
       "      <td>Mailed check</td>\n",
       "      <td>20.25</td>\n",
       "      <td>NaN</td>\n",
       "    </tr>\n",
       "    <tr>\n",
       "      <th>2</th>\n",
       "      <td>3668-QPYBK</td>\n",
       "      <td>2018-08-09</td>\n",
       "      <td>2019-12-01</td>\n",
       "      <td>Month-to-month</td>\n",
       "      <td>Yes</td>\n",
       "      <td>Mailed check</td>\n",
       "      <td>53.85</td>\n",
       "      <td>108.15</td>\n",
       "    </tr>\n",
       "    <tr>\n",
       "      <th>3</th>\n",
       "      <td>5709-LVOEQ</td>\n",
       "      <td>2020-02-01</td>\n",
       "      <td>None</td>\n",
       "      <td>Two year</td>\n",
       "      <td>No</td>\n",
       "      <td>Mailed check</td>\n",
       "      <td>80.85</td>\n",
       "      <td>NaN</td>\n",
       "    </tr>\n",
       "    <tr>\n",
       "      <th>4</th>\n",
       "      <td>9237-HQITU</td>\n",
       "      <td>2019-01-26</td>\n",
       "      <td>2019-11-01</td>\n",
       "      <td>Month-to-month</td>\n",
       "      <td>Yes</td>\n",
       "      <td>Electronic check</td>\n",
       "      <td>70.70</td>\n",
       "      <td>151.65</td>\n",
       "    </tr>\n",
       "    <tr>\n",
       "      <th>...</th>\n",
       "      <td>...</td>\n",
       "      <td>...</td>\n",
       "      <td>...</td>\n",
       "      <td>...</td>\n",
       "      <td>...</td>\n",
       "      <td>...</td>\n",
       "      <td>...</td>\n",
       "      <td>...</td>\n",
       "    </tr>\n",
       "    <tr>\n",
       "      <th>7038</th>\n",
       "      <td>2569-WGERO</td>\n",
       "      <td>2019-01-21</td>\n",
       "      <td>None</td>\n",
       "      <td>Two year</td>\n",
       "      <td>Yes</td>\n",
       "      <td>Bank transfer (automatic)</td>\n",
       "      <td>21.15</td>\n",
       "      <td>1419.40</td>\n",
       "    </tr>\n",
       "    <tr>\n",
       "      <th>7039</th>\n",
       "      <td>6840-RESVB</td>\n",
       "      <td>2019-02-26</td>\n",
       "      <td>None</td>\n",
       "      <td>One year</td>\n",
       "      <td>Yes</td>\n",
       "      <td>Mailed check</td>\n",
       "      <td>84.80</td>\n",
       "      <td>1990.50</td>\n",
       "    </tr>\n",
       "    <tr>\n",
       "      <th>7040</th>\n",
       "      <td>2234-XADUH</td>\n",
       "      <td>2019-09-02</td>\n",
       "      <td>None</td>\n",
       "      <td>One year</td>\n",
       "      <td>Yes</td>\n",
       "      <td>Credit card (automatic)</td>\n",
       "      <td>103.20</td>\n",
       "      <td>7362.90</td>\n",
       "    </tr>\n",
       "    <tr>\n",
       "      <th>7041</th>\n",
       "      <td>4801-JZAZL</td>\n",
       "      <td>2019-06-26</td>\n",
       "      <td>None</td>\n",
       "      <td>Month-to-month</td>\n",
       "      <td>Yes</td>\n",
       "      <td>Electronic check</td>\n",
       "      <td>29.60</td>\n",
       "      <td>346.45</td>\n",
       "    </tr>\n",
       "    <tr>\n",
       "      <th>7042</th>\n",
       "      <td>3186-AJIEK</td>\n",
       "      <td>2019-04-18</td>\n",
       "      <td>None</td>\n",
       "      <td>Two year</td>\n",
       "      <td>Yes</td>\n",
       "      <td>Bank transfer (automatic)</td>\n",
       "      <td>105.65</td>\n",
       "      <td>6844.50</td>\n",
       "    </tr>\n",
       "  </tbody>\n",
       "</table>\n",
       "<p>7043 rows × 8 columns</p>\n",
       "</div>"
      ],
      "text/plain": [
       "      customerID   BeginDate     EndDate            Type PaperlessBilling  \\\n",
       "0     4472-LVYGI  2020-02-01        None        Two year              Yes   \n",
       "1     3115-CZMZD  2020-02-01        None        Two year               No   \n",
       "2     3668-QPYBK  2018-08-09  2019-12-01  Month-to-month              Yes   \n",
       "3     5709-LVOEQ  2020-02-01        None        Two year               No   \n",
       "4     9237-HQITU  2019-01-26  2019-11-01  Month-to-month              Yes   \n",
       "...          ...         ...         ...             ...              ...   \n",
       "7038  2569-WGERO  2019-01-21        None        Two year              Yes   \n",
       "7039  6840-RESVB  2019-02-26        None        One year              Yes   \n",
       "7040  2234-XADUH  2019-09-02        None        One year              Yes   \n",
       "7041  4801-JZAZL  2019-06-26        None  Month-to-month              Yes   \n",
       "7042  3186-AJIEK  2019-04-18        None        Two year              Yes   \n",
       "\n",
       "                  PaymentMethod  MonthlyCharges  TotalCharges  \n",
       "0     Bank transfer (automatic)           52.55           NaN  \n",
       "1                  Mailed check           20.25           NaN  \n",
       "2                  Mailed check           53.85        108.15  \n",
       "3                  Mailed check           80.85           NaN  \n",
       "4              Electronic check           70.70        151.65  \n",
       "...                         ...             ...           ...  \n",
       "7038  Bank transfer (automatic)           21.15       1419.40  \n",
       "7039               Mailed check           84.80       1990.50  \n",
       "7040    Credit card (automatic)          103.20       7362.90  \n",
       "7041           Electronic check           29.60        346.45  \n",
       "7042  Bank transfer (automatic)          105.65       6844.50  \n",
       "\n",
       "[7043 rows x 8 columns]"
      ]
     },
     "metadata": {},
     "output_type": "display_data"
    },
    {
     "data": {
      "text/html": [
       "<div>\n",
       "<style scoped>\n",
       "    .dataframe tbody tr th:only-of-type {\n",
       "        vertical-align: middle;\n",
       "    }\n",
       "\n",
       "    .dataframe tbody tr th {\n",
       "        vertical-align: top;\n",
       "    }\n",
       "\n",
       "    .dataframe thead th {\n",
       "        text-align: right;\n",
       "    }\n",
       "</style>\n",
       "<table border=\"1\" class=\"dataframe\">\n",
       "  <thead>\n",
       "    <tr style=\"text-align: right;\">\n",
       "      <th></th>\n",
       "      <th>MonthlyCharges</th>\n",
       "      <th>TotalCharges</th>\n",
       "    </tr>\n",
       "  </thead>\n",
       "  <tbody>\n",
       "    <tr>\n",
       "      <th>count</th>\n",
       "      <td>7043.000000</td>\n",
       "      <td>7032.000000</td>\n",
       "    </tr>\n",
       "    <tr>\n",
       "      <th>mean</th>\n",
       "      <td>64.761692</td>\n",
       "      <td>2283.300441</td>\n",
       "    </tr>\n",
       "    <tr>\n",
       "      <th>std</th>\n",
       "      <td>30.090047</td>\n",
       "      <td>2266.771362</td>\n",
       "    </tr>\n",
       "    <tr>\n",
       "      <th>min</th>\n",
       "      <td>18.250000</td>\n",
       "      <td>18.800000</td>\n",
       "    </tr>\n",
       "    <tr>\n",
       "      <th>25%</th>\n",
       "      <td>35.500000</td>\n",
       "      <td>401.450000</td>\n",
       "    </tr>\n",
       "    <tr>\n",
       "      <th>50%</th>\n",
       "      <td>70.350000</td>\n",
       "      <td>1397.475000</td>\n",
       "    </tr>\n",
       "    <tr>\n",
       "      <th>75%</th>\n",
       "      <td>89.850000</td>\n",
       "      <td>3794.737500</td>\n",
       "    </tr>\n",
       "    <tr>\n",
       "      <th>max</th>\n",
       "      <td>118.750000</td>\n",
       "      <td>8684.800000</td>\n",
       "    </tr>\n",
       "  </tbody>\n",
       "</table>\n",
       "</div>"
      ],
      "text/plain": [
       "       MonthlyCharges  TotalCharges\n",
       "count     7043.000000   7032.000000\n",
       "mean        64.761692   2283.300441\n",
       "std         30.090047   2266.771362\n",
       "min         18.250000     18.800000\n",
       "25%         35.500000    401.450000\n",
       "50%         70.350000   1397.475000\n",
       "75%         89.850000   3794.737500\n",
       "max        118.750000   8684.800000"
      ]
     },
     "execution_count": 51,
     "metadata": {},
     "output_type": "execute_result"
    }
   ],
   "source": [
    "query = '''\n",
    "SELECT *\n",
    "FROM telecom.contract\n",
    "'''\n",
    "data_contract = pd.read_sql_query(query, con=engine)\n",
    "data_contract.info()\n",
    "display(data_contract)\n",
    "data_contract.describe()"
   ]
  },
  {
   "cell_type": "markdown",
   "id": "415adbca",
   "metadata": {},
   "source": [
    "У нас есть пропуски в данных. Уже по этой части таблицы видно, вызывают вопросы значения в поле `TotalCharges`, однако непонятно, по какому принципу они считаются, `MonthlyCharges` х длительность контракта, или имеются сторонние затраты, комиссии и другого рода платежи"
   ]
  },
  {
   "cell_type": "code",
   "execution_count": 52,
   "id": "6224a3e4",
   "metadata": {},
   "outputs": [],
   "source": [
    "def unique(data, column_list):\n",
    "    for col in column_list:\n",
    "        unique_vals = data[col].unique()\n",
    "        print(f\"Unique values for {col}: {unique_vals}\")"
   ]
  },
  {
   "cell_type": "markdown",
   "id": "a619dbc3",
   "metadata": {},
   "source": [
    "Осмотрим наши категориальные признаки"
   ]
  },
  {
   "cell_type": "code",
   "execution_count": 53,
   "id": "f99775da",
   "metadata": {
    "scrolled": true
   },
   "outputs": [
    {
     "name": "stdout",
     "output_type": "stream",
     "text": [
      "Unique values for Type: ['Two year' 'Month-to-month' 'One year']\n",
      "Unique values for PaperlessBilling: ['Yes' 'No']\n",
      "Unique values for PaymentMethod: ['Bank transfer (automatic)' 'Mailed check' 'Electronic check'\n",
      " 'Credit card (automatic)']\n"
     ]
    }
   ],
   "source": [
    "column_list = ['Type','PaperlessBilling','PaymentMethod']\n",
    "unique(data_contract, column_list)"
   ]
  },
  {
   "cell_type": "markdown",
   "id": "d9b73b7a",
   "metadata": {},
   "source": [
    "Посмотрим нет ли в наших датах аномалий"
   ]
  },
  {
   "cell_type": "code",
   "execution_count": 54,
   "id": "2265295c",
   "metadata": {},
   "outputs": [
    {
     "name": "stdout",
     "output_type": "stream",
     "text": [
      "The earliest date is 2018-04-17\n",
      "The latest date is 2020-02-01\n"
     ]
    }
   ],
   "source": [
    "earliest_date = data_contract['BeginDate'].min()\n",
    "latest_date = data_contract['BeginDate'].max()\n",
    "\n",
    "print(f\"The earliest date is {earliest_date}\")\n",
    "print(f\"The latest date is {latest_date}\")"
   ]
  },
  {
   "cell_type": "code",
   "execution_count": 55,
   "id": "b031b6e8",
   "metadata": {
    "scrolled": true
   },
   "outputs": [
    {
     "data": {
      "text/html": [
       "<div>\n",
       "<style scoped>\n",
       "    .dataframe tbody tr th:only-of-type {\n",
       "        vertical-align: middle;\n",
       "    }\n",
       "\n",
       "    .dataframe tbody tr th {\n",
       "        vertical-align: top;\n",
       "    }\n",
       "\n",
       "    .dataframe thead th {\n",
       "        text-align: right;\n",
       "    }\n",
       "</style>\n",
       "<table border=\"1\" class=\"dataframe\">\n",
       "  <thead>\n",
       "    <tr style=\"text-align: right;\">\n",
       "      <th></th>\n",
       "      <th>customerID</th>\n",
       "      <th>BeginDate</th>\n",
       "      <th>EndDate</th>\n",
       "      <th>Type</th>\n",
       "      <th>PaperlessBilling</th>\n",
       "      <th>PaymentMethod</th>\n",
       "      <th>MonthlyCharges</th>\n",
       "      <th>TotalCharges</th>\n",
       "    </tr>\n",
       "  </thead>\n",
       "  <tbody>\n",
       "    <tr>\n",
       "      <th>0</th>\n",
       "      <td>4472-LVYGI</td>\n",
       "      <td>2020-02-01</td>\n",
       "      <td>None</td>\n",
       "      <td>Two year</td>\n",
       "      <td>Yes</td>\n",
       "      <td>Bank transfer (automatic)</td>\n",
       "      <td>52.55</td>\n",
       "      <td>NaN</td>\n",
       "    </tr>\n",
       "    <tr>\n",
       "      <th>1</th>\n",
       "      <td>3115-CZMZD</td>\n",
       "      <td>2020-02-01</td>\n",
       "      <td>None</td>\n",
       "      <td>Two year</td>\n",
       "      <td>No</td>\n",
       "      <td>Mailed check</td>\n",
       "      <td>20.25</td>\n",
       "      <td>NaN</td>\n",
       "    </tr>\n",
       "    <tr>\n",
       "      <th>3</th>\n",
       "      <td>5709-LVOEQ</td>\n",
       "      <td>2020-02-01</td>\n",
       "      <td>None</td>\n",
       "      <td>Two year</td>\n",
       "      <td>No</td>\n",
       "      <td>Mailed check</td>\n",
       "      <td>80.85</td>\n",
       "      <td>NaN</td>\n",
       "    </tr>\n",
       "    <tr>\n",
       "      <th>6</th>\n",
       "      <td>4367-NUYAO</td>\n",
       "      <td>2020-02-01</td>\n",
       "      <td>None</td>\n",
       "      <td>Two year</td>\n",
       "      <td>No</td>\n",
       "      <td>Mailed check</td>\n",
       "      <td>25.75</td>\n",
       "      <td>NaN</td>\n",
       "    </tr>\n",
       "    <tr>\n",
       "      <th>7</th>\n",
       "      <td>1371-DWPAZ</td>\n",
       "      <td>2020-02-01</td>\n",
       "      <td>None</td>\n",
       "      <td>Two year</td>\n",
       "      <td>No</td>\n",
       "      <td>Credit card (automatic)</td>\n",
       "      <td>56.05</td>\n",
       "      <td>NaN</td>\n",
       "    </tr>\n",
       "    <tr>\n",
       "      <th>9</th>\n",
       "      <td>3213-VVOLG</td>\n",
       "      <td>2020-02-01</td>\n",
       "      <td>None</td>\n",
       "      <td>Two year</td>\n",
       "      <td>No</td>\n",
       "      <td>Mailed check</td>\n",
       "      <td>25.35</td>\n",
       "      <td>NaN</td>\n",
       "    </tr>\n",
       "    <tr>\n",
       "      <th>10</th>\n",
       "      <td>2923-ARZLG</td>\n",
       "      <td>2020-02-01</td>\n",
       "      <td>None</td>\n",
       "      <td>One year</td>\n",
       "      <td>Yes</td>\n",
       "      <td>Mailed check</td>\n",
       "      <td>19.70</td>\n",
       "      <td>NaN</td>\n",
       "    </tr>\n",
       "    <tr>\n",
       "      <th>11</th>\n",
       "      <td>2775-SEFEE</td>\n",
       "      <td>2020-02-01</td>\n",
       "      <td>None</td>\n",
       "      <td>Two year</td>\n",
       "      <td>Yes</td>\n",
       "      <td>Bank transfer (automatic)</td>\n",
       "      <td>61.90</td>\n",
       "      <td>NaN</td>\n",
       "    </tr>\n",
       "    <tr>\n",
       "      <th>4408</th>\n",
       "      <td>7644-OMVMY</td>\n",
       "      <td>2020-02-01</td>\n",
       "      <td>None</td>\n",
       "      <td>Two year</td>\n",
       "      <td>No</td>\n",
       "      <td>Mailed check</td>\n",
       "      <td>19.85</td>\n",
       "      <td>NaN</td>\n",
       "    </tr>\n",
       "    <tr>\n",
       "      <th>5160</th>\n",
       "      <td>2520-SGTTA</td>\n",
       "      <td>2020-02-01</td>\n",
       "      <td>None</td>\n",
       "      <td>Two year</td>\n",
       "      <td>No</td>\n",
       "      <td>Mailed check</td>\n",
       "      <td>20.00</td>\n",
       "      <td>NaN</td>\n",
       "    </tr>\n",
       "    <tr>\n",
       "      <th>6839</th>\n",
       "      <td>4075-WKNIU</td>\n",
       "      <td>2020-02-01</td>\n",
       "      <td>None</td>\n",
       "      <td>Two year</td>\n",
       "      <td>No</td>\n",
       "      <td>Mailed check</td>\n",
       "      <td>73.35</td>\n",
       "      <td>NaN</td>\n",
       "    </tr>\n",
       "  </tbody>\n",
       "</table>\n",
       "</div>"
      ],
      "text/plain": [
       "      customerID   BeginDate EndDate      Type PaperlessBilling  \\\n",
       "0     4472-LVYGI  2020-02-01    None  Two year              Yes   \n",
       "1     3115-CZMZD  2020-02-01    None  Two year               No   \n",
       "3     5709-LVOEQ  2020-02-01    None  Two year               No   \n",
       "6     4367-NUYAO  2020-02-01    None  Two year               No   \n",
       "7     1371-DWPAZ  2020-02-01    None  Two year               No   \n",
       "9     3213-VVOLG  2020-02-01    None  Two year               No   \n",
       "10    2923-ARZLG  2020-02-01    None  One year              Yes   \n",
       "11    2775-SEFEE  2020-02-01    None  Two year              Yes   \n",
       "4408  7644-OMVMY  2020-02-01    None  Two year               No   \n",
       "5160  2520-SGTTA  2020-02-01    None  Two year               No   \n",
       "6839  4075-WKNIU  2020-02-01    None  Two year               No   \n",
       "\n",
       "                  PaymentMethod  MonthlyCharges  TotalCharges  \n",
       "0     Bank transfer (automatic)           52.55           NaN  \n",
       "1                  Mailed check           20.25           NaN  \n",
       "3                  Mailed check           80.85           NaN  \n",
       "6                  Mailed check           25.75           NaN  \n",
       "7       Credit card (automatic)           56.05           NaN  \n",
       "9                  Mailed check           25.35           NaN  \n",
       "10                 Mailed check           19.70           NaN  \n",
       "11    Bank transfer (automatic)           61.90           NaN  \n",
       "4408               Mailed check           19.85           NaN  \n",
       "5160               Mailed check           20.00           NaN  \n",
       "6839               Mailed check           73.35           NaN  "
      ]
     },
     "execution_count": 55,
     "metadata": {},
     "output_type": "execute_result"
    }
   ],
   "source": [
    "data_contract[data_contract['TotalCharges'].isnull()]"
   ]
  },
  {
   "cell_type": "markdown",
   "id": "5992afc0",
   "metadata": {},
   "source": [
    "Пропуски вызваны тем, что клиенты только начали пользоваться нашим оператором, и не успели потратить деньги"
   ]
  },
  {
   "cell_type": "code",
   "execution_count": 56,
   "id": "f884ca32",
   "metadata": {},
   "outputs": [],
   "source": [
    "data_contract['TotalCharges'].fillna(0, inplace=True)"
   ]
  },
  {
   "cell_type": "markdown",
   "id": "67cb53b6",
   "metadata": {},
   "source": [
    "Выделим целевую переменную"
   ]
  },
  {
   "cell_type": "code",
   "execution_count": 57,
   "id": "c31fb518",
   "metadata": {},
   "outputs": [],
   "source": [
    "data_contract['Ended'] = data_contract['EndDate'].apply(lambda x: 1 if pd.notnull(x) else 0)"
   ]
  },
  {
   "cell_type": "code",
   "execution_count": 58,
   "id": "af3dbd05",
   "metadata": {},
   "outputs": [
    {
     "name": "stdout",
     "output_type": "stream",
     "text": [
      "<class 'pandas.core.frame.DataFrame'>\n",
      "RangeIndex: 7043 entries, 0 to 7042\n",
      "Data columns (total 5 columns):\n",
      " #   Column         Non-Null Count  Dtype \n",
      "---  ------         --------------  ----- \n",
      " 0   customerID     7043 non-null   object\n",
      " 1   gender         7043 non-null   object\n",
      " 2   SeniorCitizen  7043 non-null   int64 \n",
      " 3   Partner        7043 non-null   object\n",
      " 4   Dependents     7043 non-null   object\n",
      "dtypes: int64(1), object(4)\n",
      "memory usage: 275.2+ KB\n"
     ]
    },
    {
     "data": {
      "text/html": [
       "<div>\n",
       "<style scoped>\n",
       "    .dataframe tbody tr th:only-of-type {\n",
       "        vertical-align: middle;\n",
       "    }\n",
       "\n",
       "    .dataframe tbody tr th {\n",
       "        vertical-align: top;\n",
       "    }\n",
       "\n",
       "    .dataframe thead th {\n",
       "        text-align: right;\n",
       "    }\n",
       "</style>\n",
       "<table border=\"1\" class=\"dataframe\">\n",
       "  <thead>\n",
       "    <tr style=\"text-align: right;\">\n",
       "      <th></th>\n",
       "      <th>customerID</th>\n",
       "      <th>gender</th>\n",
       "      <th>SeniorCitizen</th>\n",
       "      <th>Partner</th>\n",
       "      <th>Dependents</th>\n",
       "    </tr>\n",
       "  </thead>\n",
       "  <tbody>\n",
       "    <tr>\n",
       "      <th>0</th>\n",
       "      <td>7590-VHVEG</td>\n",
       "      <td>Female</td>\n",
       "      <td>0</td>\n",
       "      <td>Yes</td>\n",
       "      <td>No</td>\n",
       "    </tr>\n",
       "    <tr>\n",
       "      <th>1</th>\n",
       "      <td>5575-GNVDE</td>\n",
       "      <td>Male</td>\n",
       "      <td>0</td>\n",
       "      <td>No</td>\n",
       "      <td>No</td>\n",
       "    </tr>\n",
       "    <tr>\n",
       "      <th>2</th>\n",
       "      <td>3668-QPYBK</td>\n",
       "      <td>Male</td>\n",
       "      <td>0</td>\n",
       "      <td>No</td>\n",
       "      <td>No</td>\n",
       "    </tr>\n",
       "    <tr>\n",
       "      <th>3</th>\n",
       "      <td>7795-CFOCW</td>\n",
       "      <td>Male</td>\n",
       "      <td>0</td>\n",
       "      <td>No</td>\n",
       "      <td>No</td>\n",
       "    </tr>\n",
       "    <tr>\n",
       "      <th>4</th>\n",
       "      <td>9237-HQITU</td>\n",
       "      <td>Female</td>\n",
       "      <td>0</td>\n",
       "      <td>No</td>\n",
       "      <td>No</td>\n",
       "    </tr>\n",
       "    <tr>\n",
       "      <th>...</th>\n",
       "      <td>...</td>\n",
       "      <td>...</td>\n",
       "      <td>...</td>\n",
       "      <td>...</td>\n",
       "      <td>...</td>\n",
       "    </tr>\n",
       "    <tr>\n",
       "      <th>7038</th>\n",
       "      <td>6840-RESVB</td>\n",
       "      <td>Male</td>\n",
       "      <td>0</td>\n",
       "      <td>Yes</td>\n",
       "      <td>Yes</td>\n",
       "    </tr>\n",
       "    <tr>\n",
       "      <th>7039</th>\n",
       "      <td>2234-XADUH</td>\n",
       "      <td>Female</td>\n",
       "      <td>0</td>\n",
       "      <td>Yes</td>\n",
       "      <td>Yes</td>\n",
       "    </tr>\n",
       "    <tr>\n",
       "      <th>7040</th>\n",
       "      <td>4801-JZAZL</td>\n",
       "      <td>Female</td>\n",
       "      <td>0</td>\n",
       "      <td>Yes</td>\n",
       "      <td>Yes</td>\n",
       "    </tr>\n",
       "    <tr>\n",
       "      <th>7041</th>\n",
       "      <td>8361-LTMKD</td>\n",
       "      <td>Male</td>\n",
       "      <td>1</td>\n",
       "      <td>Yes</td>\n",
       "      <td>No</td>\n",
       "    </tr>\n",
       "    <tr>\n",
       "      <th>7042</th>\n",
       "      <td>3186-AJIEK</td>\n",
       "      <td>Male</td>\n",
       "      <td>0</td>\n",
       "      <td>No</td>\n",
       "      <td>No</td>\n",
       "    </tr>\n",
       "  </tbody>\n",
       "</table>\n",
       "<p>7043 rows × 5 columns</p>\n",
       "</div>"
      ],
      "text/plain": [
       "      customerID  gender  SeniorCitizen Partner Dependents\n",
       "0     7590-VHVEG  Female              0     Yes         No\n",
       "1     5575-GNVDE    Male              0      No         No\n",
       "2     3668-QPYBK    Male              0      No         No\n",
       "3     7795-CFOCW    Male              0      No         No\n",
       "4     9237-HQITU  Female              0      No         No\n",
       "...          ...     ...            ...     ...        ...\n",
       "7038  6840-RESVB    Male              0     Yes        Yes\n",
       "7039  2234-XADUH  Female              0     Yes        Yes\n",
       "7040  4801-JZAZL  Female              0     Yes        Yes\n",
       "7041  8361-LTMKD    Male              1     Yes         No\n",
       "7042  3186-AJIEK    Male              0      No         No\n",
       "\n",
       "[7043 rows x 5 columns]"
      ]
     },
     "metadata": {},
     "output_type": "display_data"
    }
   ],
   "source": [
    "query = '''\n",
    "SELECT *\n",
    "FROM telecom.personal\n",
    "'''\n",
    "data_personal = pd.read_sql_query(query, con=engine)\n",
    "data_personal.info()\n",
    "display(data_personal)"
   ]
  },
  {
   "cell_type": "markdown",
   "id": "1ded17b1",
   "metadata": {},
   "source": [
    "Осмотрим наши категориальные признаки"
   ]
  },
  {
   "cell_type": "code",
   "execution_count": 59,
   "id": "fc85a8a7",
   "metadata": {},
   "outputs": [
    {
     "name": "stdout",
     "output_type": "stream",
     "text": [
      "Unique values for gender: ['Female' 'Male']\n",
      "Unique values for SeniorCitizen: [0 1]\n",
      "Unique values for Partner: ['Yes' 'No']\n",
      "Unique values for Dependents: ['No' 'Yes']\n"
     ]
    }
   ],
   "source": [
    "column_list = ['gender','SeniorCitizen','Partner','Dependents']\n",
    "unique(data_personal, column_list)"
   ]
  },
  {
   "cell_type": "code",
   "execution_count": 60,
   "id": "5fef2020",
   "metadata": {},
   "outputs": [
    {
     "name": "stdout",
     "output_type": "stream",
     "text": [
      "<class 'pandas.core.frame.DataFrame'>\n",
      "RangeIndex: 5517 entries, 0 to 5516\n",
      "Data columns (total 8 columns):\n",
      " #   Column            Non-Null Count  Dtype \n",
      "---  ------            --------------  ----- \n",
      " 0   customerID        5517 non-null   object\n",
      " 1   InternetService   5517 non-null   object\n",
      " 2   OnlineSecurity    5517 non-null   object\n",
      " 3   OnlineBackup      5517 non-null   object\n",
      " 4   DeviceProtection  5517 non-null   object\n",
      " 5   TechSupport       5517 non-null   object\n",
      " 6   StreamingTV       5517 non-null   object\n",
      " 7   StreamingMovies   5517 non-null   object\n",
      "dtypes: object(8)\n",
      "memory usage: 344.9+ KB\n"
     ]
    },
    {
     "data": {
      "text/html": [
       "<div>\n",
       "<style scoped>\n",
       "    .dataframe tbody tr th:only-of-type {\n",
       "        vertical-align: middle;\n",
       "    }\n",
       "\n",
       "    .dataframe tbody tr th {\n",
       "        vertical-align: top;\n",
       "    }\n",
       "\n",
       "    .dataframe thead th {\n",
       "        text-align: right;\n",
       "    }\n",
       "</style>\n",
       "<table border=\"1\" class=\"dataframe\">\n",
       "  <thead>\n",
       "    <tr style=\"text-align: right;\">\n",
       "      <th></th>\n",
       "      <th>customerID</th>\n",
       "      <th>InternetService</th>\n",
       "      <th>OnlineSecurity</th>\n",
       "      <th>OnlineBackup</th>\n",
       "      <th>DeviceProtection</th>\n",
       "      <th>TechSupport</th>\n",
       "      <th>StreamingTV</th>\n",
       "      <th>StreamingMovies</th>\n",
       "    </tr>\n",
       "  </thead>\n",
       "  <tbody>\n",
       "    <tr>\n",
       "      <th>0</th>\n",
       "      <td>7590-VHVEG</td>\n",
       "      <td>DSL</td>\n",
       "      <td>No</td>\n",
       "      <td>Yes</td>\n",
       "      <td>No</td>\n",
       "      <td>No</td>\n",
       "      <td>No</td>\n",
       "      <td>No</td>\n",
       "    </tr>\n",
       "    <tr>\n",
       "      <th>1</th>\n",
       "      <td>5575-GNVDE</td>\n",
       "      <td>DSL</td>\n",
       "      <td>Yes</td>\n",
       "      <td>No</td>\n",
       "      <td>Yes</td>\n",
       "      <td>No</td>\n",
       "      <td>No</td>\n",
       "      <td>No</td>\n",
       "    </tr>\n",
       "    <tr>\n",
       "      <th>2</th>\n",
       "      <td>3668-QPYBK</td>\n",
       "      <td>DSL</td>\n",
       "      <td>Yes</td>\n",
       "      <td>Yes</td>\n",
       "      <td>No</td>\n",
       "      <td>No</td>\n",
       "      <td>No</td>\n",
       "      <td>No</td>\n",
       "    </tr>\n",
       "    <tr>\n",
       "      <th>3</th>\n",
       "      <td>7795-CFOCW</td>\n",
       "      <td>DSL</td>\n",
       "      <td>Yes</td>\n",
       "      <td>No</td>\n",
       "      <td>Yes</td>\n",
       "      <td>Yes</td>\n",
       "      <td>No</td>\n",
       "      <td>No</td>\n",
       "    </tr>\n",
       "    <tr>\n",
       "      <th>4</th>\n",
       "      <td>9237-HQITU</td>\n",
       "      <td>Fiber optic</td>\n",
       "      <td>No</td>\n",
       "      <td>No</td>\n",
       "      <td>No</td>\n",
       "      <td>No</td>\n",
       "      <td>No</td>\n",
       "      <td>No</td>\n",
       "    </tr>\n",
       "    <tr>\n",
       "      <th>...</th>\n",
       "      <td>...</td>\n",
       "      <td>...</td>\n",
       "      <td>...</td>\n",
       "      <td>...</td>\n",
       "      <td>...</td>\n",
       "      <td>...</td>\n",
       "      <td>...</td>\n",
       "      <td>...</td>\n",
       "    </tr>\n",
       "    <tr>\n",
       "      <th>5512</th>\n",
       "      <td>6840-RESVB</td>\n",
       "      <td>DSL</td>\n",
       "      <td>Yes</td>\n",
       "      <td>No</td>\n",
       "      <td>Yes</td>\n",
       "      <td>Yes</td>\n",
       "      <td>Yes</td>\n",
       "      <td>Yes</td>\n",
       "    </tr>\n",
       "    <tr>\n",
       "      <th>5513</th>\n",
       "      <td>2234-XADUH</td>\n",
       "      <td>Fiber optic</td>\n",
       "      <td>No</td>\n",
       "      <td>Yes</td>\n",
       "      <td>Yes</td>\n",
       "      <td>No</td>\n",
       "      <td>Yes</td>\n",
       "      <td>Yes</td>\n",
       "    </tr>\n",
       "    <tr>\n",
       "      <th>5514</th>\n",
       "      <td>4801-JZAZL</td>\n",
       "      <td>DSL</td>\n",
       "      <td>Yes</td>\n",
       "      <td>No</td>\n",
       "      <td>No</td>\n",
       "      <td>No</td>\n",
       "      <td>No</td>\n",
       "      <td>No</td>\n",
       "    </tr>\n",
       "    <tr>\n",
       "      <th>5515</th>\n",
       "      <td>8361-LTMKD</td>\n",
       "      <td>Fiber optic</td>\n",
       "      <td>No</td>\n",
       "      <td>No</td>\n",
       "      <td>No</td>\n",
       "      <td>No</td>\n",
       "      <td>No</td>\n",
       "      <td>No</td>\n",
       "    </tr>\n",
       "    <tr>\n",
       "      <th>5516</th>\n",
       "      <td>3186-AJIEK</td>\n",
       "      <td>Fiber optic</td>\n",
       "      <td>Yes</td>\n",
       "      <td>No</td>\n",
       "      <td>Yes</td>\n",
       "      <td>Yes</td>\n",
       "      <td>Yes</td>\n",
       "      <td>Yes</td>\n",
       "    </tr>\n",
       "  </tbody>\n",
       "</table>\n",
       "<p>5517 rows × 8 columns</p>\n",
       "</div>"
      ],
      "text/plain": [
       "0     customerID InternetService OnlineSecurity OnlineBackup DeviceProtection  \\\n",
       "0     7590-VHVEG             DSL             No          Yes               No   \n",
       "1     5575-GNVDE             DSL            Yes           No              Yes   \n",
       "2     3668-QPYBK             DSL            Yes          Yes               No   \n",
       "3     7795-CFOCW             DSL            Yes           No              Yes   \n",
       "4     9237-HQITU     Fiber optic             No           No               No   \n",
       "...          ...             ...            ...          ...              ...   \n",
       "5512  6840-RESVB             DSL            Yes           No              Yes   \n",
       "5513  2234-XADUH     Fiber optic             No          Yes              Yes   \n",
       "5514  4801-JZAZL             DSL            Yes           No               No   \n",
       "5515  8361-LTMKD     Fiber optic             No           No               No   \n",
       "5516  3186-AJIEK     Fiber optic            Yes           No              Yes   \n",
       "\n",
       "0    TechSupport StreamingTV StreamingMovies  \n",
       "0             No          No              No  \n",
       "1             No          No              No  \n",
       "2             No          No              No  \n",
       "3            Yes          No              No  \n",
       "4             No          No              No  \n",
       "...          ...         ...             ...  \n",
       "5512         Yes         Yes             Yes  \n",
       "5513          No         Yes             Yes  \n",
       "5514          No          No              No  \n",
       "5515          No          No              No  \n",
       "5516         Yes         Yes             Yes  \n",
       "\n",
       "[5517 rows x 8 columns]"
      ]
     },
     "metadata": {},
     "output_type": "display_data"
    }
   ],
   "source": [
    "query = '''\n",
    "SELECT *\n",
    "FROM telecom.internet\n",
    "'''\n",
    "data_internet = pd.read_sql_query(query, con=engine)\n",
    "headers = data_internet.iloc[0]\n",
    "data_internet = pd.DataFrame(data_internet.values[1:], columns=headers)\n",
    "data_internet.info()\n",
    "display(data_internet)"
   ]
  },
  {
   "cell_type": "markdown",
   "id": "c8e6bbad",
   "metadata": {},
   "source": [
    "Осмотрим наши категориальные признаки"
   ]
  },
  {
   "cell_type": "code",
   "execution_count": 61,
   "id": "211bb554",
   "metadata": {},
   "outputs": [
    {
     "name": "stdout",
     "output_type": "stream",
     "text": [
      "Unique values for InternetService: ['DSL' 'Fiber optic']\n",
      "Unique values for OnlineSecurity: ['No' 'Yes']\n",
      "Unique values for OnlineBackup: ['Yes' 'No']\n",
      "Unique values for DeviceProtection: ['No' 'Yes']\n",
      "Unique values for TechSupport: ['No' 'Yes']\n",
      "Unique values for StreamingTV: ['No' 'Yes']\n",
      "Unique values for StreamingMovies: ['No' 'Yes']\n"
     ]
    }
   ],
   "source": [
    "column_list = ['InternetService','OnlineSecurity','OnlineBackup','DeviceProtection',\n",
    "              'TechSupport','StreamingTV','StreamingMovies']\n",
    "unique(data_internet, column_list)"
   ]
  },
  {
   "cell_type": "code",
   "execution_count": 62,
   "id": "235ee605",
   "metadata": {},
   "outputs": [
    {
     "name": "stdout",
     "output_type": "stream",
     "text": [
      "<class 'pandas.core.frame.DataFrame'>\n",
      "RangeIndex: 6361 entries, 0 to 6360\n",
      "Data columns (total 2 columns):\n",
      " #   Column         Non-Null Count  Dtype \n",
      "---  ------         --------------  ----- \n",
      " 0   customerID     6361 non-null   object\n",
      " 1   MultipleLines  6361 non-null   object\n",
      "dtypes: object(2)\n",
      "memory usage: 99.5+ KB\n"
     ]
    },
    {
     "data": {
      "text/html": [
       "<div>\n",
       "<style scoped>\n",
       "    .dataframe tbody tr th:only-of-type {\n",
       "        vertical-align: middle;\n",
       "    }\n",
       "\n",
       "    .dataframe tbody tr th {\n",
       "        vertical-align: top;\n",
       "    }\n",
       "\n",
       "    .dataframe thead th {\n",
       "        text-align: right;\n",
       "    }\n",
       "</style>\n",
       "<table border=\"1\" class=\"dataframe\">\n",
       "  <thead>\n",
       "    <tr style=\"text-align: right;\">\n",
       "      <th></th>\n",
       "      <th>customerID</th>\n",
       "      <th>MultipleLines</th>\n",
       "    </tr>\n",
       "  </thead>\n",
       "  <tbody>\n",
       "    <tr>\n",
       "      <th>0</th>\n",
       "      <td>5575-GNVDE</td>\n",
       "      <td>No</td>\n",
       "    </tr>\n",
       "    <tr>\n",
       "      <th>1</th>\n",
       "      <td>3668-QPYBK</td>\n",
       "      <td>No</td>\n",
       "    </tr>\n",
       "    <tr>\n",
       "      <th>2</th>\n",
       "      <td>9237-HQITU</td>\n",
       "      <td>No</td>\n",
       "    </tr>\n",
       "    <tr>\n",
       "      <th>3</th>\n",
       "      <td>9305-CDSKC</td>\n",
       "      <td>Yes</td>\n",
       "    </tr>\n",
       "    <tr>\n",
       "      <th>4</th>\n",
       "      <td>1452-KIOVK</td>\n",
       "      <td>Yes</td>\n",
       "    </tr>\n",
       "    <tr>\n",
       "      <th>...</th>\n",
       "      <td>...</td>\n",
       "      <td>...</td>\n",
       "    </tr>\n",
       "    <tr>\n",
       "      <th>6356</th>\n",
       "      <td>2569-WGERO</td>\n",
       "      <td>No</td>\n",
       "    </tr>\n",
       "    <tr>\n",
       "      <th>6357</th>\n",
       "      <td>6840-RESVB</td>\n",
       "      <td>Yes</td>\n",
       "    </tr>\n",
       "    <tr>\n",
       "      <th>6358</th>\n",
       "      <td>2234-XADUH</td>\n",
       "      <td>Yes</td>\n",
       "    </tr>\n",
       "    <tr>\n",
       "      <th>6359</th>\n",
       "      <td>8361-LTMKD</td>\n",
       "      <td>Yes</td>\n",
       "    </tr>\n",
       "    <tr>\n",
       "      <th>6360</th>\n",
       "      <td>3186-AJIEK</td>\n",
       "      <td>No</td>\n",
       "    </tr>\n",
       "  </tbody>\n",
       "</table>\n",
       "<p>6361 rows × 2 columns</p>\n",
       "</div>"
      ],
      "text/plain": [
       "0     customerID MultipleLines\n",
       "0     5575-GNVDE            No\n",
       "1     3668-QPYBK            No\n",
       "2     9237-HQITU            No\n",
       "3     9305-CDSKC           Yes\n",
       "4     1452-KIOVK           Yes\n",
       "...          ...           ...\n",
       "6356  2569-WGERO            No\n",
       "6357  6840-RESVB           Yes\n",
       "6358  2234-XADUH           Yes\n",
       "6359  8361-LTMKD           Yes\n",
       "6360  3186-AJIEK            No\n",
       "\n",
       "[6361 rows x 2 columns]"
      ]
     },
     "metadata": {},
     "output_type": "display_data"
    }
   ],
   "source": [
    "query = '''\n",
    "SELECT *\n",
    "FROM telecom.phone\n",
    "'''\n",
    "data_phone = pd.read_sql_query(query, con=engine)\n",
    "headers = data_phone.iloc[0]\n",
    "data_phone = pd.DataFrame(data_phone.values[1:], columns=headers)\n",
    "data_phone.info()\n",
    "display(data_phone)"
   ]
  },
  {
   "cell_type": "code",
   "execution_count": 63,
   "id": "fbd0c496",
   "metadata": {},
   "outputs": [
    {
     "data": {
      "text/plain": [
       "array(['No', 'Yes'], dtype=object)"
      ]
     },
     "execution_count": 63,
     "metadata": {},
     "output_type": "execute_result"
    }
   ],
   "source": [
    "data_phone['MultipleLines'].unique()"
   ]
  },
  {
   "cell_type": "markdown",
   "id": "de03743e",
   "metadata": {},
   "source": [
    "Объединим данные в одну таблицу"
   ]
  },
  {
   "cell_type": "code",
   "execution_count": 64,
   "id": "c4d4a266",
   "metadata": {},
   "outputs": [],
   "source": [
    "full_data = data_contract.merge(data_personal, how='left', on='customerID')\n",
    "full_data = full_data.merge(data_internet, how='left', on='customerID')\n",
    "full_data = full_data.merge(data_phone, how='left', on='customerID')"
   ]
  },
  {
   "cell_type": "code",
   "execution_count": 65,
   "id": "354d186f",
   "metadata": {},
   "outputs": [],
   "source": [
    "full_data.fillna('No', inplace=True)"
   ]
  },
  {
   "cell_type": "code",
   "execution_count": 66,
   "id": "56704eba",
   "metadata": {},
   "outputs": [
    {
     "name": "stdout",
     "output_type": "stream",
     "text": [
      "<class 'pandas.core.frame.DataFrame'>\n",
      "Int64Index: 7043 entries, 0 to 7042\n",
      "Data columns (total 21 columns):\n",
      " #   Column            Non-Null Count  Dtype  \n",
      "---  ------            --------------  -----  \n",
      " 0   customerID        7043 non-null   object \n",
      " 1   BeginDate         7043 non-null   object \n",
      " 2   EndDate           7043 non-null   object \n",
      " 3   Type              7043 non-null   object \n",
      " 4   PaperlessBilling  7043 non-null   object \n",
      " 5   PaymentMethod     7043 non-null   object \n",
      " 6   MonthlyCharges    7043 non-null   float64\n",
      " 7   TotalCharges      7043 non-null   float64\n",
      " 8   Ended             7043 non-null   int64  \n",
      " 9   gender            7043 non-null   object \n",
      " 10  SeniorCitizen     7043 non-null   int64  \n",
      " 11  Partner           7043 non-null   object \n",
      " 12  Dependents        7043 non-null   object \n",
      " 13  InternetService   7043 non-null   object \n",
      " 14  OnlineSecurity    7043 non-null   object \n",
      " 15  OnlineBackup      7043 non-null   object \n",
      " 16  DeviceProtection  7043 non-null   object \n",
      " 17  TechSupport       7043 non-null   object \n",
      " 18  StreamingTV       7043 non-null   object \n",
      " 19  StreamingMovies   7043 non-null   object \n",
      " 20  MultipleLines     7043 non-null   object \n",
      "dtypes: float64(2), int64(2), object(17)\n",
      "memory usage: 1.2+ MB\n"
     ]
    },
    {
     "data": {
      "text/html": [
       "<div>\n",
       "<style scoped>\n",
       "    .dataframe tbody tr th:only-of-type {\n",
       "        vertical-align: middle;\n",
       "    }\n",
       "\n",
       "    .dataframe tbody tr th {\n",
       "        vertical-align: top;\n",
       "    }\n",
       "\n",
       "    .dataframe thead th {\n",
       "        text-align: right;\n",
       "    }\n",
       "</style>\n",
       "<table border=\"1\" class=\"dataframe\">\n",
       "  <thead>\n",
       "    <tr style=\"text-align: right;\">\n",
       "      <th></th>\n",
       "      <th>customerID</th>\n",
       "      <th>BeginDate</th>\n",
       "      <th>EndDate</th>\n",
       "      <th>Type</th>\n",
       "      <th>PaperlessBilling</th>\n",
       "      <th>PaymentMethod</th>\n",
       "      <th>MonthlyCharges</th>\n",
       "      <th>TotalCharges</th>\n",
       "      <th>Ended</th>\n",
       "      <th>gender</th>\n",
       "      <th>...</th>\n",
       "      <th>Partner</th>\n",
       "      <th>Dependents</th>\n",
       "      <th>InternetService</th>\n",
       "      <th>OnlineSecurity</th>\n",
       "      <th>OnlineBackup</th>\n",
       "      <th>DeviceProtection</th>\n",
       "      <th>TechSupport</th>\n",
       "      <th>StreamingTV</th>\n",
       "      <th>StreamingMovies</th>\n",
       "      <th>MultipleLines</th>\n",
       "    </tr>\n",
       "  </thead>\n",
       "  <tbody>\n",
       "    <tr>\n",
       "      <th>0</th>\n",
       "      <td>4472-LVYGI</td>\n",
       "      <td>2020-02-01</td>\n",
       "      <td>No</td>\n",
       "      <td>Two year</td>\n",
       "      <td>Yes</td>\n",
       "      <td>Bank transfer (automatic)</td>\n",
       "      <td>52.55</td>\n",
       "      <td>0.00</td>\n",
       "      <td>0</td>\n",
       "      <td>Female</td>\n",
       "      <td>...</td>\n",
       "      <td>Yes</td>\n",
       "      <td>Yes</td>\n",
       "      <td>DSL</td>\n",
       "      <td>Yes</td>\n",
       "      <td>No</td>\n",
       "      <td>Yes</td>\n",
       "      <td>Yes</td>\n",
       "      <td>Yes</td>\n",
       "      <td>No</td>\n",
       "      <td>No</td>\n",
       "    </tr>\n",
       "    <tr>\n",
       "      <th>1</th>\n",
       "      <td>3115-CZMZD</td>\n",
       "      <td>2020-02-01</td>\n",
       "      <td>No</td>\n",
       "      <td>Two year</td>\n",
       "      <td>No</td>\n",
       "      <td>Mailed check</td>\n",
       "      <td>20.25</td>\n",
       "      <td>0.00</td>\n",
       "      <td>0</td>\n",
       "      <td>Male</td>\n",
       "      <td>...</td>\n",
       "      <td>No</td>\n",
       "      <td>Yes</td>\n",
       "      <td>No</td>\n",
       "      <td>No</td>\n",
       "      <td>No</td>\n",
       "      <td>No</td>\n",
       "      <td>No</td>\n",
       "      <td>No</td>\n",
       "      <td>No</td>\n",
       "      <td>No</td>\n",
       "    </tr>\n",
       "    <tr>\n",
       "      <th>2</th>\n",
       "      <td>3668-QPYBK</td>\n",
       "      <td>2018-08-09</td>\n",
       "      <td>2019-12-01</td>\n",
       "      <td>Month-to-month</td>\n",
       "      <td>Yes</td>\n",
       "      <td>Mailed check</td>\n",
       "      <td>53.85</td>\n",
       "      <td>108.15</td>\n",
       "      <td>1</td>\n",
       "      <td>Male</td>\n",
       "      <td>...</td>\n",
       "      <td>No</td>\n",
       "      <td>No</td>\n",
       "      <td>DSL</td>\n",
       "      <td>Yes</td>\n",
       "      <td>Yes</td>\n",
       "      <td>No</td>\n",
       "      <td>No</td>\n",
       "      <td>No</td>\n",
       "      <td>No</td>\n",
       "      <td>No</td>\n",
       "    </tr>\n",
       "    <tr>\n",
       "      <th>3</th>\n",
       "      <td>5709-LVOEQ</td>\n",
       "      <td>2020-02-01</td>\n",
       "      <td>No</td>\n",
       "      <td>Two year</td>\n",
       "      <td>No</td>\n",
       "      <td>Mailed check</td>\n",
       "      <td>80.85</td>\n",
       "      <td>0.00</td>\n",
       "      <td>0</td>\n",
       "      <td>Female</td>\n",
       "      <td>...</td>\n",
       "      <td>Yes</td>\n",
       "      <td>Yes</td>\n",
       "      <td>DSL</td>\n",
       "      <td>Yes</td>\n",
       "      <td>Yes</td>\n",
       "      <td>Yes</td>\n",
       "      <td>No</td>\n",
       "      <td>Yes</td>\n",
       "      <td>Yes</td>\n",
       "      <td>No</td>\n",
       "    </tr>\n",
       "    <tr>\n",
       "      <th>4</th>\n",
       "      <td>9237-HQITU</td>\n",
       "      <td>2019-01-26</td>\n",
       "      <td>2019-11-01</td>\n",
       "      <td>Month-to-month</td>\n",
       "      <td>Yes</td>\n",
       "      <td>Electronic check</td>\n",
       "      <td>70.70</td>\n",
       "      <td>151.65</td>\n",
       "      <td>1</td>\n",
       "      <td>Female</td>\n",
       "      <td>...</td>\n",
       "      <td>No</td>\n",
       "      <td>No</td>\n",
       "      <td>Fiber optic</td>\n",
       "      <td>No</td>\n",
       "      <td>No</td>\n",
       "      <td>No</td>\n",
       "      <td>No</td>\n",
       "      <td>No</td>\n",
       "      <td>No</td>\n",
       "      <td>No</td>\n",
       "    </tr>\n",
       "    <tr>\n",
       "      <th>...</th>\n",
       "      <td>...</td>\n",
       "      <td>...</td>\n",
       "      <td>...</td>\n",
       "      <td>...</td>\n",
       "      <td>...</td>\n",
       "      <td>...</td>\n",
       "      <td>...</td>\n",
       "      <td>...</td>\n",
       "      <td>...</td>\n",
       "      <td>...</td>\n",
       "      <td>...</td>\n",
       "      <td>...</td>\n",
       "      <td>...</td>\n",
       "      <td>...</td>\n",
       "      <td>...</td>\n",
       "      <td>...</td>\n",
       "      <td>...</td>\n",
       "      <td>...</td>\n",
       "      <td>...</td>\n",
       "      <td>...</td>\n",
       "      <td>...</td>\n",
       "    </tr>\n",
       "    <tr>\n",
       "      <th>7038</th>\n",
       "      <td>2569-WGERO</td>\n",
       "      <td>2019-01-21</td>\n",
       "      <td>No</td>\n",
       "      <td>Two year</td>\n",
       "      <td>Yes</td>\n",
       "      <td>Bank transfer (automatic)</td>\n",
       "      <td>21.15</td>\n",
       "      <td>1419.40</td>\n",
       "      <td>0</td>\n",
       "      <td>Female</td>\n",
       "      <td>...</td>\n",
       "      <td>No</td>\n",
       "      <td>No</td>\n",
       "      <td>No</td>\n",
       "      <td>No</td>\n",
       "      <td>No</td>\n",
       "      <td>No</td>\n",
       "      <td>No</td>\n",
       "      <td>No</td>\n",
       "      <td>No</td>\n",
       "      <td>No</td>\n",
       "    </tr>\n",
       "    <tr>\n",
       "      <th>7039</th>\n",
       "      <td>6840-RESVB</td>\n",
       "      <td>2019-02-26</td>\n",
       "      <td>No</td>\n",
       "      <td>One year</td>\n",
       "      <td>Yes</td>\n",
       "      <td>Mailed check</td>\n",
       "      <td>84.80</td>\n",
       "      <td>1990.50</td>\n",
       "      <td>0</td>\n",
       "      <td>Male</td>\n",
       "      <td>...</td>\n",
       "      <td>Yes</td>\n",
       "      <td>Yes</td>\n",
       "      <td>DSL</td>\n",
       "      <td>Yes</td>\n",
       "      <td>No</td>\n",
       "      <td>Yes</td>\n",
       "      <td>Yes</td>\n",
       "      <td>Yes</td>\n",
       "      <td>Yes</td>\n",
       "      <td>Yes</td>\n",
       "    </tr>\n",
       "    <tr>\n",
       "      <th>7040</th>\n",
       "      <td>2234-XADUH</td>\n",
       "      <td>2019-09-02</td>\n",
       "      <td>No</td>\n",
       "      <td>One year</td>\n",
       "      <td>Yes</td>\n",
       "      <td>Credit card (automatic)</td>\n",
       "      <td>103.20</td>\n",
       "      <td>7362.90</td>\n",
       "      <td>0</td>\n",
       "      <td>Female</td>\n",
       "      <td>...</td>\n",
       "      <td>Yes</td>\n",
       "      <td>Yes</td>\n",
       "      <td>Fiber optic</td>\n",
       "      <td>No</td>\n",
       "      <td>Yes</td>\n",
       "      <td>Yes</td>\n",
       "      <td>No</td>\n",
       "      <td>Yes</td>\n",
       "      <td>Yes</td>\n",
       "      <td>Yes</td>\n",
       "    </tr>\n",
       "    <tr>\n",
       "      <th>7041</th>\n",
       "      <td>4801-JZAZL</td>\n",
       "      <td>2019-06-26</td>\n",
       "      <td>No</td>\n",
       "      <td>Month-to-month</td>\n",
       "      <td>Yes</td>\n",
       "      <td>Electronic check</td>\n",
       "      <td>29.60</td>\n",
       "      <td>346.45</td>\n",
       "      <td>0</td>\n",
       "      <td>Female</td>\n",
       "      <td>...</td>\n",
       "      <td>Yes</td>\n",
       "      <td>Yes</td>\n",
       "      <td>DSL</td>\n",
       "      <td>Yes</td>\n",
       "      <td>No</td>\n",
       "      <td>No</td>\n",
       "      <td>No</td>\n",
       "      <td>No</td>\n",
       "      <td>No</td>\n",
       "      <td>No</td>\n",
       "    </tr>\n",
       "    <tr>\n",
       "      <th>7042</th>\n",
       "      <td>3186-AJIEK</td>\n",
       "      <td>2019-04-18</td>\n",
       "      <td>No</td>\n",
       "      <td>Two year</td>\n",
       "      <td>Yes</td>\n",
       "      <td>Bank transfer (automatic)</td>\n",
       "      <td>105.65</td>\n",
       "      <td>6844.50</td>\n",
       "      <td>0</td>\n",
       "      <td>Male</td>\n",
       "      <td>...</td>\n",
       "      <td>No</td>\n",
       "      <td>No</td>\n",
       "      <td>Fiber optic</td>\n",
       "      <td>Yes</td>\n",
       "      <td>No</td>\n",
       "      <td>Yes</td>\n",
       "      <td>Yes</td>\n",
       "      <td>Yes</td>\n",
       "      <td>Yes</td>\n",
       "      <td>No</td>\n",
       "    </tr>\n",
       "  </tbody>\n",
       "</table>\n",
       "<p>7043 rows × 21 columns</p>\n",
       "</div>"
      ],
      "text/plain": [
       "      customerID   BeginDate     EndDate            Type PaperlessBilling  \\\n",
       "0     4472-LVYGI  2020-02-01          No        Two year              Yes   \n",
       "1     3115-CZMZD  2020-02-01          No        Two year               No   \n",
       "2     3668-QPYBK  2018-08-09  2019-12-01  Month-to-month              Yes   \n",
       "3     5709-LVOEQ  2020-02-01          No        Two year               No   \n",
       "4     9237-HQITU  2019-01-26  2019-11-01  Month-to-month              Yes   \n",
       "...          ...         ...         ...             ...              ...   \n",
       "7038  2569-WGERO  2019-01-21          No        Two year              Yes   \n",
       "7039  6840-RESVB  2019-02-26          No        One year              Yes   \n",
       "7040  2234-XADUH  2019-09-02          No        One year              Yes   \n",
       "7041  4801-JZAZL  2019-06-26          No  Month-to-month              Yes   \n",
       "7042  3186-AJIEK  2019-04-18          No        Two year              Yes   \n",
       "\n",
       "                  PaymentMethod  MonthlyCharges  TotalCharges  Ended  gender  \\\n",
       "0     Bank transfer (automatic)           52.55          0.00      0  Female   \n",
       "1                  Mailed check           20.25          0.00      0    Male   \n",
       "2                  Mailed check           53.85        108.15      1    Male   \n",
       "3                  Mailed check           80.85          0.00      0  Female   \n",
       "4              Electronic check           70.70        151.65      1  Female   \n",
       "...                         ...             ...           ...    ...     ...   \n",
       "7038  Bank transfer (automatic)           21.15       1419.40      0  Female   \n",
       "7039               Mailed check           84.80       1990.50      0    Male   \n",
       "7040    Credit card (automatic)          103.20       7362.90      0  Female   \n",
       "7041           Electronic check           29.60        346.45      0  Female   \n",
       "7042  Bank transfer (automatic)          105.65       6844.50      0    Male   \n",
       "\n",
       "      ...  Partner Dependents InternetService OnlineSecurity OnlineBackup  \\\n",
       "0     ...      Yes        Yes             DSL            Yes           No   \n",
       "1     ...       No        Yes              No             No           No   \n",
       "2     ...       No         No             DSL            Yes          Yes   \n",
       "3     ...      Yes        Yes             DSL            Yes          Yes   \n",
       "4     ...       No         No     Fiber optic             No           No   \n",
       "...   ...      ...        ...             ...            ...          ...   \n",
       "7038  ...       No         No              No             No           No   \n",
       "7039  ...      Yes        Yes             DSL            Yes           No   \n",
       "7040  ...      Yes        Yes     Fiber optic             No          Yes   \n",
       "7041  ...      Yes        Yes             DSL            Yes           No   \n",
       "7042  ...       No         No     Fiber optic            Yes           No   \n",
       "\n",
       "     DeviceProtection TechSupport StreamingTV StreamingMovies MultipleLines  \n",
       "0                 Yes         Yes         Yes              No            No  \n",
       "1                  No          No          No              No            No  \n",
       "2                  No          No          No              No            No  \n",
       "3                 Yes          No         Yes             Yes            No  \n",
       "4                  No          No          No              No            No  \n",
       "...               ...         ...         ...             ...           ...  \n",
       "7038               No          No          No              No            No  \n",
       "7039              Yes         Yes         Yes             Yes           Yes  \n",
       "7040              Yes          No         Yes             Yes           Yes  \n",
       "7041               No          No          No              No            No  \n",
       "7042              Yes         Yes         Yes             Yes            No  \n",
       "\n",
       "[7043 rows x 21 columns]"
      ]
     },
     "execution_count": 66,
     "metadata": {},
     "output_type": "execute_result"
    }
   ],
   "source": [
    "full_data.info()\n",
    "full_data"
   ]
  },
  {
   "cell_type": "code",
   "execution_count": 67,
   "id": "a3f98105",
   "metadata": {},
   "outputs": [
    {
     "data": {
      "text/plain": [
       "0"
      ]
     },
     "execution_count": 67,
     "metadata": {},
     "output_type": "execute_result"
    }
   ],
   "source": [
    "full_data.duplicated().sum()"
   ]
  },
  {
   "cell_type": "markdown",
   "id": "753746f8",
   "metadata": {},
   "source": [
    "Создадим новые признаки, например длительность контракта"
   ]
  },
  {
   "cell_type": "code",
   "execution_count": 68,
   "id": "6c1eddda",
   "metadata": {},
   "outputs": [
    {
     "data": {
      "text/plain": [
       "0         0\n",
       "1         0\n",
       "2       479\n",
       "3         0\n",
       "4       279\n",
       "       ... \n",
       "7038      0\n",
       "7039      0\n",
       "7040      0\n",
       "7041      0\n",
       "7042      0\n",
       "Name: DateDiff, Length: 7043, dtype: int64"
      ]
     },
     "execution_count": 68,
     "metadata": {},
     "output_type": "execute_result"
    }
   ],
   "source": [
    "full_data['DateDiff'] = full_data.apply(lambda row:  0 if row['EndDate'] == 'No' else (row['EndDate'] - row['BeginDate']).days,\n",
    "                          axis=1)\n",
    "full_data['DateDiff']"
   ]
  },
  {
   "cell_type": "code",
   "execution_count": 69,
   "id": "cb4b31f2",
   "metadata": {},
   "outputs": [
    {
     "data": {
      "text/html": [
       "<div>\n",
       "<style scoped>\n",
       "    .dataframe tbody tr th:only-of-type {\n",
       "        vertical-align: middle;\n",
       "    }\n",
       "\n",
       "    .dataframe tbody tr th {\n",
       "        vertical-align: top;\n",
       "    }\n",
       "\n",
       "    .dataframe thead th {\n",
       "        text-align: right;\n",
       "    }\n",
       "</style>\n",
       "<table border=\"1\" class=\"dataframe\">\n",
       "  <thead>\n",
       "    <tr style=\"text-align: right;\">\n",
       "      <th></th>\n",
       "      <th>customerID</th>\n",
       "      <th>BeginDate</th>\n",
       "      <th>EndDate</th>\n",
       "      <th>Type</th>\n",
       "      <th>PaperlessBilling</th>\n",
       "      <th>PaymentMethod</th>\n",
       "      <th>MonthlyCharges</th>\n",
       "      <th>TotalCharges</th>\n",
       "      <th>Ended</th>\n",
       "      <th>gender</th>\n",
       "      <th>...</th>\n",
       "      <th>Dependents</th>\n",
       "      <th>InternetService</th>\n",
       "      <th>OnlineSecurity</th>\n",
       "      <th>OnlineBackup</th>\n",
       "      <th>DeviceProtection</th>\n",
       "      <th>TechSupport</th>\n",
       "      <th>StreamingTV</th>\n",
       "      <th>StreamingMovies</th>\n",
       "      <th>MultipleLines</th>\n",
       "      <th>DateDiff</th>\n",
       "    </tr>\n",
       "  </thead>\n",
       "  <tbody>\n",
       "    <tr>\n",
       "      <th>0</th>\n",
       "      <td>4472-LVYGI</td>\n",
       "      <td>2020-02-01</td>\n",
       "      <td>No</td>\n",
       "      <td>Two year</td>\n",
       "      <td>Yes</td>\n",
       "      <td>Bank transfer (automatic)</td>\n",
       "      <td>52.55</td>\n",
       "      <td>0.00</td>\n",
       "      <td>0</td>\n",
       "      <td>Female</td>\n",
       "      <td>...</td>\n",
       "      <td>Yes</td>\n",
       "      <td>DSL</td>\n",
       "      <td>Yes</td>\n",
       "      <td>No</td>\n",
       "      <td>Yes</td>\n",
       "      <td>Yes</td>\n",
       "      <td>Yes</td>\n",
       "      <td>No</td>\n",
       "      <td>No</td>\n",
       "      <td>0</td>\n",
       "    </tr>\n",
       "    <tr>\n",
       "      <th>1</th>\n",
       "      <td>3115-CZMZD</td>\n",
       "      <td>2020-02-01</td>\n",
       "      <td>No</td>\n",
       "      <td>Two year</td>\n",
       "      <td>No</td>\n",
       "      <td>Mailed check</td>\n",
       "      <td>20.25</td>\n",
       "      <td>0.00</td>\n",
       "      <td>0</td>\n",
       "      <td>Male</td>\n",
       "      <td>...</td>\n",
       "      <td>Yes</td>\n",
       "      <td>No</td>\n",
       "      <td>No</td>\n",
       "      <td>No</td>\n",
       "      <td>No</td>\n",
       "      <td>No</td>\n",
       "      <td>No</td>\n",
       "      <td>No</td>\n",
       "      <td>No</td>\n",
       "      <td>0</td>\n",
       "    </tr>\n",
       "    <tr>\n",
       "      <th>2</th>\n",
       "      <td>3668-QPYBK</td>\n",
       "      <td>2018-08-09</td>\n",
       "      <td>2019-12-01</td>\n",
       "      <td>Month-to-month</td>\n",
       "      <td>Yes</td>\n",
       "      <td>Mailed check</td>\n",
       "      <td>53.85</td>\n",
       "      <td>108.15</td>\n",
       "      <td>1</td>\n",
       "      <td>Male</td>\n",
       "      <td>...</td>\n",
       "      <td>No</td>\n",
       "      <td>DSL</td>\n",
       "      <td>Yes</td>\n",
       "      <td>Yes</td>\n",
       "      <td>No</td>\n",
       "      <td>No</td>\n",
       "      <td>No</td>\n",
       "      <td>No</td>\n",
       "      <td>No</td>\n",
       "      <td>479</td>\n",
       "    </tr>\n",
       "    <tr>\n",
       "      <th>3</th>\n",
       "      <td>5709-LVOEQ</td>\n",
       "      <td>2020-02-01</td>\n",
       "      <td>No</td>\n",
       "      <td>Two year</td>\n",
       "      <td>No</td>\n",
       "      <td>Mailed check</td>\n",
       "      <td>80.85</td>\n",
       "      <td>0.00</td>\n",
       "      <td>0</td>\n",
       "      <td>Female</td>\n",
       "      <td>...</td>\n",
       "      <td>Yes</td>\n",
       "      <td>DSL</td>\n",
       "      <td>Yes</td>\n",
       "      <td>Yes</td>\n",
       "      <td>Yes</td>\n",
       "      <td>No</td>\n",
       "      <td>Yes</td>\n",
       "      <td>Yes</td>\n",
       "      <td>No</td>\n",
       "      <td>0</td>\n",
       "    </tr>\n",
       "    <tr>\n",
       "      <th>4</th>\n",
       "      <td>9237-HQITU</td>\n",
       "      <td>2019-01-26</td>\n",
       "      <td>2019-11-01</td>\n",
       "      <td>Month-to-month</td>\n",
       "      <td>Yes</td>\n",
       "      <td>Electronic check</td>\n",
       "      <td>70.70</td>\n",
       "      <td>151.65</td>\n",
       "      <td>1</td>\n",
       "      <td>Female</td>\n",
       "      <td>...</td>\n",
       "      <td>No</td>\n",
       "      <td>Fiber optic</td>\n",
       "      <td>No</td>\n",
       "      <td>No</td>\n",
       "      <td>No</td>\n",
       "      <td>No</td>\n",
       "      <td>No</td>\n",
       "      <td>No</td>\n",
       "      <td>No</td>\n",
       "      <td>279</td>\n",
       "    </tr>\n",
       "    <tr>\n",
       "      <th>...</th>\n",
       "      <td>...</td>\n",
       "      <td>...</td>\n",
       "      <td>...</td>\n",
       "      <td>...</td>\n",
       "      <td>...</td>\n",
       "      <td>...</td>\n",
       "      <td>...</td>\n",
       "      <td>...</td>\n",
       "      <td>...</td>\n",
       "      <td>...</td>\n",
       "      <td>...</td>\n",
       "      <td>...</td>\n",
       "      <td>...</td>\n",
       "      <td>...</td>\n",
       "      <td>...</td>\n",
       "      <td>...</td>\n",
       "      <td>...</td>\n",
       "      <td>...</td>\n",
       "      <td>...</td>\n",
       "      <td>...</td>\n",
       "      <td>...</td>\n",
       "    </tr>\n",
       "    <tr>\n",
       "      <th>7038</th>\n",
       "      <td>2569-WGERO</td>\n",
       "      <td>2019-01-21</td>\n",
       "      <td>No</td>\n",
       "      <td>Two year</td>\n",
       "      <td>Yes</td>\n",
       "      <td>Bank transfer (automatic)</td>\n",
       "      <td>21.15</td>\n",
       "      <td>1419.40</td>\n",
       "      <td>0</td>\n",
       "      <td>Female</td>\n",
       "      <td>...</td>\n",
       "      <td>No</td>\n",
       "      <td>No</td>\n",
       "      <td>No</td>\n",
       "      <td>No</td>\n",
       "      <td>No</td>\n",
       "      <td>No</td>\n",
       "      <td>No</td>\n",
       "      <td>No</td>\n",
       "      <td>No</td>\n",
       "      <td>0</td>\n",
       "    </tr>\n",
       "    <tr>\n",
       "      <th>7039</th>\n",
       "      <td>6840-RESVB</td>\n",
       "      <td>2019-02-26</td>\n",
       "      <td>No</td>\n",
       "      <td>One year</td>\n",
       "      <td>Yes</td>\n",
       "      <td>Mailed check</td>\n",
       "      <td>84.80</td>\n",
       "      <td>1990.50</td>\n",
       "      <td>0</td>\n",
       "      <td>Male</td>\n",
       "      <td>...</td>\n",
       "      <td>Yes</td>\n",
       "      <td>DSL</td>\n",
       "      <td>Yes</td>\n",
       "      <td>No</td>\n",
       "      <td>Yes</td>\n",
       "      <td>Yes</td>\n",
       "      <td>Yes</td>\n",
       "      <td>Yes</td>\n",
       "      <td>Yes</td>\n",
       "      <td>0</td>\n",
       "    </tr>\n",
       "    <tr>\n",
       "      <th>7040</th>\n",
       "      <td>2234-XADUH</td>\n",
       "      <td>2019-09-02</td>\n",
       "      <td>No</td>\n",
       "      <td>One year</td>\n",
       "      <td>Yes</td>\n",
       "      <td>Credit card (automatic)</td>\n",
       "      <td>103.20</td>\n",
       "      <td>7362.90</td>\n",
       "      <td>0</td>\n",
       "      <td>Female</td>\n",
       "      <td>...</td>\n",
       "      <td>Yes</td>\n",
       "      <td>Fiber optic</td>\n",
       "      <td>No</td>\n",
       "      <td>Yes</td>\n",
       "      <td>Yes</td>\n",
       "      <td>No</td>\n",
       "      <td>Yes</td>\n",
       "      <td>Yes</td>\n",
       "      <td>Yes</td>\n",
       "      <td>0</td>\n",
       "    </tr>\n",
       "    <tr>\n",
       "      <th>7041</th>\n",
       "      <td>4801-JZAZL</td>\n",
       "      <td>2019-06-26</td>\n",
       "      <td>No</td>\n",
       "      <td>Month-to-month</td>\n",
       "      <td>Yes</td>\n",
       "      <td>Electronic check</td>\n",
       "      <td>29.60</td>\n",
       "      <td>346.45</td>\n",
       "      <td>0</td>\n",
       "      <td>Female</td>\n",
       "      <td>...</td>\n",
       "      <td>Yes</td>\n",
       "      <td>DSL</td>\n",
       "      <td>Yes</td>\n",
       "      <td>No</td>\n",
       "      <td>No</td>\n",
       "      <td>No</td>\n",
       "      <td>No</td>\n",
       "      <td>No</td>\n",
       "      <td>No</td>\n",
       "      <td>0</td>\n",
       "    </tr>\n",
       "    <tr>\n",
       "      <th>7042</th>\n",
       "      <td>3186-AJIEK</td>\n",
       "      <td>2019-04-18</td>\n",
       "      <td>No</td>\n",
       "      <td>Two year</td>\n",
       "      <td>Yes</td>\n",
       "      <td>Bank transfer (automatic)</td>\n",
       "      <td>105.65</td>\n",
       "      <td>6844.50</td>\n",
       "      <td>0</td>\n",
       "      <td>Male</td>\n",
       "      <td>...</td>\n",
       "      <td>No</td>\n",
       "      <td>Fiber optic</td>\n",
       "      <td>Yes</td>\n",
       "      <td>No</td>\n",
       "      <td>Yes</td>\n",
       "      <td>Yes</td>\n",
       "      <td>Yes</td>\n",
       "      <td>Yes</td>\n",
       "      <td>No</td>\n",
       "      <td>0</td>\n",
       "    </tr>\n",
       "  </tbody>\n",
       "</table>\n",
       "<p>7043 rows × 22 columns</p>\n",
       "</div>"
      ],
      "text/plain": [
       "      customerID   BeginDate     EndDate            Type PaperlessBilling  \\\n",
       "0     4472-LVYGI  2020-02-01          No        Two year              Yes   \n",
       "1     3115-CZMZD  2020-02-01          No        Two year               No   \n",
       "2     3668-QPYBK  2018-08-09  2019-12-01  Month-to-month              Yes   \n",
       "3     5709-LVOEQ  2020-02-01          No        Two year               No   \n",
       "4     9237-HQITU  2019-01-26  2019-11-01  Month-to-month              Yes   \n",
       "...          ...         ...         ...             ...              ...   \n",
       "7038  2569-WGERO  2019-01-21          No        Two year              Yes   \n",
       "7039  6840-RESVB  2019-02-26          No        One year              Yes   \n",
       "7040  2234-XADUH  2019-09-02          No        One year              Yes   \n",
       "7041  4801-JZAZL  2019-06-26          No  Month-to-month              Yes   \n",
       "7042  3186-AJIEK  2019-04-18          No        Two year              Yes   \n",
       "\n",
       "                  PaymentMethod  MonthlyCharges  TotalCharges  Ended  gender  \\\n",
       "0     Bank transfer (automatic)           52.55          0.00      0  Female   \n",
       "1                  Mailed check           20.25          0.00      0    Male   \n",
       "2                  Mailed check           53.85        108.15      1    Male   \n",
       "3                  Mailed check           80.85          0.00      0  Female   \n",
       "4              Electronic check           70.70        151.65      1  Female   \n",
       "...                         ...             ...           ...    ...     ...   \n",
       "7038  Bank transfer (automatic)           21.15       1419.40      0  Female   \n",
       "7039               Mailed check           84.80       1990.50      0    Male   \n",
       "7040    Credit card (automatic)          103.20       7362.90      0  Female   \n",
       "7041           Electronic check           29.60        346.45      0  Female   \n",
       "7042  Bank transfer (automatic)          105.65       6844.50      0    Male   \n",
       "\n",
       "      ...  Dependents InternetService OnlineSecurity OnlineBackup  \\\n",
       "0     ...         Yes             DSL            Yes           No   \n",
       "1     ...         Yes              No             No           No   \n",
       "2     ...          No             DSL            Yes          Yes   \n",
       "3     ...         Yes             DSL            Yes          Yes   \n",
       "4     ...          No     Fiber optic             No           No   \n",
       "...   ...         ...             ...            ...          ...   \n",
       "7038  ...          No              No             No           No   \n",
       "7039  ...         Yes             DSL            Yes           No   \n",
       "7040  ...         Yes     Fiber optic             No          Yes   \n",
       "7041  ...         Yes             DSL            Yes           No   \n",
       "7042  ...          No     Fiber optic            Yes           No   \n",
       "\n",
       "     DeviceProtection TechSupport StreamingTV StreamingMovies MultipleLines  \\\n",
       "0                 Yes         Yes         Yes              No            No   \n",
       "1                  No          No          No              No            No   \n",
       "2                  No          No          No              No            No   \n",
       "3                 Yes          No         Yes             Yes            No   \n",
       "4                  No          No          No              No            No   \n",
       "...               ...         ...         ...             ...           ...   \n",
       "7038               No          No          No              No            No   \n",
       "7039              Yes         Yes         Yes             Yes           Yes   \n",
       "7040              Yes          No         Yes             Yes           Yes   \n",
       "7041               No          No          No              No            No   \n",
       "7042              Yes         Yes         Yes             Yes            No   \n",
       "\n",
       "     DateDiff  \n",
       "0           0  \n",
       "1           0  \n",
       "2         479  \n",
       "3           0  \n",
       "4         279  \n",
       "...       ...  \n",
       "7038        0  \n",
       "7039        0  \n",
       "7040        0  \n",
       "7041        0  \n",
       "7042        0  \n",
       "\n",
       "[7043 rows x 22 columns]"
      ]
     },
     "execution_count": 69,
     "metadata": {},
     "output_type": "execute_result"
    }
   ],
   "source": [
    "full_data"
   ]
  },
  {
   "cell_type": "code",
   "execution_count": 70,
   "id": "eff77c72",
   "metadata": {},
   "outputs": [],
   "source": [
    "def bar_plot(data, columns):\n",
    "    for column in columns:        \n",
    "        plt.figure(figsize=(10,5))\n",
    "        sns.countplot(data=full_data, x=column, hue='Ended')\n",
    "        plt.show()"
   ]
  },
  {
   "cell_type": "markdown",
   "id": "6b22e6a8",
   "metadata": {},
   "source": [
    "Построим графики показывающие связь наших признаков с целевой переменной"
   ]
  },
  {
   "cell_type": "code",
   "execution_count": 71,
   "id": "25e404c9",
   "metadata": {},
   "outputs": [
    {
     "data": {
      "image/png": "[encoded data removed]",
      "text/plain": [
       "<Figure size 720x360 with 1 Axes>"
      ]
     },
     "metadata": {
      "needs_background": "light"
     },
     "output_type": "display_data"
    },
    {
     "data": {
      "image/png": "[encoded data removed]",
      "text/plain": [
       "<Figure size 720x360 with 1 Axes>"
      ]
     },
     "metadata": {
      "needs_background": "light"
     },
     "output_type": "display_data"
    },
    {
     "data": {
      "image/png": "[encoded data removed]",
      "text/plain": [
       "<Figure size 720x360 with 1 Axes>"
      ]
     },
     "metadata": {
      "needs_background": "light"
     },
     "output_type": "display_data"
    },
    {
     "data": {
      "image/png": "[encoded data removed]",
      "text/plain": [
       "<Figure size 720x360 with 1 Axes>"
      ]
     },
     "metadata": {
      "needs_background": "light"
     },
     "output_type": "display_data"
    },
    {
     "data": {
      "image/png": "[encoded data removed]",
      "text/plain": [
       "<Figure size 720x360 with 1 Axes>"
      ]
     },
     "metadata": {
      "needs_background": "light"
     },
     "output_type": "display_data"
    },
    {
     "data": {
      "image/png": "[encoded data removed]",
      "text/plain": [
       "<Figure size 720x360 with 1 Axes>"
      ]
     },
     "metadata": {
      "needs_background": "light"
     },
     "output_type": "display_data"
    },
    {
     "data": {
      "image/png": "[encoded data removed]",
      "text/plain": [
       "<Figure size 720x360 with 1 Axes>"
      ]
     },
     "metadata": {
      "needs_background": "light"
     },
     "output_type": "display_data"
    },
    {
     "data": {
      "image/png": "[encoded data removed]",
      "text/plain": [
       "<Figure size 720x360 with 1 Axes>"
      ]
     },
     "metadata": {
      "needs_background": "light"
     },
     "output_type": "display_data"
    },
    {
     "data": {
      "image/png": "[encoded data removed]",
      "text/plain": [
       "<Figure size 720x360 with 1 Axes>"
      ]
     },
     "metadata": {
      "needs_background": "light"
     },
     "output_type": "display_data"
    },
    {
     "data": {
      "image/png": "[encoded data removed]",
      "text/plain": [
       "<Figure size 720x360 with 1 Axes>"
      ]
     },
     "metadata": {
      "needs_background": "light"
     },
     "output_type": "display_data"
    },
    {
     "data": {
      "image/png": "[encoded data removed]",
      "text/plain": [
       "<Figure size 720x360 with 1 Axes>"
      ]
     },
     "metadata": {
      "needs_background": "light"
     },
     "output_type": "display_data"
    },
    {
     "data": {
      "image/png": "[encoded data removed]",
      "text/plain": [
       "<Figure size 720x360 with 1 Axes>"
      ]
     },
     "metadata": {
      "needs_background": "light"
     },
     "output_type": "display_data"
    },
    {
     "data": {
      "image/png": "[encoded data removed]",
      "text/plain": [
       "<Figure size 720x360 with 1 Axes>"
      ]
     },
     "metadata": {
      "needs_background": "light"
     },
     "output_type": "display_data"
    },
    {
     "data": {
      "image/png": "[encoded data removed]",
      "text/plain": [
       "<Figure size 720x360 with 1 Axes>"
      ]
     },
     "metadata": {
      "needs_background": "light"
     },
     "output_type": "display_data"
    },
    {
     "data": {
      "image/png": "[encoded data removed]",
      "text/plain": [
       "<Figure size 720x360 with 1 Axes>"
      ]
     },
     "metadata": {
      "needs_background": "light"
     },
     "output_type": "display_data"
    }
   ],
   "source": [
    "column_list=['Type','PaymentMethod','PaperlessBilling','gender','SeniorCitizen','Partner','Dependents','InternetService',\n",
    "            'OnlineSecurity','OnlineBackup','DeviceProtection','TechSupport','StreamingTV','StreamingMovies','MultipleLines']\n",
    "bar_plot(full_data, column_list)"
   ]
  },
  {
   "cell_type": "markdown",
   "id": "3524b847",
   "metadata": {},
   "source": [
    "Можем выделить признаки `Type` и `PaymentMethod`, точно будем использовать их"
   ]
  },
  {
   "cell_type": "code",
   "execution_count": 72,
   "id": "334cbd4a",
   "metadata": {
    "scrolled": true
   },
   "outputs": [
    {
     "name": "stdout",
     "output_type": "stream",
     "text": [
      "interval columns not set, guessing: ['MonthlyCharges', 'TotalCharges', 'Ended', 'SeniorCitizen', 'DateDiff']\n"
     ]
    },
    {
     "data": {
      "text/plain": [
       "<AxesSubplot:>"
      ]
     },
     "execution_count": 72,
     "metadata": {},
     "output_type": "execute_result"
    },
    {
     "data": {
      "image/png": "[encoded data removed]",
      "text/plain": [
       "<Figure size 1080x1080 with 2 Axes>"
      ]
     },
     "metadata": {
      "needs_background": "light"
     },
     "output_type": "display_data"
    }
   ],
   "source": [
    "plt.figure(figsize=(15,15))\n",
    "sns.heatmap(phik_matrix(full_data.drop('customerID', axis=1)).round(2),cmap=\"coolwarm\", annot=True, fmt=\".2f\", vmin=0, vmax=1)"
   ]
  },
  {
   "cell_type": "markdown",
   "id": "b2e6e4c3",
   "metadata": {},
   "source": [
    "Созданный нами признак `DateDiff` слишком сильно коррелирует, поэтому не станем его использовать, создадим признак с датой подписания контракта"
   ]
  },
  {
   "cell_type": "code",
   "execution_count": 73,
   "id": "31a9ec38",
   "metadata": {},
   "outputs": [
    {
     "data": {
      "text/plain": [
       "0       2020\n",
       "1       2020\n",
       "2       2018\n",
       "3       2020\n",
       "4       2019\n",
       "        ... \n",
       "7038    2019\n",
       "7039    2019\n",
       "7040    2019\n",
       "7041    2019\n",
       "7042    2019\n",
       "Name: YearStart, Length: 7043, dtype: int64"
      ]
     },
     "execution_count": 73,
     "metadata": {},
     "output_type": "execute_result"
    }
   ],
   "source": [
    "full_data['YearStart'] = full_data.apply(lambda row:  row['BeginDate'].year, axis=1)\n",
    "full_data['YearStart']"
   ]
  },
  {
   "cell_type": "markdown",
   "id": "a84d6351",
   "metadata": {},
   "source": [
    "Провели анализ наших датафреймов на аномалии, пропуски и другие проблемы. Избавились от пропусков, попробовали создать новые признаки для обучения. Объединили данные в один датафрейм для обучения. С помощью графиков, мы выделили сильно коррелирующие признаки: `Type` и `PaymentMethod`"
   ]
  },
  {
   "cell_type": "markdown",
   "id": "98967e32",
   "metadata": {},
   "source": [
    "## Подготовим данные для обучения"
   ]
  },
  {
   "cell_type": "code",
   "execution_count": 74,
   "id": "06601482",
   "metadata": {},
   "outputs": [
    {
     "name": "stdout",
     "output_type": "stream",
     "text": [
      "<class 'pandas.core.frame.DataFrame'>\n",
      "Int64Index: 7043 entries, 0 to 7042\n",
      "Data columns (total 23 columns):\n",
      " #   Column            Non-Null Count  Dtype  \n",
      "---  ------            --------------  -----  \n",
      " 0   customerID        7043 non-null   object \n",
      " 1   BeginDate         7043 non-null   object \n",
      " 2   EndDate           7043 non-null   object \n",
      " 3   Type              7043 non-null   object \n",
      " 4   PaperlessBilling  7043 non-null   object \n",
      " 5   PaymentMethod     7043 non-null   object \n",
      " 6   MonthlyCharges    7043 non-null   float64\n",
      " 7   TotalCharges      7043 non-null   float64\n",
      " 8   Ended             7043 non-null   int64  \n",
      " 9   gender            7043 non-null   object \n",
      " 10  SeniorCitizen     7043 non-null   int64  \n",
      " 11  Partner           7043 non-null   object \n",
      " 12  Dependents        7043 non-null   object \n",
      " 13  InternetService   7043 non-null   object \n",
      " 14  OnlineSecurity    7043 non-null   object \n",
      " 15  OnlineBackup      7043 non-null   object \n",
      " 16  DeviceProtection  7043 non-null   object \n",
      " 17  TechSupport       7043 non-null   object \n",
      " 18  StreamingTV       7043 non-null   object \n",
      " 19  StreamingMovies   7043 non-null   object \n",
      " 20  MultipleLines     7043 non-null   object \n",
      " 21  DateDiff          7043 non-null   int64  \n",
      " 22  YearStart         7043 non-null   int64  \n",
      "dtypes: float64(2), int64(4), object(17)\n",
      "memory usage: 1.5+ MB\n"
     ]
    }
   ],
   "source": [
    "full_data.info()"
   ]
  },
  {
   "cell_type": "code",
   "execution_count": 75,
   "id": "bbc26b4b",
   "metadata": {},
   "outputs": [
    {
     "name": "stdout",
     "output_type": "stream",
     "text": [
      "(7043, 18)\n",
      "(7043,)\n"
     ]
    }
   ],
   "source": [
    "features = full_data.drop(['customerID','BeginDate','EndDate','Ended','DateDiff'], axis=1)\n",
    "target = full_data['Ended']\n",
    "print(features.shape)\n",
    "print(target.shape)"
   ]
  },
  {
   "cell_type": "code",
   "execution_count": 76,
   "id": "e68a3691",
   "metadata": {},
   "outputs": [],
   "source": [
    "cat = ['Type','PaymentMethod','PaperlessBilling','gender','SeniorCitizen','Partner','Dependents','InternetService',\n",
    "            'OnlineSecurity','OnlineBackup','DeviceProtection','TechSupport','StreamingTV','StreamingMovies','MultipleLines']\n",
    "num = ['MonthlyCharges','TotalCharges','YearStart']"
   ]
  },
  {
   "cell_type": "code",
   "execution_count": 77,
   "id": "e18f5d20",
   "metadata": {},
   "outputs": [],
   "source": [
    "features_train, features_test, target_train, target_test = train_test_split( \n",
    "        features, target, test_size=0.25, random_state=RANDOM_STATE\n",
    ")"
   ]
  },
  {
   "cell_type": "code",
   "execution_count": 78,
   "id": "1715bb95",
   "metadata": {},
   "outputs": [],
   "source": [
    "col_transformer = ColumnTransformer(\n",
    "                    transformers=[\n",
    "                        ('ss', StandardScaler(), num),\n",
    "                        ('ohe', OneHotEncoder(drop='first', sparse=False), cat)\n",
    "                    ],\n",
    "                    remainder='drop',\n",
    "                    n_jobs=-1\n",
    "                    )"
   ]
  },
  {
   "cell_type": "code",
   "execution_count": 79,
   "id": "837d26a7",
   "metadata": {},
   "outputs": [
    {
     "name": "stderr",
     "output_type": "stream",
     "text": [
      "/opt/conda/lib/python3.9/site-packages/sklearn/preprocessing/_encoders.py:868: FutureWarning: `sparse` was renamed to `sparse_output` in version 1.2 and will be removed in 1.4. `sparse_output` is ignored unless you leave `sparse` to its default value.\n",
      "  warnings.warn(\n"
     ]
    }
   ],
   "source": [
    "features_train_ohe = col_transformer.fit_transform(features_train)\n",
    "features_test_ohe = col_transformer.transform(features_test)"
   ]
  },
  {
   "cell_type": "code",
   "execution_count": 80,
   "id": "68965504",
   "metadata": {},
   "outputs": [],
   "source": [
    "features_new= pd.DataFrame(features_train_ohe,columns=col_transformer.get_feature_names_out())"
   ]
  },
  {
   "cell_type": "code",
   "execution_count": 81,
   "id": "085c4b7b",
   "metadata": {},
   "outputs": [
    {
     "data": {
      "text/html": [
       "<div>\n",
       "<style scoped>\n",
       "    .dataframe tbody tr th:only-of-type {\n",
       "        vertical-align: middle;\n",
       "    }\n",
       "\n",
       "    .dataframe tbody tr th {\n",
       "        vertical-align: top;\n",
       "    }\n",
       "\n",
       "    .dataframe thead th {\n",
       "        text-align: right;\n",
       "    }\n",
       "</style>\n",
       "<table border=\"1\" class=\"dataframe\">\n",
       "  <thead>\n",
       "    <tr style=\"text-align: right;\">\n",
       "      <th></th>\n",
       "      <th>ss__MonthlyCharges</th>\n",
       "      <th>ss__TotalCharges</th>\n",
       "      <th>ss__YearStart</th>\n",
       "      <th>ohe__Type_One year</th>\n",
       "      <th>ohe__Type_Two year</th>\n",
       "      <th>ohe__PaymentMethod_Credit card (automatic)</th>\n",
       "      <th>ohe__PaymentMethod_Electronic check</th>\n",
       "      <th>ohe__PaymentMethod_Mailed check</th>\n",
       "      <th>ohe__PaperlessBilling_Yes</th>\n",
       "      <th>ohe__gender_Male</th>\n",
       "      <th>...</th>\n",
       "      <th>ohe__Dependents_Yes</th>\n",
       "      <th>ohe__InternetService_Fiber optic</th>\n",
       "      <th>ohe__InternetService_No</th>\n",
       "      <th>ohe__OnlineSecurity_Yes</th>\n",
       "      <th>ohe__OnlineBackup_Yes</th>\n",
       "      <th>ohe__DeviceProtection_Yes</th>\n",
       "      <th>ohe__TechSupport_Yes</th>\n",
       "      <th>ohe__StreamingTV_Yes</th>\n",
       "      <th>ohe__StreamingMovies_Yes</th>\n",
       "      <th>ohe__MultipleLines_Yes</th>\n",
       "    </tr>\n",
       "  </thead>\n",
       "  <tbody>\n",
       "    <tr>\n",
       "      <th>0</th>\n",
       "      <td>0.198237</td>\n",
       "      <td>1.200065</td>\n",
       "      <td>0.492882</td>\n",
       "      <td>1.0</td>\n",
       "      <td>0.0</td>\n",
       "      <td>0.0</td>\n",
       "      <td>0.0</td>\n",
       "      <td>0.0</td>\n",
       "      <td>1.0</td>\n",
       "      <td>1.0</td>\n",
       "      <td>...</td>\n",
       "      <td>0.0</td>\n",
       "      <td>0.0</td>\n",
       "      <td>0.0</td>\n",
       "      <td>1.0</td>\n",
       "      <td>1.0</td>\n",
       "      <td>0.0</td>\n",
       "      <td>1.0</td>\n",
       "      <td>1.0</td>\n",
       "      <td>0.0</td>\n",
       "      <td>0.0</td>\n",
       "    </tr>\n",
       "    <tr>\n",
       "      <th>1</th>\n",
       "      <td>0.542055</td>\n",
       "      <td>1.251644</td>\n",
       "      <td>0.492882</td>\n",
       "      <td>0.0</td>\n",
       "      <td>1.0</td>\n",
       "      <td>0.0</td>\n",
       "      <td>0.0</td>\n",
       "      <td>1.0</td>\n",
       "      <td>1.0</td>\n",
       "      <td>0.0</td>\n",
       "      <td>...</td>\n",
       "      <td>0.0</td>\n",
       "      <td>0.0</td>\n",
       "      <td>0.0</td>\n",
       "      <td>1.0</td>\n",
       "      <td>1.0</td>\n",
       "      <td>1.0</td>\n",
       "      <td>1.0</td>\n",
       "      <td>0.0</td>\n",
       "      <td>1.0</td>\n",
       "      <td>1.0</td>\n",
       "    </tr>\n",
       "    <tr>\n",
       "      <th>2</th>\n",
       "      <td>-1.485805</td>\n",
       "      <td>-0.375263</td>\n",
       "      <td>0.492882</td>\n",
       "      <td>0.0</td>\n",
       "      <td>1.0</td>\n",
       "      <td>0.0</td>\n",
       "      <td>1.0</td>\n",
       "      <td>0.0</td>\n",
       "      <td>0.0</td>\n",
       "      <td>1.0</td>\n",
       "      <td>...</td>\n",
       "      <td>1.0</td>\n",
       "      <td>0.0</td>\n",
       "      <td>1.0</td>\n",
       "      <td>0.0</td>\n",
       "      <td>0.0</td>\n",
       "      <td>0.0</td>\n",
       "      <td>0.0</td>\n",
       "      <td>0.0</td>\n",
       "      <td>0.0</td>\n",
       "      <td>0.0</td>\n",
       "    </tr>\n",
       "    <tr>\n",
       "      <th>3</th>\n",
       "      <td>-0.494407</td>\n",
       "      <td>0.313436</td>\n",
       "      <td>0.492882</td>\n",
       "      <td>0.0</td>\n",
       "      <td>0.0</td>\n",
       "      <td>0.0</td>\n",
       "      <td>1.0</td>\n",
       "      <td>0.0</td>\n",
       "      <td>1.0</td>\n",
       "      <td>1.0</td>\n",
       "      <td>...</td>\n",
       "      <td>0.0</td>\n",
       "      <td>0.0</td>\n",
       "      <td>0.0</td>\n",
       "      <td>0.0</td>\n",
       "      <td>1.0</td>\n",
       "      <td>0.0</td>\n",
       "      <td>0.0</td>\n",
       "      <td>1.0</td>\n",
       "      <td>1.0</td>\n",
       "      <td>0.0</td>\n",
       "    </tr>\n",
       "    <tr>\n",
       "      <th>4</th>\n",
       "      <td>-1.330586</td>\n",
       "      <td>-0.897827</td>\n",
       "      <td>0.492882</td>\n",
       "      <td>1.0</td>\n",
       "      <td>0.0</td>\n",
       "      <td>0.0</td>\n",
       "      <td>1.0</td>\n",
       "      <td>0.0</td>\n",
       "      <td>0.0</td>\n",
       "      <td>0.0</td>\n",
       "      <td>...</td>\n",
       "      <td>0.0</td>\n",
       "      <td>0.0</td>\n",
       "      <td>1.0</td>\n",
       "      <td>0.0</td>\n",
       "      <td>0.0</td>\n",
       "      <td>0.0</td>\n",
       "      <td>0.0</td>\n",
       "      <td>0.0</td>\n",
       "      <td>0.0</td>\n",
       "      <td>1.0</td>\n",
       "    </tr>\n",
       "    <tr>\n",
       "      <th>...</th>\n",
       "      <td>...</td>\n",
       "      <td>...</td>\n",
       "      <td>...</td>\n",
       "      <td>...</td>\n",
       "      <td>...</td>\n",
       "      <td>...</td>\n",
       "      <td>...</td>\n",
       "      <td>...</td>\n",
       "      <td>...</td>\n",
       "      <td>...</td>\n",
       "      <td>...</td>\n",
       "      <td>...</td>\n",
       "      <td>...</td>\n",
       "      <td>...</td>\n",
       "      <td>...</td>\n",
       "      <td>...</td>\n",
       "      <td>...</td>\n",
       "      <td>...</td>\n",
       "      <td>...</td>\n",
       "      <td>...</td>\n",
       "      <td>...</td>\n",
       "    </tr>\n",
       "    <tr>\n",
       "      <th>5277</th>\n",
       "      <td>1.620243</td>\n",
       "      <td>1.016481</td>\n",
       "      <td>-1.981835</td>\n",
       "      <td>0.0</td>\n",
       "      <td>0.0</td>\n",
       "      <td>0.0</td>\n",
       "      <td>0.0</td>\n",
       "      <td>0.0</td>\n",
       "      <td>1.0</td>\n",
       "      <td>0.0</td>\n",
       "      <td>...</td>\n",
       "      <td>0.0</td>\n",
       "      <td>1.0</td>\n",
       "      <td>0.0</td>\n",
       "      <td>1.0</td>\n",
       "      <td>1.0</td>\n",
       "      <td>1.0</td>\n",
       "      <td>1.0</td>\n",
       "      <td>1.0</td>\n",
       "      <td>1.0</td>\n",
       "      <td>1.0</td>\n",
       "    </tr>\n",
       "    <tr>\n",
       "      <th>5278</th>\n",
       "      <td>0.343442</td>\n",
       "      <td>-0.972554</td>\n",
       "      <td>0.492882</td>\n",
       "      <td>0.0</td>\n",
       "      <td>0.0</td>\n",
       "      <td>0.0</td>\n",
       "      <td>1.0</td>\n",
       "      <td>0.0</td>\n",
       "      <td>1.0</td>\n",
       "      <td>1.0</td>\n",
       "      <td>...</td>\n",
       "      <td>1.0</td>\n",
       "      <td>1.0</td>\n",
       "      <td>0.0</td>\n",
       "      <td>0.0</td>\n",
       "      <td>1.0</td>\n",
       "      <td>0.0</td>\n",
       "      <td>0.0</td>\n",
       "      <td>0.0</td>\n",
       "      <td>0.0</td>\n",
       "      <td>0.0</td>\n",
       "    </tr>\n",
       "    <tr>\n",
       "      <th>5279</th>\n",
       "      <td>0.607147</td>\n",
       "      <td>-0.870145</td>\n",
       "      <td>0.492882</td>\n",
       "      <td>0.0</td>\n",
       "      <td>0.0</td>\n",
       "      <td>0.0</td>\n",
       "      <td>1.0</td>\n",
       "      <td>0.0</td>\n",
       "      <td>1.0</td>\n",
       "      <td>0.0</td>\n",
       "      <td>...</td>\n",
       "      <td>0.0</td>\n",
       "      <td>1.0</td>\n",
       "      <td>0.0</td>\n",
       "      <td>0.0</td>\n",
       "      <td>0.0</td>\n",
       "      <td>0.0</td>\n",
       "      <td>0.0</td>\n",
       "      <td>1.0</td>\n",
       "      <td>0.0</td>\n",
       "      <td>1.0</td>\n",
       "    </tr>\n",
       "    <tr>\n",
       "      <th>5280</th>\n",
       "      <td>1.019395</td>\n",
       "      <td>-0.321088</td>\n",
       "      <td>0.492882</td>\n",
       "      <td>0.0</td>\n",
       "      <td>0.0</td>\n",
       "      <td>1.0</td>\n",
       "      <td>0.0</td>\n",
       "      <td>0.0</td>\n",
       "      <td>1.0</td>\n",
       "      <td>0.0</td>\n",
       "      <td>...</td>\n",
       "      <td>0.0</td>\n",
       "      <td>1.0</td>\n",
       "      <td>0.0</td>\n",
       "      <td>0.0</td>\n",
       "      <td>1.0</td>\n",
       "      <td>1.0</td>\n",
       "      <td>0.0</td>\n",
       "      <td>0.0</td>\n",
       "      <td>1.0</td>\n",
       "      <td>1.0</td>\n",
       "    </tr>\n",
       "    <tr>\n",
       "      <th>5281</th>\n",
       "      <td>1.021064</td>\n",
       "      <td>-0.663280</td>\n",
       "      <td>-1.981835</td>\n",
       "      <td>0.0</td>\n",
       "      <td>0.0</td>\n",
       "      <td>0.0</td>\n",
       "      <td>0.0</td>\n",
       "      <td>0.0</td>\n",
       "      <td>0.0</td>\n",
       "      <td>0.0</td>\n",
       "      <td>...</td>\n",
       "      <td>0.0</td>\n",
       "      <td>1.0</td>\n",
       "      <td>0.0</td>\n",
       "      <td>0.0</td>\n",
       "      <td>0.0</td>\n",
       "      <td>0.0</td>\n",
       "      <td>0.0</td>\n",
       "      <td>1.0</td>\n",
       "      <td>1.0</td>\n",
       "      <td>1.0</td>\n",
       "    </tr>\n",
       "  </tbody>\n",
       "</table>\n",
       "<p>5282 rows × 22 columns</p>\n",
       "</div>"
      ],
      "text/plain": [
       "      ss__MonthlyCharges  ss__TotalCharges  ss__YearStart  ohe__Type_One year  \\\n",
       "0               0.198237          1.200065       0.492882                 1.0   \n",
       "1               0.542055          1.251644       0.492882                 0.0   \n",
       "2              -1.485805         -0.375263       0.492882                 0.0   \n",
       "3              -0.494407          0.313436       0.492882                 0.0   \n",
       "4              -1.330586         -0.897827       0.492882                 1.0   \n",
       "...                  ...               ...            ...                 ...   \n",
       "5277            1.620243          1.016481      -1.981835                 0.0   \n",
       "5278            0.343442         -0.972554       0.492882                 0.0   \n",
       "5279            0.607147         -0.870145       0.492882                 0.0   \n",
       "5280            1.019395         -0.321088       0.492882                 0.0   \n",
       "5281            1.021064         -0.663280      -1.981835                 0.0   \n",
       "\n",
       "      ohe__Type_Two year  ohe__PaymentMethod_Credit card (automatic)  \\\n",
       "0                    0.0                                         0.0   \n",
       "1                    1.0                                         0.0   \n",
       "2                    1.0                                         0.0   \n",
       "3                    0.0                                         0.0   \n",
       "4                    0.0                                         0.0   \n",
       "...                  ...                                         ...   \n",
       "5277                 0.0                                         0.0   \n",
       "5278                 0.0                                         0.0   \n",
       "5279                 0.0                                         0.0   \n",
       "5280                 0.0                                         1.0   \n",
       "5281                 0.0                                         0.0   \n",
       "\n",
       "      ohe__PaymentMethod_Electronic check  ohe__PaymentMethod_Mailed check  \\\n",
       "0                                     0.0                              0.0   \n",
       "1                                     0.0                              1.0   \n",
       "2                                     1.0                              0.0   \n",
       "3                                     1.0                              0.0   \n",
       "4                                     1.0                              0.0   \n",
       "...                                   ...                              ...   \n",
       "5277                                  0.0                              0.0   \n",
       "5278                                  1.0                              0.0   \n",
       "5279                                  1.0                              0.0   \n",
       "5280                                  0.0                              0.0   \n",
       "5281                                  0.0                              0.0   \n",
       "\n",
       "      ohe__PaperlessBilling_Yes  ohe__gender_Male  ...  ohe__Dependents_Yes  \\\n",
       "0                           1.0               1.0  ...                  0.0   \n",
       "1                           1.0               0.0  ...                  0.0   \n",
       "2                           0.0               1.0  ...                  1.0   \n",
       "3                           1.0               1.0  ...                  0.0   \n",
       "4                           0.0               0.0  ...                  0.0   \n",
       "...                         ...               ...  ...                  ...   \n",
       "5277                        1.0               0.0  ...                  0.0   \n",
       "5278                        1.0               1.0  ...                  1.0   \n",
       "5279                        1.0               0.0  ...                  0.0   \n",
       "5280                        1.0               0.0  ...                  0.0   \n",
       "5281                        0.0               0.0  ...                  0.0   \n",
       "\n",
       "      ohe__InternetService_Fiber optic  ohe__InternetService_No  \\\n",
       "0                                  0.0                      0.0   \n",
       "1                                  0.0                      0.0   \n",
       "2                                  0.0                      1.0   \n",
       "3                                  0.0                      0.0   \n",
       "4                                  0.0                      1.0   \n",
       "...                                ...                      ...   \n",
       "5277                               1.0                      0.0   \n",
       "5278                               1.0                      0.0   \n",
       "5279                               1.0                      0.0   \n",
       "5280                               1.0                      0.0   \n",
       "5281                               1.0                      0.0   \n",
       "\n",
       "      ohe__OnlineSecurity_Yes  ohe__OnlineBackup_Yes  \\\n",
       "0                         1.0                    1.0   \n",
       "1                         1.0                    1.0   \n",
       "2                         0.0                    0.0   \n",
       "3                         0.0                    1.0   \n",
       "4                         0.0                    0.0   \n",
       "...                       ...                    ...   \n",
       "5277                      1.0                    1.0   \n",
       "5278                      0.0                    1.0   \n",
       "5279                      0.0                    0.0   \n",
       "5280                      0.0                    1.0   \n",
       "5281                      0.0                    0.0   \n",
       "\n",
       "      ohe__DeviceProtection_Yes  ohe__TechSupport_Yes  ohe__StreamingTV_Yes  \\\n",
       "0                           0.0                   1.0                   1.0   \n",
       "1                           1.0                   1.0                   0.0   \n",
       "2                           0.0                   0.0                   0.0   \n",
       "3                           0.0                   0.0                   1.0   \n",
       "4                           0.0                   0.0                   0.0   \n",
       "...                         ...                   ...                   ...   \n",
       "5277                        1.0                   1.0                   1.0   \n",
       "5278                        0.0                   0.0                   0.0   \n",
       "5279                        0.0                   0.0                   1.0   \n",
       "5280                        1.0                   0.0                   0.0   \n",
       "5281                        0.0                   0.0                   1.0   \n",
       "\n",
       "      ohe__StreamingMovies_Yes  ohe__MultipleLines_Yes  \n",
       "0                          0.0                     0.0  \n",
       "1                          1.0                     1.0  \n",
       "2                          0.0                     0.0  \n",
       "3                          1.0                     0.0  \n",
       "4                          0.0                     1.0  \n",
       "...                        ...                     ...  \n",
       "5277                       1.0                     1.0  \n",
       "5278                       0.0                     0.0  \n",
       "5279                       0.0                     1.0  \n",
       "5280                       1.0                     1.0  \n",
       "5281                       1.0                     1.0  \n",
       "\n",
       "[5282 rows x 22 columns]"
      ]
     },
     "execution_count": 81,
     "metadata": {},
     "output_type": "execute_result"
    }
   ],
   "source": [
    "features_new"
   ]
  },
  {
   "cell_type": "code",
   "execution_count": 82,
   "id": "1c3d72ed",
   "metadata": {},
   "outputs": [
    {
     "name": "stdout",
     "output_type": "stream",
     "text": [
      "(5282, 22) (5282,)\n",
      "(1761, 22) (1761,)\n"
     ]
    }
   ],
   "source": [
    "print(features_train_ohe.shape, target_train.shape)\n",
    "print(features_test_ohe.shape, target_test.shape)"
   ]
  },
  {
   "cell_type": "markdown",
   "id": "6489d45b",
   "metadata": {},
   "source": [
    "Наши данные готовы к обучению"
   ]
  },
  {
   "cell_type": "markdown",
   "id": "9af5f553",
   "metadata": {},
   "source": [
    "## Обучим модель"
   ]
  },
  {
   "cell_type": "markdown",
   "id": "ea357c2f",
   "metadata": {},
   "source": [
    "### 1.RandomForestClassifier"
   ]
  },
  {
   "cell_type": "code",
   "execution_count": 83,
   "id": "fce3bee6",
   "metadata": {},
   "outputs": [],
   "source": [
    "param_grid_ = { # словарь параетров\n",
    "    'max_depth':[5,7,9,11,13,15,17,19,20],\n",
    "    'min_samples_leaf':[2,4,6,8,10,15,20],    \n",
    "    'n_estimators': [10, 20, 30, 40, 50,100],\n",
    "    'max_features': ['log2'],    \n",
    "    'criterion' : ['gini']\n",
    "}"
   ]
  },
  {
   "cell_type": "code",
   "execution_count": 84,
   "id": "9bf71da1",
   "metadata": {},
   "outputs": [
    {
     "name": "stdout",
     "output_type": "stream",
     "text": [
      "0.8744239239777022\n",
      "CPU times: user 5min 26s, sys: 1.88 s, total: 5min 28s\n",
      "Wall time: 5min 34s\n"
     ]
    }
   ],
   "source": [
    "%%time\n",
    "rfc = RandomForestClassifier(random_state=RANDOM_STATE)\n",
    "grid_CV_rfc = GridSearchCV(estimator=rfc,\n",
    "                       param_grid=param_grid_,\n",
    "                       cv=5,\n",
    "                       scoring='roc_auc'\n",
    "                       #scoring='accuracy'\n",
    ")\n",
    "grid_CV_rfc.fit(features_train_ohe, target_train)\n",
    "#preds_rfc = grid_CV_rfc.best_estimator_.predict(X_train)\n",
    "print(grid_CV_rfc.best_score_)"
   ]
  },
  {
   "cell_type": "markdown",
   "id": "1e4f35b1",
   "metadata": {},
   "source": [
    "### 2.CatBoostClassifier"
   ]
  },
  {
   "cell_type": "code",
   "execution_count": 85,
   "id": "ab2e786b",
   "metadata": {},
   "outputs": [],
   "source": [
    "param_grid_cbc = { # словарь параетров\n",
    "    'depth':[5,7,9,11],\n",
    "    'iterations': [150,300],\n",
    "    'learning_rate':[1e-3,1e-2,0.1,1e-4]\n",
    "}"
   ]
  },
  {
   "cell_type": "code",
   "execution_count": 86,
   "id": "75028ed6",
   "metadata": {},
   "outputs": [],
   "source": [
    "train, catboost_test, train_t, test_t = train_test_split(features,target,test_size=0.25,shuffle=True,random_state=RANDOM_STATE)"
   ]
  },
  {
   "cell_type": "code",
   "execution_count": 87,
   "id": "6d33d2f8",
   "metadata": {},
   "outputs": [
    {
     "name": "stdout",
     "output_type": "stream",
     "text": [
      "0.8752134226924839\n",
      "CPU times: user 8min 49s, sys: 21.6 s, total: 9min 10s\n",
      "Wall time: 11min 33s\n"
     ]
    }
   ],
   "source": [
    "%%time\n",
    "cbc = CatBoostClassifier(cat_features=cat,random_seed=42,verbose=False)\n",
    "\n",
    "grid_CV_cbc = GridSearchCV(estimator=cbc,\n",
    "                       param_grid=param_grid_cbc,\n",
    "                       cv=5,\n",
    "                       scoring='roc_auc'\n",
    ")\n",
    "grid_CV_cbc.fit(train, train_t)\n",
    "print(grid_CV_cbc.best_score_)"
   ]
  },
  {
   "cell_type": "markdown",
   "id": "78b69da1",
   "metadata": {},
   "source": [
    "### 3.Neural Net"
   ]
  },
  {
   "cell_type": "code",
   "execution_count": 88,
   "id": "a5123192",
   "metadata": {},
   "outputs": [],
   "source": [
    "features_train_nn, features_val, target_train_nn, target_val = train_test_split( \n",
    "        features_train_ohe, target_train, test_size=0.3, random_state=RANDOM_STATE\n",
    ")"
   ]
  },
  {
   "cell_type": "code",
   "execution_count": 89,
   "id": "c94acbcc",
   "metadata": {},
   "outputs": [],
   "source": [
    "X_train = torch.FloatTensor(features_train_nn)\n",
    "X_test = torch.FloatTensor(features_test_ohe)\n",
    "X_val = torch.FloatTensor(features_val)\n",
    "y_train = torch.FloatTensor(target_train_nn.to_numpy())\n",
    "y_test = torch.FloatTensor(target_test.to_numpy())\n",
    "y_val = torch.FloatTensor(target_val.to_numpy())\n"
   ]
  },
  {
   "cell_type": "code",
   "execution_count": 90,
   "id": "a670b2ed",
   "metadata": {},
   "outputs": [],
   "source": [
    "dataset_train = torch.utils.data.TensorDataset(X_train, y_train)\n",
    "dataset_test = torch.utils.data.TensorDataset(X_test, y_test)\n",
    "\n",
    "train_dataloader = DataLoader(dataset_train, batch_size=32, shuffle=True,\n",
    "                               num_workers=0)\n",
    "test_dataloader = DataLoader(dataset_test, batch_size=32, num_workers=0)"
   ]
  },
  {
   "cell_type": "code",
   "execution_count": 91,
   "id": "54a12f7e",
   "metadata": {},
   "outputs": [],
   "source": [
    "class Net(nn.Module):\n",
    "    def __init__(self, n_in_neurons, n_hidden_neurons_1, n_hidden_neurons_2, n_hidden_neurons_3,\n",
    "                 n_hidden_neurons_4, n_out_neurons,p_value_1, p_value_2):\n",
    "            super(Net, self).__init__()\n",
    "            \n",
    "            self.fc1 = nn.Linear(n_in_neurons, n_hidden_neurons_1)\n",
    "            self.act1 = nn.Sigmoid()\n",
    "            self.dp1 = nn.Dropout(p=p_value_1)\n",
    "            self.fc2 = nn.Linear(n_hidden_neurons_1, n_hidden_neurons_2)            \n",
    "            self.act2 = nn.Sigmoid()\n",
    "            self.dp2 = nn.Dropout(p=p_value_2)\n",
    "            self.fc3 = nn.Linear(n_hidden_neurons_2,n_hidden_neurons_3)            \n",
    "            self.act3 = nn.Sigmoid()\n",
    "            self.dp3 = nn.Dropout(p=p_value_1)\n",
    "            self.fc4 = nn.Linear(n_hidden_neurons_3, n_hidden_neurons_4)\n",
    "            self.act4 = nn.Sigmoid()\n",
    "            self.dp4 = nn.Dropout(p=p_value_2)\n",
    "            self.fc5 = nn.Linear(n_hidden_neurons_4, n_out_neurons)  \n",
    "            \n",
    "    def forward(self, x):\n",
    "        x = self.fc1(x)        \n",
    "        x = self.act1(x)\n",
    "        x = self.dp1(x)\n",
    "        x = self.fc2(x)\n",
    "        x = self.act2(x)\n",
    "        x = self.dp2(x)\n",
    "        x = self.fc3(x)\n",
    "        x = self.act3(x)\n",
    "        x = self.dp3(x)\n",
    "        x = self.fc4(x)\n",
    "        x = self.act4(x)\n",
    "        x = self.dp4(x)\n",
    "        x = self.fc5(x)\n",
    "        x = nn.Sigmoid()(x)  # добавляем Sigmoid активацию для ограничения выхода от 0 до 1\n",
    "        \n",
    "        return x\n"
   ]
  },
  {
   "cell_type": "code",
   "execution_count": 92,
   "id": "427cecf8",
   "metadata": {},
   "outputs": [],
   "source": [
    "n_in_neurons = 22\n",
    "n_hidden_neurons_1 = 70\n",
    "n_hidden_neurons_2 = 35\n",
    "n_hidden_neurons_3 = 80\n",
    "n_hidden_neurons_4 = 25\n",
    "n_out_neurons = 1\n",
    "p_value_1 = 0.2\n",
    "p_value_2 = 0.5\n",
    "\n",
    "net = Net(n_in_neurons, n_hidden_neurons_1, n_hidden_neurons_2,n_hidden_neurons_3, n_hidden_neurons_4, n_out_neurons,p_value_1, p_value_2)\n",
    "optimizer1 = torch.optim.Adam(net.parameters(), lr=1e-4)\n",
    "optimizer2 = torch.optim.Adam(net.parameters(), lr=1e-2)\n",
    "optimizer3 = torch.optim.Adamax(net.parameters(), lr=1e-3)\n",
    "optimizer4 = torch.optim.Adamax(net.parameters(), lr=1e-4)\n",
    "optimizer5 = torch.optim.Adam(net.parameters(), lr=1e-3)\n",
    "\n",
    "optimizers = [optimizer1, optimizer1, optimizer3, optimizer4, optimizer5]\n",
    "\n",
    "loss = nn.BCELoss() "
   ]
  },
  {
   "cell_type": "code",
   "execution_count": 93,
   "id": "26df8b87",
   "metadata": {},
   "outputs": [
    {
     "name": "stdout",
     "output_type": "stream",
     "text": [
      "Оптимизатор Adam (\n",
      "Parameter Group 0\n",
      "    amsgrad: False\n",
      "    betas: (0.9, 0.999)\n",
      "    eps: 1e-08\n",
      "    lr: 0.0001\n",
      "    weight_decay: 0\n",
      "):\n",
      "Метрика roc_auc на 0 итерации = 0.6411614034659407\n",
      "Метрика roc_auc на 10 итерации = 0.8604397325878997\n",
      "Метрика roc_auc на 20 итерации = 0.8633012292330415\n",
      "Метрика roc_auc на 30 итерации = 0.8691564637475943\n",
      "Метрика roc_auc на 40 итерации = 0.8703934278146018\n",
      "Метрика roc_auc на 50 итерации = 0.8705602552052181\n",
      "Метрика roc_auc на 60 итерации = 0.8704951518332703\n",
      "Метрика roc_auc на 70 итерации = 0.8703852898931084\n",
      "Метрика roc_auc на 80 итерации = 0.8702408417865993\n",
      "Метрика roc_auc на 90 итерации = 0.8701065660819571\n",
      "Метрика roc_auc на 99 итерации = 0.8700577385529962\n",
      "\n",
      "Лучшая метрика roc_auc = 0.8705602552052181 обнаружена на 5 эпохе\n",
      "Средняя метрика roc_auc = 0.85\n",
      "--------------------------------------------------------------------------------------------- \n",
      "\n",
      "Оптимизатор Adam (\n",
      "Parameter Group 0\n",
      "    amsgrad: False\n",
      "    betas: (0.9, 0.999)\n",
      "    eps: 1e-08\n",
      "    lr: 0.0001\n",
      "    weight_decay: 0\n",
      "):\n",
      "Метрика roc_auc на 0 итерации = 0.8700597730333695\n",
      "Метрика roc_auc на 10 итерации = 0.8700170489455288\n",
      "Метрика roc_auc на 20 итерации = 0.8700190834259023\n",
      "Метрика roc_auc на 30 итерации = 0.8698359801922991\n",
      "Метрика roc_auc на 40 итерации = 0.8697423940951241\n",
      "Метрика roc_auc на 50 итерации = 0.8696243942334688\n",
      "Метрика roc_auc на 60 итерации = 0.8695511529400276\n",
      "Метрика roc_auc на 70 итерации = 0.8695145322933071\n",
      "Метрика roc_auc на 80 итерации = 0.869437222039119\n",
      "Метрика roc_auc на 90 итерации = 0.8693944979512783\n",
      "Метрика roc_auc на 99 итерации = 0.8693538083438109\n",
      "\n",
      "Лучшая метрика roc_auc = 0.8700597730333695 обнаружена на 0 эпохе\n",
      "Средняя метрика roc_auc = 0.87\n",
      "--------------------------------------------------------------------------------------------- \n",
      "\n",
      "Оптимизатор Adamax (\n",
      "Parameter Group 0\n",
      "    betas: (0.9, 0.999)\n",
      "    eps: 1e-08\n",
      "    lr: 0.001\n",
      "    weight_decay: 0\n",
      "):\n",
      "Метрика roc_auc на 0 итерации = 0.8693090497755968\n",
      "Метрика roc_auc на 10 итерации = 0.8692439464036491\n",
      "Метрика roc_auc на 20 итерации = 0.8693883945101581\n",
      "Метрика roc_auc на 30 итерации = 0.8694331530783724\n",
      "Метрика roc_auc на 40 итерации = 0.869437222039119\n",
      "Метрика roc_auc на 50 итерации = 0.8695796356652546\n",
      "Метрика roc_auc на 60 итерации = 0.8697342561736308\n",
      "Метрика roc_auc на 70 итерации = 0.8698420836334192\n",
      "Метрика roc_auc на 80 итерации = 0.8700434971903827\n",
      "Метрика roc_auc на 90 итерации = 0.870273393472573\n",
      "Метрика roc_auc на 99 итерации = 0.8705032897547639\n",
      "\n",
      "Лучшая метрика roc_auc = 0.8705032897547639 обнаружена на 10 эпохе\n",
      "Средняя метрика roc_auc = 0.87\n",
      "--------------------------------------------------------------------------------------------- \n",
      "\n",
      "Оптимизатор Adamax (\n",
      "Parameter Group 0\n",
      "    betas: (0.9, 0.999)\n",
      "    eps: 1e-08\n",
      "    lr: 0.0001\n",
      "    weight_decay: 0\n",
      "):\n",
      "Метрика roc_auc на 0 итерации = 0.8705175311173773\n",
      "Метрика roc_auc на 10 итерации = 0.8705643241659647\n",
      "Метрика roc_auc на 20 итерации = 0.8705724620874582\n",
      "Метрика roc_auc на 30 итерации = 0.8705989103323118\n",
      "Метрика roc_auc на 40 итерации = 0.8706212896164189\n",
      "Метрика roc_auc на 50 итерации = 0.8706416344201529\n",
      "Метрика roc_auc на 60 итерации = 0.8706395999397794\n",
      "Метрика roc_auc на 70 итерации = 0.8706863929883669\n",
      "Метрика roc_auc на 80 итерации = 0.8707128412332206\n",
      "Метрика roc_auc на 90 итерации = 0.8707616687621814\n",
      "Метрика roc_auc на 99 итерации = 0.8707555653210614\n",
      "\n",
      "Лучшая метрика roc_auc = 0.8707616687621814 обнаружена на 9 эпохе\n",
      "Средняя метрика roc_auc = 0.87\n",
      "--------------------------------------------------------------------------------------------- \n",
      "\n",
      "Оптимизатор Adam (\n",
      "Parameter Group 0\n",
      "    amsgrad: False\n",
      "    betas: (0.9, 0.999)\n",
      "    eps: 1e-08\n",
      "    lr: 0.001\n",
      "    weight_decay: 0\n",
      "):\n",
      "Метрика roc_auc на 0 итерации = 0.8708654272612233\n",
      "Метрика roc_auc на 10 итерации = 0.8717422883021448\n",
      "Метрика roc_auc на 20 итерации = 0.8725052184421576\n",
      "Метрика roc_auc на 30 итерации = 0.8732457692980636\n",
      "Метрика roc_auc на 40 итерации = 0.8738723892530608\n",
      "Метрика roc_auc на 50 итерации = 0.874309802533335\n",
      "Метрика roc_auc на 60 итерации = 0.8749750776154263\n",
      "Метрика roc_auc на 70 итерации = 0.8751480084471623\n",
      "Метрика roc_auc на 80 итерации = 0.8754775942676482\n",
      "Метрика roc_auc на 90 итерации = 0.8752436290247108\n",
      "Метрика roc_auc на 99 итерации = 0.8755182838751155\n",
      "\n",
      "Лучшая метрика roc_auc = 0.8755182838751155 обнаружена на 10 эпохе\n",
      "Средняя метрика roc_auc = 0.87\n",
      "--------------------------------------------------------------------------------------------- \n",
      "\n"
     ]
    }
   ],
   "source": [
    "history=[]\n",
    "num_epochs = 100\n",
    "batch_size = 40\n",
    "num_batches = math.ceil(len(X_train)/batch_size)\n",
    "\n",
    "for optimizer in optimizers:\n",
    "    optimizer_auc = []\n",
    "    print(f'Оптимизатор {optimizer}:')\n",
    "\n",
    "    for epoch in range(num_epochs):\n",
    "        \n",
    "        order = np.random.permutation(len(X_train))\n",
    "        \n",
    "        for batch_idx in range(num_batches):\n",
    "            \n",
    "            start_index = batch_idx * batch_size\n",
    "            optimizer.zero_grad()\n",
    "\n",
    "            batch_indexes = order[start_index : start_index + batch_size]\n",
    "            X_batch = X_train[batch_indexes]\n",
    "            y_batch = y_train[batch_indexes]\n",
    "\n",
    "            preds = net.forward(X_batch.float()).flatten()\n",
    "\n",
    "            loss_value = loss(preds, y_batch)            \n",
    "\n",
    "            loss_value.backward()\n",
    "\n",
    "            optimizer.step()\n",
    "\n",
    "        if epoch % 10 == 0 or epoch == num_epochs - 1:\n",
    "            net.eval()\n",
    "            val_preds = net.forward(X_val.float()).flatten()\n",
    "            auc = roc_auc_score(y_val, val_preds.detach().numpy())\n",
    "            print(f'Метрика roc_auc на {epoch} итерации =', auc)\n",
    "            optimizer_auc.append(auc)\n",
    "    print()\n",
    "    print(f'Лучшая метрика roc_auc = {max(optimizer_auc)} обнаружена на {optimizer_auc.index(max(optimizer_auc))} эпохе')\n",
    "    history.append(max(optimizer_auc))\n",
    "    print(f'Средняя метрика roc_auc = {round(np.mean(optimizer_auc), 2)}')\n",
    "    print('---------------------------------------------------------------------------------------------', '\\n')\n"
   ]
  },
  {
   "cell_type": "code",
   "execution_count": 94,
   "id": "f61f59cc",
   "metadata": {},
   "outputs": [
    {
     "name": "stdout",
     "output_type": "stream",
     "text": [
      "Лучшая метрика roc_auc = 0.8755182838751155\n"
     ]
    }
   ],
   "source": [
    "print(f'Лучшая метрика roc_auc = {max(history)}')"
   ]
  },
  {
   "cell_type": "markdown",
   "id": "c776c8f2",
   "metadata": {},
   "source": [
    "## Тестирование лучшей модели"
   ]
  },
  {
   "cell_type": "markdown",
   "id": "76557681",
   "metadata": {},
   "source": [
    "Лучше всего себя проявила нейронная сеть, протестируем её"
   ]
  },
  {
   "cell_type": "code",
   "execution_count": 95,
   "id": "e1d02a1e",
   "metadata": {},
   "outputs": [
    {
     "name": "stdout",
     "output_type": "stream",
     "text": [
      "Значение метрики roc_auc = 0.86917589526698\n",
      "Значение метрики accuracy = 0.8160136286201022\n"
     ]
    }
   ],
   "source": [
    "test_preds = net.forward(X_test.float()).flatten()\n",
    "print(f'Значение метрики roc_auc = {roc_auc_score(y_test, test_preds.detach().numpy())}')\n",
    "print(f'Значение метрики accuracy = {accuracy_score(y_test, (test_preds.detach().numpy() > 0.5).astype(int))}')"
   ]
  },
  {
   "cell_type": "code",
   "execution_count": 96,
   "id": "b6b67cf3",
   "metadata": {},
   "outputs": [
    {
     "data": {
      "image/png": "[encoded data removed]",
      "text/plain": [
       "<Figure size 432x288 with 2 Axes>"
      ]
     },
     "metadata": {
      "needs_background": "light"
     },
     "output_type": "display_data"
    },
    {
     "name": "stdout",
     "output_type": "stream",
     "text": [
      "Полнота 0.5011547344110855\n",
      "Точность 0.6676923076923077\n"
     ]
    }
   ],
   "source": [
    "cm = confusion_matrix(y_test, (test_preds.detach().numpy() > 0.5).astype(int), labels=grid_CV_rfc.classes_)\n",
    "disp = ConfusionMatrixDisplay(confusion_matrix=cm,\n",
    "                             display_labels=grid_CV_rfc.best_estimator_.classes_)\n",
    "disp.plot()\n",
    "plt.show()\n",
    "print('Полнота', recall_score(y_test, (test_preds.detach().numpy() > 0.5).astype(int)))\n",
    "print('Точность',precision_score(y_test, (test_preds.detach().numpy() > 0.5).astype(int)))"
   ]
  },
  {
   "cell_type": "code",
   "execution_count": 97,
   "id": "562e8ba8",
   "metadata": {},
   "outputs": [],
   "source": [
    "from sklearn.metrics import precision_recall_curve, average_precision_score"
   ]
  },
  {
   "cell_type": "code",
   "execution_count": 98,
   "id": "e2c23881",
   "metadata": {},
   "outputs": [
    {
     "data": {
      "image/png": "[encoded data removed]",
      "text/plain": [
       "<Figure size 432x288 with 1 Axes>"
      ]
     },
     "metadata": {
      "needs_background": "light"
     },
     "output_type": "display_data"
    },
    {
     "data": {
      "text/plain": [
       "<Figure size 720x720 with 0 Axes>"
      ]
     },
     "metadata": {},
     "output_type": "display_data"
    }
   ],
   "source": [
    "precision, recall, thresholds = precision_recall_curve(y_test, (test_preds.detach().numpy() > 0.5).astype(int))\n",
    "\n",
    "# Вычисление площади под PR-кривой\n",
    "average_precision = average_precision_score(y_test, (test_preds.detach().numpy() > 0.5).astype(int))\n",
    "\n",
    "# Вывод PR-кривой\n",
    "plt.plot(recall, precision, lw=2, color='navy', label='PR curve')\n",
    "plt.xlabel('Recall')\n",
    "plt.ylabel('Precision')\n",
    "plt.ylim([0.0, 1.05])\n",
    "plt.xlim([0.0, 1.0])\n",
    "plt.title('PR curve: AP={0:0.2f}'.format(average_precision))\n",
    "plt.legend(loc=\"lower left\")\n",
    "\n",
    "# Вывод значений точности и полноты на график\n",
    "for i, value in enumerate(thresholds):\n",
    "    plt.text(recall[i], precision[i], '%.2f' % value)\n",
    "plt.figure(figsize=(10,10))\n",
    "plt.show()"
   ]
  },
  {
   "cell_type": "code",
   "execution_count": 99,
   "id": "9706436c",
   "metadata": {},
   "outputs": [
    {
     "data": {
      "image/png": "[encoded data removed]",
      "text/plain": [
       "<Figure size 1152x1152 with 1 Axes>"
      ]
     },
     "metadata": {
      "needs_background": "light"
     },
     "output_type": "display_data"
    }
   ],
   "source": [
    "(pd.DataFrame(data={'score': grid_CV_rfc.best_estimator_.feature_importances_}, \n",
    "                      index=features_new.columns).sort_values(by='score')\n",
    "                                         .plot(kind='barh', grid=True,\n",
    "                                               figsize=(16,16), legend=False));"
   ]
  },
  {
   "cell_type": "markdown",
   "id": "2f94402a",
   "metadata": {},
   "source": [
    "Как мы и отметили раннее, признаки `Type` и `PaymentMethod` оказались важными, так же сильно выделяется признак `TotalCharges`, что неудивительно, оценим его"
   ]
  },
  {
   "cell_type": "code",
   "execution_count": 100,
   "id": "4b3cbe0c",
   "metadata": {},
   "outputs": [
    {
     "data": {
      "image/png": "[encoded data removed]",
      "text/plain": [
       "<Figure size 432x288 with 1 Axes>"
      ]
     },
     "metadata": {
      "needs_background": "light"
     },
     "output_type": "display_data"
    }
   ],
   "source": [
    "sns.boxplot(x='Ended', y='TotalCharges', data=full_data)\n",
    "plt.show()"
   ]
  },
  {
   "cell_type": "code",
   "execution_count": 101,
   "id": "6861ee15",
   "metadata": {},
   "outputs": [
    {
     "data": {
      "image/png": "[encoded data removed]",
      "text/plain": [
       "<Figure size 432x288 with 1 Axes>"
      ]
     },
     "metadata": {
      "needs_background": "light"
     },
     "output_type": "display_data"
    }
   ],
   "source": [
    "import seaborn as sns\n",
    "\n",
    "sns.histplot(x='TotalCharges', hue='Ended', data=full_data)\n",
    "plt.show()\n"
   ]
  },
  {
   "cell_type": "markdown",
   "id": "da68221e",
   "metadata": {},
   "source": [
    "Мы видим, что вопреки ожиданиям, больше всего уходяд клиенты тратящие немного. Оценим еще раз признак `Type`"
   ]
  },
  {
   "cell_type": "code",
   "execution_count": 102,
   "id": "1aeffd03",
   "metadata": {
    "scrolled": true
   },
   "outputs": [
    {
     "data": {
      "image/png": "[encoded data removed]",
      "text/plain": [
       "<Figure size 720x360 with 1 Axes>"
      ]
     },
     "metadata": {
      "needs_background": "light"
     },
     "output_type": "display_data"
    }
   ],
   "source": [
    "bar_plot(full_data, ['Type'])"
   ]
  },
  {
   "cell_type": "markdown",
   "id": "8c135340",
   "metadata": {},
   "source": [
    "Видим, что большее число ушедших, было на помесячной оплате"
   ]
  },
  {
   "cell_type": "markdown",
   "id": "7935b900",
   "metadata": {},
   "source": [
    "Так же посмотрим признак `PaymentMethod`"
   ]
  },
  {
   "cell_type": "code",
   "execution_count": 103,
   "id": "81b8000b",
   "metadata": {},
   "outputs": [
    {
     "data": {
      "image/png": "[encoded data removed]",
      "text/plain": [
       "<Figure size 720x360 with 1 Axes>"
      ]
     },
     "metadata": {
      "needs_background": "light"
     },
     "output_type": "display_data"
    }
   ],
   "source": [
    "bar_plot(full_data, ['PaymentMethod'])"
   ]
  },
  {
   "cell_type": "markdown",
   "id": "7f21ce33",
   "metadata": {},
   "source": [
    "Видим, что большее число ушедших, оплачивало электронно"
   ]
  },
  {
   "cell_type": "markdown",
   "id": "c8edc045",
   "metadata": {},
   "source": [
    "## Выводы"
   ]
  },
  {
   "cell_type": "markdown",
   "id": "efe80e16",
   "metadata": {},
   "source": [
    "В данном проекте мы сделали следующие:\n",
    "- Загрузили данные\n",
    "- Провели их исследовательский анализ, предположили важность признаков `Type` и `PaymentMethod`\n",
    "- Подготовили данные и обучили на них модель, добились значения `ROC-AUC` = 0.869 на тестовых данных, и достаточно высокую `accuracy` = 0.815\n",
    "- Посмотрели на важность признаков, подвердили наше предположение\n",
    "\n",
    "Бизнес-рекоммендации: \n",
    "- Видим, что пользователи, оплатившие один/два года сразу, практически не уходят, возможно стоит давать скидки при подписывании контракта на эти промежутки времени\n",
    "- Так же, пользователи электронно оплачивающие, часто уходят, возможно стоит давать бонусы/скидки при выборе оплаты кредитной картой или банковским трансфером\n"
   ]
  }
 ],
 "metadata": {
  "ExecuteTimeLog": [
   {
    "duration": 12,
    "start_time": "2023-05-11T16:44:43.946Z"
   },
   {
    "duration": 2243,
    "start_time": "2023-05-12T05:55:42.374Z"
   },
   {
    "duration": 3,
    "start_time": "2023-05-12T05:57:29.673Z"
   },
   {
    "duration": 3,
    "start_time": "2023-05-12T05:57:30.542Z"
   },
   {
    "duration": 9069,
    "start_time": "2023-05-12T05:57:31.127Z"
   },
   {
    "duration": 275,
    "start_time": "2023-05-12T05:57:40.198Z"
   },
   {
    "duration": 144,
    "start_time": "2023-05-12T05:57:40.474Z"
   },
   {
    "duration": 59,
    "start_time": "2023-05-12T05:57:40.623Z"
   },
   {
    "duration": 45,
    "start_time": "2023-05-12T05:57:40.683Z"
   },
   {
    "duration": 101,
    "start_time": "2023-05-12T05:57:40.730Z"
   },
   {
    "duration": 3,
    "start_time": "2023-05-12T05:57:40.832Z"
   },
   {
    "duration": 19,
    "start_time": "2023-05-12T05:57:40.837Z"
   },
   {
    "duration": 30,
    "start_time": "2023-05-12T05:57:40.857Z"
   },
   {
    "duration": 15,
    "start_time": "2023-05-12T05:57:40.889Z"
   },
   {
    "duration": 4,
    "start_time": "2023-05-12T05:57:40.905Z"
   },
   {
    "duration": 13,
    "start_time": "2023-05-12T05:57:40.910Z"
   },
   {
    "duration": 87,
    "start_time": "2023-05-12T05:57:40.926Z"
   },
   {
    "duration": 7,
    "start_time": "2023-05-12T05:57:41.384Z"
   },
   {
    "duration": 79,
    "start_time": "2023-05-12T05:57:41.618Z"
   },
   {
    "duration": 8,
    "start_time": "2023-05-12T05:57:42.430Z"
   },
   {
    "duration": 62,
    "start_time": "2023-05-12T05:57:42.440Z"
   },
   {
    "duration": 5,
    "start_time": "2023-05-12T05:57:42.638Z"
   },
   {
    "duration": 32,
    "start_time": "2023-05-12T05:57:43.163Z"
   },
   {
    "duration": 16,
    "start_time": "2023-05-12T05:57:43.427Z"
   },
   {
    "duration": 62,
    "start_time": "2023-05-12T05:57:43.720Z"
   },
   {
    "duration": 19,
    "start_time": "2023-05-12T05:57:44.650Z"
   },
   {
    "duration": 70,
    "start_time": "2023-05-12T05:57:45.261Z"
   },
   {
    "duration": 32,
    "start_time": "2023-05-12T05:57:45.879Z"
   },
   {
    "duration": 3,
    "start_time": "2023-05-12T05:57:46.167Z"
   },
   {
    "duration": 2066,
    "start_time": "2023-05-12T05:57:46.840Z"
   },
   {
    "duration": 384,
    "start_time": "2023-05-12T05:57:50.650Z"
   },
   {
    "duration": 56,
    "start_time": "2023-05-12T05:57:52.491Z"
   },
   {
    "duration": 19,
    "start_time": "2023-05-12T05:57:55.037Z"
   },
   {
    "duration": 7,
    "start_time": "2023-05-12T05:57:56.142Z"
   },
   {
    "duration": 3,
    "start_time": "2023-05-12T05:57:56.570Z"
   },
   {
    "duration": 38,
    "start_time": "2023-05-12T05:57:56.771Z"
   },
   {
    "duration": 30,
    "start_time": "2023-05-12T05:57:58.680Z"
   },
   {
    "duration": 9,
    "start_time": "2023-05-12T05:58:36.439Z"
   },
   {
    "duration": 5,
    "start_time": "2023-05-12T05:58:57.961Z"
   },
   {
    "duration": 3,
    "start_time": "2023-05-12T05:59:11.212Z"
   },
   {
    "duration": 53,
    "start_time": "2023-05-12T05:59:36.743Z"
   },
   {
    "duration": 76,
    "start_time": "2023-05-12T05:59:59.429Z"
   },
   {
    "duration": 181,
    "start_time": "2023-05-12T06:00:03.925Z"
   },
   {
    "duration": 11,
    "start_time": "2023-05-12T06:00:13.520Z"
   },
   {
    "duration": 68,
    "start_time": "2023-05-12T06:00:14.600Z"
   },
   {
    "duration": 5,
    "start_time": "2023-05-12T06:00:23.729Z"
   },
   {
    "duration": 4,
    "start_time": "2023-05-12T06:00:33.213Z"
   },
   {
    "duration": 4,
    "start_time": "2023-05-12T06:00:36.062Z"
   },
   {
    "duration": 10864,
    "start_time": "2023-05-12T06:00:37.744Z"
   },
   {
    "duration": 284057,
    "start_time": "2023-05-12T06:00:54.129Z"
   },
   {
    "duration": 5,
    "start_time": "2023-05-12T06:07:46.493Z"
   },
   {
    "duration": 3,
    "start_time": "2023-05-12T06:09:23.965Z"
   },
   {
    "duration": 12,
    "start_time": "2023-05-12T06:09:24.308Z"
   },
   {
    "duration": 638829,
    "start_time": "2023-05-12T06:09:25.754Z"
   },
   {
    "duration": 12,
    "start_time": "2023-05-12T06:20:04.585Z"
   },
   {
    "duration": 0,
    "start_time": "2023-05-12T06:20:04.598Z"
   },
   {
    "duration": 0,
    "start_time": "2023-05-12T06:20:04.599Z"
   },
   {
    "duration": 0,
    "start_time": "2023-05-12T06:20:04.601Z"
   },
   {
    "duration": 0,
    "start_time": "2023-05-12T06:20:04.602Z"
   },
   {
    "duration": 0,
    "start_time": "2023-05-12T06:20:04.603Z"
   },
   {
    "duration": 0,
    "start_time": "2023-05-12T06:20:04.604Z"
   },
   {
    "duration": 6,
    "start_time": "2023-05-12T06:22:11.266Z"
   },
   {
    "duration": 12,
    "start_time": "2023-05-12T06:22:11.845Z"
   },
   {
    "duration": 13,
    "start_time": "2023-05-12T06:22:12.083Z"
   },
   {
    "duration": 7,
    "start_time": "2023-05-12T06:22:12.258Z"
   },
   {
    "duration": 68,
    "start_time": "2023-05-12T06:22:34.615Z"
   },
   {
    "duration": 13,
    "start_time": "2023-05-12T06:22:57.893Z"
   },
   {
    "duration": 12,
    "start_time": "2023-05-12T06:23:28.812Z"
   },
   {
    "duration": 5,
    "start_time": "2023-05-12T06:23:34.679Z"
   },
   {
    "duration": 9,
    "start_time": "2023-05-12T06:23:37.800Z"
   },
   {
    "duration": 8,
    "start_time": "2023-05-12T06:23:38.528Z"
   },
   {
    "duration": 31,
    "start_time": "2023-05-12T06:23:38.930Z"
   },
   {
    "duration": 16,
    "start_time": "2023-05-12T06:23:39.654Z"
   },
   {
    "duration": 15,
    "start_time": "2023-05-12T06:24:16.335Z"
   },
   {
    "duration": 64497,
    "start_time": "2023-05-12T06:24:28.135Z"
   },
   {
    "duration": 3,
    "start_time": "2023-05-12T06:29:34.115Z"
   },
   {
    "duration": 9,
    "start_time": "2023-05-12T07:00:38.344Z"
   },
   {
    "duration": 12,
    "start_time": "2023-05-12T08:46:17.251Z"
   },
   {
    "duration": 3814,
    "start_time": "2023-05-12T08:46:28.282Z"
   },
   {
    "duration": 17,
    "start_time": "2023-05-12T08:46:32.098Z"
   },
   {
    "duration": 85959,
    "start_time": "2023-05-12T08:46:47.679Z"
   },
   {
    "duration": 47292,
    "start_time": "2023-05-12T08:48:13.640Z"
   },
   {
    "duration": 6276,
    "start_time": "2023-05-12T08:49:13.794Z"
   },
   {
    "duration": 6125,
    "start_time": "2023-05-12T08:51:18.160Z"
   },
   {
    "duration": 5972,
    "start_time": "2023-05-12T08:51:35.459Z"
   },
   {
    "duration": 5,
    "start_time": "2023-05-12T08:52:02.452Z"
   },
   {
    "duration": 3,
    "start_time": "2023-05-12T09:00:24.441Z"
   },
   {
    "duration": 116,
    "start_time": "2023-05-12T09:00:53.569Z"
   },
   {
    "duration": 15,
    "start_time": "2023-05-12T09:01:02.571Z"
   },
   {
    "duration": 153,
    "start_time": "2023-05-12T09:01:21.665Z"
   },
   {
    "duration": 171,
    "start_time": "2023-05-12T09:02:37.245Z"
   },
   {
    "duration": 220,
    "start_time": "2023-05-12T09:02:42.253Z"
   },
   {
    "duration": 4,
    "start_time": "2023-05-12T09:03:18.409Z"
   },
   {
    "duration": 11,
    "start_time": "2023-05-13T09:03:04.607Z"
   },
   {
    "duration": 1764,
    "start_time": "2023-05-13T09:18:41.018Z"
   },
   {
    "duration": 4932,
    "start_time": "2023-05-13T09:18:55.419Z"
   },
   {
    "duration": 4,
    "start_time": "2023-05-13T09:19:03.891Z"
   },
   {
    "duration": 4,
    "start_time": "2023-05-13T09:19:04.423Z"
   },
   {
    "duration": 9283,
    "start_time": "2023-05-13T09:19:04.827Z"
   },
   {
    "duration": 371,
    "start_time": "2023-05-13T09:19:14.113Z"
   },
   {
    "duration": 202,
    "start_time": "2023-05-13T09:19:14.487Z"
   },
   {
    "duration": 74,
    "start_time": "2023-05-13T09:19:14.692Z"
   },
   {
    "duration": 58,
    "start_time": "2023-05-13T09:19:14.768Z"
   },
   {
    "duration": 115,
    "start_time": "2023-05-13T09:19:14.829Z"
   },
   {
    "duration": 5,
    "start_time": "2023-05-13T09:19:14.946Z"
   },
   {
    "duration": 19,
    "start_time": "2023-05-13T09:19:14.953Z"
   },
   {
    "duration": 8,
    "start_time": "2023-05-13T09:19:14.975Z"
   },
   {
    "duration": 35,
    "start_time": "2023-05-13T09:19:14.986Z"
   },
   {
    "duration": 28,
    "start_time": "2023-05-13T09:19:15.023Z"
   },
   {
    "duration": 21,
    "start_time": "2023-05-13T09:19:15.053Z"
   },
   {
    "duration": 81,
    "start_time": "2023-05-13T09:19:15.077Z"
   },
   {
    "duration": 12,
    "start_time": "2023-05-13T09:19:15.160Z"
   },
   {
    "duration": 96,
    "start_time": "2023-05-13T09:19:15.174Z"
   },
   {
    "duration": 10,
    "start_time": "2023-05-13T09:19:15.273Z"
   },
   {
    "duration": 60,
    "start_time": "2023-05-13T09:19:15.326Z"
   },
   {
    "duration": 7,
    "start_time": "2023-05-13T09:19:15.588Z"
   },
   {
    "duration": 67,
    "start_time": "2023-05-13T09:19:16.207Z"
   },
   {
    "duration": 30,
    "start_time": "2023-05-13T09:19:16.570Z"
   },
   {
    "duration": 116,
    "start_time": "2023-05-13T09:19:16.882Z"
   },
   {
    "duration": 34,
    "start_time": "2023-05-13T09:19:17.683Z"
   },
   {
    "duration": 91,
    "start_time": "2023-05-13T09:19:18.465Z"
   },
   {
    "duration": 58,
    "start_time": "2023-05-13T09:19:19.806Z"
   },
   {
    "duration": 5,
    "start_time": "2023-05-13T09:19:20.228Z"
   },
   {
    "duration": 2856,
    "start_time": "2023-05-13T09:19:20.967Z"
   },
   {
    "duration": 7656,
    "start_time": "2023-05-13T09:19:23.826Z"
   },
   {
    "duration": 98,
    "start_time": "2023-05-13T09:19:31.485Z"
   },
   {
    "duration": 28,
    "start_time": "2023-05-13T09:19:31.586Z"
   },
   {
    "duration": 28,
    "start_time": "2023-05-13T09:19:31.617Z"
   },
   {
    "duration": 81,
    "start_time": "2023-05-13T09:19:31.647Z"
   },
   {
    "duration": 16,
    "start_time": "2023-05-13T09:19:36.965Z"
   },
   {
    "duration": 5,
    "start_time": "2023-05-13T09:19:39.187Z"
   },
   {
    "duration": 105,
    "start_time": "2023-05-13T09:19:40.501Z"
   },
   {
    "duration": 5,
    "start_time": "2023-05-13T09:19:44.288Z"
   },
   {
    "duration": 4,
    "start_time": "2023-05-13T09:19:48.960Z"
   },
   {
    "duration": 310081,
    "start_time": "2023-05-13T09:19:49.301Z"
   },
   {
    "duration": 3,
    "start_time": "2023-05-13T09:24:59.384Z"
   },
   {
    "duration": 29,
    "start_time": "2023-05-13T09:24:59.390Z"
   },
   {
    "duration": 659000,
    "start_time": "2023-05-13T09:24:59.422Z"
   },
   {
    "duration": 5,
    "start_time": "2023-05-13T09:35:58.425Z"
   },
   {
    "duration": 95,
    "start_time": "2023-05-13T09:35:58.433Z"
   },
   {
    "duration": 12,
    "start_time": "2023-05-13T09:35:58.530Z"
   },
   {
    "duration": 12,
    "start_time": "2023-05-13T09:35:58.544Z"
   },
   {
    "duration": 54,
    "start_time": "2023-05-13T09:35:58.558Z"
   },
   {
    "duration": 74914,
    "start_time": "2023-05-13T09:35:58.615Z"
   },
   {
    "duration": 5,
    "start_time": "2023-05-13T09:37:13.531Z"
   },
   {
    "duration": 39,
    "start_time": "2023-05-13T09:37:13.537Z"
   },
   {
    "duration": 197,
    "start_time": "2023-05-13T09:37:13.578Z"
   },
   {
    "duration": 6,
    "start_time": "2023-05-13T09:37:13.777Z"
   },
   {
    "duration": 195,
    "start_time": "2023-05-13T09:37:13.786Z"
   },
   {
    "duration": 102,
    "start_time": "2023-05-13T09:37:13.983Z"
   },
   {
    "duration": 0,
    "start_time": "2023-05-13T09:37:14.087Z"
   },
   {
    "duration": 0,
    "start_time": "2023-05-13T09:37:14.089Z"
   },
   {
    "duration": 0,
    "start_time": "2023-05-13T09:37:14.091Z"
   },
   {
    "duration": 0,
    "start_time": "2023-05-13T09:37:14.093Z"
   },
   {
    "duration": 20,
    "start_time": "2023-05-13T09:45:23.590Z"
   },
   {
    "duration": 28,
    "start_time": "2023-05-13T09:45:29.065Z"
   },
   {
    "duration": 121,
    "start_time": "2023-05-13T09:45:35.019Z"
   },
   {
    "duration": 255,
    "start_time": "2023-05-13T09:45:35.305Z"
   },
   {
    "duration": 163,
    "start_time": "2023-05-13T09:45:36.128Z"
   },
   {
    "duration": 185,
    "start_time": "2023-05-13T09:45:37.973Z"
   },
   {
    "duration": 8,
    "start_time": "2023-05-13T09:46:09.305Z"
   },
   {
    "duration": 5,
    "start_time": "2023-05-13T09:46:53.211Z"
   },
   {
    "duration": 18,
    "start_time": "2023-05-13T09:47:09.561Z"
   },
   {
    "duration": 7,
    "start_time": "2023-05-13T09:47:37.657Z"
   },
   {
    "duration": 13,
    "start_time": "2023-05-13T09:48:41.690Z"
   },
   {
    "duration": 6640,
    "start_time": "2023-05-13T09:48:59.873Z"
   },
   {
    "duration": 21,
    "start_time": "2023-05-13T09:49:08.919Z"
   },
   {
    "duration": 13,
    "start_time": "2023-05-13T09:49:12.602Z"
   },
   {
    "duration": 2791,
    "start_time": "2023-05-13T09:49:25.957Z"
   },
   {
    "duration": 5033,
    "start_time": "2023-05-13T09:49:37.861Z"
   },
   {
    "duration": 3,
    "start_time": "2023-05-13T09:49:42.897Z"
   },
   {
    "duration": 13,
    "start_time": "2023-05-13T09:49:42.901Z"
   },
   {
    "duration": 9345,
    "start_time": "2023-05-13T09:49:42.916Z"
   },
   {
    "duration": 403,
    "start_time": "2023-05-13T09:49:52.264Z"
   },
   {
    "duration": 195,
    "start_time": "2023-05-13T09:49:52.669Z"
   },
   {
    "duration": 70,
    "start_time": "2023-05-13T09:49:52.867Z"
   },
   {
    "duration": 55,
    "start_time": "2023-05-13T09:49:52.940Z"
   },
   {
    "duration": 124,
    "start_time": "2023-05-13T09:49:52.997Z"
   },
   {
    "duration": 4,
    "start_time": "2023-05-13T09:49:53.123Z"
   },
   {
    "duration": 44,
    "start_time": "2023-05-13T09:49:53.129Z"
   },
   {
    "duration": 10,
    "start_time": "2023-05-13T09:49:53.175Z"
   },
   {
    "duration": 27,
    "start_time": "2023-05-13T09:49:53.186Z"
   },
   {
    "duration": 7,
    "start_time": "2023-05-13T09:49:53.217Z"
   },
   {
    "duration": 17,
    "start_time": "2023-05-13T09:49:53.226Z"
   },
   {
    "duration": 97,
    "start_time": "2023-05-13T09:49:53.245Z"
   },
   {
    "duration": 9,
    "start_time": "2023-05-13T09:49:53.344Z"
   },
   {
    "duration": 96,
    "start_time": "2023-05-13T09:49:53.355Z"
   },
   {
    "duration": 12,
    "start_time": "2023-05-13T09:49:53.452Z"
   },
   {
    "duration": 69,
    "start_time": "2023-05-13T09:49:53.466Z"
   },
   {
    "duration": 6,
    "start_time": "2023-05-13T09:49:53.537Z"
   },
   {
    "duration": 56,
    "start_time": "2023-05-13T09:49:53.545Z"
   },
   {
    "duration": 22,
    "start_time": "2023-05-13T09:49:53.603Z"
   },
   {
    "duration": 90,
    "start_time": "2023-05-13T09:49:53.628Z"
   },
   {
    "duration": 21,
    "start_time": "2023-05-13T09:49:53.720Z"
   },
   {
    "duration": 100,
    "start_time": "2023-05-13T09:49:53.743Z"
   },
   {
    "duration": 167,
    "start_time": "2023-05-13T09:49:53.845Z"
   },
   {
    "duration": 4,
    "start_time": "2023-05-13T09:49:54.014Z"
   },
   {
    "duration": 2486,
    "start_time": "2023-05-13T09:49:54.020Z"
   },
   {
    "duration": 6562,
    "start_time": "2023-05-13T09:49:56.508Z"
   },
   {
    "duration": 60,
    "start_time": "2023-05-13T09:50:03.072Z"
   },
   {
    "duration": 43,
    "start_time": "2023-05-13T09:50:03.135Z"
   },
   {
    "duration": 10,
    "start_time": "2023-05-13T09:50:03.180Z"
   },
   {
    "duration": 29,
    "start_time": "2023-05-13T09:50:03.192Z"
   },
   {
    "duration": 140,
    "start_time": "2023-05-13T09:50:03.223Z"
   },
   {
    "duration": 16,
    "start_time": "2023-05-13T09:50:03.366Z"
   },
   {
    "duration": 145,
    "start_time": "2023-05-13T09:50:03.384Z"
   },
   {
    "duration": 4,
    "start_time": "2023-05-13T09:50:06.319Z"
   },
   {
    "duration": 39,
    "start_time": "2023-05-13T09:50:21.016Z"
   },
   {
    "duration": 158,
    "start_time": "2023-05-13T09:50:54.672Z"
   },
   {
    "duration": 0,
    "start_time": "2023-05-13T09:50:54.834Z"
   },
   {
    "duration": 0,
    "start_time": "2023-05-13T09:50:54.835Z"
   },
   {
    "duration": 0,
    "start_time": "2023-05-13T09:50:54.837Z"
   },
   {
    "duration": 0,
    "start_time": "2023-05-13T09:50:54.838Z"
   },
   {
    "duration": 0,
    "start_time": "2023-05-13T09:50:54.839Z"
   },
   {
    "duration": 0,
    "start_time": "2023-05-13T09:50:54.840Z"
   },
   {
    "duration": 0,
    "start_time": "2023-05-13T09:50:54.841Z"
   },
   {
    "duration": 0,
    "start_time": "2023-05-13T09:50:54.842Z"
   },
   {
    "duration": 0,
    "start_time": "2023-05-13T09:50:54.843Z"
   },
   {
    "duration": 0,
    "start_time": "2023-05-13T09:50:54.845Z"
   },
   {
    "duration": 1,
    "start_time": "2023-05-13T09:50:54.845Z"
   },
   {
    "duration": 0,
    "start_time": "2023-05-13T09:50:54.846Z"
   },
   {
    "duration": 0,
    "start_time": "2023-05-13T09:50:54.848Z"
   },
   {
    "duration": 0,
    "start_time": "2023-05-13T09:50:54.848Z"
   },
   {
    "duration": 0,
    "start_time": "2023-05-13T09:50:54.849Z"
   },
   {
    "duration": 0,
    "start_time": "2023-05-13T09:50:54.851Z"
   },
   {
    "duration": 0,
    "start_time": "2023-05-13T09:50:54.852Z"
   },
   {
    "duration": 1,
    "start_time": "2023-05-13T09:50:54.853Z"
   },
   {
    "duration": 1,
    "start_time": "2023-05-13T09:50:54.856Z"
   },
   {
    "duration": 0,
    "start_time": "2023-05-13T09:50:54.858Z"
   },
   {
    "duration": 0,
    "start_time": "2023-05-13T09:50:54.859Z"
   },
   {
    "duration": 0,
    "start_time": "2023-05-13T09:50:54.861Z"
   },
   {
    "duration": 0,
    "start_time": "2023-05-13T09:50:54.862Z"
   },
   {
    "duration": 0,
    "start_time": "2023-05-13T09:50:54.862Z"
   },
   {
    "duration": 0,
    "start_time": "2023-05-13T09:50:54.863Z"
   },
   {
    "duration": 0,
    "start_time": "2023-05-13T09:50:54.872Z"
   },
   {
    "duration": 0,
    "start_time": "2023-05-13T09:50:54.874Z"
   },
   {
    "duration": 0,
    "start_time": "2023-05-13T09:50:54.876Z"
   },
   {
    "duration": 0,
    "start_time": "2023-05-13T09:50:54.878Z"
   },
   {
    "duration": 0,
    "start_time": "2023-05-13T09:50:54.879Z"
   },
   {
    "duration": 0,
    "start_time": "2023-05-13T09:50:54.881Z"
   },
   {
    "duration": 0,
    "start_time": "2023-05-13T09:50:54.882Z"
   },
   {
    "duration": 0,
    "start_time": "2023-05-13T09:50:54.884Z"
   },
   {
    "duration": 0,
    "start_time": "2023-05-13T09:50:54.886Z"
   },
   {
    "duration": 0,
    "start_time": "2023-05-13T09:50:54.887Z"
   },
   {
    "duration": 0,
    "start_time": "2023-05-13T09:50:54.889Z"
   },
   {
    "duration": 0,
    "start_time": "2023-05-13T09:50:54.890Z"
   },
   {
    "duration": 0,
    "start_time": "2023-05-13T09:50:54.891Z"
   },
   {
    "duration": 0,
    "start_time": "2023-05-13T09:50:54.893Z"
   },
   {
    "duration": 0,
    "start_time": "2023-05-13T09:50:54.895Z"
   },
   {
    "duration": 0,
    "start_time": "2023-05-13T09:50:54.897Z"
   },
   {
    "duration": 0,
    "start_time": "2023-05-13T09:50:54.898Z"
   },
   {
    "duration": 0,
    "start_time": "2023-05-13T09:50:54.902Z"
   },
   {
    "duration": 0,
    "start_time": "2023-05-13T09:50:54.904Z"
   },
   {
    "duration": 0,
    "start_time": "2023-05-13T09:50:54.905Z"
   },
   {
    "duration": 0,
    "start_time": "2023-05-13T09:50:54.906Z"
   },
   {
    "duration": 0,
    "start_time": "2023-05-13T09:50:54.972Z"
   },
   {
    "duration": 0,
    "start_time": "2023-05-13T09:50:54.974Z"
   },
   {
    "duration": 221,
    "start_time": "2023-05-13T09:50:54.980Z"
   },
   {
    "duration": 0,
    "start_time": "2023-05-13T09:50:55.203Z"
   },
   {
    "duration": 0,
    "start_time": "2023-05-13T09:50:55.204Z"
   },
   {
    "duration": 0,
    "start_time": "2023-05-13T09:50:55.206Z"
   },
   {
    "duration": 0,
    "start_time": "2023-05-13T09:50:55.207Z"
   },
   {
    "duration": 0,
    "start_time": "2023-05-13T09:50:55.208Z"
   },
   {
    "duration": 0,
    "start_time": "2023-05-13T09:50:55.209Z"
   },
   {
    "duration": 0,
    "start_time": "2023-05-13T09:50:55.211Z"
   },
   {
    "duration": 0,
    "start_time": "2023-05-13T09:50:55.211Z"
   },
   {
    "duration": 0,
    "start_time": "2023-05-13T09:50:55.213Z"
   },
   {
    "duration": 0,
    "start_time": "2023-05-13T09:50:55.214Z"
   },
   {
    "duration": 0,
    "start_time": "2023-05-13T09:50:55.215Z"
   },
   {
    "duration": 7793,
    "start_time": "2023-05-13T09:51:04.211Z"
   },
   {
    "duration": 4,
    "start_time": "2023-05-13T09:51:12.007Z"
   },
   {
    "duration": 90,
    "start_time": "2023-05-13T09:51:12.013Z"
   },
   {
    "duration": 31,
    "start_time": "2023-05-13T09:51:12.106Z"
   },
   {
    "duration": 393,
    "start_time": "2023-05-13T09:51:12.140Z"
   },
   {
    "duration": 64,
    "start_time": "2023-05-13T09:51:12.535Z"
   },
   {
    "duration": 65,
    "start_time": "2023-05-13T09:51:12.619Z"
   },
   {
    "duration": 72,
    "start_time": "2023-05-13T09:51:12.687Z"
   },
   {
    "duration": 120,
    "start_time": "2023-05-13T09:51:12.761Z"
   },
   {
    "duration": 30,
    "start_time": "2023-05-13T09:51:12.885Z"
   },
   {
    "duration": 31,
    "start_time": "2023-05-13T09:51:12.917Z"
   },
   {
    "duration": 28,
    "start_time": "2023-05-13T09:51:12.951Z"
   },
   {
    "duration": 26,
    "start_time": "2023-05-13T09:51:12.982Z"
   },
   {
    "duration": 27,
    "start_time": "2023-05-13T09:51:13.010Z"
   },
   {
    "duration": 32,
    "start_time": "2023-05-13T09:51:13.039Z"
   },
   {
    "duration": 101,
    "start_time": "2023-05-13T09:51:13.073Z"
   },
   {
    "duration": 9,
    "start_time": "2023-05-13T09:51:13.176Z"
   },
   {
    "duration": 109,
    "start_time": "2023-05-13T09:51:13.186Z"
   },
   {
    "duration": 14,
    "start_time": "2023-05-13T09:51:13.298Z"
   },
   {
    "duration": 75,
    "start_time": "2023-05-13T09:51:13.314Z"
   },
   {
    "duration": 6,
    "start_time": "2023-05-13T09:51:13.391Z"
   },
   {
    "duration": 66,
    "start_time": "2023-05-13T09:51:13.399Z"
   },
   {
    "duration": 21,
    "start_time": "2023-05-13T09:51:13.467Z"
   },
   {
    "duration": 88,
    "start_time": "2023-05-13T09:51:13.490Z"
   },
   {
    "duration": 24,
    "start_time": "2023-05-13T09:51:13.580Z"
   },
   {
    "duration": 100,
    "start_time": "2023-05-13T09:51:13.606Z"
   },
   {
    "duration": 63,
    "start_time": "2023-05-13T09:51:13.708Z"
   },
   {
    "duration": 3,
    "start_time": "2023-05-13T09:51:13.776Z"
   },
   {
    "duration": 2670,
    "start_time": "2023-05-13T09:51:13.781Z"
   },
   {
    "duration": 7692,
    "start_time": "2023-05-13T09:51:16.454Z"
   },
   {
    "duration": 68,
    "start_time": "2023-05-13T09:51:24.149Z"
   },
   {
    "duration": 23,
    "start_time": "2023-05-13T09:51:24.220Z"
   },
   {
    "duration": 29,
    "start_time": "2023-05-13T09:51:24.245Z"
   },
   {
    "duration": 4,
    "start_time": "2023-05-13T09:51:24.276Z"
   },
   {
    "duration": 17,
    "start_time": "2023-05-13T09:51:24.282Z"
   },
   {
    "duration": 4,
    "start_time": "2023-05-13T09:51:24.301Z"
   },
   {
    "duration": 111,
    "start_time": "2023-05-13T09:51:24.308Z"
   },
   {
    "duration": 6,
    "start_time": "2023-05-13T09:51:24.421Z"
   },
   {
    "duration": 50,
    "start_time": "2023-05-13T09:51:24.429Z"
   },
   {
    "duration": 4,
    "start_time": "2023-05-13T09:51:24.481Z"
   },
   {
    "duration": 8,
    "start_time": "2023-05-13T09:51:24.487Z"
   },
   {
    "duration": 334223,
    "start_time": "2023-05-13T09:51:24.497Z"
   },
   {
    "duration": 4,
    "start_time": "2023-05-13T09:56:58.722Z"
   },
   {
    "duration": 41,
    "start_time": "2023-05-13T09:56:58.729Z"
   },
   {
    "duration": 693745,
    "start_time": "2023-05-13T09:56:58.773Z"
   },
   {
    "duration": 6,
    "start_time": "2023-05-13T10:08:32.520Z"
   },
   {
    "duration": 21,
    "start_time": "2023-05-13T10:08:32.528Z"
   },
   {
    "duration": 32,
    "start_time": "2023-05-13T10:08:32.552Z"
   },
   {
    "duration": 24,
    "start_time": "2023-05-13T10:08:32.587Z"
   },
   {
    "duration": 29,
    "start_time": "2023-05-13T10:08:32.614Z"
   },
   {
    "duration": 82140,
    "start_time": "2023-05-13T10:08:32.646Z"
   },
   {
    "duration": 5,
    "start_time": "2023-05-13T10:09:54.788Z"
   },
   {
    "duration": 21,
    "start_time": "2023-05-13T10:09:54.795Z"
   },
   {
    "duration": 255,
    "start_time": "2023-05-13T10:09:54.819Z"
   },
   {
    "duration": 4,
    "start_time": "2023-05-13T10:09:55.077Z"
   },
   {
    "duration": 178,
    "start_time": "2023-05-13T10:09:55.083Z"
   },
   {
    "duration": 440,
    "start_time": "2023-05-13T10:09:55.263Z"
   },
   {
    "duration": 145,
    "start_time": "2023-05-13T10:09:55.706Z"
   },
   {
    "duration": 338,
    "start_time": "2023-05-13T10:09:55.854Z"
   },
   {
    "duration": 250,
    "start_time": "2023-05-13T10:09:56.194Z"
   },
   {
    "duration": 252,
    "start_time": "2023-05-13T10:09:56.446Z"
   }
  ],
  "kernelspec": {
   "display_name": "Python 3 (ipykernel)",
   "language": "python",
   "name": "python3"
  },
  "language_info": {
   "codemirror_mode": {
    "name": "ipython",
    "version": 3
   },
   "file_extension": ".py",
   "mimetype": "text/x-python",
   "name": "python",
   "nbconvert_exporter": "python",
   "pygments_lexer": "ipython3",
   "version": "3.9.7"
  },
  "toc": {
   "base_numbering": 1,
   "nav_menu": {},
   "number_sections": true,
   "sideBar": true,
   "skip_h1_title": true,
   "title_cell": "Table of Contents",
   "title_sidebar": "Contents",
   "toc_cell": false,
   "toc_position": {
    "height": "calc(100% - 180px)",
    "left": "10px",
    "top": "150px",
    "width": "165px"
   },
   "toc_section_display": true,
   "toc_window_display": true
  }
 },
 "nbformat": 4,
 "nbformat_minor": 5
}
