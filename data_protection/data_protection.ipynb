{
 "cells": [
  {
   "cell_type": "markdown",
   "metadata": {
    "toc": true
   },
   "source": [
    "<h1>Содержание<span class=\"tocSkip\"></span></h1>\n",
    "<div class=\"toc\"><ul class=\"toc-item\"><li><span><a href=\"#Загрузка-данных\" data-toc-modified-id=\"Загрузка-данных-1\"><span class=\"toc-item-num\">1&nbsp;&nbsp;</span>Загрузка данных</a></span></li><li><span><a href=\"#Умножение-матриц\" data-toc-modified-id=\"Умножение-матриц-2\"><span class=\"toc-item-num\">2&nbsp;&nbsp;</span>Умножение матриц</a></span></li><li><span><a href=\"#Алгоритм-преобразования\" data-toc-modified-id=\"Алгоритм-преобразования-3\"><span class=\"toc-item-num\">3&nbsp;&nbsp;</span>Алгоритм преобразования</a></span></li><li><span><a href=\"#Проверка-алгоритма\" data-toc-modified-id=\"Проверка-алгоритма-4\"><span class=\"toc-item-num\">4&nbsp;&nbsp;</span>Проверка алгоритма</a></span></li><li><span><a href=\"#Вывод\" data-toc-modified-id=\"Вывод-5\"><span class=\"toc-item-num\">5&nbsp;&nbsp;</span>Вывод</a></span></li><li><span><a href=\"#Чек-лист-проверки\" data-toc-modified-id=\"Чек-лист-проверки-6\"><span class=\"toc-item-num\">6&nbsp;&nbsp;</span>Чек-лист проверки</a></span></li><li><span><a href=\"#Финальные-комментарии-ревьюера\" data-toc-modified-id=\"Финальные-комментарии-ревьюера-7\"><span class=\"toc-item-num\">7&nbsp;&nbsp;</span>Финальные комментарии ревьюера</a></span></li></ul></div>"
   ]
  },
  {
   "cell_type": "markdown",
   "metadata": {},
   "source": [
    "# Защита персональных данных клиентов"
   ]
  },
  {
   "cell_type": "markdown",
   "metadata": {},
   "source": [
    "Нам нужно защитить данные клиентов страховой компании «Хоть потоп». Разработаем такой метод преобразования данных, чтобы по ним было сложно восстановить персональную информацию. Обоснуем корректность его работы.\n",
    "\n",
    "Нужно защитить данные, чтобы при преобразовании качество моделей машинного обучения не ухудшилось. Подбирать наилучшую модель не требуется."
   ]
  },
  {
   "cell_type": "markdown",
   "metadata": {},
   "source": [
    "## Загрузка данных"
   ]
  },
  {
   "cell_type": "code",
   "execution_count": 1,
   "metadata": {},
   "outputs": [],
   "source": [
    "import numpy as np\n",
    "import pandas as pd\n",
    "from sklearn.metrics import r2_score\n",
    "from numpy import linalg as la"
   ]
  },
  {
   "cell_type": "code",
   "execution_count": 2,
   "metadata": {},
   "outputs": [
    {
     "name": "stdout",
     "output_type": "stream",
     "text": [
      "<class 'pandas.core.frame.DataFrame'>\n",
      "RangeIndex: 5000 entries, 0 to 4999\n",
      "Data columns (total 5 columns):\n",
      " #   Column             Non-Null Count  Dtype  \n",
      "---  ------             --------------  -----  \n",
      " 0   Пол                5000 non-null   int64  \n",
      " 1   Возраст            5000 non-null   float64\n",
      " 2   Зарплата           5000 non-null   float64\n",
      " 3   Члены семьи        5000 non-null   int64  \n",
      " 4   Страховые выплаты  5000 non-null   int64  \n",
      "dtypes: float64(2), int64(3)\n",
      "memory usage: 195.4 KB\n"
     ]
    },
    {
     "data": {
      "text/html": [
       "<div>\n",
       "<style scoped>\n",
       "    .dataframe tbody tr th:only-of-type {\n",
       "        vertical-align: middle;\n",
       "    }\n",
       "\n",
       "    .dataframe tbody tr th {\n",
       "        vertical-align: top;\n",
       "    }\n",
       "\n",
       "    .dataframe thead th {\n",
       "        text-align: right;\n",
       "    }\n",
       "</style>\n",
       "<table border=\"1\" class=\"dataframe\">\n",
       "  <thead>\n",
       "    <tr style=\"text-align: right;\">\n",
       "      <th></th>\n",
       "      <th>Пол</th>\n",
       "      <th>Возраст</th>\n",
       "      <th>Зарплата</th>\n",
       "      <th>Члены семьи</th>\n",
       "      <th>Страховые выплаты</th>\n",
       "    </tr>\n",
       "  </thead>\n",
       "  <tbody>\n",
       "    <tr>\n",
       "      <th>0</th>\n",
       "      <td>1</td>\n",
       "      <td>41.0</td>\n",
       "      <td>49600.0</td>\n",
       "      <td>1</td>\n",
       "      <td>0</td>\n",
       "    </tr>\n",
       "    <tr>\n",
       "      <th>1</th>\n",
       "      <td>0</td>\n",
       "      <td>46.0</td>\n",
       "      <td>38000.0</td>\n",
       "      <td>1</td>\n",
       "      <td>1</td>\n",
       "    </tr>\n",
       "    <tr>\n",
       "      <th>2</th>\n",
       "      <td>0</td>\n",
       "      <td>29.0</td>\n",
       "      <td>21000.0</td>\n",
       "      <td>0</td>\n",
       "      <td>0</td>\n",
       "    </tr>\n",
       "    <tr>\n",
       "      <th>3</th>\n",
       "      <td>0</td>\n",
       "      <td>21.0</td>\n",
       "      <td>41700.0</td>\n",
       "      <td>2</td>\n",
       "      <td>0</td>\n",
       "    </tr>\n",
       "    <tr>\n",
       "      <th>4</th>\n",
       "      <td>1</td>\n",
       "      <td>28.0</td>\n",
       "      <td>26100.0</td>\n",
       "      <td>0</td>\n",
       "      <td>0</td>\n",
       "    </tr>\n",
       "  </tbody>\n",
       "</table>\n",
       "</div>"
      ],
      "text/plain": [
       "   Пол  Возраст  Зарплата  Члены семьи  Страховые выплаты\n",
       "0    1     41.0   49600.0            1                  0\n",
       "1    0     46.0   38000.0            1                  1\n",
       "2    0     29.0   21000.0            0                  0\n",
       "3    0     21.0   41700.0            2                  0\n",
       "4    1     28.0   26100.0            0                  0"
      ]
     },
     "metadata": {},
     "output_type": "display_data"
    },
    {
     "data": {
      "text/html": [
       "<div>\n",
       "<style scoped>\n",
       "    .dataframe tbody tr th:only-of-type {\n",
       "        vertical-align: middle;\n",
       "    }\n",
       "\n",
       "    .dataframe tbody tr th {\n",
       "        vertical-align: top;\n",
       "    }\n",
       "\n",
       "    .dataframe thead th {\n",
       "        text-align: right;\n",
       "    }\n",
       "</style>\n",
       "<table border=\"1\" class=\"dataframe\">\n",
       "  <thead>\n",
       "    <tr style=\"text-align: right;\">\n",
       "      <th></th>\n",
       "      <th>Пол</th>\n",
       "      <th>Возраст</th>\n",
       "      <th>Зарплата</th>\n",
       "      <th>Члены семьи</th>\n",
       "      <th>Страховые выплаты</th>\n",
       "    </tr>\n",
       "  </thead>\n",
       "  <tbody>\n",
       "    <tr>\n",
       "      <th>count</th>\n",
       "      <td>5000.000000</td>\n",
       "      <td>5000.000000</td>\n",
       "      <td>5000.000000</td>\n",
       "      <td>5000.000000</td>\n",
       "      <td>5000.000000</td>\n",
       "    </tr>\n",
       "    <tr>\n",
       "      <th>mean</th>\n",
       "      <td>0.499000</td>\n",
       "      <td>30.952800</td>\n",
       "      <td>39916.360000</td>\n",
       "      <td>1.194200</td>\n",
       "      <td>0.148000</td>\n",
       "    </tr>\n",
       "    <tr>\n",
       "      <th>std</th>\n",
       "      <td>0.500049</td>\n",
       "      <td>8.440807</td>\n",
       "      <td>9900.083569</td>\n",
       "      <td>1.091387</td>\n",
       "      <td>0.463183</td>\n",
       "    </tr>\n",
       "    <tr>\n",
       "      <th>min</th>\n",
       "      <td>0.000000</td>\n",
       "      <td>18.000000</td>\n",
       "      <td>5300.000000</td>\n",
       "      <td>0.000000</td>\n",
       "      <td>0.000000</td>\n",
       "    </tr>\n",
       "    <tr>\n",
       "      <th>25%</th>\n",
       "      <td>0.000000</td>\n",
       "      <td>24.000000</td>\n",
       "      <td>33300.000000</td>\n",
       "      <td>0.000000</td>\n",
       "      <td>0.000000</td>\n",
       "    </tr>\n",
       "    <tr>\n",
       "      <th>50%</th>\n",
       "      <td>0.000000</td>\n",
       "      <td>30.000000</td>\n",
       "      <td>40200.000000</td>\n",
       "      <td>1.000000</td>\n",
       "      <td>0.000000</td>\n",
       "    </tr>\n",
       "    <tr>\n",
       "      <th>75%</th>\n",
       "      <td>1.000000</td>\n",
       "      <td>37.000000</td>\n",
       "      <td>46600.000000</td>\n",
       "      <td>2.000000</td>\n",
       "      <td>0.000000</td>\n",
       "    </tr>\n",
       "    <tr>\n",
       "      <th>max</th>\n",
       "      <td>1.000000</td>\n",
       "      <td>65.000000</td>\n",
       "      <td>79000.000000</td>\n",
       "      <td>6.000000</td>\n",
       "      <td>5.000000</td>\n",
       "    </tr>\n",
       "  </tbody>\n",
       "</table>\n",
       "</div>"
      ],
      "text/plain": [
       "               Пол      Возраст      Зарплата  Члены семьи  Страховые выплаты\n",
       "count  5000.000000  5000.000000   5000.000000  5000.000000        5000.000000\n",
       "mean      0.499000    30.952800  39916.360000     1.194200           0.148000\n",
       "std       0.500049     8.440807   9900.083569     1.091387           0.463183\n",
       "min       0.000000    18.000000   5300.000000     0.000000           0.000000\n",
       "25%       0.000000    24.000000  33300.000000     0.000000           0.000000\n",
       "50%       0.000000    30.000000  40200.000000     1.000000           0.000000\n",
       "75%       1.000000    37.000000  46600.000000     2.000000           0.000000\n",
       "max       1.000000    65.000000  79000.000000     6.000000           5.000000"
      ]
     },
     "execution_count": 2,
     "metadata": {},
     "output_type": "execute_result"
    }
   ],
   "source": [
    "df = pd.read_csv('/datasets/insurance.csv')\n",
    "df.info()\n",
    "display(df.head())\n",
    "df.describe()"
   ]
  },
  {
   "cell_type": "markdown",
   "metadata": {},
   "source": [
    "Объявим класс линейной регрессии"
   ]
  },
  {
   "cell_type": "code",
   "execution_count": 3,
   "metadata": {},
   "outputs": [],
   "source": [
    "class LinearRegression:\n",
    "    def fit(self, train_features, train_target):\n",
    "        X = np.concatenate((np.ones((train_features.shape[0], 1)), train_features), axis=1)\n",
    "        y = train_target\n",
    "        w = np.linalg.inv(X.T @ X) @ X.T @ y\n",
    "        self.w = w[1:]\n",
    "        self.w0 = w[0]\n",
    "\n",
    "    def predict(self, test_features):\n",
    "        return test_features.dot(self.w) + self.w0"
   ]
  },
  {
   "cell_type": "markdown",
   "metadata": {},
   "source": [
    "Посчитаем, чему равна наша метрика"
   ]
  },
  {
   "cell_type": "code",
   "execution_count": 4,
   "metadata": {},
   "outputs": [
    {
     "name": "stdout",
     "output_type": "stream",
     "text": [
      "0.42494550286668\n"
     ]
    }
   ],
   "source": [
    "features = df.drop('Страховые выплаты', axis=1)\n",
    "target = df['Страховые выплаты']\n",
    "\n",
    "model = LinearRegression()\n",
    "model.fit(features, target)\n",
    "predictions = model.predict(features)\n",
    "print(r2_score(target, predictions))"
   ]
  },
  {
   "cell_type": "markdown",
   "metadata": {},
   "source": [
    "## Умножение матриц"
   ]
  },
  {
   "cell_type": "markdown",
   "metadata": {},
   "source": [
    "Обозначения:\n",
    "\n",
    "- $X$ — матрица признаков (нулевой столбец состоит из единиц)\n",
    "\n",
    "- $y$ — вектор целевого признака\n",
    "\n",
    "- $P$ — матрица, на которую умножаются признаки\n",
    "\n",
    "- $w$ — вектор весов линейной регрессии (нулевой элемент равен сдвигу)"
   ]
  },
  {
   "cell_type": "markdown",
   "metadata": {},
   "source": [
    "Предсказания:\n",
    "\n",
    "$$\n",
    "a = Xw\n",
    "$$\n",
    "\n",
    "Задача обучения:\n",
    "\n",
    "$$\n",
    "w = \\arg\\min_w MSE(Xw, y)\n",
    "$$\n",
    "\n",
    "Формула обучения:\n",
    "\n",
    "$$\n",
    "w = (X^T X)^{-1} X^T y\n",
    "$$"
   ]
  },
  {
   "cell_type": "markdown",
   "metadata": {},
   "source": [
    "**Ответ:** Нет, не изменится, т.к. матрица в итоге скомпенсирует себя.\n",
    "\n",
    "**Обоснование:** \n",
    "$$\n",
    "Z = XP\n",
    "$$\n",
    "\n",
    "$$\n",
    "w' = (Z^T Z)^{-1} Z^T y\n",
    "$$\n",
    "\n",
    "$$\n",
    "w' = ((XP)^T(XP))^{-1}(XP)^T y\n",
    "$$\n",
    "\n",
    "$$\n",
    "w' = (P^T(X^TX)P)^{-1}P^TX^Ty\n",
    "$$\n",
    "\n",
    "$$\n",
    "w' = (P)^{-1}(X^TX)^{-1}(P^T)^{-1}P^TX^Ty\n",
    "$$\n",
    "\n",
    "$$\n",
    "a = Zw'\n",
    "$$\n",
    "\n",
    "$$\n",
    "a = XP (P)^{-1}(X^TX)^{-1}X^Ty\n",
    "$$\n",
    "\n",
    "$$\n",
    "a = X(X^TX)^{-1}X^Ty\n",
    "$$"
   ]
  },
  {
   "cell_type": "markdown",
   "metadata": {},
   "source": [
    "Видим, что в конечном итоге, матрица, на которую мы домножили, действительно скомпенсировалась."
   ]
  },
  {
   "cell_type": "markdown",
   "metadata": {},
   "source": [
    "## Алгоритм преобразования"
   ]
  },
  {
   "cell_type": "markdown",
   "metadata": {},
   "source": [
    "**Алгоритм**\n",
    "\n",
    "1. Сгенерируем случайную матрицу размером 4х4\n",
    "2. Проверим обратима ли сгенерированная матрица\n",
    "3. Умножим матрицу признаков на полученную матрицу\n",
    "4. Обучим на новой матрице линейную регрессию\n",
    "5. Проверим значение метрики **R2** на полученных предсказаниях"
   ]
  },
  {
   "cell_type": "markdown",
   "metadata": {},
   "source": [
    "**Обоснование**\n",
    "\n",
    "Как мы доказали в предыдущем пункте, при умножении на обратимую матрицу, она в итоге скомпенсируется. Смодерилуем данный алгоритм."
   ]
  },
  {
   "cell_type": "code",
   "execution_count": 10,
   "metadata": {},
   "outputs": [],
   "source": [
    "def code(features):\n",
    "    while True:\n",
    "        coding_matrix = np.random.normal(size=(4,4))\n",
    "        if la.det(coding_matrix) != 0:\n",
    "            break            \n",
    "    return features @ coding_matrix\n"
   ]
  },
  {
   "cell_type": "markdown",
   "metadata": {},
   "source": [
    "## Проверка алгоритма"
   ]
  },
  {
   "cell_type": "code",
   "execution_count": 11,
   "metadata": {},
   "outputs": [
    {
     "name": "stdout",
     "output_type": "stream",
     "text": [
      "0.4249455028666561\n"
     ]
    }
   ],
   "source": [
    "new_features = code(features)\n",
    "\n",
    "model = LinearRegression()\n",
    "model.fit(new_features, target)\n",
    "predictions = model.predict(new_features)\n",
    "print(r2_score(target, predictions))"
   ]
  },
  {
   "cell_type": "markdown",
   "metadata": {},
   "source": [
    "Как мы видим значение метрики **R2** не изменилось. Посмотрим на новую таблицу с признаками."
   ]
  },
  {
   "cell_type": "code",
   "execution_count": 19,
   "metadata": {},
   "outputs": [
    {
     "data": {
      "text/html": [
       "<div>\n",
       "<style scoped>\n",
       "    .dataframe tbody tr th:only-of-type {\n",
       "        vertical-align: middle;\n",
       "    }\n",
       "\n",
       "    .dataframe tbody tr th {\n",
       "        vertical-align: top;\n",
       "    }\n",
       "\n",
       "    .dataframe thead th {\n",
       "        text-align: right;\n",
       "    }\n",
       "</style>\n",
       "<table border=\"1\" class=\"dataframe\">\n",
       "  <thead>\n",
       "    <tr style=\"text-align: right;\">\n",
       "      <th></th>\n",
       "      <th>0</th>\n",
       "      <th>1</th>\n",
       "      <th>2</th>\n",
       "      <th>3</th>\n",
       "    </tr>\n",
       "  </thead>\n",
       "  <tbody>\n",
       "    <tr>\n",
       "      <th>0</th>\n",
       "      <td>76228.312989</td>\n",
       "      <td>-31665.829772</td>\n",
       "      <td>-21033.779696</td>\n",
       "      <td>-31373.594872</td>\n",
       "    </tr>\n",
       "    <tr>\n",
       "      <th>1</th>\n",
       "      <td>58387.265573</td>\n",
       "      <td>-24247.873509</td>\n",
       "      <td>-16118.292646</td>\n",
       "      <td>-24062.288632</td>\n",
       "    </tr>\n",
       "    <tr>\n",
       "      <th>2</th>\n",
       "      <td>32264.090567</td>\n",
       "      <td>-13397.103685</td>\n",
       "      <td>-8907.881393</td>\n",
       "      <td>-13302.967676</td>\n",
       "    </tr>\n",
       "    <tr>\n",
       "      <th>3</th>\n",
       "      <td>64098.705503</td>\n",
       "      <td>-26634.532829</td>\n",
       "      <td>-17681.426717</td>\n",
       "      <td>-26355.327690</td>\n",
       "    </tr>\n",
       "    <tr>\n",
       "      <th>4</th>\n",
       "      <td>40106.450628</td>\n",
       "      <td>-16656.959787</td>\n",
       "      <td>-11069.252227</td>\n",
       "      <td>-16519.238174</td>\n",
       "    </tr>\n",
       "  </tbody>\n",
       "</table>\n",
       "</div>"
      ],
      "text/plain": [
       "              0             1             2             3\n",
       "0  76228.312989 -31665.829772 -21033.779696 -31373.594872\n",
       "1  58387.265573 -24247.873509 -16118.292646 -24062.288632\n",
       "2  32264.090567 -13397.103685  -8907.881393 -13302.967676\n",
       "3  64098.705503 -26634.532829 -17681.426717 -26355.327690\n",
       "4  40106.450628 -16656.959787 -11069.252227 -16519.238174"
      ]
     },
     "metadata": {},
     "output_type": "display_data"
    },
    {
     "data": {
      "text/html": [
       "<div>\n",
       "<style scoped>\n",
       "    .dataframe tbody tr th:only-of-type {\n",
       "        vertical-align: middle;\n",
       "    }\n",
       "\n",
       "    .dataframe tbody tr th {\n",
       "        vertical-align: top;\n",
       "    }\n",
       "\n",
       "    .dataframe thead th {\n",
       "        text-align: right;\n",
       "    }\n",
       "</style>\n",
       "<table border=\"1\" class=\"dataframe\">\n",
       "  <thead>\n",
       "    <tr style=\"text-align: right;\">\n",
       "      <th></th>\n",
       "      <th>0</th>\n",
       "      <th>1</th>\n",
       "      <th>2</th>\n",
       "      <th>3</th>\n",
       "    </tr>\n",
       "  </thead>\n",
       "  <tbody>\n",
       "    <tr>\n",
       "      <th>count</th>\n",
       "      <td>5000.000000</td>\n",
       "      <td>5000.000000</td>\n",
       "      <td>5000.000000</td>\n",
       "      <td>5000.000000</td>\n",
       "    </tr>\n",
       "    <tr>\n",
       "      <th>mean</th>\n",
       "      <td>61347.485240</td>\n",
       "      <td>-25485.519368</td>\n",
       "      <td>-16927.104100</td>\n",
       "      <td>-25245.562989</td>\n",
       "    </tr>\n",
       "    <tr>\n",
       "      <th>std</th>\n",
       "      <td>15223.374427</td>\n",
       "      <td>6327.963937</td>\n",
       "      <td>4196.149819</td>\n",
       "      <td>6247.378165</td>\n",
       "    </tr>\n",
       "    <tr>\n",
       "      <th>min</th>\n",
       "      <td>8128.724979</td>\n",
       "      <td>-50457.190277</td>\n",
       "      <td>-33495.969678</td>\n",
       "      <td>-49928.702546</td>\n",
       "    </tr>\n",
       "    <tr>\n",
       "      <th>25%</th>\n",
       "      <td>51174.547979</td>\n",
       "      <td>-29761.105845</td>\n",
       "      <td>-19759.702153</td>\n",
       "      <td>-29461.805203</td>\n",
       "    </tr>\n",
       "    <tr>\n",
       "      <th>50%</th>\n",
       "      <td>61781.356960</td>\n",
       "      <td>-25664.705845</td>\n",
       "      <td>-17045.855114</td>\n",
       "      <td>-25414.276356</td>\n",
       "    </tr>\n",
       "    <tr>\n",
       "      <th>75%</th>\n",
       "      <td>71629.659858</td>\n",
       "      <td>-21257.356162</td>\n",
       "      <td>-14121.641295</td>\n",
       "      <td>-21057.397656</td>\n",
       "    </tr>\n",
       "    <tr>\n",
       "      <th>max</th>\n",
       "      <td>121434.703568</td>\n",
       "      <td>-3369.093877</td>\n",
       "      <td>-2251.943938</td>\n",
       "      <td>-3380.484360</td>\n",
       "    </tr>\n",
       "  </tbody>\n",
       "</table>\n",
       "</div>"
      ],
      "text/plain": [
       "                   0             1             2             3\n",
       "count    5000.000000   5000.000000   5000.000000   5000.000000\n",
       "mean    61347.485240 -25485.519368 -16927.104100 -25245.562989\n",
       "std     15223.374427   6327.963937   4196.149819   6247.378165\n",
       "min      8128.724979 -50457.190277 -33495.969678 -49928.702546\n",
       "25%     51174.547979 -29761.105845 -19759.702153 -29461.805203\n",
       "50%     61781.356960 -25664.705845 -17045.855114 -25414.276356\n",
       "75%     71629.659858 -21257.356162 -14121.641295 -21057.397656\n",
       "max    121434.703568  -3369.093877  -2251.943938  -3380.484360"
      ]
     },
     "execution_count": 19,
     "metadata": {},
     "output_type": "execute_result"
    }
   ],
   "source": [
    "display(new_features.head())\n",
    "new_features.describe()"
   ]
  },
  {
   "cell_type": "markdown",
   "metadata": {},
   "source": [
    "Таблица стала совершенно неузнаваемая относительно исходных данных."
   ]
  },
  {
   "cell_type": "markdown",
   "metadata": {},
   "source": [
    "## Вывод"
   ]
  },
  {
   "cell_type": "markdown",
   "metadata": {},
   "source": [
    "В данной задаче нам были представлены данные клиентов страховой компании.\n",
    "1. Мы ответили на вопрос, можно ли матрицу признаков умножить на обратимую матрицу, чтобы качество линейной регрессии не изменилось.\n",
    "2. Убедились, что можно, проверили на исходных данных.\n",
    "3. Реализовали алгоритм преобразования исходных данных.\n",
    "4. Проверили результат применения алгоритма по метрике **R2**. Убедились, что получили положительный результат"
   ]
  },
  {
   "cell_type": "code",
   "execution_count": null,
   "metadata": {},
   "outputs": [],
   "source": []
  }
 ],
 "metadata": {
  "ExecuteTimeLog": [
   {
    "duration": 456,
    "start_time": "2022-11-20T10:20:44.995Z"
   },
   {
    "duration": 77,
    "start_time": "2022-11-20T10:21:06.994Z"
   },
   {
    "duration": 2,
    "start_time": "2022-11-20T10:21:09.399Z"
   },
   {
    "duration": 90,
    "start_time": "2022-11-20T10:21:11.337Z"
   },
   {
    "duration": 51,
    "start_time": "2022-11-20T10:21:21.948Z"
   },
   {
    "duration": 4,
    "start_time": "2022-11-20T15:22:36.262Z"
   },
   {
    "duration": 8,
    "start_time": "2022-11-20T15:22:58.265Z"
   },
   {
    "duration": 4,
    "start_time": "2022-11-20T15:23:19.441Z"
   },
   {
    "duration": 10,
    "start_time": "2022-11-20T15:23:28.978Z"
   },
   {
    "duration": 654,
    "start_time": "2022-11-20T15:23:44.181Z"
   },
   {
    "duration": 10,
    "start_time": "2022-11-20T15:23:47.438Z"
   },
   {
    "duration": 4,
    "start_time": "2022-11-20T15:25:52.143Z"
   },
   {
    "duration": 8,
    "start_time": "2022-11-20T15:27:08.255Z"
   },
   {
    "duration": 11,
    "start_time": "2022-11-20T15:36:20.095Z"
   },
   {
    "duration": 11,
    "start_time": "2022-11-20T15:37:04.753Z"
   },
   {
    "duration": 10,
    "start_time": "2022-11-20T15:37:10.478Z"
   },
   {
    "duration": 39,
    "start_time": "2022-11-20T15:59:50.852Z"
   },
   {
    "duration": 10,
    "start_time": "2022-11-20T16:07:10.293Z"
   },
   {
    "duration": 14,
    "start_time": "2022-11-20T16:11:47.973Z"
   },
   {
    "duration": 11,
    "start_time": "2022-11-20T16:12:05.814Z"
   },
   {
    "duration": 9,
    "start_time": "2022-11-20T16:12:26.761Z"
   },
   {
    "duration": 8,
    "start_time": "2022-11-20T16:12:32.821Z"
   },
   {
    "duration": 10,
    "start_time": "2022-11-20T16:12:37.199Z"
   },
   {
    "duration": 9,
    "start_time": "2022-11-20T16:31:43.982Z"
   },
   {
    "duration": 4,
    "start_time": "2022-11-20T16:56:18.991Z"
   },
   {
    "duration": 4,
    "start_time": "2022-11-20T16:56:21.629Z"
   },
   {
    "duration": 3,
    "start_time": "2022-11-20T17:01:53.420Z"
   },
   {
    "duration": 14,
    "start_time": "2022-11-20T17:02:11.802Z"
   },
   {
    "duration": 1186,
    "start_time": "2022-11-21T03:18:00.717Z"
   },
   {
    "duration": 109,
    "start_time": "2022-11-21T03:18:01.905Z"
   },
   {
    "duration": 5,
    "start_time": "2022-11-21T03:18:02.015Z"
   },
   {
    "duration": 15,
    "start_time": "2022-11-21T03:18:02.022Z"
   },
   {
    "duration": 97,
    "start_time": "2022-11-21T03:18:02.055Z"
   },
   {
    "duration": 4,
    "start_time": "2022-11-21T03:18:06.219Z"
   },
   {
    "duration": 68,
    "start_time": "2022-11-21T11:48:19.913Z"
   },
   {
    "duration": 1227,
    "start_time": "2022-11-21T11:48:23.564Z"
   },
   {
    "duration": 130,
    "start_time": "2022-11-21T11:48:24.793Z"
   },
   {
    "duration": 5,
    "start_time": "2022-11-21T11:48:24.924Z"
   },
   {
    "duration": 36,
    "start_time": "2022-11-21T11:48:24.930Z"
   },
   {
    "duration": 183,
    "start_time": "2022-11-21T11:48:24.969Z"
   },
   {
    "duration": 3,
    "start_time": "2022-11-21T12:31:28.573Z"
   },
   {
    "duration": 4,
    "start_time": "2022-11-21T12:31:47.723Z"
   },
   {
    "duration": 8,
    "start_time": "2022-11-21T12:31:58.841Z"
   },
   {
    "duration": 28,
    "start_time": "2022-11-21T12:32:29.083Z"
   },
   {
    "duration": 8,
    "start_time": "2022-11-21T12:33:40.924Z"
   },
   {
    "duration": 25,
    "start_time": "2022-11-21T12:34:04.271Z"
   },
   {
    "duration": 1990,
    "start_time": "2022-11-21T17:34:21.018Z"
   },
   {
    "duration": 189,
    "start_time": "2022-11-21T17:34:23.010Z"
   },
   {
    "duration": 4,
    "start_time": "2022-11-21T17:34:23.201Z"
   },
   {
    "duration": 80,
    "start_time": "2022-11-21T17:34:23.207Z"
   },
   {
    "duration": 5,
    "start_time": "2022-11-21T17:34:23.377Z"
   },
   {
    "duration": 99,
    "start_time": "2022-11-21T17:34:23.384Z"
   },
   {
    "duration": 215,
    "start_time": "2022-11-21T17:34:23.485Z"
   },
   {
    "duration": 1056,
    "start_time": "2022-11-21T18:22:56.372Z"
   },
   {
    "duration": 117,
    "start_time": "2022-11-21T18:22:57.430Z"
   },
   {
    "duration": 4,
    "start_time": "2022-11-21T18:22:57.549Z"
   },
   {
    "duration": 43,
    "start_time": "2022-11-21T18:22:57.555Z"
   },
   {
    "duration": 94,
    "start_time": "2022-11-21T18:22:57.603Z"
   },
   {
    "duration": 12,
    "start_time": "2022-11-21T18:22:57.698Z"
   },
   {
    "duration": 201,
    "start_time": "2022-11-21T18:22:57.713Z"
   },
   {
    "duration": 40,
    "start_time": "2022-11-21T18:24:33.591Z"
   },
   {
    "duration": 38,
    "start_time": "2022-11-21T18:24:36.869Z"
   },
   {
    "duration": 4,
    "start_time": "2022-11-21T18:26:03.469Z"
   },
   {
    "duration": 12,
    "start_time": "2022-11-21T18:26:05.815Z"
   },
   {
    "duration": 26,
    "start_time": "2022-11-21T18:26:06.926Z"
   },
   {
    "duration": 27,
    "start_time": "2022-11-21T18:26:09.793Z"
   },
   {
    "duration": 27,
    "start_time": "2022-11-21T18:26:12.235Z"
   },
   {
    "duration": 25,
    "start_time": "2022-11-21T18:26:13.980Z"
   },
   {
    "duration": 25,
    "start_time": "2022-11-21T18:26:15.554Z"
   },
   {
    "duration": 25,
    "start_time": "2022-11-21T18:26:16.602Z"
   },
   {
    "duration": 27,
    "start_time": "2022-11-21T18:26:17.455Z"
   },
   {
    "duration": 26,
    "start_time": "2022-11-21T18:26:18.199Z"
   }
  ],
  "kernelspec": {
   "display_name": "Python 3 (ipykernel)",
   "language": "python",
   "name": "python3"
  },
  "language_info": {
   "codemirror_mode": {
    "name": "ipython",
    "version": 3
   },
   "file_extension": ".py",
   "mimetype": "text/x-python",
   "name": "python",
   "nbconvert_exporter": "python",
   "pygments_lexer": "ipython3",
   "version": "3.9.7"
  },
  "toc": {
   "base_numbering": 1,
   "nav_menu": {},
   "number_sections": true,
   "sideBar": true,
   "skip_h1_title": true,
   "title_cell": "Содержание",
   "title_sidebar": "Contents",
   "toc_cell": true,
   "toc_position": {},
   "toc_section_display": true,
   "toc_window_display": true
  }
 },
 "nbformat": 4,
 "nbformat_minor": 2
}
