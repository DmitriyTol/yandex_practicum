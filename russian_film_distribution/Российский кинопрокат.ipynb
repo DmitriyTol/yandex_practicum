{
 "cells": [
  {
   "cell_type": "markdown",
   "metadata": {
    "id": "sIfNaMOxgFyK"
   },
   "source": [
    "## Исследование данных о российском кинопрокате\n",
    "\n"
   ]
  },
  {
   "cell_type": "markdown",
   "metadata": {},
   "source": [
    "В данном проекте нам нужно изучить рынок российского кинопроката и выявить текущие тренды. Особое внимание уделим фильмам, которые получили государственную поддержку. Попробуйте ответить на вопрос, насколько такие фильмы интересны зрителю.\n",
    "Будем работать с данными, опубликованными на портале открытых данных Министерства культуры. Набор данных содержит информацию о прокатных удостоверениях, сборах и государственной поддержке фильмов, а также информацию с сайта КиноПоиск."
   ]
  },
  {
   "cell_type": "markdown",
   "metadata": {},
   "source": [
    "Таблица `mkrf_movies` содержит информацию из реестра прокатных удостоверений. У одного фильма может быть несколько прокатных удостоверений.\n",
    "- `title` — название фильма;\n",
    "- `puNumber` — номер прокатного удостоверения;\n",
    "- `show_start_date` — дата премьеры фильма;\n",
    "- `type` — тип фильма;\n",
    "- `film_studio` — студия-производитель;\n",
    "- `production_country` — страна-производитель;\n",
    "- `director` — режиссёр;\n",
    "- `producer` — продюсер;\n",
    "- `age_restriction` — возрастная категория;\n",
    "- `refundable_support` — объём возвратных средств государственной поддержки;\n",
    "- `nonrefundable_support` — объём невозвратных средств государственной поддержки;\n",
    "- `financing_source` — источник государственного финансирования;\n",
    "- `budget` — общий бюджет фильма;\n",
    "- `ratings` — рейтинг фильма на КиноПоиске;\n",
    "- `genres` — жанр фильма."
   ]
  },
  {
   "cell_type": "markdown",
   "metadata": {},
   "source": [
    "Таблица `mkrf_shows` содержит сведения о показах фильмов в российских кинотеатрах.\n",
    "- `puNumber` — номер прокатного удостоверения;\n",
    "- `box_office` — сборы в рублях."
   ]
  },
  {
   "cell_type": "markdown",
   "metadata": {
    "id": "3bSlkCsbgFyL"
   },
   "source": [
    "### Шаг 1. Откройте файлы с данными и объедините их в один датафрейм. "
   ]
  },
  {
   "cell_type": "code",
   "execution_count": 1,
   "metadata": {},
   "outputs": [],
   "source": [
    "import pandas as pd"
   ]
  },
  {
   "cell_type": "code",
   "execution_count": 2,
   "metadata": {
    "id": "dw87FlzMgFyM"
   },
   "outputs": [],
   "source": [
    "df = pd.read_csv('/datasets/mkrf_movies.csv')\n",
    "df_shows = pd.read_csv('/datasets/mkrf_shows.csv')"
   ]
  },
  {
   "cell_type": "code",
   "execution_count": 3,
   "metadata": {},
   "outputs": [
    {
     "name": "stdout",
     "output_type": "stream",
     "text": [
      "<class 'pandas.core.frame.DataFrame'>\n",
      "RangeIndex: 7486 entries, 0 to 7485\n",
      "Data columns (total 15 columns):\n",
      " #   Column                 Non-Null Count  Dtype  \n",
      "---  ------                 --------------  -----  \n",
      " 0   title                  7486 non-null   object \n",
      " 1   puNumber               7486 non-null   object \n",
      " 2   show_start_date        7486 non-null   object \n",
      " 3   type                   7486 non-null   object \n",
      " 4   film_studio            7468 non-null   object \n",
      " 5   production_country     7484 non-null   object \n",
      " 6   director               7477 non-null   object \n",
      " 7   producer               6918 non-null   object \n",
      " 8   age_restriction        7486 non-null   object \n",
      " 9   refundable_support     332 non-null    float64\n",
      " 10  nonrefundable_support  332 non-null    float64\n",
      " 11  budget                 332 non-null    float64\n",
      " 12  financing_source       332 non-null    object \n",
      " 13  ratings                6519 non-null   object \n",
      " 14  genres                 6510 non-null   object \n",
      "dtypes: float64(3), object(12)\n",
      "memory usage: 877.4+ KB\n"
     ]
    }
   ],
   "source": [
    "df.info()"
   ]
  },
  {
   "cell_type": "markdown",
   "metadata": {},
   "source": [
    "Посмотрим, сколько объектов в исходном датафрейме, чтобы понять, не потеряем ли мы данные при объединении."
   ]
  },
  {
   "cell_type": "code",
   "execution_count": 4,
   "metadata": {},
   "outputs": [],
   "source": [
    "df['puNumber'] = pd.to_numeric(df['puNumber'], errors='coerce')#приведем данные к одному типу, для слияния\n",
    "df = df.merge(df_shows, on='puNumber', how='left')"
   ]
  },
  {
   "cell_type": "code",
   "execution_count": 5,
   "metadata": {},
   "outputs": [
    {
     "name": "stdout",
     "output_type": "stream",
     "text": [
      "<class 'pandas.core.frame.DataFrame'>\n",
      "Int64Index: 7486 entries, 0 to 7485\n",
      "Data columns (total 16 columns):\n",
      " #   Column                 Non-Null Count  Dtype  \n",
      "---  ------                 --------------  -----  \n",
      " 0   title                  7486 non-null   object \n",
      " 1   puNumber               7485 non-null   float64\n",
      " 2   show_start_date        7486 non-null   object \n",
      " 3   type                   7486 non-null   object \n",
      " 4   film_studio            7468 non-null   object \n",
      " 5   production_country     7484 non-null   object \n",
      " 6   director               7477 non-null   object \n",
      " 7   producer               6918 non-null   object \n",
      " 8   age_restriction        7486 non-null   object \n",
      " 9   refundable_support     332 non-null    float64\n",
      " 10  nonrefundable_support  332 non-null    float64\n",
      " 11  budget                 332 non-null    float64\n",
      " 12  financing_source       332 non-null    object \n",
      " 13  ratings                6519 non-null   object \n",
      " 14  genres                 6510 non-null   object \n",
      " 15  box_office             3158 non-null   float64\n",
      "dtypes: float64(5), object(11)\n",
      "memory usage: 994.2+ KB\n"
     ]
    }
   ],
   "source": [
    "df.info()"
   ]
  },
  {
   "cell_type": "code",
   "execution_count": 6,
   "metadata": {},
   "outputs": [
    {
     "data": {
      "text/html": [
       "<div>\n",
       "<style scoped>\n",
       "    .dataframe tbody tr th:only-of-type {\n",
       "        vertical-align: middle;\n",
       "    }\n",
       "\n",
       "    .dataframe tbody tr th {\n",
       "        vertical-align: top;\n",
       "    }\n",
       "\n",
       "    .dataframe thead th {\n",
       "        text-align: right;\n",
       "    }\n",
       "</style>\n",
       "<table border=\"1\" class=\"dataframe\">\n",
       "  <thead>\n",
       "    <tr style=\"text-align: right;\">\n",
       "      <th></th>\n",
       "      <th>title</th>\n",
       "      <th>puNumber</th>\n",
       "      <th>show_start_date</th>\n",
       "      <th>type</th>\n",
       "      <th>film_studio</th>\n",
       "      <th>production_country</th>\n",
       "      <th>director</th>\n",
       "      <th>producer</th>\n",
       "      <th>age_restriction</th>\n",
       "      <th>refundable_support</th>\n",
       "      <th>nonrefundable_support</th>\n",
       "      <th>budget</th>\n",
       "      <th>financing_source</th>\n",
       "      <th>ratings</th>\n",
       "      <th>genres</th>\n",
       "      <th>box_office</th>\n",
       "    </tr>\n",
       "  </thead>\n",
       "  <tbody>\n",
       "    <tr>\n",
       "      <th>0</th>\n",
       "      <td>Открытый простор</td>\n",
       "      <td>221048915.0</td>\n",
       "      <td>2015-11-27T12:00:00.000Z</td>\n",
       "      <td>Художественный</td>\n",
       "      <td>Тачстоун Пикчерз, Кобальт Пикчерз, Бикон Пикче...</td>\n",
       "      <td>США</td>\n",
       "      <td>Кевин Костнер</td>\n",
       "      <td>Дэвид Валдес, Кевин Костнер, Джейк Эбертс</td>\n",
       "      <td>«18+» - запрещено для детей</td>\n",
       "      <td>NaN</td>\n",
       "      <td>NaN</td>\n",
       "      <td>NaN</td>\n",
       "      <td>NaN</td>\n",
       "      <td>7.2</td>\n",
       "      <td>боевик,драма,мелодрама</td>\n",
       "      <td>NaN</td>\n",
       "    </tr>\n",
       "    <tr>\n",
       "      <th>1</th>\n",
       "      <td>Особо важное задание</td>\n",
       "      <td>111013716.0</td>\n",
       "      <td>2016-09-13T12:00:00.000Z</td>\n",
       "      <td>Художественный</td>\n",
       "      <td>Киностудия \"Мосфильм\"</td>\n",
       "      <td>СССР</td>\n",
       "      <td>Е.Матвеев</td>\n",
       "      <td>NaN</td>\n",
       "      <td>«6+» - для детей старше 6 лет</td>\n",
       "      <td>NaN</td>\n",
       "      <td>NaN</td>\n",
       "      <td>NaN</td>\n",
       "      <td>NaN</td>\n",
       "      <td>6.6</td>\n",
       "      <td>драма,военный</td>\n",
       "      <td>NaN</td>\n",
       "    </tr>\n",
       "    <tr>\n",
       "      <th>2</th>\n",
       "      <td>Особо опасен</td>\n",
       "      <td>221038416.0</td>\n",
       "      <td>2016-10-10T12:00:00.000Z</td>\n",
       "      <td>Художественный</td>\n",
       "      <td>Юниверсал Пикчерз, Кикстарт Продакшнз, Марк Пл...</td>\n",
       "      <td>США</td>\n",
       "      <td>Тимур Бекмамбетов</td>\n",
       "      <td>Джим Лемли, Джейсон Нетер, Марк Е.Платт, Яйн Смит</td>\n",
       "      <td>«18+» - запрещено для детей</td>\n",
       "      <td>NaN</td>\n",
       "      <td>NaN</td>\n",
       "      <td>NaN</td>\n",
       "      <td>NaN</td>\n",
       "      <td>6.8</td>\n",
       "      <td>фантастика,боевик,триллер</td>\n",
       "      <td>NaN</td>\n",
       "    </tr>\n",
       "    <tr>\n",
       "      <th>3</th>\n",
       "      <td>Особо опасен</td>\n",
       "      <td>221026916.0</td>\n",
       "      <td>2016-06-10T12:00:00.000Z</td>\n",
       "      <td>Художественный</td>\n",
       "      <td>Юниверсал Пикчерз, Кикстарт Продакшнз, Марк Пл...</td>\n",
       "      <td>США</td>\n",
       "      <td>Тимур Бекмамбетов</td>\n",
       "      <td>Джим Лемли, Джейсон Нетер, Марк Е.Платт, Яйн Смит</td>\n",
       "      <td>«18+» - запрещено для детей</td>\n",
       "      <td>NaN</td>\n",
       "      <td>NaN</td>\n",
       "      <td>NaN</td>\n",
       "      <td>NaN</td>\n",
       "      <td>6.8</td>\n",
       "      <td>фантастика,боевик,триллер</td>\n",
       "      <td>NaN</td>\n",
       "    </tr>\n",
       "    <tr>\n",
       "      <th>4</th>\n",
       "      <td>Особо опасен</td>\n",
       "      <td>221030815.0</td>\n",
       "      <td>2015-07-29T12:00:00.000Z</td>\n",
       "      <td>Художественный</td>\n",
       "      <td>Юниверсал Пикчерз, Кикстарт Продакшнз, Марк Пл...</td>\n",
       "      <td>США</td>\n",
       "      <td>Тимур Бекмамбетов</td>\n",
       "      <td>Джим Лемли, Джейсон Нетер, Марк Е.Платт, Яйн Смит</td>\n",
       "      <td>«18+» - запрещено для детей</td>\n",
       "      <td>NaN</td>\n",
       "      <td>NaN</td>\n",
       "      <td>NaN</td>\n",
       "      <td>NaN</td>\n",
       "      <td>6.8</td>\n",
       "      <td>фантастика,боевик,триллер</td>\n",
       "      <td>NaN</td>\n",
       "    </tr>\n",
       "    <tr>\n",
       "      <th>5</th>\n",
       "      <td>Остановился поезд</td>\n",
       "      <td>111013816.0</td>\n",
       "      <td>2016-09-13T12:00:00.000Z</td>\n",
       "      <td>Художественный</td>\n",
       "      <td>Киностудия \"Мосфильм\"</td>\n",
       "      <td>СССР</td>\n",
       "      <td>В.Абдрашитов</td>\n",
       "      <td>NaN</td>\n",
       "      <td>«6+» - для детей старше 6 лет</td>\n",
       "      <td>NaN</td>\n",
       "      <td>NaN</td>\n",
       "      <td>NaN</td>\n",
       "      <td>NaN</td>\n",
       "      <td>7.7</td>\n",
       "      <td>драма</td>\n",
       "      <td>NaN</td>\n",
       "    </tr>\n",
       "    <tr>\n",
       "      <th>6</th>\n",
       "      <td>Любовь и голуби</td>\n",
       "      <td>111007013.0</td>\n",
       "      <td>2013-10-18T12:00:00.000Z</td>\n",
       "      <td>Художественный</td>\n",
       "      <td>Киностудия \"Мосфильм\"</td>\n",
       "      <td>СССР</td>\n",
       "      <td>В.Меньшов</td>\n",
       "      <td>NaN</td>\n",
       "      <td>«12+» - для детей старше 12 лет</td>\n",
       "      <td>NaN</td>\n",
       "      <td>NaN</td>\n",
       "      <td>NaN</td>\n",
       "      <td>NaN</td>\n",
       "      <td>8.3</td>\n",
       "      <td>мелодрама,комедия</td>\n",
       "      <td>2700.0</td>\n",
       "    </tr>\n",
       "    <tr>\n",
       "      <th>7</th>\n",
       "      <td>Любовь и сигареты</td>\n",
       "      <td>221074614.0</td>\n",
       "      <td>2014-12-29T12:00:00.000Z</td>\n",
       "      <td>Художественный</td>\n",
       "      <td>Юнайтед Артистс, Грин Стрит Филмз, Айкон Интер...</td>\n",
       "      <td>США</td>\n",
       "      <td>Джон Туртурро</td>\n",
       "      <td>Джон Пенотти, Джон Туртурро</td>\n",
       "      <td>«18+» - запрещено для детей</td>\n",
       "      <td>NaN</td>\n",
       "      <td>NaN</td>\n",
       "      <td>NaN</td>\n",
       "      <td>NaN</td>\n",
       "      <td>6.6</td>\n",
       "      <td>мюзикл,мелодрама,комедия</td>\n",
       "      <td>NaN</td>\n",
       "    </tr>\n",
       "    <tr>\n",
       "      <th>8</th>\n",
       "      <td>Отпетые мошенники.</td>\n",
       "      <td>121011416.0</td>\n",
       "      <td>2016-05-05T12:00:00.000Z</td>\n",
       "      <td>Художественный</td>\n",
       "      <td>Пульсар Продюксьон, ТФ1 Фильм</td>\n",
       "      <td>Франция</td>\n",
       "      <td>Эрик Беснард</td>\n",
       "      <td>Патрис Леду</td>\n",
       "      <td>«18+» - запрещено для детей</td>\n",
       "      <td>NaN</td>\n",
       "      <td>NaN</td>\n",
       "      <td>NaN</td>\n",
       "      <td>NaN</td>\n",
       "      <td>8.0</td>\n",
       "      <td>комедия,криминал</td>\n",
       "      <td>NaN</td>\n",
       "    </tr>\n",
       "    <tr>\n",
       "      <th>9</th>\n",
       "      <td>Отпуск за свой счет</td>\n",
       "      <td>111019114.0</td>\n",
       "      <td>2014-12-01T12:00:00.000Z</td>\n",
       "      <td>Художественный</td>\n",
       "      <td>Киностудия \"Мосфильм\", Телевидение ВНР</td>\n",
       "      <td>СССР, Венгрия</td>\n",
       "      <td>В.Титов</td>\n",
       "      <td>NaN</td>\n",
       "      <td>«12+» - для детей старше 12 лет</td>\n",
       "      <td>NaN</td>\n",
       "      <td>NaN</td>\n",
       "      <td>NaN</td>\n",
       "      <td>NaN</td>\n",
       "      <td>7.8</td>\n",
       "      <td>мелодрама,комедия</td>\n",
       "      <td>NaN</td>\n",
       "    </tr>\n",
       "  </tbody>\n",
       "</table>\n",
       "</div>"
      ],
      "text/plain": [
       "                  title     puNumber           show_start_date  \\\n",
       "0      Открытый простор  221048915.0  2015-11-27T12:00:00.000Z   \n",
       "1  Особо важное задание  111013716.0  2016-09-13T12:00:00.000Z   \n",
       "2          Особо опасен  221038416.0  2016-10-10T12:00:00.000Z   \n",
       "3          Особо опасен  221026916.0  2016-06-10T12:00:00.000Z   \n",
       "4          Особо опасен  221030815.0  2015-07-29T12:00:00.000Z   \n",
       "5     Остановился поезд  111013816.0  2016-09-13T12:00:00.000Z   \n",
       "6       Любовь и голуби  111007013.0  2013-10-18T12:00:00.000Z   \n",
       "7     Любовь и сигареты  221074614.0  2014-12-29T12:00:00.000Z   \n",
       "8    Отпетые мошенники.  121011416.0  2016-05-05T12:00:00.000Z   \n",
       "9   Отпуск за свой счет  111019114.0  2014-12-01T12:00:00.000Z   \n",
       "\n",
       "             type                                        film_studio  \\\n",
       "0  Художественный  Тачстоун Пикчерз, Кобальт Пикчерз, Бикон Пикче...   \n",
       "1  Художественный                              Киностудия \"Мосфильм\"   \n",
       "2  Художественный  Юниверсал Пикчерз, Кикстарт Продакшнз, Марк Пл...   \n",
       "3  Художественный  Юниверсал Пикчерз, Кикстарт Продакшнз, Марк Пл...   \n",
       "4  Художественный  Юниверсал Пикчерз, Кикстарт Продакшнз, Марк Пл...   \n",
       "5  Художественный                              Киностудия \"Мосфильм\"   \n",
       "6  Художественный                              Киностудия \"Мосфильм\"   \n",
       "7  Художественный  Юнайтед Артистс, Грин Стрит Филмз, Айкон Интер...   \n",
       "8  Художественный                     Пульсар Продюксьон, ТФ1 Фильм    \n",
       "9  Художественный             Киностудия \"Мосфильм\", Телевидение ВНР   \n",
       "\n",
       "  production_country           director  \\\n",
       "0                США      Кевин Костнер   \n",
       "1               СССР          Е.Матвеев   \n",
       "2                США  Тимур Бекмамбетов   \n",
       "3                США  Тимур Бекмамбетов   \n",
       "4                США  Тимур Бекмамбетов   \n",
       "5               СССР       В.Абдрашитов   \n",
       "6               СССР          В.Меньшов   \n",
       "7                США      Джон Туртурро   \n",
       "8            Франция       Эрик Беснард   \n",
       "9      СССР, Венгрия            В.Титов   \n",
       "\n",
       "                                            producer  \\\n",
       "0          Дэвид Валдес, Кевин Костнер, Джейк Эбертс   \n",
       "1                                                NaN   \n",
       "2  Джим Лемли, Джейсон Нетер, Марк Е.Платт, Яйн Смит   \n",
       "3  Джим Лемли, Джейсон Нетер, Марк Е.Платт, Яйн Смит   \n",
       "4  Джим Лемли, Джейсон Нетер, Марк Е.Платт, Яйн Смит   \n",
       "5                                                NaN   \n",
       "6                                                NaN   \n",
       "7                        Джон Пенотти, Джон Туртурро   \n",
       "8                                        Патрис Леду   \n",
       "9                                                NaN   \n",
       "\n",
       "                   age_restriction  refundable_support  nonrefundable_support  \\\n",
       "0      «18+» - запрещено для детей                 NaN                    NaN   \n",
       "1    «6+» - для детей старше 6 лет                 NaN                    NaN   \n",
       "2      «18+» - запрещено для детей                 NaN                    NaN   \n",
       "3      «18+» - запрещено для детей                 NaN                    NaN   \n",
       "4      «18+» - запрещено для детей                 NaN                    NaN   \n",
       "5    «6+» - для детей старше 6 лет                 NaN                    NaN   \n",
       "6  «12+» - для детей старше 12 лет                 NaN                    NaN   \n",
       "7      «18+» - запрещено для детей                 NaN                    NaN   \n",
       "8      «18+» - запрещено для детей                 NaN                    NaN   \n",
       "9  «12+» - для детей старше 12 лет                 NaN                    NaN   \n",
       "\n",
       "   budget financing_source ratings                     genres  box_office  \n",
       "0     NaN              NaN     7.2     боевик,драма,мелодрама         NaN  \n",
       "1     NaN              NaN     6.6              драма,военный         NaN  \n",
       "2     NaN              NaN     6.8  фантастика,боевик,триллер         NaN  \n",
       "3     NaN              NaN     6.8  фантастика,боевик,триллер         NaN  \n",
       "4     NaN              NaN     6.8  фантастика,боевик,триллер         NaN  \n",
       "5     NaN              NaN     7.7                      драма         NaN  \n",
       "6     NaN              NaN     8.3          мелодрама,комедия      2700.0  \n",
       "7     NaN              NaN     6.6   мюзикл,мелодрама,комедия         NaN  \n",
       "8     NaN              NaN     8.0           комедия,криминал         NaN  \n",
       "9     NaN              NaN     7.8          мелодрама,комедия         NaN  "
      ]
     },
     "execution_count": 6,
     "metadata": {},
     "output_type": "execute_result"
    }
   ],
   "source": [
    "df.head(10)"
   ]
  },
  {
   "cell_type": "markdown",
   "metadata": {},
   "source": [
    "Прекрасно, данные потеряны не были."
   ]
  },
  {
   "cell_type": "markdown",
   "metadata": {},
   "source": [
    "Видим в данных большее количество пропусков, и столбцы, где стоит изменить тип данных. Приступим."
   ]
  },
  {
   "cell_type": "markdown",
   "metadata": {
    "id": "KLDGpPG0gFyM"
   },
   "source": [
    "### Шаг 2. Предобработка данных"
   ]
  },
  {
   "cell_type": "code",
   "execution_count": 7,
   "metadata": {
    "id": "kVGSplJOgFyO"
   },
   "outputs": [],
   "source": [
    "df['show_start_date'] = pd.to_datetime(df['show_start_date'], format='%Y-%m-%dT%H')\n",
    "df['ratings'] = pd.to_numeric(df['ratings'], errors='coerce')#приведем значение рейтинга к числовому типу"
   ]
  },
  {
   "cell_type": "code",
   "execution_count": 8,
   "metadata": {
    "id": "8MJD_lkngFyP"
   },
   "outputs": [],
   "source": [
    "df = df.dropna(subset=['puNumber'])"
   ]
  },
  {
   "cell_type": "markdown",
   "metadata": {},
   "source": [
    "Мы можем заполнить пропуски в *ratings*, и всеми столбцами связанными с бюджетом и государственной поддержкой, однако я не стал это делать, т.к. заполнять средним или медианой их не совсем правильно."
   ]
  },
  {
   "cell_type": "code",
   "execution_count": 9,
   "metadata": {
    "id": "aKck8RIdgFyQ"
   },
   "outputs": [
    {
     "data": {
      "text/plain": [
       "0"
      ]
     },
     "execution_count": 9,
     "metadata": {},
     "output_type": "execute_result"
    }
   ],
   "source": [
    "df.duplicated().sum()#проверяем на явные дубликаты"
   ]
  },
  {
   "cell_type": "markdown",
   "metadata": {},
   "source": [
    "Первично оценивая данные мы видели дубликаты в них, однако видно, что даты в строках различаются, проверим как у них различаюются кассовые сборы."
   ]
  },
  {
   "cell_type": "code",
   "execution_count": 10,
   "metadata": {},
   "outputs": [
    {
     "data": {
      "text/html": [
       "<div>\n",
       "<style scoped>\n",
       "    .dataframe tbody tr th:only-of-type {\n",
       "        vertical-align: middle;\n",
       "    }\n",
       "\n",
       "    .dataframe tbody tr th {\n",
       "        vertical-align: top;\n",
       "    }\n",
       "\n",
       "    .dataframe thead th {\n",
       "        text-align: right;\n",
       "    }\n",
       "</style>\n",
       "<table border=\"1\" class=\"dataframe\">\n",
       "  <thead>\n",
       "    <tr style=\"text-align: right;\">\n",
       "      <th></th>\n",
       "      <th>title</th>\n",
       "      <th>puNumber</th>\n",
       "      <th>show_start_date</th>\n",
       "      <th>type</th>\n",
       "      <th>film_studio</th>\n",
       "      <th>production_country</th>\n",
       "      <th>director</th>\n",
       "      <th>producer</th>\n",
       "      <th>age_restriction</th>\n",
       "      <th>refundable_support</th>\n",
       "      <th>nonrefundable_support</th>\n",
       "      <th>budget</th>\n",
       "      <th>financing_source</th>\n",
       "      <th>ratings</th>\n",
       "      <th>genres</th>\n",
       "      <th>box_office</th>\n",
       "    </tr>\n",
       "  </thead>\n",
       "  <tbody>\n",
       "    <tr>\n",
       "      <th>6</th>\n",
       "      <td>Любовь и голуби</td>\n",
       "      <td>111007013.0</td>\n",
       "      <td>2013-10-18 12:00:00+00:00</td>\n",
       "      <td>Художественный</td>\n",
       "      <td>Киностудия \"Мосфильм\"</td>\n",
       "      <td>СССР</td>\n",
       "      <td>В.Меньшов</td>\n",
       "      <td>NaN</td>\n",
       "      <td>«12+» - для детей старше 12 лет</td>\n",
       "      <td>NaN</td>\n",
       "      <td>NaN</td>\n",
       "      <td>NaN</td>\n",
       "      <td>NaN</td>\n",
       "      <td>8.3</td>\n",
       "      <td>мелодрама,комедия</td>\n",
       "      <td>2700.0</td>\n",
       "    </tr>\n",
       "    <tr>\n",
       "      <th>18</th>\n",
       "      <td>Неподдающиеся</td>\n",
       "      <td>111003616.0</td>\n",
       "      <td>2016-02-12 12:00:00+00:00</td>\n",
       "      <td>Художественный</td>\n",
       "      <td>Киностудия \"Мосфильм\"</td>\n",
       "      <td>СССР</td>\n",
       "      <td>Ю.Чулюкин</td>\n",
       "      <td>NaN</td>\n",
       "      <td>«6+» - для детей старше 6 лет</td>\n",
       "      <td>NaN</td>\n",
       "      <td>NaN</td>\n",
       "      <td>NaN</td>\n",
       "      <td>NaN</td>\n",
       "      <td>8.0</td>\n",
       "      <td>мелодрама,комедия</td>\n",
       "      <td>360.0</td>\n",
       "    </tr>\n",
       "    <tr>\n",
       "      <th>19</th>\n",
       "      <td>Неподсуден</td>\n",
       "      <td>111003716.0</td>\n",
       "      <td>2016-02-12 12:00:00+00:00</td>\n",
       "      <td>Художественный</td>\n",
       "      <td>Киностудия \"Мосфильм\"</td>\n",
       "      <td>СССР</td>\n",
       "      <td>В.Краснопольский, В.Усков</td>\n",
       "      <td>NaN</td>\n",
       "      <td>«6+» - для детей старше 6 лет</td>\n",
       "      <td>NaN</td>\n",
       "      <td>NaN</td>\n",
       "      <td>NaN</td>\n",
       "      <td>NaN</td>\n",
       "      <td>7.7</td>\n",
       "      <td>драма</td>\n",
       "      <td>420.0</td>\n",
       "    </tr>\n",
       "    <tr>\n",
       "      <th>22</th>\n",
       "      <td>Операция \"Ы\" и другие приключения Шурика</td>\n",
       "      <td>111007413.0</td>\n",
       "      <td>2013-10-18 12:00:00+00:00</td>\n",
       "      <td>Художественный</td>\n",
       "      <td>Киностудия \"Мосфильм\"</td>\n",
       "      <td>СССР</td>\n",
       "      <td>Л.Гайдай</td>\n",
       "      <td>NaN</td>\n",
       "      <td>«6+» - для детей старше 6 лет</td>\n",
       "      <td>NaN</td>\n",
       "      <td>NaN</td>\n",
       "      <td>NaN</td>\n",
       "      <td>NaN</td>\n",
       "      <td>8.7</td>\n",
       "      <td>комедия,мелодрама,криминал</td>\n",
       "      <td>380.0</td>\n",
       "    </tr>\n",
       "    <tr>\n",
       "      <th>38</th>\n",
       "      <td>Мужики!..</td>\n",
       "      <td>111007213.0</td>\n",
       "      <td>2013-10-18 12:00:00+00:00</td>\n",
       "      <td>Художественный</td>\n",
       "      <td>Киностудия \"Мосфильм\"</td>\n",
       "      <td>СССР</td>\n",
       "      <td>И.Бабич</td>\n",
       "      <td>NaN</td>\n",
       "      <td>«6+» - для детей старше 6 лет</td>\n",
       "      <td>NaN</td>\n",
       "      <td>NaN</td>\n",
       "      <td>NaN</td>\n",
       "      <td>NaN</td>\n",
       "      <td>8.1</td>\n",
       "      <td>драма</td>\n",
       "      <td>1165.0</td>\n",
       "    </tr>\n",
       "    <tr>\n",
       "      <th>47</th>\n",
       "      <td>Андрей Рублев.</td>\n",
       "      <td>111029814.0</td>\n",
       "      <td>2014-12-24 12:00:00+00:00</td>\n",
       "      <td>Художественный</td>\n",
       "      <td>Киностудия \"Мосфильм\"</td>\n",
       "      <td>СССР</td>\n",
       "      <td>А.Тарковский</td>\n",
       "      <td>NaN</td>\n",
       "      <td>«12+» - для детей старше 12 лет</td>\n",
       "      <td>NaN</td>\n",
       "      <td>NaN</td>\n",
       "      <td>NaN</td>\n",
       "      <td>NaN</td>\n",
       "      <td>8.2</td>\n",
       "      <td>драма,биография,история</td>\n",
       "      <td>22660.0</td>\n",
       "    </tr>\n",
       "    <tr>\n",
       "      <th>50</th>\n",
       "      <td>Асса</td>\n",
       "      <td>111005815.0</td>\n",
       "      <td>2015-04-23 12:00:00+00:00</td>\n",
       "      <td>Художественный</td>\n",
       "      <td>Киностудия \"Мосфильм\"</td>\n",
       "      <td>СССР</td>\n",
       "      <td>С.Соловьев</td>\n",
       "      <td>NaN</td>\n",
       "      <td>«16+» - для детей старше 16 лет</td>\n",
       "      <td>NaN</td>\n",
       "      <td>NaN</td>\n",
       "      <td>NaN</td>\n",
       "      <td>NaN</td>\n",
       "      <td>6.0</td>\n",
       "      <td>фэнтези,боевик</td>\n",
       "      <td>84720.0</td>\n",
       "    </tr>\n",
       "    <tr>\n",
       "      <th>52</th>\n",
       "      <td>Айболит - 66</td>\n",
       "      <td>111010513.0</td>\n",
       "      <td>2013-12-19 12:00:00+00:00</td>\n",
       "      <td>Художественный</td>\n",
       "      <td>Киностудия \"Мосфильм\"</td>\n",
       "      <td>СССР</td>\n",
       "      <td>Ролан Быков</td>\n",
       "      <td>NaN</td>\n",
       "      <td>«0+» - для любой зрительской аудитории</td>\n",
       "      <td>NaN</td>\n",
       "      <td>NaN</td>\n",
       "      <td>NaN</td>\n",
       "      <td>NaN</td>\n",
       "      <td>7.1</td>\n",
       "      <td>мюзикл,комедия,детский</td>\n",
       "      <td>1795.0</td>\n",
       "    </tr>\n",
       "    <tr>\n",
       "      <th>61</th>\n",
       "      <td>Американская дочь</td>\n",
       "      <td>111005515.0</td>\n",
       "      <td>2015-04-23 12:00:00+00:00</td>\n",
       "      <td>Художественный</td>\n",
       "      <td>АО \"Караван\", Компания \"Америкен Дистрибьюшн\",...</td>\n",
       "      <td>Россия, Казахстан, США</td>\n",
       "      <td>К.Шахназаров</td>\n",
       "      <td>NaN</td>\n",
       "      <td>«6+» - для детей старше 6 лет</td>\n",
       "      <td>NaN</td>\n",
       "      <td>NaN</td>\n",
       "      <td>NaN</td>\n",
       "      <td>NaN</td>\n",
       "      <td>7.0</td>\n",
       "      <td>драма,комедия</td>\n",
       "      <td>300.0</td>\n",
       "    </tr>\n",
       "    <tr>\n",
       "      <th>64</th>\n",
       "      <td>Аттестат зрелости</td>\n",
       "      <td>111005915.0</td>\n",
       "      <td>2015-04-23 12:00:00+00:00</td>\n",
       "      <td>Художественный</td>\n",
       "      <td>Киностудия \"Мосфильм\"</td>\n",
       "      <td>СССР</td>\n",
       "      <td>Т.Лукашевич</td>\n",
       "      <td>NaN</td>\n",
       "      <td>«12+» - для детей старше 12 лет</td>\n",
       "      <td>NaN</td>\n",
       "      <td>NaN</td>\n",
       "      <td>NaN</td>\n",
       "      <td>NaN</td>\n",
       "      <td>6.9</td>\n",
       "      <td>драма</td>\n",
       "      <td>67500.0</td>\n",
       "    </tr>\n",
       "  </tbody>\n",
       "</table>\n",
       "</div>"
      ],
      "text/plain": [
       "                                       title     puNumber  \\\n",
       "6                            Любовь и голуби  111007013.0   \n",
       "18                             Неподдающиеся  111003616.0   \n",
       "19                                Неподсуден  111003716.0   \n",
       "22  Операция \"Ы\" и другие приключения Шурика  111007413.0   \n",
       "38                                 Мужики!..  111007213.0   \n",
       "47                            Андрей Рублев.  111029814.0   \n",
       "50                                      Асса  111005815.0   \n",
       "52                              Айболит - 66  111010513.0   \n",
       "61                         Американская дочь  111005515.0   \n",
       "64                         Аттестат зрелости  111005915.0   \n",
       "\n",
       "             show_start_date            type  \\\n",
       "6  2013-10-18 12:00:00+00:00  Художественный   \n",
       "18 2016-02-12 12:00:00+00:00  Художественный   \n",
       "19 2016-02-12 12:00:00+00:00  Художественный   \n",
       "22 2013-10-18 12:00:00+00:00  Художественный   \n",
       "38 2013-10-18 12:00:00+00:00  Художественный   \n",
       "47 2014-12-24 12:00:00+00:00  Художественный   \n",
       "50 2015-04-23 12:00:00+00:00  Художественный   \n",
       "52 2013-12-19 12:00:00+00:00  Художественный   \n",
       "61 2015-04-23 12:00:00+00:00  Художественный   \n",
       "64 2015-04-23 12:00:00+00:00  Художественный   \n",
       "\n",
       "                                          film_studio      production_country  \\\n",
       "6                               Киностудия \"Мосфильм\"                    СССР   \n",
       "18                              Киностудия \"Мосфильм\"                    СССР   \n",
       "19                              Киностудия \"Мосфильм\"                    СССР   \n",
       "22                              Киностудия \"Мосфильм\"                    СССР   \n",
       "38                              Киностудия \"Мосфильм\"                    СССР   \n",
       "47                              Киностудия \"Мосфильм\"                    СССР   \n",
       "50                              Киностудия \"Мосфильм\"                    СССР   \n",
       "52                              Киностудия \"Мосфильм\"                    СССР   \n",
       "61  АО \"Караван\", Компания \"Америкен Дистрибьюшн\",...  Россия, Казахстан, США   \n",
       "64                              Киностудия \"Мосфильм\"                    СССР   \n",
       "\n",
       "                     director producer  \\\n",
       "6                   В.Меньшов      NaN   \n",
       "18                  Ю.Чулюкин      NaN   \n",
       "19  В.Краснопольский, В.Усков      NaN   \n",
       "22                   Л.Гайдай      NaN   \n",
       "38                    И.Бабич      NaN   \n",
       "47               А.Тарковский      NaN   \n",
       "50                 С.Соловьев      NaN   \n",
       "52                Ролан Быков      NaN   \n",
       "61               К.Шахназаров      NaN   \n",
       "64                Т.Лукашевич      NaN   \n",
       "\n",
       "                           age_restriction  refundable_support  \\\n",
       "6          «12+» - для детей старше 12 лет                 NaN   \n",
       "18           «6+» - для детей старше 6 лет                 NaN   \n",
       "19           «6+» - для детей старше 6 лет                 NaN   \n",
       "22           «6+» - для детей старше 6 лет                 NaN   \n",
       "38           «6+» - для детей старше 6 лет                 NaN   \n",
       "47         «12+» - для детей старше 12 лет                 NaN   \n",
       "50         «16+» - для детей старше 16 лет                 NaN   \n",
       "52  «0+» - для любой зрительской аудитории                 NaN   \n",
       "61           «6+» - для детей старше 6 лет                 NaN   \n",
       "64         «12+» - для детей старше 12 лет                 NaN   \n",
       "\n",
       "    nonrefundable_support  budget financing_source  ratings  \\\n",
       "6                     NaN     NaN              NaN      8.3   \n",
       "18                    NaN     NaN              NaN      8.0   \n",
       "19                    NaN     NaN              NaN      7.7   \n",
       "22                    NaN     NaN              NaN      8.7   \n",
       "38                    NaN     NaN              NaN      8.1   \n",
       "47                    NaN     NaN              NaN      8.2   \n",
       "50                    NaN     NaN              NaN      6.0   \n",
       "52                    NaN     NaN              NaN      7.1   \n",
       "61                    NaN     NaN              NaN      7.0   \n",
       "64                    NaN     NaN              NaN      6.9   \n",
       "\n",
       "                        genres  box_office  \n",
       "6            мелодрама,комедия      2700.0  \n",
       "18           мелодрама,комедия       360.0  \n",
       "19                       драма       420.0  \n",
       "22  комедия,мелодрама,криминал       380.0  \n",
       "38                       драма      1165.0  \n",
       "47     драма,биография,история     22660.0  \n",
       "50              фэнтези,боевик     84720.0  \n",
       "52      мюзикл,комедия,детский      1795.0  \n",
       "61               драма,комедия       300.0  \n",
       "64                       драма     67500.0  "
      ]
     },
     "metadata": {},
     "output_type": "display_data"
    },
    {
     "data": {
      "text/plain": [
       "Зверополис                                                     2\n",
       "Зверь                                                          2\n",
       "Лесной патруль                                                 2\n",
       "Арктика 3D                                                     2\n",
       "Гарри Поттер и Дары Смерти - Часть 1/По роману Дж.К.Ролинг/    2\n",
       "                                                              ..\n",
       "И грянул шторм                                                 1\n",
       "Альдабра: Путешествие по таинственному острову                 1\n",
       "Человек, который убил Дон Кихота                               1\n",
       "Мистер Олимпия                                                 1\n",
       "12 месяцев. Новая сказка                                       1\n",
       "Name: title, Length: 3128, dtype: int64"
      ]
     },
     "execution_count": 10,
     "metadata": {},
     "output_type": "execute_result"
    }
   ],
   "source": [
    "data = df.dropna(subset=['box_office'])\n",
    "display(data.head(10))\n",
    "data['title'].value_counts()"
   ]
  },
  {
   "cell_type": "code",
   "execution_count": 11,
   "metadata": {},
   "outputs": [
    {
     "data": {
      "text/html": [
       "<div>\n",
       "<style scoped>\n",
       "    .dataframe tbody tr th:only-of-type {\n",
       "        vertical-align: middle;\n",
       "    }\n",
       "\n",
       "    .dataframe tbody tr th {\n",
       "        vertical-align: top;\n",
       "    }\n",
       "\n",
       "    .dataframe thead th {\n",
       "        text-align: right;\n",
       "    }\n",
       "</style>\n",
       "<table border=\"1\" class=\"dataframe\">\n",
       "  <thead>\n",
       "    <tr style=\"text-align: right;\">\n",
       "      <th></th>\n",
       "      <th>title</th>\n",
       "      <th>puNumber</th>\n",
       "      <th>show_start_date</th>\n",
       "      <th>type</th>\n",
       "      <th>film_studio</th>\n",
       "      <th>production_country</th>\n",
       "      <th>director</th>\n",
       "      <th>producer</th>\n",
       "      <th>age_restriction</th>\n",
       "      <th>refundable_support</th>\n",
       "      <th>nonrefundable_support</th>\n",
       "      <th>budget</th>\n",
       "      <th>financing_source</th>\n",
       "      <th>ratings</th>\n",
       "      <th>genres</th>\n",
       "      <th>box_office</th>\n",
       "    </tr>\n",
       "  </thead>\n",
       "  <tbody>\n",
       "    <tr>\n",
       "      <th>1033</th>\n",
       "      <td>Монстры на острове</td>\n",
       "      <td>124000413.0</td>\n",
       "      <td>2013-02-21 12:00:00+00:00</td>\n",
       "      <td>Анимационный</td>\n",
       "      <td>Аби Шуи, Хакайдо Медиа Партнерс, Джи Дрим, Роб...</td>\n",
       "      <td>Япония - Канада</td>\n",
       "      <td>Такаши Ямадзаки</td>\n",
       "      <td>Генки Хавамура</td>\n",
       "      <td>«0+» - для любой зрительской аудитории</td>\n",
       "      <td>NaN</td>\n",
       "      <td>NaN</td>\n",
       "      <td>NaN</td>\n",
       "      <td>NaN</td>\n",
       "      <td>7.1</td>\n",
       "      <td>мультфильм,фэнтези,приключения</td>\n",
       "      <td>3780.0</td>\n",
       "    </tr>\n",
       "    <tr>\n",
       "      <th>1034</th>\n",
       "      <td>Монстры на острове</td>\n",
       "      <td>124002515.0</td>\n",
       "      <td>2015-06-25 12:00:00+00:00</td>\n",
       "      <td>Анимационный</td>\n",
       "      <td>Аби Шуи, Хакайдо Медиа Партнерс, Джи Дрим, Роб...</td>\n",
       "      <td>Япония - Канада</td>\n",
       "      <td>Такаши Ямадзаки</td>\n",
       "      <td>Генки Хавамура</td>\n",
       "      <td>«0+» - для любой зрительской аудитории</td>\n",
       "      <td>NaN</td>\n",
       "      <td>NaN</td>\n",
       "      <td>NaN</td>\n",
       "      <td>NaN</td>\n",
       "      <td>7.1</td>\n",
       "      <td>мультфильм,фэнтези,приключения</td>\n",
       "      <td>120.0</td>\n",
       "    </tr>\n",
       "  </tbody>\n",
       "</table>\n",
       "</div>"
      ],
      "text/plain": [
       "                   title     puNumber           show_start_date          type  \\\n",
       "1033  Монстры на острове  124000413.0 2013-02-21 12:00:00+00:00  Анимационный   \n",
       "1034  Монстры на острове  124002515.0 2015-06-25 12:00:00+00:00  Анимационный   \n",
       "\n",
       "                                            film_studio production_country  \\\n",
       "1033  Аби Шуи, Хакайдо Медиа Партнерс, Джи Дрим, Роб...    Япония - Канада   \n",
       "1034  Аби Шуи, Хакайдо Медиа Партнерс, Джи Дрим, Роб...    Япония - Канада   \n",
       "\n",
       "             director        producer                         age_restriction  \\\n",
       "1033  Такаши Ямадзаки  Генки Хавамура  «0+» - для любой зрительской аудитории   \n",
       "1034  Такаши Ямадзаки  Генки Хавамура  «0+» - для любой зрительской аудитории   \n",
       "\n",
       "      refundable_support  nonrefundable_support  budget financing_source  \\\n",
       "1033                 NaN                    NaN     NaN              NaN   \n",
       "1034                 NaN                    NaN     NaN              NaN   \n",
       "\n",
       "      ratings                          genres  box_office  \n",
       "1033      7.1  мультфильм,фэнтези,приключения      3780.0  \n",
       "1034      7.1  мультфильм,фэнтези,приключения       120.0  "
      ]
     },
     "execution_count": 11,
     "metadata": {},
     "output_type": "execute_result"
    }
   ],
   "source": [
    "data[data['title']=='Монстры на острове']"
   ]
  },
  {
   "cell_type": "markdown",
   "metadata": {},
   "source": [
    "Видим, что кассовые сборы отличаются, поэтому будет не совсем правильно избавляться от таких дубликатов."
   ]
  },
  {
   "cell_type": "code",
   "execution_count": 12,
   "metadata": {
    "id": "PnXKIVdFgFyR"
   },
   "outputs": [
    {
     "data": {
      "text/plain": [
       "Художественный                4519\n",
       " Художественный               1389\n",
       "Анимационный                   828\n",
       "Прочие                         406\n",
       "Документальный                 288\n",
       "Научно-популярный               53\n",
       " Анимационный                    1\n",
       "Музыкально-развлекательный       1\n",
       "Name: type, dtype: int64"
      ]
     },
     "metadata": {},
     "output_type": "display_data"
    }
   ],
   "source": [
    "display(df['type'].value_counts())\n",
    "df['type'] = df['type'].str.strip()"
   ]
  },
  {
   "cell_type": "code",
   "execution_count": 13,
   "metadata": {},
   "outputs": [
    {
     "data": {
      "text/plain": [
       "драма                           476\n",
       "комедия                         352\n",
       "мелодрама,комедия               222\n",
       "драма,мелодрама,комедия         189\n",
       "драма,мелодрама                 183\n",
       "                               ... \n",
       "комедия,драма,семейный            1\n",
       "боевик,приключения,история        1\n",
       "фэнтези,боевик,криминал           1\n",
       "семейный,приключения,военный      1\n",
       "приключения,фэнтези,семейный      1\n",
       "Name: genres, Length: 742, dtype: int64"
      ]
     },
     "metadata": {},
     "output_type": "display_data"
    }
   ],
   "source": [
    "display(df['genres'].value_counts())"
   ]
  },
  {
   "cell_type": "code",
   "execution_count": 14,
   "metadata": {},
   "outputs": [
    {
     "data": {
      "text/plain": [
       "США                                                                     2172\n",
       "Россия                                                                  1820\n",
       "СССР                                                                     347\n",
       "Франция                                                                  301\n",
       "Великобритания                                                           257\n",
       "                                                                        ... \n",
       "Швеция - Германия - Франция - Норвегия                                     1\n",
       "Великобритания-Германия-Канада-ЮАР                                         1\n",
       "США - Великобритания - Германия - Новая Зеландия - Бельгия - Франция       1\n",
       "Ирландия - США                                                             1\n",
       "Великобритания - Ирландия - США                                            1\n",
       "Name: production_country, Length: 950, dtype: int64"
      ]
     },
     "metadata": {},
     "output_type": "display_data"
    }
   ],
   "source": [
    "display(df['production_country'].value_counts())"
   ]
  },
  {
   "cell_type": "markdown",
   "metadata": {},
   "source": [
    "В большинстве столбцов с категоральными переменными встречается одна и та же проблема - различное форматирование."
   ]
  },
  {
   "cell_type": "code",
   "execution_count": 15,
   "metadata": {
    "id": "YbzClBxagFyS",
    "scrolled": true
   },
   "outputs": [
    {
     "data": {
      "text/html": [
       "<div>\n",
       "<style scoped>\n",
       "    .dataframe tbody tr th:only-of-type {\n",
       "        vertical-align: middle;\n",
       "    }\n",
       "\n",
       "    .dataframe tbody tr th {\n",
       "        vertical-align: top;\n",
       "    }\n",
       "\n",
       "    .dataframe thead th {\n",
       "        text-align: right;\n",
       "    }\n",
       "</style>\n",
       "<table border=\"1\" class=\"dataframe\">\n",
       "  <thead>\n",
       "    <tr style=\"text-align: right;\">\n",
       "      <th></th>\n",
       "      <th>refundable_support</th>\n",
       "      <th>nonrefundable_support</th>\n",
       "      <th>budget</th>\n",
       "    </tr>\n",
       "  </thead>\n",
       "  <tbody>\n",
       "    <tr>\n",
       "      <th>1281</th>\n",
       "      <td>0.0</td>\n",
       "      <td>26500000.0</td>\n",
       "      <td>79411900.0</td>\n",
       "    </tr>\n",
       "    <tr>\n",
       "      <th>1448</th>\n",
       "      <td>0.0</td>\n",
       "      <td>26000000.0</td>\n",
       "      <td>37142857.0</td>\n",
       "    </tr>\n",
       "    <tr>\n",
       "      <th>1498</th>\n",
       "      <td>0.0</td>\n",
       "      <td>107847945.0</td>\n",
       "      <td>176023490.0</td>\n",
       "    </tr>\n",
       "    <tr>\n",
       "      <th>1524</th>\n",
       "      <td>0.0</td>\n",
       "      <td>28000000.0</td>\n",
       "      <td>40574140.0</td>\n",
       "    </tr>\n",
       "    <tr>\n",
       "      <th>1792</th>\n",
       "      <td>0.0</td>\n",
       "      <td>25000000.0</td>\n",
       "      <td>40015122.0</td>\n",
       "    </tr>\n",
       "    <tr>\n",
       "      <th>1854</th>\n",
       "      <td>0.0</td>\n",
       "      <td>25000000.0</td>\n",
       "      <td>51850000.0</td>\n",
       "    </tr>\n",
       "    <tr>\n",
       "      <th>1870</th>\n",
       "      <td>50000000.0</td>\n",
       "      <td>100000000.0</td>\n",
       "      <td>220588394.0</td>\n",
       "    </tr>\n",
       "    <tr>\n",
       "      <th>1871</th>\n",
       "      <td>0.0</td>\n",
       "      <td>46502299.0</td>\n",
       "      <td>86210067.0</td>\n",
       "    </tr>\n",
       "    <tr>\n",
       "      <th>1903</th>\n",
       "      <td>0.0</td>\n",
       "      <td>75000000.0</td>\n",
       "      <td>139551503.0</td>\n",
       "    </tr>\n",
       "    <tr>\n",
       "      <th>1912</th>\n",
       "      <td>0.0</td>\n",
       "      <td>34000000.0</td>\n",
       "      <td>48571430.0</td>\n",
       "    </tr>\n",
       "  </tbody>\n",
       "</table>\n",
       "</div>"
      ],
      "text/plain": [
       "      refundable_support  nonrefundable_support       budget\n",
       "1281                 0.0             26500000.0   79411900.0\n",
       "1448                 0.0             26000000.0   37142857.0\n",
       "1498                 0.0            107847945.0  176023490.0\n",
       "1524                 0.0             28000000.0   40574140.0\n",
       "1792                 0.0             25000000.0   40015122.0\n",
       "1854                 0.0             25000000.0   51850000.0\n",
       "1870          50000000.0            100000000.0  220588394.0\n",
       "1871                 0.0             46502299.0   86210067.0\n",
       "1903                 0.0             75000000.0  139551503.0\n",
       "1912                 0.0             34000000.0   48571430.0"
      ]
     },
     "execution_count": 15,
     "metadata": {},
     "output_type": "execute_result"
    }
   ],
   "source": [
    "df.loc[~(df['budget'].isna()),['refundable_support','nonrefundable_support','budget']].head(10)"
   ]
  },
  {
   "cell_type": "markdown",
   "metadata": {},
   "source": [
    "Видим, что в некоторых строках отсутствуют значения бюджета, хотя указано значение гос. помощи. Заполним такие пропуски, суммарным значение гос. помощи."
   ]
  },
  {
   "cell_type": "code",
   "execution_count": 16,
   "metadata": {},
   "outputs": [],
   "source": [
    "def budget_applyer(row):\n",
    "    budget = row['budget']\n",
    "    support = row['nonrefundable_support'] + row['refundable_support']\n",
    "    if budget == 0:\n",
    "        return support\n",
    "    return budget"
   ]
  },
  {
   "cell_type": "code",
   "execution_count": 17,
   "metadata": {},
   "outputs": [],
   "source": [
    "df['budget'] = df.apply(budget_applyer, axis = 1)"
   ]
  },
  {
   "cell_type": "code",
   "execution_count": 18,
   "metadata": {
    "scrolled": true
   },
   "outputs": [
    {
     "data": {
      "text/html": [
       "<div>\n",
       "<style scoped>\n",
       "    .dataframe tbody tr th:only-of-type {\n",
       "        vertical-align: middle;\n",
       "    }\n",
       "\n",
       "    .dataframe tbody tr th {\n",
       "        vertical-align: top;\n",
       "    }\n",
       "\n",
       "    .dataframe thead th {\n",
       "        text-align: right;\n",
       "    }\n",
       "</style>\n",
       "<table border=\"1\" class=\"dataframe\">\n",
       "  <thead>\n",
       "    <tr style=\"text-align: right;\">\n",
       "      <th></th>\n",
       "      <th>refundable_support</th>\n",
       "      <th>nonrefundable_support</th>\n",
       "      <th>budget</th>\n",
       "    </tr>\n",
       "  </thead>\n",
       "  <tbody>\n",
       "    <tr>\n",
       "      <th>1281</th>\n",
       "      <td>0.0</td>\n",
       "      <td>26500000.0</td>\n",
       "      <td>79411900.0</td>\n",
       "    </tr>\n",
       "    <tr>\n",
       "      <th>1448</th>\n",
       "      <td>0.0</td>\n",
       "      <td>26000000.0</td>\n",
       "      <td>37142857.0</td>\n",
       "    </tr>\n",
       "    <tr>\n",
       "      <th>1498</th>\n",
       "      <td>0.0</td>\n",
       "      <td>107847945.0</td>\n",
       "      <td>176023490.0</td>\n",
       "    </tr>\n",
       "    <tr>\n",
       "      <th>1524</th>\n",
       "      <td>0.0</td>\n",
       "      <td>28000000.0</td>\n",
       "      <td>40574140.0</td>\n",
       "    </tr>\n",
       "    <tr>\n",
       "      <th>1792</th>\n",
       "      <td>0.0</td>\n",
       "      <td>25000000.0</td>\n",
       "      <td>40015122.0</td>\n",
       "    </tr>\n",
       "    <tr>\n",
       "      <th>1854</th>\n",
       "      <td>0.0</td>\n",
       "      <td>25000000.0</td>\n",
       "      <td>51850000.0</td>\n",
       "    </tr>\n",
       "    <tr>\n",
       "      <th>1870</th>\n",
       "      <td>50000000.0</td>\n",
       "      <td>100000000.0</td>\n",
       "      <td>220588394.0</td>\n",
       "    </tr>\n",
       "    <tr>\n",
       "      <th>1871</th>\n",
       "      <td>0.0</td>\n",
       "      <td>46502299.0</td>\n",
       "      <td>86210067.0</td>\n",
       "    </tr>\n",
       "    <tr>\n",
       "      <th>1903</th>\n",
       "      <td>0.0</td>\n",
       "      <td>75000000.0</td>\n",
       "      <td>139551503.0</td>\n",
       "    </tr>\n",
       "    <tr>\n",
       "      <th>1912</th>\n",
       "      <td>0.0</td>\n",
       "      <td>34000000.0</td>\n",
       "      <td>48571430.0</td>\n",
       "    </tr>\n",
       "  </tbody>\n",
       "</table>\n",
       "</div>"
      ],
      "text/plain": [
       "      refundable_support  nonrefundable_support       budget\n",
       "1281                 0.0             26500000.0   79411900.0\n",
       "1448                 0.0             26000000.0   37142857.0\n",
       "1498                 0.0            107847945.0  176023490.0\n",
       "1524                 0.0             28000000.0   40574140.0\n",
       "1792                 0.0             25000000.0   40015122.0\n",
       "1854                 0.0             25000000.0   51850000.0\n",
       "1870          50000000.0            100000000.0  220588394.0\n",
       "1871                 0.0             46502299.0   86210067.0\n",
       "1903                 0.0             75000000.0  139551503.0\n",
       "1912                 0.0             34000000.0   48571430.0"
      ]
     },
     "execution_count": 18,
     "metadata": {},
     "output_type": "execute_result"
    }
   ],
   "source": [
    "df.loc[~(df['budget'].isna()),['refundable_support','nonrefundable_support','budget']].head(10)"
   ]
  },
  {
   "cell_type": "code",
   "execution_count": 19,
   "metadata": {
    "id": "I-yd1DkWgFyT"
   },
   "outputs": [],
   "source": [
    "df['year'] = pd.DatetimeIndex(df['show_start_date']).year"
   ]
  },
  {
   "cell_type": "code",
   "execution_count": 20,
   "metadata": {
    "id": "LSbRZKbMgFyU"
   },
   "outputs": [],
   "source": [
    "def first_of(list_of_directors):\n",
    "    return str(list_of_directors).split(',')[0]"
   ]
  },
  {
   "cell_type": "code",
   "execution_count": 21,
   "metadata": {},
   "outputs": [],
   "source": [
    "df['main_director'] = df['director'].apply(first_of)\n",
    "df['main_genre'] = df['genres'].apply(first_of)"
   ]
  },
  {
   "cell_type": "markdown",
   "metadata": {
    "id": "1FsCXHwdgFyU"
   },
   "source": [
    "- Посчитайте, какую долю от общего бюджета фильма составляет государственная поддержка."
   ]
  },
  {
   "cell_type": "code",
   "execution_count": 22,
   "metadata": {
    "id": "LV6qFuZLgFyV"
   },
   "outputs": [
    {
     "data": {
      "text/html": [
       "<div>\n",
       "<style scoped>\n",
       "    .dataframe tbody tr th:only-of-type {\n",
       "        vertical-align: middle;\n",
       "    }\n",
       "\n",
       "    .dataframe tbody tr th {\n",
       "        vertical-align: top;\n",
       "    }\n",
       "\n",
       "    .dataframe thead th {\n",
       "        text-align: right;\n",
       "    }\n",
       "</style>\n",
       "<table border=\"1\" class=\"dataframe\">\n",
       "  <thead>\n",
       "    <tr style=\"text-align: right;\">\n",
       "      <th></th>\n",
       "      <th>title</th>\n",
       "      <th>puNumber</th>\n",
       "      <th>show_start_date</th>\n",
       "      <th>type</th>\n",
       "      <th>film_studio</th>\n",
       "      <th>production_country</th>\n",
       "      <th>director</th>\n",
       "      <th>producer</th>\n",
       "      <th>age_restriction</th>\n",
       "      <th>refundable_support</th>\n",
       "      <th>nonrefundable_support</th>\n",
       "      <th>budget</th>\n",
       "      <th>financing_source</th>\n",
       "      <th>ratings</th>\n",
       "      <th>genres</th>\n",
       "      <th>box_office</th>\n",
       "      <th>year</th>\n",
       "      <th>main_director</th>\n",
       "      <th>main_genre</th>\n",
       "      <th>budget_part</th>\n",
       "    </tr>\n",
       "  </thead>\n",
       "  <tbody>\n",
       "    <tr>\n",
       "      <th>1281</th>\n",
       "      <td>Пока еще жива</td>\n",
       "      <td>111005313.0</td>\n",
       "      <td>2013-10-11 12:00:00+00:00</td>\n",
       "      <td>Художественный</td>\n",
       "      <td>АНО содействия развитию кинематографии \"Ангел-...</td>\n",
       "      <td>Россия</td>\n",
       "      <td>А.Атанесян</td>\n",
       "      <td>А.Атанесян, М.Бабаханов, Р.Бутко</td>\n",
       "      <td>«16+» - для детей старше 16 лет</td>\n",
       "      <td>0.0</td>\n",
       "      <td>26500000.0</td>\n",
       "      <td>79411900.0</td>\n",
       "      <td>Министерство культуры</td>\n",
       "      <td>8.1</td>\n",
       "      <td>драма,мелодрама</td>\n",
       "      <td>3.653536e+05</td>\n",
       "      <td>2013</td>\n",
       "      <td>А.Атанесян</td>\n",
       "      <td>драма</td>\n",
       "      <td>33.4</td>\n",
       "    </tr>\n",
       "    <tr>\n",
       "      <th>1448</th>\n",
       "      <td>Бесславные придурки</td>\n",
       "      <td>111003314.0</td>\n",
       "      <td>2014-03-28 12:00:00+00:00</td>\n",
       "      <td>Художественный</td>\n",
       "      <td>ООО \"Компания \"АТК-Студио\"</td>\n",
       "      <td>Россия</td>\n",
       "      <td>А.Якимчук</td>\n",
       "      <td>А.Тютрюмов</td>\n",
       "      <td>«12+» - для детей старше 12 лет</td>\n",
       "      <td>0.0</td>\n",
       "      <td>26000000.0</td>\n",
       "      <td>37142857.0</td>\n",
       "      <td>Министерство культуры</td>\n",
       "      <td>NaN</td>\n",
       "      <td>NaN</td>\n",
       "      <td>2.814000e+04</td>\n",
       "      <td>2014</td>\n",
       "      <td>А.Якимчук</td>\n",
       "      <td>nan</td>\n",
       "      <td>70.0</td>\n",
       "    </tr>\n",
       "    <tr>\n",
       "      <th>1498</th>\n",
       "      <td>Невидимки</td>\n",
       "      <td>111004213.0</td>\n",
       "      <td>2013-09-10 12:00:00+00:00</td>\n",
       "      <td>Художественный</td>\n",
       "      <td>ООО \"Компания \"РЕАЛ-ДАКОТА\"</td>\n",
       "      <td>Россия</td>\n",
       "      <td>Р.Давлетьяров, С.Комаров</td>\n",
       "      <td>Р.Давлетьяров, А.Котелевский, А.Олейников</td>\n",
       "      <td>«12+» - для детей старше 12 лет</td>\n",
       "      <td>0.0</td>\n",
       "      <td>107847945.0</td>\n",
       "      <td>176023490.0</td>\n",
       "      <td>Фонд кино</td>\n",
       "      <td>5.3</td>\n",
       "      <td>комедия,фантастика</td>\n",
       "      <td>1.995703e+07</td>\n",
       "      <td>2013</td>\n",
       "      <td>Р.Давлетьяров</td>\n",
       "      <td>комедия</td>\n",
       "      <td>61.3</td>\n",
       "    </tr>\n",
       "    <tr>\n",
       "      <th>1524</th>\n",
       "      <td>БЕРЦЫ</td>\n",
       "      <td>111004314.0</td>\n",
       "      <td>2014-05-05 12:00:00+00:00</td>\n",
       "      <td>Художественный</td>\n",
       "      <td>ООО \"Студия \"Пассажир\"</td>\n",
       "      <td>Россия</td>\n",
       "      <td>Е.Миндадзе (псевдоним Катя Шагалова)</td>\n",
       "      <td>Л.Антонова</td>\n",
       "      <td>«16+» - для детей старше 16 лет</td>\n",
       "      <td>0.0</td>\n",
       "      <td>28000000.0</td>\n",
       "      <td>40574140.0</td>\n",
       "      <td>Министерство культуры</td>\n",
       "      <td>4.2</td>\n",
       "      <td>драма</td>\n",
       "      <td>5.591750e+04</td>\n",
       "      <td>2014</td>\n",
       "      <td>Е.Миндадзе (псевдоним Катя Шагалова)</td>\n",
       "      <td>драма</td>\n",
       "      <td>69.0</td>\n",
       "    </tr>\n",
       "    <tr>\n",
       "      <th>1792</th>\n",
       "      <td>Братья Ч</td>\n",
       "      <td>111004414.0</td>\n",
       "      <td>2014-04-23 12:00:00+00:00</td>\n",
       "      <td>Художественный</td>\n",
       "      <td>ООО \"Студия \"Пассажир\"</td>\n",
       "      <td>Россия</td>\n",
       "      <td>М.Угаров</td>\n",
       "      <td>А.Миндадзе, Л.Антонова</td>\n",
       "      <td>«16+» - для детей старше 16 лет</td>\n",
       "      <td>0.0</td>\n",
       "      <td>25000000.0</td>\n",
       "      <td>40015122.0</td>\n",
       "      <td>Министерство культуры</td>\n",
       "      <td>6.4</td>\n",
       "      <td>драма</td>\n",
       "      <td>2.321000e+05</td>\n",
       "      <td>2014</td>\n",
       "      <td>М.Угаров</td>\n",
       "      <td>драма</td>\n",
       "      <td>62.5</td>\n",
       "    </tr>\n",
       "    <tr>\n",
       "      <th>...</th>\n",
       "      <td>...</td>\n",
       "      <td>...</td>\n",
       "      <td>...</td>\n",
       "      <td>...</td>\n",
       "      <td>...</td>\n",
       "      <td>...</td>\n",
       "      <td>...</td>\n",
       "      <td>...</td>\n",
       "      <td>...</td>\n",
       "      <td>...</td>\n",
       "      <td>...</td>\n",
       "      <td>...</td>\n",
       "      <td>...</td>\n",
       "      <td>...</td>\n",
       "      <td>...</td>\n",
       "      <td>...</td>\n",
       "      <td>...</td>\n",
       "      <td>...</td>\n",
       "      <td>...</td>\n",
       "      <td>...</td>\n",
       "    </tr>\n",
       "    <tr>\n",
       "      <th>7464</th>\n",
       "      <td>Союз спасения</td>\n",
       "      <td>111022019.0</td>\n",
       "      <td>2019-12-26 12:00:00+00:00</td>\n",
       "      <td>Художественный</td>\n",
       "      <td>ЗАО \"Дирекция кино\"</td>\n",
       "      <td>Россия</td>\n",
       "      <td>А.Кравчук</td>\n",
       "      <td>А.Максимов, К.Эрнст</td>\n",
       "      <td>«12+» - для детей старше 12 лет</td>\n",
       "      <td>100000000.0</td>\n",
       "      <td>400000000.0</td>\n",
       "      <td>980000000.0</td>\n",
       "      <td>Фонд кино</td>\n",
       "      <td>6.0</td>\n",
       "      <td>история,биография,драма</td>\n",
       "      <td>7.177032e+08</td>\n",
       "      <td>2019</td>\n",
       "      <td>А.Кравчук</td>\n",
       "      <td>история</td>\n",
       "      <td>51.0</td>\n",
       "    </tr>\n",
       "    <tr>\n",
       "      <th>7466</th>\n",
       "      <td>Иван Царевич и Серый Волк 4</td>\n",
       "      <td>114005019.0</td>\n",
       "      <td>2019-12-20 12:00:00+00:00</td>\n",
       "      <td>Анимационный</td>\n",
       "      <td>ООО \"Студия анимационного кино \"Мельница\"</td>\n",
       "      <td>Россия</td>\n",
       "      <td>Д.Шмидт, К.Феоктистов</td>\n",
       "      <td>С.Сельянов, А.Боярский</td>\n",
       "      <td>«6+» - для детей старше 6 лет</td>\n",
       "      <td>100000000.0</td>\n",
       "      <td>0.0</td>\n",
       "      <td>190000000.0</td>\n",
       "      <td>Фонд кино</td>\n",
       "      <td>6.7</td>\n",
       "      <td>мультфильм,приключения,семейный</td>\n",
       "      <td>5.010692e+08</td>\n",
       "      <td>2019</td>\n",
       "      <td>Д.Шмидт</td>\n",
       "      <td>мультфильм</td>\n",
       "      <td>52.6</td>\n",
       "    </tr>\n",
       "    <tr>\n",
       "      <th>7474</th>\n",
       "      <td>Вторжение</td>\n",
       "      <td>111022519.0</td>\n",
       "      <td>2019-12-23 12:00:00+00:00</td>\n",
       "      <td>Художественный</td>\n",
       "      <td>ООО \"Арт Пикчерс Студия\", ООО \"Водород 2011\"</td>\n",
       "      <td>Россия</td>\n",
       "      <td>Ф.Бондарчук</td>\n",
       "      <td>Ф.Бондарчук, М.Врубель, А.Андрющенко, Д.Рудовский</td>\n",
       "      <td>«12+» - для детей старше 12 лет</td>\n",
       "      <td>100000000.0</td>\n",
       "      <td>400000000.0</td>\n",
       "      <td>944000000.0</td>\n",
       "      <td>Фонд кино</td>\n",
       "      <td>5.7</td>\n",
       "      <td>фантастика,боевик</td>\n",
       "      <td>NaN</td>\n",
       "      <td>2019</td>\n",
       "      <td>Ф.Бондарчук</td>\n",
       "      <td>фантастика</td>\n",
       "      <td>53.0</td>\n",
       "    </tr>\n",
       "    <tr>\n",
       "      <th>7476</th>\n",
       "      <td>Я свободен</td>\n",
       "      <td>111023019.0</td>\n",
       "      <td>2019-12-26 12:00:00+00:00</td>\n",
       "      <td>Художественный</td>\n",
       "      <td>АО \"ТПО \"Киностудия им. М.Горького\"</td>\n",
       "      <td>Россия</td>\n",
       "      <td>И.Северов</td>\n",
       "      <td>С.Зернов</td>\n",
       "      <td>«12+» - для детей старше 12 лет</td>\n",
       "      <td>0.0</td>\n",
       "      <td>30000000.0</td>\n",
       "      <td>46154000.0</td>\n",
       "      <td>Министерство культуры</td>\n",
       "      <td>5.9</td>\n",
       "      <td>драма</td>\n",
       "      <td>NaN</td>\n",
       "      <td>2019</td>\n",
       "      <td>И.Северов</td>\n",
       "      <td>драма</td>\n",
       "      <td>65.0</td>\n",
       "    </tr>\n",
       "    <tr>\n",
       "      <th>7478</th>\n",
       "      <td>(Не)идеальный мужчина</td>\n",
       "      <td>111023119.0</td>\n",
       "      <td>2019-12-24 12:00:00+00:00</td>\n",
       "      <td>Художественный</td>\n",
       "      <td>ООО \"Нон-Стоп Продакшн\"</td>\n",
       "      <td>Россия</td>\n",
       "      <td>М.Бальчюнас (псевдоним М.Вайсберг)</td>\n",
       "      <td>С.Мелькумов, А.Роднянский, М.Вайсберг, Р.Минас...</td>\n",
       "      <td>«12+» - для детей старше 12 лет</td>\n",
       "      <td>40000000.0</td>\n",
       "      <td>60000000.0</td>\n",
       "      <td>150147502.0</td>\n",
       "      <td>Фонд кино</td>\n",
       "      <td>4.5</td>\n",
       "      <td>комедия,фантастика,мелодрама</td>\n",
       "      <td>NaN</td>\n",
       "      <td>2019</td>\n",
       "      <td>М.Бальчюнас (псевдоним М.Вайсберг)</td>\n",
       "      <td>комедия</td>\n",
       "      <td>66.6</td>\n",
       "    </tr>\n",
       "  </tbody>\n",
       "</table>\n",
       "<p>332 rows × 20 columns</p>\n",
       "</div>"
      ],
      "text/plain": [
       "                            title     puNumber           show_start_date  \\\n",
       "1281                Пока еще жива  111005313.0 2013-10-11 12:00:00+00:00   \n",
       "1448          Бесславные придурки  111003314.0 2014-03-28 12:00:00+00:00   \n",
       "1498                    Невидимки  111004213.0 2013-09-10 12:00:00+00:00   \n",
       "1524                        БЕРЦЫ  111004314.0 2014-05-05 12:00:00+00:00   \n",
       "1792                     Братья Ч  111004414.0 2014-04-23 12:00:00+00:00   \n",
       "...                           ...          ...                       ...   \n",
       "7464                Союз спасения  111022019.0 2019-12-26 12:00:00+00:00   \n",
       "7466  Иван Царевич и Серый Волк 4  114005019.0 2019-12-20 12:00:00+00:00   \n",
       "7474                    Вторжение  111022519.0 2019-12-23 12:00:00+00:00   \n",
       "7476                   Я свободен  111023019.0 2019-12-26 12:00:00+00:00   \n",
       "7478        (Не)идеальный мужчина  111023119.0 2019-12-24 12:00:00+00:00   \n",
       "\n",
       "                type                                        film_studio  \\\n",
       "1281  Художественный  АНО содействия развитию кинематографии \"Ангел-...   \n",
       "1448  Художественный                         ООО \"Компания \"АТК-Студио\"   \n",
       "1498  Художественный                        ООО \"Компания \"РЕАЛ-ДАКОТА\"   \n",
       "1524  Художественный                             ООО \"Студия \"Пассажир\"   \n",
       "1792  Художественный                             ООО \"Студия \"Пассажир\"   \n",
       "...              ...                                                ...   \n",
       "7464  Художественный                                ЗАО \"Дирекция кино\"   \n",
       "7466    Анимационный          ООО \"Студия анимационного кино \"Мельница\"   \n",
       "7474  Художественный       ООО \"Арт Пикчерс Студия\", ООО \"Водород 2011\"   \n",
       "7476  Художественный                АО \"ТПО \"Киностудия им. М.Горького\"   \n",
       "7478  Художественный                           ООО \"Нон-Стоп Продакшн\"    \n",
       "\n",
       "     production_country                              director  \\\n",
       "1281             Россия                            А.Атанесян   \n",
       "1448             Россия                             А.Якимчук   \n",
       "1498             Россия              Р.Давлетьяров, С.Комаров   \n",
       "1524             Россия  Е.Миндадзе (псевдоним Катя Шагалова)   \n",
       "1792             Россия                              М.Угаров   \n",
       "...                 ...                                   ...   \n",
       "7464             Россия                             А.Кравчук   \n",
       "7466             Россия                 Д.Шмидт, К.Феоктистов   \n",
       "7474             Россия                           Ф.Бондарчук   \n",
       "7476             Россия                             И.Северов   \n",
       "7478             Россия    М.Бальчюнас (псевдоним М.Вайсберг)   \n",
       "\n",
       "                                               producer  \\\n",
       "1281                   А.Атанесян, М.Бабаханов, Р.Бутко   \n",
       "1448                                         А.Тютрюмов   \n",
       "1498          Р.Давлетьяров, А.Котелевский, А.Олейников   \n",
       "1524                                         Л.Антонова   \n",
       "1792                             А.Миндадзе, Л.Антонова   \n",
       "...                                                 ...   \n",
       "7464                                А.Максимов, К.Эрнст   \n",
       "7466                             С.Сельянов, А.Боярский   \n",
       "7474  Ф.Бондарчук, М.Врубель, А.Андрющенко, Д.Рудовский   \n",
       "7476                                           С.Зернов   \n",
       "7478  С.Мелькумов, А.Роднянский, М.Вайсберг, Р.Минас...   \n",
       "\n",
       "                      age_restriction  refundable_support  \\\n",
       "1281  «16+» - для детей старше 16 лет                 0.0   \n",
       "1448  «12+» - для детей старше 12 лет                 0.0   \n",
       "1498  «12+» - для детей старше 12 лет                 0.0   \n",
       "1524  «16+» - для детей старше 16 лет                 0.0   \n",
       "1792  «16+» - для детей старше 16 лет                 0.0   \n",
       "...                               ...                 ...   \n",
       "7464  «12+» - для детей старше 12 лет         100000000.0   \n",
       "7466    «6+» - для детей старше 6 лет         100000000.0   \n",
       "7474  «12+» - для детей старше 12 лет         100000000.0   \n",
       "7476  «12+» - для детей старше 12 лет                 0.0   \n",
       "7478  «12+» - для детей старше 12 лет          40000000.0   \n",
       "\n",
       "      nonrefundable_support       budget       financing_source  ratings  \\\n",
       "1281             26500000.0   79411900.0  Министерство культуры      8.1   \n",
       "1448             26000000.0   37142857.0  Министерство культуры      NaN   \n",
       "1498            107847945.0  176023490.0              Фонд кино      5.3   \n",
       "1524             28000000.0   40574140.0  Министерство культуры      4.2   \n",
       "1792             25000000.0   40015122.0  Министерство культуры      6.4   \n",
       "...                     ...          ...                    ...      ...   \n",
       "7464            400000000.0  980000000.0              Фонд кино      6.0   \n",
       "7466                    0.0  190000000.0              Фонд кино      6.7   \n",
       "7474            400000000.0  944000000.0              Фонд кино      5.7   \n",
       "7476             30000000.0   46154000.0  Министерство культуры      5.9   \n",
       "7478             60000000.0  150147502.0              Фонд кино      4.5   \n",
       "\n",
       "                               genres    box_office  year  \\\n",
       "1281                  драма,мелодрама  3.653536e+05  2013   \n",
       "1448                              NaN  2.814000e+04  2014   \n",
       "1498               комедия,фантастика  1.995703e+07  2013   \n",
       "1524                            драма  5.591750e+04  2014   \n",
       "1792                            драма  2.321000e+05  2014   \n",
       "...                               ...           ...   ...   \n",
       "7464          история,биография,драма  7.177032e+08  2019   \n",
       "7466  мультфильм,приключения,семейный  5.010692e+08  2019   \n",
       "7474                фантастика,боевик           NaN  2019   \n",
       "7476                            драма           NaN  2019   \n",
       "7478     комедия,фантастика,мелодрама           NaN  2019   \n",
       "\n",
       "                             main_director  main_genre  budget_part  \n",
       "1281                            А.Атанесян       драма         33.4  \n",
       "1448                             А.Якимчук         nan         70.0  \n",
       "1498                         Р.Давлетьяров     комедия         61.3  \n",
       "1524  Е.Миндадзе (псевдоним Катя Шагалова)       драма         69.0  \n",
       "1792                              М.Угаров       драма         62.5  \n",
       "...                                    ...         ...          ...  \n",
       "7464                             А.Кравчук     история         51.0  \n",
       "7466                               Д.Шмидт  мультфильм         52.6  \n",
       "7474                           Ф.Бондарчук  фантастика         53.0  \n",
       "7476                             И.Северов       драма         65.0  \n",
       "7478    М.Бальчюнас (псевдоним М.Вайсберг)     комедия         66.6  \n",
       "\n",
       "[332 rows x 20 columns]"
      ]
     },
     "execution_count": 22,
     "metadata": {},
     "output_type": "execute_result"
    }
   ],
   "source": [
    "df['budget_part'] = round(((df['refundable_support'] + df['nonrefundable_support']) * 100/df['budget']), 1)\n",
    "df[~(df['budget_part'].isna())]"
   ]
  },
  {
   "cell_type": "markdown",
   "metadata": {
    "id": "6t4EukPLgFyV"
   },
   "source": [
    "### Шаг 3. Проведите исследовательский анализ данных\n"
   ]
  },
  {
   "cell_type": "markdown",
   "metadata": {
    "id": "vAH8WCzugFyV"
   },
   "source": [
    "- Посмотрим, сколько фильмов выходило в прокат каждый год. Обратим внимание, что данные о прокате в кинотеатрах известны не для всех фильмов. Посчитаем, какую долю составляют фильмы с указанной информацией о прокате в кинотеатрах."
   ]
  },
  {
   "cell_type": "code",
   "execution_count": 23,
   "metadata": {
    "id": "ABeV47y7gFyW",
    "scrolled": true
   },
   "outputs": [
    {
     "data": {
      "text/html": [
       "<div>\n",
       "<style scoped>\n",
       "    .dataframe tbody tr th:only-of-type {\n",
       "        vertical-align: middle;\n",
       "    }\n",
       "\n",
       "    .dataframe tbody tr th {\n",
       "        vertical-align: top;\n",
       "    }\n",
       "\n",
       "    .dataframe thead th {\n",
       "        text-align: right;\n",
       "    }\n",
       "</style>\n",
       "<table border=\"1\" class=\"dataframe\">\n",
       "  <thead>\n",
       "    <tr style=\"text-align: right;\">\n",
       "      <th></th>\n",
       "      <th>box_office</th>\n",
       "    </tr>\n",
       "    <tr>\n",
       "      <th>year</th>\n",
       "      <th></th>\n",
       "    </tr>\n",
       "  </thead>\n",
       "  <tbody>\n",
       "    <tr>\n",
       "      <th>2010</th>\n",
       "      <td>105</td>\n",
       "    </tr>\n",
       "    <tr>\n",
       "      <th>2011</th>\n",
       "      <td>109</td>\n",
       "    </tr>\n",
       "    <tr>\n",
       "      <th>2012</th>\n",
       "      <td>128</td>\n",
       "    </tr>\n",
       "    <tr>\n",
       "      <th>2013</th>\n",
       "      <td>184</td>\n",
       "    </tr>\n",
       "    <tr>\n",
       "      <th>2014</th>\n",
       "      <td>279</td>\n",
       "    </tr>\n",
       "    <tr>\n",
       "      <th>2015</th>\n",
       "      <td>465</td>\n",
       "    </tr>\n",
       "    <tr>\n",
       "      <th>2016</th>\n",
       "      <td>526</td>\n",
       "    </tr>\n",
       "    <tr>\n",
       "      <th>2017</th>\n",
       "      <td>357</td>\n",
       "    </tr>\n",
       "    <tr>\n",
       "      <th>2018</th>\n",
       "      <td>475</td>\n",
       "    </tr>\n",
       "    <tr>\n",
       "      <th>2019</th>\n",
       "      <td>530</td>\n",
       "    </tr>\n",
       "  </tbody>\n",
       "</table>\n",
       "</div>"
      ],
      "text/plain": [
       "      box_office\n",
       "year            \n",
       "2010         105\n",
       "2011         109\n",
       "2012         128\n",
       "2013         184\n",
       "2014         279\n",
       "2015         465\n",
       "2016         526\n",
       "2017         357\n",
       "2018         475\n",
       "2019         530"
      ]
     },
     "execution_count": 23,
     "metadata": {},
     "output_type": "execute_result"
    }
   ],
   "source": [
    "year_table = df.pivot_table(index='year', values='box_office', aggfunc='count')\n",
    "year_table"
   ]
  },
  {
   "cell_type": "markdown",
   "metadata": {},
   "source": [
    "Видим, что с 2010 года наблюдается тенденция к увеличению кол-ва фильмов в прокате."
   ]
  },
  {
   "cell_type": "code",
   "execution_count": 24,
   "metadata": {},
   "outputs": [
    {
     "data": {
      "text/plain": [
       "42.2"
      ]
     },
     "execution_count": 24,
     "metadata": {},
     "output_type": "execute_result"
    }
   ],
   "source": [
    "round((year_table['box_office'].sum()*100/df.shape[0]), 1)"
   ]
  },
  {
   "cell_type": "markdown",
   "metadata": {},
   "source": [
    "Получили процент фильмов с известными данными о прокатах."
   ]
  },
  {
   "cell_type": "markdown",
   "metadata": {
    "id": "BEOdcIrIgFyW"
   },
   "source": [
    "- Изучим, как менялась динамика проката по годам. В каком году сумма сборов была минимальной? А максимальной?"
   ]
  },
  {
   "cell_type": "code",
   "execution_count": 25,
   "metadata": {
    "id": "tfEhofYvgFyX",
    "scrolled": true
   },
   "outputs": [
    {
     "data": {
      "image/png": "[encoded data removed]",
      "text/plain": [
       "<Figure size 432x288 with 1 Axes>"
      ]
     },
     "metadata": {
      "needs_background": "light"
     },
     "output_type": "display_data"
    }
   ],
   "source": [
    "year_table.plot();"
   ]
  },
  {
   "cell_type": "markdown",
   "metadata": {},
   "source": [
    "Вплоть до 16 года кол-во фильмов плавно росло, но к 17 году упало больше чем на 100 фильмов. Однако после 17 года, количество фильмов вернелось к пиковому значению."
   ]
  },
  {
   "cell_type": "code",
   "execution_count": 26,
   "metadata": {},
   "outputs": [
    {
     "data": {
      "text/html": [
       "<div>\n",
       "<style scoped>\n",
       "    .dataframe tbody tr th:only-of-type {\n",
       "        vertical-align: middle;\n",
       "    }\n",
       "\n",
       "    .dataframe tbody tr th {\n",
       "        vertical-align: top;\n",
       "    }\n",
       "\n",
       "    .dataframe thead tr th {\n",
       "        text-align: left;\n",
       "    }\n",
       "\n",
       "    .dataframe thead tr:last-of-type th {\n",
       "        text-align: right;\n",
       "    }\n",
       "</style>\n",
       "<table border=\"1\" class=\"dataframe\">\n",
       "  <thead>\n",
       "    <tr>\n",
       "      <th></th>\n",
       "      <th>sum</th>\n",
       "    </tr>\n",
       "    <tr>\n",
       "      <th></th>\n",
       "      <th>box_office</th>\n",
       "    </tr>\n",
       "    <tr>\n",
       "      <th>year</th>\n",
       "      <th></th>\n",
       "    </tr>\n",
       "  </thead>\n",
       "  <tbody>\n",
       "    <tr>\n",
       "      <th>2010</th>\n",
       "      <td>2,428,654.0</td>\n",
       "    </tr>\n",
       "    <tr>\n",
       "      <th>2011</th>\n",
       "      <td>14,102,765.0</td>\n",
       "    </tr>\n",
       "    <tr>\n",
       "      <th>2012</th>\n",
       "      <td>6,955,423.0</td>\n",
       "    </tr>\n",
       "    <tr>\n",
       "      <th>2013</th>\n",
       "      <td>29,799,706.2</td>\n",
       "    </tr>\n",
       "    <tr>\n",
       "      <th>2014</th>\n",
       "      <td>7,444,951,859.2</td>\n",
       "    </tr>\n",
       "    <tr>\n",
       "      <th>2015</th>\n",
       "      <td>39,497,365,196.4</td>\n",
       "    </tr>\n",
       "    <tr>\n",
       "      <th>2016</th>\n",
       "      <td>47,866,299,741.9</td>\n",
       "    </tr>\n",
       "    <tr>\n",
       "      <th>2017</th>\n",
       "      <td>48,563,707,217.5</td>\n",
       "    </tr>\n",
       "    <tr>\n",
       "      <th>2018</th>\n",
       "      <td>49,668,403,134.3</td>\n",
       "    </tr>\n",
       "    <tr>\n",
       "      <th>2019</th>\n",
       "      <td>48,425,708,779.6</td>\n",
       "    </tr>\n",
       "  </tbody>\n",
       "</table>\n",
       "</div>"
      ],
      "text/plain": [
       "                  sum\n",
       "           box_office\n",
       "year                 \n",
       "2010      2,428,654.0\n",
       "2011     14,102,765.0\n",
       "2012      6,955,423.0\n",
       "2013     29,799,706.2\n",
       "2014  7,444,951,859.2\n",
       "2015 39,497,365,196.4\n",
       "2016 47,866,299,741.9\n",
       "2017 48,563,707,217.5\n",
       "2018 49,668,403,134.3\n",
       "2019 48,425,708,779.6"
      ]
     },
     "execution_count": 26,
     "metadata": {},
     "output_type": "execute_result"
    }
   ],
   "source": [
    "pivot_year_income = df.pivot_table(index='year', values='box_office', aggfunc=['sum'])\n",
    "pd.options.display.float_format = '{:,.1f}'.format\n",
    "pivot_year_income"
   ]
  },
  {
   "cell_type": "markdown",
   "metadata": {},
   "source": [
    "Видим, что минимальное значение суммарных сборов было достигнуто в 2010 году и составил - 2,428,654.0 руб., максимальное значение было достигнуто в 2018 году и составило - \t49,668,403,134.3 руб."
   ]
  },
  {
   "cell_type": "code",
   "execution_count": 27,
   "metadata": {
    "id": "jmp-rgg9gFyY"
   },
   "outputs": [
    {
     "data": {
      "text/html": [
       "<div>\n",
       "<style scoped>\n",
       "    .dataframe tbody tr th:only-of-type {\n",
       "        vertical-align: middle;\n",
       "    }\n",
       "\n",
       "    .dataframe tbody tr th {\n",
       "        vertical-align: top;\n",
       "    }\n",
       "\n",
       "    .dataframe thead tr th {\n",
       "        text-align: left;\n",
       "    }\n",
       "\n",
       "    .dataframe thead tr:last-of-type th {\n",
       "        text-align: right;\n",
       "    }\n",
       "</style>\n",
       "<table border=\"1\" class=\"dataframe\">\n",
       "  <thead>\n",
       "    <tr>\n",
       "      <th></th>\n",
       "      <th>mean</th>\n",
       "      <th>median</th>\n",
       "      <th>mean_to_median</th>\n",
       "    </tr>\n",
       "    <tr>\n",
       "      <th></th>\n",
       "      <th>box_office</th>\n",
       "      <th>box_office</th>\n",
       "      <th></th>\n",
       "    </tr>\n",
       "    <tr>\n",
       "      <th>year</th>\n",
       "      <th></th>\n",
       "      <th></th>\n",
       "      <th></th>\n",
       "    </tr>\n",
       "  </thead>\n",
       "  <tbody>\n",
       "    <tr>\n",
       "      <th>2010</th>\n",
       "      <td>23,130.0</td>\n",
       "      <td>1,700.0</td>\n",
       "      <td>13.6</td>\n",
       "    </tr>\n",
       "    <tr>\n",
       "      <th>2011</th>\n",
       "      <td>129,383.2</td>\n",
       "      <td>3,000.0</td>\n",
       "      <td>43.1</td>\n",
       "    </tr>\n",
       "    <tr>\n",
       "      <th>2012</th>\n",
       "      <td>54,339.2</td>\n",
       "      <td>5,660.0</td>\n",
       "      <td>9.6</td>\n",
       "    </tr>\n",
       "    <tr>\n",
       "      <th>2013</th>\n",
       "      <td>161,954.9</td>\n",
       "      <td>3,522.5</td>\n",
       "      <td>46.0</td>\n",
       "    </tr>\n",
       "    <tr>\n",
       "      <th>2014</th>\n",
       "      <td>26,684,415.3</td>\n",
       "      <td>18,160.0</td>\n",
       "      <td>1,469.4</td>\n",
       "    </tr>\n",
       "    <tr>\n",
       "      <th>2015</th>\n",
       "      <td>84,940,570.3</td>\n",
       "      <td>4,920,933.0</td>\n",
       "      <td>17.3</td>\n",
       "    </tr>\n",
       "    <tr>\n",
       "      <th>2016</th>\n",
       "      <td>91,000,569.9</td>\n",
       "      <td>3,846,679.4</td>\n",
       "      <td>23.7</td>\n",
       "    </tr>\n",
       "    <tr>\n",
       "      <th>2017</th>\n",
       "      <td>136,032,793.3</td>\n",
       "      <td>9,968,340.0</td>\n",
       "      <td>13.6</td>\n",
       "    </tr>\n",
       "    <tr>\n",
       "      <th>2018</th>\n",
       "      <td>104,565,059.2</td>\n",
       "      <td>8,891,102.2</td>\n",
       "      <td>11.8</td>\n",
       "    </tr>\n",
       "    <tr>\n",
       "      <th>2019</th>\n",
       "      <td>91,369,261.8</td>\n",
       "      <td>4,627,798.3</td>\n",
       "      <td>19.7</td>\n",
       "    </tr>\n",
       "  </tbody>\n",
       "</table>\n",
       "</div>"
      ],
      "text/plain": [
       "              mean      median mean_to_median\n",
       "        box_office  box_office               \n",
       "year                                         \n",
       "2010      23,130.0     1,700.0           13.6\n",
       "2011     129,383.2     3,000.0           43.1\n",
       "2012      54,339.2     5,660.0            9.6\n",
       "2013     161,954.9     3,522.5           46.0\n",
       "2014  26,684,415.3    18,160.0        1,469.4\n",
       "2015  84,940,570.3 4,920,933.0           17.3\n",
       "2016  91,000,569.9 3,846,679.4           23.7\n",
       "2017 136,032,793.3 9,968,340.0           13.6\n",
       "2018 104,565,059.2 8,891,102.2           11.8\n",
       "2019  91,369,261.8 4,627,798.3           19.7"
      ]
     },
     "execution_count": 27,
     "metadata": {},
     "output_type": "execute_result"
    }
   ],
   "source": [
    "pivot_year = df.pivot_table(index='year', values='box_office', aggfunc=['mean','median'])\n",
    "pivot_year['mean_to_median'] = pivot_year['mean']/pivot_year['median']\n",
    "pivot_year"
   ]
  },
  {
   "cell_type": "markdown",
   "metadata": {},
   "source": [
    "Видим наибольше средние значения в 17 и 18 годах, и наименьшие средние значения в 10 и 12 годах. Видим, что средние значения в десятки раз больше медианных. Это означает, что среди сборов есть сильно выделяющиеся значения, которые много больше основной выборки."
   ]
  },
  {
   "cell_type": "markdown",
   "metadata": {
    "id": "Ok89WFwJgFyZ"
   },
   "source": [
    "- Определим, влияет ли возрастное ограничение аудитории («6+», «12+», «16+», «18+» и т. д.) на сборы фильма в прокате в период с 2015 по 2019 год? Фильмы с каким возрастным ограничением собрали больше всего денег в прокате? Меняется ли картина в зависимости от года? Если да, предположим, с чем это может быть связано."
   ]
  },
  {
   "cell_type": "code",
   "execution_count": 28,
   "metadata": {},
   "outputs": [],
   "source": [
    "#Объявим функцию, которая выделит значение из возрастного ограничения\n",
    "def age_restrictor(row):\n",
    "    age = row['age_restriction']\n",
    "    if '18+' in age:\n",
    "        return 18\n",
    "    if '16+' in age:\n",
    "        return 16\n",
    "    if '12+' in age:\n",
    "        return 12\n",
    "    if '6+' in age:\n",
    "        return 6\n",
    "    if '0+' in age:\n",
    "        return 0"
   ]
  },
  {
   "cell_type": "code",
   "execution_count": 29,
   "metadata": {},
   "outputs": [],
   "source": [
    "df['age'] = df.apply(age_restrictor, axis = 1)\n",
    "rating_data = df.query('year >= 2015 and year <= 2019')"
   ]
  },
  {
   "cell_type": "code",
   "execution_count": 30,
   "metadata": {},
   "outputs": [
    {
     "data": {
      "text/html": [
       "<div>\n",
       "<style scoped>\n",
       "    .dataframe tbody tr th:only-of-type {\n",
       "        vertical-align: middle;\n",
       "    }\n",
       "\n",
       "    .dataframe tbody tr th {\n",
       "        vertical-align: top;\n",
       "    }\n",
       "\n",
       "    .dataframe thead th {\n",
       "        text-align: right;\n",
       "    }\n",
       "</style>\n",
       "<table border=\"1\" class=\"dataframe\">\n",
       "  <thead>\n",
       "    <tr style=\"text-align: right;\">\n",
       "      <th></th>\n",
       "      <th>age</th>\n",
       "      <th>box_office</th>\n",
       "    </tr>\n",
       "  </thead>\n",
       "  <tbody>\n",
       "    <tr>\n",
       "      <th>age</th>\n",
       "      <td>1.0</td>\n",
       "      <td>-0.1</td>\n",
       "    </tr>\n",
       "    <tr>\n",
       "      <th>box_office</th>\n",
       "      <td>-0.1</td>\n",
       "      <td>1.0</td>\n",
       "    </tr>\n",
       "  </tbody>\n",
       "</table>\n",
       "</div>"
      ],
      "text/plain": [
       "            age  box_office\n",
       "age         1.0        -0.1\n",
       "box_office -0.1         1.0"
      ]
     },
     "execution_count": 30,
     "metadata": {},
     "output_type": "execute_result"
    }
   ],
   "source": [
    "rating_data[['age','box_office']].corr()"
   ]
  },
  {
   "cell_type": "markdown",
   "metadata": {},
   "source": [
    "Видим отсутствие зависимости сборов от возрастного ограничения."
   ]
  },
  {
   "cell_type": "code",
   "execution_count": 31,
   "metadata": {},
   "outputs": [
    {
     "data": {
      "text/plain": [
       "age\n",
       "0      313,489,846.5\n",
       "6    2,779,686,144.0\n",
       "12   3,073,568,690.8\n",
       "16   2,576,613,776.8\n",
       "18   1,890,368,076.5\n",
       "Name: box_office, dtype: float64"
      ]
     },
     "metadata": {},
     "output_type": "display_data"
    }
   ],
   "source": [
    "display(df.groupby('age')['box_office'].max())"
   ]
  },
  {
   "cell_type": "markdown",
   "metadata": {},
   "source": [
    "Самым большим прокатом отличились фильмы с ограничение 12+."
   ]
  },
  {
   "cell_type": "code",
   "execution_count": 32,
   "metadata": {
    "scrolled": true
   },
   "outputs": [
    {
     "data": {
      "text/plain": [
       "year  age\n",
       "2010  0         1,446,400.0\n",
       "      12           45,225.0\n",
       "      16          168,411.0\n",
       "      18           31,800.0\n",
       "2011  0        11,618,085.0\n",
       "      6               450.0\n",
       "      12           73,416.0\n",
       "      16           57,050.0\n",
       "      18              540.0\n",
       "2012  0           609,274.0\n",
       "      6           842,234.0\n",
       "      12           30,500.0\n",
       "      16        2,311,220.0\n",
       "      18           74,100.0\n",
       "2013  0         1,081,797.0\n",
       "      6           115,850.0\n",
       "      12       19,957,031.5\n",
       "      16          365,353.6\n",
       "      18        4,321,638.0\n",
       "2014  0       313,489,846.5\n",
       "      6       488,223,744.1\n",
       "      12    1,016,410,635.3\n",
       "      16      171,633,351.8\n",
       "      18      963,728,813.5\n",
       "2015  0       158,025,089.1\n",
       "      6     1,646,580,645.7\n",
       "      12    1,658,861,425.5\n",
       "      16    1,486,131,019.0\n",
       "      18    1,006,737,153.0\n",
       "2016  0        64,734,023.5\n",
       "      6     2,048,126,108.0\n",
       "      12    1,398,264,684.0\n",
       "      16    1,570,380,294.0\n",
       "      18    1,587,516,389.0\n",
       "2017  0       206,478,186.0\n",
       "      6     2,779,686,144.0\n",
       "      12    1,655,037,688.0\n",
       "      16    2,118,396,119.0\n",
       "      18    1,036,725,434.0\n",
       "2018  0        24,176,724.1\n",
       "      6     1,125,242,943.9\n",
       "      12    2,271,754,004.5\n",
       "      16    1,913,257,923.1\n",
       "      18    1,236,762,617.3\n",
       "2019  0        13,779,632.3\n",
       "      6     1,911,944,866.0\n",
       "      12    3,073,568,690.8\n",
       "      16    2,576,613,776.8\n",
       "      18    1,890,368,076.5\n",
       "Name: box_office, dtype: float64"
      ]
     },
     "metadata": {},
     "output_type": "display_data"
    }
   ],
   "source": [
    "display(df.groupby(['year','age'])['box_office'].max())"
   ]
  },
  {
   "cell_type": "markdown",
   "metadata": {},
   "source": [
    "Картина действительно меняются, и максимальные значения принимают разные возрастные ограничения, возможно это связано с выходящими блокбастерами в разные года."
   ]
  },
  {
   "cell_type": "markdown",
   "metadata": {
    "id": "l_Kg6Ku4gFya"
   },
   "source": [
    "### Шаг 4. Исследуйте фильмы, которые получили государственную поддержку\n",
    "\n",
    "На этом этапе нет конкретных инструкций и заданий — поищите интересные закономерности в данных. Посмотрите, сколько выделяют средств на поддержку кино. Проверьте, хорошо ли окупаются такие фильмы, какой у них рейтинг."
   ]
  },
  {
   "cell_type": "code",
   "execution_count": 33,
   "metadata": {
    "id": "W9QKpjUdgFyb"
   },
   "outputs": [
    {
     "data": {
      "text/html": [
       "<div>\n",
       "<style scoped>\n",
       "    .dataframe tbody tr th:only-of-type {\n",
       "        vertical-align: middle;\n",
       "    }\n",
       "\n",
       "    .dataframe tbody tr th {\n",
       "        vertical-align: top;\n",
       "    }\n",
       "\n",
       "    .dataframe thead th {\n",
       "        text-align: right;\n",
       "    }\n",
       "</style>\n",
       "<table border=\"1\" class=\"dataframe\">\n",
       "  <thead>\n",
       "    <tr style=\"text-align: right;\">\n",
       "      <th></th>\n",
       "      <th>title</th>\n",
       "      <th>puNumber</th>\n",
       "      <th>show_start_date</th>\n",
       "      <th>type</th>\n",
       "      <th>film_studio</th>\n",
       "      <th>production_country</th>\n",
       "      <th>director</th>\n",
       "      <th>producer</th>\n",
       "      <th>age_restriction</th>\n",
       "      <th>refundable_support</th>\n",
       "      <th>...</th>\n",
       "      <th>budget</th>\n",
       "      <th>financing_source</th>\n",
       "      <th>ratings</th>\n",
       "      <th>genres</th>\n",
       "      <th>box_office</th>\n",
       "      <th>year</th>\n",
       "      <th>main_director</th>\n",
       "      <th>main_genre</th>\n",
       "      <th>budget_part</th>\n",
       "      <th>age</th>\n",
       "    </tr>\n",
       "  </thead>\n",
       "  <tbody>\n",
       "    <tr>\n",
       "      <th>0</th>\n",
       "      <td>Открытый простор</td>\n",
       "      <td>221,048,915.0</td>\n",
       "      <td>2015-11-27 12:00:00+00:00</td>\n",
       "      <td>Художественный</td>\n",
       "      <td>Тачстоун Пикчерз, Кобальт Пикчерз, Бикон Пикче...</td>\n",
       "      <td>США</td>\n",
       "      <td>Кевин Костнер</td>\n",
       "      <td>Дэвид Валдес, Кевин Костнер, Джейк Эбертс</td>\n",
       "      <td>«18+» - запрещено для детей</td>\n",
       "      <td>NaN</td>\n",
       "      <td>...</td>\n",
       "      <td>NaN</td>\n",
       "      <td>NaN</td>\n",
       "      <td>7.2</td>\n",
       "      <td>боевик,драма,мелодрама</td>\n",
       "      <td>NaN</td>\n",
       "      <td>2015</td>\n",
       "      <td>Кевин Костнер</td>\n",
       "      <td>боевик</td>\n",
       "      <td>NaN</td>\n",
       "      <td>18</td>\n",
       "    </tr>\n",
       "    <tr>\n",
       "      <th>1</th>\n",
       "      <td>Особо важное задание</td>\n",
       "      <td>111,013,716.0</td>\n",
       "      <td>2016-09-13 12:00:00+00:00</td>\n",
       "      <td>Художественный</td>\n",
       "      <td>Киностудия \"Мосфильм\"</td>\n",
       "      <td>СССР</td>\n",
       "      <td>Е.Матвеев</td>\n",
       "      <td>NaN</td>\n",
       "      <td>«6+» - для детей старше 6 лет</td>\n",
       "      <td>NaN</td>\n",
       "      <td>...</td>\n",
       "      <td>NaN</td>\n",
       "      <td>NaN</td>\n",
       "      <td>6.6</td>\n",
       "      <td>драма,военный</td>\n",
       "      <td>NaN</td>\n",
       "      <td>2016</td>\n",
       "      <td>Е.Матвеев</td>\n",
       "      <td>драма</td>\n",
       "      <td>NaN</td>\n",
       "      <td>6</td>\n",
       "    </tr>\n",
       "    <tr>\n",
       "      <th>2</th>\n",
       "      <td>Особо опасен</td>\n",
       "      <td>221,038,416.0</td>\n",
       "      <td>2016-10-10 12:00:00+00:00</td>\n",
       "      <td>Художественный</td>\n",
       "      <td>Юниверсал Пикчерз, Кикстарт Продакшнз, Марк Пл...</td>\n",
       "      <td>США</td>\n",
       "      <td>Тимур Бекмамбетов</td>\n",
       "      <td>Джим Лемли, Джейсон Нетер, Марк Е.Платт, Яйн Смит</td>\n",
       "      <td>«18+» - запрещено для детей</td>\n",
       "      <td>NaN</td>\n",
       "      <td>...</td>\n",
       "      <td>NaN</td>\n",
       "      <td>NaN</td>\n",
       "      <td>6.8</td>\n",
       "      <td>фантастика,боевик,триллер</td>\n",
       "      <td>NaN</td>\n",
       "      <td>2016</td>\n",
       "      <td>Тимур Бекмамбетов</td>\n",
       "      <td>фантастика</td>\n",
       "      <td>NaN</td>\n",
       "      <td>18</td>\n",
       "    </tr>\n",
       "    <tr>\n",
       "      <th>3</th>\n",
       "      <td>Особо опасен</td>\n",
       "      <td>221,026,916.0</td>\n",
       "      <td>2016-06-10 12:00:00+00:00</td>\n",
       "      <td>Художественный</td>\n",
       "      <td>Юниверсал Пикчерз, Кикстарт Продакшнз, Марк Пл...</td>\n",
       "      <td>США</td>\n",
       "      <td>Тимур Бекмамбетов</td>\n",
       "      <td>Джим Лемли, Джейсон Нетер, Марк Е.Платт, Яйн Смит</td>\n",
       "      <td>«18+» - запрещено для детей</td>\n",
       "      <td>NaN</td>\n",
       "      <td>...</td>\n",
       "      <td>NaN</td>\n",
       "      <td>NaN</td>\n",
       "      <td>6.8</td>\n",
       "      <td>фантастика,боевик,триллер</td>\n",
       "      <td>NaN</td>\n",
       "      <td>2016</td>\n",
       "      <td>Тимур Бекмамбетов</td>\n",
       "      <td>фантастика</td>\n",
       "      <td>NaN</td>\n",
       "      <td>18</td>\n",
       "    </tr>\n",
       "    <tr>\n",
       "      <th>4</th>\n",
       "      <td>Особо опасен</td>\n",
       "      <td>221,030,815.0</td>\n",
       "      <td>2015-07-29 12:00:00+00:00</td>\n",
       "      <td>Художественный</td>\n",
       "      <td>Юниверсал Пикчерз, Кикстарт Продакшнз, Марк Пл...</td>\n",
       "      <td>США</td>\n",
       "      <td>Тимур Бекмамбетов</td>\n",
       "      <td>Джим Лемли, Джейсон Нетер, Марк Е.Платт, Яйн Смит</td>\n",
       "      <td>«18+» - запрещено для детей</td>\n",
       "      <td>NaN</td>\n",
       "      <td>...</td>\n",
       "      <td>NaN</td>\n",
       "      <td>NaN</td>\n",
       "      <td>6.8</td>\n",
       "      <td>фантастика,боевик,триллер</td>\n",
       "      <td>NaN</td>\n",
       "      <td>2015</td>\n",
       "      <td>Тимур Бекмамбетов</td>\n",
       "      <td>фантастика</td>\n",
       "      <td>NaN</td>\n",
       "      <td>18</td>\n",
       "    </tr>\n",
       "  </tbody>\n",
       "</table>\n",
       "<p>5 rows × 21 columns</p>\n",
       "</div>"
      ],
      "text/plain": [
       "                  title      puNumber           show_start_date  \\\n",
       "0      Открытый простор 221,048,915.0 2015-11-27 12:00:00+00:00   \n",
       "1  Особо важное задание 111,013,716.0 2016-09-13 12:00:00+00:00   \n",
       "2          Особо опасен 221,038,416.0 2016-10-10 12:00:00+00:00   \n",
       "3          Особо опасен 221,026,916.0 2016-06-10 12:00:00+00:00   \n",
       "4          Особо опасен 221,030,815.0 2015-07-29 12:00:00+00:00   \n",
       "\n",
       "             type                                        film_studio  \\\n",
       "0  Художественный  Тачстоун Пикчерз, Кобальт Пикчерз, Бикон Пикче...   \n",
       "1  Художественный                              Киностудия \"Мосфильм\"   \n",
       "2  Художественный  Юниверсал Пикчерз, Кикстарт Продакшнз, Марк Пл...   \n",
       "3  Художественный  Юниверсал Пикчерз, Кикстарт Продакшнз, Марк Пл...   \n",
       "4  Художественный  Юниверсал Пикчерз, Кикстарт Продакшнз, Марк Пл...   \n",
       "\n",
       "  production_country           director  \\\n",
       "0                США      Кевин Костнер   \n",
       "1               СССР          Е.Матвеев   \n",
       "2                США  Тимур Бекмамбетов   \n",
       "3                США  Тимур Бекмамбетов   \n",
       "4                США  Тимур Бекмамбетов   \n",
       "\n",
       "                                            producer  \\\n",
       "0          Дэвид Валдес, Кевин Костнер, Джейк Эбертс   \n",
       "1                                                NaN   \n",
       "2  Джим Лемли, Джейсон Нетер, Марк Е.Платт, Яйн Смит   \n",
       "3  Джим Лемли, Джейсон Нетер, Марк Е.Платт, Яйн Смит   \n",
       "4  Джим Лемли, Джейсон Нетер, Марк Е.Платт, Яйн Смит   \n",
       "\n",
       "                 age_restriction  refundable_support  ...  budget  \\\n",
       "0    «18+» - запрещено для детей                 NaN  ...     NaN   \n",
       "1  «6+» - для детей старше 6 лет                 NaN  ...     NaN   \n",
       "2    «18+» - запрещено для детей                 NaN  ...     NaN   \n",
       "3    «18+» - запрещено для детей                 NaN  ...     NaN   \n",
       "4    «18+» - запрещено для детей                 NaN  ...     NaN   \n",
       "\n",
       "   financing_source ratings                     genres box_office  year  \\\n",
       "0               NaN     7.2     боевик,драма,мелодрама        NaN  2015   \n",
       "1               NaN     6.6              драма,военный        NaN  2016   \n",
       "2               NaN     6.8  фантастика,боевик,триллер        NaN  2016   \n",
       "3               NaN     6.8  фантастика,боевик,триллер        NaN  2016   \n",
       "4               NaN     6.8  фантастика,боевик,триллер        NaN  2015   \n",
       "\n",
       "       main_director  main_genre budget_part  age  \n",
       "0      Кевин Костнер      боевик         NaN   18  \n",
       "1          Е.Матвеев       драма         NaN    6  \n",
       "2  Тимур Бекмамбетов  фантастика         NaN   18  \n",
       "3  Тимур Бекмамбетов  фантастика         NaN   18  \n",
       "4  Тимур Бекмамбетов  фантастика         NaN   18  \n",
       "\n",
       "[5 rows x 21 columns]"
      ]
     },
     "execution_count": 33,
     "metadata": {},
     "output_type": "execute_result"
    }
   ],
   "source": [
    "df.head()"
   ]
  },
  {
   "cell_type": "code",
   "execution_count": 34,
   "metadata": {},
   "outputs": [
    {
     "name": "stdout",
     "output_type": "stream",
     "text": [
      "<class 'pandas.core.frame.DataFrame'>\n",
      "Int64Index: 7485 entries, 0 to 7485\n",
      "Data columns (total 21 columns):\n",
      " #   Column                 Non-Null Count  Dtype              \n",
      "---  ------                 --------------  -----              \n",
      " 0   title                  7485 non-null   object             \n",
      " 1   puNumber               7485 non-null   float64            \n",
      " 2   show_start_date        7485 non-null   datetime64[ns, UTC]\n",
      " 3   type                   7485 non-null   object             \n",
      " 4   film_studio            7467 non-null   object             \n",
      " 5   production_country     7483 non-null   object             \n",
      " 6   director               7476 non-null   object             \n",
      " 7   producer               6917 non-null   object             \n",
      " 8   age_restriction        7485 non-null   object             \n",
      " 9   refundable_support     332 non-null    float64            \n",
      " 10  nonrefundable_support  332 non-null    float64            \n",
      " 11  budget                 332 non-null    float64            \n",
      " 12  financing_source       332 non-null    object             \n",
      " 13  ratings                6490 non-null   float64            \n",
      " 14  genres                 6510 non-null   object             \n",
      " 15  box_office             3158 non-null   float64            \n",
      " 16  year                   7485 non-null   int64              \n",
      " 17  main_director          7485 non-null   object             \n",
      " 18  main_genre             7485 non-null   object             \n",
      " 19  budget_part            332 non-null    float64            \n",
      " 20  age                    7485 non-null   int64              \n",
      "dtypes: datetime64[ns, UTC](1), float64(7), int64(2), object(11)\n",
      "memory usage: 1.3+ MB\n"
     ]
    }
   ],
   "source": [
    "df.info()"
   ]
  },
  {
   "cell_type": "code",
   "execution_count": 35,
   "metadata": {
    "scrolled": true
   },
   "outputs": [
    {
     "data": {
      "text/html": [
       "<div>\n",
       "<style scoped>\n",
       "    .dataframe tbody tr th:only-of-type {\n",
       "        vertical-align: middle;\n",
       "    }\n",
       "\n",
       "    .dataframe tbody tr th {\n",
       "        vertical-align: top;\n",
       "    }\n",
       "\n",
       "    .dataframe thead th {\n",
       "        text-align: right;\n",
       "    }\n",
       "</style>\n",
       "<table border=\"1\" class=\"dataframe\">\n",
       "  <thead>\n",
       "    <tr style=\"text-align: right;\">\n",
       "      <th></th>\n",
       "      <th>box_office</th>\n",
       "      <th>ratings</th>\n",
       "    </tr>\n",
       "  </thead>\n",
       "  <tbody>\n",
       "    <tr>\n",
       "      <th>box_office</th>\n",
       "      <td>1.0</td>\n",
       "      <td>0.1</td>\n",
       "    </tr>\n",
       "    <tr>\n",
       "      <th>ratings</th>\n",
       "      <td>0.1</td>\n",
       "      <td>1.0</td>\n",
       "    </tr>\n",
       "  </tbody>\n",
       "</table>\n",
       "</div>"
      ],
      "text/plain": [
       "            box_office  ratings\n",
       "box_office         1.0      0.1\n",
       "ratings            0.1      1.0"
      ]
     },
     "execution_count": 35,
     "metadata": {},
     "output_type": "execute_result"
    }
   ],
   "source": [
    "df[['box_office','ratings']].corr()"
   ]
  },
  {
   "cell_type": "markdown",
   "metadata": {},
   "source": [
    "Оценили зависимость кассовых сборов от рейтинга фильма. Она отсутствует. Оценим составляющую бюджета фильмов."
   ]
  },
  {
   "cell_type": "code",
   "execution_count": 36,
   "metadata": {
    "scrolled": true
   },
   "outputs": [
    {
     "data": {
      "text/html": [
       "<div>\n",
       "<style scoped>\n",
       "    .dataframe tbody tr th:only-of-type {\n",
       "        vertical-align: middle;\n",
       "    }\n",
       "\n",
       "    .dataframe tbody tr th {\n",
       "        vertical-align: top;\n",
       "    }\n",
       "\n",
       "    .dataframe thead th {\n",
       "        text-align: right;\n",
       "    }\n",
       "</style>\n",
       "<table border=\"1\" class=\"dataframe\">\n",
       "  <thead>\n",
       "    <tr style=\"text-align: right;\">\n",
       "      <th></th>\n",
       "      <th>budget</th>\n",
       "      <th>refundable_support</th>\n",
       "      <th>nonrefundable_support</th>\n",
       "      <th>financing_source</th>\n",
       "      <th>box_office</th>\n",
       "      <th>ratings</th>\n",
       "    </tr>\n",
       "  </thead>\n",
       "  <tbody>\n",
       "    <tr>\n",
       "      <th>1281</th>\n",
       "      <td>79,411,900.0</td>\n",
       "      <td>0.0</td>\n",
       "      <td>26,500,000.0</td>\n",
       "      <td>Министерство культуры</td>\n",
       "      <td>365,353.6</td>\n",
       "      <td>8.1</td>\n",
       "    </tr>\n",
       "    <tr>\n",
       "      <th>1498</th>\n",
       "      <td>176,023,490.0</td>\n",
       "      <td>0.0</td>\n",
       "      <td>107,847,945.0</td>\n",
       "      <td>Фонд кино</td>\n",
       "      <td>19,957,031.5</td>\n",
       "      <td>5.3</td>\n",
       "    </tr>\n",
       "    <tr>\n",
       "      <th>1524</th>\n",
       "      <td>40,574,140.0</td>\n",
       "      <td>0.0</td>\n",
       "      <td>28,000,000.0</td>\n",
       "      <td>Министерство культуры</td>\n",
       "      <td>55,917.5</td>\n",
       "      <td>4.2</td>\n",
       "    </tr>\n",
       "    <tr>\n",
       "      <th>1792</th>\n",
       "      <td>40,015,122.0</td>\n",
       "      <td>0.0</td>\n",
       "      <td>25,000,000.0</td>\n",
       "      <td>Министерство культуры</td>\n",
       "      <td>232,100.0</td>\n",
       "      <td>6.4</td>\n",
       "    </tr>\n",
       "    <tr>\n",
       "      <th>1854</th>\n",
       "      <td>51,850,000.0</td>\n",
       "      <td>0.0</td>\n",
       "      <td>25,000,000.0</td>\n",
       "      <td>Министерство культуры</td>\n",
       "      <td>15,078,858.6</td>\n",
       "      <td>6.1</td>\n",
       "    </tr>\n",
       "  </tbody>\n",
       "</table>\n",
       "</div>"
      ],
      "text/plain": [
       "            budget  refundable_support  nonrefundable_support  \\\n",
       "1281  79,411,900.0                 0.0           26,500,000.0   \n",
       "1498 176,023,490.0                 0.0          107,847,945.0   \n",
       "1524  40,574,140.0                 0.0           28,000,000.0   \n",
       "1792  40,015,122.0                 0.0           25,000,000.0   \n",
       "1854  51,850,000.0                 0.0           25,000,000.0   \n",
       "\n",
       "           financing_source   box_office  ratings  \n",
       "1281  Министерство культуры    365,353.6      8.1  \n",
       "1498              Фонд кино 19,957,031.5      5.3  \n",
       "1524  Министерство культуры     55,917.5      4.2  \n",
       "1792  Министерство культуры    232,100.0      6.4  \n",
       "1854  Министерство культуры 15,078,858.6      6.1  "
      ]
     },
     "execution_count": 36,
     "metadata": {},
     "output_type": "execute_result"
    }
   ],
   "source": [
    "budget_df = df[['budget','refundable_support','nonrefundable_support','financing_source','box_office','ratings']]\n",
    "budget_df = budget_df.dropna()\n",
    "budget_df.head()"
   ]
  },
  {
   "cell_type": "code",
   "execution_count": 37,
   "metadata": {},
   "outputs": [],
   "source": [
    "budget_df['budget'] = budget_df['budget']/1000000#избавимся от экспоненциального формата записи"
   ]
  },
  {
   "cell_type": "code",
   "execution_count": 38,
   "metadata": {},
   "outputs": [],
   "source": [
    "budget_df['box_office'] = budget_df['box_office']/1000000#избавимся от экспоненциального формата записи"
   ]
  },
  {
   "cell_type": "code",
   "execution_count": 39,
   "metadata": {},
   "outputs": [
    {
     "data": {
      "text/plain": [
       "count     301.0\n",
       "mean      135.8\n",
       "std       189.2\n",
       "min         6.0\n",
       "25%        46.3\n",
       "50%        77.0\n",
       "75%       157.2\n",
       "max     2,305.1\n",
       "Name: budget, dtype: float64"
      ]
     },
     "execution_count": 39,
     "metadata": {},
     "output_type": "execute_result"
    }
   ],
   "source": [
    "budget_df['budget'].describe()"
   ]
  },
  {
   "cell_type": "markdown",
   "metadata": {},
   "source": [
    "Средний бюджет фильма 135 миллионов рублей, медиана при этом в два раза меньше - 77 миллионов рублей."
   ]
  },
  {
   "cell_type": "code",
   "execution_count": 40,
   "metadata": {},
   "outputs": [
    {
     "data": {
      "text/plain": [
       "count   301.0\n",
       "mean     61.9\n",
       "std      71.1\n",
       "min       5.0\n",
       "25%      26.0\n",
       "50%      35.0\n",
       "75%      60.0\n",
       "max     500.0\n",
       "Name: support, dtype: float64"
      ]
     },
     "execution_count": 40,
     "metadata": {},
     "output_type": "execute_result"
    }
   ],
   "source": [
    "budget_df['support'] = (budget_df['refundable_support'] + budget_df['nonrefundable_support'])/1000000\n",
    "budget_df['support'].describe()"
   ]
  },
  {
   "cell_type": "markdown",
   "metadata": {},
   "source": [
    "В сравнении с общим бюджетом фильмов, из государства выделяется практически половина от средних показателей:\n",
    "- Среднее - 61 миллион рублей\n",
    "- Медиана - 35 миллионов рублей"
   ]
  },
  {
   "cell_type": "code",
   "execution_count": 41,
   "metadata": {},
   "outputs": [
    {
     "data": {
      "text/plain": [
       "count   301.0\n",
       "mean      6.0\n",
       "std       1.1\n",
       "min       1.0\n",
       "25%       5.3\n",
       "50%       6.2\n",
       "75%       6.7\n",
       "max       8.5\n",
       "Name: ratings, dtype: float64"
      ]
     },
     "execution_count": 41,
     "metadata": {},
     "output_type": "execute_result"
    },
    {
     "data": {
      "image/png": "[encoded data removed]",
      "text/plain": [
       "<Figure size 432x288 with 1 Axes>"
      ]
     },
     "metadata": {
      "needs_background": "light"
     },
     "output_type": "display_data"
    }
   ],
   "source": [
    "budget_df['ratings'].hist(bins=30)\n",
    "budget_df['ratings'].describe()"
   ]
  },
  {
   "cell_type": "markdown",
   "metadata": {},
   "source": [
    "Сравним распределение фильмов не получивших гос помощь."
   ]
  },
  {
   "cell_type": "code",
   "execution_count": 42,
   "metadata": {
    "scrolled": false
   },
   "outputs": [
    {
     "data": {
      "text/plain": [
       "count   6,490.0\n",
       "mean        6.5\n",
       "std         1.1\n",
       "min         1.0\n",
       "25%         5.9\n",
       "50%         6.6\n",
       "75%         7.2\n",
       "max         9.2\n",
       "Name: ratings, dtype: float64"
      ]
     },
     "execution_count": 42,
     "metadata": {},
     "output_type": "execute_result"
    },
    {
     "data": {
      "image/png": "[encoded data removed]",
      "text/plain": [
       "<Figure size 432x288 with 1 Axes>"
      ]
     },
     "metadata": {
      "needs_background": "light"
     },
     "output_type": "display_data"
    }
   ],
   "source": [
    "df['ratings'].hist(bins=40)\n",
    "df['ratings'].describe()"
   ]
  },
  {
   "cell_type": "markdown",
   "metadata": {},
   "source": [
    "Видим, что значения приблизительно одинаковые, хотя у фильмов получивших гос поддержку результаты похуже:\n",
    "- Среднее значение меньше на 0,47 балла\n",
    "- Медиана меньше на 0,4 балла"
   ]
  },
  {
   "cell_type": "markdown",
   "metadata": {},
   "source": [
    "Оценим окупаемость таких фильмов. Для начала стоит обозначить критерии окупаемости. Согласно википедии примерно 50% с кассовых сборов отходит компаниям кинопроката. Соответственно примем это число за истину. Будем считать отношение половины кассовых сборов к бюджету фильма и присваивать категории соответственно."
   ]
  },
  {
   "cell_type": "code",
   "execution_count": 43,
   "metadata": {},
   "outputs": [],
   "source": [
    "#Объявим функцию, которая присвоит категорию \"окупаемости\" фильму\n",
    "def payback(row):\n",
    "    budget = row['budget']\n",
    "    box_office = row['box_office']/2\n",
    "    try:\n",
    "        difference = box_office/budget\n",
    "    except:\n",
    "        return 'Отсутствие бюджета'\n",
    "    if difference < 1:\n",
    "        return 'Фильм не окупился'\n",
    "    if (difference >= 1) and (difference < 2):\n",
    "        return 'Фильм окупился'\n",
    "    if difference >= 2:\n",
    "        return 'Фильм хорошо окупился'\n",
    "    "
   ]
  },
  {
   "cell_type": "code",
   "execution_count": 44,
   "metadata": {},
   "outputs": [
    {
     "data": {
      "text/plain": [
       "Фильм не окупился        263\n",
       "Фильм окупился            23\n",
       "Фильм хорошо окупился     15\n",
       "Name: payback, dtype: int64"
      ]
     },
     "execution_count": 44,
     "metadata": {},
     "output_type": "execute_result"
    }
   ],
   "source": [
    "budget_df['payback'] = budget_df.apply(payback, axis = 1)\n",
    "budget_df['payback'].value_counts()"
   ]
  },
  {
   "cell_type": "markdown",
   "metadata": {},
   "source": [
    "Как мы видимо подавляющая часть таких фильмов не окупилась."
   ]
  },
  {
   "cell_type": "markdown",
   "metadata": {
    "id": "V2gYwMcPgFyd"
   },
   "source": [
    "### Шаг 5. Напишите общий вывод"
   ]
  },
  {
   "cell_type": "markdown",
   "metadata": {
    "id": "AYRg3dzXgFye"
   },
   "source": [
    "Мы провели большое исследование. Оценили наши данные, провели их предобработку: обработали пропуски, неверные типы данных.\n",
    "Провели анализ данных и получили сделали следующие выводы:\n",
    "- С 2010 по 2019 год наблюдается увелиение кол-вав фильмов выходящих в прокат,однако в 2017 году наблюдается резкий скачок к уменьшению этого кол-ва. Самый \"плодотворный\" год - 2019. Так же 2019 оказался и самым прибыльным, относительно других годов. Наибольшие средние значения наблюдаются в 17 и 18 годах, а наименьшие средние значения в 10 и 12 годах.\n",
    "- Исследовали зависимость кассовых сборов от возрастного ограничения. Выяснили, что она отсутствует, и вопрос относительно самого прибыльного ограничения так же неясен, т.к. картина с годами меняется.\n",
    "\n",
    "Провели анализ фильмов получивших государственную помощь и пришли к следующим выводам:\n",
    "\n",
    "- Рейтинг фильма не имеет связи со сборами фильма.\n",
    "- Говоря о средних значениях гос поддержки составляет практически половину бюджета фильмов.\n",
    "- Оценили рейтинг фильмов, фильмы получившие гос поддержку показали результаты немного хуже: среднее значение меньше на 0,47 балла, медиана меньше на 0,4 балла\n",
    "- Так же выяснили, что такие фильмы плохо окупаются из 301 фильма, не окупились 263, а окупились больше чем в 2 раза всего 15 фильмов."
   ]
  }
 ],
 "metadata": {
  "ExecuteTimeLog": [
   {
    "duration": 537,
    "start_time": "2021-07-07T10:12:08.634Z"
   },
   {
    "duration": 206,
    "start_time": "2021-07-07T10:12:30.191Z"
   },
   {
    "duration": 227,
    "start_time": "2021-07-07T10:12:33.078Z"
   },
   {
    "duration": 153,
    "start_time": "2021-07-07T10:13:42.146Z"
   },
   {
    "duration": 233,
    "start_time": "2021-07-07T10:30:09.252Z"
   },
   {
    "duration": 19,
    "start_time": "2021-07-07T10:30:15.577Z"
   },
   {
    "duration": 18,
    "start_time": "2021-07-07T10:30:57.348Z"
   },
   {
    "duration": 19,
    "start_time": "2021-07-07T10:31:17.452Z"
   },
   {
    "duration": 21,
    "start_time": "2021-07-07T10:31:32.227Z"
   },
   {
    "duration": 27,
    "start_time": "2021-07-07T10:32:06.588Z"
   },
   {
    "duration": 23,
    "start_time": "2021-07-07T10:32:43.645Z"
   },
   {
    "duration": 24,
    "start_time": "2021-07-07T10:33:06.948Z"
   },
   {
    "duration": 7,
    "start_time": "2021-07-07T10:33:28.558Z"
   },
   {
    "duration": 23,
    "start_time": "2021-07-07T10:33:43.761Z"
   },
   {
    "duration": 28,
    "start_time": "2021-07-07T10:34:13.466Z"
   },
   {
    "duration": 23,
    "start_time": "2021-07-07T10:35:56.187Z"
   },
   {
    "duration": 6,
    "start_time": "2021-07-07T10:36:48.182Z"
   },
   {
    "duration": 14,
    "start_time": "2021-07-07T10:37:49.641Z"
   },
   {
    "duration": 6,
    "start_time": "2021-07-07T10:38:06.694Z"
   },
   {
    "duration": 6,
    "start_time": "2021-07-07T10:38:13.493Z"
   },
   {
    "duration": 19,
    "start_time": "2021-07-07T10:38:44.056Z"
   },
   {
    "duration": 186,
    "start_time": "2021-07-07T10:48:35.618Z"
   },
   {
    "duration": 24,
    "start_time": "2021-07-07T10:48:51.498Z"
   },
   {
    "duration": 20,
    "start_time": "2021-07-07T10:48:59.415Z"
   },
   {
    "duration": 20,
    "start_time": "2021-07-07T10:53:02.195Z"
   },
   {
    "duration": 188,
    "start_time": "2021-07-07T10:54:40.486Z"
   },
   {
    "duration": 115,
    "start_time": "2021-07-07T10:54:52.552Z"
   },
   {
    "duration": 214,
    "start_time": "2021-07-07T10:54:56.354Z"
   },
   {
    "duration": 47,
    "start_time": "2021-07-07T10:54:58.282Z"
   },
   {
    "duration": 217,
    "start_time": "2021-07-07T10:59:16.075Z"
   },
   {
    "duration": 51,
    "start_time": "2021-07-07T10:59:16.243Z"
   },
   {
    "duration": 578,
    "start_time": "2021-07-07T10:59:18.774Z"
   },
   {
    "duration": 161,
    "start_time": "2021-07-07T10:59:21.238Z"
   },
   {
    "duration": 59,
    "start_time": "2021-07-07T10:59:21.453Z"
   },
   {
    "duration": 3,
    "start_time": "2021-07-07T11:02:10.786Z"
   },
   {
    "duration": 13,
    "start_time": "2021-07-07T11:07:07.722Z"
   },
   {
    "duration": 26,
    "start_time": "2021-07-07T11:07:17.958Z"
   },
   {
    "duration": 22,
    "start_time": "2021-07-07T11:08:17.939Z"
   },
   {
    "duration": 212,
    "start_time": "2021-07-07T11:08:19.665Z"
   },
   {
    "duration": 21,
    "start_time": "2021-07-07T11:08:29.945Z"
   },
   {
    "duration": 31,
    "start_time": "2021-07-07T11:08:38.899Z"
   },
   {
    "duration": 23,
    "start_time": "2021-07-07T11:08:54.527Z"
   },
   {
    "duration": 8,
    "start_time": "2021-07-07T11:18:55.974Z"
   },
   {
    "duration": 7,
    "start_time": "2021-07-07T11:19:03.639Z"
   },
   {
    "duration": 7,
    "start_time": "2021-07-07T11:19:06.444Z"
   },
   {
    "duration": 578,
    "start_time": "2021-07-07T12:09:59.576Z"
   },
   {
    "duration": 195,
    "start_time": "2021-07-07T12:10:00.156Z"
   },
   {
    "duration": 115,
    "start_time": "2021-07-07T12:10:00.353Z"
   },
   {
    "duration": 3,
    "start_time": "2021-07-07T12:10:00.470Z"
   },
   {
    "duration": 32,
    "start_time": "2021-07-07T12:10:00.474Z"
   },
   {
    "duration": 23,
    "start_time": "2021-07-07T12:10:00.508Z"
   },
   {
    "duration": 19,
    "start_time": "2021-07-07T12:10:00.533Z"
   },
   {
    "duration": 44,
    "start_time": "2021-07-07T12:10:00.553Z"
   },
   {
    "duration": 7,
    "start_time": "2021-07-07T12:10:00.600Z"
   },
   {
    "duration": 7,
    "start_time": "2021-07-07T12:19:45.761Z"
   },
   {
    "duration": 21,
    "start_time": "2021-07-07T12:21:35.482Z"
   },
   {
    "duration": 21,
    "start_time": "2021-07-07T12:29:23.569Z"
   },
   {
    "duration": 525,
    "start_time": "2021-07-07T12:29:44.542Z"
   },
   {
    "duration": 214,
    "start_time": "2021-07-07T12:29:45.069Z"
   },
   {
    "duration": 92,
    "start_time": "2021-07-07T12:29:45.285Z"
   },
   {
    "duration": 3,
    "start_time": "2021-07-07T12:29:45.379Z"
   },
   {
    "duration": 28,
    "start_time": "2021-07-07T12:29:45.384Z"
   },
   {
    "duration": 23,
    "start_time": "2021-07-07T12:29:45.413Z"
   },
   {
    "duration": 21,
    "start_time": "2021-07-07T12:29:45.437Z"
   },
   {
    "duration": 41,
    "start_time": "2021-07-07T12:29:45.460Z"
   },
   {
    "duration": 7,
    "start_time": "2021-07-07T12:29:45.502Z"
   },
   {
    "duration": 20,
    "start_time": "2021-07-07T12:29:45.511Z"
   },
   {
    "duration": 12,
    "start_time": "2021-07-07T12:34:02.800Z"
   },
   {
    "duration": 7,
    "start_time": "2021-07-07T12:35:10.479Z"
   },
   {
    "duration": 8,
    "start_time": "2021-07-07T12:35:22.440Z"
   },
   {
    "duration": 6,
    "start_time": "2021-07-07T12:35:35.649Z"
   },
   {
    "duration": 6,
    "start_time": "2021-07-07T12:35:43.107Z"
   },
   {
    "duration": 22,
    "start_time": "2021-07-07T12:38:03.029Z"
   },
   {
    "duration": 10,
    "start_time": "2021-07-07T12:38:06.592Z"
   },
   {
    "duration": 563,
    "start_time": "2021-07-07T12:38:46.493Z"
   },
   {
    "duration": 265,
    "start_time": "2021-07-07T12:38:47.058Z"
   },
   {
    "duration": 94,
    "start_time": "2021-07-07T12:38:47.325Z"
   },
   {
    "duration": 3,
    "start_time": "2021-07-07T12:38:47.422Z"
   },
   {
    "duration": 30,
    "start_time": "2021-07-07T12:38:47.427Z"
   },
   {
    "duration": 16,
    "start_time": "2021-07-07T12:38:53.305Z"
   },
   {
    "duration": 10,
    "start_time": "2021-07-07T12:38:53.499Z"
   },
   {
    "duration": 8,
    "start_time": "2021-07-07T12:39:48.161Z"
   },
   {
    "duration": 27,
    "start_time": "2021-07-07T12:41:17.629Z"
   },
   {
    "duration": 17,
    "start_time": "2021-07-07T12:41:17.867Z"
   },
   {
    "duration": 21,
    "start_time": "2021-07-07T12:41:19.310Z"
   },
   {
    "duration": 7,
    "start_time": "2021-07-07T12:41:19.544Z"
   },
   {
    "duration": 20,
    "start_time": "2021-07-07T12:41:20.504Z"
   },
   {
    "duration": 554,
    "start_time": "2021-07-07T12:56:23.696Z"
   },
   {
    "duration": 200,
    "start_time": "2021-07-07T12:56:25.234Z"
   },
   {
    "duration": 119,
    "start_time": "2021-07-07T12:56:25.480Z"
   },
   {
    "duration": 4,
    "start_time": "2021-07-07T12:56:25.762Z"
   },
   {
    "duration": 26,
    "start_time": "2021-07-07T12:56:27.172Z"
   },
   {
    "duration": 12,
    "start_time": "2021-07-07T12:56:29.051Z"
   },
   {
    "duration": 10,
    "start_time": "2021-07-07T12:56:29.291Z"
   },
   {
    "duration": 8,
    "start_time": "2021-07-07T12:56:29.623Z"
   },
   {
    "duration": 28,
    "start_time": "2021-07-07T12:56:32.137Z"
   },
   {
    "duration": 19,
    "start_time": "2021-07-07T12:56:39.785Z"
   },
   {
    "duration": 20,
    "start_time": "2021-07-07T12:56:44.297Z"
   },
   {
    "duration": 7,
    "start_time": "2021-07-07T12:56:45.392Z"
   },
   {
    "duration": 23,
    "start_time": "2021-07-07T12:56:46.615Z"
   },
   {
    "duration": 4,
    "start_time": "2021-07-07T12:57:06.625Z"
   },
   {
    "duration": 32,
    "start_time": "2021-07-07T12:57:36.690Z"
   },
   {
    "duration": 18,
    "start_time": "2021-07-07T12:58:00.149Z"
   },
   {
    "duration": 15,
    "start_time": "2021-07-07T12:59:16.793Z"
   },
   {
    "duration": 7,
    "start_time": "2021-07-07T13:19:22.624Z"
   },
   {
    "duration": 6,
    "start_time": "2021-07-07T14:17:33.527Z"
   },
   {
    "duration": 9,
    "start_time": "2021-07-07T14:17:48.409Z"
   },
   {
    "duration": 8,
    "start_time": "2021-07-07T14:20:13.060Z"
   },
   {
    "duration": 8,
    "start_time": "2021-07-07T14:20:37.957Z"
   },
   {
    "duration": 8,
    "start_time": "2021-07-07T14:20:47.470Z"
   },
   {
    "duration": 9,
    "start_time": "2021-07-07T14:20:54.503Z"
   },
   {
    "duration": 10,
    "start_time": "2021-07-07T14:28:57.763Z"
   },
   {
    "duration": 3,
    "start_time": "2021-07-07T14:30:23.377Z"
   },
   {
    "duration": 3,
    "start_time": "2021-07-07T14:30:36.489Z"
   },
   {
    "duration": 103,
    "start_time": "2021-07-07T14:30:52.351Z"
   },
   {
    "duration": 8,
    "start_time": "2021-07-07T14:30:54.763Z"
   },
   {
    "duration": 8,
    "start_time": "2021-07-07T14:31:29.301Z"
   },
   {
    "duration": 13,
    "start_time": "2021-07-07T14:31:44.516Z"
   },
   {
    "duration": 7,
    "start_time": "2021-07-07T14:33:10.972Z"
   },
   {
    "duration": 11,
    "start_time": "2021-07-07T14:33:27.780Z"
   },
   {
    "duration": 8,
    "start_time": "2021-07-07T14:34:44.588Z"
   },
   {
    "duration": 57,
    "start_time": "2021-07-07T14:35:59.042Z"
   },
   {
    "duration": 3,
    "start_time": "2021-07-07T14:36:28.168Z"
   },
   {
    "duration": 5,
    "start_time": "2021-07-07T14:36:46.254Z"
   },
   {
    "duration": 4,
    "start_time": "2021-07-07T14:36:52.714Z"
   },
   {
    "duration": 3,
    "start_time": "2021-07-07T14:36:56.612Z"
   },
   {
    "duration": 4,
    "start_time": "2021-07-07T14:36:57.049Z"
   },
   {
    "duration": 3,
    "start_time": "2021-07-07T14:39:21.214Z"
   },
   {
    "duration": 7,
    "start_time": "2021-07-07T14:39:52.406Z"
   },
   {
    "duration": 11,
    "start_time": "2021-07-07T14:39:58.576Z"
   },
   {
    "duration": 9,
    "start_time": "2021-07-07T14:40:26.301Z"
   },
   {
    "duration": 10,
    "start_time": "2021-07-07T14:40:31.704Z"
   },
   {
    "duration": 11,
    "start_time": "2021-07-07T14:40:36.249Z"
   },
   {
    "duration": 10,
    "start_time": "2021-07-07T14:40:39.783Z"
   },
   {
    "duration": 9,
    "start_time": "2021-07-07T14:40:48.558Z"
   },
   {
    "duration": 10,
    "start_time": "2021-07-07T14:40:57.143Z"
   },
   {
    "duration": 9,
    "start_time": "2021-07-07T14:41:06.074Z"
   },
   {
    "duration": 4324,
    "start_time": "2021-07-07T14:41:22.004Z"
   },
   {
    "duration": 11,
    "start_time": "2021-07-07T14:41:33.392Z"
   },
   {
    "duration": 9,
    "start_time": "2021-07-07T14:41:39.288Z"
   },
   {
    "duration": 569,
    "start_time": "2021-07-07T14:42:14.387Z"
   },
   {
    "duration": 197,
    "start_time": "2021-07-07T14:42:14.959Z"
   },
   {
    "duration": 84,
    "start_time": "2021-07-07T14:42:16.052Z"
   },
   {
    "duration": 4,
    "start_time": "2021-07-07T14:42:16.900Z"
   },
   {
    "duration": 27,
    "start_time": "2021-07-07T14:42:19.898Z"
   },
   {
    "duration": 12,
    "start_time": "2021-07-07T14:42:21.577Z"
   },
   {
    "duration": 9,
    "start_time": "2021-07-07T14:42:21.813Z"
   },
   {
    "duration": 9,
    "start_time": "2021-07-07T14:42:22.569Z"
   },
   {
    "duration": 29,
    "start_time": "2021-07-07T14:42:25.837Z"
   },
   {
    "duration": 20,
    "start_time": "2021-07-07T14:42:27.003Z"
   },
   {
    "duration": 21,
    "start_time": "2021-07-07T14:42:28.767Z"
   },
   {
    "duration": 7,
    "start_time": "2021-07-07T14:42:29.838Z"
   },
   {
    "duration": 4,
    "start_time": "2021-07-07T14:43:25.493Z"
   },
   {
    "duration": 7,
    "start_time": "2021-07-07T14:43:26.573Z"
   },
   {
    "duration": 10,
    "start_time": "2021-07-07T14:43:31.639Z"
   },
   {
    "duration": 9,
    "start_time": "2021-07-07T14:43:32.046Z"
   },
   {
    "duration": 10,
    "start_time": "2021-07-07T14:43:33.301Z"
   },
   {
    "duration": 12,
    "start_time": "2021-07-07T14:43:33.658Z"
   },
   {
    "duration": 8,
    "start_time": "2021-07-07T14:43:34.552Z"
   },
   {
    "duration": 9,
    "start_time": "2021-07-07T14:43:35.058Z"
   },
   {
    "duration": 12,
    "start_time": "2021-07-07T14:43:35.914Z"
   },
   {
    "duration": 17,
    "start_time": "2021-07-07T14:45:34.368Z"
   },
   {
    "duration": 512,
    "start_time": "2021-07-07T14:51:58.236Z"
   },
   {
    "duration": 223,
    "start_time": "2021-07-07T14:51:58.750Z"
   },
   {
    "duration": 93,
    "start_time": "2021-07-07T14:51:58.977Z"
   },
   {
    "duration": 4,
    "start_time": "2021-07-07T14:51:59.071Z"
   },
   {
    "duration": 37,
    "start_time": "2021-07-07T14:51:59.077Z"
   },
   {
    "duration": 18,
    "start_time": "2021-07-07T14:51:59.116Z"
   },
   {
    "duration": 10,
    "start_time": "2021-07-07T14:51:59.137Z"
   },
   {
    "duration": 8,
    "start_time": "2021-07-07T14:51:59.149Z"
   },
   {
    "duration": 54,
    "start_time": "2021-07-07T14:51:59.158Z"
   },
   {
    "duration": 18,
    "start_time": "2021-07-07T14:51:59.213Z"
   },
   {
    "duration": 22,
    "start_time": "2021-07-07T14:51:59.232Z"
   },
   {
    "duration": 36,
    "start_time": "2021-07-07T14:51:59.255Z"
   },
   {
    "duration": 7,
    "start_time": "2021-07-07T14:51:59.293Z"
   },
   {
    "duration": 10,
    "start_time": "2021-07-07T14:51:59.302Z"
   },
   {
    "duration": 9,
    "start_time": "2021-07-07T14:51:59.313Z"
   },
   {
    "duration": 11,
    "start_time": "2021-07-07T14:51:59.324Z"
   },
   {
    "duration": 8,
    "start_time": "2021-07-07T14:51:59.337Z"
   },
   {
    "duration": 46,
    "start_time": "2021-07-07T14:51:59.347Z"
   },
   {
    "duration": 22,
    "start_time": "2021-07-07T14:51:59.395Z"
   },
   {
    "duration": 24,
    "start_time": "2021-07-07T14:57:32.911Z"
   },
   {
    "duration": 7,
    "start_time": "2021-07-07T14:58:22.070Z"
   },
   {
    "duration": 4,
    "start_time": "2021-07-07T14:59:11.239Z"
   },
   {
    "duration": 25,
    "start_time": "2021-07-07T15:07:22.208Z"
   },
   {
    "duration": 16,
    "start_time": "2021-07-07T15:08:25.560Z"
   },
   {
    "duration": 15,
    "start_time": "2021-07-07T15:08:40.647Z"
   },
   {
    "duration": 14,
    "start_time": "2021-07-07T15:08:46.669Z"
   },
   {
    "duration": 533,
    "start_time": "2021-07-07T15:18:07.440Z"
   },
   {
    "duration": 173,
    "start_time": "2021-07-07T15:18:07.974Z"
   },
   {
    "duration": 84,
    "start_time": "2021-07-07T15:18:08.149Z"
   },
   {
    "duration": 3,
    "start_time": "2021-07-07T15:18:08.235Z"
   },
   {
    "duration": 30,
    "start_time": "2021-07-07T15:18:08.240Z"
   },
   {
    "duration": 22,
    "start_time": "2021-07-07T15:18:08.272Z"
   },
   {
    "duration": 11,
    "start_time": "2021-07-07T15:18:08.295Z"
   },
   {
    "duration": 11,
    "start_time": "2021-07-07T15:18:08.309Z"
   },
   {
    "duration": 40,
    "start_time": "2021-07-07T15:18:08.322Z"
   },
   {
    "duration": 42,
    "start_time": "2021-07-07T15:18:08.364Z"
   },
   {
    "duration": 22,
    "start_time": "2021-07-07T15:18:08.408Z"
   },
   {
    "duration": 5,
    "start_time": "2021-07-07T15:18:08.432Z"
   },
   {
    "duration": 13,
    "start_time": "2021-07-07T15:18:08.439Z"
   },
   {
    "duration": 9,
    "start_time": "2021-07-07T15:18:08.454Z"
   },
   {
    "duration": 32,
    "start_time": "2021-07-07T15:18:08.465Z"
   },
   {
    "duration": 10,
    "start_time": "2021-07-07T15:18:08.501Z"
   },
   {
    "duration": 7,
    "start_time": "2021-07-07T15:18:08.513Z"
   },
   {
    "duration": 11,
    "start_time": "2021-07-07T15:18:08.521Z"
   },
   {
    "duration": 17,
    "start_time": "2021-07-07T15:18:08.534Z"
   },
   {
    "duration": 44,
    "start_time": "2021-07-07T15:18:08.553Z"
   },
   {
    "duration": 22,
    "start_time": "2021-07-07T15:18:08.599Z"
   },
   {
    "duration": 61,
    "start_time": "2021-07-07T15:18:08.622Z"
   },
   {
    "duration": 7,
    "start_time": "2021-07-07T15:18:39.457Z"
   },
   {
    "duration": 5,
    "start_time": "2021-07-07T16:05:17.020Z"
   },
   {
    "duration": 5,
    "start_time": "2021-07-07T16:51:28.794Z"
   },
   {
    "duration": 546,
    "start_time": "2021-07-07T16:52:26.306Z"
   },
   {
    "duration": 203,
    "start_time": "2021-07-07T16:52:27.523Z"
   },
   {
    "duration": 85,
    "start_time": "2021-07-07T16:52:27.736Z"
   },
   {
    "duration": 4,
    "start_time": "2021-07-07T16:52:27.899Z"
   },
   {
    "duration": 25,
    "start_time": "2021-07-07T16:52:28.674Z"
   },
   {
    "duration": 8,
    "start_time": "2021-07-07T16:52:32.956Z"
   },
   {
    "duration": 18,
    "start_time": "2021-07-07T16:52:35.616Z"
   },
   {
    "duration": 6,
    "start_time": "2021-07-07T16:52:36.913Z"
   },
   {
    "duration": 11,
    "start_time": "2021-07-07T16:52:40.258Z"
   },
   {
    "duration": 10,
    "start_time": "2021-07-07T16:52:46.251Z"
   },
   {
    "duration": 8,
    "start_time": "2021-07-07T16:52:47.182Z"
   },
   {
    "duration": 27,
    "start_time": "2021-07-07T16:53:20.391Z"
   },
   {
    "duration": 20,
    "start_time": "2021-07-07T16:53:22.022Z"
   },
   {
    "duration": 23,
    "start_time": "2021-07-07T16:53:23.690Z"
   },
   {
    "duration": 8,
    "start_time": "2021-07-07T16:53:24.261Z"
   },
   {
    "duration": 4,
    "start_time": "2021-07-07T16:53:38.733Z"
   },
   {
    "duration": 7,
    "start_time": "2021-07-07T16:53:40.445Z"
   },
   {
    "duration": 11,
    "start_time": "2021-07-07T16:53:41.348Z"
   },
   {
    "duration": 13,
    "start_time": "2021-07-07T16:53:45.250Z"
   },
   {
    "duration": 12,
    "start_time": "2021-07-07T16:53:45.467Z"
   },
   {
    "duration": 4,
    "start_time": "2021-07-07T16:55:32.704Z"
   },
   {
    "duration": 12,
    "start_time": "2021-07-07T16:55:49.012Z"
   },
   {
    "duration": 18,
    "start_time": "2021-07-07T16:55:49.547Z"
   },
   {
    "duration": 611,
    "start_time": "2021-07-07T16:58:35.156Z"
   },
   {
    "duration": 200,
    "start_time": "2021-07-07T16:58:35.770Z"
   },
   {
    "duration": 86,
    "start_time": "2021-07-07T16:58:35.972Z"
   },
   {
    "duration": 3,
    "start_time": "2021-07-07T16:58:36.060Z"
   },
   {
    "duration": 27,
    "start_time": "2021-07-07T16:58:36.065Z"
   },
   {
    "duration": 8,
    "start_time": "2021-07-07T16:58:36.094Z"
   },
   {
    "duration": 17,
    "start_time": "2021-07-07T16:58:36.103Z"
   },
   {
    "duration": 5,
    "start_time": "2021-07-07T16:58:36.123Z"
   },
   {
    "duration": 11,
    "start_time": "2021-07-07T16:58:36.130Z"
   },
   {
    "duration": 7,
    "start_time": "2021-07-07T16:58:36.143Z"
   },
   {
    "duration": 37,
    "start_time": "2021-07-07T16:58:36.152Z"
   },
   {
    "duration": 27,
    "start_time": "2021-07-07T16:58:36.191Z"
   },
   {
    "duration": 19,
    "start_time": "2021-07-07T16:58:36.219Z"
   },
   {
    "duration": 49,
    "start_time": "2021-07-07T16:58:36.240Z"
   },
   {
    "duration": 6,
    "start_time": "2021-07-07T16:58:36.291Z"
   },
   {
    "duration": 3,
    "start_time": "2021-07-07T16:58:36.299Z"
   },
   {
    "duration": 13,
    "start_time": "2021-07-07T16:58:36.304Z"
   },
   {
    "duration": 10,
    "start_time": "2021-07-07T16:58:36.319Z"
   },
   {
    "duration": 10,
    "start_time": "2021-07-07T16:58:36.331Z"
   },
   {
    "duration": 44,
    "start_time": "2021-07-07T16:58:36.343Z"
   },
   {
    "duration": 4,
    "start_time": "2021-07-07T16:58:36.388Z"
   },
   {
    "duration": 13,
    "start_time": "2021-07-07T16:58:36.394Z"
   },
   {
    "duration": 16,
    "start_time": "2021-07-07T16:58:36.410Z"
   },
   {
    "duration": 8,
    "start_time": "2021-07-07T17:02:31.629Z"
   },
   {
    "duration": 8,
    "start_time": "2021-07-07T17:02:34.308Z"
   },
   {
    "duration": 6,
    "start_time": "2021-07-07T17:05:13.483Z"
   },
   {
    "duration": 17,
    "start_time": "2021-07-07T17:05:20.606Z"
   },
   {
    "duration": 7,
    "start_time": "2021-07-07T17:05:34.638Z"
   },
   {
    "duration": 3,
    "start_time": "2021-07-07T17:06:31.883Z"
   },
   {
    "duration": 570,
    "start_time": "2021-07-07T17:06:37.165Z"
   },
   {
    "duration": 174,
    "start_time": "2021-07-07T17:06:37.737Z"
   },
   {
    "duration": 47,
    "start_time": "2021-07-07T17:06:37.913Z"
   },
   {
    "duration": 3,
    "start_time": "2021-07-07T17:06:37.962Z"
   },
   {
    "duration": 27,
    "start_time": "2021-07-07T17:06:37.967Z"
   },
   {
    "duration": 7,
    "start_time": "2021-07-07T17:06:37.996Z"
   },
   {
    "duration": 16,
    "start_time": "2021-07-07T17:06:38.005Z"
   },
   {
    "duration": 6,
    "start_time": "2021-07-07T17:06:38.024Z"
   },
   {
    "duration": 12,
    "start_time": "2021-07-07T17:06:38.031Z"
   },
   {
    "duration": 41,
    "start_time": "2021-07-07T17:06:38.045Z"
   },
   {
    "duration": 8,
    "start_time": "2021-07-07T17:06:38.088Z"
   },
   {
    "duration": 26,
    "start_time": "2021-07-07T17:06:38.098Z"
   },
   {
    "duration": 17,
    "start_time": "2021-07-07T17:06:38.126Z"
   },
   {
    "duration": 43,
    "start_time": "2021-07-07T17:06:38.144Z"
   },
   {
    "duration": 6,
    "start_time": "2021-07-07T17:06:38.188Z"
   },
   {
    "duration": 5,
    "start_time": "2021-07-07T17:06:38.195Z"
   },
   {
    "duration": 9,
    "start_time": "2021-07-07T17:06:38.201Z"
   },
   {
    "duration": 12,
    "start_time": "2021-07-07T17:06:38.212Z"
   },
   {
    "duration": 11,
    "start_time": "2021-07-07T17:06:38.226Z"
   },
   {
    "duration": 47,
    "start_time": "2021-07-07T17:06:38.239Z"
   },
   {
    "duration": 4,
    "start_time": "2021-07-07T17:06:38.288Z"
   },
   {
    "duration": 13,
    "start_time": "2021-07-07T17:06:38.293Z"
   },
   {
    "duration": 5,
    "start_time": "2021-07-07T17:06:38.309Z"
   },
   {
    "duration": 18,
    "start_time": "2021-07-07T17:06:38.325Z"
   },
   {
    "duration": 20,
    "start_time": "2021-07-07T17:07:02.805Z"
   },
   {
    "duration": 19,
    "start_time": "2021-07-07T17:07:08.527Z"
   },
   {
    "duration": 19,
    "start_time": "2021-07-07T17:07:12.758Z"
   },
   {
    "duration": 22,
    "start_time": "2021-07-07T17:07:17.497Z"
   },
   {
    "duration": 19,
    "start_time": "2021-07-07T17:07:19.645Z"
   },
   {
    "duration": 10,
    "start_time": "2021-07-07T17:07:34.239Z"
   },
   {
    "duration": 17,
    "start_time": "2021-07-07T17:07:54.144Z"
   },
   {
    "duration": 14,
    "start_time": "2021-07-07T17:08:14.357Z"
   },
   {
    "duration": 616,
    "start_time": "2021-07-07T17:08:45.254Z"
   },
   {
    "duration": 178,
    "start_time": "2021-07-07T17:08:45.872Z"
   },
   {
    "duration": 60,
    "start_time": "2021-07-07T17:08:46.054Z"
   },
   {
    "duration": 3,
    "start_time": "2021-07-07T17:08:46.116Z"
   },
   {
    "duration": 26,
    "start_time": "2021-07-07T17:08:46.121Z"
   },
   {
    "duration": 7,
    "start_time": "2021-07-07T17:08:46.149Z"
   },
   {
    "duration": 17,
    "start_time": "2021-07-07T17:08:46.158Z"
   },
   {
    "duration": 14,
    "start_time": "2021-07-07T17:08:46.176Z"
   },
   {
    "duration": 17,
    "start_time": "2021-07-07T17:08:46.193Z"
   },
   {
    "duration": 9,
    "start_time": "2021-07-07T17:08:46.211Z"
   },
   {
    "duration": 21,
    "start_time": "2021-07-07T17:08:46.221Z"
   },
   {
    "duration": 49,
    "start_time": "2021-07-07T17:08:46.244Z"
   },
   {
    "duration": 24,
    "start_time": "2021-07-07T17:08:46.295Z"
   },
   {
    "duration": 22,
    "start_time": "2021-07-07T17:08:46.321Z"
   },
   {
    "duration": 6,
    "start_time": "2021-07-07T17:08:46.345Z"
   },
   {
    "duration": 5,
    "start_time": "2021-07-07T17:08:46.353Z"
   },
   {
    "duration": 13,
    "start_time": "2021-07-07T17:08:46.386Z"
   },
   {
    "duration": 12,
    "start_time": "2021-07-07T17:08:46.402Z"
   },
   {
    "duration": 10,
    "start_time": "2021-07-07T17:08:46.415Z"
   },
   {
    "duration": 7,
    "start_time": "2021-07-07T17:08:46.427Z"
   },
   {
    "duration": 8,
    "start_time": "2021-07-07T17:08:46.435Z"
   },
   {
    "duration": 68,
    "start_time": "2021-07-07T17:08:46.446Z"
   },
   {
    "duration": 13,
    "start_time": "2021-07-07T17:08:46.516Z"
   },
   {
    "duration": 78,
    "start_time": "2021-07-07T17:08:46.530Z"
   },
   {
    "duration": 40,
    "start_time": "2021-07-07T17:09:08.185Z"
   },
   {
    "duration": 16,
    "start_time": "2021-07-07T17:09:19.324Z"
   },
   {
    "duration": 21,
    "start_time": "2021-07-07T17:09:23.290Z"
   },
   {
    "duration": 13,
    "start_time": "2021-07-07T17:09:54.812Z"
   },
   {
    "duration": 13,
    "start_time": "2021-07-07T17:10:02.039Z"
   },
   {
    "duration": 10,
    "start_time": "2021-07-07T17:10:29.632Z"
   },
   {
    "duration": 13,
    "start_time": "2021-07-07T17:10:52.372Z"
   },
   {
    "duration": 13,
    "start_time": "2021-07-07T17:11:17.270Z"
   },
   {
    "duration": 13,
    "start_time": "2021-07-07T17:14:59.284Z"
   },
   {
    "duration": 547,
    "start_time": "2021-07-07T17:18:52.403Z"
   },
   {
    "duration": 163,
    "start_time": "2021-07-07T17:18:52.952Z"
   },
   {
    "duration": 44,
    "start_time": "2021-07-07T17:18:53.117Z"
   },
   {
    "duration": 3,
    "start_time": "2021-07-07T17:18:53.162Z"
   },
   {
    "duration": 26,
    "start_time": "2021-07-07T17:18:53.167Z"
   },
   {
    "duration": 6,
    "start_time": "2021-07-07T17:18:53.195Z"
   },
   {
    "duration": 15,
    "start_time": "2021-07-07T17:18:53.203Z"
   },
   {
    "duration": 5,
    "start_time": "2021-07-07T17:18:53.220Z"
   },
   {
    "duration": 11,
    "start_time": "2021-07-07T17:18:53.228Z"
   },
   {
    "duration": 9,
    "start_time": "2021-07-07T17:18:53.241Z"
   },
   {
    "duration": 41,
    "start_time": "2021-07-07T17:18:53.252Z"
   },
   {
    "duration": 33,
    "start_time": "2021-07-07T17:18:53.295Z"
   },
   {
    "duration": 19,
    "start_time": "2021-07-07T17:18:53.330Z"
   },
   {
    "duration": 49,
    "start_time": "2021-07-07T17:18:53.350Z"
   },
   {
    "duration": 5,
    "start_time": "2021-07-07T17:18:53.401Z"
   },
   {
    "duration": 5,
    "start_time": "2021-07-07T17:18:53.408Z"
   },
   {
    "duration": 11,
    "start_time": "2021-07-07T17:18:53.414Z"
   },
   {
    "duration": 9,
    "start_time": "2021-07-07T17:18:53.427Z"
   },
   {
    "duration": 10,
    "start_time": "2021-07-07T17:18:53.437Z"
   },
   {
    "duration": 39,
    "start_time": "2021-07-07T17:18:53.448Z"
   },
   {
    "duration": 26,
    "start_time": "2021-07-07T17:18:55.799Z"
   },
   {
    "duration": 598,
    "start_time": "2021-07-07T17:20:17.862Z"
   },
   {
    "duration": 161,
    "start_time": "2021-07-07T17:20:18.462Z"
   },
   {
    "duration": 45,
    "start_time": "2021-07-07T17:20:18.626Z"
   },
   {
    "duration": 4,
    "start_time": "2021-07-07T17:20:18.673Z"
   },
   {
    "duration": 38,
    "start_time": "2021-07-07T17:20:26.877Z"
   },
   {
    "duration": 7,
    "start_time": "2021-07-07T17:20:37.405Z"
   },
   {
    "duration": 19,
    "start_time": "2021-07-07T17:20:51.534Z"
   },
   {
    "duration": 5,
    "start_time": "2021-07-07T17:20:57.228Z"
   },
   {
    "duration": 7,
    "start_time": "2021-07-07T17:21:08.235Z"
   },
   {
    "duration": 19,
    "start_time": "2021-07-07T17:21:42.158Z"
   },
   {
    "duration": 14,
    "start_time": "2021-07-07T17:21:50.225Z"
   },
   {
    "duration": 22,
    "start_time": "2021-07-07T17:22:54.104Z"
   },
   {
    "duration": 5,
    "start_time": "2021-07-07T17:22:56.371Z"
   },
   {
    "duration": 14,
    "start_time": "2021-07-07T17:22:58.316Z"
   },
   {
    "duration": 5,
    "start_time": "2021-07-07T17:22:58.493Z"
   },
   {
    "duration": 35,
    "start_time": "2021-07-07T17:22:59.666Z"
   },
   {
    "duration": 6,
    "start_time": "2021-07-07T17:23:02.410Z"
   },
   {
    "duration": 611,
    "start_time": "2021-07-07T17:24:59.664Z"
   },
   {
    "duration": 178,
    "start_time": "2021-07-07T17:25:01.945Z"
   },
   {
    "duration": 47,
    "start_time": "2021-07-07T17:25:02.125Z"
   },
   {
    "duration": 2,
    "start_time": "2021-07-07T17:25:07.903Z"
   },
   {
    "duration": 254,
    "start_time": "2021-07-07T17:25:08.232Z"
   },
   {
    "duration": 182,
    "start_time": "2021-07-07T17:25:08.671Z"
   },
   {
    "duration": 6,
    "start_time": "2021-07-07T17:25:13.104Z"
   },
   {
    "duration": 36,
    "start_time": "2021-07-07T17:25:13.662Z"
   },
   {
    "duration": 7,
    "start_time": "2021-07-07T17:25:14.528Z"
   },
   {
    "duration": 24,
    "start_time": "2021-07-07T17:25:27.982Z"
   },
   {
    "duration": 3,
    "start_time": "2021-07-07T17:25:48.982Z"
   },
   {
    "duration": 165,
    "start_time": "2021-07-07T17:25:48.987Z"
   },
   {
    "duration": 50,
    "start_time": "2021-07-07T17:25:49.154Z"
   },
   {
    "duration": 4,
    "start_time": "2021-07-07T17:25:49.206Z"
   },
   {
    "duration": 26,
    "start_time": "2021-07-07T17:25:49.212Z"
   },
   {
    "duration": 7,
    "start_time": "2021-07-07T17:25:49.240Z"
   },
   {
    "duration": 16,
    "start_time": "2021-07-07T17:25:49.249Z"
   },
   {
    "duration": 22,
    "start_time": "2021-07-07T17:25:49.266Z"
   },
   {
    "duration": 16,
    "start_time": "2021-07-07T17:25:49.291Z"
   },
   {
    "duration": 9,
    "start_time": "2021-07-07T17:25:49.309Z"
   },
   {
    "duration": 7,
    "start_time": "2021-07-07T17:25:49.319Z"
   },
   {
    "duration": 28,
    "start_time": "2021-07-07T17:25:49.328Z"
   },
   {
    "duration": 44,
    "start_time": "2021-07-07T17:25:49.357Z"
   },
   {
    "duration": 22,
    "start_time": "2021-07-07T17:25:49.403Z"
   },
   {
    "duration": 7,
    "start_time": "2021-07-07T17:25:49.427Z"
   },
   {
    "duration": 3,
    "start_time": "2021-07-07T17:25:49.436Z"
   },
   {
    "duration": 44,
    "start_time": "2021-07-07T17:25:49.441Z"
   },
   {
    "duration": 12,
    "start_time": "2021-07-07T17:25:49.488Z"
   },
   {
    "duration": 13,
    "start_time": "2021-07-07T17:25:49.502Z"
   },
   {
    "duration": 10,
    "start_time": "2021-07-07T17:25:49.516Z"
   },
   {
    "duration": 62,
    "start_time": "2021-07-07T17:25:49.527Z"
   },
   {
    "duration": 26,
    "start_time": "2021-07-07T17:26:51.809Z"
   },
   {
    "duration": 26,
    "start_time": "2021-07-07T17:26:55.759Z"
   },
   {
    "duration": 26,
    "start_time": "2021-07-07T17:27:04.501Z"
   },
   {
    "duration": 25,
    "start_time": "2021-07-07T17:28:24.859Z"
   },
   {
    "duration": 21,
    "start_time": "2021-07-07T17:28:55.250Z"
   },
   {
    "duration": 21,
    "start_time": "2021-07-07T17:28:58.885Z"
   },
   {
    "duration": 7,
    "start_time": "2021-07-07T17:45:40.972Z"
   },
   {
    "duration": 13,
    "start_time": "2021-07-07T17:45:42.529Z"
   },
   {
    "duration": 27,
    "start_time": "2021-07-07T17:45:51.026Z"
   },
   {
    "duration": 518,
    "start_time": "2021-07-07T17:46:15.532Z"
   },
   {
    "duration": 235,
    "start_time": "2021-07-07T17:46:16.053Z"
   },
   {
    "duration": 80,
    "start_time": "2021-07-07T17:46:16.292Z"
   },
   {
    "duration": 5,
    "start_time": "2021-07-07T17:46:16.373Z"
   },
   {
    "duration": 26,
    "start_time": "2021-07-07T17:46:16.380Z"
   },
   {
    "duration": 7,
    "start_time": "2021-07-07T17:46:16.408Z"
   },
   {
    "duration": 16,
    "start_time": "2021-07-07T17:46:16.418Z"
   },
   {
    "duration": 5,
    "start_time": "2021-07-07T17:46:16.436Z"
   },
   {
    "duration": 13,
    "start_time": "2021-07-07T17:46:16.442Z"
   },
   {
    "duration": 35,
    "start_time": "2021-07-07T17:46:16.456Z"
   },
   {
    "duration": 8,
    "start_time": "2021-07-07T17:46:16.493Z"
   },
   {
    "duration": 28,
    "start_time": "2021-07-07T17:46:16.502Z"
   },
   {
    "duration": 17,
    "start_time": "2021-07-07T17:46:16.532Z"
   },
   {
    "duration": 44,
    "start_time": "2021-07-07T17:46:16.551Z"
   },
   {
    "duration": 6,
    "start_time": "2021-07-07T17:46:16.597Z"
   },
   {
    "duration": 4,
    "start_time": "2021-07-07T17:46:16.605Z"
   },
   {
    "duration": 9,
    "start_time": "2021-07-07T17:46:16.610Z"
   },
   {
    "duration": 9,
    "start_time": "2021-07-07T17:46:16.621Z"
   },
   {
    "duration": 10,
    "start_time": "2021-07-07T17:46:16.632Z"
   },
   {
    "duration": 43,
    "start_time": "2021-07-07T17:46:16.644Z"
   },
   {
    "duration": 26,
    "start_time": "2021-07-07T17:46:16.689Z"
   },
   {
    "duration": 19,
    "start_time": "2021-07-07T17:46:16.718Z"
   },
   {
    "duration": 8,
    "start_time": "2021-07-07T17:46:16.738Z"
   },
   {
    "duration": 43,
    "start_time": "2021-07-07T17:46:16.747Z"
   },
   {
    "duration": 19,
    "start_time": "2021-07-07T17:46:16.791Z"
   },
   {
    "duration": 9,
    "start_time": "2021-07-07T17:46:16.812Z"
   },
   {
    "duration": 60,
    "start_time": "2021-07-07T17:46:16.822Z"
   },
   {
    "duration": -8,
    "start_time": "2021-07-07T17:46:16.892Z"
   },
   {
    "duration": 12,
    "start_time": "2021-07-07T17:48:47.707Z"
   },
   {
    "duration": 553,
    "start_time": "2021-07-07T18:10:09.350Z"
   },
   {
    "duration": 230,
    "start_time": "2021-07-07T18:10:09.905Z"
   },
   {
    "duration": 97,
    "start_time": "2021-07-07T18:10:10.137Z"
   },
   {
    "duration": 5,
    "start_time": "2021-07-07T18:10:10.236Z"
   },
   {
    "duration": 29,
    "start_time": "2021-07-07T18:10:10.242Z"
   },
   {
    "duration": 7,
    "start_time": "2021-07-07T18:10:10.272Z"
   },
   {
    "duration": 15,
    "start_time": "2021-07-07T18:10:10.281Z"
   },
   {
    "duration": 4,
    "start_time": "2021-07-07T18:10:10.299Z"
   },
   {
    "duration": 14,
    "start_time": "2021-07-07T18:10:10.305Z"
   },
   {
    "duration": 8,
    "start_time": "2021-07-07T18:10:10.321Z"
   },
   {
    "duration": 8,
    "start_time": "2021-07-07T18:10:10.331Z"
   },
   {
    "duration": 56,
    "start_time": "2021-07-07T18:10:10.341Z"
   },
   {
    "duration": 19,
    "start_time": "2021-07-07T18:10:10.399Z"
   },
   {
    "duration": 23,
    "start_time": "2021-07-07T18:10:10.419Z"
   },
   {
    "duration": 6,
    "start_time": "2021-07-07T18:10:10.444Z"
   },
   {
    "duration": 9,
    "start_time": "2021-07-07T18:10:10.451Z"
   },
   {
    "duration": 30,
    "start_time": "2021-07-07T18:10:10.462Z"
   },
   {
    "duration": 9,
    "start_time": "2021-07-07T18:10:10.494Z"
   },
   {
    "duration": 14,
    "start_time": "2021-07-07T18:10:10.505Z"
   },
   {
    "duration": 7,
    "start_time": "2021-07-07T18:10:10.521Z"
   },
   {
    "duration": 26,
    "start_time": "2021-07-07T18:10:10.530Z"
   },
   {
    "duration": 44,
    "start_time": "2021-07-07T18:10:10.558Z"
   },
   {
    "duration": 7,
    "start_time": "2021-07-07T18:10:10.605Z"
   },
   {
    "duration": 11,
    "start_time": "2021-07-07T18:10:10.614Z"
   },
   {
    "duration": 19,
    "start_time": "2021-07-07T18:10:10.626Z"
   },
   {
    "duration": 44,
    "start_time": "2021-07-07T18:10:10.646Z"
   },
   {
    "duration": 516,
    "start_time": "2021-07-07T18:14:00.826Z"
   },
   {
    "duration": 230,
    "start_time": "2021-07-07T18:14:01.344Z"
   },
   {
    "duration": 105,
    "start_time": "2021-07-07T18:14:01.576Z"
   },
   {
    "duration": 5,
    "start_time": "2021-07-07T18:14:01.683Z"
   },
   {
    "duration": 46,
    "start_time": "2021-07-07T18:14:01.690Z"
   },
   {
    "duration": 7,
    "start_time": "2021-07-07T18:14:01.738Z"
   },
   {
    "duration": 20,
    "start_time": "2021-07-07T18:14:01.747Z"
   },
   {
    "duration": 16,
    "start_time": "2021-07-07T18:14:01.769Z"
   },
   {
    "duration": 14,
    "start_time": "2021-07-07T18:14:01.787Z"
   },
   {
    "duration": 15,
    "start_time": "2021-07-07T18:14:01.803Z"
   },
   {
    "duration": 12,
    "start_time": "2021-07-07T18:14:01.820Z"
   },
   {
    "duration": 35,
    "start_time": "2021-07-07T18:14:01.833Z"
   },
   {
    "duration": 31,
    "start_time": "2021-07-07T18:14:01.869Z"
   },
   {
    "duration": 37,
    "start_time": "2021-07-07T18:14:01.902Z"
   },
   {
    "duration": 8,
    "start_time": "2021-07-07T18:14:01.942Z"
   },
   {
    "duration": 16,
    "start_time": "2021-07-07T18:14:01.952Z"
   },
   {
    "duration": 13,
    "start_time": "2021-07-07T18:14:01.970Z"
   },
   {
    "duration": 32,
    "start_time": "2021-07-07T18:14:01.985Z"
   },
   {
    "duration": 11,
    "start_time": "2021-07-07T18:14:02.019Z"
   },
   {
    "duration": 22,
    "start_time": "2021-07-07T18:14:02.031Z"
   },
   {
    "duration": 27,
    "start_time": "2021-07-07T18:14:02.055Z"
   },
   {
    "duration": 18,
    "start_time": "2021-07-07T18:14:02.084Z"
   },
   {
    "duration": 18,
    "start_time": "2021-07-07T18:14:02.106Z"
   },
   {
    "duration": 11,
    "start_time": "2021-07-07T18:14:02.126Z"
   },
   {
    "duration": 21,
    "start_time": "2021-07-07T18:14:02.138Z"
   },
   {
    "duration": 32,
    "start_time": "2021-07-07T18:14:02.161Z"
   },
   {
    "duration": 28,
    "start_time": "2021-07-07T18:14:44.295Z"
   },
   {
    "duration": 6,
    "start_time": "2021-07-07T18:15:05.834Z"
   },
   {
    "duration": 511,
    "start_time": "2021-07-07T18:15:41.541Z"
   },
   {
    "duration": 183,
    "start_time": "2021-07-07T18:15:42.054Z"
   },
   {
    "duration": 50,
    "start_time": "2021-07-07T18:15:42.239Z"
   },
   {
    "duration": 5,
    "start_time": "2021-07-07T18:15:42.291Z"
   },
   {
    "duration": 48,
    "start_time": "2021-07-07T18:15:42.297Z"
   },
   {
    "duration": 8,
    "start_time": "2021-07-07T18:15:42.346Z"
   },
   {
    "duration": 17,
    "start_time": "2021-07-07T18:15:42.356Z"
   },
   {
    "duration": 15,
    "start_time": "2021-07-07T18:15:42.375Z"
   },
   {
    "duration": 12,
    "start_time": "2021-07-07T18:15:42.392Z"
   },
   {
    "duration": 7,
    "start_time": "2021-07-07T18:15:42.406Z"
   },
   {
    "duration": 7,
    "start_time": "2021-07-07T18:15:42.415Z"
   },
   {
    "duration": 29,
    "start_time": "2021-07-07T18:15:42.423Z"
   },
   {
    "duration": 43,
    "start_time": "2021-07-07T18:15:42.453Z"
   },
   {
    "duration": 18,
    "start_time": "2021-07-07T18:15:42.497Z"
   },
   {
    "duration": 6,
    "start_time": "2021-07-07T18:15:42.516Z"
   },
   {
    "duration": 3,
    "start_time": "2021-07-07T18:15:42.523Z"
   },
   {
    "duration": 18,
    "start_time": "2021-07-07T18:15:42.528Z"
   },
   {
    "duration": 10,
    "start_time": "2021-07-07T18:15:42.547Z"
   },
   {
    "duration": 36,
    "start_time": "2021-07-07T18:15:42.559Z"
   },
   {
    "duration": 8,
    "start_time": "2021-07-07T18:15:42.597Z"
   },
   {
    "duration": 28,
    "start_time": "2021-07-07T18:15:42.606Z"
   },
   {
    "duration": 52,
    "start_time": "2021-07-07T18:15:42.635Z"
   },
   {
    "duration": 7,
    "start_time": "2021-07-07T18:15:42.690Z"
   },
   {
    "duration": 10,
    "start_time": "2021-07-07T18:15:42.699Z"
   },
   {
    "duration": 19,
    "start_time": "2021-07-07T18:15:42.711Z"
   },
   {
    "duration": 9,
    "start_time": "2021-07-07T18:15:42.732Z"
   },
   {
    "duration": 5,
    "start_time": "2021-07-07T18:15:42.743Z"
   },
   {
    "duration": 1450,
    "start_time": "2021-07-07T18:15:51.984Z"
   },
   {
    "duration": 161,
    "start_time": "2021-07-07T18:15:53.435Z"
   },
   {
    "duration": 124,
    "start_time": "2021-07-07T18:15:53.598Z"
   },
   {
    "duration": 5,
    "start_time": "2021-07-07T18:15:53.724Z"
   },
   {
    "duration": 34,
    "start_time": "2021-07-07T18:15:53.730Z"
   },
   {
    "duration": 7,
    "start_time": "2021-07-07T18:15:53.765Z"
   },
   {
    "duration": 15,
    "start_time": "2021-07-07T18:15:53.773Z"
   },
   {
    "duration": 5,
    "start_time": "2021-07-07T18:15:53.791Z"
   },
   {
    "duration": 19,
    "start_time": "2021-07-07T18:15:53.798Z"
   },
   {
    "duration": 9,
    "start_time": "2021-07-07T18:15:53.818Z"
   },
   {
    "duration": 19,
    "start_time": "2021-07-07T18:15:53.828Z"
   },
   {
    "duration": 27,
    "start_time": "2021-07-07T18:15:53.848Z"
   },
   {
    "duration": 16,
    "start_time": "2021-07-07T18:15:53.884Z"
   },
   {
    "duration": 29,
    "start_time": "2021-07-07T18:15:53.901Z"
   },
   {
    "duration": 5,
    "start_time": "2021-07-07T18:15:53.932Z"
   },
   {
    "duration": 15,
    "start_time": "2021-07-07T18:15:53.939Z"
   },
   {
    "duration": 13,
    "start_time": "2021-07-07T18:15:53.956Z"
   },
   {
    "duration": 20,
    "start_time": "2021-07-07T18:15:53.971Z"
   },
   {
    "duration": 14,
    "start_time": "2021-07-07T18:15:53.992Z"
   },
   {
    "duration": 9,
    "start_time": "2021-07-07T18:15:54.009Z"
   },
   {
    "duration": 28,
    "start_time": "2021-07-07T18:15:54.020Z"
   },
   {
    "duration": 50,
    "start_time": "2021-07-07T18:15:54.051Z"
   },
   {
    "duration": 8,
    "start_time": "2021-07-07T18:15:54.105Z"
   },
   {
    "duration": 11,
    "start_time": "2021-07-07T18:15:54.115Z"
   },
   {
    "duration": 20,
    "start_time": "2021-07-07T18:15:54.128Z"
   },
   {
    "duration": 13,
    "start_time": "2021-07-07T18:15:54.184Z"
   },
   {
    "duration": 7,
    "start_time": "2021-07-07T18:15:54.199Z"
   },
   {
    "duration": 7,
    "start_time": "2021-07-07T18:17:08.042Z"
   },
   {
    "duration": 8,
    "start_time": "2021-07-07T18:17:21.008Z"
   },
   {
    "duration": 7,
    "start_time": "2021-07-07T18:17:29.003Z"
   },
   {
    "duration": 8,
    "start_time": "2021-07-07T18:17:32.492Z"
   },
   {
    "duration": 9,
    "start_time": "2021-07-07T18:17:41.758Z"
   },
   {
    "duration": 255,
    "start_time": "2021-07-07T18:20:20.897Z"
   },
   {
    "duration": 173,
    "start_time": "2021-07-07T18:20:26.636Z"
   },
   {
    "duration": 7,
    "start_time": "2021-07-07T18:21:47.164Z"
   },
   {
    "duration": 254,
    "start_time": "2021-07-07T18:23:08.703Z"
   },
   {
    "duration": 21,
    "start_time": "2021-07-07T18:23:22.506Z"
   },
   {
    "duration": 315,
    "start_time": "2021-07-07T18:25:54.801Z"
   },
   {
    "duration": 34,
    "start_time": "2021-07-07T18:26:51.817Z"
   },
   {
    "duration": 327,
    "start_time": "2021-07-07T18:26:56.147Z"
   },
   {
    "duration": 342,
    "start_time": "2021-07-07T18:27:15.887Z"
   },
   {
    "duration": 302,
    "start_time": "2021-07-07T18:28:18.569Z"
   },
   {
    "duration": 226,
    "start_time": "2021-07-07T18:29:20.879Z"
   },
   {
    "duration": 207,
    "start_time": "2021-07-07T18:29:58.114Z"
   },
   {
    "duration": 140,
    "start_time": "2021-07-07T18:32:04.372Z"
   },
   {
    "duration": 158,
    "start_time": "2021-07-07T18:32:32.508Z"
   },
   {
    "duration": 145,
    "start_time": "2021-07-07T18:32:41.365Z"
   },
   {
    "duration": 132,
    "start_time": "2021-07-07T18:32:45.199Z"
   },
   {
    "duration": 11,
    "start_time": "2021-07-07T18:35:24.679Z"
   },
   {
    "duration": 268,
    "start_time": "2021-07-07T18:36:16.145Z"
   },
   {
    "duration": 227,
    "start_time": "2021-07-07T18:37:04.918Z"
   },
   {
    "duration": 3,
    "start_time": "2021-07-07T18:37:33.012Z"
   },
   {
    "duration": 671,
    "start_time": "2021-07-07T18:37:38.295Z"
   },
   {
    "duration": 54,
    "start_time": "2021-07-07T18:37:53.406Z"
   },
   {
    "duration": 631,
    "start_time": "2021-07-07T18:37:56.463Z"
   },
   {
    "duration": 19,
    "start_time": "2021-07-07T18:39:40.535Z"
   },
   {
    "duration": 20,
    "start_time": "2021-07-07T18:40:12.236Z"
   },
   {
    "duration": 633,
    "start_time": "2021-07-07T18:42:00.398Z"
   },
   {
    "duration": 218,
    "start_time": "2021-07-07T18:42:01.033Z"
   },
   {
    "duration": 49,
    "start_time": "2021-07-07T18:42:01.253Z"
   },
   {
    "duration": 5,
    "start_time": "2021-07-07T18:42:01.303Z"
   },
   {
    "duration": 27,
    "start_time": "2021-07-07T18:42:01.310Z"
   },
   {
    "duration": 8,
    "start_time": "2021-07-07T18:42:01.339Z"
   },
   {
    "duration": 20,
    "start_time": "2021-07-07T18:42:01.348Z"
   },
   {
    "duration": 6,
    "start_time": "2021-07-07T18:42:01.386Z"
   },
   {
    "duration": 16,
    "start_time": "2021-07-07T18:42:01.394Z"
   },
   {
    "duration": 9,
    "start_time": "2021-07-07T18:42:01.411Z"
   },
   {
    "duration": 11,
    "start_time": "2021-07-07T18:42:01.421Z"
   },
   {
    "duration": 31,
    "start_time": "2021-07-07T18:42:01.434Z"
   },
   {
    "duration": 18,
    "start_time": "2021-07-07T18:42:01.485Z"
   },
   {
    "duration": 23,
    "start_time": "2021-07-07T18:42:01.505Z"
   },
   {
    "duration": 6,
    "start_time": "2021-07-07T18:42:01.530Z"
   },
   {
    "duration": 10,
    "start_time": "2021-07-07T18:42:01.538Z"
   },
   {
    "duration": 13,
    "start_time": "2021-07-07T18:42:01.550Z"
   },
   {
    "duration": 24,
    "start_time": "2021-07-07T18:42:01.564Z"
   },
   {
    "duration": 20,
    "start_time": "2021-07-07T18:42:01.590Z"
   },
   {
    "duration": 8,
    "start_time": "2021-07-07T18:42:01.611Z"
   },
   {
    "duration": 31,
    "start_time": "2021-07-07T18:42:01.620Z"
   },
   {
    "duration": 39,
    "start_time": "2021-07-07T18:42:01.653Z"
   },
   {
    "duration": 8,
    "start_time": "2021-07-07T18:42:01.696Z"
   },
   {
    "duration": 13,
    "start_time": "2021-07-07T18:42:01.705Z"
   },
   {
    "duration": 20,
    "start_time": "2021-07-07T18:42:01.720Z"
   },
   {
    "duration": 12,
    "start_time": "2021-07-07T18:42:01.741Z"
   },
   {
    "duration": 35,
    "start_time": "2021-07-07T18:42:01.755Z"
   },
   {
    "duration": 14,
    "start_time": "2021-07-07T18:42:01.792Z"
   },
   {
    "duration": 188,
    "start_time": "2021-07-07T18:42:01.808Z"
   },
   {
    "duration": 19,
    "start_time": "2021-07-07T18:42:01.998Z"
   },
   {
    "duration": 175,
    "start_time": "2021-07-07T18:42:02.019Z"
   },
   {
    "duration": 134,
    "start_time": "2021-07-07T18:42:02.196Z"
   },
   {
    "duration": 10,
    "start_time": "2021-07-07T18:42:02.331Z"
   },
   {
    "duration": 19,
    "start_time": "2021-07-07T18:42:02.343Z"
   },
   {
    "duration": 628,
    "start_time": "2021-07-07T18:46:30.701Z"
   },
   {
    "duration": 183,
    "start_time": "2021-07-07T18:46:31.331Z"
   },
   {
    "duration": 48,
    "start_time": "2021-07-07T18:46:31.516Z"
   },
   {
    "duration": 5,
    "start_time": "2021-07-07T18:46:31.566Z"
   },
   {
    "duration": 28,
    "start_time": "2021-07-07T18:46:31.572Z"
   },
   {
    "duration": 8,
    "start_time": "2021-07-07T18:46:31.602Z"
   },
   {
    "duration": 19,
    "start_time": "2021-07-07T18:46:31.611Z"
   },
   {
    "duration": 6,
    "start_time": "2021-07-07T18:46:31.633Z"
   },
   {
    "duration": 17,
    "start_time": "2021-07-07T18:46:31.642Z"
   },
   {
    "duration": 10,
    "start_time": "2021-07-07T18:46:31.684Z"
   },
   {
    "duration": 9,
    "start_time": "2021-07-07T18:46:31.695Z"
   },
   {
    "duration": 28,
    "start_time": "2021-07-07T18:46:31.705Z"
   },
   {
    "duration": 18,
    "start_time": "2021-07-07T18:46:31.735Z"
   },
   {
    "duration": 48,
    "start_time": "2021-07-07T18:46:31.755Z"
   },
   {
    "duration": 6,
    "start_time": "2021-07-07T18:46:31.804Z"
   },
   {
    "duration": 4,
    "start_time": "2021-07-07T18:46:31.812Z"
   },
   {
    "duration": 9,
    "start_time": "2021-07-07T18:46:31.817Z"
   },
   {
    "duration": 10,
    "start_time": "2021-07-07T18:46:31.827Z"
   },
   {
    "duration": 12,
    "start_time": "2021-07-07T18:46:31.838Z"
   },
   {
    "duration": 39,
    "start_time": "2021-07-07T18:46:31.851Z"
   },
   {
    "duration": 24,
    "start_time": "2021-07-07T18:46:31.892Z"
   },
   {
    "duration": 15,
    "start_time": "2021-07-07T18:46:31.918Z"
   },
   {
    "duration": 7,
    "start_time": "2021-07-07T18:46:31.936Z"
   },
   {
    "duration": 8,
    "start_time": "2021-07-07T18:46:31.944Z"
   },
   {
    "duration": 19,
    "start_time": "2021-07-07T18:46:31.984Z"
   },
   {
    "duration": 10,
    "start_time": "2021-07-07T18:46:32.004Z"
   },
   {
    "duration": 5,
    "start_time": "2021-07-07T18:46:32.016Z"
   },
   {
    "duration": 9,
    "start_time": "2021-07-07T18:46:32.023Z"
   },
   {
    "duration": 199,
    "start_time": "2021-07-07T18:46:32.033Z"
   },
   {
    "duration": 19,
    "start_time": "2021-07-07T18:46:32.234Z"
   },
   {
    "duration": 159,
    "start_time": "2021-07-07T18:46:32.255Z"
   },
   {
    "duration": 134,
    "start_time": "2021-07-07T18:46:32.416Z"
   },
   {
    "duration": 10,
    "start_time": "2021-07-07T18:46:32.552Z"
   },
   {
    "duration": 34,
    "start_time": "2021-07-07T18:46:32.563Z"
   },
   {
    "duration": 1039,
    "start_time": "2021-07-08T08:41:09.419Z"
   },
   {
    "duration": 333,
    "start_time": "2021-07-08T08:41:10.459Z"
   },
   {
    "duration": 173,
    "start_time": "2021-07-08T08:41:10.794Z"
   },
   {
    "duration": 5,
    "start_time": "2021-07-08T08:41:10.968Z"
   },
   {
    "duration": 25,
    "start_time": "2021-07-08T08:41:10.975Z"
   },
   {
    "duration": 9,
    "start_time": "2021-07-08T08:41:11.002Z"
   },
   {
    "duration": 18,
    "start_time": "2021-07-08T08:41:11.013Z"
   },
   {
    "duration": 6,
    "start_time": "2021-07-08T08:41:11.033Z"
   },
   {
    "duration": 44,
    "start_time": "2021-07-08T08:41:11.042Z"
   },
   {
    "duration": 10,
    "start_time": "2021-07-08T08:41:11.088Z"
   },
   {
    "duration": 9,
    "start_time": "2021-07-08T08:41:11.100Z"
   },
   {
    "duration": 27,
    "start_time": "2021-07-08T08:41:11.111Z"
   },
   {
    "duration": 46,
    "start_time": "2021-07-08T08:41:11.140Z"
   },
   {
    "duration": 17,
    "start_time": "2021-07-08T08:41:11.187Z"
   },
   {
    "duration": 6,
    "start_time": "2021-07-08T08:41:11.206Z"
   },
   {
    "duration": 5,
    "start_time": "2021-07-08T08:41:11.213Z"
   },
   {
    "duration": 10,
    "start_time": "2021-07-08T08:41:11.219Z"
   },
   {
    "duration": 9,
    "start_time": "2021-07-08T08:41:11.230Z"
   },
   {
    "duration": 45,
    "start_time": "2021-07-08T08:41:11.241Z"
   },
   {
    "duration": 7,
    "start_time": "2021-07-08T08:41:11.287Z"
   },
   {
    "duration": 24,
    "start_time": "2021-07-08T08:41:11.296Z"
   },
   {
    "duration": 16,
    "start_time": "2021-07-08T08:41:11.322Z"
   },
   {
    "duration": 7,
    "start_time": "2021-07-08T08:41:11.341Z"
   },
   {
    "duration": 41,
    "start_time": "2021-07-08T08:41:11.349Z"
   },
   {
    "duration": 17,
    "start_time": "2021-07-08T08:41:11.391Z"
   },
   {
    "duration": 9,
    "start_time": "2021-07-08T08:41:11.410Z"
   },
   {
    "duration": 5,
    "start_time": "2021-07-08T08:41:11.421Z"
   },
   {
    "duration": 6,
    "start_time": "2021-07-08T08:41:11.428Z"
   },
   {
    "duration": 198,
    "start_time": "2021-07-08T08:41:11.435Z"
   },
   {
    "duration": 18,
    "start_time": "2021-07-08T08:41:11.635Z"
   },
   {
    "duration": 155,
    "start_time": "2021-07-08T08:41:11.655Z"
   },
   {
    "duration": 138,
    "start_time": "2021-07-08T08:41:11.811Z"
   },
   {
    "duration": 10,
    "start_time": "2021-07-08T08:41:11.950Z"
   },
   {
    "duration": 29,
    "start_time": "2021-07-08T08:41:11.961Z"
   },
   {
    "duration": 171,
    "start_time": "2021-07-08T08:47:44.522Z"
   },
   {
    "duration": 124,
    "start_time": "2021-07-08T08:47:46.872Z"
   },
   {
    "duration": 191,
    "start_time": "2021-07-08T08:47:58.148Z"
   },
   {
    "duration": 191,
    "start_time": "2021-07-08T08:48:07.412Z"
   },
   {
    "duration": 261,
    "start_time": "2021-07-08T08:48:10.385Z"
   },
   {
    "duration": 255,
    "start_time": "2021-07-08T08:48:14.494Z"
   },
   {
    "duration": 219,
    "start_time": "2021-07-08T08:48:22.752Z"
   },
   {
    "duration": 173,
    "start_time": "2021-07-08T08:49:06.395Z"
   },
   {
    "duration": 180,
    "start_time": "2021-07-08T08:49:21.011Z"
   },
   {
    "duration": 6,
    "start_time": "2021-07-08T08:50:31.697Z"
   },
   {
    "duration": 10,
    "start_time": "2021-07-08T08:50:47.394Z"
   },
   {
    "duration": 11,
    "start_time": "2021-07-08T08:53:49.332Z"
   },
   {
    "duration": 171,
    "start_time": "2021-07-08T08:54:28.408Z"
   },
   {
    "duration": 636,
    "start_time": "2021-07-08T09:02:48.385Z"
   },
   {
    "duration": 227,
    "start_time": "2021-07-08T09:02:49.023Z"
   },
   {
    "duration": 104,
    "start_time": "2021-07-08T09:02:49.252Z"
   },
   {
    "duration": 5,
    "start_time": "2021-07-08T09:02:49.358Z"
   },
   {
    "duration": 27,
    "start_time": "2021-07-08T09:02:49.365Z"
   },
   {
    "duration": 8,
    "start_time": "2021-07-08T09:02:49.394Z"
   },
   {
    "duration": 18,
    "start_time": "2021-07-08T09:02:49.404Z"
   },
   {
    "duration": 6,
    "start_time": "2021-07-08T09:02:49.424Z"
   },
   {
    "duration": 11,
    "start_time": "2021-07-08T09:02:49.433Z"
   },
   {
    "duration": 13,
    "start_time": "2021-07-08T09:02:49.485Z"
   },
   {
    "duration": 9,
    "start_time": "2021-07-08T09:02:49.500Z"
   },
   {
    "duration": 38,
    "start_time": "2021-07-08T09:02:49.511Z"
   },
   {
    "duration": 42,
    "start_time": "2021-07-08T09:02:49.551Z"
   },
   {
    "duration": 21,
    "start_time": "2021-07-08T09:02:49.594Z"
   },
   {
    "duration": 6,
    "start_time": "2021-07-08T09:02:49.616Z"
   },
   {
    "duration": 3,
    "start_time": "2021-07-08T09:02:49.623Z"
   },
   {
    "duration": 9,
    "start_time": "2021-07-08T09:02:49.628Z"
   },
   {
    "duration": 52,
    "start_time": "2021-07-08T09:02:49.638Z"
   },
   {
    "duration": 11,
    "start_time": "2021-07-08T09:02:49.692Z"
   },
   {
    "duration": 8,
    "start_time": "2021-07-08T09:02:49.704Z"
   },
   {
    "duration": 27,
    "start_time": "2021-07-08T09:02:49.713Z"
   },
   {
    "duration": 59,
    "start_time": "2021-07-08T09:02:49.741Z"
   },
   {
    "duration": 8,
    "start_time": "2021-07-08T09:02:49.803Z"
   },
   {
    "duration": 14,
    "start_time": "2021-07-08T09:02:49.813Z"
   },
   {
    "duration": 20,
    "start_time": "2021-07-08T09:02:49.829Z"
   },
   {
    "duration": 44,
    "start_time": "2021-07-08T09:02:49.851Z"
   },
   {
    "duration": 14,
    "start_time": "2021-07-08T09:02:49.896Z"
   },
   {
    "duration": 221,
    "start_time": "2021-07-08T09:02:49.912Z"
   },
   {
    "duration": 6,
    "start_time": "2021-07-08T09:02:50.134Z"
   },
   {
    "duration": 206,
    "start_time": "2021-07-08T09:02:50.142Z"
   },
   {
    "duration": 19,
    "start_time": "2021-07-08T09:02:50.350Z"
   },
   {
    "duration": 21,
    "start_time": "2021-07-08T09:02:50.370Z"
   },
   {
    "duration": 20,
    "start_time": "2021-07-08T09:02:50.393Z"
   },
   {
    "duration": 5,
    "start_time": "2021-07-08T09:02:50.414Z"
   },
   {
    "duration": 5,
    "start_time": "2021-07-08T09:03:34.173Z"
   },
   {
    "duration": 6,
    "start_time": "2021-07-08T09:04:49.062Z"
   },
   {
    "duration": 9,
    "start_time": "2021-07-08T09:04:50.118Z"
   },
   {
    "duration": 14,
    "start_time": "2021-07-08T09:04:58.512Z"
   },
   {
    "duration": 9,
    "start_time": "2021-07-08T09:05:10.988Z"
   },
   {
    "duration": 11,
    "start_time": "2021-07-08T09:05:11.743Z"
   },
   {
    "duration": 7,
    "start_time": "2021-07-08T09:05:25.677Z"
   },
   {
    "duration": 13,
    "start_time": "2021-07-08T09:05:47.189Z"
   },
   {
    "duration": 13,
    "start_time": "2021-07-08T09:05:54.755Z"
   },
   {
    "duration": 4,
    "start_time": "2021-07-08T09:06:29.189Z"
   },
   {
    "duration": 244,
    "start_time": "2021-07-08T09:06:29.195Z"
   },
   {
    "duration": 91,
    "start_time": "2021-07-08T09:06:29.441Z"
   },
   {
    "duration": 4,
    "start_time": "2021-07-08T09:06:29.534Z"
   },
   {
    "duration": 28,
    "start_time": "2021-07-08T09:06:29.540Z"
   },
   {
    "duration": 6,
    "start_time": "2021-07-08T09:06:29.570Z"
   },
   {
    "duration": 18,
    "start_time": "2021-07-08T09:06:29.578Z"
   },
   {
    "duration": 5,
    "start_time": "2021-07-08T09:06:29.597Z"
   },
   {
    "duration": 13,
    "start_time": "2021-07-08T09:06:29.605Z"
   },
   {
    "duration": 8,
    "start_time": "2021-07-08T09:06:29.620Z"
   },
   {
    "duration": 7,
    "start_time": "2021-07-08T09:06:29.630Z"
   },
   {
    "duration": 63,
    "start_time": "2021-07-08T09:06:29.639Z"
   },
   {
    "duration": 17,
    "start_time": "2021-07-08T09:06:29.704Z"
   },
   {
    "duration": 20,
    "start_time": "2021-07-08T09:06:29.723Z"
   },
   {
    "duration": 6,
    "start_time": "2021-07-08T09:06:29.745Z"
   },
   {
    "duration": 3,
    "start_time": "2021-07-08T09:06:29.752Z"
   },
   {
    "duration": 7,
    "start_time": "2021-07-08T09:06:29.785Z"
   },
   {
    "duration": 11,
    "start_time": "2021-07-08T09:06:29.794Z"
   },
   {
    "duration": 15,
    "start_time": "2021-07-08T09:06:29.807Z"
   },
   {
    "duration": 8,
    "start_time": "2021-07-08T09:06:29.823Z"
   },
   {
    "duration": 70,
    "start_time": "2021-07-08T09:06:29.832Z"
   },
   {
    "duration": 17,
    "start_time": "2021-07-08T09:06:29.903Z"
   },
   {
    "duration": 9,
    "start_time": "2021-07-08T09:06:29.921Z"
   },
   {
    "duration": 9,
    "start_time": "2021-07-08T09:06:29.932Z"
   },
   {
    "duration": 57,
    "start_time": "2021-07-08T09:06:29.942Z"
   },
   {
    "duration": 11,
    "start_time": "2021-07-08T09:06:30.001Z"
   },
   {
    "duration": 19,
    "start_time": "2021-07-08T09:06:30.016Z"
   },
   {
    "duration": 217,
    "start_time": "2021-07-08T09:06:30.037Z"
   },
   {
    "duration": 6,
    "start_time": "2021-07-08T09:06:30.255Z"
   },
   {
    "duration": 205,
    "start_time": "2021-07-08T09:06:30.263Z"
   },
   {
    "duration": 27,
    "start_time": "2021-07-08T09:06:30.470Z"
   },
   {
    "duration": 11,
    "start_time": "2021-07-08T09:06:30.500Z"
   },
   {
    "duration": 31,
    "start_time": "2021-07-08T09:06:30.513Z"
   },
   {
    "duration": 18,
    "start_time": "2021-07-08T09:06:30.546Z"
   },
   {
    "duration": 11,
    "start_time": "2021-07-08T09:06:30.566Z"
   },
   {
    "duration": 19,
    "start_time": "2021-07-08T09:06:30.579Z"
   },
   {
    "duration": 20,
    "start_time": "2021-07-08T09:06:49.466Z"
   },
   {
    "duration": 9,
    "start_time": "2021-07-08T09:06:51.994Z"
   },
   {
    "duration": 20,
    "start_time": "2021-07-08T09:06:52.273Z"
   },
   {
    "duration": 246,
    "start_time": "2021-07-08T09:10:21.272Z"
   },
   {
    "duration": 84,
    "start_time": "2021-07-08T09:10:21.436Z"
   },
   {
    "duration": 7,
    "start_time": "2021-07-08T09:10:37.608Z"
   },
   {
    "duration": 189,
    "start_time": "2021-07-08T09:10:38.573Z"
   },
   {
    "duration": 185,
    "start_time": "2021-07-08T09:10:53.181Z"
   },
   {
    "duration": 11,
    "start_time": "2021-07-08T09:10:59.549Z"
   },
   {
    "duration": 42,
    "start_time": "2021-07-08T09:10:59.709Z"
   },
   {
    "duration": 12,
    "start_time": "2021-07-08T09:11:02.857Z"
   },
   {
    "duration": 28,
    "start_time": "2021-07-08T09:11:10.062Z"
   },
   {
    "duration": 249,
    "start_time": "2021-07-08T09:11:37.388Z"
   },
   {
    "duration": 232,
    "start_time": "2021-07-08T09:11:49.485Z"
   },
   {
    "duration": 453,
    "start_time": "2021-07-08T09:12:01.546Z"
   },
   {
    "duration": 440,
    "start_time": "2021-07-08T09:12:12.347Z"
   },
   {
    "duration": 213,
    "start_time": "2021-07-08T09:13:32.196Z"
   },
   {
    "duration": 172,
    "start_time": "2021-07-08T09:14:07.400Z"
   },
   {
    "duration": 185,
    "start_time": "2021-07-08T09:14:14.905Z"
   },
   {
    "duration": 209,
    "start_time": "2021-07-08T09:14:40.109Z"
   },
   {
    "duration": 201,
    "start_time": "2021-07-08T09:14:54.506Z"
   },
   {
    "duration": 622,
    "start_time": "2021-07-08T09:18:14.497Z"
   },
   {
    "duration": 220,
    "start_time": "2021-07-08T09:18:15.121Z"
   },
   {
    "duration": 79,
    "start_time": "2021-07-08T09:18:15.343Z"
   },
   {
    "duration": 4,
    "start_time": "2021-07-08T09:18:15.425Z"
   },
   {
    "duration": 24,
    "start_time": "2021-07-08T09:18:15.431Z"
   },
   {
    "duration": 8,
    "start_time": "2021-07-08T09:18:15.457Z"
   },
   {
    "duration": 16,
    "start_time": "2021-07-08T09:18:15.466Z"
   },
   {
    "duration": 5,
    "start_time": "2021-07-08T09:18:15.484Z"
   },
   {
    "duration": 10,
    "start_time": "2021-07-08T09:18:15.493Z"
   },
   {
    "duration": 8,
    "start_time": "2021-07-08T09:18:15.504Z"
   },
   {
    "duration": 7,
    "start_time": "2021-07-08T09:18:15.513Z"
   },
   {
    "duration": 26,
    "start_time": "2021-07-08T09:18:15.522Z"
   },
   {
    "duration": 49,
    "start_time": "2021-07-08T09:18:15.550Z"
   },
   {
    "duration": 21,
    "start_time": "2021-07-08T09:18:15.601Z"
   },
   {
    "duration": 8,
    "start_time": "2021-07-08T09:18:15.624Z"
   },
   {
    "duration": 3,
    "start_time": "2021-07-08T09:18:15.634Z"
   },
   {
    "duration": 8,
    "start_time": "2021-07-08T09:18:15.639Z"
   },
   {
    "duration": 45,
    "start_time": "2021-07-08T09:18:15.649Z"
   },
   {
    "duration": 13,
    "start_time": "2021-07-08T09:18:15.696Z"
   },
   {
    "duration": 10,
    "start_time": "2021-07-08T09:18:15.711Z"
   },
   {
    "duration": 64,
    "start_time": "2021-07-08T09:18:15.722Z"
   },
   {
    "duration": 19,
    "start_time": "2021-07-08T09:18:15.788Z"
   },
   {
    "duration": 9,
    "start_time": "2021-07-08T09:18:15.809Z"
   },
   {
    "duration": 9,
    "start_time": "2021-07-08T09:18:15.820Z"
   },
   {
    "duration": 18,
    "start_time": "2021-07-08T09:18:15.831Z"
   },
   {
    "duration": 43,
    "start_time": "2021-07-08T09:18:15.851Z"
   },
   {
    "duration": 12,
    "start_time": "2021-07-08T09:18:15.897Z"
   },
   {
    "duration": 219,
    "start_time": "2021-07-08T09:18:15.911Z"
   },
   {
    "duration": 8,
    "start_time": "2021-07-08T09:18:16.132Z"
   },
   {
    "duration": 199,
    "start_time": "2021-07-08T09:18:16.141Z"
   },
   {
    "duration": 18,
    "start_time": "2021-07-08T09:18:16.341Z"
   },
   {
    "duration": 24,
    "start_time": "2021-07-08T09:18:16.361Z"
   },
   {
    "duration": 24,
    "start_time": "2021-07-08T09:18:16.387Z"
   },
   {
    "duration": 211,
    "start_time": "2021-07-08T09:18:16.413Z"
   },
   {
    "duration": 18,
    "start_time": "2021-07-08T09:18:16.626Z"
   },
   {
    "duration": 596,
    "start_time": "2021-07-08T10:06:33.623Z"
   },
   {
    "duration": 181,
    "start_time": "2021-07-08T10:06:34.221Z"
   },
   {
    "duration": 176,
    "start_time": "2021-07-08T10:06:34.635Z"
   },
   {
    "duration": 239,
    "start_time": "2021-07-08T10:06:55.572Z"
   },
   {
    "duration": 6,
    "start_time": "2021-07-08T10:06:57.687Z"
   },
   {
    "duration": 4,
    "start_time": "2021-07-08T10:07:03.956Z"
   },
   {
    "duration": 4,
    "start_time": "2021-07-08T10:07:10.376Z"
   },
   {
    "duration": 4,
    "start_time": "2021-07-08T10:17:19.889Z"
   },
   {
    "duration": 3,
    "start_time": "2021-07-08T10:19:19.407Z"
   },
   {
    "duration": 197,
    "start_time": "2021-07-08T10:19:19.412Z"
   },
   {
    "duration": 127,
    "start_time": "2021-07-08T10:19:19.611Z"
   },
   {
    "duration": 4,
    "start_time": "2021-07-08T10:19:19.740Z"
   },
   {
    "duration": 27,
    "start_time": "2021-07-08T10:19:19.746Z"
   },
   {
    "duration": 7,
    "start_time": "2021-07-08T10:19:19.775Z"
   },
   {
    "duration": 30,
    "start_time": "2021-07-08T10:19:19.784Z"
   },
   {
    "duration": 7,
    "start_time": "2021-07-08T10:19:19.817Z"
   },
   {
    "duration": 26,
    "start_time": "2021-07-08T10:19:19.826Z"
   },
   {
    "duration": 18,
    "start_time": "2021-07-08T10:19:19.854Z"
   },
   {
    "duration": 14,
    "start_time": "2021-07-08T10:19:19.874Z"
   },
   {
    "duration": 48,
    "start_time": "2021-07-08T10:19:19.890Z"
   },
   {
    "duration": 17,
    "start_time": "2021-07-08T10:19:19.940Z"
   },
   {
    "duration": 38,
    "start_time": "2021-07-08T10:19:19.959Z"
   },
   {
    "duration": 8,
    "start_time": "2021-07-08T10:19:19.999Z"
   },
   {
    "duration": 15,
    "start_time": "2021-07-08T10:19:20.009Z"
   },
   {
    "duration": 22,
    "start_time": "2021-07-08T10:19:20.026Z"
   },
   {
    "duration": 10,
    "start_time": "2021-07-08T10:19:20.050Z"
   },
   {
    "duration": 10,
    "start_time": "2021-07-08T10:19:20.062Z"
   },
   {
    "duration": 20,
    "start_time": "2021-07-08T10:19:20.073Z"
   },
   {
    "duration": 29,
    "start_time": "2021-07-08T10:19:20.095Z"
   },
   {
    "duration": 17,
    "start_time": "2021-07-08T10:19:20.126Z"
   },
   {
    "duration": 40,
    "start_time": "2021-07-08T10:19:20.146Z"
   },
   {
    "duration": 15,
    "start_time": "2021-07-08T10:19:20.189Z"
   },
   {
    "duration": 19,
    "start_time": "2021-07-08T10:19:20.206Z"
   },
   {
    "duration": 10,
    "start_time": "2021-07-08T10:19:20.226Z"
   },
   {
    "duration": 11,
    "start_time": "2021-07-08T10:19:20.238Z"
   },
   {
    "duration": 297,
    "start_time": "2021-07-08T10:19:20.250Z"
   },
   {
    "duration": 6,
    "start_time": "2021-07-08T10:19:20.549Z"
   },
   {
    "duration": 191,
    "start_time": "2021-07-08T10:19:20.557Z"
   },
   {
    "duration": 19,
    "start_time": "2021-07-08T10:19:20.750Z"
   },
   {
    "duration": 20,
    "start_time": "2021-07-08T10:19:20.771Z"
   },
   {
    "duration": 15,
    "start_time": "2021-07-08T10:19:20.793Z"
   },
   {
    "duration": 222,
    "start_time": "2021-07-08T10:19:20.809Z"
   },
   {
    "duration": 20,
    "start_time": "2021-07-08T10:19:21.033Z"
   },
   {
    "duration": 27,
    "start_time": "2021-07-08T10:45:04.055Z"
   },
   {
    "duration": 8,
    "start_time": "2021-07-08T10:45:08.478Z"
   },
   {
    "duration": 8,
    "start_time": "2021-07-08T10:45:31.982Z"
   },
   {
    "duration": 10,
    "start_time": "2021-07-08T10:46:01.221Z"
   },
   {
    "duration": 17,
    "start_time": "2021-07-08T10:46:40.011Z"
   },
   {
    "duration": 193,
    "start_time": "2021-07-08T10:48:19.471Z"
   },
   {
    "duration": 225,
    "start_time": "2021-07-08T10:49:26.480Z"
   },
   {
    "duration": 204,
    "start_time": "2021-07-08T10:49:59.992Z"
   },
   {
    "duration": 435,
    "start_time": "2021-07-08T10:50:06.779Z"
   },
   {
    "duration": 199,
    "start_time": "2021-07-08T10:50:14.891Z"
   },
   {
    "duration": 204,
    "start_time": "2021-07-08T10:50:18.501Z"
   },
   {
    "duration": 244,
    "start_time": "2021-07-08T10:50:23.359Z"
   },
   {
    "duration": 192,
    "start_time": "2021-07-08T10:50:29.135Z"
   },
   {
    "duration": 218,
    "start_time": "2021-07-08T10:50:33.092Z"
   },
   {
    "duration": 207,
    "start_time": "2021-07-08T10:52:45.381Z"
   },
   {
    "duration": 5,
    "start_time": "2021-07-08T10:53:34.641Z"
   },
   {
    "duration": 196,
    "start_time": "2021-07-08T10:53:41.478Z"
   },
   {
    "duration": 43,
    "start_time": "2021-07-08T10:53:50.335Z"
   },
   {
    "duration": 32,
    "start_time": "2021-07-08T10:53:55.294Z"
   },
   {
    "duration": 55,
    "start_time": "2021-07-08T10:54:09.675Z"
   },
   {
    "duration": 16,
    "start_time": "2021-07-08T10:54:12.260Z"
   },
   {
    "duration": 15,
    "start_time": "2021-07-08T10:54:49.150Z"
   },
   {
    "duration": 20,
    "start_time": "2021-07-08T10:56:07.596Z"
   },
   {
    "duration": 16,
    "start_time": "2021-07-08T10:58:26.276Z"
   },
   {
    "duration": 22,
    "start_time": "2021-07-08T10:59:00.486Z"
   },
   {
    "duration": 18,
    "start_time": "2021-07-08T11:02:09.653Z"
   },
   {
    "duration": 10,
    "start_time": "2021-07-08T11:03:44.331Z"
   },
   {
    "duration": 10,
    "start_time": "2021-07-08T11:03:54.055Z"
   },
   {
    "duration": 12,
    "start_time": "2021-07-08T11:04:41.967Z"
   },
   {
    "duration": 24,
    "start_time": "2021-07-08T11:07:30.732Z"
   },
   {
    "duration": 6,
    "start_time": "2021-07-08T11:07:37.364Z"
   },
   {
    "duration": 16,
    "start_time": "2021-07-08T11:08:01.819Z"
   },
   {
    "duration": 17,
    "start_time": "2021-07-08T11:09:47.488Z"
   },
   {
    "duration": 246,
    "start_time": "2021-07-08T11:10:00.830Z"
   },
   {
    "duration": 18,
    "start_time": "2021-07-08T11:13:55.195Z"
   },
   {
    "duration": 204,
    "start_time": "2021-07-08T11:14:04.951Z"
   },
   {
    "duration": 19,
    "start_time": "2021-07-08T11:15:10.613Z"
   },
   {
    "duration": 680,
    "start_time": "2021-07-08T11:16:25.793Z"
   },
   {
    "duration": 451,
    "start_time": "2021-07-08T11:16:40.313Z"
   },
   {
    "duration": 469,
    "start_time": "2021-07-08T11:17:21.286Z"
   },
   {
    "duration": 20,
    "start_time": "2021-07-08T11:19:12.554Z"
   },
   {
    "duration": 35,
    "start_time": "2021-07-08T11:20:05.484Z"
   },
   {
    "duration": 53,
    "start_time": "2021-07-08T11:21:40.050Z"
   },
   {
    "duration": 13,
    "start_time": "2021-07-08T11:22:26.059Z"
   },
   {
    "duration": 19,
    "start_time": "2021-07-08T11:22:47.419Z"
   },
   {
    "duration": 25,
    "start_time": "2021-07-08T11:23:19.958Z"
   },
   {
    "duration": 29,
    "start_time": "2021-07-08T11:23:25.415Z"
   },
   {
    "duration": 10,
    "start_time": "2021-07-08T11:24:45.138Z"
   },
   {
    "duration": 19,
    "start_time": "2021-07-08T11:24:54.498Z"
   },
   {
    "duration": 12,
    "start_time": "2021-07-08T11:25:32.225Z"
   },
   {
    "duration": 19,
    "start_time": "2021-07-08T11:25:37.092Z"
   },
   {
    "duration": 17,
    "start_time": "2021-07-08T11:25:58.116Z"
   },
   {
    "duration": 15,
    "start_time": "2021-07-08T11:26:02.258Z"
   },
   {
    "duration": 8,
    "start_time": "2021-07-08T11:26:59.682Z"
   },
   {
    "duration": 184,
    "start_time": "2021-07-08T11:27:21.894Z"
   },
   {
    "duration": 8,
    "start_time": "2021-07-08T11:27:23.824Z"
   },
   {
    "duration": 202,
    "start_time": "2021-07-08T11:27:23.962Z"
   },
   {
    "duration": 360,
    "start_time": "2021-07-08T11:28:33.215Z"
   },
   {
    "duration": 231,
    "start_time": "2021-07-08T11:32:05.542Z"
   },
   {
    "duration": 607,
    "start_time": "2021-07-08T11:36:27.854Z"
   },
   {
    "duration": 241,
    "start_time": "2021-07-08T11:36:28.463Z"
   },
   {
    "duration": 67,
    "start_time": "2021-07-08T11:36:28.709Z"
   },
   {
    "duration": 5,
    "start_time": "2021-07-08T11:36:28.778Z"
   },
   {
    "duration": 32,
    "start_time": "2021-07-08T11:36:28.784Z"
   },
   {
    "duration": 11,
    "start_time": "2021-07-08T11:36:28.819Z"
   },
   {
    "duration": 20,
    "start_time": "2021-07-08T11:36:28.834Z"
   },
   {
    "duration": 36,
    "start_time": "2021-07-08T11:36:28.857Z"
   },
   {
    "duration": 16,
    "start_time": "2021-07-08T11:36:28.895Z"
   },
   {
    "duration": 14,
    "start_time": "2021-07-08T11:36:28.913Z"
   },
   {
    "duration": 9,
    "start_time": "2021-07-08T11:36:28.930Z"
   },
   {
    "duration": 55,
    "start_time": "2021-07-08T11:36:28.941Z"
   },
   {
    "duration": 27,
    "start_time": "2021-07-08T11:36:28.999Z"
   },
   {
    "duration": 30,
    "start_time": "2021-07-08T11:36:29.028Z"
   },
   {
    "duration": 31,
    "start_time": "2021-07-08T11:36:29.060Z"
   },
   {
    "duration": 3,
    "start_time": "2021-07-08T11:36:29.093Z"
   },
   {
    "duration": 12,
    "start_time": "2021-07-08T11:36:29.099Z"
   },
   {
    "duration": 11,
    "start_time": "2021-07-08T11:36:29.112Z"
   },
   {
    "duration": 12,
    "start_time": "2021-07-08T11:36:29.125Z"
   },
   {
    "duration": 9,
    "start_time": "2021-07-08T11:36:29.139Z"
   },
   {
    "duration": 31,
    "start_time": "2021-07-08T11:36:29.191Z"
   },
   {
    "duration": 17,
    "start_time": "2021-07-08T11:36:29.226Z"
   },
   {
    "duration": 7,
    "start_time": "2021-07-08T11:36:29.245Z"
   },
   {
    "duration": 10,
    "start_time": "2021-07-08T11:36:29.254Z"
   },
   {
    "duration": 30,
    "start_time": "2021-07-08T11:36:29.292Z"
   },
   {
    "duration": 11,
    "start_time": "2021-07-08T11:36:29.324Z"
   },
   {
    "duration": 11,
    "start_time": "2021-07-08T11:36:29.337Z"
   },
   {
    "duration": 230,
    "start_time": "2021-07-08T11:36:29.349Z"
   },
   {
    "duration": 13,
    "start_time": "2021-07-08T11:36:29.588Z"
   },
   {
    "duration": 205,
    "start_time": "2021-07-08T11:36:29.603Z"
   },
   {
    "duration": 20,
    "start_time": "2021-07-08T11:36:29.810Z"
   },
   {
    "duration": 9,
    "start_time": "2021-07-08T11:36:29.832Z"
   },
   {
    "duration": 16,
    "start_time": "2021-07-08T11:36:29.843Z"
   },
   {
    "duration": 283,
    "start_time": "2021-07-08T11:36:29.861Z"
   },
   {
    "duration": 50,
    "start_time": "2021-07-08T11:36:30.146Z"
   },
   {
    "duration": 14,
    "start_time": "2021-07-08T11:36:30.198Z"
   },
   {
    "duration": 11,
    "start_time": "2021-07-08T11:36:30.214Z"
   },
   {
    "duration": 245,
    "start_time": "2021-07-08T11:36:30.227Z"
   },
   {
    "duration": 439,
    "start_time": "2021-07-08T11:36:30.474Z"
   },
   {
    "duration": 210,
    "start_time": "2021-07-08T11:36:30.915Z"
   },
   {
    "duration": 15,
    "start_time": "2021-07-08T11:36:31.127Z"
   },
   {
    "duration": 17,
    "start_time": "2021-07-08T11:38:20.451Z"
   },
   {
    "duration": 642,
    "start_time": "2021-07-08T11:46:17.881Z"
   },
   {
    "duration": 210,
    "start_time": "2021-07-08T11:46:18.525Z"
   },
   {
    "duration": 104,
    "start_time": "2021-07-08T11:46:18.741Z"
   },
   {
    "duration": 8,
    "start_time": "2021-07-08T11:46:18.847Z"
   },
   {
    "duration": 25,
    "start_time": "2021-07-08T11:46:18.857Z"
   },
   {
    "duration": 14,
    "start_time": "2021-07-08T11:46:18.884Z"
   },
   {
    "duration": 22,
    "start_time": "2021-07-08T11:46:18.900Z"
   },
   {
    "duration": 5,
    "start_time": "2021-07-08T11:46:18.924Z"
   },
   {
    "duration": 13,
    "start_time": "2021-07-08T11:46:18.931Z"
   },
   {
    "duration": 45,
    "start_time": "2021-07-08T11:46:18.946Z"
   },
   {
    "duration": 12,
    "start_time": "2021-07-08T11:46:18.993Z"
   },
   {
    "duration": 38,
    "start_time": "2021-07-08T11:46:19.006Z"
   },
   {
    "duration": 50,
    "start_time": "2021-07-08T11:46:19.046Z"
   },
   {
    "duration": 29,
    "start_time": "2021-07-08T11:46:19.099Z"
   },
   {
    "duration": 7,
    "start_time": "2021-07-08T11:46:19.130Z"
   },
   {
    "duration": 3,
    "start_time": "2021-07-08T11:46:19.139Z"
   },
   {
    "duration": 11,
    "start_time": "2021-07-08T11:46:19.144Z"
   },
   {
    "duration": 40,
    "start_time": "2021-07-08T11:46:19.157Z"
   },
   {
    "duration": 15,
    "start_time": "2021-07-08T11:46:19.199Z"
   },
   {
    "duration": 10,
    "start_time": "2021-07-08T11:46:19.217Z"
   },
   {
    "duration": 68,
    "start_time": "2021-07-08T11:46:19.230Z"
   },
   {
    "duration": 17,
    "start_time": "2021-07-08T11:46:19.301Z"
   },
   {
    "duration": 7,
    "start_time": "2021-07-08T11:46:19.321Z"
   },
   {
    "duration": 11,
    "start_time": "2021-07-08T11:46:19.330Z"
   },
   {
    "duration": 59,
    "start_time": "2021-07-08T11:46:19.343Z"
   },
   {
    "duration": 17,
    "start_time": "2021-07-08T11:46:19.405Z"
   },
   {
    "duration": 16,
    "start_time": "2021-07-08T11:46:19.424Z"
   },
   {
    "duration": 252,
    "start_time": "2021-07-08T11:46:19.443Z"
   },
   {
    "duration": 9,
    "start_time": "2021-07-08T11:46:19.697Z"
   },
   {
    "duration": 224,
    "start_time": "2021-07-08T11:46:19.708Z"
   },
   {
    "duration": 21,
    "start_time": "2021-07-08T11:46:19.934Z"
   },
   {
    "duration": 9,
    "start_time": "2021-07-08T11:46:19.956Z"
   },
   {
    "duration": 32,
    "start_time": "2021-07-08T11:46:19.967Z"
   },
   {
    "duration": 288,
    "start_time": "2021-07-08T11:46:20.004Z"
   },
   {
    "duration": 23,
    "start_time": "2021-07-08T11:46:20.300Z"
   },
   {
    "duration": 11,
    "start_time": "2021-07-08T11:46:20.325Z"
   },
   {
    "duration": 11,
    "start_time": "2021-07-08T11:46:20.339Z"
   },
   {
    "duration": 259,
    "start_time": "2021-07-08T11:46:20.352Z"
   },
   {
    "duration": 438,
    "start_time": "2021-07-08T11:46:20.613Z"
   },
   {
    "duration": 207,
    "start_time": "2021-07-08T11:46:21.054Z"
   },
   {
    "duration": 27,
    "start_time": "2021-07-08T11:46:21.262Z"
   },
   {
    "duration": 19,
    "start_time": "2021-07-08T11:46:21.291Z"
   },
   {
    "duration": 820,
    "start_time": "2021-07-08T11:49:01.655Z"
   },
   {
    "duration": 372,
    "start_time": "2021-07-08T11:49:02.478Z"
   },
   {
    "duration": 98,
    "start_time": "2021-07-08T11:49:02.853Z"
   },
   {
    "duration": 6,
    "start_time": "2021-07-08T11:49:02.953Z"
   },
   {
    "duration": 39,
    "start_time": "2021-07-08T11:49:02.960Z"
   },
   {
    "duration": 9,
    "start_time": "2021-07-08T11:49:03.003Z"
   },
   {
    "duration": 23,
    "start_time": "2021-07-08T11:49:03.014Z"
   },
   {
    "duration": 6,
    "start_time": "2021-07-08T11:49:03.041Z"
   },
   {
    "duration": 20,
    "start_time": "2021-07-08T11:49:03.049Z"
   },
   {
    "duration": 18,
    "start_time": "2021-07-08T11:49:03.084Z"
   },
   {
    "duration": 14,
    "start_time": "2021-07-08T11:49:03.104Z"
   },
   {
    "duration": 39,
    "start_time": "2021-07-08T11:49:03.119Z"
   },
   {
    "duration": 38,
    "start_time": "2021-07-08T11:49:03.160Z"
   },
   {
    "duration": 26,
    "start_time": "2021-07-08T11:49:03.200Z"
   },
   {
    "duration": 7,
    "start_time": "2021-07-08T11:49:03.227Z"
   },
   {
    "duration": 4,
    "start_time": "2021-07-08T11:49:03.236Z"
   },
   {
    "duration": 15,
    "start_time": "2021-07-08T11:49:03.243Z"
   },
   {
    "duration": 21,
    "start_time": "2021-07-08T11:49:03.285Z"
   },
   {
    "duration": 17,
    "start_time": "2021-07-08T11:49:03.309Z"
   },
   {
    "duration": 10,
    "start_time": "2021-07-08T11:49:03.328Z"
   },
   {
    "duration": 65,
    "start_time": "2021-07-08T11:49:03.340Z"
   },
   {
    "duration": 18,
    "start_time": "2021-07-08T11:49:03.407Z"
   },
   {
    "duration": 8,
    "start_time": "2021-07-08T11:49:03.428Z"
   },
   {
    "duration": 15,
    "start_time": "2021-07-08T11:49:03.438Z"
   },
   {
    "duration": 40,
    "start_time": "2021-07-08T11:49:03.455Z"
   },
   {
    "duration": 12,
    "start_time": "2021-07-08T11:49:03.497Z"
   },
   {
    "duration": 29,
    "start_time": "2021-07-08T11:49:03.511Z"
   },
   {
    "duration": 285,
    "start_time": "2021-07-08T11:49:03.542Z"
   },
   {
    "duration": 8,
    "start_time": "2021-07-08T11:49:03.829Z"
   },
   {
    "duration": 227,
    "start_time": "2021-07-08T11:49:03.838Z"
   },
   {
    "duration": 40,
    "start_time": "2021-07-08T11:49:04.066Z"
   },
   {
    "duration": 10,
    "start_time": "2021-07-08T11:49:04.108Z"
   },
   {
    "duration": 26,
    "start_time": "2021-07-08T11:49:04.121Z"
   },
   {
    "duration": 290,
    "start_time": "2021-07-08T11:49:04.149Z"
   },
   {
    "duration": 26,
    "start_time": "2021-07-08T11:49:04.441Z"
   },
   {
    "duration": 31,
    "start_time": "2021-07-08T11:49:04.470Z"
   },
   {
    "duration": 14,
    "start_time": "2021-07-08T11:49:04.503Z"
   },
   {
    "duration": 259,
    "start_time": "2021-07-08T11:49:04.521Z"
   },
   {
    "duration": 480,
    "start_time": "2021-07-08T11:49:04.782Z"
   },
   {
    "duration": 225,
    "start_time": "2021-07-08T11:49:05.264Z"
   },
   {
    "duration": 22,
    "start_time": "2021-07-08T11:49:05.491Z"
   },
   {
    "duration": 24,
    "start_time": "2021-07-08T11:49:05.515Z"
   },
   {
    "duration": 634,
    "start_time": "2021-07-08T11:52:24.960Z"
   },
   {
    "duration": 199,
    "start_time": "2021-07-08T11:52:25.599Z"
   },
   {
    "duration": 106,
    "start_time": "2021-07-08T11:52:25.803Z"
   },
   {
    "duration": 7,
    "start_time": "2021-07-08T11:52:25.911Z"
   },
   {
    "duration": 29,
    "start_time": "2021-07-08T11:52:25.920Z"
   },
   {
    "duration": 7,
    "start_time": "2021-07-08T11:52:25.951Z"
   },
   {
    "duration": 26,
    "start_time": "2021-07-08T11:52:25.961Z"
   },
   {
    "duration": 11,
    "start_time": "2021-07-08T11:52:25.990Z"
   },
   {
    "duration": 29,
    "start_time": "2021-07-08T11:52:26.005Z"
   },
   {
    "duration": 9,
    "start_time": "2021-07-08T11:52:26.036Z"
   },
   {
    "duration": 8,
    "start_time": "2021-07-08T11:52:26.047Z"
   },
   {
    "duration": 63,
    "start_time": "2021-07-08T11:52:26.057Z"
   },
   {
    "duration": 17,
    "start_time": "2021-07-08T11:52:26.122Z"
   },
   {
    "duration": 43,
    "start_time": "2021-07-08T11:52:26.142Z"
   },
   {
    "duration": 17,
    "start_time": "2021-07-08T11:52:26.187Z"
   },
   {
    "duration": 5,
    "start_time": "2021-07-08T11:52:26.206Z"
   },
   {
    "duration": 12,
    "start_time": "2021-07-08T11:52:26.212Z"
   },
   {
    "duration": 11,
    "start_time": "2021-07-08T11:52:26.226Z"
   },
   {
    "duration": 12,
    "start_time": "2021-07-08T11:52:26.238Z"
   },
   {
    "duration": 38,
    "start_time": "2021-07-08T11:52:26.252Z"
   },
   {
    "duration": 40,
    "start_time": "2021-07-08T11:52:26.292Z"
   },
   {
    "duration": 17,
    "start_time": "2021-07-08T11:52:26.336Z"
   },
   {
    "duration": 39,
    "start_time": "2021-07-08T11:52:26.355Z"
   },
   {
    "duration": 11,
    "start_time": "2021-07-08T11:52:26.395Z"
   },
   {
    "duration": 23,
    "start_time": "2021-07-08T11:52:26.408Z"
   },
   {
    "duration": 12,
    "start_time": "2021-07-08T11:52:26.432Z"
   },
   {
    "duration": 41,
    "start_time": "2021-07-08T11:52:26.446Z"
   },
   {
    "duration": 215,
    "start_time": "2021-07-08T11:52:26.493Z"
   },
   {
    "duration": 8,
    "start_time": "2021-07-08T11:52:26.710Z"
   },
   {
    "duration": 228,
    "start_time": "2021-07-08T11:52:26.720Z"
   },
   {
    "duration": 18,
    "start_time": "2021-07-08T11:52:26.950Z"
   },
   {
    "duration": 35,
    "start_time": "2021-07-08T11:52:26.969Z"
   },
   {
    "duration": 23,
    "start_time": "2021-07-08T11:52:27.006Z"
   },
   {
    "duration": 258,
    "start_time": "2021-07-08T11:52:27.030Z"
   },
   {
    "duration": 24,
    "start_time": "2021-07-08T11:52:27.290Z"
   },
   {
    "duration": 12,
    "start_time": "2021-07-08T11:52:27.316Z"
   },
   {
    "duration": 10,
    "start_time": "2021-07-08T11:52:27.329Z"
   },
   {
    "duration": 298,
    "start_time": "2021-07-08T11:52:27.341Z"
   },
   {
    "duration": 436,
    "start_time": "2021-07-08T11:52:27.641Z"
   },
   {
    "duration": 216,
    "start_time": "2021-07-08T11:52:28.079Z"
   },
   {
    "duration": 20,
    "start_time": "2021-07-08T11:52:28.297Z"
   },
   {
    "duration": 17,
    "start_time": "2021-07-08T11:52:28.319Z"
   },
   {
    "duration": 46,
    "start_time": "2022-04-25T10:37:37.994Z"
   },
   {
    "duration": 440,
    "start_time": "2022-04-25T10:37:50.646Z"
   },
   {
    "duration": 129,
    "start_time": "2022-04-25T10:37:53.415Z"
   },
   {
    "duration": 149,
    "start_time": "2022-04-25T10:38:50.688Z"
   },
   {
    "duration": 15,
    "start_time": "2022-04-25T10:39:01.597Z"
   },
   {
    "duration": 33,
    "start_time": "2022-04-25T12:34:03.024Z"
   },
   {
    "duration": 10,
    "start_time": "2022-04-25T12:39:03.514Z"
   },
   {
    "duration": 7,
    "start_time": "2022-04-25T12:40:03.189Z"
   },
   {
    "duration": 7,
    "start_time": "2022-04-25T12:40:22.720Z"
   },
   {
    "duration": 6,
    "start_time": "2022-04-25T12:40:45.519Z"
   },
   {
    "duration": 11,
    "start_time": "2022-04-25T12:46:32.748Z"
   },
   {
    "duration": 7,
    "start_time": "2022-04-25T12:46:49.939Z"
   },
   {
    "duration": 15,
    "start_time": "2022-04-25T12:46:58.022Z"
   },
   {
    "duration": 8,
    "start_time": "2022-04-25T12:49:42.598Z"
   },
   {
    "duration": 3407,
    "start_time": "2022-04-25T12:49:49.140Z"
   },
   {
    "duration": 13,
    "start_time": "2022-04-25T12:50:06.397Z"
   },
   {
    "duration": 13,
    "start_time": "2022-04-25T12:50:21.888Z"
   },
   {
    "duration": 10,
    "start_time": "2022-04-25T12:58:21.344Z"
   },
   {
    "duration": 9,
    "start_time": "2022-04-25T13:01:25.146Z"
   },
   {
    "duration": 19,
    "start_time": "2022-04-25T13:01:31.125Z"
   },
   {
    "duration": 10,
    "start_time": "2022-04-25T13:01:57.895Z"
   },
   {
    "duration": 19,
    "start_time": "2022-04-25T13:02:30.718Z"
   },
   {
    "duration": 18,
    "start_time": "2022-04-25T13:02:39.923Z"
   },
   {
    "duration": 15,
    "start_time": "2022-04-25T13:02:45.820Z"
   },
   {
    "duration": 7,
    "start_time": "2022-04-25T13:04:54.397Z"
   },
   {
    "duration": 9,
    "start_time": "2022-04-25T13:05:06.341Z"
   },
   {
    "duration": 7,
    "start_time": "2022-04-25T13:09:56.195Z"
   },
   {
    "duration": 9,
    "start_time": "2022-04-25T13:10:10.625Z"
   },
   {
    "duration": 17,
    "start_time": "2022-04-25T13:10:14.993Z"
   },
   {
    "duration": 34,
    "start_time": "2022-04-25T13:10:28.170Z"
   },
   {
    "duration": 118,
    "start_time": "2022-04-25T13:10:51.501Z"
   },
   {
    "duration": 89,
    "start_time": "2022-04-25T13:10:55.510Z"
   },
   {
    "duration": 25,
    "start_time": "2022-04-25T13:11:06.839Z"
   },
   {
    "duration": 6,
    "start_time": "2022-04-25T13:11:58.696Z"
   },
   {
    "duration": 33,
    "start_time": "2022-04-25T13:12:03.313Z"
   },
   {
    "duration": 34,
    "start_time": "2022-04-25T13:12:34.848Z"
   },
   {
    "duration": 12,
    "start_time": "2022-04-25T13:13:37.466Z"
   },
   {
    "duration": 11,
    "start_time": "2022-04-25T13:13:43.192Z"
   },
   {
    "duration": 37,
    "start_time": "2022-04-25T13:13:50.810Z"
   },
   {
    "duration": 12,
    "start_time": "2022-04-25T13:15:59.084Z"
   },
   {
    "duration": 36,
    "start_time": "2022-04-25T13:16:33.847Z"
   },
   {
    "duration": 14,
    "start_time": "2022-04-25T13:20:53.545Z"
   },
   {
    "duration": 9,
    "start_time": "2022-04-25T13:26:18.893Z"
   },
   {
    "duration": 10,
    "start_time": "2022-04-25T13:26:25.142Z"
   },
   {
    "duration": 3520,
    "start_time": "2022-04-25T13:26:52.781Z"
   },
   {
    "duration": 19,
    "start_time": "2022-04-25T13:27:08.579Z"
   },
   {
    "duration": 9,
    "start_time": "2022-04-25T13:35:47.028Z"
   },
   {
    "duration": 6,
    "start_time": "2022-04-25T13:36:00.849Z"
   },
   {
    "duration": 215,
    "start_time": "2022-04-25T13:38:50.940Z"
   },
   {
    "duration": 251,
    "start_time": "2022-04-25T13:39:09.794Z"
   },
   {
    "duration": 7,
    "start_time": "2022-04-25T13:39:41.965Z"
   },
   {
    "duration": 10,
    "start_time": "2022-04-25T13:39:57.583Z"
   },
   {
    "duration": 10,
    "start_time": "2022-04-25T13:40:20.624Z"
   },
   {
    "duration": 11,
    "start_time": "2022-04-25T13:40:35.198Z"
   },
   {
    "duration": 10,
    "start_time": "2022-04-25T13:41:14.476Z"
   },
   {
    "duration": 12,
    "start_time": "2022-04-25T13:41:27.527Z"
   },
   {
    "duration": 9,
    "start_time": "2022-04-25T13:41:44.999Z"
   },
   {
    "duration": 6,
    "start_time": "2022-04-25T13:42:18.518Z"
   },
   {
    "duration": 8,
    "start_time": "2022-04-25T13:43:06.063Z"
   },
   {
    "duration": 34,
    "start_time": "2022-04-25T13:43:50.937Z"
   },
   {
    "duration": 4,
    "start_time": "2022-04-25T13:52:00.541Z"
   },
   {
    "duration": 17,
    "start_time": "2022-04-25T13:52:06.681Z"
   },
   {
    "duration": 4,
    "start_time": "2022-04-25T13:52:14.558Z"
   },
   {
    "duration": 4,
    "start_time": "2022-04-25T13:54:01.497Z"
   },
   {
    "duration": 18,
    "start_time": "2022-04-25T13:54:12.073Z"
   },
   {
    "duration": 3064,
    "start_time": "2022-04-25T13:54:31.756Z"
   },
   {
    "duration": 7,
    "start_time": "2022-04-25T13:55:02.059Z"
   },
   {
    "duration": 6,
    "start_time": "2022-04-25T13:55:09.231Z"
   },
   {
    "duration": 8,
    "start_time": "2022-04-25T13:56:14.754Z"
   },
   {
    "duration": 6,
    "start_time": "2022-04-25T13:56:30.464Z"
   },
   {
    "duration": 2,
    "start_time": "2022-04-25T14:09:45.986Z"
   },
   {
    "duration": 1043,
    "start_time": "2022-04-25T14:10:42.538Z"
   },
   {
    "duration": 2,
    "start_time": "2022-04-25T14:11:30.498Z"
   },
   {
    "duration": 852,
    "start_time": "2022-04-25T14:11:33.170Z"
   },
   {
    "duration": 245,
    "start_time": "2022-04-25T14:18:30.323Z"
   },
   {
    "duration": 3,
    "start_time": "2022-04-25T14:18:54.975Z"
   },
   {
    "duration": 751,
    "start_time": "2022-04-25T14:18:58.255Z"
   },
   {
    "duration": 2,
    "start_time": "2022-04-25T14:38:06.354Z"
   },
   {
    "duration": 796,
    "start_time": "2022-04-25T14:38:08.776Z"
   },
   {
    "duration": 2,
    "start_time": "2022-04-25T14:38:19.887Z"
   },
   {
    "duration": 6,
    "start_time": "2022-04-25T14:38:22.472Z"
   },
   {
    "duration": 20,
    "start_time": "2022-04-25T14:38:29.752Z"
   },
   {
    "duration": 37,
    "start_time": "2022-04-25T14:38:45.756Z"
   },
   {
    "duration": 41,
    "start_time": "2022-04-25T14:39:37.805Z"
   },
   {
    "duration": 10,
    "start_time": "2022-04-25T14:39:48.131Z"
   },
   {
    "duration": 11,
    "start_time": "2022-04-25T14:41:55.961Z"
   },
   {
    "duration": 10,
    "start_time": "2022-04-25T14:42:10.793Z"
   },
   {
    "duration": 9,
    "start_time": "2022-04-25T14:42:21.779Z"
   },
   {
    "duration": 9,
    "start_time": "2022-04-25T14:42:24.930Z"
   },
   {
    "duration": 43,
    "start_time": "2022-04-26T17:20:31.731Z"
   },
   {
    "duration": 6,
    "start_time": "2022-04-26T17:20:36.569Z"
   },
   {
    "duration": 351,
    "start_time": "2022-04-26T17:20:39.596Z"
   },
   {
    "duration": 106,
    "start_time": "2022-04-26T17:20:39.949Z"
   },
   {
    "duration": 14,
    "start_time": "2022-04-26T17:20:40.057Z"
   },
   {
    "duration": 36,
    "start_time": "2022-04-26T17:20:40.072Z"
   },
   {
    "duration": 7,
    "start_time": "2022-04-26T17:20:40.110Z"
   },
   {
    "duration": 33,
    "start_time": "2022-04-26T17:20:40.119Z"
   },
   {
    "duration": 20,
    "start_time": "2022-04-26T17:20:40.153Z"
   },
   {
    "duration": 37,
    "start_time": "2022-04-26T17:20:40.174Z"
   },
   {
    "duration": 9,
    "start_time": "2022-04-26T17:20:40.213Z"
   },
   {
    "duration": 30,
    "start_time": "2022-04-26T17:20:40.224Z"
   },
   {
    "duration": 10,
    "start_time": "2022-04-26T17:20:40.255Z"
   },
   {
    "duration": 31,
    "start_time": "2022-04-26T17:20:40.267Z"
   },
   {
    "duration": 3,
    "start_time": "2022-04-26T17:20:40.300Z"
   },
   {
    "duration": 6,
    "start_time": "2022-04-26T17:20:40.305Z"
   },
   {
    "duration": 41,
    "start_time": "2022-04-26T17:20:40.312Z"
   },
   {
    "duration": 8,
    "start_time": "2022-04-26T17:20:40.355Z"
   },
   {
    "duration": 28,
    "start_time": "2022-04-26T17:20:40.365Z"
   },
   {
    "duration": 15,
    "start_time": "2022-04-26T17:20:50.743Z"
   },
   {
    "duration": 5,
    "start_time": "2022-04-26T17:23:14.196Z"
   },
   {
    "duration": 14,
    "start_time": "2022-04-26T17:23:31.886Z"
   },
   {
    "duration": 5,
    "start_time": "2022-04-26T17:33:20.424Z"
   },
   {
    "duration": 4,
    "start_time": "2022-04-26T17:34:43.782Z"
   },
   {
    "duration": 95,
    "start_time": "2022-04-26T17:34:56.048Z"
   },
   {
    "duration": 4,
    "start_time": "2022-04-26T17:35:03.264Z"
   },
   {
    "duration": 4,
    "start_time": "2022-04-26T17:35:26.560Z"
   },
   {
    "duration": 5,
    "start_time": "2022-04-26T17:35:36.290Z"
   },
   {
    "duration": 5,
    "start_time": "2022-04-26T17:35:42.434Z"
   },
   {
    "duration": 4,
    "start_time": "2022-04-26T17:35:53.976Z"
   },
   {
    "duration": 5,
    "start_time": "2022-04-26T17:35:59.722Z"
   },
   {
    "duration": 8,
    "start_time": "2022-04-26T17:36:48.397Z"
   },
   {
    "duration": 11,
    "start_time": "2022-04-26T17:36:57.208Z"
   },
   {
    "duration": 513,
    "start_time": "2022-04-26T17:40:08.534Z"
   },
   {
    "duration": 110,
    "start_time": "2022-04-26T17:41:23.215Z"
   },
   {
    "duration": 11,
    "start_time": "2022-04-26T17:42:19.991Z"
   },
   {
    "duration": 10,
    "start_time": "2022-04-26T17:42:25.612Z"
   },
   {
    "duration": 107,
    "start_time": "2022-04-26T17:42:32.784Z"
   },
   {
    "duration": 13,
    "start_time": "2022-04-26T17:43:26.501Z"
   },
   {
    "duration": 20,
    "start_time": "2022-04-26T17:43:30.632Z"
   },
   {
    "duration": 469,
    "start_time": "2022-04-26T17:46:44.543Z"
   },
   {
    "duration": 8,
    "start_time": "2022-04-26T17:47:18.222Z"
   },
   {
    "duration": 7,
    "start_time": "2022-04-26T17:47:21.199Z"
   },
   {
    "duration": 3,
    "start_time": "2022-04-26T17:49:59.057Z"
   },
   {
    "duration": 7,
    "start_time": "2022-04-26T17:50:05.473Z"
   },
   {
    "duration": 10,
    "start_time": "2022-04-26T17:50:13.222Z"
   },
   {
    "duration": 3,
    "start_time": "2022-04-26T17:52:07.221Z"
   },
   {
    "duration": 1214,
    "start_time": "2022-04-26T17:53:06.875Z"
   },
   {
    "duration": 13,
    "start_time": "2022-04-26T17:53:47.545Z"
   },
   {
    "duration": 3,
    "start_time": "2022-04-26T17:53:56.002Z"
   },
   {
    "duration": 1220,
    "start_time": "2022-04-26T17:53:58.276Z"
   },
   {
    "duration": 35,
    "start_time": "2022-04-26T17:54:27.008Z"
   },
   {
    "duration": 36,
    "start_time": "2022-04-26T17:54:33.171Z"
   },
   {
    "duration": 110,
    "start_time": "2022-04-26T17:55:23.202Z"
   },
   {
    "duration": 13,
    "start_time": "2022-04-26T17:55:37.727Z"
   },
   {
    "duration": 67,
    "start_time": "2022-04-26T17:55:53.000Z"
   },
   {
    "duration": 4,
    "start_time": "2022-04-26T17:56:10.699Z"
   },
   {
    "duration": 383,
    "start_time": "2022-04-27T10:04:22.709Z"
   },
   {
    "duration": 111,
    "start_time": "2022-04-27T10:04:23.094Z"
   },
   {
    "duration": 16,
    "start_time": "2022-04-27T10:04:23.206Z"
   },
   {
    "duration": 44,
    "start_time": "2022-04-27T10:04:23.225Z"
   },
   {
    "duration": 7,
    "start_time": "2022-04-27T10:04:23.271Z"
   },
   {
    "duration": 13,
    "start_time": "2022-04-27T10:04:23.280Z"
   },
   {
    "duration": 20,
    "start_time": "2022-04-27T10:04:23.294Z"
   },
   {
    "duration": 73,
    "start_time": "2022-04-27T10:04:23.316Z"
   },
   {
    "duration": 10,
    "start_time": "2022-04-27T10:04:23.391Z"
   },
   {
    "duration": 9,
    "start_time": "2022-04-27T10:04:23.403Z"
   },
   {
    "duration": 9,
    "start_time": "2022-04-27T10:04:23.413Z"
   },
   {
    "duration": 40,
    "start_time": "2022-04-27T10:04:23.448Z"
   },
   {
    "duration": 4,
    "start_time": "2022-04-27T10:04:23.491Z"
   },
   {
    "duration": 6,
    "start_time": "2022-04-27T10:04:23.497Z"
   },
   {
    "duration": 16,
    "start_time": "2022-04-27T10:04:23.504Z"
   },
   {
    "duration": 5,
    "start_time": "2022-04-27T10:04:23.521Z"
   },
   {
    "duration": 20,
    "start_time": "2022-04-27T10:04:23.549Z"
   },
   {
    "duration": 5,
    "start_time": "2022-04-27T10:04:23.572Z"
   },
   {
    "duration": 593,
    "start_time": "2022-04-27T10:04:23.578Z"
   },
   {
    "duration": 24,
    "start_time": "2022-04-27T10:04:24.173Z"
   },
   {
    "duration": 3,
    "start_time": "2022-04-27T10:04:24.199Z"
   },
   {
    "duration": 98,
    "start_time": "2022-04-27T10:04:24.203Z"
   },
   {
    "duration": 3,
    "start_time": "2022-04-27T10:04:24.303Z"
   },
   {
    "duration": 15,
    "start_time": "2022-04-27T10:04:42.448Z"
   },
   {
    "duration": 11,
    "start_time": "2022-04-27T10:04:49.318Z"
   },
   {
    "duration": 4,
    "start_time": "2022-04-27T10:05:09.187Z"
   },
   {
    "duration": 8,
    "start_time": "2022-04-27T10:06:09.869Z"
   },
   {
    "duration": 3,
    "start_time": "2022-04-27T10:06:31.375Z"
   },
   {
    "duration": 111,
    "start_time": "2022-04-27T10:06:31.380Z"
   },
   {
    "duration": 15,
    "start_time": "2022-04-27T10:06:31.493Z"
   },
   {
    "duration": 26,
    "start_time": "2022-04-27T10:06:31.511Z"
   },
   {
    "duration": 13,
    "start_time": "2022-04-27T10:06:31.539Z"
   },
   {
    "duration": 28,
    "start_time": "2022-04-27T10:06:31.554Z"
   },
   {
    "duration": 27,
    "start_time": "2022-04-27T10:06:31.584Z"
   },
   {
    "duration": 68,
    "start_time": "2022-04-27T10:06:31.613Z"
   },
   {
    "duration": 11,
    "start_time": "2022-04-27T10:06:31.684Z"
   },
   {
    "duration": 10,
    "start_time": "2022-04-27T10:06:31.697Z"
   },
   {
    "duration": 10,
    "start_time": "2022-04-27T10:06:31.709Z"
   },
   {
    "duration": 61,
    "start_time": "2022-04-27T10:06:31.721Z"
   },
   {
    "duration": 5,
    "start_time": "2022-04-27T10:06:31.783Z"
   },
   {
    "duration": 4,
    "start_time": "2022-04-27T10:06:31.789Z"
   },
   {
    "duration": 12,
    "start_time": "2022-04-27T10:06:31.794Z"
   },
   {
    "duration": 4,
    "start_time": "2022-04-27T10:06:31.808Z"
   },
   {
    "duration": 46,
    "start_time": "2022-04-27T10:06:31.814Z"
   },
   {
    "duration": 7,
    "start_time": "2022-04-27T10:06:31.862Z"
   },
   {
    "duration": 188,
    "start_time": "2022-04-27T10:06:31.872Z"
   },
   {
    "duration": 20,
    "start_time": "2022-04-27T10:06:32.062Z"
   },
   {
    "duration": 4,
    "start_time": "2022-04-27T10:06:32.083Z"
   },
   {
    "duration": 94,
    "start_time": "2022-04-27T10:06:32.088Z"
   },
   {
    "duration": 4,
    "start_time": "2022-04-27T10:06:32.183Z"
   },
   {
    "duration": 11,
    "start_time": "2022-04-27T10:06:32.189Z"
   },
   {
    "duration": 292,
    "start_time": "2022-04-27T10:06:45.036Z"
   },
   {
    "duration": 9,
    "start_time": "2022-04-27T10:07:00.910Z"
   },
   {
    "duration": 14,
    "start_time": "2022-04-27T10:07:18.645Z"
   },
   {
    "duration": 10,
    "start_time": "2022-04-27T10:07:25.856Z"
   },
   {
    "duration": 3905,
    "start_time": "2022-04-27T10:10:13.735Z"
   },
   {
    "duration": 13,
    "start_time": "2022-04-27T10:10:42.463Z"
   },
   {
    "duration": 23,
    "start_time": "2022-04-27T10:11:38.332Z"
   },
   {
    "duration": 8,
    "start_time": "2022-04-27T10:12:53.898Z"
   },
   {
    "duration": 9,
    "start_time": "2022-04-27T10:13:01.909Z"
   },
   {
    "duration": 14,
    "start_time": "2022-04-27T10:13:31.235Z"
   },
   {
    "duration": 21,
    "start_time": "2022-04-27T10:14:03.154Z"
   },
   {
    "duration": 16,
    "start_time": "2022-04-27T10:15:57.694Z"
   },
   {
    "duration": 99,
    "start_time": "2022-04-27T10:17:58.771Z"
   },
   {
    "duration": 37,
    "start_time": "2022-04-27T10:18:03.453Z"
   },
   {
    "duration": 11,
    "start_time": "2022-04-27T10:18:14.921Z"
   },
   {
    "duration": 9,
    "start_time": "2022-04-27T10:18:19.605Z"
   },
   {
    "duration": 15,
    "start_time": "2022-04-27T10:18:23.950Z"
   },
   {
    "duration": 9,
    "start_time": "2022-04-27T10:18:31.495Z"
   },
   {
    "duration": 10,
    "start_time": "2022-04-27T10:19:03.365Z"
   },
   {
    "duration": 5,
    "start_time": "2022-04-27T10:19:29.718Z"
   },
   {
    "duration": 11,
    "start_time": "2022-04-27T10:20:18.581Z"
   },
   {
    "duration": 16,
    "start_time": "2022-04-27T10:22:42.655Z"
   },
   {
    "duration": 6,
    "start_time": "2022-04-27T10:22:49.685Z"
   },
   {
    "duration": 12,
    "start_time": "2022-04-27T10:23:02.631Z"
   },
   {
    "duration": 18,
    "start_time": "2022-04-27T10:23:21.210Z"
   },
   {
    "duration": 3,
    "start_time": "2022-04-27T10:24:24.173Z"
   },
   {
    "duration": 134,
    "start_time": "2022-04-27T10:24:24.178Z"
   },
   {
    "duration": 16,
    "start_time": "2022-04-27T10:24:24.314Z"
   },
   {
    "duration": 35,
    "start_time": "2022-04-27T10:24:24.332Z"
   },
   {
    "duration": 15,
    "start_time": "2022-04-27T10:24:24.369Z"
   },
   {
    "duration": 8,
    "start_time": "2022-04-27T10:24:24.386Z"
   },
   {
    "duration": 19,
    "start_time": "2022-04-27T10:24:24.396Z"
   },
   {
    "duration": 78,
    "start_time": "2022-04-27T10:24:24.416Z"
   },
   {
    "duration": 11,
    "start_time": "2022-04-27T10:24:24.496Z"
   },
   {
    "duration": 9,
    "start_time": "2022-04-27T10:24:24.509Z"
   },
   {
    "duration": 41,
    "start_time": "2022-04-27T10:24:24.520Z"
   },
   {
    "duration": 35,
    "start_time": "2022-04-27T10:24:24.563Z"
   },
   {
    "duration": 6,
    "start_time": "2022-04-27T10:24:24.601Z"
   },
   {
    "duration": 4,
    "start_time": "2022-04-27T10:24:24.609Z"
   },
   {
    "duration": 39,
    "start_time": "2022-04-27T10:24:24.615Z"
   },
   {
    "duration": 7,
    "start_time": "2022-04-27T10:24:24.656Z"
   },
   {
    "duration": 15,
    "start_time": "2022-04-27T10:24:24.666Z"
   },
   {
    "duration": 5,
    "start_time": "2022-04-27T10:24:24.682Z"
   },
   {
    "duration": 137,
    "start_time": "2022-04-27T10:24:24.689Z"
   },
   {
    "duration": 33,
    "start_time": "2022-04-27T10:24:24.828Z"
   },
   {
    "duration": 4,
    "start_time": "2022-04-27T10:24:24.863Z"
   },
   {
    "duration": 87,
    "start_time": "2022-04-27T10:24:24.869Z"
   },
   {
    "duration": 11,
    "start_time": "2022-04-27T10:24:24.958Z"
   },
   {
    "duration": 25,
    "start_time": "2022-04-27T10:24:24.972Z"
   },
   {
    "duration": 21,
    "start_time": "2022-04-27T10:24:24.999Z"
   },
   {
    "duration": 32,
    "start_time": "2022-04-27T10:24:25.022Z"
   },
   {
    "duration": 28,
    "start_time": "2022-04-27T10:24:25.056Z"
   },
   {
    "duration": 27,
    "start_time": "2022-04-27T10:24:32.966Z"
   },
   {
    "duration": 13,
    "start_time": "2022-04-27T10:24:39.902Z"
   },
   {
    "duration": 15,
    "start_time": "2022-04-27T10:24:55.600Z"
   },
   {
    "duration": 136,
    "start_time": "2022-04-27T10:25:33.465Z"
   },
   {
    "duration": 198,
    "start_time": "2022-04-27T10:25:48.632Z"
   },
   {
    "duration": 228,
    "start_time": "2022-04-27T10:25:56.338Z"
   },
   {
    "duration": 142,
    "start_time": "2022-04-27T10:26:00.054Z"
   },
   {
    "duration": 137,
    "start_time": "2022-04-27T10:26:03.172Z"
   },
   {
    "duration": 154,
    "start_time": "2022-04-27T10:26:05.571Z"
   },
   {
    "duration": 176,
    "start_time": "2022-04-27T10:26:11.829Z"
   },
   {
    "duration": 200,
    "start_time": "2022-04-27T10:26:16.160Z"
   },
   {
    "duration": 215,
    "start_time": "2022-04-27T10:26:19.669Z"
   },
   {
    "duration": 276,
    "start_time": "2022-04-27T10:26:34.672Z"
   },
   {
    "duration": 171,
    "start_time": "2022-04-27T10:26:48.435Z"
   },
   {
    "duration": 206,
    "start_time": "2022-04-27T10:26:53.207Z"
   },
   {
    "duration": 218,
    "start_time": "2022-04-27T10:26:58.329Z"
   },
   {
    "duration": 215,
    "start_time": "2022-04-27T10:27:03.315Z"
   },
   {
    "duration": 146,
    "start_time": "2022-04-27T10:27:23.654Z"
   },
   {
    "duration": 140,
    "start_time": "2022-04-27T10:27:31.680Z"
   },
   {
    "duration": 4,
    "start_time": "2022-04-27T10:29:44.091Z"
   },
   {
    "duration": 249,
    "start_time": "2022-04-27T10:30:04.405Z"
   },
   {
    "duration": 7,
    "start_time": "2022-04-27T10:30:37.192Z"
   },
   {
    "duration": 7,
    "start_time": "2022-04-27T10:31:06.473Z"
   },
   {
    "duration": 6,
    "start_time": "2022-04-27T10:31:28.193Z"
   },
   {
    "duration": 7,
    "start_time": "2022-04-27T10:32:11.139Z"
   },
   {
    "duration": 4,
    "start_time": "2022-04-27T10:33:00.354Z"
   },
   {
    "duration": 7,
    "start_time": "2022-04-27T10:33:02.004Z"
   },
   {
    "duration": 4,
    "start_time": "2022-04-27T10:33:25.448Z"
   },
   {
    "duration": 5,
    "start_time": "2022-04-27T10:33:28.248Z"
   },
   {
    "duration": 7,
    "start_time": "2022-04-27T10:33:41.303Z"
   },
   {
    "duration": 3,
    "start_time": "2022-04-27T10:43:12.636Z"
   },
   {
    "duration": 18,
    "start_time": "2022-04-27T10:43:54.169Z"
   },
   {
    "duration": 4,
    "start_time": "2022-04-27T10:46:11.332Z"
   },
   {
    "duration": 6,
    "start_time": "2022-04-27T10:46:12.787Z"
   },
   {
    "duration": 103,
    "start_time": "2022-04-27T10:46:28.630Z"
   },
   {
    "duration": 10,
    "start_time": "2022-04-27T10:46:42.826Z"
   },
   {
    "duration": 5,
    "start_time": "2022-04-27T10:50:03.608Z"
   },
   {
    "duration": 11,
    "start_time": "2022-04-27T10:50:15.945Z"
   },
   {
    "duration": 9,
    "start_time": "2022-04-27T10:50:30.880Z"
   },
   {
    "duration": 10,
    "start_time": "2022-04-27T10:51:46.542Z"
   },
   {
    "duration": 13,
    "start_time": "2022-04-27T10:52:44.161Z"
   },
   {
    "duration": 65,
    "start_time": "2022-04-27T10:52:57.994Z"
   },
   {
    "duration": 12,
    "start_time": "2022-04-27T10:53:10.474Z"
   },
   {
    "duration": 73,
    "start_time": "2022-04-27T10:53:45.096Z"
   },
   {
    "duration": 34,
    "start_time": "2022-04-27T10:54:21.323Z"
   },
   {
    "duration": 17,
    "start_time": "2022-04-27T10:54:53.322Z"
   },
   {
    "duration": 15,
    "start_time": "2022-04-27T10:54:58.897Z"
   },
   {
    "duration": 19,
    "start_time": "2022-04-27T10:55:02.371Z"
   },
   {
    "duration": 20,
    "start_time": "2022-04-27T10:55:05.198Z"
   },
   {
    "duration": 19,
    "start_time": "2022-04-27T10:55:07.508Z"
   },
   {
    "duration": 15,
    "start_time": "2022-04-27T10:56:07.057Z"
   },
   {
    "duration": 3,
    "start_time": "2022-04-27T11:17:49.698Z"
   },
   {
    "duration": 9,
    "start_time": "2022-04-27T11:17:52.608Z"
   },
   {
    "duration": 4,
    "start_time": "2022-04-27T11:21:13.348Z"
   },
   {
    "duration": 30,
    "start_time": "2022-04-27T11:21:33.918Z"
   },
   {
    "duration": 3,
    "start_time": "2022-04-27T11:21:53.783Z"
   },
   {
    "duration": 103,
    "start_time": "2022-04-27T11:21:55.338Z"
   },
   {
    "duration": 20,
    "start_time": "2022-04-27T11:22:11.410Z"
   },
   {
    "duration": 81,
    "start_time": "2022-04-27T16:05:45.315Z"
   },
   {
    "duration": 412,
    "start_time": "2022-04-27T16:05:53.920Z"
   },
   {
    "duration": 117,
    "start_time": "2022-04-27T16:05:54.334Z"
   },
   {
    "duration": 17,
    "start_time": "2022-04-27T16:05:54.452Z"
   },
   {
    "duration": 40,
    "start_time": "2022-04-27T16:05:54.472Z"
   },
   {
    "duration": 16,
    "start_time": "2022-04-27T16:05:54.514Z"
   },
   {
    "duration": 22,
    "start_time": "2022-04-27T16:05:54.532Z"
   },
   {
    "duration": 20,
    "start_time": "2022-04-27T16:05:54.555Z"
   },
   {
    "duration": 59,
    "start_time": "2022-04-27T16:05:54.577Z"
   },
   {
    "duration": 13,
    "start_time": "2022-04-27T16:05:54.637Z"
   },
   {
    "duration": 10,
    "start_time": "2022-04-27T16:05:54.652Z"
   },
   {
    "duration": 46,
    "start_time": "2022-04-27T16:05:54.663Z"
   },
   {
    "duration": 27,
    "start_time": "2022-04-27T16:05:54.712Z"
   },
   {
    "duration": 5,
    "start_time": "2022-04-27T16:05:54.740Z"
   },
   {
    "duration": 122,
    "start_time": "2022-04-27T16:05:54.748Z"
   },
   {
    "duration": 32,
    "start_time": "2022-04-27T16:05:54.872Z"
   },
   {
    "duration": 7,
    "start_time": "2022-04-27T16:05:54.906Z"
   },
   {
    "duration": 9,
    "start_time": "2022-04-27T16:05:54.915Z"
   },
   {
    "duration": 13,
    "start_time": "2022-04-27T16:05:54.926Z"
   },
   {
    "duration": 7,
    "start_time": "2022-04-27T16:05:54.940Z"
   },
   {
    "duration": 19,
    "start_time": "2022-04-27T16:05:54.949Z"
   },
   {
    "duration": 5,
    "start_time": "2022-04-27T16:05:54.970Z"
   },
   {
    "duration": 582,
    "start_time": "2022-04-27T16:05:54.991Z"
   },
   {
    "duration": 33,
    "start_time": "2022-04-27T16:05:55.576Z"
   },
   {
    "duration": 3,
    "start_time": "2022-04-27T16:05:55.611Z"
   },
   {
    "duration": 89,
    "start_time": "2022-04-27T16:05:55.616Z"
   },
   {
    "duration": 10,
    "start_time": "2022-04-27T16:05:55.707Z"
   },
   {
    "duration": 26,
    "start_time": "2022-04-27T16:05:55.718Z"
   },
   {
    "duration": 16,
    "start_time": "2022-04-27T16:05:55.745Z"
   },
   {
    "duration": 40,
    "start_time": "2022-04-27T16:05:55.763Z"
   },
   {
    "duration": 25,
    "start_time": "2022-04-27T16:05:55.806Z"
   },
   {
    "duration": 4,
    "start_time": "2022-04-27T16:05:55.833Z"
   },
   {
    "duration": 7,
    "start_time": "2022-04-27T16:05:55.840Z"
   },
   {
    "duration": 11,
    "start_time": "2022-04-27T16:05:55.849Z"
   },
   {
    "duration": 16,
    "start_time": "2022-04-27T16:05:55.861Z"
   },
   {
    "duration": 167,
    "start_time": "2022-04-27T16:05:55.898Z"
   },
   {
    "duration": 230,
    "start_time": "2022-04-27T16:05:56.066Z"
   },
   {
    "duration": 6,
    "start_time": "2022-04-27T16:05:56.301Z"
   },
   {
    "duration": 17,
    "start_time": "2022-04-27T16:05:56.309Z"
   },
   {
    "duration": 17,
    "start_time": "2022-04-27T16:06:14.557Z"
   },
   {
    "duration": 21,
    "start_time": "2022-04-27T16:06:22.887Z"
   },
   {
    "duration": 16,
    "start_time": "2022-04-27T16:07:13.316Z"
   },
   {
    "duration": 16,
    "start_time": "2022-04-27T16:09:19.244Z"
   },
   {
    "duration": 16,
    "start_time": "2022-04-27T16:10:10.795Z"
   },
   {
    "duration": 122,
    "start_time": "2022-04-27T16:10:18.967Z"
   },
   {
    "duration": 5,
    "start_time": "2022-04-27T16:10:23.028Z"
   },
   {
    "duration": 10,
    "start_time": "2022-04-27T16:17:46.548Z"
   },
   {
    "duration": 8,
    "start_time": "2022-04-27T16:18:10.900Z"
   },
   {
    "duration": 8,
    "start_time": "2022-04-27T16:18:31.787Z"
   },
   {
    "duration": 29,
    "start_time": "2022-04-27T16:33:55.896Z"
   },
   {
    "duration": 401,
    "start_time": "2022-05-02T19:58:15.136Z"
   },
   {
    "duration": 112,
    "start_time": "2022-05-02T19:58:15.539Z"
   },
   {
    "duration": 17,
    "start_time": "2022-05-02T19:58:15.652Z"
   },
   {
    "duration": 37,
    "start_time": "2022-05-02T19:58:15.671Z"
   },
   {
    "duration": 9,
    "start_time": "2022-05-02T19:58:15.710Z"
   },
   {
    "duration": 10,
    "start_time": "2022-05-02T19:58:15.721Z"
   },
   {
    "duration": 21,
    "start_time": "2022-05-02T19:58:15.732Z"
   },
   {
    "duration": 71,
    "start_time": "2022-05-02T19:58:15.755Z"
   },
   {
    "duration": 19,
    "start_time": "2022-05-02T19:58:15.828Z"
   },
   {
    "duration": 11,
    "start_time": "2022-05-02T19:58:15.851Z"
   },
   {
    "duration": 52,
    "start_time": "2022-05-02T19:58:15.864Z"
   },
   {
    "duration": 4,
    "start_time": "2022-05-02T19:58:15.918Z"
   },
   {
    "duration": 125,
    "start_time": "2022-05-02T19:58:15.924Z"
   },
   {
    "duration": 21,
    "start_time": "2022-05-02T19:58:16.051Z"
   },
   {
    "duration": 5,
    "start_time": "2022-05-02T19:58:16.074Z"
   },
   {
    "duration": 27,
    "start_time": "2022-05-02T19:58:16.081Z"
   },
   {
    "duration": 13,
    "start_time": "2022-05-02T19:58:16.110Z"
   },
   {
    "duration": 6,
    "start_time": "2022-05-02T19:58:16.125Z"
   },
   {
    "duration": 14,
    "start_time": "2022-05-02T19:58:16.132Z"
   },
   {
    "duration": 4,
    "start_time": "2022-05-02T19:58:16.148Z"
   },
   {
    "duration": 395,
    "start_time": "2022-05-02T19:58:16.153Z"
   },
   {
    "duration": 22,
    "start_time": "2022-05-02T19:58:16.550Z"
   },
   {
    "duration": 38,
    "start_time": "2022-05-02T19:58:16.574Z"
   },
   {
    "duration": 4,
    "start_time": "2022-05-02T19:58:16.614Z"
   },
   {
    "duration": 94,
    "start_time": "2022-05-02T19:58:16.619Z"
   },
   {
    "duration": 9,
    "start_time": "2022-05-02T19:58:16.715Z"
   },
   {
    "duration": 6,
    "start_time": "2022-05-02T19:58:16.726Z"
   },
   {
    "duration": 9,
    "start_time": "2022-05-02T19:58:16.736Z"
   },
   {
    "duration": 25,
    "start_time": "2022-05-02T19:58:16.746Z"
   },
   {
    "duration": 44,
    "start_time": "2022-05-02T19:58:16.773Z"
   },
   {
    "duration": 8,
    "start_time": "2022-05-02T19:58:16.819Z"
   },
   {
    "duration": 15,
    "start_time": "2022-05-02T19:58:16.829Z"
   },
   {
    "duration": 3,
    "start_time": "2022-05-02T19:58:16.846Z"
   },
   {
    "duration": 5,
    "start_time": "2022-05-02T19:58:16.851Z"
   },
   {
    "duration": 9,
    "start_time": "2022-05-02T19:58:16.858Z"
   },
   {
    "duration": 11,
    "start_time": "2022-05-02T19:58:16.908Z"
   },
   {
    "duration": 180,
    "start_time": "2022-05-02T19:58:16.921Z"
   },
   {
    "duration": 172,
    "start_time": "2022-05-02T19:58:17.108Z"
   },
   {
    "duration": 4,
    "start_time": "2022-05-02T19:58:17.282Z"
   },
   {
    "duration": 23,
    "start_time": "2022-05-02T19:58:17.288Z"
   },
   {
    "duration": 5,
    "start_time": "2022-05-02T19:58:17.313Z"
   },
   {
    "duration": 4,
    "start_time": "2022-05-02T21:08:49.765Z"
   },
   {
    "duration": 4,
    "start_time": "2022-05-02T21:12:32.247Z"
   },
   {
    "duration": 22,
    "start_time": "2022-05-02T21:14:53.369Z"
   },
   {
    "duration": 8,
    "start_time": "2022-05-02T21:18:28.285Z"
   },
   {
    "duration": 10,
    "start_time": "2022-05-02T21:23:36.765Z"
   },
   {
    "duration": 9,
    "start_time": "2022-05-02T21:23:43.918Z"
   },
   {
    "duration": 42,
    "start_time": "2022-05-02T21:44:07.158Z"
   },
   {
    "duration": 42,
    "start_time": "2022-05-02T21:44:34.111Z"
   },
   {
    "duration": 85,
    "start_time": "2022-05-02T21:45:18.311Z"
   },
   {
    "duration": 90,
    "start_time": "2022-05-02T21:45:29.415Z"
   },
   {
    "duration": 16,
    "start_time": "2022-05-02T21:46:16.585Z"
   },
   {
    "duration": 1061,
    "start_time": "2022-05-02T21:53:55.843Z"
   },
   {
    "duration": 44,
    "start_time": "2022-05-02T21:54:06.677Z"
   },
   {
    "duration": 5,
    "start_time": "2022-05-02T21:54:20.308Z"
   },
   {
    "duration": 5,
    "start_time": "2022-05-02T21:54:36.615Z"
   },
   {
    "duration": 8,
    "start_time": "2022-05-02T21:54:54.526Z"
   },
   {
    "duration": 7,
    "start_time": "2022-05-02T21:55:10.977Z"
   },
   {
    "duration": 41,
    "start_time": "2022-05-02T21:55:40.658Z"
   },
   {
    "duration": 4,
    "start_time": "2022-05-02T21:56:40.767Z"
   },
   {
    "duration": 5,
    "start_time": "2022-05-02T21:56:56.571Z"
   },
   {
    "duration": 5,
    "start_time": "2022-05-02T21:57:10.765Z"
   },
   {
    "duration": 5,
    "start_time": "2022-05-02T21:57:36.818Z"
   },
   {
    "duration": 4,
    "start_time": "2022-05-02T21:58:05.619Z"
   },
   {
    "duration": 1056,
    "start_time": "2022-05-02T21:58:38.043Z"
   },
   {
    "duration": 25,
    "start_time": "2022-05-02T21:59:09.212Z"
   },
   {
    "duration": 6,
    "start_time": "2022-05-02T21:59:29.510Z"
   },
   {
    "duration": 6,
    "start_time": "2022-05-02T21:59:39.270Z"
   },
   {
    "duration": 6,
    "start_time": "2022-05-02T21:59:42.845Z"
   },
   {
    "duration": 6,
    "start_time": "2022-05-02T21:59:55.826Z"
   },
   {
    "duration": 5,
    "start_time": "2022-05-02T22:00:10.239Z"
   },
   {
    "duration": 5,
    "start_time": "2022-05-02T22:00:15.015Z"
   },
   {
    "duration": 7,
    "start_time": "2022-05-02T22:11:13.254Z"
   },
   {
    "duration": 6,
    "start_time": "2022-05-02T22:11:22.719Z"
   },
   {
    "duration": 7,
    "start_time": "2022-05-02T22:11:28.985Z"
   },
   {
    "duration": 10,
    "start_time": "2022-05-02T22:29:26.570Z"
   },
   {
    "duration": 414,
    "start_time": "2022-05-02T22:37:09.435Z"
   },
   {
    "duration": 112,
    "start_time": "2022-05-02T22:37:09.851Z"
   },
   {
    "duration": 17,
    "start_time": "2022-05-02T22:37:09.964Z"
   },
   {
    "duration": 42,
    "start_time": "2022-05-02T22:37:09.983Z"
   },
   {
    "duration": 10,
    "start_time": "2022-05-02T22:37:10.027Z"
   },
   {
    "duration": 10,
    "start_time": "2022-05-02T22:37:10.039Z"
   },
   {
    "duration": 21,
    "start_time": "2022-05-02T22:37:10.051Z"
   },
   {
    "duration": 68,
    "start_time": "2022-05-02T22:37:10.074Z"
   },
   {
    "duration": 16,
    "start_time": "2022-05-02T22:37:10.144Z"
   },
   {
    "duration": 44,
    "start_time": "2022-05-02T22:37:10.164Z"
   },
   {
    "duration": 23,
    "start_time": "2022-05-02T22:37:10.210Z"
   },
   {
    "duration": 4,
    "start_time": "2022-05-02T22:37:10.235Z"
   },
   {
    "duration": 131,
    "start_time": "2022-05-02T22:37:10.240Z"
   },
   {
    "duration": 19,
    "start_time": "2022-05-02T22:37:10.373Z"
   },
   {
    "duration": 16,
    "start_time": "2022-05-02T22:37:10.394Z"
   },
   {
    "duration": 4,
    "start_time": "2022-05-02T22:37:10.412Z"
   },
   {
    "duration": 14,
    "start_time": "2022-05-02T22:37:10.418Z"
   },
   {
    "duration": 6,
    "start_time": "2022-05-02T22:37:10.434Z"
   },
   {
    "duration": 15,
    "start_time": "2022-05-02T22:37:10.442Z"
   },
   {
    "duration": 6,
    "start_time": "2022-05-02T22:37:10.459Z"
   },
   {
    "duration": 430,
    "start_time": "2022-05-02T22:37:10.467Z"
   },
   {
    "duration": 30,
    "start_time": "2022-05-02T22:37:10.900Z"
   },
   {
    "duration": 24,
    "start_time": "2022-05-02T22:37:10.932Z"
   },
   {
    "duration": 4,
    "start_time": "2022-05-02T22:37:10.958Z"
   },
   {
    "duration": 117,
    "start_time": "2022-05-02T22:37:10.964Z"
   },
   {
    "duration": 9,
    "start_time": "2022-05-02T22:37:11.083Z"
   },
   {
    "duration": 14,
    "start_time": "2022-05-02T22:37:11.094Z"
   },
   {
    "duration": 12,
    "start_time": "2022-05-02T22:37:11.112Z"
   },
   {
    "duration": 26,
    "start_time": "2022-05-02T22:37:11.125Z"
   },
   {
    "duration": 16,
    "start_time": "2022-05-02T22:37:11.153Z"
   },
   {
    "duration": 9,
    "start_time": "2022-05-02T22:37:11.208Z"
   },
   {
    "duration": 17,
    "start_time": "2022-05-02T22:37:11.219Z"
   },
   {
    "duration": 4,
    "start_time": "2022-05-02T22:37:11.237Z"
   },
   {
    "duration": 5,
    "start_time": "2022-05-02T22:37:11.242Z"
   },
   {
    "duration": 9,
    "start_time": "2022-05-02T22:37:11.249Z"
   },
   {
    "duration": 9,
    "start_time": "2022-05-02T22:37:11.260Z"
   },
   {
    "duration": 203,
    "start_time": "2022-05-02T22:37:11.271Z"
   },
   {
    "duration": 178,
    "start_time": "2022-05-02T22:37:11.475Z"
   },
   {
    "duration": 4,
    "start_time": "2022-05-02T22:37:11.655Z"
   },
   {
    "duration": 15,
    "start_time": "2022-05-02T22:37:11.660Z"
   },
   {
    "duration": 30,
    "start_time": "2022-05-02T22:37:11.677Z"
   },
   {
    "duration": 43,
    "start_time": "2022-05-04T08:57:25.977Z"
   },
   {
    "duration": 415,
    "start_time": "2022-05-04T08:57:27.895Z"
   },
   {
    "duration": 83,
    "start_time": "2022-05-04T08:57:28.603Z"
   },
   {
    "duration": 15,
    "start_time": "2022-05-04T09:12:20.186Z"
   },
   {
    "duration": 21,
    "start_time": "2022-05-04T09:17:07.946Z"
   },
   {
    "duration": 7,
    "start_time": "2022-05-04T09:17:30.132Z"
   },
   {
    "duration": 7,
    "start_time": "2022-05-04T09:17:50.697Z"
   },
   {
    "duration": 7,
    "start_time": "2022-05-04T09:17:52.424Z"
   },
   {
    "duration": 11,
    "start_time": "2022-05-04T09:18:58.881Z"
   },
   {
    "duration": 25,
    "start_time": "2022-05-04T09:19:28.144Z"
   },
   {
    "duration": 28,
    "start_time": "2022-05-04T09:19:40.157Z"
   },
   {
    "duration": 22,
    "start_time": "2022-05-04T09:19:44.996Z"
   },
   {
    "duration": 22,
    "start_time": "2022-05-04T09:19:58.182Z"
   },
   {
    "duration": 8,
    "start_time": "2022-05-04T09:21:13.542Z"
   },
   {
    "duration": 24,
    "start_time": "2022-05-04T09:21:29.801Z"
   },
   {
    "duration": 2207,
    "start_time": "2022-05-04T09:22:56.814Z"
   },
   {
    "duration": 3503,
    "start_time": "2022-05-04T09:23:26.240Z"
   },
   {
    "duration": 2,
    "start_time": "2022-05-04T09:23:34.725Z"
   },
   {
    "duration": 89,
    "start_time": "2022-05-04T09:23:34.729Z"
   },
   {
    "duration": 17,
    "start_time": "2022-05-04T09:23:34.820Z"
   },
   {
    "duration": 19,
    "start_time": "2022-05-04T09:23:34.839Z"
   },
   {
    "duration": 13,
    "start_time": "2022-05-04T09:23:34.861Z"
   },
   {
    "duration": 16,
    "start_time": "2022-05-04T09:23:34.876Z"
   },
   {
    "duration": 10,
    "start_time": "2022-05-04T09:23:34.924Z"
   },
   {
    "duration": 11,
    "start_time": "2022-05-04T09:23:34.936Z"
   },
   {
    "duration": 19,
    "start_time": "2022-05-04T09:23:34.948Z"
   },
   {
    "duration": 55,
    "start_time": "2022-05-04T09:23:34.969Z"
   },
   {
    "duration": 16,
    "start_time": "2022-05-04T09:23:35.027Z"
   },
   {
    "duration": 13,
    "start_time": "2022-05-04T09:23:35.045Z"
   },
   {
    "duration": 12,
    "start_time": "2022-05-04T09:23:35.059Z"
   },
   {
    "duration": 8,
    "start_time": "2022-05-04T09:23:35.073Z"
   },
   {
    "duration": 13,
    "start_time": "2022-05-04T09:23:35.083Z"
   },
   {
    "duration": 28,
    "start_time": "2022-05-04T09:23:35.097Z"
   },
   {
    "duration": 144,
    "start_time": "2022-05-04T09:23:35.127Z"
   },
   {
    "duration": 12,
    "start_time": "2022-05-04T09:23:35.272Z"
   },
   {
    "duration": 5,
    "start_time": "2022-05-04T09:23:35.285Z"
   },
   {
    "duration": 5,
    "start_time": "2022-05-04T09:23:35.291Z"
   },
   {
    "duration": 34,
    "start_time": "2022-05-04T09:23:35.298Z"
   },
   {
    "duration": 34,
    "start_time": "2022-05-04T09:23:35.334Z"
   },
   {
    "duration": 11,
    "start_time": "2022-05-04T09:23:35.371Z"
   },
   {
    "duration": 5,
    "start_time": "2022-05-04T09:23:35.384Z"
   },
   {
    "duration": 524,
    "start_time": "2022-05-04T09:23:35.391Z"
   },
   {
    "duration": 26,
    "start_time": "2022-05-04T09:23:35.917Z"
   },
   {
    "duration": 19,
    "start_time": "2022-05-04T09:23:35.945Z"
   },
   {
    "duration": 3,
    "start_time": "2022-05-04T09:23:35.966Z"
   },
   {
    "duration": 99,
    "start_time": "2022-05-04T09:23:35.972Z"
   },
   {
    "duration": 8,
    "start_time": "2022-05-04T09:23:36.073Z"
   },
   {
    "duration": 8,
    "start_time": "2022-05-04T09:23:36.083Z"
   },
   {
    "duration": 10,
    "start_time": "2022-05-04T09:23:36.092Z"
   },
   {
    "duration": 37,
    "start_time": "2022-05-04T09:23:36.103Z"
   },
   {
    "duration": 16,
    "start_time": "2022-05-04T09:23:36.142Z"
   },
   {
    "duration": 8,
    "start_time": "2022-05-04T09:23:36.160Z"
   },
   {
    "duration": 13,
    "start_time": "2022-05-04T09:23:36.170Z"
   },
   {
    "duration": 4,
    "start_time": "2022-05-04T09:23:36.185Z"
   },
   {
    "duration": 34,
    "start_time": "2022-05-04T09:23:36.191Z"
   },
   {
    "duration": 12,
    "start_time": "2022-05-04T09:23:36.227Z"
   },
   {
    "duration": 9,
    "start_time": "2022-05-04T09:23:36.241Z"
   },
   {
    "duration": 158,
    "start_time": "2022-05-04T09:23:36.252Z"
   },
   {
    "duration": 213,
    "start_time": "2022-05-04T09:23:36.412Z"
   },
   {
    "duration": 4,
    "start_time": "2022-05-04T09:23:36.627Z"
   },
   {
    "duration": 18,
    "start_time": "2022-05-04T09:23:36.632Z"
   },
   {
    "duration": 5,
    "start_time": "2022-05-04T09:23:36.652Z"
   },
   {
    "duration": 5,
    "start_time": "2022-05-04T09:23:40.239Z"
   },
   {
    "duration": 4,
    "start_time": "2022-05-04T09:24:05.727Z"
   },
   {
    "duration": 5,
    "start_time": "2022-05-04T09:24:24.491Z"
   },
   {
    "duration": 5,
    "start_time": "2022-05-04T09:24:40.919Z"
   },
   {
    "duration": 5,
    "start_time": "2022-05-04T09:24:45.312Z"
   },
   {
    "duration": 4,
    "start_time": "2022-05-04T09:24:50.310Z"
   },
   {
    "duration": 5,
    "start_time": "2022-05-04T09:24:58.909Z"
   },
   {
    "duration": 96,
    "start_time": "2022-05-04T09:25:21.058Z"
   },
   {
    "duration": 4,
    "start_time": "2022-05-04T09:26:36.052Z"
   },
   {
    "duration": 4,
    "start_time": "2022-05-04T09:26:38.909Z"
   },
   {
    "duration": 4,
    "start_time": "2022-05-04T09:27:00.148Z"
   },
   {
    "duration": 4,
    "start_time": "2022-05-04T09:27:13.998Z"
   },
   {
    "duration": 4,
    "start_time": "2022-05-04T09:27:22.281Z"
   },
   {
    "duration": 103,
    "start_time": "2022-05-04T09:27:55.305Z"
   },
   {
    "duration": 18,
    "start_time": "2022-05-04T09:28:55.914Z"
   },
   {
    "duration": 14,
    "start_time": "2022-05-04T09:30:37.281Z"
   },
   {
    "duration": 19,
    "start_time": "2022-05-04T09:31:00.439Z"
   },
   {
    "duration": 17,
    "start_time": "2022-05-04T09:36:32.225Z"
   },
   {
    "duration": 19,
    "start_time": "2022-05-04T09:36:36.035Z"
   },
   {
    "duration": 18,
    "start_time": "2022-05-04T09:37:23.656Z"
   },
   {
    "duration": 16,
    "start_time": "2022-05-04T09:37:28.112Z"
   },
   {
    "duration": 22,
    "start_time": "2022-05-04T09:37:32.719Z"
   },
   {
    "duration": 529,
    "start_time": "2022-05-04T17:45:09.871Z"
   },
   {
    "duration": 112,
    "start_time": "2022-05-04T17:45:10.403Z"
   },
   {
    "duration": 22,
    "start_time": "2022-05-04T17:45:10.518Z"
   },
   {
    "duration": 26,
    "start_time": "2022-05-04T17:45:10.542Z"
   },
   {
    "duration": 28,
    "start_time": "2022-05-04T17:45:10.572Z"
   },
   {
    "duration": 39,
    "start_time": "2022-05-04T17:45:10.603Z"
   },
   {
    "duration": 47,
    "start_time": "2022-05-04T17:45:10.644Z"
   },
   {
    "duration": 10,
    "start_time": "2022-05-04T17:45:10.694Z"
   },
   {
    "duration": 27,
    "start_time": "2022-05-04T17:45:10.706Z"
   },
   {
    "duration": 65,
    "start_time": "2022-05-04T17:45:10.735Z"
   },
   {
    "duration": 23,
    "start_time": "2022-05-04T17:45:10.802Z"
   },
   {
    "duration": 13,
    "start_time": "2022-05-04T17:45:10.827Z"
   },
   {
    "duration": 49,
    "start_time": "2022-05-04T17:45:10.842Z"
   },
   {
    "duration": 13,
    "start_time": "2022-05-04T17:45:10.896Z"
   },
   {
    "duration": 24,
    "start_time": "2022-05-04T17:45:10.912Z"
   },
   {
    "duration": 5,
    "start_time": "2022-05-04T17:45:10.940Z"
   },
   {
    "duration": 188,
    "start_time": "2022-05-04T17:45:10.984Z"
   },
   {
    "duration": 22,
    "start_time": "2022-05-04T17:45:11.174Z"
   },
   {
    "duration": 5,
    "start_time": "2022-05-04T17:45:11.199Z"
   },
   {
    "duration": 7,
    "start_time": "2022-05-04T17:45:11.207Z"
   },
   {
    "duration": 41,
    "start_time": "2022-05-04T17:45:11.217Z"
   },
   {
    "duration": 100,
    "start_time": "2022-05-04T17:45:11.283Z"
   },
   {
    "duration": 17,
    "start_time": "2022-05-04T17:45:11.385Z"
   },
   {
    "duration": 7,
    "start_time": "2022-05-04T17:45:11.405Z"
   },
   {
    "duration": 987,
    "start_time": "2022-05-04T17:45:11.415Z"
   },
   {
    "duration": 21,
    "start_time": "2022-05-04T17:45:12.404Z"
   },
   {
    "duration": 57,
    "start_time": "2022-05-04T17:45:12.428Z"
   },
   {
    "duration": 5,
    "start_time": "2022-05-04T17:45:12.487Z"
   },
   {
    "duration": 216,
    "start_time": "2022-05-04T17:45:12.494Z"
   },
   {
    "duration": 16,
    "start_time": "2022-05-04T17:45:12.713Z"
   },
   {
    "duration": 11,
    "start_time": "2022-05-04T17:45:12.733Z"
   },
   {
    "duration": 43,
    "start_time": "2022-05-04T17:45:12.747Z"
   },
   {
    "duration": 52,
    "start_time": "2022-05-04T17:45:12.793Z"
   },
   {
    "duration": 58,
    "start_time": "2022-05-04T17:45:12.848Z"
   },
   {
    "duration": 17,
    "start_time": "2022-05-04T17:45:12.909Z"
   },
   {
    "duration": 57,
    "start_time": "2022-05-04T17:45:12.929Z"
   },
   {
    "duration": 6,
    "start_time": "2022-05-04T17:45:12.989Z"
   },
   {
    "duration": 6,
    "start_time": "2022-05-04T17:45:12.998Z"
   },
   {
    "duration": 14,
    "start_time": "2022-05-04T17:45:13.007Z"
   },
   {
    "duration": 16,
    "start_time": "2022-05-04T17:45:13.024Z"
   },
   {
    "duration": 261,
    "start_time": "2022-05-04T17:45:13.085Z"
   },
   {
    "duration": 385,
    "start_time": "2022-05-04T17:45:13.348Z"
   },
   {
    "duration": 7,
    "start_time": "2022-05-04T17:45:13.736Z"
   },
   {
    "duration": 42,
    "start_time": "2022-05-04T17:45:13.746Z"
   },
   {
    "duration": 6,
    "start_time": "2022-05-04T17:45:13.791Z"
   },
   {
    "duration": 525,
    "start_time": "2022-05-04T17:57:33.557Z"
   },
   {
    "duration": 111,
    "start_time": "2022-05-04T17:57:34.085Z"
   },
   {
    "duration": 34,
    "start_time": "2022-05-04T17:57:34.200Z"
   },
   {
    "duration": 45,
    "start_time": "2022-05-04T17:57:34.237Z"
   },
   {
    "duration": 33,
    "start_time": "2022-05-04T17:57:34.287Z"
   },
   {
    "duration": 78,
    "start_time": "2022-05-04T17:57:34.323Z"
   },
   {
    "duration": 22,
    "start_time": "2022-05-04T17:57:34.405Z"
   },
   {
    "duration": 16,
    "start_time": "2022-05-04T17:57:34.430Z"
   },
   {
    "duration": 68,
    "start_time": "2022-05-04T17:57:34.449Z"
   },
   {
    "duration": 79,
    "start_time": "2022-05-04T17:57:34.519Z"
   },
   {
    "duration": 35,
    "start_time": "2022-05-04T17:57:34.601Z"
   },
   {
    "duration": 17,
    "start_time": "2022-05-04T17:57:34.639Z"
   },
   {
    "duration": 11,
    "start_time": "2022-05-04T17:57:34.682Z"
   },
   {
    "duration": 10,
    "start_time": "2022-05-04T17:57:34.697Z"
   },
   {
    "duration": 28,
    "start_time": "2022-05-04T17:57:34.710Z"
   },
   {
    "duration": 42,
    "start_time": "2022-05-04T17:57:34.740Z"
   },
   {
    "duration": 188,
    "start_time": "2022-05-04T17:57:34.784Z"
   },
   {
    "duration": 16,
    "start_time": "2022-05-04T17:57:34.975Z"
   },
   {
    "duration": 10,
    "start_time": "2022-05-04T17:57:34.994Z"
   },
   {
    "duration": 4,
    "start_time": "2022-05-04T17:57:35.007Z"
   },
   {
    "duration": 18,
    "start_time": "2022-05-04T17:57:35.014Z"
   },
   {
    "duration": 88,
    "start_time": "2022-05-04T17:57:35.034Z"
   },
   {
    "duration": 72,
    "start_time": "2022-05-04T17:57:35.124Z"
   },
   {
    "duration": 14,
    "start_time": "2022-05-04T17:57:35.199Z"
   },
   {
    "duration": 497,
    "start_time": "2022-05-04T17:57:35.215Z"
   },
   {
    "duration": 24,
    "start_time": "2022-05-04T17:57:35.715Z"
   },
   {
    "duration": 73,
    "start_time": "2022-05-04T17:57:35.742Z"
   },
   {
    "duration": 5,
    "start_time": "2022-05-04T17:57:35.817Z"
   },
   {
    "duration": 139,
    "start_time": "2022-05-04T17:57:35.825Z"
   },
   {
    "duration": 19,
    "start_time": "2022-05-04T17:57:35.967Z"
   },
   {
    "duration": 11,
    "start_time": "2022-05-04T17:57:35.988Z"
   },
   {
    "duration": 17,
    "start_time": "2022-05-04T17:57:36.001Z"
   },
   {
    "duration": 67,
    "start_time": "2022-05-04T17:57:36.021Z"
   },
   {
    "duration": 21,
    "start_time": "2022-05-04T17:57:36.091Z"
   },
   {
    "duration": 15,
    "start_time": "2022-05-04T17:57:36.115Z"
   },
   {
    "duration": 54,
    "start_time": "2022-05-04T17:57:36.133Z"
   },
   {
    "duration": 5,
    "start_time": "2022-05-04T17:57:36.190Z"
   },
   {
    "duration": 10,
    "start_time": "2022-05-04T17:57:36.197Z"
   },
   {
    "duration": 25,
    "start_time": "2022-05-04T17:57:36.210Z"
   },
   {
    "duration": 15,
    "start_time": "2022-05-04T17:57:36.237Z"
   },
   {
    "duration": 327,
    "start_time": "2022-05-04T17:57:36.284Z"
   },
   {
    "duration": 270,
    "start_time": "2022-05-04T17:57:36.614Z"
   },
   {
    "duration": 8,
    "start_time": "2022-05-04T17:57:36.887Z"
   },
   {
    "duration": 23,
    "start_time": "2022-05-04T17:57:36.897Z"
   },
   {
    "duration": 7,
    "start_time": "2022-05-04T17:57:36.923Z"
   }
  ],
  "colab": {
   "name": "DA+. Сборный проект 1. Шаблон (1).ipynb",
   "provenance": []
  },
  "kernelspec": {
   "display_name": "Python 3 (ipykernel)",
   "language": "python",
   "name": "python3"
  },
  "language_info": {
   "codemirror_mode": {
    "name": "ipython",
    "version": 3
   },
   "file_extension": ".py",
   "mimetype": "text/x-python",
   "name": "python",
   "nbconvert_exporter": "python",
   "pygments_lexer": "ipython3",
   "version": "3.9.7"
  },
  "toc": {
   "base_numbering": 1,
   "nav_menu": {},
   "number_sections": true,
   "sideBar": true,
   "skip_h1_title": true,
   "title_cell": "Table of Contents",
   "title_sidebar": "Contents",
   "toc_cell": false,
   "toc_position": {
    "height": "calc(100% - 180px)",
    "left": "10px",
    "top": "150px",
    "width": "234.375px"
   },
   "toc_section_display": true,
   "toc_window_display": true
  }
 },
 "nbformat": 4,
 "nbformat_minor": 1
}
