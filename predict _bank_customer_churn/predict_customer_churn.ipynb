{
 "cells": [
  {
   "cell_type": "markdown",
   "metadata": {
    "toc": true
   },
   "source": [
    "<h1>Содержание<span class=\"tocSkip\"></span></h1>\n",
    "<div class=\"toc\"><ul class=\"toc-item\"><li><span><a href=\"#Подготовка-данных\" data-toc-modified-id=\"Подготовка-данных-1\"><span class=\"toc-item-num\">1&nbsp;&nbsp;</span>Подготовка данных</a></span></li><li><span><a href=\"#Исследование-задачи\" data-toc-modified-id=\"Исследование-задачи-2\"><span class=\"toc-item-num\">2&nbsp;&nbsp;</span>Исследование задачи</a></span><ul class=\"toc-item\"><li><span><a href=\"#DecisionTreeClassifier\" data-toc-modified-id=\"DecisionTreeClassifier-2.1\"><span class=\"toc-item-num\">2.1&nbsp;&nbsp;</span>DecisionTreeClassifier</a></span></li><li><span><a href=\"#LogisticRegression\" data-toc-modified-id=\"LogisticRegression-2.2\"><span class=\"toc-item-num\">2.2&nbsp;&nbsp;</span>LogisticRegression</a></span></li><li><span><a href=\"#RandomForestClassifier\" data-toc-modified-id=\"RandomForestClassifier-2.3\"><span class=\"toc-item-num\">2.3&nbsp;&nbsp;</span>RandomForestClassifier</a></span></li></ul></li><li><span><a href=\"#Борьба-с-дисбалансом\" data-toc-modified-id=\"Борьба-с-дисбалансом-3\"><span class=\"toc-item-num\">3&nbsp;&nbsp;</span>Борьба с дисбалансом</a></span><ul class=\"toc-item\"><li><span><a href=\"#Upsampling\" data-toc-modified-id=\"Upsampling-3.1\"><span class=\"toc-item-num\">3.1&nbsp;&nbsp;</span>Upsampling</a></span></li><li><span><a href=\"#Downsampling\" data-toc-modified-id=\"Downsampling-3.2\"><span class=\"toc-item-num\">3.2&nbsp;&nbsp;</span>Downsampling</a></span></li></ul></li><li><span><a href=\"#Тестирование-модели\" data-toc-modified-id=\"Тестирование-модели-4\"><span class=\"toc-item-num\">4&nbsp;&nbsp;</span>Тестирование модели</a></span></li><li><span><a href=\"#Вывод\" data-toc-modified-id=\"Вывод-5\"><span class=\"toc-item-num\">5&nbsp;&nbsp;</span>Вывод</a></span></li><li><span><a href=\"#Чек-лист-готовности-проекта\" data-toc-modified-id=\"Чек-лист-готовности-проекта-6\"><span class=\"toc-item-num\">6&nbsp;&nbsp;</span>Чек-лист готовности проекта</a></span></li></ul></div>"
   ]
  },
  {
   "cell_type": "markdown",
   "metadata": {},
   "source": [
    "# Отток клиентов"
   ]
  },
  {
   "cell_type": "markdown",
   "metadata": {},
   "source": [
    "Из «Бета-Банка» стали уходить клиенты. Каждый месяц. Немного, но заметно. Банковские маркетологи посчитали: сохранять текущих клиентов дешевле, чем привлекать новых.\n",
    "\n",
    "Нужно спрогнозировать, уйдёт клиент из банка в ближайшее время или нет. Вам предоставлены исторические данные о поведении клиентов и расторжении договоров с банком. \n",
    "\n",
    "Постройте модель с предельно большим значением *F1*-меры. Чтобы сдать проект успешно, нужно довести метрику до 0.59. Проверьте *F1*-меру на тестовой выборке самостоятельно."
   ]
  },
  {
   "cell_type": "markdown",
   "metadata": {},
   "source": [
    "**Признаки:**\n",
    "- *`RowNumber`* — индекс строки в данных\n",
    "- *`CustomerId`* — уникальный идентификатор клиента\n",
    "- *`Surname`* — фамилия\n",
    "- *`CreditScore`* — кредитный рейтинг\n",
    "- *`Geography`* — страна проживания\n",
    "- *`Gender`* — пол\n",
    "- *`Age`* — возраст\n",
    "- *`Tenure`* — сколько лет человек является клиентом банка\n",
    "- *`Balance`* — баланс на счёте\n",
    "- *`NumOfProducts`* — количество продуктов банка, используемых клиентом\n",
    "- *`HasCrCard`* — наличие кредитной карты\n",
    "- *`IsActiveMember`* — активность клиента\n",
    "- *`EstimatedSalary`* — предполагаемая зарплата\n",
    "\n",
    "\n",
    "**Целевой признак:**\n",
    "- *`Exited`* — факт ухода клиента"
   ]
  },
  {
   "cell_type": "markdown",
   "metadata": {},
   "source": [
    "## Подготовка данных"
   ]
  },
  {
   "cell_type": "code",
   "execution_count": 13,
   "metadata": {},
   "outputs": [],
   "source": [
    "import pandas as pd \n",
    "from sklearn.model_selection import train_test_split\n",
    "from sklearn.utils import shuffle\n",
    "from sklearn.metrics import f1_score\n",
    "from sklearn.metrics import roc_auc_score \n",
    "from sklearn.metrics import f1_score\n",
    "from sklearn.preprocessing import StandardScaler\n",
    "from sklearn.model_selection import GridSearchCV\n",
    "\n",
    "\n",
    "from sklearn.linear_model import LogisticRegression\n",
    "from sklearn.ensemble import RandomForestClassifier\n",
    "from sklearn.tree import DecisionTreeClassifier"
   ]
  },
  {
   "cell_type": "code",
   "execution_count": 14,
   "metadata": {},
   "outputs": [
    {
     "name": "stdout",
     "output_type": "stream",
     "text": [
      "<class 'pandas.core.frame.DataFrame'>\n",
      "RangeIndex: 10000 entries, 0 to 9999\n",
      "Data columns (total 14 columns):\n",
      " #   Column           Non-Null Count  Dtype  \n",
      "---  ------           --------------  -----  \n",
      " 0   RowNumber        10000 non-null  int64  \n",
      " 1   CustomerId       10000 non-null  int64  \n",
      " 2   Surname          10000 non-null  object \n",
      " 3   CreditScore      10000 non-null  int64  \n",
      " 4   Geography        10000 non-null  object \n",
      " 5   Gender           10000 non-null  object \n",
      " 6   Age              10000 non-null  int64  \n",
      " 7   Tenure           9091 non-null   float64\n",
      " 8   Balance          10000 non-null  float64\n",
      " 9   NumOfProducts    10000 non-null  int64  \n",
      " 10  HasCrCard        10000 non-null  int64  \n",
      " 11  IsActiveMember   10000 non-null  int64  \n",
      " 12  EstimatedSalary  10000 non-null  float64\n",
      " 13  Exited           10000 non-null  int64  \n",
      "dtypes: float64(3), int64(8), object(3)\n",
      "memory usage: 1.1+ MB\n"
     ]
    },
    {
     "data": {
      "text/html": [
       "<div>\n",
       "<style scoped>\n",
       "    .dataframe tbody tr th:only-of-type {\n",
       "        vertical-align: middle;\n",
       "    }\n",
       "\n",
       "    .dataframe tbody tr th {\n",
       "        vertical-align: top;\n",
       "    }\n",
       "\n",
       "    .dataframe thead th {\n",
       "        text-align: right;\n",
       "    }\n",
       "</style>\n",
       "<table border=\"1\" class=\"dataframe\">\n",
       "  <thead>\n",
       "    <tr style=\"text-align: right;\">\n",
       "      <th></th>\n",
       "      <th>RowNumber</th>\n",
       "      <th>CustomerId</th>\n",
       "      <th>Surname</th>\n",
       "      <th>CreditScore</th>\n",
       "      <th>Geography</th>\n",
       "      <th>Gender</th>\n",
       "      <th>Age</th>\n",
       "      <th>Tenure</th>\n",
       "      <th>Balance</th>\n",
       "      <th>NumOfProducts</th>\n",
       "      <th>HasCrCard</th>\n",
       "      <th>IsActiveMember</th>\n",
       "      <th>EstimatedSalary</th>\n",
       "      <th>Exited</th>\n",
       "    </tr>\n",
       "  </thead>\n",
       "  <tbody>\n",
       "    <tr>\n",
       "      <th>0</th>\n",
       "      <td>1</td>\n",
       "      <td>15634602</td>\n",
       "      <td>Hargrave</td>\n",
       "      <td>619</td>\n",
       "      <td>France</td>\n",
       "      <td>Female</td>\n",
       "      <td>42</td>\n",
       "      <td>2.0</td>\n",
       "      <td>0.00</td>\n",
       "      <td>1</td>\n",
       "      <td>1</td>\n",
       "      <td>1</td>\n",
       "      <td>101348.88</td>\n",
       "      <td>1</td>\n",
       "    </tr>\n",
       "    <tr>\n",
       "      <th>1</th>\n",
       "      <td>2</td>\n",
       "      <td>15647311</td>\n",
       "      <td>Hill</td>\n",
       "      <td>608</td>\n",
       "      <td>Spain</td>\n",
       "      <td>Female</td>\n",
       "      <td>41</td>\n",
       "      <td>1.0</td>\n",
       "      <td>83807.86</td>\n",
       "      <td>1</td>\n",
       "      <td>0</td>\n",
       "      <td>1</td>\n",
       "      <td>112542.58</td>\n",
       "      <td>0</td>\n",
       "    </tr>\n",
       "    <tr>\n",
       "      <th>2</th>\n",
       "      <td>3</td>\n",
       "      <td>15619304</td>\n",
       "      <td>Onio</td>\n",
       "      <td>502</td>\n",
       "      <td>France</td>\n",
       "      <td>Female</td>\n",
       "      <td>42</td>\n",
       "      <td>8.0</td>\n",
       "      <td>159660.80</td>\n",
       "      <td>3</td>\n",
       "      <td>1</td>\n",
       "      <td>0</td>\n",
       "      <td>113931.57</td>\n",
       "      <td>1</td>\n",
       "    </tr>\n",
       "    <tr>\n",
       "      <th>3</th>\n",
       "      <td>4</td>\n",
       "      <td>15701354</td>\n",
       "      <td>Boni</td>\n",
       "      <td>699</td>\n",
       "      <td>France</td>\n",
       "      <td>Female</td>\n",
       "      <td>39</td>\n",
       "      <td>1.0</td>\n",
       "      <td>0.00</td>\n",
       "      <td>2</td>\n",
       "      <td>0</td>\n",
       "      <td>0</td>\n",
       "      <td>93826.63</td>\n",
       "      <td>0</td>\n",
       "    </tr>\n",
       "    <tr>\n",
       "      <th>4</th>\n",
       "      <td>5</td>\n",
       "      <td>15737888</td>\n",
       "      <td>Mitchell</td>\n",
       "      <td>850</td>\n",
       "      <td>Spain</td>\n",
       "      <td>Female</td>\n",
       "      <td>43</td>\n",
       "      <td>2.0</td>\n",
       "      <td>125510.82</td>\n",
       "      <td>1</td>\n",
       "      <td>1</td>\n",
       "      <td>1</td>\n",
       "      <td>79084.10</td>\n",
       "      <td>0</td>\n",
       "    </tr>\n",
       "  </tbody>\n",
       "</table>\n",
       "</div>"
      ],
      "text/plain": [
       "   RowNumber  CustomerId   Surname  CreditScore Geography  Gender  Age  \\\n",
       "0          1    15634602  Hargrave          619    France  Female   42   \n",
       "1          2    15647311      Hill          608     Spain  Female   41   \n",
       "2          3    15619304      Onio          502    France  Female   42   \n",
       "3          4    15701354      Boni          699    France  Female   39   \n",
       "4          5    15737888  Mitchell          850     Spain  Female   43   \n",
       "\n",
       "   Tenure    Balance  NumOfProducts  HasCrCard  IsActiveMember  \\\n",
       "0     2.0       0.00              1          1               1   \n",
       "1     1.0   83807.86              1          0               1   \n",
       "2     8.0  159660.80              3          1               0   \n",
       "3     1.0       0.00              2          0               0   \n",
       "4     2.0  125510.82              1          1               1   \n",
       "\n",
       "   EstimatedSalary  Exited  \n",
       "0        101348.88       1  \n",
       "1        112542.58       0  \n",
       "2        113931.57       1  \n",
       "3         93826.63       0  \n",
       "4         79084.10       0  "
      ]
     },
     "execution_count": 14,
     "metadata": {},
     "output_type": "execute_result"
    }
   ],
   "source": [
    "df = pd.read_csv('/datasets/Churn.csv')\n",
    "df.info()\n",
    "df.head()"
   ]
  },
  {
   "cell_type": "code",
   "execution_count": 15,
   "metadata": {
    "scrolled": true
   },
   "outputs": [
    {
     "data": {
      "text/html": [
       "<div>\n",
       "<style scoped>\n",
       "    .dataframe tbody tr th:only-of-type {\n",
       "        vertical-align: middle;\n",
       "    }\n",
       "\n",
       "    .dataframe tbody tr th {\n",
       "        vertical-align: top;\n",
       "    }\n",
       "\n",
       "    .dataframe thead th {\n",
       "        text-align: right;\n",
       "    }\n",
       "</style>\n",
       "<table border=\"1\" class=\"dataframe\">\n",
       "  <thead>\n",
       "    <tr style=\"text-align: right;\">\n",
       "      <th></th>\n",
       "      <th>RowNumber</th>\n",
       "      <th>CustomerId</th>\n",
       "      <th>CreditScore</th>\n",
       "      <th>Age</th>\n",
       "      <th>Tenure</th>\n",
       "      <th>Balance</th>\n",
       "      <th>NumOfProducts</th>\n",
       "      <th>HasCrCard</th>\n",
       "      <th>IsActiveMember</th>\n",
       "      <th>EstimatedSalary</th>\n",
       "      <th>Exited</th>\n",
       "    </tr>\n",
       "  </thead>\n",
       "  <tbody>\n",
       "    <tr>\n",
       "      <th>count</th>\n",
       "      <td>10000.00000</td>\n",
       "      <td>1.000000e+04</td>\n",
       "      <td>10000.000000</td>\n",
       "      <td>10000.000000</td>\n",
       "      <td>9091.000000</td>\n",
       "      <td>10000.000000</td>\n",
       "      <td>10000.000000</td>\n",
       "      <td>10000.00000</td>\n",
       "      <td>10000.000000</td>\n",
       "      <td>10000.000000</td>\n",
       "      <td>10000.000000</td>\n",
       "    </tr>\n",
       "    <tr>\n",
       "      <th>mean</th>\n",
       "      <td>5000.50000</td>\n",
       "      <td>1.569094e+07</td>\n",
       "      <td>650.528800</td>\n",
       "      <td>38.921800</td>\n",
       "      <td>4.997690</td>\n",
       "      <td>76485.889288</td>\n",
       "      <td>1.530200</td>\n",
       "      <td>0.70550</td>\n",
       "      <td>0.515100</td>\n",
       "      <td>100090.239881</td>\n",
       "      <td>0.203700</td>\n",
       "    </tr>\n",
       "    <tr>\n",
       "      <th>std</th>\n",
       "      <td>2886.89568</td>\n",
       "      <td>7.193619e+04</td>\n",
       "      <td>96.653299</td>\n",
       "      <td>10.487806</td>\n",
       "      <td>2.894723</td>\n",
       "      <td>62397.405202</td>\n",
       "      <td>0.581654</td>\n",
       "      <td>0.45584</td>\n",
       "      <td>0.499797</td>\n",
       "      <td>57510.492818</td>\n",
       "      <td>0.402769</td>\n",
       "    </tr>\n",
       "    <tr>\n",
       "      <th>min</th>\n",
       "      <td>1.00000</td>\n",
       "      <td>1.556570e+07</td>\n",
       "      <td>350.000000</td>\n",
       "      <td>18.000000</td>\n",
       "      <td>0.000000</td>\n",
       "      <td>0.000000</td>\n",
       "      <td>1.000000</td>\n",
       "      <td>0.00000</td>\n",
       "      <td>0.000000</td>\n",
       "      <td>11.580000</td>\n",
       "      <td>0.000000</td>\n",
       "    </tr>\n",
       "    <tr>\n",
       "      <th>25%</th>\n",
       "      <td>2500.75000</td>\n",
       "      <td>1.562853e+07</td>\n",
       "      <td>584.000000</td>\n",
       "      <td>32.000000</td>\n",
       "      <td>2.000000</td>\n",
       "      <td>0.000000</td>\n",
       "      <td>1.000000</td>\n",
       "      <td>0.00000</td>\n",
       "      <td>0.000000</td>\n",
       "      <td>51002.110000</td>\n",
       "      <td>0.000000</td>\n",
       "    </tr>\n",
       "    <tr>\n",
       "      <th>50%</th>\n",
       "      <td>5000.50000</td>\n",
       "      <td>1.569074e+07</td>\n",
       "      <td>652.000000</td>\n",
       "      <td>37.000000</td>\n",
       "      <td>5.000000</td>\n",
       "      <td>97198.540000</td>\n",
       "      <td>1.000000</td>\n",
       "      <td>1.00000</td>\n",
       "      <td>1.000000</td>\n",
       "      <td>100193.915000</td>\n",
       "      <td>0.000000</td>\n",
       "    </tr>\n",
       "    <tr>\n",
       "      <th>75%</th>\n",
       "      <td>7500.25000</td>\n",
       "      <td>1.575323e+07</td>\n",
       "      <td>718.000000</td>\n",
       "      <td>44.000000</td>\n",
       "      <td>7.000000</td>\n",
       "      <td>127644.240000</td>\n",
       "      <td>2.000000</td>\n",
       "      <td>1.00000</td>\n",
       "      <td>1.000000</td>\n",
       "      <td>149388.247500</td>\n",
       "      <td>0.000000</td>\n",
       "    </tr>\n",
       "    <tr>\n",
       "      <th>max</th>\n",
       "      <td>10000.00000</td>\n",
       "      <td>1.581569e+07</td>\n",
       "      <td>850.000000</td>\n",
       "      <td>92.000000</td>\n",
       "      <td>10.000000</td>\n",
       "      <td>250898.090000</td>\n",
       "      <td>4.000000</td>\n",
       "      <td>1.00000</td>\n",
       "      <td>1.000000</td>\n",
       "      <td>199992.480000</td>\n",
       "      <td>1.000000</td>\n",
       "    </tr>\n",
       "  </tbody>\n",
       "</table>\n",
       "</div>"
      ],
      "text/plain": [
       "         RowNumber    CustomerId   CreditScore           Age       Tenure  \\\n",
       "count  10000.00000  1.000000e+04  10000.000000  10000.000000  9091.000000   \n",
       "mean    5000.50000  1.569094e+07    650.528800     38.921800     4.997690   \n",
       "std     2886.89568  7.193619e+04     96.653299     10.487806     2.894723   \n",
       "min        1.00000  1.556570e+07    350.000000     18.000000     0.000000   \n",
       "25%     2500.75000  1.562853e+07    584.000000     32.000000     2.000000   \n",
       "50%     5000.50000  1.569074e+07    652.000000     37.000000     5.000000   \n",
       "75%     7500.25000  1.575323e+07    718.000000     44.000000     7.000000   \n",
       "max    10000.00000  1.581569e+07    850.000000     92.000000    10.000000   \n",
       "\n",
       "             Balance  NumOfProducts    HasCrCard  IsActiveMember  \\\n",
       "count   10000.000000   10000.000000  10000.00000    10000.000000   \n",
       "mean    76485.889288       1.530200      0.70550        0.515100   \n",
       "std     62397.405202       0.581654      0.45584        0.499797   \n",
       "min         0.000000       1.000000      0.00000        0.000000   \n",
       "25%         0.000000       1.000000      0.00000        0.000000   \n",
       "50%     97198.540000       1.000000      1.00000        1.000000   \n",
       "75%    127644.240000       2.000000      1.00000        1.000000   \n",
       "max    250898.090000       4.000000      1.00000        1.000000   \n",
       "\n",
       "       EstimatedSalary        Exited  \n",
       "count     10000.000000  10000.000000  \n",
       "mean     100090.239881      0.203700  \n",
       "std       57510.492818      0.402769  \n",
       "min          11.580000      0.000000  \n",
       "25%       51002.110000      0.000000  \n",
       "50%      100193.915000      0.000000  \n",
       "75%      149388.247500      0.000000  \n",
       "max      199992.480000      1.000000  "
      ]
     },
     "execution_count": 15,
     "metadata": {},
     "output_type": "execute_result"
    }
   ],
   "source": [
    "df.describe()"
   ]
  },
  {
   "cell_type": "markdown",
   "metadata": {},
   "source": [
    "Осмотрим наши данные, видим столбцы *RowNumber*,*CustomerId*,*Surname* которые не нужны нам для нашей модели. Удалим их. так же видим пропуски в столбце *Tenure*, нужно будет их заполнить"
   ]
  },
  {
   "cell_type": "code",
   "execution_count": 16,
   "metadata": {},
   "outputs": [],
   "source": [
    "df = df.drop(['RowNumber', 'CustomerId', 'Surname'], axis=1)"
   ]
  },
  {
   "cell_type": "markdown",
   "metadata": {},
   "source": [
    "Применим ohe-кодирование."
   ]
  },
  {
   "cell_type": "code",
   "execution_count": 17,
   "metadata": {},
   "outputs": [
    {
     "data": {
      "text/html": [
       "<div>\n",
       "<style scoped>\n",
       "    .dataframe tbody tr th:only-of-type {\n",
       "        vertical-align: middle;\n",
       "    }\n",
       "\n",
       "    .dataframe tbody tr th {\n",
       "        vertical-align: top;\n",
       "    }\n",
       "\n",
       "    .dataframe thead th {\n",
       "        text-align: right;\n",
       "    }\n",
       "</style>\n",
       "<table border=\"1\" class=\"dataframe\">\n",
       "  <thead>\n",
       "    <tr style=\"text-align: right;\">\n",
       "      <th></th>\n",
       "      <th>CreditScore</th>\n",
       "      <th>Age</th>\n",
       "      <th>Tenure</th>\n",
       "      <th>Balance</th>\n",
       "      <th>NumOfProducts</th>\n",
       "      <th>HasCrCard</th>\n",
       "      <th>IsActiveMember</th>\n",
       "      <th>EstimatedSalary</th>\n",
       "      <th>Exited</th>\n",
       "      <th>Geography_Germany</th>\n",
       "      <th>Geography_Spain</th>\n",
       "      <th>Gender_Male</th>\n",
       "    </tr>\n",
       "  </thead>\n",
       "  <tbody>\n",
       "    <tr>\n",
       "      <th>0</th>\n",
       "      <td>619</td>\n",
       "      <td>42</td>\n",
       "      <td>2.0</td>\n",
       "      <td>0.00</td>\n",
       "      <td>1</td>\n",
       "      <td>1</td>\n",
       "      <td>1</td>\n",
       "      <td>101348.88</td>\n",
       "      <td>1</td>\n",
       "      <td>0</td>\n",
       "      <td>0</td>\n",
       "      <td>0</td>\n",
       "    </tr>\n",
       "    <tr>\n",
       "      <th>1</th>\n",
       "      <td>608</td>\n",
       "      <td>41</td>\n",
       "      <td>1.0</td>\n",
       "      <td>83807.86</td>\n",
       "      <td>1</td>\n",
       "      <td>0</td>\n",
       "      <td>1</td>\n",
       "      <td>112542.58</td>\n",
       "      <td>0</td>\n",
       "      <td>0</td>\n",
       "      <td>1</td>\n",
       "      <td>0</td>\n",
       "    </tr>\n",
       "    <tr>\n",
       "      <th>2</th>\n",
       "      <td>502</td>\n",
       "      <td>42</td>\n",
       "      <td>8.0</td>\n",
       "      <td>159660.80</td>\n",
       "      <td>3</td>\n",
       "      <td>1</td>\n",
       "      <td>0</td>\n",
       "      <td>113931.57</td>\n",
       "      <td>1</td>\n",
       "      <td>0</td>\n",
       "      <td>0</td>\n",
       "      <td>0</td>\n",
       "    </tr>\n",
       "    <tr>\n",
       "      <th>3</th>\n",
       "      <td>699</td>\n",
       "      <td>39</td>\n",
       "      <td>1.0</td>\n",
       "      <td>0.00</td>\n",
       "      <td>2</td>\n",
       "      <td>0</td>\n",
       "      <td>0</td>\n",
       "      <td>93826.63</td>\n",
       "      <td>0</td>\n",
       "      <td>0</td>\n",
       "      <td>0</td>\n",
       "      <td>0</td>\n",
       "    </tr>\n",
       "    <tr>\n",
       "      <th>4</th>\n",
       "      <td>850</td>\n",
       "      <td>43</td>\n",
       "      <td>2.0</td>\n",
       "      <td>125510.82</td>\n",
       "      <td>1</td>\n",
       "      <td>1</td>\n",
       "      <td>1</td>\n",
       "      <td>79084.10</td>\n",
       "      <td>0</td>\n",
       "      <td>0</td>\n",
       "      <td>1</td>\n",
       "      <td>0</td>\n",
       "    </tr>\n",
       "  </tbody>\n",
       "</table>\n",
       "</div>"
      ],
      "text/plain": [
       "   CreditScore  Age  Tenure    Balance  NumOfProducts  HasCrCard  \\\n",
       "0          619   42     2.0       0.00              1          1   \n",
       "1          608   41     1.0   83807.86              1          0   \n",
       "2          502   42     8.0  159660.80              3          1   \n",
       "3          699   39     1.0       0.00              2          0   \n",
       "4          850   43     2.0  125510.82              1          1   \n",
       "\n",
       "   IsActiveMember  EstimatedSalary  Exited  Geography_Germany  \\\n",
       "0               1        101348.88       1                  0   \n",
       "1               1        112542.58       0                  0   \n",
       "2               0        113931.57       1                  0   \n",
       "3               0         93826.63       0                  0   \n",
       "4               1         79084.10       0                  0   \n",
       "\n",
       "   Geography_Spain  Gender_Male  \n",
       "0                0            0  \n",
       "1                1            0  \n",
       "2                0            0  \n",
       "3                0            0  \n",
       "4                1            0  "
      ]
     },
     "execution_count": 17,
     "metadata": {},
     "output_type": "execute_result"
    }
   ],
   "source": [
    "df_ohe = pd.get_dummies(df, drop_first=True)\n",
    "df_ohe.head()"
   ]
  },
  {
   "cell_type": "markdown",
   "metadata": {},
   "source": [
    "## Исследование задачи"
   ]
  },
  {
   "cell_type": "code",
   "execution_count": 18,
   "metadata": {},
   "outputs": [],
   "source": [
    "features = df_ohe.drop('Exited', axis=1)\n",
    "target = df_ohe['Exited']"
   ]
  },
  {
   "cell_type": "code",
   "execution_count": 19,
   "metadata": {},
   "outputs": [],
   "source": [
    "features_train, features_1, target_train, target_1 = train_test_split( \n",
    "        features, target, test_size=0.4, random_state=12345\n",
    ")"
   ]
  },
  {
   "cell_type": "code",
   "execution_count": 20,
   "metadata": {},
   "outputs": [],
   "source": [
    "features_test, features_valid, target_test, target_valid = train_test_split(\n",
    "        features_1, target_1, test_size=0.5, random_state=12345\n",
    ")"
   ]
  },
  {
   "cell_type": "code",
   "execution_count": 21,
   "metadata": {},
   "outputs": [
    {
     "name": "stdout",
     "output_type": "stream",
     "text": [
      "(6000, 11) (6000,)\n",
      "(2000, 11) (2000,)\n",
      "(2000, 11) (2000,)\n"
     ]
    }
   ],
   "source": [
    "print(features_train.shape, target_train.shape)\n",
    "print(features_valid.shape, target_valid.shape)\n",
    "print(features_test.shape, target_test.shape)"
   ]
  },
  {
   "cell_type": "markdown",
   "metadata": {},
   "source": [
    "Разделили нашу выборку на обучающую, валидоционную и тестовую в соотношении 0,6 - 0,2 - 0,2."
   ]
  },
  {
   "cell_type": "code",
   "execution_count": 22,
   "metadata": {},
   "outputs": [],
   "source": [
    "pd.options.mode.chained_assignment = None\n",
    "numeric=['CreditScore', 'Age', 'Tenure', 'Balance', 'NumOfProducts','EstimatedSalary'] # Список признаков для \n",
    "scaler = StandardScaler()                                                              # масштабирования\n",
    "scaler.fit(features_train[numeric])\n",
    "\n",
    "features_train[numeric] = scaler.transform(features_train[numeric])\n",
    "features_valid[numeric] = scaler.transform(features_valid[numeric])\n",
    "features_test[numeric] = scaler.transform(features_test[numeric])\n",
    "\n",
    "#Заполним пропуски\n",
    "features_train.fillna(features_train['Tenure'].median,inplace=True)\n",
    "features_valid.fillna(features_valid['Tenure'].median,inplace=True)\n",
    "features_test.fillna(features_test['Tenure'].median,inplace=True)"
   ]
  },
  {
   "cell_type": "markdown",
   "metadata": {},
   "source": [
    "Промасштабировали наши числовые признаки, заполнили пропуски"
   ]
  },
  {
   "cell_type": "code",
   "execution_count": 23,
   "metadata": {},
   "outputs": [
    {
     "name": "stdout",
     "output_type": "stream",
     "text": [
      "0    0.7963\n",
      "1    0.2037\n",
      "Name: Exited, dtype: float64\n"
     ]
    }
   ],
   "source": [
    "class_frequency = df['Exited'].value_counts(normalize=True)\n",
    "print(class_frequency)"
   ]
  },
  {
   "cell_type": "markdown",
   "metadata": {},
   "source": [
    "Можем наблюдать сильный дисбаланс классов, пока исследуем модель без учета этого дисбаланса."
   ]
  },
  {
   "cell_type": "markdown",
   "metadata": {},
   "source": [
    "### DecisionTreeClassifier"
   ]
  },
  {
   "cell_type": "code",
   "execution_count": null,
   "metadata": {
    "scrolled": false
   },
   "outputs": [],
   "source": [
    "dtf = DecisionTreeClassifier(random_state=12345)#Исследуем модель дерева решений\n",
    "dtf.fit(features_train, target_train)\n",
    "\n",
    "predictions_tree = dtf.predict(features_valid)\n",
    "\n",
    "print(f1_score(target_valid, predictions_tree))\n",
    "print(roc_auc_score(target_valid, predictions_tree))"
   ]
  },
  {
   "cell_type": "markdown",
   "metadata": {},
   "source": [
    "### LogisticRegression"
   ]
  },
  {
   "cell_type": "code",
   "execution_count": null,
   "metadata": {},
   "outputs": [],
   "source": [
    "lr = LogisticRegression(random_state=12345)#Исследуем модель логической регрессии\n",
    "lr.fit(features_train, target_train)\n",
    "\n",
    "predictions_regression = lr.predict(features_valid)\n",
    "\n",
    "print(f1_score(target_valid, predictions_regression))\n",
    "print(roc_auc_score(target_valid, predictions_regression))"
   ]
  },
  {
   "cell_type": "markdown",
   "metadata": {},
   "source": [
    "### RandomForestClassifier"
   ]
  },
  {
   "cell_type": "code",
   "execution_count": null,
   "metadata": {},
   "outputs": [],
   "source": [
    "rfc = RandomForestClassifier(random_state=12345)\n",
    "param_grid_ = { # словарь параметров\n",
    "    'max_depth':[5,7,9,11,13,15,17,19,20],\n",
    "    'min_samples_leaf':[2,4,6,8],    \n",
    "    'n_estimators': [10, 20, 30, 40, 50],\n",
    "    'max_features': ['log2'],    \n",
    "    'criterion' : ['gini']\n",
    "}\n",
    "\n",
    "#воспользуемся методом GridSearchCV для подбора параметров\n",
    "grid_CV = GridSearchCV(estimator=rfc,\n",
    "                       param_grid=param_grid_,\n",
    "                       cv=5\n",
    ")\n",
    "\n",
    "\n",
    "grid_CV.fit(features_train, target_train)\n",
    "\n",
    "predictions_forest = grid_CV.best_estimator_.predict(features_valid)\n",
    "\n",
    "print(f1_score(target_valid, predictions_forest))\n",
    "print(roc_auc_score(target_valid, predictions_forest))#"
   ]
  },
  {
   "cell_type": "markdown",
   "metadata": {},
   "source": [
    "Лучшие показатели у случайного леса, а именно: \n",
    "- f1 - 0.4984\n",
    "- auc-roc - 0,669957\n",
    "Воспользуемся этой моделью."
   ]
  },
  {
   "cell_type": "markdown",
   "metadata": {},
   "source": [
    "## Борьба с дисбалансом"
   ]
  },
  {
   "cell_type": "markdown",
   "metadata": {},
   "source": [
    "Теперь исследуем модель с учетом дисбаланса классов. Воспользуемся методом увеличения и уменьшения выборки, чтобы достичь значение на `f1` метрике выше 0,59. "
   ]
  },
  {
   "cell_type": "markdown",
   "metadata": {},
   "source": [
    "### Upsampling"
   ]
  },
  {
   "cell_type": "code",
   "execution_count": null,
   "metadata": {},
   "outputs": [],
   "source": [
    "def upsample(features, target, repeat):\n",
    "    features_zeros = features[target == 0]\n",
    "    features_ones = features[target == 1]\n",
    "    target_zeros = target[target == 0]\n",
    "    target_ones = target[target == 1]\n",
    "#увеличим нашу выборку\n",
    "    features_upsampled = pd.concat([features_zeros] + [features_ones] * repeat)\n",
    "    target_upsampled = pd.concat([target_zeros] + [target_ones] * repeat)\n",
    "#перемешаем нашу выборку    \n",
    "    features_upsampled, target_upsampled = shuffle(\n",
    "        features_upsampled, target_upsampled, random_state=12345)\n",
    "    \n",
    "    return features_upsampled, target_upsampled"
   ]
  },
  {
   "cell_type": "code",
   "execution_count": null,
   "metadata": {},
   "outputs": [],
   "source": [
    "features_upsampled_train, target_upsampled_train = upsample(features_train, target_train, repeat=4)"
   ]
  },
  {
   "cell_type": "code",
   "execution_count": null,
   "metadata": {},
   "outputs": [],
   "source": [
    "grid_CV_ = GridSearchCV(estimator=rfc,\n",
    "                      param_grid=param_grid_,\n",
    "                      cv=5\n",
    ")\n",
    "grid_CV_.fit(features_upsampled_train, target_upsampled_train)\n"
   ]
  },
  {
   "cell_type": "code",
   "execution_count": null,
   "metadata": {},
   "outputs": [],
   "source": [
    "predictions_forest_ups = grid_CV_.best_estimator_.predict(features_valid)\n",
    "\n",
    "print(f1_score(target_valid, predictions_forest_ups))\n",
    "print(roc_auc_score(target_valid, predictions_forest))"
   ]
  },
  {
   "cell_type": "markdown",
   "metadata": {},
   "source": [
    "Видим, что после увеличения выборки, мы получили искомое значение на `f1`."
   ]
  },
  {
   "cell_type": "markdown",
   "metadata": {},
   "source": [
    "### Downsampling"
   ]
  },
  {
   "cell_type": "code",
   "execution_count": null,
   "metadata": {},
   "outputs": [],
   "source": [
    "def downsample(features, target, fraction):\n",
    "    features_zeros = features[target == 0]\n",
    "    features_ones = features[target == 1]\n",
    "    target_zeros = target[target == 0]\n",
    "    target_ones = target[target == 1]\n",
    "#уменьшим нашу выборку\n",
    "    features_downsampled = pd.concat(\n",
    "        [features_zeros.sample(frac=fraction, random_state=12345)] + [features_ones])\n",
    "    target_downsampled = pd.concat(\n",
    "        [target_zeros.sample(frac=fraction, random_state=12345)] + [target_ones])\n",
    "#перемешаем нашу выборку    \n",
    "    features_downsampled, target_downsampled = shuffle(\n",
    "        features_downsampled, target_downsampled, random_state=12345)\n",
    "    \n",
    "    return features_downsampled, target_downsampled"
   ]
  },
  {
   "cell_type": "code",
   "execution_count": null,
   "metadata": {},
   "outputs": [],
   "source": [
    "features_downsampled_train, target_downsampled_train = downsample(features_train, target_train, fraction=0.5)"
   ]
  },
  {
   "cell_type": "code",
   "execution_count": null,
   "metadata": {},
   "outputs": [],
   "source": [
    "grid_CV_ = GridSearchCV(estimator=rfc,\n",
    "                      param_grid=param_grid_,\n",
    "                      cv=5\n",
    ")\n",
    "grid_CV_.fit(features_downsampled_train, target_downsampled_train)\n"
   ]
  },
  {
   "cell_type": "code",
   "execution_count": null,
   "metadata": {},
   "outputs": [],
   "source": [
    "predictions_forest_dwn = grid_CV_.best_estimator_.predict(features_valid)\n",
    "\n",
    "print(f1_score(target_valid, predictions_forest_dwn))\n",
    "print(roc_auc_score(target_valid, predictions_forest_dwn))"
   ]
  },
  {
   "cell_type": "markdown",
   "metadata": {},
   "source": [
    "Видим, что после уменьшения выборки, мы получили искомое значение на `f1`. Однако `auc-roc` в случае уменьшения получилась больше, чем в случае увеличения, поэтому при работе с тестовой выборкой воспользуемся этим методом."
   ]
  },
  {
   "cell_type": "markdown",
   "metadata": {},
   "source": [
    "## Тестирование модели"
   ]
  },
  {
   "cell_type": "code",
   "execution_count": null,
   "metadata": {},
   "outputs": [],
   "source": [
    "features_final = pd.concat(\n",
    "        [features_downsampled_train] + [features_valid])\n",
    "target_final = pd.concat(\n",
    "        [target_downsampled_train] + [target_valid])\n",
    "\n",
    "features_final, target_final = shuffle(\n",
    "        features_final, target_final, random_state=12345)"
   ]
  },
  {
   "cell_type": "markdown",
   "metadata": {},
   "source": [
    "Объединим обучающую и валидационную выборку, чтобы добить чуть большей точности."
   ]
  },
  {
   "cell_type": "code",
   "execution_count": null,
   "metadata": {},
   "outputs": [],
   "source": [
    "rfc = RandomForestClassifier(random_state=12345)\n",
    "grid_CV = GridSearchCV(estimator=rfc,\n",
    "                       param_grid=param_grid_,\n",
    "                       cv=5\n",
    ")\n",
    "grid_CV.fit(features_final, target_final)"
   ]
  },
  {
   "cell_type": "code",
   "execution_count": null,
   "metadata": {},
   "outputs": [],
   "source": [
    "predictions_forest_test = grid_CV.best_estimator_.predict(features_test)\n",
    "\n",
    "print(f1_score(target_test, predictions_forest_test))\n",
    "print(roc_auc_score(target_test, predictions_forest_test))"
   ]
  },
  {
   "cell_type": "markdown",
   "metadata": {},
   "source": [
    "Исследуемые нами метрики дали нам нужное значение на тестовой выборке."
   ]
  },
  {
   "cell_type": "markdown",
   "metadata": {},
   "source": [
    "## Вывод"
   ]
  },
  {
   "cell_type": "markdown",
   "metadata": {},
   "source": [
    "- Нами было проведено исследование данных, выявлен дисбаланс классов.\n",
    "- Произвели предобработку данных, промасштабировали признаки, использовали `ohe-кодирование`\n",
    "- До обработки дисбаланса классов лучше значение `f1` метрики показал случайный лес - *0,49*\n",
    "- Обработали дисбаланс классов, добились требуемого значения, уменьшение выборки оказалось эффективнее - *0.601*\n",
    "- Проверили модель на тестовой выборке, убедились в наших выводах. Получили следующее значение `f1` - 0.615"
   ]
  },
  ,
  {
   "cell_type": "code",
   "execution_count": null,
   "metadata": {},
   "outputs": [],
   "source": []
  }
 ],
 "metadata": {
  "ExecuteTimeLog": [
   {
    "duration": 1028,
    "start_time": "2022-06-30T10:11:06.291Z"
   },
   {
    "duration": 190,
    "start_time": "2022-06-30T10:11:34.450Z"
   },
   {
    "duration": 1045,
    "start_time": "2022-07-01T08:16:04.067Z"
   },
   {
    "duration": 84,
    "start_time": "2022-07-01T08:16:05.114Z"
   },
   {
    "duration": 51,
    "start_time": "2022-07-01T08:16:16.518Z"
   },
   {
    "duration": 4,
    "start_time": "2022-07-01T08:21:12.129Z"
   },
   {
    "duration": 116,
    "start_time": "2022-07-01T08:21:17.902Z"
   },
   {
    "duration": 13,
    "start_time": "2022-07-01T08:22:31.919Z"
   },
   {
    "duration": 11,
    "start_time": "2022-07-01T08:22:58.144Z"
   },
   {
    "duration": 6,
    "start_time": "2022-07-01T08:23:41.243Z"
   },
   {
    "duration": 11,
    "start_time": "2022-07-01T08:30:05.649Z"
   },
   {
    "duration": 18,
    "start_time": "2022-07-01T08:30:18.476Z"
   },
   {
    "duration": 6,
    "start_time": "2022-07-01T08:31:57.429Z"
   },
   {
    "duration": 11,
    "start_time": "2022-07-01T08:32:57.752Z"
   },
   {
    "duration": 8,
    "start_time": "2022-07-01T08:33:11.388Z"
   },
   {
    "duration": 7,
    "start_time": "2022-07-01T08:34:43.714Z"
   },
   {
    "duration": 986,
    "start_time": "2022-07-04T11:30:15.564Z"
   },
   {
    "duration": 173,
    "start_time": "2022-07-04T11:30:16.551Z"
   },
   {
    "duration": 34,
    "start_time": "2022-07-04T11:30:16.725Z"
   },
   {
    "duration": 3,
    "start_time": "2022-07-04T11:30:16.761Z"
   },
   {
    "duration": 27,
    "start_time": "2022-07-04T11:30:16.765Z"
   },
   {
    "duration": 4,
    "start_time": "2022-07-04T11:30:16.793Z"
   },
   {
    "duration": 7,
    "start_time": "2022-07-04T11:30:16.798Z"
   },
   {
    "duration": 8,
    "start_time": "2022-07-04T11:32:15.966Z"
   },
   {
    "duration": 25,
    "start_time": "2022-07-04T11:32:33.947Z"
   },
   {
    "duration": 19,
    "start_time": "2022-07-04T11:32:58.320Z"
   },
   {
    "duration": 25,
    "start_time": "2022-07-04T11:37:34.206Z"
   },
   {
    "duration": 6,
    "start_time": "2022-07-04T11:42:35.646Z"
   },
   {
    "duration": 88,
    "start_time": "2022-07-04T11:50:16.844Z"
   },
   {
    "duration": 48,
    "start_time": "2022-07-04T11:50:28.495Z"
   },
   {
    "duration": 15,
    "start_time": "2022-07-04T11:50:32.816Z"
   },
   {
    "duration": 14,
    "start_time": "2022-07-04T11:50:48.498Z"
   },
   {
    "duration": 23,
    "start_time": "2022-07-04T11:51:27.126Z"
   },
   {
    "duration": 3,
    "start_time": "2022-07-04T11:51:44.913Z"
   },
   {
    "duration": 53,
    "start_time": "2022-07-04T11:51:45.869Z"
   },
   {
    "duration": 37,
    "start_time": "2022-07-04T11:51:49.932Z"
   },
   {
    "duration": 5,
    "start_time": "2022-07-04T11:51:51.360Z"
   },
   {
    "duration": 18,
    "start_time": "2022-07-04T11:51:53.797Z"
   },
   {
    "duration": 5,
    "start_time": "2022-07-04T11:51:56.142Z"
   },
   {
    "duration": 8,
    "start_time": "2022-07-04T11:51:59.924Z"
   },
   {
    "duration": 6,
    "start_time": "2022-07-04T11:52:10.666Z"
   },
   {
    "duration": 21,
    "start_time": "2022-07-04T11:52:16.015Z"
   },
   {
    "duration": 4,
    "start_time": "2022-07-04T11:52:19.922Z"
   },
   {
    "duration": 80,
    "start_time": "2022-07-04T11:52:19.928Z"
   },
   {
    "duration": 54,
    "start_time": "2022-07-04T11:52:20.011Z"
   },
   {
    "duration": 4,
    "start_time": "2022-07-04T11:52:20.090Z"
   },
   {
    "duration": 33,
    "start_time": "2022-07-04T11:52:20.098Z"
   },
   {
    "duration": 26,
    "start_time": "2022-07-04T11:52:20.133Z"
   },
   {
    "duration": 24,
    "start_time": "2022-07-04T11:52:20.161Z"
   },
   {
    "duration": 38,
    "start_time": "2022-07-04T11:52:20.187Z"
   },
   {
    "duration": 1,
    "start_time": "2022-07-04T11:52:20.226Z"
   },
   {
    "duration": 0,
    "start_time": "2022-07-04T11:52:20.228Z"
   },
   {
    "duration": 0,
    "start_time": "2022-07-04T11:52:20.229Z"
   },
   {
    "duration": 0,
    "start_time": "2022-07-04T11:52:20.230Z"
   },
   {
    "duration": 21,
    "start_time": "2022-07-04T11:52:40.385Z"
   },
   {
    "duration": 19,
    "start_time": "2022-07-04T11:55:24.188Z"
   },
   {
    "duration": 12,
    "start_time": "2022-07-04T11:57:02.515Z"
   },
   {
    "duration": 21,
    "start_time": "2022-07-04T11:57:07.937Z"
   },
   {
    "duration": 23,
    "start_time": "2022-07-04T11:57:10.538Z"
   },
   {
    "duration": 22,
    "start_time": "2022-07-04T11:57:31.631Z"
   },
   {
    "duration": 67,
    "start_time": "2022-07-04T12:03:25.229Z"
   },
   {
    "duration": 4,
    "start_time": "2022-07-04T12:07:08.204Z"
   },
   {
    "duration": 3,
    "start_time": "2022-07-04T12:07:38.928Z"
   },
   {
    "duration": 41452,
    "start_time": "2022-07-04T12:07:57.232Z"
   },
   {
    "duration": 111,
    "start_time": "2022-07-04T12:08:38.685Z"
   },
   {
    "duration": 40095,
    "start_time": "2022-07-04T12:14:23.410Z"
   },
   {
    "duration": 40109,
    "start_time": "2022-07-04T12:15:49.933Z"
   },
   {
    "duration": 3,
    "start_time": "2022-07-04T12:25:53.305Z"
   },
   {
    "duration": 4,
    "start_time": "2022-07-04T12:53:41.662Z"
   },
   {
    "duration": 9,
    "start_time": "2022-07-04T12:54:00.602Z"
   },
   {
    "duration": 4,
    "start_time": "2022-07-04T12:55:51.171Z"
   },
   {
    "duration": 19,
    "start_time": "2022-07-04T12:55:51.176Z"
   },
   {
    "duration": 40444,
    "start_time": "2022-07-04T12:55:51.198Z"
   },
   {
    "duration": 3,
    "start_time": "2022-07-04T13:45:56.823Z"
   },
   {
    "duration": 7,
    "start_time": "2022-07-04T13:46:13.609Z"
   },
   {
    "duration": 10,
    "start_time": "2022-07-04T13:46:29.016Z"
   },
   {
    "duration": 33131,
    "start_time": "2022-07-04T13:47:00.161Z"
   },
   {
    "duration": 8,
    "start_time": "2022-07-04T13:48:07.983Z"
   },
   {
    "duration": 8,
    "start_time": "2022-07-04T13:48:11.983Z"
   },
   {
    "duration": 33011,
    "start_time": "2022-07-04T13:48:12.888Z"
   },
   {
    "duration": 4,
    "start_time": "2022-07-04T13:49:06.533Z"
   },
   {
    "duration": 56,
    "start_time": "2022-07-04T13:49:06.539Z"
   },
   {
    "duration": 39,
    "start_time": "2022-07-04T13:49:06.597Z"
   },
   {
    "duration": 4,
    "start_time": "2022-07-04T13:49:06.639Z"
   },
   {
    "duration": 46,
    "start_time": "2022-07-04T13:49:06.645Z"
   },
   {
    "duration": 5,
    "start_time": "2022-07-04T13:49:06.694Z"
   },
   {
    "duration": 8,
    "start_time": "2022-07-04T13:49:06.701Z"
   },
   {
    "duration": 34,
    "start_time": "2022-07-04T13:49:06.711Z"
   },
   {
    "duration": 5,
    "start_time": "2022-07-04T13:49:06.747Z"
   },
   {
    "duration": 52,
    "start_time": "2022-07-04T13:49:06.755Z"
   },
   {
    "duration": 1385,
    "start_time": "2022-07-04T13:49:06.809Z"
   },
   {
    "duration": 43863,
    "start_time": "2022-07-04T13:49:08.196Z"
   },
   {
    "duration": 4,
    "start_time": "2022-07-04T13:49:52.060Z"
   },
   {
    "duration": 27,
    "start_time": "2022-07-04T13:49:52.065Z"
   },
   {
    "duration": 52482,
    "start_time": "2022-07-04T13:49:52.094Z"
   },
   {
    "duration": 4,
    "start_time": "2022-07-04T13:50:44.577Z"
   },
   {
    "duration": 17,
    "start_time": "2022-07-04T13:50:44.582Z"
   },
   {
    "duration": 32770,
    "start_time": "2022-07-04T13:50:44.601Z"
   },
   {
    "duration": 53844,
    "start_time": "2022-07-04T13:51:41.621Z"
   },
   {
    "duration": 4,
    "start_time": "2022-07-04T13:55:50.820Z"
   },
   {
    "duration": 79,
    "start_time": "2022-07-04T13:55:50.825Z"
   },
   {
    "duration": 36,
    "start_time": "2022-07-04T13:55:50.905Z"
   },
   {
    "duration": 4,
    "start_time": "2022-07-04T13:55:50.943Z"
   },
   {
    "duration": 52,
    "start_time": "2022-07-04T13:55:50.949Z"
   },
   {
    "duration": 6,
    "start_time": "2022-07-04T13:55:51.004Z"
   },
   {
    "duration": 9,
    "start_time": "2022-07-04T13:55:51.012Z"
   },
   {
    "duration": 32,
    "start_time": "2022-07-04T13:55:51.023Z"
   },
   {
    "duration": 6,
    "start_time": "2022-07-04T13:55:51.057Z"
   },
   {
    "duration": 30,
    "start_time": "2022-07-04T13:55:51.090Z"
   },
   {
    "duration": 275,
    "start_time": "2022-07-04T13:55:51.121Z"
   },
   {
    "duration": 41744,
    "start_time": "2022-07-04T13:55:51.397Z"
   },
   {
    "duration": 4,
    "start_time": "2022-07-04T13:56:33.142Z"
   },
   {
    "duration": 17,
    "start_time": "2022-07-04T13:56:33.147Z"
   },
   {
    "duration": 51917,
    "start_time": "2022-07-04T13:56:33.165Z"
   },
   {
    "duration": 4,
    "start_time": "2022-07-04T13:57:25.083Z"
   },
   {
    "duration": 11,
    "start_time": "2022-07-04T13:57:25.090Z"
   },
   {
    "duration": 32931,
    "start_time": "2022-07-04T13:57:25.102Z"
   },
   {
    "duration": 21,
    "start_time": "2022-07-04T13:57:58.035Z"
   },
   {
    "duration": 149,
    "start_time": "2022-07-04T13:57:58.057Z"
   },
   {
    "duration": 41439,
    "start_time": "2022-07-04T13:57:58.292Z"
   },
   {
    "duration": 52059,
    "start_time": "2022-07-04T13:58:39.733Z"
   },
   {
    "duration": 51765,
    "start_time": "2022-07-04T14:00:03.730Z"
   },
   {
    "duration": 59,
    "start_time": "2022-07-04T14:00:55.497Z"
   },
   {
    "duration": 32284,
    "start_time": "2022-07-04T14:00:55.557Z"
   },
   {
    "duration": 30,
    "start_time": "2022-07-04T14:01:27.843Z"
   },
   {
    "duration": 1449,
    "start_time": "2022-07-05T06:58:34.932Z"
   },
   {
    "duration": 165,
    "start_time": "2022-07-05T06:58:36.388Z"
   },
   {
    "duration": 68,
    "start_time": "2022-07-05T06:58:36.556Z"
   },
   {
    "duration": 12,
    "start_time": "2022-07-05T06:58:36.628Z"
   },
   {
    "duration": 74,
    "start_time": "2022-07-05T06:58:36.643Z"
   },
   {
    "duration": 40,
    "start_time": "2022-07-05T06:58:36.719Z"
   },
   {
    "duration": 126,
    "start_time": "2022-07-05T06:58:36.763Z"
   },
   {
    "duration": 109,
    "start_time": "2022-07-05T06:58:36.893Z"
   },
   {
    "duration": 22,
    "start_time": "2022-07-05T06:58:37.004Z"
   },
   {
    "duration": 63,
    "start_time": "2022-07-05T06:58:37.031Z"
   },
   {
    "duration": 373,
    "start_time": "2022-07-05T06:58:37.100Z"
   },
   {
    "duration": 64823,
    "start_time": "2022-07-05T06:58:37.483Z"
   },
   {
    "duration": 7,
    "start_time": "2022-07-05T06:59:42.309Z"
   },
   {
    "duration": 24,
    "start_time": "2022-07-05T06:59:42.319Z"
   },
   {
    "duration": 76527,
    "start_time": "2022-07-05T06:59:42.345Z"
   },
   {
    "duration": 81,
    "start_time": "2022-07-05T07:00:58.874Z"
   },
   {
    "duration": 10,
    "start_time": "2022-07-05T07:00:58.965Z"
   },
   {
    "duration": 49,
    "start_time": "2022-07-05T07:00:58.977Z"
   },
   {
    "duration": 50649,
    "start_time": "2022-07-05T07:00:59.029Z"
   },
   {
    "duration": 41,
    "start_time": "2022-07-05T07:01:49.686Z"
   },
   {
    "duration": 126,
    "start_time": "2022-07-05T07:05:22.806Z"
   },
   {
    "duration": 59,
    "start_time": "2022-07-05T07:05:29.689Z"
   },
   {
    "duration": 209,
    "start_time": "2022-07-05T07:05:36.785Z"
   },
   {
    "duration": 7893,
    "start_time": "2022-07-05T07:05:43.926Z"
   },
   {
    "duration": 6,
    "start_time": "2022-07-05T07:09:20.538Z"
   },
   {
    "duration": 209,
    "start_time": "2022-07-05T07:10:15.080Z"
   },
   {
    "duration": 186308,
    "start_time": "2022-07-05T07:10:40.524Z"
   },
   {
    "duration": 12,
    "start_time": "2022-07-05T07:13:46.837Z"
   },
   {
    "duration": 181,
    "start_time": "2022-07-05T07:13:46.855Z"
   },
   {
    "duration": 116,
    "start_time": "2022-07-05T07:14:36.622Z"
   },
   {
    "duration": 8,
    "start_time": "2022-07-05T07:18:10.704Z"
   },
   {
    "duration": 8,
    "start_time": "2022-07-05T07:18:11.794Z"
   },
   {
    "duration": 28,
    "start_time": "2022-07-05T07:18:18.277Z"
   },
   {
    "duration": 2656,
    "start_time": "2022-07-05T07:18:33.159Z"
   },
   {
    "duration": 13,
    "start_time": "2022-07-05T07:19:04.145Z"
   },
   {
    "duration": 26,
    "start_time": "2022-07-05T07:19:24.783Z"
   },
   {
    "duration": 38,
    "start_time": "2022-07-05T07:19:29.436Z"
   },
   {
    "duration": 192263,
    "start_time": "2022-07-05T07:19:32.712Z"
   },
   {
    "duration": 4,
    "start_time": "2022-07-05T07:22:44.977Z"
   },
   {
    "duration": 160,
    "start_time": "2022-07-05T07:22:50.478Z"
   },
   {
    "duration": 108,
    "start_time": "2022-07-05T07:22:57.059Z"
   },
   {
    "duration": 12,
    "start_time": "2022-07-05T07:23:01.740Z"
   },
   {
    "duration": 5,
    "start_time": "2022-07-05T07:23:03.981Z"
   },
   {
    "duration": 13,
    "start_time": "2022-07-05T07:23:04.792Z"
   },
   {
    "duration": 202,
    "start_time": "2022-07-05T07:23:05.556Z"
   },
   {
    "duration": 10,
    "start_time": "2022-07-05T07:23:08.458Z"
   },
   {
    "duration": 12,
    "start_time": "2022-07-05T07:23:09.645Z"
   },
   {
    "duration": 134,
    "start_time": "2022-07-05T07:23:10.499Z"
   },
   {
    "duration": 75113,
    "start_time": "2022-07-05T07:23:20.068Z"
   },
   {
    "duration": 62354,
    "start_time": "2022-07-05T07:24:35.182Z"
   },
   {
    "duration": 80634,
    "start_time": "2022-07-05T07:25:47.257Z"
   },
   {
    "duration": 48,
    "start_time": "2022-07-05T07:27:07.893Z"
   },
   {
    "duration": 83049,
    "start_time": "2022-07-05T07:29:47.053Z"
   },
   {
    "duration": 46,
    "start_time": "2022-07-05T07:31:10.107Z"
   },
   {
    "duration": 10,
    "start_time": "2022-07-05T07:31:10.160Z"
   },
   {
    "duration": 46,
    "start_time": "2022-07-05T07:31:10.176Z"
   },
   {
    "duration": 116,
    "start_time": "2022-07-05T07:31:10.225Z"
   },
   {
    "duration": 25,
    "start_time": "2022-07-05T07:33:59.111Z"
   },
   {
    "duration": 254,
    "start_time": "2022-07-05T07:34:00.065Z"
   },
   {
    "duration": 32,
    "start_time": "2022-07-05T07:34:05.999Z"
   },
   {
    "duration": 218,
    "start_time": "2022-07-05T07:34:09.712Z"
   },
   {
    "duration": 13,
    "start_time": "2022-07-05T07:35:26.464Z"
   },
   {
    "duration": 23,
    "start_time": "2022-07-05T07:35:27.547Z"
   },
   {
    "duration": 42,
    "start_time": "2022-07-05T07:35:39.335Z"
   },
   {
    "duration": 7,
    "start_time": "2022-07-05T07:35:40.733Z"
   },
   {
    "duration": 28,
    "start_time": "2022-07-05T07:35:46.926Z"
   },
   {
    "duration": 481,
    "start_time": "2022-07-05T07:35:48.213Z"
   },
   {
    "duration": 54996,
    "start_time": "2022-07-05T07:35:51.587Z"
   },
   {
    "duration": 149427,
    "start_time": "2022-07-05T07:36:46.596Z"
   },
   {
    "duration": 6,
    "start_time": "2022-07-05T07:39:16.025Z"
   },
   {
    "duration": 9,
    "start_time": "2022-07-05T07:39:16.034Z"
   },
   {
    "duration": 21,
    "start_time": "2022-07-05T07:39:16.061Z"
   },
   {
    "duration": 304,
    "start_time": "2022-07-05T07:39:16.087Z"
   },
   {
    "duration": 8,
    "start_time": "2022-07-05T07:41:11.624Z"
   },
   {
    "duration": 117,
    "start_time": "2022-07-05T07:41:11.636Z"
   },
   {
    "duration": 94,
    "start_time": "2022-07-05T07:41:11.755Z"
   },
   {
    "duration": 6,
    "start_time": "2022-07-05T07:41:11.852Z"
   },
   {
    "duration": 72,
    "start_time": "2022-07-05T07:41:11.860Z"
   },
   {
    "duration": 17,
    "start_time": "2022-07-05T07:41:11.935Z"
   },
   {
    "duration": 58,
    "start_time": "2022-07-05T07:41:11.954Z"
   },
   {
    "duration": 14,
    "start_time": "2022-07-05T07:41:12.015Z"
   },
   {
    "duration": 28,
    "start_time": "2022-07-05T07:41:12.031Z"
   },
   {
    "duration": 42,
    "start_time": "2022-07-05T07:41:12.062Z"
   },
   {
    "duration": 32,
    "start_time": "2022-07-05T07:41:12.108Z"
   },
   {
    "duration": 540,
    "start_time": "2022-07-05T07:41:12.144Z"
   },
   {
    "duration": 73043,
    "start_time": "2022-07-05T07:41:12.687Z"
   },
   {
    "duration": 196150,
    "start_time": "2022-07-05T07:42:25.732Z"
   },
   {
    "duration": 14,
    "start_time": "2022-07-05T07:45:41.891Z"
   },
   {
    "duration": 118,
    "start_time": "2022-07-05T07:45:41.912Z"
   },
   {
    "duration": 33,
    "start_time": "2022-07-05T07:45:42.033Z"
   },
   {
    "duration": 171,
    "start_time": "2022-07-05T07:45:42.076Z"
   },
   {
    "duration": 107963,
    "start_time": "2022-07-05T07:45:42.255Z"
   },
   {
    "duration": 57,
    "start_time": "2022-07-05T07:47:30.225Z"
   },
   {
    "duration": 62,
    "start_time": "2022-07-05T07:47:30.285Z"
   },
   {
    "duration": 86,
    "start_time": "2022-07-05T07:47:30.350Z"
   },
   {
    "duration": 96,
    "start_time": "2022-07-05T07:47:30.439Z"
   },
   {
    "duration": 64960,
    "start_time": "2022-07-05T07:47:30.537Z"
   },
   {
    "duration": 35,
    "start_time": "2022-07-05T07:48:35.500Z"
   },
   {
    "duration": 5,
    "start_time": "2022-07-05T07:49:50.150Z"
   },
   {
    "duration": 108,
    "start_time": "2022-07-05T07:49:50.157Z"
   },
   {
    "duration": 62,
    "start_time": "2022-07-05T07:49:50.276Z"
   },
   {
    "duration": 5,
    "start_time": "2022-07-05T07:49:50.341Z"
   },
   {
    "duration": 72,
    "start_time": "2022-07-05T07:49:50.349Z"
   },
   {
    "duration": 7,
    "start_time": "2022-07-05T07:49:50.424Z"
   },
   {
    "duration": 16,
    "start_time": "2022-07-05T07:49:50.434Z"
   },
   {
    "duration": 58,
    "start_time": "2022-07-05T07:49:50.453Z"
   },
   {
    "duration": 24,
    "start_time": "2022-07-05T07:49:50.513Z"
   },
   {
    "duration": 19,
    "start_time": "2022-07-05T07:49:50.540Z"
   },
   {
    "duration": 56,
    "start_time": "2022-07-05T07:49:50.565Z"
   },
   {
    "duration": 1963,
    "start_time": "2022-07-05T07:49:50.623Z"
   },
   {
    "duration": 51338,
    "start_time": "2022-07-05T07:49:52.608Z"
   },
   {
    "duration": 135245,
    "start_time": "2022-07-05T07:50:43.947Z"
   },
   {
    "duration": 5,
    "start_time": "2022-07-05T07:52:59.194Z"
   },
   {
    "duration": 6,
    "start_time": "2022-07-05T07:52:59.201Z"
   },
   {
    "duration": 16,
    "start_time": "2022-07-05T07:52:59.208Z"
   },
   {
    "duration": 325,
    "start_time": "2022-07-05T07:52:59.226Z"
   },
   {
    "duration": 61122,
    "start_time": "2022-07-05T07:52:59.553Z"
   },
   {
    "duration": 47,
    "start_time": "2022-07-05T07:54:00.681Z"
   },
   {
    "duration": 6,
    "start_time": "2022-07-05T07:54:00.733Z"
   },
   {
    "duration": 57,
    "start_time": "2022-07-05T07:54:00.742Z"
   },
   {
    "duration": 193,
    "start_time": "2022-07-05T07:54:00.801Z"
   },
   {
    "duration": 39404,
    "start_time": "2022-07-05T07:54:00.997Z"
   },
   {
    "duration": 31,
    "start_time": "2022-07-05T07:54:40.403Z"
   },
   {
    "duration": 20,
    "start_time": "2022-07-05T07:55:17.342Z"
   },
   {
    "duration": 12,
    "start_time": "2022-07-05T07:55:28.289Z"
   },
   {
    "duration": 187,
    "start_time": "2022-07-05T07:55:43.801Z"
   },
   {
    "duration": 263,
    "start_time": "2022-07-05T07:55:49.709Z"
   },
   {
    "duration": 18,
    "start_time": "2022-07-05T07:56:00.605Z"
   },
   {
    "duration": 24,
    "start_time": "2022-07-05T07:56:51.688Z"
   },
   {
    "duration": 5,
    "start_time": "2022-07-05T07:57:20.847Z"
   },
   {
    "duration": 24,
    "start_time": "2022-07-05T07:57:25.796Z"
   },
   {
    "duration": 17,
    "start_time": "2022-07-05T07:57:59.201Z"
   },
   {
    "duration": 51,
    "start_time": "2022-07-05T07:58:04.549Z"
   },
   {
    "duration": 49,
    "start_time": "2022-07-05T07:58:20.540Z"
   },
   {
    "duration": 49,
    "start_time": "2022-07-05T07:58:26.924Z"
   },
   {
    "duration": 337,
    "start_time": "2022-07-05T07:59:46.329Z"
   },
   {
    "duration": 202,
    "start_time": "2022-07-05T08:00:03.450Z"
   },
   {
    "duration": 44,
    "start_time": "2022-07-05T08:00:09.481Z"
   },
   {
    "duration": 58,
    "start_time": "2022-07-05T08:00:13.826Z"
   },
   {
    "duration": 270,
    "start_time": "2022-07-05T08:01:17.338Z"
   },
   {
    "duration": 245,
    "start_time": "2022-07-05T08:01:39.735Z"
   },
   {
    "duration": 252,
    "start_time": "2022-07-05T08:02:46.698Z"
   },
   {
    "duration": 293,
    "start_time": "2022-07-05T08:02:53.248Z"
   },
   {
    "duration": 368,
    "start_time": "2022-07-05T08:03:00.743Z"
   },
   {
    "duration": 272,
    "start_time": "2022-07-05T08:03:10.341Z"
   },
   {
    "duration": 11,
    "start_time": "2022-07-05T12:03:57.496Z"
   },
   {
    "duration": 55552,
    "start_time": "2022-07-05T12:03:59.004Z"
   },
   {
    "duration": 42,
    "start_time": "2022-07-05T12:04:54.559Z"
   },
   {
    "duration": 14,
    "start_time": "2022-07-05T12:06:26.450Z"
   },
   {
    "duration": 9,
    "start_time": "2022-07-05T12:06:33.960Z"
   },
   {
    "duration": 38,
    "start_time": "2022-07-05T12:06:55.950Z"
   },
   {
    "duration": 42692,
    "start_time": "2022-07-05T12:07:58.712Z"
   },
   {
    "duration": 13,
    "start_time": "2022-07-05T12:08:41.407Z"
   },
   {
    "duration": 55563,
    "start_time": "2022-07-05T12:08:41.422Z"
   },
   {
    "duration": 43,
    "start_time": "2022-07-05T12:09:36.987Z"
   },
   {
    "duration": 289,
    "start_time": "2022-07-05T12:09:39.547Z"
   },
   {
    "duration": 177,
    "start_time": "2022-07-05T12:09:40.483Z"
   },
   {
    "duration": 1064,
    "start_time": "2022-07-05T16:15:28.758Z"
   },
   {
    "duration": 93,
    "start_time": "2022-07-05T16:15:29.825Z"
   },
   {
    "duration": 39,
    "start_time": "2022-07-05T16:15:29.919Z"
   },
   {
    "duration": 4,
    "start_time": "2022-07-05T16:15:29.960Z"
   },
   {
    "duration": 20,
    "start_time": "2022-07-05T16:15:29.965Z"
   },
   {
    "duration": 6,
    "start_time": "2022-07-05T16:15:29.986Z"
   },
   {
    "duration": 6,
    "start_time": "2022-07-05T16:15:29.993Z"
   },
   {
    "duration": 24,
    "start_time": "2022-07-05T16:15:30.000Z"
   },
   {
    "duration": 20,
    "start_time": "2022-07-05T16:15:30.026Z"
   },
   {
    "duration": 6,
    "start_time": "2022-07-05T16:15:30.049Z"
   },
   {
    "duration": 26,
    "start_time": "2022-07-05T16:15:30.057Z"
   },
   {
    "duration": 648,
    "start_time": "2022-07-05T16:15:30.084Z"
   },
   {
    "duration": 198,
    "start_time": "2022-07-05T16:15:30.734Z"
   },
   {
    "duration": 0,
    "start_time": "2022-07-05T16:15:30.934Z"
   },
   {
    "duration": 0,
    "start_time": "2022-07-05T16:15:30.936Z"
   },
   {
    "duration": 0,
    "start_time": "2022-07-05T16:15:30.937Z"
   },
   {
    "duration": 0,
    "start_time": "2022-07-05T16:15:30.938Z"
   },
   {
    "duration": 0,
    "start_time": "2022-07-05T16:15:30.939Z"
   },
   {
    "duration": 0,
    "start_time": "2022-07-05T16:15:30.940Z"
   },
   {
    "duration": 0,
    "start_time": "2022-07-05T16:15:30.942Z"
   },
   {
    "duration": 0,
    "start_time": "2022-07-05T16:15:30.943Z"
   },
   {
    "duration": 0,
    "start_time": "2022-07-05T16:15:30.944Z"
   },
   {
    "duration": 0,
    "start_time": "2022-07-05T16:15:30.945Z"
   },
   {
    "duration": 0,
    "start_time": "2022-07-05T16:15:30.946Z"
   },
   {
    "duration": 0,
    "start_time": "2022-07-05T16:15:30.947Z"
   },
   {
    "duration": 0,
    "start_time": "2022-07-05T16:15:30.948Z"
   },
   {
    "duration": 0,
    "start_time": "2022-07-05T16:15:30.949Z"
   },
   {
    "duration": 4,
    "start_time": "2022-07-05T16:15:38.132Z"
   },
   {
    "duration": 62,
    "start_time": "2022-07-05T16:15:38.138Z"
   },
   {
    "duration": 38,
    "start_time": "2022-07-05T16:15:38.202Z"
   },
   {
    "duration": 4,
    "start_time": "2022-07-05T16:15:38.241Z"
   },
   {
    "duration": 22,
    "start_time": "2022-07-05T16:15:38.248Z"
   },
   {
    "duration": 9,
    "start_time": "2022-07-05T16:15:38.273Z"
   },
   {
    "duration": 15,
    "start_time": "2022-07-05T16:15:38.283Z"
   },
   {
    "duration": 7,
    "start_time": "2022-07-05T16:15:38.300Z"
   },
   {
    "duration": 33,
    "start_time": "2022-07-05T16:15:38.309Z"
   },
   {
    "duration": 6,
    "start_time": "2022-07-05T16:15:38.344Z"
   },
   {
    "duration": 40,
    "start_time": "2022-07-05T16:15:38.353Z"
   },
   {
    "duration": 831,
    "start_time": "2022-07-05T16:15:38.395Z"
   },
   {
    "duration": 101,
    "start_time": "2022-07-05T16:15:39.228Z"
   },
   {
    "duration": 0,
    "start_time": "2022-07-05T16:15:39.331Z"
   },
   {
    "duration": 0,
    "start_time": "2022-07-05T16:15:39.333Z"
   },
   {
    "duration": 0,
    "start_time": "2022-07-05T16:15:39.334Z"
   },
   {
    "duration": 0,
    "start_time": "2022-07-05T16:15:39.336Z"
   },
   {
    "duration": 0,
    "start_time": "2022-07-05T16:15:39.337Z"
   },
   {
    "duration": 0,
    "start_time": "2022-07-05T16:15:39.338Z"
   },
   {
    "duration": 0,
    "start_time": "2022-07-05T16:15:39.339Z"
   },
   {
    "duration": 0,
    "start_time": "2022-07-05T16:15:39.340Z"
   },
   {
    "duration": 0,
    "start_time": "2022-07-05T16:15:39.341Z"
   },
   {
    "duration": 0,
    "start_time": "2022-07-05T16:15:39.342Z"
   },
   {
    "duration": 0,
    "start_time": "2022-07-05T16:15:39.344Z"
   },
   {
    "duration": 0,
    "start_time": "2022-07-05T16:15:39.345Z"
   },
   {
    "duration": 0,
    "start_time": "2022-07-05T16:15:39.346Z"
   },
   {
    "duration": 0,
    "start_time": "2022-07-05T16:15:39.347Z"
   },
   {
    "duration": 3,
    "start_time": "2022-07-05T16:16:09.853Z"
   },
   {
    "duration": 55,
    "start_time": "2022-07-05T16:16:09.858Z"
   },
   {
    "duration": 36,
    "start_time": "2022-07-05T16:16:09.915Z"
   },
   {
    "duration": 3,
    "start_time": "2022-07-05T16:16:09.953Z"
   },
   {
    "duration": 20,
    "start_time": "2022-07-05T16:16:09.958Z"
   },
   {
    "duration": 5,
    "start_time": "2022-07-05T16:16:09.979Z"
   },
   {
    "duration": 6,
    "start_time": "2022-07-05T16:16:09.986Z"
   },
   {
    "duration": 31,
    "start_time": "2022-07-05T16:16:09.993Z"
   },
   {
    "duration": 25,
    "start_time": "2022-07-05T16:16:10.026Z"
   },
   {
    "duration": 12,
    "start_time": "2022-07-05T16:16:10.053Z"
   },
   {
    "duration": 27,
    "start_time": "2022-07-05T16:16:10.068Z"
   },
   {
    "duration": 726,
    "start_time": "2022-07-05T16:16:10.097Z"
   },
   {
    "duration": 42291,
    "start_time": "2022-07-05T16:16:10.825Z"
   },
   {
    "duration": 115859,
    "start_time": "2022-07-05T16:16:53.118Z"
   },
   {
    "duration": 4,
    "start_time": "2022-07-05T16:18:48.978Z"
   },
   {
    "duration": 8,
    "start_time": "2022-07-05T16:18:48.983Z"
   },
   {
    "duration": 10,
    "start_time": "2022-07-05T16:18:48.993Z"
   },
   {
    "duration": 240,
    "start_time": "2022-07-05T16:18:49.005Z"
   },
   {
    "duration": 51107,
    "start_time": "2022-07-05T16:18:49.246Z"
   },
   {
    "duration": 35,
    "start_time": "2022-07-05T16:19:40.355Z"
   },
   {
    "duration": 3,
    "start_time": "2022-07-05T16:19:40.392Z"
   },
   {
    "duration": 17,
    "start_time": "2022-07-05T16:19:40.397Z"
   },
   {
    "duration": 161,
    "start_time": "2022-07-05T16:19:40.415Z"
   },
   {
    "duration": 33584,
    "start_time": "2022-07-05T16:19:40.577Z"
   },
   {
    "duration": 30,
    "start_time": "2022-07-05T16:20:14.162Z"
   },
   {
    "duration": 262,
    "start_time": "2022-07-05T16:20:14.193Z"
   },
   {
    "duration": 186,
    "start_time": "2022-07-05T16:20:14.457Z"
   },
   {
    "duration": 535,
    "start_time": "2022-07-05T16:33:49.741Z"
   },
   {
    "duration": 512,
    "start_time": "2022-07-05T16:35:50.265Z"
   },
   {
    "duration": 515,
    "start_time": "2022-07-05T16:35:59.422Z"
   },
   {
    "duration": 1024,
    "start_time": "2022-07-18T06:39:57.534Z"
   },
   {
    "duration": 188,
    "start_time": "2022-07-18T06:39:58.560Z"
   },
   {
    "duration": 34,
    "start_time": "2022-07-18T06:39:58.749Z"
   },
   {
    "duration": 3,
    "start_time": "2022-07-18T06:39:58.785Z"
   },
   {
    "duration": 20,
    "start_time": "2022-07-18T06:39:58.790Z"
   },
   {
    "duration": 4,
    "start_time": "2022-07-18T06:39:58.812Z"
   },
   {
    "duration": 7,
    "start_time": "2022-07-18T06:39:58.817Z"
   },
   {
    "duration": 7,
    "start_time": "2022-07-18T06:39:58.826Z"
   },
   {
    "duration": 29,
    "start_time": "2022-07-18T06:39:58.834Z"
   },
   {
    "duration": 5,
    "start_time": "2022-07-18T06:39:58.866Z"
   },
   {
    "duration": 23,
    "start_time": "2022-07-18T06:39:58.873Z"
   },
   {
    "duration": 662,
    "start_time": "2022-07-18T06:39:58.898Z"
   },
   {
    "duration": 37578,
    "start_time": "2022-07-18T06:39:59.562Z"
   },
   {
    "duration": 107878,
    "start_time": "2022-07-18T06:40:37.142Z"
   },
   {
    "duration": 3,
    "start_time": "2022-07-18T06:42:25.022Z"
   },
   {
    "duration": 12,
    "start_time": "2022-07-18T06:42:25.027Z"
   },
   {
    "duration": 13,
    "start_time": "2022-07-18T06:42:25.040Z"
   },
   {
    "duration": 221,
    "start_time": "2022-07-18T06:42:25.055Z"
   },
   {
    "duration": 46740,
    "start_time": "2022-07-18T06:42:25.278Z"
   },
   {
    "duration": 34,
    "start_time": "2022-07-18T06:43:12.020Z"
   },
   {
    "duration": 3,
    "start_time": "2022-07-18T06:43:12.056Z"
   },
   {
    "duration": 10,
    "start_time": "2022-07-18T06:43:12.061Z"
   },
   {
    "duration": 158,
    "start_time": "2022-07-18T06:43:12.073Z"
   },
   {
    "duration": 30869,
    "start_time": "2022-07-18T06:43:12.233Z"
   },
   {
    "duration": 28,
    "start_time": "2022-07-18T06:43:43.104Z"
   },
   {
    "duration": 485,
    "start_time": "2022-07-18T06:43:43.133Z"
   },
   {
    "duration": 473,
    "start_time": "2022-07-18T06:43:43.619Z"
   },
   {
    "duration": 145,
    "start_time": "2022-07-18T06:43:44.095Z"
   },
   {
    "duration": 28,
    "start_time": "2022-07-18T06:48:56.933Z"
   },
   {
    "duration": 29,
    "start_time": "2022-07-18T06:49:18.612Z"
   },
   {
    "duration": 32,
    "start_time": "2022-07-18T06:49:29.342Z"
   },
   {
    "duration": 31434,
    "start_time": "2022-07-18T06:49:53.700Z"
   },
   {
    "duration": 29,
    "start_time": "2022-07-18T06:50:29.219Z"
   },
   {
    "duration": 4,
    "start_time": "2022-07-18T07:03:28.610Z"
   },
   {
    "duration": 60,
    "start_time": "2022-07-18T07:03:28.616Z"
   },
   {
    "duration": 35,
    "start_time": "2022-07-18T07:03:28.677Z"
   },
   {
    "duration": 3,
    "start_time": "2022-07-18T07:03:28.714Z"
   },
   {
    "duration": 45,
    "start_time": "2022-07-18T07:03:28.719Z"
   },
   {
    "duration": 5,
    "start_time": "2022-07-18T07:03:28.766Z"
   },
   {
    "duration": 6,
    "start_time": "2022-07-18T07:03:28.772Z"
   },
   {
    "duration": 4,
    "start_time": "2022-07-18T07:03:28.780Z"
   },
   {
    "duration": 15,
    "start_time": "2022-07-18T07:03:28.785Z"
   },
   {
    "duration": 4,
    "start_time": "2022-07-18T07:03:28.803Z"
   },
   {
    "duration": 58,
    "start_time": "2022-07-18T07:03:28.808Z"
   },
   {
    "duration": 386,
    "start_time": "2022-07-18T07:03:28.867Z"
   },
   {
    "duration": 38917,
    "start_time": "2022-07-18T07:03:29.254Z"
   },
   {
    "duration": 113514,
    "start_time": "2022-07-18T07:04:08.173Z"
   },
   {
    "duration": 5,
    "start_time": "2022-07-18T07:06:01.688Z"
   },
   {
    "duration": 13,
    "start_time": "2022-07-18T07:06:01.695Z"
   },
   {
    "duration": 18,
    "start_time": "2022-07-18T07:06:01.710Z"
   },
   {
    "duration": 246,
    "start_time": "2022-07-18T07:06:01.730Z"
   },
   {
    "duration": 48525,
    "start_time": "2022-07-18T07:06:01.978Z"
   },
   {
    "duration": 48,
    "start_time": "2022-07-18T07:06:50.504Z"
   },
   {
    "duration": 4,
    "start_time": "2022-07-18T07:06:50.554Z"
   },
   {
    "duration": 14,
    "start_time": "2022-07-18T07:06:50.559Z"
   },
   {
    "duration": 184,
    "start_time": "2022-07-18T07:06:50.574Z"
   },
   {
    "duration": 32022,
    "start_time": "2022-07-18T07:06:50.760Z"
   },
   {
    "duration": 29,
    "start_time": "2022-07-18T07:07:22.784Z"
   },
   {
    "duration": 543,
    "start_time": "2022-07-18T07:07:22.815Z"
   },
   {
    "duration": 31717,
    "start_time": "2022-07-18T07:07:23.360Z"
   },
   {
    "duration": 80,
    "start_time": "2022-07-18T07:07:55.080Z"
   },
   {
    "duration": 911,
    "start_time": "2022-07-18T07:07:55.162Z"
   },
   {
    "duration": 215,
    "start_time": "2022-07-18T07:07:56.076Z"
   },
   {
    "duration": 5,
    "start_time": "2022-07-18T07:16:54.768Z"
   },
   {
    "duration": 66,
    "start_time": "2022-07-18T07:16:54.776Z"
   },
   {
    "duration": 42,
    "start_time": "2022-07-18T07:16:54.843Z"
   },
   {
    "duration": 4,
    "start_time": "2022-07-18T07:16:54.886Z"
   },
   {
    "duration": 24,
    "start_time": "2022-07-18T07:16:54.893Z"
   },
   {
    "duration": 46,
    "start_time": "2022-07-18T07:16:54.919Z"
   },
   {
    "duration": 20,
    "start_time": "2022-07-18T07:16:54.967Z"
   },
   {
    "duration": 7,
    "start_time": "2022-07-18T07:16:54.989Z"
   },
   {
    "duration": 31,
    "start_time": "2022-07-18T07:16:54.999Z"
   },
   {
    "duration": 9,
    "start_time": "2022-07-18T07:16:55.031Z"
   },
   {
    "duration": 52,
    "start_time": "2022-07-18T07:16:55.042Z"
   },
   {
    "duration": 1679,
    "start_time": "2022-07-18T07:16:55.095Z"
   },
   {
    "duration": 62496,
    "start_time": "2022-07-18T07:16:56.777Z"
   },
   {
    "duration": 170420,
    "start_time": "2022-07-18T07:17:59.277Z"
   },
   {
    "duration": 5,
    "start_time": "2022-07-18T07:20:49.699Z"
   },
   {
    "duration": 15,
    "start_time": "2022-07-18T07:20:49.705Z"
   },
   {
    "duration": 38,
    "start_time": "2022-07-18T07:20:49.722Z"
   },
   {
    "duration": 117,
    "start_time": "2022-07-18T07:20:49.762Z"
   },
   {
    "duration": 81055,
    "start_time": "2022-07-18T07:20:49.884Z"
   },
   {
    "duration": 51,
    "start_time": "2022-07-18T07:22:10.941Z"
   },
   {
    "duration": 6,
    "start_time": "2022-07-18T07:22:10.993Z"
   },
   {
    "duration": 19,
    "start_time": "2022-07-18T07:22:11.001Z"
   },
   {
    "duration": 73,
    "start_time": "2022-07-18T07:22:11.022Z"
   },
   {
    "duration": 47491,
    "start_time": "2022-07-18T07:22:11.096Z"
   },
   {
    "duration": 35,
    "start_time": "2022-07-18T07:22:58.597Z"
   },
   {
    "duration": 140,
    "start_time": "2022-07-18T07:22:58.634Z"
   },
   {
    "duration": 46612,
    "start_time": "2022-07-18T07:22:58.778Z"
   },
   {
    "duration": 26,
    "start_time": "2022-07-18T07:23:45.392Z"
   },
   {
    "duration": 150,
    "start_time": "2022-07-18T07:23:45.419Z"
   },
   {
    "duration": 43,
    "start_time": "2022-07-18T07:23:45.570Z"
   },
   {
    "duration": 4,
    "start_time": "2022-07-18T07:24:28.323Z"
   },
   {
    "duration": 69,
    "start_time": "2022-07-18T07:24:28.330Z"
   },
   {
    "duration": 36,
    "start_time": "2022-07-18T07:24:28.401Z"
   },
   {
    "duration": 4,
    "start_time": "2022-07-18T07:24:28.439Z"
   },
   {
    "duration": 33,
    "start_time": "2022-07-18T07:24:28.444Z"
   },
   {
    "duration": 5,
    "start_time": "2022-07-18T07:24:28.479Z"
   },
   {
    "duration": 9,
    "start_time": "2022-07-18T07:24:28.485Z"
   },
   {
    "duration": 7,
    "start_time": "2022-07-18T07:24:28.495Z"
   },
   {
    "duration": 65,
    "start_time": "2022-07-18T07:24:28.504Z"
   },
   {
    "duration": 5,
    "start_time": "2022-07-18T07:24:28.573Z"
   },
   {
    "duration": 37,
    "start_time": "2022-07-18T07:24:28.580Z"
   },
   {
    "duration": 2436,
    "start_time": "2022-07-18T07:24:28.619Z"
   },
   {
    "duration": 61622,
    "start_time": "2022-07-18T07:24:31.058Z"
   },
   {
    "duration": 172367,
    "start_time": "2022-07-18T07:25:32.683Z"
   },
   {
    "duration": 11,
    "start_time": "2022-07-18T07:28:25.055Z"
   },
   {
    "duration": 64,
    "start_time": "2022-07-18T07:28:25.068Z"
   },
   {
    "duration": 32,
    "start_time": "2022-07-18T07:28:25.134Z"
   },
   {
    "duration": 102,
    "start_time": "2022-07-18T07:28:25.171Z"
   },
   {
    "duration": 82706,
    "start_time": "2022-07-18T07:28:25.277Z"
   },
   {
    "duration": 37,
    "start_time": "2022-07-18T07:29:47.984Z"
   },
   {
    "duration": 4,
    "start_time": "2022-07-18T07:29:48.023Z"
   },
   {
    "duration": 39,
    "start_time": "2022-07-18T07:29:48.029Z"
   },
   {
    "duration": 68,
    "start_time": "2022-07-18T07:29:48.071Z"
   },
   {
    "duration": 46298,
    "start_time": "2022-07-18T07:29:48.151Z"
   },
   {
    "duration": 24,
    "start_time": "2022-07-18T07:30:34.452Z"
   },
   {
    "duration": 156,
    "start_time": "2022-07-18T07:30:34.478Z"
   },
   {
    "duration": 47834,
    "start_time": "2022-07-18T07:30:34.635Z"
   },
   {
    "duration": 31,
    "start_time": "2022-07-18T07:31:22.474Z"
   },
   {
    "duration": 136,
    "start_time": "2022-07-18T07:31:22.507Z"
   },
   {
    "duration": 52,
    "start_time": "2022-07-18T07:31:22.645Z"
   },
   {
    "duration": 99,
    "start_time": "2022-07-18T07:33:01.175Z"
   },
   {
    "duration": 7,
    "start_time": "2022-07-18T07:33:09.681Z"
   },
   {
    "duration": 6,
    "start_time": "2022-07-18T07:33:35.271Z"
   },
   {
    "duration": 291,
    "start_time": "2022-07-18T07:34:11.733Z"
   },
   {
    "duration": 308,
    "start_time": "2022-07-18T07:34:15.322Z"
   },
   {
    "duration": 352,
    "start_time": "2022-07-18T07:34:16.030Z"
   },
   {
    "duration": 308,
    "start_time": "2022-07-18T07:34:16.740Z"
   },
   {
    "duration": 331,
    "start_time": "2022-07-18T07:34:18.574Z"
   },
   {
    "duration": 273,
    "start_time": "2022-07-18T07:34:43.501Z"
   },
   {
    "duration": 87,
    "start_time": "2022-07-18T07:34:51.982Z"
   },
   {
    "duration": 107,
    "start_time": "2022-07-18T07:35:00.314Z"
   },
   {
    "duration": 5,
    "start_time": "2022-07-18T07:41:59.687Z"
   },
   {
    "duration": 5,
    "start_time": "2022-07-18T07:42:07.229Z"
   },
   {
    "duration": 11,
    "start_time": "2022-07-18T07:42:44.311Z"
   },
   {
    "duration": 13,
    "start_time": "2022-07-18T07:42:51.982Z"
   },
   {
    "duration": 12,
    "start_time": "2022-07-18T07:43:23.449Z"
   },
   {
    "duration": 4,
    "start_time": "2022-07-18T07:43:40.015Z"
   },
   {
    "duration": 66,
    "start_time": "2022-07-18T07:43:40.022Z"
   },
   {
    "duration": 42,
    "start_time": "2022-07-18T07:43:40.090Z"
   },
   {
    "duration": 11,
    "start_time": "2022-07-18T07:43:40.155Z"
   },
   {
    "duration": 29,
    "start_time": "2022-07-18T07:43:40.170Z"
   },
   {
    "duration": 5,
    "start_time": "2022-07-18T07:43:40.201Z"
   },
   {
    "duration": 10,
    "start_time": "2022-07-18T07:43:40.208Z"
   },
   {
    "duration": 6,
    "start_time": "2022-07-18T07:43:40.220Z"
   },
   {
    "duration": 30,
    "start_time": "2022-07-18T07:43:40.259Z"
   },
   {
    "duration": 5,
    "start_time": "2022-07-18T07:43:40.291Z"
   },
   {
    "duration": 31,
    "start_time": "2022-07-18T07:43:40.298Z"
   },
   {
    "duration": 226,
    "start_time": "2022-07-18T07:43:40.331Z"
   },
   {
    "duration": 83082,
    "start_time": "2022-07-18T07:43:40.564Z"
   },
   {
    "duration": 11,
    "start_time": "2022-07-18T07:45:03.647Z"
   },
   {
    "duration": 17,
    "start_time": "2022-07-18T07:45:03.662Z"
   },
   {
    "duration": 28,
    "start_time": "2022-07-18T07:45:03.681Z"
   },
   {
    "duration": 104173,
    "start_time": "2022-07-18T07:45:03.711Z"
   },
   {
    "duration": 44,
    "start_time": "2022-07-18T07:46:47.886Z"
   },
   {
    "duration": 28,
    "start_time": "2022-07-18T07:46:47.931Z"
   },
   {
    "duration": 11,
    "start_time": "2022-07-18T07:46:47.965Z"
   },
   {
    "duration": 65994,
    "start_time": "2022-07-18T07:46:47.978Z"
   },
   {
    "duration": 27,
    "start_time": "2022-07-18T07:47:53.974Z"
   },
   {
    "duration": 4,
    "start_time": "2022-07-18T07:47:54.003Z"
   },
   {
    "duration": 63249,
    "start_time": "2022-07-18T07:47:54.010Z"
   },
   {
    "duration": 28,
    "start_time": "2022-07-18T07:48:57.264Z"
   },
   {
    "duration": 4,
    "start_time": "2022-07-18T07:50:59.578Z"
   },
   {
    "duration": 5,
    "start_time": "2022-07-18T07:51:06.172Z"
   },
   {
    "duration": 4,
    "start_time": "2022-07-18T07:52:09.104Z"
   },
   {
    "duration": 80,
    "start_time": "2022-07-18T07:52:09.111Z"
   },
   {
    "duration": 39,
    "start_time": "2022-07-18T07:52:09.193Z"
   },
   {
    "duration": 24,
    "start_time": "2022-07-18T07:52:09.234Z"
   },
   {
    "duration": 26,
    "start_time": "2022-07-18T07:52:09.267Z"
   },
   {
    "duration": 6,
    "start_time": "2022-07-18T07:52:09.295Z"
   },
   {
    "duration": 11,
    "start_time": "2022-07-18T07:52:09.304Z"
   },
   {
    "duration": 7,
    "start_time": "2022-07-18T07:52:09.317Z"
   },
   {
    "duration": 54,
    "start_time": "2022-07-18T07:52:09.325Z"
   },
   {
    "duration": 7,
    "start_time": "2022-07-18T07:52:09.382Z"
   },
   {
    "duration": 33,
    "start_time": "2022-07-18T07:52:09.391Z"
   },
   {
    "duration": 452,
    "start_time": "2022-07-18T07:52:09.425Z"
   },
   {
    "duration": 99651,
    "start_time": "2022-07-18T07:52:09.952Z"
   },
   {
    "duration": 4,
    "start_time": "2022-07-18T07:53:49.604Z"
   },
   {
    "duration": 8,
    "start_time": "2022-07-18T07:53:49.610Z"
   },
   {
    "duration": 40,
    "start_time": "2022-07-18T07:53:49.619Z"
   },
   {
    "duration": 127867,
    "start_time": "2022-07-18T07:53:49.661Z"
   },
   {
    "duration": 48,
    "start_time": "2022-07-18T07:55:57.530Z"
   },
   {
    "duration": 4,
    "start_time": "2022-07-18T07:55:57.579Z"
   },
   {
    "duration": 14,
    "start_time": "2022-07-18T07:55:57.585Z"
   },
   {
    "duration": 71231,
    "start_time": "2022-07-18T07:55:57.601Z"
   },
   {
    "duration": 51,
    "start_time": "2022-07-18T07:57:08.834Z"
   },
   {
    "duration": 6,
    "start_time": "2022-07-18T07:57:08.887Z"
   },
   {
    "duration": 70070,
    "start_time": "2022-07-18T07:57:08.895Z"
   },
   {
    "duration": 26,
    "start_time": "2022-07-18T07:58:18.967Z"
   },
   {
    "duration": 33,
    "start_time": "2022-07-18T08:07:59.120Z"
   },
   {
    "duration": 545885,
    "start_time": "2022-07-18T08:08:16.296Z"
   },
   {
    "duration": 9,
    "start_time": "2022-07-18T08:19:14.186Z"
   },
   {
    "duration": 12,
    "start_time": "2022-07-18T08:19:16.279Z"
   },
   {
    "duration": 11,
    "start_time": "2022-07-18T08:19:25.615Z"
   },
   {
    "duration": 393,
    "start_time": "2022-07-18T08:19:29.965Z"
   },
   {
    "duration": 403,
    "start_time": "2022-07-18T08:19:55.331Z"
   },
   {
    "duration": 414,
    "start_time": "2022-07-18T08:20:09.043Z"
   },
   {
    "duration": 238,
    "start_time": "2022-07-18T08:20:41.725Z"
   },
   {
    "duration": 402,
    "start_time": "2022-07-18T08:21:00.871Z"
   },
   {
    "duration": 8,
    "start_time": "2022-07-18T08:21:29.938Z"
   },
   {
    "duration": 7,
    "start_time": "2022-07-18T08:21:30.845Z"
   },
   {
    "duration": 254,
    "start_time": "2022-07-18T08:21:44.134Z"
   },
   {
    "duration": 27,
    "start_time": "2022-07-18T08:21:53.064Z"
   },
   {
    "duration": 4,
    "start_time": "2022-07-18T08:21:59.193Z"
   },
   {
    "duration": 76,
    "start_time": "2022-07-18T08:21:59.199Z"
   },
   {
    "duration": 41,
    "start_time": "2022-07-18T08:21:59.277Z"
   },
   {
    "duration": 4,
    "start_time": "2022-07-18T08:21:59.320Z"
   },
   {
    "duration": 49,
    "start_time": "2022-07-18T08:21:59.326Z"
   },
   {
    "duration": 7,
    "start_time": "2022-07-18T08:21:59.377Z"
   },
   {
    "duration": 14,
    "start_time": "2022-07-18T08:21:59.386Z"
   },
   {
    "duration": 8,
    "start_time": "2022-07-18T08:21:59.402Z"
   },
   {
    "duration": 52,
    "start_time": "2022-07-18T08:21:59.413Z"
   },
   {
    "duration": 6,
    "start_time": "2022-07-18T08:21:59.468Z"
   },
   {
    "duration": 30,
    "start_time": "2022-07-18T08:21:59.475Z"
   },
   {
    "duration": 156,
    "start_time": "2022-07-18T08:21:59.506Z"
   },
   {
    "duration": 95,
    "start_time": "2022-07-18T08:21:59.664Z"
   },
   {
    "duration": 95,
    "start_time": "2022-07-18T08:21:59.761Z"
   },
   {
    "duration": 532063,
    "start_time": "2022-07-18T08:21:59.857Z"
   },
   {
    "duration": 8,
    "start_time": "2022-07-18T08:30:51.922Z"
   },
   {
    "duration": 25,
    "start_time": "2022-07-18T08:30:51.932Z"
   },
   {
    "duration": 2,
    "start_time": "2022-07-18T08:30:51.959Z"
   },
   {
    "duration": 8,
    "start_time": "2022-07-18T08:30:51.963Z"
   },
   {
    "duration": 479,
    "start_time": "2022-07-18T08:30:51.973Z"
   },
   {
    "duration": 5,
    "start_time": "2022-07-18T08:30:52.454Z"
   },
   {
    "duration": 15,
    "start_time": "2022-07-18T08:30:52.462Z"
   },
   {
    "duration": 2,
    "start_time": "2022-07-18T08:30:52.479Z"
   },
   {
    "duration": 10,
    "start_time": "2022-07-18T08:30:52.483Z"
   },
   {
    "duration": 288,
    "start_time": "2022-07-18T08:30:52.494Z"
   },
   {
    "duration": 2,
    "start_time": "2022-07-18T08:30:52.784Z"
   },
   {
    "duration": 8,
    "start_time": "2022-07-18T08:30:52.787Z"
   },
   {
    "duration": 3,
    "start_time": "2022-07-18T08:30:52.798Z"
   },
   {
    "duration": 447,
    "start_time": "2022-07-18T08:30:52.802Z"
   },
   {
    "duration": 405,
    "start_time": "2022-07-18T08:39:37.849Z"
   },
   {
    "duration": 308,
    "start_time": "2022-07-18T08:39:59.632Z"
   },
   {
    "duration": 412,
    "start_time": "2022-07-18T08:40:11.527Z"
   },
   {
    "duration": 432,
    "start_time": "2022-07-18T08:40:33.491Z"
   },
   {
    "duration": 10,
    "start_time": "2022-07-18T08:41:09.594Z"
   },
   {
    "duration": 14,
    "start_time": "2022-07-18T08:41:16.154Z"
   },
   {
    "duration": 14,
    "start_time": "2022-07-18T08:41:28.394Z"
   },
   {
    "duration": 13,
    "start_time": "2022-07-18T08:41:50.894Z"
   },
   {
    "duration": 6,
    "start_time": "2022-07-18T08:42:00.186Z"
   },
   {
    "duration": 9,
    "start_time": "2022-07-18T08:42:01.065Z"
   },
   {
    "duration": 9,
    "start_time": "2022-07-18T08:42:02.513Z"
   },
   {
    "duration": 10,
    "start_time": "2022-07-18T08:42:03.876Z"
   },
   {
    "duration": 5,
    "start_time": "2022-07-18T08:42:09.391Z"
   },
   {
    "duration": 13,
    "start_time": "2022-07-18T08:42:11.142Z"
   },
   {
    "duration": 10,
    "start_time": "2022-07-18T08:42:12.473Z"
   },
   {
    "duration": 3,
    "start_time": "2022-07-18T08:42:58.514Z"
   },
   {
    "duration": 67,
    "start_time": "2022-07-18T08:42:58.519Z"
   },
   {
    "duration": 67,
    "start_time": "2022-07-18T08:42:58.588Z"
   },
   {
    "duration": 5,
    "start_time": "2022-07-18T08:42:58.658Z"
   },
   {
    "duration": 26,
    "start_time": "2022-07-18T08:42:58.664Z"
   },
   {
    "duration": 5,
    "start_time": "2022-07-18T08:42:58.692Z"
   },
   {
    "duration": 6,
    "start_time": "2022-07-18T08:42:58.699Z"
   },
   {
    "duration": 6,
    "start_time": "2022-07-18T08:42:58.707Z"
   },
   {
    "duration": 29,
    "start_time": "2022-07-18T08:42:58.753Z"
   },
   {
    "duration": 6,
    "start_time": "2022-07-18T08:42:58.783Z"
   },
   {
    "duration": 42,
    "start_time": "2022-07-18T08:42:58.791Z"
   },
   {
    "duration": 201,
    "start_time": "2022-07-18T08:42:58.854Z"
   },
   {
    "duration": 97,
    "start_time": "2022-07-18T08:42:59.057Z"
   },
   {
    "duration": 22,
    "start_time": "2022-07-18T08:42:59.157Z"
   },
   {
    "duration": 228341,
    "start_time": "2022-07-18T08:42:59.180Z"
   },
   {
    "duration": 0,
    "start_time": "2022-07-18T08:46:47.523Z"
   },
   {
    "duration": 1,
    "start_time": "2022-07-18T08:46:47.524Z"
   },
   {
    "duration": 0,
    "start_time": "2022-07-18T08:46:47.526Z"
   },
   {
    "duration": 0,
    "start_time": "2022-07-18T08:46:47.527Z"
   },
   {
    "duration": 0,
    "start_time": "2022-07-18T08:46:47.528Z"
   },
   {
    "duration": 0,
    "start_time": "2022-07-18T08:46:47.529Z"
   },
   {
    "duration": 0,
    "start_time": "2022-07-18T08:46:47.530Z"
   },
   {
    "duration": 0,
    "start_time": "2022-07-18T08:46:47.531Z"
   },
   {
    "duration": 0,
    "start_time": "2022-07-18T08:46:47.532Z"
   },
   {
    "duration": 0,
    "start_time": "2022-07-18T08:46:47.552Z"
   },
   {
    "duration": 0,
    "start_time": "2022-07-18T08:46:47.554Z"
   },
   {
    "duration": 0,
    "start_time": "2022-07-18T08:46:47.555Z"
   },
   {
    "duration": 0,
    "start_time": "2022-07-18T08:46:47.556Z"
   },
   {
    "duration": 0,
    "start_time": "2022-07-18T08:46:47.557Z"
   },
   {
    "duration": 16,
    "start_time": "2022-07-18T08:46:56.720Z"
   },
   {
    "duration": 6,
    "start_time": "2022-07-18T08:47:03.630Z"
   },
   {
    "duration": 11,
    "start_time": "2022-07-18T08:47:05.773Z"
   },
   {
    "duration": 7,
    "start_time": "2022-07-18T08:47:22.712Z"
   },
   {
    "duration": 12,
    "start_time": "2022-07-18T08:47:23.515Z"
   },
   {
    "duration": 6,
    "start_time": "2022-07-18T08:47:27.277Z"
   },
   {
    "duration": 11,
    "start_time": "2022-07-18T08:47:28.106Z"
   },
   {
    "duration": 6,
    "start_time": "2022-07-18T08:47:43.193Z"
   },
   {
    "duration": 9,
    "start_time": "2022-07-18T08:47:43.853Z"
   },
   {
    "duration": 6,
    "start_time": "2022-07-18T08:47:47.267Z"
   },
   {
    "duration": 4,
    "start_time": "2022-07-18T08:47:53.052Z"
   },
   {
    "duration": 9,
    "start_time": "2022-07-18T08:47:53.815Z"
   },
   {
    "duration": 4,
    "start_time": "2022-07-18T08:47:58.007Z"
   },
   {
    "duration": 62,
    "start_time": "2022-07-18T08:47:58.013Z"
   },
   {
    "duration": 39,
    "start_time": "2022-07-18T08:47:58.076Z"
   },
   {
    "duration": 4,
    "start_time": "2022-07-18T08:47:58.117Z"
   },
   {
    "duration": 20,
    "start_time": "2022-07-18T08:47:58.151Z"
   },
   {
    "duration": 5,
    "start_time": "2022-07-18T08:47:58.173Z"
   },
   {
    "duration": 7,
    "start_time": "2022-07-18T08:47:58.180Z"
   },
   {
    "duration": 5,
    "start_time": "2022-07-18T08:47:58.189Z"
   },
   {
    "duration": 57,
    "start_time": "2022-07-18T08:47:58.195Z"
   },
   {
    "duration": 5,
    "start_time": "2022-07-18T08:47:58.254Z"
   },
   {
    "duration": 44,
    "start_time": "2022-07-18T08:47:58.261Z"
   },
   {
    "duration": 250,
    "start_time": "2022-07-18T08:47:58.307Z"
   },
   {
    "duration": 3,
    "start_time": "2022-07-18T08:47:58.652Z"
   },
   {
    "duration": 7,
    "start_time": "2022-07-18T08:47:58.659Z"
   },
   {
    "duration": 673783,
    "start_time": "2022-07-18T08:47:58.668Z"
   },
   {
    "duration": 4,
    "start_time": "2022-07-18T08:59:12.453Z"
   },
   {
    "duration": 18,
    "start_time": "2022-07-18T08:59:12.458Z"
   },
   {
    "duration": 2,
    "start_time": "2022-07-18T08:59:12.478Z"
   },
   {
    "duration": 7,
    "start_time": "2022-07-18T08:59:12.481Z"
   },
   {
    "duration": 73,
    "start_time": "2022-07-18T08:59:12.490Z"
   },
   {
    "duration": 4,
    "start_time": "2022-07-18T08:59:12.565Z"
   },
   {
    "duration": 18,
    "start_time": "2022-07-18T08:59:12.570Z"
   },
   {
    "duration": 2,
    "start_time": "2022-07-18T08:59:12.590Z"
   },
   {
    "duration": 15,
    "start_time": "2022-07-18T08:59:12.594Z"
   },
   {
    "duration": 52,
    "start_time": "2022-07-18T08:59:12.611Z"
   },
   {
    "duration": 3,
    "start_time": "2022-07-18T08:59:12.664Z"
   },
   {
    "duration": 6,
    "start_time": "2022-07-18T08:59:12.669Z"
   },
   {
    "duration": 10,
    "start_time": "2022-07-18T08:59:12.677Z"
   },
   {
    "duration": 65,
    "start_time": "2022-07-18T08:59:12.688Z"
   },
   {
    "duration": 86,
    "start_time": "2022-07-18T09:08:09.358Z"
   },
   {
    "duration": 6,
    "start_time": "2022-07-18T09:08:14.703Z"
   },
   {
    "duration": 62,
    "start_time": "2022-07-18T09:08:16.007Z"
   },
   {
    "duration": 50,
    "start_time": "2022-07-18T09:08:17.363Z"
   },
   {
    "duration": 62,
    "start_time": "2022-07-18T09:08:29.123Z"
   },
   {
    "duration": 8,
    "start_time": "2022-07-18T09:09:10.394Z"
   },
   {
    "duration": 52,
    "start_time": "2022-07-18T09:09:11.359Z"
   },
   {
    "duration": 7,
    "start_time": "2022-07-18T09:09:19.150Z"
   },
   {
    "duration": 58,
    "start_time": "2022-07-18T09:09:19.849Z"
   },
   {
    "duration": 53,
    "start_time": "2022-07-18T09:12:46.619Z"
   },
   {
    "duration": 4,
    "start_time": "2022-07-18T09:16:01.183Z"
   },
   {
    "duration": 85,
    "start_time": "2022-07-18T09:16:01.189Z"
   },
   {
    "duration": 37,
    "start_time": "2022-07-18T09:16:01.276Z"
   },
   {
    "duration": 4,
    "start_time": "2022-07-18T09:16:01.315Z"
   },
   {
    "duration": 45,
    "start_time": "2022-07-18T09:16:01.321Z"
   },
   {
    "duration": 5,
    "start_time": "2022-07-18T09:16:01.368Z"
   },
   {
    "duration": 10,
    "start_time": "2022-07-18T09:16:01.375Z"
   },
   {
    "duration": 9,
    "start_time": "2022-07-18T09:16:01.386Z"
   },
   {
    "duration": 59,
    "start_time": "2022-07-18T09:16:01.397Z"
   },
   {
    "duration": 5,
    "start_time": "2022-07-18T09:16:01.457Z"
   },
   {
    "duration": 41,
    "start_time": "2022-07-18T09:16:01.464Z"
   },
   {
    "duration": 149,
    "start_time": "2022-07-18T09:16:01.507Z"
   },
   {
    "duration": 4,
    "start_time": "2022-07-18T09:16:01.658Z"
   },
   {
    "duration": 3,
    "start_time": "2022-07-18T09:16:01.755Z"
   },
   {
    "duration": 671687,
    "start_time": "2022-07-18T09:16:01.760Z"
   },
   {
    "duration": 4,
    "start_time": "2022-07-18T09:27:13.449Z"
   },
   {
    "duration": 17,
    "start_time": "2022-07-18T09:27:13.454Z"
   },
   {
    "duration": 5,
    "start_time": "2022-07-18T09:27:13.473Z"
   },
   {
    "duration": 7,
    "start_time": "2022-07-18T09:27:13.480Z"
   },
   {
    "duration": 110,
    "start_time": "2022-07-18T09:27:13.489Z"
   },
   {
    "duration": 5,
    "start_time": "2022-07-18T09:27:13.600Z"
   },
   {
    "duration": 14,
    "start_time": "2022-07-18T09:27:13.607Z"
   },
   {
    "duration": 29,
    "start_time": "2022-07-18T09:27:13.623Z"
   },
   {
    "duration": 2,
    "start_time": "2022-07-18T09:27:13.654Z"
   },
   {
    "duration": 32,
    "start_time": "2022-07-18T09:27:13.658Z"
   },
   {
    "duration": 2,
    "start_time": "2022-07-18T09:27:13.692Z"
   },
   {
    "duration": 9,
    "start_time": "2022-07-18T09:27:13.695Z"
   },
   {
    "duration": 47,
    "start_time": "2022-07-18T09:27:13.706Z"
   },
   {
    "duration": 14,
    "start_time": "2022-07-18T09:27:13.755Z"
   },
   {
    "duration": 90,
    "start_time": "2022-07-18T09:27:13.771Z"
   },
   {
    "duration": 32,
    "start_time": "2022-07-18T09:27:55.848Z"
   },
   {
    "duration": 54,
    "start_time": "2022-07-18T09:29:00.109Z"
   },
   {
    "duration": 37,
    "start_time": "2022-07-18T09:29:09.537Z"
   },
   {
    "duration": 15,
    "start_time": "2022-07-18T09:39:13.835Z"
   },
   {
    "duration": 14,
    "start_time": "2022-07-18T09:39:22.596Z"
   },
   {
    "duration": 21,
    "start_time": "2022-07-18T09:39:35.250Z"
   },
   {
    "duration": 43,
    "start_time": "2022-07-18T09:39:38.905Z"
   },
   {
    "duration": 51,
    "start_time": "2022-07-18T09:39:47.372Z"
   },
   {
    "duration": 25,
    "start_time": "2022-07-18T09:40:29.910Z"
   },
   {
    "duration": 88,
    "start_time": "2022-07-18T09:40:36.189Z"
   },
   {
    "duration": 65,
    "start_time": "2022-07-18T09:40:37.341Z"
   },
   {
    "duration": 49,
    "start_time": "2022-07-18T09:41:02.148Z"
   },
   {
    "duration": 43,
    "start_time": "2022-07-18T09:41:07.026Z"
   },
   {
    "duration": 42,
    "start_time": "2022-07-18T09:41:10.247Z"
   },
   {
    "duration": 51,
    "start_time": "2022-07-18T09:41:11.919Z"
   },
   {
    "duration": 37,
    "start_time": "2022-07-18T09:41:40.354Z"
   },
   {
    "duration": 53,
    "start_time": "2022-07-18T09:41:45.224Z"
   },
   {
    "duration": 41,
    "start_time": "2022-07-18T10:09:08.248Z"
   },
   {
    "duration": 40,
    "start_time": "2022-07-18T10:09:14.971Z"
   },
   {
    "duration": 4,
    "start_time": "2022-07-18T10:10:30.305Z"
   },
   {
    "duration": 56,
    "start_time": "2022-07-18T10:10:31.367Z"
   },
   {
    "duration": 39,
    "start_time": "2022-07-18T10:10:33.368Z"
   },
   {
    "duration": 5,
    "start_time": "2022-07-18T10:10:34.814Z"
   },
   {
    "duration": 26,
    "start_time": "2022-07-18T10:10:35.747Z"
   },
   {
    "duration": 6,
    "start_time": "2022-07-18T10:10:37.296Z"
   },
   {
    "duration": 7,
    "start_time": "2022-07-18T10:10:38.368Z"
   },
   {
    "duration": 7,
    "start_time": "2022-07-18T10:10:39.467Z"
   },
   {
    "duration": 26,
    "start_time": "2022-07-18T10:10:40.774Z"
   },
   {
    "duration": 5,
    "start_time": "2022-07-18T10:10:42.786Z"
   },
   {
    "duration": 12,
    "start_time": "2022-07-18T10:10:48.493Z"
   },
   {
    "duration": 40,
    "start_time": "2022-07-18T10:10:50.263Z"
   },
   {
    "duration": 40,
    "start_time": "2022-07-18T10:10:52.138Z"
   },
   {
    "duration": 4,
    "start_time": "2022-07-18T10:10:57.069Z"
   },
   {
    "duration": 75,
    "start_time": "2022-07-18T10:10:57.075Z"
   },
   {
    "duration": 40,
    "start_time": "2022-07-18T10:10:57.151Z"
   },
   {
    "duration": 4,
    "start_time": "2022-07-18T10:10:57.193Z"
   },
   {
    "duration": 49,
    "start_time": "2022-07-18T10:10:57.199Z"
   },
   {
    "duration": 13,
    "start_time": "2022-07-18T10:10:57.252Z"
   },
   {
    "duration": 26,
    "start_time": "2022-07-18T10:10:57.270Z"
   },
   {
    "duration": 29,
    "start_time": "2022-07-18T10:10:57.298Z"
   },
   {
    "duration": 35,
    "start_time": "2022-07-18T10:10:57.329Z"
   },
   {
    "duration": 6,
    "start_time": "2022-07-18T10:10:57.365Z"
   },
   {
    "duration": 47,
    "start_time": "2022-07-18T10:10:57.372Z"
   },
   {
    "duration": 252,
    "start_time": "2022-07-18T10:10:57.421Z"
   },
   {
    "duration": 84,
    "start_time": "2022-07-18T10:10:57.675Z"
   },
   {
    "duration": 125,
    "start_time": "2022-07-18T10:10:57.762Z"
   },
   {
    "duration": 707412,
    "start_time": "2022-07-18T10:10:57.889Z"
   },
   {
    "duration": 5,
    "start_time": "2022-07-18T10:22:45.303Z"
   },
   {
    "duration": 13,
    "start_time": "2022-07-18T10:22:45.310Z"
   },
   {
    "duration": 3,
    "start_time": "2022-07-18T10:22:45.325Z"
   },
   {
    "duration": 26,
    "start_time": "2022-07-18T10:22:45.329Z"
   },
   {
    "duration": 69,
    "start_time": "2022-07-18T10:22:45.356Z"
   },
   {
    "duration": 4,
    "start_time": "2022-07-18T10:22:45.427Z"
   },
   {
    "duration": 36,
    "start_time": "2022-07-18T10:22:45.433Z"
   },
   {
    "duration": 35,
    "start_time": "2022-07-18T10:22:45.471Z"
   },
   {
    "duration": 3,
    "start_time": "2022-07-18T10:22:45.507Z"
   },
   {
    "duration": 6,
    "start_time": "2022-07-18T10:22:45.512Z"
   },
   {
    "duration": 19,
    "start_time": "2022-07-18T10:22:45.553Z"
   },
   {
    "duration": 21,
    "start_time": "2022-07-18T10:22:45.574Z"
   },
   {
    "duration": 40,
    "start_time": "2022-07-18T10:22:45.596Z"
   },
   {
    "duration": 52,
    "start_time": "2022-07-18T10:22:45.638Z"
   },
   {
    "duration": 8,
    "start_time": "2022-07-18T10:22:45.692Z"
   },
   {
    "duration": 95,
    "start_time": "2022-07-18T10:22:45.702Z"
   },
   {
    "duration": 127116,
    "start_time": "2022-07-18T10:43:54.071Z"
   },
   {
    "duration": 178052,
    "start_time": "2022-07-18T10:46:01.189Z"
   },
   {
    "duration": 10,
    "start_time": "2022-07-18T10:48:59.243Z"
   },
   {
    "duration": 94009,
    "start_time": "2022-07-18T10:48:59.255Z"
   },
   {
    "duration": 34,
    "start_time": "2022-07-18T10:50:33.266Z"
   },
   {
    "duration": 41,
    "start_time": "2022-07-18T10:50:46.308Z"
   },
   {
    "duration": 40,
    "start_time": "2022-07-18T10:51:01.295Z"
   },
   {
    "duration": 87435,
    "start_time": "2022-07-18T10:54:37.942Z"
   },
   {
    "duration": 31,
    "start_time": "2022-07-18T10:56:05.379Z"
   },
   {
    "duration": 206796,
    "start_time": "2022-07-18T10:57:05.132Z"
   },
   {
    "duration": 37,
    "start_time": "2022-07-18T11:00:31.930Z"
   },
   {
    "duration": 7,
    "start_time": "2022-07-18T11:17:57.644Z"
   },
   {
    "duration": 114296,
    "start_time": "2022-07-18T11:18:00.224Z"
   },
   {
    "duration": 41,
    "start_time": "2022-07-18T11:19:54.522Z"
   },
   {
    "duration": 1304,
    "start_time": "2022-07-18T14:18:46.542Z"
   },
   {
    "duration": 139,
    "start_time": "2022-07-18T14:18:47.848Z"
   },
   {
    "duration": 46,
    "start_time": "2022-07-18T14:18:47.989Z"
   },
   {
    "duration": 5,
    "start_time": "2022-07-18T14:18:48.037Z"
   },
   {
    "duration": 33,
    "start_time": "2022-07-18T14:18:48.045Z"
   },
   {
    "duration": 22,
    "start_time": "2022-07-18T14:18:48.080Z"
   },
   {
    "duration": 11,
    "start_time": "2022-07-18T14:18:48.104Z"
   },
   {
    "duration": 5,
    "start_time": "2022-07-18T14:18:48.116Z"
   },
   {
    "duration": 29,
    "start_time": "2022-07-18T14:18:48.122Z"
   },
   {
    "duration": 5,
    "start_time": "2022-07-18T14:18:48.153Z"
   },
   {
    "duration": 51,
    "start_time": "2022-07-18T14:18:48.160Z"
   },
   {
    "duration": 865,
    "start_time": "2022-07-18T14:18:48.213Z"
   },
   {
    "duration": 141750,
    "start_time": "2022-07-18T14:18:49.080Z"
   },
   {
    "duration": 4,
    "start_time": "2022-07-18T14:21:10.833Z"
   },
   {
    "duration": 15,
    "start_time": "2022-07-18T14:21:10.839Z"
   },
   {
    "duration": 197246,
    "start_time": "2022-07-18T14:21:10.856Z"
   },
   {
    "duration": 32,
    "start_time": "2022-07-18T14:24:28.106Z"
   },
   {
    "duration": 5,
    "start_time": "2022-07-18T14:24:28.140Z"
   },
   {
    "duration": 24,
    "start_time": "2022-07-18T14:24:28.146Z"
   },
   {
    "duration": 97365,
    "start_time": "2022-07-18T14:24:28.171Z"
   },
   {
    "duration": 41,
    "start_time": "2022-07-18T14:26:05.537Z"
   },
   {
    "duration": 9,
    "start_time": "2022-07-18T14:26:05.583Z"
   },
   {
    "duration": 133030,
    "start_time": "2022-07-18T14:26:05.594Z"
   },
   {
    "duration": 48,
    "start_time": "2022-07-18T14:28:18.626Z"
   },
   {
    "duration": 43,
    "start_time": "2022-07-19T13:11:00.042Z"
   },
   {
    "duration": 1001,
    "start_time": "2022-07-19T13:11:10.288Z"
   },
   {
    "duration": 182,
    "start_time": "2022-07-19T13:11:11.314Z"
   },
   {
    "duration": 36,
    "start_time": "2022-07-19T13:11:13.845Z"
   },
   {
    "duration": 4,
    "start_time": "2022-07-19T13:11:15.434Z"
   },
   {
    "duration": 16,
    "start_time": "2022-07-19T13:11:16.755Z"
   },
   {
    "duration": 5,
    "start_time": "2022-07-19T13:11:18.320Z"
   },
   {
    "duration": 6,
    "start_time": "2022-07-19T13:11:19.239Z"
   },
   {
    "duration": 5,
    "start_time": "2022-07-19T13:11:20.155Z"
   },
   {
    "duration": 2,
    "start_time": "2022-07-19T13:11:21.886Z"
   },
   {
    "duration": 3,
    "start_time": "2022-07-19T13:11:39.795Z"
   },
   {
    "duration": 4,
    "start_time": "2022-07-19T13:11:59.924Z"
   },
   {
    "duration": 35,
    "start_time": "2022-07-19T13:13:14.261Z"
   },
   {
    "duration": 73,
    "start_time": "2022-07-19T13:13:26.554Z"
   },
   {
    "duration": 17,
    "start_time": "2022-07-19T13:13:50.434Z"
   },
   {
    "duration": 25,
    "start_time": "2022-07-19T13:13:52.934Z"
   },
   {
    "duration": 18,
    "start_time": "2022-07-19T13:14:01.892Z"
   },
   {
    "duration": 4,
    "start_time": "2022-07-19T13:14:11.152Z"
   },
   {
    "duration": 54,
    "start_time": "2022-07-19T13:14:12.830Z"
   },
   {
    "duration": 37,
    "start_time": "2022-07-19T13:14:15.096Z"
   },
   {
    "duration": 4,
    "start_time": "2022-07-19T13:14:16.448Z"
   },
   {
    "duration": 16,
    "start_time": "2022-07-19T13:14:18.726Z"
   },
   {
    "duration": 5,
    "start_time": "2022-07-19T13:14:20.515Z"
   },
   {
    "duration": 6,
    "start_time": "2022-07-19T13:14:21.580Z"
   },
   {
    "duration": 6,
    "start_time": "2022-07-19T13:14:22.901Z"
   },
   {
    "duration": 4,
    "start_time": "2022-07-19T13:14:24.941Z"
   },
   {
    "duration": 42,
    "start_time": "2022-07-19T13:14:27.182Z"
   },
   {
    "duration": 1216,
    "start_time": "2022-10-11T17:41:46.250Z"
   },
   {
    "duration": 64,
    "start_time": "2022-10-11T17:41:47.468Z"
   },
   {
    "duration": 40,
    "start_time": "2022-10-11T17:41:47.534Z"
   },
   {
    "duration": 4,
    "start_time": "2022-10-11T17:41:47.576Z"
   },
   {
    "duration": 31,
    "start_time": "2022-10-11T17:41:47.582Z"
   },
   {
    "duration": 5,
    "start_time": "2022-10-11T17:41:47.614Z"
   },
   {
    "duration": 10,
    "start_time": "2022-10-11T17:41:47.620Z"
   },
   {
    "duration": 7,
    "start_time": "2022-10-11T17:41:47.632Z"
   },
   {
    "duration": 5,
    "start_time": "2022-10-11T17:41:47.641Z"
   },
   {
    "duration": 77,
    "start_time": "2022-10-11T17:41:47.649Z"
   },
   {
    "duration": 6,
    "start_time": "2022-10-11T17:41:47.728Z"
   },
   {
    "duration": 123,
    "start_time": "2022-10-11T17:41:47.736Z"
   },
   {
    "duration": 0,
    "start_time": "2022-10-11T17:41:47.861Z"
   },
   {
    "duration": 0,
    "start_time": "2022-10-11T17:41:47.862Z"
   },
   {
    "duration": 0,
    "start_time": "2022-10-11T17:41:47.863Z"
   },
   {
    "duration": 0,
    "start_time": "2022-10-11T17:41:47.864Z"
   },
   {
    "duration": 0,
    "start_time": "2022-10-11T17:41:47.865Z"
   },
   {
    "duration": 0,
    "start_time": "2022-10-11T17:41:47.866Z"
   },
   {
    "duration": 0,
    "start_time": "2022-10-11T17:41:47.867Z"
   },
   {
    "duration": 0,
    "start_time": "2022-10-11T17:41:47.869Z"
   },
   {
    "duration": 0,
    "start_time": "2022-10-11T17:41:47.870Z"
   },
   {
    "duration": 0,
    "start_time": "2022-10-11T17:41:47.870Z"
   },
   {
    "duration": 0,
    "start_time": "2022-10-11T17:41:47.872Z"
   },
   {
    "duration": 0,
    "start_time": "2022-10-11T17:41:47.872Z"
   },
   {
    "duration": 0,
    "start_time": "2022-10-11T17:41:47.873Z"
   },
   {
    "duration": 4,
    "start_time": "2022-10-11T18:00:22.248Z"
   },
   {
    "duration": 61,
    "start_time": "2022-10-11T18:00:22.254Z"
   },
   {
    "duration": 38,
    "start_time": "2022-10-11T18:00:22.317Z"
   },
   {
    "duration": 4,
    "start_time": "2022-10-11T18:00:22.357Z"
   },
   {
    "duration": 39,
    "start_time": "2022-10-11T18:00:22.363Z"
   },
   {
    "duration": 6,
    "start_time": "2022-10-11T18:00:22.404Z"
   },
   {
    "duration": 6,
    "start_time": "2022-10-11T18:00:22.412Z"
   },
   {
    "duration": 6,
    "start_time": "2022-10-11T18:00:22.419Z"
   },
   {
    "duration": 6,
    "start_time": "2022-10-11T18:00:22.428Z"
   },
   {
    "duration": 82,
    "start_time": "2022-10-11T18:00:22.436Z"
   },
   {
    "duration": 6,
    "start_time": "2022-10-11T18:00:22.520Z"
   },
   {
    "duration": 23,
    "start_time": "2022-10-11T18:00:22.528Z"
   },
   {
    "duration": 0,
    "start_time": "2022-10-11T18:00:22.553Z"
   },
   {
    "duration": 0,
    "start_time": "2022-10-11T18:00:22.554Z"
   },
   {
    "duration": 0,
    "start_time": "2022-10-11T18:00:22.556Z"
   },
   {
    "duration": 0,
    "start_time": "2022-10-11T18:00:22.557Z"
   },
   {
    "duration": 0,
    "start_time": "2022-10-11T18:00:22.559Z"
   },
   {
    "duration": 0,
    "start_time": "2022-10-11T18:00:22.560Z"
   },
   {
    "duration": 0,
    "start_time": "2022-10-11T18:00:22.562Z"
   },
   {
    "duration": 0,
    "start_time": "2022-10-11T18:00:22.563Z"
   },
   {
    "duration": 0,
    "start_time": "2022-10-11T18:00:22.598Z"
   },
   {
    "duration": 0,
    "start_time": "2022-10-11T18:00:22.599Z"
   },
   {
    "duration": 0,
    "start_time": "2022-10-11T18:00:22.601Z"
   },
   {
    "duration": 0,
    "start_time": "2022-10-11T18:00:22.602Z"
   },
   {
    "duration": 0,
    "start_time": "2022-10-11T18:00:22.603Z"
   }
  ],
  "kernelspec": {
   "display_name": "Python 3 (ipykernel)",
   "language": "python",
   "name": "python3"
  },
  "language_info": {
   "codemirror_mode": {
    "name": "ipython",
    "version": 3
   },
   "file_extension": ".py",
   "mimetype": "text/x-python",
   "name": "python",
   "nbconvert_exporter": "python",
   "pygments_lexer": "ipython3",
   "version": "3.9.7"
  },
  "toc": {
   "base_numbering": 1,
   "nav_menu": {},
   "number_sections": true,
   "sideBar": true,
   "skip_h1_title": true,
   "title_cell": "Содержание",
   "title_sidebar": "Contents",
   "toc_cell": true,
   "toc_position": {
    "height": "calc(100% - 180px)",
    "left": "10px",
    "top": "150px",
    "width": "233.688px"
   },
   "toc_section_display": true,
   "toc_window_display": true
  }
 },
 "nbformat": 4,
 "nbformat_minor": 2
}
