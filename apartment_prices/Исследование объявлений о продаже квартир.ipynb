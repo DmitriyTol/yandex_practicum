{
 "cells": [
  {
   "cell_type": "markdown",
   "metadata": {
    "toc": true
   },
   "source": [
    "<h1>Содержание<span class=\"tocSkip\"></span></h1>\n",
    "<div class=\"toc\"><ul class=\"toc-item\"><li><span><a href=\"#Изучение-данных-из-файла\" data-toc-modified-id=\"Изучение-данных-из-файла-1\"><span class=\"toc-item-num\">1&nbsp;&nbsp;</span>Изучение данных из файла</a></span><ul class=\"toc-item\"><li><span><a href=\"#Вывод\" data-toc-modified-id=\"Вывод-1.1\"><span class=\"toc-item-num\">1.1&nbsp;&nbsp;</span>Вывод</a></span></li></ul></li><li><span><a href=\"#Предобработка-данных\" data-toc-modified-id=\"Предобработка-данных-2\"><span class=\"toc-item-num\">2&nbsp;&nbsp;</span>Предобработка данных</a></span></li><li><span><a href=\"#Расчёты-и-добавление-результатов-в-таблицу\" data-toc-modified-id=\"Расчёты-и-добавление-результатов-в-таблицу-3\"><span class=\"toc-item-num\">3&nbsp;&nbsp;</span>Расчёты и добавление результатов в таблицу</a></span><ul class=\"toc-item\"><li><span><a href=\"#Оценим-параметры-датасета\" data-toc-modified-id=\"Оценим-параметры-датасета-3.1\"><span class=\"toc-item-num\">3.1&nbsp;&nbsp;</span>Оценим параметры датасета</a></span></li><li><span><a href=\"#Проверим-взаимосвязь-данных\" data-toc-modified-id=\"Проверим-взаимосвязь-данных-3.2\"><span class=\"toc-item-num\">3.2&nbsp;&nbsp;</span>Проверим взаимосвязь данных</a></span></li><li><span><a href=\"#Оценим-выборку-по-10-населённым-пунктам-с-наибольшим-числом-объявлений.\" data-toc-modified-id=\"Оценим-выборку-по-10-населённым-пунктам-с-наибольшим-числом-объявлений.-3.3\"><span class=\"toc-item-num\">3.3&nbsp;&nbsp;</span>Оценим выборку по 10 населённым пунктам с наибольшим числом объявлений.</a></span></li><li><span><a href=\"#Проанализируем-полученную-нами-выборку\" data-toc-modified-id=\"Проанализируем-полученную-нами-выборку-3.4\"><span class=\"toc-item-num\">3.4&nbsp;&nbsp;</span>Проанализируем полученную нами выборку</a></span></li></ul></li><li><span><a href=\"#Общий-вывод\" data-toc-modified-id=\"Общий-вывод-4\"><span class=\"toc-item-num\">4&nbsp;&nbsp;</span>Общий вывод</a></span></li><li><span><a href=\"#Чек-лист-готовности-проекта\" data-toc-modified-id=\"Чек-лист-готовности-проекта-5\"><span class=\"toc-item-num\">5&nbsp;&nbsp;</span>Чек-лист готовности проекта</a></span></li></ul></div>"
   ]
  },
  {
   "cell_type": "markdown",
   "metadata": {},
   "source": [
    "# Исследование объявлений о продаже квартир\n",
    "\n",
    "В вашем распоряжении данные сервиса Яндекc Недвижимость — архив объявлений о продаже квартир в Санкт-Петербурге и соседних населённых пунктах за несколько лет. Нужно научиться определять рыночную стоимость объектов недвижимости. Ваша задача — установить параметры. Это позволит построить автоматизированную систему: она отследит аномалии и мошенническую деятельность. \n",
    "\n",
    "По каждой квартире на продажу доступны два вида данных. Первые вписаны пользователем, вторые получены автоматически на основе картографических данных. Например, расстояние до центра, аэропорта, ближайшего парка и водоёма. \n",
    "Для этого нам нужно выполнить следующие шаги:\n",
    "1. Изучить данные\n",
    "2. Произвести предобработку данных\n",
    "3. Произвести анализ данных\n",
    "4. Сделать вывод по проделанной работе"
   ]
  },
  {
   "cell_type": "markdown",
   "metadata": {},
   "source": [
    "## Изучение данных из файла"
   ]
  },
  {
   "cell_type": "code",
   "execution_count": 53,
   "metadata": {},
   "outputs": [],
   "source": [
    "import pandas as pd\n",
    "import matplotlib.pyplot as plt"
   ]
  },
  {
   "cell_type": "code",
   "execution_count": 54,
   "metadata": {},
   "outputs": [
    {
     "name": "stdout",
     "output_type": "stream",
     "text": [
      "<class 'pandas.core.frame.DataFrame'>\n",
      "RangeIndex: 23699 entries, 0 to 23698\n",
      "Data columns (total 1 columns):\n",
      " #   Column                                                                                                                                                                                                                                                                                           Non-Null Count  Dtype \n",
      "---  ------                                                                                                                                                                                                                                                                                           --------------  ----- \n",
      " 0   total_images\tlast_price\ttotal_area\tfirst_day_exposition\trooms\tceiling_height\tfloors_total\tliving_area\tfloor\tis_apartment\tstudio\topen_plan\tkitchen_area\tbalcony\tlocality_name\tairports_nearest\tcityCenters_nearest\tparks_around3000\tparks_nearest\tponds_around3000\tponds_nearest\tdays_exposition  23699 non-null  object\n",
      "dtypes: object(1)\n",
      "memory usage: 185.3+ KB\n"
     ]
    },
    {
     "data": {
      "text/html": [
       "<div>\n",
       "<style scoped>\n",
       "    .dataframe tbody tr th:only-of-type {\n",
       "        vertical-align: middle;\n",
       "    }\n",
       "\n",
       "    .dataframe tbody tr th {\n",
       "        vertical-align: top;\n",
       "    }\n",
       "\n",
       "    .dataframe thead th {\n",
       "        text-align: right;\n",
       "    }\n",
       "</style>\n",
       "<table border=\"1\" class=\"dataframe\">\n",
       "  <thead>\n",
       "    <tr style=\"text-align: right;\">\n",
       "      <th></th>\n",
       "      <th>total_images\\tlast_price\\ttotal_area\\tfirst_day_exposition\\trooms\\tceiling_height\\tfloors_total\\tliving_area\\tfloor\\tis_apartment\\tstudio\\topen_plan\\tkitchen_area\\tbalcony\\tlocality_name\\tairports_nearest\\tcityCenters_nearest\\tparks_around3000\\tparks_nearest\\tponds_around3000\\tponds_nearest\\tdays_exposition</th>\n",
       "    </tr>\n",
       "  </thead>\n",
       "  <tbody>\n",
       "    <tr>\n",
       "      <th>0</th>\n",
       "      <td>20\\t13000000.0\\t108.0\\t2019-03-07T00:00:00\\t3\\...</td>\n",
       "    </tr>\n",
       "    <tr>\n",
       "      <th>1</th>\n",
       "      <td>7\\t3350000.0\\t40.4\\t2018-12-04T00:00:00\\t1\\t\\t...</td>\n",
       "    </tr>\n",
       "    <tr>\n",
       "      <th>2</th>\n",
       "      <td>10\\t5196000.0\\t56.0\\t2015-08-20T00:00:00\\t2\\t\\...</td>\n",
       "    </tr>\n",
       "    <tr>\n",
       "      <th>3</th>\n",
       "      <td>0\\t64900000.0\\t159.0\\t2015-07-24T00:00:00\\t3\\t...</td>\n",
       "    </tr>\n",
       "    <tr>\n",
       "      <th>4</th>\n",
       "      <td>2\\t10000000.0\\t100.0\\t2018-06-19T00:00:00\\t2\\t...</td>\n",
       "    </tr>\n",
       "  </tbody>\n",
       "</table>\n",
       "</div>"
      ],
      "text/plain": [
       "  total_images\\tlast_price\\ttotal_area\\tfirst_day_exposition\\trooms\\tceiling_height\\tfloors_total\\tliving_area\\tfloor\\tis_apartment\\tstudio\\topen_plan\\tkitchen_area\\tbalcony\\tlocality_name\\tairports_nearest\\tcityCenters_nearest\\tparks_around3000\\tparks_nearest\\tponds_around3000\\tponds_nearest\\tdays_exposition\n",
       "0  20\\t13000000.0\\t108.0\\t2019-03-07T00:00:00\\t3\\...                                                                                                                                                                                                                                                                  \n",
       "1  7\\t3350000.0\\t40.4\\t2018-12-04T00:00:00\\t1\\t\\t...                                                                                                                                                                                                                                                                  \n",
       "2  10\\t5196000.0\\t56.0\\t2015-08-20T00:00:00\\t2\\t\\...                                                                                                                                                                                                                                                                  \n",
       "3  0\\t64900000.0\\t159.0\\t2015-07-24T00:00:00\\t3\\t...                                                                                                                                                                                                                                                                  \n",
       "4  2\\t10000000.0\\t100.0\\t2018-06-19T00:00:00\\t2\\t...                                                                                                                                                                                                                                                                  "
      ]
     },
     "execution_count": 54,
     "metadata": {},
     "output_type": "execute_result"
    }
   ],
   "source": [
    "data = pd.read_csv('/datasets/real_estate_data.csv')\n",
    "data.info()\n",
    "data.head()"
   ]
  },
  {
   "cell_type": "markdown",
   "metadata": {},
   "source": [
    "Видим, что в датасете неправильный разделитель, исправим. После чего соберем основную информацию."
   ]
  },
  {
   "cell_type": "code",
   "execution_count": 55,
   "metadata": {},
   "outputs": [
    {
     "name": "stdout",
     "output_type": "stream",
     "text": [
      "<class 'pandas.core.frame.DataFrame'>\n",
      "RangeIndex: 23699 entries, 0 to 23698\n",
      "Data columns (total 22 columns):\n",
      " #   Column                Non-Null Count  Dtype  \n",
      "---  ------                --------------  -----  \n",
      " 0   total_images          23699 non-null  int64  \n",
      " 1   last_price            23699 non-null  float64\n",
      " 2   total_area            23699 non-null  float64\n",
      " 3   first_day_exposition  23699 non-null  object \n",
      " 4   rooms                 23699 non-null  int64  \n",
      " 5   ceiling_height        14504 non-null  float64\n",
      " 6   floors_total          23613 non-null  float64\n",
      " 7   living_area           21796 non-null  float64\n",
      " 8   floor                 23699 non-null  int64  \n",
      " 9   is_apartment          2775 non-null   object \n",
      " 10  studio                23699 non-null  bool   \n",
      " 11  open_plan             23699 non-null  bool   \n",
      " 12  kitchen_area          21421 non-null  float64\n",
      " 13  balcony               12180 non-null  float64\n",
      " 14  locality_name         23650 non-null  object \n",
      " 15  airports_nearest      18157 non-null  float64\n",
      " 16  cityCenters_nearest   18180 non-null  float64\n",
      " 17  parks_around3000      18181 non-null  float64\n",
      " 18  parks_nearest         8079 non-null   float64\n",
      " 19  ponds_around3000      18181 non-null  float64\n",
      " 20  ponds_nearest         9110 non-null   float64\n",
      " 21  days_exposition       20518 non-null  float64\n",
      "dtypes: bool(2), float64(14), int64(3), object(3)\n",
      "memory usage: 3.7+ MB\n"
     ]
    },
    {
     "data": {
      "text/html": [
       "<div>\n",
       "<style scoped>\n",
       "    .dataframe tbody tr th:only-of-type {\n",
       "        vertical-align: middle;\n",
       "    }\n",
       "\n",
       "    .dataframe tbody tr th {\n",
       "        vertical-align: top;\n",
       "    }\n",
       "\n",
       "    .dataframe thead th {\n",
       "        text-align: right;\n",
       "    }\n",
       "</style>\n",
       "<table border=\"1\" class=\"dataframe\">\n",
       "  <thead>\n",
       "    <tr style=\"text-align: right;\">\n",
       "      <th></th>\n",
       "      <th>total_images</th>\n",
       "      <th>last_price</th>\n",
       "      <th>total_area</th>\n",
       "      <th>first_day_exposition</th>\n",
       "      <th>rooms</th>\n",
       "      <th>ceiling_height</th>\n",
       "      <th>floors_total</th>\n",
       "      <th>living_area</th>\n",
       "      <th>floor</th>\n",
       "      <th>is_apartment</th>\n",
       "      <th>...</th>\n",
       "      <th>kitchen_area</th>\n",
       "      <th>balcony</th>\n",
       "      <th>locality_name</th>\n",
       "      <th>airports_nearest</th>\n",
       "      <th>cityCenters_nearest</th>\n",
       "      <th>parks_around3000</th>\n",
       "      <th>parks_nearest</th>\n",
       "      <th>ponds_around3000</th>\n",
       "      <th>ponds_nearest</th>\n",
       "      <th>days_exposition</th>\n",
       "    </tr>\n",
       "  </thead>\n",
       "  <tbody>\n",
       "    <tr>\n",
       "      <th>0</th>\n",
       "      <td>20</td>\n",
       "      <td>13000000.0</td>\n",
       "      <td>108.00</td>\n",
       "      <td>2019-03-07T00:00:00</td>\n",
       "      <td>3</td>\n",
       "      <td>2.70</td>\n",
       "      <td>16.0</td>\n",
       "      <td>51.00</td>\n",
       "      <td>8</td>\n",
       "      <td>NaN</td>\n",
       "      <td>...</td>\n",
       "      <td>25.00</td>\n",
       "      <td>NaN</td>\n",
       "      <td>Санкт-Петербург</td>\n",
       "      <td>18863.0</td>\n",
       "      <td>16028.0</td>\n",
       "      <td>1.0</td>\n",
       "      <td>482.0</td>\n",
       "      <td>2.0</td>\n",
       "      <td>755.0</td>\n",
       "      <td>NaN</td>\n",
       "    </tr>\n",
       "    <tr>\n",
       "      <th>1</th>\n",
       "      <td>7</td>\n",
       "      <td>3350000.0</td>\n",
       "      <td>40.40</td>\n",
       "      <td>2018-12-04T00:00:00</td>\n",
       "      <td>1</td>\n",
       "      <td>NaN</td>\n",
       "      <td>11.0</td>\n",
       "      <td>18.60</td>\n",
       "      <td>1</td>\n",
       "      <td>NaN</td>\n",
       "      <td>...</td>\n",
       "      <td>11.00</td>\n",
       "      <td>2.0</td>\n",
       "      <td>посёлок Шушары</td>\n",
       "      <td>12817.0</td>\n",
       "      <td>18603.0</td>\n",
       "      <td>0.0</td>\n",
       "      <td>NaN</td>\n",
       "      <td>0.0</td>\n",
       "      <td>NaN</td>\n",
       "      <td>81.0</td>\n",
       "    </tr>\n",
       "    <tr>\n",
       "      <th>2</th>\n",
       "      <td>10</td>\n",
       "      <td>5196000.0</td>\n",
       "      <td>56.00</td>\n",
       "      <td>2015-08-20T00:00:00</td>\n",
       "      <td>2</td>\n",
       "      <td>NaN</td>\n",
       "      <td>5.0</td>\n",
       "      <td>34.30</td>\n",
       "      <td>4</td>\n",
       "      <td>NaN</td>\n",
       "      <td>...</td>\n",
       "      <td>8.30</td>\n",
       "      <td>0.0</td>\n",
       "      <td>Санкт-Петербург</td>\n",
       "      <td>21741.0</td>\n",
       "      <td>13933.0</td>\n",
       "      <td>1.0</td>\n",
       "      <td>90.0</td>\n",
       "      <td>2.0</td>\n",
       "      <td>574.0</td>\n",
       "      <td>558.0</td>\n",
       "    </tr>\n",
       "    <tr>\n",
       "      <th>3</th>\n",
       "      <td>0</td>\n",
       "      <td>64900000.0</td>\n",
       "      <td>159.00</td>\n",
       "      <td>2015-07-24T00:00:00</td>\n",
       "      <td>3</td>\n",
       "      <td>NaN</td>\n",
       "      <td>14.0</td>\n",
       "      <td>NaN</td>\n",
       "      <td>9</td>\n",
       "      <td>NaN</td>\n",
       "      <td>...</td>\n",
       "      <td>NaN</td>\n",
       "      <td>0.0</td>\n",
       "      <td>Санкт-Петербург</td>\n",
       "      <td>28098.0</td>\n",
       "      <td>6800.0</td>\n",
       "      <td>2.0</td>\n",
       "      <td>84.0</td>\n",
       "      <td>3.0</td>\n",
       "      <td>234.0</td>\n",
       "      <td>424.0</td>\n",
       "    </tr>\n",
       "    <tr>\n",
       "      <th>4</th>\n",
       "      <td>2</td>\n",
       "      <td>10000000.0</td>\n",
       "      <td>100.00</td>\n",
       "      <td>2018-06-19T00:00:00</td>\n",
       "      <td>2</td>\n",
       "      <td>3.03</td>\n",
       "      <td>14.0</td>\n",
       "      <td>32.00</td>\n",
       "      <td>13</td>\n",
       "      <td>NaN</td>\n",
       "      <td>...</td>\n",
       "      <td>41.00</td>\n",
       "      <td>NaN</td>\n",
       "      <td>Санкт-Петербург</td>\n",
       "      <td>31856.0</td>\n",
       "      <td>8098.0</td>\n",
       "      <td>2.0</td>\n",
       "      <td>112.0</td>\n",
       "      <td>1.0</td>\n",
       "      <td>48.0</td>\n",
       "      <td>121.0</td>\n",
       "    </tr>\n",
       "    <tr>\n",
       "      <th>5</th>\n",
       "      <td>10</td>\n",
       "      <td>2890000.0</td>\n",
       "      <td>30.40</td>\n",
       "      <td>2018-09-10T00:00:00</td>\n",
       "      <td>1</td>\n",
       "      <td>NaN</td>\n",
       "      <td>12.0</td>\n",
       "      <td>14.40</td>\n",
       "      <td>5</td>\n",
       "      <td>NaN</td>\n",
       "      <td>...</td>\n",
       "      <td>9.10</td>\n",
       "      <td>NaN</td>\n",
       "      <td>городской посёлок Янино-1</td>\n",
       "      <td>NaN</td>\n",
       "      <td>NaN</td>\n",
       "      <td>NaN</td>\n",
       "      <td>NaN</td>\n",
       "      <td>NaN</td>\n",
       "      <td>NaN</td>\n",
       "      <td>55.0</td>\n",
       "    </tr>\n",
       "    <tr>\n",
       "      <th>6</th>\n",
       "      <td>6</td>\n",
       "      <td>3700000.0</td>\n",
       "      <td>37.30</td>\n",
       "      <td>2017-11-02T00:00:00</td>\n",
       "      <td>1</td>\n",
       "      <td>NaN</td>\n",
       "      <td>26.0</td>\n",
       "      <td>10.60</td>\n",
       "      <td>6</td>\n",
       "      <td>NaN</td>\n",
       "      <td>...</td>\n",
       "      <td>14.40</td>\n",
       "      <td>1.0</td>\n",
       "      <td>посёлок Парголово</td>\n",
       "      <td>52996.0</td>\n",
       "      <td>19143.0</td>\n",
       "      <td>0.0</td>\n",
       "      <td>NaN</td>\n",
       "      <td>0.0</td>\n",
       "      <td>NaN</td>\n",
       "      <td>155.0</td>\n",
       "    </tr>\n",
       "    <tr>\n",
       "      <th>7</th>\n",
       "      <td>5</td>\n",
       "      <td>7915000.0</td>\n",
       "      <td>71.60</td>\n",
       "      <td>2019-04-18T00:00:00</td>\n",
       "      <td>2</td>\n",
       "      <td>NaN</td>\n",
       "      <td>24.0</td>\n",
       "      <td>NaN</td>\n",
       "      <td>22</td>\n",
       "      <td>NaN</td>\n",
       "      <td>...</td>\n",
       "      <td>18.90</td>\n",
       "      <td>2.0</td>\n",
       "      <td>Санкт-Петербург</td>\n",
       "      <td>23982.0</td>\n",
       "      <td>11634.0</td>\n",
       "      <td>0.0</td>\n",
       "      <td>NaN</td>\n",
       "      <td>0.0</td>\n",
       "      <td>NaN</td>\n",
       "      <td>NaN</td>\n",
       "    </tr>\n",
       "    <tr>\n",
       "      <th>8</th>\n",
       "      <td>20</td>\n",
       "      <td>2900000.0</td>\n",
       "      <td>33.16</td>\n",
       "      <td>2018-05-23T00:00:00</td>\n",
       "      <td>1</td>\n",
       "      <td>NaN</td>\n",
       "      <td>27.0</td>\n",
       "      <td>15.43</td>\n",
       "      <td>26</td>\n",
       "      <td>NaN</td>\n",
       "      <td>...</td>\n",
       "      <td>8.81</td>\n",
       "      <td>NaN</td>\n",
       "      <td>посёлок Мурино</td>\n",
       "      <td>NaN</td>\n",
       "      <td>NaN</td>\n",
       "      <td>NaN</td>\n",
       "      <td>NaN</td>\n",
       "      <td>NaN</td>\n",
       "      <td>NaN</td>\n",
       "      <td>189.0</td>\n",
       "    </tr>\n",
       "    <tr>\n",
       "      <th>9</th>\n",
       "      <td>18</td>\n",
       "      <td>5400000.0</td>\n",
       "      <td>61.00</td>\n",
       "      <td>2017-02-26T00:00:00</td>\n",
       "      <td>3</td>\n",
       "      <td>2.50</td>\n",
       "      <td>9.0</td>\n",
       "      <td>43.60</td>\n",
       "      <td>7</td>\n",
       "      <td>NaN</td>\n",
       "      <td>...</td>\n",
       "      <td>6.50</td>\n",
       "      <td>2.0</td>\n",
       "      <td>Санкт-Петербург</td>\n",
       "      <td>50898.0</td>\n",
       "      <td>15008.0</td>\n",
       "      <td>0.0</td>\n",
       "      <td>NaN</td>\n",
       "      <td>0.0</td>\n",
       "      <td>NaN</td>\n",
       "      <td>289.0</td>\n",
       "    </tr>\n",
       "    <tr>\n",
       "      <th>10</th>\n",
       "      <td>5</td>\n",
       "      <td>5050000.0</td>\n",
       "      <td>39.60</td>\n",
       "      <td>2017-11-16T00:00:00</td>\n",
       "      <td>1</td>\n",
       "      <td>2.67</td>\n",
       "      <td>12.0</td>\n",
       "      <td>20.30</td>\n",
       "      <td>3</td>\n",
       "      <td>NaN</td>\n",
       "      <td>...</td>\n",
       "      <td>8.50</td>\n",
       "      <td>NaN</td>\n",
       "      <td>Санкт-Петербург</td>\n",
       "      <td>38357.0</td>\n",
       "      <td>13878.0</td>\n",
       "      <td>1.0</td>\n",
       "      <td>310.0</td>\n",
       "      <td>2.0</td>\n",
       "      <td>553.0</td>\n",
       "      <td>137.0</td>\n",
       "    </tr>\n",
       "    <tr>\n",
       "      <th>11</th>\n",
       "      <td>9</td>\n",
       "      <td>3300000.0</td>\n",
       "      <td>44.00</td>\n",
       "      <td>2018-08-27T00:00:00</td>\n",
       "      <td>2</td>\n",
       "      <td>NaN</td>\n",
       "      <td>5.0</td>\n",
       "      <td>31.00</td>\n",
       "      <td>4</td>\n",
       "      <td>False</td>\n",
       "      <td>...</td>\n",
       "      <td>6.00</td>\n",
       "      <td>1.0</td>\n",
       "      <td>Ломоносов</td>\n",
       "      <td>48252.0</td>\n",
       "      <td>51677.0</td>\n",
       "      <td>0.0</td>\n",
       "      <td>NaN</td>\n",
       "      <td>0.0</td>\n",
       "      <td>NaN</td>\n",
       "      <td>7.0</td>\n",
       "    </tr>\n",
       "    <tr>\n",
       "      <th>12</th>\n",
       "      <td>10</td>\n",
       "      <td>3890000.0</td>\n",
       "      <td>54.00</td>\n",
       "      <td>2016-06-30T00:00:00</td>\n",
       "      <td>2</td>\n",
       "      <td>NaN</td>\n",
       "      <td>5.0</td>\n",
       "      <td>30.00</td>\n",
       "      <td>5</td>\n",
       "      <td>NaN</td>\n",
       "      <td>...</td>\n",
       "      <td>9.00</td>\n",
       "      <td>0.0</td>\n",
       "      <td>Сертолово</td>\n",
       "      <td>NaN</td>\n",
       "      <td>NaN</td>\n",
       "      <td>NaN</td>\n",
       "      <td>NaN</td>\n",
       "      <td>NaN</td>\n",
       "      <td>NaN</td>\n",
       "      <td>90.0</td>\n",
       "    </tr>\n",
       "    <tr>\n",
       "      <th>13</th>\n",
       "      <td>20</td>\n",
       "      <td>3550000.0</td>\n",
       "      <td>42.80</td>\n",
       "      <td>2017-07-01T00:00:00</td>\n",
       "      <td>2</td>\n",
       "      <td>2.56</td>\n",
       "      <td>5.0</td>\n",
       "      <td>27.00</td>\n",
       "      <td>5</td>\n",
       "      <td>NaN</td>\n",
       "      <td>...</td>\n",
       "      <td>5.20</td>\n",
       "      <td>1.0</td>\n",
       "      <td>Петергоф</td>\n",
       "      <td>37868.0</td>\n",
       "      <td>33058.0</td>\n",
       "      <td>1.0</td>\n",
       "      <td>294.0</td>\n",
       "      <td>3.0</td>\n",
       "      <td>298.0</td>\n",
       "      <td>366.0</td>\n",
       "    </tr>\n",
       "    <tr>\n",
       "      <th>14</th>\n",
       "      <td>1</td>\n",
       "      <td>4400000.0</td>\n",
       "      <td>36.00</td>\n",
       "      <td>2016-06-23T00:00:00</td>\n",
       "      <td>1</td>\n",
       "      <td>NaN</td>\n",
       "      <td>6.0</td>\n",
       "      <td>17.00</td>\n",
       "      <td>1</td>\n",
       "      <td>NaN</td>\n",
       "      <td>...</td>\n",
       "      <td>8.00</td>\n",
       "      <td>0.0</td>\n",
       "      <td>Пушкин</td>\n",
       "      <td>20782.0</td>\n",
       "      <td>30759.0</td>\n",
       "      <td>0.0</td>\n",
       "      <td>NaN</td>\n",
       "      <td>1.0</td>\n",
       "      <td>96.0</td>\n",
       "      <td>203.0</td>\n",
       "    </tr>\n",
       "    <tr>\n",
       "      <th>15</th>\n",
       "      <td>16</td>\n",
       "      <td>4650000.0</td>\n",
       "      <td>39.00</td>\n",
       "      <td>2017-11-18T00:00:00</td>\n",
       "      <td>1</td>\n",
       "      <td>NaN</td>\n",
       "      <td>14.0</td>\n",
       "      <td>20.50</td>\n",
       "      <td>5</td>\n",
       "      <td>NaN</td>\n",
       "      <td>...</td>\n",
       "      <td>7.60</td>\n",
       "      <td>1.0</td>\n",
       "      <td>Санкт-Петербург</td>\n",
       "      <td>12900.0</td>\n",
       "      <td>14259.0</td>\n",
       "      <td>1.0</td>\n",
       "      <td>590.0</td>\n",
       "      <td>1.0</td>\n",
       "      <td>296.0</td>\n",
       "      <td>19.0</td>\n",
       "    </tr>\n",
       "    <tr>\n",
       "      <th>16</th>\n",
       "      <td>11</td>\n",
       "      <td>6700000.0</td>\n",
       "      <td>82.00</td>\n",
       "      <td>2017-11-23T00:00:00</td>\n",
       "      <td>3</td>\n",
       "      <td>3.05</td>\n",
       "      <td>5.0</td>\n",
       "      <td>55.60</td>\n",
       "      <td>1</td>\n",
       "      <td>NaN</td>\n",
       "      <td>...</td>\n",
       "      <td>9.00</td>\n",
       "      <td>NaN</td>\n",
       "      <td>Санкт-Петербург</td>\n",
       "      <td>22108.0</td>\n",
       "      <td>10698.0</td>\n",
       "      <td>3.0</td>\n",
       "      <td>420.0</td>\n",
       "      <td>0.0</td>\n",
       "      <td>NaN</td>\n",
       "      <td>397.0</td>\n",
       "    </tr>\n",
       "    <tr>\n",
       "      <th>17</th>\n",
       "      <td>6</td>\n",
       "      <td>4180000.0</td>\n",
       "      <td>36.00</td>\n",
       "      <td>2016-09-09T00:00:00</td>\n",
       "      <td>1</td>\n",
       "      <td>NaN</td>\n",
       "      <td>17.0</td>\n",
       "      <td>16.50</td>\n",
       "      <td>7</td>\n",
       "      <td>NaN</td>\n",
       "      <td>...</td>\n",
       "      <td>11.00</td>\n",
       "      <td>1.0</td>\n",
       "      <td>Санкт-Петербург</td>\n",
       "      <td>33564.0</td>\n",
       "      <td>14616.0</td>\n",
       "      <td>0.0</td>\n",
       "      <td>NaN</td>\n",
       "      <td>1.0</td>\n",
       "      <td>859.0</td>\n",
       "      <td>571.0</td>\n",
       "    </tr>\n",
       "    <tr>\n",
       "      <th>18</th>\n",
       "      <td>8</td>\n",
       "      <td>3250000.0</td>\n",
       "      <td>31.00</td>\n",
       "      <td>2017-01-27T00:00:00</td>\n",
       "      <td>1</td>\n",
       "      <td>2.50</td>\n",
       "      <td>5.0</td>\n",
       "      <td>19.40</td>\n",
       "      <td>2</td>\n",
       "      <td>NaN</td>\n",
       "      <td>...</td>\n",
       "      <td>5.60</td>\n",
       "      <td>1.0</td>\n",
       "      <td>Санкт-Петербург</td>\n",
       "      <td>44060.0</td>\n",
       "      <td>10842.0</td>\n",
       "      <td>1.0</td>\n",
       "      <td>759.0</td>\n",
       "      <td>0.0</td>\n",
       "      <td>NaN</td>\n",
       "      <td>168.0</td>\n",
       "    </tr>\n",
       "    <tr>\n",
       "      <th>19</th>\n",
       "      <td>16</td>\n",
       "      <td>14200000.0</td>\n",
       "      <td>121.00</td>\n",
       "      <td>2019-01-09T00:00:00</td>\n",
       "      <td>3</td>\n",
       "      <td>2.75</td>\n",
       "      <td>16.0</td>\n",
       "      <td>76.00</td>\n",
       "      <td>8</td>\n",
       "      <td>NaN</td>\n",
       "      <td>...</td>\n",
       "      <td>12.00</td>\n",
       "      <td>NaN</td>\n",
       "      <td>Санкт-Петербург</td>\n",
       "      <td>38900.0</td>\n",
       "      <td>12843.0</td>\n",
       "      <td>0.0</td>\n",
       "      <td>NaN</td>\n",
       "      <td>0.0</td>\n",
       "      <td>NaN</td>\n",
       "      <td>97.0</td>\n",
       "    </tr>\n",
       "    <tr>\n",
       "      <th>20</th>\n",
       "      <td>12</td>\n",
       "      <td>6120000.0</td>\n",
       "      <td>80.00</td>\n",
       "      <td>2017-09-28T00:00:00</td>\n",
       "      <td>3</td>\n",
       "      <td>2.70</td>\n",
       "      <td>27.0</td>\n",
       "      <td>48.00</td>\n",
       "      <td>11</td>\n",
       "      <td>NaN</td>\n",
       "      <td>...</td>\n",
       "      <td>12.00</td>\n",
       "      <td>2.0</td>\n",
       "      <td>посёлок Парголово</td>\n",
       "      <td>53134.0</td>\n",
       "      <td>19311.0</td>\n",
       "      <td>0.0</td>\n",
       "      <td>NaN</td>\n",
       "      <td>0.0</td>\n",
       "      <td>NaN</td>\n",
       "      <td>74.0</td>\n",
       "    </tr>\n",
       "    <tr>\n",
       "      <th>21</th>\n",
       "      <td>13</td>\n",
       "      <td>3200000.0</td>\n",
       "      <td>31.60</td>\n",
       "      <td>2018-03-14T00:00:00</td>\n",
       "      <td>1</td>\n",
       "      <td>NaN</td>\n",
       "      <td>5.0</td>\n",
       "      <td>16.90</td>\n",
       "      <td>2</td>\n",
       "      <td>NaN</td>\n",
       "      <td>...</td>\n",
       "      <td>5.70</td>\n",
       "      <td>1.0</td>\n",
       "      <td>Санкт-Петербург</td>\n",
       "      <td>36064.0</td>\n",
       "      <td>9722.0</td>\n",
       "      <td>1.0</td>\n",
       "      <td>248.0</td>\n",
       "      <td>0.0</td>\n",
       "      <td>NaN</td>\n",
       "      <td>310.0</td>\n",
       "    </tr>\n",
       "    <tr>\n",
       "      <th>22</th>\n",
       "      <td>20</td>\n",
       "      <td>5000000.0</td>\n",
       "      <td>58.00</td>\n",
       "      <td>2017-04-24T00:00:00</td>\n",
       "      <td>2</td>\n",
       "      <td>2.75</td>\n",
       "      <td>25.0</td>\n",
       "      <td>30.00</td>\n",
       "      <td>15</td>\n",
       "      <td>NaN</td>\n",
       "      <td>...</td>\n",
       "      <td>11.00</td>\n",
       "      <td>2.0</td>\n",
       "      <td>деревня Кудрово</td>\n",
       "      <td>NaN</td>\n",
       "      <td>NaN</td>\n",
       "      <td>NaN</td>\n",
       "      <td>NaN</td>\n",
       "      <td>NaN</td>\n",
       "      <td>NaN</td>\n",
       "      <td>60.0</td>\n",
       "    </tr>\n",
       "    <tr>\n",
       "      <th>23</th>\n",
       "      <td>11</td>\n",
       "      <td>2950000.0</td>\n",
       "      <td>32.00</td>\n",
       "      <td>2016-10-29T00:00:00</td>\n",
       "      <td>1</td>\n",
       "      <td>2.60</td>\n",
       "      <td>9.0</td>\n",
       "      <td>17.70</td>\n",
       "      <td>9</td>\n",
       "      <td>NaN</td>\n",
       "      <td>...</td>\n",
       "      <td>6.10</td>\n",
       "      <td>NaN</td>\n",
       "      <td>Санкт-Петербург</td>\n",
       "      <td>15414.0</td>\n",
       "      <td>14211.0</td>\n",
       "      <td>2.0</td>\n",
       "      <td>517.0</td>\n",
       "      <td>1.0</td>\n",
       "      <td>190.0</td>\n",
       "      <td>615.0</td>\n",
       "    </tr>\n",
       "    <tr>\n",
       "      <th>24</th>\n",
       "      <td>8</td>\n",
       "      <td>6500000.0</td>\n",
       "      <td>97.20</td>\n",
       "      <td>2015-10-31T00:00:00</td>\n",
       "      <td>2</td>\n",
       "      <td>NaN</td>\n",
       "      <td>3.0</td>\n",
       "      <td>46.50</td>\n",
       "      <td>1</td>\n",
       "      <td>NaN</td>\n",
       "      <td>...</td>\n",
       "      <td>19.60</td>\n",
       "      <td>0.0</td>\n",
       "      <td>Санкт-Петербург</td>\n",
       "      <td>20052.0</td>\n",
       "      <td>2336.0</td>\n",
       "      <td>3.0</td>\n",
       "      <td>411.0</td>\n",
       "      <td>3.0</td>\n",
       "      <td>124.0</td>\n",
       "      <td>265.0</td>\n",
       "    </tr>\n",
       "    <tr>\n",
       "      <th>25</th>\n",
       "      <td>3</td>\n",
       "      <td>6800000.0</td>\n",
       "      <td>76.00</td>\n",
       "      <td>2015-10-01T00:00:00</td>\n",
       "      <td>2</td>\n",
       "      <td>2.75</td>\n",
       "      <td>23.0</td>\n",
       "      <td>39.00</td>\n",
       "      <td>18</td>\n",
       "      <td>False</td>\n",
       "      <td>...</td>\n",
       "      <td>15.00</td>\n",
       "      <td>2.0</td>\n",
       "      <td>Санкт-Петербург</td>\n",
       "      <td>34967.0</td>\n",
       "      <td>14640.0</td>\n",
       "      <td>0.0</td>\n",
       "      <td>NaN</td>\n",
       "      <td>1.0</td>\n",
       "      <td>564.0</td>\n",
       "      <td>300.0</td>\n",
       "    </tr>\n",
       "    <tr>\n",
       "      <th>26</th>\n",
       "      <td>6</td>\n",
       "      <td>4050000.0</td>\n",
       "      <td>60.00</td>\n",
       "      <td>2017-04-28T00:00:00</td>\n",
       "      <td>4</td>\n",
       "      <td>NaN</td>\n",
       "      <td>5.0</td>\n",
       "      <td>43.00</td>\n",
       "      <td>4</td>\n",
       "      <td>NaN</td>\n",
       "      <td>...</td>\n",
       "      <td>7.00</td>\n",
       "      <td>NaN</td>\n",
       "      <td>Санкт-Петербург</td>\n",
       "      <td>11580.0</td>\n",
       "      <td>10510.0</td>\n",
       "      <td>0.0</td>\n",
       "      <td>NaN</td>\n",
       "      <td>1.0</td>\n",
       "      <td>95.0</td>\n",
       "      <td>265.0</td>\n",
       "    </tr>\n",
       "    <tr>\n",
       "      <th>27</th>\n",
       "      <td>20</td>\n",
       "      <td>7100000.0</td>\n",
       "      <td>70.00</td>\n",
       "      <td>2017-05-12T00:00:00</td>\n",
       "      <td>3</td>\n",
       "      <td>2.60</td>\n",
       "      <td>17.0</td>\n",
       "      <td>49.00</td>\n",
       "      <td>11</td>\n",
       "      <td>NaN</td>\n",
       "      <td>...</td>\n",
       "      <td>9.20</td>\n",
       "      <td>0.0</td>\n",
       "      <td>Санкт-Петербург</td>\n",
       "      <td>29197.0</td>\n",
       "      <td>11456.0</td>\n",
       "      <td>2.0</td>\n",
       "      <td>452.0</td>\n",
       "      <td>1.0</td>\n",
       "      <td>779.0</td>\n",
       "      <td>151.0</td>\n",
       "    </tr>\n",
       "    <tr>\n",
       "      <th>28</th>\n",
       "      <td>8</td>\n",
       "      <td>4170000.0</td>\n",
       "      <td>44.00</td>\n",
       "      <td>2017-12-13T00:00:00</td>\n",
       "      <td>1</td>\n",
       "      <td>2.90</td>\n",
       "      <td>6.0</td>\n",
       "      <td>20.80</td>\n",
       "      <td>1</td>\n",
       "      <td>NaN</td>\n",
       "      <td>...</td>\n",
       "      <td>11.70</td>\n",
       "      <td>1.0</td>\n",
       "      <td>Пушкин</td>\n",
       "      <td>18557.0</td>\n",
       "      <td>30710.0</td>\n",
       "      <td>0.0</td>\n",
       "      <td>NaN</td>\n",
       "      <td>1.0</td>\n",
       "      <td>118.0</td>\n",
       "      <td>74.0</td>\n",
       "    </tr>\n",
       "    <tr>\n",
       "      <th>29</th>\n",
       "      <td>9</td>\n",
       "      <td>8600000.0</td>\n",
       "      <td>100.00</td>\n",
       "      <td>2016-04-09T00:00:00</td>\n",
       "      <td>3</td>\n",
       "      <td>NaN</td>\n",
       "      <td>19.0</td>\n",
       "      <td>52.00</td>\n",
       "      <td>15</td>\n",
       "      <td>False</td>\n",
       "      <td>...</td>\n",
       "      <td>11.00</td>\n",
       "      <td>0.0</td>\n",
       "      <td>Санкт-Петербург</td>\n",
       "      <td>30394.0</td>\n",
       "      <td>11526.0</td>\n",
       "      <td>1.0</td>\n",
       "      <td>532.0</td>\n",
       "      <td>1.0</td>\n",
       "      <td>896.0</td>\n",
       "      <td>125.0</td>\n",
       "    </tr>\n",
       "    <tr>\n",
       "      <th>30</th>\n",
       "      <td>12</td>\n",
       "      <td>2200000.0</td>\n",
       "      <td>32.80</td>\n",
       "      <td>2018-02-19T00:00:00</td>\n",
       "      <td>1</td>\n",
       "      <td>NaN</td>\n",
       "      <td>9.0</td>\n",
       "      <td>NaN</td>\n",
       "      <td>2</td>\n",
       "      <td>NaN</td>\n",
       "      <td>...</td>\n",
       "      <td>NaN</td>\n",
       "      <td>NaN</td>\n",
       "      <td>Коммунар</td>\n",
       "      <td>NaN</td>\n",
       "      <td>NaN</td>\n",
       "      <td>NaN</td>\n",
       "      <td>NaN</td>\n",
       "      <td>NaN</td>\n",
       "      <td>NaN</td>\n",
       "      <td>63.0</td>\n",
       "    </tr>\n",
       "    <tr>\n",
       "      <th>31</th>\n",
       "      <td>8</td>\n",
       "      <td>7200000.0</td>\n",
       "      <td>67.90</td>\n",
       "      <td>2017-10-26T00:00:00</td>\n",
       "      <td>2</td>\n",
       "      <td>2.80</td>\n",
       "      <td>16.0</td>\n",
       "      <td>38.10</td>\n",
       "      <td>4</td>\n",
       "      <td>NaN</td>\n",
       "      <td>...</td>\n",
       "      <td>13.40</td>\n",
       "      <td>2.0</td>\n",
       "      <td>Санкт-Петербург</td>\n",
       "      <td>32888.0</td>\n",
       "      <td>12944.0</td>\n",
       "      <td>0.0</td>\n",
       "      <td>NaN</td>\n",
       "      <td>0.0</td>\n",
       "      <td>NaN</td>\n",
       "      <td>112.0</td>\n",
       "    </tr>\n",
       "    <tr>\n",
       "      <th>32</th>\n",
       "      <td>7</td>\n",
       "      <td>4990000.0</td>\n",
       "      <td>60.00</td>\n",
       "      <td>2016-05-22T00:00:00</td>\n",
       "      <td>3</td>\n",
       "      <td>NaN</td>\n",
       "      <td>5.0</td>\n",
       "      <td>39.00</td>\n",
       "      <td>4</td>\n",
       "      <td>NaN</td>\n",
       "      <td>...</td>\n",
       "      <td>6.00</td>\n",
       "      <td>0.0</td>\n",
       "      <td>Санкт-Петербург</td>\n",
       "      <td>11349.0</td>\n",
       "      <td>12889.0</td>\n",
       "      <td>0.0</td>\n",
       "      <td>NaN</td>\n",
       "      <td>1.0</td>\n",
       "      <td>426.0</td>\n",
       "      <td>224.0</td>\n",
       "    </tr>\n",
       "    <tr>\n",
       "      <th>33</th>\n",
       "      <td>8</td>\n",
       "      <td>4800000.0</td>\n",
       "      <td>73.00</td>\n",
       "      <td>2018-10-15T00:00:00</td>\n",
       "      <td>4</td>\n",
       "      <td>NaN</td>\n",
       "      <td>9.0</td>\n",
       "      <td>51.60</td>\n",
       "      <td>5</td>\n",
       "      <td>NaN</td>\n",
       "      <td>...</td>\n",
       "      <td>6.50</td>\n",
       "      <td>NaN</td>\n",
       "      <td>Колпино</td>\n",
       "      <td>26535.0</td>\n",
       "      <td>32321.0</td>\n",
       "      <td>0.0</td>\n",
       "      <td>NaN</td>\n",
       "      <td>0.0</td>\n",
       "      <td>NaN</td>\n",
       "      <td>92.0</td>\n",
       "    </tr>\n",
       "    <tr>\n",
       "      <th>34</th>\n",
       "      <td>3</td>\n",
       "      <td>3290000.0</td>\n",
       "      <td>33.00</td>\n",
       "      <td>2018-02-04T00:00:00</td>\n",
       "      <td>1</td>\n",
       "      <td>2.55</td>\n",
       "      <td>16.0</td>\n",
       "      <td>14.00</td>\n",
       "      <td>3</td>\n",
       "      <td>NaN</td>\n",
       "      <td>...</td>\n",
       "      <td>8.00</td>\n",
       "      <td>NaN</td>\n",
       "      <td>Санкт-Петербург</td>\n",
       "      <td>13943.0</td>\n",
       "      <td>12739.0</td>\n",
       "      <td>0.0</td>\n",
       "      <td>NaN</td>\n",
       "      <td>0.0</td>\n",
       "      <td>NaN</td>\n",
       "      <td>15.0</td>\n",
       "    </tr>\n",
       "    <tr>\n",
       "      <th>35</th>\n",
       "      <td>6</td>\n",
       "      <td>15500000.0</td>\n",
       "      <td>149.00</td>\n",
       "      <td>2017-06-26T00:00:00</td>\n",
       "      <td>5</td>\n",
       "      <td>NaN</td>\n",
       "      <td>5.0</td>\n",
       "      <td>104.00</td>\n",
       "      <td>4</td>\n",
       "      <td>NaN</td>\n",
       "      <td>...</td>\n",
       "      <td>17.00</td>\n",
       "      <td>NaN</td>\n",
       "      <td>Санкт-Петербург</td>\n",
       "      <td>23670.0</td>\n",
       "      <td>3502.0</td>\n",
       "      <td>0.0</td>\n",
       "      <td>NaN</td>\n",
       "      <td>1.0</td>\n",
       "      <td>779.0</td>\n",
       "      <td>644.0</td>\n",
       "    </tr>\n",
       "    <tr>\n",
       "      <th>36</th>\n",
       "      <td>13</td>\n",
       "      <td>3790000.0</td>\n",
       "      <td>45.00</td>\n",
       "      <td>2017-01-25T00:00:00</td>\n",
       "      <td>2</td>\n",
       "      <td>NaN</td>\n",
       "      <td>9.0</td>\n",
       "      <td>27.00</td>\n",
       "      <td>9</td>\n",
       "      <td>False</td>\n",
       "      <td>...</td>\n",
       "      <td>6.30</td>\n",
       "      <td>2.0</td>\n",
       "      <td>Санкт-Петербург</td>\n",
       "      <td>49574.0</td>\n",
       "      <td>16461.0</td>\n",
       "      <td>1.0</td>\n",
       "      <td>459.0</td>\n",
       "      <td>0.0</td>\n",
       "      <td>NaN</td>\n",
       "      <td>139.0</td>\n",
       "    </tr>\n",
       "    <tr>\n",
       "      <th>37</th>\n",
       "      <td>10</td>\n",
       "      <td>1990000.0</td>\n",
       "      <td>45.80</td>\n",
       "      <td>2017-10-28T00:00:00</td>\n",
       "      <td>2</td>\n",
       "      <td>2.50</td>\n",
       "      <td>5.0</td>\n",
       "      <td>NaN</td>\n",
       "      <td>1</td>\n",
       "      <td>NaN</td>\n",
       "      <td>...</td>\n",
       "      <td>NaN</td>\n",
       "      <td>NaN</td>\n",
       "      <td>поселок городского типа Красный Бор</td>\n",
       "      <td>NaN</td>\n",
       "      <td>NaN</td>\n",
       "      <td>NaN</td>\n",
       "      <td>NaN</td>\n",
       "      <td>NaN</td>\n",
       "      <td>NaN</td>\n",
       "      <td>196.0</td>\n",
       "    </tr>\n",
       "    <tr>\n",
       "      <th>38</th>\n",
       "      <td>10</td>\n",
       "      <td>3150000.0</td>\n",
       "      <td>40.00</td>\n",
       "      <td>2018-03-29T00:00:00</td>\n",
       "      <td>1</td>\n",
       "      <td>2.75</td>\n",
       "      <td>18.0</td>\n",
       "      <td>16.30</td>\n",
       "      <td>9</td>\n",
       "      <td>NaN</td>\n",
       "      <td>...</td>\n",
       "      <td>11.60</td>\n",
       "      <td>NaN</td>\n",
       "      <td>посёлок Мурино</td>\n",
       "      <td>NaN</td>\n",
       "      <td>NaN</td>\n",
       "      <td>NaN</td>\n",
       "      <td>NaN</td>\n",
       "      <td>NaN</td>\n",
       "      <td>NaN</td>\n",
       "      <td>103.0</td>\n",
       "    </tr>\n",
       "    <tr>\n",
       "      <th>39</th>\n",
       "      <td>15</td>\n",
       "      <td>5200000.0</td>\n",
       "      <td>54.40</td>\n",
       "      <td>2018-11-29T00:00:00</td>\n",
       "      <td>2</td>\n",
       "      <td>2.75</td>\n",
       "      <td>9.0</td>\n",
       "      <td>29.70</td>\n",
       "      <td>2</td>\n",
       "      <td>NaN</td>\n",
       "      <td>...</td>\n",
       "      <td>8.80</td>\n",
       "      <td>2.0</td>\n",
       "      <td>Санкт-Петербург</td>\n",
       "      <td>13413.0</td>\n",
       "      <td>12209.0</td>\n",
       "      <td>0.0</td>\n",
       "      <td>NaN</td>\n",
       "      <td>1.0</td>\n",
       "      <td>1175.0</td>\n",
       "      <td>29.0</td>\n",
       "    </tr>\n",
       "  </tbody>\n",
       "</table>\n",
       "<p>40 rows × 22 columns</p>\n",
       "</div>"
      ],
      "text/plain": [
       "    total_images  last_price  total_area first_day_exposition  rooms  \\\n",
       "0             20  13000000.0      108.00  2019-03-07T00:00:00      3   \n",
       "1              7   3350000.0       40.40  2018-12-04T00:00:00      1   \n",
       "2             10   5196000.0       56.00  2015-08-20T00:00:00      2   \n",
       "3              0  64900000.0      159.00  2015-07-24T00:00:00      3   \n",
       "4              2  10000000.0      100.00  2018-06-19T00:00:00      2   \n",
       "5             10   2890000.0       30.40  2018-09-10T00:00:00      1   \n",
       "6              6   3700000.0       37.30  2017-11-02T00:00:00      1   \n",
       "7              5   7915000.0       71.60  2019-04-18T00:00:00      2   \n",
       "8             20   2900000.0       33.16  2018-05-23T00:00:00      1   \n",
       "9             18   5400000.0       61.00  2017-02-26T00:00:00      3   \n",
       "10             5   5050000.0       39.60  2017-11-16T00:00:00      1   \n",
       "11             9   3300000.0       44.00  2018-08-27T00:00:00      2   \n",
       "12            10   3890000.0       54.00  2016-06-30T00:00:00      2   \n",
       "13            20   3550000.0       42.80  2017-07-01T00:00:00      2   \n",
       "14             1   4400000.0       36.00  2016-06-23T00:00:00      1   \n",
       "15            16   4650000.0       39.00  2017-11-18T00:00:00      1   \n",
       "16            11   6700000.0       82.00  2017-11-23T00:00:00      3   \n",
       "17             6   4180000.0       36.00  2016-09-09T00:00:00      1   \n",
       "18             8   3250000.0       31.00  2017-01-27T00:00:00      1   \n",
       "19            16  14200000.0      121.00  2019-01-09T00:00:00      3   \n",
       "20            12   6120000.0       80.00  2017-09-28T00:00:00      3   \n",
       "21            13   3200000.0       31.60  2018-03-14T00:00:00      1   \n",
       "22            20   5000000.0       58.00  2017-04-24T00:00:00      2   \n",
       "23            11   2950000.0       32.00  2016-10-29T00:00:00      1   \n",
       "24             8   6500000.0       97.20  2015-10-31T00:00:00      2   \n",
       "25             3   6800000.0       76.00  2015-10-01T00:00:00      2   \n",
       "26             6   4050000.0       60.00  2017-04-28T00:00:00      4   \n",
       "27            20   7100000.0       70.00  2017-05-12T00:00:00      3   \n",
       "28             8   4170000.0       44.00  2017-12-13T00:00:00      1   \n",
       "29             9   8600000.0      100.00  2016-04-09T00:00:00      3   \n",
       "30            12   2200000.0       32.80  2018-02-19T00:00:00      1   \n",
       "31             8   7200000.0       67.90  2017-10-26T00:00:00      2   \n",
       "32             7   4990000.0       60.00  2016-05-22T00:00:00      3   \n",
       "33             8   4800000.0       73.00  2018-10-15T00:00:00      4   \n",
       "34             3   3290000.0       33.00  2018-02-04T00:00:00      1   \n",
       "35             6  15500000.0      149.00  2017-06-26T00:00:00      5   \n",
       "36            13   3790000.0       45.00  2017-01-25T00:00:00      2   \n",
       "37            10   1990000.0       45.80  2017-10-28T00:00:00      2   \n",
       "38            10   3150000.0       40.00  2018-03-29T00:00:00      1   \n",
       "39            15   5200000.0       54.40  2018-11-29T00:00:00      2   \n",
       "\n",
       "    ceiling_height  floors_total  living_area  floor is_apartment  ...  \\\n",
       "0             2.70          16.0        51.00      8          NaN  ...   \n",
       "1              NaN          11.0        18.60      1          NaN  ...   \n",
       "2              NaN           5.0        34.30      4          NaN  ...   \n",
       "3              NaN          14.0          NaN      9          NaN  ...   \n",
       "4             3.03          14.0        32.00     13          NaN  ...   \n",
       "5              NaN          12.0        14.40      5          NaN  ...   \n",
       "6              NaN          26.0        10.60      6          NaN  ...   \n",
       "7              NaN          24.0          NaN     22          NaN  ...   \n",
       "8              NaN          27.0        15.43     26          NaN  ...   \n",
       "9             2.50           9.0        43.60      7          NaN  ...   \n",
       "10            2.67          12.0        20.30      3          NaN  ...   \n",
       "11             NaN           5.0        31.00      4        False  ...   \n",
       "12             NaN           5.0        30.00      5          NaN  ...   \n",
       "13            2.56           5.0        27.00      5          NaN  ...   \n",
       "14             NaN           6.0        17.00      1          NaN  ...   \n",
       "15             NaN          14.0        20.50      5          NaN  ...   \n",
       "16            3.05           5.0        55.60      1          NaN  ...   \n",
       "17             NaN          17.0        16.50      7          NaN  ...   \n",
       "18            2.50           5.0        19.40      2          NaN  ...   \n",
       "19            2.75          16.0        76.00      8          NaN  ...   \n",
       "20            2.70          27.0        48.00     11          NaN  ...   \n",
       "21             NaN           5.0        16.90      2          NaN  ...   \n",
       "22            2.75          25.0        30.00     15          NaN  ...   \n",
       "23            2.60           9.0        17.70      9          NaN  ...   \n",
       "24             NaN           3.0        46.50      1          NaN  ...   \n",
       "25            2.75          23.0        39.00     18        False  ...   \n",
       "26             NaN           5.0        43.00      4          NaN  ...   \n",
       "27            2.60          17.0        49.00     11          NaN  ...   \n",
       "28            2.90           6.0        20.80      1          NaN  ...   \n",
       "29             NaN          19.0        52.00     15        False  ...   \n",
       "30             NaN           9.0          NaN      2          NaN  ...   \n",
       "31            2.80          16.0        38.10      4          NaN  ...   \n",
       "32             NaN           5.0        39.00      4          NaN  ...   \n",
       "33             NaN           9.0        51.60      5          NaN  ...   \n",
       "34            2.55          16.0        14.00      3          NaN  ...   \n",
       "35             NaN           5.0       104.00      4          NaN  ...   \n",
       "36             NaN           9.0        27.00      9        False  ...   \n",
       "37            2.50           5.0          NaN      1          NaN  ...   \n",
       "38            2.75          18.0        16.30      9          NaN  ...   \n",
       "39            2.75           9.0        29.70      2          NaN  ...   \n",
       "\n",
       "    kitchen_area  balcony                        locality_name  \\\n",
       "0          25.00      NaN                      Санкт-Петербург   \n",
       "1          11.00      2.0                       посёлок Шушары   \n",
       "2           8.30      0.0                      Санкт-Петербург   \n",
       "3            NaN      0.0                      Санкт-Петербург   \n",
       "4          41.00      NaN                      Санкт-Петербург   \n",
       "5           9.10      NaN            городской посёлок Янино-1   \n",
       "6          14.40      1.0                    посёлок Парголово   \n",
       "7          18.90      2.0                      Санкт-Петербург   \n",
       "8           8.81      NaN                       посёлок Мурино   \n",
       "9           6.50      2.0                      Санкт-Петербург   \n",
       "10          8.50      NaN                      Санкт-Петербург   \n",
       "11          6.00      1.0                            Ломоносов   \n",
       "12          9.00      0.0                            Сертолово   \n",
       "13          5.20      1.0                             Петергоф   \n",
       "14          8.00      0.0                               Пушкин   \n",
       "15          7.60      1.0                      Санкт-Петербург   \n",
       "16          9.00      NaN                      Санкт-Петербург   \n",
       "17         11.00      1.0                      Санкт-Петербург   \n",
       "18          5.60      1.0                      Санкт-Петербург   \n",
       "19         12.00      NaN                      Санкт-Петербург   \n",
       "20         12.00      2.0                    посёлок Парголово   \n",
       "21          5.70      1.0                      Санкт-Петербург   \n",
       "22         11.00      2.0                      деревня Кудрово   \n",
       "23          6.10      NaN                      Санкт-Петербург   \n",
       "24         19.60      0.0                      Санкт-Петербург   \n",
       "25         15.00      2.0                      Санкт-Петербург   \n",
       "26          7.00      NaN                      Санкт-Петербург   \n",
       "27          9.20      0.0                      Санкт-Петербург   \n",
       "28         11.70      1.0                               Пушкин   \n",
       "29         11.00      0.0                      Санкт-Петербург   \n",
       "30           NaN      NaN                             Коммунар   \n",
       "31         13.40      2.0                      Санкт-Петербург   \n",
       "32          6.00      0.0                      Санкт-Петербург   \n",
       "33          6.50      NaN                              Колпино   \n",
       "34          8.00      NaN                      Санкт-Петербург   \n",
       "35         17.00      NaN                      Санкт-Петербург   \n",
       "36          6.30      2.0                      Санкт-Петербург   \n",
       "37           NaN      NaN  поселок городского типа Красный Бор   \n",
       "38         11.60      NaN                       посёлок Мурино   \n",
       "39          8.80      2.0                      Санкт-Петербург   \n",
       "\n",
       "    airports_nearest cityCenters_nearest  parks_around3000  parks_nearest  \\\n",
       "0            18863.0             16028.0               1.0          482.0   \n",
       "1            12817.0             18603.0               0.0            NaN   \n",
       "2            21741.0             13933.0               1.0           90.0   \n",
       "3            28098.0              6800.0               2.0           84.0   \n",
       "4            31856.0              8098.0               2.0          112.0   \n",
       "5                NaN                 NaN               NaN            NaN   \n",
       "6            52996.0             19143.0               0.0            NaN   \n",
       "7            23982.0             11634.0               0.0            NaN   \n",
       "8                NaN                 NaN               NaN            NaN   \n",
       "9            50898.0             15008.0               0.0            NaN   \n",
       "10           38357.0             13878.0               1.0          310.0   \n",
       "11           48252.0             51677.0               0.0            NaN   \n",
       "12               NaN                 NaN               NaN            NaN   \n",
       "13           37868.0             33058.0               1.0          294.0   \n",
       "14           20782.0             30759.0               0.0            NaN   \n",
       "15           12900.0             14259.0               1.0          590.0   \n",
       "16           22108.0             10698.0               3.0          420.0   \n",
       "17           33564.0             14616.0               0.0            NaN   \n",
       "18           44060.0             10842.0               1.0          759.0   \n",
       "19           38900.0             12843.0               0.0            NaN   \n",
       "20           53134.0             19311.0               0.0            NaN   \n",
       "21           36064.0              9722.0               1.0          248.0   \n",
       "22               NaN                 NaN               NaN            NaN   \n",
       "23           15414.0             14211.0               2.0          517.0   \n",
       "24           20052.0              2336.0               3.0          411.0   \n",
       "25           34967.0             14640.0               0.0            NaN   \n",
       "26           11580.0             10510.0               0.0            NaN   \n",
       "27           29197.0             11456.0               2.0          452.0   \n",
       "28           18557.0             30710.0               0.0            NaN   \n",
       "29           30394.0             11526.0               1.0          532.0   \n",
       "30               NaN                 NaN               NaN            NaN   \n",
       "31           32888.0             12944.0               0.0            NaN   \n",
       "32           11349.0             12889.0               0.0            NaN   \n",
       "33           26535.0             32321.0               0.0            NaN   \n",
       "34           13943.0             12739.0               0.0            NaN   \n",
       "35           23670.0              3502.0               0.0            NaN   \n",
       "36           49574.0             16461.0               1.0          459.0   \n",
       "37               NaN                 NaN               NaN            NaN   \n",
       "38               NaN                 NaN               NaN            NaN   \n",
       "39           13413.0             12209.0               0.0            NaN   \n",
       "\n",
       "    ponds_around3000  ponds_nearest  days_exposition  \n",
       "0                2.0          755.0              NaN  \n",
       "1                0.0            NaN             81.0  \n",
       "2                2.0          574.0            558.0  \n",
       "3                3.0          234.0            424.0  \n",
       "4                1.0           48.0            121.0  \n",
       "5                NaN            NaN             55.0  \n",
       "6                0.0            NaN            155.0  \n",
       "7                0.0            NaN              NaN  \n",
       "8                NaN            NaN            189.0  \n",
       "9                0.0            NaN            289.0  \n",
       "10               2.0          553.0            137.0  \n",
       "11               0.0            NaN              7.0  \n",
       "12               NaN            NaN             90.0  \n",
       "13               3.0          298.0            366.0  \n",
       "14               1.0           96.0            203.0  \n",
       "15               1.0          296.0             19.0  \n",
       "16               0.0            NaN            397.0  \n",
       "17               1.0          859.0            571.0  \n",
       "18               0.0            NaN            168.0  \n",
       "19               0.0            NaN             97.0  \n",
       "20               0.0            NaN             74.0  \n",
       "21               0.0            NaN            310.0  \n",
       "22               NaN            NaN             60.0  \n",
       "23               1.0          190.0            615.0  \n",
       "24               3.0          124.0            265.0  \n",
       "25               1.0          564.0            300.0  \n",
       "26               1.0           95.0            265.0  \n",
       "27               1.0          779.0            151.0  \n",
       "28               1.0          118.0             74.0  \n",
       "29               1.0          896.0            125.0  \n",
       "30               NaN            NaN             63.0  \n",
       "31               0.0            NaN            112.0  \n",
       "32               1.0          426.0            224.0  \n",
       "33               0.0            NaN             92.0  \n",
       "34               0.0            NaN             15.0  \n",
       "35               1.0          779.0            644.0  \n",
       "36               0.0            NaN            139.0  \n",
       "37               NaN            NaN            196.0  \n",
       "38               NaN            NaN            103.0  \n",
       "39               1.0         1175.0             29.0  \n",
       "\n",
       "[40 rows x 22 columns]"
      ]
     },
     "execution_count": 55,
     "metadata": {},
     "output_type": "execute_result"
    }
   ],
   "source": [
    "data = pd.read_csv('/datasets/real_estate_data.csv', sep='\\t')\n",
    "data.info()\n",
    "data.head(40)"
   ]
  },
  {
   "cell_type": "markdown",
   "metadata": {},
   "source": [
    "### Вывод"
   ]
  },
  {
   "cell_type": "markdown",
   "metadata": {},
   "source": [
    "Видим, что имеются пропущенные значения, тип некоторых столбцов не совпадает с описанием данных. Начнем исправлять."
   ]
  },
  {
   "cell_type": "code",
   "execution_count": 56,
   "metadata": {},
   "outputs": [
    {
     "data": {
      "text/plain": [
       "total_images            0.000000\n",
       "last_price              0.000000\n",
       "total_area              0.000000\n",
       "first_day_exposition    0.000000\n",
       "rooms                   0.000000\n",
       "ceiling_height          0.387991\n",
       "floors_total            0.003629\n",
       "living_area             0.080299\n",
       "floor                   0.000000\n",
       "is_apartment            0.882906\n",
       "studio                  0.000000\n",
       "open_plan               0.000000\n",
       "kitchen_area            0.096122\n",
       "balcony                 0.486054\n",
       "locality_name           0.002068\n",
       "airports_nearest        0.233850\n",
       "cityCenters_nearest     0.232879\n",
       "parks_around3000        0.232837\n",
       "parks_nearest           0.659100\n",
       "ponds_around3000        0.232837\n",
       "ponds_nearest           0.615596\n",
       "days_exposition         0.134225\n",
       "dtype: float64"
      ]
     },
     "execution_count": 56,
     "metadata": {},
     "output_type": "execute_result"
    }
   ],
   "source": [
    " data.isna().sum()/data.shape[0]# посчитаем доли пропусков в нашем датасете"
   ]
  },
  {
   "cell_type": "markdown",
   "metadata": {},
   "source": [
    "## Предобработка данных"
   ]
  },
  {
   "cell_type": "code",
   "execution_count": 57,
   "metadata": {},
   "outputs": [],
   "source": [
    "data['balcony'] = data['balcony'].fillna(0).astype('int')\n",
    "data['parks_around3000'] = data['parks_around3000'].fillna(0).astype('int')\n",
    "data['ponds_around3000'] = data['ponds_around3000'].fillna(0).astype('int')"
   ]
  },
  {
   "cell_type": "markdown",
   "metadata": {},
   "source": [
    "Можем заполнить пропуски в столбце *balcony* нулями, т.к. на месте пропусков скорее всего просто нет балконов. Аналогично поступим с *parks_atound3000* и *ponds_around3000*."
   ]
  },
  {
   "cell_type": "code",
   "execution_count": 58,
   "metadata": {},
   "outputs": [],
   "source": [
    "data = data.dropna(subset=['floors_total'])"
   ]
  },
  {
   "cell_type": "markdown",
   "metadata": {},
   "source": [
    "Пропуски в *floors_total* составляют малый процент, поэтому можем избавиться от них."
   ]
  },
  {
   "cell_type": "code",
   "execution_count": 59,
   "metadata": {},
   "outputs": [],
   "source": [
    "data['is_apartment'] = data['is_apartment'].astype('bool')\n",
    "data['last_price'] = data['last_price'].astype('int')"
   ]
  },
  {
   "cell_type": "markdown",
   "metadata": {},
   "source": [
    "Столбец *is_apartment* значится булевым в описании данных, поэтому исправим его. Столбец *last_price* привет к целочисленному типу, отбросив несущественную дробную часть."
   ]
  },
  {
   "cell_type": "markdown",
   "metadata": {},
   "source": [
    "## Расчёты и добавление результатов в таблицу"
   ]
  },
  {
   "cell_type": "code",
   "execution_count": 60,
   "metadata": {},
   "outputs": [],
   "source": [
    "#Добавим в датасет столбец с ценной квадратного метра\n",
    "data['square_meter_price'] = data['last_price']/data['total_area']#Разделим общую цену на общую площадь\n",
    "data['square_meter_price'] = data['square_meter_price'].astype('int')"
   ]
  },
  {
   "cell_type": "code",
   "execution_count": 61,
   "metadata": {},
   "outputs": [],
   "source": [
    "#Добавим столбцы с днем недели, месяцем и годом публикации объявления\n",
    "data['first_day_exposition'] = pd.to_datetime(data['first_day_exposition'], format ='%Y-%m-%dT%H:%M:%S')\n",
    "data['add_weekday'] = data['first_day_exposition'].dt.weekday\n",
    "data['add_month'] = data['first_day_exposition'].dt.month\n",
    "data['add_year'] = data['first_day_exposition'].dt.year\n"
   ]
  },
  {
   "cell_type": "code",
   "execution_count": 62,
   "metadata": {},
   "outputs": [],
   "source": [
    "#Объявим функцию определяющую тип этажа, будем справнивать значение из столбца floor и присуждать ему категорию\n",
    "def floor_type(row):\n",
    "    floor = row['floor']\n",
    "    floor_max = row['floors_total']\n",
    "    if floor == 1:\n",
    "        return 'первый'\n",
    "    if floor == floor_max:\n",
    "        return 'последний'\n",
    "    return 'другой'"
   ]
  },
  {
   "cell_type": "code",
   "execution_count": 63,
   "metadata": {},
   "outputs": [],
   "source": [
    "#Применяем к датасету нашу функцию\n",
    "data['floor_type'] = data.apply(floor_type, axis=1)"
   ]
  },
  {
   "cell_type": "code",
   "execution_count": 64,
   "metadata": {},
   "outputs": [],
   "source": [
    "data['living_to_total'] = round(data['living_area']/data['total_area'],3)#Посчитаем отношение жилой площади к общей\n",
    "data['kitchen_to_total'] = round(data['kitchen_area']/data['total_area'],3)#Посчитаем отношение площади кухни к общей"
   ]
  },
  {
   "cell_type": "code",
   "execution_count": 65,
   "metadata": {},
   "outputs": [
    {
     "data": {
      "text/html": [
       "<div>\n",
       "<style scoped>\n",
       "    .dataframe tbody tr th:only-of-type {\n",
       "        vertical-align: middle;\n",
       "    }\n",
       "\n",
       "    .dataframe tbody tr th {\n",
       "        vertical-align: top;\n",
       "    }\n",
       "\n",
       "    .dataframe thead th {\n",
       "        text-align: right;\n",
       "    }\n",
       "</style>\n",
       "<table border=\"1\" class=\"dataframe\">\n",
       "  <thead>\n",
       "    <tr style=\"text-align: right;\">\n",
       "      <th></th>\n",
       "      <th>total_images</th>\n",
       "      <th>last_price</th>\n",
       "      <th>total_area</th>\n",
       "      <th>first_day_exposition</th>\n",
       "      <th>rooms</th>\n",
       "      <th>ceiling_height</th>\n",
       "      <th>floors_total</th>\n",
       "      <th>living_area</th>\n",
       "      <th>floor</th>\n",
       "      <th>is_apartment</th>\n",
       "      <th>...</th>\n",
       "      <th>ponds_around3000</th>\n",
       "      <th>ponds_nearest</th>\n",
       "      <th>days_exposition</th>\n",
       "      <th>square_meter_price</th>\n",
       "      <th>add_weekday</th>\n",
       "      <th>add_month</th>\n",
       "      <th>add_year</th>\n",
       "      <th>floor_type</th>\n",
       "      <th>living_to_total</th>\n",
       "      <th>kitchen_to_total</th>\n",
       "    </tr>\n",
       "  </thead>\n",
       "  <tbody>\n",
       "    <tr>\n",
       "      <th>0</th>\n",
       "      <td>20</td>\n",
       "      <td>13000000</td>\n",
       "      <td>108.00</td>\n",
       "      <td>2019-03-07</td>\n",
       "      <td>3</td>\n",
       "      <td>2.70</td>\n",
       "      <td>16.0</td>\n",
       "      <td>51.00</td>\n",
       "      <td>8</td>\n",
       "      <td>True</td>\n",
       "      <td>...</td>\n",
       "      <td>2</td>\n",
       "      <td>755.0</td>\n",
       "      <td>NaN</td>\n",
       "      <td>120370</td>\n",
       "      <td>3</td>\n",
       "      <td>3</td>\n",
       "      <td>2019</td>\n",
       "      <td>другой</td>\n",
       "      <td>0.472</td>\n",
       "      <td>0.231</td>\n",
       "    </tr>\n",
       "    <tr>\n",
       "      <th>1</th>\n",
       "      <td>7</td>\n",
       "      <td>3350000</td>\n",
       "      <td>40.40</td>\n",
       "      <td>2018-12-04</td>\n",
       "      <td>1</td>\n",
       "      <td>NaN</td>\n",
       "      <td>11.0</td>\n",
       "      <td>18.60</td>\n",
       "      <td>1</td>\n",
       "      <td>True</td>\n",
       "      <td>...</td>\n",
       "      <td>0</td>\n",
       "      <td>NaN</td>\n",
       "      <td>81.0</td>\n",
       "      <td>82920</td>\n",
       "      <td>1</td>\n",
       "      <td>12</td>\n",
       "      <td>2018</td>\n",
       "      <td>первый</td>\n",
       "      <td>0.460</td>\n",
       "      <td>0.272</td>\n",
       "    </tr>\n",
       "    <tr>\n",
       "      <th>2</th>\n",
       "      <td>10</td>\n",
       "      <td>5196000</td>\n",
       "      <td>56.00</td>\n",
       "      <td>2015-08-20</td>\n",
       "      <td>2</td>\n",
       "      <td>NaN</td>\n",
       "      <td>5.0</td>\n",
       "      <td>34.30</td>\n",
       "      <td>4</td>\n",
       "      <td>True</td>\n",
       "      <td>...</td>\n",
       "      <td>2</td>\n",
       "      <td>574.0</td>\n",
       "      <td>558.0</td>\n",
       "      <td>92785</td>\n",
       "      <td>3</td>\n",
       "      <td>8</td>\n",
       "      <td>2015</td>\n",
       "      <td>другой</td>\n",
       "      <td>0.612</td>\n",
       "      <td>0.148</td>\n",
       "    </tr>\n",
       "    <tr>\n",
       "      <th>3</th>\n",
       "      <td>0</td>\n",
       "      <td>64900000</td>\n",
       "      <td>159.00</td>\n",
       "      <td>2015-07-24</td>\n",
       "      <td>3</td>\n",
       "      <td>NaN</td>\n",
       "      <td>14.0</td>\n",
       "      <td>NaN</td>\n",
       "      <td>9</td>\n",
       "      <td>True</td>\n",
       "      <td>...</td>\n",
       "      <td>3</td>\n",
       "      <td>234.0</td>\n",
       "      <td>424.0</td>\n",
       "      <td>408176</td>\n",
       "      <td>4</td>\n",
       "      <td>7</td>\n",
       "      <td>2015</td>\n",
       "      <td>другой</td>\n",
       "      <td>NaN</td>\n",
       "      <td>NaN</td>\n",
       "    </tr>\n",
       "    <tr>\n",
       "      <th>4</th>\n",
       "      <td>2</td>\n",
       "      <td>10000000</td>\n",
       "      <td>100.00</td>\n",
       "      <td>2018-06-19</td>\n",
       "      <td>2</td>\n",
       "      <td>3.03</td>\n",
       "      <td>14.0</td>\n",
       "      <td>32.00</td>\n",
       "      <td>13</td>\n",
       "      <td>True</td>\n",
       "      <td>...</td>\n",
       "      <td>1</td>\n",
       "      <td>48.0</td>\n",
       "      <td>121.0</td>\n",
       "      <td>100000</td>\n",
       "      <td>1</td>\n",
       "      <td>6</td>\n",
       "      <td>2018</td>\n",
       "      <td>другой</td>\n",
       "      <td>0.320</td>\n",
       "      <td>0.410</td>\n",
       "    </tr>\n",
       "    <tr>\n",
       "      <th>5</th>\n",
       "      <td>10</td>\n",
       "      <td>2890000</td>\n",
       "      <td>30.40</td>\n",
       "      <td>2018-09-10</td>\n",
       "      <td>1</td>\n",
       "      <td>NaN</td>\n",
       "      <td>12.0</td>\n",
       "      <td>14.40</td>\n",
       "      <td>5</td>\n",
       "      <td>True</td>\n",
       "      <td>...</td>\n",
       "      <td>0</td>\n",
       "      <td>NaN</td>\n",
       "      <td>55.0</td>\n",
       "      <td>95065</td>\n",
       "      <td>0</td>\n",
       "      <td>9</td>\n",
       "      <td>2018</td>\n",
       "      <td>другой</td>\n",
       "      <td>0.474</td>\n",
       "      <td>0.299</td>\n",
       "    </tr>\n",
       "    <tr>\n",
       "      <th>6</th>\n",
       "      <td>6</td>\n",
       "      <td>3700000</td>\n",
       "      <td>37.30</td>\n",
       "      <td>2017-11-02</td>\n",
       "      <td>1</td>\n",
       "      <td>NaN</td>\n",
       "      <td>26.0</td>\n",
       "      <td>10.60</td>\n",
       "      <td>6</td>\n",
       "      <td>True</td>\n",
       "      <td>...</td>\n",
       "      <td>0</td>\n",
       "      <td>NaN</td>\n",
       "      <td>155.0</td>\n",
       "      <td>99195</td>\n",
       "      <td>3</td>\n",
       "      <td>11</td>\n",
       "      <td>2017</td>\n",
       "      <td>другой</td>\n",
       "      <td>0.284</td>\n",
       "      <td>0.386</td>\n",
       "    </tr>\n",
       "    <tr>\n",
       "      <th>7</th>\n",
       "      <td>5</td>\n",
       "      <td>7915000</td>\n",
       "      <td>71.60</td>\n",
       "      <td>2019-04-18</td>\n",
       "      <td>2</td>\n",
       "      <td>NaN</td>\n",
       "      <td>24.0</td>\n",
       "      <td>NaN</td>\n",
       "      <td>22</td>\n",
       "      <td>True</td>\n",
       "      <td>...</td>\n",
       "      <td>0</td>\n",
       "      <td>NaN</td>\n",
       "      <td>NaN</td>\n",
       "      <td>110544</td>\n",
       "      <td>3</td>\n",
       "      <td>4</td>\n",
       "      <td>2019</td>\n",
       "      <td>другой</td>\n",
       "      <td>NaN</td>\n",
       "      <td>0.264</td>\n",
       "    </tr>\n",
       "    <tr>\n",
       "      <th>8</th>\n",
       "      <td>20</td>\n",
       "      <td>2900000</td>\n",
       "      <td>33.16</td>\n",
       "      <td>2018-05-23</td>\n",
       "      <td>1</td>\n",
       "      <td>NaN</td>\n",
       "      <td>27.0</td>\n",
       "      <td>15.43</td>\n",
       "      <td>26</td>\n",
       "      <td>True</td>\n",
       "      <td>...</td>\n",
       "      <td>0</td>\n",
       "      <td>NaN</td>\n",
       "      <td>189.0</td>\n",
       "      <td>87454</td>\n",
       "      <td>2</td>\n",
       "      <td>5</td>\n",
       "      <td>2018</td>\n",
       "      <td>другой</td>\n",
       "      <td>0.465</td>\n",
       "      <td>0.266</td>\n",
       "    </tr>\n",
       "    <tr>\n",
       "      <th>9</th>\n",
       "      <td>18</td>\n",
       "      <td>5400000</td>\n",
       "      <td>61.00</td>\n",
       "      <td>2017-02-26</td>\n",
       "      <td>3</td>\n",
       "      <td>2.50</td>\n",
       "      <td>9.0</td>\n",
       "      <td>43.60</td>\n",
       "      <td>7</td>\n",
       "      <td>True</td>\n",
       "      <td>...</td>\n",
       "      <td>0</td>\n",
       "      <td>NaN</td>\n",
       "      <td>289.0</td>\n",
       "      <td>88524</td>\n",
       "      <td>6</td>\n",
       "      <td>2</td>\n",
       "      <td>2017</td>\n",
       "      <td>другой</td>\n",
       "      <td>0.715</td>\n",
       "      <td>0.107</td>\n",
       "    </tr>\n",
       "    <tr>\n",
       "      <th>10</th>\n",
       "      <td>5</td>\n",
       "      <td>5050000</td>\n",
       "      <td>39.60</td>\n",
       "      <td>2017-11-16</td>\n",
       "      <td>1</td>\n",
       "      <td>2.67</td>\n",
       "      <td>12.0</td>\n",
       "      <td>20.30</td>\n",
       "      <td>3</td>\n",
       "      <td>True</td>\n",
       "      <td>...</td>\n",
       "      <td>2</td>\n",
       "      <td>553.0</td>\n",
       "      <td>137.0</td>\n",
       "      <td>127525</td>\n",
       "      <td>3</td>\n",
       "      <td>11</td>\n",
       "      <td>2017</td>\n",
       "      <td>другой</td>\n",
       "      <td>0.513</td>\n",
       "      <td>0.215</td>\n",
       "    </tr>\n",
       "    <tr>\n",
       "      <th>11</th>\n",
       "      <td>9</td>\n",
       "      <td>3300000</td>\n",
       "      <td>44.00</td>\n",
       "      <td>2018-08-27</td>\n",
       "      <td>2</td>\n",
       "      <td>NaN</td>\n",
       "      <td>5.0</td>\n",
       "      <td>31.00</td>\n",
       "      <td>4</td>\n",
       "      <td>False</td>\n",
       "      <td>...</td>\n",
       "      <td>0</td>\n",
       "      <td>NaN</td>\n",
       "      <td>7.0</td>\n",
       "      <td>75000</td>\n",
       "      <td>0</td>\n",
       "      <td>8</td>\n",
       "      <td>2018</td>\n",
       "      <td>другой</td>\n",
       "      <td>0.705</td>\n",
       "      <td>0.136</td>\n",
       "    </tr>\n",
       "    <tr>\n",
       "      <th>12</th>\n",
       "      <td>10</td>\n",
       "      <td>3890000</td>\n",
       "      <td>54.00</td>\n",
       "      <td>2016-06-30</td>\n",
       "      <td>2</td>\n",
       "      <td>NaN</td>\n",
       "      <td>5.0</td>\n",
       "      <td>30.00</td>\n",
       "      <td>5</td>\n",
       "      <td>True</td>\n",
       "      <td>...</td>\n",
       "      <td>0</td>\n",
       "      <td>NaN</td>\n",
       "      <td>90.0</td>\n",
       "      <td>72037</td>\n",
       "      <td>3</td>\n",
       "      <td>6</td>\n",
       "      <td>2016</td>\n",
       "      <td>последний</td>\n",
       "      <td>0.556</td>\n",
       "      <td>0.167</td>\n",
       "    </tr>\n",
       "    <tr>\n",
       "      <th>13</th>\n",
       "      <td>20</td>\n",
       "      <td>3550000</td>\n",
       "      <td>42.80</td>\n",
       "      <td>2017-07-01</td>\n",
       "      <td>2</td>\n",
       "      <td>2.56</td>\n",
       "      <td>5.0</td>\n",
       "      <td>27.00</td>\n",
       "      <td>5</td>\n",
       "      <td>True</td>\n",
       "      <td>...</td>\n",
       "      <td>3</td>\n",
       "      <td>298.0</td>\n",
       "      <td>366.0</td>\n",
       "      <td>82943</td>\n",
       "      <td>5</td>\n",
       "      <td>7</td>\n",
       "      <td>2017</td>\n",
       "      <td>последний</td>\n",
       "      <td>0.631</td>\n",
       "      <td>0.121</td>\n",
       "    </tr>\n",
       "    <tr>\n",
       "      <th>14</th>\n",
       "      <td>1</td>\n",
       "      <td>4400000</td>\n",
       "      <td>36.00</td>\n",
       "      <td>2016-06-23</td>\n",
       "      <td>1</td>\n",
       "      <td>NaN</td>\n",
       "      <td>6.0</td>\n",
       "      <td>17.00</td>\n",
       "      <td>1</td>\n",
       "      <td>True</td>\n",
       "      <td>...</td>\n",
       "      <td>1</td>\n",
       "      <td>96.0</td>\n",
       "      <td>203.0</td>\n",
       "      <td>122222</td>\n",
       "      <td>3</td>\n",
       "      <td>6</td>\n",
       "      <td>2016</td>\n",
       "      <td>первый</td>\n",
       "      <td>0.472</td>\n",
       "      <td>0.222</td>\n",
       "    </tr>\n",
       "    <tr>\n",
       "      <th>15</th>\n",
       "      <td>16</td>\n",
       "      <td>4650000</td>\n",
       "      <td>39.00</td>\n",
       "      <td>2017-11-18</td>\n",
       "      <td>1</td>\n",
       "      <td>NaN</td>\n",
       "      <td>14.0</td>\n",
       "      <td>20.50</td>\n",
       "      <td>5</td>\n",
       "      <td>True</td>\n",
       "      <td>...</td>\n",
       "      <td>1</td>\n",
       "      <td>296.0</td>\n",
       "      <td>19.0</td>\n",
       "      <td>119230</td>\n",
       "      <td>5</td>\n",
       "      <td>11</td>\n",
       "      <td>2017</td>\n",
       "      <td>другой</td>\n",
       "      <td>0.526</td>\n",
       "      <td>0.195</td>\n",
       "    </tr>\n",
       "    <tr>\n",
       "      <th>16</th>\n",
       "      <td>11</td>\n",
       "      <td>6700000</td>\n",
       "      <td>82.00</td>\n",
       "      <td>2017-11-23</td>\n",
       "      <td>3</td>\n",
       "      <td>3.05</td>\n",
       "      <td>5.0</td>\n",
       "      <td>55.60</td>\n",
       "      <td>1</td>\n",
       "      <td>True</td>\n",
       "      <td>...</td>\n",
       "      <td>0</td>\n",
       "      <td>NaN</td>\n",
       "      <td>397.0</td>\n",
       "      <td>81707</td>\n",
       "      <td>3</td>\n",
       "      <td>11</td>\n",
       "      <td>2017</td>\n",
       "      <td>первый</td>\n",
       "      <td>0.678</td>\n",
       "      <td>0.110</td>\n",
       "    </tr>\n",
       "    <tr>\n",
       "      <th>17</th>\n",
       "      <td>6</td>\n",
       "      <td>4180000</td>\n",
       "      <td>36.00</td>\n",
       "      <td>2016-09-09</td>\n",
       "      <td>1</td>\n",
       "      <td>NaN</td>\n",
       "      <td>17.0</td>\n",
       "      <td>16.50</td>\n",
       "      <td>7</td>\n",
       "      <td>True</td>\n",
       "      <td>...</td>\n",
       "      <td>1</td>\n",
       "      <td>859.0</td>\n",
       "      <td>571.0</td>\n",
       "      <td>116111</td>\n",
       "      <td>4</td>\n",
       "      <td>9</td>\n",
       "      <td>2016</td>\n",
       "      <td>другой</td>\n",
       "      <td>0.458</td>\n",
       "      <td>0.306</td>\n",
       "    </tr>\n",
       "    <tr>\n",
       "      <th>18</th>\n",
       "      <td>8</td>\n",
       "      <td>3250000</td>\n",
       "      <td>31.00</td>\n",
       "      <td>2017-01-27</td>\n",
       "      <td>1</td>\n",
       "      <td>2.50</td>\n",
       "      <td>5.0</td>\n",
       "      <td>19.40</td>\n",
       "      <td>2</td>\n",
       "      <td>True</td>\n",
       "      <td>...</td>\n",
       "      <td>0</td>\n",
       "      <td>NaN</td>\n",
       "      <td>168.0</td>\n",
       "      <td>104838</td>\n",
       "      <td>4</td>\n",
       "      <td>1</td>\n",
       "      <td>2017</td>\n",
       "      <td>другой</td>\n",
       "      <td>0.626</td>\n",
       "      <td>0.181</td>\n",
       "    </tr>\n",
       "    <tr>\n",
       "      <th>19</th>\n",
       "      <td>16</td>\n",
       "      <td>14200000</td>\n",
       "      <td>121.00</td>\n",
       "      <td>2019-01-09</td>\n",
       "      <td>3</td>\n",
       "      <td>2.75</td>\n",
       "      <td>16.0</td>\n",
       "      <td>76.00</td>\n",
       "      <td>8</td>\n",
       "      <td>True</td>\n",
       "      <td>...</td>\n",
       "      <td>0</td>\n",
       "      <td>NaN</td>\n",
       "      <td>97.0</td>\n",
       "      <td>117355</td>\n",
       "      <td>2</td>\n",
       "      <td>1</td>\n",
       "      <td>2019</td>\n",
       "      <td>другой</td>\n",
       "      <td>0.628</td>\n",
       "      <td>0.099</td>\n",
       "    </tr>\n",
       "    <tr>\n",
       "      <th>20</th>\n",
       "      <td>12</td>\n",
       "      <td>6120000</td>\n",
       "      <td>80.00</td>\n",
       "      <td>2017-09-28</td>\n",
       "      <td>3</td>\n",
       "      <td>2.70</td>\n",
       "      <td>27.0</td>\n",
       "      <td>48.00</td>\n",
       "      <td>11</td>\n",
       "      <td>True</td>\n",
       "      <td>...</td>\n",
       "      <td>0</td>\n",
       "      <td>NaN</td>\n",
       "      <td>74.0</td>\n",
       "      <td>76500</td>\n",
       "      <td>3</td>\n",
       "      <td>9</td>\n",
       "      <td>2017</td>\n",
       "      <td>другой</td>\n",
       "      <td>0.600</td>\n",
       "      <td>0.150</td>\n",
       "    </tr>\n",
       "    <tr>\n",
       "      <th>21</th>\n",
       "      <td>13</td>\n",
       "      <td>3200000</td>\n",
       "      <td>31.60</td>\n",
       "      <td>2018-03-14</td>\n",
       "      <td>1</td>\n",
       "      <td>NaN</td>\n",
       "      <td>5.0</td>\n",
       "      <td>16.90</td>\n",
       "      <td>2</td>\n",
       "      <td>True</td>\n",
       "      <td>...</td>\n",
       "      <td>0</td>\n",
       "      <td>NaN</td>\n",
       "      <td>310.0</td>\n",
       "      <td>101265</td>\n",
       "      <td>2</td>\n",
       "      <td>3</td>\n",
       "      <td>2018</td>\n",
       "      <td>другой</td>\n",
       "      <td>0.535</td>\n",
       "      <td>0.180</td>\n",
       "    </tr>\n",
       "    <tr>\n",
       "      <th>22</th>\n",
       "      <td>20</td>\n",
       "      <td>5000000</td>\n",
       "      <td>58.00</td>\n",
       "      <td>2017-04-24</td>\n",
       "      <td>2</td>\n",
       "      <td>2.75</td>\n",
       "      <td>25.0</td>\n",
       "      <td>30.00</td>\n",
       "      <td>15</td>\n",
       "      <td>True</td>\n",
       "      <td>...</td>\n",
       "      <td>0</td>\n",
       "      <td>NaN</td>\n",
       "      <td>60.0</td>\n",
       "      <td>86206</td>\n",
       "      <td>0</td>\n",
       "      <td>4</td>\n",
       "      <td>2017</td>\n",
       "      <td>другой</td>\n",
       "      <td>0.517</td>\n",
       "      <td>0.190</td>\n",
       "    </tr>\n",
       "    <tr>\n",
       "      <th>23</th>\n",
       "      <td>11</td>\n",
       "      <td>2950000</td>\n",
       "      <td>32.00</td>\n",
       "      <td>2016-10-29</td>\n",
       "      <td>1</td>\n",
       "      <td>2.60</td>\n",
       "      <td>9.0</td>\n",
       "      <td>17.70</td>\n",
       "      <td>9</td>\n",
       "      <td>True</td>\n",
       "      <td>...</td>\n",
       "      <td>1</td>\n",
       "      <td>190.0</td>\n",
       "      <td>615.0</td>\n",
       "      <td>92187</td>\n",
       "      <td>5</td>\n",
       "      <td>10</td>\n",
       "      <td>2016</td>\n",
       "      <td>последний</td>\n",
       "      <td>0.553</td>\n",
       "      <td>0.191</td>\n",
       "    </tr>\n",
       "    <tr>\n",
       "      <th>24</th>\n",
       "      <td>8</td>\n",
       "      <td>6500000</td>\n",
       "      <td>97.20</td>\n",
       "      <td>2015-10-31</td>\n",
       "      <td>2</td>\n",
       "      <td>NaN</td>\n",
       "      <td>3.0</td>\n",
       "      <td>46.50</td>\n",
       "      <td>1</td>\n",
       "      <td>True</td>\n",
       "      <td>...</td>\n",
       "      <td>3</td>\n",
       "      <td>124.0</td>\n",
       "      <td>265.0</td>\n",
       "      <td>66872</td>\n",
       "      <td>5</td>\n",
       "      <td>10</td>\n",
       "      <td>2015</td>\n",
       "      <td>первый</td>\n",
       "      <td>0.478</td>\n",
       "      <td>0.202</td>\n",
       "    </tr>\n",
       "    <tr>\n",
       "      <th>25</th>\n",
       "      <td>3</td>\n",
       "      <td>6800000</td>\n",
       "      <td>76.00</td>\n",
       "      <td>2015-10-01</td>\n",
       "      <td>2</td>\n",
       "      <td>2.75</td>\n",
       "      <td>23.0</td>\n",
       "      <td>39.00</td>\n",
       "      <td>18</td>\n",
       "      <td>False</td>\n",
       "      <td>...</td>\n",
       "      <td>1</td>\n",
       "      <td>564.0</td>\n",
       "      <td>300.0</td>\n",
       "      <td>89473</td>\n",
       "      <td>3</td>\n",
       "      <td>10</td>\n",
       "      <td>2015</td>\n",
       "      <td>другой</td>\n",
       "      <td>0.513</td>\n",
       "      <td>0.197</td>\n",
       "    </tr>\n",
       "    <tr>\n",
       "      <th>26</th>\n",
       "      <td>6</td>\n",
       "      <td>4050000</td>\n",
       "      <td>60.00</td>\n",
       "      <td>2017-04-28</td>\n",
       "      <td>4</td>\n",
       "      <td>NaN</td>\n",
       "      <td>5.0</td>\n",
       "      <td>43.00</td>\n",
       "      <td>4</td>\n",
       "      <td>True</td>\n",
       "      <td>...</td>\n",
       "      <td>1</td>\n",
       "      <td>95.0</td>\n",
       "      <td>265.0</td>\n",
       "      <td>67500</td>\n",
       "      <td>4</td>\n",
       "      <td>4</td>\n",
       "      <td>2017</td>\n",
       "      <td>другой</td>\n",
       "      <td>0.717</td>\n",
       "      <td>0.117</td>\n",
       "    </tr>\n",
       "    <tr>\n",
       "      <th>27</th>\n",
       "      <td>20</td>\n",
       "      <td>7100000</td>\n",
       "      <td>70.00</td>\n",
       "      <td>2017-05-12</td>\n",
       "      <td>3</td>\n",
       "      <td>2.60</td>\n",
       "      <td>17.0</td>\n",
       "      <td>49.00</td>\n",
       "      <td>11</td>\n",
       "      <td>True</td>\n",
       "      <td>...</td>\n",
       "      <td>1</td>\n",
       "      <td>779.0</td>\n",
       "      <td>151.0</td>\n",
       "      <td>101428</td>\n",
       "      <td>4</td>\n",
       "      <td>5</td>\n",
       "      <td>2017</td>\n",
       "      <td>другой</td>\n",
       "      <td>0.700</td>\n",
       "      <td>0.131</td>\n",
       "    </tr>\n",
       "    <tr>\n",
       "      <th>28</th>\n",
       "      <td>8</td>\n",
       "      <td>4170000</td>\n",
       "      <td>44.00</td>\n",
       "      <td>2017-12-13</td>\n",
       "      <td>1</td>\n",
       "      <td>2.90</td>\n",
       "      <td>6.0</td>\n",
       "      <td>20.80</td>\n",
       "      <td>1</td>\n",
       "      <td>True</td>\n",
       "      <td>...</td>\n",
       "      <td>1</td>\n",
       "      <td>118.0</td>\n",
       "      <td>74.0</td>\n",
       "      <td>94772</td>\n",
       "      <td>2</td>\n",
       "      <td>12</td>\n",
       "      <td>2017</td>\n",
       "      <td>первый</td>\n",
       "      <td>0.473</td>\n",
       "      <td>0.266</td>\n",
       "    </tr>\n",
       "    <tr>\n",
       "      <th>29</th>\n",
       "      <td>9</td>\n",
       "      <td>8600000</td>\n",
       "      <td>100.00</td>\n",
       "      <td>2016-04-09</td>\n",
       "      <td>3</td>\n",
       "      <td>NaN</td>\n",
       "      <td>19.0</td>\n",
       "      <td>52.00</td>\n",
       "      <td>15</td>\n",
       "      <td>False</td>\n",
       "      <td>...</td>\n",
       "      <td>1</td>\n",
       "      <td>896.0</td>\n",
       "      <td>125.0</td>\n",
       "      <td>86000</td>\n",
       "      <td>5</td>\n",
       "      <td>4</td>\n",
       "      <td>2016</td>\n",
       "      <td>другой</td>\n",
       "      <td>0.520</td>\n",
       "      <td>0.110</td>\n",
       "    </tr>\n",
       "    <tr>\n",
       "      <th>30</th>\n",
       "      <td>12</td>\n",
       "      <td>2200000</td>\n",
       "      <td>32.80</td>\n",
       "      <td>2018-02-19</td>\n",
       "      <td>1</td>\n",
       "      <td>NaN</td>\n",
       "      <td>9.0</td>\n",
       "      <td>NaN</td>\n",
       "      <td>2</td>\n",
       "      <td>True</td>\n",
       "      <td>...</td>\n",
       "      <td>0</td>\n",
       "      <td>NaN</td>\n",
       "      <td>63.0</td>\n",
       "      <td>67073</td>\n",
       "      <td>0</td>\n",
       "      <td>2</td>\n",
       "      <td>2018</td>\n",
       "      <td>другой</td>\n",
       "      <td>NaN</td>\n",
       "      <td>NaN</td>\n",
       "    </tr>\n",
       "    <tr>\n",
       "      <th>31</th>\n",
       "      <td>8</td>\n",
       "      <td>7200000</td>\n",
       "      <td>67.90</td>\n",
       "      <td>2017-10-26</td>\n",
       "      <td>2</td>\n",
       "      <td>2.80</td>\n",
       "      <td>16.0</td>\n",
       "      <td>38.10</td>\n",
       "      <td>4</td>\n",
       "      <td>True</td>\n",
       "      <td>...</td>\n",
       "      <td>0</td>\n",
       "      <td>NaN</td>\n",
       "      <td>112.0</td>\n",
       "      <td>106038</td>\n",
       "      <td>3</td>\n",
       "      <td>10</td>\n",
       "      <td>2017</td>\n",
       "      <td>другой</td>\n",
       "      <td>0.561</td>\n",
       "      <td>0.197</td>\n",
       "    </tr>\n",
       "    <tr>\n",
       "      <th>32</th>\n",
       "      <td>7</td>\n",
       "      <td>4990000</td>\n",
       "      <td>60.00</td>\n",
       "      <td>2016-05-22</td>\n",
       "      <td>3</td>\n",
       "      <td>NaN</td>\n",
       "      <td>5.0</td>\n",
       "      <td>39.00</td>\n",
       "      <td>4</td>\n",
       "      <td>True</td>\n",
       "      <td>...</td>\n",
       "      <td>1</td>\n",
       "      <td>426.0</td>\n",
       "      <td>224.0</td>\n",
       "      <td>83166</td>\n",
       "      <td>6</td>\n",
       "      <td>5</td>\n",
       "      <td>2016</td>\n",
       "      <td>другой</td>\n",
       "      <td>0.650</td>\n",
       "      <td>0.100</td>\n",
       "    </tr>\n",
       "    <tr>\n",
       "      <th>33</th>\n",
       "      <td>8</td>\n",
       "      <td>4800000</td>\n",
       "      <td>73.00</td>\n",
       "      <td>2018-10-15</td>\n",
       "      <td>4</td>\n",
       "      <td>NaN</td>\n",
       "      <td>9.0</td>\n",
       "      <td>51.60</td>\n",
       "      <td>5</td>\n",
       "      <td>True</td>\n",
       "      <td>...</td>\n",
       "      <td>0</td>\n",
       "      <td>NaN</td>\n",
       "      <td>92.0</td>\n",
       "      <td>65753</td>\n",
       "      <td>0</td>\n",
       "      <td>10</td>\n",
       "      <td>2018</td>\n",
       "      <td>другой</td>\n",
       "      <td>0.707</td>\n",
       "      <td>0.089</td>\n",
       "    </tr>\n",
       "    <tr>\n",
       "      <th>34</th>\n",
       "      <td>3</td>\n",
       "      <td>3290000</td>\n",
       "      <td>33.00</td>\n",
       "      <td>2018-02-04</td>\n",
       "      <td>1</td>\n",
       "      <td>2.55</td>\n",
       "      <td>16.0</td>\n",
       "      <td>14.00</td>\n",
       "      <td>3</td>\n",
       "      <td>True</td>\n",
       "      <td>...</td>\n",
       "      <td>0</td>\n",
       "      <td>NaN</td>\n",
       "      <td>15.0</td>\n",
       "      <td>99696</td>\n",
       "      <td>6</td>\n",
       "      <td>2</td>\n",
       "      <td>2018</td>\n",
       "      <td>другой</td>\n",
       "      <td>0.424</td>\n",
       "      <td>0.242</td>\n",
       "    </tr>\n",
       "    <tr>\n",
       "      <th>35</th>\n",
       "      <td>6</td>\n",
       "      <td>15500000</td>\n",
       "      <td>149.00</td>\n",
       "      <td>2017-06-26</td>\n",
       "      <td>5</td>\n",
       "      <td>NaN</td>\n",
       "      <td>5.0</td>\n",
       "      <td>104.00</td>\n",
       "      <td>4</td>\n",
       "      <td>True</td>\n",
       "      <td>...</td>\n",
       "      <td>1</td>\n",
       "      <td>779.0</td>\n",
       "      <td>644.0</td>\n",
       "      <td>104026</td>\n",
       "      <td>0</td>\n",
       "      <td>6</td>\n",
       "      <td>2017</td>\n",
       "      <td>другой</td>\n",
       "      <td>0.698</td>\n",
       "      <td>0.114</td>\n",
       "    </tr>\n",
       "    <tr>\n",
       "      <th>36</th>\n",
       "      <td>13</td>\n",
       "      <td>3790000</td>\n",
       "      <td>45.00</td>\n",
       "      <td>2017-01-25</td>\n",
       "      <td>2</td>\n",
       "      <td>NaN</td>\n",
       "      <td>9.0</td>\n",
       "      <td>27.00</td>\n",
       "      <td>9</td>\n",
       "      <td>False</td>\n",
       "      <td>...</td>\n",
       "      <td>0</td>\n",
       "      <td>NaN</td>\n",
       "      <td>139.0</td>\n",
       "      <td>84222</td>\n",
       "      <td>2</td>\n",
       "      <td>1</td>\n",
       "      <td>2017</td>\n",
       "      <td>последний</td>\n",
       "      <td>0.600</td>\n",
       "      <td>0.140</td>\n",
       "    </tr>\n",
       "    <tr>\n",
       "      <th>37</th>\n",
       "      <td>10</td>\n",
       "      <td>1990000</td>\n",
       "      <td>45.80</td>\n",
       "      <td>2017-10-28</td>\n",
       "      <td>2</td>\n",
       "      <td>2.50</td>\n",
       "      <td>5.0</td>\n",
       "      <td>NaN</td>\n",
       "      <td>1</td>\n",
       "      <td>True</td>\n",
       "      <td>...</td>\n",
       "      <td>0</td>\n",
       "      <td>NaN</td>\n",
       "      <td>196.0</td>\n",
       "      <td>43449</td>\n",
       "      <td>5</td>\n",
       "      <td>10</td>\n",
       "      <td>2017</td>\n",
       "      <td>первый</td>\n",
       "      <td>NaN</td>\n",
       "      <td>NaN</td>\n",
       "    </tr>\n",
       "    <tr>\n",
       "      <th>38</th>\n",
       "      <td>10</td>\n",
       "      <td>3150000</td>\n",
       "      <td>40.00</td>\n",
       "      <td>2018-03-29</td>\n",
       "      <td>1</td>\n",
       "      <td>2.75</td>\n",
       "      <td>18.0</td>\n",
       "      <td>16.30</td>\n",
       "      <td>9</td>\n",
       "      <td>True</td>\n",
       "      <td>...</td>\n",
       "      <td>0</td>\n",
       "      <td>NaN</td>\n",
       "      <td>103.0</td>\n",
       "      <td>78750</td>\n",
       "      <td>3</td>\n",
       "      <td>3</td>\n",
       "      <td>2018</td>\n",
       "      <td>другой</td>\n",
       "      <td>0.408</td>\n",
       "      <td>0.290</td>\n",
       "    </tr>\n",
       "    <tr>\n",
       "      <th>39</th>\n",
       "      <td>15</td>\n",
       "      <td>5200000</td>\n",
       "      <td>54.40</td>\n",
       "      <td>2018-11-29</td>\n",
       "      <td>2</td>\n",
       "      <td>2.75</td>\n",
       "      <td>9.0</td>\n",
       "      <td>29.70</td>\n",
       "      <td>2</td>\n",
       "      <td>True</td>\n",
       "      <td>...</td>\n",
       "      <td>1</td>\n",
       "      <td>1175.0</td>\n",
       "      <td>29.0</td>\n",
       "      <td>95588</td>\n",
       "      <td>3</td>\n",
       "      <td>11</td>\n",
       "      <td>2018</td>\n",
       "      <td>другой</td>\n",
       "      <td>0.546</td>\n",
       "      <td>0.162</td>\n",
       "    </tr>\n",
       "  </tbody>\n",
       "</table>\n",
       "<p>40 rows × 29 columns</p>\n",
       "</div>"
      ],
      "text/plain": [
       "    total_images  last_price  total_area first_day_exposition  rooms  \\\n",
       "0             20    13000000      108.00           2019-03-07      3   \n",
       "1              7     3350000       40.40           2018-12-04      1   \n",
       "2             10     5196000       56.00           2015-08-20      2   \n",
       "3              0    64900000      159.00           2015-07-24      3   \n",
       "4              2    10000000      100.00           2018-06-19      2   \n",
       "5             10     2890000       30.40           2018-09-10      1   \n",
       "6              6     3700000       37.30           2017-11-02      1   \n",
       "7              5     7915000       71.60           2019-04-18      2   \n",
       "8             20     2900000       33.16           2018-05-23      1   \n",
       "9             18     5400000       61.00           2017-02-26      3   \n",
       "10             5     5050000       39.60           2017-11-16      1   \n",
       "11             9     3300000       44.00           2018-08-27      2   \n",
       "12            10     3890000       54.00           2016-06-30      2   \n",
       "13            20     3550000       42.80           2017-07-01      2   \n",
       "14             1     4400000       36.00           2016-06-23      1   \n",
       "15            16     4650000       39.00           2017-11-18      1   \n",
       "16            11     6700000       82.00           2017-11-23      3   \n",
       "17             6     4180000       36.00           2016-09-09      1   \n",
       "18             8     3250000       31.00           2017-01-27      1   \n",
       "19            16    14200000      121.00           2019-01-09      3   \n",
       "20            12     6120000       80.00           2017-09-28      3   \n",
       "21            13     3200000       31.60           2018-03-14      1   \n",
       "22            20     5000000       58.00           2017-04-24      2   \n",
       "23            11     2950000       32.00           2016-10-29      1   \n",
       "24             8     6500000       97.20           2015-10-31      2   \n",
       "25             3     6800000       76.00           2015-10-01      2   \n",
       "26             6     4050000       60.00           2017-04-28      4   \n",
       "27            20     7100000       70.00           2017-05-12      3   \n",
       "28             8     4170000       44.00           2017-12-13      1   \n",
       "29             9     8600000      100.00           2016-04-09      3   \n",
       "30            12     2200000       32.80           2018-02-19      1   \n",
       "31             8     7200000       67.90           2017-10-26      2   \n",
       "32             7     4990000       60.00           2016-05-22      3   \n",
       "33             8     4800000       73.00           2018-10-15      4   \n",
       "34             3     3290000       33.00           2018-02-04      1   \n",
       "35             6    15500000      149.00           2017-06-26      5   \n",
       "36            13     3790000       45.00           2017-01-25      2   \n",
       "37            10     1990000       45.80           2017-10-28      2   \n",
       "38            10     3150000       40.00           2018-03-29      1   \n",
       "39            15     5200000       54.40           2018-11-29      2   \n",
       "\n",
       "    ceiling_height  floors_total  living_area  floor  is_apartment  ...  \\\n",
       "0             2.70          16.0        51.00      8          True  ...   \n",
       "1              NaN          11.0        18.60      1          True  ...   \n",
       "2              NaN           5.0        34.30      4          True  ...   \n",
       "3              NaN          14.0          NaN      9          True  ...   \n",
       "4             3.03          14.0        32.00     13          True  ...   \n",
       "5              NaN          12.0        14.40      5          True  ...   \n",
       "6              NaN          26.0        10.60      6          True  ...   \n",
       "7              NaN          24.0          NaN     22          True  ...   \n",
       "8              NaN          27.0        15.43     26          True  ...   \n",
       "9             2.50           9.0        43.60      7          True  ...   \n",
       "10            2.67          12.0        20.30      3          True  ...   \n",
       "11             NaN           5.0        31.00      4         False  ...   \n",
       "12             NaN           5.0        30.00      5          True  ...   \n",
       "13            2.56           5.0        27.00      5          True  ...   \n",
       "14             NaN           6.0        17.00      1          True  ...   \n",
       "15             NaN          14.0        20.50      5          True  ...   \n",
       "16            3.05           5.0        55.60      1          True  ...   \n",
       "17             NaN          17.0        16.50      7          True  ...   \n",
       "18            2.50           5.0        19.40      2          True  ...   \n",
       "19            2.75          16.0        76.00      8          True  ...   \n",
       "20            2.70          27.0        48.00     11          True  ...   \n",
       "21             NaN           5.0        16.90      2          True  ...   \n",
       "22            2.75          25.0        30.00     15          True  ...   \n",
       "23            2.60           9.0        17.70      9          True  ...   \n",
       "24             NaN           3.0        46.50      1          True  ...   \n",
       "25            2.75          23.0        39.00     18         False  ...   \n",
       "26             NaN           5.0        43.00      4          True  ...   \n",
       "27            2.60          17.0        49.00     11          True  ...   \n",
       "28            2.90           6.0        20.80      1          True  ...   \n",
       "29             NaN          19.0        52.00     15         False  ...   \n",
       "30             NaN           9.0          NaN      2          True  ...   \n",
       "31            2.80          16.0        38.10      4          True  ...   \n",
       "32             NaN           5.0        39.00      4          True  ...   \n",
       "33             NaN           9.0        51.60      5          True  ...   \n",
       "34            2.55          16.0        14.00      3          True  ...   \n",
       "35             NaN           5.0       104.00      4          True  ...   \n",
       "36             NaN           9.0        27.00      9         False  ...   \n",
       "37            2.50           5.0          NaN      1          True  ...   \n",
       "38            2.75          18.0        16.30      9          True  ...   \n",
       "39            2.75           9.0        29.70      2          True  ...   \n",
       "\n",
       "    ponds_around3000  ponds_nearest  days_exposition  square_meter_price  \\\n",
       "0                  2          755.0              NaN              120370   \n",
       "1                  0            NaN             81.0               82920   \n",
       "2                  2          574.0            558.0               92785   \n",
       "3                  3          234.0            424.0              408176   \n",
       "4                  1           48.0            121.0              100000   \n",
       "5                  0            NaN             55.0               95065   \n",
       "6                  0            NaN            155.0               99195   \n",
       "7                  0            NaN              NaN              110544   \n",
       "8                  0            NaN            189.0               87454   \n",
       "9                  0            NaN            289.0               88524   \n",
       "10                 2          553.0            137.0              127525   \n",
       "11                 0            NaN              7.0               75000   \n",
       "12                 0            NaN             90.0               72037   \n",
       "13                 3          298.0            366.0               82943   \n",
       "14                 1           96.0            203.0              122222   \n",
       "15                 1          296.0             19.0              119230   \n",
       "16                 0            NaN            397.0               81707   \n",
       "17                 1          859.0            571.0              116111   \n",
       "18                 0            NaN            168.0              104838   \n",
       "19                 0            NaN             97.0              117355   \n",
       "20                 0            NaN             74.0               76500   \n",
       "21                 0            NaN            310.0              101265   \n",
       "22                 0            NaN             60.0               86206   \n",
       "23                 1          190.0            615.0               92187   \n",
       "24                 3          124.0            265.0               66872   \n",
       "25                 1          564.0            300.0               89473   \n",
       "26                 1           95.0            265.0               67500   \n",
       "27                 1          779.0            151.0              101428   \n",
       "28                 1          118.0             74.0               94772   \n",
       "29                 1          896.0            125.0               86000   \n",
       "30                 0            NaN             63.0               67073   \n",
       "31                 0            NaN            112.0              106038   \n",
       "32                 1          426.0            224.0               83166   \n",
       "33                 0            NaN             92.0               65753   \n",
       "34                 0            NaN             15.0               99696   \n",
       "35                 1          779.0            644.0              104026   \n",
       "36                 0            NaN            139.0               84222   \n",
       "37                 0            NaN            196.0               43449   \n",
       "38                 0            NaN            103.0               78750   \n",
       "39                 1         1175.0             29.0               95588   \n",
       "\n",
       "   add_weekday  add_month  add_year  floor_type  living_to_total  \\\n",
       "0            3          3      2019      другой            0.472   \n",
       "1            1         12      2018      первый            0.460   \n",
       "2            3          8      2015      другой            0.612   \n",
       "3            4          7      2015      другой              NaN   \n",
       "4            1          6      2018      другой            0.320   \n",
       "5            0          9      2018      другой            0.474   \n",
       "6            3         11      2017      другой            0.284   \n",
       "7            3          4      2019      другой              NaN   \n",
       "8            2          5      2018      другой            0.465   \n",
       "9            6          2      2017      другой            0.715   \n",
       "10           3         11      2017      другой            0.513   \n",
       "11           0          8      2018      другой            0.705   \n",
       "12           3          6      2016   последний            0.556   \n",
       "13           5          7      2017   последний            0.631   \n",
       "14           3          6      2016      первый            0.472   \n",
       "15           5         11      2017      другой            0.526   \n",
       "16           3         11      2017      первый            0.678   \n",
       "17           4          9      2016      другой            0.458   \n",
       "18           4          1      2017      другой            0.626   \n",
       "19           2          1      2019      другой            0.628   \n",
       "20           3          9      2017      другой            0.600   \n",
       "21           2          3      2018      другой            0.535   \n",
       "22           0          4      2017      другой            0.517   \n",
       "23           5         10      2016   последний            0.553   \n",
       "24           5         10      2015      первый            0.478   \n",
       "25           3         10      2015      другой            0.513   \n",
       "26           4          4      2017      другой            0.717   \n",
       "27           4          5      2017      другой            0.700   \n",
       "28           2         12      2017      первый            0.473   \n",
       "29           5          4      2016      другой            0.520   \n",
       "30           0          2      2018      другой              NaN   \n",
       "31           3         10      2017      другой            0.561   \n",
       "32           6          5      2016      другой            0.650   \n",
       "33           0         10      2018      другой            0.707   \n",
       "34           6          2      2018      другой            0.424   \n",
       "35           0          6      2017      другой            0.698   \n",
       "36           2          1      2017   последний            0.600   \n",
       "37           5         10      2017      первый              NaN   \n",
       "38           3          3      2018      другой            0.408   \n",
       "39           3         11      2018      другой            0.546   \n",
       "\n",
       "    kitchen_to_total  \n",
       "0              0.231  \n",
       "1              0.272  \n",
       "2              0.148  \n",
       "3                NaN  \n",
       "4              0.410  \n",
       "5              0.299  \n",
       "6              0.386  \n",
       "7              0.264  \n",
       "8              0.266  \n",
       "9              0.107  \n",
       "10             0.215  \n",
       "11             0.136  \n",
       "12             0.167  \n",
       "13             0.121  \n",
       "14             0.222  \n",
       "15             0.195  \n",
       "16             0.110  \n",
       "17             0.306  \n",
       "18             0.181  \n",
       "19             0.099  \n",
       "20             0.150  \n",
       "21             0.180  \n",
       "22             0.190  \n",
       "23             0.191  \n",
       "24             0.202  \n",
       "25             0.197  \n",
       "26             0.117  \n",
       "27             0.131  \n",
       "28             0.266  \n",
       "29             0.110  \n",
       "30               NaN  \n",
       "31             0.197  \n",
       "32             0.100  \n",
       "33             0.089  \n",
       "34             0.242  \n",
       "35             0.114  \n",
       "36             0.140  \n",
       "37               NaN  \n",
       "38             0.290  \n",
       "39             0.162  \n",
       "\n",
       "[40 rows x 29 columns]"
      ]
     },
     "execution_count": 65,
     "metadata": {},
     "output_type": "execute_result"
    }
   ],
   "source": [
    "data.head(40)"
   ]
  },
  {
   "cell_type": "markdown",
   "metadata": {},
   "source": [
    "### Оценим параметры датасета"
   ]
  },
  {
   "cell_type": "markdown",
   "metadata": {},
   "source": [
    "Построили гистограммы для следующих параметров: *площадь*, *цена*, *число комнат*, *высота потолков*."
   ]
  },
  {
   "cell_type": "code",
   "execution_count": 66,
   "metadata": {
    "scrolled": false
   },
   "outputs": [
    {
     "data": {
      "text/plain": [
       "count    23613.000000\n",
       "mean        60.340678\n",
       "std         35.648988\n",
       "min         12.000000\n",
       "25%         40.000000\n",
       "50%         52.000000\n",
       "75%         69.800000\n",
       "max        900.000000\n",
       "Name: total_area, dtype: float64"
      ]
     },
     "execution_count": 66,
     "metadata": {},
     "output_type": "execute_result"
    },
    {
     "data": {
      "image/png": "[encoded data removed]",
      "text/plain": [
       "<Figure size 432x288 with 1 Axes>"
      ]
     },
     "metadata": {
      "needs_background": "light"
     },
     "output_type": "display_data"
    }
   ],
   "source": [
    "data.hist(column='total_area',bins=50,range=(0,200))\n",
    "data['total_area'].describe()"
   ]
  },
  {
   "cell_type": "markdown",
   "metadata": {},
   "source": [
    "Распределение нормальное, с данными все в порядке."
   ]
  },
  {
   "cell_type": "code",
   "execution_count": 125,
   "metadata": {},
   "outputs": [],
   "source": [
    "data['last_price'] = data['last_price']/1000000 #переведем ед. измерения столбца из ру в млн руб для удобства"
   ]
  },
  {
   "cell_type": "code",
   "execution_count": 133,
   "metadata": {},
   "outputs": [
    {
     "data": {
      "text/plain": [
       "count    23613.000000\n",
       "mean         6.540555\n",
       "std         10.901723\n",
       "min          0.012190\n",
       "25%          3.400000\n",
       "50%          4.650000\n",
       "75%          6.799000\n",
       "max        763.000000\n",
       "Name: last_price, dtype: float64"
      ]
     },
     "execution_count": 133,
     "metadata": {},
     "output_type": "execute_result"
    },
    {
     "data": {
      "image/png": "[encoded data removed]",
      "text/plain": [
       "<Figure size 432x288 with 1 Axes>"
      ]
     },
     "metadata": {
      "needs_background": "light"
     },
     "output_type": "display_data"
    }
   ],
   "source": [
    "data.hist(column='last_price',bins=100,range=(0,60))\n",
    "data['last_price'].describe()"
   ]
  },
  {
   "cell_type": "markdown",
   "metadata": {},
   "source": [
    "Распределение нормальное, однаков  данных наблюдаются выбросы, нужно их убрать."
   ]
  },
  {
   "cell_type": "code",
   "execution_count": 136,
   "metadata": {},
   "outputs": [
    {
     "data": {
      "text/plain": [
       "(0.0, 15.0)"
      ]
     },
     "execution_count": 136,
     "metadata": {},
     "output_type": "execute_result"
    },
    {
     "data": {
      "image/png": "[encoded data removed]",
      "text/plain": [
       "<Figure size 432x288 with 1 Axes>"
      ]
     },
     "metadata": {
      "needs_background": "light"
     },
     "output_type": "display_data"
    }
   ],
   "source": [
    "data['last_price'].plot.box()\n",
    "plt.ylim(0,15)"
   ]
  },
  {
   "cell_type": "code",
   "execution_count": 137,
   "metadata": {},
   "outputs": [
    {
     "data": {
      "text/plain": [
       "count    21947.000000\n",
       "mean         4.971072\n",
       "std          2.411025\n",
       "min          0.012190\n",
       "25%          3.349000\n",
       "50%          4.480000\n",
       "75%          6.100000\n",
       "max         12.999000\n",
       "Name: last_price, dtype: float64"
      ]
     },
     "execution_count": 137,
     "metadata": {},
     "output_type": "execute_result"
    }
   ],
   "source": [
    "good_data = data.query('last_price < 13')\n",
    "good_data['last_price'].describe()"
   ]
  },
  {
   "cell_type": "markdown",
   "metadata": {},
   "source": [
    "Теперь данные приемлимы для использования в анализе, пойдем дальше."
   ]
  },
  {
   "cell_type": "code",
   "execution_count": 164,
   "metadata": {},
   "outputs": [
    {
     "data": {
      "text/plain": [
       "count    23613.000000\n",
       "mean         2.071147\n",
       "std          1.078380\n",
       "min          0.000000\n",
       "25%          1.000000\n",
       "50%          2.000000\n",
       "75%          3.000000\n",
       "max         19.000000\n",
       "Name: rooms, dtype: float64"
      ]
     },
     "execution_count": 164,
     "metadata": {},
     "output_type": "execute_result"
    },
    {
     "data": {
      "image/png": "[encoded data removed]",
      "text/plain": [
       "<Figure size 432x288 with 1 Axes>"
      ]
     },
     "metadata": {
      "needs_background": "light"
     },
     "output_type": "display_data"
    }
   ],
   "source": [
    "data.hist(column='rooms',range=(0,10))\n",
    "data['rooms'].describe()"
   ]
  },
  {
   "cell_type": "markdown",
   "metadata": {},
   "source": [
    "Распределение нормальное, с данными все в порядке."
   ]
  },
  {
   "cell_type": "code",
   "execution_count": 163,
   "metadata": {},
   "outputs": [
    {
     "data": {
      "text/plain": [
       "count    14495.000000\n",
       "mean         2.771495\n",
       "std          1.261445\n",
       "min          1.000000\n",
       "25%          2.520000\n",
       "50%          2.650000\n",
       "75%          2.800000\n",
       "max        100.000000\n",
       "Name: ceiling_height, dtype: float64"
      ]
     },
     "execution_count": 163,
     "metadata": {},
     "output_type": "execute_result"
    },
    {
     "data": {
      "image/png": "[encoded data removed]",
      "text/plain": [
       "<Figure size 432x288 with 1 Axes>"
      ]
     },
     "metadata": {
      "needs_background": "light"
     },
     "output_type": "display_data"
    }
   ],
   "source": [
    "data.hist(column='ceiling_height',bins=20,range=(2,5))\n",
    "data['ceiling_height'].describe()"
   ]
  },
  {
   "cell_type": "markdown",
   "metadata": {},
   "source": [
    "Распределение нормальное, однако видим выбросы, и максимальное значение в столбце равное 100, что звучит весьма неправдоподобно."
   ]
  },
  {
   "cell_type": "code",
   "execution_count": 143,
   "metadata": {},
   "outputs": [
    {
     "data": {
      "text/plain": [
       "(0.0, 5.0)"
      ]
     },
     "execution_count": 143,
     "metadata": {},
     "output_type": "execute_result"
    },
    {
     "data": {
      "image/png": "[encoded data removed]",
      "text/plain": [
       "<Figure size 432x288 with 1 Axes>"
      ]
     },
     "metadata": {
      "needs_background": "light"
     },
     "output_type": "display_data"
    }
   ],
   "source": [
    "data['ceiling_height'].plot.box()\n",
    "plt.ylim(0,5)"
   ]
  },
  {
   "cell_type": "markdown",
   "metadata": {},
   "source": [
    "Оставим значения до 4 метром, т.к. они еще звучат правдоподобно."
   ]
  },
  {
   "cell_type": "code",
   "execution_count": 146,
   "metadata": {},
   "outputs": [
    {
     "data": {
      "text/plain": [
       "count    13293.000000\n",
       "mean         2.691353\n",
       "std          0.226853\n",
       "min          2.200000\n",
       "25%          2.500000\n",
       "50%          2.600000\n",
       "75%          2.750000\n",
       "max          4.000000\n",
       "Name: ceiling_height, dtype: float64"
      ]
     },
     "execution_count": 146,
     "metadata": {},
     "output_type": "execute_result"
    }
   ],
   "source": [
    "good_data = good_data.query('ceiling_height >2 and ceiling_height <= 4')\n",
    "good_data['ceiling_height'].describe()"
   ]
  },
  {
   "cell_type": "markdown",
   "metadata": {},
   "source": [
    "Избавившись от выбросов, можем перейти дальше."
   ]
  },
  {
   "cell_type": "code",
   "execution_count": 162,
   "metadata": {
    "scrolled": false
   },
   "outputs": [
    {
     "data": {
      "text/plain": [
       "count    20441.000000\n",
       "mean       180.884839\n",
       "std        219.685543\n",
       "min          1.000000\n",
       "25%         45.000000\n",
       "50%         95.000000\n",
       "75%        232.000000\n",
       "max       1580.000000\n",
       "Name: days_exposition, dtype: float64"
      ]
     },
     "execution_count": 162,
     "metadata": {},
     "output_type": "execute_result"
    },
    {
     "data": {
      "image/png": "[encoded data removed]",
      "text/plain": [
       "<Figure size 432x288 with 1 Axes>"
      ]
     },
     "metadata": {
      "needs_background": "light"
     },
     "output_type": "display_data"
    }
   ],
   "source": [
    "data.hist(column='days_exposition',bins=100,range=(0,1500))\n",
    "data['days_exposition'].describe()"
   ]
  },
  {
   "cell_type": "markdown",
   "metadata": {},
   "source": [
    "Видим аномальные значения, однако неясно почему они возникли. Так же наблюдаются выбросы. Построим диаграмму размаха, чтобы оценить выбросы."
   ]
  },
  {
   "cell_type": "code",
   "execution_count": 142,
   "metadata": {
    "scrolled": true
   },
   "outputs": [
    {
     "data": {
      "text/plain": [
       "(0.0, 600.0)"
      ]
     },
     "execution_count": 142,
     "metadata": {},
     "output_type": "execute_result"
    },
    {
     "data": {
      "image/png": "[encoded data removed]",
      "text/plain": [
       "<Figure size 432x288 with 1 Axes>"
      ]
     },
     "metadata": {
      "needs_background": "light"
     },
     "output_type": "display_data"
    }
   ],
   "source": [
    "data['days_exposition'].plot.box()\n",
    "plt.ylim(0,600)"
   ]
  },
  {
   "cell_type": "markdown",
   "metadata": {},
   "source": [
    "Избавимся от выбросов."
   ]
  },
  {
   "cell_type": "code",
   "execution_count": 72,
   "metadata": {},
   "outputs": [
    {
     "data": {
      "text/plain": [
       "count    18974.000000\n",
       "mean       132.927901\n",
       "std        127.647189\n",
       "min          1.000000\n",
       "25%         42.000000\n",
       "50%         86.000000\n",
       "75%        188.000000\n",
       "max        549.000000\n",
       "Name: days_exposition, dtype: float64"
      ]
     },
     "execution_count": 72,
     "metadata": {},
     "output_type": "execute_result"
    }
   ],
   "source": [
    "good_data = data.query('days_exposition < 550')\n",
    "good_data['days_exposition'].describe()"
   ]
  },
  {
   "cell_type": "markdown",
   "metadata": {},
   "source": [
    "### Проверим взаимосвязь данных"
   ]
  },
  {
   "cell_type": "code",
   "execution_count": 147,
   "metadata": {},
   "outputs": [
    {
     "data": {
      "text/plain": [
       "array([[<AxesSubplot:xlabel='last_price', ylabel='last_price'>,\n",
       "        <AxesSubplot:xlabel='total_area', ylabel='last_price'>,\n",
       "        <AxesSubplot:xlabel='rooms', ylabel='last_price'>,\n",
       "        <AxesSubplot:xlabel='cityCenters_nearest', ylabel='last_price'>,\n",
       "        <AxesSubplot:xlabel='add_weekday', ylabel='last_price'>,\n",
       "        <AxesSubplot:xlabel='add_month', ylabel='last_price'>,\n",
       "        <AxesSubplot:xlabel='add_year', ylabel='last_price'>],\n",
       "       [<AxesSubplot:xlabel='last_price', ylabel='total_area'>,\n",
       "        <AxesSubplot:xlabel='total_area', ylabel='total_area'>,\n",
       "        <AxesSubplot:xlabel='rooms', ylabel='total_area'>,\n",
       "        <AxesSubplot:xlabel='cityCenters_nearest', ylabel='total_area'>,\n",
       "        <AxesSubplot:xlabel='add_weekday', ylabel='total_area'>,\n",
       "        <AxesSubplot:xlabel='add_month', ylabel='total_area'>,\n",
       "        <AxesSubplot:xlabel='add_year', ylabel='total_area'>],\n",
       "       [<AxesSubplot:xlabel='last_price', ylabel='rooms'>,\n",
       "        <AxesSubplot:xlabel='total_area', ylabel='rooms'>,\n",
       "        <AxesSubplot:xlabel='rooms', ylabel='rooms'>,\n",
       "        <AxesSubplot:xlabel='cityCenters_nearest', ylabel='rooms'>,\n",
       "        <AxesSubplot:xlabel='add_weekday', ylabel='rooms'>,\n",
       "        <AxesSubplot:xlabel='add_month', ylabel='rooms'>,\n",
       "        <AxesSubplot:xlabel='add_year', ylabel='rooms'>],\n",
       "       [<AxesSubplot:xlabel='last_price', ylabel='cityCenters_nearest'>,\n",
       "        <AxesSubplot:xlabel='total_area', ylabel='cityCenters_nearest'>,\n",
       "        <AxesSubplot:xlabel='rooms', ylabel='cityCenters_nearest'>,\n",
       "        <AxesSubplot:xlabel='cityCenters_nearest', ylabel='cityCenters_nearest'>,\n",
       "        <AxesSubplot:xlabel='add_weekday', ylabel='cityCenters_nearest'>,\n",
       "        <AxesSubplot:xlabel='add_month', ylabel='cityCenters_nearest'>,\n",
       "        <AxesSubplot:xlabel='add_year', ylabel='cityCenters_nearest'>],\n",
       "       [<AxesSubplot:xlabel='last_price', ylabel='add_weekday'>,\n",
       "        <AxesSubplot:xlabel='total_area', ylabel='add_weekday'>,\n",
       "        <AxesSubplot:xlabel='rooms', ylabel='add_weekday'>,\n",
       "        <AxesSubplot:xlabel='cityCenters_nearest', ylabel='add_weekday'>,\n",
       "        <AxesSubplot:xlabel='add_weekday', ylabel='add_weekday'>,\n",
       "        <AxesSubplot:xlabel='add_month', ylabel='add_weekday'>,\n",
       "        <AxesSubplot:xlabel='add_year', ylabel='add_weekday'>],\n",
       "       [<AxesSubplot:xlabel='last_price', ylabel='add_month'>,\n",
       "        <AxesSubplot:xlabel='total_area', ylabel='add_month'>,\n",
       "        <AxesSubplot:xlabel='rooms', ylabel='add_month'>,\n",
       "        <AxesSubplot:xlabel='cityCenters_nearest', ylabel='add_month'>,\n",
       "        <AxesSubplot:xlabel='add_weekday', ylabel='add_month'>,\n",
       "        <AxesSubplot:xlabel='add_month', ylabel='add_month'>,\n",
       "        <AxesSubplot:xlabel='add_year', ylabel='add_month'>],\n",
       "       [<AxesSubplot:xlabel='last_price', ylabel='add_year'>,\n",
       "        <AxesSubplot:xlabel='total_area', ylabel='add_year'>,\n",
       "        <AxesSubplot:xlabel='rooms', ylabel='add_year'>,\n",
       "        <AxesSubplot:xlabel='cityCenters_nearest', ylabel='add_year'>,\n",
       "        <AxesSubplot:xlabel='add_weekday', ylabel='add_year'>,\n",
       "        <AxesSubplot:xlabel='add_month', ylabel='add_year'>,\n",
       "        <AxesSubplot:xlabel='add_year', ylabel='add_year'>]], dtype=object)"
      ]
     },
     "execution_count": 147,
     "metadata": {},
     "output_type": "execute_result"
    },
    {
     "data": {
      "image/png": "[encoded data removed]",
      "text/plain": [
       "<Figure size 1080x1080 with 49 Axes>"
      ]
     },
     "metadata": {
      "needs_background": "light"
     },
     "output_type": "display_data"
    }
   ],
   "source": [
    "# Выделим необходимые нам данные\n",
    "corr_data = good_data.loc[:,['last_price','total_area','rooms','cityCenters_nearest','floor_type','add_weekday','add_month','add_year']]\n",
    "pd.plotting.scatter_matrix(corr_data, figsize=(15, 15)) "
   ]
  },
  {
   "cell_type": "code",
   "execution_count": 148,
   "metadata": {
    "scrolled": false
   },
   "outputs": [
    {
     "data": {
      "text/html": [
       "<div>\n",
       "<style scoped>\n",
       "    .dataframe tbody tr th:only-of-type {\n",
       "        vertical-align: middle;\n",
       "    }\n",
       "\n",
       "    .dataframe tbody tr th {\n",
       "        vertical-align: top;\n",
       "    }\n",
       "\n",
       "    .dataframe thead th {\n",
       "        text-align: right;\n",
       "    }\n",
       "</style>\n",
       "<table border=\"1\" class=\"dataframe\">\n",
       "  <thead>\n",
       "    <tr style=\"text-align: right;\">\n",
       "      <th></th>\n",
       "      <th>last_price</th>\n",
       "      <th>total_area</th>\n",
       "      <th>rooms</th>\n",
       "      <th>cityCenters_nearest</th>\n",
       "      <th>add_weekday</th>\n",
       "      <th>add_month</th>\n",
       "      <th>add_year</th>\n",
       "    </tr>\n",
       "  </thead>\n",
       "  <tbody>\n",
       "    <tr>\n",
       "      <th>last_price</th>\n",
       "      <td>1.000000</td>\n",
       "      <td>0.727393</td>\n",
       "      <td>0.478747</td>\n",
       "      <td>0.047533</td>\n",
       "      <td>-0.028375</td>\n",
       "      <td>0.007540</td>\n",
       "      <td>-0.015669</td>\n",
       "    </tr>\n",
       "    <tr>\n",
       "      <th>total_area</th>\n",
       "      <td>0.727393</td>\n",
       "      <td>1.000000</td>\n",
       "      <td>0.801456</td>\n",
       "      <td>-0.049331</td>\n",
       "      <td>-0.022290</td>\n",
       "      <td>0.014752</td>\n",
       "      <td>-0.098812</td>\n",
       "    </tr>\n",
       "    <tr>\n",
       "      <th>rooms</th>\n",
       "      <td>0.478747</td>\n",
       "      <td>0.801456</td>\n",
       "      <td>1.000000</td>\n",
       "      <td>-0.035128</td>\n",
       "      <td>-0.003479</td>\n",
       "      <td>0.003561</td>\n",
       "      <td>-0.053200</td>\n",
       "    </tr>\n",
       "    <tr>\n",
       "      <th>cityCenters_nearest</th>\n",
       "      <td>0.047533</td>\n",
       "      <td>-0.049331</td>\n",
       "      <td>-0.035128</td>\n",
       "      <td>1.000000</td>\n",
       "      <td>0.003612</td>\n",
       "      <td>-0.022117</td>\n",
       "      <td>0.006064</td>\n",
       "    </tr>\n",
       "    <tr>\n",
       "      <th>add_weekday</th>\n",
       "      <td>-0.028375</td>\n",
       "      <td>-0.022290</td>\n",
       "      <td>-0.003479</td>\n",
       "      <td>0.003612</td>\n",
       "      <td>1.000000</td>\n",
       "      <td>-0.008331</td>\n",
       "      <td>-0.000999</td>\n",
       "    </tr>\n",
       "    <tr>\n",
       "      <th>add_month</th>\n",
       "      <td>0.007540</td>\n",
       "      <td>0.014752</td>\n",
       "      <td>0.003561</td>\n",
       "      <td>-0.022117</td>\n",
       "      <td>-0.008331</td>\n",
       "      <td>1.000000</td>\n",
       "      <td>-0.298538</td>\n",
       "    </tr>\n",
       "    <tr>\n",
       "      <th>add_year</th>\n",
       "      <td>-0.015669</td>\n",
       "      <td>-0.098812</td>\n",
       "      <td>-0.053200</td>\n",
       "      <td>0.006064</td>\n",
       "      <td>-0.000999</td>\n",
       "      <td>-0.298538</td>\n",
       "      <td>1.000000</td>\n",
       "    </tr>\n",
       "  </tbody>\n",
       "</table>\n",
       "</div>"
      ],
      "text/plain": [
       "                     last_price  total_area     rooms  cityCenters_nearest  \\\n",
       "last_price             1.000000    0.727393  0.478747             0.047533   \n",
       "total_area             0.727393    1.000000  0.801456            -0.049331   \n",
       "rooms                  0.478747    0.801456  1.000000            -0.035128   \n",
       "cityCenters_nearest    0.047533   -0.049331 -0.035128             1.000000   \n",
       "add_weekday           -0.028375   -0.022290 -0.003479             0.003612   \n",
       "add_month              0.007540    0.014752  0.003561            -0.022117   \n",
       "add_year              -0.015669   -0.098812 -0.053200             0.006064   \n",
       "\n",
       "                     add_weekday  add_month  add_year  \n",
       "last_price             -0.028375   0.007540 -0.015669  \n",
       "total_area             -0.022290   0.014752 -0.098812  \n",
       "rooms                  -0.003479   0.003561 -0.053200  \n",
       "cityCenters_nearest     0.003612  -0.022117  0.006064  \n",
       "add_weekday             1.000000  -0.008331 -0.000999  \n",
       "add_month              -0.008331   1.000000 -0.298538  \n",
       "add_year               -0.000999  -0.298538  1.000000  "
      ]
     },
     "execution_count": 148,
     "metadata": {},
     "output_type": "execute_result"
    }
   ],
   "source": [
    "corr_data.corr()# Построим корреляционную матрицу"
   ]
  },
  {
   "cell_type": "markdown",
   "metadata": {},
   "source": [
    "Видим, что наблюдается сильная зависимость *last_price* от *total_area* и *rooms*. Чем больше параметры соотвествующих столбцов, тем выше будет цена. Действительно, такую зависимость легко увидеть и в жизненном опыте."
   ]
  },
  {
   "cell_type": "code",
   "execution_count": null,
   "metadata": {},
   "outputs": [],
   "source": [
    "year_data = corr_data.pivot_table(index='add_year',values='last_price')\n",
    "year_data.plot()"
   ]
  },
  {
   "cell_type": "markdown",
   "metadata": {},
   "source": [
    "С 2016 по 2018 наблюдается падение цены."
   ]
  },
  {
   "cell_type": "code",
   "execution_count": 150,
   "metadata": {
    "scrolled": true
   },
   "outputs": [
    {
     "data": {
      "text/plain": [
       "<AxesSubplot:xlabel='add_month'>"
      ]
     },
     "execution_count": 150,
     "metadata": {},
     "output_type": "execute_result"
    },
    {
     "data": {
      "image/png": "[encoded data removed]",
      "text/plain": [
       "<Figure size 432x288 with 1 Axes>"
      ]
     },
     "metadata": {
      "needs_background": "light"
     },
     "output_type": "display_data"
    }
   ],
   "source": [
    "# Оценим отдельно параметр month\n",
    "month_data = corr_data.pivot_table(index='add_month',values='last_price')\n",
    "month_data.plot()"
   ]
  },
  {
   "cell_type": "markdown",
   "metadata": {},
   "source": [
    "Лучшие цены наблюдается в *апреле*, *июле*, *августе* и *сентябре*. Самая лучшая цена в *апреле*. Видим очень резкое падение цены с апреля по июнь"
   ]
  },
  {
   "cell_type": "code",
   "execution_count": 151,
   "metadata": {},
   "outputs": [
    {
     "data": {
      "text/plain": [
       "<AxesSubplot:xlabel='add_weekday'>"
      ]
     },
     "execution_count": 151,
     "metadata": {},
     "output_type": "execute_result"
    },
    {
     "data": {
      "image/png": "[encoded data removed]",
      "text/plain": [
       "<Figure size 432x288 with 1 Axes>"
      ]
     },
     "metadata": {
      "needs_background": "light"
     },
     "output_type": "display_data"
    }
   ],
   "source": [
    "# Оценим отдельно параметр weekday\n",
    "weekday_data = corr_data.pivot_table(index='add_weekday',values='last_price')\n",
    "weekday_data.plot()"
   ]
  },
  {
   "cell_type": "markdown",
   "metadata": {},
   "source": [
    "Лучшие цены мы наблюдаем в начале неделе, после среды цена неустанно падает."
   ]
  },
  {
   "cell_type": "code",
   "execution_count": 152,
   "metadata": {},
   "outputs": [
    {
     "data": {
      "text/html": [
       "<div>\n",
       "<style scoped>\n",
       "    .dataframe tbody tr th:only-of-type {\n",
       "        vertical-align: middle;\n",
       "    }\n",
       "\n",
       "    .dataframe tbody tr th {\n",
       "        vertical-align: top;\n",
       "    }\n",
       "\n",
       "    .dataframe thead th {\n",
       "        text-align: right;\n",
       "    }\n",
       "</style>\n",
       "<table border=\"1\" class=\"dataframe\">\n",
       "  <thead>\n",
       "    <tr style=\"text-align: right;\">\n",
       "      <th></th>\n",
       "      <th>last_price</th>\n",
       "    </tr>\n",
       "    <tr>\n",
       "      <th>floor_type</th>\n",
       "      <th></th>\n",
       "    </tr>\n",
       "  </thead>\n",
       "  <tbody>\n",
       "    <tr>\n",
       "      <th>другой</th>\n",
       "      <td>5.337188</td>\n",
       "    </tr>\n",
       "    <tr>\n",
       "      <th>первый</th>\n",
       "      <td>4.403226</td>\n",
       "    </tr>\n",
       "    <tr>\n",
       "      <th>последний</th>\n",
       "      <td>4.851037</td>\n",
       "    </tr>\n",
       "  </tbody>\n",
       "</table>\n",
       "</div>"
      ],
      "text/plain": [
       "            last_price\n",
       "floor_type            \n",
       "другой        5.337188\n",
       "первый        4.403226\n",
       "последний     4.851037"
      ]
     },
     "execution_count": 152,
     "metadata": {},
     "output_type": "execute_result"
    }
   ],
   "source": [
    "# Оценим отдельно параметр floor\n",
    "floor_data = corr_data.pivot_table(index='floor_type',values='last_price',aggfunc='mean')\n",
    "floor_data"
   ]
  },
  {
   "cell_type": "markdown",
   "metadata": {},
   "source": [
    "Видим, что *первый* первый этаж самый дешевый, в то время как *другой* - самый дорогой. Различия между первым и последним этажом не так уж велики."
   ]
  },
  {
   "cell_type": "markdown",
   "metadata": {},
   "source": [
    "### Оценим выборку по 10 населённым пунктам с наибольшим числом объявлений."
   ]
  },
  {
   "cell_type": "code",
   "execution_count": 154,
   "metadata": {
    "scrolled": false
   },
   "outputs": [
    {
     "data": {
      "text/html": [
       "<div>\n",
       "<style scoped>\n",
       "    .dataframe tbody tr th:only-of-type {\n",
       "        vertical-align: middle;\n",
       "    }\n",
       "\n",
       "    .dataframe tbody tr th {\n",
       "        vertical-align: top;\n",
       "    }\n",
       "\n",
       "    .dataframe thead th {\n",
       "        text-align: right;\n",
       "    }\n",
       "</style>\n",
       "<table border=\"1\" class=\"dataframe\">\n",
       "  <thead>\n",
       "    <tr style=\"text-align: right;\">\n",
       "      <th></th>\n",
       "      <th>count</th>\n",
       "      <th>mean</th>\n",
       "    </tr>\n",
       "    <tr>\n",
       "      <th>locality_name</th>\n",
       "      <th></th>\n",
       "      <th></th>\n",
       "    </tr>\n",
       "  </thead>\n",
       "  <tbody>\n",
       "    <tr>\n",
       "      <th>Санкт-Петербург</th>\n",
       "      <td>8960</td>\n",
       "      <td>5.935839</td>\n",
       "    </tr>\n",
       "    <tr>\n",
       "      <th>Всеволожск</th>\n",
       "      <td>270</td>\n",
       "      <td>3.834393</td>\n",
       "    </tr>\n",
       "    <tr>\n",
       "      <th>посёлок Шушары</th>\n",
       "      <td>216</td>\n",
       "      <td>4.257802</td>\n",
       "    </tr>\n",
       "    <tr>\n",
       "      <th>Пушкин</th>\n",
       "      <td>216</td>\n",
       "      <td>5.350554</td>\n",
       "    </tr>\n",
       "    <tr>\n",
       "      <th>Колпино</th>\n",
       "      <td>203</td>\n",
       "      <td>3.960373</td>\n",
       "    </tr>\n",
       "    <tr>\n",
       "      <th>посёлок Мурино</th>\n",
       "      <td>198</td>\n",
       "      <td>4.003214</td>\n",
       "    </tr>\n",
       "    <tr>\n",
       "      <th>Гатчина</th>\n",
       "      <td>147</td>\n",
       "      <td>3.557926</td>\n",
       "    </tr>\n",
       "    <tr>\n",
       "      <th>Петергоф</th>\n",
       "      <td>142</td>\n",
       "      <td>4.220451</td>\n",
       "    </tr>\n",
       "    <tr>\n",
       "      <th>посёлок Парголово</th>\n",
       "      <td>137</td>\n",
       "      <td>4.518657</td>\n",
       "    </tr>\n",
       "    <tr>\n",
       "      <th>деревня Кудрово</th>\n",
       "      <td>122</td>\n",
       "      <td>4.206525</td>\n",
       "    </tr>\n",
       "  </tbody>\n",
       "</table>\n",
       "</div>"
      ],
      "text/plain": [
       "                   count      mean\n",
       "locality_name                     \n",
       "Санкт-Петербург     8960  5.935839\n",
       "Всеволожск           270  3.834393\n",
       "посёлок Шушары       216  4.257802\n",
       "Пушкин               216  5.350554\n",
       "Колпино              203  3.960373\n",
       "посёлок Мурино       198  4.003214\n",
       "Гатчина              147  3.557926\n",
       "Петергоф             142  4.220451\n",
       "посёлок Парголово    137  4.518657\n",
       "деревня Кудрово      122  4.206525"
      ]
     },
     "metadata": {},
     "output_type": "display_data"
    },
    {
     "data": {
      "text/html": [
       "<div>\n",
       "<style scoped>\n",
       "    .dataframe tbody tr th:only-of-type {\n",
       "        vertical-align: middle;\n",
       "    }\n",
       "\n",
       "    .dataframe tbody tr th {\n",
       "        vertical-align: top;\n",
       "    }\n",
       "\n",
       "    .dataframe thead th {\n",
       "        text-align: right;\n",
       "    }\n",
       "</style>\n",
       "<table border=\"1\" class=\"dataframe\">\n",
       "  <thead>\n",
       "    <tr style=\"text-align: right;\">\n",
       "      <th></th>\n",
       "      <th>count</th>\n",
       "      <th>mean</th>\n",
       "    </tr>\n",
       "    <tr>\n",
       "      <th>locality_name</th>\n",
       "      <th></th>\n",
       "      <th></th>\n",
       "    </tr>\n",
       "  </thead>\n",
       "  <tbody>\n",
       "    <tr>\n",
       "      <th>Санкт-Петербург</th>\n",
       "      <td>8960</td>\n",
       "      <td>5.935839</td>\n",
       "    </tr>\n",
       "  </tbody>\n",
       "</table>\n",
       "</div>"
      ],
      "text/plain": [
       "                 count      mean\n",
       "locality_name                   \n",
       "Санкт-Петербург   8960  5.935839"
      ]
     },
     "metadata": {},
     "output_type": "display_data"
    },
    {
     "data": {
      "text/html": [
       "<div>\n",
       "<style scoped>\n",
       "    .dataframe tbody tr th:only-of-type {\n",
       "        vertical-align: middle;\n",
       "    }\n",
       "\n",
       "    .dataframe tbody tr th {\n",
       "        vertical-align: top;\n",
       "    }\n",
       "\n",
       "    .dataframe thead th {\n",
       "        text-align: right;\n",
       "    }\n",
       "</style>\n",
       "<table border=\"1\" class=\"dataframe\">\n",
       "  <thead>\n",
       "    <tr style=\"text-align: right;\">\n",
       "      <th></th>\n",
       "      <th>count</th>\n",
       "      <th>mean</th>\n",
       "    </tr>\n",
       "    <tr>\n",
       "      <th>locality_name</th>\n",
       "      <th></th>\n",
       "      <th></th>\n",
       "    </tr>\n",
       "  </thead>\n",
       "  <tbody>\n",
       "    <tr>\n",
       "      <th>Гатчина</th>\n",
       "      <td>147</td>\n",
       "      <td>3.557926</td>\n",
       "    </tr>\n",
       "  </tbody>\n",
       "</table>\n",
       "</div>"
      ],
      "text/plain": [
       "               count      mean\n",
       "locality_name                 \n",
       "Гатчина          147  3.557926"
      ]
     },
     "metadata": {},
     "output_type": "display_data"
    }
   ],
   "source": [
    "#Сделаем сводную таблицу по названием городов\n",
    "locality_pivot_table = good_data.pivot_table(index='locality_name', values='last_price', aggfunc=['count','mean'])\n",
    "locality_pivot_table.columns = ['count','mean']\n",
    "locality_pivot_table = locality_pivot_table.sort_values(by='count',ascending=False)# Отсортируем таблицу\n",
    "locality_pivot_table = locality_pivot_table[:10]\n",
    "display(locality_pivot_table)\n",
    "display(locality_pivot_table[locality_pivot_table['mean']==locality_pivot_table['mean'].max()])\n",
    "display(locality_pivot_table[locality_pivot_table['mean']==locality_pivot_table['mean'].min()])"
   ]
  },
  {
   "cell_type": "markdown",
   "metadata": {},
   "source": [
    "Выделим из этой таблицы данные по Санкт-Петербургу."
   ]
  },
  {
   "cell_type": "code",
   "execution_count": 155,
   "metadata": {},
   "outputs": [
    {
     "data": {
      "text/plain": [
       "<AxesSubplot:xlabel='cityCenters_nearest_km'>"
      ]
     },
     "execution_count": 155,
     "metadata": {},
     "output_type": "execute_result"
    },
    {
     "data": {
      "image/png": "[encoded data removed]",
      "text/plain": [
       "<Figure size 432x288 with 1 Axes>"
      ]
     },
     "metadata": {
      "needs_background": "light"
     },
     "output_type": "display_data"
    }
   ],
   "source": [
    "data['cityCenters_nearest'] = data['cityCenters_nearest'].fillna(0)\n",
    "data['cityCenters_nearest_km'] = data['cityCenters_nearest']/1000\n",
    "data['cityCenters_nearest_km'] = data['cityCenters_nearest_km'].astype('int')\n",
    "spb_data = data.query('locality_name == \"Санкт-Петербург\"')\n",
    "spb_pivot_data = spb_data.pivot_table(index='cityCenters_nearest_km', values='square_meter_price')\n",
    "spb_pivot_data.plot()"
   ]
  },
  {
   "cell_type": "markdown",
   "metadata": {},
   "source": [
    "Будем считать за радиус от центра 6 км."
   ]
  },
  {
   "cell_type": "markdown",
   "metadata": {},
   "source": [
    "### Проанализируем полученную нами выборку"
   ]
  },
  {
   "cell_type": "code",
   "execution_count": 175,
   "metadata": {},
   "outputs": [
    {
     "data": {
      "text/html": [
       "<div>\n",
       "<style scoped>\n",
       "    .dataframe tbody tr th:only-of-type {\n",
       "        vertical-align: middle;\n",
       "    }\n",
       "\n",
       "    .dataframe tbody tr th {\n",
       "        vertical-align: top;\n",
       "    }\n",
       "\n",
       "    .dataframe thead th {\n",
       "        text-align: right;\n",
       "    }\n",
       "</style>\n",
       "<table border=\"1\" class=\"dataframe\">\n",
       "  <thead>\n",
       "    <tr style=\"text-align: right;\">\n",
       "      <th></th>\n",
       "      <th>last_price</th>\n",
       "      <th>total_area</th>\n",
       "      <th>rooms</th>\n",
       "      <th>cityCenters_nearest_km</th>\n",
       "      <th>add_weekday</th>\n",
       "      <th>add_month</th>\n",
       "      <th>add_year</th>\n",
       "    </tr>\n",
       "  </thead>\n",
       "  <tbody>\n",
       "    <tr>\n",
       "      <th>last_price</th>\n",
       "      <td>1.000000</td>\n",
       "      <td>0.597932</td>\n",
       "      <td>0.299511</td>\n",
       "      <td>-0.051215</td>\n",
       "      <td>0.029515</td>\n",
       "      <td>-0.008432</td>\n",
       "      <td>-0.036545</td>\n",
       "    </tr>\n",
       "    <tr>\n",
       "      <th>total_area</th>\n",
       "      <td>0.597932</td>\n",
       "      <td>1.000000</td>\n",
       "      <td>0.741246</td>\n",
       "      <td>-0.040748</td>\n",
       "      <td>0.011780</td>\n",
       "      <td>-0.021474</td>\n",
       "      <td>-0.071135</td>\n",
       "    </tr>\n",
       "    <tr>\n",
       "      <th>rooms</th>\n",
       "      <td>0.299511</td>\n",
       "      <td>0.741246</td>\n",
       "      <td>1.000000</td>\n",
       "      <td>-0.075535</td>\n",
       "      <td>-0.005169</td>\n",
       "      <td>-0.033527</td>\n",
       "      <td>-0.057591</td>\n",
       "    </tr>\n",
       "    <tr>\n",
       "      <th>cityCenters_nearest_km</th>\n",
       "      <td>-0.051215</td>\n",
       "      <td>-0.040748</td>\n",
       "      <td>-0.075535</td>\n",
       "      <td>1.000000</td>\n",
       "      <td>-0.037069</td>\n",
       "      <td>0.011718</td>\n",
       "      <td>-0.035848</td>\n",
       "    </tr>\n",
       "    <tr>\n",
       "      <th>add_weekday</th>\n",
       "      <td>0.029515</td>\n",
       "      <td>0.011780</td>\n",
       "      <td>-0.005169</td>\n",
       "      <td>-0.037069</td>\n",
       "      <td>1.000000</td>\n",
       "      <td>0.031863</td>\n",
       "      <td>-0.003653</td>\n",
       "    </tr>\n",
       "    <tr>\n",
       "      <th>add_month</th>\n",
       "      <td>-0.008432</td>\n",
       "      <td>-0.021474</td>\n",
       "      <td>-0.033527</td>\n",
       "      <td>0.011718</td>\n",
       "      <td>0.031863</td>\n",
       "      <td>1.000000</td>\n",
       "      <td>-0.243236</td>\n",
       "    </tr>\n",
       "    <tr>\n",
       "      <th>add_year</th>\n",
       "      <td>-0.036545</td>\n",
       "      <td>-0.071135</td>\n",
       "      <td>-0.057591</td>\n",
       "      <td>-0.035848</td>\n",
       "      <td>-0.003653</td>\n",
       "      <td>-0.243236</td>\n",
       "      <td>1.000000</td>\n",
       "    </tr>\n",
       "  </tbody>\n",
       "</table>\n",
       "</div>"
      ],
      "text/plain": [
       "                        last_price  total_area     rooms  \\\n",
       "last_price                1.000000    0.597932  0.299511   \n",
       "total_area                0.597932    1.000000  0.741246   \n",
       "rooms                     0.299511    0.741246  1.000000   \n",
       "cityCenters_nearest_km   -0.051215   -0.040748 -0.075535   \n",
       "add_weekday               0.029515    0.011780 -0.005169   \n",
       "add_month                -0.008432   -0.021474 -0.033527   \n",
       "add_year                 -0.036545   -0.071135 -0.057591   \n",
       "\n",
       "                        cityCenters_nearest_km  add_weekday  add_month  \\\n",
       "last_price                           -0.051215     0.029515  -0.008432   \n",
       "total_area                           -0.040748     0.011780  -0.021474   \n",
       "rooms                                -0.075535    -0.005169  -0.033527   \n",
       "cityCenters_nearest_km                1.000000    -0.037069   0.011718   \n",
       "add_weekday                          -0.037069     1.000000   0.031863   \n",
       "add_month                             0.011718     0.031863   1.000000   \n",
       "add_year                             -0.035848    -0.003653  -0.243236   \n",
       "\n",
       "                        add_year  \n",
       "last_price             -0.036545  \n",
       "total_area             -0.071135  \n",
       "rooms                  -0.057591  \n",
       "cityCenters_nearest_km -0.035848  \n",
       "add_weekday            -0.003653  \n",
       "add_month              -0.243236  \n",
       "add_year                1.000000  "
      ]
     },
     "execution_count": 175,
     "metadata": {},
     "output_type": "execute_result"
    },
    {
     "data": {
      "image/png": "[encoded data removed]",
      "text/plain": [
       "<Figure size 1080x1080 with 49 Axes>"
      ]
     },
     "metadata": {
      "needs_background": "light"
     },
     "output_type": "display_data"
    }
   ],
   "source": [
    "corr_central_spb_data = spb_data.query('cityCenters_nearest_km < 6')\n",
    "corr_central_spb_data = corr_central_spb_data.loc[:,['last_price','total_area','rooms','floor_type','cityCenters_nearest_km','add_weekday','add_month','add_year']]\n",
    "pd.plotting.scatter_matrix(corr_central_spb_data, figsize=(15, 15)) \n",
    "corr_central_spb_data.corr()"
   ]
  },
  {
   "cell_type": "markdown",
   "metadata": {},
   "source": [
    "Согласно данной матрице *last_price* так же зависит от параметра *total_area*, хотя зависимость от параметра *rooms* более слабая."
   ]
  },
  {
   "cell_type": "code",
   "execution_count": 168,
   "metadata": {},
   "outputs": [
    {
     "data": {
      "text/plain": [
       "count    2888.000000\n",
       "mean       15.071607\n",
       "std        25.404998\n",
       "min         1.600000\n",
       "25%         6.900000\n",
       "50%         9.460000\n",
       "75%        14.551250\n",
       "max       763.000000\n",
       "Name: last_price, dtype: float64"
      ]
     },
     "execution_count": 168,
     "metadata": {},
     "output_type": "execute_result"
    }
   ],
   "source": [
    "corr_central_spb_data['last_price'].describe()"
   ]
  },
  {
   "cell_type": "code",
   "execution_count": 158,
   "metadata": {},
   "outputs": [
    {
     "data": {
      "text/plain": [
       "<AxesSubplot:xlabel='add_year'>"
      ]
     },
     "execution_count": 158,
     "metadata": {},
     "output_type": "execute_result"
    },
    {
     "data": {
      "image/png": "[encoded data removed]",
      "text/plain": [
       "<Figure size 432x288 with 1 Axes>"
      ]
     },
     "metadata": {
      "needs_background": "light"
     },
     "output_type": "display_data"
    }
   ],
   "source": [
    "year_spb_data = corr_central_spb_data.pivot_table(index='add_year',values='last_price')\n",
    "year_spb_data.plot()"
   ]
  },
  {
   "cell_type": "markdown",
   "metadata": {},
   "source": [
    "Наблюдается та же ситуация, что и с основными данными, однако с 2016 по 2017 цена выросла."
   ]
  },
  {
   "cell_type": "code",
   "execution_count": 167,
   "metadata": {},
   "outputs": [
    {
     "data": {
      "text/plain": [
       "<AxesSubplot:xlabel='add_weekday'>"
      ]
     },
     "execution_count": 167,
     "metadata": {},
     "output_type": "execute_result"
    },
    {
     "data": {
      "image/png": "[encoded data removed]",
      "text/plain": [
       "<Figure size 432x288 with 1 Axes>"
      ]
     },
     "metadata": {
      "needs_background": "light"
     },
     "output_type": "display_data"
    }
   ],
   "source": [
    "weekday_spb_data = corr_central_spb_data.pivot_table(index='add_weekday',values='last_price')\n",
    "weekday_spb_data.plot()"
   ]
  },
  {
   "cell_type": "markdown",
   "metadata": {},
   "source": [
    "Ситуация абсолютно противоположная основным данным, видим, что тут цена растет ближе к концу недели, хотя и резко обваливается в воскресенье."
   ]
  },
  {
   "cell_type": "code",
   "execution_count": 160,
   "metadata": {},
   "outputs": [
    {
     "data": {
      "text/plain": [
       "<AxesSubplot:xlabel='add_month'>"
      ]
     },
     "execution_count": 160,
     "metadata": {},
     "output_type": "execute_result"
    },
    {
     "data": {
      "image/png": "[encoded data removed]",
      "text/plain": [
       "<Figure size 432x288 with 1 Axes>"
      ]
     },
     "metadata": {
      "needs_background": "light"
     },
     "output_type": "display_data"
    }
   ],
   "source": [
    "month_spb_data = corr_central_spb_data.pivot_table(index='add_month',values='last_price')\n",
    "month_spb_data.plot()"
   ]
  },
  {
   "cell_type": "markdown",
   "metadata": {},
   "source": [
    "Примерно та же ситуация, что и с основными данными. Однако начало года более стабильное: цена не претерпевает существенных изменений. Лучшре значение так же в сентябре, хотя пиковое значение так же наблюдается в декабре"
   ]
  },
  {
   "cell_type": "code",
   "execution_count": 161,
   "metadata": {},
   "outputs": [
    {
     "data": {
      "text/html": [
       "<div>\n",
       "<style scoped>\n",
       "    .dataframe tbody tr th:only-of-type {\n",
       "        vertical-align: middle;\n",
       "    }\n",
       "\n",
       "    .dataframe tbody tr th {\n",
       "        vertical-align: top;\n",
       "    }\n",
       "\n",
       "    .dataframe thead th {\n",
       "        text-align: right;\n",
       "    }\n",
       "</style>\n",
       "<table border=\"1\" class=\"dataframe\">\n",
       "  <thead>\n",
       "    <tr style=\"text-align: right;\">\n",
       "      <th></th>\n",
       "      <th>last_price</th>\n",
       "    </tr>\n",
       "    <tr>\n",
       "      <th>floor_type</th>\n",
       "      <th></th>\n",
       "    </tr>\n",
       "  </thead>\n",
       "  <tbody>\n",
       "    <tr>\n",
       "      <th>другой</th>\n",
       "      <td>14.968357</td>\n",
       "    </tr>\n",
       "    <tr>\n",
       "      <th>первый</th>\n",
       "      <td>9.488535</td>\n",
       "    </tr>\n",
       "    <tr>\n",
       "      <th>последний</th>\n",
       "      <td>18.948599</td>\n",
       "    </tr>\n",
       "  </tbody>\n",
       "</table>\n",
       "</div>"
      ],
      "text/plain": [
       "            last_price\n",
       "floor_type            \n",
       "другой       14.968357\n",
       "первый        9.488535\n",
       "последний    18.948599"
      ]
     },
     "execution_count": 161,
     "metadata": {},
     "output_type": "execute_result"
    }
   ],
   "source": [
    "floor_spb_data = corr_central_spb_data.pivot_table(index='floor_type',values='last_price')\n",
    "floor_spb_data"
   ]
  },
  {
   "cell_type": "markdown",
   "metadata": {},
   "source": [
    "В отличие от основных данных *последний* и *другой* этажи имеют практически одинаковую цену, хотя *первый* так же дешевле. Самое больше значение так же у *последнего* этажа, а не у *другого*."
   ]
  },
  {
   "cell_type": "markdown",
   "metadata": {},
   "source": [
    "## Общий вывод"
   ]
  },
  {
   "cell_type": "markdown",
   "metadata": {},
   "source": [
    "Избавились от аномальных значений в столбце *days_exposition*. Проанализировали взаимосвязь цены со следующими параметрами: *площади*, *числа комнат*, *удалённости от центра*, *даты размещения*, *типа этажа*.\n",
    "Получили зависимость от *удалённости от центра* и *площади*. Выделили в какие дни недели, месяцы и года, цена падала или росла."
   ]
  },
  {
   "cell_type": "markdown",
   "metadata": {},
   "source": [
    "В начале работы мы имели базу данных Я.недвижимость. Мы совершили предобработку данных, избавились от аномальных значений и выбросов. Провели корреляционный анализ, и вот что мы получили в его результате: \n",
    "\n",
    "1.Среднее значение цены 4,97 млн. руб., медианное значение - 4.48 млн. руб.\n",
    "\n",
    "2.Основными параметрами влияющими на цену являются общая площадь и количество комнат. Начиная примерно с 50 кв. м. цена начинает резко расти."
   ]
  },
  {
   "cell_type": "markdown",
   "metadata": {},
   "source": [
    "Так же исследовали цену в центре Санкт-Петербурга и сделали следующие выводы:\n",
    "\n",
    "1.Среднее значение цены 15 млн. руб., медианное значение - 9.46 млн. руб.\n",
    "\n",
    "2.Основными параметрами влияющими на цену так же являются общая площадь и количество комнат. Цена более равномерна распределена относительно общей площади."
   ]
  },
  {
   "cell_type": "markdown",
   "metadata": {},
   "source": [
    "Считали центром все в радиусе 6 км. Видим, что в центре среднее значение цены больше в 3 раза, медианное значение в два."
   ]
  }
 ],
 "metadata": {
  "ExecuteTimeLog": [
   {
    "duration": 53,
    "start_time": "2022-04-06T13:48:10.055Z"
   },
   {
    "duration": 551,
    "start_time": "2022-04-06T13:48:17.616Z"
   },
   {
    "duration": 87,
    "start_time": "2022-04-06T13:48:19.425Z"
   },
   {
    "duration": 84,
    "start_time": "2022-04-06T13:48:26.813Z"
   },
   {
    "duration": 85,
    "start_time": "2022-04-06T13:49:12.663Z"
   },
   {
    "duration": 93,
    "start_time": "2022-04-06T13:49:17.992Z"
   },
   {
    "duration": 80,
    "start_time": "2022-04-06T13:56:09.817Z"
   },
   {
    "duration": 91,
    "start_time": "2022-04-06T13:56:15.289Z"
   },
   {
    "duration": 117,
    "start_time": "2022-04-06T13:58:46.074Z"
   },
   {
    "duration": 27,
    "start_time": "2022-04-06T16:33:25.343Z"
   },
   {
    "duration": 3,
    "start_time": "2022-04-06T16:33:37.190Z"
   },
   {
    "duration": 97,
    "start_time": "2022-04-06T16:33:37.195Z"
   },
   {
    "duration": 98,
    "start_time": "2022-04-06T16:33:37.294Z"
   },
   {
    "duration": 8,
    "start_time": "2022-04-06T16:33:39.610Z"
   },
   {
    "duration": 6,
    "start_time": "2022-04-06T16:33:47.354Z"
   },
   {
    "duration": 5,
    "start_time": "2022-04-06T16:34:02.690Z"
   },
   {
    "duration": 15,
    "start_time": "2022-04-06T16:34:11.992Z"
   },
   {
    "duration": 3,
    "start_time": "2022-04-06T16:34:23.150Z"
   },
   {
    "duration": 3,
    "start_time": "2022-04-06T16:37:01.539Z"
   },
   {
    "duration": 11,
    "start_time": "2022-04-06T16:39:18.353Z"
   },
   {
    "duration": 9,
    "start_time": "2022-04-06T16:39:28.286Z"
   },
   {
    "duration": 2,
    "start_time": "2022-04-06T16:39:31.685Z"
   },
   {
    "duration": 84,
    "start_time": "2022-04-06T16:39:31.689Z"
   },
   {
    "duration": 98,
    "start_time": "2022-04-06T16:39:31.775Z"
   },
   {
    "duration": 9,
    "start_time": "2022-04-06T16:39:33.835Z"
   },
   {
    "duration": 10,
    "start_time": "2022-04-06T16:39:43.663Z"
   },
   {
    "duration": 11,
    "start_time": "2022-04-06T16:39:45.766Z"
   },
   {
    "duration": 9,
    "start_time": "2022-04-06T16:39:46.396Z"
   },
   {
    "duration": 10,
    "start_time": "2022-04-06T16:39:46.936Z"
   },
   {
    "duration": 9,
    "start_time": "2022-04-06T16:39:47.521Z"
   },
   {
    "duration": 9,
    "start_time": "2022-04-06T16:40:07.881Z"
   },
   {
    "duration": 11,
    "start_time": "2022-04-06T16:40:16.988Z"
   },
   {
    "duration": 88,
    "start_time": "2022-04-06T16:40:30.489Z"
   },
   {
    "duration": 150,
    "start_time": "2022-04-06T16:40:33.739Z"
   },
   {
    "duration": 5,
    "start_time": "2022-04-06T16:40:36.821Z"
   },
   {
    "duration": 15,
    "start_time": "2022-04-06T16:40:54.949Z"
   },
   {
    "duration": 6,
    "start_time": "2022-04-06T16:41:20.655Z"
   },
   {
    "duration": 73,
    "start_time": "2022-04-07T08:29:47.298Z"
   },
   {
    "duration": 522,
    "start_time": "2022-04-07T08:29:51.751Z"
   },
   {
    "duration": 133,
    "start_time": "2022-04-07T08:29:52.276Z"
   },
   {
    "duration": 211,
    "start_time": "2022-04-07T08:29:52.411Z"
   },
   {
    "duration": 6,
    "start_time": "2022-04-07T08:29:52.632Z"
   },
   {
    "duration": 7,
    "start_time": "2022-04-07T08:29:52.640Z"
   },
   {
    "duration": 2872,
    "start_time": "2022-04-07T08:29:52.649Z"
   },
   {
    "duration": 67,
    "start_time": "2022-04-07T08:31:48.854Z"
   },
   {
    "duration": 17,
    "start_time": "2022-04-07T08:33:50.182Z"
   },
   {
    "duration": 18,
    "start_time": "2022-04-07T08:36:11.517Z"
   },
   {
    "duration": 10,
    "start_time": "2022-04-07T08:36:38.426Z"
   },
   {
    "duration": 49,
    "start_time": "2022-04-07T08:36:43.437Z"
   },
   {
    "duration": 7,
    "start_time": "2022-04-07T08:37:10.117Z"
   },
   {
    "duration": 8,
    "start_time": "2022-04-07T08:37:23.864Z"
   },
   {
    "duration": 6,
    "start_time": "2022-04-07T08:39:21.740Z"
   },
   {
    "duration": 24,
    "start_time": "2022-04-07T08:39:27.377Z"
   },
   {
    "duration": 23,
    "start_time": "2022-04-07T08:39:54.410Z"
   },
   {
    "duration": 10,
    "start_time": "2022-04-07T08:48:33.420Z"
   },
   {
    "duration": 69,
    "start_time": "2022-04-07T08:48:39.559Z"
   },
   {
    "duration": 10,
    "start_time": "2022-04-07T08:49:19.498Z"
   },
   {
    "duration": 32,
    "start_time": "2022-04-07T08:49:24.545Z"
   },
   {
    "duration": 11,
    "start_time": "2022-04-07T08:51:14.014Z"
   },
   {
    "duration": 31,
    "start_time": "2022-04-07T08:51:18.337Z"
   },
   {
    "duration": 5,
    "start_time": "2022-04-07T08:51:22.028Z"
   },
   {
    "duration": 28,
    "start_time": "2022-04-07T08:51:28.109Z"
   },
   {
    "duration": 11,
    "start_time": "2022-04-07T08:52:42.597Z"
   },
   {
    "duration": 4,
    "start_time": "2022-04-07T08:55:44.669Z"
   },
   {
    "duration": 1329,
    "start_time": "2022-04-07T08:55:49.647Z"
   },
   {
    "duration": 10,
    "start_time": "2022-04-07T08:56:18.067Z"
   },
   {
    "duration": 5,
    "start_time": "2022-04-07T08:56:27.055Z"
   },
   {
    "duration": 126,
    "start_time": "2022-04-07T08:56:53.657Z"
   },
   {
    "duration": 11,
    "start_time": "2022-04-07T08:57:40.122Z"
   },
   {
    "duration": 8,
    "start_time": "2022-04-07T08:57:53.264Z"
   },
   {
    "duration": 29,
    "start_time": "2022-04-07T08:57:57.017Z"
   },
   {
    "duration": 15,
    "start_time": "2022-04-07T08:58:12.309Z"
   },
   {
    "duration": 3,
    "start_time": "2022-04-07T08:58:22.746Z"
   },
   {
    "duration": 460,
    "start_time": "2022-04-07T08:58:22.751Z"
   },
   {
    "duration": 133,
    "start_time": "2022-04-07T08:58:23.213Z"
   },
   {
    "duration": 4,
    "start_time": "2022-04-07T08:58:23.348Z"
   },
   {
    "duration": 8,
    "start_time": "2022-04-07T08:58:23.354Z"
   },
   {
    "duration": 22,
    "start_time": "2022-04-07T08:58:23.364Z"
   },
   {
    "duration": 4,
    "start_time": "2022-04-07T08:58:23.388Z"
   },
   {
    "duration": 44,
    "start_time": "2022-04-07T08:58:23.394Z"
   },
   {
    "duration": 1118,
    "start_time": "2022-04-07T08:58:23.440Z"
   },
   {
    "duration": 3,
    "start_time": "2022-04-07T08:59:00.241Z"
   },
   {
    "duration": 427,
    "start_time": "2022-04-07T09:00:41.345Z"
   },
   {
    "duration": 438,
    "start_time": "2022-04-07T09:01:50.404Z"
   },
   {
    "duration": 3,
    "start_time": "2022-04-07T09:02:56.654Z"
   },
   {
    "duration": 623,
    "start_time": "2022-04-07T09:03:00.349Z"
   },
   {
    "duration": 3,
    "start_time": "2022-04-07T09:03:07.120Z"
   },
   {
    "duration": 462,
    "start_time": "2022-04-07T09:03:08.010Z"
   },
   {
    "duration": 3,
    "start_time": "2022-04-07T09:03:28.455Z"
   },
   {
    "duration": 1394,
    "start_time": "2022-04-07T09:03:29.713Z"
   },
   {
    "duration": 791,
    "start_time": "2022-04-07T09:05:02.733Z"
   },
   {
    "duration": 3,
    "start_time": "2022-04-07T09:05:48.815Z"
   },
   {
    "duration": 433,
    "start_time": "2022-04-07T09:05:50.949Z"
   },
   {
    "duration": 3,
    "start_time": "2022-04-07T09:06:06.756Z"
   },
   {
    "duration": 428,
    "start_time": "2022-04-07T09:06:07.630Z"
   },
   {
    "duration": 270,
    "start_time": "2022-04-07T09:06:31.103Z"
   },
   {
    "duration": 341,
    "start_time": "2022-04-07T09:06:35.100Z"
   },
   {
    "duration": 313,
    "start_time": "2022-04-07T09:06:46.656Z"
   },
   {
    "duration": 256,
    "start_time": "2022-04-07T09:07:03.781Z"
   },
   {
    "duration": 4,
    "start_time": "2022-04-07T09:12:00.654Z"
   },
   {
    "duration": 24,
    "start_time": "2022-04-07T09:12:08.411Z"
   },
   {
    "duration": 3,
    "start_time": "2022-04-07T09:12:22.291Z"
   },
   {
    "duration": 23,
    "start_time": "2022-04-07T09:13:05.247Z"
   },
   {
    "duration": 24,
    "start_time": "2022-04-07T09:17:10.894Z"
   },
   {
    "duration": 5,
    "start_time": "2022-04-07T09:17:52.114Z"
   },
   {
    "duration": 26,
    "start_time": "2022-04-07T09:17:56.482Z"
   },
   {
    "duration": 5,
    "start_time": "2022-04-07T09:18:03.141Z"
   },
   {
    "duration": 443,
    "start_time": "2022-04-09T13:13:15.086Z"
   },
   {
    "duration": 75,
    "start_time": "2022-04-09T13:13:15.531Z"
   },
   {
    "duration": 120,
    "start_time": "2022-04-09T13:13:15.607Z"
   },
   {
    "duration": 4,
    "start_time": "2022-04-09T13:13:15.729Z"
   },
   {
    "duration": 9,
    "start_time": "2022-04-09T13:13:15.734Z"
   },
   {
    "duration": 26,
    "start_time": "2022-04-09T13:13:15.744Z"
   },
   {
    "duration": 4,
    "start_time": "2022-04-09T13:13:15.772Z"
   },
   {
    "duration": 8,
    "start_time": "2022-04-09T13:13:15.777Z"
   },
   {
    "duration": 7,
    "start_time": "2022-04-09T13:13:15.786Z"
   },
   {
    "duration": 282,
    "start_time": "2022-04-09T13:13:15.795Z"
   },
   {
    "duration": 5,
    "start_time": "2022-04-09T13:13:16.079Z"
   },
   {
    "duration": 23,
    "start_time": "2022-04-09T13:13:32.419Z"
   },
   {
    "duration": 499,
    "start_time": "2022-04-09T13:43:20.375Z"
   },
   {
    "duration": 148,
    "start_time": "2022-04-09T13:43:58.866Z"
   },
   {
    "duration": 111,
    "start_time": "2022-04-09T13:44:03.605Z"
   },
   {
    "duration": 108,
    "start_time": "2022-04-09T13:44:45.397Z"
   },
   {
    "duration": 99,
    "start_time": "2022-04-09T13:46:47.522Z"
   },
   {
    "duration": 117,
    "start_time": "2022-04-09T13:46:56.074Z"
   },
   {
    "duration": 113,
    "start_time": "2022-04-09T13:47:05.237Z"
   },
   {
    "duration": 112,
    "start_time": "2022-04-09T13:47:11.260Z"
   },
   {
    "duration": 100,
    "start_time": "2022-04-09T13:47:41.631Z"
   },
   {
    "duration": 107,
    "start_time": "2022-04-09T13:47:55.912Z"
   },
   {
    "duration": 110,
    "start_time": "2022-04-09T13:48:38.725Z"
   },
   {
    "duration": 115,
    "start_time": "2022-04-09T13:48:51.132Z"
   },
   {
    "duration": 160,
    "start_time": "2022-04-09T13:49:17.256Z"
   },
   {
    "duration": 130,
    "start_time": "2022-04-09T13:49:20.683Z"
   },
   {
    "duration": 127,
    "start_time": "2022-04-09T13:49:23.965Z"
   },
   {
    "duration": 92,
    "start_time": "2022-04-09T13:49:31.248Z"
   },
   {
    "duration": 101,
    "start_time": "2022-04-09T13:49:36.396Z"
   },
   {
    "duration": 106,
    "start_time": "2022-04-09T13:49:40.548Z"
   },
   {
    "duration": 112,
    "start_time": "2022-04-09T13:49:47.092Z"
   },
   {
    "duration": 104,
    "start_time": "2022-04-09T13:49:53.322Z"
   },
   {
    "duration": 112,
    "start_time": "2022-04-09T13:49:56.845Z"
   },
   {
    "duration": 115,
    "start_time": "2022-04-09T13:49:59.971Z"
   },
   {
    "duration": 111,
    "start_time": "2022-04-09T13:50:16.840Z"
   },
   {
    "duration": 201,
    "start_time": "2022-04-09T13:54:00.656Z"
   },
   {
    "duration": 109,
    "start_time": "2022-04-09T13:54:09.225Z"
   },
   {
    "duration": 106,
    "start_time": "2022-04-09T13:54:39.050Z"
   },
   {
    "duration": 108,
    "start_time": "2022-04-09T13:54:45.466Z"
   },
   {
    "duration": 120,
    "start_time": "2022-04-09T13:54:49.321Z"
   },
   {
    "duration": 124,
    "start_time": "2022-04-09T13:54:53.952Z"
   },
   {
    "duration": 106,
    "start_time": "2022-04-09T13:54:56.807Z"
   },
   {
    "duration": 108,
    "start_time": "2022-04-09T13:55:20.948Z"
   },
   {
    "duration": 69,
    "start_time": "2022-04-09T13:55:32.087Z"
   },
   {
    "duration": 14,
    "start_time": "2022-04-09T13:55:35.537Z"
   },
   {
    "duration": 119,
    "start_time": "2022-04-09T13:55:46.088Z"
   },
   {
    "duration": 111,
    "start_time": "2022-04-09T13:55:59.282Z"
   },
   {
    "duration": 104,
    "start_time": "2022-04-09T13:56:48.679Z"
   },
   {
    "duration": 113,
    "start_time": "2022-04-09T14:00:07.322Z"
   },
   {
    "duration": 147,
    "start_time": "2022-04-09T14:00:19.832Z"
   },
   {
    "duration": 205,
    "start_time": "2022-04-09T14:00:31.944Z"
   },
   {
    "duration": 107,
    "start_time": "2022-04-09T14:01:35.232Z"
   },
   {
    "duration": 114,
    "start_time": "2022-04-09T14:01:44.269Z"
   },
   {
    "duration": 107,
    "start_time": "2022-04-09T14:02:57.756Z"
   },
   {
    "duration": 105,
    "start_time": "2022-04-09T14:03:23.955Z"
   },
   {
    "duration": 120,
    "start_time": "2022-04-09T14:03:29.014Z"
   },
   {
    "duration": 119,
    "start_time": "2022-04-09T14:03:37.762Z"
   },
   {
    "duration": 112,
    "start_time": "2022-04-09T14:03:55.551Z"
   },
   {
    "duration": 116,
    "start_time": "2022-04-09T14:04:03.502Z"
   },
   {
    "duration": 127,
    "start_time": "2022-04-09T14:09:24.515Z"
   },
   {
    "duration": 145,
    "start_time": "2022-04-09T14:09:29.335Z"
   },
   {
    "duration": 140,
    "start_time": "2022-04-09T14:10:06.718Z"
   },
   {
    "duration": 137,
    "start_time": "2022-04-09T14:10:44.030Z"
   },
   {
    "duration": 232,
    "start_time": "2022-04-09T14:10:48.454Z"
   },
   {
    "duration": 140,
    "start_time": "2022-04-09T14:11:02.245Z"
   },
   {
    "duration": 144,
    "start_time": "2022-04-09T14:11:06.506Z"
   },
   {
    "duration": 140,
    "start_time": "2022-04-09T14:11:24.279Z"
   },
   {
    "duration": 7,
    "start_time": "2022-04-09T14:15:22.254Z"
   },
   {
    "duration": 30,
    "start_time": "2022-04-09T14:15:28.134Z"
   },
   {
    "duration": 17,
    "start_time": "2022-04-09T14:16:23.391Z"
   },
   {
    "duration": 39,
    "start_time": "2022-04-09T14:16:54.596Z"
   },
   {
    "duration": 39,
    "start_time": "2022-04-09T14:19:16.333Z"
   },
   {
    "duration": 54,
    "start_time": "2022-04-09T14:19:23.726Z"
   },
   {
    "duration": 38,
    "start_time": "2022-04-09T14:19:36.528Z"
   },
   {
    "duration": 128,
    "start_time": "2022-04-09T14:19:51.877Z"
   },
   {
    "duration": 401,
    "start_time": "2022-04-11T09:18:50.064Z"
   },
   {
    "duration": 93,
    "start_time": "2022-04-11T09:18:50.467Z"
   },
   {
    "duration": 157,
    "start_time": "2022-04-11T09:18:50.562Z"
   },
   {
    "duration": 16,
    "start_time": "2022-04-11T09:18:50.722Z"
   },
   {
    "duration": 9,
    "start_time": "2022-04-11T09:18:50.740Z"
   },
   {
    "duration": 14,
    "start_time": "2022-04-11T09:18:50.751Z"
   },
   {
    "duration": 6,
    "start_time": "2022-04-11T09:18:50.766Z"
   },
   {
    "duration": 30,
    "start_time": "2022-04-11T09:18:50.774Z"
   },
   {
    "duration": 4,
    "start_time": "2022-04-11T09:18:50.806Z"
   },
   {
    "duration": 333,
    "start_time": "2022-04-11T09:18:50.841Z"
   },
   {
    "duration": 7,
    "start_time": "2022-04-11T09:18:51.175Z"
   },
   {
    "duration": 543,
    "start_time": "2022-04-11T09:18:51.183Z"
   },
   {
    "duration": 202,
    "start_time": "2022-04-11T09:18:51.728Z"
   },
   {
    "duration": 145,
    "start_time": "2022-04-11T09:18:51.939Z"
   },
   {
    "duration": 142,
    "start_time": "2022-04-11T09:18:52.086Z"
   },
   {
    "duration": 189,
    "start_time": "2022-04-11T09:18:52.230Z"
   },
   {
    "duration": 81,
    "start_time": "2022-04-11T09:19:33.390Z"
   },
   {
    "duration": 14,
    "start_time": "2022-04-11T09:21:20.691Z"
   },
   {
    "duration": 226,
    "start_time": "2022-04-11T09:26:38.773Z"
   },
   {
    "duration": 237,
    "start_time": "2022-04-11T09:26:50.930Z"
   },
   {
    "duration": 128,
    "start_time": "2022-04-11T09:27:08.857Z"
   },
   {
    "duration": 184,
    "start_time": "2022-04-11T09:27:18.891Z"
   },
   {
    "duration": 167,
    "start_time": "2022-04-11T09:27:26.920Z"
   },
   {
    "duration": 266,
    "start_time": "2022-04-11T09:27:34.203Z"
   },
   {
    "duration": 136,
    "start_time": "2022-04-11T09:27:40.397Z"
   },
   {
    "duration": 133,
    "start_time": "2022-04-11T09:27:47.302Z"
   },
   {
    "duration": 147,
    "start_time": "2022-04-11T09:27:50.910Z"
   },
   {
    "duration": 236,
    "start_time": "2022-04-11T09:27:55.195Z"
   },
   {
    "duration": 237,
    "start_time": "2022-04-11T09:27:58.971Z"
   },
   {
    "duration": 324,
    "start_time": "2022-04-11T09:28:25.399Z"
   },
   {
    "duration": 185,
    "start_time": "2022-04-11T09:29:09.214Z"
   },
   {
    "duration": 182,
    "start_time": "2022-04-11T09:29:25.978Z"
   },
   {
    "duration": 137,
    "start_time": "2022-04-11T09:40:39.513Z"
   },
   {
    "duration": 212,
    "start_time": "2022-04-11T09:40:48.620Z"
   },
   {
    "duration": 147,
    "start_time": "2022-04-11T09:41:01.331Z"
   },
   {
    "duration": 137,
    "start_time": "2022-04-11T09:41:10.055Z"
   },
   {
    "duration": 3,
    "start_time": "2022-04-11T09:55:56.740Z"
   },
   {
    "duration": 3,
    "start_time": "2022-04-11T09:56:01.736Z"
   },
   {
    "duration": 122,
    "start_time": "2022-04-11T09:56:01.746Z"
   },
   {
    "duration": 159,
    "start_time": "2022-04-11T09:56:01.871Z"
   },
   {
    "duration": 6,
    "start_time": "2022-04-11T09:56:02.039Z"
   },
   {
    "duration": 14,
    "start_time": "2022-04-11T09:56:02.048Z"
   },
   {
    "duration": 24,
    "start_time": "2022-04-11T09:56:02.064Z"
   },
   {
    "duration": 26,
    "start_time": "2022-04-11T09:56:02.090Z"
   },
   {
    "duration": 36,
    "start_time": "2022-04-11T09:56:02.118Z"
   },
   {
    "duration": 4,
    "start_time": "2022-04-11T09:56:02.156Z"
   },
   {
    "duration": 295,
    "start_time": "2022-04-11T09:56:02.162Z"
   },
   {
    "duration": 6,
    "start_time": "2022-04-11T09:56:02.460Z"
   },
   {
    "duration": 200,
    "start_time": "2022-04-11T09:56:02.468Z"
   },
   {
    "duration": 197,
    "start_time": "2022-04-11T09:56:02.670Z"
   },
   {
    "duration": 149,
    "start_time": "2022-04-11T09:56:02.868Z"
   },
   {
    "duration": 166,
    "start_time": "2022-04-11T09:56:03.019Z"
   },
   {
    "duration": 201,
    "start_time": "2022-04-11T09:56:03.187Z"
   },
   {
    "duration": 10,
    "start_time": "2022-04-11T09:56:03.390Z"
   },
   {
    "duration": 47,
    "start_time": "2022-04-11T10:01:19.206Z"
   },
   {
    "duration": 110,
    "start_time": "2022-04-11T10:01:38.607Z"
   },
   {
    "duration": 45,
    "start_time": "2022-04-11T10:01:42.491Z"
   },
   {
    "duration": 49,
    "start_time": "2022-04-11T16:32:08.412Z"
   },
   {
    "duration": 786,
    "start_time": "2022-04-11T16:32:13.198Z"
   },
   {
    "duration": 92,
    "start_time": "2022-04-11T16:32:13.987Z"
   },
   {
    "duration": 133,
    "start_time": "2022-04-11T16:32:14.080Z"
   },
   {
    "duration": 5,
    "start_time": "2022-04-11T16:32:14.215Z"
   },
   {
    "duration": 25,
    "start_time": "2022-04-11T16:32:14.222Z"
   },
   {
    "duration": 12,
    "start_time": "2022-04-11T16:32:14.249Z"
   },
   {
    "duration": 5,
    "start_time": "2022-04-11T16:32:14.263Z"
   },
   {
    "duration": 19,
    "start_time": "2022-04-11T16:32:14.269Z"
   },
   {
    "duration": 3,
    "start_time": "2022-04-11T16:32:14.290Z"
   },
   {
    "duration": 288,
    "start_time": "2022-04-11T16:32:14.294Z"
   },
   {
    "duration": 7,
    "start_time": "2022-04-11T16:32:14.584Z"
   },
   {
    "duration": 56,
    "start_time": "2022-04-11T16:32:14.593Z"
   },
   {
    "duration": 251,
    "start_time": "2022-04-11T16:32:14.651Z"
   },
   {
    "duration": 181,
    "start_time": "2022-04-11T16:32:14.905Z"
   },
   {
    "duration": 141,
    "start_time": "2022-04-11T16:32:15.088Z"
   },
   {
    "duration": 150,
    "start_time": "2022-04-11T16:32:15.231Z"
   },
   {
    "duration": 194,
    "start_time": "2022-04-11T16:32:15.383Z"
   },
   {
    "duration": 38,
    "start_time": "2022-04-11T16:32:15.579Z"
   },
   {
    "duration": 0,
    "start_time": "2022-04-11T16:32:15.619Z"
   },
   {
    "duration": 736,
    "start_time": "2022-04-11T16:33:01.630Z"
   },
   {
    "duration": 46,
    "start_time": "2022-04-11T16:34:28.490Z"
   },
   {
    "duration": 698,
    "start_time": "2022-04-11T16:34:32.594Z"
   },
   {
    "duration": 92,
    "start_time": "2022-04-11T16:34:33.294Z"
   },
   {
    "duration": 140,
    "start_time": "2022-04-11T16:34:33.387Z"
   },
   {
    "duration": 4,
    "start_time": "2022-04-11T16:34:33.529Z"
   },
   {
    "duration": 9,
    "start_time": "2022-04-11T16:34:33.547Z"
   },
   {
    "duration": 10,
    "start_time": "2022-04-11T16:34:33.558Z"
   },
   {
    "duration": 5,
    "start_time": "2022-04-11T16:34:33.570Z"
   },
   {
    "duration": 19,
    "start_time": "2022-04-11T16:34:33.576Z"
   },
   {
    "duration": 3,
    "start_time": "2022-04-11T16:34:33.596Z"
   },
   {
    "duration": 312,
    "start_time": "2022-04-11T16:34:33.602Z"
   },
   {
    "duration": 6,
    "start_time": "2022-04-11T16:34:33.916Z"
   },
   {
    "duration": 52,
    "start_time": "2022-04-11T16:34:33.923Z"
   },
   {
    "duration": 196,
    "start_time": "2022-04-11T16:34:33.977Z"
   },
   {
    "duration": 236,
    "start_time": "2022-04-11T16:34:34.174Z"
   },
   {
    "duration": 143,
    "start_time": "2022-04-11T16:34:34.413Z"
   },
   {
    "duration": 152,
    "start_time": "2022-04-11T16:34:34.557Z"
   },
   {
    "duration": 187,
    "start_time": "2022-04-11T16:34:34.711Z"
   },
   {
    "duration": 683,
    "start_time": "2022-04-11T16:37:53.632Z"
   },
   {
    "duration": 89,
    "start_time": "2022-04-11T16:37:54.316Z"
   },
   {
    "duration": 133,
    "start_time": "2022-04-11T16:37:54.408Z"
   },
   {
    "duration": 7,
    "start_time": "2022-04-11T16:37:54.543Z"
   },
   {
    "duration": 11,
    "start_time": "2022-04-11T16:37:54.551Z"
   },
   {
    "duration": 11,
    "start_time": "2022-04-11T16:37:54.564Z"
   },
   {
    "duration": 5,
    "start_time": "2022-04-11T16:37:54.576Z"
   },
   {
    "duration": 23,
    "start_time": "2022-04-11T16:37:54.582Z"
   },
   {
    "duration": 3,
    "start_time": "2022-04-11T16:37:54.607Z"
   },
   {
    "duration": 276,
    "start_time": "2022-04-11T16:37:54.612Z"
   },
   {
    "duration": 5,
    "start_time": "2022-04-11T16:37:54.890Z"
   },
   {
    "duration": 43,
    "start_time": "2022-04-11T16:37:54.897Z"
   },
   {
    "duration": 174,
    "start_time": "2022-04-11T16:37:54.947Z"
   },
   {
    "duration": 241,
    "start_time": "2022-04-11T16:37:55.124Z"
   },
   {
    "duration": 135,
    "start_time": "2022-04-11T16:37:55.367Z"
   },
   {
    "duration": 146,
    "start_time": "2022-04-11T16:37:55.504Z"
   },
   {
    "duration": 181,
    "start_time": "2022-04-11T16:37:55.652Z"
   },
   {
    "duration": 73,
    "start_time": "2022-04-11T16:37:55.835Z"
   },
   {
    "duration": 0,
    "start_time": "2022-04-11T16:37:55.910Z"
   },
   {
    "duration": 119,
    "start_time": "2022-04-11T16:38:36.257Z"
   },
   {
    "duration": 100,
    "start_time": "2022-04-11T16:39:41.117Z"
   },
   {
    "duration": 96,
    "start_time": "2022-04-11T16:39:47.798Z"
   },
   {
    "duration": 179,
    "start_time": "2022-04-11T16:40:00.882Z"
   },
   {
    "duration": 100,
    "start_time": "2022-04-11T16:40:03.908Z"
   },
   {
    "duration": 90,
    "start_time": "2022-04-11T16:40:41.062Z"
   },
   {
    "duration": 302,
    "start_time": "2022-04-11T16:45:18.160Z"
   },
   {
    "duration": 172,
    "start_time": "2022-04-11T16:45:47.809Z"
   },
   {
    "duration": 165,
    "start_time": "2022-04-11T16:46:11.138Z"
   },
   {
    "duration": 168,
    "start_time": "2022-04-11T16:46:18.922Z"
   },
   {
    "duration": 2158,
    "start_time": "2022-04-11T16:47:17.775Z"
   },
   {
    "duration": 150,
    "start_time": "2022-04-11T16:47:24.977Z"
   },
   {
    "duration": 137,
    "start_time": "2022-04-11T16:47:32.783Z"
   },
   {
    "duration": 218,
    "start_time": "2022-04-11T16:49:15.162Z"
   },
   {
    "duration": 209,
    "start_time": "2022-04-11T16:49:28.129Z"
   },
   {
    "duration": 194,
    "start_time": "2022-04-11T16:49:40.980Z"
   },
   {
    "duration": 270,
    "start_time": "2022-04-11T16:49:45.649Z"
   },
   {
    "duration": 207,
    "start_time": "2022-04-11T16:49:49.749Z"
   },
   {
    "duration": 232,
    "start_time": "2022-04-11T16:50:21.227Z"
   },
   {
    "duration": 218,
    "start_time": "2022-04-11T16:50:26.873Z"
   },
   {
    "duration": 211,
    "start_time": "2022-04-11T16:50:35.324Z"
   },
   {
    "duration": 207,
    "start_time": "2022-04-11T16:50:41.517Z"
   },
   {
    "duration": 314,
    "start_time": "2022-04-11T16:51:04.147Z"
   },
   {
    "duration": 5,
    "start_time": "2022-04-11T16:53:14.970Z"
   },
   {
    "duration": 7,
    "start_time": "2022-04-11T16:53:17.783Z"
   },
   {
    "duration": 4,
    "start_time": "2022-04-11T16:53:48.966Z"
   },
   {
    "duration": 13,
    "start_time": "2022-04-11T16:55:04.784Z"
   },
   {
    "duration": 28,
    "start_time": "2022-04-11T16:55:11.415Z"
   },
   {
    "duration": 13,
    "start_time": "2022-04-11T16:55:36.356Z"
   },
   {
    "duration": 15,
    "start_time": "2022-04-11T16:55:49.357Z"
   },
   {
    "duration": 22,
    "start_time": "2022-04-11T16:56:08.742Z"
   },
   {
    "duration": 12,
    "start_time": "2022-04-11T16:56:13.633Z"
   },
   {
    "duration": 14,
    "start_time": "2022-04-11T17:08:11.071Z"
   },
   {
    "duration": 15,
    "start_time": "2022-04-11T17:10:17.230Z"
   },
   {
    "duration": 14,
    "start_time": "2022-04-11T17:11:08.332Z"
   },
   {
    "duration": 1887,
    "start_time": "2022-04-11T17:11:13.073Z"
   },
   {
    "duration": 9,
    "start_time": "2022-04-11T17:11:34.209Z"
   },
   {
    "duration": 1921,
    "start_time": "2022-04-11T17:11:39.604Z"
   },
   {
    "duration": 6,
    "start_time": "2022-04-11T17:11:51.873Z"
   },
   {
    "duration": 21,
    "start_time": "2022-04-11T17:11:57.067Z"
   },
   {
    "duration": 2997,
    "start_time": "2022-04-11T17:12:46.061Z"
   },
   {
    "duration": 2985,
    "start_time": "2022-04-11T17:13:36.423Z"
   },
   {
    "duration": 3251,
    "start_time": "2022-04-11T17:13:44.681Z"
   },
   {
    "duration": 19,
    "start_time": "2022-04-11T17:17:14.897Z"
   },
   {
    "duration": 2,
    "start_time": "2022-04-11T17:20:27.718Z"
   },
   {
    "duration": 77,
    "start_time": "2022-04-11T17:20:27.722Z"
   },
   {
    "duration": 132,
    "start_time": "2022-04-11T17:20:27.801Z"
   },
   {
    "duration": 10,
    "start_time": "2022-04-11T17:20:27.936Z"
   },
   {
    "duration": 28,
    "start_time": "2022-04-11T17:20:27.948Z"
   },
   {
    "duration": 6,
    "start_time": "2022-04-11T17:20:27.978Z"
   },
   {
    "duration": 7,
    "start_time": "2022-04-11T17:20:27.986Z"
   },
   {
    "duration": 18,
    "start_time": "2022-04-11T17:20:27.995Z"
   },
   {
    "duration": 3,
    "start_time": "2022-04-11T17:20:28.016Z"
   },
   {
    "duration": 275,
    "start_time": "2022-04-11T17:20:28.021Z"
   },
   {
    "duration": 6,
    "start_time": "2022-04-11T17:20:28.298Z"
   },
   {
    "duration": 43,
    "start_time": "2022-04-11T17:20:28.305Z"
   },
   {
    "duration": 181,
    "start_time": "2022-04-11T17:20:28.350Z"
   },
   {
    "duration": 223,
    "start_time": "2022-04-11T17:20:28.532Z"
   },
   {
    "duration": 139,
    "start_time": "2022-04-11T17:20:28.756Z"
   },
   {
    "duration": 150,
    "start_time": "2022-04-11T17:20:28.896Z"
   },
   {
    "duration": 227,
    "start_time": "2022-04-11T17:20:29.048Z"
   },
   {
    "duration": 102,
    "start_time": "2022-04-11T17:20:29.277Z"
   },
   {
    "duration": 23,
    "start_time": "2022-04-11T17:20:29.380Z"
   },
   {
    "duration": 3227,
    "start_time": "2022-04-11T17:20:29.406Z"
   },
   {
    "duration": 14,
    "start_time": "2022-04-11T17:20:32.635Z"
   },
   {
    "duration": 23,
    "start_time": "2022-04-11T17:20:32.651Z"
   },
   {
    "duration": 4543,
    "start_time": "2022-04-11T17:26:59.576Z"
   },
   {
    "duration": 14,
    "start_time": "2022-04-11T17:27:09.855Z"
   },
   {
    "duration": 5,
    "start_time": "2022-04-11T17:43:17.998Z"
   },
   {
    "duration": 32,
    "start_time": "2022-04-11T17:43:44.022Z"
   },
   {
    "duration": 5,
    "start_time": "2022-04-11T17:44:52.756Z"
   },
   {
    "duration": 15,
    "start_time": "2022-04-11T17:44:57.484Z"
   },
   {
    "duration": 4234,
    "start_time": "2022-04-11T17:49:56.348Z"
   },
   {
    "duration": 15,
    "start_time": "2022-04-11T17:50:00.584Z"
   },
   {
    "duration": 14,
    "start_time": "2022-04-11T17:52:12.217Z"
   },
   {
    "duration": 4506,
    "start_time": "2022-04-11T17:52:18.985Z"
   },
   {
    "duration": 15,
    "start_time": "2022-04-11T17:52:26.106Z"
   },
   {
    "duration": 4383,
    "start_time": "2022-04-11T17:55:01.066Z"
   },
   {
    "duration": 14,
    "start_time": "2022-04-11T17:55:23.519Z"
   },
   {
    "duration": 21,
    "start_time": "2022-04-11T17:55:31.521Z"
   },
   {
    "duration": 15,
    "start_time": "2022-04-11T17:56:07.393Z"
   },
   {
    "duration": 9,
    "start_time": "2022-04-11T17:57:36.262Z"
   },
   {
    "duration": 9,
    "start_time": "2022-04-11T17:57:41.618Z"
   },
   {
    "duration": 12,
    "start_time": "2022-04-11T17:57:47.838Z"
   },
   {
    "duration": 15,
    "start_time": "2022-04-11T17:59:38.222Z"
   },
   {
    "duration": 13,
    "start_time": "2022-04-11T18:00:44.135Z"
   },
   {
    "duration": 14,
    "start_time": "2022-04-11T18:00:51.585Z"
   },
   {
    "duration": 144,
    "start_time": "2022-04-11T18:01:05.374Z"
   },
   {
    "duration": 15,
    "start_time": "2022-04-11T18:01:29.807Z"
   },
   {
    "duration": 133,
    "start_time": "2022-04-11T18:01:50.617Z"
   },
   {
    "duration": 141,
    "start_time": "2022-04-11T18:02:28.014Z"
   },
   {
    "duration": 130,
    "start_time": "2022-04-11T18:02:32.689Z"
   },
   {
    "duration": 143,
    "start_time": "2022-04-11T18:03:19.650Z"
   },
   {
    "duration": 14,
    "start_time": "2022-04-11T18:03:46.057Z"
   },
   {
    "duration": 14,
    "start_time": "2022-04-11T18:03:47.099Z"
   },
   {
    "duration": 143,
    "start_time": "2022-04-11T18:04:04.724Z"
   },
   {
    "duration": 12,
    "start_time": "2022-04-11T18:04:11.565Z"
   },
   {
    "duration": 136,
    "start_time": "2022-04-11T18:04:17.126Z"
   },
   {
    "duration": 156,
    "start_time": "2022-04-11T18:08:46.255Z"
   },
   {
    "duration": 154,
    "start_time": "2022-04-11T18:09:28.156Z"
   },
   {
    "duration": 143,
    "start_time": "2022-04-11T18:09:47.949Z"
   },
   {
    "duration": 121,
    "start_time": "2022-04-11T18:09:49.357Z"
   },
   {
    "duration": 153,
    "start_time": "2022-04-11T18:09:56.669Z"
   },
   {
    "duration": 551,
    "start_time": "2022-04-11T18:10:01.957Z"
   },
   {
    "duration": 135,
    "start_time": "2022-04-11T18:11:30.012Z"
   },
   {
    "duration": 159,
    "start_time": "2022-04-11T18:11:48.972Z"
   },
   {
    "duration": 11,
    "start_time": "2022-04-11T18:17:37.266Z"
   },
   {
    "duration": 19,
    "start_time": "2022-04-11T18:17:44.648Z"
   },
   {
    "duration": 19,
    "start_time": "2022-04-11T18:18:04.197Z"
   },
   {
    "duration": 24,
    "start_time": "2022-04-11T18:18:13.574Z"
   },
   {
    "duration": 24,
    "start_time": "2022-04-11T18:18:19.415Z"
   },
   {
    "duration": 24,
    "start_time": "2022-04-11T18:18:57.517Z"
   },
   {
    "duration": 26,
    "start_time": "2022-04-11T18:19:04.672Z"
   },
   {
    "duration": 21,
    "start_time": "2022-04-11T18:19:52.339Z"
   },
   {
    "duration": 36,
    "start_time": "2022-04-11T18:20:00.110Z"
   },
   {
    "duration": 27,
    "start_time": "2022-04-11T18:20:17.175Z"
   },
   {
    "duration": 30,
    "start_time": "2022-04-11T18:21:37.753Z"
   },
   {
    "duration": 36,
    "start_time": "2022-04-11T18:22:10.323Z"
   },
   {
    "duration": 31,
    "start_time": "2022-04-11T18:23:44.291Z"
   },
   {
    "duration": 34,
    "start_time": "2022-04-11T18:24:30.007Z"
   },
   {
    "duration": 28,
    "start_time": "2022-04-11T18:26:13.505Z"
   },
   {
    "duration": 30,
    "start_time": "2022-04-11T18:26:28.415Z"
   },
   {
    "duration": 32,
    "start_time": "2022-04-11T18:26:29.469Z"
   },
   {
    "duration": 3,
    "start_time": "2022-04-11T18:26:31.879Z"
   },
   {
    "duration": 92,
    "start_time": "2022-04-11T18:26:31.885Z"
   },
   {
    "duration": 148,
    "start_time": "2022-04-11T18:26:31.979Z"
   },
   {
    "duration": 10,
    "start_time": "2022-04-11T18:26:32.129Z"
   },
   {
    "duration": 31,
    "start_time": "2022-04-11T18:26:32.142Z"
   },
   {
    "duration": 8,
    "start_time": "2022-04-11T18:26:32.175Z"
   },
   {
    "duration": 14,
    "start_time": "2022-04-11T18:26:32.185Z"
   },
   {
    "duration": 26,
    "start_time": "2022-04-11T18:26:32.201Z"
   },
   {
    "duration": 4,
    "start_time": "2022-04-11T18:26:32.229Z"
   },
   {
    "duration": 284,
    "start_time": "2022-04-11T18:26:32.234Z"
   },
   {
    "duration": 6,
    "start_time": "2022-04-11T18:26:32.521Z"
   },
   {
    "duration": 60,
    "start_time": "2022-04-11T18:26:32.529Z"
   },
   {
    "duration": 196,
    "start_time": "2022-04-11T18:26:32.591Z"
   },
   {
    "duration": 256,
    "start_time": "2022-04-11T18:26:32.789Z"
   },
   {
    "duration": 187,
    "start_time": "2022-04-11T18:26:33.047Z"
   },
   {
    "duration": 159,
    "start_time": "2022-04-11T18:26:33.235Z"
   },
   {
    "duration": 244,
    "start_time": "2022-04-11T18:26:33.396Z"
   },
   {
    "duration": 120,
    "start_time": "2022-04-11T18:26:33.643Z"
   },
   {
    "duration": 41,
    "start_time": "2022-04-11T18:26:33.764Z"
   },
   {
    "duration": 4332,
    "start_time": "2022-04-11T18:26:33.808Z"
   },
   {
    "duration": 33,
    "start_time": "2022-04-11T18:26:38.142Z"
   },
   {
    "duration": 172,
    "start_time": "2022-04-11T18:26:38.176Z"
   },
   {
    "duration": 146,
    "start_time": "2022-04-11T18:26:38.350Z"
   },
   {
    "duration": 172,
    "start_time": "2022-04-11T18:26:38.498Z"
   },
   {
    "duration": 18,
    "start_time": "2022-04-11T18:26:38.672Z"
   },
   {
    "duration": 44,
    "start_time": "2022-04-11T18:26:38.692Z"
   },
   {
    "duration": 43,
    "start_time": "2022-04-11T18:27:22.297Z"
   },
   {
    "duration": 30,
    "start_time": "2022-04-11T18:27:50.167Z"
   },
   {
    "duration": 26,
    "start_time": "2022-04-11T18:28:11.363Z"
   },
   {
    "duration": 29,
    "start_time": "2022-04-11T18:28:19.213Z"
   },
   {
    "duration": 29,
    "start_time": "2022-04-11T18:28:26.544Z"
   },
   {
    "duration": 33,
    "start_time": "2022-04-11T18:28:40.323Z"
   },
   {
    "duration": 40,
    "start_time": "2022-04-11T18:28:45.080Z"
   },
   {
    "duration": 32,
    "start_time": "2022-04-11T18:28:52.852Z"
   },
   {
    "duration": 32,
    "start_time": "2022-04-11T18:29:15.599Z"
   },
   {
    "duration": 3,
    "start_time": "2022-04-11T18:30:05.003Z"
   },
   {
    "duration": 95,
    "start_time": "2022-04-11T18:30:05.009Z"
   },
   {
    "duration": 139,
    "start_time": "2022-04-11T18:30:05.106Z"
   },
   {
    "duration": 9,
    "start_time": "2022-04-11T18:30:05.247Z"
   },
   {
    "duration": 8,
    "start_time": "2022-04-11T18:30:05.273Z"
   },
   {
    "duration": 8,
    "start_time": "2022-04-11T18:30:05.283Z"
   },
   {
    "duration": 11,
    "start_time": "2022-04-11T18:30:05.292Z"
   },
   {
    "duration": 20,
    "start_time": "2022-04-11T18:30:05.305Z"
   },
   {
    "duration": 4,
    "start_time": "2022-04-11T18:30:05.327Z"
   },
   {
    "duration": 282,
    "start_time": "2022-04-11T18:30:05.332Z"
   },
   {
    "duration": 5,
    "start_time": "2022-04-11T18:30:05.617Z"
   },
   {
    "duration": 53,
    "start_time": "2022-04-11T18:30:05.624Z"
   },
   {
    "duration": 204,
    "start_time": "2022-04-11T18:30:05.679Z"
   },
   {
    "duration": 704,
    "start_time": "2022-04-11T18:30:05.885Z"
   },
   {
    "duration": 165,
    "start_time": "2022-04-11T18:30:06.591Z"
   },
   {
    "duration": 165,
    "start_time": "2022-04-11T18:30:06.758Z"
   },
   {
    "duration": 254,
    "start_time": "2022-04-11T18:30:06.924Z"
   },
   {
    "duration": 115,
    "start_time": "2022-04-11T18:30:07.180Z"
   },
   {
    "duration": 34,
    "start_time": "2022-04-11T18:30:07.297Z"
   },
   {
    "duration": 4382,
    "start_time": "2022-04-11T18:30:07.333Z"
   },
   {
    "duration": 17,
    "start_time": "2022-04-11T18:30:11.717Z"
   },
   {
    "duration": 172,
    "start_time": "2022-04-11T18:30:11.735Z"
   },
   {
    "duration": 151,
    "start_time": "2022-04-11T18:30:11.909Z"
   },
   {
    "duration": 158,
    "start_time": "2022-04-11T18:30:12.061Z"
   },
   {
    "duration": 16,
    "start_time": "2022-04-11T18:30:12.221Z"
   },
   {
    "duration": 52,
    "start_time": "2022-04-11T18:30:12.239Z"
   },
   {
    "duration": 30,
    "start_time": "2022-04-11T18:31:58.178Z"
   },
   {
    "duration": 10,
    "start_time": "2022-04-11T18:32:53.836Z"
   },
   {
    "duration": 16,
    "start_time": "2022-04-11T18:33:30.651Z"
   },
   {
    "duration": 11,
    "start_time": "2022-04-11T18:33:40.195Z"
   },
   {
    "duration": 1885,
    "start_time": "2022-04-11T18:35:28.693Z"
   },
   {
    "duration": 11,
    "start_time": "2022-04-11T18:35:47.213Z"
   },
   {
    "duration": 30,
    "start_time": "2022-04-11T18:36:13.130Z"
   },
   {
    "duration": 10,
    "start_time": "2022-04-11T18:36:30.403Z"
   },
   {
    "duration": 11,
    "start_time": "2022-04-11T18:36:32.449Z"
   },
   {
    "duration": 5,
    "start_time": "2022-04-11T18:37:11.680Z"
   },
   {
    "duration": 15,
    "start_time": "2022-04-11T18:37:14.538Z"
   },
   {
    "duration": 13,
    "start_time": "2022-04-11T18:37:52.365Z"
   },
   {
    "duration": 21,
    "start_time": "2022-04-11T18:41:13.114Z"
   },
   {
    "duration": 152,
    "start_time": "2022-04-11T18:41:21.963Z"
   },
   {
    "duration": 137,
    "start_time": "2022-04-11T18:49:50.671Z"
   },
   {
    "duration": 139,
    "start_time": "2022-04-11T18:49:58.479Z"
   },
   {
    "duration": 148,
    "start_time": "2022-04-11T18:50:16.957Z"
   },
   {
    "duration": 27,
    "start_time": "2022-04-11T18:55:31.515Z"
   },
   {
    "duration": 8,
    "start_time": "2022-04-11T18:55:36.788Z"
   },
   {
    "duration": 26,
    "start_time": "2022-04-11T18:56:12.321Z"
   },
   {
    "duration": 35,
    "start_time": "2022-04-11T18:57:25.376Z"
   },
   {
    "duration": 137,
    "start_time": "2022-04-11T19:01:32.169Z"
   },
   {
    "duration": 153,
    "start_time": "2022-04-11T19:02:29.777Z"
   },
   {
    "duration": 145,
    "start_time": "2022-04-11T19:02:36.094Z"
   },
   {
    "duration": 2074,
    "start_time": "2022-04-11T19:05:03.218Z"
   },
   {
    "duration": 2036,
    "start_time": "2022-04-11T19:05:21.009Z"
   },
   {
    "duration": 117,
    "start_time": "2022-04-11T19:05:29.702Z"
   },
   {
    "duration": 2026,
    "start_time": "2022-04-11T19:05:33.775Z"
   },
   {
    "duration": 1986,
    "start_time": "2022-04-11T19:05:46.137Z"
   },
   {
    "duration": 128,
    "start_time": "2022-04-11T19:05:49.713Z"
   },
   {
    "duration": 136,
    "start_time": "2022-04-11T19:06:07.533Z"
   },
   {
    "duration": 129,
    "start_time": "2022-04-11T19:06:25.451Z"
   },
   {
    "duration": 138,
    "start_time": "2022-04-11T19:10:58.836Z"
   },
   {
    "duration": 122,
    "start_time": "2022-04-11T19:11:15.304Z"
   },
   {
    "duration": 126,
    "start_time": "2022-04-11T19:11:33.492Z"
   },
   {
    "duration": 122,
    "start_time": "2022-04-11T19:11:52.024Z"
   },
   {
    "duration": 135,
    "start_time": "2022-04-11T19:14:01.038Z"
   },
   {
    "duration": 116,
    "start_time": "2022-04-11T19:14:10.599Z"
   },
   {
    "duration": 7,
    "start_time": "2022-04-11T19:14:13.652Z"
   },
   {
    "duration": 14,
    "start_time": "2022-04-11T19:14:32.756Z"
   },
   {
    "duration": 19,
    "start_time": "2022-04-11T19:14:42.494Z"
   },
   {
    "duration": 19,
    "start_time": "2022-04-11T19:15:05.012Z"
   },
   {
    "duration": 34,
    "start_time": "2022-04-11T19:15:24.342Z"
   },
   {
    "duration": 33,
    "start_time": "2022-04-11T19:15:32.610Z"
   },
   {
    "duration": 38,
    "start_time": "2022-04-11T19:15:45.662Z"
   },
   {
    "duration": 115,
    "start_time": "2022-04-11T19:16:05.744Z"
   },
   {
    "duration": 111,
    "start_time": "2022-04-11T19:16:27.759Z"
   },
   {
    "duration": 136,
    "start_time": "2022-04-11T19:16:38.327Z"
   },
   {
    "duration": 20,
    "start_time": "2022-04-11T19:17:44.026Z"
   },
   {
    "duration": 20,
    "start_time": "2022-04-11T19:17:48.126Z"
   },
   {
    "duration": 3,
    "start_time": "2022-04-11T19:18:06.147Z"
   },
   {
    "duration": 83,
    "start_time": "2022-04-11T19:18:06.152Z"
   },
   {
    "duration": 132,
    "start_time": "2022-04-11T19:18:06.236Z"
   },
   {
    "duration": 10,
    "start_time": "2022-04-11T19:18:06.370Z"
   },
   {
    "duration": 7,
    "start_time": "2022-04-11T19:18:06.381Z"
   },
   {
    "duration": 5,
    "start_time": "2022-04-11T19:18:06.390Z"
   },
   {
    "duration": 5,
    "start_time": "2022-04-11T19:18:06.396Z"
   },
   {
    "duration": 16,
    "start_time": "2022-04-11T19:18:06.403Z"
   },
   {
    "duration": 3,
    "start_time": "2022-04-11T19:18:06.421Z"
   },
   {
    "duration": 280,
    "start_time": "2022-04-11T19:18:06.426Z"
   },
   {
    "duration": 5,
    "start_time": "2022-04-11T19:18:06.708Z"
   },
   {
    "duration": 41,
    "start_time": "2022-04-11T19:18:06.715Z"
   },
   {
    "duration": 176,
    "start_time": "2022-04-11T19:18:06.758Z"
   },
   {
    "duration": 727,
    "start_time": "2022-04-11T19:18:06.936Z"
   },
   {
    "duration": 139,
    "start_time": "2022-04-11T19:18:07.664Z"
   },
   {
    "duration": 148,
    "start_time": "2022-04-11T19:18:07.805Z"
   },
   {
    "duration": 227,
    "start_time": "2022-04-11T19:18:07.954Z"
   },
   {
    "duration": 105,
    "start_time": "2022-04-11T19:18:08.183Z"
   },
   {
    "duration": 33,
    "start_time": "2022-04-11T19:18:08.290Z"
   },
   {
    "duration": 4036,
    "start_time": "2022-04-11T19:18:08.325Z"
   },
   {
    "duration": 22,
    "start_time": "2022-04-11T19:18:12.363Z"
   },
   {
    "duration": 146,
    "start_time": "2022-04-11T19:18:12.387Z"
   },
   {
    "duration": 129,
    "start_time": "2022-04-11T19:18:12.535Z"
   },
   {
    "duration": 137,
    "start_time": "2022-04-11T19:18:12.672Z"
   },
   {
    "duration": 14,
    "start_time": "2022-04-11T19:18:12.811Z"
   },
   {
    "duration": 47,
    "start_time": "2022-04-11T19:18:12.827Z"
   },
   {
    "duration": 181,
    "start_time": "2022-04-11T19:18:12.876Z"
   },
   {
    "duration": 7,
    "start_time": "2022-04-11T19:18:13.059Z"
   },
   {
    "duration": 0,
    "start_time": "2022-04-11T19:18:13.073Z"
   },
   {
    "duration": 183,
    "start_time": "2022-04-11T19:18:20.497Z"
   },
   {
    "duration": 175,
    "start_time": "2022-04-11T19:18:46.860Z"
   },
   {
    "duration": 147,
    "start_time": "2022-04-11T19:18:50.507Z"
   },
   {
    "duration": 181,
    "start_time": "2022-04-11T19:19:00.103Z"
   },
   {
    "duration": 174,
    "start_time": "2022-04-11T19:19:16.167Z"
   },
   {
    "duration": 17,
    "start_time": "2022-04-11T19:19:44.230Z"
   },
   {
    "duration": 15,
    "start_time": "2022-04-11T19:20:01.100Z"
   },
   {
    "duration": 14,
    "start_time": "2022-04-11T19:20:14.744Z"
   },
   {
    "duration": 16,
    "start_time": "2022-04-11T19:20:42.556Z"
   },
   {
    "duration": 150,
    "start_time": "2022-04-11T19:22:17.328Z"
   },
   {
    "duration": 134,
    "start_time": "2022-04-11T19:23:27.721Z"
   },
   {
    "duration": 137,
    "start_time": "2022-04-11T19:23:47.413Z"
   },
   {
    "duration": 154,
    "start_time": "2022-04-11T19:24:19.578Z"
   },
   {
    "duration": 16,
    "start_time": "2022-04-11T19:24:38.474Z"
   },
   {
    "duration": 14,
    "start_time": "2022-04-11T19:24:42.054Z"
   },
   {
    "duration": 14,
    "start_time": "2022-04-11T19:24:47.606Z"
   },
   {
    "duration": 4,
    "start_time": "2022-04-11T19:34:24.291Z"
   },
   {
    "duration": 156,
    "start_time": "2022-04-11T19:37:10.030Z"
   },
   {
    "duration": 158,
    "start_time": "2022-04-11T19:37:13.073Z"
   },
   {
    "duration": 169,
    "start_time": "2022-04-11T19:37:17.538Z"
   },
   {
    "duration": 165,
    "start_time": "2022-04-11T19:38:03.598Z"
   },
   {
    "duration": 217,
    "start_time": "2022-04-11T19:41:48.858Z"
   },
   {
    "duration": 234,
    "start_time": "2022-04-11T19:41:56.558Z"
   },
   {
    "duration": 16,
    "start_time": "2022-04-11T19:43:06.257Z"
   },
   {
    "duration": 14,
    "start_time": "2022-04-11T19:46:11.168Z"
   },
   {
    "duration": 139,
    "start_time": "2022-04-11T20:06:55.359Z"
   },
   {
    "duration": 45,
    "start_time": "2022-04-23T05:31:54.159Z"
   },
   {
    "duration": 809,
    "start_time": "2022-04-23T05:32:00.254Z"
   },
   {
    "duration": 89,
    "start_time": "2022-04-23T05:32:01.065Z"
   },
   {
    "duration": 133,
    "start_time": "2022-04-23T05:32:01.155Z"
   },
   {
    "duration": 12,
    "start_time": "2022-04-23T05:32:01.290Z"
   },
   {
    "duration": 56,
    "start_time": "2022-04-23T05:32:01.303Z"
   },
   {
    "duration": 44,
    "start_time": "2022-04-23T05:32:01.361Z"
   },
   {
    "duration": 38,
    "start_time": "2022-04-23T05:32:01.407Z"
   },
   {
    "duration": 55,
    "start_time": "2022-04-23T05:32:01.447Z"
   },
   {
    "duration": 47,
    "start_time": "2022-04-23T05:32:01.503Z"
   },
   {
    "duration": 13,
    "start_time": "2022-04-23T05:32:01.553Z"
   },
   {
    "duration": 267,
    "start_time": "2022-04-23T05:32:01.568Z"
   },
   {
    "duration": 6,
    "start_time": "2022-04-23T05:32:01.836Z"
   },
   {
    "duration": 119,
    "start_time": "2022-04-23T05:32:01.844Z"
   },
   {
    "duration": 188,
    "start_time": "2022-04-23T05:32:01.964Z"
   },
   {
    "duration": 262,
    "start_time": "2022-04-23T05:32:02.154Z"
   },
   {
    "duration": 129,
    "start_time": "2022-04-23T05:32:02.418Z"
   },
   {
    "duration": 133,
    "start_time": "2022-04-23T05:32:02.548Z"
   },
   {
    "duration": 221,
    "start_time": "2022-04-23T05:32:02.682Z"
   },
   {
    "duration": 96,
    "start_time": "2022-04-23T05:32:02.904Z"
   },
   {
    "duration": 18,
    "start_time": "2022-04-23T05:32:03.001Z"
   },
   {
    "duration": 4191,
    "start_time": "2022-04-23T05:32:03.020Z"
   },
   {
    "duration": 13,
    "start_time": "2022-04-23T05:32:07.213Z"
   },
   {
    "duration": 128,
    "start_time": "2022-04-23T05:32:07.228Z"
   },
   {
    "duration": 122,
    "start_time": "2022-04-23T05:32:07.357Z"
   },
   {
    "duration": 164,
    "start_time": "2022-04-23T05:32:07.481Z"
   },
   {
    "duration": 18,
    "start_time": "2022-04-23T05:32:07.647Z"
   },
   {
    "duration": 142,
    "start_time": "2022-04-23T05:32:07.667Z"
   },
   {
    "duration": 29,
    "start_time": "2022-04-23T05:32:07.812Z"
   },
   {
    "duration": 149,
    "start_time": "2022-04-23T05:32:07.842Z"
   },
   {
    "duration": 17,
    "start_time": "2022-04-23T05:32:07.992Z"
   },
   {
    "duration": 145,
    "start_time": "2022-04-23T05:32:08.011Z"
   },
   {
    "duration": 137,
    "start_time": "2022-04-23T05:32:08.157Z"
   },
   {
    "duration": 140,
    "start_time": "2022-04-23T05:32:08.296Z"
   },
   {
    "duration": 18,
    "start_time": "2022-04-23T05:32:08.437Z"
   },
   {
    "duration": 9,
    "start_time": "2022-04-23T05:32:54.574Z"
   },
   {
    "duration": 11,
    "start_time": "2022-04-23T05:33:17.271Z"
   },
   {
    "duration": 9,
    "start_time": "2022-04-23T05:33:48.743Z"
   },
   {
    "duration": 9,
    "start_time": "2022-04-23T05:33:53.102Z"
   },
   {
    "duration": 14,
    "start_time": "2022-04-23T05:34:16.824Z"
   },
   {
    "duration": 170,
    "start_time": "2022-04-23T05:50:37.084Z"
   },
   {
    "duration": 228,
    "start_time": "2022-04-23T05:50:51.554Z"
   },
   {
    "duration": 306,
    "start_time": "2022-04-23T05:50:55.403Z"
   },
   {
    "duration": 199,
    "start_time": "2022-04-23T05:51:17.427Z"
   },
   {
    "duration": 190,
    "start_time": "2022-04-23T05:51:23.674Z"
   },
   {
    "duration": 201,
    "start_time": "2022-04-23T05:51:31.168Z"
   },
   {
    "duration": 192,
    "start_time": "2022-04-23T05:51:35.547Z"
   },
   {
    "duration": 202,
    "start_time": "2022-04-23T05:51:47.141Z"
   },
   {
    "duration": 323,
    "start_time": "2022-04-23T05:51:54.082Z"
   },
   {
    "duration": 186,
    "start_time": "2022-04-23T05:51:57.903Z"
   },
   {
    "duration": 198,
    "start_time": "2022-04-23T05:52:07.216Z"
   },
   {
    "duration": 213,
    "start_time": "2022-04-23T05:52:19.120Z"
   },
   {
    "duration": 2,
    "start_time": "2022-04-23T05:52:47.277Z"
   },
   {
    "duration": 79,
    "start_time": "2022-04-23T05:52:47.281Z"
   },
   {
    "duration": 132,
    "start_time": "2022-04-23T05:52:47.362Z"
   },
   {
    "duration": 10,
    "start_time": "2022-04-23T05:52:47.495Z"
   },
   {
    "duration": 8,
    "start_time": "2022-04-23T05:52:47.507Z"
   },
   {
    "duration": 21,
    "start_time": "2022-04-23T05:52:47.517Z"
   },
   {
    "duration": 5,
    "start_time": "2022-04-23T05:52:47.540Z"
   },
   {
    "duration": 5,
    "start_time": "2022-04-23T05:52:47.553Z"
   },
   {
    "duration": 16,
    "start_time": "2022-04-23T05:52:47.560Z"
   },
   {
    "duration": 3,
    "start_time": "2022-04-23T05:52:47.578Z"
   },
   {
    "duration": 271,
    "start_time": "2022-04-23T05:52:47.583Z"
   },
   {
    "duration": 5,
    "start_time": "2022-04-23T05:52:47.856Z"
   },
   {
    "duration": 40,
    "start_time": "2022-04-23T05:52:47.862Z"
   },
   {
    "duration": 294,
    "start_time": "2022-04-23T05:52:47.904Z"
   },
   {
    "duration": 217,
    "start_time": "2022-04-23T05:52:48.200Z"
   },
   {
    "duration": 130,
    "start_time": "2022-04-23T05:52:48.419Z"
   },
   {
    "duration": 127,
    "start_time": "2022-04-23T05:52:48.554Z"
   },
   {
    "duration": 215,
    "start_time": "2022-04-23T05:52:48.683Z"
   },
   {
    "duration": 97,
    "start_time": "2022-04-23T05:52:48.900Z"
   },
   {
    "duration": 13,
    "start_time": "2022-04-23T05:52:48.999Z"
   },
   {
    "duration": 4156,
    "start_time": "2022-04-23T05:52:49.014Z"
   },
   {
    "duration": 13,
    "start_time": "2022-04-23T05:52:53.172Z"
   },
   {
    "duration": 145,
    "start_time": "2022-04-23T05:52:53.187Z"
   },
   {
    "duration": 127,
    "start_time": "2022-04-23T05:52:53.334Z"
   },
   {
    "duration": 135,
    "start_time": "2022-04-23T05:52:53.462Z"
   },
   {
    "duration": 15,
    "start_time": "2022-04-23T05:52:53.598Z"
   },
   {
    "duration": 153,
    "start_time": "2022-04-23T05:52:53.614Z"
   },
   {
    "duration": 30,
    "start_time": "2022-04-23T05:52:53.769Z"
   },
   {
    "duration": 154,
    "start_time": "2022-04-23T05:52:53.802Z"
   },
   {
    "duration": 15,
    "start_time": "2022-04-23T05:52:53.958Z"
   },
   {
    "duration": 134,
    "start_time": "2022-04-23T05:52:53.974Z"
   },
   {
    "duration": 132,
    "start_time": "2022-04-23T05:52:54.110Z"
   },
   {
    "duration": 149,
    "start_time": "2022-04-23T05:52:54.244Z"
   },
   {
    "duration": 14,
    "start_time": "2022-04-23T05:52:54.394Z"
   },
   {
    "duration": 204,
    "start_time": "2022-04-23T05:53:24.789Z"
   },
   {
    "duration": 207,
    "start_time": "2022-04-23T05:53:37.603Z"
   },
   {
    "duration": 231,
    "start_time": "2022-04-23T05:53:43.542Z"
   },
   {
    "duration": 191,
    "start_time": "2022-04-23T05:53:59.110Z"
   },
   {
    "duration": 398,
    "start_time": "2022-04-23T05:54:12.647Z"
   },
   {
    "duration": 233,
    "start_time": "2022-04-23T05:54:15.746Z"
   },
   {
    "duration": 230,
    "start_time": "2022-04-23T05:54:16.583Z"
   },
   {
    "duration": 226,
    "start_time": "2022-04-23T05:54:17.157Z"
   },
   {
    "duration": 236,
    "start_time": "2022-04-23T05:54:17.599Z"
   },
   {
    "duration": 228,
    "start_time": "2022-04-23T05:54:17.965Z"
   },
   {
    "duration": 231,
    "start_time": "2022-04-23T05:54:18.323Z"
   },
   {
    "duration": 235,
    "start_time": "2022-04-23T05:54:19.122Z"
   },
   {
    "duration": 210,
    "start_time": "2022-04-23T05:54:42.770Z"
   },
   {
    "duration": 206,
    "start_time": "2022-04-23T05:54:50.813Z"
   },
   {
    "duration": 214,
    "start_time": "2022-04-23T05:54:51.612Z"
   },
   {
    "duration": 207,
    "start_time": "2022-04-23T05:54:52.119Z"
   },
   {
    "duration": 209,
    "start_time": "2022-04-23T05:54:52.476Z"
   },
   {
    "duration": 211,
    "start_time": "2022-04-23T05:54:52.887Z"
   },
   {
    "duration": 222,
    "start_time": "2022-04-23T05:54:53.726Z"
   },
   {
    "duration": 216,
    "start_time": "2022-04-23T05:54:54.125Z"
   },
   {
    "duration": 212,
    "start_time": "2022-04-23T05:54:54.551Z"
   },
   {
    "duration": 205,
    "start_time": "2022-04-23T05:54:54.923Z"
   },
   {
    "duration": 215,
    "start_time": "2022-04-23T05:54:55.355Z"
   },
   {
    "duration": 212,
    "start_time": "2022-04-23T05:54:55.757Z"
   },
   {
    "duration": 212,
    "start_time": "2022-04-23T05:54:56.186Z"
   },
   {
    "duration": 4,
    "start_time": "2022-04-23T05:55:01.679Z"
   },
   {
    "duration": 4,
    "start_time": "2022-04-23T05:55:02.097Z"
   },
   {
    "duration": 3,
    "start_time": "2022-04-23T05:55:02.463Z"
   },
   {
    "duration": 4,
    "start_time": "2022-04-23T05:55:02.784Z"
   },
   {
    "duration": 3,
    "start_time": "2022-04-23T05:55:03.061Z"
   },
   {
    "duration": 4,
    "start_time": "2022-04-23T05:55:03.307Z"
   },
   {
    "duration": 3,
    "start_time": "2022-04-23T05:55:03.548Z"
   },
   {
    "duration": 435,
    "start_time": "2022-04-23T05:55:04.147Z"
   },
   {
    "duration": 3,
    "start_time": "2022-04-23T05:55:05.762Z"
   },
   {
    "duration": 4,
    "start_time": "2022-04-23T05:55:06.298Z"
   },
   {
    "duration": 209,
    "start_time": "2022-04-23T05:55:06.923Z"
   },
   {
    "duration": 3,
    "start_time": "2022-04-23T05:55:08.472Z"
   },
   {
    "duration": 210,
    "start_time": "2022-04-23T05:55:09.274Z"
   },
   {
    "duration": 208,
    "start_time": "2022-04-23T05:55:12.095Z"
   },
   {
    "duration": 204,
    "start_time": "2022-04-23T05:55:19.584Z"
   },
   {
    "duration": 127,
    "start_time": "2022-04-23T05:55:27.909Z"
   },
   {
    "duration": 142,
    "start_time": "2022-04-23T05:55:32.946Z"
   },
   {
    "duration": 131,
    "start_time": "2022-04-23T05:55:42.095Z"
   },
   {
    "duration": 187,
    "start_time": "2022-04-23T05:56:13.865Z"
   },
   {
    "duration": 203,
    "start_time": "2022-04-23T05:56:24.660Z"
   },
   {
    "duration": 94,
    "start_time": "2022-04-23T05:58:49.840Z"
   },
   {
    "duration": 87,
    "start_time": "2022-04-23T06:00:00.626Z"
   },
   {
    "duration": 312,
    "start_time": "2022-04-23T06:00:07.442Z"
   },
   {
    "duration": 15,
    "start_time": "2022-04-23T06:01:31.585Z"
   },
   {
    "duration": 82,
    "start_time": "2022-04-23T06:03:39.607Z"
   },
   {
    "duration": 84,
    "start_time": "2022-04-23T06:03:43.253Z"
   },
   {
    "duration": 89,
    "start_time": "2022-04-23T06:03:55.478Z"
   },
   {
    "duration": 95,
    "start_time": "2022-04-23T06:04:00.394Z"
   },
   {
    "duration": 89,
    "start_time": "2022-04-23T06:05:39.153Z"
   },
   {
    "duration": 81,
    "start_time": "2022-04-23T06:05:45.859Z"
   },
   {
    "duration": 11,
    "start_time": "2022-04-23T06:06:52.384Z"
   },
   {
    "duration": 75,
    "start_time": "2022-04-23T06:07:00.135Z"
   },
   {
    "duration": 15,
    "start_time": "2022-04-23T06:07:12.789Z"
   },
   {
    "duration": 3536,
    "start_time": "2022-04-23T06:08:51.025Z"
   },
   {
    "duration": 13,
    "start_time": "2022-04-23T06:09:32.034Z"
   },
   {
    "duration": 125,
    "start_time": "2022-04-23T06:10:35.820Z"
   },
   {
    "duration": 120,
    "start_time": "2022-04-23T06:10:46.497Z"
   },
   {
    "duration": 119,
    "start_time": "2022-04-23T06:10:51.012Z"
   },
   {
    "duration": 14,
    "start_time": "2022-04-23T06:10:57.988Z"
   },
   {
    "duration": 119,
    "start_time": "2022-04-23T06:11:05.670Z"
   },
   {
    "duration": 27,
    "start_time": "2022-04-23T06:11:12.950Z"
   },
   {
    "duration": 134,
    "start_time": "2022-04-23T06:11:18.745Z"
   },
   {
    "duration": 16,
    "start_time": "2022-04-23T06:11:25.502Z"
   },
   {
    "duration": 17,
    "start_time": "2022-04-23T06:12:37.981Z"
   },
   {
    "duration": 122,
    "start_time": "2022-04-23T06:12:54.485Z"
   },
   {
    "duration": 126,
    "start_time": "2022-04-23T06:12:58.660Z"
   },
   {
    "duration": 106,
    "start_time": "2022-04-23T06:13:02.669Z"
   },
   {
    "duration": 12,
    "start_time": "2022-04-23T06:13:07.027Z"
   },
   {
    "duration": 232,
    "start_time": "2022-04-23T06:16:54.354Z"
   },
   {
    "duration": 137,
    "start_time": "2022-04-23T06:17:13.154Z"
   },
   {
    "duration": 141,
    "start_time": "2022-04-23T06:17:27.942Z"
   },
   {
    "duration": 118,
    "start_time": "2022-04-23T06:19:42.711Z"
   },
   {
    "duration": 16,
    "start_time": "2022-04-23T06:21:31.568Z"
   },
   {
    "duration": 129,
    "start_time": "2022-04-23T06:22:23.046Z"
   },
   {
    "duration": 9,
    "start_time": "2022-04-23T06:29:23.757Z"
   },
   {
    "duration": 113,
    "start_time": "2022-04-23T06:32:03.779Z"
   },
   {
    "duration": 156,
    "start_time": "2022-04-23T06:32:42.674Z"
   },
   {
    "duration": 159,
    "start_time": "2022-04-23T06:33:11.658Z"
   },
   {
    "duration": 139,
    "start_time": "2022-04-23T06:33:25.882Z"
   },
   {
    "duration": 135,
    "start_time": "2022-04-23T06:33:37.527Z"
   },
   {
    "duration": 127,
    "start_time": "2022-04-23T06:35:35.165Z"
   },
   {
    "duration": 2263,
    "start_time": "2022-04-23T06:36:12.807Z"
   }
  ],
  "kernelspec": {
   "display_name": "Python 3 (ipykernel)",
   "language": "python",
   "name": "python3"
  },
  "language_info": {
   "codemirror_mode": {
    "name": "ipython",
    "version": 3
   },
   "file_extension": ".py",
   "mimetype": "text/x-python",
   "name": "python",
   "nbconvert_exporter": "python",
   "pygments_lexer": "ipython3",
   "version": "3.9.7"
  },
  "toc": {
   "base_numbering": 1,
   "nav_menu": {},
   "number_sections": true,
   "sideBar": true,
   "skip_h1_title": true,
   "title_cell": "Содержание",
   "title_sidebar": "Contents",
   "toc_cell": true,
   "toc_position": {},
   "toc_section_display": true,
   "toc_window_display": true
  }
 },
 "nbformat": 4,
 "nbformat_minor": 4
}
