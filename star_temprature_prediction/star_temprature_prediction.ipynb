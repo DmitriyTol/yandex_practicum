{
 "cells": [
  {
   "cell_type": "markdown",
   "id": "corresponding-armstrong",
   "metadata": {
    "ExecuteTime": {
     "end_time": "2022-05-05T04:58:05.692448Z",
     "start_time": "2022-05-05T04:58:05.688565Z"
    }
   },
   "source": [
    "# Самостоятельный проект\n"
   ]
  },
  {
   "cell_type": "markdown",
   "id": "7185937d",
   "metadata": {},
   "source": [
    "Нам необходимо выполнить задачу от обсерватории «Небо на ладони»: придумать, как с помощью нейросети определять температуру на поверхности обнаруженных звёзд."
   ]
  },
  {
   "cell_type": "markdown",
   "id": "a9c99589",
   "metadata": {},
   "source": [
    "Характеристики:\n",
    "- Относительная светимость L/Lo — светимость звезды относительно Солнца.\n",
    "- Относительный радиус R/Ro — радиус звезды относительно радиуса Солнца.\n",
    "- Абсолютная звёздная величина Mv — физическая величина, характеризующая блеск звезды.\n",
    "- Звёздный цвет (white, red, blue, yellow, yellow-orange и др.) — цвет звезды, который определяют на основе спектрального анализа.\n",
    "- Тип звезды.\n",
    "- Абсолютная температура T(K) — температура на поверхности звезды в Кельвинах."
   ]
  },
  {
   "cell_type": "markdown",
   "id": "a35bce1b",
   "metadata": {},
   "source": [
    "## Загрузка данных"
   ]
  },
  {
   "cell_type": "code",
   "execution_count": 2,
   "id": "spectacular-folder",
   "metadata": {},
   "outputs": [
    {
     "name": "stdout",
     "output_type": "stream",
     "text": [
      "Collecting skorch\n",
      "  Downloading skorch-0.12.1-py3-none-any.whl (193 kB)\n",
      "\u001b[K     |████████████████████████████████| 193 kB 1.6 MB/s eta 0:00:01\n",
      "\u001b[?25hRequirement already satisfied: numpy>=1.13.3 in /opt/conda/lib/python3.9/site-packages (from skorch) (1.21.1)\n",
      "Requirement already satisfied: scikit-learn>=0.22.0 in /opt/conda/lib/python3.9/site-packages (from skorch) (1.2.1)\n",
      "Requirement already satisfied: scipy>=1.1.0 in /opt/conda/lib/python3.9/site-packages (from skorch) (1.9.1)\n",
      "Collecting tabulate>=0.7.7\n",
      "  Downloading tabulate-0.9.0-py3-none-any.whl (35 kB)\n",
      "Requirement already satisfied: tqdm>=4.14.0 in /opt/conda/lib/python3.9/site-packages (from skorch) (4.61.2)\n",
      "Requirement already satisfied: joblib>=1.1.1 in /opt/conda/lib/python3.9/site-packages (from scikit-learn>=0.22.0->skorch) (1.2.0)\n",
      "Requirement already satisfied: threadpoolctl>=2.0.0 in /opt/conda/lib/python3.9/site-packages (from scikit-learn>=0.22.0->skorch) (3.1.0)\n",
      "Installing collected packages: tabulate, skorch\n",
      "Successfully installed skorch-0.12.1 tabulate-0.9.0\n"
     ]
    }
   ],
   "source": [
    "!pip install -U skorch\n",
    "import pandas as pd\n",
    "import skorch\n",
    "import numpy as np\n",
    "import seaborn as sns\n",
    "import matplotlib.pyplot as plt\n",
    "from math import ceil\n",
    "from torch.utils.data import Dataset, DataLoader\n",
    "from skorch.callbacks import EpochScoring, EarlyStopping\n",
    "from skorch import NeuralNetRegressor\n",
    "from sklearn.metrics import fbeta_score, make_scorer\n",
    "\n",
    "import torch\n",
    "import torch.nn as nn\n",
    "from torch.autograd import Variable\n",
    "from skorch.dataset import ValidSplit\n",
    "\n",
    "from sklearn.metrics import mean_squared_error\n",
    "import sklearn\n",
    "from sklearn.model_selection import RandomizedSearchCV\n",
    "from sklearn.model_selection import train_test_split\n",
    "from sklearn.preprocessing import StandardScaler, OneHotEncoder, LabelBinarizer\n",
    "from sklearn.compose import ColumnTransformer"
   ]
  },
  {
   "cell_type": "code",
   "execution_count": 3,
   "id": "47b2a38f",
   "metadata": {},
   "outputs": [],
   "source": [
    "def df_vis(column_list, df):   \n",
    "    for column in column_list:\n",
    "        df.boxplot(column=column)\n",
    "        plt.title(f'Диаграмма размаха на столбце {column}')\n",
    "        plt.show()\n",
    "        df[column].plot(kind='hist', bins=100, grid=True)\n",
    "        plt.title(f'Гистограмма на столбце {column}')\n",
    "        plt.xlabel(column)\n",
    "        plt.ylabel('Кол-во наблюдений')\n",
    "        plt.show()\n",
    "        print('--------------------------------------------')"
   ]
  },
  {
   "cell_type": "code",
   "execution_count": 4,
   "id": "9155ec98",
   "metadata": {},
   "outputs": [
    {
     "name": "stdout",
     "output_type": "stream",
     "text": [
      "<class 'pandas.core.frame.DataFrame'>\n",
      "RangeIndex: 240 entries, 0 to 239\n",
      "Data columns (total 7 columns):\n",
      " #   Column                  Non-Null Count  Dtype  \n",
      "---  ------                  --------------  -----  \n",
      " 0   Unnamed: 0              240 non-null    int64  \n",
      " 1   Temperature (K)         240 non-null    int64  \n",
      " 2   Luminosity(L/Lo)        240 non-null    float64\n",
      " 3   Radius(R/Ro)            240 non-null    float64\n",
      " 4   Absolute magnitude(Mv)  240 non-null    float64\n",
      " 5   Star type               240 non-null    int64  \n",
      " 6   Star color              240 non-null    object \n",
      "dtypes: float64(3), int64(3), object(1)\n",
      "memory usage: 13.2+ KB\n"
     ]
    },
    {
     "data": {
      "text/html": [
       "<div>\n",
       "<style scoped>\n",
       "    .dataframe tbody tr th:only-of-type {\n",
       "        vertical-align: middle;\n",
       "    }\n",
       "\n",
       "    .dataframe tbody tr th {\n",
       "        vertical-align: top;\n",
       "    }\n",
       "\n",
       "    .dataframe thead th {\n",
       "        text-align: right;\n",
       "    }\n",
       "</style>\n",
       "<table border=\"1\" class=\"dataframe\">\n",
       "  <thead>\n",
       "    <tr style=\"text-align: right;\">\n",
       "      <th></th>\n",
       "      <th>Unnamed: 0</th>\n",
       "      <th>Temperature (K)</th>\n",
       "      <th>Luminosity(L/Lo)</th>\n",
       "      <th>Radius(R/Ro)</th>\n",
       "      <th>Absolute magnitude(Mv)</th>\n",
       "      <th>Star type</th>\n",
       "      <th>Star color</th>\n",
       "    </tr>\n",
       "  </thead>\n",
       "  <tbody>\n",
       "    <tr>\n",
       "      <th>0</th>\n",
       "      <td>0</td>\n",
       "      <td>3068</td>\n",
       "      <td>0.002400</td>\n",
       "      <td>0.1700</td>\n",
       "      <td>16.12</td>\n",
       "      <td>0</td>\n",
       "      <td>Red</td>\n",
       "    </tr>\n",
       "    <tr>\n",
       "      <th>1</th>\n",
       "      <td>1</td>\n",
       "      <td>3042</td>\n",
       "      <td>0.000500</td>\n",
       "      <td>0.1542</td>\n",
       "      <td>16.60</td>\n",
       "      <td>0</td>\n",
       "      <td>Red</td>\n",
       "    </tr>\n",
       "    <tr>\n",
       "      <th>2</th>\n",
       "      <td>2</td>\n",
       "      <td>2600</td>\n",
       "      <td>0.000300</td>\n",
       "      <td>0.1020</td>\n",
       "      <td>18.70</td>\n",
       "      <td>0</td>\n",
       "      <td>Red</td>\n",
       "    </tr>\n",
       "    <tr>\n",
       "      <th>3</th>\n",
       "      <td>3</td>\n",
       "      <td>2800</td>\n",
       "      <td>0.000200</td>\n",
       "      <td>0.1600</td>\n",
       "      <td>16.65</td>\n",
       "      <td>0</td>\n",
       "      <td>Red</td>\n",
       "    </tr>\n",
       "    <tr>\n",
       "      <th>4</th>\n",
       "      <td>4</td>\n",
       "      <td>1939</td>\n",
       "      <td>0.000138</td>\n",
       "      <td>0.1030</td>\n",
       "      <td>20.06</td>\n",
       "      <td>0</td>\n",
       "      <td>Red</td>\n",
       "    </tr>\n",
       "  </tbody>\n",
       "</table>\n",
       "</div>"
      ],
      "text/plain": [
       "   Unnamed: 0  Temperature (K)  Luminosity(L/Lo)  Radius(R/Ro)  \\\n",
       "0           0             3068          0.002400        0.1700   \n",
       "1           1             3042          0.000500        0.1542   \n",
       "2           2             2600          0.000300        0.1020   \n",
       "3           3             2800          0.000200        0.1600   \n",
       "4           4             1939          0.000138        0.1030   \n",
       "\n",
       "   Absolute magnitude(Mv)  Star type Star color  \n",
       "0                   16.12          0        Red  \n",
       "1                   16.60          0        Red  \n",
       "2                   18.70          0        Red  \n",
       "3                   16.65          0        Red  \n",
       "4                   20.06          0        Red  "
      ]
     },
     "execution_count": 4,
     "metadata": {},
     "output_type": "execute_result"
    }
   ],
   "source": [
    "df = pd.read_csv('/datasets/6_class.csv')\n",
    "df.info()\n",
    "df.head()"
   ]
  },
  {
   "cell_type": "markdown",
   "id": "simple-subdivision",
   "metadata": {},
   "source": [
    "## Предобработка и анализ данных"
   ]
  },
  {
   "cell_type": "code",
   "execution_count": 5,
   "id": "flush-dream",
   "metadata": {
    "scrolled": true
   },
   "outputs": [
    {
     "data": {
      "text/html": [
       "<div>\n",
       "<style scoped>\n",
       "    .dataframe tbody tr th:only-of-type {\n",
       "        vertical-align: middle;\n",
       "    }\n",
       "\n",
       "    .dataframe tbody tr th {\n",
       "        vertical-align: top;\n",
       "    }\n",
       "\n",
       "    .dataframe thead th {\n",
       "        text-align: right;\n",
       "    }\n",
       "</style>\n",
       "<table border=\"1\" class=\"dataframe\">\n",
       "  <thead>\n",
       "    <tr style=\"text-align: right;\">\n",
       "      <th></th>\n",
       "      <th>Temperature (K)</th>\n",
       "      <th>Luminosity(L/Lo)</th>\n",
       "      <th>Radius(R/Ro)</th>\n",
       "      <th>Absolute magnitude(Mv)</th>\n",
       "      <th>Star type</th>\n",
       "    </tr>\n",
       "  </thead>\n",
       "  <tbody>\n",
       "    <tr>\n",
       "      <th>count</th>\n",
       "      <td>240.000000</td>\n",
       "      <td>240.000000</td>\n",
       "      <td>240.000000</td>\n",
       "      <td>240.000000</td>\n",
       "      <td>240.000000</td>\n",
       "    </tr>\n",
       "    <tr>\n",
       "      <th>mean</th>\n",
       "      <td>10497.462500</td>\n",
       "      <td>107188.361635</td>\n",
       "      <td>237.157781</td>\n",
       "      <td>4.382396</td>\n",
       "      <td>2.500000</td>\n",
       "    </tr>\n",
       "    <tr>\n",
       "      <th>std</th>\n",
       "      <td>9552.425037</td>\n",
       "      <td>179432.244940</td>\n",
       "      <td>517.155763</td>\n",
       "      <td>10.532512</td>\n",
       "      <td>1.711394</td>\n",
       "    </tr>\n",
       "    <tr>\n",
       "      <th>min</th>\n",
       "      <td>1939.000000</td>\n",
       "      <td>0.000080</td>\n",
       "      <td>0.008400</td>\n",
       "      <td>-11.920000</td>\n",
       "      <td>0.000000</td>\n",
       "    </tr>\n",
       "    <tr>\n",
       "      <th>25%</th>\n",
       "      <td>3344.250000</td>\n",
       "      <td>0.000865</td>\n",
       "      <td>0.102750</td>\n",
       "      <td>-6.232500</td>\n",
       "      <td>1.000000</td>\n",
       "    </tr>\n",
       "    <tr>\n",
       "      <th>50%</th>\n",
       "      <td>5776.000000</td>\n",
       "      <td>0.070500</td>\n",
       "      <td>0.762500</td>\n",
       "      <td>8.313000</td>\n",
       "      <td>2.500000</td>\n",
       "    </tr>\n",
       "    <tr>\n",
       "      <th>75%</th>\n",
       "      <td>15055.500000</td>\n",
       "      <td>198050.000000</td>\n",
       "      <td>42.750000</td>\n",
       "      <td>13.697500</td>\n",
       "      <td>4.000000</td>\n",
       "    </tr>\n",
       "    <tr>\n",
       "      <th>max</th>\n",
       "      <td>40000.000000</td>\n",
       "      <td>849420.000000</td>\n",
       "      <td>1948.500000</td>\n",
       "      <td>20.060000</td>\n",
       "      <td>5.000000</td>\n",
       "    </tr>\n",
       "  </tbody>\n",
       "</table>\n",
       "</div>"
      ],
      "text/plain": [
       "       Temperature (K)  Luminosity(L/Lo)  Radius(R/Ro)  \\\n",
       "count       240.000000        240.000000    240.000000   \n",
       "mean      10497.462500     107188.361635    237.157781   \n",
       "std        9552.425037     179432.244940    517.155763   \n",
       "min        1939.000000          0.000080      0.008400   \n",
       "25%        3344.250000          0.000865      0.102750   \n",
       "50%        5776.000000          0.070500      0.762500   \n",
       "75%       15055.500000     198050.000000     42.750000   \n",
       "max       40000.000000     849420.000000   1948.500000   \n",
       "\n",
       "       Absolute magnitude(Mv)   Star type  \n",
       "count              240.000000  240.000000  \n",
       "mean                 4.382396    2.500000  \n",
       "std                 10.532512    1.711394  \n",
       "min                -11.920000    0.000000  \n",
       "25%                 -6.232500    1.000000  \n",
       "50%                  8.313000    2.500000  \n",
       "75%                 13.697500    4.000000  \n",
       "max                 20.060000    5.000000  "
      ]
     },
     "execution_count": 5,
     "metadata": {},
     "output_type": "execute_result"
    }
   ],
   "source": [
    "df = df.drop('Unnamed: 0', axis=1)\n",
    "df.describe()"
   ]
  },
  {
   "cell_type": "markdown",
   "id": "fb32ccd6",
   "metadata": {},
   "source": [
    "Рассмотрим наши данные на аномалии"
   ]
  },
  {
   "cell_type": "code",
   "execution_count": 6,
   "id": "9872b467",
   "metadata": {},
   "outputs": [
    {
     "data": {
      "image/png": "[encoded data removed]",
      "text/plain": [
       "<Figure size 432x288 with 1 Axes>"
      ]
     },
     "metadata": {
      "needs_background": "light"
     },
     "output_type": "display_data"
    },
    {
     "data": {
      "image/png": "[encoded data removed]",
      "text/plain": [
       "<Figure size 432x288 with 1 Axes>"
      ]
     },
     "metadata": {
      "needs_background": "light"
     },
     "output_type": "display_data"
    },
    {
     "name": "stdout",
     "output_type": "stream",
     "text": [
      "--------------------------------------------\n"
     ]
    },
    {
     "data": {
      "image/png": "[encoded data removed]",
      "text/plain": [
       "<Figure size 432x288 with 1 Axes>"
      ]
     },
     "metadata": {
      "needs_background": "light"
     },
     "output_type": "display_data"
    },
    {
     "data": {
      "image/png": "[encoded data removed]",
      "text/plain": [
       "<Figure size 432x288 with 1 Axes>"
      ]
     },
     "metadata": {
      "needs_background": "light"
     },
     "output_type": "display_data"
    },
    {
     "name": "stdout",
     "output_type": "stream",
     "text": [
      "--------------------------------------------\n"
     ]
    },
    {
     "data": {
      "image/png": "[encoded data removed]",
      "text/plain": [
       "<Figure size 432x288 with 1 Axes>"
      ]
     },
     "metadata": {
      "needs_background": "light"
     },
     "output_type": "display_data"
    },
    {
     "data": {
      "image/png": "[encoded data removed]",
      "text/plain": [
       "<Figure size 432x288 with 1 Axes>"
      ]
     },
     "metadata": {
      "needs_background": "light"
     },
     "output_type": "display_data"
    },
    {
     "name": "stdout",
     "output_type": "stream",
     "text": [
      "--------------------------------------------\n"
     ]
    },
    {
     "data": {
      "image/png": "[encoded data removed]",
      "text/plain": [
       "<Figure size 432x288 with 1 Axes>"
      ]
     },
     "metadata": {
      "needs_background": "light"
     },
     "output_type": "display_data"
    },
    {
     "data": {
      "image/png": "[encoded data removed]",
      "text/plain": [
       "<Figure size 432x288 with 1 Axes>"
      ]
     },
     "metadata": {
      "needs_background": "light"
     },
     "output_type": "display_data"
    },
    {
     "name": "stdout",
     "output_type": "stream",
     "text": [
      "--------------------------------------------\n"
     ]
    },
    {
     "data": {
      "image/png": "[encoded data removed]",
      "text/plain": [
       "<Figure size 432x288 with 1 Axes>"
      ]
     },
     "metadata": {
      "needs_background": "light"
     },
     "output_type": "display_data"
    },
    {
     "data": {
      "image/png": "[encoded data removed]",
      "text/plain": [
       "<Figure size 432x288 with 1 Axes>"
      ]
     },
     "metadata": {
      "needs_background": "light"
     },
     "output_type": "display_data"
    },
    {
     "name": "stdout",
     "output_type": "stream",
     "text": [
      "--------------------------------------------\n"
     ]
    }
   ],
   "source": [
    "df_vis(['Temperature (K)', 'Luminosity(L/Lo)', 'Radius(R/Ro)', 'Absolute magnitude(Mv)', 'Star type'], df)"
   ]
  },
  {
   "cell_type": "markdown",
   "id": "a8878f08",
   "metadata": {},
   "source": [
    "Аномалии в естесственных пределах, т.е. имеют значеиня, достижимые природе, поэтому удалять их не будем."
   ]
  },
  {
   "cell_type": "code",
   "execution_count": 7,
   "id": "cffde1b2",
   "metadata": {},
   "outputs": [
    {
     "data": {
      "text/html": [
       "<div>\n",
       "<style scoped>\n",
       "    .dataframe tbody tr th:only-of-type {\n",
       "        vertical-align: middle;\n",
       "    }\n",
       "\n",
       "    .dataframe tbody tr th {\n",
       "        vertical-align: top;\n",
       "    }\n",
       "\n",
       "    .dataframe thead th {\n",
       "        text-align: right;\n",
       "    }\n",
       "</style>\n",
       "<table border=\"1\" class=\"dataframe\">\n",
       "  <thead>\n",
       "    <tr style=\"text-align: right;\">\n",
       "      <th></th>\n",
       "      <th>Temperature (K)</th>\n",
       "      <th>Luminosity(L/Lo)</th>\n",
       "      <th>Radius(R/Ro)</th>\n",
       "      <th>Absolute magnitude(Mv)</th>\n",
       "      <th>Star type</th>\n",
       "    </tr>\n",
       "  </thead>\n",
       "  <tbody>\n",
       "    <tr>\n",
       "      <th>Temperature (K)</th>\n",
       "      <td>1.000000</td>\n",
       "      <td>0.393404</td>\n",
       "      <td>0.064216</td>\n",
       "      <td>-0.420261</td>\n",
       "      <td>0.411129</td>\n",
       "    </tr>\n",
       "    <tr>\n",
       "      <th>Luminosity(L/Lo)</th>\n",
       "      <td>0.393404</td>\n",
       "      <td>1.000000</td>\n",
       "      <td>0.526516</td>\n",
       "      <td>-0.692619</td>\n",
       "      <td>0.676845</td>\n",
       "    </tr>\n",
       "    <tr>\n",
       "      <th>Radius(R/Ro)</th>\n",
       "      <td>0.064216</td>\n",
       "      <td>0.526516</td>\n",
       "      <td>1.000000</td>\n",
       "      <td>-0.608728</td>\n",
       "      <td>0.660975</td>\n",
       "    </tr>\n",
       "    <tr>\n",
       "      <th>Absolute magnitude(Mv)</th>\n",
       "      <td>-0.420261</td>\n",
       "      <td>-0.692619</td>\n",
       "      <td>-0.608728</td>\n",
       "      <td>1.000000</td>\n",
       "      <td>-0.955276</td>\n",
       "    </tr>\n",
       "    <tr>\n",
       "      <th>Star type</th>\n",
       "      <td>0.411129</td>\n",
       "      <td>0.676845</td>\n",
       "      <td>0.660975</td>\n",
       "      <td>-0.955276</td>\n",
       "      <td>1.000000</td>\n",
       "    </tr>\n",
       "  </tbody>\n",
       "</table>\n",
       "</div>"
      ],
      "text/plain": [
       "                        Temperature (K)  Luminosity(L/Lo)  Radius(R/Ro)  \\\n",
       "Temperature (K)                1.000000          0.393404      0.064216   \n",
       "Luminosity(L/Lo)               0.393404          1.000000      0.526516   \n",
       "Radius(R/Ro)                   0.064216          0.526516      1.000000   \n",
       "Absolute magnitude(Mv)        -0.420261         -0.692619     -0.608728   \n",
       "Star type                      0.411129          0.676845      0.660975   \n",
       "\n",
       "                        Absolute magnitude(Mv)  Star type  \n",
       "Temperature (K)                      -0.420261   0.411129  \n",
       "Luminosity(L/Lo)                     -0.692619   0.676845  \n",
       "Radius(R/Ro)                         -0.608728   0.660975  \n",
       "Absolute magnitude(Mv)                1.000000  -0.955276  \n",
       "Star type                            -0.955276   1.000000  "
      ]
     },
     "metadata": {},
     "output_type": "display_data"
    }
   ],
   "source": [
    "display(df.corr())"
   ]
  },
  {
   "cell_type": "markdown",
   "id": "a0280cf3",
   "metadata": {},
   "source": [
    "Столбцы `Star type` и `Absolute magnitude(Mv)` коррелируют слишком сильно, однако т.к. наша сеть не линейная, это не должно вызвать переобучения, поэтому оставим всё как есть"
   ]
  },
  {
   "cell_type": "code",
   "execution_count": 8,
   "id": "af383bb3",
   "metadata": {},
   "outputs": [
    {
     "data": {
      "text/plain": [
       "array(['Red', 'Blue White', 'White', 'Yellowish White', 'Blue white',\n",
       "       'Pale yellow orange', 'Blue', 'Blue-white', 'Whitish',\n",
       "       'yellow-white', 'Orange', 'White-Yellow', 'white', 'Blue ',\n",
       "       'yellowish', 'Yellowish', 'Orange-Red', 'Blue white ',\n",
       "       'Blue-White'], dtype=object)"
      ]
     },
     "execution_count": 8,
     "metadata": {},
     "output_type": "execute_result"
    }
   ],
   "source": [
    "df['Star color'].unique()"
   ]
  },
  {
   "cell_type": "markdown",
   "id": "8eced692",
   "metadata": {},
   "source": [
    "Избавимся от неявных дубликатов"
   ]
  },
  {
   "cell_type": "code",
   "execution_count": 9,
   "id": "d592963e",
   "metadata": {},
   "outputs": [
    {
     "data": {
      "text/plain": [
       "array(['red', 'blue-white', 'white', 'white-yellow', 'orange-red', 'blue',\n",
       "       'yellowish'], dtype=object)"
      ]
     },
     "execution_count": 9,
     "metadata": {},
     "output_type": "execute_result"
    }
   ],
   "source": [
    "df['Star color'] = df['Star color'].str.lower()\n",
    "df['Star color'] = df['Star color'].str.strip(to_strip = None)\n",
    "df['Star color'] = df['Star color'].replace('blue white', 'blue-white')\n",
    "df['Star color'] = df['Star color'].replace(['yellow-white', 'yellowish white'], 'white-yellow')\n",
    "df['Star color'] = df['Star color'].replace('whitish', 'white-yellow')\n",
    "df['Star color'] = df['Star color'].replace(['orange','pale yellow orange'], 'orange-red')\n",
    "df['Star color'].unique()"
   ]
  },
  {
   "cell_type": "markdown",
   "id": "5e8e8953",
   "metadata": {},
   "source": [
    "### Подготовка данных"
   ]
  },
  {
   "cell_type": "code",
   "execution_count": 10,
   "id": "620d8457",
   "metadata": {},
   "outputs": [],
   "source": [
    "num = ['Luminosity(L/Lo)','Radius(R/Ro)','Absolute magnitude(Mv)','Star type']\n",
    "cat = ['Star color']"
   ]
  },
  {
   "cell_type": "markdown",
   "id": "d22e8078",
   "metadata": {},
   "source": [
    "Преобразуем категоральные переменные"
   ]
  },
  {
   "cell_type": "code",
   "execution_count": 11,
   "id": "07f63795",
   "metadata": {},
   "outputs": [
    {
     "data": {
      "text/plain": [
       "\"OHE = OneHotEncoder(sparse=False, drop = 'first', handle_unknown = 'error')\\n\\ncat_df = pd.DataFrame(OHE.fit_transform(df.loc[:,cat]))\\ndf.drop(cat, axis = 1, inplace = True)\\ndf = pd.concat([df, cat_df], axis = 1)\\ndf\""
      ]
     },
     "execution_count": 11,
     "metadata": {},
     "output_type": "execute_result"
    }
   ],
   "source": [
    "'''OHE = OneHotEncoder(sparse=False, drop = 'first', handle_unknown = 'error')\n",
    "\n",
    "cat_df = pd.DataFrame(OHE.fit_transform(df.loc[:,cat]))\n",
    "df.drop(cat, axis = 1, inplace = True)\n",
    "df = pd.concat([df, cat_df], axis = 1)\n",
    "df'''"
   ]
  },
  {
   "cell_type": "code",
   "execution_count": 12,
   "id": "1ab4c232",
   "metadata": {
    "scrolled": true
   },
   "outputs": [
    {
     "name": "stdout",
     "output_type": "stream",
     "text": [
      "(144, 5) (48, 5) (144,) (48,)\n"
     ]
    }
   ],
   "source": [
    "# Разделим нашу выборку\n",
    "X_train, X_test_val, y_train, y_test_val = train_test_split(df.drop('Temperature (K)', axis = 1),\n",
    "                                                    df['Temperature (K)'],\n",
    "                                                    test_size=0.4,\n",
    "                                                    shuffle=True,\n",
    "                                                    random_state=1)\n",
    "X_test, X_val, y_test, y_val = train_test_split(X_test_val, y_test_val, test_size=0.5, random_state=1)\n",
    "\n",
    "print(X_train.shape, X_test.shape, y_train.shape, y_test.shape)"
   ]
  },
  {
   "cell_type": "markdown",
   "id": "566e7d59",
   "metadata": {},
   "source": [
    "Преобразуем числовые переменные"
   ]
  },
  {
   "cell_type": "code",
   "execution_count": 13,
   "id": "9c524c98",
   "metadata": {},
   "outputs": [],
   "source": [
    "col_transformer = ColumnTransformer(\n",
    "                    transformers=[\n",
    "                        ('ss', StandardScaler(), num),\n",
    "                        ('ohe', OneHotEncoder(drop='first', sparse=False), cat)\n",
    "                    ],\n",
    "                    remainder='drop',\n",
    "                    n_jobs=-1\n",
    "                    )"
   ]
  },
  {
   "cell_type": "code",
   "execution_count": 14,
   "id": "db287b3a",
   "metadata": {
    "scrolled": true
   },
   "outputs": [
    {
     "name": "stderr",
     "output_type": "stream",
     "text": [
      "/opt/conda/lib/python3.9/site-packages/sklearn/preprocessing/_encoders.py:828: FutureWarning: `sparse` was renamed to `sparse_output` in version 1.2 and will be removed in 1.4. `sparse_output` is ignored unless you leave `sparse` to its default value.\n",
      "  warnings.warn(\n"
     ]
    }
   ],
   "source": [
    "X_train = col_transformer.fit_transform(X_train)\n",
    "X_val = col_transformer.transform(X_val)\n",
    "X_test = col_transformer.transform(X_test)"
   ]
  },
  {
   "cell_type": "code",
   "execution_count": 15,
   "id": "74171824",
   "metadata": {},
   "outputs": [
    {
     "data": {
      "text/plain": [
       "(144, 10)"
      ]
     },
     "execution_count": 15,
     "metadata": {},
     "output_type": "execute_result"
    }
   ],
   "source": [
    "X_train.shape"
   ]
  },
  {
   "cell_type": "markdown",
   "id": "funded-electric",
   "metadata": {},
   "source": [
    "## Построение базовой нейронной сети"
   ]
  },
  {
   "cell_type": "code",
   "execution_count": 14,
   "id": "forced-concentrate",
   "metadata": {},
   "outputs": [],
   "source": [
    "X_train = torch.FloatTensor(X_train)\n",
    "X_test = torch.FloatTensor(X_test)\n",
    "X_val = torch.FloatTensor(X_val)\n",
    "y_train = torch.FloatTensor(y_train.values)\n",
    "y_test = torch.FloatTensor(y_test.values)\n",
    "y_val = torch.FloatTensor(y_val.values)"
   ]
  },
  {
   "cell_type": "code",
   "execution_count": 15,
   "id": "f52b7c0c",
   "metadata": {},
   "outputs": [],
   "source": [
    "dataset_train = torch.utils.data.TensorDataset(X_train, y_train)\n",
    "dataset_test = torch.utils.data.TensorDataset(X_test, y_test)\n",
    "\n",
    "train_dataloader = DataLoader(dataset_train, batch_size=32, shuffle=True,\n",
    "                               num_workers=0)\n",
    "test_dataloader = DataLoader(dataset_test, batch_size=32, num_workers=0)"
   ]
  },
  {
   "cell_type": "code",
   "execution_count": 16,
   "id": "c5de7c01",
   "metadata": {},
   "outputs": [],
   "source": [
    "class Net(nn.Module):\n",
    "    def __init__(self, n_in_neurons, n_hidden_neurons_1, n_hidden_neurons_2, n_hidden_neurons_3,\n",
    "                 n_hidden_neurons_4, n_out_neurons,p_value_1, p_value_2):\n",
    "            super(Net, self).__init__()\n",
    "            \n",
    "            self.fc1 = nn.Linear(n_in_neurons, n_hidden_neurons_1)\n",
    "            self.act1 = nn.ReLU()\n",
    "            self.dp1 = nn.Dropout(p=p_value_1)\n",
    "            self.fc2 = nn.Linear(n_hidden_neurons_1, n_hidden_neurons_2)            \n",
    "            self.act2 = nn.ReLU()\n",
    "            self.dp2 = nn.Dropout(p=p_value_2)\n",
    "            self.fc3 = nn.Linear(n_hidden_neurons_2,n_hidden_neurons_3)            \n",
    "            self.act3 = nn.ReLU()\n",
    "            self.dp3 = nn.Dropout(p=p_value_1)\n",
    "            self.fc4 = nn.Linear(n_hidden_neurons_3, n_hidden_neurons_4)\n",
    "            self.act4 = nn.ReLU()\n",
    "            self.dp4 = nn.Dropout(p=p_value_2)\n",
    "            self.fc5 = nn.Linear(n_hidden_neurons_4, n_out_neurons)  \n",
    "            \n",
    "    def forward(self, x):\n",
    "        x = self.fc1(x)        \n",
    "        x = self.act1(x)\n",
    "        x = self.dp1(x)\n",
    "        x = self.fc2(x)\n",
    "        x = self.act2(x)\n",
    "        x = self.dp2(x)\n",
    "        x = self.fc3(x)\n",
    "        x = self.act3(x)\n",
    "        x = self.dp3(x)\n",
    "        x = self.fc4(x)\n",
    "        x = self.act4(x)\n",
    "        x = self.dp4(x)\n",
    "        x = self.fc5(x)\n",
    "        \n",
    "        return x"
   ]
  },
  {
   "cell_type": "code",
   "execution_count": 17,
   "id": "2b597964",
   "metadata": {},
   "outputs": [],
   "source": [
    "n_in_neurons = 10\n",
    "n_hidden_neurons_1 = 20\n",
    "n_hidden_neurons_2 = 12\n",
    "n_hidden_neurons_3 = 8\n",
    "n_hidden_neurons_4 = 5\n",
    "n_out_neurons = 1\n",
    "p_value_1 = 0.2\n",
    "p_value_2 = 0.5\n",
    "\n",
    "net = Net(n_in_neurons, n_hidden_neurons_1, n_hidden_neurons_2,n_hidden_neurons_3, n_hidden_neurons_4, n_out_neurons,p_value_1, p_value_2)\n",
    "optimizer1 = torch.optim.Adam(net.parameters(), lr=1e-3)\n",
    "optimizer2 = torch.optim.NAdam(net.parameters(), lr=1e-2)\n",
    "optimizer3 = torch.optim.Adamax(net.parameters(), lr=1e-2)\n",
    "optimizer4 = torch.optim.Adamax(net.parameters(), lr=1e-3)\n",
    "optimizer5 = torch.optim.Adam(net.parameters(), lr=1e-2)\n",
    "\n",
    "optimizers = [optimizer1, optimizer2, optimizer3, optimizer4, optimizer5]\n",
    "\n",
    "loss = nn.MSELoss()"
   ]
  },
  {
   "cell_type": "code",
   "execution_count": 18,
   "id": "f38fcb53",
   "metadata": {},
   "outputs": [],
   "source": [
    "history = []"
   ]
  },
  {
   "cell_type": "code",
   "execution_count": 19,
   "id": "b8f40573",
   "metadata": {
    "scrolled": true
   },
   "outputs": [
    {
     "name": "stdout",
     "output_type": "stream",
     "text": [
      "Оптимизатор Adam (\n",
      "Parameter Group 0\n",
      "    amsgrad: False\n",
      "    betas: (0.9, 0.999)\n",
      "    eps: 1e-08\n",
      "    lr: 0.001\n",
      "    weight_decay: 0\n",
      "):\n",
      "Метрика RMSE на 0 итерации = 15832.15\n",
      "Метрика RMSE на 10 итерации = 15832.02\n",
      "Метрика RMSE на 20 итерации = 15831.45\n",
      "Метрика RMSE на 30 итерации = 15828.45\n",
      "Метрика RMSE на 40 итерации = 15816.96\n",
      "Метрика RMSE на 50 итерации = 15781.29\n",
      "Метрика RMSE на 60 итерации = 15690.16\n",
      "Метрика RMSE на 70 итерации = 15492.25\n",
      "Метрика RMSE на 80 итерации = 15112.2\n",
      "Метрика RMSE на 90 итерации = 14474.15\n",
      "Метрика RMSE на 99 итерации = 13650.35\n",
      "\n",
      "Лучшая метрика RMSE = 13650.35 обнаружена на 10 эпохе\n",
      "Средняя метрика RMSE = 15394.68\n",
      "--------------------------------------------------------------------------------------------- \n",
      "\n",
      "Оптимизатор NAdam (\n",
      "Parameter Group 0\n",
      "    betas: (0.9, 0.999)\n",
      "    eps: 1e-08\n",
      "    lr: 0.01\n",
      "    momentum_decay: 0.004\n",
      "    weight_decay: 0\n",
      "):\n",
      "Метрика RMSE на 0 итерации = 13216.69\n",
      "Метрика RMSE на 10 итерации = 9602.06\n",
      "Метрика RMSE на 20 итерации = 8826.32\n",
      "Метрика RMSE на 30 итерации = 8418.25\n",
      "Метрика RMSE на 40 итерации = 8148.43\n",
      "Метрика RMSE на 50 итерации = 7850.85\n",
      "Метрика RMSE на 60 итерации = 7530.7\n",
      "Метрика RMSE на 70 итерации = 7172.63\n",
      "Метрика RMSE на 80 итерации = 6887.83\n",
      "Метрика RMSE на 90 итерации = 6608.07\n",
      "Метрика RMSE на 99 итерации = 6351.07\n",
      "\n",
      "Лучшая метрика RMSE = 6351.07 обнаружена на 10 эпохе\n",
      "Средняя метрика RMSE = 8237.54\n",
      "--------------------------------------------------------------------------------------------- \n",
      "\n",
      "Оптимизатор Adamax (\n",
      "Parameter Group 0\n",
      "    betas: (0.9, 0.999)\n",
      "    eps: 1e-08\n",
      "    lr: 0.01\n",
      "    weight_decay: 0\n",
      "):\n",
      "Метрика RMSE на 0 итерации = 6322.11\n",
      "Метрика RMSE на 10 итерации = 6220.63\n",
      "Метрика RMSE на 20 итерации = 6147.23\n",
      "Метрика RMSE на 30 итерации = 6079.94\n",
      "Метрика RMSE на 40 итерации = 6045.09\n",
      "Метрика RMSE на 50 итерации = 5992.53\n",
      "Метрика RMSE на 60 итерации = 5953.02\n",
      "Метрика RMSE на 70 итерации = 5928.32\n",
      "Метрика RMSE на 80 итерации = 5892.93\n",
      "Метрика RMSE на 90 итерации = 5828.56\n",
      "Метрика RMSE на 99 итерации = 5811.32\n",
      "\n",
      "Лучшая метрика RMSE = 5811.32 обнаружена на 10 эпохе\n",
      "Средняя метрика RMSE = 6020.15\n",
      "--------------------------------------------------------------------------------------------- \n",
      "\n",
      "Оптимизатор Adamax (\n",
      "Parameter Group 0\n",
      "    betas: (0.9, 0.999)\n",
      "    eps: 1e-08\n",
      "    lr: 0.001\n",
      "    weight_decay: 0\n",
      "):\n",
      "Метрика RMSE на 0 итерации = 5811.35\n",
      "Метрика RMSE на 10 итерации = 5808.34\n",
      "Метрика RMSE на 20 итерации = 5804.64\n",
      "Метрика RMSE на 30 итерации = 5799.98\n",
      "Метрика RMSE на 40 итерации = 5795.55\n",
      "Метрика RMSE на 50 итерации = 5791.48\n",
      "Метрика RMSE на 60 итерации = 5787.06\n",
      "Метрика RMSE на 70 итерации = 5784.49\n",
      "Метрика RMSE на 80 итерации = 5780.73\n",
      "Метрика RMSE на 90 итерации = 5776.5\n",
      "Метрика RMSE на 99 итерации = 5773.3\n",
      "\n",
      "Лучшая метрика RMSE = 5773.3 обнаружена на 10 эпохе\n",
      "Средняя метрика RMSE = 5792.13\n",
      "--------------------------------------------------------------------------------------------- \n",
      "\n",
      "Оптимизатор Adam (\n",
      "Parameter Group 0\n",
      "    amsgrad: False\n",
      "    betas: (0.9, 0.999)\n",
      "    eps: 1e-08\n",
      "    lr: 0.01\n",
      "    weight_decay: 0\n",
      "):\n",
      "Метрика RMSE на 0 итерации = 5728.27\n",
      "Метрика RMSE на 10 итерации = 5697.18\n",
      "Метрика RMSE на 20 итерации = 5569.86\n",
      "Метрика RMSE на 30 итерации = 5523.6\n",
      "Метрика RMSE на 40 итерации = 5391.42\n",
      "Метрика RMSE на 50 итерации = 5328.68\n",
      "Метрика RMSE на 60 итерации = 5217.7\n",
      "Метрика RMSE на 70 итерации = 5081.16\n",
      "Метрика RMSE на 80 итерации = 5082.43\n",
      "Метрика RMSE на 90 итерации = 5079.62\n",
      "Метрика RMSE на 99 итерации = 5046.36\n",
      "\n",
      "Лучшая метрика RMSE = 5046.36 обнаружена на 10 эпохе\n",
      "Средняя метрика RMSE = 5340.57\n",
      "--------------------------------------------------------------------------------------------- \n",
      "\n"
     ]
    }
   ],
   "source": [
    "num_epochs = 100\n",
    "batch_size = 40\n",
    "num_batches = ceil(len(X_train)/batch_size)\n",
    "\n",
    "for optimizer in optimizers:\n",
    "    optimizer_rmse = []\n",
    "    print(f'Оптимизатор {optimizer}:')\n",
    "\n",
    "    for epoch in range(num_epochs):\n",
    "        \n",
    "        order = np.random.permutation(len(X_train))\n",
    "        \n",
    "        for batch_idx in range(num_batches):\n",
    "            \n",
    "            start_index = batch_idx * batch_size\n",
    "            optimizer.zero_grad()\n",
    "\n",
    "            batch_indexes = order[start_index : start_index + batch_size]\n",
    "            X_batch = X_train[batch_indexes]\n",
    "            y_batch = y_train[batch_indexes]\n",
    "\n",
    "            preds = net.forward(X_batch.float()).flatten()\n",
    "\n",
    "            loss_value = loss(preds, y_batch)            \n",
    "\n",
    "            loss_value.backward()\n",
    "\n",
    "            optimizer.step()\n",
    "\n",
    "        if epoch % 10 == 0 or epoch == num_epochs - 1:\n",
    "            net.eval()\n",
    "            val_preds = net.forward(X_val.float()).flatten()\n",
    "            ans = round(float(torch.sqrt(loss(val_preds, y_val))), 2)\n",
    "            history.append(ans)\n",
    "            print(f'Метрика RMSE на {epoch} итерации =', ans)\n",
    "            optimizer_rmse.append(ans)\n",
    "    print()\n",
    "    print(f'Лучшая метрика RMSE = {min(optimizer_rmse)} обнаружена на {optimizer_rmse.index(min(optimizer_rmse))} эпохе')\n",
    "    print(f'Средняя метрика RMSE = {round(np.mean(optimizer_rmse), 2)}')\n",
    "    print('---------------------------------------------------------------------------------------------', '\\n')"
   ]
  },
  {
   "cell_type": "code",
   "execution_count": 20,
   "id": "1c988f28",
   "metadata": {},
   "outputs": [
    {
     "data": {
      "image/png": "[encoded data removed]",
      "text/plain": [
       "<Figure size 432x288 with 1 Axes>"
      ]
     },
     "metadata": {
      "needs_background": "light"
     },
     "output_type": "display_data"
    }
   ],
   "source": [
    "plt.plot(history, label='Ошибка на проверочном наборе')\n",
    "plt.xlabel('Эпоха обучения')\n",
    "plt.ylabel('Ошибка')\n",
    "plt.legend()\n",
    "plt.show()"
   ]
  },
  {
   "cell_type": "code",
   "execution_count": 21,
   "id": "5e4d0a90",
   "metadata": {},
   "outputs": [
    {
     "name": "stdout",
     "output_type": "stream",
     "text": [
      "Метрика RMSE = 4124.49\n"
     ]
    }
   ],
   "source": [
    "# Проверим модель на тестовых данных\n",
    "\n",
    "num_epochs = 100\n",
    "batch_size = 40\n",
    "num_batches = ceil(len(X_train)/batch_size)\n",
    "\n",
    "for epoch in range(num_epochs):\n",
    "\n",
    "    order = np.random.permutation(len(X_train))\n",
    "\n",
    "    for batch_idx in range(num_batches):\n",
    "\n",
    "        start_index = batch_idx * batch_size\n",
    "        optimizer.zero_grad()\n",
    "\n",
    "        batch_indexes = order[start_index : start_index + batch_size]\n",
    "        X_batch = X_train[batch_indexes]\n",
    "        y_batch = y_train[batch_indexes]\n",
    "\n",
    "        preds = net.forward(X_batch.float()).flatten()\n",
    "\n",
    "        loss_value = torch.sqrt(loss(preds, y_batch))\n",
    "        \n",
    "\n",
    "        loss_value.backward()\n",
    "\n",
    "        optimizer5.step()\n",
    "        \n",
    "net.eval()\n",
    "test_preds = net.forward(X_test.float()).flatten()\n",
    "ans = round(float(torch.sqrt(loss(test_preds, y_test))), 2)\n",
    "print(f'Метрика RMSE =', ans)"
   ]
  },
  {
   "cell_type": "code",
   "execution_count": 22,
   "id": "406b8d47",
   "metadata": {},
   "outputs": [
    {
     "data": {
      "image/png": "[encoded data removed]",
      "text/plain": [
       "<Figure size 1296x576 with 1 Axes>"
      ]
     },
     "metadata": {
      "needs_background": "light"
     },
     "output_type": "display_data"
    }
   ],
   "source": [
    "y1 = test_preds.detach().numpy().reshape([-1])\n",
    "y2 = y_test.detach().numpy().reshape([-1])\n",
    "x = np.arange(len(y1))\n",
    "\n",
    "fig,ax = plt.subplots()\n",
    "fig.set_figwidth(18)\n",
    "fig.set_figheight(8)\n",
    "ax.set_xticks(x)\n",
    "first = ax.bar(x-0.15, y1, width = 0.3, label = 'Прогноз')\n",
    "second = ax.bar(x+0.15, y2, width = 0.3, label = 'Факт')\n",
    "ax.legend()\n",
    "ax.set_title('График \"Факт-прогноз\"', fontsize=20)\n",
    "ax.set_xlabel('Номер звезды')\n",
    "ax.set_ylabel('Температура звезды')\n",
    "plt.show()"
   ]
  },
  {
   "cell_type": "markdown",
   "id": "growing-supply",
   "metadata": {},
   "source": [
    "## Улучшение нейронной сети"
   ]
  },
  {
   "cell_type": "code",
   "execution_count": 26,
   "id": "9767c6e3",
   "metadata": {},
   "outputs": [],
   "source": [
    "class Model_improve(nn.Module):\n",
    "    def __init__(self, n_in_neurons, n_hidden_neurons_1, n_hidden_neurons_2, n_hidden_neurons_3,n_hidden_neurons_4, n_out_neurons, \n",
    "                 dropout_1, dropout_2, dropout_3, dropout_4):\n",
    "        super(Model_improve, self).__init__()\n",
    "        \n",
    "        self.fc1 = nn.Linear(n_in_neurons, n_hidden_neurons_1)\n",
    "        self.act1 = nn.ReLU()\n",
    "        self.dp1 = nn.Dropout(p=dropout_1)\n",
    "        self.fc2 = nn.Linear(n_hidden_neurons_1, n_hidden_neurons_2)            \n",
    "        self.act2 = nn.ReLU()\n",
    "        self.dp2 = nn.Dropout(p=dropout_2)\n",
    "        self.fc3 = nn.Linear(n_hidden_neurons_2, n_hidden_neurons_3)\n",
    "        self.act3 = nn.ReLU()\n",
    "        self.dp3 = nn.Dropout(p=dropout_3)\n",
    "        self.fc4 = nn.Linear(n_hidden_neurons_3, n_hidden_neurons_4)\n",
    "        self.act4 = nn.ReLU()\n",
    "        self.dp4 = nn.Dropout(p=dropout_4)\n",
    "        self.fc5 = nn.Linear(n_hidden_neurons_4, n_out_neurons)\n",
    "\n",
    "    def forward(self, x):\n",
    "        x = self.fc1(x)        \n",
    "        x = self.act1(x)\n",
    "        x = self.dp1(x)\n",
    "        x = self.fc2(x)\n",
    "        x = self.act2(x)\n",
    "        x = self.dp2(x)\n",
    "        x = self.fc3(x)\n",
    "        x = self.act3(x)\n",
    "        x = self.dp3(x)\n",
    "        x = self.fc4(x)\n",
    "        x = self.act4(x)\n",
    "        x = self.dp4(x)\n",
    "        x = self.fc5(x)\n",
    "        \n",
    "        return x"
   ]
  },
  {
   "cell_type": "code",
   "execution_count": 24,
   "id": "04dadc3e",
   "metadata": {},
   "outputs": [],
   "source": [
    "def rmse(y_true, y_pred):\n",
    "    return mean_squared_error(y_true, y_pred, squared=False)"
   ]
  },
  {
   "cell_type": "code",
   "execution_count": 25,
   "id": "f5edfcb8",
   "metadata": {},
   "outputs": [],
   "source": [
    "rmse_scorer = make_scorer(rmse)"
   ]
  },
  {
   "cell_type": "code",
   "execution_count": 27,
   "id": "ac7cb9a4",
   "metadata": {},
   "outputs": [],
   "source": [
    "skorch_regressor = NeuralNetRegressor(module=Model_improve, \n",
    "                                      device='cpu',  \n",
    "                                      verbose=3,\n",
    "                                      batch_size=batch_size,\n",
    "                                      optimizer=torch.optim.Adam, \n",
    "                                      max_epochs=500, \n",
    "                                      lr=1e-3,\n",
    "                                      train_split=ValidSplit(cv=5),\n",
    "                                      criterion =nn.MSELoss,\n",
    "                                      callbacks=[\n",
    "                ('val_rmse', EpochScoring(scoring=rmse_scorer, lower_is_better=True, name='RMSE')),\n",
    "                ('estoper', EarlyStopping(lower_is_better=True, monitor='RMSE', patience=30)),\n",
    "            ],                                    ) "
   ]
  },
  {
   "cell_type": "code",
   "execution_count": 28,
   "id": "b02a4ddd",
   "metadata": {},
   "outputs": [],
   "source": [
    "params = {\n",
    "    'module__dropout_1': [0.1, 0.2, 0.3, 0.4, 0.5],\n",
    "    'module__dropout_2': [0.3, 0.4, 0.5, 0.6, 0.7],\n",
    "    'module__dropout_3': [0.3, 0.4, 0.5, 0.6, 0.7],\n",
    "    'module__dropout_4': [0.1, 0.2, 0.3, 0.4, 0.5],\n",
    "    'module__n_hidden_neurons_1': range(10, 30, 5),\n",
    "    'module__n_hidden_neurons_2': range(10, 30, 5),\n",
    "    'module__n_hidden_neurons_3': range(10, 30, 5),\n",
    "    'module__n_hidden_neurons_4': range(10, 30, 5),\n",
    "    'module__n_in_neurons': [10],\n",
    "    'module__n_out_neurons': [1]\n",
    "}"
   ]
  },
  {
   "cell_type": "code",
   "execution_count": 29,
   "id": "61989b0e",
   "metadata": {
    "collapsed": true
   },
   "outputs": [
    {
     "name": "stdout",
     "output_type": "stream",
     "text": [
      "Fitting 3 folds for each of 10 candidates, totalling 30 fits\n",
      "  epoch       RMSE      train_loss     valid_loss     dur\n",
      "-------  ---------  --------------  -------------  ------\n",
      "      1  \u001b[36m9803.4170\u001b[0m  \u001b[32m212827286.7368\u001b[0m  \u001b[35m96106992.0000\u001b[0m  0.0092\n",
      "      2  \u001b[36m9803.4102\u001b[0m  \u001b[32m212826910.3158\u001b[0m  \u001b[35m96106848.0000\u001b[0m  0.0048\n",
      "      3  \u001b[36m9803.4023\u001b[0m  \u001b[32m212826797.4737\u001b[0m  \u001b[35m96106704.0000\u001b[0m  0.0049\n",
      "      4  \u001b[36m9803.3945\u001b[0m  \u001b[32m212826517.8947\u001b[0m  \u001b[35m96106544.0000\u001b[0m  0.0047\n",
      "      5  \u001b[36m9803.3867\u001b[0m  \u001b[32m212826483.3684\u001b[0m  \u001b[35m96106400.0000\u001b[0m  0.0052\n",
      "      6  \u001b[36m9803.3779\u001b[0m  \u001b[32m212826206.3158\u001b[0m  \u001b[35m96106224.0000\u001b[0m  0.0049\n",
      "      7  \u001b[36m9803.3701\u001b[0m  \u001b[32m212825901.4737\u001b[0m  \u001b[35m96106056.0000\u001b[0m  0.0048\n",
      "      8  \u001b[36m9803.3613\u001b[0m  \u001b[32m212825416.4211\u001b[0m  \u001b[35m96105896.0000\u001b[0m  0.0047\n",
      "      9  \u001b[36m9803.3535\u001b[0m  \u001b[32m212825398.7368\u001b[0m  \u001b[35m96105720.0000\u001b[0m  0.0047\n",
      "     10  \u001b[36m9803.3438\u001b[0m  \u001b[32m212825189.8947\u001b[0m  \u001b[35m96105544.0000\u001b[0m  0.0049\n",
      "     11  \u001b[36m9803.3350\u001b[0m  \u001b[32m212824894.3158\u001b[0m  \u001b[35m96105368.0000\u001b[0m  0.0043\n",
      "     12  \u001b[36m9803.3252\u001b[0m  \u001b[32m212824581.8947\u001b[0m  \u001b[35m96105192.0000\u001b[0m  0.0047\n",
      "     13  \u001b[36m9803.3164\u001b[0m  \u001b[32m212824371.3684\u001b[0m  \u001b[35m96105016.0000\u001b[0m  0.0045\n",
      "     14  \u001b[36m9803.3076\u001b[0m  \u001b[32m212824330.1053\u001b[0m  \u001b[35m96104840.0000\u001b[0m  0.0046\n",
      "     15  \u001b[36m9803.2979\u001b[0m  212824404.2105  \u001b[35m96104656.0000\u001b[0m  0.0047\n",
      "     16  \u001b[36m9803.2891\u001b[0m  \u001b[32m212823749.0526\u001b[0m  \u001b[35m96104472.0000\u001b[0m  0.0045\n",
      "     17  \u001b[36m9803.2783\u001b[0m  212823774.3158  \u001b[35m96104272.0000\u001b[0m  0.0046\n",
      "     18  \u001b[36m9803.2686\u001b[0m  \u001b[32m212823306.9474\u001b[0m  \u001b[35m96104080.0000\u001b[0m  0.0047\n",
      "     19  \u001b[36m9803.2578\u001b[0m  \u001b[32m212823162.9474\u001b[0m  \u001b[35m96103856.0000\u001b[0m  0.0233\n",
      "     20  \u001b[36m9803.2451\u001b[0m  \u001b[32m212822006.7368\u001b[0m  \u001b[35m96103608.0000\u001b[0m  0.0047\n",
      "     21  \u001b[36m9803.2314\u001b[0m  212822140.6316  \u001b[35m96103360.0000\u001b[0m  0.0050\n",
      "     22  \u001b[36m9803.2178\u001b[0m  212822279.5789  \u001b[35m96103064.0000\u001b[0m  0.0047\n",
      "     23  \u001b[36m9803.2031\u001b[0m  \u001b[32m212821770.1053\u001b[0m  \u001b[35m96102776.0000\u001b[0m  0.0045\n",
      "     24  \u001b[36m9803.1855\u001b[0m  \u001b[32m212821130.1053\u001b[0m  \u001b[35m96102432.0000\u001b[0m  0.0046\n",
      "     25  \u001b[36m9803.1670\u001b[0m  212821141.8947  \u001b[35m96102088.0000\u001b[0m  0.0046\n",
      "     26  \u001b[36m9803.1484\u001b[0m  \u001b[32m212820265.2632\u001b[0m  \u001b[35m96101712.0000\u001b[0m  0.0046\n",
      "     27  \u001b[36m9803.1260\u001b[0m  \u001b[32m212819417.2632\u001b[0m  \u001b[35m96101272.0000\u001b[0m  0.0052\n",
      "     28  \u001b[36m9803.1016\u001b[0m  \u001b[32m212818682.1053\u001b[0m  \u001b[35m96100792.0000\u001b[0m  0.0048\n",
      "     29  \u001b[36m9803.0742\u001b[0m  212818696.4211  \u001b[35m96100256.0000\u001b[0m  0.0047\n",
      "     30  \u001b[36m9803.0420\u001b[0m  \u001b[32m212814967.5789\u001b[0m  \u001b[35m96099640.0000\u001b[0m  0.0052\n",
      "Stopping since RMSE has not improved in the last 30 epochs.\n",
      "[CV 1/3] END module__dropout_1=0.1, module__dropout_2=0.4, module__dropout_3=0.4, module__dropout_4=0.4, module__n_hidden_neurons_1=15, module__n_hidden_neurons_2=15, module__n_hidden_neurons_3=15, module__n_hidden_neurons_4=10, module__n_in_neurons=10, module__n_out_neurons=1; total time=   0.3s\n",
      "  epoch        RMSE      train_loss      valid_loss     dur\n",
      "-------  ----------  --------------  --------------  ------\n",
      "      1  \u001b[36m12363.3564\u001b[0m  \u001b[32m233580616.4211\u001b[0m  \u001b[35m152852576.0000\u001b[0m  0.0061\n",
      "      2  \u001b[36m12363.3525\u001b[0m  \u001b[32m233580615.5789\u001b[0m  \u001b[35m152852496.0000\u001b[0m  0.0051\n",
      "      3  \u001b[36m12363.3486\u001b[0m  \u001b[32m233580409.2632\u001b[0m  \u001b[35m152852368.0000\u001b[0m  0.0044\n",
      "      4  \u001b[36m12363.3428\u001b[0m  233580489.2632  \u001b[35m152852256.0000\u001b[0m  0.0050\n",
      "      5  \u001b[36m12363.3389\u001b[0m  \u001b[32m233580173.4737\u001b[0m  \u001b[35m152852176.0000\u001b[0m  0.0048\n",
      "      6  \u001b[36m12363.3359\u001b[0m  \u001b[32m233579942.7368\u001b[0m  \u001b[35m152852064.0000\u001b[0m  0.0048\n",
      "      7  \u001b[36m12363.3320\u001b[0m  \u001b[32m233579929.2632\u001b[0m  \u001b[35m152851968.0000\u001b[0m  0.0047\n",
      "      8  \u001b[36m12363.3281\u001b[0m  \u001b[32m233579771.7895\u001b[0m  \u001b[35m152851872.0000\u001b[0m  0.0048\n",
      "      9  \u001b[36m12363.3242\u001b[0m  \u001b[32m233579685.8947\u001b[0m  \u001b[35m152851792.0000\u001b[0m  0.0045\n",
      "     10  \u001b[36m12363.3213\u001b[0m  \u001b[32m233579669.0526\u001b[0m  \u001b[35m152851712.0000\u001b[0m  0.0046\n",
      "     11  \u001b[36m12363.3184\u001b[0m  \u001b[32m233579542.7368\u001b[0m  \u001b[35m152851632.0000\u001b[0m  0.0148\n",
      "     12  \u001b[36m12363.3145\u001b[0m  \u001b[32m233579446.7368\u001b[0m  \u001b[35m152851552.0000\u001b[0m  0.0050\n",
      "     13  \u001b[36m12363.3125\u001b[0m  \u001b[32m233579377.6842\u001b[0m  \u001b[35m152851504.0000\u001b[0m  0.0044\n",
      "     14  \u001b[36m12363.3105\u001b[0m  \u001b[32m233579255.5789\u001b[0m  \u001b[35m152851440.0000\u001b[0m  0.0046\n",
      "     15  \u001b[36m12363.3076\u001b[0m  \u001b[32m233579127.5789\u001b[0m  \u001b[35m152851376.0000\u001b[0m  0.0048\n",
      "     16  \u001b[36m12363.3057\u001b[0m  \u001b[32m233579070.3158\u001b[0m  \u001b[35m152851312.0000\u001b[0m  0.0047\n",
      "     17  \u001b[36m12363.3027\u001b[0m  233579120.0000  \u001b[35m152851280.0000\u001b[0m  0.0047\n",
      "     18  \u001b[36m12363.3008\u001b[0m  \u001b[32m233578851.3684\u001b[0m  \u001b[35m152851200.0000\u001b[0m  0.0047\n",
      "     19  \u001b[36m12363.2988\u001b[0m  \u001b[32m233578637.4737\u001b[0m  \u001b[35m152851136.0000\u001b[0m  0.0047\n",
      "     20  \u001b[36m12363.2959\u001b[0m  233578825.2632  \u001b[35m152851056.0000\u001b[0m  0.0046\n",
      "     21  \u001b[36m12363.2910\u001b[0m  233578648.4211  \u001b[35m152850976.0000\u001b[0m  0.0044\n",
      "     22  \u001b[36m12363.2881\u001b[0m  \u001b[32m233578610.5263\u001b[0m  \u001b[35m152850880.0000\u001b[0m  0.0045\n",
      "     23  \u001b[36m12363.2842\u001b[0m  \u001b[32m233578329.2632\u001b[0m  \u001b[35m152850800.0000\u001b[0m  0.0289\n",
      "     24  \u001b[36m12363.2803\u001b[0m  \u001b[32m233578304.8421\u001b[0m  \u001b[35m152850688.0000\u001b[0m  0.0048\n",
      "     25  \u001b[36m12363.2744\u001b[0m  \u001b[32m233578090.9474\u001b[0m  \u001b[35m152850560.0000\u001b[0m  0.0044\n",
      "     26  \u001b[36m12363.2686\u001b[0m  \u001b[32m233577881.2632\u001b[0m  \u001b[35m152850400.0000\u001b[0m  0.0045\n",
      "     27  \u001b[36m12363.2627\u001b[0m  233577957.0526  \u001b[35m152850272.0000\u001b[0m  0.0043\n",
      "     28  \u001b[36m12363.2549\u001b[0m  \u001b[32m233577667.3684\u001b[0m  \u001b[35m152850096.0000\u001b[0m  0.0045\n",
      "     29  \u001b[36m12363.2471\u001b[0m  \u001b[32m233577520.0000\u001b[0m  \u001b[35m152849904.0000\u001b[0m  0.0044\n",
      "     30  \u001b[36m12363.2412\u001b[0m  \u001b[32m233577275.7895\u001b[0m  \u001b[35m152849744.0000\u001b[0m  0.0045\n",
      "Stopping since RMSE has not improved in the last 30 epochs.\n",
      "[CV 2/3] END module__dropout_1=0.1, module__dropout_2=0.4, module__dropout_3=0.4, module__dropout_4=0.4, module__n_hidden_neurons_1=15, module__n_hidden_neurons_2=15, module__n_hidden_neurons_3=15, module__n_hidden_neurons_4=10, module__n_in_neurons=10, module__n_out_neurons=1; total time=   0.2s\n",
      "  epoch        RMSE      train_loss      valid_loss     dur\n",
      "-------  ----------  --------------  --------------  ------\n",
      "      1  \u001b[36m12363.5410\u001b[0m  \u001b[32m189227569.6842\u001b[0m  \u001b[35m152857136.0000\u001b[0m  0.0048\n",
      "      2  \u001b[36m12363.5332\u001b[0m  \u001b[32m189226620.6316\u001b[0m  \u001b[35m152856944.0000\u001b[0m  0.0047\n",
      "      3  \u001b[36m12363.5234\u001b[0m  \u001b[32m189226275.3684\u001b[0m  \u001b[35m152856720.0000\u001b[0m  0.0050\n",
      "      4  \u001b[36m12363.5137\u001b[0m  189226375.5789  \u001b[35m152856496.0000\u001b[0m  0.0242\n",
      "      5  \u001b[36m12363.5049\u001b[0m  \u001b[32m189225405.4737\u001b[0m  \u001b[35m152856256.0000\u001b[0m  0.0049\n",
      "      6  \u001b[36m12363.4941\u001b[0m  189226138.1053  \u001b[35m152855968.0000\u001b[0m  0.0050\n",
      "      7  \u001b[36m12363.4824\u001b[0m  \u001b[32m189225373.4737\u001b[0m  \u001b[35m152855696.0000\u001b[0m  0.0045\n",
      "      8  \u001b[36m12363.4697\u001b[0m  \u001b[32m189224629.8947\u001b[0m  \u001b[35m152855408.0000\u001b[0m  0.0045\n",
      "      9  \u001b[36m12363.4580\u001b[0m  189224887.5789  \u001b[35m152855104.0000\u001b[0m  0.0046\n",
      "     10  \u001b[36m12363.4453\u001b[0m  \u001b[32m189223941.0526\u001b[0m  \u001b[35m152854752.0000\u001b[0m  0.0059\n",
      "     11  \u001b[36m12363.4297\u001b[0m  189224277.8947  \u001b[35m152854384.0000\u001b[0m  0.0045\n",
      "     12  \u001b[36m12363.4141\u001b[0m  \u001b[32m189223506.5263\u001b[0m  \u001b[35m152854016.0000\u001b[0m  0.0051\n",
      "     13  \u001b[36m12363.3975\u001b[0m  189223800.4211  \u001b[35m152853600.0000\u001b[0m  0.0052\n",
      "     14  \u001b[36m12363.3799\u001b[0m  \u001b[32m189222311.5789\u001b[0m  \u001b[35m152853184.0000\u001b[0m  0.0051\n",
      "     15  \u001b[36m12363.3613\u001b[0m  189222673.6842  \u001b[35m152852704.0000\u001b[0m  0.0044\n",
      "     16  \u001b[36m12363.3408\u001b[0m  189222917.0526  \u001b[35m152852208.0000\u001b[0m  0.0271\n",
      "     17  \u001b[36m12363.3203\u001b[0m  \u001b[32m189221731.3684\u001b[0m  \u001b[35m152851680.0000\u001b[0m  0.0047\n",
      "     18  \u001b[36m12363.2969\u001b[0m  \u001b[32m189221616.8421\u001b[0m  \u001b[35m152851104.0000\u001b[0m  0.0057\n",
      "     19  \u001b[36m12363.2705\u001b[0m  \u001b[32m189220208.0000\u001b[0m  \u001b[35m152850448.0000\u001b[0m  0.0043\n",
      "     20  \u001b[36m12363.2422\u001b[0m  \u001b[32m189219877.0526\u001b[0m  \u001b[35m152849776.0000\u001b[0m  0.0051\n",
      "     21  \u001b[36m12363.2109\u001b[0m  \u001b[32m189219024.8421\u001b[0m  \u001b[35m152849008.0000\u001b[0m  0.0045\n",
      "     22  \u001b[36m12363.1787\u001b[0m  \u001b[32m189218858.1053\u001b[0m  \u001b[35m152848176.0000\u001b[0m  0.0048\n",
      "     23  \u001b[36m12363.1406\u001b[0m  \u001b[32m189216698.1053\u001b[0m  \u001b[35m152847264.0000\u001b[0m  0.0046\n",
      "     24  \u001b[36m12363.0996\u001b[0m  189217595.7895  \u001b[35m152846240.0000\u001b[0m  0.0046\n",
      "     25  \u001b[36m12363.0557\u001b[0m  \u001b[32m189215279.1579\u001b[0m  \u001b[35m152845152.0000\u001b[0m  0.0045\n",
      "     26  \u001b[36m12363.0068\u001b[0m  \u001b[32m189214381.4737\u001b[0m  \u001b[35m152843936.0000\u001b[0m  0.0047\n",
      "     27  \u001b[36m12362.9521\u001b[0m  \u001b[32m189210762.1053\u001b[0m  \u001b[35m152842576.0000\u001b[0m  0.0045\n",
      "     28  \u001b[36m12362.8906\u001b[0m  189210921.2632  \u001b[35m152841072.0000\u001b[0m  0.0046\n",
      "     29  \u001b[36m12362.8252\u001b[0m  \u001b[32m189209808.0000\u001b[0m  \u001b[35m152839440.0000\u001b[0m  0.0235\n",
      "     30  \u001b[36m12362.7510\u001b[0m  \u001b[32m189208553.2632\u001b[0m  \u001b[35m152837616.0000\u001b[0m  0.0046\n",
      "Stopping since RMSE has not improved in the last 30 epochs.\n",
      "[CV 3/3] END module__dropout_1=0.1, module__dropout_2=0.4, module__dropout_3=0.4, module__dropout_4=0.4, module__n_hidden_neurons_1=15, module__n_hidden_neurons_2=15, module__n_hidden_neurons_3=15, module__n_hidden_neurons_4=10, module__n_in_neurons=10, module__n_out_neurons=1; total time=   0.3s\n",
      "  epoch       RMSE      train_loss     valid_loss     dur\n",
      "-------  ---------  --------------  -------------  ------\n",
      "      1  \u001b[36m9803.3896\u001b[0m  \u001b[32m212826467.3684\u001b[0m  \u001b[35m96106440.0000\u001b[0m  0.0047\n",
      "      2  \u001b[36m9803.3848\u001b[0m  212826608.8421  \u001b[35m96106344.0000\u001b[0m  0.0047\n",
      "      3  \u001b[36m9803.3779\u001b[0m  \u001b[32m212826423.5789\u001b[0m  \u001b[35m96106240.0000\u001b[0m  0.0042\n",
      "      4  \u001b[36m9803.3740\u001b[0m  \u001b[32m212825992.4211\u001b[0m  \u001b[35m96106128.0000\u001b[0m  0.0043\n",
      "      5  \u001b[36m9803.3682\u001b[0m  212826065.6842  \u001b[35m96106032.0000\u001b[0m  0.0041\n",
      "      6  \u001b[36m9803.3633\u001b[0m  212825995.7895  \u001b[35m96105920.0000\u001b[0m  0.0041\n",
      "      7  \u001b[36m9803.3574\u001b[0m  \u001b[32m212825733.0526\u001b[0m  \u001b[35m96105808.0000\u001b[0m  0.0043\n",
      "      8  \u001b[36m9803.3525\u001b[0m  212826217.2632  \u001b[35m96105712.0000\u001b[0m  0.0041\n",
      "      9  \u001b[36m9803.3477\u001b[0m  212825903.1579  \u001b[35m96105624.0000\u001b[0m  0.0043\n",
      "     10  \u001b[36m9803.3428\u001b[0m  212825990.7368  \u001b[35m96105528.0000\u001b[0m  0.0048\n",
      "     11  \u001b[36m9803.3379\u001b[0m  212825854.3158  \u001b[35m96105424.0000\u001b[0m  0.0049\n",
      "     12  \u001b[36m9803.3340\u001b[0m  212825867.7895  \u001b[35m96105352.0000\u001b[0m  0.0045\n",
      "     13  \u001b[36m9803.3301\u001b[0m  \u001b[32m212825543.5789\u001b[0m  \u001b[35m96105272.0000\u001b[0m  0.0046\n",
      "     14  \u001b[36m9803.3252\u001b[0m  \u001b[32m212825080.4211\u001b[0m  \u001b[35m96105184.0000\u001b[0m  0.0046\n",
      "     15  \u001b[36m9803.3203\u001b[0m  \u001b[32m212824966.7368\u001b[0m  \u001b[35m96105088.0000\u001b[0m  0.0042\n",
      "     16  \u001b[36m9803.3164\u001b[0m  212825331.3684  \u001b[35m96105008.0000\u001b[0m  0.0048\n",
      "     17  \u001b[36m9803.3115\u001b[0m  \u001b[32m212824818.5263\u001b[0m  \u001b[35m96104928.0000\u001b[0m  0.0043\n",
      "     18  \u001b[36m9803.3066\u001b[0m  \u001b[32m212824480.8421\u001b[0m  \u001b[35m96104840.0000\u001b[0m  0.0043\n",
      "     19  \u001b[36m9803.3027\u001b[0m  \u001b[32m212824358.7368\u001b[0m  \u001b[35m96104744.0000\u001b[0m  0.0044\n",
      "     20  \u001b[36m9803.2969\u001b[0m  212824704.0000  \u001b[35m96104632.0000\u001b[0m  0.0045\n",
      "     21  \u001b[36m9803.2920\u001b[0m  \u001b[32m212824175.1579\u001b[0m  \u001b[35m96104528.0000\u001b[0m  0.0043\n",
      "     22  \u001b[36m9803.2861\u001b[0m  \u001b[32m212823970.5263\u001b[0m  \u001b[35m96104408.0000\u001b[0m  0.0046\n",
      "     23  \u001b[36m9803.2803\u001b[0m  \u001b[32m212823491.3684\u001b[0m  \u001b[35m96104296.0000\u001b[0m  0.0042\n",
      "     24  \u001b[36m9803.2734\u001b[0m  212823641.2632  \u001b[35m96104176.0000\u001b[0m  0.0245\n",
      "     25  \u001b[36m9803.2676\u001b[0m  \u001b[32m212823275.7895\u001b[0m  \u001b[35m96104048.0000\u001b[0m  0.0050\n",
      "     26  \u001b[36m9803.2607\u001b[0m  212823536.0000  \u001b[35m96103920.0000\u001b[0m  0.0045\n",
      "     27  \u001b[36m9803.2539\u001b[0m  \u001b[32m212822450.5263\u001b[0m  \u001b[35m96103784.0000\u001b[0m  0.0046\n",
      "     28  \u001b[36m9803.2461\u001b[0m  \u001b[32m212822022.7368\u001b[0m  \u001b[35m96103640.0000\u001b[0m  0.0044\n",
      "     29  \u001b[36m9803.2393\u001b[0m  212823464.4211  \u001b[35m96103504.0000\u001b[0m  0.0045\n",
      "     30  \u001b[36m9803.2314\u001b[0m  212822283.7895  \u001b[35m96103352.0000\u001b[0m  0.0048\n",
      "Stopping since RMSE has not improved in the last 30 epochs.\n",
      "[CV 1/3] END module__dropout_1=0.4, module__dropout_2=0.6, module__dropout_3=0.7, module__dropout_4=0.4, module__n_hidden_neurons_1=20, module__n_hidden_neurons_2=15, module__n_hidden_neurons_3=15, module__n_hidden_neurons_4=10, module__n_in_neurons=10, module__n_out_neurons=1; total time=   0.2s\n",
      "  epoch        RMSE      train_loss      valid_loss     dur\n",
      "-------  ----------  --------------  --------------  ------\n",
      "      1  \u001b[36m12363.6748\u001b[0m  \u001b[32m233590446.3158\u001b[0m  \u001b[35m152860448.0000\u001b[0m  0.0049\n",
      "      2  \u001b[36m12363.6689\u001b[0m  \u001b[32m233589818.9474\u001b[0m  \u001b[35m152860304.0000\u001b[0m  0.0053\n",
      "      3  \u001b[36m12363.6611\u001b[0m  \u001b[32m233589469.4737\u001b[0m  \u001b[35m152860128.0000\u001b[0m  0.0053\n",
      "      4  \u001b[36m12363.6562\u001b[0m  233590022.7368  \u001b[35m152859968.0000\u001b[0m  0.0048\n",
      "      5  \u001b[36m12363.6484\u001b[0m  \u001b[32m233589102.3158\u001b[0m  \u001b[35m152859840.0000\u001b[0m  0.0252\n",
      "      6  \u001b[36m12363.6436\u001b[0m  \u001b[32m233588650.9474\u001b[0m  \u001b[35m152859664.0000\u001b[0m  0.0051\n",
      "      7  \u001b[36m12363.6367\u001b[0m  \u001b[32m233588641.6842\u001b[0m  \u001b[35m152859488.0000\u001b[0m  0.0051\n",
      "      8  \u001b[36m12363.6309\u001b[0m  233588879.1579  \u001b[35m152859344.0000\u001b[0m  0.0049\n",
      "      9  \u001b[36m12363.6240\u001b[0m  \u001b[32m233588349.4737\u001b[0m  \u001b[35m152859200.0000\u001b[0m  0.0050\n",
      "     10  \u001b[36m12363.6182\u001b[0m  \u001b[32m233588201.2632\u001b[0m  \u001b[35m152859056.0000\u001b[0m  0.0048\n",
      "     11  \u001b[36m12363.6113\u001b[0m  233588498.5263  \u001b[35m152858896.0000\u001b[0m  0.0049\n",
      "     12  \u001b[36m12363.6055\u001b[0m  \u001b[32m233587087.1579\u001b[0m  \u001b[35m152858736.0000\u001b[0m  0.0046\n",
      "     13  \u001b[36m12363.5996\u001b[0m  233587865.2632  \u001b[35m152858592.0000\u001b[0m  0.0042\n",
      "     14  \u001b[36m12363.5947\u001b[0m  233587578.9474  \u001b[35m152858448.0000\u001b[0m  0.0042\n",
      "     15  \u001b[36m12363.5879\u001b[0m  233587648.0000  \u001b[35m152858288.0000\u001b[0m  0.0043\n",
      "     16  \u001b[36m12363.5811\u001b[0m  233587287.5789  \u001b[35m152858144.0000\u001b[0m  0.0044\n",
      "     17  \u001b[36m12363.5762\u001b[0m  \u001b[32m233586864.0000\u001b[0m  \u001b[35m152858016.0000\u001b[0m  0.0045\n",
      "     18  \u001b[36m12363.5703\u001b[0m  233587019.7895  \u001b[35m152857872.0000\u001b[0m  0.0052\n",
      "     19  \u001b[36m12363.5635\u001b[0m  \u001b[32m233586597.0526\u001b[0m  \u001b[35m152857696.0000\u001b[0m  0.0044\n",
      "     20  \u001b[36m12363.5576\u001b[0m  \u001b[32m233586516.2105\u001b[0m  \u001b[35m152857568.0000\u001b[0m  0.0044\n",
      "     21  \u001b[36m12363.5518\u001b[0m  233586748.6316  \u001b[35m152857424.0000\u001b[0m  0.0043\n",
      "     22  \u001b[36m12363.5449\u001b[0m  \u001b[32m233586478.3158\u001b[0m  \u001b[35m152857264.0000\u001b[0m  0.0045\n",
      "     23  \u001b[36m12363.5400\u001b[0m  \u001b[32m233586152.4211\u001b[0m  \u001b[35m152857104.0000\u001b[0m  0.0042\n",
      "     24  \u001b[36m12363.5332\u001b[0m  \u001b[32m233585856.0000\u001b[0m  \u001b[35m152856960.0000\u001b[0m  0.0044\n",
      "     25  \u001b[36m12363.5273\u001b[0m  233586058.9474  \u001b[35m152856832.0000\u001b[0m  0.0044\n",
      "     26  \u001b[36m12363.5215\u001b[0m  \u001b[32m233585402.9474\u001b[0m  \u001b[35m152856672.0000\u001b[0m  0.0042\n",
      "     27  \u001b[36m12363.5156\u001b[0m  \u001b[32m233585264.8421\u001b[0m  \u001b[35m152856512.0000\u001b[0m  0.0047\n",
      "     28  \u001b[36m12363.5098\u001b[0m  233585360.8421  \u001b[35m152856352.0000\u001b[0m  0.0043\n",
      "     29  \u001b[36m12363.5039\u001b[0m  \u001b[32m233584669.4737\u001b[0m  \u001b[35m152856224.0000\u001b[0m  0.0042\n",
      "     30  \u001b[36m12363.4971\u001b[0m  233584884.2105  \u001b[35m152856048.0000\u001b[0m  0.0277\n",
      "Stopping since RMSE has not improved in the last 30 epochs.\n",
      "[CV 2/3] END module__dropout_1=0.4, module__dropout_2=0.6, module__dropout_3=0.7, module__dropout_4=0.4, module__n_hidden_neurons_1=20, module__n_hidden_neurons_2=15, module__n_hidden_neurons_3=15, module__n_hidden_neurons_4=10, module__n_in_neurons=10, module__n_out_neurons=1; total time=   0.3s\n",
      "  epoch        RMSE      train_loss      valid_loss     dur\n",
      "-------  ----------  --------------  --------------  ------\n",
      "      1  \u001b[36m12363.3467\u001b[0m  \u001b[32m189223009.6842\u001b[0m  \u001b[35m152852368.0000\u001b[0m  0.0047\n",
      "      2  \u001b[36m12363.3369\u001b[0m  \u001b[32m189222590.3158\u001b[0m  \u001b[35m152852080.0000\u001b[0m  0.0045\n",
      "      3  \u001b[36m12363.3252\u001b[0m  \u001b[32m189222224.8421\u001b[0m  \u001b[35m152851808.0000\u001b[0m  0.0046\n",
      "      4  \u001b[36m12363.3145\u001b[0m  189223048.4211  \u001b[35m152851552.0000\u001b[0m  0.0047\n",
      "      5  \u001b[36m12363.3037\u001b[0m  \u001b[32m189221494.7368\u001b[0m  \u001b[35m152851280.0000\u001b[0m  0.0042\n",
      "      6  \u001b[36m12363.2939\u001b[0m  \u001b[32m189221433.2632\u001b[0m  \u001b[35m152851040.0000\u001b[0m  0.0050\n",
      "      7  \u001b[36m12363.2842\u001b[0m  \u001b[32m189221024.8421\u001b[0m  \u001b[35m152850800.0000\u001b[0m  0.0051\n",
      "      8  \u001b[36m12363.2744\u001b[0m  189221256.4211  \u001b[35m152850544.0000\u001b[0m  0.0047\n",
      "      9  \u001b[36m12363.2627\u001b[0m  \u001b[32m189220623.1579\u001b[0m  \u001b[35m152850288.0000\u001b[0m  0.0048\n",
      "     10  \u001b[36m12363.2529\u001b[0m  \u001b[32m189220437.8947\u001b[0m  \u001b[35m152850032.0000\u001b[0m  0.0048\n",
      "     11  \u001b[36m12363.2432\u001b[0m  \u001b[32m189220298.9474\u001b[0m  \u001b[35m152849760.0000\u001b[0m  0.0291\n",
      "     12  \u001b[36m12363.2324\u001b[0m  189220655.1579  \u001b[35m152849504.0000\u001b[0m  0.0050\n",
      "     13  \u001b[36m12363.2207\u001b[0m  \u001b[32m189220168.4211\u001b[0m  \u001b[35m152849232.0000\u001b[0m  0.0039\n",
      "     14  \u001b[36m12363.2109\u001b[0m  \u001b[32m189219989.8947\u001b[0m  \u001b[35m152848992.0000\u001b[0m  0.0044\n",
      "     15  \u001b[36m12363.1992\u001b[0m  189220166.7368  \u001b[35m152848704.0000\u001b[0m  0.0042\n",
      "     16  \u001b[36m12363.1875\u001b[0m  \u001b[32m189219446.7368\u001b[0m  \u001b[35m152848400.0000\u001b[0m  0.0040\n",
      "     17  \u001b[36m12363.1768\u001b[0m  189220010.9474  \u001b[35m152848112.0000\u001b[0m  0.0042\n",
      "     18  \u001b[36m12363.1641\u001b[0m  \u001b[32m189219325.4737\u001b[0m  \u001b[35m152847808.0000\u001b[0m  0.0044\n",
      "     19  \u001b[36m12363.1514\u001b[0m  \u001b[32m189218691.3684\u001b[0m  \u001b[35m152847520.0000\u001b[0m  0.0044\n",
      "     20  \u001b[36m12363.1367\u001b[0m  \u001b[32m189215688.4211\u001b[0m  \u001b[35m152847152.0000\u001b[0m  0.0042\n",
      "     21  \u001b[36m12363.1230\u001b[0m  189216421.8947  \u001b[35m152846800.0000\u001b[0m  0.0044\n",
      "     22  \u001b[36m12363.1074\u001b[0m  189218149.8947  \u001b[35m152846432.0000\u001b[0m  0.0041\n",
      "     23  \u001b[36m12363.0908\u001b[0m  189217777.6842  \u001b[35m152846016.0000\u001b[0m  0.0041\n",
      "     24  \u001b[36m12363.0742\u001b[0m  189216586.1053  \u001b[35m152845632.0000\u001b[0m  0.0038\n",
      "     25  \u001b[36m12363.0576\u001b[0m  189216802.5263  \u001b[35m152845216.0000\u001b[0m  0.0050\n",
      "     26  \u001b[36m12363.0391\u001b[0m  \u001b[32m189215541.8947\u001b[0m  \u001b[35m152844768.0000\u001b[0m  0.0045\n",
      "     27  \u001b[36m12363.0205\u001b[0m  \u001b[32m189214574.3158\u001b[0m  \u001b[35m152844256.0000\u001b[0m  0.0043\n",
      "     28  \u001b[36m12362.9980\u001b[0m  \u001b[32m189212171.7895\u001b[0m  \u001b[35m152843712.0000\u001b[0m  0.0042\n",
      "     29  \u001b[36m12362.9746\u001b[0m  189213488.8421  \u001b[35m152843152.0000\u001b[0m  0.0043\n",
      "     30  \u001b[36m12362.9502\u001b[0m  189213429.0526  \u001b[35m152842544.0000\u001b[0m  0.0042\n",
      "Stopping since RMSE has not improved in the last 30 epochs.\n",
      "[CV 3/3] END module__dropout_1=0.4, module__dropout_2=0.6, module__dropout_3=0.7, module__dropout_4=0.4, module__n_hidden_neurons_1=20, module__n_hidden_neurons_2=15, module__n_hidden_neurons_3=15, module__n_hidden_neurons_4=10, module__n_in_neurons=10, module__n_out_neurons=1; total time=   0.2s\n",
      "  epoch       RMSE      train_loss     valid_loss     dur\n",
      "-------  ---------  --------------  -------------  ------\n",
      "      1  \u001b[36m9803.6182\u001b[0m  \u001b[32m212833397.8947\u001b[0m  \u001b[35m96110928.0000\u001b[0m  0.0075\n",
      "      2  \u001b[36m9803.6064\u001b[0m  \u001b[32m212832668.6316\u001b[0m  \u001b[35m96110688.0000\u001b[0m  0.0048\n",
      "      3  \u001b[36m9803.5928\u001b[0m  \u001b[32m212832030.3158\u001b[0m  \u001b[35m96110440.0000\u001b[0m  0.0422\n",
      "      4  \u001b[36m9803.5811\u001b[0m  212832164.2105  \u001b[35m96110208.0000\u001b[0m  0.0054\n",
      "      5  \u001b[36m9803.5693\u001b[0m  \u001b[32m212831871.1579\u001b[0m  \u001b[35m96109968.0000\u001b[0m  0.0046\n",
      "      6  \u001b[36m9803.5576\u001b[0m  \u001b[32m212831616.0000\u001b[0m  \u001b[35m96109736.0000\u001b[0m  0.0049\n",
      "      7  \u001b[36m9803.5439\u001b[0m  \u001b[32m212830485.0526\u001b[0m  \u001b[35m96109480.0000\u001b[0m  0.0045\n",
      "      8  \u001b[36m9803.5312\u001b[0m  \u001b[32m212830362.9474\u001b[0m  \u001b[35m96109232.0000\u001b[0m  0.0707\n",
      "      9  \u001b[36m9803.5186\u001b[0m  212830484.2105  \u001b[35m96108968.0000\u001b[0m  0.0051\n",
      "     10  \u001b[36m9803.5049\u001b[0m  \u001b[32m212829528.4211\u001b[0m  \u001b[35m96108712.0000\u001b[0m  0.0046\n",
      "     11  \u001b[36m9803.4902\u001b[0m  \u001b[32m212829233.6842\u001b[0m  \u001b[35m96108424.0000\u001b[0m  0.0047\n",
      "     12  \u001b[36m9803.4766\u001b[0m  \u001b[32m212829086.3158\u001b[0m  \u001b[35m96108144.0000\u001b[0m  0.0047\n",
      "     13  \u001b[36m9803.4619\u001b[0m  \u001b[32m212828447.1579\u001b[0m  \u001b[35m96107856.0000\u001b[0m  0.0045\n",
      "     14  \u001b[36m9803.4463\u001b[0m  212828538.9474  \u001b[35m96107560.0000\u001b[0m  0.0053\n",
      "     15  \u001b[36m9803.4307\u001b[0m  \u001b[32m212827857.6842\u001b[0m  \u001b[35m96107248.0000\u001b[0m  0.0045\n",
      "     16  \u001b[36m9803.4121\u001b[0m  \u001b[32m212827360.0000\u001b[0m  \u001b[35m96106896.0000\u001b[0m  0.0041\n",
      "     17  \u001b[36m9803.3926\u001b[0m  \u001b[32m212826446.3158\u001b[0m  \u001b[35m96106512.0000\u001b[0m  0.0041\n",
      "     18  \u001b[36m9803.3711\u001b[0m  \u001b[32m212825253.8947\u001b[0m  \u001b[35m96106080.0000\u001b[0m  0.0049\n",
      "     19  \u001b[36m9803.3477\u001b[0m  212825675.7895  \u001b[35m96105616.0000\u001b[0m  0.0710\n",
      "     20  \u001b[36m9803.3223\u001b[0m  212825299.3684  \u001b[35m96105112.0000\u001b[0m  0.0050\n",
      "     21  \u001b[36m9803.2939\u001b[0m  \u001b[32m212824963.3684\u001b[0m  \u001b[35m96104576.0000\u001b[0m  0.0041\n",
      "     22  \u001b[36m9803.2627\u001b[0m  \u001b[32m212821599.1579\u001b[0m  \u001b[35m96103944.0000\u001b[0m  0.0044\n",
      "     23  \u001b[36m9803.2256\u001b[0m  212822301.4737  \u001b[35m96103216.0000\u001b[0m  0.0044\n",
      "     24  \u001b[36m9803.1855\u001b[0m  \u001b[32m212820811.7895\u001b[0m  \u001b[35m96102440.0000\u001b[0m  0.0044\n",
      "     25  \u001b[36m9803.1396\u001b[0m  \u001b[32m212819716.2105\u001b[0m  \u001b[35m96101552.0000\u001b[0m  0.0684\n",
      "     26  \u001b[36m9803.0908\u001b[0m  \u001b[32m212818329.2632\u001b[0m  \u001b[35m96100576.0000\u001b[0m  0.0068\n",
      "     27  \u001b[36m9803.0352\u001b[0m  212818552.4211  \u001b[35m96099496.0000\u001b[0m  0.0077\n",
      "     28  \u001b[36m9802.9736\u001b[0m  \u001b[32m212813429.8947\u001b[0m  \u001b[35m96098288.0000\u001b[0m  0.0055\n",
      "     29  \u001b[36m9802.9053\u001b[0m  212814496.0000  \u001b[35m96096968.0000\u001b[0m  0.0054\n",
      "     30  \u001b[36m9802.8301\u001b[0m  212814624.8421  \u001b[35m96095472.0000\u001b[0m  0.0063\n",
      "Stopping since RMSE has not improved in the last 30 epochs.\n",
      "[CV 1/3] END module__dropout_1=0.5, module__dropout_2=0.3, module__dropout_3=0.6, module__dropout_4=0.2, module__n_hidden_neurons_1=15, module__n_hidden_neurons_2=15, module__n_hidden_neurons_3=20, module__n_hidden_neurons_4=25, module__n_in_neurons=10, module__n_out_neurons=1; total time=   0.6s\n",
      "  epoch        RMSE      train_loss      valid_loss     dur\n",
      "-------  ----------  --------------  --------------  ------\n",
      "      1  \u001b[36m12363.4248\u001b[0m  \u001b[32m233582464.0000\u001b[0m  \u001b[35m152854288.0000\u001b[0m  0.0062\n",
      "      2  \u001b[36m12363.4150\u001b[0m  \u001b[32m233582112.8421\u001b[0m  \u001b[35m152854048.0000\u001b[0m  0.0054\n",
      "      3  \u001b[36m12363.4043\u001b[0m  \u001b[32m233582021.0526\u001b[0m  \u001b[35m152853776.0000\u001b[0m  0.0679\n",
      "      4  \u001b[36m12363.3945\u001b[0m  \u001b[32m233581603.3684\u001b[0m  \u001b[35m152853536.0000\u001b[0m  0.0059\n",
      "      5  \u001b[36m12363.3848\u001b[0m  \u001b[32m233581166.3158\u001b[0m  \u001b[35m152853280.0000\u001b[0m  0.0069\n",
      "      6  \u001b[36m12363.3740\u001b[0m  \u001b[32m233580777.2632\u001b[0m  \u001b[35m152853024.0000\u001b[0m  0.0064\n",
      "      7  \u001b[36m12363.3623\u001b[0m  \u001b[32m233580719.1579\u001b[0m  \u001b[35m152852720.0000\u001b[0m  0.0051\n",
      "      8  \u001b[36m12363.3506\u001b[0m  \u001b[32m233580271.1579\u001b[0m  \u001b[35m152852448.0000\u001b[0m  0.0061\n",
      "      9  \u001b[36m12363.3379\u001b[0m  \u001b[32m233579930.9474\u001b[0m  \u001b[35m152852144.0000\u001b[0m  0.0053\n",
      "     10  \u001b[36m12363.3271\u001b[0m  233580112.8421  \u001b[35m152851840.0000\u001b[0m  0.0052\n",
      "     11  \u001b[36m12363.3125\u001b[0m  \u001b[32m233578691.3684\u001b[0m  \u001b[35m152851504.0000\u001b[0m  0.0051\n",
      "     12  \u001b[36m12363.2998\u001b[0m  233579192.4211  \u001b[35m152851168.0000\u001b[0m  0.0049\n",
      "     13  \u001b[36m12363.2861\u001b[0m  233578768.0000  \u001b[35m152850832.0000\u001b[0m  0.0057\n",
      "     14  \u001b[36m12363.2705\u001b[0m  \u001b[32m233577955.3684\u001b[0m  \u001b[35m152850464.0000\u001b[0m  0.0050\n",
      "     15  \u001b[36m12363.2539\u001b[0m  \u001b[32m233577653.8947\u001b[0m  \u001b[35m152850064.0000\u001b[0m  0.0049\n",
      "     16  \u001b[36m12363.2373\u001b[0m  \u001b[32m233577530.9474\u001b[0m  \u001b[35m152849632.0000\u001b[0m  0.0051\n",
      "     17  \u001b[36m12363.2188\u001b[0m  \u001b[32m233576629.0526\u001b[0m  \u001b[35m152849168.0000\u001b[0m  0.0049\n",
      "     18  \u001b[36m12363.1973\u001b[0m  233576666.9474  \u001b[35m152848656.0000\u001b[0m  0.0678\n",
      "     19  \u001b[36m12363.1748\u001b[0m  \u001b[32m233575452.6316\u001b[0m  \u001b[35m152848112.0000\u001b[0m  0.0052\n",
      "     20  \u001b[36m12363.1514\u001b[0m  \u001b[32m233574700.6316\u001b[0m  \u001b[35m152847520.0000\u001b[0m  0.0050\n",
      "     21  \u001b[36m12363.1250\u001b[0m  \u001b[32m233574299.7895\u001b[0m  \u001b[35m152846848.0000\u001b[0m  0.0053\n",
      "     22  \u001b[36m12363.0957\u001b[0m  \u001b[32m233573314.5263\u001b[0m  \u001b[35m152846128.0000\u001b[0m  0.0051\n",
      "     23  \u001b[36m12363.0645\u001b[0m  \u001b[32m233572331.7895\u001b[0m  \u001b[35m152845360.0000\u001b[0m  0.0722\n",
      "     24  \u001b[36m12363.0312\u001b[0m  \u001b[32m233571681.6842\u001b[0m  \u001b[35m152844528.0000\u001b[0m  0.0053\n",
      "     25  \u001b[36m12362.9941\u001b[0m  233571818.1053  \u001b[35m152843632.0000\u001b[0m  0.0054\n",
      "     26  \u001b[36m12362.9551\u001b[0m  \u001b[32m233569450.9474\u001b[0m  \u001b[35m152842640.0000\u001b[0m  0.0049\n",
      "     27  \u001b[36m12362.9111\u001b[0m  \u001b[32m233568505.2632\u001b[0m  \u001b[35m152841568.0000\u001b[0m  0.0049\n",
      "     28  \u001b[36m12362.8643\u001b[0m  \u001b[32m233566496.8421\u001b[0m  \u001b[35m152840416.0000\u001b[0m  0.0048\n",
      "     29  \u001b[36m12362.8115\u001b[0m  233566911.1579  \u001b[35m152839120.0000\u001b[0m  0.0688\n",
      "     30  \u001b[36m12362.7539\u001b[0m  \u001b[32m233564480.8421\u001b[0m  \u001b[35m152837696.0000\u001b[0m  0.0059\n",
      "Stopping since RMSE has not improved in the last 30 epochs.\n",
      "[CV 2/3] END module__dropout_1=0.5, module__dropout_2=0.3, module__dropout_3=0.6, module__dropout_4=0.2, module__n_hidden_neurons_1=15, module__n_hidden_neurons_2=15, module__n_hidden_neurons_3=20, module__n_hidden_neurons_4=25, module__n_in_neurons=10, module__n_out_neurons=1; total time=   0.6s\n",
      "  epoch        RMSE      train_loss      valid_loss     dur\n",
      "-------  ----------  --------------  --------------  ------\n",
      "      1  \u001b[36m12363.1729\u001b[0m  \u001b[32m189218348.6316\u001b[0m  \u001b[35m152848032.0000\u001b[0m  0.0042\n",
      "      2  \u001b[36m12363.1582\u001b[0m  \u001b[32m189217643.7895\u001b[0m  \u001b[35m152847680.0000\u001b[0m  0.0054\n",
      "      3  \u001b[36m12363.1436\u001b[0m  \u001b[32m189217510.7368\u001b[0m  \u001b[35m152847328.0000\u001b[0m  0.0658\n",
      "      4  \u001b[36m12363.1299\u001b[0m  \u001b[32m189217317.0526\u001b[0m  \u001b[35m152847008.0000\u001b[0m  0.0044\n",
      "      5  \u001b[36m12363.1162\u001b[0m  \u001b[32m189216491.7895\u001b[0m  \u001b[35m152846624.0000\u001b[0m  0.0043\n",
      "      6  \u001b[36m12363.1016\u001b[0m  189216624.8421  \u001b[35m152846304.0000\u001b[0m  0.0040\n",
      "      7  \u001b[36m12363.0869\u001b[0m  \u001b[32m189216054.7368\u001b[0m  \u001b[35m152845920.0000\u001b[0m  0.0047\n",
      "      8  \u001b[36m12363.0713\u001b[0m  \u001b[32m189215499.7895\u001b[0m  \u001b[35m152845552.0000\u001b[0m  0.0043\n",
      "      9  \u001b[36m12363.0566\u001b[0m  189215518.3158  \u001b[35m152845168.0000\u001b[0m  0.0688\n",
      "     10  \u001b[36m12363.0400\u001b[0m  \u001b[32m189215162.9474\u001b[0m  \u001b[35m152844768.0000\u001b[0m  0.0044\n",
      "     11  \u001b[36m12363.0225\u001b[0m  \u001b[32m189214221.4737\u001b[0m  \u001b[35m152844336.0000\u001b[0m  0.0043\n",
      "     12  \u001b[36m12363.0049\u001b[0m  \u001b[32m189213503.1579\u001b[0m  \u001b[35m152843888.0000\u001b[0m  0.0044\n",
      "     13  \u001b[36m12362.9863\u001b[0m  189213669.0526  \u001b[35m152843440.0000\u001b[0m  0.0042\n",
      "     14  \u001b[36m12362.9668\u001b[0m  \u001b[32m189213404.6316\u001b[0m  \u001b[35m152842944.0000\u001b[0m  0.0725\n",
      "     15  \u001b[36m12362.9453\u001b[0m  \u001b[32m189212800.8421\u001b[0m  \u001b[35m152842416.0000\u001b[0m  0.0051\n",
      "     16  \u001b[36m12362.9238\u001b[0m  \u001b[32m189211414.7368\u001b[0m  \u001b[35m152841888.0000\u001b[0m  0.0049\n",
      "     17  \u001b[36m12362.8984\u001b[0m  \u001b[32m189211293.4737\u001b[0m  \u001b[35m152841264.0000\u001b[0m  0.0048\n",
      "     18  \u001b[36m12362.8711\u001b[0m  \u001b[32m189210428.6316\u001b[0m  \u001b[35m152840576.0000\u001b[0m  0.0048\n",
      "     19  \u001b[36m12362.8408\u001b[0m  \u001b[32m189209804.6316\u001b[0m  \u001b[35m152839856.0000\u001b[0m  0.0714\n",
      "     20  \u001b[36m12362.8096\u001b[0m  \u001b[32m189208842.9474\u001b[0m  \u001b[35m152839040.0000\u001b[0m  0.0062\n",
      "     21  \u001b[36m12362.7725\u001b[0m  \u001b[32m189207624.4211\u001b[0m  \u001b[35m152838128.0000\u001b[0m  0.0043\n",
      "     22  \u001b[36m12362.7324\u001b[0m  \u001b[32m189206816.0000\u001b[0m  \u001b[35m152837136.0000\u001b[0m  0.0046\n",
      "     23  \u001b[36m12362.6895\u001b[0m  189207303.5789  \u001b[35m152836080.0000\u001b[0m  0.0045\n",
      "     24  \u001b[36m12362.6426\u001b[0m  \u001b[32m189205023.1579\u001b[0m  \u001b[35m152834912.0000\u001b[0m  0.0046\n",
      "     25  \u001b[36m12362.5889\u001b[0m  \u001b[32m189202204.6316\u001b[0m  \u001b[35m152833632.0000\u001b[0m  0.0053\n",
      "     26  \u001b[36m12362.5322\u001b[0m  189203369.2632  \u001b[35m152832192.0000\u001b[0m  0.0052\n",
      "     27  \u001b[36m12362.4658\u001b[0m  \u001b[32m189200787.3684\u001b[0m  \u001b[35m152830576.0000\u001b[0m  0.0049\n",
      "     28  \u001b[36m12362.3916\u001b[0m  \u001b[32m189198400.0000\u001b[0m  \u001b[35m152828720.0000\u001b[0m  0.0044\n",
      "     29  \u001b[36m12362.3047\u001b[0m  \u001b[32m189197125.8947\u001b[0m  \u001b[35m152826560.0000\u001b[0m  0.0044\n",
      "     30  \u001b[36m12362.2070\u001b[0m  \u001b[32m189196973.4737\u001b[0m  \u001b[35m152824160.0000\u001b[0m  0.0689\n",
      "Stopping since RMSE has not improved in the last 30 epochs.\n",
      "[CV 3/3] END module__dropout_1=0.5, module__dropout_2=0.3, module__dropout_3=0.6, module__dropout_4=0.2, module__n_hidden_neurons_1=15, module__n_hidden_neurons_2=15, module__n_hidden_neurons_3=20, module__n_hidden_neurons_4=25, module__n_in_neurons=10, module__n_out_neurons=1; total time=   0.6s\n",
      "  epoch       RMSE      train_loss     valid_loss     dur\n",
      "-------  ---------  --------------  -------------  ------\n",
      "      1  \u001b[36m9803.5068\u001b[0m  \u001b[32m212829756.6316\u001b[0m  \u001b[35m96108736.0000\u001b[0m  0.0045\n",
      "      2  \u001b[36m9803.5020\u001b[0m  212829906.5263  \u001b[35m96108656.0000\u001b[0m  0.0045\n",
      "      3  \u001b[36m9803.4971\u001b[0m  \u001b[32m212829477.8947\u001b[0m  \u001b[35m96108568.0000\u001b[0m  0.0042\n",
      "      4  \u001b[36m9803.4922\u001b[0m  212829585.6842  \u001b[35m96108472.0000\u001b[0m  0.0043\n",
      "      5  \u001b[36m9803.4883\u001b[0m  \u001b[32m212829280.0000\u001b[0m  \u001b[35m96108368.0000\u001b[0m  0.0039\n",
      "      6  \u001b[36m9803.4834\u001b[0m  \u001b[32m212828967.5789\u001b[0m  \u001b[35m96108272.0000\u001b[0m  0.0043\n",
      "      7  \u001b[36m9803.4785\u001b[0m  212829235.3684  \u001b[35m96108192.0000\u001b[0m  0.0043\n",
      "      8  \u001b[36m9803.4736\u001b[0m  \u001b[32m212828562.5263\u001b[0m  \u001b[35m96108096.0000\u001b[0m  0.0042\n",
      "      9  \u001b[36m9803.4688\u001b[0m  \u001b[32m212828543.1579\u001b[0m  \u001b[35m96108000.0000\u001b[0m  0.0040\n",
      "     10  \u001b[36m9803.4629\u001b[0m  \u001b[32m212828325.8947\u001b[0m  \u001b[35m96107896.0000\u001b[0m  0.0055\n",
      "     11  \u001b[36m9803.4580\u001b[0m  \u001b[32m212827944.4211\u001b[0m  \u001b[35m96107792.0000\u001b[0m  0.0047\n",
      "     12  \u001b[36m9803.4531\u001b[0m  \u001b[32m212827875.3684\u001b[0m  \u001b[35m96107688.0000\u001b[0m  0.0046\n",
      "     13  \u001b[36m9803.4482\u001b[0m  212827954.5263  \u001b[35m96107592.0000\u001b[0m  0.0045\n",
      "     14  \u001b[36m9803.4424\u001b[0m  212828025.2632  \u001b[35m96107496.0000\u001b[0m  0.0043\n",
      "     15  \u001b[36m9803.4365\u001b[0m  212827976.4211  \u001b[35m96107368.0000\u001b[0m  0.0045\n",
      "     16  \u001b[36m9803.4316\u001b[0m  \u001b[32m212827152.0000\u001b[0m  \u001b[35m96107280.0000\u001b[0m  0.0043\n",
      "     17  \u001b[36m9803.4258\u001b[0m  212828079.1579  \u001b[35m96107152.0000\u001b[0m  0.0043\n",
      "     18  \u001b[36m9803.4209\u001b[0m  212827679.1579  \u001b[35m96107040.0000\u001b[0m  0.0042\n",
      "     19  \u001b[36m9803.4141\u001b[0m  212827312.8421  \u001b[35m96106944.0000\u001b[0m  0.0044\n",
      "     20  \u001b[36m9803.4092\u001b[0m  212827727.1579  \u001b[35m96106824.0000\u001b[0m  0.0042\n",
      "     21  \u001b[36m9803.4033\u001b[0m  \u001b[32m212827024.0000\u001b[0m  \u001b[35m96106712.0000\u001b[0m  0.0041\n",
      "     22  \u001b[36m9803.3975\u001b[0m  \u001b[32m212826580.2105\u001b[0m  \u001b[35m96106608.0000\u001b[0m  0.0040\n",
      "     23  \u001b[36m9803.3916\u001b[0m  212826649.2632  \u001b[35m96106480.0000\u001b[0m  0.0041\n",
      "     24  \u001b[36m9803.3848\u001b[0m  \u001b[32m212826489.2632\u001b[0m  \u001b[35m96106360.0000\u001b[0m  0.0040\n",
      "     25  \u001b[36m9803.3789\u001b[0m  212826773.8947  \u001b[35m96106224.0000\u001b[0m  0.0042\n",
      "     26  \u001b[36m9803.3721\u001b[0m  \u001b[32m212826014.3158\u001b[0m  \u001b[35m96106096.0000\u001b[0m  0.0043\n",
      "     27  \u001b[36m9803.3643\u001b[0m  212826290.5263  \u001b[35m96105952.0000\u001b[0m  0.0039\n",
      "     28  \u001b[36m9803.3564\u001b[0m  \u001b[32m212825024.0000\u001b[0m  \u001b[35m96105800.0000\u001b[0m  0.0044\n",
      "     29  \u001b[36m9803.3486\u001b[0m  212825928.4211  \u001b[35m96105640.0000\u001b[0m  0.0043\n",
      "     30  \u001b[36m9803.3398\u001b[0m  \u001b[32m212824511.1579\u001b[0m  \u001b[35m96105480.0000\u001b[0m  0.0045\n",
      "Stopping since RMSE has not improved in the last 30 epochs.\n",
      "[CV 1/3] END module__dropout_1=0.2, module__dropout_2=0.4, module__dropout_3=0.7, module__dropout_4=0.5, module__n_hidden_neurons_1=10, module__n_hidden_neurons_2=10, module__n_hidden_neurons_3=15, module__n_hidden_neurons_4=15, module__n_in_neurons=10, module__n_out_neurons=1; total time=   0.2s\n",
      "  epoch        RMSE      train_loss      valid_loss     dur\n",
      "-------  ----------  --------------  --------------  ------\n",
      "      1  \u001b[36m12363.3223\u001b[0m  \u001b[32m233579562.9474\u001b[0m  \u001b[35m152851744.0000\u001b[0m  0.0046\n",
      "      2  \u001b[36m12363.3145\u001b[0m  233579938.5263  \u001b[35m152851568.0000\u001b[0m  0.0042\n",
      "      3  \u001b[36m12363.3086\u001b[0m  233579690.9474  \u001b[35m152851376.0000\u001b[0m  0.0044\n",
      "      4  \u001b[36m12363.3018\u001b[0m  \u001b[32m233578602.9474\u001b[0m  \u001b[35m152851216.0000\u001b[0m  0.0042\n",
      "      5  \u001b[36m12363.2949\u001b[0m  233579008.0000  \u001b[35m152851040.0000\u001b[0m  0.0047\n",
      "      6  \u001b[36m12363.2891\u001b[0m  233578708.2105  \u001b[35m152850912.0000\u001b[0m  0.0045\n",
      "      7  \u001b[36m12363.2822\u001b[0m  233578728.4211  \u001b[35m152850752.0000\u001b[0m  0.0040\n",
      "      8  \u001b[36m12363.2764\u001b[0m  \u001b[32m233578529.6842\u001b[0m  \u001b[35m152850592.0000\u001b[0m  0.0042\n",
      "      9  \u001b[36m12363.2705\u001b[0m  \u001b[32m233578455.5789\u001b[0m  \u001b[35m152850448.0000\u001b[0m  0.0040\n",
      "     10  \u001b[36m12363.2637\u001b[0m  \u001b[32m233578250.1053\u001b[0m  \u001b[35m152850272.0000\u001b[0m  0.0039\n",
      "     11  \u001b[36m12363.2588\u001b[0m  \u001b[32m233577593.2632\u001b[0m  \u001b[35m152850144.0000\u001b[0m  0.0040\n",
      "     12  \u001b[36m12363.2529\u001b[0m  233577719.5789  \u001b[35m152850016.0000\u001b[0m  0.0041\n",
      "     13  \u001b[36m12363.2471\u001b[0m  233577749.8947  \u001b[35m152849856.0000\u001b[0m  0.0040\n",
      "     14  \u001b[36m12363.2412\u001b[0m  233577879.5789  \u001b[35m152849712.0000\u001b[0m  0.0042\n",
      "     15  \u001b[36m12363.2354\u001b[0m  \u001b[32m233577133.4737\u001b[0m  \u001b[35m152849584.0000\u001b[0m  0.0040\n",
      "     16  \u001b[36m12363.2295\u001b[0m  233577425.6842  \u001b[35m152849440.0000\u001b[0m  0.0043\n",
      "     17  \u001b[36m12363.2236\u001b[0m  \u001b[32m233577084.6316\u001b[0m  \u001b[35m152849296.0000\u001b[0m  0.0044\n",
      "     18  \u001b[36m12363.2188\u001b[0m  \u001b[32m233576832.0000\u001b[0m  \u001b[35m152849184.0000\u001b[0m  0.0050\n",
      "     19  \u001b[36m12363.2129\u001b[0m  233577135.1579  \u001b[35m152849040.0000\u001b[0m  0.0226\n",
      "     20  \u001b[36m12363.2070\u001b[0m  \u001b[32m233576591.1579\u001b[0m  \u001b[35m152848896.0000\u001b[0m  0.0043\n",
      "     21  \u001b[36m12363.2012\u001b[0m  \u001b[32m233576098.5263\u001b[0m  \u001b[35m152848736.0000\u001b[0m  0.0041\n",
      "     22  \u001b[36m12363.1963\u001b[0m  233576133.0526  \u001b[35m152848608.0000\u001b[0m  0.0043\n",
      "     23  \u001b[36m12363.1895\u001b[0m  \u001b[32m233575909.0526\u001b[0m  \u001b[35m152848464.0000\u001b[0m  0.0043\n",
      "     24  \u001b[36m12363.1836\u001b[0m  \u001b[32m233575651.3684\u001b[0m  \u001b[35m152848288.0000\u001b[0m  0.0040\n",
      "     25  \u001b[36m12363.1768\u001b[0m  233575702.7368  \u001b[35m152848160.0000\u001b[0m  0.0043\n",
      "     26  \u001b[36m12363.1709\u001b[0m  \u001b[32m233575009.6842\u001b[0m  \u001b[35m152847984.0000\u001b[0m  0.0041\n",
      "     27  \u001b[36m12363.1650\u001b[0m  233575099.7895  \u001b[35m152847824.0000\u001b[0m  0.0043\n",
      "     28  \u001b[36m12363.1572\u001b[0m  233575072.8421  \u001b[35m152847648.0000\u001b[0m  0.0041\n",
      "     29  \u001b[36m12363.1514\u001b[0m  \u001b[32m233574869.8947\u001b[0m  \u001b[35m152847488.0000\u001b[0m  0.0042\n",
      "     30  \u001b[36m12363.1436\u001b[0m  233575197.4737  \u001b[35m152847312.0000\u001b[0m  0.0045\n",
      "Stopping since RMSE has not improved in the last 30 epochs.\n",
      "[CV 2/3] END module__dropout_1=0.2, module__dropout_2=0.4, module__dropout_3=0.7, module__dropout_4=0.5, module__n_hidden_neurons_1=10, module__n_hidden_neurons_2=10, module__n_hidden_neurons_3=15, module__n_hidden_neurons_4=15, module__n_in_neurons=10, module__n_out_neurons=1; total time=   0.2s\n",
      "  epoch        RMSE      train_loss      valid_loss     dur\n",
      "-------  ----------  --------------  --------------  ------\n",
      "      1  \u001b[36m12363.2910\u001b[0m  \u001b[32m189221028.2105\u001b[0m  \u001b[35m152850976.0000\u001b[0m  0.0264\n",
      "      2  \u001b[36m12363.2803\u001b[0m  \u001b[32m189220761.2632\u001b[0m  \u001b[35m152850720.0000\u001b[0m  0.0044\n",
      "      3  \u001b[36m12363.2686\u001b[0m  \u001b[32m189220736.0000\u001b[0m  \u001b[35m152850448.0000\u001b[0m  0.0040\n",
      "      4  \u001b[36m12363.2588\u001b[0m  \u001b[32m189220663.5789\u001b[0m  \u001b[35m152850176.0000\u001b[0m  0.0042\n",
      "      5  \u001b[36m12363.2471\u001b[0m  \u001b[32m189218599.5789\u001b[0m  \u001b[35m152849904.0000\u001b[0m  0.0042\n",
      "      6  \u001b[36m12363.2373\u001b[0m  189219402.1053  \u001b[35m152849648.0000\u001b[0m  0.0043\n",
      "      7  \u001b[36m12363.2266\u001b[0m  189220081.6842  \u001b[35m152849360.0000\u001b[0m  0.0041\n",
      "      8  \u001b[36m12363.2168\u001b[0m  189219849.2632  \u001b[35m152849104.0000\u001b[0m  0.0043\n",
      "      9  \u001b[36m12363.2051\u001b[0m  189219285.8947  \u001b[35m152848816.0000\u001b[0m  0.0040\n",
      "     10  \u001b[36m12363.1934\u001b[0m  \u001b[32m189218072.4211\u001b[0m  \u001b[35m152848544.0000\u001b[0m  0.0043\n",
      "     11  \u001b[36m12363.1816\u001b[0m  189218613.8947  \u001b[35m152848240.0000\u001b[0m  0.0048\n",
      "     12  \u001b[36m12363.1689\u001b[0m  \u001b[32m189217996.6316\u001b[0m  \u001b[35m152847936.0000\u001b[0m  0.0057\n",
      "     13  \u001b[36m12363.1562\u001b[0m  189218352.8421  \u001b[35m152847600.0000\u001b[0m  0.0044\n",
      "     14  \u001b[36m12363.1426\u001b[0m  \u001b[32m189217004.6316\u001b[0m  \u001b[35m152847296.0000\u001b[0m  0.0041\n",
      "     15  \u001b[36m12363.1279\u001b[0m  \u001b[32m189216018.5263\u001b[0m  \u001b[35m152846912.0000\u001b[0m  0.0246\n",
      "     16  \u001b[36m12363.1123\u001b[0m  189216091.7895  \u001b[35m152846544.0000\u001b[0m  0.0044\n",
      "     17  \u001b[36m12363.0957\u001b[0m  189216722.5263  \u001b[35m152846128.0000\u001b[0m  0.0047\n",
      "     18  \u001b[36m12363.0781\u001b[0m  \u001b[32m189214029.4737\u001b[0m  \u001b[35m152845712.0000\u001b[0m  0.0043\n",
      "     19  \u001b[36m12363.0605\u001b[0m  189216325.0526  \u001b[35m152845264.0000\u001b[0m  0.0043\n",
      "     20  \u001b[36m12363.0410\u001b[0m  189214423.5789  \u001b[35m152844800.0000\u001b[0m  0.0044\n",
      "     21  \u001b[36m12363.0225\u001b[0m  189214344.4211  \u001b[35m152844320.0000\u001b[0m  0.0041\n",
      "     22  \u001b[36m12363.0010\u001b[0m  189214910.3158  \u001b[35m152843792.0000\u001b[0m  0.0041\n",
      "     23  \u001b[36m12362.9795\u001b[0m  \u001b[32m189213796.2105\u001b[0m  \u001b[35m152843280.0000\u001b[0m  0.0042\n",
      "     24  \u001b[36m12362.9580\u001b[0m  189214528.0000  \u001b[35m152842720.0000\u001b[0m  0.0042\n",
      "     25  \u001b[36m12362.9346\u001b[0m  \u001b[32m189213727.1579\u001b[0m  \u001b[35m152842144.0000\u001b[0m  0.0045\n",
      "     26  \u001b[36m12362.9111\u001b[0m  \u001b[32m189211283.3684\u001b[0m  \u001b[35m152841536.0000\u001b[0m  0.0044\n",
      "     27  \u001b[36m12362.8848\u001b[0m  \u001b[32m189208290.5263\u001b[0m  \u001b[35m152840912.0000\u001b[0m  0.0043\n",
      "     28  \u001b[36m12362.8564\u001b[0m  189209408.0000  \u001b[35m152840224.0000\u001b[0m  0.0042\n",
      "     29  \u001b[36m12362.8252\u001b[0m  189208485.8947  \u001b[35m152839456.0000\u001b[0m  0.0042\n",
      "     30  \u001b[36m12362.7949\u001b[0m  189209498.1053  \u001b[35m152838688.0000\u001b[0m  0.0039\n",
      "Stopping since RMSE has not improved in the last 30 epochs.\n",
      "[CV 3/3] END module__dropout_1=0.2, module__dropout_2=0.4, module__dropout_3=0.7, module__dropout_4=0.5, module__n_hidden_neurons_1=10, module__n_hidden_neurons_2=10, module__n_hidden_neurons_3=15, module__n_hidden_neurons_4=15, module__n_in_neurons=10, module__n_out_neurons=1; total time=   0.2s\n",
      "  epoch       RMSE      train_loss     valid_loss     dur\n",
      "-------  ---------  --------------  -------------  ------\n",
      "      1  \u001b[36m9803.5488\u001b[0m  \u001b[32m212830710.7368\u001b[0m  \u001b[35m96109576.0000\u001b[0m  0.0045\n",
      "      2  \u001b[36m9803.5410\u001b[0m  \u001b[32m212830234.9474\u001b[0m  \u001b[35m96109416.0000\u001b[0m  0.0043\n",
      "      3  \u001b[36m9803.5332\u001b[0m  212830476.6316  \u001b[35m96109256.0000\u001b[0m  0.0049\n",
      "      4  \u001b[36m9803.5244\u001b[0m  212830449.6842  \u001b[35m96109096.0000\u001b[0m  0.0042\n",
      "      5  \u001b[36m9803.5156\u001b[0m  \u001b[32m212830159.1579\u001b[0m  \u001b[35m96108928.0000\u001b[0m  0.0583\n",
      "      6  \u001b[36m9803.5068\u001b[0m  \u001b[32m212829616.8421\u001b[0m  \u001b[35m96108752.0000\u001b[0m  0.0046\n",
      "      7  \u001b[36m9803.4980\u001b[0m  \u001b[32m212829281.6842\u001b[0m  \u001b[35m96108576.0000\u001b[0m  0.0045\n",
      "      8  \u001b[36m9803.4883\u001b[0m  \u001b[32m212828842.1053\u001b[0m  \u001b[35m96108384.0000\u001b[0m  0.0045\n",
      "      9  \u001b[36m9803.4785\u001b[0m  212829314.5263  \u001b[35m96108200.0000\u001b[0m  0.0044\n",
      "     10  \u001b[36m9803.4697\u001b[0m  \u001b[32m212828240.0000\u001b[0m  \u001b[35m96108016.0000\u001b[0m  0.0047\n",
      "     11  \u001b[36m9803.4590\u001b[0m  212828507.7895  \u001b[35m96107816.0000\u001b[0m  0.0051\n",
      "     12  \u001b[36m9803.4482\u001b[0m  \u001b[32m212828225.6842\u001b[0m  \u001b[35m96107584.0000\u001b[0m  0.0042\n",
      "     13  \u001b[36m9803.4355\u001b[0m  \u001b[32m212827738.9474\u001b[0m  \u001b[35m96107360.0000\u001b[0m  0.0043\n",
      "     14  \u001b[36m9803.4229\u001b[0m  \u001b[32m212826597.0526\u001b[0m  \u001b[35m96107104.0000\u001b[0m  0.0043\n",
      "     15  \u001b[36m9803.4092\u001b[0m  212827365.0526  \u001b[35m96106848.0000\u001b[0m  0.0044\n",
      "     16  \u001b[36m9803.3945\u001b[0m  \u001b[32m212826397.4737\u001b[0m  \u001b[35m96106552.0000\u001b[0m  0.0046\n",
      "     17  \u001b[36m9803.3799\u001b[0m  212826640.8421  \u001b[35m96106240.0000\u001b[0m  0.0051\n",
      "     18  \u001b[36m9803.3623\u001b[0m  212826654.3158  \u001b[35m96105912.0000\u001b[0m  0.0045\n",
      "     19  \u001b[36m9803.3447\u001b[0m  \u001b[32m212826021.8947\u001b[0m  \u001b[35m96105560.0000\u001b[0m  0.0048\n",
      "     20  \u001b[36m9803.3252\u001b[0m  \u001b[32m212824658.5263\u001b[0m  \u001b[35m96105192.0000\u001b[0m  0.0043\n",
      "     21  \u001b[36m9803.3057\u001b[0m  212825504.8421  \u001b[35m96104808.0000\u001b[0m  0.0043\n",
      "     22  \u001b[36m9803.2832\u001b[0m  \u001b[32m212824035.3684\u001b[0m  \u001b[35m96104368.0000\u001b[0m  0.0720\n",
      "     23  \u001b[36m9803.2598\u001b[0m  \u001b[32m212823573.8947\u001b[0m  \u001b[35m96103912.0000\u001b[0m  0.0045\n",
      "     24  \u001b[36m9803.2344\u001b[0m  \u001b[32m212823444.2105\u001b[0m  \u001b[35m96103408.0000\u001b[0m  0.0046\n",
      "     25  \u001b[36m9803.2070\u001b[0m  \u001b[32m212823169.6842\u001b[0m  \u001b[35m96102864.0000\u001b[0m  0.0043\n",
      "     26  \u001b[36m9803.1768\u001b[0m  \u001b[32m212821992.4211\u001b[0m  \u001b[35m96102280.0000\u001b[0m  0.0043\n",
      "     27  \u001b[36m9803.1436\u001b[0m  \u001b[32m212821549.4737\u001b[0m  \u001b[35m96101640.0000\u001b[0m  0.0752\n",
      "     28  \u001b[36m9803.1084\u001b[0m  212821669.8947  \u001b[35m96100936.0000\u001b[0m  0.0044\n",
      "     29  \u001b[36m9803.0693\u001b[0m  \u001b[32m212819616.0000\u001b[0m  \u001b[35m96100160.0000\u001b[0m  0.0045\n",
      "     30  \u001b[36m9803.0254\u001b[0m  \u001b[32m212818079.1579\u001b[0m  \u001b[35m96099304.0000\u001b[0m  0.0047\n",
      "Stopping since RMSE has not improved in the last 30 epochs.\n",
      "[CV 1/3] END module__dropout_1=0.4, module__dropout_2=0.7, module__dropout_3=0.4, module__dropout_4=0.2, module__n_hidden_neurons_1=25, module__n_hidden_neurons_2=20, module__n_hidden_neurons_3=10, module__n_hidden_neurons_4=20, module__n_in_neurons=10, module__n_out_neurons=1; total time=   0.5s\n",
      "  epoch        RMSE      train_loss      valid_loss     dur\n",
      "-------  ----------  --------------  --------------  ------\n",
      "      1  \u001b[36m12363.3184\u001b[0m  \u001b[32m233579732.2105\u001b[0m  \u001b[35m152851648.0000\u001b[0m  0.0041\n",
      "      2  \u001b[36m12363.3096\u001b[0m  \u001b[32m233578949.8947\u001b[0m  \u001b[35m152851424.0000\u001b[0m  0.0054\n",
      "      3  \u001b[36m12363.3018\u001b[0m  \u001b[32m233578024.4211\u001b[0m  \u001b[35m152851232.0000\u001b[0m  0.0047\n",
      "      4  \u001b[36m12363.2930\u001b[0m  233578692.2105  \u001b[35m152850992.0000\u001b[0m  0.0047\n",
      "      5  \u001b[36m12363.2822\u001b[0m  233578244.2105  \u001b[35m152850752.0000\u001b[0m  0.0046\n",
      "      6  \u001b[36m12363.2725\u001b[0m  \u001b[32m233577624.4211\u001b[0m  \u001b[35m152850496.0000\u001b[0m  0.0750\n",
      "      7  \u001b[36m12363.2617\u001b[0m  \u001b[32m233577405.4737\u001b[0m  \u001b[35m152850240.0000\u001b[0m  0.0049\n",
      "      8  \u001b[36m12363.2500\u001b[0m  233577470.3158  \u001b[35m152849952.0000\u001b[0m  0.0051\n",
      "      9  \u001b[36m12363.2373\u001b[0m  \u001b[32m233576586.9474\u001b[0m  \u001b[35m152849632.0000\u001b[0m  0.0048\n",
      "     10  \u001b[36m12363.2246\u001b[0m  \u001b[32m233576520.4211\u001b[0m  \u001b[35m152849328.0000\u001b[0m  0.0046\n",
      "     11  \u001b[36m12363.2109\u001b[0m  \u001b[32m233575002.9474\u001b[0m  \u001b[35m152848976.0000\u001b[0m  0.0045\n",
      "     12  \u001b[36m12363.1953\u001b[0m  233575731.3684  \u001b[35m152848608.0000\u001b[0m  0.0049\n",
      "     13  \u001b[36m12363.1777\u001b[0m  233575232.0000  \u001b[35m152848176.0000\u001b[0m  0.0044\n",
      "     14  \u001b[36m12363.1592\u001b[0m  \u001b[32m233574480.8421\u001b[0m  \u001b[35m152847712.0000\u001b[0m  0.0044\n",
      "     15  \u001b[36m12363.1387\u001b[0m  \u001b[32m233573890.5263\u001b[0m  \u001b[35m152847200.0000\u001b[0m  0.0042\n",
      "     16  \u001b[36m12363.1152\u001b[0m  233574331.7895  \u001b[35m152846608.0000\u001b[0m  0.0045\n",
      "     17  \u001b[36m12363.0879\u001b[0m  \u001b[32m233571601.6842\u001b[0m  \u001b[35m152845952.0000\u001b[0m  0.0710\n",
      "     18  \u001b[36m12363.0596\u001b[0m  233572056.4211  \u001b[35m152845248.0000\u001b[0m  0.0048\n",
      "     19  \u001b[36m12363.0273\u001b[0m  \u001b[32m233570565.8947\u001b[0m  \u001b[35m152844448.0000\u001b[0m  0.0048\n",
      "     20  \u001b[36m12362.9912\u001b[0m  \u001b[32m233570461.4737\u001b[0m  \u001b[35m152843568.0000\u001b[0m  0.0049\n",
      "     21  \u001b[36m12362.9521\u001b[0m  \u001b[32m233568080.8421\u001b[0m  \u001b[35m152842592.0000\u001b[0m  0.0045\n",
      "     22  \u001b[36m12362.9102\u001b[0m  \u001b[32m233567102.3158\u001b[0m  \u001b[35m152841504.0000\u001b[0m  0.0046\n",
      "     23  \u001b[36m12362.8613\u001b[0m  233567491.3684  \u001b[35m152840352.0000\u001b[0m  0.0711\n",
      "     24  \u001b[36m12362.8076\u001b[0m  \u001b[32m233563392.0000\u001b[0m  \u001b[35m152839008.0000\u001b[0m  0.0049\n",
      "     25  \u001b[36m12362.7490\u001b[0m  233565456.0000  \u001b[35m152837584.0000\u001b[0m  0.0053\n",
      "     26  \u001b[36m12362.6846\u001b[0m  \u001b[32m233559904.0000\u001b[0m  \u001b[35m152835936.0000\u001b[0m  0.0053\n",
      "     27  \u001b[36m12362.6104\u001b[0m  \u001b[32m233555809.6842\u001b[0m  \u001b[35m152834144.0000\u001b[0m  0.0105\n",
      "     28  \u001b[36m12362.5283\u001b[0m  233559627.7895  \u001b[35m152832128.0000\u001b[0m  0.0605\n",
      "     29  \u001b[36m12362.4395\u001b[0m  \u001b[32m233555269.0526\u001b[0m  \u001b[35m152829920.0000\u001b[0m  0.0062\n",
      "     30  \u001b[36m12362.3418\u001b[0m  \u001b[32m233551406.3158\u001b[0m  \u001b[35m152827488.0000\u001b[0m  0.0061\n",
      "Stopping since RMSE has not improved in the last 30 epochs.\n",
      "[CV 2/3] END module__dropout_1=0.4, module__dropout_2=0.7, module__dropout_3=0.4, module__dropout_4=0.2, module__n_hidden_neurons_1=25, module__n_hidden_neurons_2=20, module__n_hidden_neurons_3=10, module__n_hidden_neurons_4=20, module__n_in_neurons=10, module__n_out_neurons=1; total time=   0.6s\n",
      "  epoch        RMSE      train_loss      valid_loss     dur\n",
      "-------  ----------  --------------  --------------  ------\n",
      "      1  \u001b[36m12363.3135\u001b[0m  \u001b[32m189221383.5789\u001b[0m  \u001b[35m152851520.0000\u001b[0m  0.0060\n",
      "      2  \u001b[36m12363.3066\u001b[0m  189221509.8947  \u001b[35m152851360.0000\u001b[0m  0.0065\n",
      "      3  \u001b[36m12363.3018\u001b[0m  \u001b[32m189221167.1579\u001b[0m  \u001b[35m152851232.0000\u001b[0m  0.0090\n",
      "      4  \u001b[36m12363.2939\u001b[0m  189221203.3684  \u001b[35m152851040.0000\u001b[0m  0.0055\n",
      "      5  \u001b[36m12363.2881\u001b[0m  \u001b[32m189220553.2632\u001b[0m  \u001b[35m152850896.0000\u001b[0m  0.0068\n",
      "      6  \u001b[36m12363.2803\u001b[0m  \u001b[32m189220346.9474\u001b[0m  \u001b[35m152850704.0000\u001b[0m  0.0055\n",
      "      7  \u001b[36m12363.2734\u001b[0m  \u001b[32m189220296.4211\u001b[0m  \u001b[35m152850512.0000\u001b[0m  0.0044\n",
      "      8  \u001b[36m12363.2656\u001b[0m  189220338.5263  \u001b[35m152850336.0000\u001b[0m  0.0042\n",
      "      9  \u001b[36m12363.2588\u001b[0m  \u001b[32m189220131.3684\u001b[0m  \u001b[35m152850144.0000\u001b[0m  0.0044\n",
      "     10  \u001b[36m12363.2510\u001b[0m  \u001b[32m189219842.5263\u001b[0m  \u001b[35m152849952.0000\u001b[0m  0.0046\n",
      "     11  \u001b[36m12363.2432\u001b[0m  189219849.2632  \u001b[35m152849760.0000\u001b[0m  0.0714\n",
      "     12  \u001b[36m12363.2344\u001b[0m  \u001b[32m189219526.7368\u001b[0m  \u001b[35m152849568.0000\u001b[0m  0.0047\n",
      "     13  \u001b[36m12363.2266\u001b[0m  \u001b[32m189219489.6842\u001b[0m  \u001b[35m152849344.0000\u001b[0m  0.0047\n",
      "     14  \u001b[36m12363.2168\u001b[0m  \u001b[32m189219180.6316\u001b[0m  \u001b[35m152849152.0000\u001b[0m  0.0048\n",
      "     15  \u001b[36m12363.2070\u001b[0m  \u001b[32m189218549.8947\u001b[0m  \u001b[35m152848896.0000\u001b[0m  0.0046\n",
      "     16  \u001b[36m12363.1982\u001b[0m  189218698.9474  \u001b[35m152848672.0000\u001b[0m  0.0717\n",
      "     17  \u001b[36m12363.1875\u001b[0m  \u001b[32m189218165.8947\u001b[0m  \u001b[35m152848416.0000\u001b[0m  0.0057\n",
      "     18  \u001b[36m12363.1768\u001b[0m  189218240.0000  \u001b[35m152848128.0000\u001b[0m  0.0051\n",
      "     19  \u001b[36m12363.1650\u001b[0m  189218260.2105  \u001b[35m152847840.0000\u001b[0m  0.0061\n",
      "     20  \u001b[36m12363.1514\u001b[0m  \u001b[32m189217684.2105\u001b[0m  \u001b[35m152847520.0000\u001b[0m  0.0058\n",
      "     21  \u001b[36m12363.1377\u001b[0m  \u001b[32m189217425.6842\u001b[0m  \u001b[35m152847168.0000\u001b[0m  0.0676\n",
      "     22  \u001b[36m12363.1230\u001b[0m  \u001b[32m189217145.2632\u001b[0m  \u001b[35m152846816.0000\u001b[0m  0.0049\n",
      "     23  \u001b[36m12363.1084\u001b[0m  \u001b[32m189217130.9474\u001b[0m  \u001b[35m152846464.0000\u001b[0m  0.0046\n",
      "     24  \u001b[36m12363.0918\u001b[0m  \u001b[32m189215614.3158\u001b[0m  \u001b[35m152846032.0000\u001b[0m  0.0050\n",
      "     25  \u001b[36m12363.0742\u001b[0m  \u001b[32m189215471.1579\u001b[0m  \u001b[35m152845600.0000\u001b[0m  0.0050\n",
      "     26  \u001b[36m12363.0537\u001b[0m  \u001b[32m189214012.6316\u001b[0m  \u001b[35m152845088.0000\u001b[0m  0.0053\n",
      "     27  \u001b[36m12363.0312\u001b[0m  \u001b[32m189213337.2632\u001b[0m  \u001b[35m152844528.0000\u001b[0m  0.0682\n",
      "     28  \u001b[36m12363.0068\u001b[0m  189214640.8421  \u001b[35m152843936.0000\u001b[0m  0.0052\n",
      "     29  \u001b[36m12362.9805\u001b[0m  189213473.6842  \u001b[35m152843296.0000\u001b[0m  0.0052\n",
      "     30  \u001b[36m12362.9521\u001b[0m  \u001b[32m189212806.7368\u001b[0m  \u001b[35m152842592.0000\u001b[0m  0.0052\n",
      "Stopping since RMSE has not improved in the last 30 epochs.\n",
      "[CV 3/3] END module__dropout_1=0.4, module__dropout_2=0.7, module__dropout_3=0.4, module__dropout_4=0.2, module__n_hidden_neurons_1=25, module__n_hidden_neurons_2=20, module__n_hidden_neurons_3=10, module__n_hidden_neurons_4=20, module__n_in_neurons=10, module__n_out_neurons=1; total time=   0.6s\n",
      "  epoch       RMSE      train_loss     valid_loss     dur\n",
      "-------  ---------  --------------  -------------  ------\n",
      "      1  \u001b[36m9803.6094\u001b[0m  \u001b[32m212833850.9474\u001b[0m  \u001b[35m96110768.0000\u001b[0m  0.0050\n",
      "      2  \u001b[36m9803.5986\u001b[0m  \u001b[32m212832373.8947\u001b[0m  \u001b[35m96110544.0000\u001b[0m  0.0044\n",
      "      3  \u001b[36m9803.5869\u001b[0m  212832576.8421  \u001b[35m96110312.0000\u001b[0m  0.0045\n",
      "      4  \u001b[36m9803.5752\u001b[0m  \u001b[32m212831225.2632\u001b[0m  \u001b[35m96110080.0000\u001b[0m  0.0045\n",
      "      5  \u001b[36m9803.5635\u001b[0m  212831573.8947  \u001b[35m96109856.0000\u001b[0m  0.0045\n",
      "      6  \u001b[36m9803.5527\u001b[0m  212831304.4211  \u001b[35m96109632.0000\u001b[0m  0.0678\n",
      "      7  \u001b[36m9803.5410\u001b[0m  212831253.8947  \u001b[35m96109424.0000\u001b[0m  0.0070\n",
      "      8  \u001b[36m9803.5303\u001b[0m  212831907.3684  \u001b[35m96109200.0000\u001b[0m  0.0048\n",
      "      9  \u001b[36m9803.5186\u001b[0m  \u001b[32m212830396.6316\u001b[0m  \u001b[35m96108984.0000\u001b[0m  0.0055\n",
      "     10  \u001b[36m9803.5088\u001b[0m  212830648.4211  \u001b[35m96108768.0000\u001b[0m  0.0055\n",
      "     11  \u001b[36m9803.4971\u001b[0m  \u001b[32m212829202.5263\u001b[0m  \u001b[35m96108552.0000\u001b[0m  0.0698\n",
      "     12  \u001b[36m9803.4863\u001b[0m  212829202.5263  \u001b[35m96108336.0000\u001b[0m  0.0054\n",
      "     13  \u001b[36m9803.4746\u001b[0m  \u001b[32m212828782.3158\u001b[0m  \u001b[35m96108112.0000\u001b[0m  0.0051\n",
      "     14  \u001b[36m9803.4639\u001b[0m  212829482.9474  \u001b[35m96107888.0000\u001b[0m  0.0050\n",
      "     15  \u001b[36m9803.4521\u001b[0m  212828922.9474  \u001b[35m96107664.0000\u001b[0m  0.0051\n",
      "     16  \u001b[36m9803.4404\u001b[0m  \u001b[32m212828303.1579\u001b[0m  \u001b[35m96107432.0000\u001b[0m  0.0725\n",
      "     17  \u001b[36m9803.4287\u001b[0m  \u001b[32m212828049.6842\u001b[0m  \u001b[35m96107200.0000\u001b[0m  0.0071\n",
      "     18  \u001b[36m9803.4150\u001b[0m  \u001b[32m212827685.8947\u001b[0m  \u001b[35m96106960.0000\u001b[0m  0.0054\n",
      "     19  \u001b[36m9803.4023\u001b[0m  \u001b[32m212826463.1579\u001b[0m  \u001b[35m96106688.0000\u001b[0m  0.0044\n",
      "     20  \u001b[36m9803.3887\u001b[0m  \u001b[32m212826223.1579\u001b[0m  \u001b[35m96106424.0000\u001b[0m  0.0042\n",
      "     21  \u001b[36m9803.3750\u001b[0m  212826845.4737  \u001b[35m96106160.0000\u001b[0m  0.0684\n",
      "     22  \u001b[36m9803.3604\u001b[0m  212826697.2632  \u001b[35m96105880.0000\u001b[0m  0.0054\n",
      "     23  \u001b[36m9803.3457\u001b[0m  \u001b[32m212825338.9474\u001b[0m  \u001b[35m96105576.0000\u001b[0m  0.0044\n",
      "     24  \u001b[36m9803.3301\u001b[0m  \u001b[32m212824794.1053\u001b[0m  \u001b[35m96105272.0000\u001b[0m  0.0046\n",
      "     25  \u001b[36m9803.3125\u001b[0m  \u001b[32m212823202.5263\u001b[0m  \u001b[35m96104936.0000\u001b[0m  0.0045\n",
      "     26  \u001b[36m9803.2949\u001b[0m  212824213.0526  \u001b[35m96104608.0000\u001b[0m  0.0711\n",
      "     27  \u001b[36m9803.2773\u001b[0m  212824197.8947  \u001b[35m96104248.0000\u001b[0m  0.0048\n",
      "     28  \u001b[36m9803.2588\u001b[0m  212824588.6316  \u001b[35m96103880.0000\u001b[0m  0.0048\n",
      "     29  \u001b[36m9803.2383\u001b[0m  \u001b[32m212823142.7368\u001b[0m  \u001b[35m96103472.0000\u001b[0m  0.0042\n",
      "     30  \u001b[36m9803.2178\u001b[0m  \u001b[32m212822816.0000\u001b[0m  \u001b[35m96103080.0000\u001b[0m  0.0045\n",
      "Stopping since RMSE has not improved in the last 30 epochs.\n",
      "[CV 1/3] END module__dropout_1=0.5, module__dropout_2=0.7, module__dropout_3=0.5, module__dropout_4=0.5, module__n_hidden_neurons_1=25, module__n_hidden_neurons_2=10, module__n_hidden_neurons_3=15, module__n_hidden_neurons_4=20, module__n_in_neurons=10, module__n_out_neurons=1; total time=   0.6s\n",
      "  epoch        RMSE      train_loss      valid_loss     dur\n",
      "-------  ----------  --------------  --------------  ------\n",
      "      1  \u001b[36m12363.2627\u001b[0m  \u001b[32m233577592.4211\u001b[0m  \u001b[35m152850256.0000\u001b[0m  0.0045\n",
      "      2  \u001b[36m12363.2529\u001b[0m  233577836.6316  \u001b[35m152850016.0000\u001b[0m  0.0048\n",
      "      3  \u001b[36m12363.2432\u001b[0m  \u001b[32m233577293.4737\u001b[0m  \u001b[35m152849792.0000\u001b[0m  0.0041\n",
      "      4  \u001b[36m12363.2344\u001b[0m  \u001b[32m233577018.9474\u001b[0m  \u001b[35m152849568.0000\u001b[0m  0.0042\n",
      "      5  \u001b[36m12363.2246\u001b[0m  \u001b[32m233576751.1579\u001b[0m  \u001b[35m152849328.0000\u001b[0m  0.0104\n",
      "      6  \u001b[36m12363.2139\u001b[0m  233576902.7368  \u001b[35m152849072.0000\u001b[0m  0.0606\n",
      "      7  \u001b[36m12363.2041\u001b[0m  \u001b[32m233575808.0000\u001b[0m  \u001b[35m152848816.0000\u001b[0m  0.0053\n",
      "      8  \u001b[36m12363.1934\u001b[0m  \u001b[32m233575081.2632\u001b[0m  \u001b[35m152848560.0000\u001b[0m  0.0043\n",
      "      9  \u001b[36m12363.1816\u001b[0m  233575273.2632  \u001b[35m152848288.0000\u001b[0m  0.0051\n",
      "     10  \u001b[36m12363.1699\u001b[0m  \u001b[32m233574736.0000\u001b[0m  \u001b[35m152847968.0000\u001b[0m  0.0054\n",
      "     11  \u001b[36m12363.1592\u001b[0m  \u001b[32m233574620.6316\u001b[0m  \u001b[35m152847680.0000\u001b[0m  0.0714\n",
      "     12  \u001b[36m12363.1455\u001b[0m  \u001b[32m233573938.5263\u001b[0m  \u001b[35m152847360.0000\u001b[0m  0.0049\n",
      "     13  \u001b[36m12363.1318\u001b[0m  233573952.8421  \u001b[35m152847040.0000\u001b[0m  0.0044\n",
      "     14  \u001b[36m12363.1182\u001b[0m  233574477.4737  \u001b[35m152846688.0000\u001b[0m  0.0045\n",
      "     15  \u001b[36m12363.1025\u001b[0m  \u001b[32m233572960.8421\u001b[0m  \u001b[35m152846304.0000\u001b[0m  0.0045\n",
      "     16  \u001b[36m12363.0869\u001b[0m  233573931.7895  \u001b[35m152845920.0000\u001b[0m  0.0707\n",
      "     17  \u001b[36m12363.0713\u001b[0m  \u001b[32m233572197.8947\u001b[0m  \u001b[35m152845536.0000\u001b[0m  0.0056\n",
      "     18  \u001b[36m12363.0547\u001b[0m  233572796.6316  \u001b[35m152845104.0000\u001b[0m  0.0047\n",
      "     19  \u001b[36m12363.0371\u001b[0m  \u001b[32m233571530.9474\u001b[0m  \u001b[35m152844656.0000\u001b[0m  0.0060\n",
      "     20  \u001b[36m12363.0186\u001b[0m  233572197.8947  \u001b[35m152844240.0000\u001b[0m  0.0043\n",
      "     21  \u001b[36m12363.0000\u001b[0m  \u001b[32m233569840.8421\u001b[0m  \u001b[35m152843760.0000\u001b[0m  0.0046\n",
      "     22  \u001b[36m12362.9785\u001b[0m  \u001b[32m233567061.8947\u001b[0m  \u001b[35m152843232.0000\u001b[0m  0.0055\n",
      "     23  \u001b[36m12362.9561\u001b[0m  233568944.8421  \u001b[35m152842672.0000\u001b[0m  0.0052\n",
      "     24  \u001b[36m12362.9326\u001b[0m  233568804.2105  \u001b[35m152842080.0000\u001b[0m  0.0052\n",
      "     25  \u001b[36m12362.9072\u001b[0m  233569140.2105  \u001b[35m152841456.0000\u001b[0m  0.0051\n",
      "     26  \u001b[36m12362.8789\u001b[0m  \u001b[32m233564949.8947\u001b[0m  \u001b[35m152840752.0000\u001b[0m  0.0050\n",
      "     27  \u001b[36m12362.8477\u001b[0m  233566542.3158  \u001b[35m152840000.0000\u001b[0m  0.0064\n",
      "     28  \u001b[36m12362.8135\u001b[0m  \u001b[32m233564262.7368\u001b[0m  \u001b[35m152839168.0000\u001b[0m  0.0055\n",
      "     29  \u001b[36m12362.7754\u001b[0m  \u001b[32m233562650.9474\u001b[0m  \u001b[35m152838224.0000\u001b[0m  0.0052\n",
      "     30  \u001b[36m12362.7344\u001b[0m  \u001b[32m233561434.9474\u001b[0m  \u001b[35m152837216.0000\u001b[0m  0.0051\n",
      "Stopping since RMSE has not improved in the last 30 epochs.\n",
      "[CV 2/3] END module__dropout_1=0.5, module__dropout_2=0.7, module__dropout_3=0.5, module__dropout_4=0.5, module__n_hidden_neurons_1=25, module__n_hidden_neurons_2=10, module__n_hidden_neurons_3=15, module__n_hidden_neurons_4=20, module__n_in_neurons=10, module__n_out_neurons=1; total time=   0.6s\n",
      "  epoch        RMSE      train_loss      valid_loss     dur\n",
      "-------  ----------  --------------  --------------  ------\n",
      "      1  \u001b[36m12363.3613\u001b[0m  \u001b[32m189222661.8947\u001b[0m  \u001b[35m152852704.0000\u001b[0m  0.0056\n",
      "      2  \u001b[36m12363.3525\u001b[0m  \u001b[32m189222249.2632\u001b[0m  \u001b[35m152852496.0000\u001b[0m  0.0056\n",
      "      3  \u001b[36m12363.3447\u001b[0m  \u001b[32m189221777.6842\u001b[0m  \u001b[35m152852304.0000\u001b[0m  0.0055\n",
      "      4  \u001b[36m12363.3379\u001b[0m  \u001b[32m189221055.1579\u001b[0m  \u001b[35m152852112.0000\u001b[0m  0.0052\n",
      "      5  \u001b[36m12363.3281\u001b[0m  189221888.8421  \u001b[35m152851872.0000\u001b[0m  0.0680\n",
      "      6  \u001b[36m12363.3193\u001b[0m  189221189.0526  \u001b[35m152851664.0000\u001b[0m  0.0056\n",
      "      7  \u001b[36m12363.3105\u001b[0m  189221808.8421  \u001b[35m152851424.0000\u001b[0m  0.0054\n",
      "      8  \u001b[36m12363.3008\u001b[0m  \u001b[32m189220800.0000\u001b[0m  \u001b[35m152851200.0000\u001b[0m  0.0053\n",
      "      9  \u001b[36m12363.2910\u001b[0m  189220896.0000  \u001b[35m152850976.0000\u001b[0m  0.0050\n",
      "     10  \u001b[36m12363.2822\u001b[0m  \u001b[32m189220363.7895\u001b[0m  \u001b[35m152850720.0000\u001b[0m  0.0702\n",
      "     11  \u001b[36m12363.2705\u001b[0m  \u001b[32m189219174.7368\u001b[0m  \u001b[35m152850464.0000\u001b[0m  0.0056\n",
      "     12  \u001b[36m12363.2598\u001b[0m  189220065.6842  \u001b[35m152850176.0000\u001b[0m  0.0051\n",
      "     13  \u001b[36m12363.2480\u001b[0m  \u001b[32m189218608.8421\u001b[0m  \u001b[35m152849888.0000\u001b[0m  0.0044\n",
      "     14  \u001b[36m12363.2354\u001b[0m  189219399.5789  \u001b[35m152849600.0000\u001b[0m  0.0044\n",
      "     15  \u001b[36m12363.2246\u001b[0m  \u001b[32m189218431.1579\u001b[0m  \u001b[35m152849296.0000\u001b[0m  0.0727\n",
      "     16  \u001b[36m12363.2109\u001b[0m  189218481.6842  \u001b[35m152848960.0000\u001b[0m  0.0048\n",
      "     17  \u001b[36m12363.1953\u001b[0m  \u001b[32m189217257.2632\u001b[0m  \u001b[35m152848608.0000\u001b[0m  0.0051\n",
      "     18  \u001b[36m12363.1797\u001b[0m  189217594.9474  \u001b[35m152848224.0000\u001b[0m  0.0048\n",
      "     19  \u001b[36m12363.1650\u001b[0m  \u001b[32m189217050.9474\u001b[0m  \u001b[35m152847840.0000\u001b[0m  0.0048\n",
      "     20  \u001b[36m12363.1484\u001b[0m  \u001b[32m189216136.4211\u001b[0m  \u001b[35m152847424.0000\u001b[0m  0.0711\n",
      "     21  \u001b[36m12363.1299\u001b[0m  \u001b[32m189215690.9474\u001b[0m  \u001b[35m152846992.0000\u001b[0m  0.0051\n",
      "     22  \u001b[36m12363.1113\u001b[0m  189216371.3684  \u001b[35m152846496.0000\u001b[0m  0.0047\n",
      "     23  \u001b[36m12363.0898\u001b[0m  \u001b[32m189215394.5263\u001b[0m  \u001b[35m152845984.0000\u001b[0m  0.0046\n",
      "     24  \u001b[36m12363.0664\u001b[0m  \u001b[32m189212852.2105\u001b[0m  \u001b[35m152845408.0000\u001b[0m  0.0051\n",
      "     25  \u001b[36m12363.0410\u001b[0m  189214135.5789  \u001b[35m152844768.0000\u001b[0m  0.0707\n",
      "     26  \u001b[36m12363.0127\u001b[0m  \u001b[32m189212399.1579\u001b[0m  \u001b[35m152844080.0000\u001b[0m  0.0056\n",
      "     27  \u001b[36m12362.9824\u001b[0m  \u001b[32m189211585.6842\u001b[0m  \u001b[35m152843328.0000\u001b[0m  0.0044\n",
      "     28  \u001b[36m12362.9512\u001b[0m  189212561.6842  \u001b[35m152842576.0000\u001b[0m  0.0044\n",
      "     29  \u001b[36m12362.9170\u001b[0m  \u001b[32m189209797.8947\u001b[0m  \u001b[35m152841696.0000\u001b[0m  0.0043\n",
      "     30  \u001b[36m12362.8789\u001b[0m  189210858.9474  \u001b[35m152840784.0000\u001b[0m  0.0044\n",
      "Stopping since RMSE has not improved in the last 30 epochs.\n",
      "[CV 3/3] END module__dropout_1=0.5, module__dropout_2=0.7, module__dropout_3=0.5, module__dropout_4=0.5, module__n_hidden_neurons_1=25, module__n_hidden_neurons_2=10, module__n_hidden_neurons_3=15, module__n_hidden_neurons_4=20, module__n_in_neurons=10, module__n_out_neurons=1; total time=   0.6s\n",
      "  epoch       RMSE      train_loss     valid_loss     dur\n",
      "-------  ---------  --------------  -------------  ------\n",
      "      1  \u001b[36m9803.6230\u001b[0m  \u001b[32m212832476.6316\u001b[0m  \u001b[35m96111024.0000\u001b[0m  0.0047\n",
      "      2  \u001b[36m9803.6143\u001b[0m  212833048.4211  \u001b[35m96110840.0000\u001b[0m  0.0047\n",
      "      3  \u001b[36m9803.6055\u001b[0m  212832581.8947  \u001b[35m96110680.0000\u001b[0m  0.0044\n",
      "      4  \u001b[36m9803.5957\u001b[0m  \u001b[32m212832270.3158\u001b[0m  \u001b[35m96110496.0000\u001b[0m  0.0044\n",
      "      5  \u001b[36m9803.5869\u001b[0m  \u001b[32m212831413.8947\u001b[0m  \u001b[35m96110320.0000\u001b[0m  0.0679\n",
      "      6  \u001b[36m9803.5791\u001b[0m  \u001b[32m212831248.8421\u001b[0m  \u001b[35m96110152.0000\u001b[0m  0.0057\n",
      "      7  \u001b[36m9803.5693\u001b[0m  212831350.7368  \u001b[35m96109968.0000\u001b[0m  0.0048\n",
      "      8  \u001b[36m9803.5615\u001b[0m  \u001b[32m212831110.7368\u001b[0m  \u001b[35m96109816.0000\u001b[0m  0.0047\n",
      "      9  \u001b[36m9803.5527\u001b[0m  \u001b[32m212830679.5789\u001b[0m  \u001b[35m96109648.0000\u001b[0m  0.0044\n",
      "     10  \u001b[36m9803.5449\u001b[0m  \u001b[32m212830640.8421\u001b[0m  \u001b[35m96109488.0000\u001b[0m  0.0047\n",
      "     11  \u001b[36m9803.5352\u001b[0m  \u001b[32m212830353.6842\u001b[0m  \u001b[35m96109296.0000\u001b[0m  0.0674\n",
      "     12  \u001b[36m9803.5264\u001b[0m  212830636.6316  \u001b[35m96109120.0000\u001b[0m  0.0047\n",
      "     13  \u001b[36m9803.5166\u001b[0m  \u001b[32m212829930.9474\u001b[0m  \u001b[35m96108944.0000\u001b[0m  0.0045\n",
      "     14  \u001b[36m9803.5068\u001b[0m  \u001b[32m212828995.3684\u001b[0m  \u001b[35m96108744.0000\u001b[0m  0.0044\n",
      "     15  \u001b[36m9803.4971\u001b[0m  212830184.4211  \u001b[35m96108552.0000\u001b[0m  0.0044\n",
      "     16  \u001b[36m9803.4863\u001b[0m  212829205.0526  \u001b[35m96108336.0000\u001b[0m  0.0770\n",
      "     17  \u001b[36m9803.4746\u001b[0m  \u001b[32m212828311.5789\u001b[0m  \u001b[35m96108112.0000\u001b[0m  0.0060\n",
      "     18  \u001b[36m9803.4629\u001b[0m  212828445.4737  \u001b[35m96107888.0000\u001b[0m  0.0050\n",
      "     19  \u001b[36m9803.4512\u001b[0m  212828469.8947  \u001b[35m96107664.0000\u001b[0m  0.0057\n",
      "     20  \u001b[36m9803.4395\u001b[0m  \u001b[32m212827278.3158\u001b[0m  \u001b[35m96107424.0000\u001b[0m  0.0045\n",
      "     21  \u001b[36m9803.4268\u001b[0m  212827629.4737  \u001b[35m96107184.0000\u001b[0m  0.0682\n",
      "     22  \u001b[36m9803.4141\u001b[0m  212827418.9474  \u001b[35m96106928.0000\u001b[0m  0.0046\n",
      "     23  \u001b[36m9803.4004\u001b[0m  \u001b[32m212826910.3158\u001b[0m  \u001b[35m96106648.0000\u001b[0m  0.0045\n",
      "     24  \u001b[36m9803.3848\u001b[0m  \u001b[32m212825962.1053\u001b[0m  \u001b[35m96106352.0000\u001b[0m  0.0044\n",
      "     25  \u001b[36m9803.3691\u001b[0m  212826854.7368  \u001b[35m96106032.0000\u001b[0m  0.0046\n",
      "     26  \u001b[36m9803.3525\u001b[0m  \u001b[32m212825535.1579\u001b[0m  \u001b[35m96105712.0000\u001b[0m  0.0714\n",
      "     27  \u001b[36m9803.3340\u001b[0m  \u001b[32m212825011.3684\u001b[0m  \u001b[35m96105352.0000\u001b[0m  0.0049\n",
      "     28  \u001b[36m9803.3145\u001b[0m  \u001b[32m212823867.7895\u001b[0m  \u001b[35m96104976.0000\u001b[0m  0.0047\n",
      "     29  \u001b[36m9803.2939\u001b[0m  212825182.3158  \u001b[35m96104576.0000\u001b[0m  0.0046\n",
      "     30  \u001b[36m9803.2725\u001b[0m  \u001b[32m212823085.4737\u001b[0m  \u001b[35m96104144.0000\u001b[0m  0.0045\n",
      "Stopping since RMSE has not improved in the last 30 epochs.\n",
      "[CV 1/3] END module__dropout_1=0.4, module__dropout_2=0.6, module__dropout_3=0.7, module__dropout_4=0.3, module__n_hidden_neurons_1=20, module__n_hidden_neurons_2=10, module__n_hidden_neurons_3=25, module__n_hidden_neurons_4=15, module__n_in_neurons=10, module__n_out_neurons=1; total time=   0.5s\n",
      "  epoch        RMSE      train_loss      valid_loss     dur\n",
      "-------  ----------  --------------  --------------  ------\n",
      "      1  \u001b[36m12363.2891\u001b[0m  \u001b[32m233578613.0526\u001b[0m  \u001b[35m152850912.0000\u001b[0m  0.0633\n",
      "      2  \u001b[36m12363.2783\u001b[0m  233578756.2105  \u001b[35m152850624.0000\u001b[0m  0.0056\n",
      "      3  \u001b[36m12363.2666\u001b[0m  \u001b[32m233577770.9474\u001b[0m  \u001b[35m152850368.0000\u001b[0m  0.0044\n",
      "      4  \u001b[36m12363.2559\u001b[0m  \u001b[32m233576890.1053\u001b[0m  \u001b[35m152850112.0000\u001b[0m  0.0045\n",
      "      5  \u001b[36m12363.2461\u001b[0m  233577574.7368  \u001b[35m152849840.0000\u001b[0m  0.0043\n",
      "      6  \u001b[36m12363.2334\u001b[0m  \u001b[32m233576663.5789\u001b[0m  \u001b[35m152849568.0000\u001b[0m  0.0709\n",
      "      7  \u001b[36m12363.2217\u001b[0m  \u001b[32m233576144.8421\u001b[0m  \u001b[35m152849248.0000\u001b[0m  0.0057\n",
      "      8  \u001b[36m12363.2100\u001b[0m  233576275.3684  \u001b[35m152848960.0000\u001b[0m  0.0054\n",
      "      9  \u001b[36m12363.1992\u001b[0m  233576794.9474  \u001b[35m152848672.0000\u001b[0m  0.0053\n",
      "     10  \u001b[36m12363.1855\u001b[0m  \u001b[32m233575422.3158\u001b[0m  \u001b[35m152848384.0000\u001b[0m  0.0052\n",
      "     11  \u001b[36m12363.1748\u001b[0m  \u001b[32m233575088.8421\u001b[0m  \u001b[35m152848096.0000\u001b[0m  0.0717\n",
      "     12  \u001b[36m12363.1631\u001b[0m  \u001b[32m233574866.5263\u001b[0m  \u001b[35m152847792.0000\u001b[0m  0.0052\n",
      "     13  \u001b[36m12363.1494\u001b[0m  \u001b[32m233574853.0526\u001b[0m  \u001b[35m152847456.0000\u001b[0m  0.0053\n",
      "     14  \u001b[36m12363.1348\u001b[0m  \u001b[32m233572864.0000\u001b[0m  \u001b[35m152847120.0000\u001b[0m  0.0052\n",
      "     15  \u001b[36m12363.1191\u001b[0m  233573584.8421  \u001b[35m152846752.0000\u001b[0m  0.0049\n",
      "     16  \u001b[36m12363.1035\u001b[0m  233574020.2105  \u001b[35m152846320.0000\u001b[0m  0.0711\n",
      "     17  \u001b[36m12363.0859\u001b[0m  233573351.5789  \u001b[35m152845888.0000\u001b[0m  0.0061\n",
      "     18  \u001b[36m12363.0674\u001b[0m  233573253.0526  \u001b[35m152845424.0000\u001b[0m  0.0059\n",
      "     19  \u001b[36m12363.0469\u001b[0m  \u001b[32m233570677.8947\u001b[0m  \u001b[35m152844928.0000\u001b[0m  0.0057\n",
      "     20  \u001b[36m12363.0254\u001b[0m  233571469.4737  \u001b[35m152844432.0000\u001b[0m  0.0060\n",
      "     21  \u001b[36m12363.0039\u001b[0m  \u001b[32m233570323.3684\u001b[0m  \u001b[35m152843856.0000\u001b[0m  0.0696\n",
      "     22  \u001b[36m12362.9785\u001b[0m  233571685.0526  \u001b[35m152843264.0000\u001b[0m  0.0054\n",
      "     23  \u001b[36m12362.9531\u001b[0m  \u001b[32m233569434.1053\u001b[0m  \u001b[35m152842640.0000\u001b[0m  0.0054\n",
      "     24  \u001b[36m12362.9258\u001b[0m  \u001b[32m233569352.4211\u001b[0m  \u001b[35m152841936.0000\u001b[0m  0.0051\n",
      "     25  \u001b[36m12362.8955\u001b[0m  \u001b[32m233568478.3158\u001b[0m  \u001b[35m152841184.0000\u001b[0m  0.0750\n",
      "     26  \u001b[36m12362.8623\u001b[0m  \u001b[32m233564153.2632\u001b[0m  \u001b[35m152840352.0000\u001b[0m  0.0055\n",
      "     27  \u001b[36m12362.8252\u001b[0m  233564815.1579  \u001b[35m152839440.0000\u001b[0m  0.0053\n",
      "     28  \u001b[36m12362.7842\u001b[0m  233565784.4211  \u001b[35m152838464.0000\u001b[0m  0.0051\n",
      "     29  \u001b[36m12362.7432\u001b[0m  233565184.0000  \u001b[35m152837408.0000\u001b[0m  0.0053\n",
      "     30  \u001b[36m12362.6963\u001b[0m  \u001b[32m233563848.4211\u001b[0m  \u001b[35m152836256.0000\u001b[0m  0.0051\n",
      "Stopping since RMSE has not improved in the last 30 epochs.\n",
      "[CV 2/3] END module__dropout_1=0.4, module__dropout_2=0.6, module__dropout_3=0.7, module__dropout_4=0.3, module__n_hidden_neurons_1=20, module__n_hidden_neurons_2=10, module__n_hidden_neurons_3=25, module__n_hidden_neurons_4=15, module__n_in_neurons=10, module__n_out_neurons=1; total time=   0.7s\n",
      "  epoch        RMSE      train_loss      valid_loss     dur\n",
      "-------  ----------  --------------  --------------  ------\n",
      "      1  \u001b[36m12363.1201\u001b[0m  \u001b[32m189216670.3158\u001b[0m  \u001b[35m152846736.0000\u001b[0m  0.0055\n",
      "      2  \u001b[36m12363.1104\u001b[0m  \u001b[32m189215882.1053\u001b[0m  \u001b[35m152846496.0000\u001b[0m  0.0053\n",
      "      3  \u001b[36m12363.0996\u001b[0m  \u001b[32m189215773.4737\u001b[0m  \u001b[35m152846240.0000\u001b[0m  0.0053\n",
      "      4  \u001b[36m12363.0898\u001b[0m  \u001b[32m189215265.6842\u001b[0m  \u001b[35m152846000.0000\u001b[0m  0.0048\n",
      "      5  \u001b[36m12363.0791\u001b[0m  \u001b[32m189214794.1053\u001b[0m  \u001b[35m152845728.0000\u001b[0m  0.0666\n",
      "      6  \u001b[36m12363.0693\u001b[0m  \u001b[32m189214684.6316\u001b[0m  \u001b[35m152845472.0000\u001b[0m  0.0053\n",
      "      7  \u001b[36m12363.0576\u001b[0m  \u001b[32m189214127.1579\u001b[0m  \u001b[35m152845216.0000\u001b[0m  0.0049\n",
      "      8  \u001b[36m12363.0459\u001b[0m  \u001b[32m189213942.7368\u001b[0m  \u001b[35m152844912.0000\u001b[0m  0.0048\n",
      "      9  \u001b[36m12363.0332\u001b[0m  189214037.0526  \u001b[35m152844608.0000\u001b[0m  0.0762\n",
      "     10  \u001b[36m12363.0195\u001b[0m  \u001b[32m189213136.8421\u001b[0m  \u001b[35m152844288.0000\u001b[0m  0.0057\n",
      "     11  \u001b[36m12363.0059\u001b[0m  189213411.3684  \u001b[35m152843936.0000\u001b[0m  0.0051\n",
      "     12  \u001b[36m12362.9912\u001b[0m  189213193.2632  \u001b[35m152843552.0000\u001b[0m  0.0050\n",
      "     13  \u001b[36m12362.9766\u001b[0m  \u001b[32m189211978.9474\u001b[0m  \u001b[35m152843184.0000\u001b[0m  0.0051\n",
      "     14  \u001b[36m12362.9600\u001b[0m  \u001b[32m189211722.9474\u001b[0m  \u001b[35m152842784.0000\u001b[0m  0.0703\n",
      "     15  \u001b[36m12362.9424\u001b[0m  \u001b[32m189211678.3158\u001b[0m  \u001b[35m152842352.0000\u001b[0m  0.0055\n",
      "     16  \u001b[36m12362.9248\u001b[0m  \u001b[32m189211115.7895\u001b[0m  \u001b[35m152841920.0000\u001b[0m  0.0048\n",
      "     17  \u001b[36m12362.9062\u001b[0m  189211198.3158  \u001b[35m152841440.0000\u001b[0m  0.0048\n",
      "     18  \u001b[36m12362.8848\u001b[0m  \u001b[32m189208456.4211\u001b[0m  \u001b[35m152840928.0000\u001b[0m  0.0049\n",
      "     19  \u001b[36m12362.8623\u001b[0m  189210375.5789  \u001b[35m152840352.0000\u001b[0m  0.0720\n",
      "     20  \u001b[36m12362.8369\u001b[0m  189209863.5789  \u001b[35m152839728.0000\u001b[0m  0.0055\n",
      "     21  \u001b[36m12362.8076\u001b[0m  \u001b[32m189208220.6316\u001b[0m  \u001b[35m152839024.0000\u001b[0m  0.0050\n",
      "     22  \u001b[36m12362.7773\u001b[0m  \u001b[32m189206158.3158\u001b[0m  \u001b[35m152838240.0000\u001b[0m  0.0050\n",
      "     23  \u001b[36m12362.7422\u001b[0m  189206571.7895  \u001b[35m152837376.0000\u001b[0m  0.0049\n",
      "     24  \u001b[36m12362.7031\u001b[0m  \u001b[32m189203588.2105\u001b[0m  \u001b[35m152836432.0000\u001b[0m  0.0051\n",
      "     25  \u001b[36m12362.6611\u001b[0m  189205312.8421  \u001b[35m152835392.0000\u001b[0m  0.0061\n",
      "     26  \u001b[36m12362.6152\u001b[0m  189204585.2632  \u001b[35m152834272.0000\u001b[0m  0.0053\n",
      "     27  \u001b[36m12362.5664\u001b[0m  \u001b[32m189201478.7368\u001b[0m  \u001b[35m152833056.0000\u001b[0m  0.0063\n",
      "     28  \u001b[36m12362.5127\u001b[0m  189202752.0000  \u001b[35m152831712.0000\u001b[0m  0.0050\n",
      "     29  \u001b[36m12362.4531\u001b[0m  \u001b[32m189197780.2105\u001b[0m  \u001b[35m152830240.0000\u001b[0m  0.0720\n",
      "     30  \u001b[36m12362.3877\u001b[0m  \u001b[32m189197011.3684\u001b[0m  \u001b[35m152828640.0000\u001b[0m  0.0057\n",
      "Stopping since RMSE has not improved in the last 30 epochs.\n",
      "[CV 3/3] END module__dropout_1=0.4, module__dropout_2=0.6, module__dropout_3=0.7, module__dropout_4=0.3, module__n_hidden_neurons_1=20, module__n_hidden_neurons_2=10, module__n_hidden_neurons_3=25, module__n_hidden_neurons_4=15, module__n_in_neurons=10, module__n_out_neurons=1; total time=   0.6s\n",
      "  epoch       RMSE      train_loss     valid_loss     dur\n",
      "-------  ---------  --------------  -------------  ------\n",
      "      1  \u001b[36m9803.3359\u001b[0m  \u001b[32m212825156.2105\u001b[0m  \u001b[35m96105384.0000\u001b[0m  0.0041\n",
      "      2  \u001b[36m9803.3281\u001b[0m  212825306.1053  \u001b[35m96105240.0000\u001b[0m  0.0053\n",
      "      3  \u001b[36m9803.3213\u001b[0m  212825242.9474  \u001b[35m96105096.0000\u001b[0m  0.0054\n",
      "      4  \u001b[36m9803.3135\u001b[0m  \u001b[32m212824618.1053\u001b[0m  \u001b[35m96104952.0000\u001b[0m  0.0045\n",
      "      5  \u001b[36m9803.3066\u001b[0m  212824676.2105  \u001b[35m96104816.0000\u001b[0m  0.0044\n",
      "      6  \u001b[36m9803.2998\u001b[0m  \u001b[32m212824208.0000\u001b[0m  \u001b[35m96104688.0000\u001b[0m  0.0047\n",
      "      7  \u001b[36m9803.2930\u001b[0m  212824221.4737  \u001b[35m96104544.0000\u001b[0m  0.0402\n",
      "      8  \u001b[36m9803.2852\u001b[0m  \u001b[32m212823887.1579\u001b[0m  \u001b[35m96104400.0000\u001b[0m  0.0048\n",
      "      9  \u001b[36m9803.2783\u001b[0m  \u001b[32m212823366.7368\u001b[0m  \u001b[35m96104264.0000\u001b[0m  0.0042\n",
      "     10  \u001b[36m9803.2705\u001b[0m  212823445.8947  \u001b[35m96104112.0000\u001b[0m  0.0044\n",
      "     11  \u001b[36m9803.2627\u001b[0m  \u001b[32m212823317.0526\u001b[0m  \u001b[35m96103976.0000\u001b[0m  0.0049\n",
      "     12  \u001b[36m9803.2559\u001b[0m  212823818.1053  \u001b[35m96103824.0000\u001b[0m  0.0041\n",
      "     13  \u001b[36m9803.2471\u001b[0m  \u001b[32m212822406.7368\u001b[0m  \u001b[35m96103664.0000\u001b[0m  0.0042\n",
      "     14  \u001b[36m9803.2393\u001b[0m  \u001b[32m212822351.1579\u001b[0m  \u001b[35m96103504.0000\u001b[0m  0.0052\n",
      "     15  \u001b[36m9803.2305\u001b[0m  212822427.7895  \u001b[35m96103312.0000\u001b[0m  0.0047\n",
      "     16  \u001b[36m9803.2217\u001b[0m  \u001b[32m212822008.4211\u001b[0m  \u001b[35m96103144.0000\u001b[0m  0.0047\n",
      "     17  \u001b[36m9803.2109\u001b[0m  \u001b[32m212821376.0000\u001b[0m  \u001b[35m96102944.0000\u001b[0m  0.0049\n",
      "     18  \u001b[36m9803.2002\u001b[0m  212821938.5263  \u001b[35m96102744.0000\u001b[0m  0.0048\n",
      "     19  \u001b[36m9803.1904\u001b[0m  212822287.1579  \u001b[35m96102544.0000\u001b[0m  0.0311\n",
      "     20  \u001b[36m9803.1797\u001b[0m  \u001b[32m212821061.8947\u001b[0m  \u001b[35m96102320.0000\u001b[0m  0.0056\n",
      "     21  \u001b[36m9803.1680\u001b[0m  212821205.0526  \u001b[35m96102104.0000\u001b[0m  0.0048\n",
      "     22  \u001b[36m9803.1562\u001b[0m  \u001b[32m212820027.7895\u001b[0m  \u001b[35m96101872.0000\u001b[0m  0.0048\n",
      "     23  \u001b[36m9803.1436\u001b[0m  212820362.9474  \u001b[35m96101632.0000\u001b[0m  0.0047\n",
      "     24  \u001b[36m9803.1318\u001b[0m  \u001b[32m212819973.0526\u001b[0m  \u001b[35m96101392.0000\u001b[0m  0.0047\n",
      "     25  \u001b[36m9803.1191\u001b[0m  \u001b[32m212819493.0526\u001b[0m  \u001b[35m96101128.0000\u001b[0m  0.0049\n",
      "     26  \u001b[36m9803.1045\u001b[0m  \u001b[32m212819121.6842\u001b[0m  \u001b[35m96100848.0000\u001b[0m  0.0049\n",
      "     27  \u001b[36m9803.0908\u001b[0m  \u001b[32m212818404.2105\u001b[0m  \u001b[35m96100560.0000\u001b[0m  0.0047\n",
      "     28  \u001b[36m9803.0742\u001b[0m  212819221.8947  \u001b[35m96100272.0000\u001b[0m  0.0047\n",
      "     29  \u001b[36m9803.0586\u001b[0m  \u001b[32m212817856.0000\u001b[0m  \u001b[35m96099952.0000\u001b[0m  0.0048\n",
      "     30  \u001b[36m9803.0410\u001b[0m  \u001b[32m212817407.1579\u001b[0m  \u001b[35m96099616.0000\u001b[0m  0.0046\n",
      "Stopping since RMSE has not improved in the last 30 epochs.\n",
      "[CV 1/3] END module__dropout_1=0.1, module__dropout_2=0.6, module__dropout_3=0.3, module__dropout_4=0.4, module__n_hidden_neurons_1=15, module__n_hidden_neurons_2=10, module__n_hidden_neurons_3=20, module__n_hidden_neurons_4=15, module__n_in_neurons=10, module__n_out_neurons=1; total time=   0.3s\n",
      "  epoch        RMSE      train_loss      valid_loss     dur\n",
      "-------  ----------  --------------  --------------  ------\n",
      "      1  \u001b[36m12363.5166\u001b[0m  \u001b[32m233585059.3684\u001b[0m  \u001b[35m152856528.0000\u001b[0m  0.0055\n",
      "      2  \u001b[36m12363.5098\u001b[0m  \u001b[32m233585018.9474\u001b[0m  \u001b[35m152856384.0000\u001b[0m  0.0051\n",
      "      3  \u001b[36m12363.5039\u001b[0m  \u001b[32m233584682.1053\u001b[0m  \u001b[35m152856224.0000\u001b[0m  0.0049\n",
      "      4  \u001b[36m12363.4971\u001b[0m  \u001b[32m233584480.8421\u001b[0m  \u001b[35m152856064.0000\u001b[0m  0.0052\n",
      "      5  \u001b[36m12363.4912\u001b[0m  233584572.6316  \u001b[35m152855904.0000\u001b[0m  0.0052\n",
      "      6  \u001b[36m12363.4834\u001b[0m  \u001b[32m233584166.7368\u001b[0m  \u001b[35m152855728.0000\u001b[0m  0.0053\n",
      "      7  \u001b[36m12363.4756\u001b[0m  \u001b[32m233583696.0000\u001b[0m  \u001b[35m152855552.0000\u001b[0m  0.0050\n",
      "      8  \u001b[36m12363.4688\u001b[0m  233583712.0000  \u001b[35m152855360.0000\u001b[0m  0.0050\n",
      "      9  \u001b[36m12363.4609\u001b[0m  \u001b[32m233583509.8947\u001b[0m  \u001b[35m152855152.0000\u001b[0m  0.0051\n",
      "     10  \u001b[36m12363.4531\u001b[0m  \u001b[32m233582907.7895\u001b[0m  \u001b[35m152854960.0000\u001b[0m  0.0322\n",
      "     11  \u001b[36m12363.4443\u001b[0m  233583431.5789  \u001b[35m152854752.0000\u001b[0m  0.0052\n",
      "     12  \u001b[36m12363.4355\u001b[0m  \u001b[32m233582807.5789\u001b[0m  \u001b[35m152854512.0000\u001b[0m  0.0043\n",
      "     13  \u001b[36m12363.4248\u001b[0m  \u001b[32m233581874.5263\u001b[0m  \u001b[35m152854288.0000\u001b[0m  0.0045\n",
      "     14  \u001b[36m12363.4131\u001b[0m  233581954.5263  \u001b[35m152854000.0000\u001b[0m  0.0043\n",
      "     15  \u001b[36m12363.4004\u001b[0m  \u001b[32m233581628.6316\u001b[0m  \u001b[35m152853712.0000\u001b[0m  0.0042\n",
      "     16  \u001b[36m12363.3877\u001b[0m  \u001b[32m233581542.7368\u001b[0m  \u001b[35m152853376.0000\u001b[0m  0.0044\n",
      "     17  \u001b[36m12363.3740\u001b[0m  \u001b[32m233581236.2105\u001b[0m  \u001b[35m152853040.0000\u001b[0m  0.0042\n",
      "     18  \u001b[36m12363.3584\u001b[0m  \u001b[32m233580468.2105\u001b[0m  \u001b[35m152852640.0000\u001b[0m  0.0044\n",
      "     19  \u001b[36m12363.3408\u001b[0m  233580825.2632  \u001b[35m152852208.0000\u001b[0m  0.0047\n",
      "     20  \u001b[36m12363.3223\u001b[0m  \u001b[32m233579211.7895\u001b[0m  \u001b[35m152851760.0000\u001b[0m  0.0047\n",
      "     21  \u001b[36m12363.3018\u001b[0m  \u001b[32m233578963.3684\u001b[0m  \u001b[35m152851248.0000\u001b[0m  0.0043\n",
      "     22  \u001b[36m12363.2803\u001b[0m  \u001b[32m233577569.6842\u001b[0m  \u001b[35m152850672.0000\u001b[0m  0.0041\n",
      "     23  \u001b[36m12363.2549\u001b[0m  \u001b[32m233575975.5789\u001b[0m  \u001b[35m152850080.0000\u001b[0m  0.0059\n",
      "     24  \u001b[36m12363.2266\u001b[0m  233576577.6842  \u001b[35m152849392.0000\u001b[0m  0.0046\n",
      "     25  \u001b[36m12363.1953\u001b[0m  233576014.3158  \u001b[35m152848608.0000\u001b[0m  0.0044\n",
      "     26  \u001b[36m12363.1631\u001b[0m  \u001b[32m233575482.1053\u001b[0m  \u001b[35m152847808.0000\u001b[0m  0.0049\n",
      "     27  \u001b[36m12363.1279\u001b[0m  233575679.1579  \u001b[35m152846944.0000\u001b[0m  0.0046\n",
      "     28  \u001b[36m12363.0898\u001b[0m  \u001b[32m233572576.0000\u001b[0m  \u001b[35m152845984.0000\u001b[0m  0.0044\n",
      "     29  \u001b[36m12363.0469\u001b[0m  233573059.3684  \u001b[35m152844944.0000\u001b[0m  0.0047\n",
      "     30  \u001b[36m12363.0020\u001b[0m  \u001b[32m233571842.5263\u001b[0m  \u001b[35m152843824.0000\u001b[0m  0.0050\n",
      "Stopping since RMSE has not improved in the last 30 epochs.\n",
      "[CV 2/3] END module__dropout_1=0.1, module__dropout_2=0.6, module__dropout_3=0.3, module__dropout_4=0.4, module__n_hidden_neurons_1=15, module__n_hidden_neurons_2=10, module__n_hidden_neurons_3=20, module__n_hidden_neurons_4=15, module__n_in_neurons=10, module__n_out_neurons=1; total time=   0.3s\n",
      "  epoch        RMSE      train_loss      valid_loss     dur\n",
      "-------  ----------  --------------  --------------  ------\n",
      "      1  \u001b[36m12363.2891\u001b[0m  \u001b[32m189220747.7895\u001b[0m  \u001b[35m152850912.0000\u001b[0m  0.0053\n",
      "      2  \u001b[36m12363.2812\u001b[0m  \u001b[32m189220551.5789\u001b[0m  \u001b[35m152850720.0000\u001b[0m  0.0049\n",
      "      3  \u001b[36m12363.2734\u001b[0m  \u001b[32m189220323.3684\u001b[0m  \u001b[35m152850528.0000\u001b[0m  0.0051\n",
      "      4  \u001b[36m12363.2656\u001b[0m  \u001b[32m189220171.7895\u001b[0m  \u001b[35m152850336.0000\u001b[0m  0.0052\n",
      "      5  \u001b[36m12363.2568\u001b[0m  \u001b[32m189219967.1579\u001b[0m  \u001b[35m152850112.0000\u001b[0m  0.0050\n",
      "      6  \u001b[36m12363.2490\u001b[0m  \u001b[32m189219912.4211\u001b[0m  \u001b[35m152849920.0000\u001b[0m  0.0049\n",
      "      7  \u001b[36m12363.2412\u001b[0m  \u001b[32m189219713.6842\u001b[0m  \u001b[35m152849712.0000\u001b[0m  0.0046\n",
      "      8  \u001b[36m12363.2324\u001b[0m  \u001b[32m189219536.0000\u001b[0m  \u001b[35m152849504.0000\u001b[0m  0.0048\n",
      "      9  \u001b[36m12363.2236\u001b[0m  189219818.1053  \u001b[35m152849296.0000\u001b[0m  0.0049\n",
      "     10  \u001b[36m12363.2148\u001b[0m  \u001b[32m189219044.2105\u001b[0m  \u001b[35m152849072.0000\u001b[0m  0.0048\n",
      "     11  \u001b[36m12363.2061\u001b[0m  \u001b[32m189218841.2632\u001b[0m  \u001b[35m152848864.0000\u001b[0m  0.0051\n",
      "     12  \u001b[36m12363.1953\u001b[0m  \u001b[32m189218672.8421\u001b[0m  \u001b[35m152848608.0000\u001b[0m  0.0048\n",
      "     13  \u001b[36m12363.1855\u001b[0m  \u001b[32m189218406.7368\u001b[0m  \u001b[35m152848368.0000\u001b[0m  0.0052\n",
      "     14  \u001b[36m12363.1758\u001b[0m  \u001b[32m189217939.3684\u001b[0m  \u001b[35m152848112.0000\u001b[0m  0.0059\n",
      "     15  \u001b[36m12363.1650\u001b[0m  \u001b[32m189217693.4737\u001b[0m  \u001b[35m152847824.0000\u001b[0m  0.0043\n",
      "     16  \u001b[36m12363.1514\u001b[0m  \u001b[32m189217520.8421\u001b[0m  \u001b[35m152847520.0000\u001b[0m  0.0044\n",
      "     17  \u001b[36m12363.1387\u001b[0m  \u001b[32m189216794.9474\u001b[0m  \u001b[35m152847216.0000\u001b[0m  0.0042\n",
      "     18  \u001b[36m12363.1260\u001b[0m  \u001b[32m189216793.2632\u001b[0m  \u001b[35m152846864.0000\u001b[0m  0.0042\n",
      "     19  \u001b[36m12363.1104\u001b[0m  \u001b[32m189216651.7895\u001b[0m  \u001b[35m152846496.0000\u001b[0m  0.0046\n",
      "     20  \u001b[36m12363.0947\u001b[0m  \u001b[32m189215914.1053\u001b[0m  \u001b[35m152846096.0000\u001b[0m  0.0043\n",
      "     21  \u001b[36m12363.0762\u001b[0m  \u001b[32m189214859.7895\u001b[0m  \u001b[35m152845664.0000\u001b[0m  0.0042\n",
      "     22  \u001b[36m12363.0576\u001b[0m  189214878.3158  \u001b[35m152845200.0000\u001b[0m  0.0043\n",
      "     23  \u001b[36m12363.0381\u001b[0m  \u001b[32m189214816.0000\u001b[0m  \u001b[35m152844704.0000\u001b[0m  0.0042\n",
      "     24  \u001b[36m12363.0156\u001b[0m  \u001b[32m189214585.2632\u001b[0m  \u001b[35m152844176.0000\u001b[0m  0.0042\n",
      "     25  \u001b[36m12362.9932\u001b[0m  \u001b[32m189213561.2632\u001b[0m  \u001b[35m152843616.0000\u001b[0m  0.0043\n",
      "     26  \u001b[36m12362.9678\u001b[0m  \u001b[32m189212761.2632\u001b[0m  \u001b[35m152842992.0000\u001b[0m  0.0043\n",
      "     27  \u001b[36m12362.9424\u001b[0m  \u001b[32m189211580.6316\u001b[0m  \u001b[35m152842336.0000\u001b[0m  0.0050\n",
      "     28  \u001b[36m12362.9131\u001b[0m  189212179.3684  \u001b[35m152841616.0000\u001b[0m  0.0044\n",
      "     29  \u001b[36m12362.8818\u001b[0m  \u001b[32m189209960.4211\u001b[0m  \u001b[35m152840848.0000\u001b[0m  0.0042\n",
      "     30  \u001b[36m12362.8467\u001b[0m  \u001b[32m189209494.7368\u001b[0m  \u001b[35m152839968.0000\u001b[0m  0.0044\n",
      "Stopping since RMSE has not improved in the last 30 epochs.\n",
      "[CV 3/3] END module__dropout_1=0.1, module__dropout_2=0.6, module__dropout_3=0.3, module__dropout_4=0.4, module__n_hidden_neurons_1=15, module__n_hidden_neurons_2=10, module__n_hidden_neurons_3=20, module__n_hidden_neurons_4=15, module__n_in_neurons=10, module__n_out_neurons=1; total time=   0.3s\n",
      "  epoch       RMSE      train_loss     valid_loss     dur\n",
      "-------  ---------  --------------  -------------  ------\n",
      "      1  \u001b[36m9803.6201\u001b[0m  \u001b[32m212832853.0526\u001b[0m  \u001b[35m96110960.0000\u001b[0m  0.0056\n",
      "      2  \u001b[36m9803.6104\u001b[0m  \u001b[32m212832777.2632\u001b[0m  \u001b[35m96110768.0000\u001b[0m  0.0053\n",
      "      3  \u001b[36m9803.6006\u001b[0m  \u001b[32m212832339.3684\u001b[0m  \u001b[35m96110576.0000\u001b[0m  0.0494\n",
      "      4  \u001b[36m9803.5889\u001b[0m  \u001b[32m212831889.6842\u001b[0m  \u001b[35m96110376.0000\u001b[0m  0.0051\n",
      "      5  \u001b[36m9803.5781\u001b[0m  \u001b[32m212831821.4737\u001b[0m  \u001b[35m96110144.0000\u001b[0m  0.0051\n",
      "      6  \u001b[36m9803.5674\u001b[0m  \u001b[32m212831617.6842\u001b[0m  \u001b[35m96109912.0000\u001b[0m  0.0046\n",
      "      7  \u001b[36m9803.5547\u001b[0m  \u001b[32m212831034.9474\u001b[0m  \u001b[35m96109680.0000\u001b[0m  0.0047\n",
      "      8  \u001b[36m9803.5420\u001b[0m  212831153.6842  \u001b[35m96109432.0000\u001b[0m  0.0045\n",
      "      9  \u001b[36m9803.5283\u001b[0m  \u001b[32m212830589.4737\u001b[0m  \u001b[35m96109168.0000\u001b[0m  0.0687\n",
      "     10  \u001b[36m9803.5146\u001b[0m  \u001b[32m212830064.0000\u001b[0m  \u001b[35m96108904.0000\u001b[0m  0.0046\n",
      "     11  \u001b[36m9803.4990\u001b[0m  212830073.2632  \u001b[35m96108600.0000\u001b[0m  0.0045\n",
      "     12  \u001b[36m9803.4834\u001b[0m  \u001b[32m212829466.1053\u001b[0m  \u001b[35m96108280.0000\u001b[0m  0.0046\n",
      "     13  \u001b[36m9803.4668\u001b[0m  \u001b[32m212829129.2632\u001b[0m  \u001b[35m96107944.0000\u001b[0m  0.0101\n",
      "     14  \u001b[36m9803.4492\u001b[0m  \u001b[32m212828923.7895\u001b[0m  \u001b[35m96107608.0000\u001b[0m  0.0678\n",
      "     15  \u001b[36m9803.4297\u001b[0m  \u001b[32m212828617.2632\u001b[0m  \u001b[35m96107240.0000\u001b[0m  0.0048\n",
      "     16  \u001b[36m9803.4092\u001b[0m  \u001b[32m212827900.6316\u001b[0m  \u001b[35m96106832.0000\u001b[0m  0.0048\n",
      "     17  \u001b[36m9803.3867\u001b[0m  \u001b[32m212827432.4211\u001b[0m  \u001b[35m96106384.0000\u001b[0m  0.0044\n",
      "     18  \u001b[36m9803.3613\u001b[0m  \u001b[32m212827071.1579\u001b[0m  \u001b[35m96105904.0000\u001b[0m  0.0050\n",
      "     19  \u001b[36m9803.3340\u001b[0m  \u001b[32m212825994.1053\u001b[0m  \u001b[35m96105360.0000\u001b[0m  0.0047\n",
      "     20  \u001b[36m9803.3027\u001b[0m  \u001b[32m212825193.2632\u001b[0m  \u001b[35m96104744.0000\u001b[0m  0.0059\n",
      "     21  \u001b[36m9803.2656\u001b[0m  \u001b[32m212824428.6316\u001b[0m  \u001b[35m96104024.0000\u001b[0m  0.0046\n",
      "     22  \u001b[36m9803.2266\u001b[0m  \u001b[32m212823992.4211\u001b[0m  \u001b[35m96103248.0000\u001b[0m  0.0047\n",
      "     23  \u001b[36m9803.1797\u001b[0m  \u001b[32m212820932.2105\u001b[0m  \u001b[35m96102320.0000\u001b[0m  0.0052\n",
      "     24  \u001b[36m9803.1289\u001b[0m  212822925.4737  \u001b[35m96101320.0000\u001b[0m  0.0712\n",
      "     25  \u001b[36m9803.0713\u001b[0m  \u001b[32m212820261.8947\u001b[0m  \u001b[35m96100208.0000\u001b[0m  0.0056\n",
      "     26  \u001b[36m9803.0068\u001b[0m  \u001b[32m212819754.9474\u001b[0m  \u001b[35m96098928.0000\u001b[0m  0.0048\n",
      "     27  \u001b[36m9802.9346\u001b[0m  \u001b[32m212817706.1053\u001b[0m  \u001b[35m96097520.0000\u001b[0m  0.0048\n",
      "     28  \u001b[36m9802.8525\u001b[0m  \u001b[32m212814741.8947\u001b[0m  \u001b[35m96095920.0000\u001b[0m  0.0046\n",
      "     29  \u001b[36m9802.7607\u001b[0m  \u001b[32m212812997.0526\u001b[0m  \u001b[35m96094120.0000\u001b[0m  0.0052\n",
      "     30  \u001b[36m9802.6572\u001b[0m  \u001b[32m212808926.3158\u001b[0m  \u001b[35m96092080.0000\u001b[0m  0.0057\n",
      "     31  \u001b[36m9802.5391\u001b[0m  \u001b[32m212807257.2632\u001b[0m  \u001b[35m96089776.0000\u001b[0m  0.0045\n",
      "     32  \u001b[36m9802.4062\u001b[0m  \u001b[32m212802501.8947\u001b[0m  \u001b[35m96087184.0000\u001b[0m  0.0049\n",
      "     33  \u001b[36m9802.2588\u001b[0m  \u001b[32m212800105.2632\u001b[0m  \u001b[35m96084264.0000\u001b[0m  0.0048\n",
      "     34  \u001b[36m9802.0908\u001b[0m  \u001b[32m212796500.2105\u001b[0m  \u001b[35m96080976.0000\u001b[0m  0.0046\n",
      "     35  \u001b[36m9801.9033\u001b[0m  \u001b[32m212794548.2105\u001b[0m  \u001b[35m96077304.0000\u001b[0m  0.0048\n",
      "     36  \u001b[36m9801.6904\u001b[0m  \u001b[32m212786078.3158\u001b[0m  \u001b[35m96073144.0000\u001b[0m  0.0658\n",
      "     37  \u001b[36m9801.4502\u001b[0m  \u001b[32m212782970.1053\u001b[0m  \u001b[35m96068432.0000\u001b[0m  0.0055\n",
      "     38  \u001b[36m9801.1816\u001b[0m  \u001b[32m212780129.6842\u001b[0m  \u001b[35m96063168.0000\u001b[0m  0.0070\n",
      "     39  \u001b[36m9800.8799\u001b[0m  \u001b[32m212769845.0526\u001b[0m  \u001b[35m96057248.0000\u001b[0m  0.0059\n",
      "     40  \u001b[36m9800.5420\u001b[0m  \u001b[32m212769136.0000\u001b[0m  \u001b[35m96050640.0000\u001b[0m  0.0058\n",
      "     41  \u001b[36m9800.1670\u001b[0m  \u001b[32m212758767.1579\u001b[0m  \u001b[35m96043264.0000\u001b[0m  0.0667\n",
      "     42  \u001b[36m9799.7432\u001b[0m  \u001b[32m212735848.4211\u001b[0m  \u001b[35m96034968.0000\u001b[0m  0.0052\n",
      "     43  \u001b[36m9799.2705\u001b[0m  212737353.2632  \u001b[35m96025712.0000\u001b[0m  0.0054\n",
      "     44  \u001b[36m9798.7393\u001b[0m  \u001b[32m212718920.4211\u001b[0m  \u001b[35m96015312.0000\u001b[0m  0.0054\n",
      "     45  \u001b[36m9798.1484\u001b[0m  \u001b[32m212709363.3684\u001b[0m  \u001b[35m96003704.0000\u001b[0m  0.0053\n",
      "     46  \u001b[36m9797.4883\u001b[0m  \u001b[32m212693076.2105\u001b[0m  \u001b[35m95990784.0000\u001b[0m  0.0687\n",
      "     47  \u001b[36m9796.7578\u001b[0m  \u001b[32m212687730.5263\u001b[0m  \u001b[35m95976464.0000\u001b[0m  0.0053\n",
      "     48  \u001b[36m9795.9521\u001b[0m  \u001b[32m212674697.2632\u001b[0m  \u001b[35m95960696.0000\u001b[0m  0.0052\n",
      "     49  \u001b[36m9795.0518\u001b[0m  \u001b[32m212626080.0000\u001b[0m  \u001b[35m95943032.0000\u001b[0m  0.0051\n",
      "     50  \u001b[36m9794.0488\u001b[0m  \u001b[32m212617299.3684\u001b[0m  \u001b[35m95923400.0000\u001b[0m  0.0734\n",
      "     51  \u001b[36m9792.9473\u001b[0m  212617692.6316  \u001b[35m95901808.0000\u001b[0m  0.0061\n",
      "     52  \u001b[36m9791.7324\u001b[0m  \u001b[32m212586410.9474\u001b[0m  \u001b[35m95878024.0000\u001b[0m  0.0045\n",
      "     53  \u001b[36m9790.3896\u001b[0m  \u001b[32m212551892.2105\u001b[0m  \u001b[35m95851720.0000\u001b[0m  0.0047\n",
      "     54  \u001b[36m9788.8896\u001b[0m  \u001b[32m212463031.5789\u001b[0m  \u001b[35m95822360.0000\u001b[0m  0.0047\n",
      "     55  \u001b[36m9787.2188\u001b[0m  \u001b[32m212437930.1053\u001b[0m  \u001b[35m95789648.0000\u001b[0m  0.0043\n",
      "     56  \u001b[36m9785.3740\u001b[0m  \u001b[32m212404223.1579\u001b[0m  \u001b[35m95753544.0000\u001b[0m  0.0058\n",
      "     57  \u001b[36m9783.3691\u001b[0m  212441294.3158  \u001b[35m95714304.0000\u001b[0m  0.0048\n",
      "     58  \u001b[36m9781.1689\u001b[0m  \u001b[32m212344135.5789\u001b[0m  \u001b[35m95671280.0000\u001b[0m  0.0045\n",
      "     59  \u001b[36m9778.7373\u001b[0m  \u001b[32m212263314.5263\u001b[0m  \u001b[35m95623704.0000\u001b[0m  0.0044\n",
      "     60  \u001b[36m9776.0498\u001b[0m  \u001b[32m212179858.5263\u001b[0m  \u001b[35m95571144.0000\u001b[0m  0.0043\n",
      "     61  \u001b[36m9773.0869\u001b[0m  \u001b[32m212149575.5789\u001b[0m  \u001b[35m95513232.0000\u001b[0m  0.0683\n",
      "     62  \u001b[36m9769.8135\u001b[0m  \u001b[32m212028048.8421\u001b[0m  \u001b[35m95449264.0000\u001b[0m  0.0049\n",
      "     63  \u001b[36m9766.2207\u001b[0m  \u001b[32m211993754.9474\u001b[0m  \u001b[35m95379072.0000\u001b[0m  0.0046\n",
      "     64  \u001b[36m9762.2969\u001b[0m  \u001b[32m211890720.0000\u001b[0m  \u001b[35m95302448.0000\u001b[0m  0.0045\n",
      "     65  \u001b[36m9758.0127\u001b[0m  \u001b[32m211805840.8421\u001b[0m  \u001b[35m95218816.0000\u001b[0m  0.0044\n",
      "     66  \u001b[36m9753.3359\u001b[0m  \u001b[32m211702016.0000\u001b[0m  \u001b[35m95127560.0000\u001b[0m  0.0713\n",
      "     67  \u001b[36m9748.2354\u001b[0m  \u001b[32m211612355.3684\u001b[0m  \u001b[35m95028096.0000\u001b[0m  0.0056\n",
      "     68  \u001b[36m9742.7246\u001b[0m  \u001b[32m211536781.4737\u001b[0m  \u001b[35m94920680.0000\u001b[0m  0.0053\n",
      "     69  \u001b[36m9736.7070\u001b[0m  \u001b[32m211309774.3158\u001b[0m  \u001b[35m94803440.0000\u001b[0m  0.0059\n",
      "     70  \u001b[36m9730.1133\u001b[0m  \u001b[32m211024552.4211\u001b[0m  \u001b[35m94675096.0000\u001b[0m  0.0054\n",
      "     71  \u001b[36m9723.0049\u001b[0m  211152194.5263  \u001b[35m94536832.0000\u001b[0m  0.0693\n",
      "     72  \u001b[36m9715.3311\u001b[0m  \u001b[32m210935777.6842\u001b[0m  \u001b[35m94387664.0000\u001b[0m  0.0057\n",
      "     73  \u001b[36m9706.9834\u001b[0m  \u001b[32m210540058.9474\u001b[0m  \u001b[35m94225544.0000\u001b[0m  0.0055\n",
      "     74  \u001b[36m9697.9443\u001b[0m  \u001b[32m210391412.2105\u001b[0m  \u001b[35m94050128.0000\u001b[0m  0.0052\n",
      "     75  \u001b[36m9688.1494\u001b[0m  \u001b[32m210245924.2105\u001b[0m  \u001b[35m93860248.0000\u001b[0m  0.0052\n",
      "     76  \u001b[36m9677.6611\u001b[0m  \u001b[32m210184874.1053\u001b[0m  \u001b[35m93657128.0000\u001b[0m  0.0688\n",
      "     77  \u001b[36m9666.4277\u001b[0m  \u001b[32m209958045.4737\u001b[0m  \u001b[35m93439824.0000\u001b[0m  0.0057\n",
      "     78  \u001b[36m9654.4053\u001b[0m  \u001b[32m209652490.9474\u001b[0m  \u001b[35m93207544.0000\u001b[0m  0.0052\n",
      "     79  \u001b[36m9641.4678\u001b[0m  \u001b[32m209300540.6316\u001b[0m  \u001b[35m92957912.0000\u001b[0m  0.0052\n",
      "     80  \u001b[36m9627.5879\u001b[0m  \u001b[32m209186370.5263\u001b[0m  \u001b[35m92690448.0000\u001b[0m  0.0056\n",
      "     81  \u001b[36m9612.6992\u001b[0m  \u001b[32m208622679.5789\u001b[0m  \u001b[35m92403992.0000\u001b[0m  0.0691\n",
      "     82  \u001b[36m9596.6572\u001b[0m  \u001b[32m208203228.6316\u001b[0m  \u001b[35m92095824.0000\u001b[0m  0.0048\n",
      "     83  \u001b[36m9579.5000\u001b[0m  \u001b[32m208003033.2632\u001b[0m  \u001b[35m91766824.0000\u001b[0m  0.0046\n",
      "     84  \u001b[36m9561.1934\u001b[0m  \u001b[32m207861123.3684\u001b[0m  \u001b[35m91416424.0000\u001b[0m  0.0045\n",
      "     85  \u001b[36m9541.6104\u001b[0m  \u001b[32m207104067.3684\u001b[0m  \u001b[35m91042328.0000\u001b[0m  0.0046\n",
      "     86  \u001b[36m9520.6455\u001b[0m  \u001b[32m206717521.6842\u001b[0m  \u001b[35m90642696.0000\u001b[0m  0.0710\n",
      "     87  \u001b[36m9498.2861\u001b[0m  \u001b[32m205699744.0000\u001b[0m  \u001b[35m90217424.0000\u001b[0m  0.0063\n",
      "     88  \u001b[36m9474.3398\u001b[0m  205730484.2105  \u001b[35m89763104.0000\u001b[0m  0.0054\n",
      "     89  \u001b[36m9448.6729\u001b[0m  \u001b[32m204442390.7368\u001b[0m  \u001b[35m89277432.0000\u001b[0m  0.0056\n",
      "     90  \u001b[36m9421.5264\u001b[0m  204782805.8947  \u001b[35m88765168.0000\u001b[0m  0.0053\n",
      "     91  \u001b[36m9392.7227\u001b[0m  \u001b[32m203788469.0526\u001b[0m  \u001b[35m88223256.0000\u001b[0m  0.0052\n",
      "     92  \u001b[36m9362.0498\u001b[0m  \u001b[32m203023333.8947\u001b[0m  \u001b[35m87647976.0000\u001b[0m  0.0062\n",
      "     93  \u001b[36m9329.3740\u001b[0m  \u001b[32m202153508.2105\u001b[0m  \u001b[35m87037224.0000\u001b[0m  0.0066\n",
      "     94  \u001b[36m9294.9883\u001b[0m  202269148.6316  \u001b[35m86396816.0000\u001b[0m  0.0063\n",
      "     95  \u001b[36m9258.5957\u001b[0m  \u001b[32m200719626.1053\u001b[0m  \u001b[35m85721592.0000\u001b[0m  0.0064\n",
      "     96  \u001b[36m9220.4023\u001b[0m  201411113.2632  \u001b[35m85015816.0000\u001b[0m  0.0689\n",
      "     97  \u001b[36m9179.8311\u001b[0m  \u001b[32m198490623.1579\u001b[0m  \u001b[35m84269296.0000\u001b[0m  0.0086\n",
      "     98  \u001b[36m9136.9795\u001b[0m  \u001b[32m198372116.2105\u001b[0m  \u001b[35m83484400.0000\u001b[0m  0.0073\n",
      "     99  \u001b[36m9091.9561\u001b[0m  \u001b[32m197417773.4737\u001b[0m  \u001b[35m82663680.0000\u001b[0m  0.0063\n",
      "    100  \u001b[36m9044.4883\u001b[0m  \u001b[32m195985538.5263\u001b[0m  \u001b[35m81802768.0000\u001b[0m  0.0067\n",
      "    101  \u001b[36m8994.0996\u001b[0m  \u001b[32m194015103.1579\u001b[0m  \u001b[35m80893832.0000\u001b[0m  0.0081\n",
      "    102  \u001b[36m8941.2070\u001b[0m  194666805.8947  \u001b[35m79945176.0000\u001b[0m  0.0066\n",
      "    103  \u001b[36m8885.3516\u001b[0m  \u001b[32m191393973.0526\u001b[0m  \u001b[35m78949480.0000\u001b[0m  0.0062\n",
      "    104  \u001b[36m8826.5586\u001b[0m  \u001b[32m191055891.3684\u001b[0m  \u001b[35m77908128.0000\u001b[0m  0.0072\n",
      "    105  \u001b[36m8765.3037\u001b[0m  191339753.2632  \u001b[35m76830544.0000\u001b[0m  0.0646\n",
      "    106  \u001b[36m8701.4531\u001b[0m  \u001b[32m189131845.8947\u001b[0m  \u001b[35m75715288.0000\u001b[0m  0.0055\n",
      "    107  \u001b[36m8634.1885\u001b[0m  \u001b[32m184896135.5789\u001b[0m  \u001b[35m74549216.0000\u001b[0m  0.0056\n",
      "    108  \u001b[36m8564.1016\u001b[0m  187401830.7368  \u001b[35m73343840.0000\u001b[0m  0.0051\n",
      "    109  \u001b[36m8491.1084\u001b[0m  \u001b[32m183795876.2105\u001b[0m  \u001b[35m72098920.0000\u001b[0m  0.0050\n",
      "    110  \u001b[36m8414.9053\u001b[0m  \u001b[32m181159846.7368\u001b[0m  \u001b[35m70810624.0000\u001b[0m  0.0062\n",
      "    111  \u001b[36m8334.9863\u001b[0m  \u001b[32m178197659.7895\u001b[0m  \u001b[35m69472000.0000\u001b[0m  0.0047\n",
      "    112  \u001b[36m8251.2051\u001b[0m  \u001b[32m176008203.7895\u001b[0m  \u001b[35m68082376.0000\u001b[0m  0.0046\n",
      "    113  \u001b[36m8164.7246\u001b[0m  176229342.3158  \u001b[35m66662720.0000\u001b[0m  0.0043\n",
      "    114  \u001b[36m8073.9902\u001b[0m  \u001b[32m170663681.6842\u001b[0m  \u001b[35m65189320.0000\u001b[0m  0.0043\n",
      "    115  \u001b[36m7981.6143\u001b[0m  178789665.6842  \u001b[35m63706164.0000\u001b[0m  0.0702\n",
      "    116  \u001b[36m7887.5547\u001b[0m  \u001b[32m170416350.3158\u001b[0m  \u001b[35m62213516.0000\u001b[0m  0.0047\n",
      "    117  \u001b[36m7791.2554\u001b[0m  174171906.5263  \u001b[35m60703656.0000\u001b[0m  0.0045\n",
      "    118  \u001b[36m7694.1333\u001b[0m  173217973.0526  \u001b[35m59199692.0000\u001b[0m  0.0046\n",
      "    119  \u001b[36m7594.2705\u001b[0m  \u001b[32m166807149.4737\u001b[0m  \u001b[35m57672940.0000\u001b[0m  0.0046\n",
      "    120  \u001b[36m7491.3208\u001b[0m  \u001b[32m163109184.8421\u001b[0m  \u001b[35m56119884.0000\u001b[0m  0.0046\n",
      "    121  \u001b[36m7385.1123\u001b[0m  \u001b[32m162276694.7368\u001b[0m  \u001b[35m54539892.0000\u001b[0m  0.0676\n",
      "    122  \u001b[36m7276.9053\u001b[0m  \u001b[32m161673308.6316\u001b[0m  \u001b[35m52953352.0000\u001b[0m  0.0049\n",
      "    123  \u001b[36m7166.6177\u001b[0m  \u001b[32m157130618.1053\u001b[0m  \u001b[35m51360416.0000\u001b[0m  0.0045\n",
      "    124  \u001b[36m7054.7646\u001b[0m  159191297.6842  \u001b[35m49769704.0000\u001b[0m  0.0044\n",
      "    125  \u001b[36m6940.9360\u001b[0m  \u001b[32m152365680.8421\u001b[0m  \u001b[35m48176596.0000\u001b[0m  0.0051\n",
      "    126  \u001b[36m6825.2856\u001b[0m  154028601.2632  \u001b[35m46584520.0000\u001b[0m  0.0052\n",
      "    127  \u001b[36m6708.6938\u001b[0m  \u001b[32m150325384.4211\u001b[0m  \u001b[35m45006576.0000\u001b[0m  0.0053\n",
      "    128  \u001b[36m6592.1870\u001b[0m  151704312.4211  \u001b[35m43456936.0000\u001b[0m  0.0051\n",
      "    129  \u001b[36m6475.5010\u001b[0m  \u001b[32m142486141.8947\u001b[0m  \u001b[35m41932116.0000\u001b[0m  0.0052\n",
      "    130  \u001b[36m6357.8784\u001b[0m  \u001b[32m138540407.5789\u001b[0m  \u001b[35m40422616.0000\u001b[0m  0.0053\n",
      "    131  \u001b[36m6240.3853\u001b[0m  \u001b[32m135620416.0000\u001b[0m  \u001b[35m38942408.0000\u001b[0m  0.0050\n",
      "    132  \u001b[36m6122.1104\u001b[0m  \u001b[32m130889182.3158\u001b[0m  \u001b[35m37480240.0000\u001b[0m  0.0709\n",
      "    133  \u001b[36m6005.2822\u001b[0m  136129242.9474  \u001b[35m36063408.0000\u001b[0m  0.0054\n",
      "    134  \u001b[36m5891.1772\u001b[0m  132939365.0526  \u001b[35m34705972.0000\u001b[0m  0.0049\n",
      "    135  \u001b[36m5777.8296\u001b[0m  \u001b[32m123653397.8947\u001b[0m  \u001b[35m33383318.0000\u001b[0m  0.0044\n",
      "    136  \u001b[36m5664.6831\u001b[0m  \u001b[32m117403680.8421\u001b[0m  \u001b[35m32088630.0000\u001b[0m  0.0111\n",
      "    137  \u001b[36m5555.0723\u001b[0m  120529584.4211  \u001b[35m30858828.0000\u001b[0m  0.0633\n",
      "    138  \u001b[36m5452.0078\u001b[0m  129580227.3684  \u001b[35m29724388.0000\u001b[0m  0.0055\n",
      "    139  \u001b[36m5355.6943\u001b[0m  123327907.7895  \u001b[35m28683460.0000\u001b[0m  0.0045\n",
      "    140  \u001b[36m5265.0728\u001b[0m  \u001b[32m106589982.3158\u001b[0m  \u001b[35m27720992.0000\u001b[0m  0.0045\n",
      "    141  \u001b[36m5180.8477\u001b[0m  112884690.1053  \u001b[35m26841184.0000\u001b[0m  0.0045\n",
      "    142  \u001b[36m5104.3125\u001b[0m  109998704.8421  \u001b[35m26054004.0000\u001b[0m  0.0714\n",
      "    143  \u001b[36m5035.3438\u001b[0m  114335695.1579  \u001b[35m25354688.0000\u001b[0m  0.0053\n",
      "    144  \u001b[36m4973.2617\u001b[0m  \u001b[32m98177049.6842\u001b[0m  \u001b[35m24733330.0000\u001b[0m  0.0046\n",
      "    145  \u001b[36m4919.4038\u001b[0m  112560992.4211  \u001b[35m24200530.0000\u001b[0m  0.0045\n",
      "    146  \u001b[36m4873.6284\u001b[0m  108156416.4211  \u001b[35m23752254.0000\u001b[0m  0.0042\n",
      "    147  \u001b[36m4836.6382\u001b[0m  105221883.7895  \u001b[35m23393068.0000\u001b[0m  0.0045\n",
      "    148  \u001b[36m4808.3623\u001b[0m  99512134.7368  \u001b[35m23120344.0000\u001b[0m  0.0063\n",
      "    149  \u001b[36m4787.2642\u001b[0m  121237423.1579  \u001b[35m22917898.0000\u001b[0m  0.0045\n",
      "    150  \u001b[36m4770.5088\u001b[0m  106788125.4737  \u001b[35m22757754.0000\u001b[0m  0.0045\n",
      "    151  \u001b[36m4759.2202\u001b[0m  103211445.0526  \u001b[35m22650176.0000\u001b[0m  0.0047\n",
      "    152  \u001b[36m4750.3862\u001b[0m  111658653.4737  \u001b[35m22566170.0000\u001b[0m  0.0045\n",
      "    153  \u001b[36m4746.3184\u001b[0m  103994637.0526  \u001b[35m22527542.0000\u001b[0m  0.0686\n",
      "    154  4749.0537  98815671.5789  22553508.0000  0.0048\n",
      "    155  4754.4453  \u001b[32m93228531.7895\u001b[0m  22604746.0000  0.0048\n",
      "    156  4760.8994  103229804.6316  22666162.0000  0.0044\n",
      "    157  4765.9600  104428129.6842  22714374.0000  0.0045\n",
      "    158  4774.4741  93923050.5263  22795604.0000  0.0045\n",
      "    159  4784.3862  100086928.4211  22890348.0000  0.0049\n",
      "    160  4790.9429  104157458.5263  22953138.0000  0.0046\n",
      "    161  4790.0547  113687089.6842  22944628.0000  0.0044\n",
      "    162  4787.2578  97871325.0526  22917834.0000  0.0044\n",
      "    163  4789.4570  \u001b[32m88330083.3684\u001b[0m  22938900.0000  0.0046\n",
      "    164  4775.9717  110582624.8421  22809904.0000  0.0711\n",
      "    165  4767.1182  \u001b[32m80597172.8421\u001b[0m  22725416.0000  0.0051\n",
      "    166  4769.4302  85522618.5263  22747462.0000  0.0042\n",
      "    167  4785.3833  \u001b[32m76779320.0000\u001b[0m  22899890.0000  0.0045\n",
      "    168  4809.9385  82244445.0526  23135506.0000  0.0046\n",
      "    169  4835.5845  87052921.2632  23382878.0000  0.0042\n",
      "    170  4857.3506  97001686.7368  23593856.0000  0.0056\n",
      "    171  4858.2866  101377512.4211  23602948.0000  0.0048\n",
      "    172  4859.6807  93217133.8947  23616494.0000  0.0044\n",
      "    173  4860.8540  \u001b[32m74480092.6316\u001b[0m  23627900.0000  0.0050\n",
      "    174  4867.4854  82626161.6842  23692416.0000  0.0047\n",
      "    175  4871.9844  88536233.2632  23736228.0000  0.0691\n",
      "    176  4869.8755  87897728.0000  23715690.0000  0.0050\n",
      "    177  4863.0161  92684254.7368  23648922.0000  0.0044\n",
      "    178  4858.8970  85520528.8421  23608882.0000  0.0045\n",
      "    179  4862.1562  78660640.4211  23640564.0000  0.0043\n",
      "    180  4869.8350  90805784.8421  23715294.0000  0.0044\n",
      "    181  4881.8403  \u001b[32m72914699.7895\u001b[0m  23832364.0000  0.0053\n",
      "    182  4881.1001  97739275.3684  23825140.0000  0.0045\n",
      "Stopping since RMSE has not improved in the last 30 epochs.\n",
      "[CV 1/3] END module__dropout_1=0.1, module__dropout_2=0.3, module__dropout_3=0.3, module__dropout_4=0.1, module__n_hidden_neurons_1=15, module__n_hidden_neurons_2=20, module__n_hidden_neurons_3=10, module__n_hidden_neurons_4=25, module__n_in_neurons=10, module__n_out_neurons=1; total time=   3.5s\n",
      "  epoch        RMSE      train_loss      valid_loss     dur\n",
      "-------  ----------  --------------  --------------  ------\n",
      "      1  \u001b[36m12363.3096\u001b[0m  \u001b[32m233579141.8947\u001b[0m  \u001b[35m152851408.0000\u001b[0m  0.0041\n",
      "      2  \u001b[36m12363.2979\u001b[0m  \u001b[32m233578945.6842\u001b[0m  \u001b[35m152851152.0000\u001b[0m  0.0044\n",
      "      3  \u001b[36m12363.2871\u001b[0m  \u001b[32m233578615.5789\u001b[0m  \u001b[35m152850896.0000\u001b[0m  0.0053\n",
      "      4  \u001b[36m12363.2783\u001b[0m  \u001b[32m233578238.3158\u001b[0m  \u001b[35m152850640.0000\u001b[0m  0.0046\n",
      "      5  \u001b[36m12363.2656\u001b[0m  \u001b[32m233577882.9474\u001b[0m  \u001b[35m152850336.0000\u001b[0m  0.0045\n",
      "      6  \u001b[36m12363.2549\u001b[0m  \u001b[32m233577586.5263\u001b[0m  \u001b[35m152850080.0000\u001b[0m  0.0043\n",
      "      7  \u001b[36m12363.2422\u001b[0m  \u001b[32m233577492.2105\u001b[0m  \u001b[35m152849760.0000\u001b[0m  0.0047\n",
      "      8  \u001b[36m12363.2295\u001b[0m  \u001b[32m233577374.3158\u001b[0m  \u001b[35m152849440.0000\u001b[0m  0.0732\n",
      "      9  \u001b[36m12363.2168\u001b[0m  \u001b[32m233576488.4211\u001b[0m  \u001b[35m152849120.0000\u001b[0m  0.0158\n",
      "     10  \u001b[36m12363.2021\u001b[0m  \u001b[32m233576340.2105\u001b[0m  \u001b[35m152848784.0000\u001b[0m  0.0060\n",
      "     11  \u001b[36m12363.1875\u001b[0m  \u001b[32m233575763.3684\u001b[0m  \u001b[35m152848432.0000\u001b[0m  0.0060\n",
      "     12  \u001b[36m12363.1729\u001b[0m  \u001b[32m233575609.2632\u001b[0m  \u001b[35m152848048.0000\u001b[0m  0.0597\n",
      "     13  \u001b[36m12363.1582\u001b[0m  \u001b[32m233575208.4211\u001b[0m  \u001b[35m152847680.0000\u001b[0m  0.0058\n",
      "     14  \u001b[36m12363.1396\u001b[0m  \u001b[32m233574899.3684\u001b[0m  \u001b[35m152847248.0000\u001b[0m  0.0053\n",
      "     15  \u001b[36m12363.1230\u001b[0m  \u001b[32m233574317.4737\u001b[0m  \u001b[35m152846800.0000\u001b[0m  0.0053\n",
      "     16  \u001b[36m12363.1035\u001b[0m  \u001b[32m233573984.0000\u001b[0m  \u001b[35m152846320.0000\u001b[0m  0.0110\n",
      "     17  \u001b[36m12363.0820\u001b[0m  \u001b[32m233573411.3684\u001b[0m  \u001b[35m152845808.0000\u001b[0m  0.0651\n",
      "     18  \u001b[36m12363.0605\u001b[0m  \u001b[32m233572784.0000\u001b[0m  \u001b[35m152845264.0000\u001b[0m  0.0056\n",
      "     19  \u001b[36m12363.0352\u001b[0m  \u001b[32m233572572.6316\u001b[0m  \u001b[35m152844656.0000\u001b[0m  0.0052\n",
      "     20  \u001b[36m12363.0098\u001b[0m  \u001b[32m233571882.9474\u001b[0m  \u001b[35m152844000.0000\u001b[0m  0.0062\n",
      "     21  \u001b[36m12362.9805\u001b[0m  \u001b[32m233570195.3684\u001b[0m  \u001b[35m152843296.0000\u001b[0m  0.0060\n",
      "     22  \u001b[36m12362.9492\u001b[0m  \u001b[32m233569882.9474\u001b[0m  \u001b[35m152842496.0000\u001b[0m  0.0061\n",
      "     23  \u001b[36m12362.9150\u001b[0m  \u001b[32m233568861.4737\u001b[0m  \u001b[35m152841664.0000\u001b[0m  0.0053\n",
      "     24  \u001b[36m12362.8750\u001b[0m  \u001b[32m233567907.3684\u001b[0m  \u001b[35m152840704.0000\u001b[0m  0.0051\n",
      "     25  \u001b[36m12362.8330\u001b[0m  \u001b[32m233567600.8421\u001b[0m  \u001b[35m152839632.0000\u001b[0m  0.0050\n",
      "     26  \u001b[36m12362.7852\u001b[0m  \u001b[32m233566106.1053\u001b[0m  \u001b[35m152838448.0000\u001b[0m  0.0047\n",
      "     27  \u001b[36m12362.7324\u001b[0m  \u001b[32m233562639.1579\u001b[0m  \u001b[35m152837152.0000\u001b[0m  0.0686\n",
      "     28  \u001b[36m12362.6729\u001b[0m  233563139.3684  \u001b[35m152835680.0000\u001b[0m  0.0053\n",
      "     29  \u001b[36m12362.6045\u001b[0m  \u001b[32m233560292.2105\u001b[0m  \u001b[35m152834000.0000\u001b[0m  0.0052\n",
      "     30  \u001b[36m12362.5273\u001b[0m  233561494.7368  \u001b[35m152832080.0000\u001b[0m  0.0051\n",
      "Stopping since RMSE has not improved in the last 30 epochs.\n",
      "[CV 2/3] END module__dropout_1=0.1, module__dropout_2=0.3, module__dropout_3=0.3, module__dropout_4=0.1, module__n_hidden_neurons_1=15, module__n_hidden_neurons_2=20, module__n_hidden_neurons_3=10, module__n_hidden_neurons_4=25, module__n_in_neurons=10, module__n_out_neurons=1; total time=   0.6s\n",
      "  epoch        RMSE      train_loss      valid_loss     dur\n",
      "-------  ----------  --------------  --------------  ------\n",
      "      1  \u001b[36m12363.2607\u001b[0m  \u001b[32m189220648.4211\u001b[0m  \u001b[35m152850224.0000\u001b[0m  0.0635\n",
      "      2  \u001b[36m12363.2471\u001b[0m  \u001b[32m189220163.3684\u001b[0m  \u001b[35m152849888.0000\u001b[0m  0.0053\n",
      "      3  \u001b[36m12363.2334\u001b[0m  \u001b[32m189219684.2105\u001b[0m  \u001b[35m152849552.0000\u001b[0m  0.0052\n",
      "      4  \u001b[36m12363.2188\u001b[0m  \u001b[32m189219378.5263\u001b[0m  \u001b[35m152849184.0000\u001b[0m  0.0049\n",
      "      5  \u001b[36m12363.2051\u001b[0m  \u001b[32m189219291.7895\u001b[0m  \u001b[35m152848816.0000\u001b[0m  0.0052\n",
      "      6  \u001b[36m12363.1895\u001b[0m  \u001b[32m189219002.9474\u001b[0m  \u001b[35m152848448.0000\u001b[0m  0.0703\n",
      "      7  \u001b[36m12363.1748\u001b[0m  \u001b[32m189218392.4211\u001b[0m  \u001b[35m152848080.0000\u001b[0m  0.0049\n",
      "      8  \u001b[36m12363.1592\u001b[0m  \u001b[32m189218122.9474\u001b[0m  \u001b[35m152847712.0000\u001b[0m  0.0048\n",
      "      9  \u001b[36m12363.1436\u001b[0m  \u001b[32m189217647.1579\u001b[0m  \u001b[35m152847328.0000\u001b[0m  0.0045\n",
      "     10  \u001b[36m12363.1279\u001b[0m  \u001b[32m189217333.8947\u001b[0m  \u001b[35m152846944.0000\u001b[0m  0.0048\n",
      "     11  \u001b[36m12363.1133\u001b[0m  \u001b[32m189216922.9474\u001b[0m  \u001b[35m152846544.0000\u001b[0m  0.0049\n",
      "     12  \u001b[36m12363.0947\u001b[0m  \u001b[32m189216048.8421\u001b[0m  \u001b[35m152846144.0000\u001b[0m  0.0054\n",
      "     13  \u001b[36m12363.0771\u001b[0m  189216118.7368  \u001b[35m152845696.0000\u001b[0m  0.0048\n",
      "     14  \u001b[36m12363.0596\u001b[0m  \u001b[32m189215450.1053\u001b[0m  \u001b[35m152845216.0000\u001b[0m  0.0048\n",
      "     15  \u001b[36m12363.0400\u001b[0m  \u001b[32m189214810.1053\u001b[0m  \u001b[35m152844752.0000\u001b[0m  0.0045\n",
      "     16  \u001b[36m12363.0186\u001b[0m  \u001b[32m189214216.4211\u001b[0m  \u001b[35m152844224.0000\u001b[0m  0.0047\n",
      "     17  \u001b[36m12362.9961\u001b[0m  \u001b[32m189213923.3684\u001b[0m  \u001b[35m152843664.0000\u001b[0m  0.0687\n",
      "     18  \u001b[36m12362.9727\u001b[0m  \u001b[32m189213318.7368\u001b[0m  \u001b[35m152843088.0000\u001b[0m  0.0047\n",
      "     19  \u001b[36m12362.9463\u001b[0m  189213499.7895  \u001b[35m152842448.0000\u001b[0m  0.0044\n",
      "     20  \u001b[36m12362.9180\u001b[0m  \u001b[32m189212096.8421\u001b[0m  \u001b[35m152841760.0000\u001b[0m  0.0046\n",
      "     21  \u001b[36m12362.8896\u001b[0m  \u001b[32m189210472.4211\u001b[0m  \u001b[35m152841024.0000\u001b[0m  0.0049\n",
      "     22  \u001b[36m12362.8555\u001b[0m  \u001b[32m189210265.2632\u001b[0m  \u001b[35m152840208.0000\u001b[0m  0.0044\n",
      "     23  \u001b[36m12362.8203\u001b[0m  \u001b[32m189209520.0000\u001b[0m  \u001b[35m152839328.0000\u001b[0m  0.0052\n",
      "     24  \u001b[36m12362.7793\u001b[0m  \u001b[32m189208040.4211\u001b[0m  \u001b[35m152838336.0000\u001b[0m  0.0045\n",
      "     25  \u001b[36m12362.7373\u001b[0m  \u001b[32m189206802.5263\u001b[0m  \u001b[35m152837264.0000\u001b[0m  0.0041\n",
      "     26  \u001b[36m12362.6885\u001b[0m  \u001b[32m189206710.7368\u001b[0m  \u001b[35m152836064.0000\u001b[0m  0.0044\n",
      "     27  \u001b[36m12362.6357\u001b[0m  \u001b[32m189203753.2632\u001b[0m  \u001b[35m152834752.0000\u001b[0m  0.0107\n",
      "     28  \u001b[36m12362.5762\u001b[0m  \u001b[32m189203096.4211\u001b[0m  \u001b[35m152833296.0000\u001b[0m  0.0633\n",
      "     29  \u001b[36m12362.5107\u001b[0m  \u001b[32m189201739.7895\u001b[0m  \u001b[35m152831680.0000\u001b[0m  0.0047\n",
      "     30  \u001b[36m12362.4395\u001b[0m  \u001b[32m189200042.9474\u001b[0m  \u001b[35m152829920.0000\u001b[0m  0.0043\n",
      "Stopping since RMSE has not improved in the last 30 epochs.\n",
      "[CV 3/3] END module__dropout_1=0.1, module__dropout_2=0.3, module__dropout_3=0.3, module__dropout_4=0.1, module__n_hidden_neurons_1=15, module__n_hidden_neurons_2=20, module__n_hidden_neurons_3=10, module__n_hidden_neurons_4=25, module__n_in_neurons=10, module__n_out_neurons=1; total time=   0.6s\n",
      "  epoch       RMSE      train_loss     valid_loss     dur\n",
      "-------  ---------  --------------  -------------  ------\n",
      "      1  \u001b[36m9803.3857\u001b[0m  \u001b[32m212827084.6316\u001b[0m  \u001b[35m96106368.0000\u001b[0m  0.0048\n",
      "      2  \u001b[36m9803.3799\u001b[0m  \u001b[32m212826805.8947\u001b[0m  \u001b[35m96106264.0000\u001b[0m  0.0043\n",
      "      3  \u001b[36m9803.3760\u001b[0m  \u001b[32m212826580.2105\u001b[0m  \u001b[35m96106168.0000\u001b[0m  0.0043\n",
      "      4  \u001b[36m9803.3711\u001b[0m  \u001b[32m212826407.5789\u001b[0m  \u001b[35m96106088.0000\u001b[0m  0.0594\n",
      "      5  \u001b[36m9803.3672\u001b[0m  \u001b[32m212826186.9474\u001b[0m  \u001b[35m96106008.0000\u001b[0m  0.0042\n",
      "      6  \u001b[36m9803.3623\u001b[0m  \u001b[32m212826179.3684\u001b[0m  \u001b[35m96105920.0000\u001b[0m  0.0042\n",
      "      7  \u001b[36m9803.3584\u001b[0m  \u001b[32m212825984.0000\u001b[0m  \u001b[35m96105840.0000\u001b[0m  0.0045\n",
      "      8  \u001b[36m9803.3545\u001b[0m  \u001b[32m212825861.0526\u001b[0m  \u001b[35m96105752.0000\u001b[0m  0.0042\n",
      "      9  \u001b[36m9803.3496\u001b[0m  \u001b[32m212825653.8947\u001b[0m  \u001b[35m96105664.0000\u001b[0m  0.0041\n",
      "     10  \u001b[36m9803.3457\u001b[0m  \u001b[32m212825495.5789\u001b[0m  \u001b[35m96105592.0000\u001b[0m  0.0043\n",
      "     11  \u001b[36m9803.3408\u001b[0m  \u001b[32m212825445.8947\u001b[0m  \u001b[35m96105504.0000\u001b[0m  0.0046\n",
      "     12  \u001b[36m9803.3369\u001b[0m  \u001b[32m212825329.6842\u001b[0m  \u001b[35m96105424.0000\u001b[0m  0.0056\n",
      "     13  \u001b[36m9803.3330\u001b[0m  \u001b[32m212825200.0000\u001b[0m  \u001b[35m96105328.0000\u001b[0m  0.0058\n",
      "     14  \u001b[36m9803.3281\u001b[0m  212825285.0526  \u001b[35m96105240.0000\u001b[0m  0.0059\n",
      "     15  \u001b[36m9803.3232\u001b[0m  \u001b[32m212824856.4211\u001b[0m  \u001b[35m96105160.0000\u001b[0m  0.0042\n",
      "     16  \u001b[36m9803.3193\u001b[0m  212824881.6842  \u001b[35m96105072.0000\u001b[0m  0.0039\n",
      "     17  \u001b[36m9803.3145\u001b[0m  \u001b[32m212824682.1053\u001b[0m  \u001b[35m96104976.0000\u001b[0m  0.0045\n",
      "     18  \u001b[36m9803.3096\u001b[0m  \u001b[32m212824592.8421\u001b[0m  \u001b[35m96104888.0000\u001b[0m  0.0043\n",
      "     19  \u001b[36m9803.3047\u001b[0m  \u001b[32m212824377.2632\u001b[0m  \u001b[35m96104784.0000\u001b[0m  0.0040\n",
      "     20  \u001b[36m9803.2998\u001b[0m  212824450.5263  \u001b[35m96104688.0000\u001b[0m  0.0040\n",
      "     21  \u001b[36m9803.2949\u001b[0m  \u001b[32m212824282.9474\u001b[0m  \u001b[35m96104592.0000\u001b[0m  0.0040\n",
      "     22  \u001b[36m9803.2900\u001b[0m  \u001b[32m212823990.7368\u001b[0m  \u001b[35m96104480.0000\u001b[0m  0.0042\n",
      "     23  \u001b[36m9803.2832\u001b[0m  \u001b[32m212823760.8421\u001b[0m  \u001b[35m96104368.0000\u001b[0m  0.0044\n",
      "     24  \u001b[36m9803.2773\u001b[0m  \u001b[32m212823637.0526\u001b[0m  \u001b[35m96104248.0000\u001b[0m  0.0050\n",
      "     25  \u001b[36m9803.2715\u001b[0m  \u001b[32m212823517.4737\u001b[0m  \u001b[35m96104136.0000\u001b[0m  0.0038\n",
      "     26  \u001b[36m9803.2646\u001b[0m  \u001b[32m212823239.5789\u001b[0m  \u001b[35m96104008.0000\u001b[0m  0.0040\n",
      "     27  \u001b[36m9803.2578\u001b[0m  212823321.2632  \u001b[35m96103872.0000\u001b[0m  0.0043\n",
      "     28  \u001b[36m9803.2500\u001b[0m  \u001b[32m212822661.8947\u001b[0m  \u001b[35m96103720.0000\u001b[0m  0.0049\n",
      "     29  \u001b[36m9803.2432\u001b[0m  212822773.0526  \u001b[35m96103568.0000\u001b[0m  0.0044\n",
      "     30  \u001b[36m9803.2344\u001b[0m  212822829.4737  \u001b[35m96103408.0000\u001b[0m  0.0045\n",
      "Stopping since RMSE has not improved in the last 30 epochs.\n",
      "[CV 1/3] END module__dropout_1=0.5, module__dropout_2=0.4, module__dropout_3=0.3, module__dropout_4=0.1, module__n_hidden_neurons_1=20, module__n_hidden_neurons_2=15, module__n_hidden_neurons_3=15, module__n_hidden_neurons_4=10, module__n_in_neurons=10, module__n_out_neurons=1; total time=   0.3s\n",
      "  epoch        RMSE      train_loss      valid_loss     dur\n",
      "-------  ----------  --------------  --------------  ------\n",
      "      1  \u001b[36m12363.6357\u001b[0m  \u001b[32m233588489.2632\u001b[0m  \u001b[35m152859488.0000\u001b[0m  0.0048\n",
      "      2  \u001b[36m12363.6270\u001b[0m  \u001b[32m233588418.5263\u001b[0m  \u001b[35m152859264.0000\u001b[0m  0.0047\n",
      "      3  \u001b[36m12363.6182\u001b[0m  \u001b[32m233588145.6842\u001b[0m  \u001b[35m152859040.0000\u001b[0m  0.0047\n",
      "      4  \u001b[36m12363.6094\u001b[0m  \u001b[32m233587937.6842\u001b[0m  \u001b[35m152858832.0000\u001b[0m  0.0053\n",
      "      5  \u001b[36m12363.6016\u001b[0m  \u001b[32m233587888.8421\u001b[0m  \u001b[35m152858624.0000\u001b[0m  0.0048\n",
      "      6  \u001b[36m12363.5928\u001b[0m  \u001b[32m233587557.8947\u001b[0m  \u001b[35m152858416.0000\u001b[0m  0.0044\n",
      "      7  \u001b[36m12363.5840\u001b[0m  \u001b[32m233586982.7368\u001b[0m  \u001b[35m152858192.0000\u001b[0m  0.0047\n",
      "      8  \u001b[36m12363.5752\u001b[0m  233587425.6842  \u001b[35m152857984.0000\u001b[0m  0.0044\n",
      "      9  \u001b[36m12363.5654\u001b[0m  \u001b[32m233586944.8421\u001b[0m  \u001b[35m152857760.0000\u001b[0m  0.0040\n",
      "     10  \u001b[36m12363.5576\u001b[0m  \u001b[32m233586595.3684\u001b[0m  \u001b[35m152857568.0000\u001b[0m  0.0042\n",
      "     11  \u001b[36m12363.5498\u001b[0m  \u001b[32m233586201.2632\u001b[0m  \u001b[35m152857344.0000\u001b[0m  0.0277\n",
      "     12  \u001b[36m12363.5400\u001b[0m  \u001b[32m233585880.4211\u001b[0m  \u001b[35m152857120.0000\u001b[0m  0.0043\n",
      "     13  \u001b[36m12363.5293\u001b[0m  \u001b[32m233585864.4211\u001b[0m  \u001b[35m152856880.0000\u001b[0m  0.0042\n",
      "     14  \u001b[36m12363.5215\u001b[0m  233585874.5263  \u001b[35m152856672.0000\u001b[0m  0.0042\n",
      "     15  \u001b[36m12363.5107\u001b[0m  \u001b[32m233584882.5263\u001b[0m  \u001b[35m152856416.0000\u001b[0m  0.0041\n",
      "     16  \u001b[36m12363.5010\u001b[0m  \u001b[32m233584761.2632\u001b[0m  \u001b[35m152856160.0000\u001b[0m  0.0042\n",
      "     17  \u001b[36m12363.4912\u001b[0m  \u001b[32m233584506.1053\u001b[0m  \u001b[35m152855904.0000\u001b[0m  0.0043\n",
      "     18  \u001b[36m12363.4805\u001b[0m  233584707.3684  \u001b[35m152855648.0000\u001b[0m  0.0045\n",
      "     19  \u001b[36m12363.4697\u001b[0m  \u001b[32m233584225.6842\u001b[0m  \u001b[35m152855392.0000\u001b[0m  0.0049\n",
      "     20  \u001b[36m12363.4580\u001b[0m  \u001b[32m233583686.7368\u001b[0m  \u001b[35m152855088.0000\u001b[0m  0.0050\n",
      "     21  \u001b[36m12363.4453\u001b[0m  \u001b[32m233582933.0526\u001b[0m  \u001b[35m152854784.0000\u001b[0m  0.0051\n",
      "     22  \u001b[36m12363.4336\u001b[0m  \u001b[32m233582839.5789\u001b[0m  \u001b[35m152854496.0000\u001b[0m  0.0049\n",
      "     23  \u001b[36m12363.4189\u001b[0m  \u001b[32m233582477.4737\u001b[0m  \u001b[35m152854112.0000\u001b[0m  0.0044\n",
      "     24  \u001b[36m12363.4033\u001b[0m  \u001b[32m233582282.9474\u001b[0m  \u001b[35m152853744.0000\u001b[0m  0.0245\n",
      "     25  \u001b[36m12363.3877\u001b[0m  \u001b[32m233582082.5263\u001b[0m  \u001b[35m152853360.0000\u001b[0m  0.0050\n",
      "     26  \u001b[36m12363.3711\u001b[0m  \u001b[32m233580006.7368\u001b[0m  \u001b[35m152852928.0000\u001b[0m  0.0047\n",
      "     27  \u001b[36m12363.3506\u001b[0m  233580585.2632  \u001b[35m152852448.0000\u001b[0m  0.0053\n",
      "     28  \u001b[36m12363.3301\u001b[0m  233580142.3158  \u001b[35m152851936.0000\u001b[0m  0.0057\n",
      "     29  \u001b[36m12363.3076\u001b[0m  \u001b[32m233578629.8947\u001b[0m  \u001b[35m152851360.0000\u001b[0m  0.0050\n",
      "     30  \u001b[36m12363.2812\u001b[0m  \u001b[32m233576705.6842\u001b[0m  \u001b[35m152850736.0000\u001b[0m  0.0051\n",
      "Stopping since RMSE has not improved in the last 30 epochs.\n",
      "[CV 2/3] END module__dropout_1=0.5, module__dropout_2=0.4, module__dropout_3=0.3, module__dropout_4=0.1, module__n_hidden_neurons_1=20, module__n_hidden_neurons_2=15, module__n_hidden_neurons_3=15, module__n_hidden_neurons_4=10, module__n_in_neurons=10, module__n_out_neurons=1; total time=   0.2s\n",
      "  epoch        RMSE      train_loss      valid_loss     dur\n",
      "-------  ----------  --------------  --------------  ------\n",
      "      1  \u001b[36m12363.1035\u001b[0m  \u001b[32m189216261.8947\u001b[0m  \u001b[35m152846320.0000\u001b[0m  0.0050\n",
      "      2  \u001b[36m12363.0996\u001b[0m  \u001b[32m189216154.9474\u001b[0m  \u001b[35m152846224.0000\u001b[0m  0.0051\n",
      "      3  \u001b[36m12363.0938\u001b[0m  \u001b[32m189215995.7895\u001b[0m  \u001b[35m152846096.0000\u001b[0m  0.0048\n",
      "      4  \u001b[36m12363.0898\u001b[0m  \u001b[32m189215814.7368\u001b[0m  \u001b[35m152845984.0000\u001b[0m  0.0232\n",
      "      5  \u001b[36m12363.0840\u001b[0m  189215870.3158  \u001b[35m152845856.0000\u001b[0m  0.0060\n",
      "      6  \u001b[36m12363.0791\u001b[0m  \u001b[32m189215698.5263\u001b[0m  \u001b[35m152845728.0000\u001b[0m  0.0050\n",
      "      7  \u001b[36m12363.0742\u001b[0m  \u001b[32m189215505.6842\u001b[0m  \u001b[35m152845600.0000\u001b[0m  0.0063\n",
      "      8  \u001b[36m12363.0693\u001b[0m  \u001b[32m189215374.3158\u001b[0m  \u001b[35m152845472.0000\u001b[0m  0.0048\n",
      "      9  \u001b[36m12363.0635\u001b[0m  \u001b[32m189215295.1579\u001b[0m  \u001b[35m152845344.0000\u001b[0m  0.0047\n",
      "     10  \u001b[36m12363.0576\u001b[0m  \u001b[32m189215249.6842\u001b[0m  \u001b[35m152845200.0000\u001b[0m  0.0046\n",
      "     11  \u001b[36m12363.0518\u001b[0m  \u001b[32m189214970.1053\u001b[0m  \u001b[35m152845024.0000\u001b[0m  0.0057\n",
      "     12  \u001b[36m12363.0459\u001b[0m  \u001b[32m189214859.7895\u001b[0m  \u001b[35m152844912.0000\u001b[0m  0.0059\n",
      "     13  \u001b[36m12363.0400\u001b[0m  \u001b[32m189214601.2632\u001b[0m  \u001b[35m152844736.0000\u001b[0m  0.0051\n",
      "     14  \u001b[36m12363.0312\u001b[0m  \u001b[32m189214429.4737\u001b[0m  \u001b[35m152844560.0000\u001b[0m  0.0055\n",
      "     15  \u001b[36m12363.0244\u001b[0m  \u001b[32m189214378.9474\u001b[0m  \u001b[35m152844384.0000\u001b[0m  0.0049\n",
      "     16  \u001b[36m12363.0176\u001b[0m  \u001b[32m189214152.4211\u001b[0m  \u001b[35m152844192.0000\u001b[0m  0.0052\n",
      "     17  \u001b[36m12363.0078\u001b[0m  \u001b[32m189214106.1053\u001b[0m  \u001b[35m152843968.0000\u001b[0m  0.0047\n",
      "     18  \u001b[36m12362.9990\u001b[0m  \u001b[32m189213387.7895\u001b[0m  \u001b[35m152843744.0000\u001b[0m  0.0045\n",
      "     19  \u001b[36m12362.9902\u001b[0m  \u001b[32m189213295.1579\u001b[0m  \u001b[35m152843520.0000\u001b[0m  0.0045\n",
      "     20  \u001b[36m12362.9795\u001b[0m  189213421.4737  \u001b[35m152843280.0000\u001b[0m  0.0050\n",
      "     21  \u001b[36m12362.9688\u001b[0m  \u001b[32m189213258.1053\u001b[0m  \u001b[35m152843024.0000\u001b[0m  0.0049\n",
      "     22  \u001b[36m12362.9580\u001b[0m  \u001b[32m189212392.4211\u001b[0m  \u001b[35m152842736.0000\u001b[0m  0.0050\n",
      "     23  \u001b[36m12362.9473\u001b[0m  \u001b[32m189212222.3158\u001b[0m  \u001b[35m152842448.0000\u001b[0m  0.0052\n",
      "     24  \u001b[36m12362.9336\u001b[0m  189212225.6842  \u001b[35m152842144.0000\u001b[0m  0.0047\n",
      "     25  \u001b[36m12362.9199\u001b[0m  \u001b[32m189210776.4211\u001b[0m  \u001b[35m152841776.0000\u001b[0m  0.0048\n",
      "     26  \u001b[36m12362.9062\u001b[0m  189211322.9474  \u001b[35m152841424.0000\u001b[0m  0.0049\n",
      "     27  \u001b[36m12362.8867\u001b[0m  \u001b[32m189210389.0526\u001b[0m  \u001b[35m152840992.0000\u001b[0m  0.0273\n",
      "     28  \u001b[36m12362.8682\u001b[0m  189210987.7895  \u001b[35m152840496.0000\u001b[0m  0.0051\n",
      "     29  \u001b[36m12362.8467\u001b[0m  \u001b[32m189209726.3158\u001b[0m  \u001b[35m152839968.0000\u001b[0m  0.0051\n",
      "     30  \u001b[36m12362.8213\u001b[0m  \u001b[32m189208650.9474\u001b[0m  \u001b[35m152839344.0000\u001b[0m  0.0044\n",
      "Stopping since RMSE has not improved in the last 30 epochs.\n",
      "[CV 3/3] END module__dropout_1=0.5, module__dropout_2=0.4, module__dropout_3=0.3, module__dropout_4=0.1, module__n_hidden_neurons_1=20, module__n_hidden_neurons_2=15, module__n_hidden_neurons_3=15, module__n_hidden_neurons_4=10, module__n_in_neurons=10, module__n_out_neurons=1; total time=   0.3s\n",
      "  epoch        RMSE      train_loss      valid_loss     dur\n",
      "-------  ----------  --------------  --------------  ------\n",
      "      1  \u001b[36m14041.1387\u001b[0m  \u001b[32m195261534.6087\u001b[0m  \u001b[35m197153568.0000\u001b[0m  0.0072\n",
      "      2  \u001b[36m14041.1240\u001b[0m  \u001b[32m195261169.3913\u001b[0m  \u001b[35m197153136.0000\u001b[0m  0.0072\n",
      "      3  \u001b[36m14041.1094\u001b[0m  \u001b[32m195260884.1739\u001b[0m  \u001b[35m197152720.0000\u001b[0m  0.0546\n",
      "      4  \u001b[36m14041.0938\u001b[0m  \u001b[32m195260436.8696\u001b[0m  \u001b[35m197152304.0000\u001b[0m  0.0063\n",
      "      5  \u001b[36m14041.0781\u001b[0m  \u001b[32m195259966.6087\u001b[0m  \u001b[35m197151904.0000\u001b[0m  0.0061\n",
      "      6  \u001b[36m14041.0635\u001b[0m  \u001b[32m195259701.5652\u001b[0m  \u001b[35m197151456.0000\u001b[0m  0.0768\n",
      "      7  \u001b[36m14041.0479\u001b[0m  \u001b[32m195259443.4783\u001b[0m  \u001b[35m197151024.0000\u001b[0m  0.0086\n",
      "      8  \u001b[36m14041.0303\u001b[0m  \u001b[32m195258852.1739\u001b[0m  \u001b[35m197150560.0000\u001b[0m  0.0073\n",
      "      9  \u001b[36m14041.0146\u001b[0m  \u001b[32m195258496.6957\u001b[0m  \u001b[35m197150080.0000\u001b[0m  0.0083\n",
      "     10  \u001b[36m14040.9971\u001b[0m  \u001b[32m195258227.4783\u001b[0m  \u001b[35m197149568.0000\u001b[0m  0.0721\n",
      "     11  \u001b[36m14040.9775\u001b[0m  \u001b[32m195257650.7826\u001b[0m  \u001b[35m197149040.0000\u001b[0m  0.0086\n",
      "     12  \u001b[36m14040.9580\u001b[0m  \u001b[32m195257095.6522\u001b[0m  \u001b[35m197148512.0000\u001b[0m  0.0084\n",
      "     13  \u001b[36m14040.9385\u001b[0m  \u001b[32m195256772.1739\u001b[0m  \u001b[35m197147936.0000\u001b[0m  0.0742\n",
      "     14  \u001b[36m14040.9160\u001b[0m  \u001b[32m195256401.3913\u001b[0m  \u001b[35m197147312.0000\u001b[0m  0.0077\n",
      "     15  \u001b[36m14040.8916\u001b[0m  \u001b[32m195255667.4783\u001b[0m  \u001b[35m197146640.0000\u001b[0m  0.0079\n",
      "     16  \u001b[36m14040.8662\u001b[0m  \u001b[32m195255171.4783\u001b[0m  \u001b[35m197145936.0000\u001b[0m  0.0074\n",
      "     17  \u001b[36m14040.8389\u001b[0m  \u001b[32m195254520.3478\u001b[0m  \u001b[35m197145184.0000\u001b[0m  0.0708\n",
      "     18  \u001b[36m14040.8076\u001b[0m  \u001b[32m195253410.0870\u001b[0m  \u001b[35m197144288.0000\u001b[0m  0.0074\n",
      "     19  \u001b[36m14040.7734\u001b[0m  \u001b[32m195252518.9565\u001b[0m  \u001b[35m197143312.0000\u001b[0m  0.0074\n",
      "     20  \u001b[36m14040.7324\u001b[0m  \u001b[32m195251859.4783\u001b[0m  \u001b[35m197142176.0000\u001b[0m  0.0071\n",
      "     21  \u001b[36m14040.6855\u001b[0m  \u001b[32m195251290.4348\u001b[0m  \u001b[35m197140896.0000\u001b[0m  0.0081\n",
      "     22  \u001b[36m14040.6348\u001b[0m  \u001b[32m195249733.5652\u001b[0m  \u001b[35m197139424.0000\u001b[0m  0.0073\n",
      "     23  \u001b[36m14040.5752\u001b[0m  \u001b[32m195249069.9130\u001b[0m  \u001b[35m197137744.0000\u001b[0m  0.0073\n",
      "     24  \u001b[36m14040.5068\u001b[0m  \u001b[32m195247609.0435\u001b[0m  \u001b[35m197135808.0000\u001b[0m  0.0073\n",
      "     25  \u001b[36m14040.4248\u001b[0m  \u001b[32m195245552.0000\u001b[0m  \u001b[35m197133520.0000\u001b[0m  0.0082\n",
      "     26  \u001b[36m14040.3271\u001b[0m  \u001b[32m195244020.1739\u001b[0m  \u001b[35m197130800.0000\u001b[0m  0.0077\n",
      "     27  \u001b[36m14040.2070\u001b[0m  \u001b[32m195241321.0435\u001b[0m  \u001b[35m197127440.0000\u001b[0m  0.0075\n",
      "     28  \u001b[36m14040.0645\u001b[0m  \u001b[32m195238681.0435\u001b[0m  \u001b[35m197123392.0000\u001b[0m  0.0738\n",
      "     29  \u001b[36m14039.8896\u001b[0m  \u001b[32m195235771.1304\u001b[0m  \u001b[35m197118512.0000\u001b[0m  0.0082\n",
      "     30  \u001b[36m14039.6777\u001b[0m  \u001b[32m195230893.9130\u001b[0m  \u001b[35m197112592.0000\u001b[0m  0.0085\n",
      "     31  \u001b[36m14039.4229\u001b[0m  \u001b[32m195226269.9130\u001b[0m  \u001b[35m197105392.0000\u001b[0m  0.0145\n",
      "     32  \u001b[36m14039.1104\u001b[0m  \u001b[32m195219211.1304\u001b[0m  \u001b[35m197096592.0000\u001b[0m  0.0091\n",
      "     33  \u001b[36m14038.7275\u001b[0m  \u001b[32m195213578.4348\u001b[0m  \u001b[35m197085872.0000\u001b[0m  0.0090\n",
      "     34  \u001b[36m14038.2607\u001b[0m  \u001b[32m195198618.4348\u001b[0m  \u001b[35m197072752.0000\u001b[0m  0.0078\n",
      "     35  \u001b[36m14037.6934\u001b[0m  \u001b[32m195192965.5652\u001b[0m  \u001b[35m197056848.0000\u001b[0m  0.0717\n",
      "     36  \u001b[36m14037.0146\u001b[0m  \u001b[32m195179200.0000\u001b[0m  \u001b[35m197037760.0000\u001b[0m  0.0076\n",
      "     37  \u001b[36m14036.1992\u001b[0m  \u001b[32m195160584.3478\u001b[0m  \u001b[35m197014880.0000\u001b[0m  0.0073\n",
      "     38  \u001b[36m14035.2295\u001b[0m  \u001b[32m195152813.9130\u001b[0m  \u001b[35m196987680.0000\u001b[0m  0.0773\n",
      "     39  \u001b[36m14034.0771\u001b[0m  \u001b[32m195120770.7826\u001b[0m  \u001b[35m196955328.0000\u001b[0m  0.0075\n",
      "     40  \u001b[36m14032.7012\u001b[0m  \u001b[32m195092914.0870\u001b[0m  \u001b[35m196916704.0000\u001b[0m  0.0072\n",
      "     41  \u001b[36m14031.0723\u001b[0m  \u001b[32m195073275.1304\u001b[0m  \u001b[35m196870992.0000\u001b[0m  0.0073\n",
      "     42  \u001b[36m14029.1797\u001b[0m  \u001b[32m195056688.0000\u001b[0m  \u001b[35m196817856.0000\u001b[0m  0.0742\n",
      "     43  \u001b[36m14026.9551\u001b[0m  \u001b[32m194977210.4348\u001b[0m  \u001b[35m196755472.0000\u001b[0m  0.0063\n",
      "     44  \u001b[36m14024.3418\u001b[0m  \u001b[32m194948143.3043\u001b[0m  \u001b[35m196682192.0000\u001b[0m  0.0063\n",
      "     45  \u001b[36m14021.2939\u001b[0m  \u001b[32m194897437.2174\u001b[0m  \u001b[35m196596688.0000\u001b[0m  0.0084\n",
      "     46  \u001b[36m14017.7471\u001b[0m  \u001b[32m194825037.9130\u001b[0m  \u001b[35m196497232.0000\u001b[0m  0.0696\n",
      "     47  \u001b[36m14013.5908\u001b[0m  \u001b[32m194713762.0870\u001b[0m  \u001b[35m196380720.0000\u001b[0m  0.0065\n",
      "     48  \u001b[36m14008.8340\u001b[0m  194728953.7391  \u001b[35m196247408.0000\u001b[0m  0.0067\n",
      "     49  \u001b[36m14003.3418\u001b[0m  \u001b[32m194529497.7391\u001b[0m  \u001b[35m196093568.0000\u001b[0m  0.0069\n",
      "     50  \u001b[36m13996.9873\u001b[0m  \u001b[32m194423272.3478\u001b[0m  \u001b[35m195915632.0000\u001b[0m  0.0734\n",
      "     51  \u001b[36m13989.7021\u001b[0m  \u001b[32m194283337.0435\u001b[0m  \u001b[35m195711760.0000\u001b[0m  0.0077\n",
      "     52  \u001b[36m13981.3936\u001b[0m  \u001b[32m194113241.0435\u001b[0m  \u001b[35m195479376.0000\u001b[0m  0.0088\n",
      "     53  \u001b[36m13971.9814\u001b[0m  \u001b[32m194054868.8696\u001b[0m  \u001b[35m195216240.0000\u001b[0m  0.0072\n",
      "     54  \u001b[36m13961.4102\u001b[0m  \u001b[32m193767857.3913\u001b[0m  \u001b[35m194920976.0000\u001b[0m  0.0692\n",
      "     55  \u001b[36m13949.2900\u001b[0m  \u001b[32m193480948.1739\u001b[0m  \u001b[35m194582688.0000\u001b[0m  0.0068\n",
      "     56  \u001b[36m13935.6064\u001b[0m  \u001b[32m193224457.0435\u001b[0m  \u001b[35m194201104.0000\u001b[0m  0.0063\n",
      "     57  \u001b[36m13920.1602\u001b[0m  \u001b[32m192957048.3478\u001b[0m  \u001b[35m193770848.0000\u001b[0m  0.0804\n",
      "     58  \u001b[36m13902.8506\u001b[0m  \u001b[32m192656053.5652\u001b[0m  \u001b[35m193289264.0000\u001b[0m  0.0076\n",
      "     59  \u001b[36m13883.2686\u001b[0m  \u001b[32m191997081.0435\u001b[0m  \u001b[35m192745136.0000\u001b[0m  0.0072\n",
      "     60  \u001b[36m13861.4482\u001b[0m  \u001b[32m191791788.5217\u001b[0m  \u001b[35m192139760.0000\u001b[0m  0.0137\n",
      "     61  \u001b[36m13837.3027\u001b[0m  \u001b[32m191487718.2609\u001b[0m  \u001b[35m191470944.0000\u001b[0m  0.0659\n",
      "     62  \u001b[36m13810.5596\u001b[0m  \u001b[32m190960647.6522\u001b[0m  \u001b[35m190731552.0000\u001b[0m  0.0079\n",
      "     63  \u001b[36m13781.0879\u001b[0m  \u001b[32m190424080.0000\u001b[0m  \u001b[35m189918416.0000\u001b[0m  0.0068\n",
      "     64  \u001b[36m13748.5488\u001b[0m  \u001b[32m189526564.8696\u001b[0m  \u001b[35m189022624.0000\u001b[0m  0.0073\n",
      "     65  \u001b[36m13712.5371\u001b[0m  \u001b[32m189297606.2609\u001b[0m  \u001b[35m188033664.0000\u001b[0m  0.0075\n",
      "     66  \u001b[36m13673.2295\u001b[0m  \u001b[32m188496907.8261\u001b[0m  \u001b[35m186957216.0000\u001b[0m  0.0075\n",
      "     67  \u001b[36m13629.9102\u001b[0m  \u001b[32m186891307.1304\u001b[0m  \u001b[35m185774448.0000\u001b[0m  0.0076\n",
      "     68  \u001b[36m13581.9639\u001b[0m  \u001b[32m186284215.6522\u001b[0m  \u001b[35m184469728.0000\u001b[0m  0.0766\n",
      "     69  \u001b[36m13529.8359\u001b[0m  \u001b[32m185320269.9130\u001b[0m  \u001b[35m183056432.0000\u001b[0m  0.0069\n",
      "     70  \u001b[36m13473.3516\u001b[0m  \u001b[32m185136553.7391\u001b[0m  \u001b[35m181531248.0000\u001b[0m  0.0063\n",
      "     71  \u001b[36m13412.1973\u001b[0m  \u001b[32m182957940.1739\u001b[0m  \u001b[35m179887056.0000\u001b[0m  0.0062\n",
      "     72  \u001b[36m13345.8525\u001b[0m  \u001b[32m182081848.3478\u001b[0m  \u001b[35m178111776.0000\u001b[0m  0.0745\n",
      "     73  \u001b[36m13273.3389\u001b[0m  \u001b[32m179975249.3913\u001b[0m  \u001b[35m176181536.0000\u001b[0m  0.0064\n",
      "     74  \u001b[36m13195.3418\u001b[0m  180171186.0870  \u001b[35m174117072.0000\u001b[0m  0.0067\n",
      "     75  \u001b[36m13110.6396\u001b[0m  \u001b[32m176786886.9565\u001b[0m  \u001b[35m171888864.0000\u001b[0m  0.0066\n",
      "     76  \u001b[36m13018.0732\u001b[0m  \u001b[32m174674301.9130\u001b[0m  \u001b[35m169470240.0000\u001b[0m  0.0071\n",
      "     77  \u001b[36m12919.8193\u001b[0m  175493774.6087  \u001b[35m166921728.0000\u001b[0m  0.0066\n",
      "     78  \u001b[36m12815.8027\u001b[0m  \u001b[32m172772202.4348\u001b[0m  \u001b[35m164244800.0000\u001b[0m  0.0064\n",
      "     79  \u001b[36m12705.2275\u001b[0m  \u001b[32m170273077.5652\u001b[0m  \u001b[35m161422800.0000\u001b[0m  0.0787\n",
      "     80  \u001b[36m12585.8369\u001b[0m  \u001b[32m167401157.5652\u001b[0m  \u001b[35m158403312.0000\u001b[0m  0.0090\n",
      "     81  \u001b[36m12459.0967\u001b[0m  \u001b[32m166023583.3043\u001b[0m  \u001b[35m155229120.0000\u001b[0m  0.0094\n",
      "     82  \u001b[36m12324.4658\u001b[0m  \u001b[32m162628475.8261\u001b[0m  \u001b[35m151892464.0000\u001b[0m  0.0090\n",
      "     83  \u001b[36m12182.8906\u001b[0m  \u001b[32m160918909.9130\u001b[0m  \u001b[35m148422816.0000\u001b[0m  0.0071\n",
      "     84  \u001b[36m12033.5791\u001b[0m  \u001b[32m158991220.8696\u001b[0m  \u001b[35m144807040.0000\u001b[0m  0.0080\n",
      "     85  \u001b[36m11879.4678\u001b[0m  159435342.6087  \u001b[35m141121744.0000\u001b[0m  0.0063\n",
      "     86  \u001b[36m11719.0840\u001b[0m  \u001b[32m155247736.3478\u001b[0m  \u001b[35m137336928.0000\u001b[0m  0.0776\n",
      "     87  \u001b[36m11550.8848\u001b[0m  \u001b[32m148917033.7391\u001b[0m  \u001b[35m133422928.0000\u001b[0m  0.0063\n",
      "     88  \u001b[36m11375.1074\u001b[0m  149071618.7826  \u001b[35m129393064.0000\u001b[0m  0.0065\n",
      "     89  \u001b[36m11192.1074\u001b[0m  \u001b[32m143469455.3043\u001b[0m  \u001b[35m125263264.0000\u001b[0m  0.0063\n",
      "     90  \u001b[36m11002.7070\u001b[0m  \u001b[32m140679424.6957\u001b[0m  \u001b[35m121059568.0000\u001b[0m  0.0735\n",
      "     91  \u001b[36m10809.7822\u001b[0m  142538890.4348  \u001b[35m116851392.0000\u001b[0m  0.0070\n",
      "     92  \u001b[36m10614.5674\u001b[0m  \u001b[32m137440757.5652\u001b[0m  \u001b[35m112669032.0000\u001b[0m  0.0073\n",
      "     93  \u001b[36m10413.2617\u001b[0m  \u001b[32m134080166.9565\u001b[0m  \u001b[35m108436016.0000\u001b[0m  0.0773\n",
      "     94  \u001b[36m10209.9141\u001b[0m  136512422.9565  \u001b[35m104242336.0000\u001b[0m  0.0067\n",
      "     95  \u001b[36m10001.8828\u001b[0m  \u001b[32m124334756.1739\u001b[0m  \u001b[35m100037664.0000\u001b[0m  0.0066\n",
      "     96  \u001b[36m9793.2197\u001b[0m  129833642.4348  \u001b[35m95907152.0000\u001b[0m  0.0065\n",
      "     97  \u001b[36m9583.9629\u001b[0m  \u001b[32m120983618.7826\u001b[0m  \u001b[35m91852360.0000\u001b[0m  0.0063\n",
      "     98  \u001b[36m9371.3818\u001b[0m  \u001b[32m116830709.5652\u001b[0m  \u001b[35m87822792.0000\u001b[0m  0.0072\n",
      "     99  \u001b[36m9162.0400\u001b[0m  \u001b[32m115832131.1304\u001b[0m  \u001b[35m83942984.0000\u001b[0m  0.0065\n",
      "    100  \u001b[36m8957.2148\u001b[0m  \u001b[32m112353094.9565\u001b[0m  \u001b[35m80231704.0000\u001b[0m  0.0069\n",
      "    101  \u001b[36m8764.0850\u001b[0m  118734978.7826  \u001b[35m76809192.0000\u001b[0m  0.0764\n",
      "    102  \u001b[36m8583.5635\u001b[0m  \u001b[32m109545794.0870\u001b[0m  \u001b[35m73677560.0000\u001b[0m  0.0075\n",
      "    103  \u001b[36m8412.5195\u001b[0m  117873046.9565  \u001b[35m70770472.0000\u001b[0m  0.0069\n",
      "    104  \u001b[36m8246.6553\u001b[0m  \u001b[32m103346362.4348\u001b[0m  \u001b[35m68007320.0000\u001b[0m  0.0073\n",
      "    105  \u001b[36m8091.0786\u001b[0m  105345662.2609  \u001b[35m65465552.0000\u001b[0m  0.0726\n",
      "    106  \u001b[36m7946.7017\u001b[0m  103853688.0000  \u001b[35m63150064.0000\u001b[0m  0.0077\n",
      "    107  \u001b[36m7815.6953\u001b[0m  104811065.3913  \u001b[35m61085096.0000\u001b[0m  0.0067\n",
      "    108  \u001b[36m7697.5503\u001b[0m  108168731.8261  \u001b[35m59252276.0000\u001b[0m  0.0120\n",
      "    109  \u001b[36m7585.7773\u001b[0m  \u001b[32m91039856.3478\u001b[0m  \u001b[35m57544016.0000\u001b[0m  0.0687\n",
      "    110  \u001b[36m7475.5020\u001b[0m  98009030.6087  \u001b[35m55883128.0000\u001b[0m  0.0075\n",
      "    111  \u001b[36m7375.0913\u001b[0m  94421923.8261  \u001b[35m54391968.0000\u001b[0m  0.0071\n",
      "    112  \u001b[36m7280.8472\u001b[0m  \u001b[32m85829004.1739\u001b[0m  \u001b[35m53010728.0000\u001b[0m  0.0780\n",
      "    113  \u001b[36m7197.1211\u001b[0m  96008889.7391  \u001b[35m51798556.0000\u001b[0m  0.0078\n",
      "    114  \u001b[36m7130.2598\u001b[0m  101887335.6522  \u001b[35m50840604.0000\u001b[0m  0.0078\n",
      "    115  \u001b[36m7071.4541\u001b[0m  91576542.6087  \u001b[35m50005468.0000\u001b[0m  0.0073\n",
      "    116  \u001b[36m7016.7896\u001b[0m  90789016.6957  \u001b[35m49235332.0000\u001b[0m  0.0722\n",
      "    117  \u001b[36m6964.4985\u001b[0m  91666422.9565  \u001b[35m48504240.0000\u001b[0m  0.0084\n",
      "    118  \u001b[36m6918.5757\u001b[0m  89103004.5217  \u001b[35m47866696.0000\u001b[0m  0.0076\n",
      "    119  \u001b[36m6878.7124\u001b[0m  \u001b[32m84286034.7826\u001b[0m  \u001b[35m47316688.0000\u001b[0m  0.0745\n",
      "    120  \u001b[36m6841.5117\u001b[0m  84743242.0870  \u001b[35m46806276.0000\u001b[0m  0.0076\n",
      "    121  \u001b[36m6807.0479\u001b[0m  84396712.0000  \u001b[35m46335896.0000\u001b[0m  0.0073\n",
      "    122  \u001b[36m6773.0015\u001b[0m  \u001b[32m81825395.1304\u001b[0m  \u001b[35m45873548.0000\u001b[0m  0.0129\n",
      "    123  \u001b[36m6742.0649\u001b[0m  88156126.9565  \u001b[35m45455440.0000\u001b[0m  0.0671\n",
      "    124  \u001b[36m6713.6870\u001b[0m  \u001b[32m79914662.9565\u001b[0m  \u001b[35m45073592.0000\u001b[0m  0.0074\n",
      "    125  \u001b[36m6687.6260\u001b[0m  80304946.7826  \u001b[35m44724344.0000\u001b[0m  0.0075\n",
      "    126  \u001b[36m6663.8203\u001b[0m  80488475.4783  \u001b[35m44406500.0000\u001b[0m  0.0073\n",
      "    127  \u001b[36m6640.7627\u001b[0m  82118778.7826  \u001b[35m44099736.0000\u001b[0m  0.0080\n",
      "    128  \u001b[36m6618.8633\u001b[0m  \u001b[32m78917507.1304\u001b[0m  \u001b[35m43809340.0000\u001b[0m  0.0069\n",
      "    129  \u001b[36m6596.6973\u001b[0m  \u001b[32m77291745.9130\u001b[0m  \u001b[35m43516412.0000\u001b[0m  0.0063\n",
      "    130  \u001b[36m6573.8672\u001b[0m  89266293.2174  \u001b[35m43215732.0000\u001b[0m  0.0119\n",
      "    131  \u001b[36m6550.6401\u001b[0m  84553092.8696  \u001b[35m42910884.0000\u001b[0m  0.0071\n",
      "    132  \u001b[36m6529.6201\u001b[0m  89463922.7826  \u001b[35m42635940.0000\u001b[0m  0.0064\n",
      "    133  \u001b[36m6508.9712\u001b[0m  80388676.5217  \u001b[35m42366708.0000\u001b[0m  0.0062\n",
      "    134  \u001b[36m6488.7437\u001b[0m  89240487.3043  \u001b[35m42103792.0000\u001b[0m  0.0062\n",
      "    135  \u001b[36m6469.5010\u001b[0m  78407769.3913  \u001b[35m41854448.0000\u001b[0m  0.0735\n",
      "    136  \u001b[36m6449.0981\u001b[0m  79579481.7391  \u001b[35m41590872.0000\u001b[0m  0.0067\n",
      "    137  \u001b[36m6428.5005\u001b[0m  81740300.8696  \u001b[35m41325616.0000\u001b[0m  0.0062\n",
      "    138  \u001b[36m6408.4443\u001b[0m  78462971.4783  \u001b[35m41068160.0000\u001b[0m  0.0772\n",
      "    139  \u001b[36m6390.4976\u001b[0m  88888946.0870  \u001b[35m40838452.0000\u001b[0m  0.0080\n",
      "    140  \u001b[36m6371.8921\u001b[0m  \u001b[32m76325193.0435\u001b[0m  \u001b[35m40601008.0000\u001b[0m  0.0066\n",
      "    141  \u001b[36m6354.1646\u001b[0m  87967444.5217  \u001b[35m40375408.0000\u001b[0m  0.0064\n",
      "    142  \u001b[36m6336.5225\u001b[0m  \u001b[32m75869194.4348\u001b[0m  \u001b[35m40151516.0000\u001b[0m  0.0725\n",
      "    143  \u001b[36m6317.3462\u001b[0m  79666041.3913  \u001b[35m39908864.0000\u001b[0m  0.0070\n",
      "    144  \u001b[36m6298.1230\u001b[0m  79851110.2609  \u001b[35m39666352.0000\u001b[0m  0.0064\n",
      "    145  \u001b[36m6280.3989\u001b[0m  \u001b[32m75433904.6957\u001b[0m  \u001b[35m39443420.0000\u001b[0m  0.0063\n",
      "    146  \u001b[36m6263.0996\u001b[0m  83290263.3043  \u001b[35m39226420.0000\u001b[0m  0.0737\n",
      "    147  \u001b[36m6245.2603\u001b[0m  \u001b[32m69258590.9565\u001b[0m  \u001b[35m39003276.0000\u001b[0m  0.0065\n",
      "    148  \u001b[36m6229.9468\u001b[0m  96061464.0000  \u001b[35m38812240.0000\u001b[0m  0.0064\n",
      "    149  \u001b[36m6216.8706\u001b[0m  87651315.8261  \u001b[35m38649476.0000\u001b[0m  0.0061\n",
      "    150  \u001b[36m6205.2021\u001b[0m  85481052.8696  \u001b[35m38504536.0000\u001b[0m  0.0732\n",
      "    151  \u001b[36m6193.3350\u001b[0m  73268481.0435  \u001b[35m38357400.0000\u001b[0m  0.0068\n",
      "    152  \u001b[36m6180.5000\u001b[0m  75053489.7391  \u001b[35m38198584.0000\u001b[0m  0.0067\n",
      "    153  \u001b[36m6167.4556\u001b[0m  80669347.8261  \u001b[35m38037512.0000\u001b[0m  0.0159\n",
      "    154  \u001b[36m6151.5879\u001b[0m  74001424.6957  \u001b[35m37842040.0000\u001b[0m  0.0676\n",
      "    155  \u001b[36m6137.1802\u001b[0m  78629535.6522  \u001b[35m37664980.0000\u001b[0m  0.0064\n",
      "    156  \u001b[36m6122.8315\u001b[0m  84354762.7826  \u001b[35m37489068.0000\u001b[0m  0.0064\n",
      "    157  \u001b[36m6110.5723\u001b[0m  76491745.3913  \u001b[35m37339096.0000\u001b[0m  0.0066\n",
      "    158  \u001b[36m6096.2344\u001b[0m  81575632.6957  \u001b[35m37164076.0000\u001b[0m  0.0737\n",
      "    159  \u001b[36m6083.9302\u001b[0m  86145101.5652  \u001b[35m37014200.0000\u001b[0m  0.0065\n",
      "    160  \u001b[36m6066.9673\u001b[0m  71266543.3043  \u001b[35m36808092.0000\u001b[0m  0.0061\n",
      "    161  \u001b[36m6048.3989\u001b[0m  \u001b[32m62021666.7826\u001b[0m  \u001b[35m36583124.0000\u001b[0m  0.0065\n",
      "    162  \u001b[36m6027.9287\u001b[0m  \u001b[32m61628486.4348\u001b[0m  \u001b[35m36335924.0000\u001b[0m  0.0066\n",
      "    163  \u001b[36m6008.2192\u001b[0m  73779987.8261  \u001b[35m36098692.0000\u001b[0m  0.0073\n",
      "    164  \u001b[36m5991.9541\u001b[0m  92560955.1304  \u001b[35m35903512.0000\u001b[0m  0.0069\n",
      "    165  \u001b[36m5980.1016\u001b[0m  81957320.0000  \u001b[35m35761616.0000\u001b[0m  0.0769\n",
      "    166  \u001b[36m5969.8506\u001b[0m  80621817.7391  \u001b[35m35639112.0000\u001b[0m  0.0067\n",
      "    167  \u001b[36m5958.0933\u001b[0m  67987034.7826  \u001b[35m35498876.0000\u001b[0m  0.0069\n",
      "    168  \u001b[36m5947.6924\u001b[0m  71816896.6957  \u001b[35m35375048.0000\u001b[0m  0.0066\n",
      "    169  \u001b[36m5938.1904\u001b[0m  73875897.3913  \u001b[35m35262108.0000\u001b[0m  0.0736\n",
      "    170  \u001b[36m5928.4209\u001b[0m  71646531.8261  \u001b[35m35146172.0000\u001b[0m  0.0071\n",
      "    171  \u001b[36m5918.2051\u001b[0m  70681520.6957  \u001b[35m35025152.0000\u001b[0m  0.0064\n",
      "    172  \u001b[36m5908.0537\u001b[0m  85774209.7391  \u001b[35m34905100.0000\u001b[0m  0.0770\n",
      "    173  \u001b[36m5897.9741\u001b[0m  75657123.4783  \u001b[35m34786100.0000\u001b[0m  0.0072\n",
      "    174  \u001b[36m5886.8003\u001b[0m  73036737.0435  \u001b[35m34654420.0000\u001b[0m  0.0074\n",
      "    175  \u001b[36m5878.8730\u001b[0m  76051974.6087  \u001b[35m34561148.0000\u001b[0m  0.0075\n",
      "    176  \u001b[36m5872.2275\u001b[0m  76983691.4783  \u001b[35m34483052.0000\u001b[0m  0.0742\n",
      "    177  \u001b[36m5864.0835\u001b[0m  77756764.5217  \u001b[35m34387480.0000\u001b[0m  0.0075\n",
      "    178  \u001b[36m5857.7075\u001b[0m  83104139.4783  \u001b[35m34312736.0000\u001b[0m  0.0074\n",
      "    179  \u001b[36m5850.4331\u001b[0m  74180590.7826  \u001b[35m34227568.0000\u001b[0m  0.0074\n",
      "    180  \u001b[36m5839.9580\u001b[0m  63765989.3913  \u001b[35m34105112.0000\u001b[0m  0.0703\n",
      "    181  \u001b[36m5827.3628\u001b[0m  71059110.0870  \u001b[35m33958152.0000\u001b[0m  0.0078\n",
      "    182  \u001b[36m5811.9531\u001b[0m  73903747.4783  \u001b[35m33778804.0000\u001b[0m  0.0076\n",
      "    183  \u001b[36m5799.4014\u001b[0m  89315594.0870  \u001b[35m33633056.0000\u001b[0m  0.0074\n",
      "    184  \u001b[36m5793.6309\u001b[0m  82022830.0870  \u001b[35m33566156.0000\u001b[0m  0.0718\n",
      "    185  \u001b[36m5790.1221\u001b[0m  71353542.6087  \u001b[35m33525510.0000\u001b[0m  0.0065\n",
      "    186  \u001b[36m5783.0684\u001b[0m  63678798.0870  \u001b[35m33443880.0000\u001b[0m  0.0062\n",
      "    187  \u001b[36m5774.8232\u001b[0m  80063418.0870  \u001b[35m33348586.0000\u001b[0m  0.0064\n",
      "    188  \u001b[36m5767.4692\u001b[0m  80270429.9130  \u001b[35m33263704.0000\u001b[0m  0.0074\n",
      "    189  \u001b[36m5763.2373\u001b[0m  76997311.6522  \u001b[35m33214906.0000\u001b[0m  0.0063\n",
      "    190  \u001b[36m5759.7729\u001b[0m  76836944.0000  \u001b[35m33174980.0000\u001b[0m  0.0065\n",
      "    191  \u001b[36m5751.0513\u001b[0m  75375839.8261  \u001b[35m33074588.0000\u001b[0m  0.0734\n",
      "    192  \u001b[36m5741.9512\u001b[0m  73693858.7826  \u001b[35m32970004.0000\u001b[0m  0.0069\n",
      "    193  \u001b[36m5730.4600\u001b[0m  63655043.3043  \u001b[35m32838174.0000\u001b[0m  0.0064\n",
      "    194  \u001b[36m5716.9214\u001b[0m  82059285.9130  \u001b[35m32683192.0000\u001b[0m  0.0066\n",
      "    195  \u001b[36m5707.5029\u001b[0m  74398193.7391  \u001b[35m32575590.0000\u001b[0m  0.0066\n",
      "    196  \u001b[36m5701.2764\u001b[0m  84550225.0435  \u001b[35m32504556.0000\u001b[0m  0.0074\n",
      "    197  \u001b[36m5694.1289\u001b[0m  66716047.6522  \u001b[35m32423102.0000\u001b[0m  0.0073\n",
      "    198  \u001b[36m5684.8325\u001b[0m  \u001b[32m61525621.7391\u001b[0m  \u001b[35m32317316.0000\u001b[0m  0.0062\n",
      "    199  \u001b[36m5672.5728\u001b[0m  66069114.7826  \u001b[35m32178078.0000\u001b[0m  0.0777\n",
      "    200  \u001b[36m5661.5874\u001b[0m  \u001b[32m60340950.0870\u001b[0m  \u001b[35m32053568.0000\u001b[0m  0.0065\n",
      "    201  \u001b[36m5650.9624\u001b[0m  \u001b[32m58284112.6957\u001b[0m  \u001b[35m31933378.0000\u001b[0m  0.0062\n",
      "    202  \u001b[36m5638.7944\u001b[0m  64370094.0870  \u001b[35m31796004.0000\u001b[0m  0.0061\n",
      "    203  \u001b[36m5627.2524\u001b[0m  69357526.9565  \u001b[35m31665964.0000\u001b[0m  0.0729\n",
      "    204  \u001b[36m5613.7959\u001b[0m  63463017.3913  \u001b[35m31514702.0000\u001b[0m  0.0066\n",
      "    205  \u001b[36m5601.5649\u001b[0m  70222140.8696  \u001b[35m31377532.0000\u001b[0m  0.0061\n",
      "    206  \u001b[36m5592.7827\u001b[0m  67688728.5217  \u001b[35m31279220.0000\u001b[0m  0.0063\n",
      "    207  \u001b[36m5585.2637\u001b[0m  63773780.6957  \u001b[35m31195172.0000\u001b[0m  0.0761\n",
      "    208  \u001b[36m5578.0195\u001b[0m  73303953.9130  \u001b[35m31114306.0000\u001b[0m  0.0074\n",
      "    209  \u001b[36m5572.7485\u001b[0m  74046063.6522  \u001b[35m31055526.0000\u001b[0m  0.0071\n",
      "    210  \u001b[36m5568.0693\u001b[0m  71999166.9565  \u001b[35m31003392.0000\u001b[0m  0.0061\n",
      "    211  \u001b[36m5564.4453\u001b[0m  77032935.8261  \u001b[35m30963054.0000\u001b[0m  0.0744\n",
      "    212  \u001b[36m5559.2886\u001b[0m  59277465.2174  \u001b[35m30905686.0000\u001b[0m  0.0073\n",
      "    213  \u001b[36m5553.8447\u001b[0m  72478957.9130  \u001b[35m30845192.0000\u001b[0m  0.0063\n",
      "    214  \u001b[36m5547.6138\u001b[0m  64669335.4783  \u001b[35m30776018.0000\u001b[0m  0.0775\n",
      "    215  \u001b[36m5542.4517\u001b[0m  67626003.4783  \u001b[35m30718768.0000\u001b[0m  0.0071\n",
      "    216  \u001b[36m5532.6499\u001b[0m  61768505.3913  \u001b[35m30610216.0000\u001b[0m  0.0065\n",
      "    217  \u001b[36m5522.0552\u001b[0m  67371525.0435  \u001b[35m30493092.0000\u001b[0m  0.0065\n",
      "    218  \u001b[36m5513.5083\u001b[0m  66337546.0870  \u001b[35m30398768.0000\u001b[0m  0.0742\n",
      "    219  \u001b[36m5508.0454\u001b[0m  64756140.3478  \u001b[35m30338568.0000\u001b[0m  0.0066\n",
      "    220  \u001b[36m5502.5142\u001b[0m  69272397.3913  \u001b[35m30277662.0000\u001b[0m  0.0072\n",
      "    221  \u001b[36m5496.7119\u001b[0m  68966330.0870  \u001b[35m30213838.0000\u001b[0m  0.0069\n",
      "    222  \u001b[36m5491.1934\u001b[0m  70110122.0870  \u001b[35m30153204.0000\u001b[0m  0.0716\n",
      "    223  \u001b[36m5486.4858\u001b[0m  61461316.1739  \u001b[35m30101526.0000\u001b[0m  0.0068\n",
      "    224  \u001b[36m5481.8428\u001b[0m  65912571.1304  \u001b[35m30050604.0000\u001b[0m  0.0072\n",
      "    225  \u001b[36m5477.5771\u001b[0m  65570053.2174  \u001b[35m30003848.0000\u001b[0m  0.0062\n",
      "    226  \u001b[36m5473.7310\u001b[0m  59768314.4348  \u001b[35m29961732.0000\u001b[0m  0.0738\n",
      "    227  \u001b[36m5470.6030\u001b[0m  63419968.6957  \u001b[35m29927502.0000\u001b[0m  0.0063\n",
      "    228  \u001b[36m5467.6704\u001b[0m  72094482.4348  \u001b[35m29895420.0000\u001b[0m  0.0060\n",
      "    229  \u001b[36m5464.7241\u001b[0m  65660271.3043  \u001b[35m29863208.0000\u001b[0m  0.0061\n",
      "    230  \u001b[36m5462.0649\u001b[0m  62659795.1304  \u001b[35m29834156.0000\u001b[0m  0.0746\n",
      "    231  \u001b[36m5460.5200\u001b[0m  62511533.7391  \u001b[35m29817280.0000\u001b[0m  0.0074\n",
      "    232  \u001b[36m5459.0889\u001b[0m  63357707.1304  \u001b[35m29801658.0000\u001b[0m  0.0078\n",
      "    233  \u001b[36m5457.4072\u001b[0m  61552174.0870  \u001b[35m29783292.0000\u001b[0m  0.0068\n",
      "    234  5457.9648  77692125.7391  29789380.0000  0.0091\n",
      "    235  5459.6504  65562330.4348  29807784.0000  0.0081\n",
      "    236  5460.4634  59445797.7391  29816654.0000  0.0093\n",
      "    237  5463.8071  72884643.6522  29853192.0000  0.0721\n",
      "    238  5466.3271  65771782.2609  29880730.0000  0.0083\n",
      "    239  5468.6504  70746210.7826  29906134.0000  0.0096\n",
      "    240  5467.9336  61522252.1739  29898300.0000  0.0719\n",
      "    241  5466.5020  64120056.5217  29882644.0000  0.0084\n",
      "    242  5464.7881  72651700.5217  29863910.0000  0.0087\n",
      "    243  5460.9492  \u001b[32m54752243.3043\u001b[0m  29821964.0000  0.0077\n",
      "    244  \u001b[36m5455.2700\u001b[0m  58793258.9565  \u001b[35m29759970.0000\u001b[0m  0.0693\n",
      "    245  \u001b[36m5447.5068\u001b[0m  64822687.4783  \u001b[35m29675330.0000\u001b[0m  0.0079\n",
      "    246  \u001b[36m5440.1987\u001b[0m  67022701.5652  \u001b[35m29595762.0000\u001b[0m  0.0064\n",
      "    247  \u001b[36m5433.9517\u001b[0m  72456821.9130  \u001b[35m29527830.0000\u001b[0m  0.0062\n",
      "    248  \u001b[36m5428.7554\u001b[0m  63746179.1304  \u001b[35m29471384.0000\u001b[0m  0.0747\n",
      "    249  \u001b[36m5425.2485\u001b[0m  61722927.3043  \u001b[35m29433320.0000\u001b[0m  0.0066\n",
      "    250  \u001b[36m5420.4463\u001b[0m  59868872.3478  \u001b[35m29381236.0000\u001b[0m  0.0064\n",
      "    251  \u001b[36m5416.6479\u001b[0m  58229574.7826  \u001b[35m29340076.0000\u001b[0m  0.0067\n",
      "    252  \u001b[36m5411.4434\u001b[0m  61254794.4348  \u001b[35m29283718.0000\u001b[0m  0.0728\n",
      "    253  \u001b[36m5407.6919\u001b[0m  68122323.4783  \u001b[35m29243134.0000\u001b[0m  0.0064\n",
      "    254  \u001b[36m5405.2622\u001b[0m  69863731.8261  \u001b[35m29216860.0000\u001b[0m  0.0074\n",
      "    255  \u001b[36m5401.8403\u001b[0m  65922978.7826  \u001b[35m29179882.0000\u001b[0m  0.0059\n",
      "    256  \u001b[36m5398.1992\u001b[0m  56740712.8696  \u001b[35m29140556.0000\u001b[0m  0.0736\n",
      "    257  \u001b[36m5396.7612\u001b[0m  67144988.6957  \u001b[35m29125036.0000\u001b[0m  0.0063\n",
      "    258  \u001b[36m5395.0938\u001b[0m  61620700.3478  \u001b[35m29107032.0000\u001b[0m  0.0079\n",
      "    259  \u001b[36m5393.6958\u001b[0m  69852945.7391  \u001b[35m29091960.0000\u001b[0m  0.0065\n",
      "    260  \u001b[36m5392.4082\u001b[0m  60044235.4783  \u001b[35m29078072.0000\u001b[0m  0.0728\n",
      "    261  5392.5815  76120891.8261  29079934.0000  0.0070\n",
      "    262  \u001b[36m5392.2637\u001b[0m  61776382.6087  \u001b[35m29076510.0000\u001b[0m  0.0065\n",
      "    263  5392.3975  64532463.3043  29077948.0000  0.0122\n",
      "    264  \u001b[36m5391.3384\u001b[0m  64631058.9565  \u001b[35m29066530.0000\u001b[0m  0.0078\n",
      "    265  \u001b[36m5389.0376\u001b[0m  67481616.1739  \u001b[35m29041730.0000\u001b[0m  0.0073\n",
      "    266  \u001b[36m5386.4497\u001b[0m  69394564.6957  \u001b[35m29013844.0000\u001b[0m  0.0066\n",
      "    267  \u001b[36m5383.2261\u001b[0m  63770776.0000  \u001b[35m28979118.0000\u001b[0m  0.0067\n",
      "    268  \u001b[36m5378.9463\u001b[0m  59452656.8696  \u001b[35m28933062.0000\u001b[0m  0.0070\n",
      "    269  \u001b[36m5374.1289\u001b[0m  68192581.5652  \u001b[35m28881262.0000\u001b[0m  0.0070\n",
      "    270  \u001b[36m5371.7656\u001b[0m  67800083.6522  \u001b[35m28855864.0000\u001b[0m  0.0062\n",
      "    271  \u001b[36m5371.6304\u001b[0m  66705702.0870  \u001b[35m28854408.0000\u001b[0m  0.0781\n",
      "    272  5371.9482  65239830.9565  28857832.0000  0.0070\n",
      "    273  5372.2373  65497697.3913  28860930.0000  0.0065\n",
      "    274  \u001b[36m5369.0249\u001b[0m  62675500.8696  \u001b[35m28826430.0000\u001b[0m  0.0059\n",
      "    275  \u001b[36m5364.9878\u001b[0m  64164017.0435  \u001b[35m28783098.0000\u001b[0m  0.0728\n",
      "    276  \u001b[36m5362.1094\u001b[0m  68829648.5217  \u001b[35m28752214.0000\u001b[0m  0.0066\n",
      "    277  \u001b[36m5360.4302\u001b[0m  64295141.3913  \u001b[35m28734210.0000\u001b[0m  0.0064\n",
      "    278  \u001b[36m5358.4302\u001b[0m  62102336.0000  \u001b[35m28712774.0000\u001b[0m  0.0062\n",
      "    279  \u001b[36m5358.1069\u001b[0m  74880401.0435  \u001b[35m28709310.0000\u001b[0m  0.0744\n",
      "    280  \u001b[36m5355.3613\u001b[0m  61375097.7391  \u001b[35m28679892.0000\u001b[0m  0.0065\n",
      "    281  \u001b[36m5352.7437\u001b[0m  65596742.2609  \u001b[35m28651864.0000\u001b[0m  0.0066\n",
      "    282  \u001b[36m5350.8037\u001b[0m  71161052.5217  \u001b[35m28631098.0000\u001b[0m  0.0061\n",
      "    283  \u001b[36m5348.8394\u001b[0m  57519089.0435  \u001b[35m28610078.0000\u001b[0m  0.0751\n",
      "    284  \u001b[36m5347.6729\u001b[0m  61453485.2174  \u001b[35m28597606.0000\u001b[0m  0.0067\n",
      "    285  \u001b[36m5347.1021\u001b[0m  67283268.1739  \u001b[35m28591504.0000\u001b[0m  0.0060\n",
      "    286  5347.9780  59960872.3478  28600870.0000  0.0062\n",
      "    287  5347.5137  63152575.1304  28595902.0000  0.0730\n",
      "    288  \u001b[36m5345.6099\u001b[0m  64258687.6522  \u001b[35m28575538.0000\u001b[0m  0.0067\n",
      "    289  \u001b[36m5344.5742\u001b[0m  \u001b[32m54165921.7391\u001b[0m  \u001b[35m28564476.0000\u001b[0m  0.0067\n",
      "    290  \u001b[36m5344.2656\u001b[0m  55636546.2609  \u001b[35m28561174.0000\u001b[0m  0.0061\n",
      "    291  \u001b[36m5342.7563\u001b[0m  55159180.6957  \u001b[35m28545048.0000\u001b[0m  0.0731\n",
      "    292  \u001b[36m5339.6006\u001b[0m  59467286.2609  \u001b[35m28511338.0000\u001b[0m  0.0066\n",
      "    293  \u001b[36m5338.1812\u001b[0m  \u001b[32m52066713.9130\u001b[0m  \u001b[35m28496176.0000\u001b[0m  0.0061\n",
      "    294  \u001b[36m5336.9033\u001b[0m  63806056.5217  \u001b[35m28482540.0000\u001b[0m  0.0065\n",
      "    295  \u001b[36m5335.4585\u001b[0m  60354238.6087  \u001b[35m28467120.0000\u001b[0m  0.0753\n",
      "    296  \u001b[36m5333.9102\u001b[0m  62200388.5217  \u001b[35m28450598.0000\u001b[0m  0.0062\n",
      "    297  \u001b[36m5333.1069\u001b[0m  63415669.3913  \u001b[35m28442026.0000\u001b[0m  0.0064\n",
      "    298  \u001b[36m5332.1719\u001b[0m  62958303.3043  \u001b[35m28432056.0000\u001b[0m  0.0061\n",
      "    299  \u001b[36m5331.5498\u001b[0m  58118310.0870  \u001b[35m28425426.0000\u001b[0m  0.0727\n",
      "    300  \u001b[36m5330.9346\u001b[0m  64351814.0870  \u001b[35m28418862.0000\u001b[0m  0.0071\n",
      "    301  \u001b[36m5329.0410\u001b[0m  71493579.8261  \u001b[35m28398678.0000\u001b[0m  0.0066\n",
      "    302  \u001b[36m5326.4082\u001b[0m  60313904.1739  \u001b[35m28370620.0000\u001b[0m  0.0059\n",
      "    303  \u001b[36m5323.8848\u001b[0m  68148425.3913  \u001b[35m28343748.0000\u001b[0m  0.0752\n",
      "    304  \u001b[36m5322.6157\u001b[0m  59638142.4348  \u001b[35m28330238.0000\u001b[0m  0.0063\n",
      "    305  \u001b[36m5320.9419\u001b[0m  62798551.6522  \u001b[35m28312424.0000\u001b[0m  0.0058\n",
      "    306  \u001b[36m5319.1470\u001b[0m  68619189.5652  \u001b[35m28293328.0000\u001b[0m  0.0061\n",
      "    307  \u001b[36m5316.5342\u001b[0m  \u001b[32m50258131.4783\u001b[0m  \u001b[35m28265532.0000\u001b[0m  0.0759\n",
      "    308  \u001b[36m5314.0459\u001b[0m  61047272.1739  \u001b[35m28239084.0000\u001b[0m  0.0073\n",
      "    309  \u001b[36m5311.6128\u001b[0m  54806355.8261  \u001b[35m28213232.0000\u001b[0m  0.0080\n",
      "    310  \u001b[36m5309.7241\u001b[0m  66092276.5217  \u001b[35m28193174.0000\u001b[0m  0.0082\n",
      "    311  \u001b[36m5307.6553\u001b[0m  53639129.9130  \u001b[35m28171206.0000\u001b[0m  0.0696\n",
      "    312  \u001b[36m5306.0688\u001b[0m  \u001b[32m47871493.9130\u001b[0m  \u001b[35m28154364.0000\u001b[0m  0.0061\n",
      "    313  \u001b[36m5304.2178\u001b[0m  71838018.4348  \u001b[35m28134724.0000\u001b[0m  0.0060\n",
      "    314  \u001b[36m5302.5391\u001b[0m  52452797.2174  \u001b[35m28116922.0000\u001b[0m  0.0060\n",
      "    315  \u001b[36m5301.1797\u001b[0m  52107878.9565  \u001b[35m28102510.0000\u001b[0m  0.0750\n",
      "    316  \u001b[36m5299.8564\u001b[0m  50532426.9565  \u001b[35m28088474.0000\u001b[0m  0.0063\n",
      "    317  \u001b[36m5298.8306\u001b[0m  53121637.2174  \u001b[35m28077606.0000\u001b[0m  0.0061\n",
      "    318  \u001b[36m5297.9014\u001b[0m  52924545.3913  \u001b[35m28067764.0000\u001b[0m  0.0062\n",
      "    319  \u001b[36m5295.4912\u001b[0m  69127253.9130  \u001b[35m28042228.0000\u001b[0m  0.0734\n",
      "    320  \u001b[36m5293.2695\u001b[0m  56116672.0000  \u001b[35m28018702.0000\u001b[0m  0.0068\n",
      "    321  \u001b[36m5291.1343\u001b[0m  66037935.6522  \u001b[35m27996098.0000\u001b[0m  0.0062\n",
      "    322  \u001b[36m5290.0005\u001b[0m  68648832.1739  \u001b[35m27984104.0000\u001b[0m  0.0069\n",
      "    323  5290.1880  59798954.9565  27986092.0000  0.0730\n",
      "    324  5291.9619  62542901.9130  28004860.0000  0.0077\n",
      "    325  5294.0552  61599861.3913  28027020.0000  0.0076\n",
      "    326  5294.3789  53735844.3478  28030444.0000  0.0076\n",
      "    327  5294.6069  \u001b[32m42738186.2609\u001b[0m  28032860.0000  0.0719\n",
      "    328  5293.3364  59430584.8696  28019408.0000  0.0070\n",
      "    329  5292.3999  80581702.6087  28009498.0000  0.0070\n",
      "    330  \u001b[36m5289.5972\u001b[0m  64686132.8696  \u001b[35m27979834.0000\u001b[0m  0.0068\n",
      "    331  \u001b[36m5285.6270\u001b[0m  57410563.3043  \u001b[35m27937852.0000\u001b[0m  0.0754\n",
      "    332  \u001b[36m5280.4224\u001b[0m  58639215.3043  \u001b[35m27882860.0000\u001b[0m  0.0064\n",
      "    333  \u001b[36m5275.5312\u001b[0m  56723837.2174  \u001b[35m27831234.0000\u001b[0m  0.0064\n",
      "    334  \u001b[36m5270.9805\u001b[0m  53090777.7391  \u001b[35m27783238.0000\u001b[0m  0.0119\n",
      "    335  \u001b[36m5267.8491\u001b[0m  60244330.6087  \u001b[35m27750234.0000\u001b[0m  0.0086\n",
      "    336  \u001b[36m5266.2109\u001b[0m  66237470.6087  \u001b[35m27732980.0000\u001b[0m  0.0072\n",
      "    337  \u001b[36m5264.4829\u001b[0m  57415818.2609  \u001b[35m27714786.0000\u001b[0m  0.0078\n",
      "    338  \u001b[36m5263.5220\u001b[0m  63328968.5217  \u001b[35m27704664.0000\u001b[0m  0.0719\n",
      "    339  \u001b[36m5262.0483\u001b[0m  48147141.9130  \u001b[35m27689154.0000\u001b[0m  0.0081\n",
      "    340  \u001b[36m5261.2383\u001b[0m  73485426.6087  \u001b[35m27680628.0000\u001b[0m  0.0072\n",
      "    341  5261.6245  63419778.6087  27684698.0000  0.0075\n",
      "    342  5261.9971  65911579.1304  27688612.0000  0.0747\n",
      "    343  5262.0342  68417006.9565  27689008.0000  0.0074\n",
      "    344  \u001b[36m5260.4380\u001b[0m  58995060.6957  \u001b[35m27672206.0000\u001b[0m  0.0072\n",
      "    345  \u001b[36m5260.0820\u001b[0m  61582780.5217  \u001b[35m27668464.0000\u001b[0m  0.0740\n",
      "    346  \u001b[36m5259.1260\u001b[0m  59039336.6957  \u001b[35m27658410.0000\u001b[0m  0.0078\n",
      "    347  \u001b[36m5258.2661\u001b[0m  51124274.6087  \u001b[35m27649364.0000\u001b[0m  0.0072\n",
      "    348  \u001b[36m5256.6670\u001b[0m  66640195.8261  \u001b[35m27632552.0000\u001b[0m  0.0074\n",
      "    349  \u001b[36m5254.9673\u001b[0m  52288155.3043  \u001b[35m27614680.0000\u001b[0m  0.0725\n",
      "    350  \u001b[36m5253.4131\u001b[0m  60836834.7826  \u001b[35m27598348.0000\u001b[0m  0.0078\n",
      "    351  \u001b[36m5251.8359\u001b[0m  62269236.1739  \u001b[35m27581782.0000\u001b[0m  0.0065\n",
      "    352  \u001b[36m5250.8862\u001b[0m  55580240.3478  \u001b[35m27571806.0000\u001b[0m  0.0067\n",
      "    353  \u001b[36m5250.0488\u001b[0m  56797846.0870  \u001b[35m27563014.0000\u001b[0m  0.0718\n",
      "    354  \u001b[36m5249.1538\u001b[0m  68359479.6522  \u001b[35m27553618.0000\u001b[0m  0.0067\n",
      "    355  \u001b[36m5248.2378\u001b[0m  55887405.3913  \u001b[35m27544002.0000\u001b[0m  0.0064\n",
      "    356  \u001b[36m5247.5259\u001b[0m  54418017.5652  \u001b[35m27536526.0000\u001b[0m  0.0060\n",
      "    357  \u001b[36m5246.0151\u001b[0m  57074049.9130  \u001b[35m27520676.0000\u001b[0m  0.0743\n",
      "    358  \u001b[36m5244.5869\u001b[0m  65073487.4783  \u001b[35m27505694.0000\u001b[0m  0.0075\n",
      "    359  \u001b[36m5243.3184\u001b[0m  63365649.9130  \u001b[35m27492386.0000\u001b[0m  0.0087\n",
      "    360  \u001b[36m5242.5479\u001b[0m  60988068.6957  \u001b[35m27484310.0000\u001b[0m  0.0084\n",
      "    361  \u001b[36m5242.0049\u001b[0m  51484791.1304  \u001b[35m27478614.0000\u001b[0m  0.0706\n",
      "    362  \u001b[36m5241.0635\u001b[0m  54689156.5217  \u001b[35m27468744.0000\u001b[0m  0.0073\n",
      "    363  \u001b[36m5239.2339\u001b[0m  58064880.5217  \u001b[35m27449570.0000\u001b[0m  0.0075\n",
      "    364  \u001b[36m5237.9209\u001b[0m  55973912.0000  \u001b[35m27435816.0000\u001b[0m  0.0075\n",
      "    365  \u001b[36m5237.1304\u001b[0m  58969246.0870  \u001b[35m27427538.0000\u001b[0m  0.0071\n",
      "    366  \u001b[36m5236.7354\u001b[0m  59510577.0435  \u001b[35m27423398.0000\u001b[0m  0.0061\n",
      "    367  \u001b[36m5236.0708\u001b[0m  57419491.1304  \u001b[35m27416440.0000\u001b[0m  0.0059\n",
      "    368  \u001b[36m5235.5830\u001b[0m  61581714.0870  \u001b[35m27411332.0000\u001b[0m  0.0116\n",
      "    369  \u001b[36m5235.1675\u001b[0m  54675400.0000  \u001b[35m27406980.0000\u001b[0m  0.0086\n",
      "    370  \u001b[36m5234.0547\u001b[0m  62314766.6087  \u001b[35m27395332.0000\u001b[0m  0.0086\n",
      "    371  \u001b[36m5232.7856\u001b[0m  57789688.8696  \u001b[35m27382044.0000\u001b[0m  0.0065\n",
      "    372  \u001b[36m5231.4946\u001b[0m  57722500.6957  \u001b[35m27368538.0000\u001b[0m  0.0732\n",
      "    373  \u001b[36m5230.2300\u001b[0m  59262210.7826  \u001b[35m27355304.0000\u001b[0m  0.0062\n",
      "    374  \u001b[36m5228.8330\u001b[0m  54569520.0000  \u001b[35m27340692.0000\u001b[0m  0.0062\n",
      "    375  \u001b[36m5227.3823\u001b[0m  54204258.6087  \u001b[35m27325522.0000\u001b[0m  0.0064\n",
      "    376  \u001b[36m5226.5527\u001b[0m  56745785.7391  \u001b[35m27316856.0000\u001b[0m  0.0732\n",
      "    377  \u001b[36m5225.8325\u001b[0m  63457782.7826  \u001b[35m27309328.0000\u001b[0m  0.0065\n",
      "    378  \u001b[36m5225.0200\u001b[0m  59013464.5217  \u001b[35m27300830.0000\u001b[0m  0.0066\n",
      "    379  \u001b[36m5224.0830\u001b[0m  53812452.1739  \u001b[35m27291038.0000\u001b[0m  0.0073\n",
      "    380  \u001b[36m5222.5024\u001b[0m  47279242.0870  \u001b[35m27274534.0000\u001b[0m  0.0747\n",
      "    381  \u001b[36m5221.5015\u001b[0m  57448011.6522  \u001b[35m27264078.0000\u001b[0m  0.0077\n",
      "    382  \u001b[36m5220.6245\u001b[0m  64453034.2609  \u001b[35m27254926.0000\u001b[0m  0.0072\n",
      "    383  \u001b[36m5219.8906\u001b[0m  57752727.8261  \u001b[35m27247258.0000\u001b[0m  0.0069\n",
      "    384  \u001b[36m5218.1777\u001b[0m  52049100.5217  \u001b[35m27229382.0000\u001b[0m  0.0086\n",
      "    385  \u001b[36m5216.6030\u001b[0m  53604497.2174  \u001b[35m27212946.0000\u001b[0m  0.0086\n",
      "    386  \u001b[36m5214.1289\u001b[0m  73581241.7391  \u001b[35m27187138.0000\u001b[0m  0.0065\n",
      "    387  \u001b[36m5212.1299\u001b[0m  55601876.8696  \u001b[35m27166298.0000\u001b[0m  0.0116\n",
      "    388  \u001b[36m5210.2490\u001b[0m  64285311.8261  \u001b[35m27146692.0000\u001b[0m  0.0073\n",
      "    389  \u001b[36m5208.8281\u001b[0m  55238334.7826  \u001b[35m27131890.0000\u001b[0m  0.0066\n",
      "    390  \u001b[36m5207.6255\u001b[0m  45559039.8261  \u001b[35m27119362.0000\u001b[0m  0.0063\n",
      "    391  \u001b[36m5206.8525\u001b[0m  61881557.0435  \u001b[35m27111314.0000\u001b[0m  0.0758\n",
      "    392  \u001b[36m5206.7017\u001b[0m  56330518.2609  \u001b[35m27109742.0000\u001b[0m  0.0067\n",
      "    393  \u001b[36m5206.6763\u001b[0m  55590586.0870  \u001b[35m27109480.0000\u001b[0m  0.0060\n",
      "    394  \u001b[36m5206.4165\u001b[0m  53816673.7391  \u001b[35m27106774.0000\u001b[0m  0.0063\n",
      "    395  \u001b[36m5206.2412\u001b[0m  67636546.6087  \u001b[35m27104948.0000\u001b[0m  0.0766\n",
      "    396  \u001b[36m5205.8257\u001b[0m  65986422.6087  \u001b[35m27100616.0000\u001b[0m  0.0064\n",
      "    397  5206.6470  59414510.4348  27109170.0000  0.0064\n",
      "    398  5206.0625  64611857.2174  27103086.0000  0.0064\n",
      "    399  \u001b[36m5204.6899\u001b[0m  56049377.7391  \u001b[35m27088794.0000\u001b[0m  0.0734\n",
      "    400  \u001b[36m5204.5928\u001b[0m  55980069.7391  \u001b[35m27087790.0000\u001b[0m  0.0067\n",
      "    401  5205.2314  53335754.6087  27094438.0000  0.0065\n",
      "    402  5204.6299  58329618.2609  27088170.0000  0.0064\n",
      "    403  \u001b[36m5202.2617\u001b[0m  62427697.3913  \u001b[35m27063524.0000\u001b[0m  0.0738\n",
      "    404  \u001b[36m5197.9883\u001b[0m  55328462.9565  \u001b[35m27019080.0000\u001b[0m  0.0066\n",
      "    405  \u001b[36m5192.8174\u001b[0m  49801696.0000  \u001b[35m26965354.0000\u001b[0m  0.0064\n",
      "    406  \u001b[36m5187.1826\u001b[0m  53443328.0000  \u001b[35m26906866.0000\u001b[0m  0.0799\n",
      "    407  \u001b[36m5182.5034\u001b[0m  50903191.3043  \u001b[35m26858348.0000\u001b[0m  0.0064\n",
      "    408  \u001b[36m5180.4419\u001b[0m  51430126.4348  \u001b[35m26836976.0000\u001b[0m  0.0066\n",
      "    409  \u001b[36m5179.9209\u001b[0m  52241566.7826  \u001b[35m26831578.0000\u001b[0m  0.0061\n",
      "    410  5180.1328  46870959.4783  26833776.0000  0.0739\n",
      "    411  5181.7397  55397955.8261  26850426.0000  0.0082\n",
      "    412  5183.7915  50618166.9565  26871696.0000  0.0070\n",
      "    413  5186.5151  49521483.3043  26899942.0000  0.0061\n",
      "    414  5187.4634  55699613.7391  26909772.0000  0.0734\n",
      "    415  5189.2197  55114605.5652  26928000.0000  0.0063\n",
      "    416  5190.8877  57068466.0870  26945314.0000  0.0063\n",
      "    417  5190.4185  57660676.3478  26940444.0000  0.0060\n",
      "    418  5188.2520  59742073.9130  26917960.0000  0.0733\n",
      "    419  5188.4282  52492135.4783  26919788.0000  0.0067\n",
      "    420  5185.2280  65863712.3478  26886592.0000  0.0062\n",
      "    421  5180.4370  55752939.1304  26836926.0000  0.0071\n",
      "    422  \u001b[36m5178.3550\u001b[0m  43480747.8261  \u001b[35m26815362.0000\u001b[0m  0.0778\n",
      "    423  \u001b[36m5177.0967\u001b[0m  43898479.6522  \u001b[35m26802330.0000\u001b[0m  0.0078\n",
      "    424  \u001b[36m5176.8711\u001b[0m  50197048.1739  \u001b[35m26799994.0000\u001b[0m  0.0069\n",
      "    425  \u001b[36m5175.9790\u001b[0m  57884178.6087  \u001b[35m26790756.0000\u001b[0m  0.0065\n",
      "    426  \u001b[36m5172.8057\u001b[0m  58096840.1739  \u001b[35m26757916.0000\u001b[0m  0.0712\n",
      "    427  \u001b[36m5169.2793\u001b[0m  51681846.4348  \u001b[35m26721448.0000\u001b[0m  0.0087\n",
      "    428  \u001b[36m5166.7817\u001b[0m  51571159.8261  \u001b[35m26695638.0000\u001b[0m  0.0069\n",
      "    429  \u001b[36m5164.4541\u001b[0m  56985368.3478  \u001b[35m26671588.0000\u001b[0m  0.0064\n",
      "    430  \u001b[36m5162.7476\u001b[0m  52097829.9130  \u001b[35m26653964.0000\u001b[0m  0.0068\n",
      "    431  \u001b[36m5161.6597\u001b[0m  51941309.7391  \u001b[35m26642734.0000\u001b[0m  0.0067\n",
      "    432  \u001b[36m5161.1216\u001b[0m  51470375.3043  \u001b[35m26637180.0000\u001b[0m  0.0063\n",
      "    433  \u001b[36m5159.4951\u001b[0m  61934311.1304  \u001b[35m26620390.0000\u001b[0m  0.0062\n",
      "    434  \u001b[36m5157.1665\u001b[0m  60033239.3043  \u001b[35m26596368.0000\u001b[0m  0.0730\n",
      "    435  \u001b[36m5156.3882\u001b[0m  50036559.8261  \u001b[35m26588340.0000\u001b[0m  0.0063\n",
      "    436  \u001b[36m5153.7476\u001b[0m  57941176.1739  \u001b[35m26561114.0000\u001b[0m  0.0065\n",
      "    437  \u001b[36m5151.2891\u001b[0m  54310792.8696  \u001b[35m26535782.0000\u001b[0m  0.0767\n",
      "    438  \u001b[36m5147.0977\u001b[0m  70072398.9565  \u001b[35m26492612.0000\u001b[0m  0.0071\n",
      "    439  \u001b[36m5144.6396\u001b[0m  71224525.0435  \u001b[35m26467314.0000\u001b[0m  0.0069\n",
      "    440  \u001b[36m5144.5288\u001b[0m  44947380.1739  \u001b[35m26466180.0000\u001b[0m  0.0063\n",
      "    441  5144.5610  \u001b[32m42734043.2174\u001b[0m  26466508.0000  0.0063\n",
      "    442  \u001b[36m5143.6924\u001b[0m  56183042.0870  \u001b[35m26457576.0000\u001b[0m  0.0084\n",
      "    443  \u001b[36m5141.3936\u001b[0m  58110542.7826  \u001b[35m26433928.0000\u001b[0m  0.0077\n",
      "    444  \u001b[36m5138.0615\u001b[0m  51122210.3478  \u001b[35m26399678.0000\u001b[0m  0.0080\n",
      "    445  \u001b[36m5134.0654\u001b[0m  55899142.4348  \u001b[35m26358634.0000\u001b[0m  0.0754\n",
      "    446  \u001b[36m5130.8506\u001b[0m  57160426.7826  \u001b[35m26325628.0000\u001b[0m  0.0082\n",
      "    447  \u001b[36m5129.4146\u001b[0m  59729181.2174  \u001b[35m26310894.0000\u001b[0m  0.0072\n",
      "    448  \u001b[36m5128.7490\u001b[0m  53475865.7391  \u001b[35m26304068.0000\u001b[0m  0.0070\n",
      "    449  \u001b[36m5127.9932\u001b[0m  52595214.2609  \u001b[35m26296312.0000\u001b[0m  0.0700\n",
      "    450  5129.1016  56225650.0870  26307684.0000  0.0065\n",
      "    451  5130.2002  45484620.6957  26318956.0000  0.0066\n",
      "    452  5129.6475  58561123.4783  26313282.0000  0.0074\n",
      "    453  \u001b[36m5127.3828\u001b[0m  54751192.5217  \u001b[35m26290054.0000\u001b[0m  0.0074\n",
      "    454  \u001b[36m5124.0669\u001b[0m  64580030.6087  \u001b[35m26256068.0000\u001b[0m  0.0062\n",
      "    455  \u001b[36m5121.4243\u001b[0m  53577126.6087  \u001b[35m26228988.0000\u001b[0m  0.0063\n",
      "    456  \u001b[36m5119.7070\u001b[0m  48373225.9130  \u001b[35m26211400.0000\u001b[0m  0.0777\n",
      "    457  \u001b[36m5116.7627\u001b[0m  63069666.7826  \u001b[35m26181260.0000\u001b[0m  0.0077\n",
      "    458  \u001b[36m5114.3862\u001b[0m  63555562.4348  \u001b[35m26156946.0000\u001b[0m  0.0074\n",
      "    459  \u001b[36m5112.3555\u001b[0m  47291657.2174  \u001b[35m26136178.0000\u001b[0m  0.0074\n",
      "    460  \u001b[36m5109.6743\u001b[0m  51019497.3913  \u001b[35m26108770.0000\u001b[0m  0.0725\n",
      "    461  \u001b[36m5106.9165\u001b[0m  52404830.6087  \u001b[35m26080596.0000\u001b[0m  0.0078\n",
      "    462  \u001b[36m5103.6572\u001b[0m  50977141.9130  \u001b[35m26047318.0000\u001b[0m  0.0079\n",
      "    463  \u001b[36m5100.1235\u001b[0m  56928266.0870  \u001b[35m26011256.0000\u001b[0m  0.0074\n",
      "    464  \u001b[36m5097.2119\u001b[0m  50432137.5652  \u001b[35m25981568.0000\u001b[0m  0.0084\n",
      "    465  \u001b[36m5094.5063\u001b[0m  63249775.6522  \u001b[35m25953996.0000\u001b[0m  0.0078\n",
      "    466  \u001b[36m5093.1460\u001b[0m  53914370.9565  \u001b[35m25940132.0000\u001b[0m  0.0063\n",
      "    467  \u001b[36m5091.8291\u001b[0m  58427133.5652  \u001b[35m25926726.0000\u001b[0m  0.0760\n",
      "    468  \u001b[36m5089.5010\u001b[0m  66099597.0435  \u001b[35m25903020.0000\u001b[0m  0.0062\n",
      "    469  \u001b[36m5087.1206\u001b[0m  47175160.8696  \u001b[35m25878792.0000\u001b[0m  0.0064\n",
      "    470  \u001b[36m5085.3315\u001b[0m  49047850.6087  \u001b[35m25860602.0000\u001b[0m  0.0060\n",
      "    471  \u001b[36m5083.8799\u001b[0m  62965890.9565  \u001b[35m25845830.0000\u001b[0m  0.0737\n",
      "    472  \u001b[36m5083.3198\u001b[0m  51188183.3043  \u001b[35m25840140.0000\u001b[0m  0.0069\n",
      "    473  \u001b[36m5082.0229\u001b[0m  49020330.6087  \u001b[35m25826956.0000\u001b[0m  0.0069\n",
      "    474  \u001b[36m5079.9351\u001b[0m  43324785.5652  \u001b[35m25805742.0000\u001b[0m  0.0068\n",
      "    475  \u001b[36m5078.1450\u001b[0m  48352692.3478  \u001b[35m25787560.0000\u001b[0m  0.0074\n",
      "    476  \u001b[36m5076.3267\u001b[0m  55962723.1304  \u001b[35m25769090.0000\u001b[0m  0.0063\n",
      "    477  \u001b[36m5074.7480\u001b[0m  55823186.9565  \u001b[35m25753070.0000\u001b[0m  0.0062\n",
      "    478  \u001b[36m5073.6294\u001b[0m  47348825.7391  \u001b[35m25741714.0000\u001b[0m  0.0122\n",
      "    479  \u001b[36m5072.2861\u001b[0m  68025012.1739  \u001b[35m25728084.0000\u001b[0m  0.0074\n",
      "    480  \u001b[36m5071.3735\u001b[0m  \u001b[32m39619027.8261\u001b[0m  \u001b[35m25718830.0000\u001b[0m  0.0067\n",
      "    481  \u001b[36m5070.1489\u001b[0m  54709515.6522  \u001b[35m25706412.0000\u001b[0m  0.0069\n",
      "    482  \u001b[36m5068.2021\u001b[0m  53291431.4783  \u001b[35m25686674.0000\u001b[0m  0.0078\n",
      "    483  \u001b[36m5067.5122\u001b[0m  48213913.5652  \u001b[35m25679680.0000\u001b[0m  0.0080\n",
      "    484  \u001b[36m5066.9136\u001b[0m  49943500.1739  \u001b[35m25673608.0000\u001b[0m  0.0074\n",
      "    485  \u001b[36m5065.8472\u001b[0m  59317569.0435  \u001b[35m25662804.0000\u001b[0m  0.0068\n",
      "    486  \u001b[36m5063.5596\u001b[0m  47813241.4783  \u001b[35m25639632.0000\u001b[0m  0.0752\n",
      "    487  \u001b[36m5060.5288\u001b[0m  57654032.1739  \u001b[35m25608954.0000\u001b[0m  0.0076\n",
      "    488  \u001b[36m5057.3086\u001b[0m  54083419.3043  \u001b[35m25576368.0000\u001b[0m  0.0077\n",
      "    489  \u001b[36m5055.3081\u001b[0m  48451406.2609  \u001b[35m25556142.0000\u001b[0m  0.0074\n",
      "    490  \u001b[36m5053.3076\u001b[0m  58052011.3043  \u001b[35m25535916.0000\u001b[0m  0.0710\n",
      "    491  \u001b[36m5051.9517\u001b[0m  54807197.0435  \u001b[35m25522218.0000\u001b[0m  0.0086\n",
      "    492  5052.8940  60847520.0000  25531738.0000  0.0077\n",
      "    493  5053.7598  48359318.6087  25540486.0000  0.0752\n",
      "    494  5052.8218  50327592.6957  25531010.0000  0.0077\n",
      "    495  \u001b[36m5051.3794\u001b[0m  47734380.8696  \u001b[35m25516430.0000\u001b[0m  0.0071\n",
      "    496  \u001b[36m5049.2949\u001b[0m  48614274.0870  \u001b[35m25495378.0000\u001b[0m  0.0125\n",
      "    497  \u001b[36m5046.0195\u001b[0m  53642424.8696  \u001b[35m25462312.0000\u001b[0m  0.0684\n",
      "    498  \u001b[36m5043.8032\u001b[0m  51837876.3478  \u001b[35m25439954.0000\u001b[0m  0.0077\n",
      "    499  \u001b[36m5042.3403\u001b[0m  42568882.0870  \u001b[35m25425196.0000\u001b[0m  0.0071\n",
      "    500  \u001b[36m5039.5371\u001b[0m  71083496.6957  \u001b[35m25396934.0000\u001b[0m  0.0770\n",
      "CPU times: user 26 s, sys: 766 ms, total: 26.7 s\n",
      "Wall time: 29 s\n"
     ]
    },
    {
     "data": {
      "text/plain": [
       "RandomizedSearchCV(cv=3,\n",
       "                   estimator=<class 'skorch.regressor.NeuralNetRegressor'>[uninitialized](\n",
       "  module=<class '__main__.Model_improve'>,\n",
       "),\n",
       "                   param_distributions={'module__dropout_1': [0.1, 0.2, 0.3,\n",
       "                                                              0.4, 0.5],\n",
       "                                        'module__dropout_2': [0.3, 0.4, 0.5,\n",
       "                                                              0.6, 0.7],\n",
       "                                        'module__dropout_3': [0.3, 0.4, 0.5,\n",
       "                                                              0.6, 0.7],\n",
       "                                        'module__dropout_4': [0.1, 0.2, 0.3,\n",
       "                                                              0.4, 0.5],\n",
       "                                        'module__n_hidden_neurons_1': range(10, 30, 5),\n",
       "                                        'module__n_hidden_neurons_2': range(10, 30, 5),\n",
       "                                        'module__n_hidden_neurons_3': range(10, 30, 5),\n",
       "                                        'module__n_hidden_neurons_4': range(10, 30, 5),\n",
       "                                        'module__n_in_neurons': [10],\n",
       "                                        'module__n_out_neurons': [1]},\n",
       "                   scoring='neg_root_mean_squared_error', verbose=3)"
      ]
     },
     "execution_count": 29,
     "metadata": {},
     "output_type": "execute_result"
    }
   ],
   "source": [
    "%%time\n",
    "grid = RandomizedSearchCV(skorch_regressor, params, cv=3, scoring=\"neg_root_mean_squared_error\", verbose=3) \n",
    "grid.fit(X_train, y_train.reshape(-1,1)) "
   ]
  },
  {
   "cell_type": "code",
   "execution_count": 30,
   "id": "482ee08d",
   "metadata": {},
   "outputs": [
    {
     "data": {
      "text/plain": [
       "7080.5312"
      ]
     },
     "execution_count": 30,
     "metadata": {},
     "output_type": "execute_result"
    }
   ],
   "source": [
    "from sklearn.metrics import mean_squared_error\n",
    "\n",
    "mean_squared_error(y_test, grid.predict(X_test), squared=False)"
   ]
  },
  {
   "cell_type": "code",
   "execution_count": 31,
   "id": "514ee226",
   "metadata": {
    "scrolled": false
   },
   "outputs": [
    {
     "data": {
      "image/png": "[encoded data removed]",
      "text/plain": [
       "<Figure size 1296x576 with 1 Axes>"
      ]
     },
     "metadata": {
      "needs_background": "light"
     },
     "output_type": "display_data"
    }
   ],
   "source": [
    "y1 = test_preds.detach().numpy().reshape([-1])\n",
    "y2 = y_test.detach().numpy().reshape([-1])\n",
    "x = np.arange(len(y1))\n",
    "\n",
    "fig,ax = plt.subplots()\n",
    "fig.set_figwidth(18)\n",
    "fig.set_figheight(8)\n",
    "ax.set_xticks(x)\n",
    "first = ax.bar(x-0.15, y1, width = 0.3, label = 'Прогноз')\n",
    "second = ax.bar(x+0.15, y2, width = 0.3, label = 'Факт')\n",
    "ax.legend()\n",
    "ax.set_title('График \"Факт-прогноз\"', fontsize=20)\n",
    "ax.set_xlabel('Номер звезды')\n",
    "ax.set_ylabel('Температура звезды')\n",
    "plt.show()"
   ]
  },
  {
   "cell_type": "markdown",
   "id": "accurate-infrastructure",
   "metadata": {},
   "source": [
    "## Выводы"
   ]
  },
  {
   "cell_type": "markdown",
   "id": "cc943b58",
   "metadata": {},
   "source": [
    "В данном проекте, нам нужно было обучить нейронную сеть для предсказания температуры звезд, мы выполнили следующие шаги:\n",
    "- Обучили нейронную сеть и добились достаточного значения на нашей метрике `RMSE`, а именно 4339.67.\n",
    "- С помощью кросс-валидации, получилось получить ещё меньшее значение нашей метрики.\n",
    "- Построили графики обучения, чтобы посмотреть, не переобучается / недообучается ли модель\n",
    "- Построили графики \"факт-прогноз\""
   ]
  }
 ],
 "metadata": {
  "ExecuteTimeLog": [
   {
    "duration": 356,
    "start_time": "2023-01-28T07:28:13.990Z"
   },
   {
    "duration": 76,
    "start_time": "2023-01-28T07:28:35.840Z"
   },
   {
    "duration": 46,
    "start_time": "2023-01-28T07:28:40.474Z"
   },
   {
    "duration": 77,
    "start_time": "2023-01-28T07:30:25.481Z"
   },
   {
    "duration": 46,
    "start_time": "2023-01-28T07:30:43.801Z"
   },
   {
    "duration": 63,
    "start_time": "2023-01-28T07:31:22.331Z"
   },
   {
    "duration": 7,
    "start_time": "2023-01-28T07:31:34.033Z"
   },
   {
    "duration": 43,
    "start_time": "2023-01-28T07:31:52.778Z"
   },
   {
    "duration": 36,
    "start_time": "2023-01-28T07:32:07.177Z"
   },
   {
    "duration": 40,
    "start_time": "2023-01-28T07:32:20.903Z"
   },
   {
    "duration": 13,
    "start_time": "2023-01-28T07:32:31.037Z"
   },
   {
    "duration": 31,
    "start_time": "2023-01-28T07:33:08.957Z"
   },
   {
    "duration": 4,
    "start_time": "2023-01-28T07:34:49.979Z"
   },
   {
    "duration": 41,
    "start_time": "2023-01-28T07:34:54.031Z"
   },
   {
    "duration": 4,
    "start_time": "2023-01-28T07:35:01.499Z"
   },
   {
    "duration": 10,
    "start_time": "2023-01-28T07:35:07.602Z"
   },
   {
    "duration": 14,
    "start_time": "2023-01-28T07:35:12.531Z"
   },
   {
    "duration": 25,
    "start_time": "2023-01-28T07:35:23.395Z"
   },
   {
    "duration": 22,
    "start_time": "2023-01-28T07:37:22.124Z"
   },
   {
    "duration": 438,
    "start_time": "2023-02-03T17:46:34.537Z"
   },
   {
    "duration": 118,
    "start_time": "2023-02-03T17:46:34.976Z"
   },
   {
    "duration": 26,
    "start_time": "2023-02-03T17:46:35.096Z"
   },
   {
    "duration": 77,
    "start_time": "2023-02-03T17:46:35.124Z"
   },
   {
    "duration": 410,
    "start_time": "2023-02-06T14:55:48.701Z"
   },
   {
    "duration": 80,
    "start_time": "2023-02-06T14:55:49.166Z"
   },
   {
    "duration": 23,
    "start_time": "2023-02-06T14:55:50.486Z"
   },
   {
    "duration": 2257,
    "start_time": "2023-02-06T19:16:04.514Z"
   },
   {
    "duration": 5,
    "start_time": "2023-02-06T19:16:30.964Z"
   },
   {
    "duration": 145,
    "start_time": "2023-02-06T19:16:47.736Z"
   },
   {
    "duration": 10,
    "start_time": "2023-02-06T19:16:51.229Z"
   },
   {
    "duration": 6,
    "start_time": "2023-02-06T19:16:54.554Z"
   },
   {
    "duration": 12,
    "start_time": "2023-02-06T19:16:54.562Z"
   },
   {
    "duration": 201,
    "start_time": "2023-02-06T19:16:54.575Z"
   },
   {
    "duration": 27,
    "start_time": "2023-02-06T19:16:54.778Z"
   },
   {
    "duration": 2293,
    "start_time": "2023-02-06T19:16:54.807Z"
   },
   {
    "duration": 4,
    "start_time": "2023-02-06T19:17:16.720Z"
   },
   {
    "duration": 13,
    "start_time": "2023-02-06T19:17:31.486Z"
   },
   {
    "duration": 7,
    "start_time": "2023-02-06T19:17:34.961Z"
   },
   {
    "duration": 13,
    "start_time": "2023-02-06T19:18:10.254Z"
   },
   {
    "duration": 20,
    "start_time": "2023-02-06T19:18:22.849Z"
   },
   {
    "duration": 48,
    "start_time": "2023-02-06T19:18:32.254Z"
   },
   {
    "duration": 13,
    "start_time": "2023-02-06T19:18:41.805Z"
   },
   {
    "duration": 9,
    "start_time": "2023-02-06T19:19:12.430Z"
   },
   {
    "duration": 8,
    "start_time": "2023-02-06T19:19:34.989Z"
   },
   {
    "duration": 24,
    "start_time": "2023-02-06T19:23:30.300Z"
   },
   {
    "duration": 1828,
    "start_time": "2023-02-06T19:23:31.873Z"
   },
   {
    "duration": 49,
    "start_time": "2023-02-06T19:23:35.656Z"
   },
   {
    "duration": 3,
    "start_time": "2023-02-06T19:26:59.987Z"
   },
   {
    "duration": 8,
    "start_time": "2023-02-06T19:27:16.867Z"
   },
   {
    "duration": 3,
    "start_time": "2023-02-06T19:30:07.071Z"
   },
   {
    "duration": 11,
    "start_time": "2023-02-06T19:30:14.064Z"
   },
   {
    "duration": 13,
    "start_time": "2023-02-06T19:30:32.217Z"
   },
   {
    "duration": 17,
    "start_time": "2023-02-06T19:30:39.833Z"
   },
   {
    "duration": 20,
    "start_time": "2023-02-06T19:31:22.110Z"
   },
   {
    "duration": 2,
    "start_time": "2023-02-06T19:32:40.245Z"
   },
   {
    "duration": 1165,
    "start_time": "2023-02-06T19:32:40.729Z"
   },
   {
    "duration": 3,
    "start_time": "2023-02-06T19:32:52.538Z"
   },
   {
    "duration": 15,
    "start_time": "2023-02-06T19:32:52.831Z"
   },
   {
    "duration": 12,
    "start_time": "2023-02-06T19:33:53.280Z"
   },
   {
    "duration": 1743,
    "start_time": "2023-02-06T19:34:45.088Z"
   },
   {
    "duration": 3,
    "start_time": "2023-02-06T19:34:46.833Z"
   },
   {
    "duration": 114,
    "start_time": "2023-02-06T19:34:46.838Z"
   },
   {
    "duration": 23,
    "start_time": "2023-02-06T19:34:46.954Z"
   },
   {
    "duration": 1880,
    "start_time": "2023-02-06T19:34:46.979Z"
   },
   {
    "duration": 47,
    "start_time": "2023-02-06T19:34:48.860Z"
   },
   {
    "duration": 3,
    "start_time": "2023-02-06T19:34:48.909Z"
   },
   {
    "duration": 7,
    "start_time": "2023-02-06T19:34:48.914Z"
   },
   {
    "duration": 31,
    "start_time": "2023-02-06T19:34:48.923Z"
   },
   {
    "duration": 5,
    "start_time": "2023-02-06T19:34:48.955Z"
   },
   {
    "duration": 27,
    "start_time": "2023-02-06T19:34:48.962Z"
   },
   {
    "duration": 138,
    "start_time": "2023-02-06T19:43:03.007Z"
   },
   {
    "duration": 8,
    "start_time": "2023-02-06T19:43:14.064Z"
   },
   {
    "duration": 128,
    "start_time": "2023-02-06T19:43:23.137Z"
   },
   {
    "duration": 57,
    "start_time": "2023-02-06T19:43:45.346Z"
   },
   {
    "duration": 3199,
    "start_time": "2023-02-07T11:32:04.109Z"
   },
   {
    "duration": 5,
    "start_time": "2023-02-07T11:32:07.311Z"
   },
   {
    "duration": 203,
    "start_time": "2023-02-07T11:32:07.318Z"
   },
   {
    "duration": 45,
    "start_time": "2023-02-07T11:32:07.524Z"
   },
   {
    "duration": 1983,
    "start_time": "2023-02-07T11:32:07.571Z"
   },
   {
    "duration": 48,
    "start_time": "2023-02-07T11:32:09.556Z"
   },
   {
    "duration": 4,
    "start_time": "2023-02-07T11:32:09.606Z"
   },
   {
    "duration": 37,
    "start_time": "2023-02-07T11:32:09.612Z"
   },
   {
    "duration": 17,
    "start_time": "2023-02-07T11:32:09.652Z"
   },
   {
    "duration": 6,
    "start_time": "2023-02-07T11:32:09.671Z"
   },
   {
    "duration": 38,
    "start_time": "2023-02-07T11:32:09.679Z"
   },
   {
    "duration": 38,
    "start_time": "2023-02-07T11:32:09.719Z"
   },
   {
    "duration": 56,
    "start_time": "2023-02-07T11:32:09.758Z"
   },
   {
    "duration": 51,
    "start_time": "2023-02-07T11:32:28.972Z"
   },
   {
    "duration": 148,
    "start_time": "2023-02-07T11:40:09.045Z"
   },
   {
    "duration": 8,
    "start_time": "2023-02-07T11:40:09.872Z"
   },
   {
    "duration": 52,
    "start_time": "2023-02-07T11:40:10.401Z"
   },
   {
    "duration": 17,
    "start_time": "2023-02-07T11:42:00.115Z"
   },
   {
    "duration": 5,
    "start_time": "2023-02-07T11:42:17.850Z"
   },
   {
    "duration": 97,
    "start_time": "2023-02-07T11:42:18.286Z"
   },
   {
    "duration": 5,
    "start_time": "2023-02-07T11:42:54.170Z"
   },
   {
    "duration": 53,
    "start_time": "2023-02-07T11:42:54.368Z"
   },
   {
    "duration": 5,
    "start_time": "2023-02-07T11:43:08.972Z"
   },
   {
    "duration": 95,
    "start_time": "2023-02-07T11:43:09.346Z"
   },
   {
    "duration": 15,
    "start_time": "2023-02-07T11:43:18.031Z"
   },
   {
    "duration": 17,
    "start_time": "2023-02-07T11:43:32.247Z"
   },
   {
    "duration": 30,
    "start_time": "2023-02-07T11:44:15.321Z"
   },
   {
    "duration": 229,
    "start_time": "2023-02-07T11:44:58.233Z"
   },
   {
    "duration": 5,
    "start_time": "2023-02-07T11:45:23.572Z"
   },
   {
    "duration": 13,
    "start_time": "2023-02-07T11:46:57.578Z"
   },
   {
    "duration": 190,
    "start_time": "2023-02-07T11:47:08.123Z"
   },
   {
    "duration": 677,
    "start_time": "2023-02-07T11:47:23.633Z"
   },
   {
    "duration": 14,
    "start_time": "2023-02-07T11:48:28.359Z"
   },
   {
    "duration": 6,
    "start_time": "2023-02-07T11:48:35.951Z"
   },
   {
    "duration": 36,
    "start_time": "2023-02-07T11:48:36.698Z"
   },
   {
    "duration": 5,
    "start_time": "2023-02-07T11:48:44.534Z"
   },
   {
    "duration": 1898,
    "start_time": "2023-02-07T11:48:45.279Z"
   },
   {
    "duration": 355,
    "start_time": "2023-02-07T11:48:55.532Z"
   },
   {
    "duration": 621,
    "start_time": "2023-02-07T11:48:57.754Z"
   },
   {
    "duration": 94,
    "start_time": "2023-02-07T11:52:41.063Z"
   },
   {
    "duration": 12,
    "start_time": "2023-02-07T12:04:28.097Z"
   },
   {
    "duration": 4,
    "start_time": "2023-02-07T12:04:40.841Z"
   },
   {
    "duration": 5,
    "start_time": "2023-02-07T12:04:40.847Z"
   },
   {
    "duration": 52,
    "start_time": "2023-02-07T12:04:40.854Z"
   },
   {
    "duration": 130,
    "start_time": "2023-02-07T12:04:40.909Z"
   },
   {
    "duration": 1862,
    "start_time": "2023-02-07T12:04:41.041Z"
   },
   {
    "duration": 58,
    "start_time": "2023-02-07T12:04:42.905Z"
   },
   {
    "duration": 4,
    "start_time": "2023-02-07T12:04:42.965Z"
   },
   {
    "duration": 38,
    "start_time": "2023-02-07T12:04:42.971Z"
   },
   {
    "duration": 29,
    "start_time": "2023-02-07T12:04:43.011Z"
   },
   {
    "duration": 24,
    "start_time": "2023-02-07T12:04:43.042Z"
   },
   {
    "duration": 32,
    "start_time": "2023-02-07T12:04:43.067Z"
   },
   {
    "duration": 20,
    "start_time": "2023-02-07T12:04:43.101Z"
   },
   {
    "duration": 68,
    "start_time": "2023-02-07T12:04:43.123Z"
   },
   {
    "duration": 2070,
    "start_time": "2023-02-08T17:33:43.668Z"
   },
   {
    "duration": 4,
    "start_time": "2023-02-08T17:33:45.740Z"
   },
   {
    "duration": 177,
    "start_time": "2023-02-08T17:33:45.745Z"
   },
   {
    "duration": 22,
    "start_time": "2023-02-08T17:33:45.923Z"
   },
   {
    "duration": 1821,
    "start_time": "2023-02-08T17:33:45.947Z"
   },
   {
    "duration": 52,
    "start_time": "2023-02-08T17:33:47.770Z"
   },
   {
    "duration": 3,
    "start_time": "2023-02-08T17:33:47.824Z"
   },
   {
    "duration": 8,
    "start_time": "2023-02-08T17:33:47.828Z"
   },
   {
    "duration": 36,
    "start_time": "2023-02-08T17:33:47.837Z"
   },
   {
    "duration": 5,
    "start_time": "2023-02-08T17:33:47.874Z"
   },
   {
    "duration": 25,
    "start_time": "2023-02-08T17:33:47.881Z"
   },
   {
    "duration": 8,
    "start_time": "2023-02-08T17:33:47.907Z"
   },
   {
    "duration": 88,
    "start_time": "2023-02-08T17:33:47.916Z"
   },
   {
    "duration": 16,
    "start_time": "2023-02-08T17:33:48.006Z"
   },
   {
    "duration": 6,
    "start_time": "2023-02-08T17:33:48.023Z"
   },
   {
    "duration": 36,
    "start_time": "2023-02-08T17:33:48.031Z"
   },
   {
    "duration": 137,
    "start_time": "2023-02-08T17:33:48.069Z"
   },
   {
    "duration": 0,
    "start_time": "2023-02-08T17:33:48.207Z"
   },
   {
    "duration": 0,
    "start_time": "2023-02-08T17:33:48.208Z"
   },
   {
    "duration": 0,
    "start_time": "2023-02-08T17:33:48.209Z"
   },
   {
    "duration": 6,
    "start_time": "2023-02-08T17:36:07.031Z"
   },
   {
    "duration": 10,
    "start_time": "2023-02-08T17:36:07.232Z"
   },
   {
    "duration": 1867,
    "start_time": "2023-02-08T17:36:07.420Z"
   },
   {
    "duration": 332,
    "start_time": "2023-02-08T17:36:09.288Z"
   },
   {
    "duration": 563,
    "start_time": "2023-02-08T17:36:09.622Z"
   },
   {
    "duration": 5,
    "start_time": "2023-02-08T17:36:22.800Z"
   },
   {
    "duration": 7,
    "start_time": "2023-02-08T17:36:22.989Z"
   },
   {
    "duration": 1761,
    "start_time": "2023-02-08T17:36:23.171Z"
   },
   {
    "duration": 441,
    "start_time": "2023-02-08T17:36:24.936Z"
   },
   {
    "duration": 17,
    "start_time": "2023-02-08T18:12:18.723Z"
   },
   {
    "duration": 6,
    "start_time": "2023-02-08T18:12:37.256Z"
   },
   {
    "duration": 4,
    "start_time": "2023-02-08T18:12:39.471Z"
   },
   {
    "duration": 10,
    "start_time": "2023-02-08T18:12:42.896Z"
   },
   {
    "duration": 6,
    "start_time": "2023-02-08T18:12:43.225Z"
   },
   {
    "duration": 4,
    "start_time": "2023-02-08T18:13:01.837Z"
   },
   {
    "duration": 6,
    "start_time": "2023-02-08T18:13:02.366Z"
   },
   {
    "duration": 8,
    "start_time": "2023-02-08T18:13:02.757Z"
   },
   {
    "duration": 1732,
    "start_time": "2023-02-08T18:13:03.070Z"
   },
   {
    "duration": 431,
    "start_time": "2023-02-08T18:13:04.805Z"
   },
   {
    "duration": 615,
    "start_time": "2023-02-08T18:13:05.238Z"
   },
   {
    "duration": 14,
    "start_time": "2023-02-08T18:13:28.007Z"
   },
   {
    "duration": 28,
    "start_time": "2023-02-08T18:13:28.250Z"
   },
   {
    "duration": 14,
    "start_time": "2023-02-08T18:13:28.675Z"
   },
   {
    "duration": 6,
    "start_time": "2023-02-08T18:13:29.020Z"
   },
   {
    "duration": 6,
    "start_time": "2023-02-08T18:13:29.214Z"
   },
   {
    "duration": 1835,
    "start_time": "2023-02-08T18:13:29.387Z"
   },
   {
    "duration": 334,
    "start_time": "2023-02-08T18:13:31.224Z"
   },
   {
    "duration": 603,
    "start_time": "2023-02-08T18:13:31.567Z"
   },
   {
    "duration": 4,
    "start_time": "2023-02-08T18:13:38.274Z"
   },
   {
    "duration": 12,
    "start_time": "2023-02-08T18:13:38.280Z"
   },
   {
    "duration": 49,
    "start_time": "2023-02-08T18:13:38.294Z"
   },
   {
    "duration": 26,
    "start_time": "2023-02-08T18:13:38.345Z"
   },
   {
    "duration": 1931,
    "start_time": "2023-02-08T18:13:38.374Z"
   },
   {
    "duration": 64,
    "start_time": "2023-02-08T18:13:40.307Z"
   },
   {
    "duration": 5,
    "start_time": "2023-02-08T18:13:40.373Z"
   },
   {
    "duration": 27,
    "start_time": "2023-02-08T18:13:40.380Z"
   },
   {
    "duration": 17,
    "start_time": "2023-02-08T18:13:40.409Z"
   },
   {
    "duration": 10,
    "start_time": "2023-02-08T18:13:40.428Z"
   },
   {
    "duration": 48,
    "start_time": "2023-02-08T18:13:40.440Z"
   },
   {
    "duration": 14,
    "start_time": "2023-02-08T18:13:40.490Z"
   },
   {
    "duration": 85,
    "start_time": "2023-02-08T18:13:40.507Z"
   },
   {
    "duration": 29,
    "start_time": "2023-02-08T18:13:40.594Z"
   },
   {
    "duration": 10,
    "start_time": "2023-02-08T18:13:40.625Z"
   },
   {
    "duration": 35,
    "start_time": "2023-02-08T18:13:40.638Z"
   },
   {
    "duration": 15,
    "start_time": "2023-02-08T18:13:40.675Z"
   },
   {
    "duration": 1789,
    "start_time": "2023-02-08T18:13:40.692Z"
   },
   {
    "duration": 336,
    "start_time": "2023-02-08T18:13:42.483Z"
   },
   {
    "duration": 631,
    "start_time": "2023-02-08T18:13:42.821Z"
   },
   {
    "duration": 6,
    "start_time": "2023-02-08T18:17:36.560Z"
   },
   {
    "duration": 7,
    "start_time": "2023-02-08T18:17:37.374Z"
   },
   {
    "duration": 11321,
    "start_time": "2023-02-08T18:17:42.854Z"
   },
   {
    "duration": 2052,
    "start_time": "2023-02-08T18:17:58.319Z"
   },
   {
    "duration": 5,
    "start_time": "2023-02-08T18:18:40.868Z"
   },
   {
    "duration": 7,
    "start_time": "2023-02-08T18:18:41.305Z"
   },
   {
    "duration": 36,
    "start_time": "2023-02-08T18:18:44.323Z"
   },
   {
    "duration": 5,
    "start_time": "2023-02-08T18:19:40.465Z"
   },
   {
    "duration": 7,
    "start_time": "2023-02-08T18:19:40.837Z"
   },
   {
    "duration": 13731,
    "start_time": "2023-02-08T18:19:41.251Z"
   },
   {
    "duration": 2789,
    "start_time": "2023-02-08T18:19:54.984Z"
   },
   {
    "duration": 22,
    "start_time": "2023-02-08T18:21:11.201Z"
   },
   {
    "duration": 16,
    "start_time": "2023-02-08T18:24:57.598Z"
   },
   {
    "duration": 20,
    "start_time": "2023-02-08T18:25:07.394Z"
   },
   {
    "duration": 3843,
    "start_time": "2023-02-08T18:26:13.836Z"
   },
   {
    "duration": 7,
    "start_time": "2023-02-08T18:27:18.808Z"
   },
   {
    "duration": 5732,
    "start_time": "2023-02-08T18:27:34.257Z"
   },
   {
    "duration": 5,
    "start_time": "2023-02-08T18:27:42.548Z"
   },
   {
    "duration": 2011,
    "start_time": "2023-02-08T18:27:47.465Z"
   },
   {
    "duration": 6,
    "start_time": "2023-02-08T18:27:49.478Z"
   },
   {
    "duration": 3852,
    "start_time": "2023-02-08T18:28:00.921Z"
   },
   {
    "duration": 5,
    "start_time": "2023-02-08T18:28:05.927Z"
   },
   {
    "duration": 698,
    "start_time": "2023-02-08T18:28:08.094Z"
   },
   {
    "duration": 14368,
    "start_time": "2023-02-08T18:37:38.518Z"
   },
   {
    "duration": 2947,
    "start_time": "2023-02-08T18:40:09.841Z"
   },
   {
    "duration": 4,
    "start_time": "2023-02-08T18:40:49.479Z"
   },
   {
    "duration": 6,
    "start_time": "2023-02-08T18:40:50.032Z"
   },
   {
    "duration": 25,
    "start_time": "2023-02-08T18:40:50.763Z"
   },
   {
    "duration": 4,
    "start_time": "2023-02-08T18:41:01.114Z"
   },
   {
    "duration": 6,
    "start_time": "2023-02-08T18:41:01.382Z"
   },
   {
    "duration": 11429,
    "start_time": "2023-02-08T18:41:01.657Z"
   },
   {
    "duration": 2177,
    "start_time": "2023-02-08T18:41:31.912Z"
   },
   {
    "duration": 617,
    "start_time": "2023-02-08T18:41:38.380Z"
   },
   {
    "duration": 7,
    "start_time": "2023-02-08T18:43:22.207Z"
   },
   {
    "duration": 6,
    "start_time": "2023-02-08T18:43:23.382Z"
   },
   {
    "duration": 1720,
    "start_time": "2023-02-08T18:43:27.425Z"
   },
   {
    "duration": 354,
    "start_time": "2023-02-08T18:43:41.289Z"
   },
   {
    "duration": 605,
    "start_time": "2023-02-08T18:43:42.564Z"
   },
   {
    "duration": 1846,
    "start_time": "2023-02-08T18:53:37.728Z"
   },
   {
    "duration": 382,
    "start_time": "2023-02-08T18:53:46.626Z"
   },
   {
    "duration": 13,
    "start_time": "2023-02-08T18:53:58.157Z"
   },
   {
    "duration": 377,
    "start_time": "2023-02-08T18:54:04.038Z"
   },
   {
    "duration": 1885,
    "start_time": "2023-02-08T18:54:31.983Z"
   },
   {
    "duration": 423,
    "start_time": "2023-02-08T18:54:33.871Z"
   },
   {
    "duration": 5,
    "start_time": "2023-02-08T18:57:05.279Z"
   },
   {
    "duration": 12,
    "start_time": "2023-02-08T18:57:20.744Z"
   },
   {
    "duration": 1765,
    "start_time": "2023-02-08T18:57:21.590Z"
   },
   {
    "duration": 373,
    "start_time": "2023-02-08T18:57:27.785Z"
   },
   {
    "duration": 6,
    "start_time": "2023-02-08T18:57:51.231Z"
   },
   {
    "duration": 1816,
    "start_time": "2023-02-08T18:57:53.654Z"
   },
   {
    "duration": 373,
    "start_time": "2023-02-08T18:58:00.621Z"
   },
   {
    "duration": 607,
    "start_time": "2023-02-08T18:58:03.118Z"
   },
   {
    "duration": 123,
    "start_time": "2023-02-08T18:59:02.288Z"
   },
   {
    "duration": 342,
    "start_time": "2023-02-08T19:06:10.618Z"
   },
   {
    "duration": 13,
    "start_time": "2023-02-08T19:06:30.219Z"
   },
   {
    "duration": 71,
    "start_time": "2023-02-08T19:08:53.585Z"
   },
   {
    "duration": 17,
    "start_time": "2023-02-08T19:08:59.724Z"
   },
   {
    "duration": 76586,
    "start_time": "2023-02-08T19:09:54.929Z"
   },
   {
    "duration": 71673,
    "start_time": "2023-02-08T19:15:03.473Z"
   },
   {
    "duration": 5,
    "start_time": "2023-02-08T19:16:15.149Z"
   },
   {
    "duration": 5,
    "start_time": "2023-02-08T19:16:26.722Z"
   },
   {
    "duration": 3,
    "start_time": "2023-02-08T19:17:20.785Z"
   },
   {
    "duration": 4,
    "start_time": "2023-02-08T19:19:12.500Z"
   },
   {
    "duration": 7,
    "start_time": "2023-02-08T19:19:12.506Z"
   },
   {
    "duration": 51,
    "start_time": "2023-02-08T19:19:12.515Z"
   },
   {
    "duration": 24,
    "start_time": "2023-02-08T19:19:12.568Z"
   },
   {
    "duration": 2027,
    "start_time": "2023-02-08T19:19:12.594Z"
   },
   {
    "duration": 9,
    "start_time": "2023-02-08T19:19:14.623Z"
   },
   {
    "duration": 5,
    "start_time": "2023-02-08T19:19:14.634Z"
   },
   {
    "duration": 29,
    "start_time": "2023-02-08T19:19:14.641Z"
   },
   {
    "duration": 8,
    "start_time": "2023-02-08T19:19:14.672Z"
   },
   {
    "duration": 5,
    "start_time": "2023-02-08T19:19:14.682Z"
   },
   {
    "duration": 28,
    "start_time": "2023-02-08T19:19:14.689Z"
   },
   {
    "duration": 7,
    "start_time": "2023-02-08T19:19:14.719Z"
   },
   {
    "duration": 89,
    "start_time": "2023-02-08T19:19:14.728Z"
   },
   {
    "duration": 22,
    "start_time": "2023-02-08T19:19:14.818Z"
   },
   {
    "duration": 27,
    "start_time": "2023-02-08T19:19:14.842Z"
   },
   {
    "duration": 8,
    "start_time": "2023-02-08T19:19:14.870Z"
   },
   {
    "duration": 9,
    "start_time": "2023-02-08T19:19:14.879Z"
   },
   {
    "duration": 1971,
    "start_time": "2023-02-08T19:19:14.889Z"
   },
   {
    "duration": 377,
    "start_time": "2023-02-08T19:19:16.867Z"
   },
   {
    "duration": 595,
    "start_time": "2023-02-08T19:19:17.246Z"
   },
   {
    "duration": 72369,
    "start_time": "2023-02-08T19:19:17.842Z"
   },
   {
    "duration": 3,
    "start_time": "2023-02-08T19:20:30.213Z"
   },
   {
    "duration": 65,
    "start_time": "2023-02-10T11:08:05.479Z"
   },
   {
    "duration": 2630,
    "start_time": "2023-02-10T11:08:09.835Z"
   },
   {
    "duration": 4,
    "start_time": "2023-02-10T11:08:12.467Z"
   },
   {
    "duration": 150,
    "start_time": "2023-02-10T11:08:12.473Z"
   },
   {
    "duration": 29,
    "start_time": "2023-02-10T11:08:12.625Z"
   },
   {
    "duration": 1967,
    "start_time": "2023-02-10T11:08:12.655Z"
   },
   {
    "duration": 10,
    "start_time": "2023-02-10T11:08:14.623Z"
   },
   {
    "duration": 20,
    "start_time": "2023-02-10T11:08:14.634Z"
   },
   {
    "duration": 4,
    "start_time": "2023-02-10T11:08:16.879Z"
   },
   {
    "duration": 2,
    "start_time": "2023-02-10T11:08:30.671Z"
   },
   {
    "duration": 119,
    "start_time": "2023-02-10T11:14:14.034Z"
   },
   {
    "duration": 2881,
    "start_time": "2023-02-12T19:09:51.134Z"
   },
   {
    "duration": 140,
    "start_time": "2023-02-12T19:10:10.008Z"
   },
   {
    "duration": 5,
    "start_time": "2023-02-12T19:10:22.195Z"
   },
   {
    "duration": 24,
    "start_time": "2023-02-12T19:10:22.202Z"
   },
   {
    "duration": 198,
    "start_time": "2023-02-12T19:10:22.228Z"
   },
   {
    "duration": 20,
    "start_time": "2023-02-12T19:10:22.428Z"
   },
   {
    "duration": 2094,
    "start_time": "2023-02-12T19:10:22.449Z"
   },
   {
    "duration": 34,
    "start_time": "2023-02-12T19:10:24.545Z"
   },
   {
    "duration": 43,
    "start_time": "2023-02-12T19:10:24.583Z"
   },
   {
    "duration": 35,
    "start_time": "2023-02-12T19:10:24.628Z"
   },
   {
    "duration": 85,
    "start_time": "2023-02-12T19:10:24.664Z"
   },
   {
    "duration": 9,
    "start_time": "2023-02-12T19:10:48.108Z"
   },
   {
    "duration": 3,
    "start_time": "2023-02-12T19:10:50.218Z"
   },
   {
    "duration": 26,
    "start_time": "2023-02-12T19:10:51.746Z"
   },
   {
    "duration": 16,
    "start_time": "2023-02-12T19:11:03.814Z"
   },
   {
    "duration": 12,
    "start_time": "2023-02-12T19:11:10.607Z"
   },
   {
    "duration": 109,
    "start_time": "2023-02-12T19:11:14.107Z"
   },
   {
    "duration": 14,
    "start_time": "2023-02-12T19:11:20.277Z"
   },
   {
    "duration": 25,
    "start_time": "2023-02-12T19:11:23.357Z"
   },
   {
    "duration": 155,
    "start_time": "2023-02-12T19:11:24.551Z"
   },
   {
    "duration": 7,
    "start_time": "2023-02-12T19:11:31.495Z"
   },
   {
    "duration": 218,
    "start_time": "2023-02-12T19:11:33.012Z"
   },
   {
    "duration": 7,
    "start_time": "2023-02-12T19:11:43.000Z"
   },
   {
    "duration": 5,
    "start_time": "2023-02-12T19:11:44.634Z"
   },
   {
    "duration": 45,
    "start_time": "2023-02-12T19:11:45.260Z"
   },
   {
    "duration": 6,
    "start_time": "2023-02-12T19:12:48.344Z"
   },
   {
    "duration": 5,
    "start_time": "2023-02-12T19:12:50.242Z"
   },
   {
    "duration": 30,
    "start_time": "2023-02-12T19:12:52.309Z"
   },
   {
    "duration": 7,
    "start_time": "2023-02-12T19:13:01.822Z"
   },
   {
    "duration": 6,
    "start_time": "2023-02-12T19:13:02.754Z"
   },
   {
    "duration": 25,
    "start_time": "2023-02-12T19:13:03.325Z"
   },
   {
    "duration": 5,
    "start_time": "2023-02-12T19:13:58.459Z"
   },
   {
    "duration": 6,
    "start_time": "2023-02-12T19:13:59.222Z"
   },
   {
    "duration": 38,
    "start_time": "2023-02-12T19:13:59.573Z"
   },
   {
    "duration": 3,
    "start_time": "2023-02-12T19:14:46.760Z"
   },
   {
    "duration": 37,
    "start_time": "2023-02-12T19:14:47.456Z"
   },
   {
    "duration": 3,
    "start_time": "2023-02-12T19:15:00.203Z"
   },
   {
    "duration": 31,
    "start_time": "2023-02-12T19:15:00.208Z"
   },
   {
    "duration": 59,
    "start_time": "2023-02-12T19:15:00.240Z"
   },
   {
    "duration": 24,
    "start_time": "2023-02-12T19:15:00.301Z"
   },
   {
    "duration": 2035,
    "start_time": "2023-02-12T19:15:00.327Z"
   },
   {
    "duration": 25,
    "start_time": "2023-02-12T19:15:02.364Z"
   },
   {
    "duration": 24,
    "start_time": "2023-02-12T19:15:02.391Z"
   },
   {
    "duration": 41,
    "start_time": "2023-02-12T19:15:02.416Z"
   },
   {
    "duration": 41,
    "start_time": "2023-02-12T19:15:02.458Z"
   },
   {
    "duration": 14,
    "start_time": "2023-02-12T19:15:07.195Z"
   },
   {
    "duration": 3,
    "start_time": "2023-02-12T19:15:09.355Z"
   },
   {
    "duration": 36,
    "start_time": "2023-02-12T19:15:10.092Z"
   },
   {
    "duration": 5,
    "start_time": "2023-02-12T19:19:30.738Z"
   },
   {
    "duration": 12,
    "start_time": "2023-02-12T19:19:31.497Z"
   },
   {
    "duration": 10,
    "start_time": "2023-02-12T19:19:36.121Z"
   },
   {
    "duration": 18,
    "start_time": "2023-02-12T19:19:56.264Z"
   },
   {
    "duration": 14,
    "start_time": "2023-02-12T19:19:58.681Z"
   },
   {
    "duration": 3,
    "start_time": "2023-02-12T19:20:31.288Z"
   },
   {
    "duration": 16,
    "start_time": "2023-02-12T19:20:31.293Z"
   },
   {
    "duration": 54,
    "start_time": "2023-02-12T19:20:31.310Z"
   },
   {
    "duration": 23,
    "start_time": "2023-02-12T19:20:31.366Z"
   },
   {
    "duration": 1938,
    "start_time": "2023-02-12T19:20:31.390Z"
   },
   {
    "duration": 14,
    "start_time": "2023-02-12T19:20:33.330Z"
   },
   {
    "duration": 23,
    "start_time": "2023-02-12T19:20:33.346Z"
   },
   {
    "duration": 10,
    "start_time": "2023-02-12T19:20:33.371Z"
   },
   {
    "duration": 4,
    "start_time": "2023-02-12T19:20:33.383Z"
   },
   {
    "duration": 77,
    "start_time": "2023-02-12T19:21:07.469Z"
   },
   {
    "duration": 17,
    "start_time": "2023-02-12T19:21:11.998Z"
   },
   {
    "duration": 12,
    "start_time": "2023-02-12T19:21:34.951Z"
   },
   {
    "duration": 17,
    "start_time": "2023-02-12T19:21:54.980Z"
   },
   {
    "duration": 9,
    "start_time": "2023-02-12T19:21:59.289Z"
   },
   {
    "duration": 12,
    "start_time": "2023-02-12T19:22:03.328Z"
   },
   {
    "duration": 4,
    "start_time": "2023-02-12T19:22:21.036Z"
   },
   {
    "duration": 9,
    "start_time": "2023-02-12T19:22:21.042Z"
   },
   {
    "duration": 43,
    "start_time": "2023-02-12T19:22:21.052Z"
   },
   {
    "duration": 20,
    "start_time": "2023-02-12T19:22:21.097Z"
   },
   {
    "duration": 1750,
    "start_time": "2023-02-12T19:22:21.119Z"
   },
   {
    "duration": 9,
    "start_time": "2023-02-12T19:22:22.871Z"
   },
   {
    "duration": 14,
    "start_time": "2023-02-12T19:22:22.881Z"
   },
   {
    "duration": 8,
    "start_time": "2023-02-12T19:22:22.897Z"
   },
   {
    "duration": 8,
    "start_time": "2023-02-12T19:22:22.907Z"
   },
   {
    "duration": 12,
    "start_time": "2023-02-12T19:22:32.184Z"
   },
   {
    "duration": 68,
    "start_time": "2023-02-12T19:22:37.149Z"
   },
   {
    "duration": 4,
    "start_time": "2023-02-12T19:22:39.740Z"
   },
   {
    "duration": 8,
    "start_time": "2023-02-12T19:22:41.398Z"
   },
   {
    "duration": 14,
    "start_time": "2023-02-12T19:22:49.062Z"
   },
   {
    "duration": 18,
    "start_time": "2023-02-12T19:22:56.996Z"
   },
   {
    "duration": 21,
    "start_time": "2023-02-12T19:23:09.267Z"
   },
   {
    "duration": 9,
    "start_time": "2023-02-12T19:23:22.407Z"
   },
   {
    "duration": 1842,
    "start_time": "2023-02-12T19:23:59.379Z"
   },
   {
    "duration": 5,
    "start_time": "2023-02-12T19:24:01.223Z"
   },
   {
    "duration": 166,
    "start_time": "2023-02-12T19:24:01.229Z"
   },
   {
    "duration": 25,
    "start_time": "2023-02-12T19:24:01.396Z"
   },
   {
    "duration": 1948,
    "start_time": "2023-02-12T19:24:01.422Z"
   },
   {
    "duration": 11,
    "start_time": "2023-02-12T19:24:03.372Z"
   },
   {
    "duration": 45,
    "start_time": "2023-02-12T19:24:03.384Z"
   },
   {
    "duration": 9,
    "start_time": "2023-02-12T19:24:03.431Z"
   },
   {
    "duration": 4,
    "start_time": "2023-02-12T19:24:03.441Z"
   },
   {
    "duration": 9,
    "start_time": "2023-02-12T19:24:07.250Z"
   },
   {
    "duration": 9,
    "start_time": "2023-02-12T19:24:09.804Z"
   },
   {
    "duration": 3,
    "start_time": "2023-02-12T19:24:18.369Z"
   },
   {
    "duration": 21,
    "start_time": "2023-02-12T19:24:20.198Z"
   },
   {
    "duration": 4,
    "start_time": "2023-02-12T19:24:24.421Z"
   },
   {
    "duration": 5,
    "start_time": "2023-02-12T19:24:26.416Z"
   },
   {
    "duration": 6,
    "start_time": "2023-02-12T19:24:29.758Z"
   },
   {
    "duration": 149,
    "start_time": "2023-02-12T19:24:30.525Z"
   },
   {
    "duration": 6,
    "start_time": "2023-02-12T19:24:37.752Z"
   },
   {
    "duration": 1633,
    "start_time": "2023-02-12T19:24:39.653Z"
   },
   {
    "duration": 2,
    "start_time": "2023-02-12T19:31:45.346Z"
   },
   {
    "duration": 3,
    "start_time": "2023-02-12T19:32:16.928Z"
   },
   {
    "duration": 1792,
    "start_time": "2023-02-12T19:32:34.983Z"
   },
   {
    "duration": 9,
    "start_time": "2023-02-12T19:33:20.473Z"
   },
   {
    "duration": 143,
    "start_time": "2023-02-12T19:33:28.499Z"
   },
   {
    "duration": 106,
    "start_time": "2023-02-12T19:33:49.205Z"
   },
   {
    "duration": 128,
    "start_time": "2023-02-12T19:33:54.587Z"
   },
   {
    "duration": 1865,
    "start_time": "2023-02-12T19:34:04.107Z"
   },
   {
    "duration": 194,
    "start_time": "2023-02-12T19:34:08.219Z"
   },
   {
    "duration": 1758,
    "start_time": "2023-02-12T19:34:57.713Z"
   },
   {
    "duration": 179,
    "start_time": "2023-02-12T19:35:09.495Z"
   },
   {
    "duration": 1582,
    "start_time": "2023-02-12T19:35:22.271Z"
   },
   {
    "duration": 129,
    "start_time": "2023-02-12T19:35:27.540Z"
   },
   {
    "duration": 12,
    "start_time": "2023-02-12T19:36:00.581Z"
   },
   {
    "duration": 1881,
    "start_time": "2023-02-12T19:36:01.355Z"
   },
   {
    "duration": 132,
    "start_time": "2023-02-12T19:36:05.580Z"
   },
   {
    "duration": 442,
    "start_time": "2023-02-12T19:36:35.390Z"
   },
   {
    "duration": 370,
    "start_time": "2023-02-12T19:36:51.393Z"
   },
   {
    "duration": 422,
    "start_time": "2023-02-12T19:37:28.055Z"
   },
   {
    "duration": 372,
    "start_time": "2023-02-12T19:37:57.753Z"
   },
   {
    "duration": 661,
    "start_time": "2023-02-12T19:38:03.187Z"
   },
   {
    "duration": 71697,
    "start_time": "2023-02-12T19:38:36.147Z"
   },
   {
    "duration": 3,
    "start_time": "2023-02-12T19:39:47.846Z"
   },
   {
    "duration": 4,
    "start_time": "2023-02-12T19:41:20.825Z"
   },
   {
    "duration": 76,
    "start_time": "2023-02-12T19:41:51.884Z"
   },
   {
    "duration": 5,
    "start_time": "2023-02-12T19:42:17.778Z"
   },
   {
    "duration": 88,
    "start_time": "2023-02-12T19:46:41.797Z"
   },
   {
    "duration": 95,
    "start_time": "2023-02-12T19:46:50.414Z"
   },
   {
    "duration": 94,
    "start_time": "2023-02-12T19:47:13.612Z"
   },
   {
    "duration": 32,
    "start_time": "2023-02-12T20:32:06.203Z"
   },
   {
    "duration": 4,
    "start_time": "2023-02-12T20:32:56.690Z"
   },
   {
    "duration": 74262,
    "start_time": "2023-02-12T20:33:00.691Z"
   },
   {
    "duration": 50,
    "start_time": "2023-02-12T20:34:14.956Z"
   },
   {
    "duration": 4,
    "start_time": "2023-02-12T20:35:23.334Z"
   },
   {
    "duration": 4,
    "start_time": "2023-02-12T20:37:35.641Z"
   },
   {
    "duration": 14,
    "start_time": "2023-02-12T20:37:42.989Z"
   },
   {
    "duration": 14,
    "start_time": "2023-02-12T20:38:05.122Z"
   },
   {
    "duration": 18,
    "start_time": "2023-02-12T20:38:14.158Z"
   },
   {
    "duration": 100,
    "start_time": "2023-02-12T20:38:40.599Z"
   },
   {
    "duration": 15,
    "start_time": "2023-02-12T20:38:45.994Z"
   },
   {
    "duration": 71,
    "start_time": "2023-02-12T20:39:01.794Z"
   },
   {
    "duration": 14,
    "start_time": "2023-02-12T20:39:08.258Z"
   },
   {
    "duration": 4,
    "start_time": "2023-02-12T20:39:40.451Z"
   },
   {
    "duration": 73830,
    "start_time": "2023-02-12T20:41:17.926Z"
   },
   {
    "duration": 9,
    "start_time": "2023-02-12T20:42:31.758Z"
   },
   {
    "duration": 24,
    "start_time": "2023-02-12T20:42:40.590Z"
   },
   {
    "duration": 13,
    "start_time": "2023-02-12T20:44:46.842Z"
   },
   {
    "duration": 6,
    "start_time": "2023-02-12T20:45:58.785Z"
   },
   {
    "duration": 23,
    "start_time": "2023-02-12T20:46:15.487Z"
   },
   {
    "duration": 73841,
    "start_time": "2023-02-12T20:47:12.428Z"
   },
   {
    "duration": 4,
    "start_time": "2023-02-12T20:48:26.272Z"
   },
   {
    "duration": 19,
    "start_time": "2023-02-12T20:50:32.969Z"
   },
   {
    "duration": 70658,
    "start_time": "2023-02-12T20:51:34.691Z"
   },
   {
    "duration": 3,
    "start_time": "2023-02-12T20:52:45.351Z"
   },
   {
    "duration": 12,
    "start_time": "2023-02-12T20:54:03.543Z"
   },
   {
    "duration": 13,
    "start_time": "2023-02-12T20:54:10.190Z"
   },
   {
    "duration": 4,
    "start_time": "2023-02-12T20:54:18.224Z"
   },
   {
    "duration": 91,
    "start_time": "2023-02-12T20:55:06.460Z"
   },
   {
    "duration": 110,
    "start_time": "2023-02-12T20:55:15.024Z"
   },
   {
    "duration": 3590,
    "start_time": "2023-02-12T20:55:18.524Z"
   },
   {
    "duration": 164,
    "start_time": "2023-02-12T20:55:31.754Z"
   },
   {
    "duration": 4,
    "start_time": "2023-02-12T20:55:44.131Z"
   },
   {
    "duration": 19,
    "start_time": "2023-02-12T20:56:26.288Z"
   },
   {
    "duration": 3,
    "start_time": "2023-02-12T20:57:53.653Z"
   },
   {
    "duration": 11,
    "start_time": "2023-02-12T20:57:55.317Z"
   },
   {
    "duration": 12,
    "start_time": "2023-02-12T20:58:47.293Z"
   },
   {
    "duration": 73,
    "start_time": "2023-02-12T20:59:57.091Z"
   },
   {
    "duration": 18,
    "start_time": "2023-02-12T21:00:03.821Z"
   },
   {
    "duration": 2,
    "start_time": "2023-02-12T21:01:16.012Z"
   },
   {
    "duration": 2,
    "start_time": "2023-02-12T21:01:43.522Z"
   },
   {
    "duration": 12,
    "start_time": "2023-02-12T21:01:46.413Z"
   },
   {
    "duration": 10,
    "start_time": "2023-02-12T21:01:52.527Z"
   },
   {
    "duration": 3,
    "start_time": "2023-02-12T21:02:07.794Z"
   },
   {
    "duration": 10,
    "start_time": "2023-02-12T21:02:10.581Z"
   },
   {
    "duration": 12,
    "start_time": "2023-02-12T21:02:29.013Z"
   },
   {
    "duration": 13,
    "start_time": "2023-02-12T21:02:43.537Z"
   },
   {
    "duration": 3,
    "start_time": "2023-02-12T21:03:54.498Z"
   },
   {
    "duration": 12,
    "start_time": "2023-02-12T21:03:55.490Z"
   },
   {
    "duration": 3,
    "start_time": "2023-02-12T21:04:02.739Z"
   },
   {
    "duration": 12,
    "start_time": "2023-02-12T21:04:03.098Z"
   },
   {
    "duration": 3,
    "start_time": "2023-02-12T21:05:21.729Z"
   },
   {
    "duration": 4,
    "start_time": "2023-02-12T21:05:32.398Z"
   },
   {
    "duration": 87,
    "start_time": "2023-02-12T21:05:39.603Z"
   },
   {
    "duration": 10,
    "start_time": "2023-02-12T21:05:43.107Z"
   },
   {
    "duration": 73,
    "start_time": "2023-02-12T21:05:49.600Z"
   },
   {
    "duration": 12,
    "start_time": "2023-02-12T21:07:03.964Z"
   },
   {
    "duration": 10,
    "start_time": "2023-02-12T21:07:07.990Z"
   },
   {
    "duration": 4,
    "start_time": "2023-02-12T21:07:45.984Z"
   },
   {
    "duration": 4,
    "start_time": "2023-02-12T21:08:49.283Z"
   },
   {
    "duration": 72,
    "start_time": "2023-02-12T21:08:50.822Z"
   },
   {
    "duration": 3,
    "start_time": "2023-02-12T21:08:59.383Z"
   },
   {
    "duration": 74,
    "start_time": "2023-02-12T21:09:00.468Z"
   },
   {
    "duration": 6,
    "start_time": "2023-02-12T21:11:32.264Z"
   },
   {
    "duration": 13,
    "start_time": "2023-02-12T21:11:42.293Z"
   },
   {
    "duration": 2,
    "start_time": "2023-02-12T21:12:18.481Z"
   },
   {
    "duration": 10,
    "start_time": "2023-02-12T21:12:20.974Z"
   },
   {
    "duration": 12,
    "start_time": "2023-02-12T21:12:26.169Z"
   },
   {
    "duration": 2,
    "start_time": "2023-02-12T21:12:30.590Z"
   },
   {
    "duration": 12,
    "start_time": "2023-02-12T21:12:31.410Z"
   },
   {
    "duration": 5,
    "start_time": "2023-02-12T21:16:26.669Z"
   },
   {
    "duration": 11,
    "start_time": "2023-02-12T21:16:28.733Z"
   },
   {
    "duration": 10,
    "start_time": "2023-02-12T21:16:32.873Z"
   },
   {
    "duration": 5,
    "start_time": "2023-02-12T21:16:43.259Z"
   },
   {
    "duration": 2,
    "start_time": "2023-02-12T21:16:43.755Z"
   },
   {
    "duration": 14,
    "start_time": "2023-02-12T21:16:44.273Z"
   },
   {
    "duration": 5,
    "start_time": "2023-02-12T21:17:05.215Z"
   },
   {
    "duration": 3,
    "start_time": "2023-02-12T21:17:05.476Z"
   },
   {
    "duration": 4,
    "start_time": "2023-02-12T21:17:05.805Z"
   },
   {
    "duration": 11,
    "start_time": "2023-02-12T21:17:07.603Z"
   },
   {
    "duration": 4,
    "start_time": "2023-02-12T21:17:14.553Z"
   },
   {
    "duration": 3,
    "start_time": "2023-02-12T21:17:14.963Z"
   },
   {
    "duration": 4,
    "start_time": "2023-02-12T21:17:16.865Z"
   },
   {
    "duration": 4,
    "start_time": "2023-02-12T21:17:17.881Z"
   },
   {
    "duration": 70,
    "start_time": "2023-02-12T21:17:18.781Z"
   },
   {
    "duration": 3,
    "start_time": "2023-02-12T21:18:29.211Z"
   },
   {
    "duration": 3,
    "start_time": "2023-02-12T21:18:29.852Z"
   },
   {
    "duration": 24,
    "start_time": "2023-02-12T21:18:30.337Z"
   },
   {
    "duration": 5,
    "start_time": "2023-02-12T21:18:58.608Z"
   },
   {
    "duration": 3,
    "start_time": "2023-02-12T21:18:58.881Z"
   },
   {
    "duration": 5,
    "start_time": "2023-02-12T21:18:59.196Z"
   },
   {
    "duration": 4,
    "start_time": "2023-02-12T21:18:59.438Z"
   },
   {
    "duration": 3,
    "start_time": "2023-02-12T21:18:59.858Z"
   },
   {
    "duration": 3,
    "start_time": "2023-02-12T21:19:00.265Z"
   },
   {
    "duration": 27,
    "start_time": "2023-02-12T21:19:00.697Z"
   },
   {
    "duration": 3,
    "start_time": "2023-02-12T21:19:23.563Z"
   },
   {
    "duration": 4,
    "start_time": "2023-02-12T21:19:24.402Z"
   },
   {
    "duration": 35,
    "start_time": "2023-02-12T21:19:24.772Z"
   },
   {
    "duration": 3,
    "start_time": "2023-02-12T21:20:10.609Z"
   },
   {
    "duration": 7,
    "start_time": "2023-02-12T21:20:16.568Z"
   },
   {
    "duration": 24,
    "start_time": "2023-02-12T21:20:17.479Z"
   },
   {
    "duration": 3,
    "start_time": "2023-02-12T21:20:25.614Z"
   },
   {
    "duration": 5,
    "start_time": "2023-02-12T21:20:25.922Z"
   },
   {
    "duration": 24,
    "start_time": "2023-02-12T21:20:26.200Z"
   },
   {
    "duration": 5,
    "start_time": "2023-02-12T21:22:05.709Z"
   },
   {
    "duration": 4,
    "start_time": "2023-02-12T21:44:50.850Z"
   },
   {
    "duration": 4,
    "start_time": "2023-02-12T21:48:38.622Z"
   },
   {
    "duration": 34,
    "start_time": "2023-02-12T21:49:06.846Z"
   },
   {
    "duration": 480,
    "start_time": "2023-02-14T12:22:31.657Z"
   },
   {
    "duration": 0,
    "start_time": "2023-02-14T12:22:32.140Z"
   },
   {
    "duration": 0,
    "start_time": "2023-02-14T12:22:32.141Z"
   },
   {
    "duration": 0,
    "start_time": "2023-02-14T12:22:32.142Z"
   },
   {
    "duration": 0,
    "start_time": "2023-02-14T12:22:32.143Z"
   },
   {
    "duration": 0,
    "start_time": "2023-02-14T12:22:32.144Z"
   },
   {
    "duration": 0,
    "start_time": "2023-02-14T12:22:32.145Z"
   },
   {
    "duration": 0,
    "start_time": "2023-02-14T12:22:32.146Z"
   },
   {
    "duration": 0,
    "start_time": "2023-02-14T12:22:32.147Z"
   },
   {
    "duration": 0,
    "start_time": "2023-02-14T12:22:32.148Z"
   },
   {
    "duration": 0,
    "start_time": "2023-02-14T12:22:32.149Z"
   },
   {
    "duration": 0,
    "start_time": "2023-02-14T12:22:32.150Z"
   },
   {
    "duration": 0,
    "start_time": "2023-02-14T12:22:32.151Z"
   },
   {
    "duration": 0,
    "start_time": "2023-02-14T12:22:32.152Z"
   },
   {
    "duration": 0,
    "start_time": "2023-02-14T12:22:32.153Z"
   },
   {
    "duration": 0,
    "start_time": "2023-02-14T12:22:32.153Z"
   },
   {
    "duration": 0,
    "start_time": "2023-02-14T12:22:32.154Z"
   },
   {
    "duration": 0,
    "start_time": "2023-02-14T12:22:32.181Z"
   },
   {
    "duration": 0,
    "start_time": "2023-02-14T12:22:32.182Z"
   },
   {
    "duration": 0,
    "start_time": "2023-02-14T12:22:32.183Z"
   },
   {
    "duration": 0,
    "start_time": "2023-02-14T12:22:32.184Z"
   },
   {
    "duration": 0,
    "start_time": "2023-02-14T12:22:32.185Z"
   },
   {
    "duration": 0,
    "start_time": "2023-02-14T12:22:32.186Z"
   },
   {
    "duration": 0,
    "start_time": "2023-02-14T12:22:32.187Z"
   },
   {
    "duration": 0,
    "start_time": "2023-02-14T12:22:32.188Z"
   },
   {
    "duration": 0,
    "start_time": "2023-02-14T12:22:32.189Z"
   },
   {
    "duration": 0,
    "start_time": "2023-02-14T12:22:32.190Z"
   },
   {
    "duration": 0,
    "start_time": "2023-02-14T12:22:32.190Z"
   },
   {
    "duration": 0,
    "start_time": "2023-02-14T12:22:32.191Z"
   },
   {
    "duration": 0,
    "start_time": "2023-02-14T12:22:32.192Z"
   },
   {
    "duration": 0,
    "start_time": "2023-02-14T12:22:32.193Z"
   },
   {
    "duration": 0,
    "start_time": "2023-02-14T12:22:32.194Z"
   },
   {
    "duration": 4879,
    "start_time": "2023-02-14T12:23:04.379Z"
   },
   {
    "duration": 2105,
    "start_time": "2023-02-14T12:23:12.226Z"
   },
   {
    "duration": 4,
    "start_time": "2023-02-14T12:23:14.334Z"
   },
   {
    "duration": 111,
    "start_time": "2023-02-14T12:23:14.340Z"
   },
   {
    "duration": 24,
    "start_time": "2023-02-14T12:23:14.453Z"
   },
   {
    "duration": 1963,
    "start_time": "2023-02-14T12:23:14.478Z"
   },
   {
    "duration": 11,
    "start_time": "2023-02-14T12:23:16.443Z"
   },
   {
    "duration": 13,
    "start_time": "2023-02-14T12:23:16.455Z"
   },
   {
    "duration": 30,
    "start_time": "2023-02-14T12:23:16.471Z"
   },
   {
    "duration": 14,
    "start_time": "2023-02-14T12:23:16.506Z"
   },
   {
    "duration": 19,
    "start_time": "2023-02-14T12:23:16.523Z"
   },
   {
    "duration": 38,
    "start_time": "2023-02-14T12:23:16.544Z"
   },
   {
    "duration": 15,
    "start_time": "2023-02-14T12:23:16.584Z"
   },
   {
    "duration": 55,
    "start_time": "2023-02-14T12:23:16.602Z"
   },
   {
    "duration": 80,
    "start_time": "2023-02-14T12:23:16.659Z"
   },
   {
    "duration": 0,
    "start_time": "2023-02-14T12:23:16.741Z"
   },
   {
    "duration": 0,
    "start_time": "2023-02-14T12:23:16.742Z"
   },
   {
    "duration": 0,
    "start_time": "2023-02-14T12:23:16.744Z"
   },
   {
    "duration": 0,
    "start_time": "2023-02-14T12:23:16.745Z"
   },
   {
    "duration": 0,
    "start_time": "2023-02-14T12:23:16.747Z"
   },
   {
    "duration": 0,
    "start_time": "2023-02-14T12:23:16.748Z"
   },
   {
    "duration": 0,
    "start_time": "2023-02-14T12:23:16.750Z"
   },
   {
    "duration": 0,
    "start_time": "2023-02-14T12:23:16.751Z"
   },
   {
    "duration": 0,
    "start_time": "2023-02-14T12:23:16.752Z"
   },
   {
    "duration": 0,
    "start_time": "2023-02-14T12:23:16.754Z"
   },
   {
    "duration": 0,
    "start_time": "2023-02-14T12:23:16.755Z"
   },
   {
    "duration": 0,
    "start_time": "2023-02-14T12:23:16.757Z"
   },
   {
    "duration": 0,
    "start_time": "2023-02-14T12:23:16.758Z"
   },
   {
    "duration": 0,
    "start_time": "2023-02-14T12:23:16.759Z"
   },
   {
    "duration": 0,
    "start_time": "2023-02-14T12:23:16.761Z"
   },
   {
    "duration": 0,
    "start_time": "2023-02-14T12:23:16.762Z"
   },
   {
    "duration": 0,
    "start_time": "2023-02-14T12:23:16.765Z"
   },
   {
    "duration": 0,
    "start_time": "2023-02-14T12:23:16.766Z"
   },
   {
    "duration": 75,
    "start_time": "2023-02-14T12:23:36.559Z"
   },
   {
    "duration": 0,
    "start_time": "2023-02-14T12:23:36.637Z"
   },
   {
    "duration": 0,
    "start_time": "2023-02-14T12:23:36.638Z"
   },
   {
    "duration": 0,
    "start_time": "2023-02-14T12:23:36.640Z"
   },
   {
    "duration": 0,
    "start_time": "2023-02-14T12:23:36.641Z"
   },
   {
    "duration": 0,
    "start_time": "2023-02-14T12:23:36.642Z"
   },
   {
    "duration": 0,
    "start_time": "2023-02-14T12:23:36.644Z"
   },
   {
    "duration": 0,
    "start_time": "2023-02-14T12:23:36.646Z"
   },
   {
    "duration": 0,
    "start_time": "2023-02-14T12:23:36.647Z"
   },
   {
    "duration": 0,
    "start_time": "2023-02-14T12:23:36.648Z"
   },
   {
    "duration": 0,
    "start_time": "2023-02-14T12:23:36.650Z"
   },
   {
    "duration": 0,
    "start_time": "2023-02-14T12:23:36.651Z"
   },
   {
    "duration": 0,
    "start_time": "2023-02-14T12:23:36.652Z"
   },
   {
    "duration": 0,
    "start_time": "2023-02-14T12:23:36.653Z"
   },
   {
    "duration": 0,
    "start_time": "2023-02-14T12:23:36.655Z"
   },
   {
    "duration": 0,
    "start_time": "2023-02-14T12:23:36.656Z"
   },
   {
    "duration": 0,
    "start_time": "2023-02-14T12:23:36.657Z"
   },
   {
    "duration": 0,
    "start_time": "2023-02-14T12:23:36.659Z"
   },
   {
    "duration": 0,
    "start_time": "2023-02-14T12:23:36.660Z"
   },
   {
    "duration": 4,
    "start_time": "2023-02-14T12:23:43.926Z"
   },
   {
    "duration": 4,
    "start_time": "2023-02-14T12:23:45.314Z"
   },
   {
    "duration": 5,
    "start_time": "2023-02-14T12:23:45.509Z"
   },
   {
    "duration": 6,
    "start_time": "2023-02-14T12:23:45.827Z"
   },
   {
    "duration": 2,
    "start_time": "2023-02-14T12:23:45.993Z"
   },
   {
    "duration": 1843,
    "start_time": "2023-02-14T12:23:46.157Z"
   },
   {
    "duration": 85,
    "start_time": "2023-02-14T12:23:48.002Z"
   },
   {
    "duration": 0,
    "start_time": "2023-02-14T12:23:48.088Z"
   },
   {
    "duration": 0,
    "start_time": "2023-02-14T12:23:48.090Z"
   },
   {
    "duration": 0,
    "start_time": "2023-02-14T12:23:48.090Z"
   },
   {
    "duration": 10,
    "start_time": "2023-02-14T12:23:48.297Z"
   },
   {
    "duration": 5,
    "start_time": "2023-02-14T12:23:48.486Z"
   },
   {
    "duration": 3,
    "start_time": "2023-02-14T12:23:48.654Z"
   },
   {
    "duration": 3,
    "start_time": "2023-02-14T12:23:48.835Z"
   },
   {
    "duration": 4,
    "start_time": "2023-02-14T12:23:49.006Z"
   },
   {
    "duration": 3,
    "start_time": "2023-02-14T12:23:49.184Z"
   },
   {
    "duration": 4,
    "start_time": "2023-02-14T12:23:49.376Z"
   },
   {
    "duration": 69,
    "start_time": "2023-02-14T12:23:50.174Z"
   },
   {
    "duration": 4,
    "start_time": "2023-02-14T12:24:54.040Z"
   },
   {
    "duration": 4,
    "start_time": "2023-02-14T12:24:54.589Z"
   },
   {
    "duration": 17,
    "start_time": "2023-02-14T12:24:57.757Z"
   },
   {
    "duration": 3,
    "start_time": "2023-02-14T12:25:11.298Z"
   },
   {
    "duration": 4,
    "start_time": "2023-02-14T12:25:11.635Z"
   },
   {
    "duration": 66,
    "start_time": "2023-02-14T12:25:12.798Z"
   },
   {
    "duration": 3,
    "start_time": "2023-02-14T12:25:24.877Z"
   },
   {
    "duration": 5,
    "start_time": "2023-02-14T12:25:25.224Z"
   },
   {
    "duration": 89,
    "start_time": "2023-02-14T12:25:26.434Z"
   },
   {
    "duration": 4,
    "start_time": "2023-02-14T12:25:43.658Z"
   },
   {
    "duration": 3680,
    "start_time": "2023-02-14T12:25:45.142Z"
   },
   {
    "duration": 48942,
    "start_time": "2023-02-14T12:29:18.117Z"
   },
   {
    "duration": 0,
    "start_time": "2023-02-14T12:30:07.060Z"
   },
   {
    "duration": 16,
    "start_time": "2023-02-14T12:30:59.647Z"
   },
   {
    "duration": 2279,
    "start_time": "2023-02-14T12:31:03.720Z"
   },
   {
    "duration": 5,
    "start_time": "2023-02-14T12:31:06.001Z"
   },
   {
    "duration": 88,
    "start_time": "2023-02-14T12:31:06.007Z"
   },
   {
    "duration": 25,
    "start_time": "2023-02-14T12:31:06.097Z"
   },
   {
    "duration": 2034,
    "start_time": "2023-02-14T12:31:06.124Z"
   },
   {
    "duration": 10,
    "start_time": "2023-02-14T12:31:08.160Z"
   },
   {
    "duration": 5,
    "start_time": "2023-02-14T12:31:08.181Z"
   },
   {
    "duration": 12,
    "start_time": "2023-02-14T12:31:08.188Z"
   },
   {
    "duration": 4,
    "start_time": "2023-02-14T12:31:08.202Z"
   },
   {
    "duration": 6,
    "start_time": "2023-02-14T12:31:08.209Z"
   },
   {
    "duration": 21,
    "start_time": "2023-02-14T12:31:08.217Z"
   },
   {
    "duration": 5,
    "start_time": "2023-02-14T12:31:08.240Z"
   },
   {
    "duration": 33,
    "start_time": "2023-02-14T12:31:09.899Z"
   },
   {
    "duration": 3,
    "start_time": "2023-02-14T12:31:38.261Z"
   },
   {
    "duration": 16,
    "start_time": "2023-02-14T12:31:39.012Z"
   },
   {
    "duration": 14,
    "start_time": "2023-02-14T12:31:42.191Z"
   },
   {
    "duration": 11,
    "start_time": "2023-02-14T12:32:56.400Z"
   },
   {
    "duration": 10,
    "start_time": "2023-02-14T12:33:49.536Z"
   },
   {
    "duration": 15,
    "start_time": "2023-02-14T12:33:53.237Z"
   },
   {
    "duration": 11,
    "start_time": "2023-02-14T12:35:39.524Z"
   },
   {
    "duration": 3,
    "start_time": "2023-02-14T12:35:58.369Z"
   },
   {
    "duration": 11,
    "start_time": "2023-02-14T12:35:59.048Z"
   },
   {
    "duration": 12,
    "start_time": "2023-02-14T12:36:09.110Z"
   },
   {
    "duration": 10,
    "start_time": "2023-02-14T12:36:27.081Z"
   },
   {
    "duration": 10,
    "start_time": "2023-02-14T12:36:27.321Z"
   },
   {
    "duration": 3,
    "start_time": "2023-02-14T12:36:40.190Z"
   },
   {
    "duration": 10,
    "start_time": "2023-02-14T12:36:40.488Z"
   },
   {
    "duration": 163,
    "start_time": "2023-02-14T12:38:51.735Z"
   },
   {
    "duration": 17,
    "start_time": "2023-02-14T12:38:52.574Z"
   },
   {
    "duration": 11,
    "start_time": "2023-02-14T12:39:14.649Z"
   },
   {
    "duration": 10,
    "start_time": "2023-02-14T12:39:41.040Z"
   },
   {
    "duration": 3,
    "start_time": "2023-02-14T12:39:59.176Z"
   },
   {
    "duration": 13,
    "start_time": "2023-02-14T12:41:11.464Z"
   },
   {
    "duration": 2261,
    "start_time": "2023-02-14T12:41:20.041Z"
   },
   {
    "duration": 5,
    "start_time": "2023-02-14T12:41:22.304Z"
   },
   {
    "duration": 65,
    "start_time": "2023-02-14T12:41:22.311Z"
   },
   {
    "duration": 24,
    "start_time": "2023-02-14T12:41:22.378Z"
   },
   {
    "duration": 1902,
    "start_time": "2023-02-14T12:41:22.403Z"
   },
   {
    "duration": 9,
    "start_time": "2023-02-14T12:41:24.307Z"
   },
   {
    "duration": 31,
    "start_time": "2023-02-14T12:41:24.318Z"
   },
   {
    "duration": 26,
    "start_time": "2023-02-14T12:41:24.350Z"
   },
   {
    "duration": 25,
    "start_time": "2023-02-14T12:41:24.378Z"
   },
   {
    "duration": 28,
    "start_time": "2023-02-14T12:41:24.405Z"
   },
   {
    "duration": 25,
    "start_time": "2023-02-14T12:41:24.435Z"
   },
   {
    "duration": 27,
    "start_time": "2023-02-14T12:41:24.462Z"
   },
   {
    "duration": 22,
    "start_time": "2023-02-14T12:41:24.490Z"
   },
   {
    "duration": 34,
    "start_time": "2023-02-14T12:41:24.513Z"
   },
   {
    "duration": 21,
    "start_time": "2023-02-14T12:41:25.957Z"
   },
   {
    "duration": 102,
    "start_time": "2023-02-14T12:41:45.428Z"
   },
   {
    "duration": 90,
    "start_time": "2023-02-14T12:41:49.978Z"
   },
   {
    "duration": 11,
    "start_time": "2023-02-14T12:41:54.325Z"
   },
   {
    "duration": 11,
    "start_time": "2023-02-14T12:45:46.527Z"
   },
   {
    "duration": 11,
    "start_time": "2023-02-14T12:48:22.819Z"
   },
   {
    "duration": 12,
    "start_time": "2023-02-14T12:49:00.768Z"
   },
   {
    "duration": 3,
    "start_time": "2023-02-14T12:49:36.069Z"
   },
   {
    "duration": 13,
    "start_time": "2023-02-14T12:49:40.559Z"
   },
   {
    "duration": 4,
    "start_time": "2023-02-14T12:49:54.918Z"
   },
   {
    "duration": 23,
    "start_time": "2023-02-14T12:49:55.391Z"
   },
   {
    "duration": 3,
    "start_time": "2023-02-14T12:50:12.191Z"
   },
   {
    "duration": 20,
    "start_time": "2023-02-14T12:50:12.684Z"
   },
   {
    "duration": 21,
    "start_time": "2023-02-14T12:51:36.889Z"
   },
   {
    "duration": 20,
    "start_time": "2023-02-14T12:53:56.121Z"
   },
   {
    "duration": 12,
    "start_time": "2023-02-14T12:54:16.794Z"
   },
   {
    "duration": 12,
    "start_time": "2023-02-14T12:54:20.671Z"
   },
   {
    "duration": 80,
    "start_time": "2023-02-14T12:57:10.962Z"
   },
   {
    "duration": 122,
    "start_time": "2023-02-14T12:57:14.161Z"
   },
   {
    "duration": 1324,
    "start_time": "2023-02-14T12:57:18.435Z"
   },
   {
    "duration": 2504,
    "start_time": "2023-02-14T12:57:44.982Z"
   },
   {
    "duration": 5,
    "start_time": "2023-02-14T12:57:47.488Z"
   },
   {
    "duration": 55,
    "start_time": "2023-02-14T12:57:47.494Z"
   },
   {
    "duration": 28,
    "start_time": "2023-02-14T12:57:47.551Z"
   },
   {
    "duration": 2130,
    "start_time": "2023-02-14T12:57:47.581Z"
   },
   {
    "duration": 10,
    "start_time": "2023-02-14T12:57:49.713Z"
   },
   {
    "duration": 9,
    "start_time": "2023-02-14T12:57:49.725Z"
   },
   {
    "duration": 9,
    "start_time": "2023-02-14T12:57:49.736Z"
   },
   {
    "duration": 17,
    "start_time": "2023-02-14T12:57:49.747Z"
   },
   {
    "duration": 17,
    "start_time": "2023-02-14T12:57:49.768Z"
   },
   {
    "duration": 4,
    "start_time": "2023-02-14T12:57:56.577Z"
   },
   {
    "duration": 1558,
    "start_time": "2023-02-14T12:57:59.452Z"
   },
   {
    "duration": 16,
    "start_time": "2023-02-14T12:58:40.771Z"
   },
   {
    "duration": 2364,
    "start_time": "2023-02-14T12:58:48.187Z"
   },
   {
    "duration": 5,
    "start_time": "2023-02-14T12:58:50.553Z"
   },
   {
    "duration": 70,
    "start_time": "2023-02-14T12:58:50.560Z"
   },
   {
    "duration": 31,
    "start_time": "2023-02-14T12:58:50.633Z"
   },
   {
    "duration": 2472,
    "start_time": "2023-02-14T12:58:50.666Z"
   },
   {
    "duration": 13,
    "start_time": "2023-02-14T12:58:53.140Z"
   },
   {
    "duration": 5,
    "start_time": "2023-02-14T12:58:53.156Z"
   },
   {
    "duration": 9,
    "start_time": "2023-02-14T12:58:53.182Z"
   },
   {
    "duration": 4,
    "start_time": "2023-02-14T12:58:53.193Z"
   },
   {
    "duration": 7,
    "start_time": "2023-02-14T12:58:53.199Z"
   },
   {
    "duration": 23,
    "start_time": "2023-02-14T12:58:55.394Z"
   },
   {
    "duration": 11,
    "start_time": "2023-02-14T12:59:14.375Z"
   },
   {
    "duration": 17,
    "start_time": "2023-02-14T12:59:25.571Z"
   },
   {
    "duration": 19,
    "start_time": "2023-02-14T12:59:27.958Z"
   },
   {
    "duration": 13,
    "start_time": "2023-02-14T13:00:42.926Z"
   },
   {
    "duration": 15,
    "start_time": "2023-02-14T13:00:54.851Z"
   },
   {
    "duration": 5,
    "start_time": "2023-02-14T13:01:19.903Z"
   },
   {
    "duration": 5,
    "start_time": "2023-02-14T13:01:32.477Z"
   },
   {
    "duration": 15,
    "start_time": "2023-02-14T13:02:33.131Z"
   },
   {
    "duration": 2304,
    "start_time": "2023-02-14T13:02:42.835Z"
   },
   {
    "duration": 5,
    "start_time": "2023-02-14T13:02:45.141Z"
   },
   {
    "duration": 55,
    "start_time": "2023-02-14T13:02:45.147Z"
   },
   {
    "duration": 27,
    "start_time": "2023-02-14T13:02:45.204Z"
   },
   {
    "duration": 2246,
    "start_time": "2023-02-14T13:02:45.233Z"
   },
   {
    "duration": 11,
    "start_time": "2023-02-14T13:02:47.481Z"
   },
   {
    "duration": 16,
    "start_time": "2023-02-14T13:02:47.494Z"
   },
   {
    "duration": 29,
    "start_time": "2023-02-14T13:02:47.512Z"
   },
   {
    "duration": 22,
    "start_time": "2023-02-14T13:02:47.542Z"
   },
   {
    "duration": 8,
    "start_time": "2023-02-14T13:02:47.567Z"
   },
   {
    "duration": 20,
    "start_time": "2023-02-14T13:02:47.576Z"
   },
   {
    "duration": 11,
    "start_time": "2023-02-14T13:02:53.915Z"
   },
   {
    "duration": 14,
    "start_time": "2023-02-14T13:02:55.179Z"
   },
   {
    "duration": 16,
    "start_time": "2023-02-14T13:02:59.201Z"
   },
   {
    "duration": 16,
    "start_time": "2023-02-14T13:03:13.158Z"
   },
   {
    "duration": 14,
    "start_time": "2023-02-14T13:05:10.080Z"
   },
   {
    "duration": 13,
    "start_time": "2023-02-14T13:05:19.290Z"
   },
   {
    "duration": 7,
    "start_time": "2023-02-14T13:05:39.650Z"
   },
   {
    "duration": 6,
    "start_time": "2023-02-14T13:05:39.992Z"
   },
   {
    "duration": 7,
    "start_time": "2023-02-14T13:06:08.586Z"
   },
   {
    "duration": 7,
    "start_time": "2023-02-14T13:06:16.226Z"
   },
   {
    "duration": 21,
    "start_time": "2023-02-14T13:06:24.524Z"
   },
   {
    "duration": 11,
    "start_time": "2023-02-14T13:06:44.581Z"
   },
   {
    "duration": 16,
    "start_time": "2023-02-14T13:07:42.022Z"
   },
   {
    "duration": 2425,
    "start_time": "2023-02-14T13:11:45.755Z"
   },
   {
    "duration": 5,
    "start_time": "2023-02-14T13:11:48.182Z"
   },
   {
    "duration": 51,
    "start_time": "2023-02-14T13:11:48.189Z"
   },
   {
    "duration": 22,
    "start_time": "2023-02-14T13:11:48.242Z"
   },
   {
    "duration": 2264,
    "start_time": "2023-02-14T13:11:48.267Z"
   },
   {
    "duration": 10,
    "start_time": "2023-02-14T13:11:50.534Z"
   },
   {
    "duration": 15,
    "start_time": "2023-02-14T13:11:50.546Z"
   },
   {
    "duration": 72,
    "start_time": "2023-02-14T13:11:50.563Z"
   },
   {
    "duration": 0,
    "start_time": "2023-02-14T13:11:50.637Z"
   },
   {
    "duration": 0,
    "start_time": "2023-02-14T13:11:50.640Z"
   },
   {
    "duration": 0,
    "start_time": "2023-02-14T13:11:50.641Z"
   },
   {
    "duration": 0,
    "start_time": "2023-02-14T13:11:50.642Z"
   },
   {
    "duration": 0,
    "start_time": "2023-02-14T13:11:50.644Z"
   },
   {
    "duration": 11,
    "start_time": "2023-02-14T13:12:01.728Z"
   },
   {
    "duration": 3,
    "start_time": "2023-02-14T13:12:04.352Z"
   },
   {
    "duration": 10,
    "start_time": "2023-02-14T13:12:06.949Z"
   },
   {
    "duration": 4,
    "start_time": "2023-02-14T13:12:08.557Z"
   },
   {
    "duration": 34,
    "start_time": "2023-02-14T13:12:08.959Z"
   },
   {
    "duration": 3,
    "start_time": "2023-02-14T13:12:19.780Z"
   },
   {
    "duration": 32,
    "start_time": "2023-02-14T13:12:20.280Z"
   },
   {
    "duration": 10,
    "start_time": "2023-02-14T13:12:54.954Z"
   },
   {
    "duration": 2,
    "start_time": "2023-02-14T13:12:59.248Z"
   },
   {
    "duration": 8,
    "start_time": "2023-02-14T13:13:01.312Z"
   },
   {
    "duration": 6,
    "start_time": "2023-02-14T13:13:02.225Z"
   },
   {
    "duration": 36,
    "start_time": "2023-02-14T13:13:02.967Z"
   },
   {
    "duration": 10,
    "start_time": "2023-02-14T13:13:26.332Z"
   },
   {
    "duration": 9,
    "start_time": "2023-02-14T13:13:33.451Z"
   },
   {
    "duration": 4,
    "start_time": "2023-02-14T13:13:34.547Z"
   },
   {
    "duration": 21,
    "start_time": "2023-02-14T13:13:35.070Z"
   },
   {
    "duration": 4,
    "start_time": "2023-02-14T13:14:02.419Z"
   },
   {
    "duration": 4,
    "start_time": "2023-02-14T13:14:02.738Z"
   },
   {
    "duration": 5,
    "start_time": "2023-02-14T13:14:03.066Z"
   },
   {
    "duration": 7,
    "start_time": "2023-02-14T13:14:04.778Z"
   },
   {
    "duration": 3,
    "start_time": "2023-02-14T13:14:05.032Z"
   },
   {
    "duration": 28,
    "start_time": "2023-02-14T13:14:05.294Z"
   },
   {
    "duration": 6,
    "start_time": "2023-02-14T13:14:16.044Z"
   },
   {
    "duration": 3,
    "start_time": "2023-02-14T13:14:16.619Z"
   },
   {
    "duration": 1786,
    "start_time": "2023-02-14T13:14:17.078Z"
   },
   {
    "duration": 143,
    "start_time": "2023-02-14T13:14:22.964Z"
   },
   {
    "duration": 362,
    "start_time": "2023-02-14T13:14:29.280Z"
   },
   {
    "duration": 643,
    "start_time": "2023-02-14T13:14:31.238Z"
   },
   {
    "duration": 6,
    "start_time": "2023-02-14T13:14:49.421Z"
   },
   {
    "duration": 3,
    "start_time": "2023-02-14T13:14:50.543Z"
   },
   {
    "duration": 4,
    "start_time": "2023-02-14T13:14:52.167Z"
   },
   {
    "duration": 4,
    "start_time": "2023-02-14T13:14:53.439Z"
   },
   {
    "duration": 3,
    "start_time": "2023-02-14T13:14:55.054Z"
   },
   {
    "duration": 370,
    "start_time": "2023-02-14T13:14:56.527Z"
   },
   {
    "duration": 5,
    "start_time": "2023-02-14T13:15:04.371Z"
   },
   {
    "duration": 5020,
    "start_time": "2023-02-14T13:15:05.768Z"
   },
   {
    "duration": 11,
    "start_time": "2023-02-14T13:16:27.633Z"
   },
   {
    "duration": 10,
    "start_time": "2023-02-14T13:18:48.817Z"
   },
   {
    "duration": 8,
    "start_time": "2023-02-14T13:19:21.530Z"
   },
   {
    "duration": 7,
    "start_time": "2023-02-14T13:19:39.206Z"
   },
   {
    "duration": 16,
    "start_time": "2023-02-14T13:20:11.716Z"
   },
   {
    "duration": 4,
    "start_time": "2023-02-14T13:20:25.505Z"
   },
   {
    "duration": 4503,
    "start_time": "2023-02-14T13:21:04.400Z"
   },
   {
    "duration": 371,
    "start_time": "2023-02-14T13:21:33.856Z"
   },
   {
    "duration": 5,
    "start_time": "2023-02-14T13:36:05.513Z"
   },
   {
    "duration": 17,
    "start_time": "2023-02-14T13:36:08.342Z"
   },
   {
    "duration": 5,
    "start_time": "2023-02-14T13:36:38.958Z"
   },
   {
    "duration": 13,
    "start_time": "2023-02-14T13:36:40.229Z"
   },
   {
    "duration": 17,
    "start_time": "2023-02-14T13:36:53.120Z"
   },
   {
    "duration": 6,
    "start_time": "2023-02-14T13:36:59.549Z"
   },
   {
    "duration": 7,
    "start_time": "2023-02-14T13:37:01.720Z"
   },
   {
    "duration": 2,
    "start_time": "2023-02-14T13:37:02.915Z"
   },
   {
    "duration": 48,
    "start_time": "2023-02-14T13:37:03.485Z"
   },
   {
    "duration": 5,
    "start_time": "2023-02-14T13:39:52.100Z"
   },
   {
    "duration": 6,
    "start_time": "2023-02-14T13:39:54.120Z"
   },
   {
    "duration": 2,
    "start_time": "2023-02-14T13:39:55.086Z"
   },
   {
    "duration": 18,
    "start_time": "2023-02-14T13:39:55.717Z"
   },
   {
    "duration": 7,
    "start_time": "2023-02-14T13:41:53.715Z"
   },
   {
    "duration": 16,
    "start_time": "2023-02-14T13:42:00.130Z"
   },
   {
    "duration": 9,
    "start_time": "2023-02-14T13:42:50.116Z"
   },
   {
    "duration": 6,
    "start_time": "2023-02-14T13:42:50.733Z"
   },
   {
    "duration": 3,
    "start_time": "2023-02-14T13:42:50.950Z"
   },
   {
    "duration": 2162,
    "start_time": "2023-02-14T13:42:51.504Z"
   },
   {
    "duration": 129,
    "start_time": "2023-02-14T13:42:58.512Z"
   },
   {
    "duration": 442,
    "start_time": "2023-02-14T13:43:01.338Z"
   },
   {
    "duration": 4,
    "start_time": "2023-02-14T13:43:35.912Z"
   },
   {
    "duration": 6,
    "start_time": "2023-02-14T13:45:24.753Z"
   },
   {
    "duration": 2265,
    "start_time": "2023-02-14T13:45:26.235Z"
   },
   {
    "duration": 3,
    "start_time": "2023-02-14T13:45:34.381Z"
   },
   {
    "duration": 2371,
    "start_time": "2023-02-14T13:45:34.830Z"
   },
   {
    "duration": 123,
    "start_time": "2023-02-14T13:45:41.565Z"
   },
   {
    "duration": 6,
    "start_time": "2023-02-14T13:45:51.474Z"
   },
   {
    "duration": 3,
    "start_time": "2023-02-14T13:45:51.651Z"
   },
   {
    "duration": 2198,
    "start_time": "2023-02-14T13:45:51.905Z"
   },
   {
    "duration": 137,
    "start_time": "2023-02-14T13:45:54.105Z"
   },
   {
    "duration": 6,
    "start_time": "2023-02-14T13:46:05.393Z"
   },
   {
    "duration": 3,
    "start_time": "2023-02-14T13:46:05.900Z"
   },
   {
    "duration": 2183,
    "start_time": "2023-02-14T13:46:06.373Z"
   },
   {
    "duration": 132,
    "start_time": "2023-02-14T13:46:11.181Z"
   },
   {
    "duration": 404,
    "start_time": "2023-02-14T13:46:23.491Z"
   },
   {
    "duration": 742,
    "start_time": "2023-02-14T13:46:25.602Z"
   },
   {
    "duration": 7,
    "start_time": "2023-02-14T13:47:40.047Z"
   },
   {
    "duration": 1840,
    "start_time": "2023-02-14T13:47:42.549Z"
   },
   {
    "duration": 650,
    "start_time": "2023-02-14T13:48:00.143Z"
   },
   {
    "duration": 4187,
    "start_time": "2023-02-14T13:48:30.149Z"
   },
   {
    "duration": 4,
    "start_time": "2023-02-14T13:48:34.338Z"
   },
   {
    "duration": 51,
    "start_time": "2023-02-14T13:48:34.343Z"
   },
   {
    "duration": 24,
    "start_time": "2023-02-14T13:48:34.396Z"
   },
   {
    "duration": 2091,
    "start_time": "2023-02-14T13:48:34.421Z"
   },
   {
    "duration": 14,
    "start_time": "2023-02-14T13:48:36.514Z"
   },
   {
    "duration": 13,
    "start_time": "2023-02-14T13:48:36.530Z"
   },
   {
    "duration": 21,
    "start_time": "2023-02-14T13:48:36.545Z"
   },
   {
    "duration": 13,
    "start_time": "2023-02-14T13:48:36.568Z"
   },
   {
    "duration": 21,
    "start_time": "2023-02-14T13:48:36.584Z"
   },
   {
    "duration": 12,
    "start_time": "2023-02-14T13:48:36.607Z"
   },
   {
    "duration": 5,
    "start_time": "2023-02-14T13:48:36.621Z"
   },
   {
    "duration": 25,
    "start_time": "2023-02-14T13:48:36.628Z"
   },
   {
    "duration": 4,
    "start_time": "2023-02-14T13:48:36.655Z"
   },
   {
    "duration": 9,
    "start_time": "2023-02-14T13:48:36.661Z"
   },
   {
    "duration": 11,
    "start_time": "2023-02-14T13:48:36.672Z"
   },
   {
    "duration": 16,
    "start_time": "2023-02-14T13:48:36.685Z"
   },
   {
    "duration": 5,
    "start_time": "2023-02-14T13:48:36.702Z"
   },
   {
    "duration": 2147,
    "start_time": "2023-02-14T13:48:36.708Z"
   },
   {
    "duration": 142,
    "start_time": "2023-02-14T13:48:38.857Z"
   },
   {
    "duration": 423,
    "start_time": "2023-02-14T13:48:39.000Z"
   },
   {
    "duration": 634,
    "start_time": "2023-02-14T13:48:39.425Z"
   },
   {
    "duration": 135,
    "start_time": "2023-02-14T13:48:40.061Z"
   },
   {
    "duration": 0,
    "start_time": "2023-02-14T13:48:40.198Z"
   },
   {
    "duration": 0,
    "start_time": "2023-02-14T13:48:40.199Z"
   },
   {
    "duration": 0,
    "start_time": "2023-02-14T13:48:40.200Z"
   },
   {
    "duration": 0,
    "start_time": "2023-02-14T13:48:40.201Z"
   },
   {
    "duration": 0,
    "start_time": "2023-02-14T13:48:40.202Z"
   },
   {
    "duration": 0,
    "start_time": "2023-02-14T13:48:40.203Z"
   },
   {
    "duration": 0,
    "start_time": "2023-02-14T13:48:40.204Z"
   },
   {
    "duration": 0,
    "start_time": "2023-02-14T13:48:40.205Z"
   },
   {
    "duration": 0,
    "start_time": "2023-02-14T13:48:40.207Z"
   },
   {
    "duration": 0,
    "start_time": "2023-02-14T13:48:40.208Z"
   },
   {
    "duration": 0,
    "start_time": "2023-02-14T13:48:40.209Z"
   },
   {
    "duration": 6,
    "start_time": "2023-02-14T13:48:53.290Z"
   },
   {
    "duration": 3,
    "start_time": "2023-02-14T13:48:54.071Z"
   },
   {
    "duration": 5,
    "start_time": "2023-02-14T13:48:54.458Z"
   },
   {
    "duration": 5,
    "start_time": "2023-02-14T13:48:55.372Z"
   },
   {
    "duration": 4,
    "start_time": "2023-02-14T13:48:56.021Z"
   },
   {
    "duration": 4221,
    "start_time": "2023-02-14T13:48:58.680Z"
   },
   {
    "duration": 3,
    "start_time": "2023-02-14T13:49:09.732Z"
   },
   {
    "duration": 6,
    "start_time": "2023-02-14T13:49:12.030Z"
   },
   {
    "duration": 1866,
    "start_time": "2023-02-14T13:49:15.631Z"
   },
   {
    "duration": 7,
    "start_time": "2023-02-14T13:51:01.908Z"
   },
   {
    "duration": 3,
    "start_time": "2023-02-14T13:51:02.808Z"
   },
   {
    "duration": 4,
    "start_time": "2023-02-14T13:51:03.184Z"
   },
   {
    "duration": 5,
    "start_time": "2023-02-14T13:51:03.676Z"
   },
   {
    "duration": 4,
    "start_time": "2023-02-14T13:51:05.584Z"
   },
   {
    "duration": 84,
    "start_time": "2023-02-14T13:51:07.960Z"
   },
   {
    "duration": 11,
    "start_time": "2023-02-14T13:51:52.071Z"
   },
   {
    "duration": 6,
    "start_time": "2023-02-14T13:51:53.917Z"
   },
   {
    "duration": 5,
    "start_time": "2023-02-14T13:51:54.709Z"
   },
   {
    "duration": 7,
    "start_time": "2023-02-14T13:51:56.270Z"
   },
   {
    "duration": 3,
    "start_time": "2023-02-14T13:51:57.738Z"
   },
   {
    "duration": 6018,
    "start_time": "2023-02-14T13:51:59.382Z"
   },
   {
    "duration": 5,
    "start_time": "2023-02-14T13:52:09.650Z"
   },
   {
    "duration": 6,
    "start_time": "2023-02-14T13:52:14.037Z"
   },
   {
    "duration": 1980,
    "start_time": "2023-02-14T13:52:14.715Z"
   },
   {
    "duration": 737,
    "start_time": "2023-02-14T13:52:22.054Z"
   },
   {
    "duration": 7,
    "start_time": "2023-02-14T13:53:11.266Z"
   },
   {
    "duration": 1989,
    "start_time": "2023-02-14T13:53:11.723Z"
   },
   {
    "duration": 13,
    "start_time": "2023-02-14T13:53:48.923Z"
   },
   {
    "duration": 7,
    "start_time": "2023-02-14T13:53:52.462Z"
   },
   {
    "duration": 4,
    "start_time": "2023-02-14T13:53:53.427Z"
   },
   {
    "duration": 5,
    "start_time": "2023-02-14T13:53:53.804Z"
   },
   {
    "duration": 6,
    "start_time": "2023-02-14T13:53:54.679Z"
   },
   {
    "duration": 6,
    "start_time": "2023-02-14T13:53:55.660Z"
   },
   {
    "duration": 89,
    "start_time": "2023-02-14T13:53:57.709Z"
   },
   {
    "duration": 3,
    "start_time": "2023-02-14T13:54:09.514Z"
   },
   {
    "duration": 6978,
    "start_time": "2023-02-14T13:54:11.826Z"
   },
   {
    "duration": 5,
    "start_time": "2023-02-14T13:54:22.654Z"
   },
   {
    "duration": 18,
    "start_time": "2023-02-14T13:54:54.145Z"
   },
   {
    "duration": 7,
    "start_time": "2023-02-14T13:55:15.973Z"
   },
   {
    "duration": 2189,
    "start_time": "2023-02-14T13:55:16.907Z"
   },
   {
    "duration": 770,
    "start_time": "2023-02-14T13:55:26.244Z"
   },
   {
    "duration": 143,
    "start_time": "2023-02-14T13:56:11.109Z"
   },
   {
    "duration": 7,
    "start_time": "2023-02-14T13:57:21.435Z"
   },
   {
    "duration": 8,
    "start_time": "2023-02-14T13:57:23.103Z"
   },
   {
    "duration": 3,
    "start_time": "2023-02-14T13:57:24.442Z"
   },
   {
    "duration": 2649,
    "start_time": "2023-02-14T13:57:24.913Z"
   },
   {
    "duration": 137,
    "start_time": "2023-02-14T13:57:34.176Z"
   },
   {
    "duration": 525,
    "start_time": "2023-02-14T13:57:53.177Z"
   },
   {
    "duration": 636,
    "start_time": "2023-02-14T13:57:54.875Z"
   },
   {
    "duration": 11,
    "start_time": "2023-02-14T13:58:54.412Z"
   },
   {
    "duration": 11,
    "start_time": "2023-02-14T13:58:56.024Z"
   },
   {
    "duration": 3,
    "start_time": "2023-02-14T13:58:57.358Z"
   },
   {
    "duration": 11,
    "start_time": "2023-02-14T13:59:08.809Z"
   },
   {
    "duration": 7,
    "start_time": "2023-02-14T13:59:37.676Z"
   },
   {
    "duration": 6,
    "start_time": "2023-02-14T13:59:39.370Z"
   },
   {
    "duration": 5,
    "start_time": "2023-02-14T13:59:40.353Z"
   },
   {
    "duration": 87,
    "start_time": "2023-02-14T13:59:43.004Z"
   },
   {
    "duration": 6,
    "start_time": "2023-02-14T14:00:04.519Z"
   },
   {
    "duration": 10504,
    "start_time": "2023-02-14T14:00:06.109Z"
   },
   {
    "duration": 6,
    "start_time": "2023-02-14T14:00:16.616Z"
   },
   {
    "duration": 6,
    "start_time": "2023-02-14T14:01:34.955Z"
   },
   {
    "duration": 4535,
    "start_time": "2023-02-14T14:01:41.765Z"
   },
   {
    "duration": 10,
    "start_time": "2023-02-14T14:02:09.210Z"
   },
   {
    "duration": 2,
    "start_time": "2023-02-14T14:02:11.856Z"
   },
   {
    "duration": 535,
    "start_time": "2023-02-14T14:02:39.474Z"
   },
   {
    "duration": 134,
    "start_time": "2023-02-14T14:02:42.578Z"
   },
   {
    "duration": 531,
    "start_time": "2023-02-14T14:02:51.177Z"
   },
   {
    "duration": 268,
    "start_time": "2023-02-14T14:02:53.240Z"
   },
   {
    "duration": 550,
    "start_time": "2023-02-14T14:03:03.146Z"
   },
   {
    "duration": 244,
    "start_time": "2023-02-14T14:03:04.898Z"
   },
   {
    "duration": 12,
    "start_time": "2023-02-14T14:03:17.697Z"
   },
   {
    "duration": 224,
    "start_time": "2023-02-14T14:03:23.411Z"
   },
   {
    "duration": 560,
    "start_time": "2023-02-14T14:04:15.645Z"
   },
   {
    "duration": 12,
    "start_time": "2023-02-14T14:04:20.009Z"
   },
   {
    "duration": 528,
    "start_time": "2023-02-14T14:04:32.564Z"
   },
   {
    "duration": 91,
    "start_time": "2023-02-14T14:09:06.414Z"
   },
   {
    "duration": 700,
    "start_time": "2023-02-14T14:09:14.610Z"
   },
   {
    "duration": 4,
    "start_time": "2023-02-14T14:10:28.737Z"
   },
   {
    "duration": 4,
    "start_time": "2023-02-14T14:10:29.650Z"
   },
   {
    "duration": 221028,
    "start_time": "2023-02-14T14:10:31.575Z"
   },
   {
    "duration": 10,
    "start_time": "2023-02-14T14:14:16.701Z"
   },
   {
    "duration": 13,
    "start_time": "2023-02-14T14:14:24.886Z"
   },
   {
    "duration": 4,
    "start_time": "2023-02-14T14:14:26.120Z"
   },
   {
    "duration": 17545,
    "start_time": "2023-02-14T14:14:27.681Z"
   },
   {
    "duration": 8,
    "start_time": "2023-02-14T14:14:47.789Z"
   },
   {
    "duration": 6,
    "start_time": "2023-02-14T14:15:05.423Z"
   },
   {
    "duration": 5,
    "start_time": "2023-02-14T14:15:06.806Z"
   },
   {
    "duration": 595,
    "start_time": "2023-02-14T14:15:07.829Z"
   },
   {
    "duration": 519,
    "start_time": "2023-02-14T14:15:28.628Z"
   },
   {
    "duration": 108,
    "start_time": "2023-02-14T14:16:26.029Z"
   },
   {
    "duration": 602,
    "start_time": "2023-02-14T14:16:31.154Z"
   },
   {
    "duration": 586,
    "start_time": "2023-02-14T14:16:45.028Z"
   },
   {
    "duration": 543,
    "start_time": "2023-02-14T14:16:50.911Z"
   },
   {
    "duration": 230,
    "start_time": "2023-02-14T14:17:19.233Z"
   },
   {
    "duration": 1720,
    "start_time": "2023-02-14T14:17:31.590Z"
   },
   {
    "duration": 24,
    "start_time": "2023-02-14T14:18:02.854Z"
   },
   {
    "duration": 643,
    "start_time": "2023-02-14T14:18:19.074Z"
   },
   {
    "duration": 27,
    "start_time": "2023-02-14T14:19:01.435Z"
   },
   {
    "duration": 548,
    "start_time": "2023-02-14T14:19:20.077Z"
   },
   {
    "duration": 7,
    "start_time": "2023-02-14T14:21:23.333Z"
   },
   {
    "duration": 534,
    "start_time": "2023-02-14T14:21:24.531Z"
   },
   {
    "duration": 5,
    "start_time": "2023-02-14T14:21:46.719Z"
   },
   {
    "duration": 534,
    "start_time": "2023-02-14T14:21:47.095Z"
   },
   {
    "duration": 537,
    "start_time": "2023-02-14T14:22:41.319Z"
   },
   {
    "duration": 7,
    "start_time": "2023-02-14T14:22:50.981Z"
   },
   {
    "duration": 8,
    "start_time": "2023-02-14T14:22:53.157Z"
   },
   {
    "duration": 552,
    "start_time": "2023-02-14T14:22:58.985Z"
   },
   {
    "duration": 4,
    "start_time": "2023-02-14T14:24:40.131Z"
   },
   {
    "duration": 5,
    "start_time": "2023-02-14T14:24:42.241Z"
   },
   {
    "duration": 4,
    "start_time": "2023-02-14T14:24:59.825Z"
   },
   {
    "duration": 4,
    "start_time": "2023-02-14T14:25:01.049Z"
   },
   {
    "duration": 126477,
    "start_time": "2023-02-14T14:25:02.519Z"
   },
   {
    "duration": 5,
    "start_time": "2023-02-14T14:27:08.999Z"
   },
   {
    "duration": 15,
    "start_time": "2023-02-14T14:27:09.006Z"
   },
   {
    "duration": 4,
    "start_time": "2023-02-14T14:27:23.733Z"
   },
   {
    "duration": 6,
    "start_time": "2023-02-14T14:27:27.557Z"
   },
   {
    "duration": 6,
    "start_time": "2023-02-14T14:27:45.158Z"
   },
   {
    "duration": 683,
    "start_time": "2023-02-14T14:27:45.942Z"
   },
   {
    "duration": 5,
    "start_time": "2023-02-14T14:28:24.462Z"
   },
   {
    "duration": 5,
    "start_time": "2023-02-14T14:28:35.315Z"
   },
   {
    "duration": 12,
    "start_time": "2023-02-14T14:28:41.622Z"
   },
   {
    "duration": 6,
    "start_time": "2023-02-14T14:29:29.030Z"
   },
   {
    "duration": 6,
    "start_time": "2023-02-14T14:29:30.292Z"
   },
   {
    "duration": 64681,
    "start_time": "2023-02-14T14:29:37.723Z"
   },
   {
    "duration": 4,
    "start_time": "2023-02-14T14:30:42.409Z"
   },
   {
    "duration": 27199,
    "start_time": "2023-02-14T14:30:49.320Z"
   },
   {
    "duration": 6,
    "start_time": "2023-02-14T14:31:16.521Z"
   },
   {
    "duration": 6,
    "start_time": "2023-02-14T14:32:09.760Z"
   },
   {
    "duration": 2493,
    "start_time": "2023-02-14T14:32:11.401Z"
   },
   {
    "duration": 824,
    "start_time": "2023-02-14T14:32:26.157Z"
   },
   {
    "duration": 10,
    "start_time": "2023-02-14T14:33:59.559Z"
   },
   {
    "duration": 25,
    "start_time": "2023-02-14T14:34:28.606Z"
   },
   {
    "duration": 7,
    "start_time": "2023-02-14T14:35:35.914Z"
   },
   {
    "duration": 11,
    "start_time": "2023-02-14T14:36:03.134Z"
   },
   {
    "duration": 8,
    "start_time": "2023-02-14T14:36:11.762Z"
   },
   {
    "duration": 35,
    "start_time": "2023-02-14T14:37:35.367Z"
   },
   {
    "duration": 4,
    "start_time": "2023-02-14T14:40:02.738Z"
   },
   {
    "duration": 10,
    "start_time": "2023-02-14T14:40:13.897Z"
   },
   {
    "duration": 4,
    "start_time": "2023-02-14T14:40:33.623Z"
   },
   {
    "duration": 10,
    "start_time": "2023-02-14T14:40:43.707Z"
   },
   {
    "duration": 16,
    "start_time": "2023-02-14T14:40:48.406Z"
   },
   {
    "duration": 5,
    "start_time": "2023-02-14T14:40:55.161Z"
   },
   {
    "duration": 714,
    "start_time": "2023-02-14T14:41:10.360Z"
   },
   {
    "duration": 3425,
    "start_time": "2023-02-14T14:41:38.716Z"
   },
   {
    "duration": 17,
    "start_time": "2023-02-14T14:41:47.644Z"
   },
   {
    "duration": 19,
    "start_time": "2023-02-14T14:42:16.920Z"
   },
   {
    "duration": 3,
    "start_time": "2023-02-14T14:44:33.232Z"
   },
   {
    "duration": 3751,
    "start_time": "2023-02-14T14:44:34.147Z"
   },
   {
    "duration": 3825,
    "start_time": "2023-02-14T14:45:35.888Z"
   },
   {
    "duration": 3885,
    "start_time": "2023-02-14T14:46:02.958Z"
   },
   {
    "duration": 3014,
    "start_time": "2023-02-14T14:46:43.222Z"
   },
   {
    "duration": 24,
    "start_time": "2023-02-14T14:46:59.808Z"
   },
   {
    "duration": 2493,
    "start_time": "2023-02-14T14:48:01.609Z"
   },
   {
    "duration": 7,
    "start_time": "2023-02-14T14:48:17.330Z"
   },
   {
    "duration": 1743,
    "start_time": "2023-02-14T14:49:22.258Z"
   },
   {
    "duration": 30,
    "start_time": "2023-02-14T14:49:55.613Z"
   },
   {
    "duration": 3217,
    "start_time": "2023-02-14T14:50:05.736Z"
   },
   {
    "duration": 7,
    "start_time": "2023-02-14T14:50:40.618Z"
   },
   {
    "duration": 3103,
    "start_time": "2023-02-14T14:50:58.466Z"
   },
   {
    "duration": 15,
    "start_time": "2023-02-14T14:51:49.232Z"
   },
   {
    "duration": 4243,
    "start_time": "2023-02-14T14:51:57.859Z"
   },
   {
    "duration": 706,
    "start_time": "2023-02-14T14:52:52.501Z"
   },
   {
    "duration": 24,
    "start_time": "2023-02-14T14:53:50.112Z"
   },
   {
    "duration": 1035,
    "start_time": "2023-02-14T14:54:43.179Z"
   },
   {
    "duration": 905,
    "start_time": "2023-02-14T14:55:00.946Z"
   },
   {
    "duration": 718,
    "start_time": "2023-02-14T14:55:30.645Z"
   },
   {
    "duration": 2964,
    "start_time": "2023-02-14T14:55:34.657Z"
   },
   {
    "duration": 7,
    "start_time": "2023-02-14T14:56:18.194Z"
   },
   {
    "duration": 6,
    "start_time": "2023-02-14T14:56:20.412Z"
   },
   {
    "duration": 2930,
    "start_time": "2023-02-14T14:56:20.868Z"
   },
   {
    "duration": 10505,
    "start_time": "2023-02-14T14:59:20.910Z"
   },
   {
    "duration": 19366,
    "start_time": "2023-02-14T14:59:45.544Z"
   },
   {
    "duration": 5171,
    "start_time": "2023-02-15T16:49:26.366Z"
   },
   {
    "duration": 4,
    "start_time": "2023-02-15T16:49:31.539Z"
   },
   {
    "duration": 96,
    "start_time": "2023-02-15T16:49:31.544Z"
   },
   {
    "duration": 23,
    "start_time": "2023-02-15T16:49:31.642Z"
   },
   {
    "duration": 1953,
    "start_time": "2023-02-15T16:49:31.667Z"
   },
   {
    "duration": 20,
    "start_time": "2023-02-15T16:49:33.623Z"
   },
   {
    "duration": 7,
    "start_time": "2023-02-15T16:49:33.645Z"
   },
   {
    "duration": 12,
    "start_time": "2023-02-15T16:49:33.653Z"
   },
   {
    "duration": 5,
    "start_time": "2023-02-15T16:49:33.666Z"
   },
   {
    "duration": 5,
    "start_time": "2023-02-15T16:49:33.674Z"
   },
   {
    "duration": 9,
    "start_time": "2023-02-15T16:49:33.681Z"
   },
   {
    "duration": 9,
    "start_time": "2023-02-15T16:49:33.691Z"
   },
   {
    "duration": 36,
    "start_time": "2023-02-15T16:49:33.701Z"
   },
   {
    "duration": 70,
    "start_time": "2023-02-15T16:49:33.739Z"
   },
   {
    "duration": 7,
    "start_time": "2023-02-15T16:49:33.811Z"
   },
   {
    "duration": 12,
    "start_time": "2023-02-15T16:49:33.820Z"
   },
   {
    "duration": 33,
    "start_time": "2023-02-15T16:49:33.833Z"
   },
   {
    "duration": 2,
    "start_time": "2023-02-15T16:49:33.868Z"
   },
   {
    "duration": 2456,
    "start_time": "2023-02-15T16:49:33.872Z"
   },
   {
    "duration": 142,
    "start_time": "2023-02-15T16:49:36.329Z"
   },
   {
    "duration": 464,
    "start_time": "2023-02-15T16:49:36.473Z"
   },
   {
    "duration": 602,
    "start_time": "2023-02-15T16:49:36.938Z"
   },
   {
    "duration": 2051,
    "start_time": "2023-02-15T16:49:54.882Z"
   },
   {
    "duration": 3,
    "start_time": "2023-02-15T16:50:19.115Z"
   },
   {
    "duration": 3,
    "start_time": "2023-02-15T16:50:23.526Z"
   },
   {
    "duration": 7,
    "start_time": "2023-02-15T16:51:11.782Z"
   },
   {
    "duration": 4,
    "start_time": "2023-02-15T16:51:15.538Z"
   },
   {
    "duration": 4,
    "start_time": "2023-02-15T16:51:18.304Z"
   },
   {
    "duration": 28964,
    "start_time": "2023-02-15T16:51:20.482Z"
   },
   {
    "duration": 7,
    "start_time": "2023-02-15T16:52:04.105Z"
   },
   {
    "duration": 691,
    "start_time": "2023-02-15T16:53:46.290Z"
   },
   {
    "duration": 81,
    "start_time": "2023-02-17T18:00:18.036Z"
   },
   {
    "duration": 5366,
    "start_time": "2023-02-17T18:00:21.553Z"
   },
   {
    "duration": 4,
    "start_time": "2023-02-17T18:00:26.921Z"
   },
   {
    "duration": 102,
    "start_time": "2023-02-17T18:00:26.926Z"
   },
   {
    "duration": 41,
    "start_time": "2023-02-17T18:00:27.030Z"
   },
   {
    "duration": 2354,
    "start_time": "2023-02-17T18:00:27.073Z"
   },
   {
    "duration": 28,
    "start_time": "2023-02-17T18:00:29.429Z"
   },
   {
    "duration": 41,
    "start_time": "2023-02-17T18:00:29.461Z"
   },
   {
    "duration": 13,
    "start_time": "2023-02-17T18:00:29.504Z"
   },
   {
    "duration": 11,
    "start_time": "2023-02-17T18:00:29.519Z"
   },
   {
    "duration": 10,
    "start_time": "2023-02-17T18:00:29.532Z"
   },
   {
    "duration": 25,
    "start_time": "2023-02-17T18:00:29.546Z"
   },
   {
    "duration": 6,
    "start_time": "2023-02-17T18:00:29.573Z"
   },
   {
    "duration": 25,
    "start_time": "2023-02-17T18:00:29.581Z"
   },
   {
    "duration": 5,
    "start_time": "2023-02-17T18:00:34.078Z"
   }
  ],
  "kernelspec": {
   "display_name": "Python 3 (ipykernel)",
   "language": "python",
   "name": "python3"
  },
  "language_info": {
   "codemirror_mode": {
    "name": "ipython",
    "version": 3
   },
   "file_extension": ".py",
   "mimetype": "text/x-python",
   "name": "python",
   "nbconvert_exporter": "python",
   "pygments_lexer": "ipython3",
   "version": "3.9.7"
  },
  "toc": {
   "base_numbering": 1,
   "nav_menu": {},
   "number_sections": false,
   "sideBar": true,
   "skip_h1_title": false,
   "title_cell": "Table of Contents",
   "title_sidebar": "Contents",
   "toc_cell": false,
   "toc_position": {},
   "toc_section_display": true,
   "toc_window_display": false
  },
  "varInspector": {
   "cols": {
    "lenName": 16,
    "lenType": 16,
    "lenVar": 40
   },
   "kernels_config": {
    "python": {
     "delete_cmd_postfix": "",
     "delete_cmd_prefix": "del ",
     "library": "var_list.py",
     "varRefreshCmd": "print(var_dic_list())"
    },
    "r": {
     "delete_cmd_postfix": ") ",
     "delete_cmd_prefix": "rm(",
     "library": "var_list.r",
     "varRefreshCmd": "cat(var_dic_list()) "
    }
   },
   "types_to_exclude": [
    "module",
    "function",
    "builtin_function_or_method",
    "instance",
    "_Feature"
   ],
   "window_display": false
  }
 },
 "nbformat": 4,
 "nbformat_minor": 5
}
