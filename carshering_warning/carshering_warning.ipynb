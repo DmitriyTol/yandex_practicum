{
 "cells": [
  {
   "cell_type": "markdown",
   "id": "e2e172f8",
   "metadata": {
    "ExecuteTime": {
     "end_time": "2022-05-05T04:58:05.692448Z",
     "start_time": "2022-05-05T04:58:05.688565Z"
    }
   },
   "source": [
    "## Подключитесь к базе. Загрузите таблицы sql"
   ]
  },
  {
   "cell_type": "code",
   "execution_count": 1,
   "id": "52458026",
   "metadata": {},
   "outputs": [
    {
     "name": "stdout",
     "output_type": "stream",
     "text": [
      "Requirement already satisfied: scikit-learn in /opt/conda/lib/python3.9/site-packages (1.2.1)\n",
      "Requirement already satisfied: joblib>=1.1.1 in /opt/conda/lib/python3.9/site-packages (from scikit-learn) (1.2.0)\n",
      "Requirement already satisfied: scipy>=1.3.2 in /opt/conda/lib/python3.9/site-packages (from scikit-learn) (1.9.1)\n",
      "Requirement already satisfied: numpy>=1.17.3 in /opt/conda/lib/python3.9/site-packages (from scikit-learn) (1.21.1)\n",
      "Requirement already satisfied: threadpoolctl>=2.0.0 in /opt/conda/lib/python3.9/site-packages (from scikit-learn) (3.1.0)\n",
      "Note: you may need to restart the kernel to use updated packages.\n"
     ]
    }
   ],
   "source": [
    "pip install -U scikit-learn"
   ]
  },
  {
   "cell_type": "code",
   "execution_count": 43,
   "id": "6d9df094",
   "metadata": {},
   "outputs": [],
   "source": [
    "import numpy as np\n",
    "import pandas as pd\n",
    "\n",
    "import matplotlib.pyplot as plt\n",
    "import seaborn as sns\n",
    "from catboost import CatBoostClassifier\n",
    "from sklearn.tree import DecisionTreeClassifier\n",
    "from sklearn.model_selection import train_test_split\n",
    "from sklearn.model_selection import GridSearchCV\n",
    "from sklearn.metrics import recall_score\n",
    "\n",
    "from sklearn.preprocessing import OneHotEncoder, StandardScaler\n",
    "from sklearn.compose import ColumnTransformer\n",
    "from sklearn.pipeline import Pipeline\n",
    "from sklearn.ensemble import RandomForestClassifier\n",
    "from sklearn.metrics import precision_score\n",
    "from sklearn.datasets import make_classification\n",
    "from sklearn.metrics import confusion_matrix, ConfusionMatrixDisplay\n",
    "from sklearn.model_selection import train_test_split\n",
    "from sklearn.svm import SVC\n",
    "\n",
    "import torch\n",
    "import torch.nn as nn\n",
    "\n",
    "from sklearn.metrics import mean_squared_error\n",
    "from sqlalchemy import create_engine "
   ]
  },
  {
   "cell_type": "code",
   "execution_count": 3,
   "id": "bef61d1e",
   "metadata": {},
   "outputs": [],
   "source": [
    "db_config = {\n",
    "'user': 'praktikum_student', # имя пользователя,\n",
    "'pwd': 'Sdf4$2;d-d30pp', # пароль,\n",
    "'host': 'rc1b-wcoijxj3yxfsf3fs.mdb.yandexcloud.net',\n",
    "'port': 6432, # порт подключения,\n",
    "'db': 'data-science-vehicle-db' # название базы данных,\n",
    "} "
   ]
  },
  {
   "cell_type": "code",
   "execution_count": 4,
   "id": "be145057",
   "metadata": {},
   "outputs": [],
   "source": [
    "connection_string = 'postgresql://{}:{}@{}:{}/{}'.format(\n",
    "    db_config['user'],\n",
    "    db_config['pwd'],\n",
    "    db_config['host'],\n",
    "    db_config['port'],\n",
    "    db_config['db'],\n",
    ") "
   ]
  },
  {
   "cell_type": "code",
   "execution_count": 5,
   "id": "02f5a126",
   "metadata": {},
   "outputs": [],
   "source": [
    "engine = create_engine(connection_string) "
   ]
  },
  {
   "cell_type": "markdown",
   "id": "ffb3c281",
   "metadata": {},
   "source": [
    "## Проведите первичное исследование таблиц"
   ]
  },
  {
   "cell_type": "code",
   "execution_count": 6,
   "id": "086a3ed5",
   "metadata": {},
   "outputs": [
    {
     "data": {
      "text/html": [
       "<div>\n",
       "<style scoped>\n",
       "    .dataframe tbody tr th:only-of-type {\n",
       "        vertical-align: middle;\n",
       "    }\n",
       "\n",
       "    .dataframe tbody tr th {\n",
       "        vertical-align: top;\n",
       "    }\n",
       "\n",
       "    .dataframe thead th {\n",
       "        text-align: right;\n",
       "    }\n",
       "</style>\n",
       "<table border=\"1\" class=\"dataframe\">\n",
       "  <thead>\n",
       "    <tr style=\"text-align: right;\">\n",
       "      <th></th>\n",
       "      <th>case_id</th>\n",
       "      <th>db_year</th>\n",
       "    </tr>\n",
       "  </thead>\n",
       "  <tbody>\n",
       "    <tr>\n",
       "      <th>0</th>\n",
       "      <td>0081715</td>\n",
       "      <td>2021</td>\n",
       "    </tr>\n",
       "    <tr>\n",
       "      <th>1</th>\n",
       "      <td>0726202</td>\n",
       "      <td>2021</td>\n",
       "    </tr>\n",
       "    <tr>\n",
       "      <th>2</th>\n",
       "      <td>3858022</td>\n",
       "      <td>2021</td>\n",
       "    </tr>\n",
       "    <tr>\n",
       "      <th>3</th>\n",
       "      <td>3899441</td>\n",
       "      <td>2021</td>\n",
       "    </tr>\n",
       "    <tr>\n",
       "      <th>4</th>\n",
       "      <td>3899442</td>\n",
       "      <td>2021</td>\n",
       "    </tr>\n",
       "    <tr>\n",
       "      <th>...</th>\n",
       "      <td>...</td>\n",
       "      <td>...</td>\n",
       "    </tr>\n",
       "    <tr>\n",
       "      <th>1399995</th>\n",
       "      <td>5668365</td>\n",
       "      <td>2021</td>\n",
       "    </tr>\n",
       "    <tr>\n",
       "      <th>1399996</th>\n",
       "      <td>5668366</td>\n",
       "      <td>2021</td>\n",
       "    </tr>\n",
       "    <tr>\n",
       "      <th>1399997</th>\n",
       "      <td>5668367</td>\n",
       "      <td>2021</td>\n",
       "    </tr>\n",
       "    <tr>\n",
       "      <th>1399998</th>\n",
       "      <td>5668368</td>\n",
       "      <td>2021</td>\n",
       "    </tr>\n",
       "    <tr>\n",
       "      <th>1399999</th>\n",
       "      <td>5668369</td>\n",
       "      <td>2021</td>\n",
       "    </tr>\n",
       "  </tbody>\n",
       "</table>\n",
       "<p>1400000 rows × 2 columns</p>\n",
       "</div>"
      ],
      "text/plain": [
       "         case_id db_year\n",
       "0        0081715    2021\n",
       "1        0726202    2021\n",
       "2        3858022    2021\n",
       "3        3899441    2021\n",
       "4        3899442    2021\n",
       "...          ...     ...\n",
       "1399995  5668365    2021\n",
       "1399996  5668366    2021\n",
       "1399997  5668367    2021\n",
       "1399998  5668368    2021\n",
       "1399999  5668369    2021\n",
       "\n",
       "[1400000 rows x 2 columns]"
      ]
     },
     "metadata": {},
     "output_type": "display_data"
    }
   ],
   "source": [
    "query = '''\n",
    "SELECT *\n",
    "FROM case_ids\n",
    "'''\n",
    "display(pd.read_sql_query(query, con=engine))"
   ]
  },
  {
   "cell_type": "code",
   "execution_count": 7,
   "id": "03d22275",
   "metadata": {},
   "outputs": [
    {
     "data": {
      "text/html": [
       "<div>\n",
       "<style scoped>\n",
       "    .dataframe tbody tr th:only-of-type {\n",
       "        vertical-align: middle;\n",
       "    }\n",
       "\n",
       "    .dataframe tbody tr th {\n",
       "        vertical-align: top;\n",
       "    }\n",
       "\n",
       "    .dataframe thead th {\n",
       "        text-align: right;\n",
       "    }\n",
       "</style>\n",
       "<table border=\"1\" class=\"dataframe\">\n",
       "  <thead>\n",
       "    <tr style=\"text-align: right;\">\n",
       "      <th></th>\n",
       "      <th>case_id</th>\n",
       "      <th>county_city_location</th>\n",
       "      <th>county_location</th>\n",
       "      <th>distance</th>\n",
       "      <th>direction</th>\n",
       "      <th>intersection</th>\n",
       "      <th>weather_1</th>\n",
       "      <th>location_type</th>\n",
       "      <th>collision_damage</th>\n",
       "      <th>party_count</th>\n",
       "      <th>primary_collision_factor</th>\n",
       "      <th>pcf_violation_category</th>\n",
       "      <th>type_of_collision</th>\n",
       "      <th>motor_vehicle_involved_with</th>\n",
       "      <th>road_surface</th>\n",
       "      <th>road_condition_1</th>\n",
       "      <th>lighting</th>\n",
       "      <th>control_device</th>\n",
       "      <th>collision_date</th>\n",
       "      <th>collision_time</th>\n",
       "    </tr>\n",
       "  </thead>\n",
       "  <tbody>\n",
       "    <tr>\n",
       "      <th>0</th>\n",
       "      <td>4083072</td>\n",
       "      <td>1942</td>\n",
       "      <td>los angeles</td>\n",
       "      <td>528.0</td>\n",
       "      <td>north</td>\n",
       "      <td>0.0</td>\n",
       "      <td>cloudy</td>\n",
       "      <td>highway</td>\n",
       "      <td>small damage</td>\n",
       "      <td>2</td>\n",
       "      <td>vehicle code violation</td>\n",
       "      <td>unsafe lane change</td>\n",
       "      <td>sideswipe</td>\n",
       "      <td>other motor vehicle</td>\n",
       "      <td>wet</td>\n",
       "      <td>normal</td>\n",
       "      <td>daylight</td>\n",
       "      <td>none</td>\n",
       "      <td>2009-01-22</td>\n",
       "      <td>07:25:00</td>\n",
       "    </tr>\n",
       "    <tr>\n",
       "      <th>1</th>\n",
       "      <td>4083075</td>\n",
       "      <td>4313</td>\n",
       "      <td>santa clara</td>\n",
       "      <td>0.0</td>\n",
       "      <td>None</td>\n",
       "      <td>1.0</td>\n",
       "      <td>clear</td>\n",
       "      <td>None</td>\n",
       "      <td>small damage</td>\n",
       "      <td>1</td>\n",
       "      <td>vehicle code violation</td>\n",
       "      <td>improper passing</td>\n",
       "      <td>hit object</td>\n",
       "      <td>fixed object</td>\n",
       "      <td>dry</td>\n",
       "      <td>normal</td>\n",
       "      <td>dark with street lights</td>\n",
       "      <td>functioning</td>\n",
       "      <td>2009-01-03</td>\n",
       "      <td>02:26:00</td>\n",
       "    </tr>\n",
       "    <tr>\n",
       "      <th>2</th>\n",
       "      <td>4083073</td>\n",
       "      <td>0109</td>\n",
       "      <td>alameda</td>\n",
       "      <td>0.0</td>\n",
       "      <td>None</td>\n",
       "      <td>1.0</td>\n",
       "      <td>clear</td>\n",
       "      <td>None</td>\n",
       "      <td>scratch</td>\n",
       "      <td>2</td>\n",
       "      <td>vehicle code violation</td>\n",
       "      <td>improper turning</td>\n",
       "      <td>broadside</td>\n",
       "      <td>other motor vehicle</td>\n",
       "      <td>dry</td>\n",
       "      <td>normal</td>\n",
       "      <td>dark with street lights</td>\n",
       "      <td>functioning</td>\n",
       "      <td>2009-01-11</td>\n",
       "      <td>03:32:00</td>\n",
       "    </tr>\n",
       "    <tr>\n",
       "      <th>3</th>\n",
       "      <td>4083077</td>\n",
       "      <td>0109</td>\n",
       "      <td>alameda</td>\n",
       "      <td>0.0</td>\n",
       "      <td>None</td>\n",
       "      <td>1.0</td>\n",
       "      <td>clear</td>\n",
       "      <td>None</td>\n",
       "      <td>scratch</td>\n",
       "      <td>2</td>\n",
       "      <td>vehicle code violation</td>\n",
       "      <td>automobile right of way</td>\n",
       "      <td>broadside</td>\n",
       "      <td>other motor vehicle</td>\n",
       "      <td>dry</td>\n",
       "      <td>normal</td>\n",
       "      <td>daylight</td>\n",
       "      <td>functioning</td>\n",
       "      <td>2009-01-11</td>\n",
       "      <td>10:35:00</td>\n",
       "    </tr>\n",
       "    <tr>\n",
       "      <th>4</th>\n",
       "      <td>4083087</td>\n",
       "      <td>4313</td>\n",
       "      <td>santa clara</td>\n",
       "      <td>0.0</td>\n",
       "      <td>None</td>\n",
       "      <td>1.0</td>\n",
       "      <td>clear</td>\n",
       "      <td>None</td>\n",
       "      <td>scratch</td>\n",
       "      <td>2</td>\n",
       "      <td>vehicle code violation</td>\n",
       "      <td>speeding</td>\n",
       "      <td>rear end</td>\n",
       "      <td>other motor vehicle</td>\n",
       "      <td>dry</td>\n",
       "      <td>None</td>\n",
       "      <td>dark with street lights</td>\n",
       "      <td>functioning</td>\n",
       "      <td>2009-01-02</td>\n",
       "      <td>22:43:00</td>\n",
       "    </tr>\n",
       "    <tr>\n",
       "      <th>...</th>\n",
       "      <td>...</td>\n",
       "      <td>...</td>\n",
       "      <td>...</td>\n",
       "      <td>...</td>\n",
       "      <td>...</td>\n",
       "      <td>...</td>\n",
       "      <td>...</td>\n",
       "      <td>...</td>\n",
       "      <td>...</td>\n",
       "      <td>...</td>\n",
       "      <td>...</td>\n",
       "      <td>...</td>\n",
       "      <td>...</td>\n",
       "      <td>...</td>\n",
       "      <td>...</td>\n",
       "      <td>...</td>\n",
       "      <td>...</td>\n",
       "      <td>...</td>\n",
       "      <td>...</td>\n",
       "      <td>...</td>\n",
       "    </tr>\n",
       "    <tr>\n",
       "      <th>1399995</th>\n",
       "      <td>4082805</td>\n",
       "      <td>1502</td>\n",
       "      <td>kern</td>\n",
       "      <td>57.0</td>\n",
       "      <td>east</td>\n",
       "      <td>0.0</td>\n",
       "      <td>clear</td>\n",
       "      <td>None</td>\n",
       "      <td>middle damage</td>\n",
       "      <td>2</td>\n",
       "      <td>vehicle code violation</td>\n",
       "      <td>pedestrian violation</td>\n",
       "      <td>other</td>\n",
       "      <td>other object</td>\n",
       "      <td>dry</td>\n",
       "      <td>normal</td>\n",
       "      <td>dark with no street lights</td>\n",
       "      <td>none</td>\n",
       "      <td>2009-01-17</td>\n",
       "      <td>21:04:00</td>\n",
       "    </tr>\n",
       "    <tr>\n",
       "      <th>1399996</th>\n",
       "      <td>4082820</td>\n",
       "      <td>1953</td>\n",
       "      <td>los angeles</td>\n",
       "      <td>0.0</td>\n",
       "      <td>None</td>\n",
       "      <td>1.0</td>\n",
       "      <td>clear</td>\n",
       "      <td>None</td>\n",
       "      <td>middle damage</td>\n",
       "      <td>2</td>\n",
       "      <td>vehicle code violation</td>\n",
       "      <td>pedestrian right of way</td>\n",
       "      <td>other</td>\n",
       "      <td>other object</td>\n",
       "      <td>dry</td>\n",
       "      <td>normal</td>\n",
       "      <td>daylight</td>\n",
       "      <td>functioning</td>\n",
       "      <td>2009-01-18</td>\n",
       "      <td>14:20:00</td>\n",
       "    </tr>\n",
       "    <tr>\n",
       "      <th>1399997</th>\n",
       "      <td>4082829</td>\n",
       "      <td>1502</td>\n",
       "      <td>kern</td>\n",
       "      <td>0.0</td>\n",
       "      <td>None</td>\n",
       "      <td>1.0</td>\n",
       "      <td>clear</td>\n",
       "      <td>highway</td>\n",
       "      <td>middle damage</td>\n",
       "      <td>2</td>\n",
       "      <td>vehicle code violation</td>\n",
       "      <td>pedestrian right of way</td>\n",
       "      <td>other</td>\n",
       "      <td>other object</td>\n",
       "      <td>dry</td>\n",
       "      <td>normal</td>\n",
       "      <td>dark with street lights</td>\n",
       "      <td>functioning</td>\n",
       "      <td>2009-01-17</td>\n",
       "      <td>18:06:00</td>\n",
       "    </tr>\n",
       "    <tr>\n",
       "      <th>1399998</th>\n",
       "      <td>4083008</td>\n",
       "      <td>4313</td>\n",
       "      <td>santa clara</td>\n",
       "      <td>20.0</td>\n",
       "      <td>east</td>\n",
       "      <td>NaN</td>\n",
       "      <td>clear</td>\n",
       "      <td>None</td>\n",
       "      <td>middle damage</td>\n",
       "      <td>2</td>\n",
       "      <td>vehicle code violation</td>\n",
       "      <td>pedestrian right of way</td>\n",
       "      <td>other</td>\n",
       "      <td>other object</td>\n",
       "      <td>dry</td>\n",
       "      <td>normal</td>\n",
       "      <td>dark with street lights</td>\n",
       "      <td>functioning</td>\n",
       "      <td>2009-01-06</td>\n",
       "      <td>17:53:00</td>\n",
       "    </tr>\n",
       "    <tr>\n",
       "      <th>1399999</th>\n",
       "      <td>4083051</td>\n",
       "      <td>1950</td>\n",
       "      <td>los angeles</td>\n",
       "      <td>182.0</td>\n",
       "      <td>north</td>\n",
       "      <td>0.0</td>\n",
       "      <td>clear</td>\n",
       "      <td>None</td>\n",
       "      <td>middle damage</td>\n",
       "      <td>2</td>\n",
       "      <td>vehicle code violation</td>\n",
       "      <td>pedestrian violation</td>\n",
       "      <td>other</td>\n",
       "      <td>other object</td>\n",
       "      <td>dry</td>\n",
       "      <td>normal</td>\n",
       "      <td>dark with no street lights</td>\n",
       "      <td>none</td>\n",
       "      <td>2009-01-17</td>\n",
       "      <td>21:17:00</td>\n",
       "    </tr>\n",
       "  </tbody>\n",
       "</table>\n",
       "<p>1400000 rows × 20 columns</p>\n",
       "</div>"
      ],
      "text/plain": [
       "         case_id county_city_location county_location  distance direction  \\\n",
       "0        4083072                 1942     los angeles     528.0     north   \n",
       "1        4083075                 4313     santa clara       0.0      None   \n",
       "2        4083073                 0109         alameda       0.0      None   \n",
       "3        4083077                 0109         alameda       0.0      None   \n",
       "4        4083087                 4313     santa clara       0.0      None   \n",
       "...          ...                  ...             ...       ...       ...   \n",
       "1399995  4082805                 1502            kern      57.0      east   \n",
       "1399996  4082820                 1953     los angeles       0.0      None   \n",
       "1399997  4082829                 1502            kern       0.0      None   \n",
       "1399998  4083008                 4313     santa clara      20.0      east   \n",
       "1399999  4083051                 1950     los angeles     182.0     north   \n",
       "\n",
       "         intersection weather_1 location_type collision_damage  party_count  \\\n",
       "0                 0.0    cloudy       highway     small damage            2   \n",
       "1                 1.0     clear          None     small damage            1   \n",
       "2                 1.0     clear          None          scratch            2   \n",
       "3                 1.0     clear          None          scratch            2   \n",
       "4                 1.0     clear          None          scratch            2   \n",
       "...               ...       ...           ...              ...          ...   \n",
       "1399995           0.0     clear          None    middle damage            2   \n",
       "1399996           1.0     clear          None    middle damage            2   \n",
       "1399997           1.0     clear       highway    middle damage            2   \n",
       "1399998           NaN     clear          None    middle damage            2   \n",
       "1399999           0.0     clear          None    middle damage            2   \n",
       "\n",
       "        primary_collision_factor   pcf_violation_category type_of_collision  \\\n",
       "0         vehicle code violation       unsafe lane change         sideswipe   \n",
       "1         vehicle code violation         improper passing        hit object   \n",
       "2         vehicle code violation         improper turning         broadside   \n",
       "3         vehicle code violation  automobile right of way         broadside   \n",
       "4         vehicle code violation                 speeding          rear end   \n",
       "...                          ...                      ...               ...   \n",
       "1399995   vehicle code violation     pedestrian violation             other   \n",
       "1399996   vehicle code violation  pedestrian right of way             other   \n",
       "1399997   vehicle code violation  pedestrian right of way             other   \n",
       "1399998   vehicle code violation  pedestrian right of way             other   \n",
       "1399999   vehicle code violation     pedestrian violation             other   \n",
       "\n",
       "        motor_vehicle_involved_with road_surface road_condition_1  \\\n",
       "0               other motor vehicle          wet           normal   \n",
       "1                      fixed object          dry           normal   \n",
       "2               other motor vehicle          dry           normal   \n",
       "3               other motor vehicle          dry           normal   \n",
       "4               other motor vehicle          dry             None   \n",
       "...                             ...          ...              ...   \n",
       "1399995                other object          dry           normal   \n",
       "1399996                other object          dry           normal   \n",
       "1399997                other object          dry           normal   \n",
       "1399998                other object          dry           normal   \n",
       "1399999                other object          dry           normal   \n",
       "\n",
       "                           lighting control_device collision_date  \\\n",
       "0                          daylight           none     2009-01-22   \n",
       "1           dark with street lights    functioning     2009-01-03   \n",
       "2           dark with street lights    functioning     2009-01-11   \n",
       "3                          daylight    functioning     2009-01-11   \n",
       "4           dark with street lights    functioning     2009-01-02   \n",
       "...                             ...            ...            ...   \n",
       "1399995  dark with no street lights           none     2009-01-17   \n",
       "1399996                    daylight    functioning     2009-01-18   \n",
       "1399997     dark with street lights    functioning     2009-01-17   \n",
       "1399998     dark with street lights    functioning     2009-01-06   \n",
       "1399999  dark with no street lights           none     2009-01-17   \n",
       "\n",
       "        collision_time  \n",
       "0             07:25:00  \n",
       "1             02:26:00  \n",
       "2             03:32:00  \n",
       "3             10:35:00  \n",
       "4             22:43:00  \n",
       "...                ...  \n",
       "1399995       21:04:00  \n",
       "1399996       14:20:00  \n",
       "1399997       18:06:00  \n",
       "1399998       17:53:00  \n",
       "1399999       21:17:00  \n",
       "\n",
       "[1400000 rows x 20 columns]"
      ]
     },
     "metadata": {},
     "output_type": "display_data"
    }
   ],
   "source": [
    "query = '''\n",
    "SELECT *\n",
    "FROM collisions\n",
    "'''\n",
    "display(pd.read_sql_query(query, con=engine))"
   ]
  },
  {
   "cell_type": "code",
   "execution_count": 8,
   "id": "a8012324",
   "metadata": {},
   "outputs": [
    {
     "data": {
      "text/html": [
       "<div>\n",
       "<style scoped>\n",
       "    .dataframe tbody tr th:only-of-type {\n",
       "        vertical-align: middle;\n",
       "    }\n",
       "\n",
       "    .dataframe tbody tr th {\n",
       "        vertical-align: top;\n",
       "    }\n",
       "\n",
       "    .dataframe thead th {\n",
       "        text-align: right;\n",
       "    }\n",
       "</style>\n",
       "<table border=\"1\" class=\"dataframe\">\n",
       "  <thead>\n",
       "    <tr style=\"text-align: right;\">\n",
       "      <th></th>\n",
       "      <th>id</th>\n",
       "      <th>case_id</th>\n",
       "      <th>party_number</th>\n",
       "      <th>party_type</th>\n",
       "      <th>at_fault</th>\n",
       "      <th>insurance_premium</th>\n",
       "      <th>party_sobriety</th>\n",
       "      <th>party_drug_physical</th>\n",
       "      <th>cellphone_in_use</th>\n",
       "    </tr>\n",
       "  </thead>\n",
       "  <tbody>\n",
       "    <tr>\n",
       "      <th>0</th>\n",
       "      <td>22</td>\n",
       "      <td>3899454</td>\n",
       "      <td>1</td>\n",
       "      <td>road signs</td>\n",
       "      <td>1</td>\n",
       "      <td>29.0</td>\n",
       "      <td>had not been drinking</td>\n",
       "      <td>None</td>\n",
       "      <td>0.0</td>\n",
       "    </tr>\n",
       "    <tr>\n",
       "      <th>1</th>\n",
       "      <td>23</td>\n",
       "      <td>3899454</td>\n",
       "      <td>2</td>\n",
       "      <td>road signs</td>\n",
       "      <td>0</td>\n",
       "      <td>7.0</td>\n",
       "      <td>had not been drinking</td>\n",
       "      <td>None</td>\n",
       "      <td>0.0</td>\n",
       "    </tr>\n",
       "    <tr>\n",
       "      <th>2</th>\n",
       "      <td>29</td>\n",
       "      <td>3899462</td>\n",
       "      <td>2</td>\n",
       "      <td>car</td>\n",
       "      <td>0</td>\n",
       "      <td>21.0</td>\n",
       "      <td>had not been drinking</td>\n",
       "      <td>None</td>\n",
       "      <td>0.0</td>\n",
       "    </tr>\n",
       "    <tr>\n",
       "      <th>3</th>\n",
       "      <td>31</td>\n",
       "      <td>3899465</td>\n",
       "      <td>2</td>\n",
       "      <td>road signs</td>\n",
       "      <td>0</td>\n",
       "      <td>24.0</td>\n",
       "      <td>had not been drinking</td>\n",
       "      <td>None</td>\n",
       "      <td>0.0</td>\n",
       "    </tr>\n",
       "    <tr>\n",
       "      <th>4</th>\n",
       "      <td>41</td>\n",
       "      <td>3899478</td>\n",
       "      <td>2</td>\n",
       "      <td>road bumper</td>\n",
       "      <td>0</td>\n",
       "      <td>NaN</td>\n",
       "      <td>not applicable</td>\n",
       "      <td>not applicable</td>\n",
       "      <td>0.0</td>\n",
       "    </tr>\n",
       "    <tr>\n",
       "      <th>...</th>\n",
       "      <td>...</td>\n",
       "      <td>...</td>\n",
       "      <td>...</td>\n",
       "      <td>...</td>\n",
       "      <td>...</td>\n",
       "      <td>...</td>\n",
       "      <td>...</td>\n",
       "      <td>...</td>\n",
       "      <td>...</td>\n",
       "    </tr>\n",
       "    <tr>\n",
       "      <th>2752403</th>\n",
       "      <td>1549682</td>\n",
       "      <td>4981212</td>\n",
       "      <td>2</td>\n",
       "      <td>building</td>\n",
       "      <td>0</td>\n",
       "      <td>22.0</td>\n",
       "      <td>had not been drinking</td>\n",
       "      <td>None</td>\n",
       "      <td>NaN</td>\n",
       "    </tr>\n",
       "    <tr>\n",
       "      <th>2752404</th>\n",
       "      <td>1644472</td>\n",
       "      <td>5041069</td>\n",
       "      <td>2</td>\n",
       "      <td>building</td>\n",
       "      <td>0</td>\n",
       "      <td>13.0</td>\n",
       "      <td>had not been drinking</td>\n",
       "      <td>None</td>\n",
       "      <td>0.0</td>\n",
       "    </tr>\n",
       "    <tr>\n",
       "      <th>2752405</th>\n",
       "      <td>1906386</td>\n",
       "      <td>5181692</td>\n",
       "      <td>1</td>\n",
       "      <td>building</td>\n",
       "      <td>1</td>\n",
       "      <td>5.0</td>\n",
       "      <td>had not been drinking</td>\n",
       "      <td>None</td>\n",
       "      <td>0.0</td>\n",
       "    </tr>\n",
       "    <tr>\n",
       "      <th>2752406</th>\n",
       "      <td>2403824</td>\n",
       "      <td>5453437</td>\n",
       "      <td>2</td>\n",
       "      <td>building</td>\n",
       "      <td>0</td>\n",
       "      <td>30.0</td>\n",
       "      <td>had not been drinking</td>\n",
       "      <td>None</td>\n",
       "      <td>0.0</td>\n",
       "    </tr>\n",
       "    <tr>\n",
       "      <th>2752407</th>\n",
       "      <td>2403844</td>\n",
       "      <td>5453447</td>\n",
       "      <td>2</td>\n",
       "      <td>building</td>\n",
       "      <td>0</td>\n",
       "      <td>45.0</td>\n",
       "      <td>had not been drinking</td>\n",
       "      <td>None</td>\n",
       "      <td>NaN</td>\n",
       "    </tr>\n",
       "  </tbody>\n",
       "</table>\n",
       "<p>2752408 rows × 9 columns</p>\n",
       "</div>"
      ],
      "text/plain": [
       "              id  case_id  party_number   party_type  at_fault  \\\n",
       "0             22  3899454             1   road signs         1   \n",
       "1             23  3899454             2   road signs         0   \n",
       "2             29  3899462             2          car         0   \n",
       "3             31  3899465             2   road signs         0   \n",
       "4             41  3899478             2  road bumper         0   \n",
       "...          ...      ...           ...          ...       ...   \n",
       "2752403  1549682  4981212             2     building         0   \n",
       "2752404  1644472  5041069             2     building         0   \n",
       "2752405  1906386  5181692             1     building         1   \n",
       "2752406  2403824  5453437             2     building         0   \n",
       "2752407  2403844  5453447             2     building         0   \n",
       "\n",
       "         insurance_premium         party_sobriety party_drug_physical  \\\n",
       "0                     29.0  had not been drinking                None   \n",
       "1                      7.0  had not been drinking                None   \n",
       "2                     21.0  had not been drinking                None   \n",
       "3                     24.0  had not been drinking                None   \n",
       "4                      NaN         not applicable      not applicable   \n",
       "...                    ...                    ...                 ...   \n",
       "2752403               22.0  had not been drinking                None   \n",
       "2752404               13.0  had not been drinking                None   \n",
       "2752405                5.0  had not been drinking                None   \n",
       "2752406               30.0  had not been drinking                None   \n",
       "2752407               45.0  had not been drinking                None   \n",
       "\n",
       "         cellphone_in_use  \n",
       "0                     0.0  \n",
       "1                     0.0  \n",
       "2                     0.0  \n",
       "3                     0.0  \n",
       "4                     0.0  \n",
       "...                   ...  \n",
       "2752403               NaN  \n",
       "2752404               0.0  \n",
       "2752405               0.0  \n",
       "2752406               0.0  \n",
       "2752407               NaN  \n",
       "\n",
       "[2752408 rows x 9 columns]"
      ]
     },
     "metadata": {},
     "output_type": "display_data"
    }
   ],
   "source": [
    "query = '''\n",
    "SELECT *\n",
    "FROM Parties\n",
    "'''\n",
    "display(pd.read_sql_query(query, con=engine))"
   ]
  },
  {
   "cell_type": "code",
   "execution_count": 9,
   "id": "9f2e4815",
   "metadata": {},
   "outputs": [
    {
     "data": {
      "text/html": [
       "<div>\n",
       "<style scoped>\n",
       "    .dataframe tbody tr th:only-of-type {\n",
       "        vertical-align: middle;\n",
       "    }\n",
       "\n",
       "    .dataframe tbody tr th {\n",
       "        vertical-align: top;\n",
       "    }\n",
       "\n",
       "    .dataframe thead th {\n",
       "        text-align: right;\n",
       "    }\n",
       "</style>\n",
       "<table border=\"1\" class=\"dataframe\">\n",
       "  <thead>\n",
       "    <tr style=\"text-align: right;\">\n",
       "      <th></th>\n",
       "      <th>id</th>\n",
       "      <th>case_id</th>\n",
       "      <th>party_number</th>\n",
       "      <th>vehicle_type</th>\n",
       "      <th>vehicle_transmission</th>\n",
       "      <th>vehicle_age</th>\n",
       "    </tr>\n",
       "  </thead>\n",
       "  <tbody>\n",
       "    <tr>\n",
       "      <th>0</th>\n",
       "      <td>1175713</td>\n",
       "      <td>5305032</td>\n",
       "      <td>2</td>\n",
       "      <td>sedan</td>\n",
       "      <td>manual</td>\n",
       "      <td>3.0</td>\n",
       "    </tr>\n",
       "    <tr>\n",
       "      <th>1</th>\n",
       "      <td>1</td>\n",
       "      <td>3858022</td>\n",
       "      <td>1</td>\n",
       "      <td>sedan</td>\n",
       "      <td>auto</td>\n",
       "      <td>3.0</td>\n",
       "    </tr>\n",
       "    <tr>\n",
       "      <th>2</th>\n",
       "      <td>1175712</td>\n",
       "      <td>5305030</td>\n",
       "      <td>1</td>\n",
       "      <td>sedan</td>\n",
       "      <td>auto</td>\n",
       "      <td>3.0</td>\n",
       "    </tr>\n",
       "    <tr>\n",
       "      <th>3</th>\n",
       "      <td>1175717</td>\n",
       "      <td>5305033</td>\n",
       "      <td>3</td>\n",
       "      <td>sedan</td>\n",
       "      <td>auto</td>\n",
       "      <td>5.0</td>\n",
       "    </tr>\n",
       "    <tr>\n",
       "      <th>4</th>\n",
       "      <td>1175722</td>\n",
       "      <td>5305034</td>\n",
       "      <td>2</td>\n",
       "      <td>sedan</td>\n",
       "      <td>auto</td>\n",
       "      <td>5.0</td>\n",
       "    </tr>\n",
       "    <tr>\n",
       "      <th>...</th>\n",
       "      <td>...</td>\n",
       "      <td>...</td>\n",
       "      <td>...</td>\n",
       "      <td>...</td>\n",
       "      <td>...</td>\n",
       "      <td>...</td>\n",
       "    </tr>\n",
       "    <tr>\n",
       "      <th>1021229</th>\n",
       "      <td>1175684</td>\n",
       "      <td>5304990</td>\n",
       "      <td>2</td>\n",
       "      <td>sedan</td>\n",
       "      <td>manual</td>\n",
       "      <td>6.0</td>\n",
       "    </tr>\n",
       "    <tr>\n",
       "      <th>1021230</th>\n",
       "      <td>1175686</td>\n",
       "      <td>5304993</td>\n",
       "      <td>2</td>\n",
       "      <td>sedan</td>\n",
       "      <td>manual</td>\n",
       "      <td>3.0</td>\n",
       "    </tr>\n",
       "    <tr>\n",
       "      <th>1021231</th>\n",
       "      <td>1175687</td>\n",
       "      <td>5304994</td>\n",
       "      <td>2</td>\n",
       "      <td>sedan</td>\n",
       "      <td>manual</td>\n",
       "      <td>3.0</td>\n",
       "    </tr>\n",
       "    <tr>\n",
       "      <th>1021232</th>\n",
       "      <td>1175693</td>\n",
       "      <td>5305002</td>\n",
       "      <td>1</td>\n",
       "      <td>sedan</td>\n",
       "      <td>manual</td>\n",
       "      <td>5.0</td>\n",
       "    </tr>\n",
       "    <tr>\n",
       "      <th>1021233</th>\n",
       "      <td>1175699</td>\n",
       "      <td>5305007</td>\n",
       "      <td>1</td>\n",
       "      <td>sedan</td>\n",
       "      <td>manual</td>\n",
       "      <td>6.0</td>\n",
       "    </tr>\n",
       "  </tbody>\n",
       "</table>\n",
       "<p>1021234 rows × 6 columns</p>\n",
       "</div>"
      ],
      "text/plain": [
       "              id  case_id  party_number vehicle_type vehicle_transmission  \\\n",
       "0        1175713  5305032             2        sedan               manual   \n",
       "1              1  3858022             1        sedan                 auto   \n",
       "2        1175712  5305030             1        sedan                 auto   \n",
       "3        1175717  5305033             3        sedan                 auto   \n",
       "4        1175722  5305034             2        sedan                 auto   \n",
       "...          ...      ...           ...          ...                  ...   \n",
       "1021229  1175684  5304990             2        sedan               manual   \n",
       "1021230  1175686  5304993             2        sedan               manual   \n",
       "1021231  1175687  5304994             2        sedan               manual   \n",
       "1021232  1175693  5305002             1        sedan               manual   \n",
       "1021233  1175699  5305007             1        sedan               manual   \n",
       "\n",
       "         vehicle_age  \n",
       "0                3.0  \n",
       "1                3.0  \n",
       "2                3.0  \n",
       "3                5.0  \n",
       "4                5.0  \n",
       "...              ...  \n",
       "1021229          6.0  \n",
       "1021230          3.0  \n",
       "1021231          3.0  \n",
       "1021232          5.0  \n",
       "1021233          6.0  \n",
       "\n",
       "[1021234 rows x 6 columns]"
      ]
     },
     "metadata": {},
     "output_type": "display_data"
    }
   ],
   "source": [
    "query = '''\n",
    "SELECT *\n",
    "FROM Vehicles\n",
    "'''\n",
    "display(pd.read_sql_query(query, con=engine))"
   ]
  },
  {
   "cell_type": "markdown",
   "id": "0bc1c8f5",
   "metadata": {},
   "source": [
    "Все таблицы имеются, как и общий индекс."
   ]
  },
  {
   "cell_type": "markdown",
   "id": "d227fc94",
   "metadata": {},
   "source": [
    "##  Проведите статистический анализ факторов ДТП"
   ]
  },
  {
   "cell_type": "code",
   "execution_count": 10,
   "id": "3c9566b8",
   "metadata": {},
   "outputs": [
    {
     "data": {
      "text/html": [
       "<div>\n",
       "<style scoped>\n",
       "    .dataframe tbody tr th:only-of-type {\n",
       "        vertical-align: middle;\n",
       "    }\n",
       "\n",
       "    .dataframe tbody tr th {\n",
       "        vertical-align: top;\n",
       "    }\n",
       "\n",
       "    .dataframe thead th {\n",
       "        text-align: right;\n",
       "    }\n",
       "</style>\n",
       "<table border=\"1\" class=\"dataframe\">\n",
       "  <thead>\n",
       "    <tr style=\"text-align: right;\">\n",
       "      <th></th>\n",
       "      <th>month</th>\n",
       "      <th>count</th>\n",
       "    </tr>\n",
       "  </thead>\n",
       "  <tbody>\n",
       "    <tr>\n",
       "      <th>0</th>\n",
       "      <td>1.0</td>\n",
       "      <td>132044</td>\n",
       "    </tr>\n",
       "    <tr>\n",
       "      <th>1</th>\n",
       "      <td>2.0</td>\n",
       "      <td>128858</td>\n",
       "    </tr>\n",
       "    <tr>\n",
       "      <th>2</th>\n",
       "      <td>3.0</td>\n",
       "      <td>139581</td>\n",
       "    </tr>\n",
       "    <tr>\n",
       "      <th>3</th>\n",
       "      <td>4.0</td>\n",
       "      <td>130180</td>\n",
       "    </tr>\n",
       "    <tr>\n",
       "      <th>4</th>\n",
       "      <td>5.0</td>\n",
       "      <td>130316</td>\n",
       "    </tr>\n",
       "    <tr>\n",
       "      <th>5</th>\n",
       "      <td>6.0</td>\n",
       "      <td>102594</td>\n",
       "    </tr>\n",
       "    <tr>\n",
       "      <th>6</th>\n",
       "      <td>7.0</td>\n",
       "      <td>102227</td>\n",
       "    </tr>\n",
       "    <tr>\n",
       "      <th>7</th>\n",
       "      <td>8.0</td>\n",
       "      <td>104089</td>\n",
       "    </tr>\n",
       "    <tr>\n",
       "      <th>8</th>\n",
       "      <td>9.0</td>\n",
       "      <td>105159</td>\n",
       "    </tr>\n",
       "    <tr>\n",
       "      <th>9</th>\n",
       "      <td>10.0</td>\n",
       "      <td>112237</td>\n",
       "    </tr>\n",
       "    <tr>\n",
       "      <th>10</th>\n",
       "      <td>11.0</td>\n",
       "      <td>104770</td>\n",
       "    </tr>\n",
       "    <tr>\n",
       "      <th>11</th>\n",
       "      <td>12.0</td>\n",
       "      <td>107945</td>\n",
       "    </tr>\n",
       "  </tbody>\n",
       "</table>\n",
       "</div>"
      ],
      "text/plain": [
       "    month   count\n",
       "0     1.0  132044\n",
       "1     2.0  128858\n",
       "2     3.0  139581\n",
       "3     4.0  130180\n",
       "4     5.0  130316\n",
       "5     6.0  102594\n",
       "6     7.0  102227\n",
       "7     8.0  104089\n",
       "8     9.0  105159\n",
       "9    10.0  112237\n",
       "10   11.0  104770\n",
       "11   12.0  107945"
      ]
     },
     "execution_count": 10,
     "metadata": {},
     "output_type": "execute_result"
    }
   ],
   "source": [
    "query = '''\n",
    "SELECT EXTRACT(MONTH FROM collision_date) AS month,\n",
    "       COUNT(case_id)\n",
    "FROM collisions\n",
    "GROUP BY EXTRACT(MONTH FROM collision_date)\n",
    "'''\n",
    "df = pd.read_sql_query(query, con=engine)\n",
    "df"
   ]
  },
  {
   "cell_type": "code",
   "execution_count": 11,
   "id": "8a2fa79f",
   "metadata": {},
   "outputs": [
    {
     "data": {
      "text/plain": [
       "Text(0.5, 1.0, 'Количество аварий по месяцам')"
      ]
     },
     "execution_count": 11,
     "metadata": {},
     "output_type": "execute_result"
    },
    {
     "data": {
      "image/png": "[encoded data removed]",
      "text/plain": [
       "<Figure size 432x288 with 1 Axes>"
      ]
     },
     "metadata": {},
     "output_type": "display_data"
    }
   ],
   "source": [
    "ax = df.groupby(['month']). sum ().plot(kind='pie', y='count',autopct='%1.0f%%')\n",
    "ax.legend(loc='upper left', bbox_to_anchor=(1.0, 1.0))\n",
    "ax.set_title('Количество аварий по месяцам')"
   ]
  },
  {
   "cell_type": "markdown",
   "id": "619a7f38",
   "metadata": {},
   "source": [
    "Мы видим, что первая половина года, имеет самые большие проценты ДТП. Возможно это связано с заснеженными дорогами, или обострением туризма ближе к лету, что ведёт к более частому пользованию каршерингом."
   ]
  },
  {
   "cell_type": "markdown",
   "id": "acd1bbe7",
   "metadata": {},
   "source": [
    "#### Задачи для команды"
   ]
  },
  {
   "cell_type": "markdown",
   "id": "a8c7754c",
   "metadata": {},
   "source": [
    "- Проанализировать частоту ДТП в зависимости от кол-ва участников в ДТП\n",
    "- Проанализировать частоту ДТП в зависимости трезвости участников:\n",
    "    - Создать sql-запрос\n",
    "    - Построить график зависимости целевого признака от нашего\n",
    "    - Сделать выводы\n",
    "- Оценить влияние погоды на частоту ДТП\n",
    "- Оценить самые частые локации, в которых бывают ДТПЖ\n",
    "    - Создатьsql-запрос\n",
    "    - Найти 15 самых частых локаций\n",
    "    - Построить график, показывающий, сколько в этих локациях произошло ДТП относительно общего кол-ва ДТП, в процентах\n",
    "- Проанализировать влияет ли возраст транспортного средства вместе с типом на вероятность ДТП\n",
    "- Влияет ли пользование телефоном на вероятность ДТП"
   ]
  },
  {
   "cell_type": "markdown",
   "id": "1b2c8a72",
   "metadata": {},
   "source": [
    "## Создайте модель для оценки водительского риска"
   ]
  },
  {
   "cell_type": "code",
   "execution_count": 12,
   "id": "d7cb2cb9",
   "metadata": {
    "scrolled": true
   },
   "outputs": [
    {
     "data": {
      "text/html": [
       "<div>\n",
       "<style scoped>\n",
       "    .dataframe tbody tr th:only-of-type {\n",
       "        vertical-align: middle;\n",
       "    }\n",
       "\n",
       "    .dataframe tbody tr th {\n",
       "        vertical-align: top;\n",
       "    }\n",
       "\n",
       "    .dataframe thead th {\n",
       "        text-align: right;\n",
       "    }\n",
       "</style>\n",
       "<table border=\"1\" class=\"dataframe\">\n",
       "  <thead>\n",
       "    <tr style=\"text-align: right;\">\n",
       "      <th></th>\n",
       "      <th>id</th>\n",
       "      <th>case_id</th>\n",
       "      <th>party_number</th>\n",
       "      <th>party_type</th>\n",
       "      <th>at_fault</th>\n",
       "      <th>insurance_premium</th>\n",
       "      <th>party_sobriety</th>\n",
       "      <th>party_drug_physical</th>\n",
       "      <th>cellphone_in_use</th>\n",
       "      <th>case_id</th>\n",
       "      <th>...</th>\n",
       "      <th>lighting</th>\n",
       "      <th>control_device</th>\n",
       "      <th>collision_date</th>\n",
       "      <th>collision_time</th>\n",
       "      <th>id</th>\n",
       "      <th>case_id</th>\n",
       "      <th>party_number</th>\n",
       "      <th>vehicle_type</th>\n",
       "      <th>vehicle_transmission</th>\n",
       "      <th>vehicle_age</th>\n",
       "    </tr>\n",
       "  </thead>\n",
       "  <tbody>\n",
       "    <tr>\n",
       "      <th>0</th>\n",
       "      <td>2313089</td>\n",
       "      <td>5403341</td>\n",
       "      <td>2</td>\n",
       "      <td>car</td>\n",
       "      <td>0</td>\n",
       "      <td>53.0</td>\n",
       "      <td>had not been drinking</td>\n",
       "      <td>None</td>\n",
       "      <td>0.0</td>\n",
       "      <td>5403341</td>\n",
       "      <td>...</td>\n",
       "      <td>daylight</td>\n",
       "      <td>none</td>\n",
       "      <td>2012-01-01</td>\n",
       "      <td>10:40:00</td>\n",
       "      <td>1275428</td>\n",
       "      <td>5403341</td>\n",
       "      <td>2</td>\n",
       "      <td>sedan</td>\n",
       "      <td>manual</td>\n",
       "      <td>3.0</td>\n",
       "    </tr>\n",
       "    <tr>\n",
       "      <th>1</th>\n",
       "      <td>2313089</td>\n",
       "      <td>5403341</td>\n",
       "      <td>2</td>\n",
       "      <td>car</td>\n",
       "      <td>0</td>\n",
       "      <td>53.0</td>\n",
       "      <td>had not been drinking</td>\n",
       "      <td>None</td>\n",
       "      <td>0.0</td>\n",
       "      <td>5403341</td>\n",
       "      <td>...</td>\n",
       "      <td>daylight</td>\n",
       "      <td>none</td>\n",
       "      <td>2012-01-01</td>\n",
       "      <td>10:40:00</td>\n",
       "      <td>1275427</td>\n",
       "      <td>5403341</td>\n",
       "      <td>1</td>\n",
       "      <td>coupe</td>\n",
       "      <td>manual</td>\n",
       "      <td>5.0</td>\n",
       "    </tr>\n",
       "    <tr>\n",
       "      <th>2</th>\n",
       "      <td>2313093</td>\n",
       "      <td>5403344</td>\n",
       "      <td>1</td>\n",
       "      <td>car</td>\n",
       "      <td>1</td>\n",
       "      <td>72.0</td>\n",
       "      <td>had not been drinking</td>\n",
       "      <td>None</td>\n",
       "      <td>0.0</td>\n",
       "      <td>5403344</td>\n",
       "      <td>...</td>\n",
       "      <td>daylight</td>\n",
       "      <td>none</td>\n",
       "      <td>2012-01-24</td>\n",
       "      <td>13:21:00</td>\n",
       "      <td>1275433</td>\n",
       "      <td>5403344</td>\n",
       "      <td>1</td>\n",
       "      <td>coupe</td>\n",
       "      <td>auto</td>\n",
       "      <td>11.0</td>\n",
       "    </tr>\n",
       "    <tr>\n",
       "      <th>3</th>\n",
       "      <td>2313093</td>\n",
       "      <td>5403344</td>\n",
       "      <td>1</td>\n",
       "      <td>car</td>\n",
       "      <td>1</td>\n",
       "      <td>72.0</td>\n",
       "      <td>had not been drinking</td>\n",
       "      <td>None</td>\n",
       "      <td>0.0</td>\n",
       "      <td>5403344</td>\n",
       "      <td>...</td>\n",
       "      <td>daylight</td>\n",
       "      <td>none</td>\n",
       "      <td>2012-01-24</td>\n",
       "      <td>13:21:00</td>\n",
       "      <td>1275434</td>\n",
       "      <td>5403344</td>\n",
       "      <td>2</td>\n",
       "      <td>coupe</td>\n",
       "      <td>manual</td>\n",
       "      <td>8.0</td>\n",
       "    </tr>\n",
       "    <tr>\n",
       "      <th>4</th>\n",
       "      <td>2400017</td>\n",
       "      <td>5451306</td>\n",
       "      <td>1</td>\n",
       "      <td>car</td>\n",
       "      <td>1</td>\n",
       "      <td>34.0</td>\n",
       "      <td>had not been drinking</td>\n",
       "      <td>None</td>\n",
       "      <td>NaN</td>\n",
       "      <td>5451306</td>\n",
       "      <td>...</td>\n",
       "      <td>daylight</td>\n",
       "      <td>functioning</td>\n",
       "      <td>2012-01-02</td>\n",
       "      <td>08:20:00</td>\n",
       "      <td>1322900</td>\n",
       "      <td>5451306</td>\n",
       "      <td>2</td>\n",
       "      <td>coupe</td>\n",
       "      <td>manual</td>\n",
       "      <td>6.0</td>\n",
       "    </tr>\n",
       "    <tr>\n",
       "      <th>...</th>\n",
       "      <td>...</td>\n",
       "      <td>...</td>\n",
       "      <td>...</td>\n",
       "      <td>...</td>\n",
       "      <td>...</td>\n",
       "      <td>...</td>\n",
       "      <td>...</td>\n",
       "      <td>...</td>\n",
       "      <td>...</td>\n",
       "      <td>...</td>\n",
       "      <td>...</td>\n",
       "      <td>...</td>\n",
       "      <td>...</td>\n",
       "      <td>...</td>\n",
       "      <td>...</td>\n",
       "      <td>...</td>\n",
       "      <td>...</td>\n",
       "      <td>...</td>\n",
       "      <td>...</td>\n",
       "      <td>...</td>\n",
       "      <td>...</td>\n",
       "    </tr>\n",
       "    <tr>\n",
       "      <th>118406</th>\n",
       "      <td>2409760</td>\n",
       "      <td>5456628</td>\n",
       "      <td>2</td>\n",
       "      <td>car</td>\n",
       "      <td>0</td>\n",
       "      <td>50.0</td>\n",
       "      <td>had not been drinking</td>\n",
       "      <td>None</td>\n",
       "      <td>0.0</td>\n",
       "      <td>5456628</td>\n",
       "      <td>...</td>\n",
       "      <td>daylight</td>\n",
       "      <td>functioning</td>\n",
       "      <td>2012-01-05</td>\n",
       "      <td>10:34:00</td>\n",
       "      <td>1328241</td>\n",
       "      <td>5456628</td>\n",
       "      <td>2</td>\n",
       "      <td>sedan</td>\n",
       "      <td>auto</td>\n",
       "      <td>3.0</td>\n",
       "    </tr>\n",
       "    <tr>\n",
       "      <th>118407</th>\n",
       "      <td>2409768</td>\n",
       "      <td>5456633</td>\n",
       "      <td>1</td>\n",
       "      <td>car</td>\n",
       "      <td>1</td>\n",
       "      <td>24.0</td>\n",
       "      <td>had been drinking, under influence</td>\n",
       "      <td>None</td>\n",
       "      <td>NaN</td>\n",
       "      <td>5456633</td>\n",
       "      <td>...</td>\n",
       "      <td>dark with street lights</td>\n",
       "      <td>functioning</td>\n",
       "      <td>2012-01-01</td>\n",
       "      <td>00:28:00</td>\n",
       "      <td>1328244</td>\n",
       "      <td>5456633</td>\n",
       "      <td>2</td>\n",
       "      <td>sedan</td>\n",
       "      <td>auto</td>\n",
       "      <td>8.0</td>\n",
       "    </tr>\n",
       "    <tr>\n",
       "      <th>118408</th>\n",
       "      <td>2409769</td>\n",
       "      <td>5456633</td>\n",
       "      <td>2</td>\n",
       "      <td>car</td>\n",
       "      <td>0</td>\n",
       "      <td>52.0</td>\n",
       "      <td>had not been drinking</td>\n",
       "      <td>None</td>\n",
       "      <td>NaN</td>\n",
       "      <td>5456633</td>\n",
       "      <td>...</td>\n",
       "      <td>dark with street lights</td>\n",
       "      <td>functioning</td>\n",
       "      <td>2012-01-01</td>\n",
       "      <td>00:28:00</td>\n",
       "      <td>1328244</td>\n",
       "      <td>5456633</td>\n",
       "      <td>2</td>\n",
       "      <td>sedan</td>\n",
       "      <td>auto</td>\n",
       "      <td>8.0</td>\n",
       "    </tr>\n",
       "    <tr>\n",
       "      <th>118409</th>\n",
       "      <td>2409773</td>\n",
       "      <td>5456636</td>\n",
       "      <td>1</td>\n",
       "      <td>car</td>\n",
       "      <td>1</td>\n",
       "      <td>33.0</td>\n",
       "      <td>had not been drinking</td>\n",
       "      <td>None</td>\n",
       "      <td>0.0</td>\n",
       "      <td>5456636</td>\n",
       "      <td>...</td>\n",
       "      <td>daylight</td>\n",
       "      <td>none</td>\n",
       "      <td>2012-01-09</td>\n",
       "      <td>08:22:00</td>\n",
       "      <td>1328246</td>\n",
       "      <td>5456636</td>\n",
       "      <td>1</td>\n",
       "      <td>sedan</td>\n",
       "      <td>manual</td>\n",
       "      <td>NaN</td>\n",
       "    </tr>\n",
       "    <tr>\n",
       "      <th>118410</th>\n",
       "      <td>2409786</td>\n",
       "      <td>5456643</td>\n",
       "      <td>1</td>\n",
       "      <td>car</td>\n",
       "      <td>1</td>\n",
       "      <td>28.0</td>\n",
       "      <td>had been drinking, impairment unknown</td>\n",
       "      <td>None</td>\n",
       "      <td>0.0</td>\n",
       "      <td>5456643</td>\n",
       "      <td>...</td>\n",
       "      <td>dark with no street lights</td>\n",
       "      <td>none</td>\n",
       "      <td>2012-01-15</td>\n",
       "      <td>02:30:00</td>\n",
       "      <td>1328253</td>\n",
       "      <td>5456643</td>\n",
       "      <td>1</td>\n",
       "      <td>sedan</td>\n",
       "      <td>manual</td>\n",
       "      <td>4.0</td>\n",
       "    </tr>\n",
       "  </tbody>\n",
       "</table>\n",
       "<p>118411 rows × 35 columns</p>\n",
       "</div>"
      ],
      "text/plain": [
       "             id  case_id party_number party_type  at_fault  insurance_premium  \\\n",
       "0       2313089  5403341            2        car         0               53.0   \n",
       "1       2313089  5403341            2        car         0               53.0   \n",
       "2       2313093  5403344            1        car         1               72.0   \n",
       "3       2313093  5403344            1        car         1               72.0   \n",
       "4       2400017  5451306            1        car         1               34.0   \n",
       "...         ...      ...          ...        ...       ...                ...   \n",
       "118406  2409760  5456628            2        car         0               50.0   \n",
       "118407  2409768  5456633            1        car         1               24.0   \n",
       "118408  2409769  5456633            2        car         0               52.0   \n",
       "118409  2409773  5456636            1        car         1               33.0   \n",
       "118410  2409786  5456643            1        car         1               28.0   \n",
       "\n",
       "                               party_sobriety party_drug_physical  \\\n",
       "0                       had not been drinking                None   \n",
       "1                       had not been drinking                None   \n",
       "2                       had not been drinking                None   \n",
       "3                       had not been drinking                None   \n",
       "4                       had not been drinking                None   \n",
       "...                                       ...                 ...   \n",
       "118406                  had not been drinking                None   \n",
       "118407     had been drinking, under influence                None   \n",
       "118408                  had not been drinking                None   \n",
       "118409                  had not been drinking                None   \n",
       "118410  had been drinking, impairment unknown                None   \n",
       "\n",
       "        cellphone_in_use  case_id  ...                    lighting  \\\n",
       "0                    0.0  5403341  ...                    daylight   \n",
       "1                    0.0  5403341  ...                    daylight   \n",
       "2                    0.0  5403344  ...                    daylight   \n",
       "3                    0.0  5403344  ...                    daylight   \n",
       "4                    NaN  5451306  ...                    daylight   \n",
       "...                  ...      ...  ...                         ...   \n",
       "118406               0.0  5456628  ...                    daylight   \n",
       "118407               NaN  5456633  ...     dark with street lights   \n",
       "118408               NaN  5456633  ...     dark with street lights   \n",
       "118409               0.0  5456636  ...                    daylight   \n",
       "118410               0.0  5456643  ...  dark with no street lights   \n",
       "\n",
       "       control_device  collision_date collision_time       id  case_id  \\\n",
       "0                none      2012-01-01       10:40:00  1275428  5403341   \n",
       "1                none      2012-01-01       10:40:00  1275427  5403341   \n",
       "2                none      2012-01-24       13:21:00  1275433  5403344   \n",
       "3                none      2012-01-24       13:21:00  1275434  5403344   \n",
       "4         functioning      2012-01-02       08:20:00  1322900  5451306   \n",
       "...               ...             ...            ...      ...      ...   \n",
       "118406    functioning      2012-01-05       10:34:00  1328241  5456628   \n",
       "118407    functioning      2012-01-01       00:28:00  1328244  5456633   \n",
       "118408    functioning      2012-01-01       00:28:00  1328244  5456633   \n",
       "118409           none      2012-01-09       08:22:00  1328246  5456636   \n",
       "118410           none      2012-01-15       02:30:00  1328253  5456643   \n",
       "\n",
       "       party_number vehicle_type  vehicle_transmission vehicle_age  \n",
       "0                 2        sedan                manual         3.0  \n",
       "1                 1        coupe                manual         5.0  \n",
       "2                 1        coupe                  auto        11.0  \n",
       "3                 2        coupe                manual         8.0  \n",
       "4                 2        coupe                manual         6.0  \n",
       "...             ...          ...                   ...         ...  \n",
       "118406            2        sedan                  auto         3.0  \n",
       "118407            2        sedan                  auto         8.0  \n",
       "118408            2        sedan                  auto         8.0  \n",
       "118409            1        sedan                manual         NaN  \n",
       "118410            1        sedan                manual         4.0  \n",
       "\n",
       "[118411 rows x 35 columns]"
      ]
     },
     "execution_count": 12,
     "metadata": {},
     "output_type": "execute_result"
    }
   ],
   "source": [
    "query = '''\n",
    "WITH car AS (\n",
    "SELECT *\n",
    "FROM parties\n",
    "WHERE party_type = 'car'\n",
    ")\n",
    "SELECT *\n",
    "FROM car\n",
    "INNER JOIN collisions AS c ON car.case_id = c.case_id\n",
    "INNER JOIN Vehicles AS v ON car.case_id = v.case_id\n",
    "WHERE EXTRACT(YEAR FROM collision_date) = 2012\n",
    "AND collision_damage != 'scratch'\n",
    "'''\n",
    "sample_df = pd.read_sql_query(query, con=engine)\n",
    "sample_df"
   ]
  },
  {
   "cell_type": "code",
   "execution_count": 13,
   "id": "8456ade0",
   "metadata": {},
   "outputs": [],
   "source": [
    "columns = [\n",
    "    'at_fault', #целевой признак\n",
    "    'party_sobriety', #трезвость участника, важный признак\n",
    "    'vehicle_age',     #возраст автомобиля, старые автомобили скорее всего чаще попадают в ДТП\n",
    "    'intersection',# Перекресток или нет, движение на них сложнее\n",
    "    'weather_1',#погода, может затруднять видимость и сцепление с дорогой\n",
    "    'road_surface',#состояние дороги, мокрая, сухая, скользкая, плохое сцепление и ямы могут стать непосредственной причиной \n",
    "    'lighting',#освещение\n",
    "    'county_city_location',#номер районов, возможно определим самые опасные участки\n",
    "    'road_condition_1',#состояние дороги, ремонт, ямы и т.д.\n",
    "    'party_drug_physical',#Состояние участника: физическое или с учётом принятых лекарств\n",
    "    'cellphone_in_use',#использование телефона во время аварии\n",
    "    'primary_collision_factor',#Основной фактор аварии\n",
    "    'control_device',#Устройство управления\n",
    "    'pcf_violation_category'#Категория нарушения\n",
    "]"
   ]
  },
  {
   "cell_type": "code",
   "execution_count": 14,
   "id": "92c04d8e",
   "metadata": {},
   "outputs": [
    {
     "data": {
      "text/html": [
       "<div>\n",
       "<style scoped>\n",
       "    .dataframe tbody tr th:only-of-type {\n",
       "        vertical-align: middle;\n",
       "    }\n",
       "\n",
       "    .dataframe tbody tr th {\n",
       "        vertical-align: top;\n",
       "    }\n",
       "\n",
       "    .dataframe thead th {\n",
       "        text-align: right;\n",
       "    }\n",
       "</style>\n",
       "<table border=\"1\" class=\"dataframe\">\n",
       "  <thead>\n",
       "    <tr style=\"text-align: right;\">\n",
       "      <th></th>\n",
       "      <th>at_fault</th>\n",
       "      <th>party_sobriety</th>\n",
       "      <th>vehicle_age</th>\n",
       "      <th>intersection</th>\n",
       "      <th>weather_1</th>\n",
       "      <th>road_surface</th>\n",
       "      <th>lighting</th>\n",
       "      <th>county_city_location</th>\n",
       "      <th>road_condition_1</th>\n",
       "      <th>party_drug_physical</th>\n",
       "      <th>cellphone_in_use</th>\n",
       "      <th>primary_collision_factor</th>\n",
       "      <th>control_device</th>\n",
       "      <th>pcf_violation_category</th>\n",
       "    </tr>\n",
       "  </thead>\n",
       "  <tbody>\n",
       "    <tr>\n",
       "      <th>0</th>\n",
       "      <td>0</td>\n",
       "      <td>had not been drinking</td>\n",
       "      <td>3.0</td>\n",
       "      <td>0.0</td>\n",
       "      <td>clear</td>\n",
       "      <td>dry</td>\n",
       "      <td>daylight</td>\n",
       "      <td>1900</td>\n",
       "      <td>normal</td>\n",
       "      <td>None</td>\n",
       "      <td>0.0</td>\n",
       "      <td>vehicle code violation</td>\n",
       "      <td>none</td>\n",
       "      <td>improper passing</td>\n",
       "    </tr>\n",
       "    <tr>\n",
       "      <th>1</th>\n",
       "      <td>0</td>\n",
       "      <td>had not been drinking</td>\n",
       "      <td>5.0</td>\n",
       "      <td>0.0</td>\n",
       "      <td>clear</td>\n",
       "      <td>dry</td>\n",
       "      <td>daylight</td>\n",
       "      <td>1900</td>\n",
       "      <td>normal</td>\n",
       "      <td>None</td>\n",
       "      <td>0.0</td>\n",
       "      <td>vehicle code violation</td>\n",
       "      <td>none</td>\n",
       "      <td>improper passing</td>\n",
       "    </tr>\n",
       "    <tr>\n",
       "      <th>2</th>\n",
       "      <td>1</td>\n",
       "      <td>had not been drinking</td>\n",
       "      <td>11.0</td>\n",
       "      <td>0.0</td>\n",
       "      <td>clear</td>\n",
       "      <td>dry</td>\n",
       "      <td>daylight</td>\n",
       "      <td>1985</td>\n",
       "      <td>normal</td>\n",
       "      <td>None</td>\n",
       "      <td>0.0</td>\n",
       "      <td>vehicle code violation</td>\n",
       "      <td>none</td>\n",
       "      <td>improper turning</td>\n",
       "    </tr>\n",
       "    <tr>\n",
       "      <th>3</th>\n",
       "      <td>1</td>\n",
       "      <td>had not been drinking</td>\n",
       "      <td>8.0</td>\n",
       "      <td>0.0</td>\n",
       "      <td>clear</td>\n",
       "      <td>dry</td>\n",
       "      <td>daylight</td>\n",
       "      <td>1985</td>\n",
       "      <td>normal</td>\n",
       "      <td>None</td>\n",
       "      <td>0.0</td>\n",
       "      <td>vehicle code violation</td>\n",
       "      <td>none</td>\n",
       "      <td>improper turning</td>\n",
       "    </tr>\n",
       "    <tr>\n",
       "      <th>4</th>\n",
       "      <td>1</td>\n",
       "      <td>had not been drinking</td>\n",
       "      <td>6.0</td>\n",
       "      <td>1.0</td>\n",
       "      <td>fog</td>\n",
       "      <td>wet</td>\n",
       "      <td>daylight</td>\n",
       "      <td>3007</td>\n",
       "      <td>normal</td>\n",
       "      <td>None</td>\n",
       "      <td>NaN</td>\n",
       "      <td>vehicle code violation</td>\n",
       "      <td>functioning</td>\n",
       "      <td>traffic signals and signs</td>\n",
       "    </tr>\n",
       "  </tbody>\n",
       "</table>\n",
       "</div>"
      ],
      "text/plain": [
       "   at_fault         party_sobriety  vehicle_age  intersection weather_1  \\\n",
       "0         0  had not been drinking          3.0           0.0     clear   \n",
       "1         0  had not been drinking          5.0           0.0     clear   \n",
       "2         1  had not been drinking         11.0           0.0     clear   \n",
       "3         1  had not been drinking          8.0           0.0     clear   \n",
       "4         1  had not been drinking          6.0           1.0       fog   \n",
       "\n",
       "  road_surface  lighting county_city_location road_condition_1  \\\n",
       "0          dry  daylight                 1900           normal   \n",
       "1          dry  daylight                 1900           normal   \n",
       "2          dry  daylight                 1985           normal   \n",
       "3          dry  daylight                 1985           normal   \n",
       "4          wet  daylight                 3007           normal   \n",
       "\n",
       "  party_drug_physical  cellphone_in_use primary_collision_factor  \\\n",
       "0                None               0.0   vehicle code violation   \n",
       "1                None               0.0   vehicle code violation   \n",
       "2                None               0.0   vehicle code violation   \n",
       "3                None               0.0   vehicle code violation   \n",
       "4                None               NaN   vehicle code violation   \n",
       "\n",
       "  control_device     pcf_violation_category  \n",
       "0           none           improper passing  \n",
       "1           none           improper passing  \n",
       "2           none           improper turning  \n",
       "3           none           improper turning  \n",
       "4    functioning  traffic signals and signs  "
      ]
     },
     "execution_count": 14,
     "metadata": {},
     "output_type": "execute_result"
    }
   ],
   "source": [
    "df = sample_df.loc[:,columns].copy()\n",
    "df.head()"
   ]
  },
  {
   "cell_type": "code",
   "execution_count": 15,
   "id": "1fdc1904",
   "metadata": {},
   "outputs": [
    {
     "name": "stdout",
     "output_type": "stream",
     "text": [
      "<class 'pandas.core.frame.DataFrame'>\n",
      "RangeIndex: 118411 entries, 0 to 118410\n",
      "Data columns (total 14 columns):\n",
      " #   Column                    Non-Null Count   Dtype  \n",
      "---  ------                    --------------   -----  \n",
      " 0   at_fault                  118411 non-null  int64  \n",
      " 1   party_sobriety            116682 non-null  object \n",
      " 2   vehicle_age               115046 non-null  float64\n",
      " 3   intersection              118043 non-null  float64\n",
      " 4   weather_1                 118022 non-null  object \n",
      " 5   road_surface              117645 non-null  object \n",
      " 6   lighting                  118080 non-null  object \n",
      " 7   county_city_location      118411 non-null  object \n",
      " 8   road_condition_1          117843 non-null  object \n",
      " 9   party_drug_physical       8695 non-null    object \n",
      " 10  cellphone_in_use          107507 non-null  float64\n",
      " 11  primary_collision_factor  118147 non-null  object \n",
      " 12  control_device            117957 non-null  object \n",
      " 13  pcf_violation_category    116686 non-null  object \n",
      "dtypes: float64(3), int64(1), object(10)\n",
      "memory usage: 12.6+ MB\n"
     ]
    }
   ],
   "source": [
    "df.info()"
   ]
  },
  {
   "cell_type": "code",
   "execution_count": 16,
   "id": "60ebc816",
   "metadata": {},
   "outputs": [],
   "source": [
    "cat = ['party_sobriety', 'weather_1', 'road_surface', 'lighting', 'road_condition_1','party_drug_physical',\n",
    "       'primary_collision_factor','control_device', 'pcf_violation_category']\n",
    "num =['vehicle_age','intersection', 'county_city_location','cellphone_in_use']"
   ]
  },
  {
   "cell_type": "markdown",
   "id": "0e29402a",
   "metadata": {},
   "source": [
    "Выделим категориальные и числовыые переменые для обработки. Избавимся от пропусков"
   ]
  },
  {
   "cell_type": "code",
   "execution_count": 17,
   "id": "07f95577",
   "metadata": {},
   "outputs": [
    {
     "name": "stdout",
     "output_type": "stream",
     "text": [
      "<class 'pandas.core.frame.DataFrame'>\n",
      "Int64Index: 104520 entries, 0 to 118410\n",
      "Data columns (total 14 columns):\n",
      " #   Column                    Non-Null Count   Dtype  \n",
      "---  ------                    --------------   -----  \n",
      " 0   at_fault                  104520 non-null  int64  \n",
      " 1   party_sobriety            104520 non-null  object \n",
      " 2   vehicle_age               104520 non-null  float64\n",
      " 3   intersection              104520 non-null  float64\n",
      " 4   weather_1                 104520 non-null  object \n",
      " 5   road_surface              104520 non-null  object \n",
      " 6   lighting                  104520 non-null  object \n",
      " 7   county_city_location      104520 non-null  object \n",
      " 8   road_condition_1          104520 non-null  object \n",
      " 9   party_drug_physical       104520 non-null  object \n",
      " 10  cellphone_in_use          104520 non-null  float64\n",
      " 11  primary_collision_factor  104520 non-null  object \n",
      " 12  control_device            104520 non-null  object \n",
      " 13  pcf_violation_category    104520 non-null  object \n",
      "dtypes: float64(3), int64(1), object(10)\n",
      "memory usage: 12.0+ MB\n"
     ]
    }
   ],
   "source": [
    "df[cat] = df[cat].fillna('None')\n",
    "df.dropna(inplace=True)\n",
    "df.info()"
   ]
  },
  {
   "cell_type": "code",
   "execution_count": 18,
   "id": "1ea51099",
   "metadata": {},
   "outputs": [],
   "source": [
    "features = df.drop('at_fault', axis=1)\n",
    "target = df['at_fault']"
   ]
  },
  {
   "cell_type": "code",
   "execution_count": 19,
   "id": "2eac57d3",
   "metadata": {},
   "outputs": [
    {
     "data": {
      "text/plain": [
       "(104520, 13)"
      ]
     },
     "metadata": {},
     "output_type": "display_data"
    },
    {
     "data": {
      "text/plain": [
       "(104520,)"
      ]
     },
     "execution_count": 19,
     "metadata": {},
     "output_type": "execute_result"
    }
   ],
   "source": [
    "display(features.shape)\n",
    "target.shape"
   ]
  },
  {
   "cell_type": "code",
   "execution_count": 20,
   "id": "b5db6814",
   "metadata": {},
   "outputs": [],
   "source": [
    "col_transformer = ColumnTransformer(\n",
    "                    transformers=[\n",
    "                        ('ss', StandardScaler(), num),\n",
    "                        ('ohe', OneHotEncoder(drop='first', sparse=False), cat)\n",
    "                    ],\n",
    "                    remainder='drop',\n",
    "                    n_jobs=-1\n",
    "                    )"
   ]
  },
  {
   "cell_type": "code",
   "execution_count": 21,
   "id": "a6b8a84a",
   "metadata": {},
   "outputs": [
    {
     "name": "stderr",
     "output_type": "stream",
     "text": [
      "/opt/conda/lib/python3.9/site-packages/sklearn/preprocessing/_encoders.py:828: FutureWarning: `sparse` was renamed to `sparse_output` in version 1.2 and will be removed in 1.4. `sparse_output` is ignored unless you leave `sparse` to its default value.\n",
      "  warnings.warn(\n"
     ]
    }
   ],
   "source": [
    "features_t = col_transformer.fit_transform(features)"
   ]
  },
  {
   "cell_type": "code",
   "execution_count": 22,
   "id": "80e7f49e",
   "metadata": {},
   "outputs": [],
   "source": [
    "features_new = pd.DataFrame(features_t,columns=col_transformer.get_feature_names_out())\n",
    "#ol_transformer.get_feature_names_out()"
   ]
  },
  {
   "cell_type": "code",
   "execution_count": 23,
   "id": "68e99125",
   "metadata": {},
   "outputs": [
    {
     "data": {
      "text/plain": [
       "(104520, 68)"
      ]
     },
     "execution_count": 23,
     "metadata": {},
     "output_type": "execute_result"
    }
   ],
   "source": [
    "features_new.shape"
   ]
  },
  {
   "cell_type": "code",
   "execution_count": 24,
   "id": "aca35da6",
   "metadata": {
    "scrolled": true
   },
   "outputs": [
    {
     "data": {
      "text/html": [
       "<style>#sk-container-id-1 {color: black;background-color: white;}#sk-container-id-1 pre{padding: 0;}#sk-container-id-1 div.sk-toggleable {background-color: white;}#sk-container-id-1 label.sk-toggleable__label {cursor: pointer;display: block;width: 100%;margin-bottom: 0;padding: 0.3em;box-sizing: border-box;text-align: center;}#sk-container-id-1 label.sk-toggleable__label-arrow:before {content: \"▸\";float: left;margin-right: 0.25em;color: #696969;}#sk-container-id-1 label.sk-toggleable__label-arrow:hover:before {color: black;}#sk-container-id-1 div.sk-estimator:hover label.sk-toggleable__label-arrow:before {color: black;}#sk-container-id-1 div.sk-toggleable__content {max-height: 0;max-width: 0;overflow: hidden;text-align: left;background-color: #f0f8ff;}#sk-container-id-1 div.sk-toggleable__content pre {margin: 0.2em;color: black;border-radius: 0.25em;background-color: #f0f8ff;}#sk-container-id-1 input.sk-toggleable__control:checked~div.sk-toggleable__content {max-height: 200px;max-width: 100%;overflow: auto;}#sk-container-id-1 input.sk-toggleable__control:checked~label.sk-toggleable__label-arrow:before {content: \"▾\";}#sk-container-id-1 div.sk-estimator input.sk-toggleable__control:checked~label.sk-toggleable__label {background-color: #d4ebff;}#sk-container-id-1 div.sk-label input.sk-toggleable__control:checked~label.sk-toggleable__label {background-color: #d4ebff;}#sk-container-id-1 input.sk-hidden--visually {border: 0;clip: rect(1px 1px 1px 1px);clip: rect(1px, 1px, 1px, 1px);height: 1px;margin: -1px;overflow: hidden;padding: 0;position: absolute;width: 1px;}#sk-container-id-1 div.sk-estimator {font-family: monospace;background-color: #f0f8ff;border: 1px dotted black;border-radius: 0.25em;box-sizing: border-box;margin-bottom: 0.5em;}#sk-container-id-1 div.sk-estimator:hover {background-color: #d4ebff;}#sk-container-id-1 div.sk-parallel-item::after {content: \"\";width: 100%;border-bottom: 1px solid gray;flex-grow: 1;}#sk-container-id-1 div.sk-label:hover label.sk-toggleable__label {background-color: #d4ebff;}#sk-container-id-1 div.sk-serial::before {content: \"\";position: absolute;border-left: 1px solid gray;box-sizing: border-box;top: 0;bottom: 0;left: 50%;z-index: 0;}#sk-container-id-1 div.sk-serial {display: flex;flex-direction: column;align-items: center;background-color: white;padding-right: 0.2em;padding-left: 0.2em;position: relative;}#sk-container-id-1 div.sk-item {position: relative;z-index: 1;}#sk-container-id-1 div.sk-parallel {display: flex;align-items: stretch;justify-content: center;background-color: white;position: relative;}#sk-container-id-1 div.sk-item::before, #sk-container-id-1 div.sk-parallel-item::before {content: \"\";position: absolute;border-left: 1px solid gray;box-sizing: border-box;top: 0;bottom: 0;left: 50%;z-index: -1;}#sk-container-id-1 div.sk-parallel-item {display: flex;flex-direction: column;z-index: 1;position: relative;background-color: white;}#sk-container-id-1 div.sk-parallel-item:first-child::after {align-self: flex-end;width: 50%;}#sk-container-id-1 div.sk-parallel-item:last-child::after {align-self: flex-start;width: 50%;}#sk-container-id-1 div.sk-parallel-item:only-child::after {width: 0;}#sk-container-id-1 div.sk-dashed-wrapped {border: 1px dashed gray;margin: 0 0.4em 0.5em 0.4em;box-sizing: border-box;padding-bottom: 0.4em;background-color: white;}#sk-container-id-1 div.sk-label label {font-family: monospace;font-weight: bold;display: inline-block;line-height: 1.2em;}#sk-container-id-1 div.sk-label-container {text-align: center;}#sk-container-id-1 div.sk-container {/* jupyter's `normalize.less` sets `[hidden] { display: none; }` but bootstrap.min.css set `[hidden] { display: none !important; }` so we also need the `!important` here to be able to override the default hidden behavior on the sphinx rendered scikit-learn.org. See: https://github.com/scikit-learn/scikit-learn/issues/21755 */display: inline-block !important;position: relative;}#sk-container-id-1 div.sk-text-repr-fallback {display: none;}</style><div id=\"sk-container-id-1\" class=\"sk-top-container\"><div class=\"sk-text-repr-fallback\"><pre>RandomForestClassifier(random_state=42)</pre><b>In a Jupyter environment, please rerun this cell to show the HTML representation or trust the notebook. <br />On GitHub, the HTML representation is unable to render, please try loading this page with nbviewer.org.</b></div><div class=\"sk-container\" hidden><div class=\"sk-item\"><div class=\"sk-estimator sk-toggleable\"><input class=\"sk-toggleable__control sk-hidden--visually\" id=\"sk-estimator-id-1\" type=\"checkbox\" checked><label for=\"sk-estimator-id-1\" class=\"sk-toggleable__label sk-toggleable__label-arrow\">RandomForestClassifier</label><div class=\"sk-toggleable__content\"><pre>RandomForestClassifier(random_state=42)</pre></div></div></div></div></div>"
      ],
      "text/plain": [
       "RandomForestClassifier(random_state=42)"
      ]
     },
     "execution_count": 24,
     "metadata": {},
     "output_type": "execute_result"
    }
   ],
   "source": [
    "clf = RandomForestClassifier(random_state=42)\n",
    "clf.fit(features_new, target)"
   ]
  },
  {
   "cell_type": "code",
   "execution_count": 25,
   "id": "744c05c4",
   "metadata": {
    "scrolled": true
   },
   "outputs": [
    {
     "data": {
      "image/png": "[encoded data removed]",
      "text/plain": [
       "<Figure size 864x864 with 1 Axes>"
      ]
     },
     "metadata": {
      "needs_background": "light"
     },
     "output_type": "display_data"
    }
   ],
   "source": [
    "(pd.DataFrame(data={'score': clf.feature_importances_}, \n",
    "                      index=features_new.columns).sort_values(by='score')\n",
    "                                         .plot(kind='barh', grid=True,\n",
    "                                               figsize=(12,12), legend=False));"
   ]
  },
  {
   "cell_type": "markdown",
   "id": "970e837c",
   "metadata": {},
   "source": [
    "Видим, что признаки которые мы и ожидали, имеют больший вес, такие как возраст автомобиля, трезвость и т.д."
   ]
  },
  {
   "cell_type": "code",
   "execution_count": 26,
   "id": "98d8695e",
   "metadata": {},
   "outputs": [],
   "source": [
    "X_train, X_test, y_train, y_test = train_test_split(features,target,test_size=0.3,shuffle=True,random_state=42)"
   ]
  },
  {
   "cell_type": "code",
   "execution_count": 27,
   "id": "1b478bbb",
   "metadata": {},
   "outputs": [
    {
     "data": {
      "text/plain": [
       "(73164, 13)"
      ]
     },
     "metadata": {},
     "output_type": "display_data"
    },
    {
     "data": {
      "text/plain": [
       "(31356, 13)"
      ]
     },
     "metadata": {},
     "output_type": "display_data"
    },
    {
     "data": {
      "text/plain": [
       "(73164,)"
      ]
     },
     "metadata": {},
     "output_type": "display_data"
    },
    {
     "data": {
      "text/plain": [
       "(31356,)"
      ]
     },
     "metadata": {},
     "output_type": "display_data"
    }
   ],
   "source": [
    "display(X_train.shape, X_test.shape, y_train.shape, y_test.shape)"
   ]
  },
  {
   "cell_type": "code",
   "execution_count": 28,
   "id": "421e42ab",
   "metadata": {
    "scrolled": true
   },
   "outputs": [
    {
     "name": "stderr",
     "output_type": "stream",
     "text": [
      "/opt/conda/lib/python3.9/site-packages/sklearn/preprocessing/_encoders.py:828: FutureWarning: `sparse` was renamed to `sparse_output` in version 1.2 and will be removed in 1.4. `sparse_output` is ignored unless you leave `sparse` to its default value.\n",
      "  warnings.warn(\n"
     ]
    }
   ],
   "source": [
    "X_train = col_transformer.fit_transform(X_train)\n",
    "X_train = pd.DataFrame(X_train,columns=col_transformer.get_feature_names_out())\n",
    "\n",
    "X_test = col_transformer.transform(X_test)\n",
    "X_test = pd.DataFrame(X_test,columns=col_transformer.get_feature_names_out())"
   ]
  },
  {
   "cell_type": "code",
   "execution_count": 29,
   "id": "129c7b04",
   "metadata": {},
   "outputs": [
    {
     "data": {
      "text/plain": [
       "(73164, 68)"
      ]
     },
     "metadata": {},
     "output_type": "display_data"
    },
    {
     "data": {
      "text/plain": [
       "(31356, 68)"
      ]
     },
     "metadata": {},
     "output_type": "display_data"
    },
    {
     "data": {
      "text/plain": [
       "(73164,)"
      ]
     },
     "metadata": {},
     "output_type": "display_data"
    },
    {
     "data": {
      "text/plain": [
       "(31356,)"
      ]
     },
     "metadata": {},
     "output_type": "display_data"
    }
   ],
   "source": [
    "display(X_train.shape, X_test.shape, y_train.shape, y_test.shape)"
   ]
  },
  {
   "cell_type": "markdown",
   "id": "007ae491",
   "metadata": {},
   "source": [
    "### Постороим наши модели"
   ]
  },
  {
   "cell_type": "code",
   "execution_count": 30,
   "id": "8d54793a",
   "metadata": {
    "scrolled": true
   },
   "outputs": [
    {
     "data": {
      "text/plain": [
       "0    56005\n",
       "1    48515\n",
       "Name: at_fault, dtype: int64"
      ]
     },
     "execution_count": 30,
     "metadata": {},
     "output_type": "execute_result"
    }
   ],
   "source": [
    "target.value_counts()"
   ]
  },
  {
   "cell_type": "markdown",
   "id": "4c7b14b3",
   "metadata": {},
   "source": [
    "Теперь нам необходимо выбрать метрику для оценивания нашей модели. Согласно нашей бизнес-задаче, наша модель получив данные о маршруте и бронировании, должна предсказывать риск, дать советы пользователю. В данном случае нам важно определять положительный класс, то есть \"рискованные\" ситуации, и цена ложноположительного класса не так велика, поэтому будем использовать \n",
    "`recall` метрику"
   ]
  },
  {
   "cell_type": "code",
   "execution_count": 31,
   "id": "94c80c1f",
   "metadata": {},
   "outputs": [],
   "source": [
    "param_grid_ = { # словарь параетров\n",
    "    'max_depth':[5,7,9,11,13,15,17,19,20],\n",
    "    'min_samples_leaf':[2,4,6,8],    \n",
    "    'n_estimators': [10, 20, 30, 40, 50],\n",
    "    'max_features': ['log2'],    \n",
    "    'criterion' : ['gini']\n",
    "}"
   ]
  },
  {
   "cell_type": "code",
   "execution_count": 32,
   "id": "b215a664",
   "metadata": {},
   "outputs": [
    {
     "name": "stdout",
     "output_type": "stream",
     "text": [
      "0.38590822030120026\n",
      "CPU times: user 20min 23s, sys: 3.4 s, total: 20min 27s\n",
      "Wall time: 20min 31s\n"
     ]
    }
   ],
   "source": [
    "%%time\n",
    "rfc = RandomForestClassifier(random_state=42)\n",
    "grid_CV_rfc = GridSearchCV(estimator=rfc,\n",
    "                       param_grid=param_grid_,\n",
    "                       cv=5,\n",
    "                       scoring='recall'\n",
    ")\n",
    "grid_CV_rfc.fit(X_train, y_train)\n",
    "#preds_rfc = grid_CV_rfc.best_estimator_.predict(X_train)\n",
    "print(grid_CV_rfc.best_score_)"
   ]
  },
  {
   "cell_type": "markdown",
   "id": "2df320b8",
   "metadata": {},
   "source": [
    "#### CatBoostClassifier"
   ]
  },
  {
   "cell_type": "code",
   "execution_count": 33,
   "id": "a9ef0482",
   "metadata": {},
   "outputs": [],
   "source": [
    "param_grid_cbc = { # словарь параетров\n",
    "    'depth':[5,7,9,11],\n",
    "    'iterations': [150],\n",
    "    'learning_rate':[1e-3,1e-2,0.1]\n",
    "}"
   ]
  },
  {
   "cell_type": "code",
   "execution_count": 34,
   "id": "31a60b61",
   "metadata": {},
   "outputs": [],
   "source": [
    "train, test, target_train, target_test = train_test_split(features,target,test_size=0.3,shuffle=True,random_state=42)"
   ]
  },
  {
   "cell_type": "code",
   "execution_count": 35,
   "id": "ee67320f",
   "metadata": {},
   "outputs": [
    {
     "name": "stdout",
     "output_type": "stream",
     "text": [
      "0.39872193041929765\n",
      "CPU times: user 7min 8s, sys: 10.8 s, total: 7min 19s\n",
      "Wall time: 8min 13s\n"
     ]
    }
   ],
   "source": [
    "%%time\n",
    "cbc = CatBoostClassifier(cat_features=cat,random_seed=42,verbose=False)\n",
    "\n",
    "grid_CV_cbc = GridSearchCV(estimator=cbc,\n",
    "                       param_grid=param_grid_cbc,\n",
    "                       cv=5,\n",
    "                       scoring='recall'\n",
    ")\n",
    "grid_CV_cbc.fit(train, target_train)\n",
    "print(grid_CV_cbc.best_score_)"
   ]
  },
  {
   "cell_type": "code",
   "execution_count": 36,
   "id": "0c86bbed",
   "metadata": {
    "scrolled": true
   },
   "outputs": [
    {
     "data": {
      "text/plain": [
       "array([26.55611299,  1.89506278,  1.47388427,  0.73536545,  1.49528805,\n",
       "        2.51131414,  3.50143671,  1.6081256 ,  4.23381385,  0.21631685,\n",
       "        6.94171096,  2.00495087, 46.82661748])"
      ]
     },
     "execution_count": 36,
     "metadata": {},
     "output_type": "execute_result"
    }
   ],
   "source": [
    "grid_CV_cbc.best_estimator_.get_feature_importance()"
   ]
  },
  {
   "cell_type": "markdown",
   "id": "f6ecf30b",
   "metadata": {},
   "source": [
    "#### DecisionTreeClassifier"
   ]
  },
  {
   "cell_type": "code",
   "execution_count": 45,
   "id": "81d64c35",
   "metadata": {},
   "outputs": [
    {
     "name": "stdout",
     "output_type": "stream",
     "text": [
      "0.3810402839944436\n",
      "CPU times: user 6min 48s, sys: 905 ms, total: 6min 48s\n",
      "Wall time: 6min 50s\n"
     ]
    }
   ],
   "source": [
    "%%time\n",
    "dtf = DecisionTreeClassifier(random_state=12345)#Исследуем модель дерева решений\n",
    "param_grid_dtf = { # словарь параметров\n",
    "    'max_depth':[5,7,9,11,13,15,17,19,20],\n",
    "    'min_samples_leaf':[1, 2, 3, 4, 6, 8],\n",
    "    'min_samples_split' : [2, 3, 4, 5]\n",
    "}\n",
    "\n",
    "#воспользуемся методом GridSearchCV для подбора параметров\n",
    "grid_CV_dtf = GridSearchCV(estimator=dtf,\n",
    "                       param_grid=param_grid_dtf,\n",
    "                       cv=5,\n",
    "                       scoring='recall'\n",
    ")\n",
    "grid_CV_dtf.fit(X_train, y_train)\n",
    "\n",
    "\n",
    "print(grid_CV_dtf.best_score_)"
   ]
  },
  {
   "cell_type": "markdown",
   "id": "94f51850",
   "metadata": {},
   "source": [
    "## Проведите анализ важности факторов ДТП"
   ]
  },
  {
   "cell_type": "code",
   "execution_count": 37,
   "id": "186a2b4f",
   "metadata": {},
   "outputs": [
    {
     "data": {
      "image/png": "[encoded data removed]",
      "text/plain": [
       "<Figure size 432x288 with 2 Axes>"
      ]
     },
     "metadata": {
      "needs_background": "light"
     },
     "output_type": "display_data"
    },
    {
     "name": "stdout",
     "output_type": "stream",
     "text": [
      "Полнота 0.38590822030120026\n",
      "Точность 0.7266490765171504\n"
     ]
    }
   ],
   "source": [
    "cm = confusion_matrix(target_test, grid_CV_rfc.best_estimator_.predict(X_test), labels=grid_CV_rfc.classes_)\n",
    "disp = ConfusionMatrixDisplay(confusion_matrix=cm,\n",
    "                             display_labels=grid_CV_rfc.best_estimator_.classes_)\n",
    "disp.plot()\n",
    "plt.show()\n",
    "print('Полнота', grid_CV_rfc.best_score_)\n",
    "print('Точность',precision_score(target_test,grid_CV_rfc.best_estimator_.predict(X_test)))"
   ]
  },
  {
   "cell_type": "code",
   "execution_count": 38,
   "id": "f516932f",
   "metadata": {},
   "outputs": [
    {
     "data": {
      "image/png": "[encoded data removed]",
      "text/plain": [
       "<Figure size 1152x1152 with 1 Axes>"
      ]
     },
     "metadata": {
      "needs_background": "light"
     },
     "output_type": "display_data"
    }
   ],
   "source": [
    "(pd.DataFrame(data={'score': grid_CV_rfc.best_estimator_.feature_importances_}, \n",
    "                      index=X_train.columns).sort_values(by='score')\n",
    "                                         .plot(kind='barh', grid=True,\n",
    "                                               figsize=(16,16), legend=False));"
   ]
  },
  {
   "cell_type": "markdown",
   "id": "026547cc",
   "metadata": {},
   "source": [
    "Видим, что для нашей модели, основными факторами оказалось трезвость, физическое состояние, локации. Неудивительно, эти признаки \n",
    "в действительности имеют подавляющее влияние на вождение. Проанализируем некоторые из них более внимательно."
   ]
  },
  {
   "cell_type": "code",
   "execution_count": 39,
   "id": "17f43223",
   "metadata": {
    "scrolled": true
   },
   "outputs": [
    {
     "data": {
      "text/plain": [
       "<AxesSubplot:>"
      ]
     },
     "execution_count": 39,
     "metadata": {},
     "output_type": "execute_result"
    },
    {
     "data": {
      "image/png": "[encoded data removed]",
      "text/plain": [
       "<Figure size 432x288 with 1 Axes>"
      ]
     },
     "metadata": {
      "needs_background": "light"
     },
     "output_type": "display_data"
    }
   ],
   "source": [
    "features[df['at_fault']==1]['party_sobriety'].value_counts().plot(kind=\"bar\")"
   ]
  },
  {
   "cell_type": "markdown",
   "id": "8d89a77e",
   "metadata": {},
   "source": [
    "Удивительно, но больше всего ДТП с непьющими водителями, возможно это связано с маленькой частотой пьяного вождения в целом."
   ]
  },
  {
   "cell_type": "code",
   "execution_count": 40,
   "id": "21bc4cce",
   "metadata": {},
   "outputs": [
    {
     "data": {
      "text/plain": [
       "1942    13568\n",
       "1900     4478\n",
       "3711     2337\n",
       "3400     2270\n",
       "3600     1833\n",
       "        ...  \n",
       "0501        1\n",
       "1958        1\n",
       "1504        1\n",
       "2001        1\n",
       "3337        1\n",
       "Name: county_city_location, Length: 487, dtype: int64"
      ]
     },
     "execution_count": 40,
     "metadata": {},
     "output_type": "execute_result"
    }
   ],
   "source": [
    "features['county_city_location'].value_counts()"
   ]
  },
  {
   "cell_type": "code",
   "execution_count": 41,
   "id": "5ded179b",
   "metadata": {},
   "outputs": [
    {
     "data": {
      "text/plain": [
       "<AxesSubplot:>"
      ]
     },
     "execution_count": 41,
     "metadata": {},
     "output_type": "execute_result"
    },
    {
     "data": {
      "image/png": "[encoded data removed]",
      "text/plain": [
       "<Figure size 432x288 with 1 Axes>"
      ]
     },
     "metadata": {
      "needs_background": "light"
     },
     "output_type": "display_data"
    }
   ],
   "source": [
    "features[df['at_fault']==1]['county_city_location'].value_counts().head(15).plot(kind=\"barh\")"
   ]
  },
  {
   "cell_type": "markdown",
   "id": "af095256",
   "metadata": {},
   "source": [
    "Однако здесь, мы можем выделить наиболее частые коды районов, в которых происходят ДТП, что очень важно, для нашего исследования. Ведь с помощью этих данных модели, мы можем предлагать объезжать опасные районы, тем самым понизив вероятность ДТП"
   ]
  },
  {
   "cell_type": "markdown",
   "id": "4a273c7e",
   "metadata": {},
   "source": [
    "## Выводы"
   ]
  },
  {
   "cell_type": "markdown",
   "id": "df47c8e8",
   "metadata": {},
   "source": [
    "- В данном исследование мы с помощью моделей машинного обучения, пытались предсказать вероятность ДТП.Мы выбрали случайный лес. Добились нормального значения на нашей метрике.\n",
    "\n",
    "- Сделали вывод, что действительно можно внедрить такую модель, с помощью неё можно выделить те или иные факторы, влияющие сильнее других. \n",
    "\n",
    "- Стоит так же собирать и другие данные, например: стаж вождения, историю ДТП\n"
   ]
  },
  {
   "cell_type": "code",
   "execution_count": null,
   "id": "0af9afd9",
   "metadata": {},
   "outputs": [],
   "source": []
  }
 ],
 "metadata": {
  "ExecuteTimeLog": [
   {
    "duration": 8,
    "start_time": "2023-02-16T14:34:17.997Z"
   },
   {
    "duration": 429,
    "start_time": "2023-02-16T14:34:25.287Z"
   },
   {
    "duration": 96,
    "start_time": "2023-02-16T14:34:48.617Z"
   },
   {
    "duration": 63,
    "start_time": "2023-02-16T14:37:09.288Z"
   },
   {
    "duration": 498,
    "start_time": "2023-02-16T14:37:36.212Z"
   },
   {
    "duration": 24,
    "start_time": "2023-02-16T14:37:57.418Z"
   },
   {
    "duration": 3,
    "start_time": "2023-02-16T14:38:47.497Z"
   },
   {
    "duration": 8596,
    "start_time": "2023-02-16T14:38:48.186Z"
   },
   {
    "duration": 18236,
    "start_time": "2023-02-16T14:53:24.439Z"
   },
   {
    "duration": 11839,
    "start_time": "2023-02-16T14:55:47.299Z"
   },
   {
    "duration": 3933,
    "start_time": "2023-02-16T14:56:09.520Z"
   },
   {
    "duration": 3802,
    "start_time": "2023-02-16T14:56:40.000Z"
   },
   {
    "duration": 244,
    "start_time": "2023-02-16T15:48:56.372Z"
   },
   {
    "duration": 237,
    "start_time": "2023-02-16T15:49:39.654Z"
   },
   {
    "duration": 11,
    "start_time": "2023-02-16T15:49:50.082Z"
   },
   {
    "duration": 463,
    "start_time": "2023-02-16T15:50:15.479Z"
   },
   {
    "duration": 38,
    "start_time": "2023-02-16T15:50:20.361Z"
   },
   {
    "duration": 195,
    "start_time": "2023-02-16T15:51:20.728Z"
   },
   {
    "duration": 145,
    "start_time": "2023-02-16T15:52:03.884Z"
   },
   {
    "duration": 147,
    "start_time": "2023-02-16T15:53:29.341Z"
   },
   {
    "duration": 140,
    "start_time": "2023-02-16T15:54:44.962Z"
   },
   {
    "duration": 149,
    "start_time": "2023-02-16T16:00:08.936Z"
   },
   {
    "duration": 150,
    "start_time": "2023-02-16T16:00:14.186Z"
   },
   {
    "duration": 140,
    "start_time": "2023-02-16T16:00:19.469Z"
   },
   {
    "duration": 244,
    "start_time": "2023-02-16T16:02:03.254Z"
   },
   {
    "duration": 242,
    "start_time": "2023-02-16T16:02:14.282Z"
   },
   {
    "duration": 234,
    "start_time": "2023-02-16T16:03:09.421Z"
   },
   {
    "duration": 278,
    "start_time": "2023-02-16T16:03:20.971Z"
   },
   {
    "duration": 239,
    "start_time": "2023-02-16T16:03:50.911Z"
   },
   {
    "duration": 225,
    "start_time": "2023-02-16T16:04:03.616Z"
   },
   {
    "duration": 72,
    "start_time": "2023-02-17T11:40:51.613Z"
   },
   {
    "duration": 1558,
    "start_time": "2023-02-17T11:40:56.321Z"
   },
   {
    "duration": 4,
    "start_time": "2023-02-17T11:40:57.881Z"
   },
   {
    "duration": 14,
    "start_time": "2023-02-17T11:40:57.887Z"
   },
   {
    "duration": 4893,
    "start_time": "2023-02-17T11:40:57.904Z"
   },
   {
    "duration": 4947,
    "start_time": "2023-02-17T11:41:02.799Z"
   },
   {
    "duration": 18359,
    "start_time": "2023-02-17T11:41:07.748Z"
   },
   {
    "duration": 12069,
    "start_time": "2023-02-17T11:41:26.115Z"
   },
   {
    "duration": 4267,
    "start_time": "2023-02-17T11:41:38.186Z"
   },
   {
    "duration": 208,
    "start_time": "2023-02-17T11:41:42.455Z"
   },
   {
    "duration": 270,
    "start_time": "2023-02-17T11:41:42.665Z"
   },
   {
    "duration": 127,
    "start_time": "2023-02-17T11:41:42.937Z"
   },
   {
    "duration": 18753,
    "start_time": "2023-02-17T11:41:43.066Z"
   },
   {
    "duration": 18431,
    "start_time": "2023-02-17T11:42:14.147Z"
   },
   {
    "duration": 70,
    "start_time": "2023-02-17T11:42:47.806Z"
   },
   {
    "duration": 1302,
    "start_time": "2023-02-17T11:42:55.698Z"
   },
   {
    "duration": 4,
    "start_time": "2023-02-17T11:42:57.003Z"
   },
   {
    "duration": 6,
    "start_time": "2023-02-17T11:42:57.011Z"
   },
   {
    "duration": 4919,
    "start_time": "2023-02-17T11:42:57.019Z"
   },
   {
    "duration": 4072,
    "start_time": "2023-02-17T11:43:01.939Z"
   },
   {
    "duration": 18340,
    "start_time": "2023-02-17T11:43:06.013Z"
   },
   {
    "duration": 11124,
    "start_time": "2023-02-17T11:43:24.356Z"
   },
   {
    "duration": 3729,
    "start_time": "2023-02-17T11:43:35.482Z"
   },
   {
    "duration": 208,
    "start_time": "2023-02-17T11:43:39.214Z"
   },
   {
    "duration": 277,
    "start_time": "2023-02-17T11:43:39.425Z"
   },
   {
    "duration": 53,
    "start_time": "2023-02-17T11:47:44.818Z"
   },
   {
    "duration": 11,
    "start_time": "2023-02-17T11:47:53.603Z"
   },
   {
    "duration": 1327,
    "start_time": "2023-02-17T11:47:56.673Z"
   },
   {
    "duration": 3,
    "start_time": "2023-02-17T11:47:58.002Z"
   },
   {
    "duration": 11,
    "start_time": "2023-02-17T11:47:58.007Z"
   },
   {
    "duration": 4721,
    "start_time": "2023-02-17T11:47:58.021Z"
   },
   {
    "duration": 3707,
    "start_time": "2023-02-17T11:48:02.744Z"
   },
   {
    "duration": 17911,
    "start_time": "2023-02-17T11:48:06.453Z"
   },
   {
    "duration": 11108,
    "start_time": "2023-02-17T11:48:24.366Z"
   },
   {
    "duration": 3509,
    "start_time": "2023-02-17T11:48:35.476Z"
   },
   {
    "duration": 230,
    "start_time": "2023-02-17T11:48:38.990Z"
   },
   {
    "duration": 295,
    "start_time": "2023-02-17T11:48:39.224Z"
   },
   {
    "duration": 1360,
    "start_time": "2023-02-17T11:49:01.110Z"
   },
   {
    "duration": 4,
    "start_time": "2023-02-17T11:49:02.472Z"
   },
   {
    "duration": 33,
    "start_time": "2023-02-17T11:49:02.477Z"
   },
   {
    "duration": 4690,
    "start_time": "2023-02-17T11:49:02.512Z"
   },
   {
    "duration": 3804,
    "start_time": "2023-02-17T11:49:07.205Z"
   },
   {
    "duration": 17593,
    "start_time": "2023-02-17T11:49:11.011Z"
   },
   {
    "duration": 11018,
    "start_time": "2023-02-17T11:49:28.606Z"
   },
   {
    "duration": 3559,
    "start_time": "2023-02-17T11:49:39.626Z"
   },
   {
    "duration": 215,
    "start_time": "2023-02-17T11:49:43.187Z"
   },
   {
    "duration": 282,
    "start_time": "2023-02-17T11:49:43.404Z"
   },
   {
    "duration": 123,
    "start_time": "2023-02-17T11:54:20.704Z"
   },
   {
    "duration": 12827,
    "start_time": "2023-02-17T11:54:50.098Z"
   },
   {
    "duration": 54,
    "start_time": "2023-02-17T11:56:11.268Z"
   },
   {
    "duration": 7,
    "start_time": "2023-02-17T11:56:16.593Z"
   },
   {
    "duration": 1402,
    "start_time": "2023-02-17T11:56:40.404Z"
   },
   {
    "duration": 4,
    "start_time": "2023-02-17T11:56:41.809Z"
   },
   {
    "duration": 9,
    "start_time": "2023-02-17T11:56:41.815Z"
   },
   {
    "duration": 4574,
    "start_time": "2023-02-17T11:56:41.826Z"
   },
   {
    "duration": 4091,
    "start_time": "2023-02-17T11:56:46.402Z"
   },
   {
    "duration": 18505,
    "start_time": "2023-02-17T11:56:50.495Z"
   },
   {
    "duration": 12122,
    "start_time": "2023-02-17T11:57:09.003Z"
   },
   {
    "duration": 3913,
    "start_time": "2023-02-17T11:57:21.128Z"
   },
   {
    "duration": 208,
    "start_time": "2023-02-17T11:57:25.043Z"
   },
   {
    "duration": 283,
    "start_time": "2023-02-17T11:57:25.253Z"
   },
   {
    "duration": 21433,
    "start_time": "2023-02-17T11:57:25.541Z"
   },
   {
    "duration": 19185,
    "start_time": "2023-02-17T11:58:49.768Z"
   },
   {
    "duration": 0,
    "start_time": "2023-02-17T12:00:26.004Z"
   },
   {
    "duration": 16585,
    "start_time": "2023-02-17T12:00:28.386Z"
   },
   {
    "duration": 17094,
    "start_time": "2023-02-17T12:06:04.998Z"
   },
   {
    "duration": 15315,
    "start_time": "2023-02-17T12:08:31.970Z"
   },
   {
    "duration": 3,
    "start_time": "2023-02-17T12:11:20.123Z"
   },
   {
    "duration": 376,
    "start_time": "2023-02-17T12:11:37.087Z"
   },
   {
    "duration": 16,
    "start_time": "2023-02-17T12:11:45.656Z"
   },
   {
    "duration": 4,
    "start_time": "2023-02-17T12:12:06.086Z"
   },
   {
    "duration": 30,
    "start_time": "2023-02-17T12:12:06.605Z"
   },
   {
    "duration": 56,
    "start_time": "2023-02-17T12:12:11.451Z"
   },
   {
    "duration": 17,
    "start_time": "2023-02-17T12:14:14.524Z"
   },
   {
    "duration": 3,
    "start_time": "2023-02-17T12:15:42.000Z"
   },
   {
    "duration": 358,
    "start_time": "2023-02-17T12:16:05.933Z"
   },
   {
    "duration": 15,
    "start_time": "2023-02-17T12:16:20.687Z"
   },
   {
    "duration": 14,
    "start_time": "2023-02-17T12:16:24.732Z"
   },
   {
    "duration": 26,
    "start_time": "2023-02-17T12:16:33.953Z"
   },
   {
    "duration": 127,
    "start_time": "2023-02-17T12:16:53.982Z"
   },
   {
    "duration": 410,
    "start_time": "2023-02-17T13:22:15.810Z"
   },
   {
    "duration": 71,
    "start_time": "2023-02-17T13:22:50.924Z"
   },
   {
    "duration": 31,
    "start_time": "2023-02-17T13:22:57.285Z"
   },
   {
    "duration": 46,
    "start_time": "2023-02-17T13:23:06.636Z"
   },
   {
    "duration": 128,
    "start_time": "2023-02-17T13:23:23.180Z"
   },
   {
    "duration": 3,
    "start_time": "2023-02-17T13:26:10.614Z"
   },
   {
    "duration": 3,
    "start_time": "2023-02-17T13:27:29.592Z"
   },
   {
    "duration": 489,
    "start_time": "2023-02-17T13:27:55.020Z"
   },
   {
    "duration": 4,
    "start_time": "2023-02-17T13:28:03.331Z"
   },
   {
    "duration": 508,
    "start_time": "2023-02-17T13:28:39.358Z"
   },
   {
    "duration": 505,
    "start_time": "2023-02-17T13:29:45.760Z"
   },
   {
    "duration": 502,
    "start_time": "2023-02-17T13:30:18.299Z"
   },
   {
    "duration": 480,
    "start_time": "2023-02-17T13:30:23.060Z"
   },
   {
    "duration": 12,
    "start_time": "2023-02-17T13:30:28.787Z"
   },
   {
    "duration": 4,
    "start_time": "2023-02-17T13:30:31.789Z"
   },
   {
    "duration": 2,
    "start_time": "2023-02-17T13:31:56.221Z"
   },
   {
    "duration": 3,
    "start_time": "2023-02-17T13:32:09.877Z"
   },
   {
    "duration": 3,
    "start_time": "2023-02-17T13:32:21.030Z"
   },
   {
    "duration": 795,
    "start_time": "2023-02-17T13:32:48.310Z"
   },
   {
    "duration": 5,
    "start_time": "2023-02-17T13:32:54.811Z"
   },
   {
    "duration": 490,
    "start_time": "2023-02-17T13:33:59.572Z"
   },
   {
    "duration": 6815,
    "start_time": "2023-02-17T13:34:26.043Z"
   },
   {
    "duration": 563,
    "start_time": "2023-02-17T13:34:35.319Z"
   },
   {
    "duration": 50,
    "start_time": "2023-02-17T13:35:32.687Z"
   },
   {
    "duration": 1983,
    "start_time": "2023-02-17T13:35:35.981Z"
   },
   {
    "duration": 176,
    "start_time": "2023-02-17T13:35:37.966Z"
   },
   {
    "duration": 2,
    "start_time": "2023-02-17T13:35:38.144Z"
   },
   {
    "duration": 11,
    "start_time": "2023-02-17T13:35:38.149Z"
   },
   {
    "duration": 5285,
    "start_time": "2023-02-17T13:35:38.162Z"
   },
   {
    "duration": 4091,
    "start_time": "2023-02-17T13:35:43.449Z"
   },
   {
    "duration": 18287,
    "start_time": "2023-02-17T13:35:47.542Z"
   },
   {
    "duration": 11427,
    "start_time": "2023-02-17T13:36:05.830Z"
   },
   {
    "duration": 3973,
    "start_time": "2023-02-17T13:36:17.259Z"
   },
   {
    "duration": 216,
    "start_time": "2023-02-17T13:36:21.239Z"
   },
   {
    "duration": 268,
    "start_time": "2023-02-17T13:36:21.457Z"
   },
   {
    "duration": 15938,
    "start_time": "2023-02-17T13:36:21.727Z"
   },
   {
    "duration": 3,
    "start_time": "2023-02-17T13:36:37.667Z"
   },
   {
    "duration": 56,
    "start_time": "2023-02-17T13:36:37.672Z"
   },
   {
    "duration": 3,
    "start_time": "2023-02-17T13:36:37.730Z"
   },
   {
    "duration": 37,
    "start_time": "2023-02-17T13:36:37.734Z"
   },
   {
    "duration": 3,
    "start_time": "2023-02-17T13:36:37.773Z"
   },
   {
    "duration": 6,
    "start_time": "2023-02-17T13:36:37.778Z"
   },
   {
    "duration": 7,
    "start_time": "2023-02-17T13:36:37.785Z"
   },
   {
    "duration": 764,
    "start_time": "2023-02-17T13:36:37.793Z"
   },
   {
    "duration": 2770,
    "start_time": "2023-02-17T13:36:38.559Z"
   },
   {
    "duration": 572,
    "start_time": "2023-02-17T13:36:41.331Z"
   },
   {
    "duration": 101,
    "start_time": "2023-02-17T13:36:41.905Z"
   },
   {
    "duration": 242,
    "start_time": "2023-02-17T13:36:42.008Z"
   },
   {
    "duration": 12,
    "start_time": "2023-02-17T14:35:31.914Z"
   },
   {
    "duration": 7266,
    "start_time": "2023-02-17T14:35:40.135Z"
   },
   {
    "duration": 7833,
    "start_time": "2023-02-17T14:36:07.398Z"
   },
   {
    "duration": 8249,
    "start_time": "2023-02-17T14:36:39.932Z"
   },
   {
    "duration": 398,
    "start_time": "2023-02-17T14:37:56.522Z"
   },
   {
    "duration": 434,
    "start_time": "2023-02-17T14:38:30.499Z"
   },
   {
    "duration": 70,
    "start_time": "2023-02-17T14:39:47.491Z"
   },
   {
    "duration": 4,
    "start_time": "2023-02-17T14:46:57.764Z"
   },
   {
    "duration": 6,
    "start_time": "2023-02-17T14:51:50.990Z"
   },
   {
    "duration": 3,
    "start_time": "2023-02-17T15:13:06.941Z"
   },
   {
    "duration": 62,
    "start_time": "2023-02-17T15:14:43.827Z"
   },
   {
    "duration": 5,
    "start_time": "2023-02-17T15:14:58.836Z"
   },
   {
    "duration": 75,
    "start_time": "2023-02-17T15:15:02.159Z"
   },
   {
    "duration": 122885,
    "start_time": "2023-02-17T15:15:08.107Z"
   },
   {
    "duration": 31,
    "start_time": "2023-02-17T15:19:30.210Z"
   },
   {
    "duration": 14,
    "start_time": "2023-02-17T15:20:05.090Z"
   },
   {
    "duration": 765,
    "start_time": "2023-02-17T15:21:08.361Z"
   },
   {
    "duration": 19,
    "start_time": "2023-02-17T15:21:15.903Z"
   },
   {
    "duration": 20,
    "start_time": "2023-02-17T15:21:20.991Z"
   },
   {
    "duration": 543,
    "start_time": "2023-02-17T15:22:39.170Z"
   },
   {
    "duration": 47,
    "start_time": "2023-02-17T15:22:43.716Z"
   },
   {
    "duration": 554,
    "start_time": "2023-02-17T15:22:53.103Z"
   },
   {
    "duration": 40,
    "start_time": "2023-02-17T15:23:00.344Z"
   },
   {
    "duration": 15,
    "start_time": "2023-02-17T15:26:21.058Z"
   },
   {
    "duration": 16,
    "start_time": "2023-02-17T15:26:50.098Z"
   },
   {
    "duration": 4,
    "start_time": "2023-02-17T15:26:56.836Z"
   },
   {
    "duration": 16,
    "start_time": "2023-02-17T15:26:56.842Z"
   },
   {
    "duration": 19,
    "start_time": "2023-02-17T15:26:56.861Z"
   },
   {
    "duration": 6,
    "start_time": "2023-02-17T15:26:56.882Z"
   },
   {
    "duration": 14,
    "start_time": "2023-02-17T15:26:56.891Z"
   },
   {
    "duration": 3829,
    "start_time": "2023-02-17T15:26:56.907Z"
   },
   {
    "duration": 18275,
    "start_time": "2023-02-17T15:27:00.740Z"
   },
   {
    "duration": 12014,
    "start_time": "2023-02-17T15:27:19.017Z"
   },
   {
    "duration": 3458,
    "start_time": "2023-02-17T15:27:31.039Z"
   },
   {
    "duration": 215,
    "start_time": "2023-02-17T15:27:34.500Z"
   },
   {
    "duration": 268,
    "start_time": "2023-02-17T15:27:34.717Z"
   },
   {
    "duration": 16515,
    "start_time": "2023-02-17T15:27:34.988Z"
   },
   {
    "duration": 4,
    "start_time": "2023-02-17T15:27:51.505Z"
   },
   {
    "duration": 60,
    "start_time": "2023-02-17T15:27:51.512Z"
   },
   {
    "duration": 5,
    "start_time": "2023-02-17T15:27:51.574Z"
   },
   {
    "duration": 73,
    "start_time": "2023-02-17T15:27:51.580Z"
   },
   {
    "duration": 4,
    "start_time": "2023-02-17T15:27:51.656Z"
   },
   {
    "duration": 8,
    "start_time": "2023-02-17T15:27:51.661Z"
   },
   {
    "duration": 5,
    "start_time": "2023-02-17T15:27:51.671Z"
   },
   {
    "duration": 2792,
    "start_time": "2023-02-17T15:27:51.678Z"
   },
   {
    "duration": 686,
    "start_time": "2023-02-17T15:27:54.472Z"
   },
   {
    "duration": 19,
    "start_time": "2023-02-17T15:27:55.160Z"
   },
   {
    "duration": 0,
    "start_time": "2023-02-17T15:27:55.181Z"
   },
   {
    "duration": 0,
    "start_time": "2023-02-17T15:27:55.182Z"
   },
   {
    "duration": 0,
    "start_time": "2023-02-17T15:27:55.184Z"
   },
   {
    "duration": 95,
    "start_time": "2023-02-17T15:28:14.613Z"
   },
   {
    "duration": 816,
    "start_time": "2023-02-17T15:28:15.172Z"
   },
   {
    "duration": 342,
    "start_time": "2023-02-17T15:28:37.237Z"
   },
   {
    "duration": 22,
    "start_time": "2023-02-17T15:29:00.401Z"
   },
   {
    "duration": 6,
    "start_time": "2023-02-17T15:29:15.676Z"
   },
   {
    "duration": 4,
    "start_time": "2023-02-17T15:29:20.249Z"
   },
   {
    "duration": 59,
    "start_time": "2023-02-17T15:29:20.888Z"
   },
   {
    "duration": 4,
    "start_time": "2023-02-17T15:29:44.679Z"
   },
   {
    "duration": 4,
    "start_time": "2023-02-17T15:29:54.097Z"
   },
   {
    "duration": 4,
    "start_time": "2023-02-17T15:30:30.698Z"
   },
   {
    "duration": 4,
    "start_time": "2023-02-17T15:30:37.521Z"
   },
   {
    "duration": 4,
    "start_time": "2023-02-17T15:30:52.590Z"
   },
   {
    "duration": 119,
    "start_time": "2023-02-17T15:31:22.332Z"
   },
   {
    "duration": 5,
    "start_time": "2023-02-17T15:31:56.082Z"
   },
   {
    "duration": 5,
    "start_time": "2023-02-17T15:32:03.917Z"
   },
   {
    "duration": 50,
    "start_time": "2023-02-17T15:32:12.384Z"
   },
   {
    "duration": 5,
    "start_time": "2023-02-17T15:32:18.095Z"
   },
   {
    "duration": 18,
    "start_time": "2023-02-17T15:33:38.379Z"
   },
   {
    "duration": 290,
    "start_time": "2023-02-17T15:34:10.401Z"
   },
   {
    "duration": 50,
    "start_time": "2023-02-17T15:34:22.518Z"
   },
   {
    "duration": 5,
    "start_time": "2023-02-17T15:35:17.781Z"
   },
   {
    "duration": 121,
    "start_time": "2023-02-17T15:35:19.945Z"
   },
   {
    "duration": 7,
    "start_time": "2023-02-17T15:35:34.596Z"
   },
   {
    "duration": 44,
    "start_time": "2023-02-17T15:35:35.530Z"
   },
   {
    "duration": 5,
    "start_time": "2023-02-17T15:35:35.984Z"
   },
   {
    "duration": 4,
    "start_time": "2023-02-17T15:35:36.420Z"
   },
   {
    "duration": 573,
    "start_time": "2023-02-17T15:35:36.808Z"
   },
   {
    "duration": 293,
    "start_time": "2023-02-17T15:35:37.384Z"
   },
   {
    "duration": 15481,
    "start_time": "2023-02-17T15:35:37.800Z"
   },
   {
    "duration": 111,
    "start_time": "2023-02-17T15:35:53.284Z"
   },
   {
    "duration": 500,
    "start_time": "2023-02-17T15:36:10.564Z"
   },
   {
    "duration": 14823,
    "start_time": "2023-02-17T15:36:18.810Z"
   },
   {
    "duration": 72,
    "start_time": "2023-02-17T15:36:37.374Z"
   },
   {
    "duration": 43,
    "start_time": "2023-02-17T15:36:51.722Z"
   },
   {
    "duration": 8,
    "start_time": "2023-02-17T15:37:03.700Z"
   },
   {
    "duration": 866,
    "start_time": "2023-02-17T15:37:09.886Z"
   },
   {
    "duration": 373,
    "start_time": "2023-02-17T15:37:10.755Z"
   },
   {
    "duration": 6,
    "start_time": "2023-02-17T15:37:14.501Z"
   },
   {
    "duration": 10,
    "start_time": "2023-02-17T15:37:28.142Z"
   },
   {
    "duration": 66,
    "start_time": "2023-02-17T16:26:59.838Z"
   },
   {
    "duration": 23,
    "start_time": "2023-02-17T16:27:19.509Z"
   },
   {
    "duration": 3,
    "start_time": "2023-02-17T16:32:24.230Z"
   },
   {
    "duration": 4,
    "start_time": "2023-02-17T16:34:14.978Z"
   },
   {
    "duration": 13,
    "start_time": "2023-02-17T16:34:48.315Z"
   },
   {
    "duration": 3,
    "start_time": "2023-02-17T16:34:52.342Z"
   },
   {
    "duration": 48,
    "start_time": "2023-02-17T16:35:28.570Z"
   },
   {
    "duration": 4,
    "start_time": "2023-02-17T16:35:48.350Z"
   },
   {
    "duration": 633716,
    "start_time": "2023-02-17T16:35:48.990Z"
   },
   {
    "duration": 3,
    "start_time": "2023-02-17T16:47:57.738Z"
   },
   {
    "duration": 71,
    "start_time": "2023-02-17T16:48:53.554Z"
   },
   {
    "duration": 1022,
    "start_time": "2023-02-17T16:49:17.658Z"
   },
   {
    "duration": 139,
    "start_time": "2023-02-17T16:49:35.483Z"
   },
   {
    "duration": 3,
    "start_time": "2023-02-17T16:50:40.440Z"
   },
   {
    "duration": 36,
    "start_time": "2023-02-17T16:50:40.904Z"
   },
   {
    "duration": 109,
    "start_time": "2023-02-17T16:50:41.698Z"
   },
   {
    "duration": 146,
    "start_time": "2023-02-17T16:52:06.868Z"
   },
   {
    "duration": 108,
    "start_time": "2023-02-17T16:52:08.728Z"
   },
   {
    "duration": 151,
    "start_time": "2023-02-17T16:52:15.376Z"
   },
   {
    "duration": 118,
    "start_time": "2023-02-17T16:52:16.275Z"
   },
   {
    "duration": 238,
    "start_time": "2023-02-17T16:52:45.506Z"
   },
   {
    "duration": 11,
    "start_time": "2023-02-17T16:56:28.112Z"
   },
   {
    "duration": 15,
    "start_time": "2023-02-17T16:56:31.283Z"
   },
   {
    "duration": 20,
    "start_time": "2023-02-17T16:56:46.235Z"
   },
   {
    "duration": 113,
    "start_time": "2023-02-17T16:56:48.350Z"
   },
   {
    "duration": 19,
    "start_time": "2023-02-17T16:56:59.971Z"
   },
   {
    "duration": 3,
    "start_time": "2023-02-17T16:57:24.083Z"
   },
   {
    "duration": 117,
    "start_time": "2023-02-17T16:57:31.003Z"
   },
   {
    "duration": 105,
    "start_time": "2023-02-17T16:57:34.381Z"
   },
   {
    "duration": 115,
    "start_time": "2023-02-17T16:57:36.874Z"
   },
   {
    "duration": 239,
    "start_time": "2023-02-17T16:57:38.283Z"
   },
   {
    "duration": 48,
    "start_time": "2023-02-17T16:58:01.561Z"
   },
   {
    "duration": 254,
    "start_time": "2023-02-17T16:58:08.656Z"
   },
   {
    "duration": 71,
    "start_time": "2023-02-17T16:58:23.718Z"
   },
   {
    "duration": 255,
    "start_time": "2023-02-17T16:58:24.517Z"
   },
   {
    "duration": 188,
    "start_time": "2023-02-17T16:58:37.118Z"
   },
   {
    "duration": 248,
    "start_time": "2023-02-17T16:58:37.566Z"
   },
   {
    "duration": 111,
    "start_time": "2023-02-17T16:58:51.080Z"
   },
   {
    "duration": 443,
    "start_time": "2023-02-17T16:58:51.714Z"
   },
   {
    "duration": 28,
    "start_time": "2023-02-17T16:58:54.799Z"
   },
   {
    "duration": 7,
    "start_time": "2023-02-17T16:58:56.014Z"
   },
   {
    "duration": 3,
    "start_time": "2023-02-17T16:58:57.097Z"
   },
   {
    "duration": 459,
    "start_time": "2023-02-17T16:58:59.865Z"
   },
   {
    "duration": 289,
    "start_time": "2023-02-17T16:59:00.326Z"
   },
   {
    "duration": 12817,
    "start_time": "2023-02-17T16:59:00.616Z"
   },
   {
    "duration": 476,
    "start_time": "2023-02-17T16:59:13.439Z"
   },
   {
    "duration": 77,
    "start_time": "2023-02-17T16:59:13.917Z"
   },
   {
    "duration": 7,
    "start_time": "2023-02-17T16:59:13.996Z"
   },
   {
    "duration": 744,
    "start_time": "2023-02-17T16:59:14.004Z"
   },
   {
    "duration": 356,
    "start_time": "2023-02-17T16:59:14.750Z"
   },
   {
    "duration": 6,
    "start_time": "2023-02-17T16:59:15.108Z"
   },
   {
    "duration": 9,
    "start_time": "2023-02-17T16:59:34.727Z"
   },
   {
    "duration": 8,
    "start_time": "2023-02-17T16:59:38.461Z"
   },
   {
    "duration": 8,
    "start_time": "2023-02-17T16:59:41.000Z"
   },
   {
    "duration": 95,
    "start_time": "2023-02-17T16:59:54.608Z"
   },
   {
    "duration": 14,
    "start_time": "2023-02-17T16:59:55.255Z"
   },
   {
    "duration": 3,
    "start_time": "2023-02-17T17:00:01.228Z"
   },
   {
    "duration": 3,
    "start_time": "2023-02-17T17:00:01.936Z"
   },
   {
    "duration": 3,
    "start_time": "2023-02-17T17:00:04.598Z"
   },
   {
    "duration": 98,
    "start_time": "2023-02-17T17:00:05.005Z"
   },
   {
    "duration": 690,
    "start_time": "2023-02-17T17:00:05.314Z"
   },
   {
    "duration": 4,
    "start_time": "2023-02-17T17:00:22.414Z"
   },
   {
    "duration": 3576,
    "start_time": "2023-02-17T17:00:23.299Z"
   },
   {
    "duration": 3012,
    "start_time": "2023-02-17T17:00:54.093Z"
   },
   {
    "duration": 3,
    "start_time": "2023-02-17T17:01:17.881Z"
   },
   {
    "duration": 131,
    "start_time": "2023-02-17T17:01:57.924Z"
   },
   {
    "duration": 4,
    "start_time": "2023-02-17T17:02:10.613Z"
   },
   {
    "duration": 6742,
    "start_time": "2023-02-17T17:02:12.834Z"
   },
   {
    "duration": 116,
    "start_time": "2023-02-17T17:02:19.578Z"
   },
   {
    "duration": 3,
    "start_time": "2023-02-17T17:03:15.881Z"
   },
   {
    "duration": 935924,
    "start_time": "2023-02-17T17:03:18.646Z"
   },
   {
    "duration": 4,
    "start_time": "2023-02-17T17:21:28.776Z"
   },
   {
    "duration": 1153166,
    "start_time": "2023-02-17T17:21:34.923Z"
   },
   {
    "duration": 149,
    "start_time": "2023-02-17T17:44:26.227Z"
   },
   {
    "duration": 4,
    "start_time": "2023-02-17T17:48:26.748Z"
   },
   {
    "duration": 73,
    "start_time": "2023-02-17T17:48:27.957Z"
   },
   {
    "duration": 7320,
    "start_time": "2023-02-17T17:48:28.603Z"
   },
   {
    "duration": 149,
    "start_time": "2023-02-17T17:48:35.925Z"
   },
   {
    "duration": 7,
    "start_time": "2023-02-17T17:48:45.448Z"
   },
   {
    "duration": 110,
    "start_time": "2023-02-17T17:48:45.857Z"
   },
   {
    "duration": 631,
    "start_time": "2023-02-17T17:48:46.184Z"
   },
   {
    "duration": 4,
    "start_time": "2023-02-17T17:48:54.370Z"
   },
   {
    "duration": 71,
    "start_time": "2023-02-17T17:48:54.617Z"
   },
   {
    "duration": 3,
    "start_time": "2023-02-17T17:49:02.508Z"
   },
   {
    "duration": 124,
    "start_time": "2023-02-17T17:49:02.513Z"
   },
   {
    "duration": 7183,
    "start_time": "2023-02-17T17:49:02.639Z"
   },
   {
    "duration": 154,
    "start_time": "2023-02-17T17:49:09.824Z"
   },
   {
    "duration": 8,
    "start_time": "2023-02-17T17:49:20.741Z"
   },
   {
    "duration": 100,
    "start_time": "2023-02-17T17:49:21.122Z"
   },
   {
    "duration": 7111,
    "start_time": "2023-02-17T17:49:21.459Z"
   },
   {
    "duration": 138,
    "start_time": "2023-02-17T17:49:28.572Z"
   },
   {
    "duration": 16385,
    "start_time": "2023-02-17T17:50:18.874Z"
   },
   {
    "duration": 3,
    "start_time": "2023-02-17T17:50:35.261Z"
   },
   {
    "duration": 42,
    "start_time": "2023-02-17T17:50:41.102Z"
   },
   {
    "duration": 5,
    "start_time": "2023-02-17T17:51:00.815Z"
   },
   {
    "duration": 20,
    "start_time": "2023-02-17T17:51:01.060Z"
   },
   {
    "duration": 4,
    "start_time": "2023-02-17T17:51:20.918Z"
   },
   {
    "duration": 22,
    "start_time": "2023-02-17T17:51:21.237Z"
   },
   {
    "duration": 15677,
    "start_time": "2023-02-17T17:51:34.953Z"
   },
   {
    "duration": 6,
    "start_time": "2023-02-17T17:51:50.641Z"
   },
   {
    "duration": 61,
    "start_time": "2023-02-17T17:51:50.650Z"
   },
   {
    "duration": 120,
    "start_time": "2023-02-17T17:52:24.632Z"
   },
   {
    "duration": 394,
    "start_time": "2023-02-17T17:52:25.472Z"
   },
   {
    "duration": 402,
    "start_time": "2023-02-17T17:52:37.322Z"
   },
   {
    "duration": 5,
    "start_time": "2023-02-17T17:53:08.138Z"
   },
   {
    "duration": 411,
    "start_time": "2023-02-17T17:53:08.450Z"
   },
   {
    "duration": 400,
    "start_time": "2023-02-17T17:53:28.092Z"
   },
   {
    "duration": 42,
    "start_time": "2023-02-17T17:53:33.804Z"
   },
   {
    "duration": 6,
    "start_time": "2023-02-17T17:53:34.196Z"
   },
   {
    "duration": 544,
    "start_time": "2023-02-17T17:53:35.880Z"
   },
   {
    "duration": 384,
    "start_time": "2023-02-17T17:53:36.426Z"
   },
   {
    "duration": 67,
    "start_time": "2023-02-17T17:53:36.813Z"
   },
   {
    "duration": 410,
    "start_time": "2023-02-17T17:53:55.130Z"
   },
   {
    "duration": 43,
    "start_time": "2023-02-17T17:54:03.527Z"
   },
   {
    "duration": 11,
    "start_time": "2023-02-17T17:54:04.740Z"
   },
   {
    "duration": 521,
    "start_time": "2023-02-17T17:54:05.564Z"
   },
   {
    "duration": 389,
    "start_time": "2023-02-17T17:54:06.525Z"
   },
   {
    "duration": 22,
    "start_time": "2023-02-17T17:54:14.572Z"
   },
   {
    "duration": 57,
    "start_time": "2023-02-17T17:54:23.060Z"
   },
   {
    "duration": 100,
    "start_time": "2023-02-17T17:55:31.681Z"
   },
   {
    "duration": 103,
    "start_time": "2023-02-17T17:55:50.952Z"
   },
   {
    "duration": 16,
    "start_time": "2023-02-17T17:55:57.577Z"
   },
   {
    "duration": 21,
    "start_time": "2023-02-17T17:56:12.968Z"
   },
   {
    "duration": 43,
    "start_time": "2023-02-17T17:56:58.467Z"
   },
   {
    "duration": 39,
    "start_time": "2023-02-17T17:57:04.526Z"
   },
   {
    "duration": 28,
    "start_time": "2023-02-17T17:57:08.499Z"
   },
   {
    "duration": 6,
    "start_time": "2023-02-17T17:57:39.777Z"
   },
   {
    "duration": 505,
    "start_time": "2023-02-17T17:57:40.999Z"
   },
   {
    "duration": 388,
    "start_time": "2023-02-17T17:57:41.507Z"
   },
   {
    "duration": 5,
    "start_time": "2023-02-17T17:57:48.153Z"
   },
   {
    "duration": 44,
    "start_time": "2023-02-17T18:00:47.363Z"
   },
   {
    "duration": 7,
    "start_time": "2023-02-17T18:00:47.925Z"
   },
   {
    "duration": 3,
    "start_time": "2023-02-17T18:00:57.608Z"
   },
   {
    "duration": 688,
    "start_time": "2023-02-17T18:02:19.515Z"
   },
   {
    "duration": 7,
    "start_time": "2023-02-17T18:02:34.728Z"
   },
   {
    "duration": 5,
    "start_time": "2023-02-17T18:02:39.762Z"
   },
   {
    "duration": 15,
    "start_time": "2023-02-17T18:03:19.378Z"
   },
   {
    "duration": 5,
    "start_time": "2023-02-17T18:03:23.043Z"
   },
   {
    "duration": 34,
    "start_time": "2023-02-17T18:03:31.462Z"
   },
   {
    "duration": 4,
    "start_time": "2023-02-17T18:03:44.762Z"
   },
   {
    "duration": 4,
    "start_time": "2023-02-17T18:03:50.676Z"
   },
   {
    "duration": 4,
    "start_time": "2023-02-17T18:04:12.844Z"
   },
   {
    "duration": 5,
    "start_time": "2023-02-17T18:04:14.552Z"
   },
   {
    "duration": 14601,
    "start_time": "2023-02-17T18:04:17.040Z"
   },
   {
    "duration": 579,
    "start_time": "2023-02-17T18:04:31.644Z"
   },
   {
    "duration": 15244,
    "start_time": "2023-02-17T18:05:02.119Z"
   },
   {
    "duration": 3,
    "start_time": "2023-02-17T18:05:17.370Z"
   },
   {
    "duration": 107,
    "start_time": "2023-02-17T18:05:26.315Z"
   },
   {
    "duration": 5,
    "start_time": "2023-02-17T18:05:27.029Z"
   },
   {
    "duration": 4,
    "start_time": "2023-02-17T18:05:28.998Z"
   },
   {
    "duration": 913,
    "start_time": "2023-02-17T18:05:29.672Z"
   },
   {
    "duration": 4,
    "start_time": "2023-02-17T18:05:31.008Z"
   },
   {
    "duration": 4,
    "start_time": "2023-02-17T18:05:31.581Z"
   },
   {
    "duration": 44,
    "start_time": "2023-02-17T18:05:35.160Z"
   },
   {
    "duration": 515,
    "start_time": "2023-02-17T18:05:45.268Z"
   },
   {
    "duration": 197,
    "start_time": "2023-02-17T18:05:49.524Z"
   },
   {
    "duration": 6,
    "start_time": "2023-02-17T18:05:49.821Z"
   },
   {
    "duration": 16494,
    "start_time": "2023-02-17T18:05:55.366Z"
   },
   {
    "duration": 3,
    "start_time": "2023-02-17T18:06:11.862Z"
   },
   {
    "duration": 47,
    "start_time": "2023-02-17T18:06:11.866Z"
   },
   {
    "duration": 152,
    "start_time": "2023-02-17T18:06:11.915Z"
   },
   {
    "duration": 22,
    "start_time": "2023-02-17T18:06:12.069Z"
   },
   {
    "duration": 160,
    "start_time": "2023-02-17T18:06:12.093Z"
   },
   {
    "duration": 5,
    "start_time": "2023-02-17T18:06:12.255Z"
   },
   {
    "duration": 8,
    "start_time": "2023-02-17T18:06:12.262Z"
   },
   {
    "duration": 12,
    "start_time": "2023-02-17T18:06:37.982Z"
   },
   {
    "duration": 15624,
    "start_time": "2023-02-17T18:06:40.577Z"
   },
   {
    "duration": 3,
    "start_time": "2023-02-17T18:06:56.204Z"
   },
   {
    "duration": 94,
    "start_time": "2023-02-17T18:06:56.209Z"
   },
   {
    "duration": 124,
    "start_time": "2023-02-17T18:07:04.917Z"
   },
   {
    "duration": 3,
    "start_time": "2023-02-17T18:07:06.385Z"
   },
   {
    "duration": 147,
    "start_time": "2023-02-17T18:07:06.949Z"
   },
   {
    "duration": 2215,
    "start_time": "2023-02-17T18:07:26.442Z"
   },
   {
    "duration": 123,
    "start_time": "2023-02-17T18:07:28.659Z"
   },
   {
    "duration": 3,
    "start_time": "2023-02-17T18:07:28.784Z"
   },
   {
    "duration": 6,
    "start_time": "2023-02-17T18:07:28.789Z"
   },
   {
    "duration": 5127,
    "start_time": "2023-02-17T18:07:28.797Z"
   },
   {
    "duration": 4640,
    "start_time": "2023-02-17T18:07:33.926Z"
   },
   {
    "duration": 19147,
    "start_time": "2023-02-17T18:07:38.568Z"
   },
   {
    "duration": 12826,
    "start_time": "2023-02-17T18:07:57.717Z"
   },
   {
    "duration": 4336,
    "start_time": "2023-02-17T18:08:10.547Z"
   },
   {
    "duration": 217,
    "start_time": "2023-02-17T18:08:14.886Z"
   },
   {
    "duration": 296,
    "start_time": "2023-02-17T18:08:15.104Z"
   },
   {
    "duration": 15059,
    "start_time": "2023-02-17T18:08:15.402Z"
   },
   {
    "duration": 3,
    "start_time": "2023-02-17T18:08:30.463Z"
   },
   {
    "duration": 107,
    "start_time": "2023-02-17T18:08:30.468Z"
   },
   {
    "duration": 140,
    "start_time": "2023-02-17T18:08:30.577Z"
   },
   {
    "duration": 13,
    "start_time": "2023-02-17T18:08:30.719Z"
   },
   {
    "duration": 181,
    "start_time": "2023-02-17T18:08:30.734Z"
   },
   {
    "duration": 84,
    "start_time": "2023-02-17T18:09:22.088Z"
   },
   {
    "duration": 122,
    "start_time": "2023-02-17T18:09:24.923Z"
   },
   {
    "duration": 406,
    "start_time": "2023-02-17T18:09:44.404Z"
   },
   {
    "duration": 124,
    "start_time": "2023-02-17T18:09:52.395Z"
   },
   {
    "duration": 216,
    "start_time": "2023-02-17T18:10:05.384Z"
   },
   {
    "duration": 148,
    "start_time": "2023-02-17T18:10:06.064Z"
   },
   {
    "duration": 760,
    "start_time": "2023-02-17T18:10:27.192Z"
   },
   {
    "duration": 94,
    "start_time": "2023-02-17T18:11:18.494Z"
   },
   {
    "duration": 126,
    "start_time": "2023-02-17T18:11:22.876Z"
   },
   {
    "duration": 356,
    "start_time": "2023-02-17T18:11:28.486Z"
   },
   {
    "duration": 485,
    "start_time": "2023-02-17T18:11:39.692Z"
   },
   {
    "duration": 499,
    "start_time": "2023-02-17T18:11:47.644Z"
   },
   {
    "duration": 32,
    "start_time": "2023-02-17T18:11:51.352Z"
   },
   {
    "duration": 5,
    "start_time": "2023-02-17T18:11:52.077Z"
   },
   {
    "duration": 4,
    "start_time": "2023-02-17T18:11:53.402Z"
   },
   {
    "duration": 732,
    "start_time": "2023-02-17T18:11:54.205Z"
   },
   {
    "duration": 5,
    "start_time": "2023-02-17T18:11:55.921Z"
   },
   {
    "duration": 6,
    "start_time": "2023-02-17T18:11:57.501Z"
   },
   {
    "duration": 15549,
    "start_time": "2023-02-17T18:11:59.933Z"
   },
   {
    "duration": 596,
    "start_time": "2023-02-17T18:12:15.485Z"
   },
   {
    "duration": 4,
    "start_time": "2023-02-17T18:13:32.077Z"
   },
   {
    "duration": 111,
    "start_time": "2023-02-17T18:13:32.471Z"
   },
   {
    "duration": 135,
    "start_time": "2023-02-17T18:13:33.565Z"
   },
   {
    "duration": 4,
    "start_time": "2023-02-17T18:15:39.031Z"
   },
   {
    "duration": 186,
    "start_time": "2023-02-17T18:15:39.493Z"
   },
   {
    "duration": 3,
    "start_time": "2023-02-17T18:16:07.789Z"
   },
   {
    "duration": 135,
    "start_time": "2023-02-17T18:16:08.225Z"
   },
   {
    "duration": 207,
    "start_time": "2023-02-17T18:16:09.063Z"
   },
   {
    "duration": 3,
    "start_time": "2023-02-17T18:16:09.720Z"
   },
   {
    "duration": 269,
    "start_time": "2023-02-17T18:16:10.242Z"
   },
   {
    "duration": 855,
    "start_time": "2023-02-17T18:16:11.298Z"
   },
   {
    "duration": 145,
    "start_time": "2023-02-17T18:16:20.571Z"
   },
   {
    "duration": 179,
    "start_time": "2023-02-17T18:16:21.110Z"
   },
   {
    "duration": 4,
    "start_time": "2023-02-17T18:16:21.617Z"
   },
   {
    "duration": 614,
    "start_time": "2023-02-17T18:16:24.023Z"
   },
   {
    "duration": 74,
    "start_time": "2023-02-17T18:16:26.294Z"
   },
   {
    "duration": 7,
    "start_time": "2023-02-17T18:16:26.777Z"
   },
   {
    "duration": 4,
    "start_time": "2023-02-17T18:16:28.210Z"
   },
   {
    "duration": 764,
    "start_time": "2023-02-17T18:16:28.619Z"
   },
   {
    "duration": 4,
    "start_time": "2023-02-17T18:16:29.523Z"
   },
   {
    "duration": 5,
    "start_time": "2023-02-17T18:16:30.110Z"
   },
   {
    "duration": 15360,
    "start_time": "2023-02-17T18:16:30.551Z"
   },
   {
    "duration": 642,
    "start_time": "2023-02-17T18:16:45.914Z"
   },
   {
    "duration": 112,
    "start_time": "2023-02-17T18:17:25.994Z"
   },
   {
    "duration": 10,
    "start_time": "2023-02-17T18:17:26.967Z"
   },
   {
    "duration": 959,
    "start_time": "2023-02-17T18:17:28.304Z"
   },
   {
    "duration": 931,
    "start_time": "2023-02-17T18:18:40.687Z"
   },
   {
    "duration": 3,
    "start_time": "2023-02-17T18:19:48.093Z"
   },
   {
    "duration": 799,
    "start_time": "2023-02-17T18:19:48.694Z"
   },
   {
    "duration": 66,
    "start_time": "2023-02-17T18:19:57.965Z"
   },
   {
    "duration": 7,
    "start_time": "2023-02-17T18:19:58.421Z"
   },
   {
    "duration": 5,
    "start_time": "2023-02-17T18:19:58.867Z"
   },
   {
    "duration": 1027,
    "start_time": "2023-02-17T18:19:59.326Z"
   },
   {
    "duration": 4,
    "start_time": "2023-02-17T18:20:00.360Z"
   },
   {
    "duration": 44,
    "start_time": "2023-02-17T18:20:00.366Z"
   },
   {
    "duration": 25335,
    "start_time": "2023-02-17T18:20:02.173Z"
   },
   {
    "duration": 2254,
    "start_time": "2023-02-17T18:20:27.510Z"
   },
   {
    "duration": 103,
    "start_time": "2023-02-17T18:20:29.767Z"
   },
   {
    "duration": 9,
    "start_time": "2023-02-17T18:20:29.873Z"
   },
   {
    "duration": 1452,
    "start_time": "2023-02-17T18:20:29.884Z"
   },
   {
    "duration": 25,
    "start_time": "2023-02-17T18:20:31.338Z"
   },
   {
    "duration": 9,
    "start_time": "2023-02-17T18:21:34.616Z"
   },
   {
    "duration": 7,
    "start_time": "2023-02-17T18:21:43.277Z"
   },
   {
    "duration": 4,
    "start_time": "2023-02-17T18:21:44.604Z"
   },
   {
    "duration": 1143877,
    "start_time": "2023-02-17T18:21:46.085Z"
   },
   {
    "duration": 24,
    "start_time": "2023-02-17T18:44:28.535Z"
   },
   {
    "duration": 12,
    "start_time": "2023-02-17T18:44:32.687Z"
   },
   {
    "duration": 26,
    "start_time": "2023-02-17T18:44:36.232Z"
   },
   {
    "duration": 14,
    "start_time": "2023-02-17T18:45:47.991Z"
   },
   {
    "duration": 9,
    "start_time": "2023-02-17T18:45:58.803Z"
   },
   {
    "duration": 123,
    "start_time": "2023-02-17T18:47:04.908Z"
   },
   {
    "duration": 129,
    "start_time": "2023-02-17T18:47:35.532Z"
   },
   {
    "duration": 17,
    "start_time": "2023-02-17T18:47:52.633Z"
   },
   {
    "duration": 19,
    "start_time": "2023-02-17T18:48:24.811Z"
   },
   {
    "duration": 132,
    "start_time": "2023-02-17T18:48:35.332Z"
   },
   {
    "duration": 1468,
    "start_time": "2023-02-17T18:50:23.602Z"
   },
   {
    "duration": 1198,
    "start_time": "2023-02-17T18:50:36.203Z"
   },
   {
    "duration": 1914,
    "start_time": "2023-02-17T18:51:51.582Z"
   },
   {
    "duration": 1895,
    "start_time": "2023-02-17T18:52:30.374Z"
   },
   {
    "duration": 24,
    "start_time": "2023-02-17T18:52:43.096Z"
   },
   {
    "duration": 4,
    "start_time": "2023-02-17T18:53:09.798Z"
   },
   {
    "duration": 5,
    "start_time": "2023-02-17T18:54:16.107Z"
   },
   {
    "duration": 4,
    "start_time": "2023-02-17T18:54:50.786Z"
   },
   {
    "duration": 3,
    "start_time": "2023-02-17T18:54:51.408Z"
   },
   {
    "duration": 91,
    "start_time": "2023-02-17T18:54:55.294Z"
   },
   {
    "duration": 9318,
    "start_time": "2023-02-17T18:54:56.115Z"
   },
   {
    "duration": 182,
    "start_time": "2023-02-17T18:55:05.435Z"
   },
   {
    "duration": 5,
    "start_time": "2023-02-17T18:56:23.448Z"
   },
   {
    "duration": 142,
    "start_time": "2023-02-17T18:56:23.914Z"
   },
   {
    "duration": 74667,
    "start_time": "2023-02-17T18:56:24.207Z"
   },
   {
    "duration": 282,
    "start_time": "2023-02-17T18:57:38.878Z"
   },
   {
    "duration": 4,
    "start_time": "2023-02-17T19:00:46.208Z"
   },
   {
    "duration": 130,
    "start_time": "2023-02-17T19:00:47.599Z"
   },
   {
    "duration": 157962,
    "start_time": "2023-02-17T19:00:48.629Z"
   },
   {
    "duration": 332,
    "start_time": "2023-02-17T19:03:26.594Z"
   },
   {
    "duration": 4,
    "start_time": "2023-02-17T19:08:48.394Z"
   },
   {
    "duration": 5198,
    "start_time": "2023-02-17T19:08:51.195Z"
   },
   {
    "duration": 2921377,
    "start_time": "2023-02-17T19:09:05.526Z"
   },
   {
    "duration": 54,
    "start_time": "2023-02-17T19:57:46.905Z"
   },
   {
    "duration": 6,
    "start_time": "2023-02-17T19:58:00.246Z"
   },
   {
    "duration": 779694,
    "start_time": "2023-02-17T19:58:01.614Z"
   },
   {
    "duration": 193,
    "start_time": "2023-02-17T20:11:08.438Z"
   },
   {
    "duration": 12,
    "start_time": "2023-02-17T20:12:20.086Z"
   },
   {
    "duration": 12,
    "start_time": "2023-02-17T20:12:23.659Z"
   },
   {
    "duration": 12,
    "start_time": "2023-02-17T20:12:50.707Z"
   },
   {
    "duration": 18,
    "start_time": "2023-02-17T20:13:02.416Z"
   },
   {
    "duration": 34,
    "start_time": "2023-02-17T20:13:50.982Z"
   },
   {
    "duration": 35,
    "start_time": "2023-02-17T20:14:12.615Z"
   },
   {
    "duration": 17,
    "start_time": "2023-02-17T20:16:56.682Z"
   },
   {
    "duration": 238,
    "start_time": "2023-02-17T20:20:00.445Z"
   },
   {
    "duration": 1187,
    "start_time": "2023-02-17T20:20:55.654Z"
   },
   {
    "duration": 1045211,
    "start_time": "2023-02-17T20:22:46.414Z"
   },
   {
    "duration": 1854,
    "start_time": "2023-02-17T20:43:52.053Z"
   },
   {
    "duration": 49,
    "start_time": "2023-02-17T20:44:03.327Z"
   },
   {
    "duration": 50,
    "start_time": "2023-02-17T21:08:30.685Z"
   },
   {
    "duration": 202,
    "start_time": "2023-02-17T21:08:47.316Z"
   },
   {
    "duration": 205,
    "start_time": "2023-02-17T21:10:17.212Z"
   },
   {
    "duration": 196,
    "start_time": "2023-02-17T21:10:22.240Z"
   },
   {
    "duration": 5,
    "start_time": "2023-02-17T21:10:59.749Z"
   },
   {
    "duration": 425,
    "start_time": "2023-02-17T21:11:21.619Z"
   },
   {
    "duration": 223,
    "start_time": "2023-02-17T21:11:38.181Z"
   },
   {
    "duration": 5,
    "start_time": "2023-02-17T21:13:47.022Z"
   },
   {
    "duration": 216,
    "start_time": "2023-02-17T21:14:56.316Z"
   },
   {
    "duration": 266,
    "start_time": "2023-02-17T21:15:10.225Z"
   },
   {
    "duration": 1861,
    "start_time": "2023-02-17T21:15:35.928Z"
   },
   {
    "duration": 2110,
    "start_time": "2023-02-17T21:15:43.985Z"
   },
   {
    "duration": 6,
    "start_time": "2023-02-17T21:17:53.657Z"
   },
   {
    "duration": 32,
    "start_time": "2023-02-17T21:18:00.891Z"
   },
   {
    "duration": 79,
    "start_time": "2023-02-17T21:18:28.764Z"
   },
   {
    "duration": 54,
    "start_time": "2023-02-17T21:18:32.600Z"
   },
   {
    "duration": 211,
    "start_time": "2023-02-17T21:18:44.437Z"
   },
   {
    "duration": 732,
    "start_time": "2023-02-17T21:20:33.652Z"
   },
   {
    "duration": 6674,
    "start_time": "2023-02-17T21:20:44.585Z"
   },
   {
    "duration": 70,
    "start_time": "2023-02-17T21:21:24.219Z"
   },
   {
    "duration": 6306,
    "start_time": "2023-02-17T21:21:29.399Z"
   },
   {
    "duration": 66,
    "start_time": "2023-02-17T21:21:47.449Z"
   },
   {
    "duration": 6483,
    "start_time": "2023-02-17T21:22:08.557Z"
   },
   {
    "duration": 13,
    "start_time": "2023-02-17T21:23:49.805Z"
   },
   {
    "duration": 69,
    "start_time": "2023-02-17T21:23:53.197Z"
   },
   {
    "duration": 75,
    "start_time": "2023-02-17T21:23:56.719Z"
   },
   {
    "duration": 63,
    "start_time": "2023-02-17T21:24:06.502Z"
   },
   {
    "duration": 53,
    "start_time": "2023-02-17T21:24:09.449Z"
   },
   {
    "duration": 55,
    "start_time": "2023-02-17T21:24:22.532Z"
   },
   {
    "duration": 66,
    "start_time": "2023-02-17T21:24:27.053Z"
   },
   {
    "duration": 3,
    "start_time": "2023-02-17T21:24:50.428Z"
   },
   {
    "duration": 61,
    "start_time": "2023-02-17T21:25:31.592Z"
   },
   {
    "duration": 61,
    "start_time": "2023-02-17T21:25:34.502Z"
   },
   {
    "duration": 104,
    "start_time": "2023-02-17T21:26:07.349Z"
   },
   {
    "duration": 98,
    "start_time": "2023-02-17T21:26:14.606Z"
   },
   {
    "duration": 72,
    "start_time": "2023-02-17T21:26:23.603Z"
   },
   {
    "duration": 678,
    "start_time": "2023-02-17T21:27:31.495Z"
   },
   {
    "duration": 707,
    "start_time": "2023-02-17T21:27:38.357Z"
   },
   {
    "duration": 202,
    "start_time": "2023-02-17T21:27:44.322Z"
   },
   {
    "duration": 164,
    "start_time": "2023-02-17T21:28:42.687Z"
   },
   {
    "duration": 186,
    "start_time": "2023-02-17T21:29:09.924Z"
   },
   {
    "duration": 246,
    "start_time": "2023-02-17T21:29:17.408Z"
   },
   {
    "duration": 43,
    "start_time": "2023-02-17T21:29:38.041Z"
   },
   {
    "duration": 761,
    "start_time": "2023-02-17T21:29:47.142Z"
   },
   {
    "duration": 249,
    "start_time": "2023-02-17T21:29:56.172Z"
   },
   {
    "duration": 223,
    "start_time": "2023-02-17T21:30:06.471Z"
   },
   {
    "duration": 4,
    "start_time": "2023-02-17T21:44:27.673Z"
   },
   {
    "duration": 2352,
    "start_time": "2023-02-21T17:28:09.775Z"
   },
   {
    "duration": 5,
    "start_time": "2023-02-21T17:28:12.129Z"
   },
   {
    "duration": 18,
    "start_time": "2023-02-21T17:28:12.135Z"
   },
   {
    "duration": 7007,
    "start_time": "2023-02-21T17:28:12.156Z"
   },
   {
    "duration": 3906,
    "start_time": "2023-02-21T17:28:19.165Z"
   },
   {
    "duration": 24341,
    "start_time": "2023-02-21T17:28:23.073Z"
   },
   {
    "duration": 12108,
    "start_time": "2023-02-21T17:28:47.420Z"
   },
   {
    "duration": 4042,
    "start_time": "2023-02-21T17:28:59.530Z"
   },
   {
    "duration": 204,
    "start_time": "2023-02-21T17:29:03.573Z"
   },
   {
    "duration": 264,
    "start_time": "2023-02-21T17:29:03.779Z"
   },
   {
    "duration": 15850,
    "start_time": "2023-02-21T17:29:04.045Z"
   },
   {
    "duration": 9,
    "start_time": "2023-02-21T17:29:19.896Z"
   },
   {
    "duration": 122,
    "start_time": "2023-02-21T17:29:19.906Z"
   },
   {
    "duration": 152,
    "start_time": "2023-02-21T17:29:20.029Z"
   },
   {
    "duration": 30,
    "start_time": "2023-02-21T17:29:20.185Z"
   },
   {
    "duration": 660,
    "start_time": "2023-02-21T17:29:20.217Z"
   },
   {
    "duration": 49,
    "start_time": "2023-02-21T17:29:20.879Z"
   },
   {
    "duration": 19,
    "start_time": "2023-02-21T17:29:20.932Z"
   },
   {
    "duration": 22,
    "start_time": "2023-02-21T17:29:20.953Z"
   },
   {
    "duration": 983,
    "start_time": "2023-02-21T17:29:20.977Z"
   },
   {
    "duration": 211,
    "start_time": "2023-02-21T17:29:21.961Z"
   },
   {
    "duration": 0,
    "start_time": "2023-02-21T17:29:22.174Z"
   },
   {
    "duration": 0,
    "start_time": "2023-02-21T17:29:22.175Z"
   },
   {
    "duration": 0,
    "start_time": "2023-02-21T17:29:22.178Z"
   },
   {
    "duration": 0,
    "start_time": "2023-02-21T17:29:22.179Z"
   },
   {
    "duration": 0,
    "start_time": "2023-02-21T17:29:22.181Z"
   },
   {
    "duration": 0,
    "start_time": "2023-02-21T17:29:22.182Z"
   },
   {
    "duration": 0,
    "start_time": "2023-02-21T17:29:22.183Z"
   },
   {
    "duration": 0,
    "start_time": "2023-02-21T17:29:22.195Z"
   },
   {
    "duration": 0,
    "start_time": "2023-02-21T17:29:22.196Z"
   },
   {
    "duration": 0,
    "start_time": "2023-02-21T17:29:22.196Z"
   },
   {
    "duration": 0,
    "start_time": "2023-02-21T17:29:22.197Z"
   },
   {
    "duration": 0,
    "start_time": "2023-02-21T17:29:22.199Z"
   },
   {
    "duration": 0,
    "start_time": "2023-02-21T17:29:22.205Z"
   },
   {
    "duration": 0,
    "start_time": "2023-02-21T17:29:22.205Z"
   },
   {
    "duration": 14378,
    "start_time": "2023-02-21T17:31:17.158Z"
   },
   {
    "duration": 2567,
    "start_time": "2023-02-21T17:31:42.057Z"
   },
   {
    "duration": 8652,
    "start_time": "2023-02-21T17:31:44.626Z"
   },
   {
    "duration": 4,
    "start_time": "2023-02-21T17:31:53.280Z"
   },
   {
    "duration": 57,
    "start_time": "2023-02-21T17:31:53.286Z"
   },
   {
    "duration": 6734,
    "start_time": "2023-02-21T17:31:53.345Z"
   },
   {
    "duration": 4456,
    "start_time": "2023-02-21T17:32:00.081Z"
   },
   {
    "duration": 4967,
    "start_time": "2023-02-21T17:32:47.913Z"
   },
   {
    "duration": 12781,
    "start_time": "2023-02-21T17:32:52.882Z"
   },
   {
    "duration": 3,
    "start_time": "2023-02-21T17:33:05.665Z"
   },
   {
    "duration": 69,
    "start_time": "2023-02-21T17:33:05.671Z"
   },
   {
    "duration": 6729,
    "start_time": "2023-02-21T17:33:05.742Z"
   },
   {
    "duration": 4506,
    "start_time": "2023-02-21T17:33:12.472Z"
   },
   {
    "duration": 18624,
    "start_time": "2023-02-21T17:33:16.979Z"
   },
   {
    "duration": 11579,
    "start_time": "2023-02-21T17:33:35.607Z"
   },
   {
    "duration": 3319,
    "start_time": "2023-02-21T17:33:47.188Z"
   },
   {
    "duration": 217,
    "start_time": "2023-02-21T17:33:50.511Z"
   },
   {
    "duration": 275,
    "start_time": "2023-02-21T17:33:50.730Z"
   },
   {
    "duration": 15928,
    "start_time": "2023-02-21T17:33:51.012Z"
   },
   {
    "duration": 3,
    "start_time": "2023-02-21T17:34:06.942Z"
   },
   {
    "duration": 116,
    "start_time": "2023-02-21T17:34:06.946Z"
   },
   {
    "duration": 168,
    "start_time": "2023-02-21T17:34:07.064Z"
   },
   {
    "duration": 6,
    "start_time": "2023-02-21T17:34:07.234Z"
   },
   {
    "duration": 693,
    "start_time": "2023-02-21T17:34:07.241Z"
   },
   {
    "duration": 89,
    "start_time": "2023-02-21T17:34:07.936Z"
   },
   {
    "duration": 9,
    "start_time": "2023-02-21T17:34:08.026Z"
   },
   {
    "duration": 8,
    "start_time": "2023-02-21T17:34:08.036Z"
   },
   {
    "duration": 960,
    "start_time": "2023-02-21T17:34:08.046Z"
   },
   {
    "duration": 3,
    "start_time": "2023-02-21T17:34:09.014Z"
   },
   {
    "duration": 27,
    "start_time": "2023-02-21T17:34:09.019Z"
   },
   {
    "duration": 22236,
    "start_time": "2023-02-21T17:34:09.047Z"
   },
   {
    "duration": 2081,
    "start_time": "2023-02-21T17:34:31.288Z"
   },
   {
    "duration": 105,
    "start_time": "2023-02-21T17:34:33.370Z"
   },
   {
    "duration": 6,
    "start_time": "2023-02-21T17:34:33.477Z"
   },
   {
    "duration": 1095,
    "start_time": "2023-02-21T17:34:33.486Z"
   },
   {
    "duration": 16,
    "start_time": "2023-02-21T17:34:34.582Z"
   },
   {
    "duration": 48,
    "start_time": "2023-02-21T17:34:34.600Z"
   },
   {
    "duration": 11,
    "start_time": "2023-02-21T17:34:34.650Z"
   },
   {
    "duration": 1231615,
    "start_time": "2023-02-21T17:34:34.663Z"
   },
   {
    "duration": 5,
    "start_time": "2023-02-21T17:55:06.280Z"
   },
   {
    "duration": 144,
    "start_time": "2023-02-21T17:55:06.287Z"
   },
   {
    "duration": 493390,
    "start_time": "2023-02-21T17:55:06.433Z"
   },
   {
    "duration": 16,
    "start_time": "2023-02-21T18:03:19.827Z"
   },
   {
    "duration": 263,
    "start_time": "2023-02-21T18:03:19.845Z"
   },
   {
    "duration": 1948,
    "start_time": "2023-02-21T18:03:20.113Z"
   },
   {
    "duration": 357,
    "start_time": "2023-02-21T18:03:22.064Z"
   },
   {
    "duration": 42,
    "start_time": "2023-02-21T18:03:22.422Z"
   },
   {
    "duration": 248,
    "start_time": "2023-02-21T18:03:22.465Z"
   },
   {
    "duration": 270,
    "start_time": "2023-02-21T18:13:15.149Z"
   },
   {
    "duration": 4,
    "start_time": "2023-02-21T18:13:32.450Z"
   },
   {
    "duration": 176100,
    "start_time": "2023-02-21T18:13:39.906Z"
   },
   {
    "duration": 410344,
    "start_time": "2023-02-21T18:23:45.102Z"
   }
  ],
  "kernelspec": {
   "display_name": "Python 3 (ipykernel)",
   "language": "python",
   "name": "python3"
  },
  "language_info": {
   "codemirror_mode": {
    "name": "ipython",
    "version": 3
   },
   "file_extension": ".py",
   "mimetype": "text/x-python",
   "name": "python",
   "nbconvert_exporter": "python",
   "pygments_lexer": "ipython3",
   "version": "3.9.7"
  },
  "toc": {
   "base_numbering": 1,
   "nav_menu": {},
   "number_sections": false,
   "sideBar": true,
   "skip_h1_title": false,
   "title_cell": "Table of Contents",
   "title_sidebar": "Contents",
   "toc_cell": false,
   "toc_position": {},
   "toc_section_display": true,
   "toc_window_display": false
  },
  "varInspector": {
   "cols": {
    "lenName": 16,
    "lenType": 16,
    "lenVar": 40
   },
   "kernels_config": {
    "python": {
     "delete_cmd_postfix": "",
     "delete_cmd_prefix": "del ",
     "library": "var_list.py",
     "varRefreshCmd": "print(var_dic_list())"
    },
    "r": {
     "delete_cmd_postfix": ") ",
     "delete_cmd_prefix": "rm(",
     "library": "var_list.r",
     "varRefreshCmd": "cat(var_dic_list()) "
    }
   },
   "types_to_exclude": [
    "module",
    "function",
    "builtin_function_or_method",
    "instance",
    "_Feature"
   ],
   "window_display": false
  }
 },
 "nbformat": 4,
 "nbformat_minor": 5
}
