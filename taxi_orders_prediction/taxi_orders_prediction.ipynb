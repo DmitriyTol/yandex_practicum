{
 "cells": [
  {
   "cell_type": "markdown",
   "metadata": {
    "toc": true
   },
   "source": [
    "<h1>Содержание<span class=\"tocSkip\"></span></h1>\n",
    "<div class=\"toc\"><ul class=\"toc-item\"><li><ul class=\"toc-item\"><li><ul class=\"toc-item\"><li><span><a href=\"#Полезные-ссылки:\" data-toc-modified-id=\"Полезные-ссылки:-0.0.1\"><span class=\"toc-item-num\">0.0.1&nbsp;&nbsp;</span><font color=\"orange\">Полезные ссылки:</font></a></span></li></ul></li><li><span><a href=\"#Общее-впечатление\" data-toc-modified-id=\"Общее-впечатление-0.1\"><span class=\"toc-item-num\">0.1&nbsp;&nbsp;</span><font color=\"orange\">Общее впечатление</font></a></span></li><li><span><a href=\"#Общее-впечатление-(ревью-2)\" data-toc-modified-id=\"Общее-впечатление-(ревью-2)-0.2\"><span class=\"toc-item-num\">0.2&nbsp;&nbsp;</span><font color=\"orange\">Общее впечатление (ревью 2)</font></a></span></li></ul></li><li><span><a href=\"#Подготовка\" data-toc-modified-id=\"Подготовка-1\"><span class=\"toc-item-num\">1&nbsp;&nbsp;</span>Подготовка</a></span></li><li><span><a href=\"#Анализ\" data-toc-modified-id=\"Анализ-2\"><span class=\"toc-item-num\">2&nbsp;&nbsp;</span>Анализ</a></span></li><li><span><a href=\"#Обучение\" data-toc-modified-id=\"Обучение-3\"><span class=\"toc-item-num\">3&nbsp;&nbsp;</span>Обучение</a></span><ul class=\"toc-item\"><li><span><a href=\"#RandomForrestRegressor\" data-toc-modified-id=\"RandomForrestRegressor-3.1\"><span class=\"toc-item-num\">3.1&nbsp;&nbsp;</span>RandomForrestRegressor</a></span></li><li><span><a href=\"#LightGBM\" data-toc-modified-id=\"LightGBM-3.2\"><span class=\"toc-item-num\">3.2&nbsp;&nbsp;</span>LightGBM</a></span></li></ul></li><li><span><a href=\"#Тестирование\" data-toc-modified-id=\"Тестирование-4\"><span class=\"toc-item-num\">4&nbsp;&nbsp;</span>Тестирование</a></span></li><li><span><a href=\"#Выводы\" data-toc-modified-id=\"Выводы-5\"><span class=\"toc-item-num\">5&nbsp;&nbsp;</span>Выводы</a></span></li><li><span><a href=\"#Чек-лист-проверки\" data-toc-modified-id=\"Чек-лист-проверки-6\"><span class=\"toc-item-num\">6&nbsp;&nbsp;</span>Чек-лист проверки</a></span></li></ul></div>"
   ]
  },
  {
   "cell_type": "markdown",
   "metadata": {},
   "source": [
    "#  Прогнозирование заказов такси"
   ]
  },
  {
   "cell_type": "markdown",
   "metadata": {},
   "source": [
    "Компания «Чётенькое такси» собрала исторические данные о заказах такси в аэропортах. Чтобы привлекать больше водителей в период пиковой нагрузки, нужно спрогнозировать количество заказов такси на следующий час. Постройте модель для такого предсказания.\n",
    "\n",
    "Значение метрики *RMSE* на тестовой выборке должно быть не больше 48.\n",
    "\n",
    "Вам нужно:\n",
    "\n",
    "1. Загрузить данные и выполнить их ресемплирование по одному часу.\n",
    "2. Проанализировать данные.\n",
    "3. Обучить разные модели с различными гиперпараметрами. Сделать тестовую выборку размером 10% от исходных данных.\n",
    "4. Проверить данные на тестовой выборке и сделать выводы.\n",
    "\n",
    "\n",
    "Данные лежат в файле `taxi.csv`. Количество заказов находится в столбце `num_orders` (от англ. *number of orders*, «число заказов»)."
   ]
  },
  {
   "cell_type": "markdown",
   "metadata": {},
   "source": [
    "## Подготовка"
   ]
  },
  {
   "cell_type": "code",
   "execution_count": 1,
   "metadata": {},
   "outputs": [],
   "source": [
    "import pandas as pd\n",
    "import matplotlib.pyplot as plt\n",
    "from statsmodels.tsa.seasonal import seasonal_decompose\n",
    "import numpy as np\n",
    "\n",
    "from sklearn.model_selection import train_test_split\n",
    "from sklearn.linear_model import LinearRegression\n",
    "from sklearn.metrics import mean_squared_error\n",
    "from sklearn.model_selection import GridSearchCV\n",
    "from sklearn.model_selection import TimeSeriesSplit\n",
    "\n",
    "from sklearn.ensemble import RandomForestRegressor\n",
    "from lightgbm import LGBMRegressor\n",
    "import torch"
   ]
  },
  {
   "cell_type": "code",
   "execution_count": 2,
   "metadata": {},
   "outputs": [
    {
     "name": "stdout",
     "output_type": "stream",
     "text": [
      "<class 'pandas.core.frame.DataFrame'>\n",
      "DatetimeIndex: 26496 entries, 2018-03-01 00:00:00 to 2018-08-31 23:50:00\n",
      "Data columns (total 1 columns):\n",
      " #   Column      Non-Null Count  Dtype\n",
      "---  ------      --------------  -----\n",
      " 0   num_orders  26496 non-null  int64\n",
      "dtypes: int64(1)\n",
      "memory usage: 414.0 KB\n"
     ]
    },
    {
     "data": {
      "text/html": [
       "<div>\n",
       "<style scoped>\n",
       "    .dataframe tbody tr th:only-of-type {\n",
       "        vertical-align: middle;\n",
       "    }\n",
       "\n",
       "    .dataframe tbody tr th {\n",
       "        vertical-align: top;\n",
       "    }\n",
       "\n",
       "    .dataframe thead th {\n",
       "        text-align: right;\n",
       "    }\n",
       "</style>\n",
       "<table border=\"1\" class=\"dataframe\">\n",
       "  <thead>\n",
       "    <tr style=\"text-align: right;\">\n",
       "      <th></th>\n",
       "      <th>num_orders</th>\n",
       "    </tr>\n",
       "    <tr>\n",
       "      <th>datetime</th>\n",
       "      <th></th>\n",
       "    </tr>\n",
       "  </thead>\n",
       "  <tbody>\n",
       "    <tr>\n",
       "      <th>2018-03-01 00:00:00</th>\n",
       "      <td>9</td>\n",
       "    </tr>\n",
       "    <tr>\n",
       "      <th>2018-03-01 00:10:00</th>\n",
       "      <td>14</td>\n",
       "    </tr>\n",
       "    <tr>\n",
       "      <th>2018-03-01 00:20:00</th>\n",
       "      <td>28</td>\n",
       "    </tr>\n",
       "    <tr>\n",
       "      <th>2018-03-01 00:30:00</th>\n",
       "      <td>20</td>\n",
       "    </tr>\n",
       "    <tr>\n",
       "      <th>2018-03-01 00:40:00</th>\n",
       "      <td>32</td>\n",
       "    </tr>\n",
       "  </tbody>\n",
       "</table>\n",
       "</div>"
      ],
      "text/plain": [
       "                     num_orders\n",
       "datetime                       \n",
       "2018-03-01 00:00:00           9\n",
       "2018-03-01 00:10:00          14\n",
       "2018-03-01 00:20:00          28\n",
       "2018-03-01 00:30:00          20\n",
       "2018-03-01 00:40:00          32"
      ]
     },
     "execution_count": 2,
     "metadata": {},
     "output_type": "execute_result"
    }
   ],
   "source": [
    "df = pd.read_csv('/datasets/taxi.csv', index_col=[0], parse_dates=[0])\n",
    "df.info()\n",
    "df.head()"
   ]
  },
  {
   "cell_type": "markdown",
   "metadata": {},
   "source": [
    "Сделаем наши временные отсчеты индексами"
   ]
  },
  {
   "cell_type": "code",
   "execution_count": 3,
   "metadata": {},
   "outputs": [
    {
     "data": {
      "text/html": [
       "<div>\n",
       "<style scoped>\n",
       "    .dataframe tbody tr th:only-of-type {\n",
       "        vertical-align: middle;\n",
       "    }\n",
       "\n",
       "    .dataframe tbody tr th {\n",
       "        vertical-align: top;\n",
       "    }\n",
       "\n",
       "    .dataframe thead th {\n",
       "        text-align: right;\n",
       "    }\n",
       "</style>\n",
       "<table border=\"1\" class=\"dataframe\">\n",
       "  <thead>\n",
       "    <tr style=\"text-align: right;\">\n",
       "      <th></th>\n",
       "      <th>num_orders</th>\n",
       "    </tr>\n",
       "    <tr>\n",
       "      <th>datetime</th>\n",
       "      <th></th>\n",
       "    </tr>\n",
       "  </thead>\n",
       "  <tbody>\n",
       "    <tr>\n",
       "      <th>2018-03-01 00:00:00</th>\n",
       "      <td>124</td>\n",
       "    </tr>\n",
       "    <tr>\n",
       "      <th>2018-03-01 01:00:00</th>\n",
       "      <td>85</td>\n",
       "    </tr>\n",
       "    <tr>\n",
       "      <th>2018-03-01 02:00:00</th>\n",
       "      <td>71</td>\n",
       "    </tr>\n",
       "    <tr>\n",
       "      <th>2018-03-01 03:00:00</th>\n",
       "      <td>66</td>\n",
       "    </tr>\n",
       "    <tr>\n",
       "      <th>2018-03-01 04:00:00</th>\n",
       "      <td>43</td>\n",
       "    </tr>\n",
       "    <tr>\n",
       "      <th>...</th>\n",
       "      <td>...</td>\n",
       "    </tr>\n",
       "    <tr>\n",
       "      <th>2018-08-31 19:00:00</th>\n",
       "      <td>136</td>\n",
       "    </tr>\n",
       "    <tr>\n",
       "      <th>2018-08-31 20:00:00</th>\n",
       "      <td>154</td>\n",
       "    </tr>\n",
       "    <tr>\n",
       "      <th>2018-08-31 21:00:00</th>\n",
       "      <td>159</td>\n",
       "    </tr>\n",
       "    <tr>\n",
       "      <th>2018-08-31 22:00:00</th>\n",
       "      <td>223</td>\n",
       "    </tr>\n",
       "    <tr>\n",
       "      <th>2018-08-31 23:00:00</th>\n",
       "      <td>205</td>\n",
       "    </tr>\n",
       "  </tbody>\n",
       "</table>\n",
       "<p>4416 rows × 1 columns</p>\n",
       "</div>"
      ],
      "text/plain": [
       "                     num_orders\n",
       "datetime                       \n",
       "2018-03-01 00:00:00         124\n",
       "2018-03-01 01:00:00          85\n",
       "2018-03-01 02:00:00          71\n",
       "2018-03-01 03:00:00          66\n",
       "2018-03-01 04:00:00          43\n",
       "...                         ...\n",
       "2018-08-31 19:00:00         136\n",
       "2018-08-31 20:00:00         154\n",
       "2018-08-31 21:00:00         159\n",
       "2018-08-31 22:00:00         223\n",
       "2018-08-31 23:00:00         205\n",
       "\n",
       "[4416 rows x 1 columns]"
      ]
     },
     "execution_count": 3,
     "metadata": {},
     "output_type": "execute_result"
    }
   ],
   "source": [
    "df.sort_index(inplace=True)\n",
    "df = df.resample('1H').sum()\n",
    "df"
   ]
  },
  {
   "cell_type": "markdown",
   "metadata": {},
   "source": [
    "## Анализ"
   ]
  },
  {
   "cell_type": "code",
   "execution_count": 4,
   "metadata": {},
   "outputs": [
    {
     "data": {
      "text/html": [
       "<div>\n",
       "<style scoped>\n",
       "    .dataframe tbody tr th:only-of-type {\n",
       "        vertical-align: middle;\n",
       "    }\n",
       "\n",
       "    .dataframe tbody tr th {\n",
       "        vertical-align: top;\n",
       "    }\n",
       "\n",
       "    .dataframe thead th {\n",
       "        text-align: right;\n",
       "    }\n",
       "</style>\n",
       "<table border=\"1\" class=\"dataframe\">\n",
       "  <thead>\n",
       "    <tr style=\"text-align: right;\">\n",
       "      <th></th>\n",
       "      <th>num_orders</th>\n",
       "    </tr>\n",
       "  </thead>\n",
       "  <tbody>\n",
       "    <tr>\n",
       "      <th>count</th>\n",
       "      <td>4416.000000</td>\n",
       "    </tr>\n",
       "    <tr>\n",
       "      <th>mean</th>\n",
       "      <td>84.422781</td>\n",
       "    </tr>\n",
       "    <tr>\n",
       "      <th>std</th>\n",
       "      <td>45.023853</td>\n",
       "    </tr>\n",
       "    <tr>\n",
       "      <th>min</th>\n",
       "      <td>0.000000</td>\n",
       "    </tr>\n",
       "    <tr>\n",
       "      <th>25%</th>\n",
       "      <td>54.000000</td>\n",
       "    </tr>\n",
       "    <tr>\n",
       "      <th>50%</th>\n",
       "      <td>78.000000</td>\n",
       "    </tr>\n",
       "    <tr>\n",
       "      <th>75%</th>\n",
       "      <td>107.000000</td>\n",
       "    </tr>\n",
       "    <tr>\n",
       "      <th>max</th>\n",
       "      <td>462.000000</td>\n",
       "    </tr>\n",
       "  </tbody>\n",
       "</table>\n",
       "</div>"
      ],
      "text/plain": [
       "        num_orders\n",
       "count  4416.000000\n",
       "mean     84.422781\n",
       "std      45.023853\n",
       "min       0.000000\n",
       "25%      54.000000\n",
       "50%      78.000000\n",
       "75%     107.000000\n",
       "max     462.000000"
      ]
     },
     "execution_count": 4,
     "metadata": {},
     "output_type": "execute_result"
    }
   ],
   "source": [
    "df.describe()"
   ]
  },
  {
   "cell_type": "code",
   "execution_count": 5,
   "metadata": {},
   "outputs": [
    {
     "data": {
      "image/png": "[encoded data removed]",
      "text/plain": [
       "<Figure size 432x288 with 1 Axes>"
      ]
     },
     "metadata": {
      "needs_background": "light"
     },
     "output_type": "display_data"
    }
   ],
   "source": [
    "df.resample('5D').mean().plot()\n",
    "plt.title('Среднее кол-во заказов за 5 дней')\n",
    "plt.xlabel('Месяц')\n",
    "plt.ylabel('Среднее число заказов')\n",
    "plt.show()"
   ]
  },
  {
   "cell_type": "markdown",
   "metadata": {},
   "source": [
    "Видим, что со временем года, кол-во закатов пропорционально увеличивается"
   ]
  },
  {
   "cell_type": "code",
   "execution_count": 6,
   "metadata": {},
   "outputs": [
    {
     "data": {
      "image/png": "[encoded data removed]",
      "text/plain": [
       "<Figure size 432x576 with 3 Axes>"
      ]
     },
     "metadata": {
      "needs_background": "light"
     },
     "output_type": "display_data"
    }
   ],
   "source": [
    "df_day = df.resample('1H').sum()\n",
    "decomposed = seasonal_decompose(df_day)\n",
    "\n",
    "plt.figure(figsize=(6, 8))\n",
    "plt.subplot(311)\n",
    "# Чтобы график корректно отобразился, указываем его\n",
    "# оси ax, равными plt.gca() (англ. get current axis,\n",
    "# получить текущие оси)\n",
    "decomposed.trend.plot(ax=plt.gca())\n",
    "plt.title('Trend')\n",
    "plt.subplot(312)\n",
    "decomposed.seasonal.plot(ax=plt.gca())\n",
    "# < напишите код здесь >\n",
    "plt.title('Seasonality')\n",
    "plt.subplot(313)\n",
    "decomposed.resid.plot(ax=plt.gca())\n",
    "# < напишите код здесь >\n",
    "plt.title('Residuals')\n",
    "plt.tight_layout()"
   ]
  },
  {
   "cell_type": "markdown",
   "metadata": {},
   "source": [
    "Т.к. мы имеем сильно ограниченную временем выборку, нам сложно оценить тренды и сезонность, однако видим, что имеется шумовая состовляющая в сигнале, учтем это при добавлении признаков к нашему датасету"
   ]
  },
  {
   "cell_type": "markdown",
   "metadata": {},
   "source": [
    "## Обучение"
   ]
  },
  {
   "cell_type": "code",
   "execution_count": 7,
   "metadata": {},
   "outputs": [],
   "source": [
    "def make_features(data, max_lag, rolling_mean_size):\n",
    "    new_df = data.copy()\n",
    "    new_df['year'] = new_df.index.year\n",
    "    new_df['month'] = new_df.index.month\n",
    "    new_df['day'] = new_df.index.day\n",
    "    new_df['dayofweek'] = new_df.index.dayofweek\n",
    "    \n",
    "    for lag in range(1, max_lag + 1):\n",
    "        new_df['lag_{}'.format(lag)] = new_df['num_orders'].shift(lag)\n",
    "\n",
    "    new_df['rolling_mean'] = new_df['num_orders'].shift().rolling(rolling_mean_size).mean()\n",
    "    return new_df\n"
   ]
  },
  {
   "cell_type": "code",
   "execution_count": 8,
   "metadata": {},
   "outputs": [
    {
     "data": {
      "text/html": [
       "<div>\n",
       "<style scoped>\n",
       "    .dataframe tbody tr th:only-of-type {\n",
       "        vertical-align: middle;\n",
       "    }\n",
       "\n",
       "    .dataframe tbody tr th {\n",
       "        vertical-align: top;\n",
       "    }\n",
       "\n",
       "    .dataframe thead th {\n",
       "        text-align: right;\n",
       "    }\n",
       "</style>\n",
       "<table border=\"1\" class=\"dataframe\">\n",
       "  <thead>\n",
       "    <tr style=\"text-align: right;\">\n",
       "      <th></th>\n",
       "      <th>num_orders</th>\n",
       "      <th>year</th>\n",
       "      <th>month</th>\n",
       "      <th>day</th>\n",
       "      <th>dayofweek</th>\n",
       "      <th>lag_1</th>\n",
       "      <th>lag_2</th>\n",
       "      <th>lag_3</th>\n",
       "      <th>lag_4</th>\n",
       "      <th>lag_5</th>\n",
       "      <th>...</th>\n",
       "      <th>lag_17</th>\n",
       "      <th>lag_18</th>\n",
       "      <th>lag_19</th>\n",
       "      <th>lag_20</th>\n",
       "      <th>lag_21</th>\n",
       "      <th>lag_22</th>\n",
       "      <th>lag_23</th>\n",
       "      <th>lag_24</th>\n",
       "      <th>lag_25</th>\n",
       "      <th>rolling_mean</th>\n",
       "    </tr>\n",
       "    <tr>\n",
       "      <th>datetime</th>\n",
       "      <th></th>\n",
       "      <th></th>\n",
       "      <th></th>\n",
       "      <th></th>\n",
       "      <th></th>\n",
       "      <th></th>\n",
       "      <th></th>\n",
       "      <th></th>\n",
       "      <th></th>\n",
       "      <th></th>\n",
       "      <th></th>\n",
       "      <th></th>\n",
       "      <th></th>\n",
       "      <th></th>\n",
       "      <th></th>\n",
       "      <th></th>\n",
       "      <th></th>\n",
       "      <th></th>\n",
       "      <th></th>\n",
       "      <th></th>\n",
       "      <th></th>\n",
       "    </tr>\n",
       "  </thead>\n",
       "  <tbody>\n",
       "    <tr>\n",
       "      <th>2018-03-02 01:00:00</th>\n",
       "      <td>120</td>\n",
       "      <td>2018</td>\n",
       "      <td>3</td>\n",
       "      <td>2</td>\n",
       "      <td>4</td>\n",
       "      <td>90.0</td>\n",
       "      <td>58.0</td>\n",
       "      <td>113.0</td>\n",
       "      <td>66.0</td>\n",
       "      <td>61.0</td>\n",
       "      <td>...</td>\n",
       "      <td>34.0</td>\n",
       "      <td>15.0</td>\n",
       "      <td>12.0</td>\n",
       "      <td>6.0</td>\n",
       "      <td>43.0</td>\n",
       "      <td>66.0</td>\n",
       "      <td>71.0</td>\n",
       "      <td>85.0</td>\n",
       "      <td>124.0</td>\n",
       "      <td>90.0</td>\n",
       "    </tr>\n",
       "    <tr>\n",
       "      <th>2018-03-02 02:00:00</th>\n",
       "      <td>75</td>\n",
       "      <td>2018</td>\n",
       "      <td>3</td>\n",
       "      <td>2</td>\n",
       "      <td>4</td>\n",
       "      <td>120.0</td>\n",
       "      <td>90.0</td>\n",
       "      <td>58.0</td>\n",
       "      <td>113.0</td>\n",
       "      <td>66.0</td>\n",
       "      <td>...</td>\n",
       "      <td>69.0</td>\n",
       "      <td>34.0</td>\n",
       "      <td>15.0</td>\n",
       "      <td>12.0</td>\n",
       "      <td>6.0</td>\n",
       "      <td>43.0</td>\n",
       "      <td>66.0</td>\n",
       "      <td>71.0</td>\n",
       "      <td>85.0</td>\n",
       "      <td>120.0</td>\n",
       "    </tr>\n",
       "    <tr>\n",
       "      <th>2018-03-02 03:00:00</th>\n",
       "      <td>64</td>\n",
       "      <td>2018</td>\n",
       "      <td>3</td>\n",
       "      <td>2</td>\n",
       "      <td>4</td>\n",
       "      <td>75.0</td>\n",
       "      <td>120.0</td>\n",
       "      <td>90.0</td>\n",
       "      <td>58.0</td>\n",
       "      <td>113.0</td>\n",
       "      <td>...</td>\n",
       "      <td>64.0</td>\n",
       "      <td>69.0</td>\n",
       "      <td>34.0</td>\n",
       "      <td>15.0</td>\n",
       "      <td>12.0</td>\n",
       "      <td>6.0</td>\n",
       "      <td>43.0</td>\n",
       "      <td>66.0</td>\n",
       "      <td>71.0</td>\n",
       "      <td>75.0</td>\n",
       "    </tr>\n",
       "    <tr>\n",
       "      <th>2018-03-02 04:00:00</th>\n",
       "      <td>20</td>\n",
       "      <td>2018</td>\n",
       "      <td>3</td>\n",
       "      <td>2</td>\n",
       "      <td>4</td>\n",
       "      <td>64.0</td>\n",
       "      <td>75.0</td>\n",
       "      <td>120.0</td>\n",
       "      <td>90.0</td>\n",
       "      <td>58.0</td>\n",
       "      <td>...</td>\n",
       "      <td>96.0</td>\n",
       "      <td>64.0</td>\n",
       "      <td>69.0</td>\n",
       "      <td>34.0</td>\n",
       "      <td>15.0</td>\n",
       "      <td>12.0</td>\n",
       "      <td>6.0</td>\n",
       "      <td>43.0</td>\n",
       "      <td>66.0</td>\n",
       "      <td>64.0</td>\n",
       "    </tr>\n",
       "    <tr>\n",
       "      <th>2018-03-02 05:00:00</th>\n",
       "      <td>11</td>\n",
       "      <td>2018</td>\n",
       "      <td>3</td>\n",
       "      <td>2</td>\n",
       "      <td>4</td>\n",
       "      <td>20.0</td>\n",
       "      <td>64.0</td>\n",
       "      <td>75.0</td>\n",
       "      <td>120.0</td>\n",
       "      <td>90.0</td>\n",
       "      <td>...</td>\n",
       "      <td>30.0</td>\n",
       "      <td>96.0</td>\n",
       "      <td>64.0</td>\n",
       "      <td>69.0</td>\n",
       "      <td>34.0</td>\n",
       "      <td>15.0</td>\n",
       "      <td>12.0</td>\n",
       "      <td>6.0</td>\n",
       "      <td>43.0</td>\n",
       "      <td>20.0</td>\n",
       "    </tr>\n",
       "  </tbody>\n",
       "</table>\n",
       "<p>5 rows × 31 columns</p>\n",
       "</div>"
      ],
      "text/plain": [
       "                     num_orders  year  month  day  dayofweek  lag_1  lag_2  \\\n",
       "datetime                                                                     \n",
       "2018-03-02 01:00:00         120  2018      3    2          4   90.0   58.0   \n",
       "2018-03-02 02:00:00          75  2018      3    2          4  120.0   90.0   \n",
       "2018-03-02 03:00:00          64  2018      3    2          4   75.0  120.0   \n",
       "2018-03-02 04:00:00          20  2018      3    2          4   64.0   75.0   \n",
       "2018-03-02 05:00:00          11  2018      3    2          4   20.0   64.0   \n",
       "\n",
       "                     lag_3  lag_4  lag_5  ...  lag_17  lag_18  lag_19  lag_20  \\\n",
       "datetime                                  ...                                   \n",
       "2018-03-02 01:00:00  113.0   66.0   61.0  ...    34.0    15.0    12.0     6.0   \n",
       "2018-03-02 02:00:00   58.0  113.0   66.0  ...    69.0    34.0    15.0    12.0   \n",
       "2018-03-02 03:00:00   90.0   58.0  113.0  ...    64.0    69.0    34.0    15.0   \n",
       "2018-03-02 04:00:00  120.0   90.0   58.0  ...    96.0    64.0    69.0    34.0   \n",
       "2018-03-02 05:00:00   75.0  120.0   90.0  ...    30.0    96.0    64.0    69.0   \n",
       "\n",
       "                     lag_21  lag_22  lag_23  lag_24  lag_25  rolling_mean  \n",
       "datetime                                                                   \n",
       "2018-03-02 01:00:00    43.0    66.0    71.0    85.0   124.0          90.0  \n",
       "2018-03-02 02:00:00     6.0    43.0    66.0    71.0    85.0         120.0  \n",
       "2018-03-02 03:00:00    12.0     6.0    43.0    66.0    71.0          75.0  \n",
       "2018-03-02 04:00:00    15.0    12.0     6.0    43.0    66.0          64.0  \n",
       "2018-03-02 05:00:00    34.0    15.0    12.0     6.0    43.0          20.0  \n",
       "\n",
       "[5 rows x 31 columns]"
      ]
     },
     "execution_count": 8,
     "metadata": {},
     "output_type": "execute_result"
    }
   ],
   "source": [
    "new_data = make_features(df, 25, 1)\n",
    "new_data = new_data.dropna()\n",
    "new_data.head()"
   ]
  },
  {
   "cell_type": "code",
   "execution_count": 9,
   "metadata": {},
   "outputs": [],
   "source": [
    "train, test = train_test_split(new_data, shuffle=False, test_size=0.1)"
   ]
  },
  {
   "cell_type": "code",
   "execution_count": 10,
   "metadata": {},
   "outputs": [],
   "source": [
    "features_train = train.drop('num_orders', axis=1)\n",
    "target_train = train['num_orders']\n",
    "features_test = test.drop('num_orders', axis=1)"
   ]
  },
  {
   "cell_type": "markdown",
   "metadata": {},
   "source": [
    "Разделили выборки на обучающую и тестовую, добавили признаки, можно обучать модели"
   ]
  },
  {
   "cell_type": "markdown",
   "metadata": {},
   "source": [
    "### RandomForrestRegressor"
   ]
  },
  {
   "cell_type": "code",
   "execution_count": 11,
   "metadata": {
    "scrolled": true
   },
   "outputs": [
    {
     "name": "stdout",
     "output_type": "stream",
     "text": [
      "-26.085608420800277\n",
      "CPU times: user 1min 8s, sys: 157 ms, total: 1min 8s\n",
      "Wall time: 1min 22s\n"
     ]
    }
   ],
   "source": [
    "%%time\n",
    "rfr = RandomForestRegressor(random_state=12345)#Исследуем модель дерева решений\n",
    "param_grid_rfr = { # словарь параметров\n",
    "    'max_depth':[5,7,9,11,13],\n",
    "    'min_samples_leaf':[2,4],    \n",
    "    'n_estimators': [10, 20, 30]    \n",
    "}\n",
    "tscv = TimeSeriesSplit()\n",
    "\n",
    "#воспользуемся методом GridSearchCV для подбора параметров\n",
    "grid_CV_rfr = GridSearchCV(estimator=rfr,\n",
    "                       param_grid=param_grid_rfr,\n",
    "                       cv=tscv,\n",
    "                       scoring='neg_root_mean_squared_error'\n",
    ")\n",
    "grid_CV_rfr.fit(features_train, target_train)\n",
    "\n",
    "\n",
    "print(grid_CV_rfr.best_score_)"
   ]
  },
  {
   "cell_type": "markdown",
   "metadata": {},
   "source": [
    "### LightGBM"
   ]
  },
  {
   "cell_type": "code",
   "execution_count": null,
   "metadata": {},
   "outputs": [],
   "source": [
    "%%time\n",
    "lgbmr = LGBMRegressor(random_state=12345)\n",
    "param_grid_lgbmr = { # словарь параметров\n",
    "    'max_depth':[5,7,9,11],\n",
    "    'num_leaves':[20,40, 50, 60]\n",
    "        \n",
    "}\n",
    "tscv = TimeSeriesSplit()\n",
    "#воспользуемся методом GridSearchCV для подбора параметров\n",
    "grid_CV_lgbmr = GridSearchCV(estimator=lgbmr,\n",
    "                       param_grid=param_grid_lgbmr,\n",
    "                       cv=tscv,\n",
    "                       scoring='neg_root_mean_squared_error'\n",
    ")\n",
    "grid_CV_lgbmr.fit(features_train, target_train)\n",
    "\n",
    "print(abs(grid_CV_lgbmr.best_score_))"
   ]
  },
  {
   "cell_type": "markdown",
   "metadata": {},
   "source": [
    "## Тестирование"
   ]
  },
  {
   "cell_type": "code",
   "execution_count": 12,
   "metadata": {},
   "outputs": [
    {
     "name": "stdout",
     "output_type": "stream",
     "text": [
      "RMSE =  45.00531117808245\n"
     ]
    }
   ],
   "source": [
    "test_preds = grid_CV_rfr.best_estimator_.predict(features_test)\n",
    "\n",
    "print('RMSE = ', mean_squared_error(test['num_orders'], test_preds)**0.5)"
   ]
  },
  {
   "cell_type": "code",
   "execution_count": 14,
   "metadata": {},
   "outputs": [
    {
     "data": {
      "image/png": "[encoded data removed]",
      "text/plain": [
       "<Figure size 1296x576 with 1 Axes>"
      ]
     },
     "metadata": {
      "needs_background": "light"
     },
     "output_type": "display_data"
    }
   ],
   "source": [
    "y1 = test_preds\n",
    "y2 = test['num_orders']\n",
    "x  = np.arange(len(y1))\n",
    "\n",
    "fig,ax = plt.subplots()\n",
    "fig.set_figwidth(18)\n",
    "fig.set_figheight(8)\n",
    "ax.set_xticks(x)\n",
    "first = ax.bar(x-0.15, y1, width = 0.3, label = 'Прогноз')\n",
    "second = ax.bar(x+0.15, y2, width = 0.3, label = 'Факт')\n",
    "ax.legend()\n",
    "ax.set_title('График \"Факт-прогноз\"', fontsize=20)\n",
    "ax.set_xlabel('время заказа')\n",
    "ax.set_ylabel('кол-во заказов')\n",
    "plt.show()"
   ]
  },
  {
   "cell_type": "markdown",
   "metadata": {},
   "source": [
    "Добились необходимого значения нашей метрики."
   ]
  },
  {
   "cell_type": "markdown",
   "metadata": {},
   "source": [
    "## Выводы"
   ]
  },
  {
   "cell_type": "markdown",
   "metadata": {},
   "source": [
    "В данном проекте мы сделали следующее:\n",
    "- Провели анализ нашего временного ряда\n",
    "- Добавили признаки, чтобы обучить нашу модель\n",
    "- Обучили нашу модель, добились нужного значения метрики на тестовой выборке"
   ]
  }
 ],
 "metadata": {
  "ExecuteTimeLog": [
   {
    "duration": 411,
    "start_time": "2023-03-11T15:34:10.823Z"
   },
   {
    "duration": 91,
    "start_time": "2023-03-11T15:34:27.661Z"
   },
   {
    "duration": 143,
    "start_time": "2023-03-11T15:34:39.080Z"
   },
   {
    "duration": 46,
    "start_time": "2023-03-11T15:34:45.741Z"
   },
   {
    "duration": 55,
    "start_time": "2023-03-11T15:34:50.680Z"
   },
   {
    "duration": 21,
    "start_time": "2023-03-11T15:35:36.114Z"
   },
   {
    "duration": 10,
    "start_time": "2023-03-11T15:36:06.347Z"
   },
   {
    "duration": 9,
    "start_time": "2023-03-11T15:36:25.217Z"
   },
   {
    "duration": 8,
    "start_time": "2023-03-11T15:36:33.641Z"
   },
   {
    "duration": 14,
    "start_time": "2023-03-11T15:36:36.693Z"
   },
   {
    "duration": 51,
    "start_time": "2023-03-11T15:41:08.255Z"
   },
   {
    "duration": 6,
    "start_time": "2023-03-11T15:41:09.186Z"
   },
   {
    "duration": 8,
    "start_time": "2023-03-11T15:41:14.939Z"
   },
   {
    "duration": 12,
    "start_time": "2023-03-11T15:41:56.614Z"
   },
   {
    "duration": 571,
    "start_time": "2023-03-11T15:42:10.686Z"
   },
   {
    "duration": 182,
    "start_time": "2023-03-11T15:42:14.785Z"
   },
   {
    "duration": 13,
    "start_time": "2023-03-11T15:44:47.267Z"
   },
   {
    "duration": 180,
    "start_time": "2023-03-11T15:45:32.728Z"
   },
   {
    "duration": 180,
    "start_time": "2023-03-11T15:45:41.712Z"
   },
   {
    "duration": 3,
    "start_time": "2023-03-11T15:46:22.694Z"
   },
   {
    "duration": 419,
    "start_time": "2023-03-11T15:46:27.856Z"
   },
   {
    "duration": 767,
    "start_time": "2023-03-11T15:46:37.170Z"
   },
   {
    "duration": 622,
    "start_time": "2023-03-11T15:48:53.090Z"
   },
   {
    "duration": 242,
    "start_time": "2023-03-11T15:49:34.232Z"
   },
   {
    "duration": 4,
    "start_time": "2023-03-11T15:49:54.235Z"
   },
   {
    "duration": 4,
    "start_time": "2023-03-11T15:50:01.132Z"
   },
   {
    "duration": 56,
    "start_time": "2023-03-11T15:50:09.886Z"
   },
   {
    "duration": 633,
    "start_time": "2023-03-11T15:50:12.798Z"
   },
   {
    "duration": 4,
    "start_time": "2023-03-11T15:50:39.778Z"
   },
   {
    "duration": 10,
    "start_time": "2023-03-11T15:50:41.045Z"
   },
   {
    "duration": 43,
    "start_time": "2023-03-11T15:50:47.798Z"
   },
   {
    "duration": 17,
    "start_time": "2023-03-11T15:50:51.780Z"
   },
   {
    "duration": 1686,
    "start_time": "2023-03-12T16:27:28.083Z"
   },
   {
    "duration": 122,
    "start_time": "2023-03-12T16:27:29.771Z"
   },
   {
    "duration": 17,
    "start_time": "2023-03-12T16:27:29.895Z"
   },
   {
    "duration": 15,
    "start_time": "2023-03-12T16:27:29.914Z"
   },
   {
    "duration": 251,
    "start_time": "2023-03-12T16:27:29.931Z"
   },
   {
    "duration": 774,
    "start_time": "2023-03-12T16:27:30.185Z"
   },
   {
    "duration": 7,
    "start_time": "2023-03-12T16:27:30.961Z"
   },
   {
    "duration": 89,
    "start_time": "2023-03-12T16:27:30.970Z"
   },
   {
    "duration": 27,
    "start_time": "2023-03-12T16:29:43.456Z"
   },
   {
    "duration": 138,
    "start_time": "2023-03-12T16:38:57.853Z"
   },
   {
    "duration": 8,
    "start_time": "2023-03-12T16:39:24.896Z"
   },
   {
    "duration": 6,
    "start_time": "2023-03-12T16:39:59.178Z"
   },
   {
    "duration": 28959,
    "start_time": "2023-03-12T16:40:37.025Z"
   },
   {
    "duration": 35184,
    "start_time": "2023-03-12T16:41:05.986Z"
   },
   {
    "duration": 14,
    "start_time": "2023-03-12T16:43:11.021Z"
   },
   {
    "duration": 23,
    "start_time": "2023-03-12T16:43:56.704Z"
   },
   {
    "duration": 20,
    "start_time": "2023-03-12T16:46:31.320Z"
   },
   {
    "duration": 20,
    "start_time": "2023-03-12T16:46:44.454Z"
   },
   {
    "duration": 37,
    "start_time": "2023-03-12T16:47:04.504Z"
   },
   {
    "duration": 4,
    "start_time": "2023-03-12T16:47:08.303Z"
   },
   {
    "duration": 5,
    "start_time": "2023-03-12T16:47:08.731Z"
   },
   {
    "duration": 35346,
    "start_time": "2023-03-12T16:47:09.642Z"
   },
   {
    "duration": 173580,
    "start_time": "2023-03-12T16:47:44.990Z"
   },
   {
    "duration": 92,
    "start_time": "2023-03-12T16:50:38.572Z"
   },
   {
    "duration": 23,
    "start_time": "2023-03-12T16:54:10.089Z"
   },
   {
    "duration": 4,
    "start_time": "2023-03-12T16:54:12.845Z"
   },
   {
    "duration": 5,
    "start_time": "2023-03-12T16:54:13.189Z"
   },
   {
    "duration": 33573,
    "start_time": "2023-03-12T16:54:13.839Z"
   },
   {
    "duration": 29554,
    "start_time": "2023-03-12T16:54:47.414Z"
   },
   {
    "duration": 17,
    "start_time": "2023-03-12T16:55:16.969Z"
   },
   {
    "duration": 594,
    "start_time": "2023-03-12T16:56:35.084Z"
   },
   {
    "duration": 157,
    "start_time": "2023-03-12T16:56:52.585Z"
   },
   {
    "duration": 21,
    "start_time": "2023-03-12T17:05:28.540Z"
   },
   {
    "duration": 5,
    "start_time": "2023-03-12T17:05:43.586Z"
   },
   {
    "duration": 40,
    "start_time": "2023-03-12T17:05:43.593Z"
   },
   {
    "duration": 5,
    "start_time": "2023-03-12T17:05:43.634Z"
   },
   {
    "duration": 8,
    "start_time": "2023-03-12T17:05:43.641Z"
   },
   {
    "duration": 46216,
    "start_time": "2023-03-12T17:05:43.652Z"
   },
   {
    "duration": 39197,
    "start_time": "2023-03-12T17:06:29.870Z"
   },
   {
    "duration": 97,
    "start_time": "2023-03-12T17:07:09.069Z"
   },
   {
    "duration": 328951,
    "start_time": "2023-03-12T17:08:40.416Z"
   },
   {
    "duration": 15,
    "start_time": "2023-03-12T17:14:09.369Z"
   },
   {
    "duration": 19,
    "start_time": "2023-03-12T17:14:36.153Z"
   },
   {
    "duration": 29,
    "start_time": "2023-03-12T17:20:43.452Z"
   },
   {
    "duration": 27,
    "start_time": "2023-03-12T17:20:48.006Z"
   },
   {
    "duration": 2040,
    "start_time": "2023-03-12T17:20:59.736Z"
   },
   {
    "duration": 66,
    "start_time": "2023-03-12T17:21:01.779Z"
   },
   {
    "duration": 16,
    "start_time": "2023-03-12T17:21:01.846Z"
   },
   {
    "duration": 18,
    "start_time": "2023-03-12T17:21:01.864Z"
   },
   {
    "duration": 240,
    "start_time": "2023-03-12T17:21:01.884Z"
   },
   {
    "duration": 645,
    "start_time": "2023-03-12T17:21:02.126Z"
   },
   {
    "duration": 5,
    "start_time": "2023-03-12T17:21:02.773Z"
   },
   {
    "duration": 47,
    "start_time": "2023-03-12T17:21:02.780Z"
   },
   {
    "duration": 5,
    "start_time": "2023-03-12T17:21:02.828Z"
   },
   {
    "duration": 24,
    "start_time": "2023-03-12T17:21:02.834Z"
   },
   {
    "duration": 30111,
    "start_time": "2023-03-12T17:21:02.860Z"
   },
   {
    "duration": 293902,
    "start_time": "2023-03-12T17:21:32.973Z"
   },
   {
    "duration": 90,
    "start_time": "2023-03-12T17:26:26.876Z"
   },
   {
    "duration": 17,
    "start_time": "2023-03-12T17:26:26.968Z"
   },
   {
    "duration": 191,
    "start_time": "2023-03-12T17:26:26.988Z"
   },
   {
    "duration": 14,
    "start_time": "2023-03-12T17:26:58.137Z"
   },
   {
    "duration": 12,
    "start_time": "2023-03-12T17:27:05.096Z"
   },
   {
    "duration": 4,
    "start_time": "2023-03-12T17:27:08.995Z"
   },
   {
    "duration": 25,
    "start_time": "2023-03-12T17:27:18.313Z"
   },
   {
    "duration": 4,
    "start_time": "2023-03-12T17:27:24.964Z"
   },
   {
    "duration": 69,
    "start_time": "2023-03-12T17:27:24.970Z"
   },
   {
    "duration": 14,
    "start_time": "2023-03-12T17:27:25.041Z"
   },
   {
    "duration": 13,
    "start_time": "2023-03-12T17:27:25.056Z"
   },
   {
    "duration": 214,
    "start_time": "2023-03-12T17:27:25.072Z"
   },
   {
    "duration": 765,
    "start_time": "2023-03-12T17:27:25.288Z"
   },
   {
    "duration": 9,
    "start_time": "2023-03-12T17:27:26.055Z"
   },
   {
    "duration": 30,
    "start_time": "2023-03-12T17:27:26.066Z"
   },
   {
    "duration": 4,
    "start_time": "2023-03-12T17:27:26.098Z"
   },
   {
    "duration": 9,
    "start_time": "2023-03-12T17:27:26.104Z"
   },
   {
    "duration": 28777,
    "start_time": "2023-03-12T17:27:26.114Z"
   },
   {
    "duration": 244572,
    "start_time": "2023-03-12T17:27:54.893Z"
   },
   {
    "duration": 15,
    "start_time": "2023-03-12T17:31:59.467Z"
   },
   {
    "duration": 19,
    "start_time": "2023-03-12T17:31:59.484Z"
   },
   {
    "duration": 71,
    "start_time": "2023-03-12T17:31:59.505Z"
   },
   {
    "duration": 0,
    "start_time": "2023-03-12T17:31:59.578Z"
   },
   {
    "duration": 28576,
    "start_time": "2023-03-12T17:32:27.794Z"
   },
   {
    "duration": 16,
    "start_time": "2023-03-12T17:34:18.702Z"
   },
   {
    "duration": 15,
    "start_time": "2023-03-12T17:34:20.790Z"
   },
   {
    "duration": 15,
    "start_time": "2023-03-12T17:34:35.996Z"
   },
   {
    "duration": 28,
    "start_time": "2023-03-12T17:34:48.847Z"
   },
   {
    "duration": 5,
    "start_time": "2023-03-12T17:34:50.974Z"
   },
   {
    "duration": 5,
    "start_time": "2023-03-12T17:34:51.196Z"
   },
   {
    "duration": 35065,
    "start_time": "2023-03-12T17:34:51.731Z"
   },
   {
    "duration": 248869,
    "start_time": "2023-03-12T17:35:26.798Z"
   },
   {
    "duration": 15,
    "start_time": "2023-03-12T17:39:35.669Z"
   },
   {
    "duration": 12,
    "start_time": "2023-03-12T17:39:35.686Z"
   },
   {
    "duration": 28,
    "start_time": "2023-03-12T17:42:15.093Z"
   },
   {
    "duration": 5,
    "start_time": "2023-03-12T17:42:15.622Z"
   },
   {
    "duration": 5,
    "start_time": "2023-03-12T17:42:15.996Z"
   },
   {
    "duration": 35337,
    "start_time": "2023-03-12T17:42:16.511Z"
   },
   {
    "duration": 705924,
    "start_time": "2023-03-12T17:42:51.850Z"
   },
   {
    "duration": 0,
    "start_time": "2023-03-12T17:54:37.887Z"
   },
   {
    "duration": 0,
    "start_time": "2023-03-12T17:54:37.888Z"
   },
   {
    "duration": 0,
    "start_time": "2023-03-12T17:54:37.889Z"
   },
   {
    "duration": 13,
    "start_time": "2023-03-12T17:55:47.287Z"
   },
   {
    "duration": 15,
    "start_time": "2023-03-12T17:55:49.198Z"
   },
   {
    "duration": 14,
    "start_time": "2023-03-12T17:55:49.609Z"
   },
   {
    "duration": 33592,
    "start_time": "2023-03-12T17:56:06.349Z"
   },
   {
    "duration": 52,
    "start_time": "2023-03-13T14:51:30.190Z"
   },
   {
    "duration": 2522,
    "start_time": "2023-03-13T14:51:36.824Z"
   },
   {
    "duration": 493,
    "start_time": "2023-03-13T14:51:39.348Z"
   },
   {
    "duration": 28,
    "start_time": "2023-03-13T14:51:39.844Z"
   },
   {
    "duration": 21,
    "start_time": "2023-03-13T14:51:39.885Z"
   },
   {
    "duration": 230,
    "start_time": "2023-03-13T14:51:43.923Z"
   },
   {
    "duration": 251,
    "start_time": "2023-03-13T14:52:04.527Z"
   },
   {
    "duration": 217,
    "start_time": "2023-03-13T14:56:12.947Z"
   },
   {
    "duration": 814,
    "start_time": "2023-03-13T14:57:17.690Z"
   },
   {
    "duration": 4,
    "start_time": "2023-03-13T14:59:18.898Z"
   },
   {
    "duration": 198,
    "start_time": "2023-03-13T15:00:14.015Z"
   },
   {
    "duration": 4,
    "start_time": "2023-03-13T15:00:18.549Z"
   },
   {
    "duration": 76,
    "start_time": "2023-03-13T15:00:18.554Z"
   },
   {
    "duration": 12,
    "start_time": "2023-03-13T15:00:18.632Z"
   },
   {
    "duration": 106,
    "start_time": "2023-03-13T15:00:18.645Z"
   },
   {
    "duration": 235,
    "start_time": "2023-03-13T15:00:18.753Z"
   },
   {
    "duration": 663,
    "start_time": "2023-03-13T15:00:18.989Z"
   },
   {
    "duration": 19,
    "start_time": "2023-03-13T15:00:19.665Z"
   },
   {
    "duration": 34,
    "start_time": "2023-03-13T15:00:19.686Z"
   },
   {
    "duration": 4,
    "start_time": "2023-03-13T15:00:19.721Z"
   },
   {
    "duration": 6,
    "start_time": "2023-03-13T15:00:19.726Z"
   },
   {
    "duration": 26302,
    "start_time": "2023-03-13T15:00:26.327Z"
   },
   {
    "duration": 1633802,
    "start_time": "2023-03-13T15:03:08.098Z"
   },
   {
    "duration": 19,
    "start_time": "2023-03-13T15:30:21.909Z"
   },
   {
    "duration": 4,
    "start_time": "2023-03-13T15:30:30.622Z"
   },
   {
    "duration": 126,
    "start_time": "2023-03-13T15:30:30.628Z"
   },
   {
    "duration": 13,
    "start_time": "2023-03-13T15:30:30.755Z"
   },
   {
    "duration": 46,
    "start_time": "2023-03-13T15:30:30.770Z"
   },
   {
    "duration": 383,
    "start_time": "2023-03-13T15:30:30.818Z"
   },
   {
    "duration": 908,
    "start_time": "2023-03-13T15:30:31.206Z"
   },
   {
    "duration": 11,
    "start_time": "2023-03-13T15:30:32.119Z"
   },
   {
    "duration": 39,
    "start_time": "2023-03-13T15:30:32.132Z"
   },
   {
    "duration": 3,
    "start_time": "2023-03-13T15:30:32.173Z"
   },
   {
    "duration": 30,
    "start_time": "2023-03-13T15:30:32.178Z"
   },
   {
    "duration": 677,
    "start_time": "2023-03-13T15:30:32.210Z"
   },
   {
    "duration": 27662,
    "start_time": "2023-03-13T15:30:32.889Z"
   },
   {
    "duration": 30,
    "start_time": "2023-03-13T15:31:00.553Z"
   },
   {
    "duration": 0,
    "start_time": "2023-03-13T15:31:00.591Z"
   },
   {
    "duration": 3876,
    "start_time": "2023-03-13T15:31:12.736Z"
   },
   {
    "duration": 136,
    "start_time": "2023-03-13T15:31:16.617Z"
   },
   {
    "duration": 31,
    "start_time": "2023-03-13T15:31:16.777Z"
   },
   {
    "duration": 27,
    "start_time": "2023-03-13T15:31:16.816Z"
   },
   {
    "duration": 299,
    "start_time": "2023-03-13T15:31:16.854Z"
   },
   {
    "duration": 1077,
    "start_time": "2023-03-13T15:31:17.170Z"
   },
   {
    "duration": 31,
    "start_time": "2023-03-13T15:31:18.261Z"
   },
   {
    "duration": 35,
    "start_time": "2023-03-13T15:31:18.301Z"
   },
   {
    "duration": 4,
    "start_time": "2023-03-13T15:31:18.338Z"
   },
   {
    "duration": 5,
    "start_time": "2023-03-13T15:31:18.345Z"
   },
   {
    "duration": 1037,
    "start_time": "2023-03-13T15:31:18.351Z"
   },
   {
    "duration": 170341,
    "start_time": "2023-03-13T15:31:19.397Z"
   },
   {
    "duration": 11,
    "start_time": "2023-03-13T15:34:09.740Z"
   },
   {
    "duration": 0,
    "start_time": "2023-03-13T15:34:09.753Z"
   },
   {
    "duration": 64,
    "start_time": "2023-03-13T15:34:15.420Z"
   },
   {
    "duration": 4,
    "start_time": "2023-03-13T15:34:19.030Z"
   },
   {
    "duration": 5,
    "start_time": "2023-03-13T15:34:25.417Z"
   },
   {
    "duration": 5,
    "start_time": "2023-03-13T15:34:26.111Z"
   },
   {
    "duration": 26525,
    "start_time": "2023-03-13T15:34:28.629Z"
   },
   {
    "duration": 0,
    "start_time": "2023-03-13T15:52:06.582Z"
   },
   {
    "duration": 10,
    "start_time": "2023-03-13T15:52:09.982Z"
   },
   {
    "duration": 122,
    "start_time": "2023-03-13T15:52:09.994Z"
   },
   {
    "duration": 24,
    "start_time": "2023-03-13T15:52:10.124Z"
   },
   {
    "duration": 57,
    "start_time": "2023-03-13T15:52:10.150Z"
   },
   {
    "duration": 264,
    "start_time": "2023-03-13T15:52:10.209Z"
   },
   {
    "duration": 880,
    "start_time": "2023-03-13T15:52:10.476Z"
   },
   {
    "duration": 8,
    "start_time": "2023-03-13T15:52:11.360Z"
   },
   {
    "duration": 69,
    "start_time": "2023-03-13T15:52:11.373Z"
   },
   {
    "duration": 5,
    "start_time": "2023-03-13T15:52:11.449Z"
   },
   {
    "duration": 10,
    "start_time": "2023-03-13T15:52:11.461Z"
   },
   {
    "duration": 32071,
    "start_time": "2023-03-13T15:52:11.473Z"
   },
   {
    "duration": 21,
    "start_time": "2023-03-13T15:53:13.330Z"
   },
   {
    "duration": 103,
    "start_time": "2023-03-13T15:53:20.296Z"
   },
   {
    "duration": 6,
    "start_time": "2023-03-13T15:53:23.232Z"
   },
   {
    "duration": 19,
    "start_time": "2023-03-13T15:53:23.609Z"
   },
   {
    "duration": 59178,
    "start_time": "2023-03-13T15:53:24.485Z"
   },
   {
    "duration": 43,
    "start_time": "2023-03-13T15:55:35.433Z"
   },
   {
    "duration": 116,
    "start_time": "2023-03-13T15:55:49.382Z"
   },
   {
    "duration": 11,
    "start_time": "2023-03-13T15:55:50.121Z"
   },
   {
    "duration": 14,
    "start_time": "2023-03-13T15:55:50.442Z"
   },
   {
    "duration": 83899,
    "start_time": "2023-03-13T15:55:55.221Z"
   },
   {
    "duration": 31,
    "start_time": "2023-03-13T15:57:19.126Z"
   },
   {
    "duration": 20970,
    "start_time": "2023-03-13T15:58:17.206Z"
   },
   {
    "duration": 5,
    "start_time": "2023-03-13T15:58:47.108Z"
   },
   {
    "duration": 213,
    "start_time": "2023-03-13T15:58:47.115Z"
   },
   {
    "duration": 55,
    "start_time": "2023-03-13T15:58:47.337Z"
   },
   {
    "duration": 45,
    "start_time": "2023-03-13T15:58:47.399Z"
   },
   {
    "duration": 451,
    "start_time": "2023-03-13T15:58:47.461Z"
   },
   {
    "duration": 1358,
    "start_time": "2023-03-13T15:58:47.918Z"
   },
   {
    "duration": 8,
    "start_time": "2023-03-13T15:58:49.278Z"
   },
   {
    "duration": 92,
    "start_time": "2023-03-13T15:58:49.288Z"
   },
   {
    "duration": 10,
    "start_time": "2023-03-13T15:58:49.382Z"
   },
   {
    "duration": 24,
    "start_time": "2023-03-13T15:58:49.394Z"
   },
   {
    "duration": 3244,
    "start_time": "2023-03-13T15:59:18.549Z"
   },
   {
    "duration": 185,
    "start_time": "2023-03-13T15:59:21.803Z"
   },
   {
    "duration": 44,
    "start_time": "2023-03-13T15:59:21.993Z"
   },
   {
    "duration": 34,
    "start_time": "2023-03-13T15:59:22.048Z"
   },
   {
    "duration": 468,
    "start_time": "2023-03-13T15:59:22.093Z"
   },
   {
    "duration": 942,
    "start_time": "2023-03-13T15:59:22.566Z"
   },
   {
    "duration": 10,
    "start_time": "2023-03-13T15:59:23.510Z"
   },
   {
    "duration": 107,
    "start_time": "2023-03-13T15:59:23.521Z"
   },
   {
    "duration": 11,
    "start_time": "2023-03-13T15:59:23.633Z"
   },
   {
    "duration": 27,
    "start_time": "2023-03-13T15:59:23.648Z"
   },
   {
    "duration": 82767,
    "start_time": "2023-03-13T15:59:23.683Z"
   },
   {
    "duration": 44,
    "start_time": "2023-03-13T16:00:46.472Z"
   },
   {
    "duration": 10031,
    "start_time": "2023-03-13T16:01:06.201Z"
   },
   {
    "duration": 11163,
    "start_time": "2023-03-13T16:02:03.045Z"
   }
  ],
  "kernelspec": {
   "display_name": "Python 3 (ipykernel)",
   "language": "python",
   "name": "python3"
  },
  "language_info": {
   "codemirror_mode": {
    "name": "ipython",
    "version": 3
   },
   "file_extension": ".py",
   "mimetype": "text/x-python",
   "name": "python",
   "nbconvert_exporter": "python",
   "pygments_lexer": "ipython3",
   "version": "3.9.7"
  },
  "toc": {
   "base_numbering": 1,
   "nav_menu": {},
   "number_sections": true,
   "sideBar": true,
   "skip_h1_title": true,
   "title_cell": "Содержание",
   "title_sidebar": "Contents",
   "toc_cell": true,
   "toc_position": {},
   "toc_section_display": true,
   "toc_window_display": false
  }
 },
 "nbformat": 4,
 "nbformat_minor": 2
}
