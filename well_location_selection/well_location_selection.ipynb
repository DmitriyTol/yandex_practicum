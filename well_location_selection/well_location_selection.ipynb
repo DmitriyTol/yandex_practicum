{
 "cells": [
  {
   "cell_type": "markdown",
   "metadata": {},
   "source": [
    "# Выбор локации для скважины"
   ]
  },
  {
   "cell_type": "markdown",
   "metadata": {},
   "source": [
    "Допустим, вы работаете в добывающей компании «ГлавРосГосНефть». Нужно решить, где бурить новую скважину.\n",
    "\n",
    "Вам предоставлены пробы нефти в трёх регионах: в каждом 10 000 месторождений, где измерили качество нефти и объём её запасов. Постройте модель машинного обучения, которая поможет определить регион, где добыча принесёт наибольшую прибыль. Проанализируйте возможную прибыль и риски техникой *Bootstrap.*\n",
    "\n",
    "Шаги для выбора локации:\n",
    "\n",
    "- В избранном регионе ищут месторождения, для каждого определяют значения признаков;\n",
    "- Строят модель и оценивают объём запасов;\n",
    "- Выбирают месторождения с самым высокими оценками значений. Количество месторождений зависит от бюджета компании и стоимости разработки одной скважины;\n",
    "- Прибыль равна суммарной прибыли отобранных месторождений."
   ]
  },
  {
   "cell_type": "markdown",
   "metadata": {},
   "source": [
    "Описание данных\n",
    "- id — уникальный идентификатор скважины;\n",
    "- f0, f1, f2 — три признака точек (неважно, что они означают, но сами признаки значимы);\n",
    "- product — объём запасов в скважине (тыс. баррелей)."
   ]
  },
  {
   "cell_type": "markdown",
   "metadata": {},
   "source": [
    "## Загрузка и подготовка данных"
   ]
  },
  {
   "cell_type": "code",
   "execution_count": 2,
   "metadata": {},
   "outputs": [],
   "source": [
    "import itertools\n",
    "import matplotlib.pyplot as plt\n",
    "import numpy as np\n",
    "import pandas as pd\n",
    "from numpy.random import RandomState\n",
    "from scipy import stats as st\n",
    "from sklearn.linear_model import LinearRegression\n",
    "from sklearn.metrics import mean_squared_error\n",
    "from sklearn.model_selection import train_test_split\n",
    "from sklearn.preprocessing import StandardScaler\n",
    "\n",
    "\n",
    "\n",
    "random = 12345\n",
    "state = RandomState(random) "
   ]
  },
  {
   "cell_type": "code",
   "execution_count": 22,
   "metadata": {},
   "outputs": [],
   "source": [
    "BUDGET = 10*(10**9)\n",
    "MAX_POINTS = 500\n",
    "FINAL_POINTS = 200\n",
    "PRICE_PER_BARREL = 450_000\n",
    "DAMAGE_THRESHOLD = 0.025"
   ]
  },
  {
   "cell_type": "markdown",
   "metadata": {},
   "source": [
    "Ввели константы для рассчета точки безубыточности."
   ]
  },
  {
   "cell_type": "code",
   "execution_count": 4,
   "metadata": {},
   "outputs": [],
   "source": [
    "df_1 = pd.read_csv(\"/datasets/geo_data_0.csv\")\n",
    "df_2 = pd.read_csv(\"/datasets/geo_data_1.csv\")\n",
    "df_3 = pd.read_csv(\"/datasets/geo_data_2.csv\")"
   ]
  },
  {
   "cell_type": "code",
   "execution_count": 5,
   "metadata": {},
   "outputs": [],
   "source": [
    "def display_frames(frames):\n",
    "    for frame in frames:        \n",
    "        display(frame)\n",
    "        print()"
   ]
  },
  {
   "cell_type": "markdown",
   "metadata": {},
   "source": [
    "Создадим функцию для удобства вывода датафреймов"
   ]
  },
  {
   "cell_type": "code",
   "execution_count": 6,
   "metadata": {},
   "outputs": [
    {
     "name": "stdout",
     "output_type": "stream",
     "text": [
      "<class 'pandas.core.frame.DataFrame'>\n",
      "RangeIndex: 100000 entries, 0 to 99999\n",
      "Data columns (total 5 columns):\n",
      " #   Column   Non-Null Count   Dtype  \n",
      "---  ------   --------------   -----  \n",
      " 0   id       100000 non-null  object \n",
      " 1   f0       100000 non-null  float64\n",
      " 2   f1       100000 non-null  float64\n",
      " 3   f2       100000 non-null  float64\n",
      " 4   product  100000 non-null  float64\n",
      "dtypes: float64(4), object(1)\n",
      "memory usage: 3.8+ MB\n",
      "<class 'pandas.core.frame.DataFrame'>\n",
      "RangeIndex: 100000 entries, 0 to 99999\n",
      "Data columns (total 5 columns):\n",
      " #   Column   Non-Null Count   Dtype  \n",
      "---  ------   --------------   -----  \n",
      " 0   id       100000 non-null  object \n",
      " 1   f0       100000 non-null  float64\n",
      " 2   f1       100000 non-null  float64\n",
      " 3   f2       100000 non-null  float64\n",
      " 4   product  100000 non-null  float64\n",
      "dtypes: float64(4), object(1)\n",
      "memory usage: 3.8+ MB\n",
      "<class 'pandas.core.frame.DataFrame'>\n",
      "RangeIndex: 100000 entries, 0 to 99999\n",
      "Data columns (total 5 columns):\n",
      " #   Column   Non-Null Count   Dtype  \n",
      "---  ------   --------------   -----  \n",
      " 0   id       100000 non-null  object \n",
      " 1   f0       100000 non-null  float64\n",
      " 2   f1       100000 non-null  float64\n",
      " 3   f2       100000 non-null  float64\n",
      " 4   product  100000 non-null  float64\n",
      "dtypes: float64(4), object(1)\n",
      "memory usage: 3.8+ MB\n"
     ]
    },
    {
     "data": {
      "text/plain": [
       "None"
      ]
     },
     "metadata": {},
     "output_type": "display_data"
    },
    {
     "name": "stdout",
     "output_type": "stream",
     "text": [
      "\n"
     ]
    },
    {
     "data": {
      "text/plain": [
       "None"
      ]
     },
     "metadata": {},
     "output_type": "display_data"
    },
    {
     "name": "stdout",
     "output_type": "stream",
     "text": [
      "\n"
     ]
    },
    {
     "data": {
      "text/plain": [
       "None"
      ]
     },
     "metadata": {},
     "output_type": "display_data"
    },
    {
     "name": "stdout",
     "output_type": "stream",
     "text": [
      "\n"
     ]
    }
   ],
   "source": [
    "display_frames([df_1.info(), df_2.info(), df_3.info()])"
   ]
  },
  {
   "cell_type": "markdown",
   "metadata": {},
   "source": [
    "Видим, что пропусков нет, типы у столбцов правильные."
   ]
  },
  {
   "cell_type": "code",
   "execution_count": 7,
   "metadata": {},
   "outputs": [
    {
     "name": "stdout",
     "output_type": "stream",
     "text": [
      "Количество дубликатов в первой таблице:  0\n",
      "Количество дубликатов во второй таблице:  0\n",
      "Количество дубликатов в третьей таблице:  0\n"
     ]
    }
   ],
   "source": [
    "print('Количество дубликатов в первой таблице: ', df_1.duplicated().sum())\n",
    "print('Количество дубликатов во второй таблице: ', df_2.duplicated().sum())\n",
    "print('Количество дубликатов в третьей таблице: ', df_3.duplicated().sum())"
   ]
  },
  {
   "cell_type": "markdown",
   "metadata": {},
   "source": [
    "Дубликаты так же отсутствуют. Изучим информацию о значениях."
   ]
  },
  {
   "cell_type": "code",
   "execution_count": 8,
   "metadata": {},
   "outputs": [
    {
     "data": {
      "text/html": [
       "<div>\n",
       "<style scoped>\n",
       "    .dataframe tbody tr th:only-of-type {\n",
       "        vertical-align: middle;\n",
       "    }\n",
       "\n",
       "    .dataframe tbody tr th {\n",
       "        vertical-align: top;\n",
       "    }\n",
       "\n",
       "    .dataframe thead th {\n",
       "        text-align: right;\n",
       "    }\n",
       "</style>\n",
       "<table border=\"1\" class=\"dataframe\">\n",
       "  <thead>\n",
       "    <tr style=\"text-align: right;\">\n",
       "      <th></th>\n",
       "      <th>f0</th>\n",
       "      <th>f1</th>\n",
       "      <th>f2</th>\n",
       "      <th>product</th>\n",
       "    </tr>\n",
       "  </thead>\n",
       "  <tbody>\n",
       "    <tr>\n",
       "      <th>count</th>\n",
       "      <td>100000.000000</td>\n",
       "      <td>100000.000000</td>\n",
       "      <td>100000.000000</td>\n",
       "      <td>100000.000000</td>\n",
       "    </tr>\n",
       "    <tr>\n",
       "      <th>mean</th>\n",
       "      <td>0.500419</td>\n",
       "      <td>0.250143</td>\n",
       "      <td>2.502647</td>\n",
       "      <td>92.500000</td>\n",
       "    </tr>\n",
       "    <tr>\n",
       "      <th>std</th>\n",
       "      <td>0.871832</td>\n",
       "      <td>0.504433</td>\n",
       "      <td>3.248248</td>\n",
       "      <td>44.288691</td>\n",
       "    </tr>\n",
       "    <tr>\n",
       "      <th>min</th>\n",
       "      <td>-1.408605</td>\n",
       "      <td>-0.848218</td>\n",
       "      <td>-12.088328</td>\n",
       "      <td>0.000000</td>\n",
       "    </tr>\n",
       "    <tr>\n",
       "      <th>25%</th>\n",
       "      <td>-0.072580</td>\n",
       "      <td>-0.200881</td>\n",
       "      <td>0.287748</td>\n",
       "      <td>56.497507</td>\n",
       "    </tr>\n",
       "    <tr>\n",
       "      <th>50%</th>\n",
       "      <td>0.502360</td>\n",
       "      <td>0.250252</td>\n",
       "      <td>2.515969</td>\n",
       "      <td>91.849972</td>\n",
       "    </tr>\n",
       "    <tr>\n",
       "      <th>75%</th>\n",
       "      <td>1.073581</td>\n",
       "      <td>0.700646</td>\n",
       "      <td>4.715088</td>\n",
       "      <td>128.564089</td>\n",
       "    </tr>\n",
       "    <tr>\n",
       "      <th>max</th>\n",
       "      <td>2.362331</td>\n",
       "      <td>1.343769</td>\n",
       "      <td>16.003790</td>\n",
       "      <td>185.364347</td>\n",
       "    </tr>\n",
       "  </tbody>\n",
       "</table>\n",
       "</div>"
      ],
      "text/plain": [
       "                  f0             f1             f2        product\n",
       "count  100000.000000  100000.000000  100000.000000  100000.000000\n",
       "mean        0.500419       0.250143       2.502647      92.500000\n",
       "std         0.871832       0.504433       3.248248      44.288691\n",
       "min        -1.408605      -0.848218     -12.088328       0.000000\n",
       "25%        -0.072580      -0.200881       0.287748      56.497507\n",
       "50%         0.502360       0.250252       2.515969      91.849972\n",
       "75%         1.073581       0.700646       4.715088     128.564089\n",
       "max         2.362331       1.343769      16.003790     185.364347"
      ]
     },
     "metadata": {},
     "output_type": "display_data"
    },
    {
     "name": "stdout",
     "output_type": "stream",
     "text": [
      "\n"
     ]
    },
    {
     "data": {
      "text/html": [
       "<div>\n",
       "<style scoped>\n",
       "    .dataframe tbody tr th:only-of-type {\n",
       "        vertical-align: middle;\n",
       "    }\n",
       "\n",
       "    .dataframe tbody tr th {\n",
       "        vertical-align: top;\n",
       "    }\n",
       "\n",
       "    .dataframe thead th {\n",
       "        text-align: right;\n",
       "    }\n",
       "</style>\n",
       "<table border=\"1\" class=\"dataframe\">\n",
       "  <thead>\n",
       "    <tr style=\"text-align: right;\">\n",
       "      <th></th>\n",
       "      <th>f0</th>\n",
       "      <th>f1</th>\n",
       "      <th>f2</th>\n",
       "      <th>product</th>\n",
       "    </tr>\n",
       "  </thead>\n",
       "  <tbody>\n",
       "    <tr>\n",
       "      <th>count</th>\n",
       "      <td>100000.000000</td>\n",
       "      <td>100000.000000</td>\n",
       "      <td>100000.000000</td>\n",
       "      <td>100000.000000</td>\n",
       "    </tr>\n",
       "    <tr>\n",
       "      <th>mean</th>\n",
       "      <td>1.141296</td>\n",
       "      <td>-4.796579</td>\n",
       "      <td>2.494541</td>\n",
       "      <td>68.825000</td>\n",
       "    </tr>\n",
       "    <tr>\n",
       "      <th>std</th>\n",
       "      <td>8.965932</td>\n",
       "      <td>5.119872</td>\n",
       "      <td>1.703572</td>\n",
       "      <td>45.944423</td>\n",
       "    </tr>\n",
       "    <tr>\n",
       "      <th>min</th>\n",
       "      <td>-31.609576</td>\n",
       "      <td>-26.358598</td>\n",
       "      <td>-0.018144</td>\n",
       "      <td>0.000000</td>\n",
       "    </tr>\n",
       "    <tr>\n",
       "      <th>25%</th>\n",
       "      <td>-6.298551</td>\n",
       "      <td>-8.267985</td>\n",
       "      <td>1.000021</td>\n",
       "      <td>26.953261</td>\n",
       "    </tr>\n",
       "    <tr>\n",
       "      <th>50%</th>\n",
       "      <td>1.153055</td>\n",
       "      <td>-4.813172</td>\n",
       "      <td>2.011479</td>\n",
       "      <td>57.085625</td>\n",
       "    </tr>\n",
       "    <tr>\n",
       "      <th>75%</th>\n",
       "      <td>8.621015</td>\n",
       "      <td>-1.332816</td>\n",
       "      <td>3.999904</td>\n",
       "      <td>107.813044</td>\n",
       "    </tr>\n",
       "    <tr>\n",
       "      <th>max</th>\n",
       "      <td>29.421755</td>\n",
       "      <td>18.734063</td>\n",
       "      <td>5.019721</td>\n",
       "      <td>137.945408</td>\n",
       "    </tr>\n",
       "  </tbody>\n",
       "</table>\n",
       "</div>"
      ],
      "text/plain": [
       "                  f0             f1             f2        product\n",
       "count  100000.000000  100000.000000  100000.000000  100000.000000\n",
       "mean        1.141296      -4.796579       2.494541      68.825000\n",
       "std         8.965932       5.119872       1.703572      45.944423\n",
       "min       -31.609576     -26.358598      -0.018144       0.000000\n",
       "25%        -6.298551      -8.267985       1.000021      26.953261\n",
       "50%         1.153055      -4.813172       2.011479      57.085625\n",
       "75%         8.621015      -1.332816       3.999904     107.813044\n",
       "max        29.421755      18.734063       5.019721     137.945408"
      ]
     },
     "metadata": {},
     "output_type": "display_data"
    },
    {
     "name": "stdout",
     "output_type": "stream",
     "text": [
      "\n"
     ]
    },
    {
     "data": {
      "text/html": [
       "<div>\n",
       "<style scoped>\n",
       "    .dataframe tbody tr th:only-of-type {\n",
       "        vertical-align: middle;\n",
       "    }\n",
       "\n",
       "    .dataframe tbody tr th {\n",
       "        vertical-align: top;\n",
       "    }\n",
       "\n",
       "    .dataframe thead th {\n",
       "        text-align: right;\n",
       "    }\n",
       "</style>\n",
       "<table border=\"1\" class=\"dataframe\">\n",
       "  <thead>\n",
       "    <tr style=\"text-align: right;\">\n",
       "      <th></th>\n",
       "      <th>f0</th>\n",
       "      <th>f1</th>\n",
       "      <th>f2</th>\n",
       "      <th>product</th>\n",
       "    </tr>\n",
       "  </thead>\n",
       "  <tbody>\n",
       "    <tr>\n",
       "      <th>count</th>\n",
       "      <td>100000.000000</td>\n",
       "      <td>100000.000000</td>\n",
       "      <td>100000.000000</td>\n",
       "      <td>100000.000000</td>\n",
       "    </tr>\n",
       "    <tr>\n",
       "      <th>mean</th>\n",
       "      <td>0.002023</td>\n",
       "      <td>-0.002081</td>\n",
       "      <td>2.495128</td>\n",
       "      <td>95.000000</td>\n",
       "    </tr>\n",
       "    <tr>\n",
       "      <th>std</th>\n",
       "      <td>1.732045</td>\n",
       "      <td>1.730417</td>\n",
       "      <td>3.473445</td>\n",
       "      <td>44.749921</td>\n",
       "    </tr>\n",
       "    <tr>\n",
       "      <th>min</th>\n",
       "      <td>-8.760004</td>\n",
       "      <td>-7.084020</td>\n",
       "      <td>-11.970335</td>\n",
       "      <td>0.000000</td>\n",
       "    </tr>\n",
       "    <tr>\n",
       "      <th>25%</th>\n",
       "      <td>-1.162288</td>\n",
       "      <td>-1.174820</td>\n",
       "      <td>0.130359</td>\n",
       "      <td>59.450441</td>\n",
       "    </tr>\n",
       "    <tr>\n",
       "      <th>50%</th>\n",
       "      <td>0.009424</td>\n",
       "      <td>-0.009482</td>\n",
       "      <td>2.484236</td>\n",
       "      <td>94.925613</td>\n",
       "    </tr>\n",
       "    <tr>\n",
       "      <th>75%</th>\n",
       "      <td>1.158535</td>\n",
       "      <td>1.163678</td>\n",
       "      <td>4.858794</td>\n",
       "      <td>130.595027</td>\n",
       "    </tr>\n",
       "    <tr>\n",
       "      <th>max</th>\n",
       "      <td>7.238262</td>\n",
       "      <td>7.844801</td>\n",
       "      <td>16.739402</td>\n",
       "      <td>190.029838</td>\n",
       "    </tr>\n",
       "  </tbody>\n",
       "</table>\n",
       "</div>"
      ],
      "text/plain": [
       "                  f0             f1             f2        product\n",
       "count  100000.000000  100000.000000  100000.000000  100000.000000\n",
       "mean        0.002023      -0.002081       2.495128      95.000000\n",
       "std         1.732045       1.730417       3.473445      44.749921\n",
       "min        -8.760004      -7.084020     -11.970335       0.000000\n",
       "25%        -1.162288      -1.174820       0.130359      59.450441\n",
       "50%         0.009424      -0.009482       2.484236      94.925613\n",
       "75%         1.158535       1.163678       4.858794     130.595027\n",
       "max         7.238262       7.844801      16.739402     190.029838"
      ]
     },
     "metadata": {},
     "output_type": "display_data"
    },
    {
     "name": "stdout",
     "output_type": "stream",
     "text": [
      "\n"
     ]
    }
   ],
   "source": [
    "display_frames([df_1.describe(), df_2.describe(), df_3.describe()])"
   ]
  },
  {
   "cell_type": "markdown",
   "metadata": {},
   "source": [
    "Визулизируем полученные данные."
   ]
  },
  {
   "cell_type": "code",
   "execution_count": 9,
   "metadata": {
    "scrolled": true
   },
   "outputs": [
    {
     "data": {
      "image/png": "[encoded data removed]",
      "text/plain": [
       "<Figure size 1440x1080 with 12 Axes>"
      ]
     },
     "metadata": {
      "needs_background": "light"
     },
     "output_type": "display_data"
    }
   ],
   "source": [
    "fig,ax = plt.subplots(3,4,figsize = (20,15))\n",
    "\n",
    "all_frames = [\"df_1\",\"df_2\",\"df_3\"]\n",
    "num_columns = df_1.columns[1:]\n",
    "num_columns_with_columns = zip(df_1.columns[1:],range(4))\n",
    "all_frames_with_rows = zip([df_1, df_2, df_3],range(3))\n",
    "# Построим графики\n",
    "for column in list(itertools.product(all_frames_with_rows,num_columns_with_columns)):\n",
    "    ax[column[0][1]][column[1][1]].boxplot(column[0][0][column[1][0]])\n",
    "# Добавим название фрейма изображаемого на графике\n",
    "for row in range(3):\n",
    "    ax[row][0].set_ylabel(all_frames[row])\n",
    "# Добавим название столбца изображаемого на графике\n",
    "for column in range(4):\n",
    "    ax[0][column].set_title(num_columns[column])"
   ]
  },
  {
   "cell_type": "markdown",
   "metadata": {},
   "source": [
    "Можем наблюдать выбросы, в обычной ситуации мы бы от них избавились, однако отсутствие подробной информации о признаках не позволяет понять экстремальные значения это или выбросы, поэтому оставим их."
   ]
  },
  {
   "cell_type": "markdown",
   "metadata": {},
   "source": [
    "Теперь проверим признаки на корреляцию."
   ]
  },
  {
   "cell_type": "code",
   "execution_count": 10,
   "metadata": {},
   "outputs": [
    {
     "data": {
      "text/html": [
       "<div>\n",
       "<style scoped>\n",
       "    .dataframe tbody tr th:only-of-type {\n",
       "        vertical-align: middle;\n",
       "    }\n",
       "\n",
       "    .dataframe tbody tr th {\n",
       "        vertical-align: top;\n",
       "    }\n",
       "\n",
       "    .dataframe thead th {\n",
       "        text-align: right;\n",
       "    }\n",
       "</style>\n",
       "<table border=\"1\" class=\"dataframe\">\n",
       "  <thead>\n",
       "    <tr style=\"text-align: right;\">\n",
       "      <th></th>\n",
       "      <th>f0</th>\n",
       "      <th>f1</th>\n",
       "      <th>f2</th>\n",
       "      <th>product</th>\n",
       "    </tr>\n",
       "  </thead>\n",
       "  <tbody>\n",
       "    <tr>\n",
       "      <th>f0</th>\n",
       "      <td>1.000000</td>\n",
       "      <td>-0.440723</td>\n",
       "      <td>-0.003153</td>\n",
       "      <td>0.143536</td>\n",
       "    </tr>\n",
       "    <tr>\n",
       "      <th>f1</th>\n",
       "      <td>-0.440723</td>\n",
       "      <td>1.000000</td>\n",
       "      <td>0.001724</td>\n",
       "      <td>-0.192356</td>\n",
       "    </tr>\n",
       "    <tr>\n",
       "      <th>f2</th>\n",
       "      <td>-0.003153</td>\n",
       "      <td>0.001724</td>\n",
       "      <td>1.000000</td>\n",
       "      <td>0.483663</td>\n",
       "    </tr>\n",
       "    <tr>\n",
       "      <th>product</th>\n",
       "      <td>0.143536</td>\n",
       "      <td>-0.192356</td>\n",
       "      <td>0.483663</td>\n",
       "      <td>1.000000</td>\n",
       "    </tr>\n",
       "  </tbody>\n",
       "</table>\n",
       "</div>"
      ],
      "text/plain": [
       "               f0        f1        f2   product\n",
       "f0       1.000000 -0.440723 -0.003153  0.143536\n",
       "f1      -0.440723  1.000000  0.001724 -0.192356\n",
       "f2      -0.003153  0.001724  1.000000  0.483663\n",
       "product  0.143536 -0.192356  0.483663  1.000000"
      ]
     },
     "metadata": {},
     "output_type": "display_data"
    },
    {
     "name": "stdout",
     "output_type": "stream",
     "text": [
      "\n"
     ]
    },
    {
     "data": {
      "text/html": [
       "<div>\n",
       "<style scoped>\n",
       "    .dataframe tbody tr th:only-of-type {\n",
       "        vertical-align: middle;\n",
       "    }\n",
       "\n",
       "    .dataframe tbody tr th {\n",
       "        vertical-align: top;\n",
       "    }\n",
       "\n",
       "    .dataframe thead th {\n",
       "        text-align: right;\n",
       "    }\n",
       "</style>\n",
       "<table border=\"1\" class=\"dataframe\">\n",
       "  <thead>\n",
       "    <tr style=\"text-align: right;\">\n",
       "      <th></th>\n",
       "      <th>f0</th>\n",
       "      <th>f1</th>\n",
       "      <th>f2</th>\n",
       "      <th>product</th>\n",
       "    </tr>\n",
       "  </thead>\n",
       "  <tbody>\n",
       "    <tr>\n",
       "      <th>f0</th>\n",
       "      <td>1.000000</td>\n",
       "      <td>0.182287</td>\n",
       "      <td>-0.001777</td>\n",
       "      <td>-0.030491</td>\n",
       "    </tr>\n",
       "    <tr>\n",
       "      <th>f1</th>\n",
       "      <td>0.182287</td>\n",
       "      <td>1.000000</td>\n",
       "      <td>-0.002595</td>\n",
       "      <td>-0.010155</td>\n",
       "    </tr>\n",
       "    <tr>\n",
       "      <th>f2</th>\n",
       "      <td>-0.001777</td>\n",
       "      <td>-0.002595</td>\n",
       "      <td>1.000000</td>\n",
       "      <td>0.999397</td>\n",
       "    </tr>\n",
       "    <tr>\n",
       "      <th>product</th>\n",
       "      <td>-0.030491</td>\n",
       "      <td>-0.010155</td>\n",
       "      <td>0.999397</td>\n",
       "      <td>1.000000</td>\n",
       "    </tr>\n",
       "  </tbody>\n",
       "</table>\n",
       "</div>"
      ],
      "text/plain": [
       "               f0        f1        f2   product\n",
       "f0       1.000000  0.182287 -0.001777 -0.030491\n",
       "f1       0.182287  1.000000 -0.002595 -0.010155\n",
       "f2      -0.001777 -0.002595  1.000000  0.999397\n",
       "product -0.030491 -0.010155  0.999397  1.000000"
      ]
     },
     "metadata": {},
     "output_type": "display_data"
    },
    {
     "name": "stdout",
     "output_type": "stream",
     "text": [
      "\n"
     ]
    },
    {
     "data": {
      "text/html": [
       "<div>\n",
       "<style scoped>\n",
       "    .dataframe tbody tr th:only-of-type {\n",
       "        vertical-align: middle;\n",
       "    }\n",
       "\n",
       "    .dataframe tbody tr th {\n",
       "        vertical-align: top;\n",
       "    }\n",
       "\n",
       "    .dataframe thead th {\n",
       "        text-align: right;\n",
       "    }\n",
       "</style>\n",
       "<table border=\"1\" class=\"dataframe\">\n",
       "  <thead>\n",
       "    <tr style=\"text-align: right;\">\n",
       "      <th></th>\n",
       "      <th>f0</th>\n",
       "      <th>f1</th>\n",
       "      <th>f2</th>\n",
       "      <th>product</th>\n",
       "    </tr>\n",
       "  </thead>\n",
       "  <tbody>\n",
       "    <tr>\n",
       "      <th>f0</th>\n",
       "      <td>1.000000</td>\n",
       "      <td>0.000528</td>\n",
       "      <td>-0.000448</td>\n",
       "      <td>-0.001987</td>\n",
       "    </tr>\n",
       "    <tr>\n",
       "      <th>f1</th>\n",
       "      <td>0.000528</td>\n",
       "      <td>1.000000</td>\n",
       "      <td>0.000779</td>\n",
       "      <td>-0.001012</td>\n",
       "    </tr>\n",
       "    <tr>\n",
       "      <th>f2</th>\n",
       "      <td>-0.000448</td>\n",
       "      <td>0.000779</td>\n",
       "      <td>1.000000</td>\n",
       "      <td>0.445871</td>\n",
       "    </tr>\n",
       "    <tr>\n",
       "      <th>product</th>\n",
       "      <td>-0.001987</td>\n",
       "      <td>-0.001012</td>\n",
       "      <td>0.445871</td>\n",
       "      <td>1.000000</td>\n",
       "    </tr>\n",
       "  </tbody>\n",
       "</table>\n",
       "</div>"
      ],
      "text/plain": [
       "               f0        f1        f2   product\n",
       "f0       1.000000  0.000528 -0.000448 -0.001987\n",
       "f1       0.000528  1.000000  0.000779 -0.001012\n",
       "f2      -0.000448  0.000779  1.000000  0.445871\n",
       "product -0.001987 -0.001012  0.445871  1.000000"
      ]
     },
     "metadata": {},
     "output_type": "display_data"
    },
    {
     "name": "stdout",
     "output_type": "stream",
     "text": [
      "\n"
     ]
    }
   ],
   "source": [
    "display_frames([df_1.corr(), df_2.corr(), df_3.corr()])"
   ]
  },
  {
   "cell_type": "markdown",
   "metadata": {},
   "source": [
    "Видим сильной корреляции признаков между собой."
   ]
  },
  {
   "cell_type": "markdown",
   "metadata": {},
   "source": [
    "## Обучение и проверка модели"
   ]
  },
  {
   "cell_type": "code",
   "execution_count": 11,
   "metadata": {},
   "outputs": [],
   "source": [
    "array_name = ['df_1', 'df_2', 'df_3']\n",
    "array_frame = [df_1, df_2, df_3]\n",
    "\n",
    "data_dict = {'model':{}, 'valid':{}, 'scores':{}}\n",
    "\n",
    "for frame, name in zip(array_frame, array_name):\n",
    "    features = frame.drop(['id','product'], axis=1)\n",
    "    target = frame['product']\n",
    "    (features_train, features_valid, target_train, target_valid) = train_test_split(\n",
    "        features, target,test_size = 0.25, random_state = random)\n",
    "    model = LinearRegression()\n",
    "    \n",
    "    data_dict['valid'][name] = (features_valid, target_valid)\n",
    "    model.fit(features_train, target_train)\n",
    "    pred = model.predict(features_valid)\n",
    "    data_dict['model'][name] = model\n",
    "    data_dict['scores'][name] = (mean_squared_error(target_valid, pred))**0.5"
   ]
  },
  {
   "cell_type": "code",
   "execution_count": 12,
   "metadata": {},
   "outputs": [
    {
     "data": {
      "text/plain": [
       "{'df_1': 37.5794217150813,\n",
       " 'df_2': 0.893099286775617,\n",
       " 'df_3': 40.02970873393434}"
      ]
     },
     "execution_count": 12,
     "metadata": {},
     "output_type": "execute_result"
    }
   ],
   "source": [
    "data_dict['scores']"
   ]
  },
  {
   "cell_type": "markdown",
   "metadata": {},
   "source": [
    "Получились выборки с минимальной ошибкой. Второй регион пока показывает лучшие результаты."
   ]
  },
  {
   "cell_type": "code",
   "execution_count": 13,
   "metadata": {},
   "outputs": [],
   "source": [
    "predicted_df_1 = data_dict['model']['df_1'].predict(data_dict['valid']['df_1'][0])\n",
    "predicted_df_2 = data_dict['model']['df_2'].predict(data_dict['valid']['df_2'][0])\n",
    "predicted_df_3 = data_dict['model']['df_3'].predict(data_dict['valid']['df_3'][0])\n",
    "\n",
    "\n",
    "RMSE_model_1 = (mean_squared_error(data_dict['valid']['df_1'][1],predicted_df_1))**0.5\n",
    "RMSE_model_2 = (mean_squared_error(data_dict['valid']['df_2'][1],predicted_df_2))**0.5\n",
    "RMSE_model_3 = (mean_squared_error(data_dict['valid']['df_3'][1],predicted_df_3))**0.5"
   ]
  },
  {
   "cell_type": "code",
   "execution_count": 14,
   "metadata": {},
   "outputs": [
    {
     "name": "stdout",
     "output_type": "stream",
     "text": [
      "Первый датафрейм\n",
      "Средний запас: 92.59256778438035\n",
      "RMSE модели: 37.5794217150813\n",
      "\n",
      "Второй датафрейм\n",
      "Средний запас: 68.728546895446\n",
      "RMSE модели: 0.893099286775617\n",
      "\n",
      "Третий датафрейм\n",
      "Средний запас: 94.96504596800489\n",
      "RMSE модели: 40.02970873393434\n",
      "\n"
     ]
    }
   ],
   "source": [
    "print('Первый датафрейм')\n",
    "print(\"Средний запас:\", predicted_df_1.mean())\n",
    "print('RMSE модели:',RMSE_model_1)\n",
    "print()\n",
    "\n",
    "print('Второй датафрейм')\n",
    "print(\"Средний запас:\", predicted_df_2.mean())\n",
    "print('RMSE модели:',RMSE_model_2)\n",
    "print()\n",
    "\n",
    "print('Третий датафрейм')\n",
    "print(\"Средний запас:\", predicted_df_3.mean())\n",
    "print('RMSE модели:',RMSE_model_3)\n",
    "print()"
   ]
  },
  {
   "cell_type": "markdown",
   "metadata": {},
   "source": [
    "Выводы:\n",
    "- Первый регион:\n",
    "    - Ошибка в нем на втором месте, как и по среднему объему запасов.\n",
    "- Второй регион:\n",
    "    - Имеет самую маленькую ошибку, однако показывает объемы сильно меньше, чем в других регионах\n",
    "- Третий регион: \n",
    "    - Самый большой средний объем запасов, но по ошибке регион на втором месте"
   ]
  },
  {
   "cell_type": "markdown",
   "metadata": {},
   "source": [
    "## Подготовка к расчёту прибыли"
   ]
  },
  {
   "cell_type": "code",
   "execution_count": 15,
   "metadata": {},
   "outputs": [
    {
     "name": "stdout",
     "output_type": "stream",
     "text": [
      "Достаточный объем добычи для безубыточной разработки 111.11\n"
     ]
    }
   ],
   "source": [
    "profit_point = BUDGET/(PRICE_PER_BARREL*FINAL_POINTS)\n",
    "print(\"Достаточный объем добычи для безубыточной разработки\",round(profit_point,2))"
   ]
  },
  {
   "cell_type": "code",
   "execution_count": 16,
   "metadata": {},
   "outputs": [
    {
     "data": {
      "text/plain": [
       "count    100000.000000\n",
       "mean         92.500000\n",
       "std          44.288691\n",
       "min           0.000000\n",
       "25%          56.497507\n",
       "50%          91.849972\n",
       "75%         128.564089\n",
       "max         185.364347\n",
       "Name: product, dtype: float64"
      ]
     },
     "metadata": {},
     "output_type": "display_data"
    },
    {
     "name": "stdout",
     "output_type": "stream",
     "text": [
      "\n"
     ]
    },
    {
     "data": {
      "text/plain": [
       "count    100000.000000\n",
       "mean         68.825000\n",
       "std          45.944423\n",
       "min           0.000000\n",
       "25%          26.953261\n",
       "50%          57.085625\n",
       "75%         107.813044\n",
       "max         137.945408\n",
       "Name: product, dtype: float64"
      ]
     },
     "metadata": {},
     "output_type": "display_data"
    },
    {
     "name": "stdout",
     "output_type": "stream",
     "text": [
      "\n"
     ]
    },
    {
     "data": {
      "text/plain": [
       "count    100000.000000\n",
       "mean         95.000000\n",
       "std          44.749921\n",
       "min           0.000000\n",
       "25%          59.450441\n",
       "50%          94.925613\n",
       "75%         130.595027\n",
       "max         190.029838\n",
       "Name: product, dtype: float64"
      ]
     },
     "metadata": {},
     "output_type": "display_data"
    },
    {
     "name": "stdout",
     "output_type": "stream",
     "text": [
      "\n"
     ]
    }
   ],
   "source": [
    "display_frames([df_1['product'].describe(), df_2['product'].describe(), df_3['product'].describe()])"
   ]
  },
  {
   "cell_type": "markdown",
   "metadata": {},
   "source": [
    "В соотвествии с найденным значением безубыточности, все регионы нам подходят."
   ]
  },
  {
   "cell_type": "code",
   "execution_count": 17,
   "metadata": {},
   "outputs": [
    {
     "name": "stdout",
     "output_type": "stream",
     "text": [
      "35% скважин в нулевом регионе содержат больше сырья, чем  113.17\n",
      "16% скважин в нулевом регионе содержат больше сырья, чем  134.77\n",
      "35% скважин в нулевом регионе содержат больше сырья, чем  115.71\n"
     ]
    }
   ],
   "source": [
    "print(\"35% скважин в нулевом регионе содержат больше сырья, чем \",\n",
    "      round(df_1[\"product\"].quantile(0.65),2))\n",
    "print(\"16% скважин в нулевом регионе содержат больше сырья, чем \",\n",
    "      round(df_2[\"product\"].quantile(0.84),2))\n",
    "print(\"35% скважин в нулевом регионе содержат больше сырья, чем \",\n",
    "      round(df_3[\"product\"].quantile(0.65),2))"
   ]
  },
  {
   "cell_type": "markdown",
   "metadata": {},
   "source": [
    "Минимальное количество баррелей нефти для безубыточной разработки составило 111.(1)\n",
    "\n",
    "В тоже время максимальное средний объем в регионах равен 94. Если обратить внимание на значения районов выше данного значения, что в нулевом и втором районах 35% скважин проходят минимальный порог\n",
    "\n",
    "В то время как в первом районе подходят только 16% скважин"
   ]
  },
  {
   "cell_type": "markdown",
   "metadata": {},
   "source": [
    "## Расчёт прибыли и рисков "
   ]
  },
  {
   "cell_type": "code",
   "execution_count": 18,
   "metadata": {},
   "outputs": [],
   "source": [
    "def income(target, pred):\n",
    "    sort_series = pd.Series(pred).sort_values(ascending=False)[:FINAL_POINTS]\n",
    "    \n",
    "    sort_target = target.reset_index(drop=True)[sort_series.index]\n",
    "    \n",
    "    sum_ = sort_target.sum()\n",
    "    \n",
    "    return round(((PRICE_PER_BARREL*sum_) - BUDGET),2)\n"
   ]
  },
  {
   "cell_type": "code",
   "execution_count": 19,
   "metadata": {},
   "outputs": [
    {
     "name": "stdout",
     "output_type": "stream",
     "text": [
      "Прибыль с лучших 200 скважин в первом регионе: 3320826043.14\n",
      "Прибыль с лучших 200 скважин во втором регионе: 2415086696.68\n",
      "Прибыль с лучших 200 скважин в третьем регионе: 2710349963.6\n"
     ]
    }
   ],
   "source": [
    "print(\"Прибыль с лучших 200 скважин в первом регионе:\",income(data_dict['valid']['df_1'][1],\n",
    "                                                               predicted_df_1))\n",
    "print(\"Прибыль с лучших 200 скважин во втором регионе:\",income(data_dict['valid']['df_2'][1],\n",
    "                                                               predicted_df_2))\n",
    "print(\"Прибыль с лучших 200 скважин в третьем регионе:\",income(data_dict['valid']['df_3'][1],\n",
    "                                                               predicted_df_3))"
   ]
  },
  {
   "cell_type": "code",
   "execution_count": 20,
   "metadata": {},
   "outputs": [],
   "source": [
    "def confidence_check(target, pred):\n",
    "    samples = []\n",
    "    for i in range(1000):\n",
    "        sample = pd.Series(pred).sample(n = 500, replace=True, random_state=state)\n",
    "        samples.append(income(target, sample))\n",
    "    samples = pd.Series(samples)\n",
    "    #print(samples.apply(samples[samples < 0].sum()/len(samples)*100),'%')\n",
    "    print(\"Риск убытков\", (samples < 0).mean()*100,\"%\")\n",
    "    \n",
    "    print('Среднее', samples.mean())\n",
    "    \n",
    "    lower = samples.quantile(0.025)\n",
    "    upper = samples.quantile(0.975)\n",
    "    return round(lower,2), round(upper,2)"
   ]
  },
  {
   "cell_type": "code",
   "execution_count": 25,
   "metadata": {},
   "outputs": [
    {
     "name": "stdout",
     "output_type": "stream",
     "text": [
      "Первый регион\n",
      "Риск убытков 6.800000000000001 %\n",
      "Среднее 390966231.18815005\n",
      "Доверительный интервал (-131142419.82, 894590067.66)\n",
      "\n",
      "Второй регион\n",
      "Риск убытков 0.8 %\n",
      "Среднее 453610604.31722003\n",
      "Доверительный интервал (65250085.09, 848725403.42)\n",
      "\n",
      "Третий регион\n",
      "Риск убытков 7.000000000000001 %\n",
      "Среднее 399976407.20425\n",
      "Доверительный интервал (-105397570.13, 943629031.71)\n",
      "\n"
     ]
    }
   ],
   "source": [
    "print('Первый регион')\n",
    "print('Доверительный интервал', confidence_check(data_dict['valid']['df_1'][1],pd.Series(predicted_df_1)))\n",
    "print()\n",
    "\n",
    "print('Второй регион')\n",
    "print('Доверительный интервал', confidence_check(data_dict['valid']['df_2'][1],pd.Series(predicted_df_2)))\n",
    "print()\n",
    "\n",
    "print('Третий регион')\n",
    "print('Доверительный интервал', confidence_check(data_dict['valid']['df_3'][1],pd.Series(predicted_df_3)))\n",
    "print()"
   ]
  },
  {
   "cell_type": "markdown",
   "metadata": {},
   "source": [
    "## Вывод"
   ]
  },
  {
   "cell_type": "markdown",
   "metadata": {},
   "source": [
    "- Первый регион:\n",
    "    - Доверительный интервал: (-131 142 419.82, 894 590 067.66)\n",
    "    - Точка безубыточности: 111.1\n",
    "    - Средняя прибыль в нулевом регионе: 390 966 231.18\n",
    "    - Риски: 6.8 %\n",
    "- Второй регион:\n",
    "    - Доверительный интервал: (65 250 085.09, 848 725 403.42)\n",
    "    - Точка безубыточности: 111.1\n",
    "    - Средняя прибыль с одной скважины во втором регионе: 453 610 604.31\n",
    "    - Риски: 0.8 %\n",
    "- Третий регион:\n",
    "    - Доверительный интервал: (-105 397 570.13, 943 629 031.71)\n",
    "    - Точка безубыточности: 111.1\n",
    "    - Средняя прибыль в нулевом регионе: 399 976 407.2\n",
    "    - Риски: 7 %    "
   ]
  },
  {
   "cell_type": "markdown",
   "metadata": {},
   "source": [
    "По условиям рисков нам подходит второй регион, в нем риски < 1 %, т.к. другие регионы имеют большие риски, следует порекоммендовать выбрать его."
   ]
  }
 ],
 "metadata": {
  "ExecuteTimeLog": [
   {
    "duration": 1160,
    "start_time": "2022-08-01T09:17:54.420Z"
   },
   {
    "duration": 792,
    "start_time": "2022-08-01T09:18:10.769Z"
   },
   {
    "duration": 378,
    "start_time": "2022-08-01T09:18:55.655Z"
   },
   {
    "duration": 15,
    "start_time": "2022-08-01T09:19:03.280Z"
   },
   {
    "duration": 18,
    "start_time": "2022-08-01T09:19:06.531Z"
   },
   {
    "duration": 34,
    "start_time": "2022-08-01T09:19:13.798Z"
   },
   {
    "duration": 38,
    "start_time": "2022-08-01T09:19:24.234Z"
   },
   {
    "duration": 53,
    "start_time": "2022-08-01T09:20:35.096Z"
   },
   {
    "duration": 40,
    "start_time": "2022-08-01T09:20:37.064Z"
   },
   {
    "duration": 114,
    "start_time": "2022-08-01T09:21:07.030Z"
   },
   {
    "duration": 119,
    "start_time": "2022-08-01T09:21:13.531Z"
   },
   {
    "duration": 95,
    "start_time": "2022-08-01T09:21:30.817Z"
   },
   {
    "duration": 48,
    "start_time": "2022-08-01T09:21:34.698Z"
   },
   {
    "duration": 29,
    "start_time": "2022-08-01T09:21:43.541Z"
   },
   {
    "duration": 99,
    "start_time": "2022-08-01T09:22:12.581Z"
   },
   {
    "duration": 416,
    "start_time": "2022-08-01T09:23:10.625Z"
   },
   {
    "duration": 864,
    "start_time": "2022-08-01T09:23:12.766Z"
   },
   {
    "duration": 962,
    "start_time": "2022-08-01T09:23:57.119Z"
   },
   {
    "duration": 3,
    "start_time": "2022-08-01T09:24:13.900Z"
   },
   {
    "duration": 4,
    "start_time": "2022-08-01T09:24:17.080Z"
   },
   {
    "duration": 906,
    "start_time": "2022-08-01T09:24:22.179Z"
   },
   {
    "duration": 4,
    "start_time": "2022-08-01T11:17:40.898Z"
   },
   {
    "duration": 9,
    "start_time": "2022-08-01T11:17:54.561Z"
   },
   {
    "duration": 12,
    "start_time": "2022-08-01T11:18:05.857Z"
   },
   {
    "duration": 3,
    "start_time": "2022-08-01T11:18:33.014Z"
   },
   {
    "duration": 4,
    "start_time": "2022-08-01T11:18:36.096Z"
   },
   {
    "duration": 18,
    "start_time": "2022-08-01T11:18:46.561Z"
   },
   {
    "duration": 4,
    "start_time": "2022-08-01T11:18:48.075Z"
   },
   {
    "duration": 19,
    "start_time": "2022-08-01T11:18:49.066Z"
   },
   {
    "duration": 4,
    "start_time": "2022-08-01T11:19:13.659Z"
   },
   {
    "duration": 232,
    "start_time": "2022-08-01T11:19:15.791Z"
   },
   {
    "duration": 1672,
    "start_time": "2022-08-02T07:05:22.942Z"
   },
   {
    "duration": 835,
    "start_time": "2022-08-02T07:05:24.616Z"
   },
   {
    "duration": 43,
    "start_time": "2022-08-02T07:05:25.453Z"
   },
   {
    "duration": 128,
    "start_time": "2022-08-02T07:05:25.499Z"
   },
   {
    "duration": 107,
    "start_time": "2022-08-02T07:05:25.628Z"
   },
   {
    "duration": 1158,
    "start_time": "2022-08-02T07:05:25.736Z"
   },
   {
    "duration": 5,
    "start_time": "2022-08-02T07:05:26.896Z"
   },
   {
    "duration": 123,
    "start_time": "2022-08-02T07:05:26.902Z"
   },
   {
    "duration": 254,
    "start_time": "2022-08-02T07:08:02.471Z"
   },
   {
    "duration": 1861,
    "start_time": "2022-08-04T04:23:34.746Z"
   },
   {
    "duration": 2835,
    "start_time": "2022-08-04T04:23:36.610Z"
   },
   {
    "duration": 53,
    "start_time": "2022-08-04T04:23:39.447Z"
   },
   {
    "duration": 172,
    "start_time": "2022-08-04T04:23:39.502Z"
   },
   {
    "duration": 166,
    "start_time": "2022-08-04T04:23:39.675Z"
   },
   {
    "duration": 1335,
    "start_time": "2022-08-04T04:23:39.844Z"
   },
   {
    "duration": 18,
    "start_time": "2022-08-04T04:23:41.181Z"
   },
   {
    "duration": 311,
    "start_time": "2022-08-04T04:23:41.210Z"
   },
   {
    "duration": 4,
    "start_time": "2022-08-04T04:32:39.293Z"
   },
   {
    "duration": 5,
    "start_time": "2022-08-04T04:36:26.382Z"
   },
   {
    "duration": 468,
    "start_time": "2022-08-04T04:36:26.388Z"
   },
   {
    "duration": 53,
    "start_time": "2022-08-04T04:36:26.857Z"
   },
   {
    "duration": 145,
    "start_time": "2022-08-04T04:36:26.915Z"
   },
   {
    "duration": 136,
    "start_time": "2022-08-04T04:36:27.062Z"
   },
   {
    "duration": 1270,
    "start_time": "2022-08-04T04:36:27.201Z"
   },
   {
    "duration": 4,
    "start_time": "2022-08-04T04:36:28.473Z"
   },
   {
    "duration": 291,
    "start_time": "2022-08-04T04:36:28.479Z"
   },
   {
    "duration": 52,
    "start_time": "2022-08-04T04:36:28.772Z"
   },
   {
    "duration": 158,
    "start_time": "2022-08-04T04:43:05.221Z"
   },
   {
    "duration": 236,
    "start_time": "2022-08-04T04:43:33.395Z"
   },
   {
    "duration": 4,
    "start_time": "2022-08-04T04:43:43.922Z"
   },
   {
    "duration": 246,
    "start_time": "2022-08-04T04:43:47.171Z"
   },
   {
    "duration": 4,
    "start_time": "2022-08-04T04:43:50.868Z"
   },
   {
    "duration": 259,
    "start_time": "2022-08-04T04:43:51.837Z"
   },
   {
    "duration": 4,
    "start_time": "2022-08-04T04:43:52.456Z"
   },
   {
    "duration": 274,
    "start_time": "2022-08-04T04:43:53.322Z"
   },
   {
    "duration": 5,
    "start_time": "2022-08-04T04:43:54.013Z"
   },
   {
    "duration": 190,
    "start_time": "2022-08-04T04:43:55.824Z"
   },
   {
    "duration": 4,
    "start_time": "2022-08-04T04:43:57.073Z"
   },
   {
    "duration": 205,
    "start_time": "2022-08-04T04:44:11.622Z"
   },
   {
    "duration": 397,
    "start_time": "2022-08-04T04:44:29.744Z"
   },
   {
    "duration": 5,
    "start_time": "2022-08-04T04:44:30.856Z"
   },
   {
    "duration": 232,
    "start_time": "2022-08-04T04:46:33.075Z"
   },
   {
    "duration": 285,
    "start_time": "2022-08-04T04:46:41.145Z"
   },
   {
    "duration": 14,
    "start_time": "2022-08-04T04:46:42.119Z"
   },
   {
    "duration": 4,
    "start_time": "2022-08-04T04:48:37.128Z"
   },
   {
    "duration": 57,
    "start_time": "2022-08-04T04:49:01.988Z"
   },
   {
    "duration": 76,
    "start_time": "2022-08-04T04:49:57.183Z"
   },
   {
    "duration": 122,
    "start_time": "2022-08-04T04:50:14.025Z"
   },
   {
    "duration": 44,
    "start_time": "2022-08-04T04:50:37.642Z"
   },
   {
    "duration": 3,
    "start_time": "2022-08-04T04:50:54.326Z"
   },
   {
    "duration": 43,
    "start_time": "2022-08-04T04:51:01.515Z"
   },
   {
    "duration": 3,
    "start_time": "2022-08-04T04:51:17.549Z"
   },
   {
    "duration": 114,
    "start_time": "2022-08-04T04:51:25.854Z"
   },
   {
    "duration": 119,
    "start_time": "2022-08-04T04:51:36.839Z"
   },
   {
    "duration": 57,
    "start_time": "2022-08-04T04:52:22.384Z"
   },
   {
    "duration": 5,
    "start_time": "2022-08-04T04:53:12.723Z"
   },
   {
    "duration": 15,
    "start_time": "2022-08-04T04:53:23.841Z"
   },
   {
    "duration": 243,
    "start_time": "2022-08-04T04:53:34.159Z"
   },
   {
    "duration": 5,
    "start_time": "2022-08-04T04:53:36.078Z"
   },
   {
    "duration": 279,
    "start_time": "2022-08-04T04:54:31.927Z"
   },
   {
    "duration": 6,
    "start_time": "2022-08-04T04:54:34.287Z"
   },
   {
    "duration": 21,
    "start_time": "2022-08-04T04:55:35.184Z"
   },
   {
    "duration": 15,
    "start_time": "2022-08-04T04:58:58.257Z"
   },
   {
    "duration": 14,
    "start_time": "2022-08-04T04:59:12.533Z"
   },
   {
    "duration": 10,
    "start_time": "2022-08-04T04:59:25.023Z"
   },
   {
    "duration": 15,
    "start_time": "2022-08-04T04:59:47.575Z"
   },
   {
    "duration": 71,
    "start_time": "2022-08-04T05:00:38.427Z"
   },
   {
    "duration": 4,
    "start_time": "2022-08-04T05:01:01.827Z"
   },
   {
    "duration": 4,
    "start_time": "2022-08-04T05:01:49.870Z"
   },
   {
    "duration": 4,
    "start_time": "2022-08-04T05:01:54.347Z"
   },
   {
    "duration": 4,
    "start_time": "2022-08-04T05:02:13.826Z"
   },
   {
    "duration": 5,
    "start_time": "2022-08-04T05:02:27.515Z"
   },
   {
    "duration": 8,
    "start_time": "2022-08-04T05:02:49.224Z"
   },
   {
    "duration": 8,
    "start_time": "2022-08-04T05:03:05.429Z"
   },
   {
    "duration": 6,
    "start_time": "2022-08-04T05:03:46.836Z"
   },
   {
    "duration": 39,
    "start_time": "2022-08-04T05:03:48.938Z"
   },
   {
    "duration": 2,
    "start_time": "2022-08-04T05:04:05.639Z"
   },
   {
    "duration": 3,
    "start_time": "2022-08-04T05:11:43.039Z"
   },
   {
    "duration": 5,
    "start_time": "2022-08-04T05:11:59.655Z"
   },
   {
    "duration": 5,
    "start_time": "2022-08-04T05:12:10.457Z"
   },
   {
    "duration": 5,
    "start_time": "2022-08-04T05:12:15.631Z"
   },
   {
    "duration": 105,
    "start_time": "2022-08-04T05:12:53.131Z"
   },
   {
    "duration": 37,
    "start_time": "2022-08-04T05:13:18.692Z"
   },
   {
    "duration": 10,
    "start_time": "2022-08-04T05:16:47.335Z"
   },
   {
    "duration": 22,
    "start_time": "2022-08-04T05:17:05.084Z"
   },
   {
    "duration": 14,
    "start_time": "2022-08-04T05:17:16.045Z"
   },
   {
    "duration": 13,
    "start_time": "2022-08-04T05:17:19.450Z"
   },
   {
    "duration": 13,
    "start_time": "2022-08-04T05:17:24.322Z"
   },
   {
    "duration": 18,
    "start_time": "2022-08-04T05:17:27.489Z"
   },
   {
    "duration": 14,
    "start_time": "2022-08-04T05:17:29.848Z"
   },
   {
    "duration": 14,
    "start_time": "2022-08-04T05:17:32.861Z"
   },
   {
    "duration": 13,
    "start_time": "2022-08-04T05:17:44.648Z"
   },
   {
    "duration": 14,
    "start_time": "2022-08-04T05:17:50.947Z"
   },
   {
    "duration": 17,
    "start_time": "2022-08-04T05:19:13.127Z"
   },
   {
    "duration": 13,
    "start_time": "2022-08-04T05:19:23.024Z"
   },
   {
    "duration": 14,
    "start_time": "2022-08-04T05:19:26.053Z"
   },
   {
    "duration": 14,
    "start_time": "2022-08-04T05:19:33.149Z"
   },
   {
    "duration": 4,
    "start_time": "2022-08-04T05:24:52.736Z"
   },
   {
    "duration": 30,
    "start_time": "2022-08-04T05:25:46.212Z"
   },
   {
    "duration": 11,
    "start_time": "2022-08-04T05:26:01.409Z"
   },
   {
    "duration": 6,
    "start_time": "2022-08-04T05:26:03.989Z"
   },
   {
    "duration": 20,
    "start_time": "2022-08-04T05:26:04.576Z"
   },
   {
    "duration": 4,
    "start_time": "2022-08-04T10:57:08.671Z"
   },
   {
    "duration": 5,
    "start_time": "2022-08-04T10:57:38.221Z"
   },
   {
    "duration": 6,
    "start_time": "2022-08-04T10:58:02.099Z"
   },
   {
    "duration": 9,
    "start_time": "2022-08-04T10:58:26.180Z"
   },
   {
    "duration": 10,
    "start_time": "2022-08-04T10:58:38.443Z"
   },
   {
    "duration": 5,
    "start_time": "2022-08-04T10:58:51.835Z"
   },
   {
    "duration": 14,
    "start_time": "2022-08-04T10:58:55.400Z"
   },
   {
    "duration": 7,
    "start_time": "2022-08-04T10:59:05.120Z"
   },
   {
    "duration": 1252,
    "start_time": "2022-08-04T10:59:06.228Z"
   },
   {
    "duration": 7,
    "start_time": "2022-08-04T10:59:37.967Z"
   },
   {
    "duration": 7,
    "start_time": "2022-08-04T10:59:52.026Z"
   },
   {
    "duration": 928,
    "start_time": "2022-08-04T10:59:53.147Z"
   },
   {
    "duration": 8,
    "start_time": "2022-08-04T11:00:10.284Z"
   },
   {
    "duration": 993,
    "start_time": "2022-08-04T11:00:13.824Z"
   },
   {
    "duration": 5,
    "start_time": "2022-08-04T11:01:27.231Z"
   },
   {
    "duration": 913,
    "start_time": "2022-08-04T11:01:39.223Z"
   },
   {
    "duration": 6,
    "start_time": "2022-08-04T11:01:40.405Z"
   },
   {
    "duration": 2649,
    "start_time": "2022-08-04T11:02:12.224Z"
   },
   {
    "duration": 7,
    "start_time": "2022-08-04T11:02:37.490Z"
   },
   {
    "duration": 2865,
    "start_time": "2022-08-04T11:02:39.537Z"
   },
   {
    "duration": 11,
    "start_time": "2022-08-04T11:06:58.097Z"
   },
   {
    "duration": 5,
    "start_time": "2022-08-04T11:07:14.950Z"
   },
   {
    "duration": 9,
    "start_time": "2022-08-04T11:07:23.975Z"
   },
   {
    "duration": 4,
    "start_time": "2022-08-04T11:07:27.350Z"
   },
   {
    "duration": 6,
    "start_time": "2022-08-04T11:08:01.847Z"
   },
   {
    "duration": 2834,
    "start_time": "2022-08-04T11:08:04.293Z"
   },
   {
    "duration": 50,
    "start_time": "2022-08-04T13:09:50.929Z"
   },
   {
    "duration": 1598,
    "start_time": "2022-08-04T21:40:54.233Z"
   },
   {
    "duration": 782,
    "start_time": "2022-08-04T21:40:58.998Z"
   },
   {
    "duration": 4,
    "start_time": "2022-08-04T21:41:00.006Z"
   },
   {
    "duration": 39,
    "start_time": "2022-08-04T21:41:04.833Z"
   },
   {
    "duration": 127,
    "start_time": "2022-08-04T21:41:08.879Z"
   },
   {
    "duration": 94,
    "start_time": "2022-08-04T21:41:09.906Z"
   },
   {
    "duration": 804,
    "start_time": "2022-08-04T21:41:25.856Z"
   },
   {
    "duration": 37,
    "start_time": "2022-08-04T21:41:33.275Z"
   },
   {
    "duration": 176,
    "start_time": "2022-08-04T21:42:11.632Z"
   },
   {
    "duration": 4,
    "start_time": "2022-08-04T21:42:22.490Z"
   },
   {
    "duration": 12,
    "start_time": "2022-08-04T21:42:36.304Z"
   },
   {
    "duration": 5,
    "start_time": "2022-08-04T21:42:42.551Z"
   },
   {
    "duration": 5,
    "start_time": "2022-08-04T21:42:49.355Z"
   },
   {
    "duration": 4,
    "start_time": "2022-08-04T21:42:59.761Z"
   },
   {
    "duration": 15,
    "start_time": "2022-08-04T21:43:06.404Z"
   },
   {
    "duration": 5,
    "start_time": "2022-08-04T21:43:13.743Z"
   },
   {
    "duration": 2293,
    "start_time": "2022-08-04T21:43:22.190Z"
   },
   {
    "duration": 5,
    "start_time": "2022-08-04T21:46:44.339Z"
   },
   {
    "duration": 106,
    "start_time": "2022-08-04T21:46:45.943Z"
   },
   {
    "duration": 6,
    "start_time": "2022-08-04T21:50:01.400Z"
   },
   {
    "duration": 23,
    "start_time": "2022-08-04T21:50:04.904Z"
   },
   {
    "duration": 5,
    "start_time": "2022-08-04T21:51:28.264Z"
   },
   {
    "duration": 5,
    "start_time": "2022-08-04T21:51:41.378Z"
   },
   {
    "duration": 6,
    "start_time": "2022-08-04T21:52:01.036Z"
   },
   {
    "duration": 7,
    "start_time": "2022-08-04T21:52:02.053Z"
   },
   {
    "duration": 3,
    "start_time": "2022-08-04T21:52:34.545Z"
   },
   {
    "duration": 4,
    "start_time": "2022-08-04T21:52:35.158Z"
   },
   {
    "duration": 4,
    "start_time": "2022-08-04T21:52:48.737Z"
   },
   {
    "duration": 5,
    "start_time": "2022-08-04T21:52:56.735Z"
   },
   {
    "duration": 5,
    "start_time": "2022-08-04T21:53:07.759Z"
   },
   {
    "duration": 6,
    "start_time": "2022-08-04T21:53:37.379Z"
   },
   {
    "duration": 8,
    "start_time": "2022-08-04T21:54:20.937Z"
   },
   {
    "duration": 6,
    "start_time": "2022-08-04T21:54:54.737Z"
   },
   {
    "duration": 6,
    "start_time": "2022-08-04T21:54:59.095Z"
   },
   {
    "duration": 4,
    "start_time": "2022-08-04T21:55:11.204Z"
   },
   {
    "duration": 6,
    "start_time": "2022-08-04T21:55:15.135Z"
   },
   {
    "duration": 6,
    "start_time": "2022-08-04T21:55:20.210Z"
   },
   {
    "duration": 7,
    "start_time": "2022-08-04T21:55:40.465Z"
   },
   {
    "duration": 30,
    "start_time": "2022-08-04T21:55:46.589Z"
   },
   {
    "duration": 21,
    "start_time": "2022-08-04T21:56:12.172Z"
   },
   {
    "duration": 7,
    "start_time": "2022-08-04T21:57:11.604Z"
   },
   {
    "duration": 3158,
    "start_time": "2022-08-04T21:57:14.865Z"
   },
   {
    "duration": 3137,
    "start_time": "2022-08-04T21:58:15.601Z"
   },
   {
    "duration": 6,
    "start_time": "2022-08-04T21:59:31.237Z"
   },
   {
    "duration": 3213,
    "start_time": "2022-08-04T21:59:32.250Z"
   },
   {
    "duration": 2369,
    "start_time": "2022-08-04T22:05:53.770Z"
   },
   {
    "duration": 2424,
    "start_time": "2022-08-04T22:06:31.341Z"
   },
   {
    "duration": 1362,
    "start_time": "2022-08-04T22:19:41.866Z"
   },
   {
    "duration": 346,
    "start_time": "2022-08-04T22:19:43.230Z"
   },
   {
    "duration": 3,
    "start_time": "2022-08-04T22:19:43.578Z"
   },
   {
    "duration": 47,
    "start_time": "2022-08-04T22:19:43.582Z"
   },
   {
    "duration": 127,
    "start_time": "2022-08-04T22:19:43.631Z"
   },
   {
    "duration": 101,
    "start_time": "2022-08-04T22:19:43.759Z"
   },
   {
    "duration": 865,
    "start_time": "2022-08-04T22:19:43.862Z"
   },
   {
    "duration": 5,
    "start_time": "2022-08-04T22:19:44.729Z"
   },
   {
    "duration": 215,
    "start_time": "2022-08-04T22:19:44.736Z"
   },
   {
    "duration": 47,
    "start_time": "2022-08-04T22:19:44.954Z"
   },
   {
    "duration": 7,
    "start_time": "2022-08-04T22:19:45.002Z"
   },
   {
    "duration": 292,
    "start_time": "2022-08-04T22:19:45.010Z"
   },
   {
    "duration": 4,
    "start_time": "2022-08-04T22:19:45.304Z"
   },
   {
    "duration": 205,
    "start_time": "2022-08-04T22:19:45.310Z"
   },
   {
    "duration": 186,
    "start_time": "2022-08-04T22:19:45.517Z"
   },
   {
    "duration": 5,
    "start_time": "2022-08-04T22:19:45.705Z"
   },
   {
    "duration": 29,
    "start_time": "2022-08-04T22:19:45.712Z"
   },
   {
    "duration": 10,
    "start_time": "2022-08-04T22:19:45.742Z"
   },
   {
    "duration": 3,
    "start_time": "2022-08-04T22:19:45.753Z"
   },
   {
    "duration": 43,
    "start_time": "2022-08-04T22:19:45.757Z"
   },
   {
    "duration": 4,
    "start_time": "2022-08-04T22:19:45.802Z"
   },
   {
    "duration": 2306,
    "start_time": "2022-08-04T22:19:45.808Z"
   },
   {
    "duration": 1499,
    "start_time": "2022-08-05T06:35:36.061Z"
   },
   {
    "duration": 6,
    "start_time": "2022-08-05T06:44:34.569Z"
   },
   {
    "duration": 8,
    "start_time": "2022-08-05T06:44:34.577Z"
   },
   {
    "duration": 1031,
    "start_time": "2022-08-05T06:44:34.587Z"
   },
   {
    "duration": 4,
    "start_time": "2022-08-05T06:44:35.620Z"
   },
   {
    "duration": 66,
    "start_time": "2022-08-05T06:44:35.626Z"
   },
   {
    "duration": 147,
    "start_time": "2022-08-05T06:44:35.693Z"
   },
   {
    "duration": 140,
    "start_time": "2022-08-05T06:44:35.842Z"
   },
   {
    "duration": 1029,
    "start_time": "2022-08-05T06:44:35.984Z"
   },
   {
    "duration": 42,
    "start_time": "2022-08-05T06:44:37.015Z"
   },
   {
    "duration": 250,
    "start_time": "2022-08-05T06:44:37.059Z"
   },
   {
    "duration": 9,
    "start_time": "2022-08-05T06:44:37.317Z"
   },
   {
    "duration": 26,
    "start_time": "2022-08-05T06:44:37.402Z"
   },
   {
    "duration": 24,
    "start_time": "2022-08-05T06:44:37.502Z"
   },
   {
    "duration": 17,
    "start_time": "2022-08-05T06:44:37.602Z"
   },
   {
    "duration": 33,
    "start_time": "2022-08-05T06:44:37.621Z"
   },
   {
    "duration": 12,
    "start_time": "2022-08-05T06:44:37.655Z"
   },
   {
    "duration": 5,
    "start_time": "2022-08-05T06:44:37.670Z"
   },
   {
    "duration": 21,
    "start_time": "2022-08-05T06:44:37.699Z"
   },
   {
    "duration": 9,
    "start_time": "2022-08-05T06:44:37.722Z"
   },
   {
    "duration": 2431,
    "start_time": "2022-08-05T06:44:37.733Z"
   },
   {
    "duration": 4,
    "start_time": "2022-08-05T06:46:18.144Z"
   },
   {
    "duration": 2437,
    "start_time": "2022-08-05T06:47:41.371Z"
   },
   {
    "duration": 2543,
    "start_time": "2022-08-05T06:48:12.881Z"
   },
   {
    "duration": 2453,
    "start_time": "2022-08-05T06:48:16.396Z"
   }
  ],
  "kernelspec": {
   "display_name": "Python 3 (ipykernel)",
   "language": "python",
   "name": "python3"
  },
  "language_info": {
   "codemirror_mode": {
    "name": "ipython",
    "version": 3
   },
   "file_extension": ".py",
   "mimetype": "text/x-python",
   "name": "python",
   "nbconvert_exporter": "python",
   "pygments_lexer": "ipython3",
   "version": "3.9.7"
  },
  "toc": {
   "base_numbering": 1,
   "nav_menu": {},
   "number_sections": true,
   "sideBar": true,
   "skip_h1_title": true,
   "title_cell": "Table of Contents",
   "title_sidebar": "Contents",
   "toc_cell": false,
   "toc_position": {},
   "toc_section_display": true,
   "toc_window_display": false
  }
 },
 "nbformat": 4,
 "nbformat_minor": 2
}
